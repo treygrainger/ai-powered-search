{
 "cells": [
  {
   "cell_type": "code",
   "execution_count": 1,
   "metadata": {},
   "outputs": [],
   "source": [
    "from aips import get_engine, set_engine\n",
    "from aips.spark.dataframe import from_sql\n",
    "from aips.spark import create_view_from_collection\n",
    "import tqdm\n",
    "\n",
    "set_engine(\"opensearch\")\n",
    "engine = get_engine()"
   ]
  },
  {
   "cell_type": "code",
   "execution_count": 2,
   "metadata": {},
   "outputs": [],
   "source": [
    "#%run chapters/ch04/1.setting-up-the-retrotech-dataset.ipynb"
   ]
  },
  {
   "cell_type": "code",
   "execution_count": 3,
   "metadata": {},
   "outputs": [],
   "source": [
    "def execute_search(collection, signal, log=False):\n",
    "    request = {\"query\": signal[\"target\"],\n",
    "               \"query_fields\": [\"name\", \"manufacturer\",\n",
    "                                \"long_description\", \"short_description\"],\n",
    "               \"return_fields\": [\"*\"],\n",
    "               \"limit\": 10,\n",
    "               \"ext\": {\"ubi\": signal}}\n",
    "    results = collection.search(**request, log=log)\n",
    "    return results"
   ]
  },
  {
   "cell_type": "code",
   "execution_count": 4,
   "metadata": {},
   "outputs": [],
   "source": [
    "def get_events_dataframe():\n",
    "    signals_collection = engine.get_collection(\"signals\")\n",
    "    create_view_from_collection(signals_collection, \"signals\")\n",
    "    events = from_sql(\"SELECT * FROM signals WHERE type != 'query'\")\n",
    "    return events"
   ]
  },
  {
   "cell_type": "code",
   "execution_count": 5,
   "metadata": {},
   "outputs": [
    {
     "name": "stdout",
     "output_type": "stream",
     "text": [
      "Wiping \"ubi_events\" collection\n",
      "Creating \"ubi_events\" collection\n",
      "Successfully written 1447146 documents\n"
     ]
    }
   ],
   "source": [
    "events_collection = engine.create_collection(\"ubi_events\")\n",
    "ubi_events_dataframe = get_events_dataframe()\n",
    "events_collection.write(ubi_events_dataframe)"
   ]
  },
  {
   "cell_type": "code",
   "execution_count": 7,
   "metadata": {},
   "outputs": [
    {
     "name": "stderr",
     "output_type": "stream",
     "text": [
      "  0%|          | 0/725459 [00:00<?, ?it/s]"
     ]
    },
    {
     "name": "stdout",
     "output_type": "stream",
     "text": [
      "Search Request:\n",
      "{\n",
      "  \"query\": {\n",
      "    \"query_string\": {\n",
      "      \"query\": \"picture frame\",\n",
      "      \"boost\": 0.454545454,\n",
      "      \"fields\": [\n",
      "        \"name\",\n",
      "        \"manufacturer\",\n",
      "        \"long_description\",\n",
      "        \"short_description\"\n",
      "      ]\n",
      "    }\n",
      "  },\n",
      "  \"size\": 10,\n",
      "  \"fields\": [\n",
      "    \"*\"\n",
      "  ],\n",
      "  \"ext\": {\n",
      "    \"ubi\": {\n",
      "      \"timestamp\": 1588829699599,\n",
      "      \"query_id\": \"u363983_2_4\",\n",
      "      \"client_id\": \"u363983\",\n",
      "      \"target\": \"picture frame\"\n",
      "    }\n",
      "  }\n",
      "}\n"
     ]
    },
    {
     "name": "stderr",
     "output_type": "stream",
     "text": [
      "\n"
     ]
    },
    {
     "ename": "ValueError",
     "evalue": "{'error': {'root_cause': [{'type': 'named_object_not_found_exception', 'reason': '[1:200] unknown field [ubi]'}], 'type': 'named_object_not_found_exception', 'reason': '[1:200] unknown field [ubi]'}, 'status': 400}",
     "output_type": "error",
     "traceback": [
      "\u001b[0;31m---------------------------------------------------------------------------\u001b[0m",
      "\u001b[0;31mValueError\u001b[0m                                Traceback (most recent call last)",
      "Cell \u001b[0;32mIn[7], line 14\u001b[0m\n\u001b[1;32m     12\u001b[0m ubi_queries_dataframe \u001b[38;5;241m=\u001b[39m get_queries_dataframe()\n\u001b[1;32m     13\u001b[0m \u001b[38;5;28;01mfor\u001b[39;00m q \u001b[38;5;129;01min\u001b[39;00m tqdm\u001b[38;5;241m.\u001b[39mtqdm(ubi_queries_dataframe\u001b[38;5;241m.\u001b[39mcollect(), total\u001b[38;5;241m=\u001b[39mubi_queries_dataframe\u001b[38;5;241m.\u001b[39mcount()):\n\u001b[0;32m---> 14\u001b[0m     \u001b[43mexecute_search\u001b[49m\u001b[43m(\u001b[49m\u001b[43mproducts_collection\u001b[49m\u001b[43m,\u001b[49m\u001b[43m \u001b[49m\u001b[43mq\u001b[49m\u001b[38;5;241;43m.\u001b[39;49m\u001b[43masDict\u001b[49m\u001b[43m(\u001b[49m\u001b[43m)\u001b[49m\u001b[43m,\u001b[49m\u001b[43m \u001b[49m\u001b[43mlog\u001b[49m\u001b[38;5;241;43m=\u001b[39;49m\u001b[38;5;28;43;01mTrue\u001b[39;49;00m\u001b[43m)\u001b[49m\n",
      "Cell \u001b[0;32mIn[3], line 8\u001b[0m, in \u001b[0;36mexecute_search\u001b[0;34m(collection, signal, log)\u001b[0m\n\u001b[1;32m      1\u001b[0m \u001b[38;5;28;01mdef\u001b[39;00m \u001b[38;5;21mexecute_search\u001b[39m(collection, signal, log\u001b[38;5;241m=\u001b[39m\u001b[38;5;28;01mFalse\u001b[39;00m):\n\u001b[1;32m      2\u001b[0m     request \u001b[38;5;241m=\u001b[39m {\u001b[38;5;124m\"\u001b[39m\u001b[38;5;124mquery\u001b[39m\u001b[38;5;124m\"\u001b[39m: signal[\u001b[38;5;124m\"\u001b[39m\u001b[38;5;124mtarget\u001b[39m\u001b[38;5;124m\"\u001b[39m],\n\u001b[1;32m      3\u001b[0m                \u001b[38;5;124m\"\u001b[39m\u001b[38;5;124mquery_fields\u001b[39m\u001b[38;5;124m\"\u001b[39m: [\u001b[38;5;124m\"\u001b[39m\u001b[38;5;124mname\u001b[39m\u001b[38;5;124m\"\u001b[39m, \u001b[38;5;124m\"\u001b[39m\u001b[38;5;124mmanufacturer\u001b[39m\u001b[38;5;124m\"\u001b[39m,\n\u001b[1;32m      4\u001b[0m                                 \u001b[38;5;124m\"\u001b[39m\u001b[38;5;124mlong_description\u001b[39m\u001b[38;5;124m\"\u001b[39m, \u001b[38;5;124m\"\u001b[39m\u001b[38;5;124mshort_description\u001b[39m\u001b[38;5;124m\"\u001b[39m],\n\u001b[1;32m      5\u001b[0m                \u001b[38;5;124m\"\u001b[39m\u001b[38;5;124mreturn_fields\u001b[39m\u001b[38;5;124m\"\u001b[39m: [\u001b[38;5;124m\"\u001b[39m\u001b[38;5;124m*\u001b[39m\u001b[38;5;124m\"\u001b[39m],\n\u001b[1;32m      6\u001b[0m                \u001b[38;5;124m\"\u001b[39m\u001b[38;5;124mlimit\u001b[39m\u001b[38;5;124m\"\u001b[39m: \u001b[38;5;241m10\u001b[39m,\n\u001b[1;32m      7\u001b[0m                \u001b[38;5;124m\"\u001b[39m\u001b[38;5;124mext\u001b[39m\u001b[38;5;124m\"\u001b[39m: {\u001b[38;5;124m\"\u001b[39m\u001b[38;5;124mubi\u001b[39m\u001b[38;5;124m\"\u001b[39m: signal}}\n\u001b[0;32m----> 8\u001b[0m     results \u001b[38;5;241m=\u001b[39m \u001b[43mcollection\u001b[49m\u001b[38;5;241;43m.\u001b[39;49m\u001b[43msearch\u001b[49m\u001b[43m(\u001b[49m\u001b[38;5;241;43m*\u001b[39;49m\u001b[38;5;241;43m*\u001b[39;49m\u001b[43mrequest\u001b[49m\u001b[43m,\u001b[49m\u001b[43m \u001b[49m\u001b[43mlog\u001b[49m\u001b[38;5;241;43m=\u001b[39;49m\u001b[43mlog\u001b[49m\u001b[43m)\u001b[49m\n\u001b[1;32m      9\u001b[0m     \u001b[38;5;28;01mreturn\u001b[39;00m results\n",
      "File \u001b[0;32m~/engines/opensearch/OpenSearchCollection.py:132\u001b[0m, in \u001b[0;36mOpenSearchCollection.search\u001b[0;34m(self, **search_args)\u001b[0m\n\u001b[1;32m    130\u001b[0m request \u001b[38;5;241m=\u001b[39m \u001b[38;5;28mself\u001b[39m\u001b[38;5;241m.\u001b[39mtransform_request(\u001b[38;5;241m*\u001b[39m\u001b[38;5;241m*\u001b[39msearch_args)\n\u001b[1;32m    131\u001b[0m search_response \u001b[38;5;241m=\u001b[39m \u001b[38;5;28mself\u001b[39m\u001b[38;5;241m.\u001b[39mnative_search(request\u001b[38;5;241m=\u001b[39mrequest)\n\u001b[0;32m--> 132\u001b[0m \u001b[38;5;28;01mreturn\u001b[39;00m \u001b[38;5;28;43mself\u001b[39;49m\u001b[38;5;241;43m.\u001b[39;49m\u001b[43mtransform_response\u001b[49m\u001b[43m(\u001b[49m\u001b[43msearch_response\u001b[49m\u001b[43m)\u001b[49m\n",
      "File \u001b[0;32m~/engines/opensearch/OpenSearchCollection.py:119\u001b[0m, in \u001b[0;36mOpenSearchCollection.transform_response\u001b[0;34m(self, search_response)\u001b[0m\n\u001b[1;32m    116\u001b[0m     \u001b[38;5;28;01mreturn\u001b[39;00m formatted\n\u001b[1;32m    118\u001b[0m \u001b[38;5;28;01mif\u001b[39;00m \u001b[38;5;124m\"\u001b[39m\u001b[38;5;124mhits\u001b[39m\u001b[38;5;124m\"\u001b[39m \u001b[38;5;129;01mnot\u001b[39;00m \u001b[38;5;129;01min\u001b[39;00m search_response:\n\u001b[0;32m--> 119\u001b[0m     \u001b[38;5;28;01mraise\u001b[39;00m \u001b[38;5;167;01mValueError\u001b[39;00m(search_response)\n\u001b[1;32m    120\u001b[0m response \u001b[38;5;241m=\u001b[39m {\u001b[38;5;124m\"\u001b[39m\u001b[38;5;124mdocs\u001b[39m\u001b[38;5;124m\"\u001b[39m: [format_doc(d)\n\u001b[1;32m    121\u001b[0m                      \u001b[38;5;28;01mfor\u001b[39;00m d \u001b[38;5;129;01min\u001b[39;00m search_response[\u001b[38;5;124m\"\u001b[39m\u001b[38;5;124mhits\u001b[39m\u001b[38;5;124m\"\u001b[39m][\u001b[38;5;124m\"\u001b[39m\u001b[38;5;124mhits\u001b[39m\u001b[38;5;124m\"\u001b[39m]]}\n\u001b[1;32m    122\u001b[0m \u001b[38;5;28;01mif\u001b[39;00m \u001b[38;5;124m\"\u001b[39m\u001b[38;5;124mhighlighting\u001b[39m\u001b[38;5;124m\"\u001b[39m \u001b[38;5;129;01min\u001b[39;00m search_response:\n",
      "\u001b[0;31mValueError\u001b[0m: {'error': {'root_cause': [{'type': 'named_object_not_found_exception', 'reason': '[1:200] unknown field [ubi]'}], 'type': 'named_object_not_found_exception', 'reason': '[1:200] unknown field [ubi]'}, 'status': 400}"
     ]
    }
   ],
   "source": [
    "def get_queries_dataframe():\n",
    "    signals_collection = engine.get_collection(\"signals\")\n",
    "    create_view_from_collection(signals_collection, \"signals\")\n",
    "    queries = from_sql(\"SELECT * FROM signals WHERE type = 'query'\")\n",
    "    queries_transformed = queries.rdd.map(lambda r: \n",
    "        (r[\"signal_time\"], r[\"query_id\"], r[\"user\"], r[\"target\"]))\n",
    "    ubi_queries_dataframe = queries_transformed.toDF(\n",
    "        [\"timestamp\", \"query_id\", \"client_id\", \"target\"])\n",
    "    return ubi_queries_dataframe\n",
    "\n",
    "products_collection = engine.get_collection(\"products\")\n",
    "ubi_queries_dataframe = get_queries_dataframe()\n",
    "for q in tqdm.tqdm(ubi_queries_dataframe.collect(), total=ubi_queries_dataframe.count()):\n",
    "    execute_search(products_collection, q.asDict(), log=True)"
   ]
  },
  {
   "cell_type": "code",
   "execution_count": null,
   "metadata": {},
   "outputs": [],
   "source": [
    "def write_events_to_collection(collection):\n",
    "    ubi_events_collection = engine.get_collection(\"ubi_events\")\n",
    "    create_view_from_collection(ubi_events_collection, \"ubi_events\")\n",
    "    events = from_sql(\"SELECT * FROM ubi_events\")\n",
    "    events_transformed = events.rdd.map(lambda r: \n",
    "        (r[\"timestamp\"], r[\"query_id\"], r[\"client_id\"], r[\"target\"], \"query\"))\n",
    "    events_dataframe = events_transformed.toDF(\n",
    "        [\"signal_time\", \"query_id\", \"user\", \"target\", \"type\"])\n",
    "    collection.write(events_dataframe)\n",
    "\n",
    "def write_queries_to_collection(collection):\n",
    "    ubi_queries_collection = engine.get_collection(\"ubi_queries\")\n",
    "    create_view_from_collection(ubi_queries_collection, \"ubi_queries\")\n",
    "    queries = from_sql(\"SELECT * FROM ubi_queries\")\n",
    "    queries_transformed = queries.rdd.map(lambda r: \n",
    "        (r[\"timestamp\"], r[\"query_id\"], r[\"client_id\"], r[\"message\"], r[\"message_type\"]))\n",
    "    queries_dataframe = queries_transformed.toDF(\n",
    "        [\"signal_time\", \"query_id\", \"user\", \"target\", \"type\"])\n",
    "    collection.write(queries_dataframe)\n",
    "\n",
    "signals_collection = engine.create_collection(\"signals\")\n",
    "write_events_to_collection(signals_collection)\n",
    "write_queries_to_collection(signals_collection)"
   ]
  }
 ],
 "metadata": {
  "kernelspec": {
   "display_name": "Python 3 (ipykernel)",
   "language": "python",
   "name": "python3"
  },
  "language_info": {
   "codemirror_mode": {
    "name": "ipython",
    "version": 3
   },
   "file_extension": ".py",
   "mimetype": "text/x-python",
   "name": "python",
   "nbconvert_exporter": "python",
   "pygments_lexer": "ipython3",
   "version": "3.10.9"
  }
 },
 "nbformat": 4,
 "nbformat_minor": 2
}
