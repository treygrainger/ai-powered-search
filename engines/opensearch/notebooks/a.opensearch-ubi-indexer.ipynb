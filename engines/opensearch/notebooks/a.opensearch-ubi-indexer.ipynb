{
 "cells": [
  {
   "cell_type": "markdown",
   "metadata": {},
   "source": [
    "# Opensearch User Behavior Insights (UBI)\n",
    "\n",
    "### This notebook covers the basics around setting up UBI, ingesting data using the UBI plugin, and setting up a basic UBI opensearch dashboard\n",
    "\n",
    "**Information regarding UBI:**\n",
    "\n",
    "https://opensearch.org/docs/latest/search-plugins/ubi/index\n",
    "\n",
    "https://github.com/opensearch-project/user-behavior-insights"
   ]
  },
  {
   "cell_type": "code",
   "execution_count": 1,
   "metadata": {},
   "outputs": [],
   "source": [
    "from aips import get_engine, set_engine\n",
    "from aips.spark.dataframe import from_sql\n",
    "from aips.spark import create_view_from_collection\n",
    "import tqdm\n",
    "import aips.indexer\n",
    "import requests, json\n",
    "set_engine(\"opensearch\")\n",
    "engine = get_engine(\"opensearch\")"
   ]
  },
  {
   "cell_type": "code",
   "execution_count": null,
   "metadata": {},
   "outputs": [],
   "source": [
    "aips.indexer.build_collection(engine, \"products\")\n",
    "aips.indexer.build_collection(engine, \"signals\")"
   ]
  },
  {
   "cell_type": "markdown",
   "metadata": {},
   "source": [
    "### **Step 1**: Install and configure the OpenSearch UBI plugin\n",
    "\n",
    "To install UBI on an opensearch cluster, execute the following command on a node or during the building of an image. This command has already been run on the AIPS opensearch node.\n",
    "\n",
    "**bin/opensearch-plugin install https://github.com/o19s/opensearch-ubi/releases/download/release-v0.0.12.1-os2.14.0/opensearch-ubi-plugin-v0.0.12.1-os2.14.0.zip --batch**"
   ]
  },
  {
   "cell_type": "markdown",
   "metadata": {},
   "source": [
    "### **Step 2**: - Bulk ingesting historic signals\n",
    "\n",
    "Historic user events and queries should be bulk ingested into the appropriate UBI collections.\n",
    "\n",
    "Here we bulk write all AIPS queries into the `ubi_queries` collection."
   ]
  },
  {
   "cell_type": "code",
   "execution_count": 4,
   "metadata": {},
   "outputs": [],
   "source": [
    "def get_queries_dataframe():\n",
    "    signals_collection = engine.get_collection(\"signals\")\n",
    "    create_view_from_collection(signals_collection, \"signals\")\n",
    "    queries = from_sql(\"SELECT * FROM signals WHERE type = 'query'\")\n",
    "    queries_transformed = queries.rdd.map(lambda r: \n",
    "        (r[\"signal_time\"], r[\"query_id\"], r[\"user\"], r[\"target\"]))\n",
    "    ubi_queries_dataframe = queries_transformed.toDF(\n",
    "        [\"timestamp\", \"query_id\", \"client_id\", \"user_query\"])\n",
    "    return ubi_queries_dataframe"
   ]
  },
  {
   "cell_type": "code",
   "execution_count": 4,
   "metadata": {},
   "outputs": [],
   "source": [
    "def batch_ingest_queries():\n",
    "    queries_collection = engine.create_collection(\"ubi_queries\")\n",
    "    ubi_queries_dataframe = get_queries_dataframe()\n",
    "    queries_collection.write(ubi_queries_dataframe)\n",
    "    return queries_collection\n",
    "\n",
    "#This line commented as batch query ingestion is done in a \n",
    "#different manner later with the extension for examples sake.\n",
    "#queries_collection = batch_ingest_queries()"
   ]
  },
  {
   "cell_type": "markdown",
   "metadata": {},
   "source": [
    "Next we can index events into the `ubi_events` collection which is intended to hold all non-query signals"
   ]
  },
  {
   "cell_type": "code",
   "execution_count": 3,
   "metadata": {},
   "outputs": [],
   "source": [
    "def get_events_dataframe():\n",
    "    signals_collection = engine.get_collection(\"signals\")\n",
    "    products_collection = engine.get_collection(\"products\")\n",
    "    create_view_from_collection(signals_collection, \"signals\")\n",
    "    create_view_from_collection(products_collection, \"products\")\n",
    "    query = \"\"\"SELECT REPLACE(type, '-', '_') AS action_name, query_id, user AS client_id,\n",
    "                      signal_time AS timestamp, type AS message_type,\n",
    "                      target AS target, p.name AS message\n",
    "               FROM signals s\n",
    "               LEFT JOIN products p ON s.target == p.upc\n",
    "               WHERE type != 'query'\"\"\"\n",
    "    events = from_sql(query)\n",
    "    return events"
   ]
  },
  {
   "cell_type": "code",
   "execution_count": 36,
   "metadata": {},
   "outputs": [
    {
     "name": "stdout",
     "output_type": "stream",
     "text": [
      "Wiping \"ubi_events\" collection\n",
      "Creating \"ubi_events\" collection\n",
      "<Response [200]>\n",
      "{'_shards': {'total': 2, 'successful': 1, 'failed': 0}}\n",
      "Successfully written 1447146 documents\n"
     ]
    }
   ],
   "source": [
    "def batch_ingest_signals():\n",
    "    events_collection = engine.create_collection(\"ubi_events\")\n",
    "    ubi_events_dataframe = get_events_dataframe()\n",
    "    events_collection.write(ubi_events_dataframe)\n",
    "    return events_collection\n",
    "\n",
    "events_collection = batch_ingest_signals()"
   ]
  },
  {
   "cell_type": "markdown",
   "metadata": {},
   "source": [
    "### **Step 3**: Live logging of queries and events\n",
    "\n",
    "Queries and events must be ingested correctly and with complete data into UBI for best results. UBI stores queries seperate from other events, each in their respective collection `ubi_queries` and `ubi_events`. Live signal data collection should be hooked into the appropriate places in your stack."
   ]
  },
  {
   "cell_type": "markdown",
   "metadata": {},
   "source": [
    "Logging event data is as simple as writing an event document directly to the ubi_events collection. "
   ]
  },
  {
   "cell_type": "code",
   "execution_count": null,
   "metadata": {},
   "outputs": [
    {
     "data": {
      "text/plain": [
       "{'_index': 'ubi_events',\n",
       " '_id': '7BBffpQBfV_7LiKY82uy',\n",
       " '_version': 1,\n",
       " 'result': 'created',\n",
       " '_shards': {'total': 2, 'successful': 1, 'failed': 0},\n",
       " '_seq_no': 1447146,\n",
       " '_primary_term': 2}"
      ]
     },
     "metadata": {},
     "output_type": "display_data"
    }
   ],
   "source": [
    "def add_example_event_to_ubi():\n",
    "    collection = \"products\"\n",
    "    event_doc = {\"action_name\": \"purchase\", #This is a name of the type of event/action that occurred\n",
    "                 \"client_id\": \"uid_000001\", #This is id of the user/session taking the action\n",
    "                 \"message_type\": \"one_click_buy\", #An additional action type, used for further action grouping\n",
    "                 \"message\": \"Succeeded\", #An optional message string for the event\n",
    "                 \"query_id\": \"qid_000001\", #The id of the query that led to this action\n",
    "                 \"target\": \"pid_000001\"} #Any string representing the target of the action. Normally a doc/item id?\n",
    "\n",
    "    response = requests.post(f\"http://opensearch-node1:9200/ubi_events/_doc?\",\n",
    "                             json=event_doc)\n",
    "    display(response.json())\n",
    "\n",
    "add_example_event_to_ubi()"
   ]
  },
  {
   "cell_type": "markdown",
   "metadata": {},
   "source": [
    "Queries should be collected at query time utilizing the UBI extension request handler. Here is an example of ingesting query data by adding an `ubi` property to the `ext` object during a search request:"
   ]
  },
  {
   "cell_type": "code",
   "execution_count": null,
   "metadata": {},
   "outputs": [
    {
     "data": {
      "text/plain": [
       "{'took': 44,\n",
       " 'timed_out': False,\n",
       " '_shards': {'total': 1, 'successful': 1, 'skipped': 0, 'failed': 0},\n",
       " 'hits': {'total': {'value': 1165, 'relation': 'eq'},\n",
       "  'max_score': 7.091094,\n",
       "  'hits': [{'_index': 'products',\n",
       "    '_id': '50644455803',\n",
       "    '_score': 7.091094,\n",
       "    '_source': {'upc': '50644455803',\n",
       "     'name': 'Monster Cable - Quick Lock Gold Spade Connector (2 Pairs)',\n",
       "     'manufacturer': 'Monster Cable',\n",
       "     'short_description': ' ',\n",
       "     'long_description': 'Learn more about Magnolia Premium Installation   Protect your speaker wire from corrosion with these connectors that feature a simple 2-piece, screw-on design.'},\n",
       "    'fields': {'short_description': [' '],\n",
       "     'name': ['Monster Cable - Quick Lock Gold Spade Connector (2 Pairs)'],\n",
       "     'upc': ['50644455803'],\n",
       "     'long_description': ['Learn more about Magnolia Premium Installation   Protect your speaker wire from corrosion with these connectors that feature a simple 2-piece, screw-on design.'],\n",
       "     'manufacturer': ['Monster Cable']}},\n",
       "   {'_index': 'products',\n",
       "    '_id': '50644514142',\n",
       "    '_score': 7.091094,\n",
       "    '_source': {'upc': '50644514142',\n",
       "     'name': 'Monster Cable - 8 ft HDMI A/V Cable',\n",
       "     'manufacturer': 'Monster Cable',\n",
       "     'short_description': 'HDMI - 8ft Monster Cable HDMI Cable For Xbox 360',\n",
       "     'long_description': 'Monster Cable HDMI Cable For Xbox 360 - HDMI - 8ft'},\n",
       "    'fields': {'short_description': ['HDMI - 8ft Monster Cable HDMI Cable For Xbox 360'],\n",
       "     'name': ['Monster Cable - 8 ft HDMI A/V Cable'],\n",
       "     'upc': ['50644514142'],\n",
       "     'long_description': ['Monster Cable HDMI Cable For Xbox 360 - HDMI - 8ft'],\n",
       "     'manufacturer': ['Monster Cable']}},\n",
       "   {'_index': 'products',\n",
       "    '_id': '50644304606',\n",
       "    '_score': 7.091094,\n",
       "    '_source': {'upc': '50644304606',\n",
       "     'name': 'Monster Cable - TV Screen Cleaning Kit',\n",
       "     'manufacturer': 'Monster Cable',\n",
       "     'short_description': 'High-tech reusable MicroFiber cloth cleans your screen without scratching it',\n",
       "     'long_description': \"Keep your big screen in pristine condition with this complete monitor cleaning kit. The advanced formula removes dust and fingerprints without streaks or stains. The reusable MicroFiber cloth won't scratch your screen.\"},\n",
       "    'fields': {'short_description': ['High-tech reusable MicroFiber cloth cleans your screen without scratching it'],\n",
       "     'name': ['Monster Cable - TV Screen Cleaning Kit'],\n",
       "     'upc': ['50644304606'],\n",
       "     'long_description': [\"Keep your big screen in pristine condition with this complete monitor cleaning kit. The advanced formula removes dust and fingerprints without streaks or stains. The reusable MicroFiber cloth won't scratch your screen.\"],\n",
       "     'manufacturer': ['Monster Cable']}},\n",
       "   {'_index': 'products',\n",
       "    '_id': '640282090599',\n",
       "    '_score': 7.091094,\n",
       "    '_source': {'upc': '640282090599',\n",
       "     'name': \"Accu Cable - 5' 3-Pin DMX Cable\",\n",
       "     'manufacturer': 'Accu Cable',\n",
       "     'short_description': \"DMX connector; 5' length; 3 pins; 22 AWG; 110 ohms impedance\",\n",
       "     'long_description': \"Connect lighting units with this 5' 3-pin DMX cable that provides safety and shielding from transmission interference.\"},\n",
       "    'fields': {'short_description': [\"DMX connector; 5' length; 3 pins; 22 AWG; 110 ohms impedance\"],\n",
       "     'name': [\"Accu Cable - 5' 3-Pin DMX Cable\"],\n",
       "     'upc': ['640282090599'],\n",
       "     'long_description': [\"Connect lighting units with this 5' 3-pin DMX cable that provides safety and shielding from transmission interference.\"],\n",
       "     'manufacturer': ['Accu Cable']}},\n",
       "   {'_index': 'products',\n",
       "    '_id': '50644382727',\n",
       "    '_score': 7.091094,\n",
       "    '_source': {'upc': '50644382727',\n",
       "     'name': \"Monster Cable - 50' Mini-Spool Speaker Cable\",\n",
       "     'manufacturer': 'Monster Cable',\n",
       "     'short_description': \"Navajo white speaker cable; 50' length; special LPE insulation reduces signal loss\",\n",
       "     'long_description': 'The Magnetic Flux Tube construction and special cable windings provide natural music reproduction with impressive clarity, bass response and dynamic range in a compact design. Special LPE insulation reduces signal loss and distortion. Paintable Navajo white jacket matches all interiors.'},\n",
       "    'fields': {'short_description': [\"Navajo white speaker cable; 50' length; special LPE insulation reduces signal loss\"],\n",
       "     'name': [\"Monster Cable - 50' Mini-Spool Speaker Cable\"],\n",
       "     'upc': ['50644382727'],\n",
       "     'long_description': ['The Magnetic Flux Tube construction and special cable windings provide natural music reproduction with impressive clarity, bass response and dynamic range in a compact design. Special LPE insulation reduces signal loss and distortion. Paintable Navajo white jacket matches all interiors.'],\n",
       "     'manufacturer': ['Monster Cable']}},\n",
       "   {'_index': 'products',\n",
       "    '_id': '50644382789',\n",
       "    '_score': 7.091094,\n",
       "    '_source': {'upc': '50644382789',\n",
       "     'name': \"Monster Cable - XP 50' Mini Spool Speaker Cable\",\n",
       "     'manufacturer': 'Monster Cable',\n",
       "     'short_description': 'Compatible with stereo and home theater speakers; Magnetic Flux Tube design for enhanced sound reproduction; LPE insulation for improved signal transfer',\n",
       "     'long_description': \"Wire your stereo or home theater speakers for impressive, cinema-quality sound with this 50' spool of speaker wire that features a Magnetic Flux Tube design for enhanced sound reproduction and LPE insulation for improved signal transfer.\"},\n",
       "    'fields': {'short_description': ['Compatible with stereo and home theater speakers; Magnetic Flux Tube design for enhanced sound reproduction; LPE insulation for improved signal transfer'],\n",
       "     'name': [\"Monster Cable - XP 50' Mini Spool Speaker Cable\"],\n",
       "     'upc': ['50644382789'],\n",
       "     'long_description': [\"Wire your stereo or home theater speakers for impressive, cinema-quality sound with this 50' spool of speaker wire that features a Magnetic Flux Tube design for enhanced sound reproduction and LPE insulation for improved signal transfer.\"],\n",
       "     'manufacturer': ['Monster Cable']}},\n",
       "   {'_index': 'products',\n",
       "    '_id': '50644382741',\n",
       "    '_score': 7.091094,\n",
       "    '_source': {'upc': '50644382741',\n",
       "     'name': \"Monster Cable - 20' Navajo White Speaker Wire\",\n",
       "     'manufacturer': 'Monster Cable',\n",
       "     'short_description': 'Special LPE insulation reduces signal loss and distortion; paintable Navajo white jacket',\n",
       "     'long_description': 'Impressive clarity, bass response and dynamic range in a compact design. Special LPE insulation reduces signal loss and distortion. Paintable Navajo white jacket matches all interiors.'},\n",
       "    'fields': {'short_description': ['Special LPE insulation reduces signal loss and distortion; paintable Navajo white jacket'],\n",
       "     'name': [\"Monster Cable - 20' Navajo White Speaker Wire\"],\n",
       "     'upc': ['50644382741'],\n",
       "     'long_description': ['Impressive clarity, bass response and dynamic range in a compact design. Special LPE insulation reduces signal loss and distortion. Paintable Navajo white jacket matches all interiors.'],\n",
       "     'manufacturer': ['Monster Cable']}},\n",
       "   {'_index': 'products',\n",
       "    '_id': '50644459092',\n",
       "    '_score': 7.091094,\n",
       "    '_source': {'upc': '50644459092',\n",
       "     'name': \"Monster Cable - 100' Spool Speaker Wire\",\n",
       "     'manufacturer': 'Monster Cable',\n",
       "     'short_description': 'Magnetic Flux Tube construction and special cable windings for natural music reproduction',\n",
       "     'long_description': 'Magnetic Flux Tube construction and special cable windings for natural music reproduction. Impressive clarity, bass response and dynamic range in a compact design.'},\n",
       "    'fields': {'short_description': ['Magnetic Flux Tube construction and special cable windings for natural music reproduction'],\n",
       "     'name': [\"Monster Cable - 100' Spool Speaker Wire\"],\n",
       "     'upc': ['50644459092'],\n",
       "     'long_description': ['Magnetic Flux Tube construction and special cable windings for natural music reproduction. Impressive clarity, bass response and dynamic range in a compact design.'],\n",
       "     'manufacturer': ['Monster Cable']}},\n",
       "   {'_index': 'products',\n",
       "    '_id': '50644459122',\n",
       "    '_score': 7.091094,\n",
       "    '_source': {'upc': '50644459122',\n",
       "     'name': \"Monster Cable - 100' Navajo White Speaker Wire\",\n",
       "     'manufacturer': 'Monster Cable',\n",
       "     'short_description': 'Magnetic Flux Tube construction; special LPE insulation; paintable Navajo white jacket',\n",
       "     'long_description': 'Magnetic Flux Tube construction and special cable windings for natural music reproduction. Impressive clarity, bass response and dynamic range in a compact design. Special LPE insulation reduces signal loss and distortion. Paintable Navajo white jacket matches all interiors.'},\n",
       "    'fields': {'short_description': ['Magnetic Flux Tube construction; special LPE insulation; paintable Navajo white jacket'],\n",
       "     'name': [\"Monster Cable - 100' Navajo White Speaker Wire\"],\n",
       "     'upc': ['50644459122'],\n",
       "     'long_description': ['Magnetic Flux Tube construction and special cable windings for natural music reproduction. Impressive clarity, bass response and dynamic range in a compact design. Special LPE insulation reduces signal loss and distortion. Paintable Navajo white jacket matches all interiors.'],\n",
       "     'manufacturer': ['Monster Cable']}},\n",
       "   {'_index': 'products',\n",
       "    '_id': '50644382802',\n",
       "    '_score': 7.091094,\n",
       "    '_source': {'upc': '50644382802',\n",
       "     'name': \"Monster Cable - 20' 16-Gauge Mini-Spool\",\n",
       "     'manufacturer': 'Monster Cable',\n",
       "     'short_description': 'Magnetic Flux Tube construction and special cable windings for natural music reproduction',\n",
       "     'long_description': 'Magnetic Flux Tube construction and special cable windings for natural music reproduction. Impressive clarity, bass response and dynamic range in a compact design.'},\n",
       "    'fields': {'short_description': ['Magnetic Flux Tube construction and special cable windings for natural music reproduction'],\n",
       "     'name': [\"Monster Cable - 20' 16-Gauge Mini-Spool\"],\n",
       "     'upc': ['50644382802'],\n",
       "     'long_description': ['Magnetic Flux Tube construction and special cable windings for natural music reproduction. Impressive clarity, bass response and dynamic range in a compact design.'],\n",
       "     'manufacturer': ['Monster Cable']}}]},\n",
       " 'ext': {'ubi': {'query_id': 'qid_000001'}}}"
      ]
     },
     "metadata": {},
     "output_type": "display_data"
    }
   ],
   "source": [
    "def execute_example_query_with_ubi():        \n",
    "    collection = \"products\"\n",
    "    query = \"cable\"\n",
    "    ubi_extension_data = {\"ubi\": {\"query_id\": \"qid_000001\",\n",
    "                                  \"client_id\": \"cid_000001\",\n",
    "                                  \"user_query\": query}}\n",
    "    search_request = {\n",
    "        \"query\": {\"query_string\": {\"query\": query,\n",
    "                                   \"fields\": [\"name\", \"manufacturer\",\n",
    "                                              \"long_description\", \"short_description\"]}},\n",
    "        \"size\": 11, \n",
    "        \"fields\": [\"*\"],\n",
    "        \"ext\": ubi_extension_data\n",
    "    }\n",
    "\n",
    "    response = requests.post(f\"http://opensearch-node1:9200/{collection}/_search?\",\n",
    "                             json=search_request)\n",
    "    display(response.json())\n",
    "\n",
    "execute_example_query_with_ubi()"
   ]
  },
  {
   "cell_type": "markdown",
   "metadata": {},
   "source": [
    "Notice UBI information is returned on the search response object with at least the ubi signal id linking to the ingested query. "
   ]
  },
  {
   "cell_type": "markdown",
   "metadata": {},
   "source": [
    "The following code will load all query signals into UBI by simulating user searches. This serves as a batch import of data for examples sake. Batch importing should normally just be done by batch indexing query signals directly into `ubi_queries` directly as shown earlier.\n"
   ]
  },
  {
   "cell_type": "code",
   "execution_count": null,
   "metadata": {},
   "outputs": [],
   "source": [
    "def execute_search(collection, signal, log=False):\n",
    "    signal.pop(\"timestamp\", None) #The timestamp of a query is the time of search and cannot be passed in\n",
    "    request = {\"query\": signal[\"user_query\"],\n",
    "               \"query_fields\": [\"name\", \"manufacturer\",\n",
    "                                \"long_description\", \"short_description\"],\n",
    "               \"return_fields\": [\"*\"],\n",
    "               \"limit\": 10,\n",
    "               \"ubi\": signal | {\"store_name\": \"aips_store\"}}\n",
    "    try:\n",
    "        return collection.search(**request)\n",
    "    except:\n",
    "        pass\n",
    "\n",
    "def search_and_log_all_query_signals():\n",
    "    products_collection = engine.get_collection(\"products\")\n",
    "    ubi_queries_dataframe = get_queries_dataframe()\n",
    "    for q in tqdm.tqdm(ubi_queries_dataframe.collect(), total=ubi_queries_dataframe.count()):\n",
    "        execute_search(products_collection, q.asDict())\n",
    "\n",
    "search_and_log_all_query_signals()"
   ]
  },
  {
   "cell_type": "markdown",
   "metadata": {},
   "source": [
    "### Loading UBI queries and events into AIPS\n",
    "\n",
    "If you wish to load in UBI queries/events from your Opensearch cluster to work with the book, you can do so with the following code"
   ]
  },
  {
   "cell_type": "code",
   "execution_count": 3,
   "metadata": {},
   "outputs": [
    {
     "name": "stdout",
     "output_type": "stream",
     "text": [
      "Wiping \"signals\" collection\n",
      "Creating \"signals\" collection\n",
      "<Response [200]>\n",
      "{'_shards': {'total': 2, 'successful': 1, 'failed': 0}}\n",
      "Successfully written 792762 documents\n",
      "<Response [200]>\n",
      "{'_shards': {'total': 2, 'successful': 1, 'failed': 0}}\n",
      "Successfully written 1447146 documents\n"
     ]
    }
   ],
   "source": [
    "def load_ubi_events_as_aips_dataframe():\n",
    "    ubi_events_collection = engine.get_collection(\"ubi_events\")\n",
    "    create_view_from_collection(ubi_events_collection, \"ubi_events\")\n",
    "    events = from_sql(\"SELECT * FROM ubi_events\")\n",
    "    events_transformed = events.rdd.map(lambda r: \n",
    "        (r[\"timestamp\"], r[\"query_id\"], r[\"client_id\"],\n",
    "         r[\"message\"], r[\"message_type\"]))\n",
    "    return events_transformed.toDF([\"signal_time\", \"query_id\", \"user\", \"target\", \"type\"])\n",
    "\n",
    "def load_ubi_queries_as_aips_dataframe():\n",
    "    ubi_queries_collection = engine.get_collection(\"ubi_queries\")\n",
    "    create_view_from_collection(ubi_queries_collection, \"ubi_queries\")\n",
    "    queries = from_sql(\"SELECT * FROM ubi_queries\")\n",
    "    queries_transformed = queries.rdd.map(lambda r: \n",
    "        (r[\"timestamp\"], r[\"query_id\"], r[\"client_id\"],\n",
    "         r[\"user_query\"], \"query\"))\n",
    "    return queries_transformed.toDF([\"signal_time\", \"query_id\", \"user\", \"target\", \"type\"])\n",
    "\n",
    "def create_signals_collection_with_ubi_data():\n",
    "    signals_collection = engine.create_collection(\"signals\")\n",
    "    events = load_ubi_events_as_aips_dataframe()\n",
    "    queries = load_ubi_queries_as_aips_dataframe()\n",
    "    signals_collection.write(queries)\n",
    "    signals_collection.write(events, overwrite=False)\n",
    "    return signals_collection\n",
    "\n",
    "signals_collection = create_signals_collection_with_ubi_data()"
   ]
  },
  {
   "cell_type": "markdown",
   "metadata": {},
   "source": [
    "### Creating and viewing the UBI Dashboard\n",
    "\n",
    "The following code will import the default Dashboard objects. The dashboard can be viewed here\n",
    "\n",
    "http://opensearch-aips:5601/app/dashboards\n"
   ]
  },
  {
   "cell_type": "code",
   "execution_count": 35,
   "metadata": {},
   "outputs": [
    {
     "data": {
      "text/plain": [
       "{'successCount': 6,\n",
       " 'success': True,\n",
       " 'successResults': [{'type': 'index-pattern',\n",
       "   'id': '7d14f3e4-c873-4ff0-ba62-c5b741d2ac6b',\n",
       "   'meta': {'title': 'ubi_*', 'icon': 'indexPatternApp'},\n",
       "   'destinationId': 'f6e3b345-8db8-4c87-8393-e863ecbc0023'},\n",
       "  {'type': 'visualization',\n",
       "   'id': '1391fd2c-18f3-4b9f-85e7-799da34bcf1d',\n",
       "   'meta': {'title': 'all ubi messages', 'icon': 'visualizeApp'},\n",
       "   'destinationId': '84f3881d-f58a-429a-8a75-2e2820551adc'},\n",
       "  {'type': 'visualization',\n",
       "   'id': '789b6480-d667-11ef-96b9-a3e177a902a3',\n",
       "   'meta': {'title': 'Searches', 'icon': 'visualizeApp'},\n",
       "   'destinationId': '346b4f3f-100d-4baa-a74b-ca4732103a05'},\n",
       "  {'type': 'index-pattern',\n",
       "   'id': 'b8544e15-0471-497e-a4c8-7696a83fcd84',\n",
       "   'meta': {'title': 'ubi_events', 'icon': 'indexPatternApp'},\n",
       "   'destinationId': '7e3e721f-47a5-4dd4-ab9a-8ccf4f8a801a'},\n",
       "  {'type': 'visualization',\n",
       "   'id': 'f2e2cc60-d667-11ef-96b9-a3e177a902a3',\n",
       "   'meta': {'title': 'Event types', 'icon': 'visualizeApp'},\n",
       "   'destinationId': 'a05b311e-a711-482c-ae2f-5d49b1512a29'},\n",
       "  {'type': 'dashboard',\n",
       "   'id': 'c1d6447f-aa85-42f9-a340-6d4d089a5030',\n",
       "   'meta': {'title': 'User Behavior Insights', 'icon': 'dashboardApp'},\n",
       "   'destinationId': 'bae9af0e-33fc-48d8-be5f-fd0aa9382ec3'}]}"
      ]
     },
     "metadata": {},
     "output_type": "display_data"
    }
   ],
   "source": [
    "def import_ubi_dashboard():\n",
    "    with open(\"./engines/opensearch/build/ubi-dashboard-objects.json\", \"rb\") as f: \n",
    "        dashboard_objects = json.load(f)\n",
    "    dashboard_ndjson = \"\\n\".join(json.dumps(d) for d in dashboard_objects)\n",
    "    response = requests.post(f\"http://opensearch-dashboards:5601/api/saved_objects/_import?createNewCopies=true\",\n",
    "                            files={\"file\": (\"request.ndjson\", dashboard_ndjson)},\n",
    "                            headers={\"kbn-xsrf\": \"true\",\n",
    "                                     \"osd-version\": \"2.14.0\",\n",
    "                                     \"osd-xsrf\": \"osd-fetch\"})\n",
    "    display(response.json())\n",
    "\n",
    "import_ubi_dashboard()"
   ]
  }
 ],
 "metadata": {
  "kernelspec": {
   "display_name": "Python 3 (ipykernel)",
   "language": "python",
   "name": "python3"
  },
  "language_info": {
   "codemirror_mode": {
    "name": "ipython",
    "version": 3
   },
   "file_extension": ".py",
   "mimetype": "text/x-python",
   "name": "python",
   "nbconvert_exporter": "python",
   "pygments_lexer": "ipython3",
   "version": "3.10.9"
  }
 },
 "nbformat": 4,
 "nbformat_minor": 2
}
