{
 "cells": [
  {
   "cell_type": "code",
   "execution_count": 1,
   "metadata": {},
   "outputs": [],
   "source": [
    "from aips import get_engine, set_engine\n",
    "from aips.spark.dataframe import from_sql\n",
    "from aips.spark import create_view_from_collection\n",
    "import tqdm\n",
    "\n",
    "set_engine(\"opensearch\")\n",
    "engine = get_engine()"
   ]
  },
  {
   "cell_type": "code",
   "execution_count": 2,
   "metadata": {},
   "outputs": [
    {
     "name": "stdout",
     "output_type": "stream",
     "text": [
      "<class 'engines.opensearch.OpenSearchEngine.OpenSearchEngine'>\n",
      "Already up to date.\n",
      "products.csv\n",
      "signals.csv\n",
      "\"upc\",\"name\",\"manufacturer\",\"short_description\",\"long_description\"\n",
      "\"096009010836\",\"Fists of Bruce Lee - Dolby - DVD\", , , \n",
      "\"043396061965\",\"The Professional - Widescreen Uncut - DVD\", , , \n",
      "\"085391862024\",\"Pokemon the Movie: 2000 - DVD\", , , \n",
      "\"067003016025\",\"Summerbreeze - CD\",\"Nettwerk\", , \n",
      "\"731454813822\",\"Back for the First Time [PA] - CD\",\"Def Jam South\", , \n",
      "\"024543008200\",\"Big Momma's House - Widescreen - DVD\", , , \n",
      "\"031398751823\",\"Kids - DVD\", , , \n",
      "\"037628413929\",\"20 Grandes Exitos - CD\",\"Sony Discos Inc.\", , \n",
      "\"060768972223\",\"Power Of Trinity (Box) - CD\",\"Sanctuary Records\", , \n",
      "Wiping \"products\" collection\n",
      "Creating \"products\" collection\n",
      "Loading Products\n",
      "Schema: \n",
      "root\n",
      " |-- upc: long (nullable = true)\n",
      " |-- name: string (nullable = true)\n",
      " |-- manufacturer: string (nullable = true)\n",
      " |-- short_description: string (nullable = true)\n",
      " |-- long_description: string (nullable = true)\n",
      "\n",
      "Successfully written 48194 documents\n"
     ]
    },
    {
     "data": {
      "text/html": [
       "<div id=\"demo\">\n",
       "\t<center><input style=\"width:40%\" readonly type=\"text\" name=\"q\" value=\"ipod\">\n",
       "\t<input readonly type=\"submit\" value=\"Search\">\n",
       "\t</center>\n",
       "    <div class=\"results\">\n",
       "    \t\n",
       "\n",
       "    </div>\n",
       "</div>\n",
       "    \t<div style=\"position: relative; width: 100%; height:auto; overflow: auto;\">\n",
       "\t    \t<div style=\"position: relative; float:left; width: 120px; margin-top:5px\">\n",
       "\t    \t\t<img style=\"width:250px; height: auto; max-height:150px\" src=\"../../data/retrotech/images/878816004532.jpg\">\n",
       "\t    \t</div>\n",
       "\t    \t<div style=\"position:relative; float:left; clear:none; width: 80%; height:auto\">\n",
       "\t    \t\t<p style=\"font-size:24px; padding-left: 50px;\"><strong>\t\tName:</strong> Fusion - Apple&#xAE; iPod&#xAE; Dock for Most Fusion 600 Series Stereos\n",
       "\t\t\t\t\t<br><strong>\t\tManufacturer:</strong> Fusion</p>\n",
       "\t    \t\t</p>\n",
       "\t    \t</div>\n",
       "    \t</div>\n",
       "    \t\n",
       "\t\t<div style=\"position:relative; clear:both; content: ' '; display: block; height: 1px; margin-top: 10px; margin-bottom:20px\">\n",
       "\t\t\t<hr style=\"color: gray; width: 95%;\" />\n",
       "\t\t</div>\n",
       "\t\t\n",
       "    \t<div style=\"position: relative; width: 100%; height:auto; overflow: auto;\">\n",
       "\t    \t<div style=\"position: relative; float:left; width: 120px; margin-top:5px\">\n",
       "\t    \t\t<img style=\"width:250px; height: auto; max-height:150px\" src=\"../../data/retrotech/images/694318011294.jpg\">\n",
       "\t    \t</div>\n",
       "\t    \t<div style=\"position:relative; float:left; clear:none; width: 80%; height:auto\">\n",
       "\t    \t\t<p style=\"font-size:24px; padding-left: 50px;\"><strong>\t\tName:</strong> Alesis - Multimix 8-Channel USB 2.0 Mixer\n",
       "\t\t\t\t\t<br><strong>\t\tManufacturer:</strong> Alesis</p>\n",
       "\t    \t\t</p>\n",
       "\t    \t</div>\n",
       "    \t</div>\n",
       "    \t\n",
       "\t\t<div style=\"position:relative; clear:both; content: ' '; display: block; height: 1px; margin-top: 10px; margin-bottom:20px\">\n",
       "\t\t\t<hr style=\"color: gray; width: 95%;\" />\n",
       "\t\t</div>\n",
       "\t\t\n",
       "    \t<div style=\"position: relative; width: 100%; height:auto; overflow: auto;\">\n",
       "\t    \t<div style=\"position: relative; float:left; width: 120px; margin-top:5px\">\n",
       "\t    \t\t<img style=\"width:250px; height: auto; max-height:150px\" src=\"../../data/retrotech/images/885909394845.jpg\">\n",
       "\t    \t</div>\n",
       "\t    \t<div style=\"position:relative; float:left; clear:none; width: 80%; height:auto\">\n",
       "\t    \t\t<p style=\"font-size:24px; padding-left: 50px;\"><strong>\t\tName:</strong> Apple&#xAE; - iPod touch&#xAE; 8GB* MP3 Player (4th Generation - Latest Model) - Black\n",
       "\t\t\t\t\t<br><strong>\t\tManufacturer:</strong> Apple&#xAE;</p>\n",
       "\t    \t\t</p>\n",
       "\t    \t</div>\n",
       "    \t</div>\n",
       "    \t\n",
       "\t\t<div style=\"position:relative; clear:both; content: ' '; display: block; height: 1px; margin-top: 10px; margin-bottom:20px\">\n",
       "\t\t\t<hr style=\"color: gray; width: 95%;\" />\n",
       "\t\t</div>\n",
       "\t\t\n",
       "    \t<div style=\"position: relative; width: 100%; height:auto; overflow: auto;\">\n",
       "\t    \t<div style=\"position: relative; float:left; width: 120px; margin-top:5px\">\n",
       "\t    \t\t<img style=\"width:250px; height: auto; max-height:150px\" src=\"../../data/retrotech/images/885909300549.jpg\">\n",
       "\t    \t</div>\n",
       "\t    \t<div style=\"position:relative; float:left; clear:none; width: 80%; height:auto\">\n",
       "\t    \t\t<p style=\"font-size:24px; padding-left: 50px;\"><strong>\t\tName:</strong> Apple - USB Charge/Sync Cable for Apple&#xAE; iPod&#xAE; shuffle\n",
       "\t\t\t\t\t<br><strong>\t\tManufacturer:</strong> Apple</p>\n",
       "\t    \t\t</p>\n",
       "\t    \t</div>\n",
       "    \t</div>\n",
       "    \t\n",
       "\t\t<div style=\"position:relative; clear:both; content: ' '; display: block; height: 1px; margin-top: 10px; margin-bottom:20px\">\n",
       "\t\t\t<hr style=\"color: gray; width: 95%;\" />\n",
       "\t\t</div>\n",
       "\t\t\n",
       "    \t<div style=\"position: relative; width: 100%; height:auto; overflow: auto;\">\n",
       "\t    \t<div style=\"position: relative; float:left; width: 120px; margin-top:5px\">\n",
       "\t    \t\t<img style=\"width:250px; height: auto; max-height:150px\" src=\"../../data/retrotech/images/27108936499.jpg\">\n",
       "\t    \t</div>\n",
       "\t    \t<div style=\"position:relative; float:left; clear:none; width: 80%; height:auto\">\n",
       "\t    \t\t<p style=\"font-size:24px; padding-left: 50px;\"><strong>\t\tName:</strong> Yamaha - Apple&#xAE; iPod&#xAE; and iPhone&#xAE; Dock for Most Yamaha A/V Receivers\n",
       "\t\t\t\t\t<br><strong>\t\tManufacturer:</strong> Yamaha</p>\n",
       "\t    \t\t</p>\n",
       "\t    \t</div>\n",
       "    \t</div>\n",
       "    \t\n",
       "\t\t<div style=\"position:relative; clear:both; content: ' '; display: block; height: 1px; margin-top: 10px; margin-bottom:20px\">\n",
       "\t\t\t<hr style=\"color: gray; width: 95%;\" />\n",
       "\t\t</div>\n",
       "\t\t"
      ],
      "text/plain": [
       "<IPython.core.display.HTML object>"
      ]
     },
     "metadata": {},
     "output_type": "display_data"
    },
    {
     "name": "stdout",
     "output_type": "stream",
     "text": [
      "\"query_id\",\"user\",\"type\",\"target\",\"signal_time\"\n",
      "\"u2_0_1\",\"u2\",\"query\",\"nook\",\"2019-07-31 08:49:07.3116\"\n",
      "\"u2_1_2\",\"u2\",\"query\",\"rca\",\"2020-05-04 08:28:21.1848\"\n",
      "\"u3_0_1\",\"u3\",\"query\",\"macbook\",\"2019-12-22 00:07:07.0152\"\n",
      "\"u4_0_1\",\"u4\",\"query\",\"Tv antenna\",\"2019-08-22 23:45:54.1030\"\n",
      "\"u5_0_1\",\"u5\",\"query\",\"AC power cord\",\"2019-10-20 08:27:00.1600\"\n",
      "\"u6_0_1\",\"u6\",\"query\",\"Watch The Throne\",\"2019-09-18 11:59:53.7470\"\n",
      "\"u7_0_1\",\"u7\",\"query\",\"Camcorder\",\"2020-02-25 13:02:29.3089\"\n",
      "\"u9_0_1\",\"u9\",\"query\",\"wireless headphones\",\"2020-04-26 04:26:09.7198\"\n",
      "\"u10_0_1\",\"u10\",\"query\",\"Xbox\",\"2019-09-13 16:26:12.0132\"\n",
      "Wiping \"signals\" collection\n",
      "Creating \"signals\" collection\n",
      "Loading data/retrotech/signals.csv\n",
      "Schema: \n",
      "root\n",
      " |-- query_id: string (nullable = true)\n",
      " |-- user: string (nullable = true)\n",
      " |-- type: string (nullable = true)\n",
      " |-- target: string (nullable = true)\n",
      " |-- signal_time: timestamp (nullable = true)\n",
      "\n",
      "Successfully written 2172605 documents\n"
     ]
    }
   ],
   "source": [
    "%run chapters/ch04/1.setting-up-the-retrotech-dataset.ipynb"
   ]
  },
  {
   "cell_type": "code",
   "execution_count": 3,
   "metadata": {},
   "outputs": [],
   "source": [
    "def get_events_dataframe():\n",
    "    signals_collection = engine.get_collection(\"signals\")\n",
    "    create_view_from_collection(signals_collection, \"signals\")\n",
    "    query = \"\"\"SELECT type AS action_name, query_id, user AS client_id,\n",
    "                      signal_time AS timestamp, type AS message_type,\n",
    "                      target AS message, target AS target\n",
    "               FROM signals WHERE type != 'query'\"\"\"\n",
    "    events = from_sql(query)\n",
    "    return events"
   ]
  },
  {
   "cell_type": "code",
   "execution_count": 4,
   "metadata": {},
   "outputs": [
    {
     "name": "stdout",
     "output_type": "stream",
     "text": [
      "Wiping \"ubi_events\" collection\n",
      "Creating \"ubi_events\" collection\n",
      "Successfully written 1447146 documents\n"
     ]
    }
   ],
   "source": [
    "events_collection = engine.create_collection(\"ubi_events\")\n",
    "ubi_events_dataframe = get_events_dataframe()\n",
    "events_collection.write(ubi_events_dataframe)"
   ]
  },
  {
   "cell_type": "code",
   "execution_count": 5,
   "metadata": {},
   "outputs": [],
   "source": [
    "def get_queries_dataframe():\n",
    "    signals_collection = engine.get_collection(\"signals\")\n",
    "    create_view_from_collection(signals_collection, \"signals\")\n",
    "    queries = from_sql(\"SELECT * FROM signals WHERE type = 'query'\")\n",
    "    queries_transformed = queries.rdd.map(lambda r: \n",
    "        (r[\"signal_time\"], r[\"query_id\"], r[\"user\"], r[\"target\"]))\n",
    "    ubi_queries_dataframe = queries_transformed.toDF(\n",
    "        [\"timestamp\", \"query_id\", \"client_id\", \"user_query\"])\n",
    "    return ubi_queries_dataframe"
   ]
  },
  {
   "cell_type": "code",
   "execution_count": 6,
   "metadata": {},
   "outputs": [],
   "source": [
    "def execute_search(collection, signal, log=False):\n",
    "    request = {\"query\": signal[\"user_query\"],\n",
    "               \"query_fields\": [\"name\", \"manufacturer\",\n",
    "                                \"long_description\", \"short_description\"],\n",
    "               \"return_fields\": [\"*\"],\n",
    "               \"limit\": 10,\n",
    "               \"ext\": {\"ubi\": signal}}\n",
    "    results = collection.search(**request, log=log)\n",
    "    return results"
   ]
  },
  {
   "cell_type": "code",
   "execution_count": 7,
   "metadata": {},
   "outputs": [],
   "source": [
    "#products_collection = engine.get_collection(\"products\")\n",
    "#ubi_queries_dataframe = get_queries_dataframe()\n",
    "#for q in tqdm.tqdm(ubi_queries_dataframe.collect(), total=ubi_queries_dataframe.count()):\n",
    "#    execute_search(products_collection, q.asDict(), log=True)"
   ]
  },
  {
   "cell_type": "code",
   "execution_count": 8,
   "metadata": {},
   "outputs": [
    {
     "name": "stdout",
     "output_type": "stream",
     "text": [
      "Wiping \"ubi_queries\" collection\n",
      "Creating \"ubi_queries\" collection\n",
      "Successfully written 725459 documents\n"
     ]
    }
   ],
   "source": [
    "queries_collection = engine.create_collection(\"ubi_queries\")\n",
    "ubi_queries_dataframe = get_queries_dataframe()\n",
    "queries_collection.write(ubi_queries_dataframe)"
   ]
  },
  {
   "cell_type": "code",
   "execution_count": 12,
   "metadata": {},
   "outputs": [
    {
     "name": "stdout",
     "output_type": "stream",
     "text": [
      "Wiping \"signals\" collection\n",
      "Creating \"signals\" collection\n",
      "Successfully written 2172605 documents\n"
     ]
    }
   ],
   "source": [
    "def create_events_dataframe():\n",
    "    ubi_events_collection = engine.get_collection(\"ubi_events\")\n",
    "    create_view_from_collection(ubi_events_collection, \"ubi_events\")\n",
    "    events = from_sql(\"SELECT * FROM ubi_events\")\n",
    "    events_transformed = events.rdd.map(lambda r: \n",
    "        (r[\"timestamp\"], r[\"query_id\"], r[\"client_id\"],\n",
    "         r[\"message\"], r[\"message_type\"]))\n",
    "    return events_transformed.toDF([\"signal_time\", \"query_id\", \"user\", \"target\", \"type\"])\n",
    "\n",
    "def create_queries_dataframe():\n",
    "    ubi_queries_collection = engine.get_collection(\"ubi_queries\")\n",
    "    create_view_from_collection(ubi_queries_collection, \"ubi_queries\")\n",
    "    queries = from_sql(\"SELECT * FROM ubi_queries\")\n",
    "    queries_transformed = queries.rdd.map(lambda r: \n",
    "        (r[\"timestamp\"], r[\"query_id\"], r[\"client_id\"],\n",
    "         r[\"user_query\"], \"query\"))\n",
    "    return queries_transformed.toDF([\"signal_time\", \"query_id\", \"user\", \"target\", \"type\"])\n",
    "\n",
    "signals_collection = engine.create_collection(\"signals\")\n",
    "queries = create_queries_dataframe()\n",
    "events = create_events_dataframe()\n",
    "signals_collection.write(queries.union(events))"
   ]
  }
 ],
 "metadata": {
  "kernelspec": {
   "display_name": "Python 3 (ipykernel)",
   "language": "python",
   "name": "python3"
  },
  "language_info": {
   "codemirror_mode": {
    "name": "ipython",
    "version": 3
   },
   "file_extension": ".py",
   "mimetype": "text/x-python",
   "name": "python",
   "nbconvert_exporter": "python",
   "pygments_lexer": "ipython3",
   "version": "3.10.9"
  }
 },
 "nbformat": 4,
 "nbformat_minor": 2
}
