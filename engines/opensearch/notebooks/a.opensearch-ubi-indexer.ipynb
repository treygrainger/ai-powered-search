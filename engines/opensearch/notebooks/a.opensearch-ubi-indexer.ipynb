{
 "cells": [
  {
   "cell_type": "code",
   "execution_count": 1,
   "metadata": {},
   "outputs": [],
   "source": [
    "from aips import get_engine, set_engine\n",
    "from aips.spark.dataframe import from_sql\n",
    "from aips.spark import create_view_from_collection\n",
    "import tqdm\n",
    "\n",
    "set_engine(\"opensearch\")\n",
    "engine = get_engine()"
   ]
  },
  {
   "cell_type": "code",
   "execution_count": null,
   "metadata": {},
   "outputs": [],
   "source": [
    "#%run chapters/ch04/1.setting-up-the-retrotech-dataset.ipynb"
   ]
  },
  {
   "cell_type": "markdown",
   "metadata": {},
   "source": [
    "### Step 1 - Install and configure the OpenSearch UBI plugin\n",
    "\n",
    "bin/opensearch-plugin install https://github.com/o19s/opensearch-ubi/releases/download/release-v0.0.12.1-os2.14.0/opensearch-ubi-plugin-v0.0.12.1-os2.14.0.zip --batch"
   ]
  },
  {
   "cell_type": "markdown",
   "metadata": {},
   "source": [
    "### Step 2 - Ingest query data by adding the `ext` object to search requests"
   ]
  },
  {
   "cell_type": "code",
   "execution_count": 4,
   "metadata": {},
   "outputs": [
    {
     "data": {
      "text/plain": [
       "{'took': 5,\n",
       " 'timed_out': False,\n",
       " '_shards': {'total': 1, 'successful': 1, 'skipped': 0, 'failed': 0},\n",
       " 'hits': {'total': {'value': 10000, 'relation': 'gte'},\n",
       "  'max_score': 1.0,\n",
       "  'hits': [{'_index': 'products',\n",
       "    '_id': '96009010836',\n",
       "    '_score': 1.0,\n",
       "    '_source': {'upc': 96009010836,\n",
       "     'name': 'Fists of Bruce Lee - Dolby - DVD',\n",
       "     'manufacturer': ' ',\n",
       "     'short_description': ' ',\n",
       "     'long_description': ' '}},\n",
       "   {'_index': 'products',\n",
       "    '_id': '43396061965',\n",
       "    '_score': 1.0,\n",
       "    '_source': {'upc': 43396061965,\n",
       "     'name': 'The Professional - Widescreen Uncut - DVD',\n",
       "     'manufacturer': ' ',\n",
       "     'short_description': ' ',\n",
       "     'long_description': ' '}},\n",
       "   {'_index': 'products',\n",
       "    '_id': '85391862024',\n",
       "    '_score': 1.0,\n",
       "    '_source': {'upc': 85391862024,\n",
       "     'name': 'Pokemon the Movie: 2000 - DVD',\n",
       "     'manufacturer': ' ',\n",
       "     'short_description': ' ',\n",
       "     'long_description': ' '}},\n",
       "   {'_index': 'products',\n",
       "    '_id': '67003016025',\n",
       "    '_score': 1.0,\n",
       "    '_source': {'upc': 67003016025,\n",
       "     'name': 'Summerbreeze - CD',\n",
       "     'manufacturer': 'Nettwerk',\n",
       "     'short_description': ' ',\n",
       "     'long_description': ' '}},\n",
       "   {'_index': 'products',\n",
       "    '_id': '731454813822',\n",
       "    '_score': 1.0,\n",
       "    '_source': {'upc': 731454813822,\n",
       "     'name': 'Back for the First Time [PA] - CD',\n",
       "     'manufacturer': 'Def Jam South',\n",
       "     'short_description': ' ',\n",
       "     'long_description': ' '}},\n",
       "   {'_index': 'products',\n",
       "    '_id': '24543008200',\n",
       "    '_score': 1.0,\n",
       "    '_source': {'upc': 24543008200,\n",
       "     'name': \"Big Momma's House - Widescreen - DVD\",\n",
       "     'manufacturer': ' ',\n",
       "     'short_description': ' ',\n",
       "     'long_description': ' '}},\n",
       "   {'_index': 'products',\n",
       "    '_id': '31398751823',\n",
       "    '_score': 1.0,\n",
       "    '_source': {'upc': 31398751823,\n",
       "     'name': 'Kids - DVD',\n",
       "     'manufacturer': ' ',\n",
       "     'short_description': ' ',\n",
       "     'long_description': ' '}},\n",
       "   {'_index': 'products',\n",
       "    '_id': '37628413929',\n",
       "    '_score': 1.0,\n",
       "    '_source': {'upc': 37628413929,\n",
       "     'name': '20 Grandes Exitos - CD',\n",
       "     'manufacturer': 'Sony Discos Inc.',\n",
       "     'short_description': ' ',\n",
       "     'long_description': ' '}},\n",
       "   {'_index': 'products',\n",
       "    '_id': '60768972223',\n",
       "    '_score': 1.0,\n",
       "    '_source': {'upc': 60768972223,\n",
       "     'name': 'Power Of Trinity (Box) - CD',\n",
       "     'manufacturer': 'Sanctuary Records',\n",
       "     'short_description': ' ',\n",
       "     'long_description': ' '}},\n",
       "   {'_index': 'products',\n",
       "    '_id': '74646364826',\n",
       "    '_score': 1.0,\n",
       "    '_source': {'upc': 74646364826,\n",
       "     'name': 'Southern Discomfort [ECD] [PA] - CD',\n",
       "     'manufacturer': 'Sony Music Distribution (USA)',\n",
       "     'short_description': ' ',\n",
       "     'long_description': ' '}}]},\n",
       " 'ext': {'ubi': {'query_id': 'a308e7ab-2b75-4854-b2a3-f313e4b70b05'}}}"
      ]
     },
     "metadata": {},
     "output_type": "display_data"
    }
   ],
   "source": [
    "import requests\n",
    "\n",
    "response = requests.get(f\"http://opensearch-node1:9200/products/_search\", json={\"ext\":{\"ubi\": {}}})\n",
    "display(response.json())"
   ]
  },
  {
   "cell_type": "markdown",
   "metadata": {},
   "source": [
    "### Step 3 - Bulk ingest events"
   ]
  },
  {
   "cell_type": "code",
   "execution_count": 5,
   "metadata": {},
   "outputs": [],
   "source": [
    "def get_events_dataframe():\n",
    "    signals_collection = engine.get_collection(\"signals\")\n",
    "    create_view_from_collection(signals_collection, \"signals\")\n",
    "    query = \"\"\"SELECT type AS action_name, query_id, user AS client_id,\n",
    "                      signal_time AS timestamp, type AS message_type,\n",
    "                      target AS message, target AS target\n",
    "               FROM signals WHERE type != 'query'\"\"\"\n",
    "    events = from_sql(query)\n",
    "    return events"
   ]
  },
  {
   "cell_type": "code",
   "execution_count": 6,
   "metadata": {},
   "outputs": [
    {
     "name": "stdout",
     "output_type": "stream",
     "text": [
      "Successfully written 1447146 documents\n"
     ]
    }
   ],
   "source": [
    "events_collection = engine.get_collection(\"ubi_aips_events\")\n",
    "ubi_events_dataframe = get_events_dataframe()\n",
    "events_collection.write(ubi_events_dataframe)"
   ]
  },
  {
   "cell_type": "code",
   "execution_count": 3,
   "metadata": {},
   "outputs": [],
   "source": [
    "def get_queries_dataframe():\n",
    "    signals_collection = engine.get_collection(\"signals\")\n",
    "    create_view_from_collection(signals_collection, \"signals\")\n",
    "    queries = from_sql(\"SELECT * FROM signals WHERE type = 'query'\")\n",
    "    queries_transformed = queries.rdd.map(lambda r: \n",
    "        (r[\"signal_time\"], r[\"query_id\"], r[\"user\"], r[\"target\"]))\n",
    "    ubi_queries_dataframe = queries_transformed.toDF(\n",
    "        [\"timestamp\", \"query_id\", \"client_id\", \"user_query\"])\n",
    "    return ubi_queries_dataframe"
   ]
  },
  {
   "cell_type": "code",
   "execution_count": 11,
   "metadata": {},
   "outputs": [],
   "source": [
    "def execute_search(collection, signal, log=False):\n",
    "    request = {\"query\": signal[\"user_query\"],\n",
    "               \"query_fields\": [\"name\", \"manufacturer\",\n",
    "                                \"long_description\", \"short_description\"],\n",
    "               \"return_fields\": [\"*\"],\n",
    "               \"limit\": 10,\n",
    "               \"ubi\": signal | {\"store_name\": \"aips_store\"}}\n",
    "    try:\n",
    "        return collection.search(**request)\n",
    "    except:\n",
    "        pass"
   ]
  },
  {
   "cell_type": "code",
   "execution_count": 12,
   "metadata": {},
   "outputs": [],
   "source": [
    "products_collection = engine.get_collection(\"products\")\n",
    "ubi_queries_dataframe = get_queries_dataframe()\n",
    "for q in tqdm.tqdm(ubi_queries_dataframe.collect(), total=ubi_queries_dataframe.count()):\n",
    "    execute_search(products_collection, q.asDict())"
   ]
  },
  {
   "cell_type": "code",
   "execution_count": 8,
   "metadata": {},
   "outputs": [],
   "source": [
    "queries_collection = engine.create_collection(\"ubi_queries\")\n",
    "ubi_queries_dataframe = get_queries_dataframe()\n",
    "queries_collection.write(ubi_queries_dataframe)"
   ]
  },
  {
   "cell_type": "code",
   "execution_count": 9,
   "metadata": {},
   "outputs": [],
   "source": [
    "def create_events_dataframe():\n",
    "    ubi_events_collection = engine.get_collection(\"ubi_events\")\n",
    "    create_view_from_collection(ubi_events_collection, \"ubi_events\")\n",
    "    events = from_sql(\"SELECT * FROM ubi_events\")\n",
    "    events_transformed = events.rdd.map(lambda r: \n",
    "        (r[\"timestamp\"], r[\"query_id\"], r[\"client_id\"],\n",
    "         r[\"message\"], r[\"message_type\"]))\n",
    "    return events_transformed.toDF([\"signal_time\", \"query_id\", \"user\", \"target\", \"type\"])\n",
    "\n",
    "def create_queries_dataframe():\n",
    "    ubi_queries_collection = engine.get_collection(\"ubi_queries\")\n",
    "    create_view_from_collection(ubi_queries_collection, \"ubi_queries\")\n",
    "    queries = from_sql(\"SELECT * FROM ubi_queries\")\n",
    "    queries_transformed = queries.rdd.map(lambda r: \n",
    "        (r[\"timestamp\"], r[\"query_id\"], r[\"client_id\"],\n",
    "         r[\"user_query\"], \"query\"))\n",
    "    return queries_transformed.toDF([\"signal_time\", \"query_id\", \"user\", \"target\", \"type\"])\n",
    "\n",
    "signals_collection = engine.create_collection(\"signals\")\n",
    "queries = create_queries_dataframe()\n",
    "events = create_events_dataframe()\n",
    "signals_collection.write(queries.union(events))"
   ]
  }
 ],
 "metadata": {
  "kernelspec": {
   "display_name": "Python 3 (ipykernel)",
   "language": "python",
   "name": "python3"
  },
  "language_info": {
   "codemirror_mode": {
    "name": "ipython",
    "version": 3
   },
   "file_extension": ".py",
   "mimetype": "text/x-python",
   "name": "python",
   "nbconvert_exporter": "python",
   "pygments_lexer": "ipython3",
   "version": "3.10.9"
  }
 },
 "nbformat": 4,
 "nbformat_minor": 2
}
