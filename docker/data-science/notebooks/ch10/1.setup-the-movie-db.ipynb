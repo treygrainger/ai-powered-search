{
 "cells": [
  {
   "cell_type": "markdown",
   "metadata": {},
   "source": [
    "# [ Chapter 10 - Learning to Rank for Generalizable Search Relevance ]\n",
    "# Setup TheMovieDB Collection"
   ]
  },
  {
   "cell_type": "code",
   "execution_count": 1,
   "metadata": {},
   "outputs": [],
   "source": [
    "import sys\n",
    "sys.path.append('..')\n",
    "from aips import *\n",
    "engine = get_engine()"
   ]
  },
  {
   "cell_type": "markdown",
   "metadata": {},
   "source": [
    "## Create Collection\n",
    "\n",
    "Create collection for http://themoviedb.org (TMDB) dataset for this book. We will just look at title, overview, and release_year fields."
   ]
  },
  {
   "cell_type": "code",
   "execution_count": 2,
   "metadata": {},
   "outputs": [
    {
     "name": "stdout",
     "output_type": "stream",
     "text": [
      "Wiping 'tmdb' collection\n",
      "Status: Success\n",
      "Creating 'tmdb' collection\n",
      "Status: Success\n",
      "Adding LTR QParser for tmdb collection\n",
      "Status: Failure; Response:[ {'responseHeader': {'status': 400, 'QTime': 8}, 'errorMessages': [\"error processing commands, errors: [{delete-queryparser=ltr, errorMessages=[NO such queryParser 'ltr' ]}], \\n\"], 'WARNING': 'This response format is experimental.  It is likely to change in the future.', 'error': {'metadata': ['error-class', 'org.apache.solr.api.ApiBag$ExceptionWithErrObject', 'root-error-class', 'org.apache.solr.api.ApiBag$ExceptionWithErrObject'], 'details': [{'delete-queryparser': 'ltr', 'errorMessages': [\"NO such queryParser 'ltr' \"]}], 'msg': \"error processing commands, errors: [{delete-queryparser=ltr, errorMessages=[NO such queryParser 'ltr' ]}], \", 'code': 400}} ]\n",
      "Status: Success\n",
      "Adding LTR Doc Transformer for tmdb collection\n",
      "Status: Failure; Response:[ {'responseHeader': {'status': 400, 'QTime': 1}, 'errorMessages': [\"error processing commands, errors: [{delete-transformer=features, errorMessages=[NO such transformer 'features' ]}], \\n\"], 'WARNING': 'This response format is experimental.  It is likely to change in the future.', 'error': {'metadata': ['error-class', 'org.apache.solr.api.ApiBag$ExceptionWithErrObject', 'root-error-class', 'org.apache.solr.api.ApiBag$ExceptionWithErrObject'], 'details': [{'delete-transformer': 'features', 'errorMessages': [\"NO such transformer 'features' \"]}], 'msg': \"error processing commands, errors: [{delete-transformer=features, errorMessages=[NO such transformer 'features' ]}], \", 'code': 400}} ]\n",
      "Status: Success\n"
     ]
    }
   ],
   "source": [
    "tmdb_collection = \"tmdb\"\n",
    "engine.create_collection(tmdb_collection)\n",
    "engine.enable_ltr(tmdb_collection)"
   ]
  },
  {
   "cell_type": "markdown",
   "metadata": {},
   "source": [
    "## Download and index data\n",
    "\n",
    "Download TMDB data and index. We also download a judgment list, labeled movies as relevant/irrelevant for several movie queries"
   ]
  },
  {
   "cell_type": "code",
   "execution_count": 9,
   "metadata": {},
   "outputs": [
    {
     "name": "stdout",
     "output_type": "stream",
     "text": [
      "data/judgments.tgz already exists\n",
      "data/movies.tgz already exists\n",
      "\n",
      "Adding Documents to 'tmdb' collection\n"
     ]
    }
   ],
   "source": [
    "from ltr.download import download, extract_tgz\n",
    "from ltr.helpers.movies import indexable_movies\n",
    "import tarfile\n",
    "import json\n",
    "\n",
    "dataset = ['https://github.com/ai-powered-search/tmdb/raw/main/judgments.tgz', \n",
    "           'https://github.com/ai-powered-search/tmdb/raw/main/movies.tgz']\n",
    "download(dataset, dest='data/')\n",
    "extract_tgz('data/movies.tgz') # -> Holds 'tmdb.json', big json dict with corpus\n",
    "extract_tgz('data/judgments.tgz') # -> Holds 'ai_pow_search_judgments.txt', \n",
    "                                  # which is our labeled judgment list\n",
    "\n",
    "movies = indexable_movies(movies='data/tmdb.json')\n",
    "engine.add_documents(tmdb_collection, list(movies))"
   ]
  },
  {
   "cell_type": "markdown",
   "metadata": {},
   "source": [
    "## Next Up, judgments and feature logging\n",
    "\n",
    "Next up we use a _judgment list_, a set of labeled relevant / irrelevant movies for search query strings. We then extract some features from the search engine to setup a full training set we can use to train a model.\n",
    "\n",
    "Up next: [Judgements and Logging](2.judgments-and-logging.ipynb)"
   ]
  }
 ],
 "metadata": {
  "kernelspec": {
   "display_name": "Python 3 (ipykernel)",
   "language": "python",
   "name": "python3"
  }
 },
 "nbformat": 4,
 "nbformat_minor": 2
}
