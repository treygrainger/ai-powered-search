{
 "cells": [
  {
   "cell_type": "code",
   "execution_count": 1,
   "metadata": {},
   "outputs": [],
   "source": [
    "import requests\n",
    "import sys\n",
    "sys.path.append('..')\n",
    "from ltr.client.solr_client import SolrClient\n",
    "\n",
    "client = SolrClient(host='http://aips-solr:8983/solr')"
   ]
  },
  {
   "cell_type": "markdown",
   "metadata": {},
   "source": [
    "# Listing 10.3 "
   ]
  },
  {
   "cell_type": "code",
   "execution_count": 2,
   "metadata": {},
   "outputs": [
    {
     "data": {
      "text/plain": [
       "Judgment(grade=1,qid=1,keywords=social network,doc_id=37799,features=[],weight=1"
      ]
     },
     "execution_count": 2,
     "metadata": {},
     "output_type": "execute_result"
    }
   ],
   "source": [
    "from ltr.judgments import Judgment\n",
    "\n",
    "Judgment(grade=1, keywords='social network', doc_id=37799)"
   ]
  },
  {
   "cell_type": "markdown",
   "metadata": {},
   "source": [
    "# Listing 10.4"
   ]
  },
  {
   "cell_type": "code",
   "execution_count": 3,
   "metadata": {},
   "outputs": [
    {
     "data": {
      "text/plain": [
       "[Judgment(grade=1,qid=1,keywords=social network,doc_id=37799,features=[],weight=1,\n",
       " Judgment(grade=0,qid=1,keywords=social network,doc_id=267752,features=[],weight=1,\n",
       " Judgment(grade=0,qid=1,keywords=social network,doc_id=38408,features=[],weight=1,\n",
       " Judgment(grade=0,qid=1,keywords=social network,doc_id=28303,features=[],weight=1,\n",
       " Judgment(grade=1,qid=2,keywords=star wars,doc_id=11,features=[],weight=1,\n",
       " Judgment(grade=1,qid=2,keywords=star wars,doc_id=1892,features=[],weight=1,\n",
       " Judgment(grade=0,qid=2,keywords=star wars,doc_id=54138,features=[],weight=1,\n",
       " Judgment(grade=0,qid=2,keywords=star wars,doc_id=85783,features=[],weight=1,\n",
       " Judgment(grade=0,qid=2,keywords=star wars,doc_id=325553,features=[],weight=1]"
      ]
     },
     "execution_count": 3,
     "metadata": {},
     "output_type": "execute_result"
    }
   ],
   "source": [
    "mini_judg_list=[\n",
    "    # for 'social network' query\n",
    "    Judgment(grade=1, keywords='social network', doc_id='37799'), #The Social Network\n",
    "    Judgment(grade=0, keywords='social network', doc_id='267752'), # #chicagoGirl\n",
    "    Judgment(grade=0, keywords='social network', doc_id='38408'), # Life As We Know It\n",
    "    Judgment(grade=0, keywords='social network', doc_id='28303'), # The Cheyenne Social Club\n",
    "    \n",
    "    # for 'star wars' query\n",
    "    Judgment(grade=1, keywords='star wars', doc_id='11'), # star wars\n",
    "    Judgment(grade=1, keywords='star wars', doc_id='1892'), # return of jedi\n",
    "    Judgment(grade=0, keywords='star wars', doc_id='54138'),# Star Trek Into Darkness\n",
    "    Judgment(grade=0, keywords='star wars', doc_id='85783'), # The Star\n",
    "    Judgment(grade=0, keywords='star wars', doc_id='325553'), # Battlestar Galactica\n",
    "]\n",
    "\n",
    "mini_judg_list"
   ]
  },
  {
   "cell_type": "markdown",
   "metadata": {},
   "source": [
    "# Listing 10.5"
   ]
  },
  {
   "cell_type": "code",
   "execution_count": 4,
   "metadata": {},
   "outputs": [
    {
     "data": {
      "text/plain": [
       "[]"
      ]
     },
     "execution_count": 4,
     "metadata": {},
     "output_type": "execute_result"
    }
   ],
   "source": [
    "mini_judg_list[0].features\n"
   ]
  },
  {
   "cell_type": "code",
   "execution_count": 5,
   "metadata": {},
   "outputs": [
    {
     "data": {
      "text/plain": [
       "'{\\n  \"responseHeader\":{\\n    \"status\":0,\\n    \"QTime\":25}}\\n'"
      ]
     },
     "execution_count": 5,
     "metadata": {},
     "output_type": "execute_result"
    }
   ],
   "source": [
    "requests.delete('http://aips-solr:8983/solr/tmdb/schema/feature-store/movies')\n",
    "\n",
    "import requests\n",
    "\n",
    "feature_set = [\n",
    "    {\n",
    "      \"name\" : \"title_bm25\",\n",
    "      \"store\": \"movies\",\n",
    "      \"class\" : \"org.apache.solr.ltr.feature.SolrFeature\",\n",
    "      \"params\" : { #q=title:({$keywords})\n",
    "        \"q\" : \"title:(${keywords})\"\n",
    "      }\n",
    "    },\n",
    "    {\n",
    "      \"name\" : \"overview_bm25\",\n",
    "      \"store\": \"movies\",\n",
    "      \"class\" : \"org.apache.solr.ltr.feature.SolrFeature\",\n",
    "      \"params\" : {\n",
    "        \"q\" : \"overview:(${keywords})\"\n",
    "      }\n",
    "    },\n",
    "    {\n",
    "      \"name\" : \"release_year\",\n",
    "      \"store\": \"movies\",\n",
    "      \"class\" : \"org.apache.solr.ltr.feature.SolrFeature\",\n",
    "      \"params\" : {\n",
    "        \"q\" : \"{!func}release_year\"\n",
    "}}]\n",
    "\n",
    "resp = requests.put('http://aips-solr:8983/solr/tmdb/schema/feature-store',\n",
    "                    json=feature_set)\n",
    "resp.text"
   ]
  },
  {
   "cell_type": "code",
   "execution_count": 7,
   "metadata": {},
   "outputs": [
    {
     "data": {
      "text/plain": [
       "{'responseHeader': {'zkConnected': True,\n",
       "  'status': 0,\n",
       "  'QTime': 112,\n",
       "  'params': {'q': 'id:37799 OR id:267752 id:38408 OR id:28303',\n",
       "   'fl': 'id,title,[features store=movies efi.keywords=\"social network\"]',\n",
       "   'rows': '10',\n",
       "   'wt': 'json'}},\n",
       " 'response': {'numFound': 4,\n",
       "  'start': 0,\n",
       "  'docs': [{'id': '28303',\n",
       "    'title': 'The Cheyenne Social Club',\n",
       "    '[features]': 'title_bm25=3.4286602,overview_bm25=3.108672,release_year=1970.0'},\n",
       "   {'id': '267752',\n",
       "    'title': '#chicagoGirl',\n",
       "    '[features]': 'title_bm25=0.0,overview_bm25=6.0172443,release_year=2013.0'},\n",
       "   {'id': '38408',\n",
       "    'title': 'Life As We Know It',\n",
       "    '[features]': 'title_bm25=0.0,overview_bm25=4.353118,release_year=2010.0'},\n",
       "   {'id': '37799',\n",
       "    'title': 'The Social Network',\n",
       "    '[features]': 'title_bm25=8.243603,overview_bm25=3.814361,release_year=2010.0'}]}}"
      ]
     },
     "execution_count": 7,
     "metadata": {},
     "output_type": "execute_result"
    }
   ],
   "source": [
    "import requests\n",
    "\n",
    "logging_solr_query = {\n",
    "    \"fl\": \"id,title,[features store=movies efi.keywords=\\\"social network\\\"]\",\n",
    "    'q': \"id:37799 OR id:267752 id:38408 OR id:28303\", #social network graded documents\n",
    "    'rows': 10,\n",
    "    'wt': 'json'  \n",
    "}\n",
    "\n",
    "resp = requests.post('http://aips-solr:8983/solr/tmdb/select',\n",
    "                     data=logging_solr_query)\n",
    "\n",
    "resp.json()"
   ]
  },
  {
   "cell_type": "code",
   "execution_count": null,
   "metadata": {},
   "outputs": [],
   "source": []
  }
 ],
 "metadata": {
  "kernelspec": {
   "display_name": "Python 3",
   "language": "python",
   "name": "python3"
  },
  "language_info": {
   "codemirror_mode": {
    "name": "ipython",
    "version": 3
   },
   "file_extension": ".py",
   "mimetype": "text/x-python",
   "name": "python",
   "nbconvert_exporter": "python",
   "pygments_lexer": "ipython3",
   "version": "3.8.5"
  }
 },
 "nbformat": 4,
 "nbformat_minor": 2
}
