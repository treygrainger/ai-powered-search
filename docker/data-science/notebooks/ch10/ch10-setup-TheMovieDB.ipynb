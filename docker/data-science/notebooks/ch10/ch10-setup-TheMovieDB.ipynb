{
 "cells": [
  {
   "cell_type": "code",
   "execution_count": null,
   "metadata": {},
   "outputs": [],
   "source": [
    "import sys\n",
    "sys.path.append('..')\n",
    "from aips import *"
   ]
  },
  {
   "cell_type": "code",
   "execution_count": null,
   "metadata": {},
   "outputs": [],
   "source": [
    "#Create Products Collection\n",
    "tmdb_collection=\"tmdb\"\n",
    "create_collection(tmdb_collection)\n",
    "enable_ltr(tmdb_collection)\n",
    "\n",
    "upsert_text_field(tmdb_collection, \"title\")\n",
    "upsert_text_field(tmdb_collection, \"overview\")\n",
    "upsert_double_field(tmdb_collection, \"release_year\")"
   ]
  },
  {
   "cell_type": "code",
   "execution_count": null,
   "metadata": {},
   "outputs": [],
   "source": [
    "from ltr import download\n",
    "\n",
    "download(['http://es-learn-to-rank.labs.o19s.com/tmdb_ai_pow_search.json'], dest='data/')\n",
    "\n",
    "from ltr.client.solr_client import SolrClient\n",
    "import json\n",
    "client = SolrClient(host='http://aips-solr:8983/solr')\n",
    "\n",
    "from ltr.index import reindex\n",
    "from ltr.helpers.movies import indexable_movies\n",
    "movies=indexable_movies(movies='data/tmdb_ai_pow_search.json')\n",
    "reindex(client, index='tmdb', doc_src=movies)"
   ]
  },
  {
   "cell_type": "code",
   "execution_count": null,
   "metadata": {},
   "outputs": [],
   "source": []
  }
 ],
 "metadata": {
  "kernelspec": {
   "display_name": "Python 3",
   "language": "python",
   "name": "python3"
  },
  "language_info": {
   "codemirror_mode": {
    "name": "ipython",
    "version": 3
   },
   "file_extension": ".py",
   "mimetype": "text/x-python",
   "name": "python",
   "nbconvert_exporter": "python",
   "pygments_lexer": "ipython3",
   "version": "3.7.6"
  }
 },
 "nbformat": 4,
 "nbformat_minor": 2
}
