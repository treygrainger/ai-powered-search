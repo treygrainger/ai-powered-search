{
 "cells": [
  {
   "cell_type": "code",
   "execution_count": null,
   "metadata": {},
   "outputs": [],
   "source": [
    "import requests\n",
    "import sys\n",
    "sys.path.append('..')\n",
    "from ltr.client.solr_client import SolrClient\n",
    "\n",
    "client = SolrClient(host='http://aips-solr:8983/solr')"
   ]
  },
  {
   "cell_type": "markdown",
   "metadata": {},
   "source": [
    "# Listing 10.3 "
   ]
  },
  {
   "cell_type": "code",
   "execution_count": null,
   "metadata": {},
   "outputs": [],
   "source": [
    "from ltr.judgments import Judgment\n",
    "\n",
    "Judgment(grade=1, keywords='social network', doc_id=37799)"
   ]
  },
  {
   "cell_type": "markdown",
   "metadata": {},
   "source": [
    "# Listing 10.4"
   ]
  },
  {
   "cell_type": "code",
   "execution_count": null,
   "metadata": {},
   "outputs": [],
   "source": [
    "mini_judg_list=[\n",
    "    # for 'social network' query\n",
    "    Judgment(grade=1, keywords='social network', doc_id='37799'), #The Social Network\n",
    "    Judgment(grade=0, keywords='social network', doc_id='267752'), # #chicagoGirl\n",
    "    Judgment(grade=0, keywords='social network', doc_id='38408'), # Life As We Know It\n",
    "    Judgment(grade=0, keywords='social network', doc_id='28303'), # The Cheyenne Social Club\n",
    "    \n",
    "    # for 'star wars' query\n",
    "    Judgment(grade=1, keywords='star wars', doc_id='11'), # star wars\n",
    "    Judgment(grade=1, keywords='star wars', doc_id='1892'), # return of jedi\n",
    "    Judgment(grade=0, keywords='star wars', doc_id='54138'),# Star Trek Into Darkness\n",
    "    Judgment(grade=0, keywords='star wars', doc_id='85783'), # The Star\n",
    "    Judgment(grade=0, keywords='star wars', doc_id='325553'), # Battlestar Galactica\n",
    "]\n",
    "\n",
    "mini_judg_list"
   ]
  },
  {
   "cell_type": "markdown",
   "metadata": {},
   "source": [
    "# Listing 10.5"
   ]
  },
  {
   "cell_type": "code",
   "execution_count": null,
   "metadata": {},
   "outputs": [],
   "source": [
    "mini_judg_list[0].features\n"
   ]
  },
  {
   "cell_type": "markdown",
   "metadata": {},
   "source": [
    "## Listing 10.6"
   ]
  },
  {
   "cell_type": "code",
   "execution_count": null,
   "metadata": {},
   "outputs": [],
   "source": [
    "requests.delete('http://aips-solr:8983/solr/tmdb/schema/feature-store/movies')\n",
    "\n",
    "import requests\n",
    "\n",
    "feature_set = [\n",
    "    {\n",
    "      \"name\" : \"title_bm25\",\n",
    "      \"store\": \"movies\",\n",
    "      \"class\" : \"org.apache.solr.ltr.feature.SolrFeature\",\n",
    "      \"params\" : { #q=title:({$keywords})\n",
    "        \"q\" : \"title:(${keywords})\"\n",
    "      }\n",
    "    },\n",
    "    {\n",
    "      \"name\" : \"overview_bm25\",\n",
    "      \"store\": \"movies\",\n",
    "      \"class\" : \"org.apache.solr.ltr.feature.SolrFeature\",\n",
    "      \"params\" : {\n",
    "        \"q\" : \"overview:(${keywords})\"\n",
    "      }\n",
    "    },\n",
    "    {\n",
    "      \"name\" : \"release_year\",\n",
    "      \"store\": \"movies\",\n",
    "      \"class\" : \"org.apache.solr.ltr.feature.SolrFeature\",\n",
    "      \"params\" : {\n",
    "        \"q\" : \"{!func}release_year\"\n",
    "}}]\n",
    "\n",
    "resp = requests.put('http://aips-solr:8983/solr/tmdb/schema/feature-store',\n",
    "                    json=feature_set)\n",
    "resp.text"
   ]
  },
  {
   "cell_type": "markdown",
   "metadata": {},
   "source": [
    "# Listing 10.07 & 10.08\n"
   ]
  },
  {
   "cell_type": "code",
   "execution_count": null,
   "metadata": {},
   "outputs": [],
   "source": [
    "import requests\n",
    "\n",
    "logging_solr_query = {\n",
    "    \"fl\": \"id,title,[features store=movies efi.keywords=\\\"social network\\\"]\",\n",
    "    'q': \"id:37799 OR id:267752 id:38408 OR id:28303\", #social network graded documents\n",
    "    'rows': 10,\n",
    "    'wt': 'json'  \n",
    "}\n",
    "\n",
    "resp = requests.post('http://aips-solr:8983/solr/tmdb/select',\n",
    "                     data=logging_solr_query)\n",
    "\n",
    "resp.json()"
   ]
  },
  {
   "cell_type": "markdown",
   "metadata": {},
   "source": [
    "\n",
    "## Listing 10.09 and 10.10 output Generation Code\n",
    "**The following code is omitted from the book, but the parsed output is included as listing 10.09**\n",
    "\n",
    "This code just shows boring parsing of the Solr logging response for a single query (CURR_QID). The FeatureLogger class does all this for you (and helps account for bookkeeping). But we do want to show what this would look like if you recreated this in your own code"
   ]
  },
  {
   "cell_type": "code",
   "execution_count": null,
   "metadata": {},
   "outputs": [],
   "source": [
    "def populate_features_for_qid(qid, solr_resp, judg_list):\n",
    "    solr_json = solr_resp.json()\n",
    "    doc_id_to_features = {}\n",
    "\n",
    "    # Map Doc Id => Features\n",
    "    for doc in solr_json['response']['docs']:\n",
    "        # Parse '[features] array', ie\n",
    "        # title_bm25=0.0,overview_bm25=13.237938,vote_average=7.0'\n",
    "        features = doc['[features]']\n",
    "        features = features.split(',')\n",
    "        features = [float(ftr.split('=')[1]) for ftr in features]\n",
    "\n",
    "        doc_id_to_features[doc['id']] = features\n",
    "\n",
    "    # Save in correct judgment\n",
    "    for judgment in judg_list:\n",
    "        if judgment.qid == qid:\n",
    "            try:\n",
    "                judgment.features = doc_id_to_features[judgment.doc_id]\n",
    "            except KeyError:\n",
    "                pass\n",
    "\n",
    "populate_features_for_qid(qid=1, solr_resp=resp, judg_list=mini_judg_list)\n",
    "mini_judg_list"
   ]
  },
  {
   "cell_type": "code",
   "execution_count": null,
   "metadata": {},
   "outputs": [],
   "source": [
    "logging_solr_query = {\n",
    "    \"fl\": \"id,title,[features store=movies efi.keywords=\\\"star wars\\\"]\",\n",
    "    'q': \"id:11 OR id:1892 OR id:54138 OR id:85783 OR id:325553\", #star wars graded documents\n",
    "    'rows': 10,\n",
    "    'wt': 'json'  \n",
    "}\n",
    "\n",
    "resp = requests.post('http://aips-solr:8983/solr/tmdb/select',\n",
    "                     data=logging_solr_query)\n",
    "\n",
    "populate_features_for_qid(qid=2, solr_resp=resp, judg_list=mini_judg_list)\n",
    "\n",
    "mini_judg_list"
   ]
  },
  {
   "cell_type": "markdown",
   "metadata": {},
   "source": [
    "## Loading / logging training set (omitted from book)"
   ]
  },
  {
   "cell_type": "code",
   "execution_count": null,
   "metadata": {},
   "outputs": [],
   "source": [
    "from ltr.log import FeatureLogger\n",
    "from ltr.judgments import judgments_open\n",
    "from itertools import groupby\n",
    "from ltr import download\n",
    "\n",
    "judgments='http://es-learn-to-rank.labs.o19s.com/ai_pow_search_judgments.txt'\n",
    "download([judgments], dest='data/')\n",
    "\n",
    "ftr_logger=FeatureLogger(client, index='tmdb', feature_set='movies')\n",
    "\n",
    "with judgments_open('data/ai_pow_search_judgments.txt') as judgment_list:\n",
    "    for qid, query_judgments in groupby(judgment_list, key=lambda j: j.qid):\n",
    "        ftr_logger.log_for_qid(judgments=query_judgments, \n",
    "                               qid=qid,\n",
    "                               keywords=judgment_list.keywords(qid))\n",
    "    \n",
    "ftr_logger.logged"
   ]
  },
  {
   "cell_type": "code",
   "execution_count": null,
   "metadata": {},
   "outputs": [],
   "source": []
  }
 ],
 "metadata": {
  "kernelspec": {
   "display_name": "Python 3",
   "language": "python",
   "name": "python3"
  },
  "language_info": {
   "codemirror_mode": {
    "name": "ipython",
    "version": 3
   },
   "file_extension": ".py",
   "mimetype": "text/x-python",
   "name": "python",
   "nbconvert_exporter": "python",
   "pygments_lexer": "ipython3",
   "version": "3.7.6"
  }
 },
 "nbformat": 4,
 "nbformat_minor": 2
}
