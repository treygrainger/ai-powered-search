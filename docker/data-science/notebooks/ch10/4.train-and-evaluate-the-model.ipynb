{
 "cells": [
  {
   "cell_type": "markdown",
   "metadata": {},
   "source": [
    "# Train a Model, Evaluate, and Use in the Search Engine\n",
    "\n",
    "In these last few steps we train a model using the pairwise training set generated [in the previous step](3.pairwise-transform.ipynb)."
   ]
  },
  {
   "cell_type": "code",
   "execution_count": 1,
   "metadata": {},
   "outputs": [],
   "source": [
    "from itertools import groupby\n",
    "import numpy as np\n",
    "import random\n",
    "import requests\n",
    "import sys\n",
    "sys.path.append('..')\n",
    "from aips import *\n",
    "import json\n",
    "import math\n",
    "\n",
    "engine = get_engine()\n",
    "ltr = get_ltr_engine()\n",
    "tmdb_collection = engine.get_collection(\"tmdb\")"
   ]
  },
  {
   "cell_type": "markdown",
   "metadata": {},
   "source": [
    "## Reload judgments & training set\n",
    "\n",
    "Load the dataset generated [from the previous section](3.pairwise-transform.ipynb)."
   ]
  },
  {
   "cell_type": "code",
   "execution_count": 2,
   "metadata": {},
   "outputs": [
    {
     "name": "stdout",
     "output_type": "stream",
     "text": [
      "Parsing QID 100\n"
     ]
    }
   ],
   "source": [
    "from ltr.judgments import judgments_open\n",
    "\n",
    "predictor_deltas = np.load(\"data/predictor_deltas.npy\")\n",
    "feature_data = np.load(\"data/feature_data.npy\")\n",
    "\n",
    "std_devs = feature_data[-1]\n",
    "means = feature_data[-2]\n",
    "feature_deltas = feature_data[:-2]\n",
    "\n",
    "normed_judgments = []\n",
    "with judgments_open(\"data/normed_judgments.txt\") as judg_list:\n",
    "    for j in judg_list:\n",
    "        normed_judgments.append(j)"
   ]
  },
  {
   "cell_type": "markdown",
   "metadata": {},
   "source": [
    "## Listing 10.12\n",
    "\n",
    "Train the model with the fully transformed dataset"
   ]
  },
  {
   "cell_type": "code",
   "execution_count": 3,
   "metadata": {},
   "outputs": [
    {
     "name": "stdout",
     "output_type": "stream",
     "text": [
      "[LibLinear]"
     ]
    },
    {
     "data": {
      "text/plain": [
       "array([[0.40512184, 0.29006366, 0.14451721]])"
      ]
     },
     "execution_count": 3,
     "metadata": {},
     "output_type": "execute_result"
    }
   ],
   "source": [
    "from sklearn import svm\n",
    "model = svm.LinearSVC(max_iter=10000, verbose=1)\n",
    "model.fit(feature_deltas, predictor_deltas)\n",
    "model.coef_"
   ]
  },
  {
   "cell_type": "markdown",
   "metadata": {},
   "source": [
    "## A few sample features (omitted from book)\n",
    "\n",
    "Gathering features from a few movies \"Star Trek II: The Wrath of Khan\" and \"Star Trek III: Search for Spock\" to kick the tires of our model."
   ]
  },
  {
   "cell_type": "code",
   "execution_count": 4,
   "metadata": {},
   "outputs": [
    {
     "data": {
      "text/plain": [
       "[-0.4319807665098383, -0.444478207387438, -0.4675688993325839]"
      ]
     },
     "execution_count": 4,
     "metadata": {},
     "output_type": "execute_result"
    }
   ],
   "source": [
    "# If you wanted to confirm Wrath of Khans features\n",
    "\n",
    "ids = [\"154\"] #social network graded documents\n",
    "options = {\"keywords\": \"wrath of khan\"}\n",
    "response = ltr.log_query(tmdb_collection, \"movies\", ids, options=options, fields=[\"id\", \"title\"])\n",
    "\n",
    "# Features Solr returns\n",
    "# Wrath of Khan\n",
    "wok_features = [5.9217176, 3.401492, 1982.0]\n",
    "# Search For Spock\n",
    "spock_features = [0.0,0.0,1984.0]\n",
    "\n",
    "# Wrath of Khan\n",
    "normed_wok_features = [0, 0, 0]\n",
    "for idx, f in enumerate(wok_features):\n",
    "    normed_wok_features[idx] = (f - means[idx]) / std_devs[idx]\n",
    "\n",
    "normed_spock_features = [0, 0, 0]\n",
    "for idx, f in enumerate(spock_features):\n",
    "    normed_spock_features[idx] = (f - means[idx]) / std_devs[idx]\n",
    "    \n",
    "normed_spock_features"
   ]
  },
  {
   "cell_type": "markdown",
   "metadata": {},
   "source": [
    "## Taking the model for test drive... (omitted from book)\n",
    "\n",
    "Here we score a few documents with the model. This code is omitted from the book, but is explored in section 10.6.2"
   ]
  },
  {
   "cell_type": "code",
   "execution_count": 5,
   "metadata": {},
   "outputs": [
    {
     "data": {
      "text/plain": [
       "-0.3715035724290449"
      ]
     },
     "execution_count": 5,
     "metadata": {},
     "output_type": "execute_result"
    }
   ],
   "source": [
    "def score_one(features, model):\n",
    "    score = 0.0\n",
    "    for idx, f in enumerate(features):\n",
    "        this_coef = model.coef_[0][idx].item()\n",
    "        score += f * this_coef\n",
    "    \n",
    "    return score\n",
    "\n",
    "def rank(query_judgments, model):\n",
    "    for j in query_judgments:\n",
    "        j.score = score_one(j.features, model)\n",
    "    \n",
    "    return sorted(query_judgments, key=lambda j: j.score, reverse=True)\n",
    "\n",
    "score_one(normed_spock_features, model)"
   ]
  },
  {
   "cell_type": "markdown",
   "metadata": {},
   "source": [
    "Wrath of Khan should score higher"
   ]
  },
  {
   "cell_type": "code",
   "execution_count": 6,
   "metadata": {},
   "outputs": [
    {
     "data": {
      "text/plain": [
       "1.702523726774056"
      ]
     },
     "execution_count": 6,
     "metadata": {},
     "output_type": "execute_result"
    }
   ],
   "source": [
    "score_one(normed_wok_features, model)"
   ]
  },
  {
   "cell_type": "markdown",
   "metadata": {},
   "source": [
    "## Listing 10.13 Test Training Split"
   ]
  },
  {
   "cell_type": "code",
   "execution_count": 7,
   "metadata": {},
   "outputs": [],
   "source": [
    "all_qids = list(set([j.qid for j in normed_judgments]))\n",
    "\n",
    "random.seed(1234)\n",
    "random.shuffle(all_qids)\n",
    "proportion_train = 0.1\n",
    "\n",
    "test_train_split_idx = int(len(all_qids) * proportion_train)\n",
    "test_qids = all_qids[:test_train_split_idx]\n",
    "train_qids = all_qids[test_train_split_idx:]\n",
    "\n",
    "train_data = []; test_data=[]\n",
    "for j in normed_judgments:\n",
    "    if j.qid in train_qids:\n",
    "        train_data.append(j)\n",
    "    elif j.qid in test_qids:\n",
    "        test_data.append(j)"
   ]
  },
  {
   "cell_type": "markdown",
   "metadata": {},
   "source": [
    "## Repeated from earlier - parwise transform\n",
    "\n",
    "You've already seen this code in the third notebook, so you can move on. We just need it here to do a pairwise_transform of the training data to train a model."
   ]
  },
  {
   "cell_type": "code",
   "execution_count": 8,
   "metadata": {},
   "outputs": [],
   "source": [
    "import numpy as np\n",
    "from ltr.judgments import judgments_from_file, judgments_to_nparray\n",
    "\n",
    "def pairwise_transform(normed_judgments):\n",
    "        \n",
    "    from itertools import groupby\n",
    "    predictor_deltas = []\n",
    "    feature_deltas = []\n",
    "    \n",
    "    # For each query's judgments\n",
    "    for qid, query_judgments in groupby(normed_judgments, key=lambda j: j.qid):\n",
    "\n",
    "        # Annoying issue consuming python iterators, we ensure we have two\n",
    "        # full copies of each query's judgments\n",
    "        query_judgments_copy_1 = list(query_judgments) \n",
    "        query_judgments_copy_2 = list(query_judgments_copy_1)\n",
    "\n",
    "        # Examine every judgment combo for this query, \n",
    "        # if they're different, store the pairwise difference:\n",
    "        # +1 if judgment1 more relevant\n",
    "        # -1 if judgment2 more relevant\n",
    "        for judgment1 in query_judgments_copy_1:\n",
    "            for judgment2 in query_judgments_copy_2:\n",
    "                \n",
    "                j1_features=np.array(judgment1.features)\n",
    "                j2_features=np.array(judgment2.features)\n",
    "                \n",
    "                if judgment1.grade > judgment2.grade:\n",
    "                    predictor_deltas.append(+1)\n",
    "                    feature_deltas.append(j1_features - j2_features)\n",
    "                elif judgment1.grade < judgment2.grade:\n",
    "                    predictor_deltas.append(-1)\n",
    "                    feature_deltas.append(j1_features - j2_features)\n",
    "\n",
    "    # For training purposes, we return these as numpy arrays\n",
    "    return np.array(feature_deltas), np.array(predictor_deltas)"
   ]
  },
  {
   "cell_type": "markdown",
   "metadata": {},
   "source": [
    "## Listing 10.14 - train on just train data\n",
    "\n",
    "We repeat the model training process only on the train subset of the queries. Notice because our test/training split is at the query level we repeat the pairwise transform we did earlier"
   ]
  },
  {
   "cell_type": "code",
   "execution_count": 9,
   "metadata": {},
   "outputs": [
    {
     "name": "stdout",
     "output_type": "stream",
     "text": [
      "[LibLinear]"
     ]
    },
    {
     "data": {
      "text/plain": [
       "array([[0.37486805, 0.28187457, 0.12097922]])"
      ]
     },
     "execution_count": 9,
     "metadata": {},
     "output_type": "execute_result"
    }
   ],
   "source": [
    "train_feature_deltas, train_predictor_deltas = pairwise_transform(train_data)\n",
    "\n",
    "from sklearn import svm\n",
    "model = svm.LinearSVC(max_iter=10000, verbose=1)\n",
    "model.fit(train_feature_deltas, train_predictor_deltas)\n",
    "model.coef_"
   ]
  },
  {
   "cell_type": "markdown",
   "metadata": {},
   "source": [
    "## Listing 10.15 - eval model on test data\n",
    "\n",
    "Here we compute a simple precision metric (proportion of relevant results in top N) averaged over all the test data. It's important to note this is not a very robust statistical analysis of the model's quality, we would want to perform multiple test-training samples and perform statistical significance testing between this experiment and a baseline"
   ]
  },
  {
   "cell_type": "code",
   "execution_count": 10,
   "metadata": {},
   "outputs": [
    {
     "data": {
      "text/plain": [
       "0.425"
      ]
     },
     "execution_count": 10,
     "metadata": {},
     "output_type": "execute_result"
    }
   ],
   "source": [
    "def evaluate_model(test_data, model, n=4):\n",
    "    total_precision = 0\n",
    "    unique_queries = groupby(test_data, lambda j: j.qid)\n",
    "    num_groups = 0\n",
    "    for qid, query_judgments in unique_queries:\n",
    "        num_groups += 1\n",
    "        ranked = rank(list(query_judgments), model)\n",
    "        total_relevant = len([j for j in ranked[:n] if j.grade == 1])\n",
    "        total_precision += total_relevant / float(n)\n",
    "    return total_precision / num_groups\n",
    "\n",
    "evaluate_model(test_data, model)"
   ]
  },
  {
   "cell_type": "markdown",
   "metadata": {},
   "source": [
    "# Listing 10.16 - A Solr model\n",
    "\n",
    "This turns the model into one usable by Solr by telling Solr\n",
    "\n",
    "- The weights for each (normalized) feature\n",
    "- The means to use to normalize each feature\n",
    "- The std deviation used to normalize each feature"
   ]
  },
  {
   "cell_type": "code",
   "execution_count": 11,
   "metadata": {},
   "outputs": [
    {
     "name": "stdout",
     "output_type": "stream",
     "text": [
      "{\n",
      "  \"store\": \"movies\",\n",
      "  \"class\": \"org.apache.solr.ltr.model.LinearModel\",\n",
      "  \"name\": \"movie_model\",\n",
      "  \"features\": [\n",
      "    {\n",
      "      \"name\": \"title_bm25\",\n",
      "      \"norm\": {\n",
      "        \"class\": \"org.apache.solr.ltr.norm.StandardNormalizer\",\n",
      "        \"params\": {\n",
      "          \"avg\": \"0.7245440735518126\",\n",
      "          \"std\": \"1.6772600303613545\"\n",
      "        }\n",
      "      }\n",
      "    },\n",
      "    {\n",
      "      \"name\": \"overview_bm25\",\n",
      "      \"norm\": {\n",
      "        \"class\": \"org.apache.solr.ltr.norm.StandardNormalizer\",\n",
      "        \"params\": {\n",
      "          \"avg\": \"0.6662927508611409\",\n",
      "          \"std\": \"1.4990448120673643\"\n",
      "        }\n",
      "      }\n",
      "    },\n",
      "    {\n",
      "      \"name\": \"release_year\",\n",
      "      \"norm\": {\n",
      "        \"class\": \"org.apache.solr.ltr.norm.StandardNormalizer\",\n",
      "        \"params\": {\n",
      "          \"avg\": \"1993.3349740932642\",\n",
      "          \"std\": \"19.964916628520722\"\n",
      "        }\n",
      "      }\n",
      "    }\n",
      "  ],\n",
      "  \"params\": {\n",
      "    \"weights\": {\n",
      "      \"title_bm25\": 0.37486804920929745,\n",
      "      \"overview_bm25\": 0.2818745653954488,\n",
      "      \"release_year\": 0.12097922060239638\n",
      "    }\n",
      "  }\n",
      "}\n"
     ]
    }
   ],
   "source": [
    "feature_names = [\"title_bm25\", \"overview_bm25\", \"release_year\"]\n",
    "linear_model = ltr.generate_model(\"movies\", \"movie_model\", feature_names,\n",
    "                                  means, std_devs, model.coef_[0])\n",
    "response = ltr.upload_model(tmdb_collection, linear_model)\n",
    "\n",
    "print(json.dumps(linear_model, indent=2))"
   ]
  },
  {
   "cell_type": "markdown",
   "metadata": {},
   "source": [
    "## Listing 10.17 - Solr query w/ model\n",
    "\n",
    "Issuing a Solr query to execute the model on nearly the full corpus "
   ]
  },
  {
   "cell_type": "code",
   "execution_count": 12,
   "metadata": {},
   "outputs": [
    {
     "name": "stdout",
     "output_type": "stream",
     "text": [
      "Search Request:\n",
      "{\n",
      "  \"query\": \"{!ltr reRankDocs=60000 model=movie_model efi.keywords=\\\"harry potter\\\"}\",\n",
      "  \"limit\": 5,\n",
      "  \"params\": {\n",
      "    \"ident\": \"true\",\n",
      "    \"omitHeader\": \"true\",\n",
      "    \"log\": true\n",
      "  },\n",
      "  \"fields\": [\n",
      "    \"title\",\n",
      "    \"id\",\n",
      "    \"score\"\n",
      "  ]\n",
      "}\n",
      "\n",
      "Returned Documents:\n",
      "[\n",
      "  {\n",
      "    \"id\": \"570724\",\n",
      "    \"title\": \"The Story of Harry Potter\",\n",
      "    \"score\": 2.57654\n",
      "  },\n",
      "  {\n",
      "    \"id\": \"116972\",\n",
      "    \"title\": \"Discovering the Real World of Harry Potter\",\n",
      "    \"score\": 2.3650618\n",
      "  },\n",
      "  {\n",
      "    \"id\": \"672\",\n",
      "    \"title\": \"Harry Potter and the Chamber of Secrets\",\n",
      "    \"score\": 2.129026\n",
      "  },\n",
      "  {\n",
      "    \"id\": \"671\",\n",
      "    \"title\": \"Harry Potter and the Philosopher's Stone\",\n",
      "    \"score\": 2.109296\n",
      "  },\n",
      "  {\n",
      "    \"id\": \"393135\",\n",
      "    \"title\": \"Harry Potter and the Ten Years Later\",\n",
      "    \"score\": 2.048223\n",
      "  }\n",
      "]\n"
     ]
    }
   ],
   "source": [
    "request = ltr.generate_query(\"movie_model\", \"harry potter\",\n",
    "                             [\"title\", \"id\", \"score\"], log=True)\n",
    "response = tmdb_collection.search(**request)\n",
    "documents = response[\"docs\"]\n",
    "\n",
    "print(\"\\nReturned Documents:\")\n",
    "print(json.dumps(documents, indent=\"  \"))"
   ]
  },
  {
   "cell_type": "markdown",
   "metadata": {},
   "source": [
    "## Listing 10.18 - Solr query w/ model and reranking\n",
    "\n",
    "Issuing a Solr query reranking the top 500 documents on top of a simpler baseline `edismax` search."
   ]
  },
  {
   "cell_type": "code",
   "execution_count": 13,
   "metadata": {},
   "outputs": [
    {
     "name": "stdout",
     "output_type": "stream",
     "text": [
      "Search Request:\n",
      "{\n",
      "  \"query\": \"harry potter\",\n",
      "  \"limit\": 5,\n",
      "  \"params\": {\n",
      "    \"defType\": \"edismax\",\n",
      "    \"ident\": \"true\",\n",
      "    \"omitHeader\": \"true\",\n",
      "    \"log\": true,\n",
      "    \"rq\": \"{!ltr reRankDocs=500 model=movie_model efi.keywords=\\\"harry potter\\\"}\",\n",
      "    \"qf\": [\n",
      "      \"title\",\n",
      "      \"overview\"\n",
      "    ]\n",
      "  },\n",
      "  \"fields\": [\n",
      "    \"title\",\n",
      "    \"id\",\n",
      "    \"score\"\n",
      "  ]\n",
      "}\n",
      "\n",
      "Returned Documents:\n",
      "[\n",
      "  {\n",
      "    \"id\": \"570724\",\n",
      "    \"title\": \"The Story of Harry Potter\",\n",
      "    \"score\": 2.57654\n",
      "  },\n",
      "  {\n",
      "    \"id\": \"116972\",\n",
      "    \"title\": \"Discovering the Real World of Harry Potter\",\n",
      "    \"score\": 2.3650618\n",
      "  },\n",
      "  {\n",
      "    \"id\": \"672\",\n",
      "    \"title\": \"Harry Potter and the Chamber of Secrets\",\n",
      "    \"score\": 2.129026\n",
      "  },\n",
      "  {\n",
      "    \"id\": \"671\",\n",
      "    \"title\": \"Harry Potter and the Philosopher's Stone\",\n",
      "    \"score\": 2.109296\n",
      "  },\n",
      "  {\n",
      "    \"id\": \"54507\",\n",
      "    \"title\": \"A Very Potter Musical\",\n",
      "    \"score\": 2.0859373\n",
      "  }\n",
      "]\n"
     ]
    }
   ],
   "source": [
    "request = ltr.generate_query(\"movie_model\", \"harry potter\", [\"title\", \"id\", \"score\"], rerank=500, log=True)\n",
    "response = tmdb_collection.search(**request)\n",
    "documents = response[\"docs\"]\n",
    "\n",
    "print(\"\\nReturned Documents:\")\n",
    "print(json.dumps(documents, indent=\"  \"))"
   ]
  },
  {
   "cell_type": "markdown",
   "metadata": {},
   "source": [
    "## Rinse and repeat!\n",
    "\n",
    "What would you change about this model or the features used? Maybe revisit [the features](2.judgments-and-logging.ipynb) to explore some different ideas?\n",
    "\n",
    "Up next: [Chapter 11: Automating Learning to Rank with Click Models](../ch11/0.setup.ipynb)"
   ]
  }
 ],
 "metadata": {
  "kernelspec": {
   "display_name": "Python 3 (ipykernel)",
   "language": "python",
   "name": "python3"
  }
 },
 "nbformat": 4,
 "nbformat_minor": 2
}
