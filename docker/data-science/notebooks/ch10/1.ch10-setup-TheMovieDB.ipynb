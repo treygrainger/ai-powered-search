{
 "cells": [
  {
   "cell_type": "code",
   "execution_count": null,
   "metadata": {},
   "outputs": [],
   "source": [
    "import sys\n",
    "sys.path.append('..')\n",
    "from aips import *"
   ]
  },
  {
   "cell_type": "markdown",
   "metadata": {},
   "source": [
    "# Create Collection\n",
    "\n",
    "Create collection for http://themoviedb.org (TMDB) dataset for this book. We will just look at title, overview, and release_year fields."
   ]
  },
  {
   "cell_type": "code",
   "execution_count": null,
   "metadata": {},
   "outputs": [],
   "source": [
    "tmdb_collection=\"tmdb\"\n",
    "create_collection(tmdb_collection)\n",
    "enable_ltr(tmdb_collection)\n",
    "\n",
    "upsert_text_field(tmdb_collection, \"title\")\n",
    "upsert_text_field(tmdb_collection, \"overview\")\n",
    "upsert_double_field(tmdb_collection, \"release_year\")"
   ]
  },
  {
   "cell_type": "markdown",
   "metadata": {},
   "source": [
    "## Download and index data\n",
    "\n",
    "Download TMDB data and index"
   ]
  },
  {
   "cell_type": "code",
   "execution_count": null,
   "metadata": {},
   "outputs": [],
   "source": [
    "from ltr.download import download, extract_tgz\n",
    "import tarfile\n",
    "\n",
    "download(['https://github.com/ai-powered-search/tmdb/raw/main/movies.tgz'], dest='data/')\n",
    "extract_tgz('data/movies.tgz') # -> Holds 'tmdb.json', big json dict with corpus\n",
    "\n",
    "from ltr.client.solr_client import SolrClient\n",
    "import json\n",
    "client = SolrClient(host='http://aips-solr:8983/solr')\n",
    "\n",
    "from ltr.index import reindex\n",
    "from ltr.helpers.movies import indexable_movies\n",
    "movies=indexable_movies(movies='data/tmdb.json')\n",
    "reindex(client, index='tmdb', doc_src=movies)"
   ]
  },
  {
   "cell_type": "code",
   "execution_count": null,
   "metadata": {},
   "outputs": [],
   "source": []
  }
 ],
 "metadata": {
  "kernelspec": {
   "display_name": "Python 3",
   "language": "python",
   "name": "python3"
  },
  "language_info": {
   "codemirror_mode": {
    "name": "ipython",
    "version": 3
   },
   "file_extension": ".py",
   "mimetype": "text/x-python",
   "name": "python",
   "nbconvert_exporter": "python",
   "pygments_lexer": "ipython3",
   "version": "3.7.6"
  }
 },
 "nbformat": 4,
 "nbformat_minor": 2
}
