{
 "cells": [
  {
   "cell_type": "markdown",
   "metadata": {},
   "source": [
    "# Train model, evaluate, use in Solr\n",
    "\n",
    "In these last few steps we train a model using the pairwise training set generated [in the previous step](3.ch10-pairwise-transform.ipynb)."
   ]
  },
  {
   "cell_type": "code",
   "execution_count": 1,
   "metadata": {},
   "outputs": [],
   "source": [
    "import requests\n",
    "import sys\n",
    "sys.path.append('..')\n",
    "\n",
    "import numpy as np"
   ]
  },
  {
   "cell_type": "markdown",
   "metadata": {},
   "source": [
    "## Reload judgments & training set\n",
    "\n",
    "Load the dataset generated [from the previous section](http://localhost:8888/notebooks/ch10/3.ch10-pairwise-transform.ipynb)."
   ]
  },
  {
   "cell_type": "code",
   "execution_count": 2,
   "metadata": {},
   "outputs": [
    {
     "name": "stdout",
     "output_type": "stream",
     "text": [
      "Recognizing 105 queries...\n",
      "Parsing QID 100\n"
     ]
    }
   ],
   "source": [
    "from ltr.judgments import judgments_open\n",
    "\n",
    "predictor_deltas = np.load('data/predictor_deltas.npy')\n",
    "feature_data = np.load('data/feature_data.npy')\n",
    "\n",
    "std_devs = feature_data[-1]\n",
    "means = feature_data[-2]\n",
    "feature_deltas = feature_data[:-2]\n",
    "\n",
    "normed_judgments = []\n",
    "with judgments_open('data/normed_judgments.txt') as judg_list:\n",
    "    for j in judg_list:\n",
    "        normed_judgments.append(j)"
   ]
  },
  {
   "cell_type": "markdown",
   "metadata": {},
   "source": [
    "## Listing 10.12\n",
    "\n",
    "Train the model with the fully transformed dataset"
   ]
  },
  {
   "cell_type": "code",
   "execution_count": 3,
   "metadata": {},
   "outputs": [
    {
     "name": "stdout",
     "output_type": "stream",
     "text": [
      "[LibLinear]"
     ]
    },
    {
     "data": {
      "text/plain": [
       "array([[0.4051217 , 0.29006362, 0.14451721]])"
      ]
     },
     "execution_count": 3,
     "metadata": {},
     "output_type": "execute_result"
    }
   ],
   "source": [
    "from sklearn import svm\n",
    "model = svm.LinearSVC(max_iter=10000, verbose=1)\n",
    "model.fit(feature_deltas, predictor_deltas)\n",
    "model.coef_"
   ]
  },
  {
   "cell_type": "markdown",
   "metadata": {},
   "source": [
    "## A few sample features (omitted from book)\n",
    "\n",
    "Gathering features from a few movies \"Star Trek II: The Wrath of Khan\" and \"Star Trek III: Search for Spock\" to kick the tires of our model."
   ]
  },
  {
   "cell_type": "code",
   "execution_count": 4,
   "metadata": {},
   "outputs": [
    {
     "data": {
      "text/plain": [
       "[-0.4319807665098383, -0.444478207387438, -0.4675688993325839]"
      ]
     },
     "execution_count": 4,
     "metadata": {},
     "output_type": "execute_result"
    }
   ],
   "source": [
    "# If you wanted to confirm Wrath of Khans features\n",
    "import requests\n",
    "\n",
    "logging_solr_query = {\n",
    "    \"fl\": \"id,title,[features store=movies efi.keywords=\\\"wrath of khan\\\"]\",\n",
    "    'q': \"id:154\", #social network graded documents\n",
    "    'rows': 10,\n",
    "    'wt': 'json'  \n",
    "}\n",
    "\n",
    "resp = requests.post('http://aips-solr:8983/solr/tmdb/select',\n",
    "                     data=logging_solr_query)\n",
    "\n",
    "# Features Solr returns\n",
    "# Wrath of Khan\n",
    "wok_features = [5.9217176, 3.401492, 1982.0]\n",
    "# Search For Spock\n",
    "spock_features = [0.0,0.0,1984.0]\n",
    "\n",
    "# Wrath of Khan\n",
    "normed_wok_features = [0,0,0]\n",
    "for idx, f in enumerate(wok_features):\n",
    "    normed_wok_features[idx] = (f - means[idx]) / std_devs[idx]\n",
    "\n",
    "normed_spock_features = [0,0,0]\n",
    "for idx, f in enumerate(spock_features):\n",
    "    normed_spock_features[idx] = (f - means[idx]) / std_devs[idx]\n",
    "    \n",
    "normed_spock_features"
   ]
  },
  {
   "cell_type": "markdown",
   "metadata": {},
   "source": [
    "## Taking the model for test drive... (omitted from book)\n",
    "\n",
    "Here we score a few documents with the model. This code is omitted from the book, but is explored in section 10.6.2"
   ]
  },
  {
   "cell_type": "code",
   "execution_count": 5,
   "metadata": {},
   "outputs": [
    {
     "data": {
      "text/plain": [
       "-0.37150349744042205"
      ]
     },
     "execution_count": 5,
     "metadata": {},
     "output_type": "execute_result"
    }
   ],
   "source": [
    "def score_one(features, model):\n",
    "    score = 0.0\n",
    "    for idx, f in enumerate(features):\n",
    "        this_coef = model.coef_[0][idx].item()\n",
    "        score += f * this_coef\n",
    "    \n",
    "    return score\n",
    "\n",
    "def rank(query_judgments, model):\n",
    "    for j in query_judgments:\n",
    "        j.score = score_one(j.features, model)\n",
    "    \n",
    "    return sorted(query_judgments, key=lambda j: j.score, reverse=True)\n",
    "\n",
    "score_one(normed_spock_features, model)"
   ]
  },
  {
   "cell_type": "markdown",
   "metadata": {},
   "source": [
    "Wrath of Khan should score higher"
   ]
  },
  {
   "cell_type": "code",
   "execution_count": 6,
   "metadata": {},
   "outputs": [
    {
     "data": {
      "text/plain": [
       "1.7025232323576733"
      ]
     },
     "execution_count": 6,
     "metadata": {},
     "output_type": "execute_result"
    }
   ],
   "source": [
    "score_one(normed_wok_features, model)"
   ]
  },
  {
   "cell_type": "markdown",
   "metadata": {},
   "source": [
    "## Listing 10.13 Test Training Split"
   ]
  },
  {
   "cell_type": "code",
   "execution_count": 7,
   "metadata": {},
   "outputs": [],
   "source": [
    "import random\n",
    "\n",
    "all_qids = list(set([j.qid for j in normed_judgments]))\n",
    "random.shuffle(all_qids)\n",
    "\n",
    "proportion_train=0.1\n",
    "\n",
    "test_train_split_idx = int(len(all_qids) * proportion_train)\n",
    "test_qids=all_qids[:test_train_split_idx]\n",
    "train_qids=all_qids[test_train_split_idx:]\n",
    "\n",
    "test_qids,train_qids\n",
    "\n",
    "train_data = []; test_data=[]\n",
    "for j in normed_judgments:\n",
    "    if j.qid in train_qids:\n",
    "        train_data.append(j)\n",
    "    elif j.qid in test_qids:\n",
    "        test_data.append(j)"
   ]
  },
  {
   "cell_type": "markdown",
   "metadata": {},
   "source": [
    "## Repeated from earlier - parwise transform\n",
    "\n",
    "You've already seen this code in the third notebook, so you can move on. We just need it here to do a pairwise_transform of the training data to train a model."
   ]
  },
  {
   "cell_type": "code",
   "execution_count": 8,
   "metadata": {},
   "outputs": [],
   "source": [
    "import numpy as np\n",
    "from ltr.judgments import judgments_from_file, judgments_to_nparray\n",
    "\n",
    "def pairwise_transform(normed_judgments):\n",
    "        \n",
    "    from itertools import groupby\n",
    "    predictor_deltas = []\n",
    "    feature_deltas = []\n",
    "    \n",
    "    # For each query's judgments\n",
    "    for qid, query_judgments in groupby(normed_judgments, key=lambda j: j.qid):\n",
    "\n",
    "        # Annoying issue consuming python iterators, we ensure we have two\n",
    "        # full copies of each query's judgments\n",
    "        query_judgments_copy_1 = list(query_judgments) \n",
    "        query_judgments_copy_2 = list(query_judgments_copy_1)\n",
    "\n",
    "        # Examine every judgment combo for this query, \n",
    "        # if they're different, store the pairwise difference:\n",
    "        # +1 if judgment1 more relevant\n",
    "        # -1 if judgment2 more relevant\n",
    "        for judgment1 in query_judgments_copy_1:\n",
    "            for judgment2 in query_judgments_copy_2:\n",
    "                \n",
    "                j1_features=np.array(judgment1.features)\n",
    "                j2_features=np.array(judgment2.features)\n",
    "                \n",
    "                if judgment1.grade > judgment2.grade:\n",
    "                    predictor_deltas.append(+1)\n",
    "                    feature_deltas.append(j1_features-j2_features)\n",
    "                elif judgment1.grade < judgment2.grade:\n",
    "                    predictor_deltas.append(-1)\n",
    "                    feature_deltas.append(j1_features-j2_features)\n",
    "\n",
    "    # For training purposes, we return these as numpy arrays\n",
    "    return np.array(feature_deltas), np.array(predictor_deltas)"
   ]
  },
  {
   "cell_type": "markdown",
   "metadata": {},
   "source": [
    "## Listing 10.14 - train on just train data\n",
    "\n",
    "We repeat the model training process only on the train subset of the queries. Notice because our test/training split is at the query level we repeat the pairwise transform we did earlier"
   ]
  },
  {
   "cell_type": "code",
   "execution_count": 9,
   "metadata": {},
   "outputs": [
    {
     "name": "stdout",
     "output_type": "stream",
     "text": [
      "[LibLinear]"
     ]
    },
    {
     "data": {
      "text/plain": [
       "array([[0.36941965, 0.30224808, 0.1442751 ]])"
      ]
     },
     "execution_count": 9,
     "metadata": {},
     "output_type": "execute_result"
    }
   ],
   "source": [
    "train_feature_deltas, train_predictor_deltas = pairwise_transform(train_data)\n",
    "\n",
    "from sklearn import svm\n",
    "model = svm.LinearSVC(max_iter=10000, verbose=1)\n",
    "model.fit(train_feature_deltas, train_predictor_deltas)\n",
    "model.coef_"
   ]
  },
  {
   "cell_type": "markdown",
   "metadata": {},
   "source": [
    "## Listing 10.15 - eval model on test data\n",
    "\n",
    "Here we compute a simple precision metric (proportion of relevant results in top N) averaged over all the test data. It's important to note this is not a very robust statistical analysis of the model's quality, we would want to perform multiple test-training samples and perform statistical significance testing between this experiment and a baseline"
   ]
  },
  {
   "cell_type": "code",
   "execution_count": 10,
   "metadata": {},
   "outputs": [
    {
     "data": {
      "text/plain": [
       "0.525"
      ]
     },
     "execution_count": 10,
     "metadata": {},
     "output_type": "execute_result"
    }
   ],
   "source": [
    "def eval_model(test_data, model):\n",
    "    from itertools import groupby\n",
    "    \n",
    "    tot_prec = 0\n",
    "    num_queries = 0\n",
    "\n",
    "    for qid, query_judgments in groupby(test_data, key=lambda j: j.qid):\n",
    "        query_judgments = list(query_judgments)\n",
    "\n",
    "        ranked = rank(query_judgments, model)\n",
    "\n",
    "        tot_relevant = 0\n",
    "        for j in ranked[:4]:\n",
    "            if j.grade == 1:\n",
    "                tot_relevant += 1\n",
    "        query_prec = tot_relevant/4.0\n",
    "        tot_prec += query_prec\n",
    "        num_queries += 1\n",
    "    \n",
    "    return tot_prec / num_queries\n",
    "\n",
    "eval_model(test_data, model)"
   ]
  },
  {
   "cell_type": "markdown",
   "metadata": {},
   "source": [
    "# Listing 10.16 - A Solr model\n",
    "\n",
    "This turns the model into one usable by Solr by telling Solr\n",
    "\n",
    "- The weights for each (normalized) feature\n",
    "- The means to use to normalize each feature\n",
    "- The std deviation used to normalize each feature"
   ]
  },
  {
   "cell_type": "code",
   "execution_count": 11,
   "metadata": {},
   "outputs": [
    {
     "name": "stdout",
     "output_type": "stream",
     "text": [
      "PUT http://aips-solr:8983/solr/tmdb/schema/model-store\n",
      "{\n",
      "  \"store\": \"movies\",\n",
      "  \"class\": \"org.apache.solr.ltr.model.LinearModel\",\n",
      "  \"name\": \"movie_model\",\n",
      "  \"features\": [\n",
      "    {\n",
      "      \"name\": \"title_bm25\",\n",
      "      \"norm\": {\n",
      "        \"class\": \"org.apache.solr.ltr.norm.StandardNormalizer\",\n",
      "        \"params\": {\n",
      "          \"avg\": \"0.7245440735518126\",\n",
      "          \"std\": \"1.6772600303613545\"\n",
      "        }\n",
      "      }\n",
      "    },\n",
      "    {\n",
      "      \"name\": \"overview_bm25\",\n",
      "      \"norm\": {\n",
      "        \"class\": \"org.apache.solr.ltr.norm.StandardNormalizer\",\n",
      "        \"params\": {\n",
      "          \"avg\": \"0.6662927508611409\",\n",
      "          \"std\": \"1.4990448120673643\"\n",
      "        }\n",
      "      }\n",
      "    },\n",
      "    {\n",
      "      \"name\": \"release_year\",\n",
      "      \"norm\": {\n",
      "        \"class\": \"org.apache.solr.ltr.norm.StandardNormalizer\",\n",
      "        \"params\": {\n",
      "          \"avg\": \"1993.3349740932642\",\n",
      "          \"std\": \"19.964916628520722\"\n",
      "        }\n",
      "      }\n",
      "    }\n",
      "  ],\n",
      "  \"params\": {\n",
      "    \"weights\": {\n",
      "      \"title_bm25\": 0.3694196520463688,\n",
      "      \"overview_bm25\": 0.30224807926340486,\n",
      "      \"release_year\": 0.1442750963752498\n",
      "    }\n",
      "  }\n",
      "}\n"
     ]
    },
    {
     "data": {
      "text/plain": [
       "<Response [200]>"
      ]
     },
     "execution_count": 11,
     "metadata": {},
     "output_type": "execute_result"
    }
   ],
   "source": [
    "import json\n",
    "\n",
    "linear_model = {\n",
    "  \"store\": \"movies\",\n",
    "  \"class\": \"org.apache.solr.ltr.model.LinearModel\",\n",
    "  \"name\": \"movie_model\",\n",
    "  \"features\": [\n",
    "  ],\n",
    "  \"params\": {\n",
    "      \"weights\": {\n",
    "      }\n",
    "  }\n",
    "}\n",
    "\n",
    "import math\n",
    "ftr_model = {}\n",
    "ftr_names = ['title_bm25', 'overview_bm25', 'release_year']\n",
    "for idx, ftr_name in enumerate(ftr_names):\n",
    "    config = {\n",
    "        \"name\": ftr_name,\n",
    "        \"norm\": {\n",
    "            \"class\": \"org.apache.solr.ltr.norm.StandardNormalizer\",\n",
    "            \"params\": {\n",
    "                \"avg\": str(means[idx]),\n",
    "                \"std\": str(std_devs[idx])\n",
    "            }\n",
    "        }\n",
    "    }\n",
    "    linear_model['features'].append(config)\n",
    "    linear_model['params']['weights'][ftr_name] =  model.coef_[0][idx] \n",
    "\n",
    "print(\"PUT http://aips-solr:8983/solr/tmdb/schema/model-store\")\n",
    "print(json.dumps(linear_model, indent=2))\n",
    "\n",
    "# Upload the model\n",
    "requests.put('http://aips-solr:8983/solr/tmdb/schema/model-store', json=linear_model)"
   ]
  },
  {
   "cell_type": "markdown",
   "metadata": {},
   "source": [
    "## Listing 10.17 - Solr query w/ model\n",
    "\n",
    "Issuing a Solr query to execute the model on nearly the full corpus "
   ]
  },
  {
   "cell_type": "code",
   "execution_count": 12,
   "metadata": {},
   "outputs": [
    {
     "data": {
      "text/plain": [
       "[{'id': '570724', 'title': 'The Story of Harry Potter', 'score': 2.5266695},\n",
       " {'id': '116972',\n",
       "  'title': 'Discovering the Real World of Harry Potter',\n",
       "  'score': 2.3415773},\n",
       " {'id': '672',\n",
       "  'title': 'Harry Potter and the Chamber of Secrets',\n",
       "  'score': 2.0953102},\n",
       " {'id': '54507', 'title': 'A Very Potter Musical', 'score': 2.0889816},\n",
       " {'id': '671',\n",
       "  'title': \"Harry Potter and the Philosopher's Stone\",\n",
       "  'score': 2.0615337}]"
      ]
     },
     "execution_count": 12,
     "metadata": {},
     "output_type": "execute_result"
    }
   ],
   "source": [
    "request = {\n",
    "    \"fields\": [\"title\", \"id\", \"score\"],\n",
    "    \"limit\": 5,\n",
    "    \"params\": {\n",
    "      \"q\": \"{!ltr reRankDocs=60000 model=movie_model efi.keywords=\\\"harry potter\\\"}\",\n",
    "     \n",
    "    }\n",
    "}\n",
    "\n",
    "resp = requests.post('http://aips-solr:8983/solr/tmdb/select', json=request)\n",
    "\n",
    "resp.json()[\"response\"][\"docs\"]"
   ]
  },
  {
   "cell_type": "markdown",
   "metadata": {},
   "source": [
    "## Listing 10.18 - Solr query w/ model and reranking\n",
    "\n",
    "Issuing a Solr query reranking the top 500 documents on top of a simpler baseline `edismax` search."
   ]
  },
  {
   "cell_type": "code",
   "execution_count": 13,
   "metadata": {},
   "outputs": [
    {
     "data": {
      "text/plain": [
       "[{'id': '570724', 'title': 'The Story of Harry Potter', 'score': 2.5266695},\n",
       " {'id': '116972',\n",
       "  'title': 'Discovering the Real World of Harry Potter',\n",
       "  'score': 2.3415773},\n",
       " {'id': '672',\n",
       "  'title': 'Harry Potter and the Chamber of Secrets',\n",
       "  'score': 2.0953102},\n",
       " {'id': '54507', 'title': 'A Very Potter Musical', 'score': 2.0889816},\n",
       " {'id': '671',\n",
       "  'title': \"Harry Potter and the Philosopher's Stone\",\n",
       "  'score': 2.0615337}]"
      ]
     },
     "execution_count": 13,
     "metadata": {},
     "output_type": "execute_result"
    }
   ],
   "source": [
    "request = {\n",
    "    \"fields\": [\"title\", \"id\", \"score\"],\n",
    "    \"limit\": 5,\n",
    "    \"params\": {\n",
    "      \"rq\": \"{!ltr reRankDocs=500 model=movie_model efi.keywords=\\\"harry potter\\\"}\",\n",
    "      \"qf\": \"title overview\",\n",
    "      \"defType\": \"edismax\",\n",
    "      \"q\": \"harry potter\"\n",
    "    }\n",
    "}\n",
    "\n",
    "resp = requests.post('http://aips-solr:8983/solr/tmdb/select', json=request)\n",
    "\n",
    "resp.json()[\"response\"][\"docs\"]"
   ]
  },
  {
   "cell_type": "markdown",
   "metadata": {},
   "source": [
    "## Rinse and repeat!\n",
    "\n",
    "What would you change about this model or the features used? Maybe revisit [the features](2.ch10-judgments-and-logging.ipynb) to explore some different ideas?"
   ]
  }
 ],
 "metadata": {
  "kernelspec": {
   "display_name": "Python 3",
   "language": "python",
   "name": "python3"
  },
  "language_info": {
   "codemirror_mode": {
    "name": "ipython",
    "version": 3
   },
   "file_extension": ".py",
   "mimetype": "text/x-python",
   "name": "python",
   "nbconvert_exporter": "python",
   "pygments_lexer": "ipython3",
   "version": "3.7.6"
  }
 },
 "nbformat": 4,
 "nbformat_minor": 2
}
