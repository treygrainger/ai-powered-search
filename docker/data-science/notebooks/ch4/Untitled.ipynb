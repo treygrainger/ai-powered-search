{
 "cells": [
  {
   "cell_type": "code",
   "execution_count": null,
   "metadata": {},
   "outputs": [],
   "source": [
    "import pyspark\n",
    "\n",
    "solr_df = sparkSession\n",
    ".read\n",
    ".format(\"solr\")\n",
    ".option(\"collection\",\"exammple\")\n",
    ".option(\"zkhost\",\"localhost:2181\")\n",
    ".load()\n",
    "\n",
    "df = spark.read.format(\"solr\").option(\"collection\", \"logs\").load()"
   ]
  }
 ],
 "metadata": {
  "kernelspec": {
   "display_name": "Python 3",
   "language": "python",
   "name": "python3"
  },
  "language_info": {
   "codemirror_mode": {
    "name": "ipython",
    "version": 3
   },
   "file_extension": ".py",
   "mimetype": "text/x-python",
   "name": "python",
   "nbconvert_exporter": "python",
   "pygments_lexer": "ipython3",
   "version": "3.7.4"
  }
 },
 "nbformat": 4,
 "nbformat_minor": 2
}
