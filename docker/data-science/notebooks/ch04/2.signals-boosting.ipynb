{
 "cells": [
  {
   "cell_type": "markdown",
   "metadata": {},
   "source": [
    "# Signals Boosting"
   ]
  },
  {
   "cell_type": "markdown",
   "metadata": {},
   "source": [
    "NOTE: This notebook depends upon the the Retrotech dataset. If you have any issues, please rerun the [Setting up the Retrotech Dataset](1.setting-up-the-retrotech-dataset.ipynb) notebook."
   ]
  },
  {
   "cell_type": "code",
   "execution_count": null,
   "metadata": {},
   "outputs": [],
   "source": [
    "#%load <shared py file> product_search_request\n",
    "import sys\n",
    "sys.path.append('..')\n",
    "from aips import *  \n",
    "from pyspark.sql import SparkSession\n",
    "engine = get_engine()\n",
    "spark = SparkSession.builder.appName(\"AIPS\").getOrCreate()\n",
    "products_collection = engine.get_collection(\"products\")"
   ]
  },
  {
   "cell_type": "markdown",
   "metadata": {},
   "source": [
    "## Keyword Search with No Signals Boosting"
   ]
  },
  {
   "cell_type": "markdown",
   "metadata": {},
   "source": [
    "### Listing 4.5"
   ]
  },
  {
   "cell_type": "code",
   "execution_count": null,
   "metadata": {},
   "outputs": [],
   "source": [
    "query = \"ipad\"\n",
    "request = product_search_request(query)\n",
    "response = products_collection.search(request)\n",
    "display_product_search(query, engine.docs_from_response(response))"
   ]
  },
  {
   "cell_type": "markdown",
   "metadata": {},
   "source": [
    "## Create Signals Boosts (Signals Aggregation)"
   ]
  },
  {
   "cell_type": "markdown",
   "metadata": {},
   "source": [
    "### Listing 4.6"
   ]
  },
  {
   "cell_type": "code",
   "execution_count": null,
   "metadata": {
    "scrolled": true
   },
   "outputs": [],
   "source": [
    "signals_collection = engine.get_collection(\"signals\")\n",
    "\n",
    "signals_boosting_collection = engine.create_collection(\"signals_boosting\")\n",
    "print(\"Aggregating Signals to Create Signals Boosts...\")\n",
    "create_view(signals_collection, \"signals\")\n",
    "\n",
    "signals_aggregation_query = \"\"\"\n",
    "SELECT q.target AS query, c.target AS doc, COUNT(c.target) AS boost\n",
    "FROM signals c LEFT JOIN signals q ON c.query_id = q.query_id\n",
    "WHERE c.type = 'click' AND q.type = 'query'\n",
    "GROUP BY query, doc\n",
    "ORDER BY boost DESC\n",
    "\"\"\"\n",
    "\n",
    "dataframe = spark.sql(signals_aggregation_query)\n",
    "signals_boosting_collection.write_from_dataframe(dataframe)\n",
    "print(\"Signals Aggregation Completed!\")"
   ]
  },
  {
   "cell_type": "markdown",
   "metadata": {},
   "source": [
    "## Search with Signals Boosts Applied"
   ]
  },
  {
   "cell_type": "markdown",
   "metadata": {},
   "source": [
    "### Listing 4.7"
   ]
  },
  {
   "cell_type": "code",
   "execution_count": null,
   "metadata": {},
   "outputs": [],
   "source": [
    "query = \"ipad\"\n",
    "signals_boosts_query = {\n",
    "    \"query\": query,\n",
    "    \"fields\": [\"doc\", \"boost\"],\n",
    "    \"limit\": 10,\n",
    "    \"params\": {\n",
    "        \"defType\": \"edismax\",\n",
    "        \"qf\": \"query\",\n",
    "        \"sort\": \"boost desc\"\n",
    "    }\n",
    "}\n",
    "response = signals_boosting_collection.search(signals_boosts_query)\n",
    "boosts_docs = engine.docs_from_response(response)\n",
    "print(f\"Boost Documents: \\n{boosts_docs}\")\n",
    "product_boosts = \" \".join([f'\"{entry[\"doc\"]}\"^{str(entry[\"boost\"])}' \n",
    "                           for entry in boosts_docs])\n",
    "print(f\"\\nBoost Query: \\n{product_boosts}\")\n",
    "\n",
    "request = product_search_request(query)\n",
    "request[\"params\"][\"boost\"] = \"sum(1,query({! df=upc v=$signals_boosting}))\"\n",
    "request[\"params\"][\"signals_boosting\"] = product_boosts\n",
    "response = products_collection.search(request)\n",
    "display_product_search(query, (response))"
   ]
  },
  {
   "cell_type": "markdown",
   "metadata": {},
   "source": [
    "## Success!\n",
    "\n",
    "You have now implemented your first AI-powered search algorithm: Signals Boosting. This is an overly simplistic implementation (we'll dive much deeper into signals boosting improvements in chapter 8), but it demonstrates the power of leveraging reflected intelligence quite well. We will dive into other Reflected Intelligence techniques in future chapters, such as Collaborative Filtering (in chapter 9 - Personalized Search) and Machine-learned Ranking (in chapter 10 - Learning to Rank).\n",
    "\n",
    "Up next: Chapter 5 - [Knowledge Graph Learning](../ch05/1.open-information-extraction.ipynb)\n",
    "\n"
   ]
  }
 ],
 "metadata": {
  "kernelspec": {
   "display_name": "Python 3 (ipykernel)",
   "language": "python",
   "name": "python3"
  },
  "language_info": {
   "codemirror_mode": {
    "name": "ipython",
    "version": 3
   },
   "file_extension": ".py",
   "mimetype": "text/x-python",
   "name": "python",
   "nbconvert_exporter": "python",
   "pygments_lexer": "ipython3",
   "version": "3.10.9"
  }
 },
 "nbformat": 4,
 "nbformat_minor": 2
}
