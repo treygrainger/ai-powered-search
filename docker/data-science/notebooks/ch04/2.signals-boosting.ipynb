{
 "cells": [
  {
   "cell_type": "markdown",
   "metadata": {},
   "source": [
    "# Signals Boosting"
   ]
  },
  {
   "cell_type": "markdown",
   "metadata": {},
   "source": [
    "NOTE: This notebook depends upon the the Retrotech dataset. If you have any issues, please rerun the [Setting up the Retrotech Dataset](1.setting-up-the-retrotech-dataset.ipynb) notebook."
   ]
  },
  {
   "cell_type": "code",
   "execution_count": null,
   "metadata": {},
   "outputs": [],
   "source": [
    "%load_ext run_cell_extension\n",
    "%run_cell ch04/1.setting-up-the-retrotech-dataset.ipynb 1\n",
    "%run_cell ch04/1.setting-up-the-retrotech-dataset.ipynb 12"
   ]
  },
  {
   "cell_type": "markdown",
   "metadata": {},
   "source": [
    "## Keyword Search with No Signals Boosting"
   ]
  },
  {
   "cell_type": "markdown",
   "metadata": {},
   "source": [
    "### Listing 4.5"
   ]
  },
  {
   "cell_type": "code",
   "execution_count": null,
   "metadata": {},
   "outputs": [],
   "source": [
    "query = \"ipad\"\n",
    "collection = \"products\"\n",
    "request = product_search_request(query)\n",
    "response = engine.search(collection, request)\n",
    "display_product_search(query, engine.docs(response))"
   ]
  },
  {
   "cell_type": "markdown",
   "metadata": {},
   "source": [
    "## Create Signals Boosts (Signals Aggregation)"
   ]
  },
  {
   "cell_type": "markdown",
   "metadata": {},
   "source": [
    "### Listing 4.6"
   ]
  },
  {
   "cell_type": "code",
   "execution_count": null,
   "metadata": {
    "scrolled": true
   },
   "outputs": [],
   "source": [
    "products_collection=\"products\"\n",
    "signals_collection=\"signals\"\n",
    "signals_boosting_collection=\"signals_boosting\"\n",
    "\n",
    "engine.create_collection(signals_boosting_collection)\n",
    "\n",
    "print(\"Aggregating Signals to Create Signals Boosts...\")\n",
    "signals_opts={\"zkhost\": \"aips-zk\", \"collection\": signals_collection}\n",
    "df = spark.read.format(\"solr\").options(**signals_opts).load()\n",
    "df.createOrReplaceTempView(\"signals\")\n",
    "\n",
    "signals_aggregation_query = \"\"\"\n",
    "select q.target as query, c.target as doc, count(c.target) as boost\n",
    "  from signals c left join signals q on c.query_id = q.query_id\n",
    "  where c.type = 'click' AND q.type = 'query'\n",
    "  group by query, doc\n",
    "  order by boost desc\n",
    "\"\"\"\n",
    "\n",
    "signals_boosting_opts={\"zkhost\": \"aips-zk\", \"collection\": signals_boosting_collection, \n",
    "                       \"gen_uniq_key\": \"true\", \"commit_within\": \"5000\"}\n",
    "spark.sql(signals_aggregation_query).write.format(\"solr\").options(**signals_boosting_opts).mode(\"overwrite\").save()\n",
    "print(\"Signals Aggregation Completed!\")"
   ]
  },
  {
   "cell_type": "markdown",
   "metadata": {},
   "source": [
    "## Search with Signals Boosts Applied"
   ]
  },
  {
   "cell_type": "markdown",
   "metadata": {},
   "source": [
    "### Listing 4.7"
   ]
  },
  {
   "cell_type": "code",
   "execution_count": null,
   "metadata": {},
   "outputs": [],
   "source": [
    "query = \"ipad\"\n",
    "signals_boosts_query = {\n",
    "    \"query\": query,\n",
    "    \"fields\": [\"doc\", \"boost\"],\n",
    "    \"limit\": 10,\n",
    "    \"params\": {\n",
    "        \"defType\": \"edismax\",\n",
    "        \"qf\": \"query\",\n",
    "        \"sort\": \"boost desc\"\n",
    "    }\n",
    "}\n",
    "boosts = engine.docs(engine.search(signals_boosting_collection, signals_boosts_query))\n",
    "print(f\"Boost Documents: \\n{boosts}\")\n",
    "product_boosts = \" \".join([f'\"{entry[\"doc\"]}\"^{str(entry[\"boost\"])}' \n",
    "                           for entry in boosts])\n",
    "print(f\"\\nBoost Query: \\n{product_boosts}\")\n",
    "\n",
    "request = product_search_request(query)\n",
    "request[\"params\"][\"boost\"] = \"sum(1,query({! df=upc v=$signals_boosting}))\"\n",
    "request[\"params\"][\"signals_boosting\"] = product_boosts\n",
    "response = engine.search(products_collection, request)\n",
    "display_product_search(query, engine.docs(response))"
   ]
  },
  {
   "cell_type": "markdown",
   "metadata": {},
   "source": [
    "## Success!\n",
    "\n",
    "You have now implemented your first AI-powered search algorithm: Signals Boosting. This is an overly simplistic implementation (we'll dive much deeper into signals boosting improvements in chapter 8), but it demonstrates the power of leveraging reflected intelligence quite well. We will dive into other Reflected Intelligence techniques in future chapters, such as Collaborative Filtering (in chapter 9 - Personalized Search) and Machine-learned Ranking (in chapter 10 - Learning to Rank).\n",
    "\n",
    "Up next: Chapter 5 - [Knowledge Graph Learning](../ch05/1.open-information-extraction.ipynb)\n",
    "\n"
   ]
  }
 ],
 "metadata": {
  "kernelspec": {
   "display_name": "Python 3 (ipykernel)",
   "language": "python",
   "name": "python3"
  },
  "language_info": {
   "codemirror_mode": {
    "name": "ipython",
    "version": 3
   },
   "file_extension": ".py",
   "mimetype": "text/x-python",
   "name": "python",
   "nbconvert_exporter": "python",
   "pygments_lexer": "ipython3",
   "version": "3.10.9"
  }
 },
 "nbformat": 4,
 "nbformat_minor": 2
}
