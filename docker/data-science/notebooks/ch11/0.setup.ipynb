{
 "cells": [
  {
   "cell_type": "markdown",
   "metadata": {},
   "source": [
    "# [ Chapter 11 - Automating Learning to Rank with Click Models ]\n",
    "# Indexing Search Sessions Data"
   ]
  },
  {
   "cell_type": "markdown",
   "metadata": {},
   "source": [
    "**NOTE**: This notebook depends upon the the Retrotech dataset. If you have any issues, please rerun the [Setting up the Retrotech Dataset](../ch04/1.setting-up-the-retrotech-dataset.ipyn) notebook or execute the next cell uncommented."
   ]
  },
  {
   "cell_type": "code",
   "execution_count": 9,
   "metadata": {},
   "outputs": [
    {
     "name": "stdout",
     "output_type": "stream",
     "text": [
      "Cloning into 'retrotech'...\n",
      "remote: Enumerating objects: 19, done.\u001b[K\n",
      "remote: Counting objects: 100% (19/19), done.\u001b[K\n",
      "remote: Compressing objects: 100% (19/19), done.\u001b[K\n",
      "remote: Total 19 (delta 0), reused 18 (delta 0), pack-reused 0\u001b[K\n",
      "Receiving objects: 100% (19/19), 48.29 MiB | 29.95 MiB/s, done.\n",
      "Already up to date.\n",
      "products.csv\n",
      "signals.csv\n"
     ]
    }
   ],
   "source": [
    "#import sys\n",
    "#sys.path.append('..')\n",
    "#%run ch04/1.setting-up-the-retrotech-dataset.ipynb"
   ]
  },
  {
   "cell_type": "markdown",
   "metadata": {},
   "source": [
    "Download simulated raw clickstream data"
   ]
  },
  {
   "cell_type": "code",
   "execution_count": 1,
   "metadata": {},
   "outputs": [
    {
     "name": "stdout",
     "output_type": "stream",
     "text": [
      "data/dryer_sessions.gz already exists\n",
      "data/bluray_sessions.gz already exists\n",
      "data/blue ray_sessions.gz already exists\n",
      "data/headphones_sessions.gz already exists\n",
      "data/ipad_sessions.gz already exists\n",
      "data/iphone_sessions.gz already exists\n",
      "data/kindle_sessions.gz already exists\n",
      "data/lcd tv_sessions.gz already exists\n",
      "data/macbook_sessions.gz already exists\n",
      "data/nook_sessions.gz already exists\n",
      "data/star trek_sessions.gz already exists\n",
      "data/star wars_sessions.gz already exists\n",
      "data/transformers dark of the moon_sessions.gz already exists\n"
     ]
    }
   ],
   "source": [
    "from ltr import download\n",
    "simulated_queries = [\"dryer\", \"bluray\", \"blue ray\", \"headphones\", \"ipad\", \"iphone\",\n",
    "                     \"kindle\", \"lcd tv\", \"macbook\", \"nook\", \"star trek\", \"star wars\",\n",
    "                     \"transformers dark of the moon\"]\n",
    "\n",
    "sessions = [f\"https://github.com/ai-powered-search/retrotech/raw/master/sessions/{query}_sessions.gz\"\n",
    "            for query in simulated_queries]\n",
    "\n",
    "download(sessions, dest=\"data/\")"
   ]
  },
  {
   "cell_type": "markdown",
   "metadata": {},
   "source": [
    "Up next: [Your First Click Model: Click Thru Rate](1.click-through-rate-judgments.ipynb)"
   ]
  }
 ],
 "metadata": {
  "kernelspec": {
   "display_name": "Python 3 (ipykernel)",
   "language": "python",
   "name": "python3"
  },
  "language_info": {
   "codemirror_mode": {
    "name": "ipython",
    "version": 3
   },
   "file_extension": ".py",
   "mimetype": "text/x-python",
   "name": "python",
   "nbconvert_exporter": "python",
   "pygments_lexer": "ipython3",
   "version": "3.10.9"
  }
 },
 "nbformat": 4,
 "nbformat_minor": 2
}
