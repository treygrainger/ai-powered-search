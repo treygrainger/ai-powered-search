{
 "cells": [
  {
   "cell_type": "markdown",
   "metadata": {},
   "source": [
    "# Working with Semantic Knowledge Graphs"
   ]
  },
  {
   "cell_type": "code",
   "execution_count": null,
   "metadata": {},
   "outputs": [],
   "source": [
    "import sys\n",
    "sys.path.append('..')\n",
    "from aips import *\n",
    "import os\n",
    "import json\n",
    "from IPython.core.display import display,HTML\n",
    "from pyspark.sql import SparkSession\n",
    "spark = SparkSession.builder.appName(\"aips-ch5\").getOrCreate()"
   ]
  },
  {
   "cell_type": "markdown",
   "metadata": {},
   "source": [
    "## Listing 5.4"
   ]
  },
  {
   "cell_type": "code",
   "execution_count": 2,
   "metadata": {},
   "outputs": [
    {
     "name": "stdout",
     "output_type": "stream",
     "text": [
      "advil  0.70986\n",
      "motrin  0.59897\n",
      "aleve  0.4662\n",
      "ibuprofen  0.38264\n",
      "alleve  0.36649\n",
      "tylenol  0.33048\n",
      "naproxen  0.31226\n",
      "acetaminophen  0.17706\n"
     ]
    }
   ],
   "source": [
    "collection=\"health\"\n",
    "query=\"advil\"\n",
    "\n",
    "request = {\n",
    "    \"params\": {\n",
    "        \"qf\": \"title body\",\n",
    "        \"fore\": \"{!type=$defType qf=$qf v=$q}\",\n",
    "        \"back\": \"*:*\",\n",
    "        \"defType\": \"edismax\",\n",
    "        \"rows\": 0,\n",
    "        \"echoParams\": \"none\",\n",
    "        \"omitHeader\": \"true\"\n",
    "    },\n",
    "    \"query\": query,\n",
    "    \"facet\": {\n",
    "        \"body\": {\n",
    "            \"type\": \"terms\",\n",
    "            \"field\": \"body\",\n",
    "            \"sort\": { \"relatedness\": \"desc\"},\n",
    "            \"mincount\": 2,\n",
    "            \"limit\": 8,\n",
    "            \"facet\": {\n",
    "                \"relatedness\": {\n",
    "                    \"type\": \"func\",\n",
    "                    \"func\": \"relatedness($fore,$back)\"\n",
    "                    #\"min_popularity\": 0.0005\n",
    "                }\n",
    "            }            \n",
    "        }\n",
    "    }\n",
    "}\n",
    "\n",
    "search_results = requests.post(f\"{SOLR_URL}/{collection}/select\", json=request).json()\n",
    "\n",
    "for bucket in search_results[\"facets\"][\"body\"][\"buckets\"]:\n",
    "    print(f'{bucket[\"val\"]}  {bucket[\"relatedness\"][\"relatedness\"]}')"
   ]
  },
  {
   "cell_type": "markdown",
   "metadata": {},
   "source": [
    "## Listing 5.5"
   ]
  },
  {
   "cell_type": "code",
   "execution_count": 3,
   "metadata": {},
   "outputs": [
    {
     "name": "stdout",
     "output_type": "stream",
     "text": [
      "vibranium  0.94921\n",
      "wakandan  0.84076\n",
      "adamantium  0.82988\n",
      "wakanda  0.81583\n",
      "maclain  0.78532\n",
      "klaw  0.78185\n",
      "alloy  0.77749\n",
      "america's  0.76702\n"
     ]
    }
   ],
   "source": [
    "query = \"vibranium\"\n",
    "\n",
    "collection=\"stackexchange\"\n",
    "\n",
    "request = {\n",
    "    \"query\": query,\n",
    "    \"params\": {\n",
    "        \"qf\": \"title body\",\n",
    "        \"fore\": \"{!type=$defType qf=$qf v=$q}\",\n",
    "        \"back\": \"*:*\",\n",
    "        \"defType\": \"edismax\",\n",
    "        \"rows\": 0,\n",
    "        \"echoParams\": \"none\",\n",
    "        \"omitHeader\": \"true\"\n",
    "    },\n",
    "    \"facet\": {\n",
    "        \"body\": {\n",
    "            \"type\": \"terms\",\n",
    "            \"field\": \"body\",\n",
    "            \"sort\": { \"relatedness\": \"desc\"},\n",
    "            \"mincount\": 2,\n",
    "            \"limit\": 8,\n",
    "            \"facet\": {\n",
    "                \"relatedness\": {\n",
    "                    \"type\": \"func\",\n",
    "                    \"func\": \"relatedness($fore,$back)\"\n",
    "                    #\"min_popularity\": 0.0005\n",
    "                }\n",
    "            }            \n",
    "        }\n",
    "    }\n",
    "}\n",
    "\n",
    "search_results = requests.post(f\"{SOLR_URL}/{collection}/select\", json=request).json()\n",
    "\n",
    "for bucket in search_results[\"facets\"][\"body\"][\"buckets\"]:\n",
    "    print(f'{bucket[\"val\"]}  {bucket[\"relatedness\"][\"relatedness\"]}')"
   ]
  },
  {
   "cell_type": "markdown",
   "metadata": {},
   "source": [
    "## Listing 5.6"
   ]
  },
  {
   "cell_type": "markdown",
   "metadata": {},
   "source": [
    "## Query Augmentation"
   ]
  },
  {
   "cell_type": "code",
   "execution_count": 4,
   "metadata": {},
   "outputs": [
    {
     "name": "stdout",
     "output_type": "stream",
     "text": [
      "Expanded Query:\n",
      "vibranium^5 vibranium^0.94921  wakandan^0.84076  adamantium^0.82988  wakanda^0.81583  maclain^0.78532  klaw^0.78185  alloy^0.77749  america's^0.76702\n"
     ]
    }
   ],
   "source": [
    "query_expansion = \"\"\n",
    "\n",
    "terms = search_results[\"facets\"][\"body\"][\"buckets\"]\n",
    "\n",
    "for bucket in search_results[\"facets\"][\"body\"][\"buckets\"]:\n",
    "    term = bucket[\"val\"]\n",
    "    boost = bucket[\"relatedness\"][\"relatedness\"]\n",
    "    if len(query_expansion) > 0: \n",
    "        query_expansion += \" \"\n",
    "    query_expansion += f\" {term}^{boost}\"\n",
    "\n",
    "expanded_query = f\"{query}^5{query_expansion}\"\n",
    "\n",
    "print(f\"Expanded Query:\\n{expanded_query}\")"
   ]
  },
  {
   "cell_type": "markdown",
   "metadata": {},
   "source": [
    "## Listing 5.7"
   ]
  },
  {
   "cell_type": "code",
   "execution_count": 5,
   "metadata": {},
   "outputs": [
    {
     "name": "stdout",
     "output_type": "stream",
     "text": [
      "Simple Query Expansion:\n",
      "q={!edismax qf=\"title body\" mm=\"0%\"}vibranium  vibranium^0.94921  wakandan^0.84076  adamantium^0.82988  wakanda^0.81583  maclain^0.78532  klaw^0.78185  alloy^0.77749  america's^0.76702\n",
      "\n",
      "Increased Precision, Reduced Recall Query:\n",
      "q={!edismax qf=\"title body\" mm=\"30%\"}vibranium  vibranium^0.94921  wakandan^0.84076  adamantium^0.82988  wakanda^0.81583  maclain^0.78532  klaw^0.78185  alloy^0.77749  america's^0.76702\n",
      "\n",
      "Increased Precision, No Reduction in Recall:\n",
      "q={!edismax qf=\"title body\" mm=\"2\"}vibranium AND vibranium^0.94921  wakandan^0.84076  adamantium^0.82988  wakanda^0.81583  maclain^0.78532  klaw^0.78185  alloy^0.77749  america's^0.76702\n",
      "\n",
      "Slightly Increased Recall Query:\n",
      "q={!edismax qf=\"title body\" mm=\"2\"}vibranium vibranium^0.94921  wakandan^0.84076  adamantium^0.82988  wakanda^0.81583  maclain^0.78532  klaw^0.78185  alloy^0.77749  america's^0.76702\n",
      "\n",
      "Same Results, Better Conceptual Ranking:\n",
      "q={!edismax qf=\"title body\" mm=\"2\"}vibranium&boost=query($expanded_query)&expanded_query= vibranium^0.94921  wakandan^0.84076  adamantium^0.82988  wakanda^0.81583  maclain^0.78532  klaw^0.78185  alloy^0.77749  america's^0.76702\n"
     ]
    }
   ],
   "source": [
    "simple_expansion = 'q={!edismax qf=\"title body\" mm=\"0%\"}' + query + \" \" + query_expansion\n",
    "increase_conceptual_precision = 'q={!edismax qf=\"title body\" mm=\"30%\"}' + query + \" \" + query_expansion\n",
    "increase_precision_reduce_recall = 'q={!edismax qf=\"title body\" mm=\"2\"}' + query + \" AND\" + ( query_expansion )\n",
    "slightly_increased_recall = 'q={!edismax qf=\"title body\" mm=\"2\"}' + query + query_expansion\n",
    "same_results_better_ranking = 'q={!edismax qf=\"title body\" mm=\"2\"}' + query \\\n",
    "  + \"&boost=\" + \"query($expanded_query)&expanded_query=\" + query_expansion\n",
    "\n",
    "print(f\"Simple Query Expansion:\\n{simple_expansion}\")\n",
    "print(f\"\\nIncreased Precision, Reduced Recall Query:\\n{increase_conceptual_precision}\")\n",
    "print(f\"\\nIncreased Precision, No Reduction in Recall:\\n{increase_precision_reduce_recall}\")\n",
    "print(f\"\\nSlightly Increased Recall Query:\\n{slightly_increased_recall}\")\n",
    "print(f\"\\nSame Results, Better Conceptual Ranking:\\n{same_results_better_ranking}\")\n",
    "\n",
    "#TODO, actually run the search"
   ]
  },
  {
   "cell_type": "markdown",
   "metadata": {},
   "source": [
    "## Content-based Recommendations"
   ]
  },
  {
   "cell_type": "code",
   "execution_count": 6,
   "metadata": {},
   "outputs": [],
   "source": [
    "request_template = {\n",
    "    \"params\": {\n",
    "        \"qf\": \"body\",\n",
    "        \"fore\": \"{!type=$defType qf=$qf v=$q}\",\n",
    "        \"back\": \"*:*\",\n",
    "        \"relatedness_func\": \"relatedness($fore,$back)\",\n",
    "        \"defType\": \"edismax\",\n",
    "        \"rows\": 0,\n",
    "        \"echoParams\": \"none\",\n",
    "        \"omitHeader\": \"true\",\n",
    "        \"mm\": \"100%\"\n",
    "    },\n",
    "    \"facet\": { }\n",
    "}"
   ]
  },
  {
   "cell_type": "markdown",
   "metadata": {},
   "source": [
    "## Listing 5.8"
   ]
  },
  {
   "cell_type": "code",
   "execution_count": 7,
   "metadata": {},
   "outputs": [
    {
     "name": "stdout",
     "output_type": "stream",
     "text": [
      "http://aips-solr:8983/solr\n",
      "{\n",
      "  \"query\": \"star wars\",\n",
      "  \"params\": {\n",
      "    \"t1\": \"this\",\n",
      "    \"t2\": \"doc\",\n",
      "    \"t3\": \"contains\",\n",
      "    \"t4\": \"the\",\n",
      "    \"t5\": \"words\",\n",
      "    \"t6\": \"luke\",\n",
      "    \"t7\": \"magneto\",\n",
      "    \"t8\": \"cyclops\",\n",
      "    \"t9\": \"darth vader\",\n",
      "    \"t10\": \"princess leia\",\n",
      "    \"t11\": \"wolverine\",\n",
      "    \"t12\": \"apple\",\n",
      "    \"t13\": \"banana\",\n",
      "    \"t14\": \"galaxy\",\n",
      "    \"t15\": \"force\",\n",
      "    \"t16\": \"blaster\",\n",
      "    \"t17\": \"and\",\n",
      "    \"t18\": \"chloe\"\n",
      "  },\n",
      "  \"facet\": {\n",
      "    \"${t1}\": {\n",
      "      \"type\": \"query\",\n",
      "      \"q\": \"{!edismax qf=${qf} v=${t1}}\",\n",
      "      \"facet\": {\n",
      "        \"stats\": \"${relatedness_func}\"\n",
      "      }\n",
      "    },\n",
      "    \"${t2}\": {\n",
      "      \"type\": \"query\",\n",
      "      \"q\": \"{!edismax qf=${qf} v=${t2}}\",\n",
      "      \"facet\": {\n",
      "        \"stats\": \"${relatedness_func}\"\n",
      "      }\n",
      "    },\n",
      "    \"${t3}\": {\n",
      "      \"type\": \"query\",\n",
      "      \"q\": \"{!edismax qf=${qf} v=${t3}}\",\n",
      "      \"facet\": {\n",
      "        \"stats\": \"${relatedness_func}\"\n",
      "      }\n",
      "    },\n",
      "    \"${t4}\": {\n",
      "      \"type\": \"query\",\n",
      "      \"q\": \"{!edismax qf=${qf} v=${t4}}\",\n",
      "      \"facet\": {\n",
      "        \"stats\": \"${relatedness_func}\"\n",
      "      }\n",
      "    },\n",
      "    \"${t5}\": {\n",
      "      \"type\": \"query\",\n",
      "      \"q\": \"{!edismax qf=${qf} v=${t5}}\",\n",
      "      \"facet\": {\n",
      "        \"stats\": \"${relatedness_func}\"\n",
      "      }\n",
      "    },\n",
      "    \"${t6}\": {\n",
      "      \"type\": \"query\",\n",
      "      \"q\": \"{!edismax qf=${qf} v=${t6}}\",\n",
      "      \"facet\": {\n",
      "        \"stats\": \"${relatedness_func}\"\n",
      "      }\n",
      "    },\n",
      "    \"${t7}\": {\n",
      "      \"type\": \"query\",\n",
      "      \"q\": \"{!edismax qf=${qf} v=${t7}}\",\n",
      "      \"facet\": {\n",
      "        \"stats\": \"${relatedness_func}\"\n",
      "      }\n",
      "    },\n",
      "    \"${t8}\": {\n",
      "      \"type\": \"query\",\n",
      "      \"q\": \"{!edismax qf=${qf} v=${t8}}\",\n",
      "      \"facet\": {\n",
      "        \"stats\": \"${relatedness_func}\"\n",
      "      }\n",
      "    },\n",
      "    \"${t9}\": {\n",
      "      \"type\": \"query\",\n",
      "      \"q\": \"{!edismax qf=${qf} v=${t9}}\",\n",
      "      \"facet\": {\n",
      "        \"stats\": \"${relatedness_func}\"\n",
      "      }\n",
      "    },\n",
      "    \"${t10}\": {\n",
      "      \"type\": \"query\",\n",
      "      \"q\": \"{!edismax qf=${qf} v=${t10}}\",\n",
      "      \"facet\": {\n",
      "        \"stats\": \"${relatedness_func}\"\n",
      "      }\n",
      "    },\n",
      "    \"${t11}\": {\n",
      "      \"type\": \"query\",\n",
      "      \"q\": \"{!edismax qf=${qf} v=${t11}}\",\n",
      "      \"facet\": {\n",
      "        \"stats\": \"${relatedness_func}\"\n",
      "      }\n",
      "    },\n",
      "    \"${t12}\": {\n",
      "      \"type\": \"query\",\n",
      "      \"q\": \"{!edismax qf=${qf} v=${t12}}\",\n",
      "      \"facet\": {\n",
      "        \"stats\": \"${relatedness_func}\"\n",
      "      }\n",
      "    },\n",
      "    \"${t13}\": {\n",
      "      \"type\": \"query\",\n",
      "      \"q\": \"{!edismax qf=${qf} v=${t13}}\",\n",
      "      \"facet\": {\n",
      "        \"stats\": \"${relatedness_func}\"\n",
      "      }\n",
      "    },\n",
      "    \"${t14}\": {\n",
      "      \"type\": \"query\",\n",
      "      \"q\": \"{!edismax qf=${qf} v=${t14}}\",\n",
      "      \"facet\": {\n",
      "        \"stats\": \"${relatedness_func}\"\n",
      "      }\n",
      "    },\n",
      "    \"${t15}\": {\n",
      "      \"type\": \"query\",\n",
      "      \"q\": \"{!edismax qf=${qf} v=${t15}}\",\n",
      "      \"facet\": {\n",
      "        \"stats\": \"${relatedness_func}\"\n",
      "      }\n",
      "    },\n",
      "    \"${t16}\": {\n",
      "      \"type\": \"query\",\n",
      "      \"q\": \"{!edismax qf=${qf} v=${t16}}\",\n",
      "      \"facet\": {\n",
      "        \"stats\": \"${relatedness_func}\"\n",
      "      }\n",
      "    },\n",
      "    \"${t17}\": {\n",
      "      \"type\": \"query\",\n",
      "      \"q\": \"{!edismax qf=${qf} v=${t17}}\",\n",
      "      \"facet\": {\n",
      "        \"stats\": \"${relatedness_func}\"\n",
      "      }\n",
      "    },\n",
      "    \"${t18}\": {\n",
      "      \"type\": \"query\",\n",
      "      \"q\": \"{!edismax qf=${qf} v=${t18}}\",\n",
      "      \"facet\": {\n",
      "        \"stats\": \"${relatedness_func}\"\n",
      "      }\n",
      "    }\n",
      "  }\n",
      "}\n",
      "('luke', 0.78478)\n",
      "('darth vader', 0.77255)\n",
      "('force', 0.7603)\n",
      "('galaxy', 0.65179)\n",
      "('blaster', 0.51862)\n",
      "('princess leia', 0.38976)\n",
      "('this', 0.20354)\n",
      "('the', 0.18422)\n",
      "('words', 0.11812)\n",
      "('and', 0.095)\n",
      "('contains', 0.04726)\n",
      "('doc', 0.02044)\n",
      "('cyclops', -0.01467)\n",
      "('magneto', -0.01697)\n",
      "('wolverine', -0.02702)\n",
      "('banana', -0.02806)\n",
      "('apple', -0.03329)\n"
     ]
    }
   ],
   "source": [
    "import collections\n",
    "from mergedeep import merge\n",
    "\n",
    "print(SOLR_URL)\n",
    "collection=\"stackexchange\"\n",
    "classification=\"star wars\"\n",
    "\n",
    "document=\"\"\"this doc contains the words luke, magneto, cyclops, darth vader, \n",
    "           princess leia, wolverine, apple, banana, galaxy, force, blaster, \n",
    "           and chloe.\"\"\"\n",
    "\n",
    "#run an entity extractor to parse out keywords to score\n",
    "parsed_document = [\"this\", \"doc\", \"contains\", \"the\", \"words\", \"luke\", \\\n",
    "                   \"magneto\", \"cyclops\", \"darth vader\", \"princess leia\", \\\n",
    "                   \"wolverine\", \"apple\", \"banana\", \"galaxy\", \"force\", \\\n",
    "                   \"blaster\", \"and\", \"chloe\"]\n",
    "\n",
    "request = {\"query\": classification, \"params\": {}, \"facet\": {}}\n",
    "\n",
    "i=0\n",
    "for term in parsed_document:\n",
    "    i+=1\n",
    "    key = \"t\" + str(i)\n",
    "    key2 = \"${\" + key + \"}\"\n",
    "    request[\"params\"][key] = term\n",
    "    request[\"facet\"][key2] = { \n",
    "        \"type\": \"query\", \n",
    "        \"q\": \"{!edismax qf=${qf} v=\" + key2 + \"}\",  \n",
    "        \"facet\": {\"stats\": \"${relatedness_func}\"}\n",
    "    }\n",
    "\n",
    "\n",
    "print(json.dumps(request,indent=\"  \"))\n",
    "\n",
    "full_request = merge(request_template, request)\n",
    "search_results = requests.post(f\"{SOLR_URL}/{collection}/select\", json=full_request).json()\n",
    "\n",
    "def parse_scores(search_results):\n",
    "    results = collections.OrderedDict()\n",
    "    for key in search_results[\"facets\"]:\n",
    "        if key != \"count\" and key != \"\" and \"stats\" in search_results[\"facets\"][key]:\n",
    "            relatedness = search_results[\"facets\"][key][\"stats\"][\"relatedness\"]\n",
    "            results[key] = relatedness\n",
    "    return list(reversed(sorted(results.items(), key=lambda kv: kv[1])))\n",
    "\n",
    "scored_terms = parse_scores(search_results)\n",
    "\n",
    "for scored_term in scored_terms:\n",
    "    print (scored_term)"
   ]
  },
  {
   "cell_type": "markdown",
   "metadata": {},
   "source": [
    "## Listing 5.9"
   ]
  },
  {
   "cell_type": "code",
   "execution_count": 8,
   "metadata": {},
   "outputs": [
    {
     "name": "stdout",
     "output_type": "stream",
     "text": [
      "Expanded Query:\n",
      "\"luke\"^0.78478 \"darth vader\"^0.77255 \"force\"^0.7603 \"galaxy\"^0.65179 \"blaster\"^0.51862 \"princess leia\"^0.38976           \n"
     ]
    }
   ],
   "source": [
    "rec_query = \"\"\n",
    "\n",
    "for scored_term in scored_terms:\n",
    "    term = scored_term[0]\n",
    "    boost = scored_term[1]\n",
    "    if len(rec_query) > 0: \n",
    "        rec_query += \" \"\n",
    "    if boost > 0.25:\n",
    "        rec_query += f'\"{term}\"^{boost}'\n",
    "\n",
    "print(f\"Expanded Query:\\n{rec_query}\")"
   ]
  },
  {
   "cell_type": "markdown",
   "metadata": {},
   "source": [
    "## Listing 5.10"
   ]
  },
  {
   "cell_type": "code",
   "execution_count": 9,
   "metadata": {},
   "outputs": [
    {
     "name": "stdout",
     "output_type": "stream",
     "text": [
      "{\n",
      "  \"response\": {\n",
      "    \"numFound\": 5180,\n",
      "    \"start\": 0,\n",
      "    \"docs\": [\n",
      "      {\n",
      "        \"title\": \"Did Luke know the &quot;Chosen One&quot; prophecy?\"\n",
      "      },\n",
      "      {\n",
      "        \"title\": \"Was Darth Vader at his strongest during Episode III?\"\n",
      "      },\n",
      "      {\n",
      "        \"title\": \"Why couldn't Snoke or Kylo Ren trace Luke using the Force?\"\n",
      "      },\n",
      "      {\n",
      "        \"title\": \"Does Kylo Ren know that Darth Vader reconciled with Luke?\"\n",
      "      },\n",
      "      {\n",
      "        \"title\": \"Did Darth Vader feel remorse for killing Jedi?\"\n",
      "      }\n",
      "    ]\n",
      "  }\n",
      "}\n"
     ]
    }
   ],
   "source": [
    "import collections\n",
    "\n",
    "collection=\"stackexchange\"\n",
    "\n",
    "request = {\n",
    "    \"params\": {\n",
    "        \"qf\": \"title body\",\n",
    "        \"defType\": \"edismax\",\n",
    "        \"rows\": 5,\n",
    "        \"echoParams\": \"none\",\n",
    "        \"omitHeader\": \"true\",\n",
    "        \"mm\": \"0\",\n",
    "        \"fl\": \"title\",\n",
    "        \"fq\": \"title:[* TO *]\" #only show docs with titles to make the example readable\n",
    "    },\n",
    "    \"query\": rec_query\n",
    "}\n",
    "\n",
    "search_results = requests.post(f\"{SOLR_URL}/{collection}/select\", json=request).json()\n",
    "print(json.dumps(search_results, indent=\"  \"))"
   ]
  },
  {
   "cell_type": "markdown",
   "metadata": {},
   "source": [
    "## Exploring Arbitrary Relationships"
   ]
  },
  {
   "cell_type": "markdown",
   "metadata": {},
   "source": [
    "## Listing 5.11"
   ]
  },
  {
   "cell_type": "code",
   "execution_count": 10,
   "metadata": {},
   "outputs": [
    {
     "name": "stdout",
     "output_type": "stream",
     "text": [
      "jean  0.85044\n",
      "grey  0.74965\n",
      "cyclops  0.61313\n",
      "summers  0.60624\n",
      "xavier  0.54697\n",
      "wolverine  0.49361\n",
      "x  0.46596\n",
      "mutant  0.46248\n",
      "magneto  0.43692\n"
     ]
    }
   ],
   "source": [
    "collection = \"scifi\"\n",
    "\n",
    "starting_node = '\"jean grey\"'\n",
    "relationship = '\"in love with\"'\n",
    "\n",
    "\n",
    "request = {\n",
    "    \"query\": starting_node,\n",
    "    \"params\": {\n",
    "        \"qf\": \"body\",\n",
    "        \"fore\": \"{!type=$defType qf=$qf v=$q}\",\n",
    "        \"back\": \"*:*\",\n",
    "        \"defType\": \"edismax\",\n",
    "        \"rows\": 0,\n",
    "        \"echoParams\": \"none\",\n",
    "        \"omitHeader\": \"true\"\n",
    "    },\n",
    "    \"facet\": {\n",
    "        \"in_love_with\":{\n",
    "            \"type\": \"query\",\n",
    "            \"query\": \"{!edismax qf=body v=$relationship}\",\n",
    "            \"facet\": {\n",
    "                \"terminating_nodes\": {\n",
    "                    \"type\": \"terms\",\n",
    "                    \"field\": \"body\",\n",
    "                    \"mincount\": 25,\n",
    "                    \"limit\": 9,\n",
    "                    \"sort\": { \"body_relatedness\": \"desc\"},\n",
    "                    \"facet\": {\n",
    "                        \"body_relatedness\": {\n",
    "                            \"type\": \"func\",\n",
    "                            \"func\": \"relatedness($fore,$back)\"\n",
    "                        }\n",
    "                    }\n",
    "                }\n",
    "            }\n",
    "        }\n",
    "    }\n",
    "}\n",
    "\n",
    "search_results = requests.post(f\"{SOLR_URL}/{collection}/select\", json=request).json()\n",
    "\n",
    "for bucket in search_results[\"facets\"][\"in_love_with\"][\"terminating_nodes\"][\"buckets\"]:\n",
    "    print(f'{bucket[\"val\"]}  {bucket[\"body_relatedness\"][\"relatedness\"]}')"
   ]
  },
  {
   "cell_type": "markdown",
   "metadata": {},
   "source": [
    "## Query Classification"
   ]
  },
  {
   "cell_type": "markdown",
   "metadata": {},
   "source": [
    "### See Listing 6.1"
   ]
  },
  {
   "cell_type": "markdown",
   "metadata": {},
   "source": [
    "## Disambiguation"
   ]
  },
  {
   "cell_type": "markdown",
   "metadata": {},
   "source": [
    "### See Listing 6.2-6.3"
   ]
  },
  {
   "cell_type": "markdown",
   "metadata": {},
   "source": [
    "## Bonus Examples (not included in chapter)"
   ]
  },
  {
   "cell_type": "code",
   "execution_count": 14,
   "metadata": {},
   "outputs": [
    {
     "name": "stdout",
     "output_type": "stream",
     "text": [
      "spark  0.80665\n",
      "hadoop  0.59424\n",
      "hive  0.52983\n",
      "kafka  0.51552\n",
      "impala  0.45309\n",
      "streamsets  0.39341\n",
      "scala  0.38564\n",
      "flume  0.38401\n",
      "attunity  0.37374\n",
      "mapreduce  0.36195\n"
     ]
    }
   ],
   "source": [
    "collection=\"jobs\"\n",
    "\n",
    "request = {\n",
    "    \"params\": {\n",
    "        \"qf\": \"job_description job_title\",\n",
    "        \"fore\": \"{!type=$defType qf=$qf v=$q}\",\n",
    "        \"back\": \"*:*\",\n",
    "        \"defType\": \"edismax\",\n",
    "        \"rows\": 0,\n",
    "        \"echoParams\": \"none\",\n",
    "        \"omitHeader\": \"true\"\n",
    "    },\n",
    "    \"query\": \"\\\"spark\\\"\",\n",
    "    \"facet\": {\n",
    "        \"job_description_keywords\": {\n",
    "            \"type\": \"terms\",\n",
    "            \"field\": \"job_description\",\n",
    "            \"sort\": { \"relatedness\": \"desc\"},\n",
    "            \"facet\": {\n",
    "                \"relatedness\": {\n",
    "                    \"type\": \"func\",\n",
    "                    \"func\": \"relatedness($fore,$back)\"\n",
    "                }\n",
    "            }            \n",
    "        }\n",
    "    }\n",
    "}\n",
    "\n",
    "#search_results = json.dumps(requests.post(solr_url + collection + \"/select\", json=request).json(), indent=2)\n",
    "search_results = requests.post(f\"{SOLR_URL}/{collection}/select\", json=request).json()\n",
    "\n",
    "for bucket in search_results[\"facets\"][\"job_description_keywords\"][\"buckets\"]:\n",
    "  print(f'{bucket[\"val\"]}  {bucket[\"relatedness\"][\"relatedness\"]}')"
   ]
  },
  {
   "cell_type": "code",
   "execution_count": 16,
   "metadata": {},
   "outputs": [
    {
     "name": "stdout",
     "output_type": "stream",
     "text": [
      "chef  0.80689\n",
      "puppet  0.59501\n",
      "ansible  0.52824\n",
      "terraform  0.3866\n",
      "jenkins  0.30455\n",
      "culinary  0.25935\n",
      "docker  0.25145\n",
      "cd  0.2434\n",
      "ci  0.23938\n",
      "ruby  0.20856\n"
     ]
    }
   ],
   "source": [
    "collection=\"jobs\"\n",
    "\n",
    "request = {\n",
    "    \"params\": {\n",
    "        \"qf\": \"job_description job_title\",\n",
    "        \"fore\": \"{!type=$defType qf=$qf v=$q}\",\n",
    "        \"back\": \"*:*\",\n",
    "        \"defType\": \"edismax\",\n",
    "        \"rows\": 0,\n",
    "        \"echoParams\": \"none\",\n",
    "        \"omitHeader\": \"true\"\n",
    "    },\n",
    "    \"query\": \"\\\"chef\\\"\",\n",
    "    \"facet\": {\n",
    "        \"job_description_keywords\": {\n",
    "            \"type\": \"terms\",\n",
    "            \"field\": \"job_description\",\n",
    "            \"sort\": { \"relatedness\": \"desc\"},\n",
    "            \"facet\": {\n",
    "                \"relatedness\": {\n",
    "                    \"type\": \"func\",\n",
    "                    \"func\": \"relatedness($fore,$back)\",\n",
    "                    \"min_popularity\": 0.0005\n",
    "                }\n",
    "            }            \n",
    "        }\n",
    "    }\n",
    "}\n",
    "\n",
    "#search_results = json.dumps(requests.post(solr_url + collection + \"/select\", json=request).json(), indent=2)\n",
    "search_results = requests.post(f\"{SOLR_URL}/{collection}/select\", json=request).json()\n",
    "\n",
    "for bucket in search_results[\"facets\"][\"job_description_keywords\"][\"buckets\"]:\n",
    "    print(f'{bucket[\"val\"]}  {bucket[\"relatedness\"][\"relatedness\"]}')"
   ]
  },
  {
   "cell_type": "markdown",
   "metadata": {},
   "source": [
    "## Success!\n",
    "\n",
    "You've leveraged a semantic knowledge graph to find related terms for a query, performed query expansion based upon semantically-similar terms, explored multiple different way to impact precision and recall of queries through integrating semantically-augmented queries, generated content-based recommendations leveraging a semantic knowledge graph, explored arbitrary relationship types by traversing a semantic knowledge graph.\n",
    "\n",
    "Semantic knowledge graphs can be a powerful tool for understaning user intent and interpreting both queries and content based upon meaning instead of just text kewords.\n",
    "\n",
    "Up next: Chapter 10 - [Learning to Rank](../ch10/1.ch10-setup-TheMovieDB.ipynb)"
   ]
  }
 ],
 "metadata": {
  "kernelspec": {
   "display_name": "Python 3.7.3 64-bit",
   "language": "python",
   "name": "python3"
  },
  "language_info": {
   "codemirror_mode": {
    "name": "ipython",
    "version": 3
   },
   "file_extension": ".py",
   "mimetype": "text/x-python",
   "name": "python",
   "nbconvert_exporter": "python",
   "pygments_lexer": "ipython3",
   "version": "3.7.3"
  },
  "vscode": {
   "interpreter": {
    "hash": "31f2aee4e71d21fbe5cf8b01ff0e069b9275f58929596ceb00d14d90e3e16cd6"
   }
  }
 },
 "nbformat": 4,
 "nbformat_minor": 2
}
