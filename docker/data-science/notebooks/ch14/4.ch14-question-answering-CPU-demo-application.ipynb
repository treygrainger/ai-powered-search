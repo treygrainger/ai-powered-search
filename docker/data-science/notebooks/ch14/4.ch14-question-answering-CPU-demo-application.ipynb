{
 "cells": [
  {
   "cell_type": "code",
   "execution_count": 1,
   "metadata": {},
   "outputs": [],
   "source": [
    "import sys\n",
    "import html\n",
    "import pandas\n",
    "import pickle\n",
    "import json\n",
    "import spacy\n",
    "import warnings\n",
    "from IPython.core.display import display,HTML\n",
    "warnings.filterwarnings('ignore') #Some operations warn inside a loop, we'll only need to see the first warning\n",
    "sys.path.append('..')\n",
    "from aips import *\n",
    "outdoors_collection=\"outdoors\"\n",
    "path = \"./\""
   ]
  },
  {
   "cell_type": "code",
   "execution_count": 2,
   "metadata": {},
   "outputs": [],
   "source": [
    "nlp = spacy.load('en_core_web_sm')\n",
    "nlp.remove_pipe('ner')\n",
    "merge_nps = nlp.create_pipe('merge_noun_chunks')\n",
    "nlp.add_pipe(merge_nps)\n",
    "determiners = 'all an another any both del each either every half la many much nary neither no some such that the them these this those'.split(' ')\n",
    "def getQueryFromQuestion(question):\n",
    "    query = []\n",
    "    doc = nlp(question)\n",
    "    for tok in doc:\n",
    "        if tok.pos_ in ['NOUN','VERB']:\n",
    "            query.append(tok.text)\n",
    "    if not len(query):\n",
    "        query = [question]\n",
    "    query = ' '.join(query)\n",
    "    for d in determiners:\n",
    "        query = query.replace(' '+d+' ','')\n",
    "    return query"
   ]
  },
  {
   "cell_type": "markdown",
   "metadata": {},
   "source": [
    "## Listing 14.16"
   ]
  },
  {
   "cell_type": "code",
   "execution_count": 3,
   "metadata": {},
   "outputs": [],
   "source": [
    "def retriever(question):\n",
    "    contexts={\"id\":[],\"question\":[],\"context\":[],\"url\":[]}\n",
    "    query = getQueryFromQuestion(question)\n",
    "    request = {\n",
    "        \"query\": query,\n",
    "        \"fields\": [\"id\",\"url\",\"body\"],\n",
    "        \"params\": {\n",
    "          \"qf\": [\"body\"],\n",
    "          \"fq\": [\"post_type_id:2\"],\n",
    "          \"defType\": \"edismax\",\n",
    "          \"rows\":5\n",
    "        }\n",
    "    }\n",
    "    docs = requests.post(f\"{SOLR_URL}/{outdoors_collection}/select\", json=request).json()[\"response\"][\"docs\"]\n",
    "    for doc in docs:\n",
    "        contexts[\"id\"].append(doc[\"id\"])\n",
    "        contexts[\"url\"].append(doc[\"url\"])\n",
    "        contexts[\"question\"].append(question)\n",
    "        contexts[\"context\"].append(doc[\"body\"])\n",
    "    return pandas.DataFrame(contexts)"
   ]
  },
  {
   "cell_type": "code",
   "execution_count": 4,
   "metadata": {},
   "outputs": [
    {
     "data": {
      "text/html": [
       "<div>\n",
       "<style scoped>\n",
       "    .dataframe tbody tr th:only-of-type {\n",
       "        vertical-align: middle;\n",
       "    }\n",
       "\n",
       "    .dataframe tbody tr th {\n",
       "        vertical-align: top;\n",
       "    }\n",
       "\n",
       "    .dataframe thead th {\n",
       "        text-align: right;\n",
       "    }\n",
       "</style>\n",
       "<table border=\"1\" class=\"dataframe\">\n",
       "  <thead>\n",
       "    <tr style=\"text-align: right;\">\n",
       "      <th></th>\n",
       "      <th>id</th>\n",
       "      <th>question</th>\n",
       "      <th>context</th>\n",
       "      <th>url</th>\n",
       "    </tr>\n",
       "  </thead>\n",
       "  <tbody>\n",
       "    <tr>\n",
       "      <th>0</th>\n",
       "      <td>18376</td>\n",
       "      <td>What are minimalist shoes?</td>\n",
       "      <td>Minimalist shoes or \"barefoot\" shoes are shoes...</td>\n",
       "      <td>https://outdoors.stackexchange.com/questions/1...</td>\n",
       "    </tr>\n",
       "    <tr>\n",
       "      <th>1</th>\n",
       "      <td>18370</td>\n",
       "      <td>What are minimalist shoes?</td>\n",
       "      <td>There was actually a project done on the defin...</td>\n",
       "      <td>https://outdoors.stackexchange.com/questions/1...</td>\n",
       "    </tr>\n",
       "    <tr>\n",
       "      <th>2</th>\n",
       "      <td>16427</td>\n",
       "      <td>What are minimalist shoes?</td>\n",
       "      <td>One summer job, I needed shoes to walk on a ro...</td>\n",
       "      <td>https://outdoors.stackexchange.com/questions/1...</td>\n",
       "    </tr>\n",
       "    <tr>\n",
       "      <th>3</th>\n",
       "      <td>18375</td>\n",
       "      <td>What are minimalist shoes?</td>\n",
       "      <td>The answer to this question will vary on your ...</td>\n",
       "      <td>https://outdoors.stackexchange.com/questions/1...</td>\n",
       "    </tr>\n",
       "    <tr>\n",
       "      <th>4</th>\n",
       "      <td>13540</td>\n",
       "      <td>What are minimalist shoes?</td>\n",
       "      <td>Barefoot Shoes Also known as minimalist shoes,...</td>\n",
       "      <td>https://outdoors.stackexchange.com/questions/1...</td>\n",
       "    </tr>\n",
       "  </tbody>\n",
       "</table>\n",
       "</div>"
      ],
      "text/plain": [
       "      id                    question  \\\n",
       "0  18376  What are minimalist shoes?   \n",
       "1  18370  What are minimalist shoes?   \n",
       "2  16427  What are minimalist shoes?   \n",
       "3  18375  What are minimalist shoes?   \n",
       "4  13540  What are minimalist shoes?   \n",
       "\n",
       "                                             context  \\\n",
       "0  Minimalist shoes or \"barefoot\" shoes are shoes...   \n",
       "1  There was actually a project done on the defin...   \n",
       "2  One summer job, I needed shoes to walk on a ro...   \n",
       "3  The answer to this question will vary on your ...   \n",
       "4  Barefoot Shoes Also known as minimalist shoes,...   \n",
       "\n",
       "                                                 url  \n",
       "0  https://outdoors.stackexchange.com/questions/1...  \n",
       "1  https://outdoors.stackexchange.com/questions/1...  \n",
       "2  https://outdoors.stackexchange.com/questions/1...  \n",
       "3  https://outdoors.stackexchange.com/questions/1...  \n",
       "4  https://outdoors.stackexchange.com/questions/1...  "
      ]
     },
     "execution_count": 4,
     "metadata": {},
     "output_type": "execute_result"
    }
   ],
   "source": [
    "example_contexts = retriever('What are minimalist shoes?')\n",
    "example_contexts[0:10]"
   ]
  },
  {
   "cell_type": "markdown",
   "metadata": {},
   "source": [
    "## Listing 14.17"
   ]
  },
  {
   "cell_type": "code",
   "execution_count": 5,
   "metadata": {},
   "outputs": [],
   "source": [
    "from transformers import AutoModelForQuestionAnswering, AutoTokenizer, pipeline\n",
    "import tqdm\n",
    "\n",
    "# Our pretrained model!\n",
    "model_name = '../data/outdoors/roberta-base-squad2-outdoors'\n",
    "\n",
    "device=-1 #CPU\n",
    "#device=0 #<-- Uncomment to use GPU, if you are running in Google Colab\n",
    "\n",
    "qa_nlp = pipeline('question-answering', model=model_name, tokenizer=model_name, device=device)\n",
    "\n",
    "def reader(contexts):\n",
    "    answers = []\n",
    "    for idx,row in tqdm.tqdm(contexts.iterrows(),total=len(contexts)):\n",
    "        result = qa_nlp({\"question\":row[\"question\"],\"context\":row[\"context\"]})\n",
    "        result[\"id\"] = row[\"id\"]\n",
    "        result[\"url\"] = row[\"url\"]\n",
    "        answers.append(result)\n",
    "    return answers"
   ]
  },
  {
   "cell_type": "markdown",
   "metadata": {},
   "source": [
    "## Listing 14.18"
   ]
  },
  {
   "cell_type": "code",
   "execution_count": 6,
   "metadata": {},
   "outputs": [],
   "source": [
    "def reranker(answers):\n",
    "    sorted_answers = sorted(answers, key=lambda k: k['score'], reverse=True)\n",
    "    return sorted_answers"
   ]
  },
  {
   "cell_type": "markdown",
   "metadata": {},
   "source": [
    "## Listing 14.19"
   ]
  },
  {
   "cell_type": "code",
   "execution_count": 7,
   "metadata": {},
   "outputs": [],
   "source": [
    "import urllib.parse\n",
    "def ask(question):\n",
    "    documents = retriever(question)\n",
    "    answers = reader(documents)\n",
    "    reranked = reranker(answers)\n",
    "    \n",
    "    stackexchange_search_url = 'https://outdoors.stackexchange.com/search?q='+urllib.parse.quote(question)\n",
    "    display(HTML('<h1><a href=\"'+stackexchange_search_url+'\" target=_blank>'+question+'</a></h1>'))\n",
    "    for answer in reranked:\n",
    "        display(HTML('<a href=\"'+answer[\"url\"]+'\" target=_blank>'+answer[\"id\"]+'</a>&nbsp;<strong>'+answer[\"answer\"]+'</strong><em>('+str(answer[\"score\"])+')</em>'))    "
   ]
  },
  {
   "cell_type": "code",
   "execution_count": 8,
   "metadata": {},
   "outputs": [
    {
     "name": "stderr",
     "output_type": "stream",
     "text": [
      "100%|██████████| 5/5 [00:00<00:00,  5.41it/s]\n"
     ]
    },
    {
     "data": {
      "text/html": [
       "<h1><a href=\"https://outdoors.stackexchange.com/search?q=What%20is%20the%20best%20mosquito%20repellant%3F\" target=_blank>What is the best mosquito repellant?</a></h1>"
      ],
      "text/plain": [
       "<IPython.core.display.HTML object>"
      ]
     },
     "metadata": {},
     "output_type": "display_data"
    },
    {
     "data": {
      "text/html": [
       "<a href=\"https://outdoors.stackexchange.com/questions/13287\" target=_blank>13287</a>&nbsp;<strong>DEET</strong><em>(0.8457778096199036)</em>"
      ],
      "text/plain": [
       "<IPython.core.display.HTML object>"
      ]
     },
     "metadata": {},
     "output_type": "display_data"
    },
    {
     "data": {
      "text/html": [
       "<a href=\"https://outdoors.stackexchange.com/questions/16459\" target=_blank>16459</a>&nbsp;<strong>Screens</strong><em>(0.7697671055793762)</em>"
      ],
      "text/plain": [
       "<IPython.core.display.HTML object>"
      ]
     },
     "metadata": {},
     "output_type": "display_data"
    },
    {
     "data": {
      "text/html": [
       "<a href=\"https://outdoors.stackexchange.com/questions/19647\" target=_blank>19647</a>&nbsp;<strong>DEET</strong><em>(0.3869345486164093)</em>"
      ],
      "text/plain": [
       "<IPython.core.display.HTML object>"
      ]
     },
     "metadata": {},
     "output_type": "display_data"
    },
    {
     "data": {
      "text/html": [
       "<a href=\"https://outdoors.stackexchange.com/questions/7724\" target=_blank>7724</a>&nbsp;<strong>Gore-Tex</strong><em>(0.348571240901947)</em>"
      ],
      "text/plain": [
       "<IPython.core.display.HTML object>"
      ]
     },
     "metadata": {},
     "output_type": "display_data"
    },
    {
     "data": {
      "text/html": [
       "<a href=\"https://outdoors.stackexchange.com/questions/1698\" target=_blank>1698</a>&nbsp;<strong>wasp-repellant and sunscreen</strong><em>(0.14392441511154175)</em>"
      ],
      "text/plain": [
       "<IPython.core.display.HTML object>"
      ]
     },
     "metadata": {},
     "output_type": "display_data"
    }
   ],
   "source": [
    "ask('What is the best mosquito repellant?')"
   ]
  },
  {
   "cell_type": "code",
   "execution_count": 9,
   "metadata": {},
   "outputs": [
    {
     "name": "stderr",
     "output_type": "stream",
     "text": [
      "100%|██████████| 5/5 [00:01<00:00,  3.88it/s]\n"
     ]
    },
    {
     "data": {
      "text/html": [
       "<h1><a href=\"https://outdoors.stackexchange.com/search?q=What%20is%20the%20best%20waterproof%20boot%3F\" target=_blank>What is the best waterproof boot?</a></h1>"
      ],
      "text/plain": [
       "<IPython.core.display.HTML object>"
      ]
     },
     "metadata": {},
     "output_type": "display_data"
    },
    {
     "data": {
      "text/html": [
       "<a href=\"https://outdoors.stackexchange.com/questions/7945\" target=_blank>7945</a>&nbsp;<strong>Goretex</strong><em>(0.4063605070114136)</em>"
      ],
      "text/plain": [
       "<IPython.core.display.HTML object>"
      ]
     },
     "metadata": {},
     "output_type": "display_data"
    },
    {
     "data": {
      "text/html": [
       "<a href=\"https://outdoors.stackexchange.com/questions/5281\" target=_blank>5281</a>&nbsp;<strong>Gore-Tex walking boots</strong><em>(0.29355937242507935)</em>"
      ],
      "text/plain": [
       "<IPython.core.display.HTML object>"
      ]
     },
     "metadata": {},
     "output_type": "display_data"
    },
    {
     "data": {
      "text/html": [
       "<a href=\"https://outdoors.stackexchange.com/questions/6817\" target=_blank>6817</a>&nbsp;<strong>Sno-Seal</strong><em>(0.0662916749715805)</em>"
      ],
      "text/plain": [
       "<IPython.core.display.HTML object>"
      ]
     },
     "metadata": {},
     "output_type": "display_data"
    },
    {
     "data": {
      "text/html": [
       "<a href=\"https://outdoors.stackexchange.com/questions/8850\" target=_blank>8850</a>&nbsp;<strong>a studier boot</strong><em>(0.05448247119784355)</em>"
      ],
      "text/plain": [
       "<IPython.core.display.HTML object>"
      ]
     },
     "metadata": {},
     "output_type": "display_data"
    },
    {
     "data": {
      "text/html": [
       "<a href=\"https://outdoors.stackexchange.com/questions/8588\" target=_blank>8588</a>&nbsp;<strong>Lighter, thinner material boots</strong><em>(0.030684063211083412)</em>"
      ],
      "text/plain": [
       "<IPython.core.display.HTML object>"
      ]
     },
     "metadata": {},
     "output_type": "display_data"
    }
   ],
   "source": [
    "ask('What is the best waterproof boot?')"
   ]
  },
  {
   "cell_type": "code",
   "execution_count": 10,
   "metadata": {},
   "outputs": [
    {
     "name": "stderr",
     "output_type": "stream",
     "text": [
      "100%|██████████| 5/5 [00:00<00:00,  6.10it/s]\n"
     ]
    },
    {
     "data": {
      "text/html": [
       "<h1><a href=\"https://outdoors.stackexchange.com/search?q=How%20many%20people%20fit%20inside%20a%20two-person%20tent%3F\" target=_blank>How many people fit inside a two-person tent?</a></h1>"
      ],
      "text/plain": [
       "<IPython.core.display.HTML object>"
      ]
     },
     "metadata": {},
     "output_type": "display_data"
    },
    {
     "data": {
      "text/html": [
       "<a href=\"https://outdoors.stackexchange.com/questions/24593\" target=_blank>24593</a>&nbsp;<strong>1</strong><em>(0.7542902231216431)</em>"
      ],
      "text/plain": [
       "<IPython.core.display.HTML object>"
      ]
     },
     "metadata": {},
     "output_type": "display_data"
    },
    {
     "data": {
      "text/html": [
       "<a href=\"https://outdoors.stackexchange.com/questions/10225\" target=_blank>10225</a>&nbsp;<strong>1</strong><em>(0.2884310781955719)</em>"
      ],
      "text/plain": [
       "<IPython.core.display.HTML object>"
      ]
     },
     "metadata": {},
     "output_type": "display_data"
    },
    {
     "data": {
      "text/html": [
       "<a href=\"https://outdoors.stackexchange.com/questions/20803\" target=_blank>20803</a>&nbsp;<strong>2-3</strong><em>(0.20759601891040802)</em>"
      ],
      "text/plain": [
       "<IPython.core.display.HTML object>"
      ]
     },
     "metadata": {},
     "output_type": "display_data"
    },
    {
     "data": {
      "text/html": [
       "<a href=\"https://outdoors.stackexchange.com/questions/5927\" target=_blank>5927</a>&nbsp;<strong>two</strong><em>(0.05848198011517525)</em>"
      ],
      "text/plain": [
       "<IPython.core.display.HTML object>"
      ]
     },
     "metadata": {},
     "output_type": "display_data"
    },
    {
     "data": {
      "text/html": [
       "<a href=\"https://outdoors.stackexchange.com/questions/8791\" target=_blank>8791</a>&nbsp;<strong>two people</strong><em>(0.020272882655262947)</em>"
      ],
      "text/plain": [
       "<IPython.core.display.HTML object>"
      ]
     },
     "metadata": {},
     "output_type": "display_data"
    }
   ],
   "source": [
    "ask('How many people fit inside a two-person tent?')"
   ]
  },
  {
   "cell_type": "code",
   "execution_count": 11,
   "metadata": {},
   "outputs": [
    {
     "name": "stderr",
     "output_type": "stream",
     "text": [
      "100%|██████████| 5/5 [00:02<00:00,  2.11it/s]\n"
     ]
    },
    {
     "data": {
      "text/html": [
       "<h1><a href=\"https://outdoors.stackexchange.com/search?q=What%20hiking%20boots%20work%20with%20crampons%3F\" target=_blank>What hiking boots work with crampons?</a></h1>"
      ],
      "text/plain": [
       "<IPython.core.display.HTML object>"
      ]
     },
     "metadata": {},
     "output_type": "display_data"
    },
    {
     "data": {
      "text/html": [
       "<a href=\"https://outdoors.stackexchange.com/questions/22119\" target=_blank>22119</a>&nbsp;<strong>Mountaineering boots</strong><em>(0.6932371258735657)</em>"
      ],
      "text/plain": [
       "<IPython.core.display.HTML object>"
      ]
     },
     "metadata": {},
     "output_type": "display_data"
    },
    {
     "data": {
      "text/html": [
       "<a href=\"https://outdoors.stackexchange.com/questions/5054\" target=_blank>5054</a>&nbsp;<strong>Grivel G-12's</strong><em>(0.5703234672546387)</em>"
      ],
      "text/plain": [
       "<IPython.core.display.HTML object>"
      ]
     },
     "metadata": {},
     "output_type": "display_data"
    },
    {
     "data": {
      "text/html": [
       "<a href=\"https://outdoors.stackexchange.com/questions/11602\" target=_blank>11602</a>&nbsp;<strong>Scarpa B2 winter boots</strong><em>(0.24492645263671875)</em>"
      ],
      "text/plain": [
       "<IPython.core.display.HTML object>"
      ]
     },
     "metadata": {},
     "output_type": "display_data"
    },
    {
     "data": {
      "text/html": [
       "<a href=\"https://outdoors.stackexchange.com/questions/10296\" target=_blank>10296</a>&nbsp;<strong>Grivel_Air_Tech</strong><em>(0.14223918318748474)</em>"
      ],
      "text/plain": [
       "<IPython.core.display.HTML object>"
      ]
     },
     "metadata": {},
     "output_type": "display_data"
    },
    {
     "data": {
      "text/html": [
       "<a href=\"https://outdoors.stackexchange.com/questions/214\" target=_blank>214</a>&nbsp;<strong>they're pretty universal</strong><em>(0.09190993010997772)</em>"
      ],
      "text/plain": [
       "<IPython.core.display.HTML object>"
      ]
     },
     "metadata": {},
     "output_type": "display_data"
    }
   ],
   "source": [
    "ask('What hiking boots work with crampons?')"
   ]
  },
  {
   "cell_type": "code",
   "execution_count": 12,
   "metadata": {},
   "outputs": [
    {
     "name": "stderr",
     "output_type": "stream",
     "text": [
      "100%|██████████| 5/5 [00:01<00:00,  2.55it/s]\n"
     ]
    },
    {
     "data": {
      "text/html": [
       "<h1><a href=\"https://outdoors.stackexchange.com/search?q=How%20far%20can%20one%20person%20hike%20in%20one%20day%3F\" target=_blank>How far can one person hike in one day?</a></h1>"
      ],
      "text/plain": [
       "<IPython.core.display.HTML object>"
      ]
     },
     "metadata": {},
     "output_type": "display_data"
    },
    {
     "data": {
      "text/html": [
       "<a href=\"https://outdoors.stackexchange.com/questions/1629\" target=_blank>1629</a>&nbsp;<strong>3 liters per person per day</strong><em>(0.5288070440292358)</em>"
      ],
      "text/plain": [
       "<IPython.core.display.HTML object>"
      ]
     },
     "metadata": {},
     "output_type": "display_data"
    },
    {
     "data": {
      "text/html": [
       "<a href=\"https://outdoors.stackexchange.com/questions/3723\" target=_blank>3723</a>&nbsp;<strong>2½ hour</strong><em>(0.3576105237007141)</em>"
      ],
      "text/plain": [
       "<IPython.core.display.HTML object>"
      ]
     },
     "metadata": {},
     "output_type": "display_data"
    },
    {
     "data": {
      "text/html": [
       "<a href=\"https://outdoors.stackexchange.com/questions/8810\" target=_blank>8810</a>&nbsp;<strong>4</strong><em>(0.3031434416770935)</em>"
      ],
      "text/plain": [
       "<IPython.core.display.HTML object>"
      ]
     },
     "metadata": {},
     "output_type": "display_data"
    },
    {
     "data": {
      "text/html": [
       "<a href=\"https://outdoors.stackexchange.com/questions/19609\" target=_blank>19609</a>&nbsp;<strong>12 miles</strong><em>(0.04089485481381416)</em>"
      ],
      "text/plain": [
       "<IPython.core.display.HTML object>"
      ]
     },
     "metadata": {},
     "output_type": "display_data"
    },
    {
     "data": {
      "text/html": [
       "<a href=\"https://outdoors.stackexchange.com/questions/6790\" target=_blank>6790</a>&nbsp;<strong>multi-day</strong><em>(0.014035042375326157)</em>"
      ],
      "text/plain": [
       "<IPython.core.display.HTML object>"
      ]
     },
     "metadata": {},
     "output_type": "display_data"
    }
   ],
   "source": [
    "ask('How far can one person hike in one day?')"
   ]
  },
  {
   "cell_type": "code",
   "execution_count": 13,
   "metadata": {},
   "outputs": [
    {
     "name": "stderr",
     "output_type": "stream",
     "text": [
      "100%|██████████| 5/5 [00:01<00:00,  4.17it/s]\n"
     ]
    },
    {
     "data": {
      "text/html": [
       "<h1><a href=\"https://outdoors.stackexchange.com/search?q=How%20much%20water%20does%20a%20person%20need%20each%20day%3F\" target=_blank>How much water does a person need each day?</a></h1>"
      ],
      "text/plain": [
       "<IPython.core.display.HTML object>"
      ]
     },
     "metadata": {},
     "output_type": "display_data"
    },
    {
     "data": {
      "text/html": [
       "<a href=\"https://outdoors.stackexchange.com/questions/1629\" target=_blank>1629</a>&nbsp;<strong>3 liters</strong><em>(0.4264567196369171)</em>"
      ],
      "text/plain": [
       "<IPython.core.display.HTML object>"
      ]
     },
     "metadata": {},
     "output_type": "display_data"
    },
    {
     "data": {
      "text/html": [
       "<a href=\"https://outdoors.stackexchange.com/questions/20766\" target=_blank>20766</a>&nbsp;<strong>10 quarts (2.5 gallons</strong><em>(0.07042849063873291)</em>"
      ],
      "text/plain": [
       "<IPython.core.display.HTML object>"
      ]
     },
     "metadata": {},
     "output_type": "display_data"
    },
    {
     "data": {
      "text/html": [
       "<a href=\"https://outdoors.stackexchange.com/questions/17918\" target=_blank>17918</a>&nbsp;<strong>~55 min one way. It's around 2 hours a day</strong><em>(0.01108020730316639)</em>"
      ],
      "text/plain": [
       "<IPython.core.display.HTML object>"
      ]
     },
     "metadata": {},
     "output_type": "display_data"
    },
    {
     "data": {
      "text/html": [
       "<a href=\"https://outdoors.stackexchange.com/questions/8810\" target=_blank>8810</a>&nbsp;<strong>won't need much</strong><em>(0.009318666532635689)</em>"
      ],
      "text/plain": [
       "<IPython.core.display.HTML object>"
      ]
     },
     "metadata": {},
     "output_type": "display_data"
    },
    {
     "data": {
      "text/html": [
       "<a href=\"https://outdoors.stackexchange.com/questions/19899\" target=_blank>19899</a>&nbsp;<strong>34.4 °C (93.9 °</strong><em>(0.003924562595784664)</em>"
      ],
      "text/plain": [
       "<IPython.core.display.HTML object>"
      ]
     },
     "metadata": {},
     "output_type": "display_data"
    }
   ],
   "source": [
    "ask('How much water does a person need each day?')"
   ]
  },
  {
   "cell_type": "code",
   "execution_count": 14,
   "metadata": {},
   "outputs": [
    {
     "name": "stderr",
     "output_type": "stream",
     "text": [
      "100%|██████████| 5/5 [00:02<00:00,  2.23it/s]\n"
     ]
    },
    {
     "data": {
      "text/html": [
       "<h1><a href=\"https://outdoors.stackexchange.com/search?q=What%20materials%20make%20good%20walking%20poles%3F\" target=_blank>What materials make good walking poles?</a></h1>"
      ],
      "text/plain": [
       "<IPython.core.display.HTML object>"
      ]
     },
     "metadata": {},
     "output_type": "display_data"
    },
    {
     "data": {
      "text/html": [
       "<a href=\"https://outdoors.stackexchange.com/questions/5315\" target=_blank>5315</a>&nbsp;<strong>BlackDiamond</strong><em>(0.6193271279335022)</em>"
      ],
      "text/plain": [
       "<IPython.core.display.HTML object>"
      ]
     },
     "metadata": {},
     "output_type": "display_data"
    },
    {
     "data": {
      "text/html": [
       "<a href=\"https://outdoors.stackexchange.com/questions/14112\" target=_blank>14112</a>&nbsp;<strong>carbon fibre</strong><em>(0.09100281447172165)</em>"
      ],
      "text/plain": [
       "<IPython.core.display.HTML object>"
      ]
     },
     "metadata": {},
     "output_type": "display_data"
    },
    {
     "data": {
      "text/html": [
       "<a href=\"https://outdoors.stackexchange.com/questions/11919\" target=_blank>11919</a>&nbsp;<strong>tarp supports</strong><em>(0.06541392207145691)</em>"
      ],
      "text/plain": [
       "<IPython.core.display.HTML object>"
      ]
     },
     "metadata": {},
     "output_type": "display_data"
    },
    {
     "data": {
      "text/html": [
       "<a href=\"https://outdoors.stackexchange.com/questions/14528\" target=_blank>14528</a>&nbsp;<strong>train with poles</strong><em>(0.05768363177776337)</em>"
      ],
      "text/plain": [
       "<IPython.core.display.HTML object>"
      ]
     },
     "metadata": {},
     "output_type": "display_data"
    },
    {
     "data": {
      "text/html": [
       "<a href=\"https://outdoors.stackexchange.com/questions/4477\" target=_blank>4477</a>&nbsp;<strong>Trekking poles</strong><em>(0.038780342787504196)</em>"
      ],
      "text/plain": [
       "<IPython.core.display.HTML object>"
      ]
     },
     "metadata": {},
     "output_type": "display_data"
    }
   ],
   "source": [
    "ask('What materials make good walking poles?')"
   ]
  },
  {
   "cell_type": "code",
   "execution_count": null,
   "metadata": {},
   "outputs": [],
   "source": []
  }
 ],
 "metadata": {
  "kernelspec": {
   "display_name": "Python 3.7.3 64-bit",
   "language": "python",
   "name": "python3"
  },
  "language_info": {
   "codemirror_mode": {
    "name": "ipython",
    "version": 3
   },
   "file_extension": ".py",
   "mimetype": "text/x-python",
   "name": "python",
   "nbconvert_exporter": "python",
   "pygments_lexer": "ipython3",
   "version": "3.7.3"
  },
  "vscode": {
   "interpreter": {
    "hash": "31f2aee4e71d21fbe5cf8b01ff0e069b9275f58929596ceb00d14d90e3e16cd6"
   }
  }
 },
 "nbformat": 4,
 "nbformat_minor": 4
}
