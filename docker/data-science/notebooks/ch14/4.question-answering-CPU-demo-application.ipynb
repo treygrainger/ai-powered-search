{
 "cells": [
  {
   "cell_type": "markdown",
   "metadata": {},
   "source": [
    "## Question Answering Demo Application"
   ]
  },
  {
   "cell_type": "code",
   "execution_count": 76,
   "metadata": {},
   "outputs": [],
   "source": [
    "import sys\n",
    "import html\n",
    "import pandas\n",
    "import pickle\n",
    "import json\n",
    "import spacy\n",
    "import warnings\n",
    "from IPython.display import display,HTML\n",
    "warnings.filterwarnings('ignore') #Some operations warn inside a loop, we\"ll only need to see the first warning\n",
    "sys.path.append(\"..\")\n",
    "from aips import *\n",
    "\n",
    "engine = get_engine()\n",
    "outdoors_collection = engine.get_collection(\"outdoors\")\n",
    "path = \"../data/outdoors/\""
   ]
  },
  {
   "cell_type": "code",
   "execution_count": 72,
   "metadata": {},
   "outputs": [],
   "source": [
    "nlp = spacy.load(\"en_core_web_sm\")\n",
    "nlp.remove_pipe(\"ner\")\n",
    "nlp.add_pipe(\"merge_noun_chunks\")\n",
    "determiners = \"all an another any both del each either every half la many much nary neither no some such that the them these this those\".split(\" \")\n",
    "def get_query_from_question(question):\n",
    "    query = []\n",
    "    doc = nlp(question)\n",
    "    for tok in doc:\n",
    "        if tok.pos_ in [\"NOUN\", \"VERB\"]:\n",
    "            query.append(tok.text)\n",
    "    if not len(query):\n",
    "        query = [question]\n",
    "    query = \" \".join(query)\n",
    "    for d in determiners:\n",
    "        query = query.replace(f\" {d} \",\" \")\n",
    "    return query"
   ]
  },
  {
   "cell_type": "markdown",
   "metadata": {},
   "source": [
    "## Listing 14.15"
   ]
  },
  {
   "cell_type": "code",
   "execution_count": 73,
   "metadata": {},
   "outputs": [],
   "source": [
    "def retriever(question):\n",
    "    contexts = {\"id\": [], \"question\": [], \"context\": [], \"url\": []}\n",
    "    query = get_query_from_question(question)\n",
    "    request = {\"query\": query,\n",
    "               \"query_fields\": [\"body\"],\n",
    "               \"return_fields\": [\"id\", \"url\", \"body\"],\n",
    "               \"filters\": [(\"post_type_id\", \"2\")],\n",
    "               \"limit\": 5}\n",
    "    docs = outdoors_collection.search(**request)[\"docs\"]\n",
    "    for doc in docs:\n",
    "        contexts[\"id\"].append(doc[\"id\"])\n",
    "        contexts[\"url\"].append(doc[\"url\"])\n",
    "        contexts[\"question\"].append(question)\n",
    "        contexts[\"context\"].append(doc[\"body\"])\n",
    "    return pandas.DataFrame(contexts)"
   ]
  },
  {
   "cell_type": "code",
   "execution_count": 74,
   "metadata": {},
   "outputs": [
    {
     "data": {
      "text/html": [
       "<div>\n",
       "<style scoped>\n",
       "    .dataframe tbody tr th:only-of-type {\n",
       "        vertical-align: middle;\n",
       "    }\n",
       "\n",
       "    .dataframe tbody tr th {\n",
       "        vertical-align: top;\n",
       "    }\n",
       "\n",
       "    .dataframe thead th {\n",
       "        text-align: right;\n",
       "    }\n",
       "</style>\n",
       "<table border=\"1\" class=\"dataframe\">\n",
       "  <thead>\n",
       "    <tr style=\"text-align: right;\">\n",
       "      <th></th>\n",
       "      <th>id</th>\n",
       "      <th>question</th>\n",
       "      <th>context</th>\n",
       "      <th>url</th>\n",
       "    </tr>\n",
       "  </thead>\n",
       "  <tbody>\n",
       "    <tr>\n",
       "      <th>0</th>\n",
       "      <td>16459</td>\n",
       "      <td>What is the best mosquito repellent?</td>\n",
       "      <td>Screens are the best solution, and the only so...</td>\n",
       "      <td>https://outdoors.stackexchange.com/questions/1...</td>\n",
       "    </tr>\n",
       "    <tr>\n",
       "      <th>1</th>\n",
       "      <td>1116</td>\n",
       "      <td>What is the best mosquito repellent?</td>\n",
       "      <td>According to one study of one species of mosqu...</td>\n",
       "      <td>https://outdoors.stackexchange.com/questions/1116</td>\n",
       "    </tr>\n",
       "    <tr>\n",
       "      <th>2</th>\n",
       "      <td>765</td>\n",
       "      <td>What is the best mosquito repellent?</td>\n",
       "      <td>Physical barriers are my deterrent of choice. ...</td>\n",
       "      <td>https://outdoors.stackexchange.com/questions/765</td>\n",
       "    </tr>\n",
       "    <tr>\n",
       "      <th>3</th>\n",
       "      <td>1332</td>\n",
       "      <td>What is the best mosquito repellent?</td>\n",
       "      <td>CO 2 traps, according to the NIH , fare better...</td>\n",
       "      <td>https://outdoors.stackexchange.com/questions/1332</td>\n",
       "    </tr>\n",
       "    <tr>\n",
       "      <th>4</th>\n",
       "      <td>4311</td>\n",
       "      <td>What is the best mosquito repellent?</td>\n",
       "      <td>Anecdotally - yes. I've heard it is possible, ...</td>\n",
       "      <td>https://outdoors.stackexchange.com/questions/4311</td>\n",
       "    </tr>\n",
       "  </tbody>\n",
       "</table>\n",
       "</div>"
      ],
      "text/plain": [
       "      id                              question  \\\n",
       "0  16459  What is the best mosquito repellent?   \n",
       "1   1116  What is the best mosquito repellent?   \n",
       "2    765  What is the best mosquito repellent?   \n",
       "3   1332  What is the best mosquito repellent?   \n",
       "4   4311  What is the best mosquito repellent?   \n",
       "\n",
       "                                             context  \\\n",
       "0  Screens are the best solution, and the only so...   \n",
       "1  According to one study of one species of mosqu...   \n",
       "2  Physical barriers are my deterrent of choice. ...   \n",
       "3  CO 2 traps, according to the NIH , fare better...   \n",
       "4  Anecdotally - yes. I've heard it is possible, ...   \n",
       "\n",
       "                                                 url  \n",
       "0  https://outdoors.stackexchange.com/questions/1...  \n",
       "1  https://outdoors.stackexchange.com/questions/1116  \n",
       "2   https://outdoors.stackexchange.com/questions/765  \n",
       "3  https://outdoors.stackexchange.com/questions/1332  \n",
       "4  https://outdoors.stackexchange.com/questions/4311  "
      ]
     },
     "execution_count": 74,
     "metadata": {},
     "output_type": "execute_result"
    }
   ],
   "source": [
    "example_contexts = retriever(\"What is the best mosquito repellent?\")\n",
    "example_contexts[0:10]"
   ]
  },
  {
   "cell_type": "markdown",
   "metadata": {},
   "source": [
    "## Listing 14.16"
   ]
  },
  {
   "cell_type": "code",
   "execution_count": 77,
   "metadata": {},
   "outputs": [],
   "source": [
    "from transformers import AutoModelForQuestionAnswering, AutoTokenizer, pipeline\n",
    "import tqdm\n",
    "\n",
    "# Our pretrained model!\n",
    "model_name = path + \"roberta-base-squad2-outdoors\"\n",
    "\n",
    "device = -1 #CPU\n",
    "#device=0 #<-- Uncomment to use GPU, if you are running in Google Colab\n",
    "\n",
    "qa_nlp = pipeline(\"question-answering\", model=model_name,\n",
    "                  tokenizer=model_name, device=device)\n",
    "\n",
    "def reader(contexts):\n",
    "    answers = []\n",
    "    for _, row in tqdm.tqdm(contexts.iterrows(), total=len(contexts)):\n",
    "        answer = qa_nlp({\"question\": row[\"question\"],\n",
    "                         \"context\": row[\"context\"]})\n",
    "        answer[\"id\"] = row[\"id\"]\n",
    "        answer[\"url\"] = row[\"url\"]\n",
    "        answers.append(answer)\n",
    "    return answers"
   ]
  },
  {
   "cell_type": "markdown",
   "metadata": {},
   "source": [
    "## Listing 14.17"
   ]
  },
  {
   "cell_type": "code",
   "execution_count": 79,
   "metadata": {},
   "outputs": [],
   "source": [
    "def reranker(answers):\n",
    "    return sorted(answers, key=lambda k: k[\"score\"], reverse=True)"
   ]
  },
  {
   "cell_type": "markdown",
   "metadata": {},
   "source": [
    "## Listing 14.18"
   ]
  },
  {
   "cell_type": "code",
   "execution_count": 78,
   "metadata": {},
   "outputs": [],
   "source": [
    "import urllib.parse\n",
    "def print_answer(question, reranked):\n",
    "    url = \"https://outdoors.stackexchange.com/search?q=\" + urllib.parse.quote(question)\n",
    "    display(HTML(f'<h1><a href=\"{url}\" target=_blank>{question}</a></h1>'))\n",
    "    for answer in reranked:\n",
    "         display(HTML('<a href=\"'+answer[\"url\"]+'\" target=_blank>'+answer[\"id\"]+'</a>&nbsp;<strong>'+answer[\"answer\"]+'</strong><em>('+str(answer[\"score\"])+')</em>'))\n",
    "         \n",
    "def ask(question):\n",
    "    documents = retriever(question)\n",
    "    answers = reader(documents)\n",
    "    reranked = reranker(answers)\n",
    "    print_answer(question, reranked)"
   ]
  },
  {
   "cell_type": "code",
   "execution_count": 80,
   "metadata": {},
   "outputs": [
    {
     "name": "stderr",
     "output_type": "stream",
     "text": [
      "100%|██████████| 5/5 [00:00<00:00,  5.37it/s]\n"
     ]
    },
    {
     "data": {
      "text/html": [
       "<h1><a href=\"https://outdoors.stackexchange.com/search?q=What%20is%20the%20best%20mosquito%20repellant%3F\" target=_blank>What is the best mosquito repellant?</a></h1>"
      ],
      "text/plain": [
       "<IPython.core.display.HTML object>"
      ]
     },
     "metadata": {},
     "output_type": "display_data"
    },
    {
     "data": {
      "text/html": [
       "<a href=\"https://outdoors.stackexchange.com/questions/16459\" target=_blank>16459</a>&nbsp;<strong>Screens</strong><em>(0.7697675228118896)</em>"
      ],
      "text/plain": [
       "<IPython.core.display.HTML object>"
      ]
     },
     "metadata": {},
     "output_type": "display_data"
    },
    {
     "data": {
      "text/html": [
       "<a href=\"https://outdoors.stackexchange.com/questions/1116\" target=_blank>1116</a>&nbsp;<strong>DEET</strong><em>(0.6061289310455322)</em>"
      ],
      "text/plain": [
       "<IPython.core.display.HTML object>"
      ]
     },
     "metadata": {},
     "output_type": "display_data"
    },
    {
     "data": {
      "text/html": [
       "<a href=\"https://outdoors.stackexchange.com/questions/1332\" target=_blank>1332</a>&nbsp;<strong>CO 2 traps</strong><em>(0.3383573293685913)</em>"
      ],
      "text/plain": [
       "<IPython.core.display.HTML object>"
      ]
     },
     "metadata": {},
     "output_type": "display_data"
    },
    {
     "data": {
      "text/html": [
       "<a href=\"https://outdoors.stackexchange.com/questions/765\" target=_blank>765</a>&nbsp;<strong>Physical barriers are my deterrent of choice. A good hat with mosquito netting</strong><em>(0.13182750344276428)</em>"
      ],
      "text/plain": [
       "<IPython.core.display.HTML object>"
      ]
     },
     "metadata": {},
     "output_type": "display_data"
    },
    {
     "data": {
      "text/html": [
       "<a href=\"https://outdoors.stackexchange.com/questions/4311\" target=_blank>4311</a>&nbsp;<strong>Anecdotally - yes. I've heard it is possible</strong><em>(0.004518172703683376)</em>"
      ],
      "text/plain": [
       "<IPython.core.display.HTML object>"
      ]
     },
     "metadata": {},
     "output_type": "display_data"
    }
   ],
   "source": [
    "ask(\"What is the best mosquito repellant?\")"
   ]
  },
  {
   "cell_type": "code",
   "execution_count": 81,
   "metadata": {},
   "outputs": [
    {
     "name": "stderr",
     "output_type": "stream",
     "text": [
      "  0%|          | 0/5 [00:00<?, ?it/s]"
     ]
    },
    {
     "name": "stderr",
     "output_type": "stream",
     "text": [
      "100%|██████████| 5/5 [00:00<00:00,  5.39it/s]\n"
     ]
    },
    {
     "data": {
      "text/html": [
       "<h1><a href=\"https://outdoors.stackexchange.com/search?q=What%20is%20the%20best%20waterproof%20boot%3F\" target=_blank>What is the best waterproof boot?</a></h1>"
      ],
      "text/plain": [
       "<IPython.core.display.HTML object>"
      ]
     },
     "metadata": {},
     "output_type": "display_data"
    },
    {
     "data": {
      "text/html": [
       "<a href=\"https://outdoors.stackexchange.com/questions/7945\" target=_blank>7945</a>&nbsp;<strong>Goretex</strong><em>(0.4063611626625061)</em>"
      ],
      "text/plain": [
       "<IPython.core.display.HTML object>"
      ]
     },
     "metadata": {},
     "output_type": "display_data"
    },
    {
     "data": {
      "text/html": [
       "<a href=\"https://outdoors.stackexchange.com/questions/5281\" target=_blank>5281</a>&nbsp;<strong>Gore-Tex walking boots</strong><em>(0.293559193611145)</em>"
      ],
      "text/plain": [
       "<IPython.core.display.HTML object>"
      ]
     },
     "metadata": {},
     "output_type": "display_data"
    },
    {
     "data": {
      "text/html": [
       "<a href=\"https://outdoors.stackexchange.com/questions/6817\" target=_blank>6817</a>&nbsp;<strong>Sno-Seal</strong><em>(0.0662919282913208)</em>"
      ],
      "text/plain": [
       "<IPython.core.display.HTML object>"
      ]
     },
     "metadata": {},
     "output_type": "display_data"
    },
    {
     "data": {
      "text/html": [
       "<a href=\"https://outdoors.stackexchange.com/questions/8850\" target=_blank>8850</a>&nbsp;<strong>a studier boot</strong><em>(0.05448225513100624)</em>"
      ],
      "text/plain": [
       "<IPython.core.display.HTML object>"
      ]
     },
     "metadata": {},
     "output_type": "display_data"
    },
    {
     "data": {
      "text/html": [
       "<a href=\"https://outdoors.stackexchange.com/questions/8588\" target=_blank>8588</a>&nbsp;<strong>Lighter, thinner material boots</strong><em>(0.030683886259794235)</em>"
      ],
      "text/plain": [
       "<IPython.core.display.HTML object>"
      ]
     },
     "metadata": {},
     "output_type": "display_data"
    }
   ],
   "source": [
    "ask(\"What is the best waterproof boot?\")"
   ]
  },
  {
   "cell_type": "code",
   "execution_count": 82,
   "metadata": {},
   "outputs": [
    {
     "name": "stderr",
     "output_type": "stream",
     "text": [
      "100%|██████████| 5/5 [00:00<00:00,  7.35it/s]\n"
     ]
    },
    {
     "data": {
      "text/html": [
       "<h1><a href=\"https://outdoors.stackexchange.com/search?q=How%20many%20people%20fit%20inside%20a%20two-person%20tent%3F\" target=_blank>How many people fit inside a two-person tent?</a></h1>"
      ],
      "text/plain": [
       "<IPython.core.display.HTML object>"
      ]
     },
     "metadata": {},
     "output_type": "display_data"
    },
    {
     "data": {
      "text/html": [
       "<a href=\"https://outdoors.stackexchange.com/questions/10225\" target=_blank>10225</a>&nbsp;<strong>1</strong><em>(0.2884317934513092)</em>"
      ],
      "text/plain": [
       "<IPython.core.display.HTML object>"
      ]
     },
     "metadata": {},
     "output_type": "display_data"
    },
    {
     "data": {
      "text/html": [
       "<a href=\"https://outdoors.stackexchange.com/questions/138\" target=_blank>138</a>&nbsp;<strong>wide range of people</strong><em>(0.013709898106753826)</em>"
      ],
      "text/plain": [
       "<IPython.core.display.HTML object>"
      ]
     },
     "metadata": {},
     "output_type": "display_data"
    },
    {
     "data": {
      "text/html": [
       "<a href=\"https://outdoors.stackexchange.com/questions/14477\" target=_blank>14477</a>&nbsp;<strong>a single killer</strong><em>(0.003455378580838442)</em>"
      ],
      "text/plain": [
       "<IPython.core.display.HTML object>"
      ]
     },
     "metadata": {},
     "output_type": "display_data"
    },
    {
     "data": {
      "text/html": [
       "<a href=\"https://outdoors.stackexchange.com/questions/19000\" target=_blank>19000</a>&nbsp;<strong>Snowshoes will fit on either right or left foot</strong><em>(0.0007660468108952045)</em>"
      ],
      "text/plain": [
       "<IPython.core.display.HTML object>"
      ]
     },
     "metadata": {},
     "output_type": "display_data"
    },
    {
     "data": {
      "text/html": [
       "<a href=\"https://outdoors.stackexchange.com/questions/14740\" target=_blank>14740</a>&nbsp;<strong>over 50</strong><em>(2.3873015379649587e-05)</em>"
      ],
      "text/plain": [
       "<IPython.core.display.HTML object>"
      ]
     },
     "metadata": {},
     "output_type": "display_data"
    }
   ],
   "source": [
    "ask(\"How many people fit inside a two-person tent?\")"
   ]
  },
  {
   "cell_type": "code",
   "execution_count": 83,
   "metadata": {},
   "outputs": [
    {
     "name": "stderr",
     "output_type": "stream",
     "text": [
      "100%|██████████| 5/5 [00:01<00:00,  2.67it/s]\n"
     ]
    },
    {
     "data": {
      "text/html": [
       "<h1><a href=\"https://outdoors.stackexchange.com/search?q=What%20hiking%20boots%20work%20with%20crampons%3F\" target=_blank>What hiking boots work with crampons?</a></h1>"
      ],
      "text/plain": [
       "<IPython.core.display.HTML object>"
      ]
     },
     "metadata": {},
     "output_type": "display_data"
    },
    {
     "data": {
      "text/html": [
       "<a href=\"https://outdoors.stackexchange.com/questions/22119\" target=_blank>22119</a>&nbsp;<strong>Mountaineering boots</strong><em>(0.6932371854782104)</em>"
      ],
      "text/plain": [
       "<IPython.core.display.HTML object>"
      ]
     },
     "metadata": {},
     "output_type": "display_data"
    },
    {
     "data": {
      "text/html": [
       "<a href=\"https://outdoors.stackexchange.com/questions/5054\" target=_blank>5054</a>&nbsp;<strong>Grivel G-12's</strong><em>(0.5703226327896118)</em>"
      ],
      "text/plain": [
       "<IPython.core.display.HTML object>"
      ]
     },
     "metadata": {},
     "output_type": "display_data"
    },
    {
     "data": {
      "text/html": [
       "<a href=\"https://outdoors.stackexchange.com/questions/10296\" target=_blank>10296</a>&nbsp;<strong>Grivel_Air_Tech</strong><em>(0.1422387659549713)</em>"
      ],
      "text/plain": [
       "<IPython.core.display.HTML object>"
      ]
     },
     "metadata": {},
     "output_type": "display_data"
    },
    {
     "data": {
      "text/html": [
       "<a href=\"https://outdoors.stackexchange.com/questions/214\" target=_blank>214</a>&nbsp;<strong>they're pretty universal</strong><em>(0.09190964698791504)</em>"
      ],
      "text/plain": [
       "<IPython.core.display.HTML object>"
      ]
     },
     "metadata": {},
     "output_type": "display_data"
    },
    {
     "data": {
      "text/html": [
       "<a href=\"https://outdoors.stackexchange.com/questions/6429\" target=_blank>6429</a>&nbsp;<strong>Compatibillty A B1 boot</strong><em>(0.05851729214191437)</em>"
      ],
      "text/plain": [
       "<IPython.core.display.HTML object>"
      ]
     },
     "metadata": {},
     "output_type": "display_data"
    }
   ],
   "source": [
    "ask(\"What hiking boots work with crampons?\")"
   ]
  },
  {
   "cell_type": "code",
   "execution_count": 84,
   "metadata": {},
   "outputs": [
    {
     "name": "stderr",
     "output_type": "stream",
     "text": [
      "100%|██████████| 5/5 [00:00<00:00,  7.29it/s]\n"
     ]
    },
    {
     "data": {
      "text/html": [
       "<h1><a href=\"https://outdoors.stackexchange.com/search?q=How%20far%20can%20one%20person%20hike%20in%20one%20day%3F\" target=_blank>How far can one person hike in one day?</a></h1>"
      ],
      "text/plain": [
       "<IPython.core.display.HTML object>"
      ]
     },
     "metadata": {},
     "output_type": "display_data"
    },
    {
     "data": {
      "text/html": [
       "<a href=\"https://outdoors.stackexchange.com/questions/8810\" target=_blank>8810</a>&nbsp;<strong>4</strong><em>(0.3031422793865204)</em>"
      ],
      "text/plain": [
       "<IPython.core.display.HTML object>"
      ]
     },
     "metadata": {},
     "output_type": "display_data"
    },
    {
     "data": {
      "text/html": [
       "<a href=\"https://outdoors.stackexchange.com/questions/8791\" target=_blank>8791</a>&nbsp;<strong>10 day+</strong><em>(0.04624353349208832)</em>"
      ],
      "text/plain": [
       "<IPython.core.display.HTML object>"
      ]
     },
     "metadata": {},
     "output_type": "display_data"
    },
    {
     "data": {
      "text/html": [
       "<a href=\"https://outdoors.stackexchange.com/questions/4617\" target=_blank>4617</a>&nbsp;<strong>the same one might not be able to perform the same way the next day</strong><em>(0.010240201838314533)</em>"
      ],
      "text/plain": [
       "<IPython.core.display.HTML object>"
      ]
     },
     "metadata": {},
     "output_type": "display_data"
    },
    {
     "data": {
      "text/html": [
       "<a href=\"https://outdoors.stackexchange.com/questions/15416\" target=_blank>15416</a>&nbsp;<strong>Let one person lead the trail on day one, another on day two</strong><em>(0.008679546415805817)</em>"
      ],
      "text/plain": [
       "<IPython.core.display.HTML object>"
      ]
     },
     "metadata": {},
     "output_type": "display_data"
    },
    {
     "data": {
      "text/html": [
       "<a href=\"https://outdoors.stackexchange.com/questions/13821\" target=_blank>13821</a>&nbsp;<strong>two person kayak</strong><em>(0.0005921618430875242)</em>"
      ],
      "text/plain": [
       "<IPython.core.display.HTML object>"
      ]
     },
     "metadata": {},
     "output_type": "display_data"
    }
   ],
   "source": [
    "ask(\"How far can one person hike in one day?\")"
   ]
  },
  {
   "cell_type": "code",
   "execution_count": 85,
   "metadata": {},
   "outputs": [
    {
     "name": "stderr",
     "output_type": "stream",
     "text": [
      "100%|██████████| 5/5 [00:00<00:00,  6.81it/s]\n"
     ]
    },
    {
     "data": {
      "text/html": [
       "<h1><a href=\"https://outdoors.stackexchange.com/search?q=How%20much%20water%20does%20a%20person%20need%20each%20day%3F\" target=_blank>How much water does a person need each day?</a></h1>"
      ],
      "text/plain": [
       "<IPython.core.display.HTML object>"
      ]
     },
     "metadata": {},
     "output_type": "display_data"
    },
    {
     "data": {
      "text/html": [
       "<a href=\"https://outdoors.stackexchange.com/questions/16199\" target=_blank>16199</a>&nbsp;<strong>80 L/day</strong><em>(0.7200838923454285)</em>"
      ],
      "text/plain": [
       "<IPython.core.display.HTML object>"
      ]
     },
     "metadata": {},
     "output_type": "display_data"
    },
    {
     "data": {
      "text/html": [
       "<a href=\"https://outdoors.stackexchange.com/questions/1629\" target=_blank>1629</a>&nbsp;<strong>3 liters</strong><em>(0.4264572262763977)</em>"
      ],
      "text/plain": [
       "<IPython.core.display.HTML object>"
      ]
     },
     "metadata": {},
     "output_type": "display_data"
    },
    {
     "data": {
      "text/html": [
       "<a href=\"https://outdoors.stackexchange.com/questions/16197\" target=_blank>16197</a>&nbsp;<strong>5 litres</strong><em>(0.22604766488075256)</em>"
      ],
      "text/plain": [
       "<IPython.core.display.HTML object>"
      ]
     },
     "metadata": {},
     "output_type": "display_data"
    },
    {
     "data": {
      "text/html": [
       "<a href=\"https://outdoors.stackexchange.com/questions/17833\" target=_blank>17833</a>&nbsp;<strong>A well bucket rope is only going to be as long as needed</strong><em>(0.02817358821630478)</em>"
      ],
      "text/plain": [
       "<IPython.core.display.HTML object>"
      ]
     },
     "metadata": {},
     "output_type": "display_data"
    },
    {
     "data": {
      "text/html": [
       "<a href=\"https://outdoors.stackexchange.com/questions/22499\" target=_blank>22499</a>&nbsp;<strong>Some people fill their shoes with water and leave it for a day</strong><em>(0.0057094162330031395)</em>"
      ],
      "text/plain": [
       "<IPython.core.display.HTML object>"
      ]
     },
     "metadata": {},
     "output_type": "display_data"
    }
   ],
   "source": [
    "ask(\"How much water does a person need each day?\")"
   ]
  },
  {
   "cell_type": "code",
   "execution_count": null,
   "metadata": {},
   "outputs": [],
   "source": [
    "ask(\"What materials make good walking poles?\")"
   ]
  },
  {
   "cell_type": "markdown",
   "metadata": {},
   "source": [
    "Up next: [Chapter 15 - Foundation Models and Emerging Search Paradigms](../ch15/1.llm-exploration.ipynb)"
   ]
  }
 ],
 "metadata": {
  "kernelspec": {
   "display_name": "Python 3 (ipykernel)",
   "language": "python",
   "name": "python3"
  },
  "vscode": {
   "interpreter": {
    "hash": "31f2aee4e71d21fbe5cf8b01ff0e069b9275f58929596ceb00d14d90e3e16cd6"
   }
  }
 },
 "nbformat": 4,
 "nbformat_minor": 4
}
