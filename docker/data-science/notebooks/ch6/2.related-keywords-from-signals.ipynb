{
 "cells": [
  {
   "cell_type": "markdown",
   "metadata": {},
   "source": [
    "\n",
    "# Related keywords detection"
   ]
  },
  {
   "cell_type": "markdown",
   "metadata": {},
   "source": [
    "**NOTE**: This notebook depends upon the the Retrotech dataset. If you have any issues, please rerun the [Setting up the Retrotech Dataset](../ch4/1.ch4-setting-up-the-retrotech-dataset.ipynb) notebook."
   ]
  },
  {
   "cell_type": "code",
   "execution_count": 75,
   "metadata": {},
   "outputs": [],
   "source": [
    "import pandas as pd\n",
    "from pyspark.sql import SparkSession\n",
    "spark = SparkSession.builder.appName(\"aips-ch6\").getOrCreate()"
   ]
  },
  {
   "cell_type": "markdown",
   "metadata": {},
   "source": [
    "### Step 1: Prepare the data using py-spark and data frames \n"
   ]
  },
  {
   "cell_type": "markdown",
   "metadata": {},
   "source": [
    "## Listing 6.4"
   ]
  },
  {
   "cell_type": "code",
   "execution_count": 76,
   "metadata": {},
   "outputs": [],
   "source": [
    "#Calculation:\n",
    "signals_collection=\"signals\"\n",
    "signals_opts={\"zkhost\": \"aips-zk\", \"collection\": signals_collection}\n",
    "df = spark.read.format(\"solr\").options(**signals_opts).load()\n",
    "df.createOrReplaceTempView(\"signals\")\n",
    "spark.sql(\"\"\"select lower(searches.target) as keyword, searches.user as user\n",
    "from signals as searches \n",
    "where searches.type='query'\n",
    "\"\"\").createOrReplaceTempView('user_searches')"
   ]
  },
  {
   "cell_type": "code",
   "execution_count": 77,
   "metadata": {},
   "outputs": [
    {
     "name": "stdout",
     "output_type": "stream",
     "text": [
      "+------+\n",
      "|  rows|\n",
      "+------+\n",
      "|725459|\n",
      "+------+\n",
      "\n",
      "+----------------+-------+\n",
      "|         keyword|   user|\n",
      "+----------------+-------+\n",
      "|             gps| u79559|\n",
      "|surge protectors|u644168|\n",
      "|      headphones| u35624|\n",
      "+----------------+-------+\n",
      "only showing top 3 rows\n",
      "\n"
     ]
    }
   ],
   "source": [
    "#Show Results:\n",
    "spark.sql(\"\"\"select count(*) rows from user_searches \"\"\").show(1)\n",
    "spark.sql(\"\"\"select * from user_searches \"\"\").show(3)"
   ]
  },
  {
   "cell_type": "markdown",
   "metadata": {},
   "source": [
    "### Step2 : Create Cooccurrence & PMI2  Model based on users searchs"
   ]
  },
  {
   "cell_type": "markdown",
   "metadata": {},
   "source": [
    "## Listing 6.5"
   ]
  },
  {
   "cell_type": "code",
   "execution_count": 78,
   "metadata": {},
   "outputs": [],
   "source": [
    "#Calculation:\n",
    "spark.sql('''\n",
    "select k1.keyword as keyword1, k2.keyword as keyword2, count(distinct k1.user) users_cooc\n",
    "from user_searches k1 join user_searches k2 on k1.user = k2.user where k1.keyword > k2.keyword \n",
    "group by k1.keyword, k2.keyword ''').createOrReplaceTempView('keywords_users_cooc')\n",
    "\n",
    "spark.sql('''\n",
    "select keyword ,  count(distinct user) users_occ\n",
    "from user_searches \n",
    "group by keyword ''').createOrReplaceTempView('keywords_users_oc')\n"
   ]
  },
  {
   "cell_type": "code",
   "execution_count": 79,
   "metadata": {},
   "outputs": [
    {
     "name": "stdout",
     "output_type": "stream",
     "text": [
      "+-----------+---------+\n",
      "|    keyword|users_occ|\n",
      "+-----------+---------+\n",
      "|     lcd tv|     8449|\n",
      "|       ipad|     7749|\n",
      "|hp touchpad|     7144|\n",
      "|  iphone 4s|     4642|\n",
      "|   touchpad|     4019|\n",
      "|     laptop|     3625|\n",
      "|    laptops|     3435|\n",
      "|      beats|     3282|\n",
      "|       ipod|     3164|\n",
      "| ipod touch|     2992|\n",
      "+-----------+---------+\n",
      "only showing top 10 rows\n",
      "\n",
      "+-------------------+\n",
      "|keywords_users_cooc|\n",
      "+-------------------+\n",
      "|             244876|\n",
      "+-------------------+\n",
      "\n",
      "+-------------+---------------+----------+\n",
      "|     keyword1|       keyword2|users_cooc|\n",
      "+-------------+---------------+----------+\n",
      "|green lantern|captain america|        23|\n",
      "|    iphone 4s|         iphone|        21|\n",
      "|       laptop|      hp laptop|        20|\n",
      "|         thor|captain america|        18|\n",
      "|   skullcandy|          beats|        17|\n",
      "|         bose|          beats|        17|\n",
      "|    iphone 4s|       iphone 4|        17|\n",
      "|      laptops|         laptop|        16|\n",
      "|      macbook|            mac|        16|\n",
      "|         thor|  green lantern|        16|\n",
      "+-------------+---------------+----------+\n",
      "only showing top 10 rows\n",
      "\n"
     ]
    }
   ],
   "source": [
    "#Show Results\n",
    "spark.sql('''select * from keywords_users_oc order by users_occ desc''').show(10)\n",
    "spark.sql('''select count(1) as keywords_users_cooc from keywords_users_cooc''').show()\n",
    "spark.sql('''select * from keywords_users_cooc order by users_cooc desc''').show(10)"
   ]
  },
  {
   "cell_type": "markdown",
   "metadata": {},
   "source": [
    "## Listing 6.6"
   ]
  },
  {
   "cell_type": "code",
   "execution_count": 80,
   "metadata": {},
   "outputs": [],
   "source": [
    "#Calculation:\n",
    "spark.sql('''\n",
    "select k1.keyword as k1, k2.keyword as k2, k1_k2.users_cooc, k1.users_occ as n_users1,k2.users_occ as n_users2,\n",
    "log(pow(k1_k2.users_cooc,2) / (k1.users_occ*k2.users_occ)) as pmi2\n",
    "from keywords_users_cooc as k1_k2 \n",
    "join\n",
    "keywords_users_oc as k1 on k1_k2.keyword1= k1.keyword\n",
    "join\n",
    "keywords_users_oc as k2 on k1_k2.keyword2 = k2.keyword\n",
    "''').registerTempTable('user_related_keywords_pmi')\n"
   ]
  },
  {
   "cell_type": "code",
   "execution_count": 81,
   "metadata": {},
   "outputs": [
    {
     "name": "stdout",
     "output_type": "stream",
     "text": [
      "+-----------------+--------------------+----------+--------+--------+------------------+\n",
      "|               k1|                  k2|users_cooc|n_users1|n_users2|              pmi2|\n",
      "+-----------------+--------------------+----------+--------+--------+------------------+\n",
      "|  iphone 4s cases|      iphone 4 cases|        10|     158|     740|-7.064075033237091|\n",
      "|     sony laptops|          hp laptops|         8|     209|     432|-7.251876756849249|\n",
      "|otterbox iphone 4|            otterbox|         7|     122|     787|-7.580428995040033|\n",
      "|    green lantern|     captain america|        23|     963|    1091|-7.593914965772897|\n",
      "|          kenwood|              alpine|        13|     584|     717|-7.815078108504774|\n",
      "|      sony laptop|         dell laptop|        10|     620|     451|-7.936016631553724|\n",
      "|   wireless mouse|           godfather|         6|     407|     248|-7.938722993151467|\n",
      "|       hp laptops|        dell laptops|         6|     432|     269| -8.07961802938984|\n",
      "|      mp3 players|        dvd recorder|         6|     334|     365|-8.127519408103081|\n",
      "|          quicken|portable dvd players|         6|     281|     434| -8.12788026497804|\n",
      "+-----------------+--------------------+----------+--------+--------+------------------+\n",
      "only showing top 10 rows\n",
      "\n"
     ]
    }
   ],
   "source": [
    "#Show Results:\n",
    "spark.sql( '''\n",
    "select * from user_related_keywords_pmi where users_cooc >5 order by pmi2 desc\n",
    "''').show(10)"
   ]
  },
  {
   "cell_type": "markdown",
   "metadata": {},
   "source": [
    "## Listing 6.7"
   ]
  },
  {
   "cell_type": "code",
   "execution_count": 82,
   "metadata": {},
   "outputs": [],
   "source": [
    "#Calculation:\n",
    "spark.sql('''\n",
    "select  *, (r1 + r2 /( r1 * r2))/2 as comp_score from (\n",
    " select *, \n",
    "   rank() over (partition by 1 order by users_cooc desc )  r1 , \n",
    "   rank() over (partition by 1 order by pmi2 desc )  r2  \n",
    "  from user_related_keywords_pmi ) a  '''\n",
    ").registerTempTable('users_related_keywords_comp_score')"
   ]
  },
  {
   "cell_type": "code",
   "execution_count": 83,
   "metadata": {},
   "outputs": [
    {
     "name": "stdout",
     "output_type": "stream",
     "text": [
      "+-------------+---------------+----------+-------------------+---+------+------------------+\n",
      "|           k1|             k2|users_cooc|               pmi2| r1|    r2|        comp_score|\n",
      "+-------------+---------------+----------+-------------------+---+------+------------------+\n",
      "|green lantern|captain america|        23| -7.593914965772897|  1|  8626|               1.0|\n",
      "|    iphone 4s|         iphone|        21|-10.216737746029027|  2| 56156|              1.25|\n",
      "|       laptop|      hp laptop|        20| -9.132682838345458|  3| 20383|1.6666666666666667|\n",
      "|         thor|captain america|        18| -8.483026598234463|  4| 13190|             2.125|\n",
      "|         bose|          beats|        17|-10.074222345094169|  5| 51916|               2.6|\n",
      "|    iphone 4s|       iphone 4|        17| -10.07559536143275|  5| 51964|               2.6|\n",
      "|   skullcandy|          beats|        17|  -9.00066454587719|  5| 18792|               2.6|\n",
      "|         thor|  green lantern|        16| -8.593796095512284|  8| 14074|            4.0625|\n",
      "|      laptops|         laptop|        16|-10.792204327465662|  8| 80240|            4.0625|\n",
      "|      macbook|            mac|        16| -9.891277373272931|  8| 45464|            4.0625|\n",
      "|   headphones|   beats by dre|        15|  -9.98923457501079| 11| 49046| 5.545454545454546|\n",
      "|  macbook air|        macbook|        15| -9.442537922965805| 11| 26943| 5.545454545454546|\n",
      "|  macbook pro|        macbook|        15|  -9.73733746318645| 11| 39448| 5.545454545454546|\n",
      "|  macbook pro|    macbook air|        13| -9.207068753875852| 14| 21301| 7.035714285714286|\n",
      "|         nook|         kindle|        13| -9.661503425798296| 14| 36232| 7.035714285714286|\n",
      "|       ipad 2|           ipad|        13| -11.76529194320276| 14|196829| 7.035714285714286|\n",
      "|      kenwood|         alpine|        13| -7.815078108504774| 14|  9502| 7.035714285714286|\n",
      "|   ipod touch|           ipad|        13|-11.829117705935245| 14|200871| 7.035714285714286|\n",
      "|        nikon|          canon|        12| -8.822659925066963| 19| 16809| 9.526315789473685|\n",
      "|   skullcandy|     headphones|        12| -9.318865873777165| 19| 23317| 9.526315789473685|\n",
      "+-------------+---------------+----------+-------------------+---+------+------------------+\n",
      "only showing top 20 rows\n",
      "\n"
     ]
    }
   ],
   "source": [
    "#Show Results:\n",
    "spark.sql( '''\n",
    "  select k1, k2, users_cooc, pmi2, r1, r2, comp_score \n",
    "  from users_related_keywords_comp_score\n",
    "  order by comp_score asc\n",
    "''').show(20)\n"
   ]
  },
  {
   "cell_type": "markdown",
   "metadata": {},
   "source": [
    "###  Create Cooccurrence & PMI2  Model based on product interaction"
   ]
  },
  {
   "cell_type": "markdown",
   "metadata": {},
   "source": [
    "## Listing 6.8"
   ]
  },
  {
   "cell_type": "code",
   "execution_count": 84,
   "metadata": {},
   "outputs": [],
   "source": [
    "#Calculation:\n",
    "spark.sql(\"\"\"\n",
    "  select lower(searches.target) as keyword, searches.user as user, clicks.target as product \n",
    "  from signals as searches right join signals as clicks on searches.query_id = clicks.query_id \n",
    "  where searches.type='query' and clicks.type = 'click'\n",
    "\"\"\").createOrReplaceTempView('keyword_click_product')\n"
   ]
  },
  {
   "cell_type": "code",
   "execution_count": 85,
   "metadata": {},
   "outputs": [
    {
     "name": "stdout",
     "output_type": "stream",
     "text": [
      "Original signals format: \n",
      "+--------------------+-----------+--------------------+----------------+-----+-------+\n",
      "|                  id|   query_id|         signal_time|          target| type|   user|\n",
      "+--------------------+-----------+--------------------+----------------+-----+-------+\n",
      "|00022025-3e2f-45e...| u79559_0_1|2020-05-07 04:45:...|             gps|query| u79559|\n",
      "|00029cce-ef50-42f...|u644168_0_1|2020-01-25 19:25:...|surge protectors|query|u644168|\n",
      "|0002b70c-1015-4d6...| u35624_0_1|2019-10-19 16:00:...|      headphones|query| u35624|\n",
      "+--------------------+-----------+--------------------+----------------+-----+-------+\n",
      "only showing top 3 rows\n",
      "\n",
      "Simplified signals format: \n",
      "+-----------------+-------+------------+\n",
      "|          keyword|   user|     product|\n",
      "+-----------------+-------+------------+\n",
      "|lord of the rings|u100793|794043140617|\n",
      "|        subwoofer|u100953|713034050223|\n",
      "|         game boy|u100981|841872143378|\n",
      "+-----------------+-------+------------+\n",
      "only showing top 3 rows\n",
      "\n"
     ]
    }
   ],
   "source": [
    "#Show Results:\n",
    "print(\"Original signals format: \")\n",
    "spark.sql(''' select * from signals where type='query' ''').show(3)\n",
    "print(\"Simplified signals format: \")\n",
    "spark.sql(''' select * from keyword_click_product ''').show(3)"
   ]
  },
  {
   "cell_type": "markdown",
   "metadata": {},
   "source": [
    "## Listing 6.9"
   ]
  },
  {
   "cell_type": "code",
   "execution_count": 86,
   "metadata": {},
   "outputs": [],
   "source": [
    "#Calculation:\n",
    "spark.sql(\"\"\"\n",
    "select k1.keyword as k1, k2.keyword as k2, sum(p1) n_users1,sum(p2) n_users2, \n",
    "sum(p1+p2) as users_cooc, count(1) n_products\n",
    "from\n",
    "(select keyword, product, count(1) as p1 from keyword_click_product group by keyword, product) as k1 \n",
    "join\n",
    "(select keyword, product, count(1) as p2 from keyword_click_product group by keyword, product) as k2\n",
    "on k1.product = k2.product\n",
    "where k1.keyword > k2.keyword \n",
    "group by k1.keyword, k2.keyword\n",
    "\"\"\").createOrReplaceTempView('keyword_click_product_cooc')"
   ]
  },
  {
   "cell_type": "code",
   "execution_count": 87,
   "metadata": {},
   "outputs": [
    {
     "name": "stdout",
     "output_type": "stream",
     "text": [
      "+--------------------------+\n",
      "|keyword_click_product_cooc|\n",
      "+--------------------------+\n",
      "|                   1579710|\n",
      "+--------------------------+\n",
      "\n",
      "+--------------+-------------+--------+--------+----------+----------+\n",
      "|            k1|           k2|n_users1|n_users2|users_cooc|n_products|\n",
      "+--------------+-------------+--------+--------+----------+----------+\n",
      "|       laptops|       laptop|    3251|    3345|      6596|       187|\n",
      "|       tablets|       tablet|    1510|    1629|      3139|       155|\n",
      "|        tablet|         ipad|    1468|    7067|      8535|       146|\n",
      "|       tablets|         ipad|    1359|    7048|      8407|       132|\n",
      "|       cameras|       camera|     637|     688|      1325|       116|\n",
      "|          ipad|        apple|    6706|    1129|      7835|       111|\n",
      "|      iphone 4|       iphone|    1313|    1754|      3067|       108|\n",
      "|    headphones|  head phones|    1829|     492|      2321|       106|\n",
      "|        ipad 2|         ipad|    2736|    6738|      9474|        98|\n",
      "|     computers|     computer|     536|     392|       928|        98|\n",
      "|iphone 4 cases|iphone 4 case|     648|     810|      1458|        95|\n",
      "|        laptop|    computers|    2794|     349|      3143|        94|\n",
      "|       netbook|       laptop|    1017|    2887|      3904|        94|\n",
      "|       netbook|      laptops|    1018|    2781|      3799|        91|\n",
      "|    headphones|    headphone|    1617|     367|      1984|        90|\n",
      "|        laptop|           hp|    2078|     749|      2827|        89|\n",
      "|        tablet|    computers|    1124|     449|      1573|        89|\n",
      "|       laptops|    computers|    2734|     331|      3065|        88|\n",
      "|           mac|        apple|    1668|    1218|      2886|        88|\n",
      "|     tablet pc|       tablet|     296|    1408|      1704|        87|\n",
      "+--------------+-------------+--------+--------+----------+----------+\n",
      "only showing top 20 rows\n",
      "\n"
     ]
    }
   ],
   "source": [
    "#Show Results:\n",
    "spark.sql('''select count(1) as keyword_click_product_cooc from keyword_click_product_cooc''').show()\n",
    "spark.sql('''select * from keyword_click_product_cooc order by n_products desc''').show(20)\n",
    "\n"
   ]
  },
  {
   "cell_type": "markdown",
   "metadata": {},
   "source": [
    "## Listing 6.10"
   ]
  },
  {
   "cell_type": "code",
   "execution_count": 88,
   "metadata": {},
   "outputs": [],
   "source": [
    "#Calculation:\n",
    "spark.sql(\"\"\"\n",
    "select keyword, count(1) as n_users from keyword_click_product group by keyword \n",
    "\"\"\").registerTempTable('keyword_click_product_oc')"
   ]
  },
  {
   "cell_type": "code",
   "execution_count": 89,
   "metadata": {},
   "outputs": [
    {
     "name": "stdout",
     "output_type": "stream",
     "text": [
      "+------------------------+\n",
      "|keyword_click_product_oc|\n",
      "+------------------------+\n",
      "|                   13744|\n",
      "+------------------------+\n",
      "\n",
      "+------------+-------+\n",
      "|     keyword|n_users|\n",
      "+------------+-------+\n",
      "|        ipad|   7554|\n",
      "| hp touchpad|   4829|\n",
      "|      lcd tv|   4606|\n",
      "|   iphone 4s|   4585|\n",
      "|      laptop|   3554|\n",
      "|       beats|   3498|\n",
      "|     laptops|   3369|\n",
      "|        ipod|   2949|\n",
      "|  ipod touch|   2931|\n",
      "|      ipad 2|   2842|\n",
      "|      kindle|   2833|\n",
      "|    touchpad|   2785|\n",
      "|   star wars|   2564|\n",
      "|      iphone|   2430|\n",
      "|beats by dre|   2328|\n",
      "|     macbook|   2313|\n",
      "|  headphones|   2270|\n",
      "|        bose|   2071|\n",
      "|         ps3|   2041|\n",
      "|         mac|   1851|\n",
      "+------------+-------+\n",
      "only showing top 20 rows\n",
      "\n"
     ]
    }
   ],
   "source": [
    "#Show Results:\n",
    "spark.sql('''select count(1) as keyword_click_product_oc from keyword_click_product_oc''').show()\n",
    "spark.sql('''select * from keyword_click_product_oc order by n_users desc''').show(20)\n"
   ]
  },
  {
   "cell_type": "markdown",
   "metadata": {},
   "source": [
    "## Listing 6.11"
   ]
  },
  {
   "cell_type": "code",
   "execution_count": 90,
   "metadata": {},
   "outputs": [],
   "source": [
    "# calculate PMI2, per Listing 6.6\n",
    "\n",
    "#Calculation:\n",
    "spark.sql('''\n",
    "select k1.keyword as k1, k2.keyword as k2, k1_k2.users_cooc, k1.n_users as n_users1,k2.n_users as n_users2,\n",
    "log(pow(k1_k2.users_cooc,2)/(k1.n_users*k2.n_users)) as pmi2\n",
    "from\n",
    "keyword_click_product_cooc as k1_k2 \n",
    "join\n",
    "keyword_click_product_oc as k1 on k1_k2.k1 = k1.keyword\n",
    "join\n",
    "keyword_click_product_oc as k2 on k1_k2.k2 = k2.keyword\n",
    "''').registerTempTable('product_related_keywords_pmi')\n"
   ]
  },
  {
   "cell_type": "code",
   "execution_count": 91,
   "metadata": {},
   "outputs": [
    {
     "name": "stdout",
     "output_type": "stream",
     "text": [
      "+--------------------+\n",
      "|related_keywords_pmi|\n",
      "+--------------------+\n",
      "|             1579710|\n",
      "+--------------------+\n",
      "\n",
      "+-------------------+-------------------+----------+--------+--------+------------------+\n",
      "|                 k1|                 k2|users_cooc|n_users1|n_users2|              pmi2|\n",
      "+-------------------+-------------------+----------+--------+--------+------------------+\n",
      "|     hp touchpad 32|        hp touchpad|      4022|       1|    4829| 8.116674454791653|\n",
      "|        hp touchpad|     hp tablet 32gb|      4022|    4829|       1| 8.116674454791653|\n",
      "|          pad pivot|        hp touchpad|      4022|       1|    4829| 8.116674454791653|\n",
      "|        hp touchpad|    hp tablet 32 gb|      4022|    4829|       1| 8.116674454791653|\n",
      "|           touchpad|     hp touchpad 32|      2350|    2785|       1| 7.592338061915025|\n",
      "|           touchpad|          pad pivot|      2350|    2785|       1| 7.592338061915025|\n",
      "|           touchpad|    hp tablet 32 gb|      2350|    2785|       1| 7.592338061915025|\n",
      "|           touchpad|     hp tablet 32gb|      2350|    2785|       1| 7.592338061915025|\n",
      "|           toichpad|        hp touchpad|      4077|       2|    4829| 7.450691539205019|\n",
      "|hp touchpad tablets|        hp touchpad|      4035|       2|    4829| 7.429981294974612|\n",
      "|         hp toucpad|        hp touchpad|      4023|       2|    4829| 7.424024477466089|\n",
      "|               ipad|  automatic starter|      2940|    7554|       1| 7.042497217393052|\n",
      "|        hp touchpad| hp tablet touchpad|      4048|    4829|       3| 7.030949447392952|\n",
      "|           touchpaf|        hp touchpad|      4024|       3|    4829| 7.019056449017499|\n",
      "|        hp touchpad|        hp smartpad|      4024|    4829|       3| 7.019056449017499|\n",
      "|        hp touxhpad|        hp touchpad|      4024|       3|    4829| 7.019056449017499|\n",
      "|        hp touchpad|            2842092|      4024|    4829|       3| 7.019056449017499|\n",
      "|           touchpad|           toichpad|      2369|    2785|       2| 6.915296075396241|\n",
      "|           touchpad|hp touchpad tablets|      2356|    2785|       2|6.9042907566216245|\n",
      "|           touchpad|         hp toucpad|      2351|    2785|       2| 6.900041764158809|\n",
      "+-------------------+-------------------+----------+--------+--------+------------------+\n",
      "only showing top 20 rows\n",
      "\n"
     ]
    }
   ],
   "source": [
    "#Show Results:\n",
    "spark.sql('''select count(1) as related_keywords_pmi from product_related_keywords_pmi''').show()\n",
    "spark.sql('''select * from product_related_keywords_pmi order by pmi2 desc''').show(20)"
   ]
  },
  {
   "cell_type": "code",
   "execution_count": 92,
   "metadata": {},
   "outputs": [],
   "source": [
    "# calculate comp_score, per Listing 6.7\n",
    "\n",
    "#Calculation:\n",
    "spark.sql('''\n",
    "select  *, (r1 + r2 /( r1 * r2))/2 as comp_score from (\n",
    " select *, \n",
    "   rank() over (partition by 1 order by users_cooc desc )  r1 , \n",
    "   rank() over (partition by 1 order by pmi2 desc )  r2  \n",
    "  from product_related_keywords_pmi ) a  '''\n",
    ").registerTempTable('product_related_keywords_comp_score')"
   ]
  },
  {
   "cell_type": "code",
   "execution_count": 93,
   "metadata": {},
   "outputs": [
    {
     "name": "stdout",
     "output_type": "stream",
     "text": [
      "+------------------------------------+\n",
      "|product_related_keywords_comp_scores|\n",
      "+------------------------------------+\n",
      "|                             1579710|\n",
      "+------------------------------------+\n",
      "\n",
      "+----------+-----------+--------+--------+------------------+------------------+\n",
      "|        k1|         k2|n_users1|n_users2|              pmi2|        comp_score|\n",
      "+----------+-----------+--------+--------+------------------+------------------+\n",
      "|      ipad|hp touchpad|    7554|    4829|1.2318940540272372|               1.0|\n",
      "|    ipad 2|       ipad|    2842|    7554| 1.430517155037946|              1.25|\n",
      "|    tablet|       ipad|    1818|    7554|1.6685364924472557|1.6666666666666667|\n",
      "|  touchpad|       ipad|    2785|    7554|1.2231908670315748|             2.125|\n",
      "|   tablets|       ipad|    1627|    7554|1.7493143317791537|               2.6|\n",
      "|     ipad2|       ipad|    1254|    7554|1.9027023623302282|3.0833333333333335|\n",
      "|      ipad|      apple|    7554|    1814|1.4995901756327583|3.5714285714285716|\n",
      "|  touchpad|hp touchpad|    2785|    4829|1.3943192464710108|            4.0625|\n",
      "|      ipad|  hp tablet|    7554|    1421|1.5940745096856273| 4.555555555555555|\n",
      "|ipod touch|       ipad|    2931|    7554|0.8634782989267505|              5.05|\n",
      "|      ipad|      i pad|    7554|     612| 2.415162433949984| 5.545454545454546|\n",
      "|    kindle|       ipad|    2833|    7554| 0.827835342752348| 6.041666666666667|\n",
      "|    laptop|       ipad|    3554|    7554|0.5933664189857987| 6.538461538461538|\n",
      "|      ipad| apple ipad|    7554|     326|2.9163836526446025| 7.035714285714286|\n",
      "|    ipad 2|hp touchpad|    2842|    4829|1.1805849845414993| 7.533333333333333|\n",
      "|   laptops|     laptop|    3369|    3554|1.2902371152378296|           8.03125|\n",
      "|      ipad|         hp|    7554|    1125| 1.534242656892875| 8.529411764705882|\n",
      "|     ipads|       ipad|     254|    7554|3.0147863057446345| 9.027777777777779|\n",
      "|      ipad|  htc flyer|    7554|    1834|1.0160007504012176| 9.526315789473685|\n",
      "|      ipad|    i pad 2|    7554|     204| 3.180197301966425|            10.025|\n",
      "+----------+-----------+--------+--------+------------------+------------------+\n",
      "only showing top 20 rows\n",
      "\n"
     ]
    }
   ],
   "source": [
    "#Show Results:\n",
    "spark.sql( '''\n",
    "  select count(1) product_related_keywords_comp_scores from product_related_keywords_comp_score\n",
    "''').show()\n",
    "\n",
    "spark.sql( '''\n",
    "  select k1, k2, n_users1, n_users2, pmi2, comp_score \n",
    "  from product_related_keywords_comp_score\n",
    "  order by comp_score asc\n",
    "''').show(20)"
   ]
  }
 ],
 "metadata": {
  "kernelspec": {
   "display_name": "Python 3",
   "language": "python",
   "name": "python3"
  },
  "language_info": {
   "codemirror_mode": {
    "name": "ipython",
    "version": 3
   },
   "file_extension": ".py",
   "mimetype": "text/x-python",
   "name": "python",
   "nbconvert_exporter": "python",
   "pygments_lexer": "ipython3",
   "version": "3.7.12"
  }
 },
 "nbformat": 4,
 "nbformat_minor": 2
}
