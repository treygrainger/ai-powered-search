{
 "cells": [
  {
   "cell_type": "markdown",
   "metadata": {},
   "source": [
    "# Misspelling detection and correction"
   ]
  },
  {
   "cell_type": "markdown",
   "metadata": {},
   "source": [
    "**NOTE**: This notebook depends upon the the Retrotech dataset. If you have any issues, please rerun the [Setting up the Retrotech Dataset](../ch4/1.ch4-setting-up-the-retrotech-dataset.ipynb) notebook."
   ]
  },
  {
   "cell_type": "code",
   "execution_count": null,
   "metadata": {},
   "outputs": [],
   "source": [
    "import sys\n",
    "sys.path.append('..')\n",
    "import json\n",
    "from aips import *\n",
    "import pandas as pd\n",
    "import nltk\n",
    "from collections import defaultdict\n",
    "from nltk.corpus import stopwords\n",
    "from nltk.tokenize import RegexpTokenizer\n",
    "import numpy as np\n",
    "import re\n",
    "nltk.download('stopwords')\n",
    "from pyspark.sql import SparkSession\n",
    "spark = SparkSession.builder.appName(\"aips-ch6\").getOrCreate()"
   ]
  },
  {
   "cell_type": "markdown",
   "metadata": {},
   "source": [
    "## Listing 6.12"
   ]
  },
  {
   "cell_type": "code",
   "execution_count": 2,
   "metadata": {},
   "outputs": [
    {
     "name": "stdout",
     "output_type": "stream",
     "text": [
      "[]\n"
     ]
    }
   ],
   "source": [
    "collection=\"products\"\n",
    "query=\"moden\"\n",
    "\n",
    "request = {\n",
    "    \"params\": {\n",
    "        \"q.op\": \"and\",\n",
    "        \"rows\": 0,\n",
    "        \"indent\": \"on\"\n",
    "    },\n",
    "    \"query\": query,\n",
    "}\n",
    "\n",
    "search_results = requests.post(f\"{SOLR_URL}/{collection}/spell\", json=request).json()\n",
    "print(json.dumps(search_results[\"spellcheck\"][\"collations\"], indent=4))"
   ]
  },
  {
   "cell_type": "code",
   "execution_count": 3,
   "metadata": {},
   "outputs": [],
   "source": [
    "#use the real signals\n",
    "signals_collection=\"signals\"\n",
    "signals_opts={\"zkhost\": \"aips-zk\", \"collection\": signals_collection}\n",
    "df = spark.read.format(\"solr\").options(**signals_opts).load()\n",
    "df.createOrReplaceTempView(\"signals\")"
   ]
  },
  {
   "cell_type": "markdown",
   "metadata": {},
   "source": [
    "## Listing 6.13"
   ]
  },
  {
   "cell_type": "code",
   "execution_count": 4,
   "metadata": {},
   "outputs": [],
   "source": [
    "### Create user-searchs table each raw represent one search query.\n",
    "query_signals = spark.sql(\"\"\"\n",
    "  select lower(trim(searches.target)) as keyword, searches.user as user \n",
    "  from signals as searches where searches.type='query'\n",
    "  group by keyword, user\"\"\"\n",
    ").collect()"
   ]
  },
  {
   "cell_type": "markdown",
   "metadata": {},
   "source": [
    "### Step 1: Tokenize queries and count word frequencies. \n",
    "Check word frequency distribution quantiles. The quantile will help decide cut off point for potential misspellings and corrections. "
   ]
  },
  {
   "cell_type": "markdown",
   "metadata": {},
   "source": [
    "## Listing 6.14"
   ]
  },
  {
   "cell_type": "code",
   "execution_count": 5,
   "metadata": {},
   "outputs": [],
   "source": [
    "stop_words = set(stopwords.words('english'))\n",
    "word_list = defaultdict(int)\n",
    "\n",
    "#for query in signal_sample[\"query_s\"]:\n",
    "for row in query_signals:\n",
    "    query = row[\"keyword\"]\n",
    "    tokenizer = RegexpTokenizer(r'\\w+') \n",
    "    tokens   = tokenizer.tokenize(query)\n",
    "    \n",
    "    for token in tokens:\n",
    "        if token not in stop_words and len(token) > 3 and not token.isdigit():  #drop stopwords and digit only tokens\n",
    "            # and only consider token length > 3, since hard to judge whether a very short token is misspelled or not\n",
    "            word_list[token] += 1"
   ]
  },
  {
   "cell_type": "markdown",
   "metadata": {},
   "source": [
    "## Listing 6.15"
   ]
  },
  {
   "cell_type": "code",
   "execution_count": 6,
   "metadata": {},
   "outputs": [
    {
     "data": {
      "text/plain": [
       "{0.1: 5.0,\n",
       " 0.2: 6.0,\n",
       " 0.3: 8.0,\n",
       " 0.4: 12.0,\n",
       " 0.5: 16.0,\n",
       " 0.6: 25.0,\n",
       " 0.7: 47.0,\n",
       " 0.8: 142.20000000000027,\n",
       " 0.9: 333.2000000000007}"
      ]
     },
     "execution_count": 6,
     "metadata": {},
     "output_type": "execute_result"
    }
   ],
   "source": [
    "quantiles_to_check = [0.1,0.2,0.3,0.4,0.5,0.6,0.7,0.8,0.9]\n",
    "quantile_values = np.quantile(np.array(list(word_list.values())), quantiles_to_check)\n",
    "quantiles = dict(zip(quantiles_to_check, quantile_values))\n",
    "quantiles"
   ]
  },
  {
   "cell_type": "markdown",
   "metadata": {},
   "source": [
    "### Step 2: compute metadata needed for word matching. \n",
    "consider word with low count as misspelling condidates, with high count as correctly spelled candidates. "
   ]
  },
  {
   "cell_type": "markdown",
   "metadata": {},
   "source": [
    "## Listing 6.16"
   ]
  },
  {
   "cell_type": "code",
   "execution_count": 7,
   "metadata": {},
   "outputs": [],
   "source": [
    "misspell_candidates = []\n",
    "correction_candidates = []\n",
    "misspell_counts = []\n",
    "correction_counts = []\n",
    "misspell_length = []\n",
    "correction_length = []\n",
    "misspell_initial = []\n",
    "correction_initial = []\n",
    "\n",
    "for k, v in word_list.items():\n",
    "    if v <= quantiles[0.2] : #if v == 1:  # this number based on quantile analysis and the data set, more-likely with user-behvaiour data set to be 1\n",
    "        misspell_candidates.append(k)\n",
    "        misspell_counts.append(v)\n",
    "        misspell_length.append(len(k))\n",
    "        misspell_initial.append(k[0])\n",
    "    if v >= quantiles[0.8]:\n",
    "        correction_candidates.append(k)\n",
    "        correction_counts.append(v)\n",
    "        correction_length.append(len(k))\n",
    "        correction_initial.append(k[0])"
   ]
  },
  {
   "cell_type": "markdown",
   "metadata": {},
   "source": [
    "## Listing 6.17"
   ]
  },
  {
   "cell_type": "code",
   "execution_count": 8,
   "metadata": {},
   "outputs": [],
   "source": [
    "misspell_candidates_df = pd.DataFrame({\n",
    "    \"misspell\":misspell_candidates, \n",
    "    \"misspell_counts\":misspell_counts, \n",
    "    \"misspell_length\":misspell_length,\n",
    "    \"initial\":misspell_initial})\n",
    "\n",
    "correction_candidates_df = pd.DataFrame({\n",
    "    \"correction\":correction_candidates, \n",
    "    \"correction_counts\":correction_counts, \n",
    "    \"correction_length\":correction_length,\n",
    "    \"initial\":correction_initial})"
   ]
  },
  {
   "cell_type": "code",
   "execution_count": 9,
   "metadata": {},
   "outputs": [
    {
     "data": {
      "text/html": [
       "<div>\n",
       "<style scoped>\n",
       "    .dataframe tbody tr th:only-of-type {\n",
       "        vertical-align: middle;\n",
       "    }\n",
       "\n",
       "    .dataframe tbody tr th {\n",
       "        vertical-align: top;\n",
       "    }\n",
       "\n",
       "    .dataframe thead th {\n",
       "        text-align: right;\n",
       "    }\n",
       "</style>\n",
       "<table border=\"1\" class=\"dataframe\">\n",
       "  <thead>\n",
       "    <tr style=\"text-align: right;\">\n",
       "      <th></th>\n",
       "      <th>misspell</th>\n",
       "      <th>misspell_counts</th>\n",
       "      <th>misspell_length</th>\n",
       "      <th>initial</th>\n",
       "    </tr>\n",
       "  </thead>\n",
       "  <tbody>\n",
       "    <tr>\n",
       "      <th>0</th>\n",
       "      <td>carolina</td>\n",
       "      <td>5</td>\n",
       "      <td>8</td>\n",
       "      <td>c</td>\n",
       "    </tr>\n",
       "    <tr>\n",
       "      <th>1</th>\n",
       "      <td>luther</td>\n",
       "      <td>6</td>\n",
       "      <td>6</td>\n",
       "      <td>l</td>\n",
       "    </tr>\n",
       "    <tr>\n",
       "      <th>2</th>\n",
       "      <td>vandross</td>\n",
       "      <td>6</td>\n",
       "      <td>8</td>\n",
       "      <td>v</td>\n",
       "    </tr>\n",
       "    <tr>\n",
       "      <th>3</th>\n",
       "      <td>ldf6920st</td>\n",
       "      <td>6</td>\n",
       "      <td>9</td>\n",
       "      <td>l</td>\n",
       "    </tr>\n",
       "    <tr>\n",
       "      <th>4</th>\n",
       "      <td>nintendogs</td>\n",
       "      <td>6</td>\n",
       "      <td>10</td>\n",
       "      <td>n</td>\n",
       "    </tr>\n",
       "    <tr>\n",
       "      <th>5</th>\n",
       "      <td>gangs</td>\n",
       "      <td>5</td>\n",
       "      <td>5</td>\n",
       "      <td>g</td>\n",
       "    </tr>\n",
       "    <tr>\n",
       "      <th>6</th>\n",
       "      <td>york</td>\n",
       "      <td>5</td>\n",
       "      <td>4</td>\n",
       "      <td>y</td>\n",
       "    </tr>\n",
       "    <tr>\n",
       "      <th>7</th>\n",
       "      <td>mute</td>\n",
       "      <td>6</td>\n",
       "      <td>4</td>\n",
       "      <td>m</td>\n",
       "    </tr>\n",
       "    <tr>\n",
       "      <th>8</th>\n",
       "      <td>math</td>\n",
       "      <td>6</td>\n",
       "      <td>4</td>\n",
       "      <td>m</td>\n",
       "    </tr>\n",
       "    <tr>\n",
       "      <th>9</th>\n",
       "      <td>multimedia</td>\n",
       "      <td>5</td>\n",
       "      <td>10</td>\n",
       "      <td>m</td>\n",
       "    </tr>\n",
       "  </tbody>\n",
       "</table>\n",
       "</div>"
      ],
      "text/plain": [
       "     misspell  misspell_counts  misspell_length initial\n",
       "0    carolina                5                8       c\n",
       "1      luther                6                6       l\n",
       "2    vandross                6                8       v\n",
       "3   ldf6920st                6                9       l\n",
       "4  nintendogs                6               10       n\n",
       "5       gangs                5                5       g\n",
       "6        york                5                4       y\n",
       "7        mute                6                4       m\n",
       "8        math                6                4       m\n",
       "9  multimedia                5               10       m"
      ]
     },
     "execution_count": 9,
     "metadata": {},
     "output_type": "execute_result"
    }
   ],
   "source": [
    "#Show Results:\n",
    "misspell_candidates_df.head(10)"
   ]
  },
  {
   "cell_type": "markdown",
   "metadata": {},
   "source": [
    "### Step 3: Find potential matches \n",
    "based on edit distance and whether word initial is the same or not. "
   ]
  },
  {
   "cell_type": "markdown",
   "metadata": {},
   "source": [
    "## Lsting 6.18"
   ]
  },
  {
   "cell_type": "code",
   "execution_count": 10,
   "metadata": {},
   "outputs": [],
   "source": [
    "def good_match(len1, len2, edit_dist): #allow longer words have more edit distance\n",
    "    match = 0\n",
    "    min_length = min(len1, len2)\n",
    "    if min_length < 8:\n",
    "        if edit_dist == 1: match = 1\n",
    "    elif min_length < 11:\n",
    "        if edit_dist <= 2: match = 1\n",
    "    else:\n",
    "        if edit_dist == 3: match = 1\n",
    "    return match"
   ]
  },
  {
   "cell_type": "markdown",
   "metadata": {},
   "source": [
    "## Listing 6.19"
   ]
  },
  {
   "cell_type": "code",
   "execution_count": 11,
   "metadata": {},
   "outputs": [],
   "source": [
    "matches_candidates = pd.merge(misspell_candidates_df, correction_candidates_df, on=\"initial\")\n",
    "#join missepll list with correction list based on whether they share the same initials to reduce matching time. \n",
    "matches_candidates[\"edit_dist\"] = matches_candidates.apply(lambda row: nltk.edit_distance(row.misspell,row.correction), axis=1)\n",
    "matches_candidates[\"good_match\"] = matches_candidates.apply(lambda row: good_match(row.misspell_length, row.correction_length, row.edit_dist),axis=1)"
   ]
  },
  {
   "cell_type": "code",
   "execution_count": 12,
   "metadata": {},
   "outputs": [],
   "source": [
    "matches = matches_candidates[matches_candidates[\"good_match\"] == 1].drop([\"initial\",\"good_match\"],axis=1)"
   ]
  },
  {
   "cell_type": "markdown",
   "metadata": {},
   "source": [
    "### Step 4: rank potential matched corrections \n",
    "based on edit distance and correction word frequency. shorter edit distance and higher word count will be prefered. only the top one correction is selected for final matching. "
   ]
  },
  {
   "cell_type": "code",
   "execution_count": 13,
   "metadata": {},
   "outputs": [],
   "source": [
    "#matches.sort_values(by=['misspell', 'edit_dist', 'correction_counts'], ascending=[True, True, False])\n",
    "matches_final = matches.groupby('misspell').first().reset_index()"
   ]
  },
  {
   "cell_type": "code",
   "execution_count": 14,
   "metadata": {},
   "outputs": [
    {
     "data": {
      "text/html": [
       "<div>\n",
       "<style scoped>\n",
       "    .dataframe tbody tr th:only-of-type {\n",
       "        vertical-align: middle;\n",
       "    }\n",
       "\n",
       "    .dataframe tbody tr th {\n",
       "        vertical-align: top;\n",
       "    }\n",
       "\n",
       "    .dataframe thead th {\n",
       "        text-align: right;\n",
       "    }\n",
       "</style>\n",
       "<table border=\"1\" class=\"dataframe\">\n",
       "  <thead>\n",
       "    <tr style=\"text-align: right;\">\n",
       "      <th></th>\n",
       "      <th>misspell</th>\n",
       "      <th>correction</th>\n",
       "      <th>misspell_counts</th>\n",
       "      <th>correction_counts</th>\n",
       "      <th>edit_dist</th>\n",
       "    </tr>\n",
       "  </thead>\n",
       "  <tbody>\n",
       "    <tr>\n",
       "      <th>50</th>\n",
       "      <td>iphone3</td>\n",
       "      <td>iphone</td>\n",
       "      <td>6</td>\n",
       "      <td>16854</td>\n",
       "      <td>1</td>\n",
       "    </tr>\n",
       "    <tr>\n",
       "      <th>62</th>\n",
       "      <td>latop</td>\n",
       "      <td>laptop</td>\n",
       "      <td>5</td>\n",
       "      <td>14119</td>\n",
       "      <td>1</td>\n",
       "    </tr>\n",
       "    <tr>\n",
       "      <th>61</th>\n",
       "      <td>laptopa</td>\n",
       "      <td>laptop</td>\n",
       "      <td>6</td>\n",
       "      <td>14119</td>\n",
       "      <td>1</td>\n",
       "    </tr>\n",
       "    <tr>\n",
       "      <th>137</th>\n",
       "      <td>touxhpad</td>\n",
       "      <td>touchpad</td>\n",
       "      <td>5</td>\n",
       "      <td>11550</td>\n",
       "      <td>1</td>\n",
       "    </tr>\n",
       "    <tr>\n",
       "      <th>136</th>\n",
       "      <td>toucpad</td>\n",
       "      <td>touchpad</td>\n",
       "      <td>6</td>\n",
       "      <td>11550</td>\n",
       "      <td>1</td>\n",
       "    </tr>\n",
       "    <tr>\n",
       "      <th>148</th>\n",
       "      <td>wirless</td>\n",
       "      <td>wireless</td>\n",
       "      <td>6</td>\n",
       "      <td>10060</td>\n",
       "      <td>1</td>\n",
       "    </tr>\n",
       "    <tr>\n",
       "      <th>127</th>\n",
       "      <td>tableta</td>\n",
       "      <td>tablet</td>\n",
       "      <td>6</td>\n",
       "      <td>8260</td>\n",
       "      <td>1</td>\n",
       "    </tr>\n",
       "    <tr>\n",
       "      <th>10</th>\n",
       "      <td>cape</td>\n",
       "      <td>case</td>\n",
       "      <td>5</td>\n",
       "      <td>7541</td>\n",
       "      <td>1</td>\n",
       "    </tr>\n",
       "    <tr>\n",
       "      <th>8</th>\n",
       "      <td>cage</td>\n",
       "      <td>case</td>\n",
       "      <td>6</td>\n",
       "      <td>7541</td>\n",
       "      <td>1</td>\n",
       "    </tr>\n",
       "    <tr>\n",
       "      <th>30</th>\n",
       "      <td>gallaxy</td>\n",
       "      <td>galaxy</td>\n",
       "      <td>6</td>\n",
       "      <td>5839</td>\n",
       "      <td>1</td>\n",
       "    </tr>\n",
       "    <tr>\n",
       "      <th>64</th>\n",
       "      <td>loptops</td>\n",
       "      <td>laptops</td>\n",
       "      <td>5</td>\n",
       "      <td>5565</td>\n",
       "      <td>1</td>\n",
       "    </tr>\n",
       "    <tr>\n",
       "      <th>90</th>\n",
       "      <td>potable</td>\n",
       "      <td>portable</td>\n",
       "      <td>6</td>\n",
       "      <td>4477</td>\n",
       "      <td>1</td>\n",
       "    </tr>\n",
       "    <tr>\n",
       "      <th>5</th>\n",
       "      <td>bluetooh</td>\n",
       "      <td>bluetooth</td>\n",
       "      <td>5</td>\n",
       "      <td>4461</td>\n",
       "      <td>1</td>\n",
       "    </tr>\n",
       "    <tr>\n",
       "      <th>146</th>\n",
       "      <td>wats</td>\n",
       "      <td>wars</td>\n",
       "      <td>5</td>\n",
       "      <td>4179</td>\n",
       "      <td>1</td>\n",
       "    </tr>\n",
       "    <tr>\n",
       "      <th>56</th>\n",
       "      <td>kimdle</td>\n",
       "      <td>kindle</td>\n",
       "      <td>5</td>\n",
       "      <td>4129</td>\n",
       "      <td>1</td>\n",
       "    </tr>\n",
       "    <tr>\n",
       "      <th>99</th>\n",
       "      <td>rauter</td>\n",
       "      <td>router</td>\n",
       "      <td>5</td>\n",
       "      <td>4067</td>\n",
       "      <td>1</td>\n",
       "    </tr>\n",
       "    <tr>\n",
       "      <th>77</th>\n",
       "      <td>modum</td>\n",
       "      <td>modem</td>\n",
       "      <td>6</td>\n",
       "      <td>3590</td>\n",
       "      <td>1</td>\n",
       "    </tr>\n",
       "    <tr>\n",
       "      <th>76</th>\n",
       "      <td>moden</td>\n",
       "      <td>modem</td>\n",
       "      <td>5</td>\n",
       "      <td>3590</td>\n",
       "      <td>1</td>\n",
       "    </tr>\n",
       "    <tr>\n",
       "      <th>135</th>\n",
       "      <td>tosheba</td>\n",
       "      <td>toshiba</td>\n",
       "      <td>6</td>\n",
       "      <td>3432</td>\n",
       "      <td>1</td>\n",
       "    </tr>\n",
       "    <tr>\n",
       "      <th>34</th>\n",
       "      <td>gates</td>\n",
       "      <td>games</td>\n",
       "      <td>6</td>\n",
       "      <td>3239</td>\n",
       "      <td>1</td>\n",
       "    </tr>\n",
       "  </tbody>\n",
       "</table>\n",
       "</div>"
      ],
      "text/plain": [
       "     misspell correction  misspell_counts  correction_counts  edit_dist\n",
       "50    iphone3     iphone                6              16854          1\n",
       "62      latop     laptop                5              14119          1\n",
       "61    laptopa     laptop                6              14119          1\n",
       "137  touxhpad   touchpad                5              11550          1\n",
       "136   toucpad   touchpad                6              11550          1\n",
       "148   wirless   wireless                6              10060          1\n",
       "127   tableta     tablet                6               8260          1\n",
       "10       cape       case                5               7541          1\n",
       "8        cage       case                6               7541          1\n",
       "30    gallaxy     galaxy                6               5839          1\n",
       "64    loptops    laptops                5               5565          1\n",
       "90    potable   portable                6               4477          1\n",
       "5    bluetooh  bluetooth                5               4461          1\n",
       "146      wats       wars                5               4179          1\n",
       "56     kimdle     kindle                5               4129          1\n",
       "99     rauter     router                5               4067          1\n",
       "77      modum      modem                6               3590          1\n",
       "76      moden      modem                5               3590          1\n",
       "135   tosheba    toshiba                6               3432          1\n",
       "34      gates      games                6               3239          1"
      ]
     },
     "execution_count": 14,
     "metadata": {},
     "output_type": "execute_result"
    }
   ],
   "source": [
    "#Show Results:\n",
    "matches_final.sort_values(by=['correction_counts'], ascending=[False])[[\"misspell\", \"correction\", \"misspell_counts\", \"correction_counts\", \"edit_dist\"]].head(20)"
   ]
  },
  {
   "cell_type": "markdown",
   "metadata": {},
   "source": [
    "## Listing 6.20"
   ]
  },
  {
   "cell_type": "code",
   "execution_count": 15,
   "metadata": {},
   "outputs": [],
   "source": [
    "## Alternative - don't tokenize into individual keywords\n",
    "stop_words = set(stopwords.words('english'))\n",
    "word_list = defaultdict(int)\n",
    "\n",
    "#for query in signal_sample[\"query_s\"]:\n",
    "for row in query_signals:\n",
    "    query = row[\"keyword\"]\n",
    "\n",
    "    if query not in stop_words and len(query) > 3 and not query.isdigit():  \n",
    "        word_list[query] += 1\n",
    "        \n",
    "#run Listing 16.12-16.15 again..."
   ]
  }
 ],
 "metadata": {
  "kernelspec": {
   "display_name": "Python 3 (ipykernel)",
   "language": "python",
   "name": "python3"
  },
  "language_info": {
   "codemirror_mode": {
    "name": "ipython",
    "version": 3
   },
   "file_extension": ".py",
   "mimetype": "text/x-python",
   "name": "python",
   "nbconvert_exporter": "python",
   "pygments_lexer": "ipython3",
   "version": "3.9.7"
  }
 },
 "nbformat": 4,
 "nbformat_minor": 2
}
