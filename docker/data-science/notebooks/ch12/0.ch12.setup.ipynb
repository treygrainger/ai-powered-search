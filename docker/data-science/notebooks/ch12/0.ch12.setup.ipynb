{
 "cells": [
  {
   "cell_type": "code",
   "execution_count": 2,
   "metadata": {},
   "outputs": [],
   "source": [
    "%load_ext autoreload\n",
    "%autoreload 1\n",
    "\n",
    "import sys\n",
    "sys.path.append('..')\n",
    "from aips import *\n",
    "import pandas as pd\n",
    "import os\n",
    "from IPython.core.display import display,HTML\n",
    "from pyspark.sql import SparkSession\n",
    "spark = SparkSession.builder.appName(\"aips-ch4-getting-started-retrotech\").getOrCreate()"
   ]
  },
  {
   "cell_type": "code",
   "execution_count": 3,
   "metadata": {},
   "outputs": [
    {
     "name": "stdout",
     "output_type": "stream",
     "text": [
      "Already up to date.\n",
      "products.csv\n",
      "signals.csv\n"
     ]
    }
   ],
   "source": [
    "#Get datasets\n",
    "![ ! -d 'retrotech' ] && git clone https://github.com/ai-powered-search/retrotech.git\n",
    "! cd retrotech && git pull\n",
    "! cd retrotech && tar -xvf products.tgz -C '../../data/retrotech/' && tar -xvf signals.tgz -C '../../data/retrotech/'"
   ]
  },
  {
   "cell_type": "code",
   "execution_count": 4,
   "metadata": {},
   "outputs": [
    {
     "name": "stdout",
     "output_type": "stream",
     "text": [
      "\"upc\",\"name\",\"manufacturer\",\"shortDescription\",\"longDescription\"\r\n",
      "\"096009010836\",\"Fists of Bruce Lee - Dolby - DVD\",\\N,\\N,\\N\r\n",
      "\"043396061965\",\"The Professional - Widescreen Uncut - DVD\",\\N,\\N,\\N\r\n",
      "\"085391862024\",\"Pokemon the Movie: 2000 - DVD\",\\N,\\N,\\N\r\n",
      "\"067003016025\",\"Summerbreeze - CD\",\"Nettwerk\",\\N,\\N\r\n",
      "\"731454813822\",\"Back for the First Time [PA] - CD\",\"Def Jam South\",\\N,\\N\r\n",
      "\"024543008200\",\"Big Momma's House - Widescreen - DVD\",\\N,\\N,\\N\r\n",
      "\"031398751823\",\"Kids - DVD\",\\N,\\N,\\N\r\n",
      "\"037628413929\",\"20 Grandes Exitos - CD\",\"Sony Discos Inc.\",\\N,\\N\r\n",
      "\"060768972223\",\"Power Of Trinity (Box) - CD\",\"Sanctuary Records\",\\N,\\N\r\n"
     ]
    }
   ],
   "source": [
    "! cd ../data/retrotech/ && head products.csv"
   ]
  },
  {
   "cell_type": "code",
   "execution_count": 5,
   "metadata": {},
   "outputs": [
    {
     "name": "stdout",
     "output_type": "stream",
     "text": [
      "Wiping 'products' collection\n",
      "[('action', 'CREATE'), ('name', 'products'), ('numShards', 1), ('replicationFactor', 1)]\n",
      "Creating products' collection\n",
      "Status: Success\n",
      "Del/Adding LTR QParser for products collection\n",
      "<Response [400]>\n",
      "Status: Failure; Response:[ {'responseHeader': {'status': 400, 'QTime': 17}, 'errorMessages': ['error processing commands\\n'], 'WARNING': 'This response format is experimental.  It is likely to change in the future.', 'error': {'metadata': ['error-class', 'org.apache.solr.api.ApiBag$ExceptionWithErrObject', 'root-error-class', 'org.apache.solr.api.ApiBag$ExceptionWithErrObject'], 'details': [{'delete-queryparser': 'ltr', 'errorMessages': [\"NO such queryParser 'ltr' \"]}], 'msg': 'error processing commands', 'code': 400}} ]\n",
      "Status: Success\n",
      "Adding LTR Doc Transformer for products collection\n",
      "Status: Failure; Response:[ {'responseHeader': {'status': 400, 'QTime': 4}, 'errorMessages': ['error processing commands\\n'], 'WARNING': 'This response format is experimental.  It is likely to change in the future.', 'error': {'metadata': ['error-class', 'org.apache.solr.api.ApiBag$ExceptionWithErrObject', 'root-error-class', 'org.apache.solr.api.ApiBag$ExceptionWithErrObject'], 'details': [{'delete-transformer': 'features', 'errorMessages': [\"NO such transformer 'features' \"]}], 'msg': 'error processing commands', 'code': 400}} ]\n",
      "Status: Success\n",
      "Adding 'upc' field to collection\n",
      "Status: Success\n",
      "Adding 'name' field to collection\n",
      "Status: Success\n",
      "Adding 'longDescription' field to collection\n",
      "Status: Success\n",
      "Adding 'shortDescription' field to collection\n",
      "Status: Success\n",
      "Adding 'manufacturer' field to collection\n",
      "Status: Success\n",
      "Adding 'collectionName' field to collection\n",
      "Status: Success\n",
      "Deleting all copy fields\n",
      "Creating Field Type text_ngram\n",
      " with Dynamic Field *_ngram\n",
      "Delete dynamic field\n",
      "Status: Failure; Response:[ {'responseHeader': {'status': 400, 'QTime': 210}, 'error': {'metadata': ['error-class', 'org.apache.solr.api.ApiBag$ExceptionWithErrObject', 'root-error-class', 'org.apache.solr.api.ApiBag$ExceptionWithErrObject'], 'details': [{'delete-dynamic-field': {'name': '*_ngram'}, 'errorMessages': [\"The dynamic field '*_ngram' is not present in this schema, and so cannot be deleted.\\n\"]}], 'msg': 'error processing commands', 'code': 400}} ]\n",
      "Delete field type\n",
      "Status: Failure; Response:[ {'responseHeader': {'status': 400, 'QTime': 167}, 'error': {'metadata': ['error-class', 'org.apache.solr.api.ApiBag$ExceptionWithErrObject', 'root-error-class', 'org.apache.solr.api.ApiBag$ExceptionWithErrObject'], 'details': [{'delete-field-type': {'name': 'text_ngram'}, 'errorMessages': [\"The field type 'text_ngram' is not present in this schema, and so cannot be deleted.\\n\"]}], 'msg': 'error processing commands', 'code': 400}} ]\n",
      "Create field type\n",
      "Status: Success\n",
      "Status: Failure; Response:[ {'responseHeader': {'status': 400, 'QTime': 272}, 'error': {'metadata': ['error-class', 'org.apache.solr.api.ApiBag$ExceptionWithErrObject', 'root-error-class', 'org.apache.solr.api.ApiBag$ExceptionWithErrObject'], 'details': [{'delete-dynamic-field': {'name': '*_ngram'}, 'errorMessages': [\"The dynamic field '*_ngram' is not present in this schema, and so cannot be deleted.\\n\"]}], 'msg': 'error processing commands', 'code': 400}} ]\n",
      "Create dynamic field\n",
      "Status: Success\n",
      "Creating Field Type text_omit_norms\n",
      " with Dynamic Field *_omit_norms\n",
      "Delete dynamic field\n",
      "Status: Failure; Response:[ {'responseHeader': {'status': 400, 'QTime': 225}, 'error': {'metadata': ['error-class', 'org.apache.solr.api.ApiBag$ExceptionWithErrObject', 'root-error-class', 'org.apache.solr.api.ApiBag$ExceptionWithErrObject'], 'details': [{'delete-dynamic-field': {'name': '*_omit_norms'}, 'errorMessages': [\"The dynamic field '*_omit_norms' is not present in this schema, and so cannot be deleted.\\n\"]}], 'msg': 'error processing commands', 'code': 400}} ]\n",
      "Delete field type\n",
      "Status: Failure; Response:[ {'responseHeader': {'status': 400, 'QTime': 173}, 'error': {'metadata': ['error-class', 'org.apache.solr.api.ApiBag$ExceptionWithErrObject', 'root-error-class', 'org.apache.solr.api.ApiBag$ExceptionWithErrObject'], 'details': [{'delete-field-type': {'name': 'text_omit_norms'}, 'errorMessages': [\"The field type 'text_omit_norms' is not present in this schema, and so cannot be deleted.\\n\"]}], 'msg': 'error processing commands', 'code': 400}} ]\n",
      "Create field type\n",
      "Status: Success\n",
      "Status: Failure; Response:[ {'responseHeader': {'status': 400, 'QTime': 165}, 'error': {'metadata': ['error-class', 'org.apache.solr.api.ApiBag$ExceptionWithErrObject', 'root-error-class', 'org.apache.solr.api.ApiBag$ExceptionWithErrObject'], 'details': [{'delete-dynamic-field': {'name': '*_omit_norms'}, 'errorMessages': [\"The dynamic field '*_omit_norms' is not present in this schema, and so cannot be deleted.\\n\"]}], 'msg': 'error processing commands', 'code': 400}} ]\n",
      "Create dynamic field\n",
      "Status: Success\n",
      "Adding Copy Field name -> name_ngram'\n",
      "Status: Success\n",
      "Adding Copy Field name -> name_omit_norms'\n",
      "Status: Success\n",
      "Adding Copy Field name -> name_txt_en_split'\n",
      "Status: Success\n"
     ]
    },
    {
     "name": "stderr",
     "output_type": "stream",
     "text": [
      "/usr/local/spark/python/pyspark/sql/session.py:346: UserWarning: inferring schema from dict is deprecated,please use pyspark.sql.Row instead\n",
      "  warnings.warn(\"inferring schema from dict is deprecated,\"\n"
     ]
    },
    {
     "name": "stdout",
     "output_type": "stream",
     "text": [
      "Loading Products...\n",
      "Products Schema: \n",
      "root\n",
      " |-- upc: long (nullable = true)\n",
      " |-- name: string (nullable = true)\n",
      " |-- manufacturer: string (nullable = true)\n",
      " |-- shortDescription: string (nullable = true)\n",
      " |-- longDescription: string (nullable = true)\n",
      " |-- promotion_b: boolean (nullable = true)\n",
      "\n",
      "Status: Success\n"
     ]
    }
   ],
   "source": [
    "#Create Products Collection\n",
    "products_collection=\"products\"\n",
    "create_collection(products_collection)\n",
    "enable_ltr(products_collection)\n",
    "\n",
    "#Modify Schema to make some fields explicitly searchable by keyword\n",
    "upsert_text_field(products_collection, \"upc\")\n",
    "upsert_text_field(products_collection, \"name\")\n",
    "upsert_text_field(products_collection, \"longDescription\")\n",
    "upsert_text_field(products_collection, \"shortDescription\")\n",
    "upsert_text_field(products_collection, \"manufacturer\")\n",
    "upsert_text_field(products_collection, \"collectionName\")\n",
    "\n",
    "clear_copy_fields(products_collection)\n",
    "\n",
    "ngram_analyzer = {\n",
    "                \"tokenizer\": {\n",
    "                    \"class\": \"solr.StandardTokenizerFactory\"\n",
    "                },\n",
    "                \"filters\":\n",
    "                    [{\"class\": \"solr.LowerCaseFilterFactory\"},\n",
    "                     {\"class\": \"solr.NGramFilterFactory\",\n",
    "                      \"minGramSize\": \"3\",\n",
    "                      \"maxGramSize\": \"6\",\n",
    "                      #\"preserveOriginal\": \"true\"\n",
    "                      }\n",
    "                    ]\n",
    "            }\n",
    "\n",
    "text_general_analyzer = {\n",
    "                \"tokenizer\": {\n",
    "                    \"class\": \"solr.StandardTokenizerFactory\"\n",
    "                },\n",
    "                \"filters\":\n",
    "                    [{\"class\": \"solr.LowerCaseFilterFactory\"}\n",
    "                    ]\n",
    "            }\n",
    "\n",
    "\n",
    "add_text_field_type(products_collection,\n",
    "                    analyzer=ngram_analyzer,\n",
    "                    name=\"ngram\",\n",
    "                    omitTermFreqAndPositions=True)\n",
    "\n",
    "add_text_field_type(products_collection,\n",
    "                    analyzer=text_general_analyzer,\n",
    "                    name=\"omit_norms\",\n",
    "                    omitNorms=True)\n",
    "\n",
    "\n",
    "\n",
    "add_copy_field(products_collection, \"name\", \"name_ngram\")\n",
    "add_copy_field(products_collection, \"name\", \"name_omit_norms\")\n",
    "add_copy_field(products_collection, \"name\", \"name_txt_en_split\")\n",
    "\n",
    "\n",
    "promoted = [27242815414,\n",
    " 600603141003,\n",
    " 27242813908,\n",
    " 803238004525,\n",
    " 27242799127,\n",
    " 36725236271,\n",
    " 883393003458,\n",
    " 600603135088,\n",
    " 9781400532711,\n",
    " 97360810042,\n",
    " 97360810042,\n",
    " 97360810042,\n",
    " 97360810042,\n",
    " 803238004525,\n",
    " 27242799127,\n",
    " 36725236271,\n",
    " 883393003458,\n",
    " 36725236271,\n",
    " 883393003458,\n",
    " 27242815414,\n",
    "# promoted transformers movies for example\n",
    " 97360724240,\n",
    " 97360722345,\n",
    " 97368920347,\n",
    "]\n",
    "\n",
    "promoted = [{'upc': promoted_upc, 'promotion_b': True} for promoted_upc in promoted]\n",
    "\n",
    "# Any extra fields we want to add manually\n",
    "enriched_data = spark.createDataFrame(promoted)\n",
    "\n",
    "print(\"Loading Products...\")\n",
    "csvFile = \"../data/retrotech/products.csv\"\n",
    "product_update_opts={\"zkhost\": \"aips-zk\", \"collection\": products_collection, \"gen_uniq_key\": \"true\", \"commit_within\": \"5000\"}\n",
    "csvDF = spark.read.format(\"com.databricks.spark.csv\").option(\"header\", \"true\").option(\"inferSchema\", \"true\").load(csvFile)\n",
    "joined = csvDF.join(enriched_data, ['upc'], \"left\")\n",
    "joined.write.format(\"solr\").options(**product_update_opts).mode(\"overwrite\").save()\n",
    "print(\"Products Schema: \")\n",
    "joined.printSchema()\n",
    "print(\"Status: Success\")"
   ]
  },
  {
   "cell_type": "code",
   "execution_count": 5,
   "metadata": {},
   "outputs": [
    {
     "data": {
      "text/html": [
       "<div id=\"demo\">\n",
       "        <input style=\"width:50%\" readonly type=\"text\" name=\"q\" value=\"ipod\">\n",
       "        <input readonly type=\"submit\" value=\"Search\">\n",
       "\n",
       "    <div class=\"results\">\n",
       "    \t\n",
       "\n",
       "    </div>\n",
       "</div>\n",
       "    \t<div style=\"position: relative; width: 100%; height:auto; overflow: auto;\">\n",
       "\t    \t<div style=\"position: relative; float:left; width: 120px; margin-top:25px\">\n",
       "\t    \t\t<img style=\"width:100px; height: auto\" src=\"../data/retrotech/images/878816004532.jpg\">\n",
       "\t    \t</div>\n",
       "\t    \t<div style=\"position:relative; float:left; clear:none; width: 80%; height:auto\">\n",
       "\t    \t\t<p><strong>Name:</strong> Fusion - Apple&#xAE; iPod&#xAE; Dock for Most Fusion 600 Series Stereos | <strong>Manufacturer:</strong> Fusion</p>\n",
       "\t    \t\t<p> \n",
       "\t    \t\t</p>\n",
       "\t    \t</div>\n",
       "    \t</div>\n",
       "    \t\n",
       "\t\t<div style=\"position:relative; clear:both; content: ' '; display: block; height: 1px; margin-top: 10px; margin-bottom:20px\">\n",
       "\t\t\t<hr style=\"color: gray; width: 95%;\" />\n",
       "\t\t</div>\n",
       "\t\t\n",
       "    \t<div style=\"position: relative; width: 100%; height:auto; overflow: auto;\">\n",
       "\t    \t<div style=\"position: relative; float:left; width: 120px; margin-top:25px\">\n",
       "\t    \t\t<img style=\"width:100px; height: auto\" src=\"../data/retrotech/images/694318011294.jpg\">\n",
       "\t    \t</div>\n",
       "\t    \t<div style=\"position:relative; float:left; clear:none; width: 80%; height:auto\">\n",
       "\t    \t\t<p><strong>Name:</strong> Alesis - Multimix 8-Channel USB 2.0 Mixer | <strong>Manufacturer:</strong> Alesis</p>\n",
       "\t    \t\t<p> \n",
       "\t    \t\t</p>\n",
       "\t    \t</div>\n",
       "    \t</div>\n",
       "    \t\n",
       "\t\t<div style=\"position:relative; clear:both; content: ' '; display: block; height: 1px; margin-top: 10px; margin-bottom:20px\">\n",
       "\t\t\t<hr style=\"color: gray; width: 95%;\" />\n",
       "\t\t</div>\n",
       "\t\t\n",
       "    \t<div style=\"position: relative; width: 100%; height:auto; overflow: auto;\">\n",
       "\t    \t<div style=\"position: relative; float:left; width: 120px; margin-top:25px\">\n",
       "\t    \t\t<img style=\"width:100px; height: auto\" src=\"../data/retrotech/images/885909300549.jpg\">\n",
       "\t    \t</div>\n",
       "\t    \t<div style=\"position:relative; float:left; clear:none; width: 80%; height:auto\">\n",
       "\t    \t\t<p><strong>Name:</strong> Apple - USB Charge/Sync Cable for Apple&#xAE; iPod&#xAE; shuffle | <strong>Manufacturer:</strong> Apple</p>\n",
       "\t    \t\t<p> \n",
       "\t    \t\t</p>\n",
       "\t    \t</div>\n",
       "    \t</div>\n",
       "    \t\n",
       "\t\t<div style=\"position:relative; clear:both; content: ' '; display: block; height: 1px; margin-top: 10px; margin-bottom:20px\">\n",
       "\t\t\t<hr style=\"color: gray; width: 95%;\" />\n",
       "\t\t</div>\n",
       "\t\t\n",
       "    \t<div style=\"position: relative; width: 100%; height:auto; overflow: auto;\">\n",
       "\t    \t<div style=\"position: relative; float:left; width: 120px; margin-top:25px\">\n",
       "\t    \t\t<img style=\"width:100px; height: auto\" src=\"../data/retrotech/images/27108936499.jpg\">\n",
       "\t    \t</div>\n",
       "\t    \t<div style=\"position:relative; float:left; clear:none; width: 80%; height:auto\">\n",
       "\t    \t\t<p><strong>Name:</strong> Yamaha - Apple&#xAE; iPod&#xAE; and iPhone&#xAE; Dock for Most Yamaha A/V Receivers | <strong>Manufacturer:</strong> Yamaha</p>\n",
       "\t    \t\t<p> \n",
       "\t    \t\t</p>\n",
       "\t    \t</div>\n",
       "    \t</div>\n",
       "    \t\n",
       "\t\t<div style=\"position:relative; clear:both; content: ' '; display: block; height: 1px; margin-top: 10px; margin-bottom:20px\">\n",
       "\t\t\t<hr style=\"color: gray; width: 95%;\" />\n",
       "\t\t</div>\n",
       "\t\t\n",
       "    \t<div style=\"position: relative; width: 100%; height:auto; overflow: auto;\">\n",
       "\t    \t<div style=\"position: relative; float:left; width: 120px; margin-top:25px\">\n",
       "\t    \t\t<img style=\"width:100px; height: auto\" src=\"../data/retrotech/images/unavailable.jpg\">\n",
       "\t    \t</div>\n",
       "\t    \t<div style=\"position:relative; float:left; clear:none; width: 80%; height:auto\">\n",
       "\t    \t\t<p><strong>Name:</strong> Sony - 10W Micro Hi-Fi Shelf System with Built-in Apple&#xAE; iPod&#xAE; Dock | <strong>Manufacturer:</strong> Sony</p>\n",
       "\t    \t\t<p> \n",
       "\t    \t\t</p>\n",
       "\t    \t</div>\n",
       "    \t</div>\n",
       "    \t\n",
       "\t\t<div style=\"position:relative; clear:both; content: ' '; display: block; height: 1px; margin-top: 10px; margin-bottom:20px\">\n",
       "\t\t\t<hr style=\"color: gray; width: 95%;\" />\n",
       "\t\t</div>\n",
       "\t\t"
      ],
      "text/plain": [
       "<IPython.core.display.HTML object>"
      ]
     },
     "metadata": {},
     "output_type": "display_data"
    }
   ],
   "source": [
    "query = \"ipod\"\n",
    "\n",
    "collection = \"products\"\n",
    "request = {\n",
    "    \"query\": query,\n",
    "    \"fields\": [\"upc\", \"name\", \"manufacturer\", \"score\"],\n",
    "    \"limit\": 5,\n",
    "    \"params\": {\n",
    "      \"qf\": \"name manufacturer longDescription\",\n",
    "      \"defType\": \"edismax\",\n",
    "      \"sort\": \"score desc, upc asc\"\n",
    "    }\n",
    "}\n",
    "\n",
    "search_results = requests.post(solr_url + collection + \"/select\", json=request).json()[\"response\"][\"docs\"]\n",
    "display(HTML(render_search_results(query, search_results)))"
   ]
  },
  {
   "cell_type": "code",
   "execution_count": 7,
   "metadata": {},
   "outputs": [
    {
     "name": "stdout",
     "output_type": "stream",
     "text": [
      "\"query_id\",\"user\",\"type\",\"target\",\"signal_time\"\r\n",
      "\"u2_0_1\",\"u2\",\"query\",\"nook\",\"2019-07-31 08:49:07.3116\"\r\n",
      "\"u2_1_2\",\"u2\",\"query\",\"rca\",\"2020-05-04 08:28:21.1848\"\r\n",
      "\"u3_0_1\",\"u3\",\"query\",\"macbook\",\"2019-12-22 00:07:07.0152\"\r\n",
      "\"u4_0_1\",\"u4\",\"query\",\"Tv antenna\",\"2019-08-22 23:45:54.1030\"\r\n",
      "\"u5_0_1\",\"u5\",\"query\",\"AC power cord\",\"2019-10-20 08:27:00.1600\"\r\n",
      "\"u6_0_1\",\"u6\",\"query\",\"Watch The Throne\",\"2019-09-18 11:59:53.7470\"\r\n",
      "\"u7_0_1\",\"u7\",\"query\",\"Camcorder\",\"2020-02-25 13:02:29.3089\"\r\n",
      "\"u9_0_1\",\"u9\",\"query\",\"wireless headphones\",\"2020-04-26 04:26:09.7198\"\r\n",
      "\"u10_0_1\",\"u10\",\"query\",\"Xbox\",\"2019-09-13 16:26:12.0132\"\r\n"
     ]
    }
   ],
   "source": [
    "! cd ../data/retrotech && head signals.csv"
   ]
  },
  {
   "cell_type": "markdown",
   "metadata": {},
   "source": [
    "## Download query sessions\n",
    "\n",
    "Download simulated raw clickstream data"
   ]
  },
  {
   "cell_type": "code",
   "execution_count": 7,
   "metadata": {},
   "outputs": [
    {
     "name": "stdout",
     "output_type": "stream",
     "text": [
      "GET https://github.com/ai-powered-search/retrotech/raw/master/sessions/dryer_sessions.gz\n",
      "GET https://github.com/ai-powered-search/retrotech/raw/master/sessions/bluray_sessions.gz\n",
      "GET https://github.com/ai-powered-search/retrotech/raw/master/sessions/blue ray_sessions.gz\n",
      "GET https://github.com/ai-powered-search/retrotech/raw/master/sessions/headphones_sessions.gz\n",
      "GET https://github.com/ai-powered-search/retrotech/raw/master/sessions/ipad_sessions.gz\n",
      "GET https://github.com/ai-powered-search/retrotech/raw/master/sessions/iphone_sessions.gz\n",
      "GET https://github.com/ai-powered-search/retrotech/raw/master/sessions/kindle_sessions.gz\n",
      "GET https://github.com/ai-powered-search/retrotech/raw/master/sessions/lcd tv_sessions.gz\n",
      "GET https://github.com/ai-powered-search/retrotech/raw/master/sessions/macbook_sessions.gz\n",
      "GET https://github.com/ai-powered-search/retrotech/raw/master/sessions/nook_sessions.gz\n",
      "GET https://github.com/ai-powered-search/retrotech/raw/master/sessions/star trek_sessions.gz\n",
      "GET https://github.com/ai-powered-search/retrotech/raw/master/sessions/star wars_sessions.gz\n",
      "GET https://github.com/ai-powered-search/retrotech/raw/master/sessions/transformers dark of the moon_sessions.gz\n"
     ]
    }
   ],
   "source": [
    "from ltr import download\n",
    "simulated_queries = ['dryer', 'bluray', 'blue ray', 'headphones', 'ipad', 'iphone',\n",
    "                     'kindle', 'lcd tv', 'macbook', 'nook', 'star trek', 'star wars',\n",
    "                     'transformers dark of the moon']\n",
    "\n",
    "sessions = [f\"https://github.com/ai-powered-search/retrotech/raw/master/sessions/{query}_sessions.gz\"\n",
    "            for query in simulated_queries]\n",
    "\n",
    "\n",
    "           \n",
    "download(sessions, dest='data/')"
   ]
  },
  {
   "cell_type": "code",
   "execution_count": 8,
   "metadata": {},
   "outputs": [
    {
     "name": "stdout",
     "output_type": "stream",
     "text": [
      "/tmp/notebooks/ch12\r\n"
     ]
    }
   ],
   "source": [
    "!pwd"
   ]
  },
  {
   "cell_type": "code",
   "execution_count": 9,
   "metadata": {},
   "outputs": [
    {
     "name": "stdout",
     "output_type": "stream",
     "text": [
      "'blue ray_sessions.gz'\t 'lcd tv_sessions.gz'\r\n",
      " bluray_sessions.gz\t  macbook_sessions.gz\r\n",
      " dryer_sessions.gz\t  nook_sessions.gz\r\n",
      " headphones_sessions.gz  'star trek_sessions.gz'\r\n",
      " ipad_sessions.gz\t 'star wars_sessions.gz'\r\n",
      " iphone_sessions.gz\t 'transformers dark of the moon_sessions.gz'\r\n",
      " kindle_sessions.gz\r\n"
     ]
    }
   ],
   "source": [
    "!ls data/"
   ]
  },
  {
   "cell_type": "code",
   "execution_count": 10,
   "metadata": {},
   "outputs": [
    {
     "name": "stdout",
     "output_type": "stream",
     "text": [
      " 0.ch12.setup.ipynb  '1.AB Testing.ipynb'   data   retrotech\r\n"
     ]
    }
   ],
   "source": [
    "!ls"
   ]
  },
  {
   "cell_type": "code",
   "execution_count": 11,
   "metadata": {},
   "outputs": [
    {
     "name": "stdout",
     "output_type": "stream",
     "text": [
      "'blue ray_sessions.gz'\t 'lcd tv_sessions.gz'\r\n",
      " bluray_sessions.gz\t  macbook_sessions.gz\r\n",
      " dryer_sessions.gz\t  nook_sessions.gz\r\n",
      " headphones_sessions.gz  'star trek_sessions.gz'\r\n",
      " ipad_sessions.gz\t 'star wars_sessions.gz'\r\n",
      " iphone_sessions.gz\t 'transformers dark of the moon_sessions.gz'\r\n",
      " kindle_sessions.gz\r\n"
     ]
    }
   ],
   "source": [
    "!ls retrotech/sessions/"
   ]
  },
  {
   "cell_type": "code",
   "execution_count": null,
   "metadata": {},
   "outputs": [],
   "source": []
  }
 ],
 "metadata": {
  "kernelspec": {
   "display_name": "Python 3",
   "language": "python",
   "name": "python3"
  }
 },
 "nbformat": 4,
 "nbformat_minor": 2
}
