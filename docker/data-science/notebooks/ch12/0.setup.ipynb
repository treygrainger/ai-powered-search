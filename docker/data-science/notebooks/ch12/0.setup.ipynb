{
 "cells": [
  {
   "cell_type": "markdown",
   "metadata": {},
   "source": [
    "# [ Chapter 12 - Overcoming Bias in Learned Relevance Models ]\n",
    "\n",
    "## Chapter 12 setup\n",
    "\n",
    "In chapter 12, we continue our work on a Learning to Rank solution. Evolving from a purely offline use of click-based training data to trying to explore potentially relevant items the users may find valuable. \n",
    "\n",
    "To setup, we\n",
    "\n",
    "1. Fetch the retrotech data\n",
    "2. Enable LTR\n",
    "3. Define a few fields (different ways of analyzing the underlying retrotech text)\n",
    "4. Define a list of 'promoted' products that our store wants to make prominent\n",
    "5. Insert the retrotech product data via spark\n",
    "\n",
    "\n",
    "### [TODO: remove the product / signals cells, as those were loaded in ch4]"
   ]
  },
  {
   "cell_type": "code",
   "execution_count": 5,
   "metadata": {},
   "outputs": [
    {
     "name": "stdout",
     "output_type": "stream",
     "text": [
      "The autoreload extension is already loaded. To reload it, use:\n",
      "  %reload_ext autoreload\n"
     ]
    }
   ],
   "source": [
    "%load_ext autoreload\n",
    "%autoreload 1\n",
    "\n",
    "import sys\n",
    "sys.path.append('..')\n",
    "from aips import *\n",
    "import pandas as pd\n",
    "import os\n",
    "from IPython.display import display,HTML\n",
    "from pyspark.sql import SparkSession\n",
    "spark = SparkSession.builder.appName(\"AIPS\").getOrCreate()\n",
    "engine = get_engine()"
   ]
  },
  {
   "cell_type": "code",
   "execution_count": 6,
   "metadata": {},
   "outputs": [
    {
     "name": "stdout",
     "output_type": "stream",
     "text": [
      "Already up to date.\n",
      "products.csv\n",
      "signals.csv\n"
     ]
    }
   ],
   "source": [
    "#Get datasets\n",
    "![ ! -d 'retrotech' ] && git clone --depth=1 https://github.com/ai-powered-search/retrotech.git\n",
    "! cd retrotech && git pull\n",
    "! cd retrotech && tar -xvf products.tgz -C '../../data/retrotech/' && tar -xvf signals.tgz -C '../../data/retrotech/'"
   ]
  },
  {
   "cell_type": "code",
   "execution_count": 7,
   "metadata": {},
   "outputs": [
    {
     "name": "stdout",
     "output_type": "stream",
     "text": [
      "\"upc\",\"name\",\"manufacturer\",\"shortDescription\",\"longDescription\"\n",
      "\"096009010836\",\"Fists of Bruce Lee - Dolby - DVD\",\\N,\\N,\\N\n",
      "\"043396061965\",\"The Professional - Widescreen Uncut - DVD\",\\N,\\N,\\N\n",
      "\"085391862024\",\"Pokemon the Movie: 2000 - DVD\",\\N,\\N,\\N\n",
      "\"067003016025\",\"Summerbreeze - CD\",\"Nettwerk\",\\N,\\N\n",
      "\"731454813822\",\"Back for the First Time [PA] - CD\",\"Def Jam South\",\\N,\\N\n",
      "\"024543008200\",\"Big Momma's House - Widescreen - DVD\",\\N,\\N,\\N\n",
      "\"031398751823\",\"Kids - DVD\",\\N,\\N,\\N\n",
      "\"037628413929\",\"20 Grandes Exitos - CD\",\"Sony Discos Inc.\",\\N,\\N\n",
      "\"060768972223\",\"Power Of Trinity (Box) - CD\",\"Sanctuary Records\",\\N,\\N\n"
     ]
    }
   ],
   "source": [
    "! cd ../data/retrotech/ && head products.csv"
   ]
  },
  {
   "cell_type": "code",
   "execution_count": 8,
   "metadata": {},
   "outputs": [
    {
     "name": "stdout",
     "output_type": "stream",
     "text": [
      "Wiping \"products\" collection\n",
      "Creating \"products\" collection\n",
      "Status: Success\n",
      "Deleting all copy fields\n",
      "Status: Success\n",
      "Adding LTR QParser for products collection\n",
      "Status: Success\n",
      "Adding LTR Doc Transformer for products collection\n",
      "Status: Success\n",
      "Loading Products...\n",
      "Products Schema: \n",
      "root\n",
      " |-- upc: long (nullable = true)\n",
      " |-- name: string (nullable = true)\n",
      " |-- manufacturer: string (nullable = true)\n",
      " |-- shortDescription: string (nullable = true)\n",
      " |-- longDescription: string (nullable = true)\n",
      " |-- promotion_b: boolean (nullable = true)\n",
      "\n",
      "Status: Success\n"
     ]
    }
   ],
   "source": [
    "#Create Products Collection\n",
    "products_collection = engine.create_collection(\"products\")\n",
    "engine.apply_additional_schema(products_collection)\n",
    "engine.enable_ltr(products_collection)\n",
    "\n",
    "promoted = [27242815414, 600603141003, 27242813908, 803238004525, 27242799127, 36725236271,\n",
    " 883393003458, 600603135088, 9781400532711, 97360810042, 97360810042, 97360810042, 97360810042,\n",
    " 803238004525, 27242799127, 36725236271, 883393003458, 36725236271, 883393003458, 27242815414,\n",
    "# promoted transformers movies for example\n",
    " 97360724240, 97360722345, 97368920347,\n",
    "]\n",
    "\n",
    "promoted = [{'upc': promoted_upc, 'promotion_b': True} for promoted_upc in promoted]\n",
    "\n",
    "# Any extra fields we want to add manually\n",
    "enriched_data = spark.createDataFrame(promoted)\n",
    "\n",
    "print(\"Loading Products...\")\n",
    "csvFile = \"../data/retrotech/products.csv\"\n",
    "product_update_opts={\"zkhost\": \"aips-zk\", \"collection\": products_collection.name, \n",
    "                     \"gen_uniq_key\": \"true\", \"commit_within\": \"5000\"}\n",
    "csvDF = spark.read.csv(csvFile, header=True, inferSchema=True)\n",
    "joined = csvDF.join(enriched_data, ['upc'], \"left\")\n",
    "joined.write.format(\"solr\").options(**product_update_opts).mode(\"overwrite\").save()\n",
    "print(\"Products Schema: \")\n",
    "joined.printSchema()\n",
    "print(\"Status: Success\")"
   ]
  },
  {
   "cell_type": "code",
   "execution_count": 16,
   "metadata": {},
   "outputs": [
    {
     "data": {
      "text/html": [
       "<div id=\"demo\">\n",
       "        <input style=\"width:50%\" readonly type=\"text\" name=\"q\" value=\"ipod\">\n",
       "        <input readonly type=\"submit\" value=\"Search\">\n",
       "\n",
       "    <div class=\"results\">\n",
       "    \t\n",
       "\n",
       "    </div>\n",
       "</div>"
      ],
      "text/plain": [
       "<IPython.core.display.HTML object>"
      ]
     },
     "metadata": {},
     "output_type": "display_data"
    }
   ],
   "source": [
    "query = \"ipod\"\n",
    "\n",
    "collection = \"products\"\n",
    "request = {\n",
    "    \"query\": query,\n",
    "    \"query_fields\": [\"name\", \"manufacturer\", \"longDescription\"],\n",
    "    \"return_fields\": [\"upc\", \"name\", \"manufacturer\", \"score\"],\n",
    "    \"limit\": 5,\n",
    "    \"order_by\": [(\"score\", \"desc\"), (\"upc\", \"asc\")]\n",
    "}\n",
    "\n",
    "response = products_collection.search(**request)\n",
    "display_product_search(query, response[\"docs\"])"
   ]
  },
  {
   "cell_type": "code",
   "execution_count": 10,
   "metadata": {},
   "outputs": [
    {
     "name": "stdout",
     "output_type": "stream",
     "text": [
      "\"query_id\",\"user\",\"type\",\"target\",\"signal_time\"\n",
      "\"u2_0_1\",\"u2\",\"query\",\"nook\",\"2019-07-31 08:49:07.3116\"\n",
      "\"u2_1_2\",\"u2\",\"query\",\"rca\",\"2020-05-04 08:28:21.1848\"\n",
      "\"u3_0_1\",\"u3\",\"query\",\"macbook\",\"2019-12-22 00:07:07.0152\"\n",
      "\"u4_0_1\",\"u4\",\"query\",\"Tv antenna\",\"2019-08-22 23:45:54.1030\"\n",
      "\"u5_0_1\",\"u5\",\"query\",\"AC power cord\",\"2019-10-20 08:27:00.1600\"\n",
      "\"u6_0_1\",\"u6\",\"query\",\"Watch The Throne\",\"2019-09-18 11:59:53.7470\"\n",
      "\"u7_0_1\",\"u7\",\"query\",\"Camcorder\",\"2020-02-25 13:02:29.3089\"\n",
      "\"u9_0_1\",\"u9\",\"query\",\"wireless headphones\",\"2020-04-26 04:26:09.7198\"\n",
      "\"u10_0_1\",\"u10\",\"query\",\"Xbox\",\"2019-09-13 16:26:12.0132\"\n"
     ]
    }
   ],
   "source": [
    "! cd ../data/retrotech && head signals.csv"
   ]
  },
  {
   "cell_type": "markdown",
   "metadata": {},
   "source": [
    "## Download query sessions\n",
    "\n",
    "Download simulated raw clickstream data"
   ]
  },
  {
   "cell_type": "code",
   "execution_count": 18,
   "metadata": {},
   "outputs": [
    {
     "name": "stdout",
     "output_type": "stream",
     "text": [
      "data/dryer_sessions.gz already exists\n",
      "data/bluray_sessions.gz already exists\n",
      "data/blue ray_sessions.gz already exists\n",
      "data/headphones_sessions.gz already exists\n",
      "data/ipad_sessions.gz already exists\n",
      "data/iphone_sessions.gz already exists\n",
      "data/kindle_sessions.gz already exists\n",
      "data/lcd tv_sessions.gz already exists\n",
      "data/macbook_sessions.gz already exists\n",
      "data/nook_sessions.gz already exists\n",
      "data/star trek_sessions.gz already exists\n",
      "data/star wars_sessions.gz already exists\n",
      "data/transformers dark of the moon_sessions.gz already exists\n"
     ]
    }
   ],
   "source": [
    "from ltr import download\n",
    "simulated_queries = [\"dryer\", \"bluray\", \"blue ray\", \"headphones\", \"ipad\", \"iphone\",\n",
    "                     \"kindle\", \"lcd tv\", \"macbook\", \"nook\", \"star trek\", \"star wars\",\n",
    "                     \"transformers dark of the moon\"]\n",
    "\n",
    "sessions = [f\"https://github.com/ai-powered-search/retrotech/raw/master/sessions/{query}_sessions.gz\"\n",
    "            for query in simulated_queries]\n",
    "           \n",
    "download(sessions, dest=\"data/\")"
   ]
  },
  {
   "cell_type": "code",
   "execution_count": null,
   "metadata": {},
   "outputs": [],
   "source": [
    "!ls data/"
   ]
  },
  {
   "cell_type": "code",
   "execution_count": 22,
   "metadata": {},
   "outputs": [
    {
     "name": "stdout",
     "output_type": "stream",
     "text": [
      "0.setup.ipynb  1.ab-testing-to-active-learning.ipynb\n"
     ]
    }
   ],
   "source": [
    "!ls"
   ]
  },
  {
   "cell_type": "code",
   "execution_count": 17,
   "metadata": {},
   "outputs": [
    {
     "name": "stdout",
     "output_type": "stream",
     "text": [
      "'blue ray_sessions.gz'\t 'lcd tv_sessions.gz'\n",
      " bluray_sessions.gz\t  macbook_sessions.gz\n",
      " dryer_sessions.gz\t  nook_sessions.gz\n",
      " headphones_sessions.gz  'star trek_sessions.gz'\n",
      " ipad_sessions.gz\t 'star wars_sessions.gz'\n",
      " iphone_sessions.gz\t 'transformers dark of the moon_sessions.gz'\n",
      " kindle_sessions.gz\n"
     ]
    }
   ],
   "source": [
    "!ls retrotech/sessions/"
   ]
  },
  {
   "cell_type": "markdown",
   "metadata": {},
   "source": [
    "Up next: [A/B Testing Simulation to Active Learning](1.ab-testing-to-active-learning.ipynb)"
   ]
  }
 ],
 "metadata": {
  "kernelspec": {
   "display_name": "Python 3 (ipykernel)",
   "language": "python",
   "name": "python3"
  }
 },
 "nbformat": 4,
 "nbformat_minor": 2
}
