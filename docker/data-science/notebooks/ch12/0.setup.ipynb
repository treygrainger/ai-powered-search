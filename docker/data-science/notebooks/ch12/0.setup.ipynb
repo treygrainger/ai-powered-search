{
 "cells": [
  {
   "cell_type": "markdown",
   "metadata": {},
   "source": [
    "# [ Chapter 12 - Overcoming Bias in Learned Relevance Models ]\n",
    "\n",
    "## Chapter 12 setup\n",
    "\n",
    "In chapter 12, we continue our work on a Learning to Rank solution. Evolving from a purely offline use of click-based training data to trying to explore potentially relevant items the users may find valuable. \n",
    "\n",
    "To setup, we\n",
    "\n",
    "1. Fetch the retrotech data\n",
    "2. Enable LTR\n",
    "3. Define a few fields (different ways of analyzing the underlying retrotech text)\n",
    "4. Define a list of 'promoted' products that our store wants to make prominent\n",
    "5. Insert the retrotech product data via spark\n",
    "\n",
    "\n",
    "### [TODO: remove the product / signals cells, as those were loaded in ch4]"
   ]
  },
  {
   "cell_type": "code",
   "execution_count": 3,
   "metadata": {},
   "outputs": [
    {
     "name": "stdout",
     "output_type": "stream",
     "text": [
      "Wiping \"products\" collection\n",
      "Creating \"products\" collection\n",
      "Deleting all copy fields\n",
      "{'add-copy-field': {'source': '*', 'dest': '_text_'}}\n",
      "{'responseHeader': {'status': 0, 'QTime': 141}}\n",
      "Creating Field Type text_ngram\n",
      " with Dynamic Field *_ngram\n",
      "Delete dynamic field\n",
      "Status: Failure; Response:[ {'responseHeader': {'status': 400, 'QTime': 36}, 'error': {'metadata': ['error-class', 'org.apache.solr.api.ApiBag$ExceptionWithErrObject', 'root-error-class', 'org.apache.solr.api.ApiBag$ExceptionWithErrObject'], 'details': [{'errorMessages': [\"The dynamic field '*_ngram' is not present in this schema, and so cannot be deleted.\\n\"], 'delete-dynamic-field': {'name': '*_ngram'}}], 'msg': \"error processing commands, errors: [{errorMessages=[The dynamic field '*_ngram' is not present in this schema, and so cannot be deleted.\\n], delete-dynamic-field={name=*_ngram}}], \", 'code': 400}} ]\n",
      "Delete field type\n",
      "Status: Failure; Response:[ {'responseHeader': {'status': 400, 'QTime': 33}, 'error': {'metadata': ['error-class', 'org.apache.solr.api.ApiBag$ExceptionWithErrObject', 'root-error-class', 'org.apache.solr.api.ApiBag$ExceptionWithErrObject'], 'details': [{'errorMessages': [\"The field type 'text_ngram' is not present in this schema, and so cannot be deleted.\\n\"], 'delete-field-type': {'name': 'text_ngram'}}], 'msg': \"error processing commands, errors: [{errorMessages=[The field type 'text_ngram' is not present in this schema, and so cannot be deleted.\\n], delete-field-type={name=text_ngram}}], \", 'code': 400}} ]\n",
      "Create field type\n",
      "Status: Success\n",
      "Status: Failure; Response:[ {'responseHeader': {'status': 400, 'QTime': 58}, 'error': {'metadata': ['error-class', 'org.apache.solr.api.ApiBag$ExceptionWithErrObject', 'root-error-class', 'org.apache.solr.api.ApiBag$ExceptionWithErrObject'], 'details': [{'errorMessages': [\"The dynamic field '*_ngram' is not present in this schema, and so cannot be deleted.\\n\"], 'delete-dynamic-field': {'name': '*_ngram'}}], 'msg': \"error processing commands, errors: [{errorMessages=[The dynamic field '*_ngram' is not present in this schema, and so cannot be deleted.\\n], delete-dynamic-field={name=*_ngram}}], \", 'code': 400}} ]\n",
      "Create dynamic field\n",
      "Status: Success\n",
      "{'add-copy-field': {'source': 'name', 'dest': 'name_ngram'}}\n",
      "{'responseHeader': {'status': 0, 'QTime': 135}}\n",
      "Creating Field Type text_omit_norms\n",
      " with Dynamic Field *_omit_norms\n",
      "Delete dynamic field\n",
      "Status: Failure; Response:[ {'responseHeader': {'status': 400, 'QTime': 35}, 'error': {'metadata': ['error-class', 'org.apache.solr.api.ApiBag$ExceptionWithErrObject', 'root-error-class', 'org.apache.solr.api.ApiBag$ExceptionWithErrObject'], 'details': [{'errorMessages': [\"The dynamic field '*_omit_norms' is not present in this schema, and so cannot be deleted.\\n\"], 'delete-dynamic-field': {'name': '*_omit_norms'}}], 'msg': \"error processing commands, errors: [{errorMessages=[The dynamic field '*_omit_norms' is not present in this schema, and so cannot be deleted.\\n], delete-dynamic-field={name=*_omit_norms}}], \", 'code': 400}} ]\n",
      "Delete field type\n",
      "Status: Failure; Response:[ {'responseHeader': {'status': 400, 'QTime': 34}, 'error': {'metadata': ['error-class', 'org.apache.solr.api.ApiBag$ExceptionWithErrObject', 'root-error-class', 'org.apache.solr.api.ApiBag$ExceptionWithErrObject'], 'details': [{'errorMessages': [\"The field type 'text_omit_norms' is not present in this schema, and so cannot be deleted.\\n\"], 'delete-field-type': {'name': 'text_omit_norms'}}], 'msg': \"error processing commands, errors: [{errorMessages=[The field type 'text_omit_norms' is not present in this schema, and so cannot be deleted.\\n], delete-field-type={name=text_omit_norms}}], \", 'code': 400}} ]\n",
      "Create field type\n",
      "Status: Success\n",
      "Status: Failure; Response:[ {'responseHeader': {'status': 400, 'QTime': 59}, 'error': {'metadata': ['error-class', 'org.apache.solr.api.ApiBag$ExceptionWithErrObject', 'root-error-class', 'org.apache.solr.api.ApiBag$ExceptionWithErrObject'], 'details': [{'errorMessages': [\"The dynamic field '*_omit_norms' is not present in this schema, and so cannot be deleted.\\n\"], 'delete-dynamic-field': {'name': '*_omit_norms'}}], 'msg': \"error processing commands, errors: [{errorMessages=[The dynamic field '*_omit_norms' is not present in this schema, and so cannot be deleted.\\n], delete-dynamic-field={name=*_omit_norms}}], \", 'code': 400}} ]\n",
      "Create dynamic field\n",
      "Status: Success\n",
      "{'add-copy-field': {'source': 'name', 'dest': 'name_omit_norms'}}\n",
      "{'responseHeader': {'status': 0, 'QTime': 140}}\n",
      "{'add-copy-field': {'source': 'name', 'dest': 'name_txt_en_split'}}\n",
      "{'responseHeader': {'status': 0, 'QTime': 150}}\n",
      "{'add-copy-field': {'source': 'promotion_b', 'dest': 'has_promotion'}}\n",
      "{'responseHeader': {'status': 0, 'QTime': 143}}\n",
      "{'add-copy-field': {'source': 'shortDescription', 'dest': 'short_description'}}\n",
      "{'responseHeader': {'status': 0, 'QTime': 150}}\n",
      "{'add-copy-field': {'source': 'longDescription', 'dest': 'long_description'}}\n",
      "{'responseHeader': {'status': 0, 'QTime': 132}}\n",
      "Status: Success\n"
     ]
    },
    {
     "data": {
      "text/plain": [
       "<solr_collection.SolrCollection at 0x7f2c3a68ee90>"
      ]
     },
     "execution_count": 3,
     "metadata": {},
     "output_type": "execute_result"
    }
   ],
   "source": [
    "%load_ext autoreload\n",
    "%autoreload 1\n",
    "\n",
    "import sys\n",
    "sys.path.append('..')\n",
    "from aips import *\n",
    "import pandas \n",
    "import os\n",
    "from IPython.display import display,HTML\n",
    "from pyspark.sql import SparkSession\n",
    "spark = SparkSession.builder.appName(\"AIPS\").getOrCreate()\n",
    "engine = get_engine()"
   ]
  },
  {
   "cell_type": "code",
   "execution_count": 4,
   "metadata": {},
   "outputs": [
    {
     "name": "stdout",
     "output_type": "stream",
     "text": [
      "Cloning into 'retrotech'...\n",
      "remote: Enumerating objects: 19, done.\u001b[K\n",
      "remote: Counting objects: 100% (19/19), done.\u001b[K\n",
      "remote: Compressing objects: 100% (19/19), done.\u001b[K\n",
      "remote: Total 19 (delta 0), reused 19 (delta 0), pack-reused 0\u001b[K\n",
      "Receiving objects: 100% (19/19), 48.29 MiB | 3.97 MiB/s, done.\n",
      "Already up to date.\n",
      "products.csv\n",
      "signals.csv\n"
     ]
    }
   ],
   "source": [
    "#Get datasets\n",
    "![ ! -d 'retrotech' ] && git clone --depth=1 https://github.com/ai-powered-search/retrotech.git\n",
    "! cd retrotech && git pull\n",
    "! cd retrotech && tar -xvf products.tgz -C '../../data/retrotech/' && tar -xvf signals.tgz -C '../../data/retrotech/'"
   ]
  },
  {
   "cell_type": "code",
   "execution_count": 5,
   "metadata": {},
   "outputs": [
    {
     "name": "stdout",
     "output_type": "stream",
     "text": [
      "\"upc\",\"name\",\"manufacturer\",\"shortDescription\",\"longDescription\"\n",
      "\"096009010836\",\"Fists of Bruce Lee - Dolby - DVD\",\\N,\\N,\\N\n",
      "\"043396061965\",\"The Professional - Widescreen Uncut - DVD\",\\N,\\N,\\N\n",
      "\"085391862024\",\"Pokemon the Movie: 2000 - DVD\",\\N,\\N,\\N\n",
      "\"067003016025\",\"Summerbreeze - CD\",\"Nettwerk\",\\N,\\N\n",
      "\"731454813822\",\"Back for the First Time [PA] - CD\",\"Def Jam South\",\\N,\\N\n",
      "\"024543008200\",\"Big Momma's House - Widescreen - DVD\",\\N,\\N,\\N\n",
      "\"031398751823\",\"Kids - DVD\",\\N,\\N,\\N\n",
      "\"037628413929\",\"20 Grandes Exitos - CD\",\"Sony Discos Inc.\",\\N,\\N\n",
      "\"060768972223\",\"Power Of Trinity (Box) - CD\",\"Sanctuary Records\",\\N,\\N\n"
     ]
    }
   ],
   "source": [
    "! cd ../data/retrotech/ && head products.csv"
   ]
  },
  {
   "cell_type": "code",
   "execution_count": 6,
   "metadata": {},
   "outputs": [
    {
     "name": "stdout",
     "output_type": "stream",
     "text": [
      "Wiping \"products\" collection\n",
      "Creating \"products\" collection\n",
      "Deleting all copy fields\n",
      "{'add-copy-field': {'source': '*', 'dest': '_text_'}}\n",
      "{'responseHeader': {'status': 0, 'QTime': 133}}\n",
      "Creating Field Type text_ngram\n",
      " with Dynamic Field *_ngram\n",
      "Delete dynamic field\n",
      "Status: Failure; Response:[ {'responseHeader': {'status': 400, 'QTime': 32}, 'error': {'metadata': ['error-class', 'org.apache.solr.api.ApiBag$ExceptionWithErrObject', 'root-error-class', 'org.apache.solr.api.ApiBag$ExceptionWithErrObject'], 'details': [{'errorMessages': [\"The dynamic field '*_ngram' is not present in this schema, and so cannot be deleted.\\n\"], 'delete-dynamic-field': {'name': '*_ngram'}}], 'msg': \"error processing commands, errors: [{errorMessages=[The dynamic field '*_ngram' is not present in this schema, and so cannot be deleted.\\n], delete-dynamic-field={name=*_ngram}}], \", 'code': 400}} ]\n",
      "Delete field type\n",
      "Status: Failure; Response:[ {'responseHeader': {'status': 400, 'QTime': 30}, 'error': {'metadata': ['error-class', 'org.apache.solr.api.ApiBag$ExceptionWithErrObject', 'root-error-class', 'org.apache.solr.api.ApiBag$ExceptionWithErrObject'], 'details': [{'errorMessages': [\"The field type 'text_ngram' is not present in this schema, and so cannot be deleted.\\n\"], 'delete-field-type': {'name': 'text_ngram'}}], 'msg': \"error processing commands, errors: [{errorMessages=[The field type 'text_ngram' is not present in this schema, and so cannot be deleted.\\n], delete-field-type={name=text_ngram}}], \", 'code': 400}} ]\n",
      "Create field type\n",
      "Status: Success\n",
      "Status: Failure; Response:[ {'responseHeader': {'status': 400, 'QTime': 33}, 'error': {'metadata': ['error-class', 'org.apache.solr.api.ApiBag$ExceptionWithErrObject', 'root-error-class', 'org.apache.solr.api.ApiBag$ExceptionWithErrObject'], 'details': [{'errorMessages': [\"The dynamic field '*_ngram' is not present in this schema, and so cannot be deleted.\\n\"], 'delete-dynamic-field': {'name': '*_ngram'}}], 'msg': \"error processing commands, errors: [{errorMessages=[The dynamic field '*_ngram' is not present in this schema, and so cannot be deleted.\\n], delete-dynamic-field={name=*_ngram}}], \", 'code': 400}} ]\n",
      "Create dynamic field\n",
      "Status: Success\n",
      "{'add-copy-field': {'source': 'name', 'dest': 'name_ngram'}}\n",
      "{'responseHeader': {'status': 0, 'QTime': 139}}\n",
      "Creating Field Type text_omit_norms\n",
      " with Dynamic Field *_omit_norms\n",
      "Delete dynamic field\n",
      "Status: Failure; Response:[ {'responseHeader': {'status': 400, 'QTime': 35}, 'error': {'metadata': ['error-class', 'org.apache.solr.api.ApiBag$ExceptionWithErrObject', 'root-error-class', 'org.apache.solr.api.ApiBag$ExceptionWithErrObject'], 'details': [{'errorMessages': [\"The dynamic field '*_omit_norms' is not present in this schema, and so cannot be deleted.\\n\"], 'delete-dynamic-field': {'name': '*_omit_norms'}}], 'msg': \"error processing commands, errors: [{errorMessages=[The dynamic field '*_omit_norms' is not present in this schema, and so cannot be deleted.\\n], delete-dynamic-field={name=*_omit_norms}}], \", 'code': 400}} ]\n",
      "Delete field type\n",
      "Status: Failure; Response:[ {'responseHeader': {'status': 400, 'QTime': 33}, 'error': {'metadata': ['error-class', 'org.apache.solr.api.ApiBag$ExceptionWithErrObject', 'root-error-class', 'org.apache.solr.api.ApiBag$ExceptionWithErrObject'], 'details': [{'errorMessages': [\"The field type 'text_omit_norms' is not present in this schema, and so cannot be deleted.\\n\"], 'delete-field-type': {'name': 'text_omit_norms'}}], 'msg': \"error processing commands, errors: [{errorMessages=[The field type 'text_omit_norms' is not present in this schema, and so cannot be deleted.\\n], delete-field-type={name=text_omit_norms}}], \", 'code': 400}} ]\n",
      "Create field type\n",
      "Status: Success\n",
      "Status: Failure; Response:[ {'responseHeader': {'status': 400, 'QTime': 61}, 'error': {'metadata': ['error-class', 'org.apache.solr.api.ApiBag$ExceptionWithErrObject', 'root-error-class', 'org.apache.solr.api.ApiBag$ExceptionWithErrObject'], 'details': [{'errorMessages': [\"The dynamic field '*_omit_norms' is not present in this schema, and so cannot be deleted.\\n\"], 'delete-dynamic-field': {'name': '*_omit_norms'}}], 'msg': \"error processing commands, errors: [{errorMessages=[The dynamic field '*_omit_norms' is not present in this schema, and so cannot be deleted.\\n], delete-dynamic-field={name=*_omit_norms}}], \", 'code': 400}} ]\n",
      "Create dynamic field\n",
      "Status: Success\n",
      "{'add-copy-field': {'source': 'name', 'dest': 'name_omit_norms'}}\n",
      "{'responseHeader': {'status': 0, 'QTime': 134}}\n",
      "{'add-copy-field': {'source': 'name', 'dest': 'name_txt_en_split'}}\n",
      "{'responseHeader': {'status': 0, 'QTime': 141}}\n",
      "{'add-copy-field': {'source': 'promotion_b', 'dest': 'has_promotion'}}\n",
      "{'responseHeader': {'status': 0, 'QTime': 127}}\n",
      "{'add-copy-field': {'source': 'shortDescription', 'dest': 'short_description'}}\n",
      "{'responseHeader': {'status': 0, 'QTime': 125}}\n",
      "{'add-copy-field': {'source': 'longDescription', 'dest': 'long_description'}}\n",
      "{'responseHeader': {'status': 0, 'QTime': 136}}\n",
      "Status: Success\n",
      "Adding LTR QParser for products collection\n",
      "Status: Success\n",
      "Adding LTR Doc Transformer for products collection\n",
      "Status: Success\n",
      "Loading Products...\n",
      "Products Schema: \n",
      "root\n",
      " |-- upc: long (nullable = true)\n",
      " |-- name: string (nullable = true)\n",
      " |-- manufacturer: string (nullable = true)\n",
      " |-- shortDescription: string (nullable = true)\n",
      " |-- longDescription: string (nullable = true)\n",
      " |-- has_promotion: boolean (nullable = true)\n",
      "\n",
      "Status: Success\n"
     ]
    }
   ],
   "source": [
    "#Create Products Collection\n",
    "products_collection = engine.create_collection(\"products\")\n",
    "engine.enable_ltr(products_collection)\n",
    "\n",
    "promoted = [27242815414, 600603141003, 27242813908, 803238004525, 27242799127, 36725236271,\n",
    " 883393003458, 600603135088, 9781400532711, 97360810042, 97360810042, 97360810042, 97360810042,\n",
    " 803238004525, 27242799127, 36725236271, 883393003458, 36725236271, 883393003458, 27242815414,\n",
    "# promoted transformers movies for example\n",
    " 97360724240, 97360722345, 97368920347,\n",
    "]\n",
    "\n",
    "promoted = [{'upc': promoted_upc, 'has_promotion': True} for promoted_upc in promoted]\n",
    "\n",
    "# Any extra fields we want to add manually\n",
    "enriched_data = spark.createDataFrame(promoted)\n",
    "\n",
    "print(\"Loading Products...\")\n",
    "csvFile = \"../data/retrotech/products.csv\"\n",
    "product_update_opts={\"zkhost\": \"aips-zk\", \"collection\": products_collection.name, \n",
    "                     \"gen_uniq_key\": \"true\", \"commit_within\": \"5000\"}\n",
    "csvDF = spark.read.csv(csvFile, header=True, inferSchema=True)\n",
    "joined = csvDF.join(enriched_data, ['upc'], \"left\")\n",
    "joined.write.format(\"solr\").options(**product_update_opts).mode(\"overwrite\").save()\n",
    "print(\"Products Schema: \")\n",
    "joined.printSchema()\n",
    "print(\"Status: Success\")"
   ]
  },
  {
   "cell_type": "code",
   "execution_count": 7,
   "metadata": {},
   "outputs": [
    {
     "data": {
      "text/html": [
       "<div id=\"demo\">\n",
       "        <input style=\"width:50%\" readonly type=\"text\" name=\"q\" value=\"ipod\">\n",
       "        <input readonly type=\"submit\" value=\"Search\">\n",
       "\n",
       "    <div class=\"results\">\n",
       "    \t\n",
       "\n",
       "    </div>\n",
       "</div>"
      ],
      "text/plain": [
       "<IPython.core.display.HTML object>"
      ]
     },
     "metadata": {},
     "output_type": "display_data"
    }
   ],
   "source": [
    "query = \"ipod\"\n",
    "\n",
    "collection = \"products\"\n",
    "request = {\n",
    "    \"query\": query,\n",
    "    \"query_fields\": [\"name\", \"manufacturer\", \"long_description\"],\n",
    "    \"return_fields\": [\"upc\", \"name\", \"manufacturer\", \"score\"],\n",
    "    \"limit\": 5,\n",
    "    \"order_by\": [(\"score\", \"desc\"), (\"upc\", \"asc\")]\n",
    "}\n",
    "\n",
    "response = products_collection.search(**request)\n",
    "display_product_search(query, response[\"docs\"])"
   ]
  },
  {
   "cell_type": "code",
   "execution_count": 8,
   "metadata": {},
   "outputs": [
    {
     "name": "stdout",
     "output_type": "stream",
     "text": [
      "\"query_id\",\"user\",\"type\",\"target\",\"signal_time\"\n",
      "\"u2_0_1\",\"u2\",\"query\",\"nook\",\"2019-07-31 08:49:07.3116\"\n",
      "\"u2_1_2\",\"u2\",\"query\",\"rca\",\"2020-05-04 08:28:21.1848\"\n",
      "\"u3_0_1\",\"u3\",\"query\",\"macbook\",\"2019-12-22 00:07:07.0152\"\n",
      "\"u4_0_1\",\"u4\",\"query\",\"Tv antenna\",\"2019-08-22 23:45:54.1030\"\n",
      "\"u5_0_1\",\"u5\",\"query\",\"AC power cord\",\"2019-10-20 08:27:00.1600\"\n",
      "\"u6_0_1\",\"u6\",\"query\",\"Watch The Throne\",\"2019-09-18 11:59:53.7470\"\n",
      "\"u7_0_1\",\"u7\",\"query\",\"Camcorder\",\"2020-02-25 13:02:29.3089\"\n",
      "\"u9_0_1\",\"u9\",\"query\",\"wireless headphones\",\"2020-04-26 04:26:09.7198\"\n",
      "\"u10_0_1\",\"u10\",\"query\",\"Xbox\",\"2019-09-13 16:26:12.0132\"\n"
     ]
    }
   ],
   "source": [
    "! cd ../data/retrotech && head signals.csv"
   ]
  },
  {
   "cell_type": "markdown",
   "metadata": {},
   "source": [
    "## Download query sessions\n",
    "\n",
    "Download simulated raw clickstream data"
   ]
  },
  {
   "cell_type": "code",
   "execution_count": 9,
   "metadata": {},
   "outputs": [
    {
     "name": "stdout",
     "output_type": "stream",
     "text": [
      "GET https://github.com/ai-powered-search/retrotech/raw/master/sessions/dryer_sessions.gz\n",
      "GET https://github.com/ai-powered-search/retrotech/raw/master/sessions/bluray_sessions.gz\n",
      "GET https://github.com/ai-powered-search/retrotech/raw/master/sessions/blue ray_sessions.gz\n",
      "GET https://github.com/ai-powered-search/retrotech/raw/master/sessions/headphones_sessions.gz\n",
      "GET https://github.com/ai-powered-search/retrotech/raw/master/sessions/ipad_sessions.gz\n",
      "GET https://github.com/ai-powered-search/retrotech/raw/master/sessions/iphone_sessions.gz\n",
      "GET https://github.com/ai-powered-search/retrotech/raw/master/sessions/kindle_sessions.gz\n",
      "GET https://github.com/ai-powered-search/retrotech/raw/master/sessions/lcd tv_sessions.gz\n",
      "GET https://github.com/ai-powered-search/retrotech/raw/master/sessions/macbook_sessions.gz\n",
      "GET https://github.com/ai-powered-search/retrotech/raw/master/sessions/nook_sessions.gz\n",
      "GET https://github.com/ai-powered-search/retrotech/raw/master/sessions/star trek_sessions.gz\n",
      "GET https://github.com/ai-powered-search/retrotech/raw/master/sessions/star wars_sessions.gz\n",
      "GET https://github.com/ai-powered-search/retrotech/raw/master/sessions/transformers dark of the moon_sessions.gz\n"
     ]
    }
   ],
   "source": [
    "from ltr import download\n",
    "simulated_queries = [\"dryer\", \"bluray\", \"blue ray\", \"headphones\", \"ipad\", \"iphone\",\n",
    "                     \"kindle\", \"lcd tv\", \"macbook\", \"nook\", \"star trek\", \"star wars\",\n",
    "                     \"transformers dark of the moon\"]\n",
    "\n",
    "sessions = [f\"https://github.com/ai-powered-search/retrotech/raw/master/sessions/{query}_sessions.gz\"\n",
    "            for query in simulated_queries]\n",
    "           \n",
    "download(sessions, dest=\"../data/\")"
   ]
  },
  {
   "cell_type": "code",
   "execution_count": 10,
   "metadata": {},
   "outputs": [
    {
     "name": "stdout",
     "output_type": "stream",
     "text": [
      "'blue ray_sessions.gz'\t 'lcd tv_sessions.gz'\n",
      " bluray_sessions.gz\t  macbook_sessions.gz\n",
      " dryer_sessions.gz\t  nook_sessions.gz\n",
      " embeddings\t\t  outdoors\n",
      " headphones_sessions.gz   retrotech\n",
      " ipad_sessions.gz\t 'star trek_sessions.gz'\n",
      " iphone_sessions.gz\t 'star wars_sessions.gz'\n",
      " kindle_sessions.gz\t 'transformers dark of the moon_sessions.gz'\n"
     ]
    }
   ],
   "source": [
    "!ls ../data/"
   ]
  },
  {
   "cell_type": "code",
   "execution_count": 11,
   "metadata": {},
   "outputs": [
    {
     "name": "stdout",
     "output_type": "stream",
     "text": [
      "aips.py  ch07  ch12  aips.spark.dataframe.py  outdoors\t     solr_collection.py\n",
      "ch03\t ch08  ch13  densevectors\t     pairs.csv\t     solr.py\n",
      "ch04\t ch09  ch14  engine\t\t     __pycache__     webserver\n",
      "ch05\t ch10  ch15  env.py\t\t     retrotech\t     welcome.ipynb\n",
      "ch06\t ch11  data  ltr\t\t     session_gen.py\n"
     ]
    }
   ],
   "source": [
    "!ls"
   ]
  },
  {
   "cell_type": "code",
   "execution_count": 12,
   "metadata": {},
   "outputs": [
    {
     "name": "stdout",
     "output_type": "stream",
     "text": [
      "'blue ray_sessions.gz'\t 'lcd tv_sessions.gz'\n",
      " bluray_sessions.gz\t  macbook_sessions.gz\n",
      " dryer_sessions.gz\t  nook_sessions.gz\n",
      " headphones_sessions.gz  'star trek_sessions.gz'\n",
      " ipad_sessions.gz\t 'star wars_sessions.gz'\n",
      " iphone_sessions.gz\t 'transformers dark of the moon_sessions.gz'\n",
      " kindle_sessions.gz\n"
     ]
    }
   ],
   "source": [
    "!ls retrotech/sessions/"
   ]
  },
  {
   "cell_type": "markdown",
   "metadata": {},
   "source": [
    "Up next: [A/B Testing Simulation to Active Learning](1.ab-testing-to-active-learning.ipynb)"
   ]
  }
 ],
 "metadata": {
  "kernelspec": {
   "display_name": "Python 3 (ipykernel)",
   "language": "python",
   "name": "python3"
  }
 },
 "nbformat": 4,
 "nbformat_minor": 2
}
