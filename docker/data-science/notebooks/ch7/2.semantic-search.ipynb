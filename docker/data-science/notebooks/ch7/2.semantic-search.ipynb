{
 "cells": [
  {
   "cell_type": "markdown",
   "metadata": {},
   "source": [
    "# Setting up the Knowledge Graph Datasets"
   ]
  },
  {
   "cell_type": "code",
   "execution_count": 1,
   "metadata": {},
   "outputs": [],
   "source": [
    "import sys\n",
    "sys.path.append('..')\n",
    "from aips import *\n",
    "import os\n",
    "from IPython.core.display import display,HTML\n",
    "from pyspark.sql import SparkSession\n",
    "from pyspark.sql.functions import lit, col\n",
    "spark = SparkSession.builder.appName(\"ch7\").getOrCreate()"
   ]
  },
  {
   "cell_type": "markdown",
   "metadata": {},
   "source": [
    "## Starting the Reviews Search Web Server and Launching the Search Page"
   ]
  },
  {
   "cell_type": "markdown",
   "metadata": {},
   "source": [
    "### Listing 7.2"
   ]
  },
  {
   "cell_type": "code",
   "execution_count": 2,
   "metadata": {},
   "outputs": [],
   "source": [
    "def get_running_webservers():\n",
    "    already_running_webservers = ! ps -ef | grep '[s]tart-webserver.py' | awk '{print $2}'\n",
    "    return already_running_webservers\n",
    "    \n",
    "def stop_running_webservers():\n",
    "    already_running_webservers = get_running_webservers()\n",
    "    for pid in already_running_webservers:\n",
    "        print(\"Stopping webserver (pid: \" + pid + \")\")\n",
    "        results = ! xargs kill -9 {pid}\n",
    "\n",
    "def start_reviews_search_webserver():\n",
    "    stop_running_webservers() #in case it was already running\n",
    "    ! pip install staticmap\n",
    "    get_ipython().system = os.system\n",
    "    ! cd ../webserver && python start-webserver.py &\n",
    "    if len(get_running_webservers()) > 0:\n",
    "        print(\"Successfully Started Webserver (pid: \" + get_running_webservers()[0] + \")!\")"
   ]
  },
  {
   "cell_type": "code",
   "execution_count": 3,
   "metadata": {},
   "outputs": [
    {
     "name": "stdout",
     "output_type": "stream",
     "text": [
      "Stopping webserver (pid: 968)\n",
      "Requirement already satisfied: staticmap in /opt/conda/lib/python3.7/site-packages (0.5.5)\n",
      "Requirement already satisfied: requests in /opt/conda/lib/python3.7/site-packages (from staticmap) (2.22.0)\n",
      "Requirement already satisfied: Pillow in /opt/conda/lib/python3.7/site-packages (from staticmap) (7.1.1)\n",
      "Requirement already satisfied: urllib3!=1.25.0,!=1.25.1,<1.26,>=1.21.1 in /opt/conda/lib/python3.7/site-packages (from requests->staticmap) (1.25.4)\n",
      "Requirement already satisfied: chardet<3.1.0,>=3.0.2 in /opt/conda/lib/python3.7/site-packages (from requests->staticmap) (3.0.4)\n",
      "Requirement already satisfied: certifi>=2017.4.17 in /opt/conda/lib/python3.7/site-packages (from requests->staticmap) (2019.6.16)\n",
      "Requirement already satisfied: idna<2.9,>=2.5 in /opt/conda/lib/python3.7/site-packages (from requests->staticmap) (2.8)\n",
      "Successfully Started Webserver (pid: 1124)!\n"
     ]
    }
   ],
   "source": [
    "#Start the web server\n",
    "start_reviews_search_webserver()"
   ]
  },
  {
   "cell_type": "code",
   "execution_count": 4,
   "metadata": {},
   "outputs": [
    {
     "data": {
      "text/html": [
       "<iframe src=\"http://localhost:2345/search?q=bbq\" width=\"100%\" height=\"800\"></iframe>\n"
      ],
      "text/plain": [
       "<IPython.core.display.HTML object>"
      ]
     },
     "metadata": {},
     "output_type": "display_data"
    }
   ],
   "source": [
    "%%html\n",
    "<iframe src=\"http://localhost:2345/search?q=bbq\" width=\"100%\" height=\"800\"></iframe>"
   ]
  },
  {
   "cell_type": "code",
   "execution_count": 12,
   "metadata": {},
   "outputs": [
    {
     "name": "stdout",
     "output_type": "stream",
     "text": [
      "Stopping webserver (pid: 168)\n"
     ]
    }
   ],
   "source": [
    "#Cleanup so webserver doesn't keep running after you're done\n",
    "stop_running_webservers()"
   ]
  },
  {
   "cell_type": "markdown",
   "metadata": {},
   "source": [
    "## Success!\n"
   ]
  }
 ],
 "metadata": {
  "kernelspec": {
   "display_name": "Python 3",
   "language": "python",
   "name": "python3"
  },
  "language_info": {
   "codemirror_mode": {
    "name": "ipython",
    "version": 3
   },
   "file_extension": ".py",
   "mimetype": "text/x-python",
   "name": "python",
   "nbconvert_exporter": "python",
   "pygments_lexer": "ipython3",
   "version": "3.7.6"
  }
 },
 "nbformat": 4,
 "nbformat_minor": 2
}
