{
 "cells": [
  {
   "cell_type": "markdown",
   "metadata": {},
   "source": [
    "# Setting up the Knowledge Graph Datasets"
   ]
  },
  {
   "cell_type": "code",
   "execution_count": 1,
   "metadata": {},
   "outputs": [
    {
     "name": "stderr",
     "output_type": "stream",
     "text": [
      "WARNING: An illegal reflective access operation has occurred\n",
      "WARNING: Illegal reflective access by org.apache.spark.unsafe.Platform (file:/usr/local/spark-3.1.2-bin-hadoop3.2/jars/spark-unsafe_2.12-3.1.2.jar) to constructor java.nio.DirectByteBuffer(long,int)\n",
      "WARNING: Please consider reporting this to the maintainers of org.apache.spark.unsafe.Platform\n",
      "WARNING: Use --illegal-access=warn to enable warnings of further illegal reflective access operations\n",
      "WARNING: All illegal access operations will be denied in a future release\n",
      "Setting default log level to \"WARN\".\n",
      "To adjust logging level use sc.setLogLevel(newLevel). For SparkR, use setLogLevel(newLevel).\n"
     ]
    }
   ],
   "source": [
    "import sys\n",
    "sys.path.append('..')\n",
    "from aips import *\n",
    "import os\n",
    "from IPython.core.display import display,HTML\n",
    "from pyspark.sql import SparkSession\n",
    "from pyspark.sql.functions import lit, col\n",
    "spark = SparkSession.builder.appName(\"ch7\").getOrCreate()"
   ]
  },
  {
   "cell_type": "markdown",
   "metadata": {},
   "source": [
    "## Starting the Reviews Search Web Server and Launching the Search Page"
   ]
  },
  {
   "cell_type": "markdown",
   "metadata": {},
   "source": [
    "### Listing 7.2"
   ]
  },
  {
   "cell_type": "code",
   "execution_count": 2,
   "metadata": {},
   "outputs": [],
   "source": [
    "def get_running_webservers():\n",
    "    already_running_webservers = ! ps -ef | grep '[s]tart-webserver.py' | awk '{print $2}'\n",
    "    return already_running_webservers\n",
    "    \n",
    "def stop_running_webservers():\n",
    "    already_running_webservers = get_running_webservers()\n",
    "    for pid in already_running_webservers:\n",
    "        print(\"Stopping webserver (pid: \" + pid + \")\")\n",
    "        results = ! xargs kill -9 {pid}\n",
    "\n",
    "def start_reviews_search_webserver():\n",
    "    stop_running_webservers() #in case it was already running\n",
    "    ! pip install staticmap\n",
    "    get_ipython().system = os.system\n",
    "    ! cd ../webserver && python start-webserver.py &\n",
    "    if len(get_running_webservers()) > 0:\n",
    "        print(\"Successfully Started Webserver (pid: \" + get_running_webservers()[0] + \")!\")"
   ]
  },
  {
   "cell_type": "code",
   "execution_count": 3,
   "metadata": {},
   "outputs": [
    {
     "name": "stdout",
     "output_type": "stream",
     "text": [
      "Stopping webserver (pid: 3068)\n",
      "Requirement already satisfied: staticmap in /opt/conda/lib/python3.9/site-packages (0.5.5)\n",
      "Requirement already satisfied: requests in /opt/conda/lib/python3.9/site-packages (from staticmap) (2.26.0)\n",
      "Requirement already satisfied: Pillow in /opt/conda/lib/python3.9/site-packages (from staticmap) (8.3.2)\n",
      "Requirement already satisfied: urllib3<1.27,>=1.21.1 in /opt/conda/lib/python3.9/site-packages (from requests->staticmap) (1.26.7)\n",
      "Requirement already satisfied: idna<4,>=2.5 in /opt/conda/lib/python3.9/site-packages (from requests->staticmap) (3.1)\n",
      "Requirement already satisfied: certifi>=2017.4.17 in /opt/conda/lib/python3.9/site-packages (from requests->staticmap) (2021.10.8)\n",
      "Requirement already satisfied: charset-normalizer~=2.0.0 in /opt/conda/lib/python3.9/site-packages (from requests->staticmap) (2.0.0)\n",
      "Successfully Started Webserver (pid: 4706)!\n"
     ]
    }
   ],
   "source": [
    "#Start the web server\n",
    "start_reviews_search_webserver()"
   ]
  },
  {
   "cell_type": "code",
   "execution_count": 4,
   "metadata": {},
   "outputs": [
    {
     "data": {
      "application/javascript": [
       "IPython.OutputArea.auto_scroll_threshold = 9999;\n"
      ],
      "text/plain": [
       "<IPython.core.display.Javascript object>"
      ]
     },
     "metadata": {},
     "output_type": "display_data"
    }
   ],
   "source": [
    "%%javascript\n",
    "IPython.OutputArea.auto_scroll_threshold = 9999;"
   ]
  },
  {
   "cell_type": "code",
   "execution_count": 5,
   "metadata": {
    "scrolled": true
   },
   "outputs": [
    {
     "data": {
      "text/html": [
       "\n",
       "        <iframe\n",
       "            width=\"100%\"\n",
       "            height=\"800\"\n",
       "            src=\"http://localhost:2345/search?q=bbq\"\n",
       "            frameborder=\"0\"\n",
       "            allowfullscreen\n",
       "            \n",
       "        ></iframe>\n",
       "        "
      ],
      "text/plain": [
       "<IPython.lib.display.IFrame at 0x7f81cb81d730>"
      ]
     },
     "execution_count": 5,
     "metadata": {},
     "output_type": "execute_result"
    },
    {
     "name": "stderr",
     "output_type": "stream",
     "text": [
      "172.31.0.1 - - [05/Oct/2022 16:06:59] \"GET /search?q=bbq HTTP/1.1\" 200 -\n",
      "172.31.0.1 - - [05/Oct/2022 16:06:59] \"GET /search?q=bbq HTTP/1.1\" 200 -\n",
      "172.31.0.1 - - [05/Oct/2022 16:07:05] \"POST /process_basic_query HTTP/1.1\" 200 -\n",
      "172.31.0.1 - - [05/Oct/2022 16:07:08] \"POST /process_basic_query HTTP/1.1\" 200 -\n",
      "----------------------------------------\n",
      "Exception occurred during processing of request from ('172.31.0.1', 56330)\n",
      "Traceback (most recent call last):\n",
      "  File \"/opt/conda/lib/python3.9/socketserver.py\", line 316, in _handle_request_noblock\n",
      "    self.process_request(request, client_address)\n",
      "  File \"/opt/conda/lib/python3.9/socketserver.py\", line 347, in process_request\n",
      "    self.finish_request(request, client_address)\n",
      "  File \"/opt/conda/lib/python3.9/socketserver.py\", line 360, in finish_request\n",
      "    self.RequestHandlerClass(request, client_address, self)\n",
      "  File \"/opt/conda/lib/python3.9/http/server.py\", line 653, in __init__\n",
      "    super().__init__(*args, **kwargs)\n",
      "  File \"/opt/conda/lib/python3.9/socketserver.py\", line 747, in __init__\n",
      "    self.handle()\n",
      "  File \"/opt/conda/lib/python3.9/http/server.py\", line 427, in handle\n",
      "    self.handle_one_request()\n",
      "  File \"/opt/conda/lib/python3.9/http/server.py\", line 415, in handle_one_request\n",
      "    method()\n",
      "  File \"/home/jovyan/notebooks/webserver/start-webserver.py\", line 472, in do_POST\n",
      "    rendered_results = render_search_results(results)\n",
      "  File \"/home/jovyan/notebooks/webserver/start-webserver.py\", line 428, in render_search_results\n",
      "    .replace(\"${IMAGE_URL}\", HOST_URL + \"/map?lat=\" + str(result['latitude_d']) + \"&lon=\" + str(result['longitude_d'])) \\\n",
      "NameError: name 'HOST_URL' is not defined\n",
      "----------------------------------------\n"
     ]
    }
   ],
   "source": [
    "from IPython.display import IFrame\n",
    "src = f'{WEBSERVER_URL}/search?q=bbq'\n",
    "IFrame(src=src, width=\"100%\", height=800)"
   ]
  },
  {
   "cell_type": "code",
   "execution_count": 6,
   "metadata": {},
   "outputs": [
    {
     "data": {
      "text/html": [
       "<iframe src=\"http://localhost:2345/search?q=bbq\" width=100% height=\"800\"></iframe>\n"
      ],
      "text/plain": [
       "<IPython.core.display.HTML object>"
      ]
     },
     "metadata": {},
     "output_type": "display_data"
    },
    {
     "name": "stderr",
     "output_type": "stream",
     "text": [
      "172.31.0.1 - - [05/Oct/2022 16:07:22] \"POST /process_basic_query HTTP/1.1\" 200 -\n"
     ]
    }
   ],
   "source": [
    "%%html\n",
    "<iframe src=\"http://localhost:2345/search?q=bbq\" width=100% height=\"800\"></iframe>\n"
   ]
  },
  {
   "cell_type": "code",
   "execution_count": 7,
   "metadata": {},
   "outputs": [
    {
     "name": "stdout",
     "output_type": "stream",
     "text": [
      "Stopping webserver (pid: 4706)\n"
     ]
    }
   ],
   "source": [
    "#Cleanup so webserver doesn't keep running after you're done\n",
    "stop_running_webservers()"
   ]
  },
  {
   "cell_type": "markdown",
   "metadata": {},
   "source": [
    "## Success!\n"
   ]
  }
 ],
 "metadata": {
  "kernelspec": {
   "display_name": "Python 3 (ipykernel)",
   "language": "python",
   "name": "python3"
  },
  "language_info": {
   "codemirror_mode": {
    "name": "ipython",
    "version": 3
   },
   "file_extension": ".py",
   "mimetype": "text/x-python",
   "name": "python",
   "nbconvert_exporter": "python",
   "pygments_lexer": "ipython3",
   "version": "3.9.7"
  }
 },
 "nbformat": 4,
 "nbformat_minor": 2
}
