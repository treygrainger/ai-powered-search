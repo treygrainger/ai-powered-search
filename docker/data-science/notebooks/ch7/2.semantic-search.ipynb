{
 "cells": [
  {
   "cell_type": "markdown",
   "metadata": {},
   "source": [
    "# Setting up the Knowledge Graph Datasets"
   ]
  },
  {
   "cell_type": "code",
   "execution_count": 4,
   "metadata": {},
   "outputs": [],
   "source": [
    "import sys\n",
    "sys.path.append('..')\n",
    "from aips import *\n",
    "import os\n",
    "from IPython.core.display import display,HTML\n",
    "from pyspark.sql import SparkSession\n",
    "from pyspark.sql.functions import lit, col\n",
    "spark = SparkSession.builder.appName(\"ch7\").getOrCreate()"
   ]
  },
  {
   "cell_type": "markdown",
   "metadata": {},
   "source": [
    "## Starting the Reviews Search Web Server and Launching the Search Page"
   ]
  },
  {
   "cell_type": "code",
   "execution_count": 5,
   "metadata": {},
   "outputs": [],
   "source": [
    "def get_running_webservers():\n",
    "    already_running_webservers = ! ps -ef | grep '[s]tart-webserver.py' | awk '{print $2}'\n",
    "    return already_running_webservers\n",
    "    \n",
    "def stop_running_webservers():\n",
    "    already_running_webservers = get_running_webservers()\n",
    "    for pid in already_running_webservers:\n",
    "        print(\"Stopping webserver (pid: \" + pid + \")\")\n",
    "        results = ! xargs kill -9 {pid}\n",
    "\n",
    "def start_reviews_search_webserver():\n",
    "    stop_running_webservers() #in case it was already running\n",
    "    ! pip install staticmap\n",
    "    get_ipython().system = os.system\n",
    "    ! cd ../webserver && python start-webserver.py &\n",
    "    if len(get_running_webservers()) > 0:\n",
    "        print(\"Successfully Started Webserver (pid: \" + get_running_webservers()[0] + \")!\")"
   ]
  },
  {
   "cell_type": "markdown",
   "metadata": {},
   "source": [
    "### Listing 7.2"
   ]
  },
  {
   "cell_type": "code",
   "execution_count": 6,
   "metadata": {},
   "outputs": [
    {
     "name": "stdout",
     "output_type": "stream",
     "text": [
      "Stopping webserver (pid: 441)\n",
      "Requirement already satisfied: staticmap in /opt/conda/lib/python3.9/site-packages (0.5.5)\n",
      "Requirement already satisfied: Pillow in /opt/conda/lib/python3.9/site-packages (from staticmap) (8.3.2)\n",
      "Requirement already satisfied: requests in /opt/conda/lib/python3.9/site-packages (from staticmap) (2.26.0)\n",
      "Requirement already satisfied: urllib3<1.27,>=1.21.1 in /opt/conda/lib/python3.9/site-packages (from requests->staticmap) (1.26.7)\n",
      "Requirement already satisfied: certifi>=2017.4.17 in /opt/conda/lib/python3.9/site-packages (from requests->staticmap) (2021.10.8)\n",
      "Requirement already satisfied: charset-normalizer~=2.0.0 in /opt/conda/lib/python3.9/site-packages (from requests->staticmap) (2.0.0)\n",
      "Requirement already satisfied: idna<4,>=2.5 in /opt/conda/lib/python3.9/site-packages (from requests->staticmap) (3.1)\n",
      "Successfully Started Webserver (pid: 2731)!\n"
     ]
    },
    {
     "name": "stderr",
     "output_type": "stream",
     "text": [
      "172.19.0.1 - - [12/Dec/2022 02:12:46] \"POST /process_basic_query HTTP/1.1\" 200 -\n",
      "172.19.0.1 - - [12/Dec/2022 02:12:52] \"GET /search?q=bbq HTTP/1.1\" 304 -\n",
      "172.19.0.1 - - [12/Dec/2022 02:12:52] \"GET /search?q=bbq HTTP/1.1\" 304 -\n",
      "172.19.0.1 - - [12/Dec/2022 02:12:59] \"POST /process_basic_query HTTP/1.1\" 200 -\n",
      "172.19.0.1 - - [12/Dec/2022 02:13:12] \"POST /process_basic_query HTTP/1.1\" 200 -\n",
      "172.19.0.1 - - [12/Dec/2022 02:22:19] \"POST /process_basic_query HTTP/1.1\" 200 -\n",
      "172.19.0.1 - - [12/Dec/2022 02:22:29] \"GET /semantic-search?q=bbq HTTP/1.1\" 200 -\n",
      "172.19.0.1 - - [12/Dec/2022 02:22:29] \"GET /semantic-search?q=bbq HTTP/1.1\" 200 -\n",
      "172.19.0.1 - - [12/Dec/2022 02:22:41] \"POST /process_semantic_query HTTP/1.1\" 200 -\n"
     ]
    }
   ],
   "source": [
    "#Start the web server\n",
    "start_reviews_search_webserver()"
   ]
  },
  {
   "cell_type": "code",
   "execution_count": 6,
   "metadata": {},
   "outputs": [
    {
     "data": {
      "text/html": [
       "<iframe src=\"http://localhost:2345/search?q=bbq\" width=100% height=\"800\"></iframe>\n"
      ],
      "text/plain": [
       "<IPython.core.display.HTML object>"
      ]
     },
     "metadata": {},
     "output_type": "display_data"
    },
    {
     "name": "stderr",
     "output_type": "stream",
     "text": [
      "172.31.0.1 - - [05/Oct/2022 16:07:22] \"POST /process_basic_query HTTP/1.1\" 200 -\n"
     ]
    }
   ],
   "source": [
    "%%html\n",
    "<iframe src=\"http://localhost:2345/search\" width=100% height=\"800\"></iframe>\n"
   ]
  },
  {
   "cell_type": "markdown",
   "metadata": {},
   "source": [
    "### Listing 7.3"
   ]
  },
  {
   "cell_type": "code",
   "execution_count": 17,
   "metadata": {},
   "outputs": [
    {
     "name": "stdout",
     "output_type": "stream",
     "text": [
      "id,surface_form,canonical_form,type,popularity,command_function\n",
      "1,near,{location_distance},command,90,\"cmd_location_distance(query, position)\"\n",
      "2,in,{location_distance},command,100,\"cmd_location_distance(query, position)\"\n",
      "3,by,{location_distance},command,90,\"cmd_location_distance(query, position)\"\n",
      "4,by,{text_within_one_edit_distance},command,10,\"cmd_text_within_one_edit_distance(query, position)\"\n",
      "5,near,{text_distance},command,10,\"cmd_text_distance(query, position)\"\n",
      "6,popular,{popular},command,100,\"cmd_popularity(query, position)\"\n",
      "7,top,{popular},command,100,\"cmd_popularity(query, position)\"\n",
      "8,best,{popular},command,100,\"cmd_popularity(query, position)\"\n",
      "9,good,{popular},command,100,\"cmd_popularity(query, position)\"\n",
      "10,violet,violet,color,100,\n",
      "11,violet crowne,violet crowne,brand,100,\n",
      "12,violet crowne charlottesville,violet crowne charlottesville,movie_theater,100,\n",
      "13,violet crown,violet crowne,brand,100,\n",
      "14,violet crown charlottesville,violet crowne charlottesville,movie_theater,100,\n",
      "15,haystack,haystack conference,event,100,\n",
      "16,haystack conf,haystack conference,event,100,\n",
      "17,haystack conference,haystack conference,event,100,\n",
      "18,heystack,haystack conference,event,100,\n",
      "19,heystack conf,haystack conference,event,100,\n",
      "20,heystack conference,haystack conference,event,100,\n",
      "21,is,is,keyword,100,"
     ]
    },
    {
     "data": {
      "text/plain": [
       "0"
      ]
     },
     "execution_count": 17,
     "metadata": {},
     "output_type": "execute_result"
    }
   ],
   "source": [
    "! cat ../data/reviews/entities.csv"
   ]
  },
  {
   "cell_type": "code",
   "execution_count": null,
   "metadata": {},
   "outputs": [],
   "source": []
  },
  {
   "cell_type": "code",
   "execution_count": 7,
   "metadata": {},
   "outputs": [
    {
     "name": "stdout",
     "output_type": "stream",
     "text": [
      "Stopping webserver (pid: 2731)\n"
     ]
    }
   ],
   "source": [
    "#Cleanup so webserver doesn't keep running after you're done\n",
    "stop_running_webservers()"
   ]
  },
  {
   "cell_type": "markdown",
   "metadata": {},
   "source": [
    "### Listing 7.6"
   ]
  },
  {
   "cell_type": "code",
   "execution_count": 16,
   "metadata": {},
   "outputs": [
    {
     "data": {
      "text/plain": [
       "{'responseHeader': {'status': 0, 'QTime': 0},\n",
       " 'tagsCount': 3,\n",
       " 'tags': [{'startOffset': 0, 'endOffset': 3, 'matchText': 'top', 'ids': ['7']},\n",
       "  {'startOffset': 11, 'endOffset': 15, 'matchText': 'near', 'ids': ['1', '5']},\n",
       "  {'startOffset': 16,\n",
       "   'endOffset': 25,\n",
       "   'matchText': 'charlotte',\n",
       "   'ids': ['4460243', '4612828', '4680560', '4988584', '5234793']}],\n",
       " 'response': {'numFound': 8,\n",
       "  'start': 0,\n",
       "  'docs': [{'id': '1',\n",
       "    'canonical_form': '{location_distance}',\n",
       "    'type': 'command',\n",
       "    'popularity': 90,\n",
       "    'command_function': 'cmd_location_distance(query, position)'},\n",
       "   {'id': '5',\n",
       "    'canonical_form': '{text_distance}',\n",
       "    'type': 'command',\n",
       "    'popularity': 10,\n",
       "    'command_function': 'cmd_text_distance(query, position)'},\n",
       "   {'id': '7',\n",
       "    'canonical_form': '{popular}',\n",
       "    'type': 'command',\n",
       "    'popularity': 100,\n",
       "    'command_function': 'cmd_popularity(query, position)'},\n",
       "   {'id': '4460243',\n",
       "    'canonical_form': 'Charlotte',\n",
       "    'popularity': 827097,\n",
       "    'type': 'city',\n",
       "    'location_p': '35.22709,-80.84313',\n",
       "    'admin_area': 'NC'},\n",
       "   {'id': '4612828',\n",
       "    'canonical_form': 'Charlotte',\n",
       "    'popularity': 1506,\n",
       "    'type': 'city',\n",
       "    'location_p': '36.17728,-87.33973',\n",
       "    'admin_area': 'TN'},\n",
       "   {'id': '4680560',\n",
       "    'canonical_form': 'Charlotte',\n",
       "    'popularity': 1815,\n",
       "    'type': 'city',\n",
       "    'location_p': '28.86192,-98.70641',\n",
       "    'admin_area': 'TX'},\n",
       "   {'id': '4988584',\n",
       "    'canonical_form': 'Charlotte',\n",
       "    'popularity': 9054,\n",
       "    'type': 'city',\n",
       "    'location_p': '42.56365,-84.83582',\n",
       "    'admin_area': 'MI'},\n",
       "   {'id': '5234793',\n",
       "    'canonical_form': 'Charlotte',\n",
       "    'popularity': 3861,\n",
       "    'type': 'city',\n",
       "    'location_p': '44.30977,-73.26096',\n",
       "    'admin_area': 'VT'}]}}"
      ]
     },
     "execution_count": 16,
     "metadata": {},
     "output_type": "execute_result"
    }
   ],
   "source": [
    "import json;\n",
    "\n",
    "def tag_query(post_body):\n",
    "    return requests.post(SOLR_URL + '/entities/tag?json.nl=map&sort=popularity%20desc&matchText=true&echoParams=none&fl=id,type,canonical_form,country:countrycode_s,admin_area:admin_code_1_s,popularity,*_p,command_function', post_body).text\n",
    "\n",
    "json.loads(tag_query(\"top kimchi near charlotte\"))"
   ]
  },
  {
   "cell_type": "markdown",
   "metadata": {},
   "source": [
    "### Listing 7.7"
   ]
  },
  {
   "cell_type": "code",
   "execution_count": 20,
   "metadata": {},
   "outputs": [],
   "source": [
    "def process_semantic_query(query_bytes):\n",
    "    text = query_bytes.decode('UTF-8')\n",
    "    tagged_response = json.loads(tag_query(query_bytes))\n",
    "    query_tree, tagged_query, parsed_query, doc_map = [], \"\", \"\", {}\n",
    "\n",
    "    if (tagged_response['response'] and tagged_response['response']['docs']):\n",
    "        for doc in tagged_response['response']['docs']: \n",
    "            doc_map[doc['id']] = doc \n",
    "\n",
    "    if (tagged_response['tags'] is not None):\n",
    "        tags, lastEnd, metaData = tagged_response['tags'], 0, {}\n",
    "\n",
    "        for tag in tags:\n",
    "            matchText, doc_ids, best_doc_id = tag['matchText'], tag['ids'], None\n",
    "\n",
    "            for doc_id in doc_ids: \n",
    "                if (best_doc_id): \n",
    "                    if (doc_map[doc_id]['popularity'] > doc_map[best_doc_id]['popularity']): \n",
    "                        best_doc_id = doc_id \n",
    "                else: \n",
    "                    best_doc_id = doc_id \n",
    "            best_doc = doc_map[best_doc_id] \n",
    "\n",
    "            nextText = text[lastEnd:tag['startOffset']].strip() \n",
    "            if (len(nextText) > 0):  \n",
    "                query_tree.append({ \"type\":\"keyword\", \"known\":False, \"surface_form\":nextText, \"canonical_form\":nextText })\n",
    "                tagged_query += \" \" + nextText\n",
    "                parsed_query += \" \" + \"{ type:keyword, known: false, surface_form: \\\"\" + nextText + \"\\\"}\"\n",
    "            query_tree.append(best_doc) \n",
    "\n",
    "            tagged_query += \" {\" + matchText + \"}\"\n",
    "            parsed_query += json.dumps(best_doc)\n",
    "            lastEnd = tag['endOffset']\n",
    "\n",
    "        if (lastEnd < len(text)):\n",
    "            finalText = text[lastEnd:len(text)].strip() \n",
    "            if (len(finalText) > 0): \n",
    "                query_tree.append({ \"type\":\"keyword\", \"known\":False, \"surface_form\":finalText, \"canonical_form\":finalText }) \n",
    "                tagged_query += \" \" + finalText\n",
    "                parsed_query += \" \" + \"{ type:keyword, known: false, surface_form: \\\"\" + finalText + \"\\\"}\"\n",
    "    \n",
    "    final_query = resolve_query(query_tree)\n",
    "    resolved_query = query_tree_to_resolved_string(query_tree) \n",
    "\n",
    "    response = {\n",
    "        \"query_tree\": query_treey, \"tagger_data\": tagged_response, \"tagged_query\": tagged_query, \"parsed_query\": parsed_query, \"resolved_query\": resolved_query,\n",
    "        \n",
    "    }\n",
    "    return response"
   ]
  },
  {
   "cell_type": "markdown",
   "metadata": {},
   "source": [
    "### Listing 7.8"
   ]
  },
  {
   "cell_type": "code",
   "execution_count": 21,
   "metadata": {},
   "outputs": [],
   "source": [
    "def cmd_popularity(query, position):\n",
    "    if (len(query['query_tree']) -1 > position): \n",
    "        query['query_tree'][position] = {\"type\":\"solr\", \"query\": '+{!func v=\"mul(if(stars_i,stars_i,0),20)\"}' } \n",
    "        return True \n",
    "    else:\n",
    "        return False "
   ]
  },
  {
   "cell_type": "markdown",
   "metadata": {},
   "source": [
    "### Listing 7.9"
   ]
  },
  {
   "cell_type": "code",
   "execution_count": 22,
   "metadata": {},
   "outputs": [],
   "source": [
    "def cmd_location_distance(query, position):\n",
    "\n",
    "    if (len(query['query_tree']) -1 > position): \n",
    "        nextEntity = query['query_tree'][position + 1] \n",
    "        if (nextEntity['type'] == \"city\"): \n",
    "\n",
    "            query['query_tree'].pop(position + 1); \n",
    "            query['query_tree'][position] = {\"type\":\"solr\",\n",
    "                                             \"query\": create_geo_filter(nextEntity['location_p'],\n",
    "                                             \"location_p\", 50)} \n",
    "            return True\n",
    "\n",
    "    return False \n",
    "\n",
    "def create_geo_filter(coordinates, field, distanceInKM):\n",
    "    return \"+{!geofilt d=\" + str(distanceInKM) + \" sfield=\\\"\" + field + \"\\\" pt=\\\"\" + coordinates + \"\\\"}\""
   ]
  },
  {
   "cell_type": "markdown",
   "metadata": {},
   "source": [
    "### Listing 7.10"
   ]
  },
  {
   "cell_type": "code",
   "execution_count": 23,
   "metadata": {},
   "outputs": [],
   "source": [
    "def get_category_and_term_vector_solr_response(keyword):\n",
    "    query = {\n",
    "        \"params\": { \"fore\": keyword, \"back\": \"*:*\", \"df\": \"text_t\" },\n",
    "        \"query\": \"*:*\", \"limit\": 0,\n",
    "        \"facet\": {\n",
    "            \"term_needing_vector\": {\n",
    "                \"type\": \"query\", \"query\": keyword,\n",
    "                \"facet\": {\n",
    "                    \"related_terms\" : {\n",
    "                        \"type\" : \"terms\", \"field\" : \"text_t\", \"limit\": 3, \"sort\": { \"r1\": \"desc\" },\n",
    "                        \"facet\" : { \"r1\" : \"relatedness($fore,$back)\" }},\n",
    "                    \"doc_type\" : {\n",
    "                        \"type\" : \"terms\", \"field\" : \"doc_type\", \"limit\": 1, \"sort\": { \"r2\": \"desc\" },\n",
    "                        \"facet\" : { \"r2\" : \"relatedness($fore,$back)\"  }}}}}}\n",
    "\n",
    "    response = run_search(query)\n",
    "    return json.loads(response)"
   ]
  },
  {
   "cell_type": "markdown",
   "metadata": {},
   "source": [
    "### Listing 7.11"
   ]
  },
  {
   "cell_type": "code",
   "execution_count": 25,
   "metadata": {},
   "outputs": [],
   "source": [
    "def process_query_tree(query_tree):\n",
    "    query_tree = process_semantic_functions(query_tree) \n",
    "\n",
    "    for position in range(len(query_tree)):\n",
    "        item = query_tree[position];\n",
    "        if (item[\"type\"] != \"solr\"): \n",
    "            if (item[\"type\"] == \"keyword\"):  \n",
    "                categoryAndTermVector = None \n",
    "                solrResponse = get_category_and_term_vector_solr_response(item[\"surface_form\"]) \n",
    "                categoryAndTermVector = parse_category_and_term_vector_from_solr_response(solrResponse) \n",
    "\n",
    "                queryString = \"\" \n",
    "                if (\"term_vector\" in categoryAndTermVector): \n",
    "                    queryString = categoryAndTermVector[\"term_vector\"] \n",
    "\n",
    "                if (\"category\" in categoryAndTermVector): \n",
    "                    if (len(queryString) > 0): \n",
    "                        queryString += \" \" \n",
    "                        queryString += \"+doc_type:\\\"\" + categoryAndTermVector[\"category\"] + \"\\\"\" \n",
    "\n",
    "                if (len(queryString) == 0): \n",
    "                    queryString = item[\"surface_form\"] \n",
    "\n",
    "                query_tree[position] = { \"type\":\"solr\", \"query\": \"+{!edismax v=\\\"\" + escapeQuotesInQuery(queryString) + \"\\\"}\" }\n",
    "            \n",
    "            elif (item[\"type\"] == \"known_item\" or item[\"type\"] == \"city\" or item[\"type\"] == \"event\"): \n",
    "                solrQuery = \"+name_s:\\\"\" + item[\"canonical_form\"] + \"\\\"\"\n",
    "                query_tree[position] = {\"type\":\"solr\", \"query\": solrQuery}\n",
    "            elif (item[\"type\"] == \"brand\"): \n",
    "                solrQuery = \"+brand_s:\\\"\" + item[\"canonical_form\"] + \"\\\"\"\n",
    "                query_tree[position] = {\"type\":\"solr\", \"query\": solrQuery}\n",
    "            else: \n",
    "                query_tree[position] = {\"type\":\"solr\", \"query\": \"+{!edismax v=\\\"\" + escapeQuotesInQuery(item[\"surface_form\"]) + \"\\\"}\"}\n",
    "\n",
    "    return query_tree"
   ]
  },
  {
   "cell_type": "markdown",
   "metadata": {},
   "source": [
    "### Listing 7.12"
   ]
  },
  {
   "cell_type": "code",
   "execution_count": 28,
   "metadata": {},
   "outputs": [],
   "source": [
    "def query_tree_to_resolved_string(query_tree):\n",
    "    resolved_query = \"\"\n",
    "    for i in range(len(query_tree)):\n",
    "        if (len(resolved_query) > 0):\n",
    "            resolved_query += \" \"\n",
    "\n",
    "        resolved_query += query_tree[i]['query']\n",
    "\n",
    "    return resolved_query\n",
    "\n",
    "def run_search(text):\n",
    "    q = urllib.parse.quote(text)\n",
    "    qf, defType = \"text_t\", \"lucene\"\n",
    "\n",
    "    return requests.get(SOLR_URL + \"/reviews/select?q=\" + q + \"&qf=\" + qf + \"&defType=\" + defType).text"
   ]
  },
  {
   "cell_type": "markdown",
   "metadata": {},
   "source": [
    "## Success!\n"
   ]
  }
 ],
 "metadata": {
  "kernelspec": {
   "display_name": "Python 3 (ipykernel)",
   "language": "python",
   "name": "python3"
  },
  "language_info": {
   "codemirror_mode": {
    "name": "ipython",
    "version": 3
   },
   "file_extension": ".py",
   "mimetype": "text/x-python",
   "name": "python",
   "nbconvert_exporter": "python",
   "pygments_lexer": "ipython3",
   "version": "3.9.7"
  }
 },
 "nbformat": 4,
 "nbformat_minor": 2
}
