{
 "cells": [
  {
   "cell_type": "markdown",
   "metadata": {},
   "source": [
    "## [ Chapter 13 - Semantic Search with Dense Vectors ] \n",
    "## Setting up the outdoors dataset\n",
    "\n",
    "We're going to use the Outdoors dataset for this chapter, and for a very important reason: the vocabulary and contexts in the outdoor question and answer __domain__ already have good coverage in the Transformer models we'll be using.\n",
    "\n",
    "This is because the datasets that were used to train the model include sources that are likely to have similar subject matter.  Wikipedia was used to train bert-base-uncased (https://huggingface.co/bert-base-uncased#training-data) and, surprise! wikipedia has a section specifically on outdoors content: https://en.wikipedia.org/wiki/Outdoor\n",
    "\n",
    "This is important, because if the words and their contexts haven't been seen before, the model will be less accurate.\n",
    "\n",
    "Also, who doesn't enjoy playing around with a new dataset?! Data is search nerd candy."
   ]
  },
  {
   "cell_type": "code",
   "execution_count": null,
   "metadata": {},
   "outputs": [],
   "source": [
    "import sys\n",
    "import pickle\n",
    "import json\n",
    "sys.path.append('..')\n",
    "from aips import *\n",
    "from IPython.display import display,HTML\n",
    "engine = get_engine()"
   ]
  },
  {
   "cell_type": "markdown",
   "metadata": {},
   "source": [
    "## Listing 13.1\n",
    "\n",
    "### Creating our Collection and Indexing the documents"
   ]
  },
  {
   "cell_type": "code",
   "execution_count": null,
   "metadata": {},
   "outputs": [
    {
     "name": "stdout",
     "output_type": "stream",
     "text": [
      "Already up to date.\n",
      "README.md\n",
      "concepts.pickle\n",
      "._guesses.csv\n",
      "guesses.csv\n",
      "._guesses_all.json\n",
      "guesses_all.json\n",
      "outdoors_concepts.pickle\n",
      "outdoors_embeddings.pickle\n",
      "._outdoors_golden_answers.csv\n",
      "outdoors_golden_answers.csv\n",
      "._outdoors_golden_answers.xlsx\n",
      "outdoors_golden_answers.xlsx\n",
      "._outdoors_golden_answers_20210130.csv\n",
      "outdoors_golden_answers_20210130.csv\n",
      "outdoors_labels.pickle\n",
      "outdoors_question_answering_contexts.json\n",
      "outdoors_questionanswering_test_set.json\n",
      "outdoors_questionanswering_train_set.json\n",
      "._posts.csv\n",
      "posts.csv\n",
      "predicates.pickle\n",
      "pull_aips_dependency.py\n",
      "._question-answer-seed-contexts.csv\n",
      "question-answer-seed-contexts.csv\n",
      "question-answer-squad2-guesses.csv\n",
      "._roberta-base-squad2-outdoors\n",
      "roberta-base-squad2-outdoors/\n",
      "roberta-base-squad2-outdoors/._tokenizer_config.json\n",
      "roberta-base-squad2-outdoors/tokenizer_config.json\n",
      "roberta-base-squad2-outdoors/._special_tokens_map.json\n",
      "roberta-base-squad2-outdoors/special_tokens_map.json\n",
      "roberta-base-squad2-outdoors/._config.json\n",
      "roberta-base-squad2-outdoors/config.json\n",
      "roberta-base-squad2-outdoors/._merges.txt\n",
      "roberta-base-squad2-outdoors/merges.txt\n",
      "roberta-base-squad2-outdoors/._training_args.bin\n",
      "roberta-base-squad2-outdoors/training_args.bin\n",
      "roberta-base-squad2-outdoors/._pytorch_model.bin\n",
      "roberta-base-squad2-outdoors/pytorch_model.bin\n",
      "roberta-base-squad2-outdoors/._vocab.json\n",
      "roberta-base-squad2-outdoors/vocab.json\n"
     ]
    }
   ],
   "source": [
    "#outdoors\n",
    "![ ! -d 'outdoors' ] && git clone --depth=1 https://github.com/ai-powered-search/outdoors.git\n",
    "! cd outdoors && git pull\n",
    "! cd outdoors && cat outdoors.tgz.part* > outdoors.tgz\n",
    "! cd outdoors && mkdir -p '../../data/outdoors/' && tar -xvf outdoors.tgz -C '../../data/outdoors/'"
   ]
  },
  {
   "cell_type": "markdown",
   "metadata": {},
   "source": [
    "## Listing 13.2\n",
    "\n",
    "### Querying the outdoors dataset with a noun phrase"
   ]
  },
  {
   "cell_type": "code",
   "execution_count": null,
   "metadata": {},
   "outputs": [
    {
     "name": "stdout",
     "output_type": "stream",
     "text": [
      "Wiping \"outdoors\" collection\n",
      "Creating \"outdoors\" collection\n",
      "Status: Success\n"
     ]
    },
    {
     "name": "stderr",
     "output_type": "stream",
     "text": [
      "/home/jovyan/notebooks/densevectors/outdoors.py:11: MarkupResemblesLocatorWarning: The input looks more like a filename than markup. You may want to open this file and pass the filehandle into Beautiful Soup.\n",
      "  soup = BeautifulSoup(h, 'lxml')\n",
      "/usr/local/spark/python/pyspark/sql/pandas/conversion.py:474: FutureWarning: iteritems is deprecated and will be removed in a future version. Use .items instead.\n",
      "  for column, series in pdf.iteritems():\n",
      "/usr/local/spark/python/pyspark/sql/pandas/conversion.py:486: FutureWarning: iteritems is deprecated and will be removed in a future version. Use .items instead.\n",
      "  for column, series in pdf.iteritems():\n"
     ]
    },
    {
     "name": "stdout",
     "output_type": "stream",
     "text": [
      "+---+------------+------------------+---------+--------------------+-------------+-----+----------+--------------------+-------------+------------------+-------------------+------------------------+--------------------+--------------------+--------------------+--------------------+------------+-------------+--------------+-----------+--------------------+--------------------+\n",
      "| id|post_type_id|accepted_answer_id|parent_id|       creation_date|deletion_date|score|view_count|                body|owner_user_id|owner_display_name|last_editor_user_id|last_editor_display_name|      last_edit_date|  last_activity_date|               title|                tags|answer_count|comment_count|favorite_count|closed_date|community_owned_date|                 url|\n",
      "+---+------------+------------------+---------+--------------------+-------------+-----+----------+--------------------+-------------+------------------+-------------------+------------------------+--------------------+--------------------+--------------------+--------------------+------------+-------------+--------------+-----------+--------------------+--------------------+\n",
      "|  1|           1|                12|        0|2012-01-24T19:55:...|          0.0|   31|      7383|A few times I've ...|            9|                  |            12892.0|                        |2018-10-19T10:56:...|2018-10-19T10:56:...|How do I treat ho...|[health, first ai...|           4|          5.0|           1.0|           |                    |https://outdoors....|\n",
      "|  2|           1|                 0|        0|2012-01-24T19:56:...|          0.0|   31|     10880|In some places, t...|           13|                  |             8794.0|                        |2017-11-12T21:06:...|2019-12-11T14:00:...|Where in the Alps...|[safety, health, ...|           7|          3.0|           0.0|           |                    |https://outdoors....|\n",
      "|  3|           1|                35|        0|2012-01-24T19:59:...|          0.0|   20|       311|In some places, l...|           13|                  |             8060.0|                        |2015-12-14T11:10:...|2015-12-14T11:10:...|Is it legal to ca...|[camping, legalit...|           1|          0.0|           1.0|           |                    |https://outdoors....|\n",
      "|  4|           1|                22|        0|2012-01-24T20:00:...|          0.0|   17|       633|Many outdoor area...|           20|                  |               74.0|                        |2012-08-13T00:26:...|2012-08-13T00:26:...|What are the crit...|[safety, bears, b...|           3|          0.0|           0.0|           |                    |https://outdoors....|\n",
      "|  5|           1|                 0|        0|2012-01-24T20:02:...|          0.0|   34|      1200|I'm thinking abou...|           10|                  |               18.0|                        |2012-01-25T01:42:...|2016-03-07T21:28:...|Can I sail a raft...|[safety, rivers, ...|           4|         11.0|           2.0|           |                    |https://outdoors....|\n",
      "+---+------------+------------------+---------+--------------------+-------------+-----+----------+--------------------+-------------+------------------+-------------------+------------------------+--------------------+--------------------+--------------------+--------------------+------------+-------------+--------------+-----------+--------------------+--------------------+\n",
      "only showing top 5 rows\n",
      "\n"
     ]
    }
   ],
   "source": [
    "from densevectors.outdoors import *\n",
    "#Transform the the outdoors.csv file into solr documents\n",
    "outdoors_collection = engine.create_collection(\"outdoors\")\n",
    "outdoors_dataframe = load_outdoors_data(\"../data/outdoors/posts.csv\")\n",
    "outdoors_collection.write(outdoors_dataframe)\n",
    "\n",
    "outdoors_dataframe.show(5)"
   ]
  },
  {
   "cell_type": "code",
   "execution_count": null,
   "metadata": {},
   "outputs": [],
   "source": [
    "def query_collection(query):\n",
    "    request = {\"query\": query,\n",
    "               \"query_fields\": [\"title\", \"body\"],\n",
    "               \"return_fields\": [\"id\", \"title\", \"url\"],\n",
    "               \"filters\": [(\"post_type_id\", \"1\")],\n",
    "               \"hightlight\": True}\n",
    "    return outdoors_collection.search(**request)\n",
    "    \n",
    "def display_html(response, verbose=False):    \n",
    "    highlights = [response[\"highlighting\"][k] for k in response[\"highlighting\"].keys()]\n",
    "    for r in zip(response[\"docs\"], highlights):\n",
    "        print(r)\n",
    "        display(HTML('<a href=\"'+r[0][\"url\"]+'\">qid '+r[0][\"id\"]+'</a>&nbsp;'))\n",
    "        if \"title\" in r[0].keys():\n",
    "            display(HTML(\"<strong>Question Title:</strong>\" + r[0][\"title\"]))\n",
    "        if verbose:\n",
    "            display(HTML(\"<strong>Body:</strong>\" + html.unescape(str(r[1][\"body\"][0]))))\n",
    "            display(HTML(\"<hr>\"))"
   ]
  },
  {
   "cell_type": "markdown",
   "metadata": {},
   "source": [
    "## Listing 13.2\n",
    "\n",
    "### Querying our collection with a noun phrase"
   ]
  },
  {
   "cell_type": "code",
   "execution_count": null,
   "metadata": {},
   "outputs": [],
   "source": [
    "response = query_collection(\"climbing knots\")\n",
    "display_html(response, verbose=True)"
   ]
  },
  {
   "cell_type": "code",
   "execution_count": null,
   "metadata": {},
   "outputs": [],
   "source": [
    "response = query_collection(\"snow camping safety\")\n",
    "display_html(response, verbose=True)"
   ]
  },
  {
   "cell_type": "markdown",
   "metadata": {},
   "source": [
    "## Listing 13.3\n",
    "\n",
    "### Querying our collection with a question"
   ]
  },
  {
   "cell_type": "code",
   "execution_count": null,
   "metadata": {},
   "outputs": [],
   "source": [
    "response = query_collection(\"What is DEET?\")\n",
    "display_html(response, verbose=True)"
   ]
  },
  {
   "cell_type": "markdown",
   "metadata": {},
   "source": [
    "Up next: [Introduction to Transformers](2.introduction-to-transformers.ipynb)"
   ]
  }
 ],
 "metadata": {
  "kernelspec": {
   "display_name": "Python 3 (ipykernel)",
   "language": "python",
   "name": "python3"
  },
  "vscode": {
   "interpreter": {
    "hash": "31f2aee4e71d21fbe5cf8b01ff0e069b9275f58929596ceb00d14d90e3e16cd6"
   }
  }
 },
 "nbformat": 4,
 "nbformat_minor": 4
}
