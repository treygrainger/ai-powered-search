{
 "cells": [
  {
   "cell_type": "markdown",
   "metadata": {},
   "source": [
    "## [ Chapter 13 - Semantic Search with Dense Vectors ] \n",
    "## Setting up the outdoors dataset\n",
    "\n",
    "We're going to use the Outdoors dataset for this chapter, and for a very important reason: the vocabulary and contexts in the outdoor question and answer __domain__ already have good coverage in the Transformer models we'll be using.\n",
    "\n",
    "This is because the datasets that were used to train the model include sources that are likely to have similar subject matter.  Wikipedia was used to train bert-base-uncased (https://huggingface.co/bert-base-uncased#training-data) and, surprise! wikipedia has a section specifically on outdoors content: https://en.wikipedia.org/wiki/Outdoor\n",
    "\n",
    "This is important, because if the words and their contexts haven't been seen before, the model will be less accurate.\n",
    "\n",
    "Also, who doesn't enjoy playing around with a new dataset?! Data is search nerd candy."
   ]
  },
  {
   "cell_type": "code",
   "execution_count": 4,
   "metadata": {},
   "outputs": [],
   "source": [
    "import sys\n",
    "import pickle\n",
    "import json\n",
    "sys.path.append('..')\n",
    "from aips import *\n",
    "from IPython.display import display,HTML\n",
    "engine = get_engine()"
   ]
  },
  {
   "cell_type": "markdown",
   "metadata": {},
   "source": [
    "## Listing 13.1\n",
    "\n",
    "### Creating our Collection and Indexing the documents"
   ]
  },
  {
   "cell_type": "code",
   "execution_count": 5,
   "metadata": {},
   "outputs": [
    {
     "name": "stdout",
     "output_type": "stream",
     "text": [
      "Cloning into 'outdoors'...\n",
      "remote: Enumerating objects: 25, done.\u001b[K\n",
      "remote: Counting objects: 100% (25/25), done.\u001b[K\n",
      "remote: Compressing objects: 100% (24/24), done.\u001b[K\n",
      "remote: Total 25 (delta 0), reused 22 (delta 0), pack-reused 0\u001b[K\n",
      "Receiving objects: 100% (25/25), 491.39 MiB | 11.20 MiB/s, done.\n",
      "Already up to date.\n",
      "README.md\n",
      "concepts.pickle\n",
      "._guesses.csv\n",
      "guesses.csv\n",
      "._guesses_all.json\n",
      "guesses_all.json\n",
      "outdoors_concepts.pickle\n",
      "outdoors_embeddings.pickle\n",
      "._outdoors_golden_answers.csv\n",
      "outdoors_golden_answers.csv\n",
      "._outdoors_golden_answers.xlsx\n",
      "outdoors_golden_answers.xlsx\n",
      "._outdoors_golden_answers_20210130.csv\n",
      "outdoors_golden_answers_20210130.csv\n",
      "outdoors_labels.pickle\n",
      "outdoors_question_answering_contexts.json\n",
      "outdoors_questionanswering_test_set.json\n",
      "outdoors_questionanswering_train_set.json\n",
      "._posts.csv\n",
      "posts.csv\n",
      "predicates.pickle\n",
      "pull_aips_dependency.py\n",
      "._question-answer-seed-contexts.csv\n",
      "question-answer-seed-contexts.csv\n",
      "question-answer-squad2-guesses.csv\n",
      "._roberta-base-squad2-outdoors\n",
      "roberta-base-squad2-outdoors/\n",
      "roberta-base-squad2-outdoors/._tokenizer_config.json\n",
      "roberta-base-squad2-outdoors/tokenizer_config.json\n",
      "roberta-base-squad2-outdoors/._special_tokens_map.json\n",
      "roberta-base-squad2-outdoors/special_tokens_map.json\n",
      "roberta-base-squad2-outdoors/._config.json\n",
      "roberta-base-squad2-outdoors/config.json\n",
      "roberta-base-squad2-outdoors/._merges.txt\n",
      "roberta-base-squad2-outdoors/merges.txt\n",
      "roberta-base-squad2-outdoors/._training_args.bin\n",
      "roberta-base-squad2-outdoors/training_args.bin\n",
      "roberta-base-squad2-outdoors/._pytorch_model.bin\n",
      "roberta-base-squad2-outdoors/pytorch_model.bin\n",
      "roberta-base-squad2-outdoors/._vocab.json\n",
      "roberta-base-squad2-outdoors/vocab.json\n"
     ]
    }
   ],
   "source": [
    "#outdoors\n",
    "![ ! -d 'outdoors' ] && git clone --depth=1 https://github.com/ai-powered-search/outdoors.git\n",
    "! cd outdoors && git pull\n",
    "! cd outdoors && cat outdoors.tgz.part* > outdoors.tgz\n",
    "! cd outdoors && mkdir -p '../../data/outdoors/' && tar -xvf outdoors.tgz -C '../../data/outdoors/'"
   ]
  },
  {
   "cell_type": "code",
   "execution_count": 8,
   "metadata": {},
   "outputs": [
    {
     "name": "stderr",
     "output_type": "stream",
     "text": [
      "/home/jovyan/notebooks/densevectors/outdoors.py:10: MarkupResemblesLocatorWarning: The input looks more like a filename than markup. You may want to open this file and pass the filehandle into Beautiful Soup.\n",
      "  soup = BeautifulSoup(h, 'lxml')\n"
     ]
    },
    {
     "name": "stdout",
     "output_type": "stream",
     "text": [
      "{'id': '1', 'url': 'https://outdoors.stackexchange.com/questions/1', 'post_type_id': 1, 'accepted_answer_id': 12, 'parent_id': None, 'score': 31, 'view_count': 7383, 'body': \"A few times I've been out walking or backpacking and have no moleskin with me. Sure enough, my boots start giving me blisters. How can I prevent or treat hotspots and blisters without using moleskin?\", 'title': 'How do I treat hot spots and blisters when I have no moleskin?', 'tags': ['health', 'first aid', 'blisters'], 'answer_count': 4}\n"
     ]
    }
   ],
   "source": [
    "from densevectors.outdoors import *\n",
    "#Transform the the outdoors.csv file into solr documents\n",
    "outdoors_collection = engine.create_collection(\"outdoors\")\n",
    "dataframe = clean_dataset(\"../data/outdoors/posts.csv\")\n",
    "data = transform_dataframe(dataframe)\n",
    "print(data[0])\n",
    "outdoors_collection.add_documents(data)"
   ]
  },
  {
   "cell_type": "code",
   "execution_count": 10,
   "metadata": {},
   "outputs": [],
   "source": [
    "def query_collection(query, verbose=False):\n",
    "    request = {\n",
    "        \"query\": query,\n",
    "        \"fields\": [\"id\", \"title\", \"url\"],\n",
    "        \"params\": {\n",
    "          \"fq\":\"post_type_id:1\",\n",
    "          \"qf\": [\"title\", \"body\"],\n",
    "          \"defType\": \"edismax\",\n",
    "          \"indent\": \"true\",\n",
    "          \"hl\": True\n",
    "        }\n",
    "    }\n",
    "    response = outdoors_collection.search(request)\n",
    "    highlights = [response[\"highlighting\"][k] for k in response[\"highlighting\"].keys()]\n",
    "    for r in zip(response[\"response\"][\"docs\"], highlights):\n",
    "        print(r)\n",
    "        display(HTML('<a href=\"'+r[0][\"url\"]+'\">qid '+r[0][\"id\"]+'</a>&nbsp;'))\n",
    "        if \"title\" in r[0].keys():\n",
    "            display(HTML(\"<strong>Question Title:</strong>\" + r[0][\"title\"]))\n",
    "        if verbose:\n",
    "            display(HTML(\"<strong>Body:</strong>\" + html.unescape(str(r[1][\"body\"][0]))))\n",
    "            display(HTML(\"<hr>\"))"
   ]
  },
  {
   "cell_type": "markdown",
   "metadata": {},
   "source": [
    "## Listing 13.2\n",
    "\n",
    "### Querying our collection with a noun phrase"
   ]
  },
  {
   "cell_type": "code",
   "execution_count": 11,
   "metadata": {},
   "outputs": [
    {
     "name": "stdout",
     "output_type": "stream",
     "text": [
      "({'id': '21855', 'url': 'https://outdoors.stackexchange.com/questions/21855', 'title': 'What are the four climbing knots used by Jim Bridwell?'}, {'title': ['What are the four <em>climbing</em> <em>knots</em> used by Jim Bridwell?'], 'body': ['Long & Gaines <em>Climbing</em> Anchors says: Jim Bridwell, one of the most experienced climbers in the history of the sport, uses only four <em>knots</em> for any and all <em>climbing</em> situations. ']})\n"
     ]
    },
    {
     "data": {
      "text/html": [
       "<a href=\"https://outdoors.stackexchange.com/questions/21855\">qid 21855</a>&nbsp;"
      ],
      "text/plain": [
       "<IPython.core.display.HTML object>"
      ]
     },
     "metadata": {},
     "output_type": "display_data"
    },
    {
     "data": {
      "text/html": [
       "<strong>Question Title:</strong>What are the four climbing knots used by Jim Bridwell?"
      ],
      "text/plain": [
       "<IPython.core.display.HTML object>"
      ]
     },
     "metadata": {},
     "output_type": "display_data"
    },
    {
     "data": {
      "text/html": [
       "<strong>Body:</strong>Long & Gaines <em>Climbing</em> Anchors says: Jim Bridwell, one of the most experienced climbers in the history of the sport, uses only four <em>knots</em> for any and all <em>climbing</em> situations. "
      ],
      "text/plain": [
       "<IPython.core.display.HTML object>"
      ]
     },
     "metadata": {},
     "output_type": "display_data"
    },
    {
     "data": {
      "text/html": [
       "<hr>"
      ],
      "text/plain": [
       "<IPython.core.display.HTML object>"
      ]
     },
     "metadata": {},
     "output_type": "display_data"
    },
    {
     "name": "stdout",
     "output_type": "stream",
     "text": [
      "({'id': '18825', 'url': 'https://outdoors.stackexchange.com/questions/18825', 'title': \"What's a good resource for learning to tie knots for climbing?\"}, {'title': [\"What's a good resource for learning to tie <em>knots</em> for <em>climbing</em>?\"], 'body': [\"If I wanted to learn how to tie certain <em>knots</em>, or learn about new <em>knots</em> and what they're used for, what are some good resources to look up?\"]})\n"
     ]
    },
    {
     "data": {
      "text/html": [
       "<a href=\"https://outdoors.stackexchange.com/questions/18825\">qid 18825</a>&nbsp;"
      ],
      "text/plain": [
       "<IPython.core.display.HTML object>"
      ]
     },
     "metadata": {},
     "output_type": "display_data"
    },
    {
     "data": {
      "text/html": [
       "<strong>Question Title:</strong>What's a good resource for learning to tie knots for climbing?"
      ],
      "text/plain": [
       "<IPython.core.display.HTML object>"
      ]
     },
     "metadata": {},
     "output_type": "display_data"
    },
    {
     "data": {
      "text/html": [
       "<strong>Body:</strong>If I wanted to learn how to tie certain <em>knots</em>, or learn about new <em>knots</em> and what they're used for, what are some good resources to look up?"
      ],
      "text/plain": [
       "<IPython.core.display.HTML object>"
      ]
     },
     "metadata": {},
     "output_type": "display_data"
    },
    {
     "data": {
      "text/html": [
       "<hr>"
      ],
      "text/plain": [
       "<IPython.core.display.HTML object>"
      ]
     },
     "metadata": {},
     "output_type": "display_data"
    },
    {
     "name": "stdout",
     "output_type": "stream",
     "text": [
      "({'id': '18814', 'url': 'https://outdoors.stackexchange.com/questions/18814', 'title': 'How to tie a figure eight on a bight?'}, {'body': ['One of the more common <em>knots</em> in <em>climbing</em> is the figure eight on a bight (being tied on a bight means that it is tied without using the ends. ']})\n"
     ]
    },
    {
     "data": {
      "text/html": [
       "<a href=\"https://outdoors.stackexchange.com/questions/18814\">qid 18814</a>&nbsp;"
      ],
      "text/plain": [
       "<IPython.core.display.HTML object>"
      ]
     },
     "metadata": {},
     "output_type": "display_data"
    },
    {
     "data": {
      "text/html": [
       "<strong>Question Title:</strong>How to tie a figure eight on a bight?"
      ],
      "text/plain": [
       "<IPython.core.display.HTML object>"
      ]
     },
     "metadata": {},
     "output_type": "display_data"
    },
    {
     "data": {
      "text/html": [
       "<strong>Body:</strong>One of the more common <em>knots</em> in <em>climbing</em> is the figure eight on a bight (being tied on a bight means that it is tied without using the ends. "
      ],
      "text/plain": [
       "<IPython.core.display.HTML object>"
      ]
     },
     "metadata": {},
     "output_type": "display_data"
    },
    {
     "data": {
      "text/html": [
       "<hr>"
      ],
      "text/plain": [
       "<IPython.core.display.HTML object>"
      ]
     },
     "metadata": {},
     "output_type": "display_data"
    },
    {
     "name": "stdout",
     "output_type": "stream",
     "text": [
      "({'id': '9183', 'url': 'https://outdoors.stackexchange.com/questions/9183', 'title': 'Can rock climbers easily transition to canyoning?'}, {'body': ['Rock <em>climbing</em> and canyoning/canyoneering are very different. ']})\n"
     ]
    },
    {
     "data": {
      "text/html": [
       "<a href=\"https://outdoors.stackexchange.com/questions/9183\">qid 9183</a>&nbsp;"
      ],
      "text/plain": [
       "<IPython.core.display.HTML object>"
      ]
     },
     "metadata": {},
     "output_type": "display_data"
    },
    {
     "data": {
      "text/html": [
       "<strong>Question Title:</strong>Can rock climbers easily transition to canyoning?"
      ],
      "text/plain": [
       "<IPython.core.display.HTML object>"
      ]
     },
     "metadata": {},
     "output_type": "display_data"
    },
    {
     "data": {
      "text/html": [
       "<strong>Body:</strong>Rock <em>climbing</em> and canyoning/canyoneering are very different. "
      ],
      "text/plain": [
       "<IPython.core.display.HTML object>"
      ]
     },
     "metadata": {},
     "output_type": "display_data"
    },
    {
     "data": {
      "text/html": [
       "<hr>"
      ],
      "text/plain": [
       "<IPython.core.display.HTML object>"
      ]
     },
     "metadata": {},
     "output_type": "display_data"
    },
    {
     "name": "stdout",
     "output_type": "stream",
     "text": [
      "({'id': '20223', 'url': 'https://outdoors.stackexchange.com/questions/20223', 'title': 'How to tie a Purcell prusik?'}, {'body': ['One of the more useful <em>knots</em> for <em>climbing</em> is the Purcell prusik (related to but not a regular prussik), which can be used as an adjustable tether or for ascending a rope among other things. ']})\n"
     ]
    },
    {
     "data": {
      "text/html": [
       "<a href=\"https://outdoors.stackexchange.com/questions/20223\">qid 20223</a>&nbsp;"
      ],
      "text/plain": [
       "<IPython.core.display.HTML object>"
      ]
     },
     "metadata": {},
     "output_type": "display_data"
    },
    {
     "data": {
      "text/html": [
       "<strong>Question Title:</strong>How to tie a Purcell prusik?"
      ],
      "text/plain": [
       "<IPython.core.display.HTML object>"
      ]
     },
     "metadata": {},
     "output_type": "display_data"
    },
    {
     "data": {
      "text/html": [
       "<strong>Body:</strong>One of the more useful <em>knots</em> for <em>climbing</em> is the Purcell prusik (related to but not a regular prussik), which can be used as an adjustable tether or for ascending a rope among other things. "
      ],
      "text/plain": [
       "<IPython.core.display.HTML object>"
      ]
     },
     "metadata": {},
     "output_type": "display_data"
    },
    {
     "data": {
      "text/html": [
       "<hr>"
      ],
      "text/plain": [
       "<IPython.core.display.HTML object>"
      ]
     },
     "metadata": {},
     "output_type": "display_data"
    },
    {
     "name": "stdout",
     "output_type": "stream",
     "text": [
      "({'id': '22477', 'url': 'https://outdoors.stackexchange.com/questions/22477', 'title': 'Tradeoffs between different stopper knots'}, {'title': ['Tradeoffs between different stopper <em>knots</em>'], 'body': ['In particular, are some stopper <em>knots</em> dangerous to use? I would imagine that a single overhand could be a risky choice (particularly with a short tail).']})\n"
     ]
    },
    {
     "data": {
      "text/html": [
       "<a href=\"https://outdoors.stackexchange.com/questions/22477\">qid 22477</a>&nbsp;"
      ],
      "text/plain": [
       "<IPython.core.display.HTML object>"
      ]
     },
     "metadata": {},
     "output_type": "display_data"
    },
    {
     "data": {
      "text/html": [
       "<strong>Question Title:</strong>Tradeoffs between different stopper knots"
      ],
      "text/plain": [
       "<IPython.core.display.HTML object>"
      ]
     },
     "metadata": {},
     "output_type": "display_data"
    },
    {
     "data": {
      "text/html": [
       "<strong>Body:</strong>In particular, are some stopper <em>knots</em> dangerous to use? I would imagine that a single overhand could be a risky choice (particularly with a short tail)."
      ],
      "text/plain": [
       "<IPython.core.display.HTML object>"
      ]
     },
     "metadata": {},
     "output_type": "display_data"
    },
    {
     "data": {
      "text/html": [
       "<hr>"
      ],
      "text/plain": [
       "<IPython.core.display.HTML object>"
      ]
     },
     "metadata": {},
     "output_type": "display_data"
    },
    {
     "name": "stdout",
     "output_type": "stream",
     "text": [
      "({'id': '22369', 'url': 'https://outdoors.stackexchange.com/questions/22369', 'title': '\"Large\" eye of tie-in knot: dangerous?'}, {'body': [\"While I don't see a problem with a loop that is about 10 cm across, others argue that the loop should be as tight as possible. We're <em>climbing</em> indoors and use figure-of-eight or double bowline as tie-in <em>knots</em>. \"]})\n"
     ]
    },
    {
     "data": {
      "text/html": [
       "<a href=\"https://outdoors.stackexchange.com/questions/22369\">qid 22369</a>&nbsp;"
      ],
      "text/plain": [
       "<IPython.core.display.HTML object>"
      ]
     },
     "metadata": {},
     "output_type": "display_data"
    },
    {
     "data": {
      "text/html": [
       "<strong>Question Title:</strong>\"Large\" eye of tie-in knot: dangerous?"
      ],
      "text/plain": [
       "<IPython.core.display.HTML object>"
      ]
     },
     "metadata": {},
     "output_type": "display_data"
    },
    {
     "data": {
      "text/html": [
       "<strong>Body:</strong>While I don't see a problem with a loop that is about 10 cm across, others argue that the loop should be as tight as possible. We're <em>climbing</em> indoors and use figure-of-eight or double bowline as tie-in <em>knots</em>. "
      ],
      "text/plain": [
       "<IPython.core.display.HTML object>"
      ]
     },
     "metadata": {},
     "output_type": "display_data"
    },
    {
     "data": {
      "text/html": [
       "<hr>"
      ],
      "text/plain": [
       "<IPython.core.display.HTML object>"
      ]
     },
     "metadata": {},
     "output_type": "display_data"
    },
    {
     "name": "stdout",
     "output_type": "stream",
     "text": [
      "({'id': '338', 'url': 'https://outdoors.stackexchange.com/questions/338', 'title': 'How do I tie a Prusik knot?'}, {'body': [\"Prusik <em>knots</em> are useful in emergency situations as they can be used for both <em>climbing</em> up a rope (out of a canyon) or down a rope (rappelling) without someone else providing a fireman's belay. \"]})\n"
     ]
    },
    {
     "data": {
      "text/html": [
       "<a href=\"https://outdoors.stackexchange.com/questions/338\">qid 338</a>&nbsp;"
      ],
      "text/plain": [
       "<IPython.core.display.HTML object>"
      ]
     },
     "metadata": {},
     "output_type": "display_data"
    },
    {
     "data": {
      "text/html": [
       "<strong>Question Title:</strong>How do I tie a Prusik knot?"
      ],
      "text/plain": [
       "<IPython.core.display.HTML object>"
      ]
     },
     "metadata": {},
     "output_type": "display_data"
    },
    {
     "data": {
      "text/html": [
       "<strong>Body:</strong>Prusik <em>knots</em> are useful in emergency situations as they can be used for both <em>climbing</em> up a rope (out of a canyon) or down a rope (rappelling) without someone else providing a fireman's belay. "
      ],
      "text/plain": [
       "<IPython.core.display.HTML object>"
      ]
     },
     "metadata": {},
     "output_type": "display_data"
    },
    {
     "data": {
      "text/html": [
       "<hr>"
      ],
      "text/plain": [
       "<IPython.core.display.HTML object>"
      ]
     },
     "metadata": {},
     "output_type": "display_data"
    },
    {
     "name": "stdout",
     "output_type": "stream",
     "text": [
      "({'id': '11198', 'url': 'https://outdoors.stackexchange.com/questions/11198', 'title': 'Is a barrel knot the same as a double/triple overhand knot?'}, {'body': ['Confused, I looked for other uses of the term barrel knot and found this snippet on the Animated <em>Knots</em> page for a barrel hitch (emphasis mine): \"Barrel\" Confusion: Unfortunately, the name Barrel has been applied to various other <em>knots</em>. ']})\n"
     ]
    },
    {
     "data": {
      "text/html": [
       "<a href=\"https://outdoors.stackexchange.com/questions/11198\">qid 11198</a>&nbsp;"
      ],
      "text/plain": [
       "<IPython.core.display.HTML object>"
      ]
     },
     "metadata": {},
     "output_type": "display_data"
    },
    {
     "data": {
      "text/html": [
       "<strong>Question Title:</strong>Is a barrel knot the same as a double/triple overhand knot?"
      ],
      "text/plain": [
       "<IPython.core.display.HTML object>"
      ]
     },
     "metadata": {},
     "output_type": "display_data"
    },
    {
     "data": {
      "text/html": [
       "<strong>Body:</strong>Confused, I looked for other uses of the term barrel knot and found this snippet on the Animated <em>Knots</em> page for a barrel hitch (emphasis mine): \"Barrel\" Confusion: Unfortunately, the name Barrel has been applied to various other <em>knots</em>. "
      ],
      "text/plain": [
       "<IPython.core.display.HTML object>"
      ]
     },
     "metadata": {},
     "output_type": "display_data"
    },
    {
     "data": {
      "text/html": [
       "<hr>"
      ],
      "text/plain": [
       "<IPython.core.display.HTML object>"
      ]
     },
     "metadata": {},
     "output_type": "display_data"
    },
    {
     "name": "stdout",
     "output_type": "stream",
     "text": [
      "({'id': '16336', 'url': 'https://outdoors.stackexchange.com/questions/16336', 'title': 'Is a clove hitch to be distrusted in climbing?'}, {'title': ['Is a clove hitch to be distrusted in <em>climbing</em>?'], 'body': ['Reading the description for a clove hitch on animated <em>knots</em> by Grog (the go to bible of <em>knots</em> IMO) I was surprised to read: Caution: The Clove Hitch was, originally, included here with the intention of condemning it. ']})\n"
     ]
    },
    {
     "data": {
      "text/html": [
       "<a href=\"https://outdoors.stackexchange.com/questions/16336\">qid 16336</a>&nbsp;"
      ],
      "text/plain": [
       "<IPython.core.display.HTML object>"
      ]
     },
     "metadata": {},
     "output_type": "display_data"
    },
    {
     "data": {
      "text/html": [
       "<strong>Question Title:</strong>Is a clove hitch to be distrusted in climbing?"
      ],
      "text/plain": [
       "<IPython.core.display.HTML object>"
      ]
     },
     "metadata": {},
     "output_type": "display_data"
    },
    {
     "data": {
      "text/html": [
       "<strong>Body:</strong>Reading the description for a clove hitch on animated <em>knots</em> by Grog (the go to bible of <em>knots</em> IMO) I was surprised to read: Caution: The Clove Hitch was, originally, included here with the intention of condemning it. "
      ],
      "text/plain": [
       "<IPython.core.display.HTML object>"
      ]
     },
     "metadata": {},
     "output_type": "display_data"
    },
    {
     "data": {
      "text/html": [
       "<hr>"
      ],
      "text/plain": [
       "<IPython.core.display.HTML object>"
      ]
     },
     "metadata": {},
     "output_type": "display_data"
    }
   ],
   "source": [
    "query_collection(\"climbing knots\",verbose=True)"
   ]
  },
  {
   "cell_type": "code",
   "execution_count": 12,
   "metadata": {},
   "outputs": [
    {
     "name": "stdout",
     "output_type": "stream",
     "text": [
      "[{'title': ['Best approach to <em>camping</em> in <em>snow</em>?'], 'body': ['What is the best way for a trekking group of two to sleep in deep <em>snow</em> (meter or more). What']}, {'title': ['How do people carry <em>camping</em> propane in a car when traveling?'], 'body': [\"I'm very new to <em>camping</em>. In fact..I'm trying to prepare for my first <em>camping</em>. One thing that I\"]}, {'title': ['Resources for <em>camping</em> in Georgia (country)'], 'body': [' <em>camping</em> in Georgia? I would like to know about the rules and <em>safety</em> aspects. Any resource on these would']}, {'title': ['Any tips to prevent theft while tent <em>camping</em> alone in a caravan park?'], 'body': ['This summer. I will be <em>camping</em> on my own at a coastal caravan park located between 2 towns. In']}, {'title': ['What are some simple tasks to teach knife <em>safety</em>?'], 'body': [' (hiking, <em>camping</em>, backpacking, etc). As part of this interest, he has asked me to teach him how to']}, {'title': ['End of Winter/Spring <em>Camping</em>'], 'body': ['Planning a <em>camping</em> trip for next weekend. It is looking like it may be the end of winter. We have']}, {'body': [\"Since it's the season coming up for many (and <em>snow</em> seems to be in the game this year in eastern NA\"]}, {'title': ['How to prevent frost / ice damage <em>camping</em> equipment?'], 'body': [\"When <em>camping</em> in summer rain overnight or dew in the morning is fine as it'll likely all evaporate\"]}, {'title': ['What are the primary considerations for a solo traverse of the Cairngorms in winter <em>snow</em>?'], 'body': [' Dec 2018 to February 2019 I am planning a solo traverse of the Cairngorms in Scotland, <em>camping</em> wild or']}, {'title': ['What are some common mistakes to avoid when trying winter <em>camping</em> for the first time?'], 'body': ['I would like to try winter <em>camping</em>. What are some common mistakes first-timers make when trying to']}]\n",
      "({'id': '1966', 'url': 'https://outdoors.stackexchange.com/questions/1966', 'title': 'Best approach to camping in snow?'}, {'title': ['Best approach to <em>camping</em> in <em>snow</em>?'], 'body': ['What is the best way for a trekking group of two to sleep in deep <em>snow</em> (meter or more). What']})\n"
     ]
    },
    {
     "data": {
      "text/html": [
       "<a href=\"https://outdoors.stackexchange.com/questions/1966\">qid 1966</a>&nbsp;"
      ],
      "text/plain": [
       "<IPython.core.display.HTML object>"
      ]
     },
     "metadata": {},
     "output_type": "display_data"
    },
    {
     "data": {
      "text/html": [
       "<strong>Question Title:</strong>Best approach to camping in snow?"
      ],
      "text/plain": [
       "<IPython.core.display.HTML object>"
      ]
     },
     "metadata": {},
     "output_type": "display_data"
    },
    {
     "name": "stdout",
     "output_type": "stream",
     "text": [
      "({'id': '20725', 'url': 'https://outdoors.stackexchange.com/questions/20725', 'title': 'How do people carry camping propane in a car when traveling?'}, {'title': ['How do people carry <em>camping</em> propane in a car when traveling?'], 'body': [\"I'm very new to <em>camping</em>. In fact..I'm trying to prepare for my first <em>camping</em>. One thing that I\"]})\n"
     ]
    },
    {
     "data": {
      "text/html": [
       "<a href=\"https://outdoors.stackexchange.com/questions/20725\">qid 20725</a>&nbsp;"
      ],
      "text/plain": [
       "<IPython.core.display.HTML object>"
      ]
     },
     "metadata": {},
     "output_type": "display_data"
    },
    {
     "data": {
      "text/html": [
       "<strong>Question Title:</strong>How do people carry camping propane in a car when traveling?"
      ],
      "text/plain": [
       "<IPython.core.display.HTML object>"
      ]
     },
     "metadata": {},
     "output_type": "display_data"
    },
    {
     "name": "stdout",
     "output_type": "stream",
     "text": [
      "({'id': '18942', 'url': 'https://outdoors.stackexchange.com/questions/18942', 'title': 'Resources for camping in Georgia (country)'}, {'title': ['Resources for <em>camping</em> in Georgia (country)'], 'body': [' <em>camping</em> in Georgia? I would like to know about the rules and <em>safety</em> aspects. Any resource on these would']})\n"
     ]
    },
    {
     "data": {
      "text/html": [
       "<a href=\"https://outdoors.stackexchange.com/questions/18942\">qid 18942</a>&nbsp;"
      ],
      "text/plain": [
       "<IPython.core.display.HTML object>"
      ]
     },
     "metadata": {},
     "output_type": "display_data"
    },
    {
     "data": {
      "text/html": [
       "<strong>Question Title:</strong>Resources for camping in Georgia (country)"
      ],
      "text/plain": [
       "<IPython.core.display.HTML object>"
      ]
     },
     "metadata": {},
     "output_type": "display_data"
    },
    {
     "name": "stdout",
     "output_type": "stream",
     "text": [
      "({'id': '13209', 'url': 'https://outdoors.stackexchange.com/questions/13209', 'title': 'Any tips to prevent theft while tent camping alone in a caravan park?'}, {'title': ['Any tips to prevent theft while tent <em>camping</em> alone in a caravan park?'], 'body': ['This summer. I will be <em>camping</em> on my own at a coastal caravan park located between 2 towns. In']})\n"
     ]
    },
    {
     "data": {
      "text/html": [
       "<a href=\"https://outdoors.stackexchange.com/questions/13209\">qid 13209</a>&nbsp;"
      ],
      "text/plain": [
       "<IPython.core.display.HTML object>"
      ]
     },
     "metadata": {},
     "output_type": "display_data"
    },
    {
     "data": {
      "text/html": [
       "<strong>Question Title:</strong>Any tips to prevent theft while tent camping alone in a caravan park?"
      ],
      "text/plain": [
       "<IPython.core.display.HTML object>"
      ]
     },
     "metadata": {},
     "output_type": "display_data"
    },
    {
     "name": "stdout",
     "output_type": "stream",
     "text": [
      "({'id': '8700', 'url': 'https://outdoors.stackexchange.com/questions/8700', 'title': 'What are some simple tasks to teach knife safety?'}, {'title': ['What are some simple tasks to teach knife <em>safety</em>?'], 'body': [' (hiking, <em>camping</em>, backpacking, etc). As part of this interest, he has asked me to teach him how to']})\n"
     ]
    },
    {
     "data": {
      "text/html": [
       "<a href=\"https://outdoors.stackexchange.com/questions/8700\">qid 8700</a>&nbsp;"
      ],
      "text/plain": [
       "<IPython.core.display.HTML object>"
      ]
     },
     "metadata": {},
     "output_type": "display_data"
    },
    {
     "data": {
      "text/html": [
       "<strong>Question Title:</strong>What are some simple tasks to teach knife safety?"
      ],
      "text/plain": [
       "<IPython.core.display.HTML object>"
      ]
     },
     "metadata": {},
     "output_type": "display_data"
    },
    {
     "name": "stdout",
     "output_type": "stream",
     "text": [
      "({'id': '3822', 'url': 'https://outdoors.stackexchange.com/questions/3822', 'title': 'End of Winter/Spring Camping'}, {'title': ['End of Winter/Spring <em>Camping</em>'], 'body': ['Planning a <em>camping</em> trip for next weekend. It is looking like it may be the end of winter. We have']})\n"
     ]
    },
    {
     "data": {
      "text/html": [
       "<a href=\"https://outdoors.stackexchange.com/questions/3822\">qid 3822</a>&nbsp;"
      ],
      "text/plain": [
       "<IPython.core.display.HTML object>"
      ]
     },
     "metadata": {},
     "output_type": "display_data"
    },
    {
     "data": {
      "text/html": [
       "<strong>Question Title:</strong>End of Winter/Spring Camping"
      ],
      "text/plain": [
       "<IPython.core.display.HTML object>"
      ]
     },
     "metadata": {},
     "output_type": "display_data"
    },
    {
     "name": "stdout",
     "output_type": "stream",
     "text": [
      "({'id': '14565', 'url': 'https://outdoors.stackexchange.com/questions/14565', 'title': 'What is the best breathing holes strategy for a quinzee?'}, {'body': [\"Since it's the season coming up for many (and <em>snow</em> seems to be in the game this year in eastern NA\"]})\n"
     ]
    },
    {
     "data": {
      "text/html": [
       "<a href=\"https://outdoors.stackexchange.com/questions/14565\">qid 14565</a>&nbsp;"
      ],
      "text/plain": [
       "<IPython.core.display.HTML object>"
      ]
     },
     "metadata": {},
     "output_type": "display_data"
    },
    {
     "data": {
      "text/html": [
       "<strong>Question Title:</strong>What is the best breathing holes strategy for a quinzee?"
      ],
      "text/plain": [
       "<IPython.core.display.HTML object>"
      ]
     },
     "metadata": {},
     "output_type": "display_data"
    },
    {
     "name": "stdout",
     "output_type": "stream",
     "text": [
      "({'id': '9986', 'url': 'https://outdoors.stackexchange.com/questions/9986', 'title': 'How to prevent frost / ice damage camping equipment?'}, {'title': ['How to prevent frost / ice damage <em>camping</em> equipment?'], 'body': [\"When <em>camping</em> in summer rain overnight or dew in the morning is fine as it'll likely all evaporate\"]})\n"
     ]
    },
    {
     "data": {
      "text/html": [
       "<a href=\"https://outdoors.stackexchange.com/questions/9986\">qid 9986</a>&nbsp;"
      ],
      "text/plain": [
       "<IPython.core.display.HTML object>"
      ]
     },
     "metadata": {},
     "output_type": "display_data"
    },
    {
     "data": {
      "text/html": [
       "<strong>Question Title:</strong>How to prevent frost / ice damage camping equipment?"
      ],
      "text/plain": [
       "<IPython.core.display.HTML object>"
      ]
     },
     "metadata": {},
     "output_type": "display_data"
    },
    {
     "name": "stdout",
     "output_type": "stream",
     "text": [
      "({'id': '20208', 'url': 'https://outdoors.stackexchange.com/questions/20208', 'title': 'What are the primary considerations for a solo traverse of the Cairngorms in winter snow?'}, {'title': ['What are the primary considerations for a solo traverse of the Cairngorms in winter <em>snow</em>?'], 'body': [' Dec 2018 to February 2019 I am planning a solo traverse of the Cairngorms in Scotland, <em>camping</em> wild or']})\n"
     ]
    },
    {
     "data": {
      "text/html": [
       "<a href=\"https://outdoors.stackexchange.com/questions/20208\">qid 20208</a>&nbsp;"
      ],
      "text/plain": [
       "<IPython.core.display.HTML object>"
      ]
     },
     "metadata": {},
     "output_type": "display_data"
    },
    {
     "data": {
      "text/html": [
       "<strong>Question Title:</strong>What are the primary considerations for a solo traverse of the Cairngorms in winter snow?"
      ],
      "text/plain": [
       "<IPython.core.display.HTML object>"
      ]
     },
     "metadata": {},
     "output_type": "display_data"
    },
    {
     "name": "stdout",
     "output_type": "stream",
     "text": [
      "({'id': '20746', 'url': 'https://outdoors.stackexchange.com/questions/20746', 'title': 'What are some common mistakes to avoid when trying winter camping for the first time?'}, {'title': ['What are some common mistakes to avoid when trying winter <em>camping</em> for the first time?'], 'body': ['I would like to try winter <em>camping</em>. What are some common mistakes first-timers make when trying to']})\n"
     ]
    },
    {
     "data": {
      "text/html": [
       "<a href=\"https://outdoors.stackexchange.com/questions/20746\">qid 20746</a>&nbsp;"
      ],
      "text/plain": [
       "<IPython.core.display.HTML object>"
      ]
     },
     "metadata": {},
     "output_type": "display_data"
    },
    {
     "data": {
      "text/html": [
       "<strong>Question Title:</strong>What are some common mistakes to avoid when trying winter camping for the first time?"
      ],
      "text/plain": [
       "<IPython.core.display.HTML object>"
      ]
     },
     "metadata": {},
     "output_type": "display_data"
    }
   ],
   "source": [
    "query_collection(\"snow camping safety\")"
   ]
  },
  {
   "cell_type": "markdown",
   "metadata": {},
   "source": [
    "## Listing 13.3\n",
    "\n",
    "### Querying our collection with a question"
   ]
  },
  {
   "cell_type": "code",
   "execution_count": 13,
   "metadata": {},
   "outputs": [
    {
     "name": "stdout",
     "output_type": "stream",
     "text": [
      "[{'title': ['<em>What</em> <em>is</em> Geocaching?'], 'body': [' <em>is</em> it played?']}, {'title': ['<em>What</em> <em>is</em> bushcrafting?'], 'body': [' <em>is</em> not survival. <em>What</em> actually <em>is</em> bushcraft?']}, {'title': ['<em>What</em> <em>is</em> \"catskiing\"?'], 'body': [\" winter vacation from school. Obviously, that doesn't mean skiing with or by means of a cat. <em>What</em> <em>is</em>\"]}, {'title': ['<em>What</em> <em>is</em> a tent skirt and <em>what</em> <em>is</em> its purpose?'], 'body': [' the tent, which makes outer tent reach the ground, so wind <em>is</em> not beating into the inner tent ; it has']}, {'title': ['<em>What</em> <em>is</em> Fast Packing?'], 'body': [' like? <em>What</em> type of milage/hour are people doing, there chafing issues, and <em>is</em> this the type of activity']}, {'title': ['<em>What</em> exactly <em>is</em> a rocker?'], 'body': ['. <em>What</em> exactly <em>is</em> meant by a \"Rocker\" snowboard and <em>what</em> are the advantages or disadvantages?']}, {'title': ['<em>What</em> <em>is</em> a bow shelf?'], 'body': [' can\\'t really imagine <em>what</em> this might be. So, <em>what</em> <em>is</em> a \"bow shelf\"?']}, {'title': ['<em>What</em> kind of mushroom <em>is</em> this?'], 'body': [\"<em>What</em> kind of mushroom <em>is</em> this? There's a lot of similarity to a morel, but the body shape <em>is</em> not\"]}, {'title': ['<em>What</em> <em>is</em> a buff?'], 'body': ['<em>What</em> <em>is</em> a \"buff\", how <em>is</em> it used, and why should I have one? I\\'ve seen them advocated in numerous']}, {'title': ['<em>What</em> <em>is</em> a bloquers?'], 'body': [\"Simple question, which has been prompted from this answer . <em>What</em> <em>is</em> a bloquers? I'm guessing it's\"]}]\n",
      "({'id': '1660', 'url': 'https://outdoors.stackexchange.com/questions/1660', 'title': 'What is Geocaching?'}, {'title': ['<em>What</em> <em>is</em> Geocaching?'], 'body': [' <em>is</em> it played?']})\n"
     ]
    },
    {
     "data": {
      "text/html": [
       "<a href=\"https://outdoors.stackexchange.com/questions/1660\">qid 1660</a>&nbsp;"
      ],
      "text/plain": [
       "<IPython.core.display.HTML object>"
      ]
     },
     "metadata": {},
     "output_type": "display_data"
    },
    {
     "data": {
      "text/html": [
       "<strong>Question Title:</strong>What is Geocaching?"
      ],
      "text/plain": [
       "<IPython.core.display.HTML object>"
      ]
     },
     "metadata": {},
     "output_type": "display_data"
    },
    {
     "data": {
      "text/html": [
       "<strong>Body:</strong> <em>is</em> it played?"
      ],
      "text/plain": [
       "<IPython.core.display.HTML object>"
      ]
     },
     "metadata": {},
     "output_type": "display_data"
    },
    {
     "data": {
      "text/html": [
       "<hr>"
      ],
      "text/plain": [
       "<IPython.core.display.HTML object>"
      ]
     },
     "metadata": {},
     "output_type": "display_data"
    },
    {
     "name": "stdout",
     "output_type": "stream",
     "text": [
      "({'id': '20403', 'url': 'https://outdoors.stackexchange.com/questions/20403', 'title': 'What is bushcrafting?'}, {'title': ['<em>What</em> <em>is</em> bushcrafting?'], 'body': [' <em>is</em> not survival. <em>What</em> actually <em>is</em> bushcraft?']})\n"
     ]
    },
    {
     "data": {
      "text/html": [
       "<a href=\"https://outdoors.stackexchange.com/questions/20403\">qid 20403</a>&nbsp;"
      ],
      "text/plain": [
       "<IPython.core.display.HTML object>"
      ]
     },
     "metadata": {},
     "output_type": "display_data"
    },
    {
     "data": {
      "text/html": [
       "<strong>Question Title:</strong>What is bushcrafting?"
      ],
      "text/plain": [
       "<IPython.core.display.HTML object>"
      ]
     },
     "metadata": {},
     "output_type": "display_data"
    },
    {
     "data": {
      "text/html": [
       "<strong>Body:</strong> <em>is</em> not survival. <em>What</em> actually <em>is</em> bushcraft?"
      ],
      "text/plain": [
       "<IPython.core.display.HTML object>"
      ]
     },
     "metadata": {},
     "output_type": "display_data"
    },
    {
     "data": {
      "text/html": [
       "<hr>"
      ],
      "text/plain": [
       "<IPython.core.display.HTML object>"
      ]
     },
     "metadata": {},
     "output_type": "display_data"
    },
    {
     "name": "stdout",
     "output_type": "stream",
     "text": [
      "({'id': '20977', 'url': 'https://outdoors.stackexchange.com/questions/20977', 'title': 'What is \"catskiing\"?'}, {'title': ['<em>What</em> <em>is</em> \"catskiing\"?'], 'body': [\" winter vacation from school. Obviously, that doesn't mean skiing with or by means of a cat. <em>What</em> <em>is</em>\"]})\n"
     ]
    },
    {
     "data": {
      "text/html": [
       "<a href=\"https://outdoors.stackexchange.com/questions/20977\">qid 20977</a>&nbsp;"
      ],
      "text/plain": [
       "<IPython.core.display.HTML object>"
      ]
     },
     "metadata": {},
     "output_type": "display_data"
    },
    {
     "data": {
      "text/html": [
       "<strong>Question Title:</strong>What is \"catskiing\"?"
      ],
      "text/plain": [
       "<IPython.core.display.HTML object>"
      ]
     },
     "metadata": {},
     "output_type": "display_data"
    },
    {
     "data": {
      "text/html": [
       "<strong>Body:</strong> winter vacation from school. Obviously, that doesn't mean skiing with or by means of a cat. <em>What</em> <em>is</em>"
      ],
      "text/plain": [
       "<IPython.core.display.HTML object>"
      ]
     },
     "metadata": {},
     "output_type": "display_data"
    },
    {
     "data": {
      "text/html": [
       "<hr>"
      ],
      "text/plain": [
       "<IPython.core.display.HTML object>"
      ]
     },
     "metadata": {},
     "output_type": "display_data"
    },
    {
     "name": "stdout",
     "output_type": "stream",
     "text": [
      "({'id': '17374', 'url': 'https://outdoors.stackexchange.com/questions/17374', 'title': 'What is a tent skirt and what is its purpose?'}, {'title': ['<em>What</em> <em>is</em> a tent skirt and <em>what</em> <em>is</em> its purpose?'], 'body': [' the tent, which makes outer tent reach the ground, so wind <em>is</em> not beating into the inner tent ; it has']})\n"
     ]
    },
    {
     "data": {
      "text/html": [
       "<a href=\"https://outdoors.stackexchange.com/questions/17374\">qid 17374</a>&nbsp;"
      ],
      "text/plain": [
       "<IPython.core.display.HTML object>"
      ]
     },
     "metadata": {},
     "output_type": "display_data"
    },
    {
     "data": {
      "text/html": [
       "<strong>Question Title:</strong>What is a tent skirt and what is its purpose?"
      ],
      "text/plain": [
       "<IPython.core.display.HTML object>"
      ]
     },
     "metadata": {},
     "output_type": "display_data"
    },
    {
     "data": {
      "text/html": [
       "<strong>Body:</strong> the tent, which makes outer tent reach the ground, so wind <em>is</em> not beating into the inner tent ; it has"
      ],
      "text/plain": [
       "<IPython.core.display.HTML object>"
      ]
     },
     "metadata": {},
     "output_type": "display_data"
    },
    {
     "data": {
      "text/html": [
       "<hr>"
      ],
      "text/plain": [
       "<IPython.core.display.HTML object>"
      ]
     },
     "metadata": {},
     "output_type": "display_data"
    },
    {
     "name": "stdout",
     "output_type": "stream",
     "text": [
      "({'id': '13006', 'url': 'https://outdoors.stackexchange.com/questions/13006', 'title': 'What is Fast Packing?'}, {'title': ['<em>What</em> <em>is</em> Fast Packing?'], 'body': [' like? <em>What</em> type of milage/hour are people doing, there chafing issues, and <em>is</em> this the type of activity']})\n"
     ]
    },
    {
     "data": {
      "text/html": [
       "<a href=\"https://outdoors.stackexchange.com/questions/13006\">qid 13006</a>&nbsp;"
      ],
      "text/plain": [
       "<IPython.core.display.HTML object>"
      ]
     },
     "metadata": {},
     "output_type": "display_data"
    },
    {
     "data": {
      "text/html": [
       "<strong>Question Title:</strong>What is Fast Packing?"
      ],
      "text/plain": [
       "<IPython.core.display.HTML object>"
      ]
     },
     "metadata": {},
     "output_type": "display_data"
    },
    {
     "data": {
      "text/html": [
       "<strong>Body:</strong> like? <em>What</em> type of milage/hour are people doing, there chafing issues, and <em>is</em> this the type of activity"
      ],
      "text/plain": [
       "<IPython.core.display.HTML object>"
      ]
     },
     "metadata": {},
     "output_type": "display_data"
    },
    {
     "data": {
      "text/html": [
       "<hr>"
      ],
      "text/plain": [
       "<IPython.core.display.HTML object>"
      ]
     },
     "metadata": {},
     "output_type": "display_data"
    },
    {
     "name": "stdout",
     "output_type": "stream",
     "text": [
      "({'id': '15679', 'url': 'https://outdoors.stackexchange.com/questions/15679', 'title': 'What exactly is a rocker?'}, {'title': ['<em>What</em> exactly <em>is</em> a rocker?'], 'body': ['. <em>What</em> exactly <em>is</em> meant by a \"Rocker\" snowboard and <em>what</em> are the advantages or disadvantages?']})\n"
     ]
    },
    {
     "data": {
      "text/html": [
       "<a href=\"https://outdoors.stackexchange.com/questions/15679\">qid 15679</a>&nbsp;"
      ],
      "text/plain": [
       "<IPython.core.display.HTML object>"
      ]
     },
     "metadata": {},
     "output_type": "display_data"
    },
    {
     "data": {
      "text/html": [
       "<strong>Question Title:</strong>What exactly is a rocker?"
      ],
      "text/plain": [
       "<IPython.core.display.HTML object>"
      ]
     },
     "metadata": {},
     "output_type": "display_data"
    },
    {
     "data": {
      "text/html": [
       "<strong>Body:</strong>. <em>What</em> exactly <em>is</em> meant by a \"Rocker\" snowboard and <em>what</em> are the advantages or disadvantages?"
      ],
      "text/plain": [
       "<IPython.core.display.HTML object>"
      ]
     },
     "metadata": {},
     "output_type": "display_data"
    },
    {
     "data": {
      "text/html": [
       "<hr>"
      ],
      "text/plain": [
       "<IPython.core.display.HTML object>"
      ]
     },
     "metadata": {},
     "output_type": "display_data"
    },
    {
     "name": "stdout",
     "output_type": "stream",
     "text": [
      "({'id': '10157', 'url': 'https://outdoors.stackexchange.com/questions/10157', 'title': 'What is a bow shelf?'}, {'title': ['<em>What</em> <em>is</em> a bow shelf?'], 'body': [' can\\'t really imagine <em>what</em> this might be. So, <em>what</em> <em>is</em> a \"bow shelf\"?']})\n"
     ]
    },
    {
     "data": {
      "text/html": [
       "<a href=\"https://outdoors.stackexchange.com/questions/10157\">qid 10157</a>&nbsp;"
      ],
      "text/plain": [
       "<IPython.core.display.HTML object>"
      ]
     },
     "metadata": {},
     "output_type": "display_data"
    },
    {
     "data": {
      "text/html": [
       "<strong>Question Title:</strong>What is a bow shelf?"
      ],
      "text/plain": [
       "<IPython.core.display.HTML object>"
      ]
     },
     "metadata": {},
     "output_type": "display_data"
    },
    {
     "data": {
      "text/html": [
       "<strong>Body:</strong> can't really imagine <em>what</em> this might be. So, <em>what</em> <em>is</em> a \"bow shelf\"?"
      ],
      "text/plain": [
       "<IPython.core.display.HTML object>"
      ]
     },
     "metadata": {},
     "output_type": "display_data"
    },
    {
     "data": {
      "text/html": [
       "<hr>"
      ],
      "text/plain": [
       "<IPython.core.display.HTML object>"
      ]
     },
     "metadata": {},
     "output_type": "display_data"
    },
    {
     "name": "stdout",
     "output_type": "stream",
     "text": [
      "({'id': '24876', 'url': 'https://outdoors.stackexchange.com/questions/24876', 'title': 'What kind of mushroom is this?'}, {'title': ['<em>What</em> kind of mushroom <em>is</em> this?'], 'body': [\"<em>What</em> kind of mushroom <em>is</em> this? There's a lot of similarity to a morel, but the body shape <em>is</em> not\"]})\n"
     ]
    },
    {
     "data": {
      "text/html": [
       "<a href=\"https://outdoors.stackexchange.com/questions/24876\">qid 24876</a>&nbsp;"
      ],
      "text/plain": [
       "<IPython.core.display.HTML object>"
      ]
     },
     "metadata": {},
     "output_type": "display_data"
    },
    {
     "data": {
      "text/html": [
       "<strong>Question Title:</strong>What kind of mushroom is this?"
      ],
      "text/plain": [
       "<IPython.core.display.HTML object>"
      ]
     },
     "metadata": {},
     "output_type": "display_data"
    },
    {
     "data": {
      "text/html": [
       "<strong>Body:</strong><em>What</em> kind of mushroom <em>is</em> this? There's a lot of similarity to a morel, but the body shape <em>is</em> not"
      ],
      "text/plain": [
       "<IPython.core.display.HTML object>"
      ]
     },
     "metadata": {},
     "output_type": "display_data"
    },
    {
     "data": {
      "text/html": [
       "<hr>"
      ],
      "text/plain": [
       "<IPython.core.display.HTML object>"
      ]
     },
     "metadata": {},
     "output_type": "display_data"
    },
    {
     "name": "stdout",
     "output_type": "stream",
     "text": [
      "({'id': '913', 'url': 'https://outdoors.stackexchange.com/questions/913', 'title': 'What is a buff?'}, {'title': ['<em>What</em> <em>is</em> a buff?'], 'body': ['<em>What</em> <em>is</em> a \"buff\", how <em>is</em> it used, and why should I have one? I\\'ve seen them advocated in numerous']})\n"
     ]
    },
    {
     "data": {
      "text/html": [
       "<a href=\"https://outdoors.stackexchange.com/questions/913\">qid 913</a>&nbsp;"
      ],
      "text/plain": [
       "<IPython.core.display.HTML object>"
      ]
     },
     "metadata": {},
     "output_type": "display_data"
    },
    {
     "data": {
      "text/html": [
       "<strong>Question Title:</strong>What is a buff?"
      ],
      "text/plain": [
       "<IPython.core.display.HTML object>"
      ]
     },
     "metadata": {},
     "output_type": "display_data"
    },
    {
     "data": {
      "text/html": [
       "<strong>Body:</strong><em>What</em> <em>is</em> a \"buff\", how <em>is</em> it used, and why should I have one? I've seen them advocated in numerous"
      ],
      "text/plain": [
       "<IPython.core.display.HTML object>"
      ]
     },
     "metadata": {},
     "output_type": "display_data"
    },
    {
     "data": {
      "text/html": [
       "<hr>"
      ],
      "text/plain": [
       "<IPython.core.display.HTML object>"
      ]
     },
     "metadata": {},
     "output_type": "display_data"
    },
    {
     "name": "stdout",
     "output_type": "stream",
     "text": [
      "({'id': '6397', 'url': 'https://outdoors.stackexchange.com/questions/6397', 'title': 'What is a bloquers?'}, {'title': ['<em>What</em> <em>is</em> a bloquers?'], 'body': [\"Simple question, which has been prompted from this answer . <em>What</em> <em>is</em> a bloquers? I'm guessing it's\"]})\n"
     ]
    },
    {
     "data": {
      "text/html": [
       "<a href=\"https://outdoors.stackexchange.com/questions/6397\">qid 6397</a>&nbsp;"
      ],
      "text/plain": [
       "<IPython.core.display.HTML object>"
      ]
     },
     "metadata": {},
     "output_type": "display_data"
    },
    {
     "data": {
      "text/html": [
       "<strong>Question Title:</strong>What is a bloquers?"
      ],
      "text/plain": [
       "<IPython.core.display.HTML object>"
      ]
     },
     "metadata": {},
     "output_type": "display_data"
    },
    {
     "data": {
      "text/html": [
       "<strong>Body:</strong>Simple question, which has been prompted from this answer . <em>What</em> <em>is</em> a bloquers? I'm guessing it's"
      ],
      "text/plain": [
       "<IPython.core.display.HTML object>"
      ]
     },
     "metadata": {},
     "output_type": "display_data"
    },
    {
     "data": {
      "text/html": [
       "<hr>"
      ],
      "text/plain": [
       "<IPython.core.display.HTML object>"
      ]
     },
     "metadata": {},
     "output_type": "display_data"
    }
   ],
   "source": [
    "query_collection(\"What is DEET?\",verbose=True)"
   ]
  },
  {
   "cell_type": "markdown",
   "metadata": {},
   "source": [
    "Up next: [Introduction to Transformers](2.introduction-to-transformers.ipynb)"
   ]
  }
 ],
 "metadata": {
  "kernelspec": {
   "display_name": "Python 3 (ipykernel)",
   "language": "python",
   "name": "python3"
  },
  "vscode": {
   "interpreter": {
    "hash": "31f2aee4e71d21fbe5cf8b01ff0e069b9275f58929596ceb00d14d90e3e16cd6"
   }
  }
 },
 "nbformat": 4,
 "nbformat_minor": 4
}
