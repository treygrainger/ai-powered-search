{
 "cells": [
  {
   "cell_type": "markdown",
   "metadata": {},
   "source": [
    "## [Chapter 13] Setting up the outdoors dataset\n",
    "\n",
    "We're going to use the Outdoors dataset for this chapter, and for a very important reason: the vocabulary and contexts in the outdoor question and answer __domain__ already have good coverage in the Transformer models we'll be using.\n",
    "\n",
    "This is because the datasets that were used to train the model include sources that are likely to have similar subject matter.  Wikipedia was used to train bert-base-uncased (https://huggingface.co/bert-base-uncased#training-data) and, surprise! wikipedia has a section specifically on outdoors content: https://en.wikipedia.org/wiki/Outdoor\n",
    "\n",
    "This is important, because if the words and their contexts haven't been seen before, the model will be less accurate.\n",
    "\n",
    "Also, who doesn't enjoy playing around with a new dataset?! Data is search nerd candy."
   ]
  },
  {
   "cell_type": "code",
   "execution_count": 1,
   "metadata": {},
   "outputs": [],
   "source": [
    "import sys\n",
    "import pickle\n",
    "import json\n",
    "sys.path.append('..')\n",
    "from aips import *\n",
    "from IPython.core.display import display,HTML"
   ]
  },
  {
   "cell_type": "code",
   "execution_count": 2,
   "metadata": {},
   "outputs": [],
   "source": [
    "def add_outdoors_fields_to_schema(outdoors_collection):\n",
    "    upsert_string_field(outdoors_collection,\"url\")\n",
    "    upsert_integer_field(outdoors_collection,\"post_type_id\")\n",
    "    upsert_integer_field(outdoors_collection,\"accepted_answer_id\")\n",
    "    upsert_integer_field(outdoors_collection,\"parent_id\")\n",
    "    upsert_integer_field(outdoors_collection,\"score\")\n",
    "    upsert_integer_field(outdoors_collection,\"view_count\")\n",
    "    upsert_text_field(outdoors_collection,\"body\")\n",
    "    upsert_text_field(outdoors_collection,\"title\")\n",
    "    upsert_keyword_field(outdoors_collection,\"tags\")\n",
    "    upsert_integer_field(outdoors_collection,\"answer_count\")\n",
    "    upsert_integer_field(outdoors_collection,\"owner_user_id\")"
   ]
  },
  {
   "cell_type": "markdown",
   "metadata": {},
   "source": [
    "## Downloading and Processing the Outdoors Dataset"
   ]
  },
  {
   "cell_type": "code",
   "execution_count": 3,
   "metadata": {},
   "outputs": [],
   "source": [
    "from densevectors.outdoors import *\n",
    "    \n",
    "def download_outdoors_dataset():\n",
    "    from ltr.download import download, extract_tgz\n",
    "    import tarfile\n",
    "\n",
    "    dataset = ['https://github.com/ai-powered-search/outdoors/raw/master/outdoors.tgz']\n",
    "    download(dataset, dest='data/')\n",
    "    extract_tgz('data/outdoors.tgz') # -> Holds 'outdoors.csv', a big CSV file of the stackexchange outdoors dataset\n",
    "    \n",
    "def process_outdoors_dataset():\n",
    "    #Transform the the outdoors.csv file into solr documents\n",
    "    df = cleanDataset('data/posts.csv')\n",
    "    data = transformDataFrame(df)\n",
    "    return data\n",
    "    \n",
    "def index_dataset_to_search_engine(outdoors_collection, data):\n",
    "    print(\"\\nAdding Documents to '\" + outdoors_collection + \"' collection\")\n",
    "    response = requests.post(solr_url + outdoors_collection + \"/update?commit=true\", json=data).json()\n",
    "    print(str(response))\n",
    "    print(\"Status: \" \"Success\" if response[\"responseHeader\"][\"status\"] == 0 else \"Failure\" )"
   ]
  },
  {
   "cell_type": "code",
   "execution_count": 4,
   "metadata": {},
   "outputs": [
    {
     "name": "stdout",
     "output_type": "stream",
     "text": [
      "GET https://github.com/ai-powered-search/outdoors/raw/master/outdoors.tgz\n"
     ]
    }
   ],
   "source": [
    "#Download the dataset one time up-front\n",
    "download_outdoors_dataset()"
   ]
  },
  {
   "cell_type": "markdown",
   "metadata": {},
   "source": [
    "## Listing 13.1\n",
    "\n",
    "### Creating our Collection and Indexing the documents"
   ]
  },
  {
   "cell_type": "code",
   "execution_count": 5,
   "metadata": {},
   "outputs": [
    {
     "name": "stdout",
     "output_type": "stream",
     "text": [
      "Wiping 'outdoors' collection\n",
      "[('action', 'CREATE'), ('name', 'outdoors'), ('numShards', 1), ('replicationFactor', 1)]\n",
      "Creating outdoors' collection\n",
      "Status: Success\n",
      "Adding 'url' field to collection\n",
      "Status: Success\n",
      "Adding 'post_type_id' field to collection\n",
      "Status: Success\n",
      "Adding 'accepted_answer_id' field to collection\n",
      "Status: Success\n",
      "Adding 'parent_id' field to collection\n",
      "Status: Success\n",
      "Adding 'score' field to collection\n",
      "Status: Success\n",
      "Adding 'view_count' field to collection\n",
      "Status: Success\n",
      "Adding 'body' field to collection\n",
      "Status: Success\n",
      "Adding 'title' field to collection\n",
      "Status: Success\n",
      "Adding 'tags' field to collection\n",
      "Status: Success\n",
      "Adding 'answer_count' field to collection\n",
      "Status: Success\n",
      "Adding 'owner_user_id' field to collection\n",
      "Status: Success\n",
      "\n",
      "Adding Documents to 'outdoors' collection\n",
      "{'responseHeader': {'rf': 1, 'status': 0, 'QTime': 5604}}\n",
      "Status: Success\n"
     ]
    }
   ],
   "source": [
    "outdoors_collection=\"outdoors\"\n",
    "create_collection(outdoors_collection)\n",
    "add_outdoors_fields_to_schema(outdoors_collection)\n",
    "index_dataset_to_search_engine(outdoors_collection, process_outdoors_dataset())"
   ]
  },
  {
   "cell_type": "markdown",
   "metadata": {},
   "source": [
    "## Listing 13.2"
   ]
  },
  {
   "cell_type": "markdown",
   "metadata": {},
   "source": [
    "### Sample Question and Answer Documents"
   ]
  },
  {
   "cell_type": "code",
   "execution_count": 6,
   "metadata": {},
   "outputs": [
    {
     "name": "stdout",
     "output_type": "stream",
     "text": [
      "[\n",
      "    {\n",
      "        \"id\": \"7\",\n",
      "        \"post_type_id\": 1,\n",
      "        \"accepted_answer_id\": 21,\n",
      "        \"body\": \"There are a number of ways to purify water, off the top of my head we have filters, iodine, and boiling. Clearly each has some advantage/disadvantage (iodine tastes terrible, boiling takes time). Which of these is the safest? Is there another method that's safer?\",\n",
      "        \"title\": \"What is the safest way to purify water?\"\n",
      "    },\n",
      "    {\n",
      "        \"id\": \"15\",\n",
      "        \"post_type_id\": 2,\n",
      "        \"parent_id\": 7,\n",
      "        \"body\": \"I have no science to back me up, but the SAFEST way would be boiling. Since water all boils at the same point; you know as soon as it starts rolling that the nasties are all being killed. Hold at a rolling boil for 2 minutes (as I was taught), and it is safe to drink.\"\n",
      "    },\n",
      "    {\n",
      "        \"id\": \"21\",\n",
      "        \"post_type_id\": 2,\n",
      "        \"parent_id\": 7,\n",
      "        \"body\": \"When you're asking for the safest way to purify water, you're asking for the method that removes the most harmful stuff from the water, like bacteria, viruses and larger impurities like mud or sand. No one method is really perfect at removing everything, so I usually use a two-stage approach: Filter : If the water source is cloudy, your first step should be to remove the larger impurities. You can buy expensive pump filters for this, or you can just pour the water through a sock, bandanna, or any other tightly-woven fabric to remove the larger stuff. Note that you can probably skip this step if the water you're collecting is clear and fast-moving. Boil : Heat sterilization is really the only sure-fire way to kill bacteria, viruses and other undesirable microbial life in your water. It's a commonly used technique to clean medical instruments since it's so effective. It does require a heat source, and it'll take some time to get a full rolling boil. But if you're at all worried about the quality of your water, it's your safest bet. Edit: As commenters noted, if you're in an area with potential chemical pollutants or metals in the water, you should filter even if the water appears clear. But if you're really in a situation where mother nature's water has been tainted by man-made waste, you should probably pack in all of your own water anyways.\"\n",
      "    },\n",
      "    {\n",
      "        \"id\": \"116\",\n",
      "        \"post_type_id\": 2,\n",
      "        \"parent_id\": 7,\n",
      "        \"body\": \"Boiling is the best thing to do, as stated already - I was always taught to boil for 2 minutes and then it's safe. (Far from an accepted time though. For debate on how long you should boil, see here: How long does water need to be boiled for to kill all bacteria / viruses? ) As pointed out below though it may be wise to use a filter to get rid of any toxic metals prior to boiling. I've personally not had an issue with them but it depends heavily on the area, and better safe than sorry! In situations where you can't boil it then chlorine tablets can be an alternative; while I don't have a source to hand I'm sure that I read they're generally recommended above iodine tablets because the latter if used extensively over time can damage the thyroid.\"\n",
      "    },\n",
      "    {\n",
      "        \"id\": \"122\",\n",
      "        \"post_type_id\": 2,\n",
      "        \"parent_id\": 7,\n",
      "        \"body\": \"I would get a ceramic filter that is rated to remove metals like arsenic (this is a particular issue in the UK where most surface water in the wild country can harbour arsenic - but I'd rather assume all ground water to be 'tainted' than drink it and become poisoned). I've used some hand-pumped filters which can draw water from a lake or river, and filter at the rate of about a litre a minute. Then, drop an chlorine tab into the water - this usually requires 30 minutes to completely kill off biologic contamination. You can then get neutralisers to remove the taste of the chlorine from the water. Boiling shouldn't be necessary after this treatment - unless you want a cuppa. One thing - do not rely on the apparent clarity of the water - bacteria/viruses and dissolved metals will almost always be invisible to the naked eye.\"\n",
      "    },\n",
      "    {\n",
      "        \"id\": \"1218\",\n",
      "        \"post_type_id\": 2,\n",
      "        \"parent_id\": 7,\n",
      "        \"body\": \"If boiling isn't an option, aqua mira is usually a good choice. It's a doddle to use, and is very effective. It doesn't make the water taste like soap either, like some of the tablets do.\"\n",
      "    },\n",
      "    {\n",
      "        \"id\": \"4058\",\n",
      "        \"post_type_id\": 2,\n",
      "        \"parent_id\": 7,\n",
      "        \"body\": \"There is typically no need to purify water collected from natural sources in the wilderness. For example, in a survey of 69 sites in the U.S Sierra Nevada , every site had concentrations of Giardia cysts much too low to make anyone sick.[Rockwell 2002] The perception that backcountry water is unsafe to drink without treatment is folk wisdom that is controverted by the available scientific evidence, at least in the backcountry areas in the US such as the Sierra that have been extensively studied. Of course none of this applies outside of the backcountry, e.g., you certainly don't want to drink water in Arkansas that comes from runoff from a poultry farm. When people do actually contract backpacker's diarrhea from exposure during a hiking trip, by far the most common reason is hand-to-mouth contamination.[Welch 1995] The most effective disease prevention measures are to wash your hands after pooping, refrain from sharing pots and pans, and use freezer-bag cooking so that food never goes in your pots. If you do want to purify your water, there's a lot to be said for UV (steripen), which is one of the few methods that will kill all three types of disease-causing organisms: viruses, bacteria, and protozoan cysts. Unlike boiling and halogens, it gives you water that you can drink immediately while hiking during the day. For more detail, I have a long article on this topic here, with lots of citations to reliable scientific and medical sources: Drinking Water for Hiking: Myths and Facts . I realize that my answer goes against the conventional wisdom, and that's why I've provided references to scientific papers in this answer, as well as much more extensive references in the longer article. Rockwell 2002 - Robert L. Rockwell, Sierra Nature Notes, Volume 2, January 2002, Welch 1995 - Thomas R. Welch and Timothy P. Welch, \\\"Giardiasis as a threat to backpackers in the United States: a survey of state health departments,\\\" Wilderness and Environmental Medicine, 6 (1995) 162.\"\n",
      "    },\n",
      "    {\n",
      "        \"id\": \"4155\",\n",
      "        \"post_type_id\": 2,\n",
      "        \"parent_id\": 7,\n",
      "        \"body\": \"If safety is your primary concern, then the only two methods can guarantee safety from major contaminants (microbial or otherwise) these are Distillation and Reverse Osmosis Distillation Boiling alone will leave most contaminants in the water, such as heavy metals, hydrocarbons, etc... multi-stage distillation will both kill pathogens and leave most contaminants in the residue. Distillation can be carried out using a solar still if a fire and appropriate equipment isn't available. One stage distillation is usually enough unless the water source is heavily contaminated. Reverse Osmosis Is usually combined with another method of filtration/purification, but has very high water purity if used properly, although the energy required and the efficiency when using low pressures (like a hand pump) make this a poor choice when hiking. Ensuring safety In both cases, the water really should be filtered until clear beforehand for the best results and ease of use, although this is not strictly necessary. For the best results, purifications/filtration methods should be used together, for example, activated carbon filtration of distilled water (to remove volatile organic copounds) or chlorination of water recovered by reverse osmosis. Distillation and reverse osmosis are also the only two methods mentioned so far able to desalinate seawater and recycle urine. For example, The ISS uses a low pressure distilation system to recover drinking water. You will need to re-mineralise the water in both cases, both for taste and electrolytes. Both methods require a lot of energy, but will guarantee exceptionally safe water.\"\n",
      "    },\n",
      "    {\n",
      "        \"id\": \"4927\",\n",
      "        \"post_type_id\": 2,\n",
      "        \"parent_id\": 7,\n",
      "        \"body\": \"Fecal contamination should not really be an issue unless someone is already sick. Recent research has suggested that even eating ones own poop should not make you sick. Fecal transplants is a new way of treating some issues that form from a lack of flora in your gut. Can You Eat Your Own Poop? I for one would use something to treat the water. My cousin hiked the Sierra MTS a few years ago and contracted giardia so just from that knowledge I would definetely treat the water with something.\"\n",
      "    },\n",
      "    {\n",
      "        \"id\": \"9626\",\n",
      "        \"post_type_id\": 2,\n",
      "        \"parent_id\": 7,\n",
      "        \"body\": \"This Discovery News article says: A simple and inexpensive \\u2014 but not necessarily the best tasting \\u2014 method of purifying wild water is by dropping in a couple of purification tablets or drops. The most common chemical used is iodine, but chlorine or potassium permanganate are also effective. Let the chemicals treat the water for at least 20 minutes before consuming, and mix it with powdered mixes to mask any of its taste.\"\n",
      "    }\n",
      "]\n"
     ]
    }
   ],
   "source": [
    "def show_data_sample(post_id):\n",
    "    request = {\n",
    "        \"query\": \"id:\" + str(post_id) + \" OR parent_id:\" + str(post_id),\n",
    "        \"fields\": [\"id, post_type_id\", \"title\", \"parent_id\",\" accepted_answer_id\", \"body\"],\n",
    "        \"params\": {\n",
    "          \"fq\":\"post_type_id:*\",\n",
    "          \"indent\": \"true\",\n",
    "          \"sort\":  \"post_type_id asc\"\n",
    "        }\n",
    "    }\n",
    "    \n",
    "    response = requests.post(solr_url + outdoors_collection + \"/select\", json=request).json()\n",
    "    results = json.dumps(list(response[\"response\"][\"docs\"]), indent=4)\n",
    "    print(results)\n",
    "\n",
    "show_data_sample(7)"
   ]
  },
  {
   "cell_type": "code",
   "execution_count": 7,
   "metadata": {},
   "outputs": [],
   "source": [
    "def query_collection(query,verbose=False):\n",
    "    request = {\n",
    "        \"query\": query,\n",
    "        \"fields\": [\"id\", \"title\", \"url\"],\n",
    "        \"params\": {\n",
    "          \"fq\":\"post_type_id:1\",\n",
    "          \"qf\": [\"title\",\"body\"],\n",
    "          \"defType\": \"edismax\",\n",
    "          \"indent\": \"true\",\n",
    "          \"hl\": True\n",
    "        }\n",
    "    }\n",
    "    display(HTML(\"<br/><strong>Query: </strong><i>\" + query + \"</i><br/><br/><strong>Ranked Docs:</strong>\"))\n",
    "    response = requests.post(solr_url + outdoors_collection + \"/select\", json=request).json()\n",
    "    results = list(response[\"response\"][\"docs\"])\n",
    "    highlights = [response[\"highlighting\"][k] for k in response[\"highlighting\"].keys()]\n",
    "    res = [j for j in zip(results, highlights)]\n",
    "    i=1\n",
    "    for r in res:\n",
    "        display(HTML('<a href=\"'+r[0][\"url\"]+'\">qid '+r[0][\"id\"]+'</a>&nbsp;'))\n",
    "        if \"title\" in r[0].keys():\n",
    "            display(HTML('<strong>Question Title:</strong>' + r[0][\"title\"]))\n",
    "        if verbose:\n",
    "            display(HTML('<strong>Body:</strong>'+html.unescape(str(r[1][\"body\"][0]))))\n",
    "            display(HTML('<hr>'))\n",
    "        i+=1"
   ]
  },
  {
   "cell_type": "markdown",
   "metadata": {},
   "source": [
    "## Listing 13.3\n",
    "\n",
    "### Querying our collection with a noun phrase"
   ]
  },
  {
   "cell_type": "code",
   "execution_count": 8,
   "metadata": {},
   "outputs": [
    {
     "data": {
      "text/html": [
       "<br/><strong>Query: </strong><i>climbing knots</i><br/><br/><strong>Ranked Docs:</strong>"
      ],
      "text/plain": [
       "<IPython.core.display.HTML object>"
      ]
     },
     "metadata": {},
     "output_type": "display_data"
    },
    {
     "data": {
      "text/html": [
       "<a href=\"https://outdoors.stackexchange.com/questions/21855\">qid 21855</a>&nbsp;"
      ],
      "text/plain": [
       "<IPython.core.display.HTML object>"
      ]
     },
     "metadata": {},
     "output_type": "display_data"
    },
    {
     "data": {
      "text/html": [
       "<strong>Question Title:</strong>What are the four climbing knots used by Jim Bridwell?"
      ],
      "text/plain": [
       "<IPython.core.display.HTML object>"
      ]
     },
     "metadata": {},
     "output_type": "display_data"
    },
    {
     "data": {
      "text/html": [
       "<strong>Body:</strong> history of the sport, uses only four <em>knots</em> for any and all <em>climbing</em> situations. Better to learn a few"
      ],
      "text/plain": [
       "<IPython.core.display.HTML object>"
      ]
     },
     "metadata": {},
     "output_type": "display_data"
    },
    {
     "data": {
      "text/html": [
       "<hr>"
      ],
      "text/plain": [
       "<IPython.core.display.HTML object>"
      ]
     },
     "metadata": {},
     "output_type": "display_data"
    },
    {
     "data": {
      "text/html": [
       "<a href=\"https://outdoors.stackexchange.com/questions/18825\">qid 18825</a>&nbsp;"
      ],
      "text/plain": [
       "<IPython.core.display.HTML object>"
      ]
     },
     "metadata": {},
     "output_type": "display_data"
    },
    {
     "data": {
      "text/html": [
       "<strong>Question Title:</strong>What's a good resource for learning to tie knots for climbing?"
      ],
      "text/plain": [
       "<IPython.core.display.HTML object>"
      ]
     },
     "metadata": {},
     "output_type": "display_data"
    },
    {
     "data": {
      "text/html": [
       "<strong>Body:</strong>If I wanted to learn how to tie certain <em>knots</em>, or learn about new <em>knots</em> and what they're used for"
      ],
      "text/plain": [
       "<IPython.core.display.HTML object>"
      ]
     },
     "metadata": {},
     "output_type": "display_data"
    },
    {
     "data": {
      "text/html": [
       "<hr>"
      ],
      "text/plain": [
       "<IPython.core.display.HTML object>"
      ]
     },
     "metadata": {},
     "output_type": "display_data"
    },
    {
     "data": {
      "text/html": [
       "<a href=\"https://outdoors.stackexchange.com/questions/18814\">qid 18814</a>&nbsp;"
      ],
      "text/plain": [
       "<IPython.core.display.HTML object>"
      ]
     },
     "metadata": {},
     "output_type": "display_data"
    },
    {
     "data": {
      "text/html": [
       "<strong>Question Title:</strong>How to tie a figure eight on a bight?"
      ],
      "text/plain": [
       "<IPython.core.display.HTML object>"
      ]
     },
     "metadata": {},
     "output_type": "display_data"
    },
    {
     "data": {
      "text/html": [
       "<strong>Body:</strong>One of the more common <em>knots</em> in <em>climbing</em> is the figure eight on a bight (being tied on a bight"
      ],
      "text/plain": [
       "<IPython.core.display.HTML object>"
      ]
     },
     "metadata": {},
     "output_type": "display_data"
    },
    {
     "data": {
      "text/html": [
       "<hr>"
      ],
      "text/plain": [
       "<IPython.core.display.HTML object>"
      ]
     },
     "metadata": {},
     "output_type": "display_data"
    },
    {
     "data": {
      "text/html": [
       "<a href=\"https://outdoors.stackexchange.com/questions/9183\">qid 9183</a>&nbsp;"
      ],
      "text/plain": [
       "<IPython.core.display.HTML object>"
      ]
     },
     "metadata": {},
     "output_type": "display_data"
    },
    {
     "data": {
      "text/html": [
       "<strong>Question Title:</strong>Can rock climbers easily transition to canyoning?"
      ],
      "text/plain": [
       "<IPython.core.display.HTML object>"
      ]
     },
     "metadata": {},
     "output_type": "display_data"
    },
    {
     "data": {
      "text/html": [
       "<strong>Body:</strong>Rock <em>climbing</em> and canyoning/canyoneering are very different. However, it seems like the two"
      ],
      "text/plain": [
       "<IPython.core.display.HTML object>"
      ]
     },
     "metadata": {},
     "output_type": "display_data"
    },
    {
     "data": {
      "text/html": [
       "<hr>"
      ],
      "text/plain": [
       "<IPython.core.display.HTML object>"
      ]
     },
     "metadata": {},
     "output_type": "display_data"
    },
    {
     "data": {
      "text/html": [
       "<a href=\"https://outdoors.stackexchange.com/questions/20223\">qid 20223</a>&nbsp;"
      ],
      "text/plain": [
       "<IPython.core.display.HTML object>"
      ]
     },
     "metadata": {},
     "output_type": "display_data"
    },
    {
     "data": {
      "text/html": [
       "<strong>Question Title:</strong>How to tie a Purcell prusik?"
      ],
      "text/plain": [
       "<IPython.core.display.HTML object>"
      ]
     },
     "metadata": {},
     "output_type": "display_data"
    },
    {
     "data": {
      "text/html": [
       "<strong>Body:</strong>One of the more useful <em>knots</em> for <em>climbing</em> is the Purcell prusik (related to but not a regular"
      ],
      "text/plain": [
       "<IPython.core.display.HTML object>"
      ]
     },
     "metadata": {},
     "output_type": "display_data"
    },
    {
     "data": {
      "text/html": [
       "<hr>"
      ],
      "text/plain": [
       "<IPython.core.display.HTML object>"
      ]
     },
     "metadata": {},
     "output_type": "display_data"
    },
    {
     "data": {
      "text/html": [
       "<a href=\"https://outdoors.stackexchange.com/questions/22477\">qid 22477</a>&nbsp;"
      ],
      "text/plain": [
       "<IPython.core.display.HTML object>"
      ]
     },
     "metadata": {},
     "output_type": "display_data"
    },
    {
     "data": {
      "text/html": [
       "<strong>Question Title:</strong>Tradeoffs between different stopper knots"
      ],
      "text/plain": [
       "<IPython.core.display.HTML object>"
      ]
     },
     "metadata": {},
     "output_type": "display_data"
    },
    {
     "data": {
      "text/html": [
       "<strong>Body:</strong> different stopper <em>knots</em>, that would be great. I would also be interested in hearing about any accidents in"
      ],
      "text/plain": [
       "<IPython.core.display.HTML object>"
      ]
     },
     "metadata": {},
     "output_type": "display_data"
    },
    {
     "data": {
      "text/html": [
       "<hr>"
      ],
      "text/plain": [
       "<IPython.core.display.HTML object>"
      ]
     },
     "metadata": {},
     "output_type": "display_data"
    },
    {
     "data": {
      "text/html": [
       "<a href=\"https://outdoors.stackexchange.com/questions/22369\">qid 22369</a>&nbsp;"
      ],
      "text/plain": [
       "<IPython.core.display.HTML object>"
      ]
     },
     "metadata": {},
     "output_type": "display_data"
    },
    {
     "data": {
      "text/html": [
       "<strong>Question Title:</strong>\"Large\" eye of tie-in knot: dangerous?"
      ],
      "text/plain": [
       "<IPython.core.display.HTML object>"
      ]
     },
     "metadata": {},
     "output_type": "display_data"
    },
    {
     "data": {
      "text/html": [
       "<strong>Body:</strong>There's a dispute in my <em>climbing</em> group whether a \"large\" eye of the tie-in knot can be considered"
      ],
      "text/plain": [
       "<IPython.core.display.HTML object>"
      ]
     },
     "metadata": {},
     "output_type": "display_data"
    },
    {
     "data": {
      "text/html": [
       "<hr>"
      ],
      "text/plain": [
       "<IPython.core.display.HTML object>"
      ]
     },
     "metadata": {},
     "output_type": "display_data"
    },
    {
     "data": {
      "text/html": [
       "<a href=\"https://outdoors.stackexchange.com/questions/338\">qid 338</a>&nbsp;"
      ],
      "text/plain": [
       "<IPython.core.display.HTML object>"
      ]
     },
     "metadata": {},
     "output_type": "display_data"
    },
    {
     "data": {
      "text/html": [
       "<strong>Question Title:</strong>How do I tie a Prusik knot?"
      ],
      "text/plain": [
       "<IPython.core.display.HTML object>"
      ]
     },
     "metadata": {},
     "output_type": "display_data"
    },
    {
     "data": {
      "text/html": [
       "<strong>Body:</strong>Prusik <em>knots</em> are useful in emergency situations as they can be used for both <em>climbing</em> up a rope"
      ],
      "text/plain": [
       "<IPython.core.display.HTML object>"
      ]
     },
     "metadata": {},
     "output_type": "display_data"
    },
    {
     "data": {
      "text/html": [
       "<hr>"
      ],
      "text/plain": [
       "<IPython.core.display.HTML object>"
      ]
     },
     "metadata": {},
     "output_type": "display_data"
    },
    {
     "data": {
      "text/html": [
       "<a href=\"https://outdoors.stackexchange.com/questions/11198\">qid 11198</a>&nbsp;"
      ],
      "text/plain": [
       "<IPython.core.display.HTML object>"
      ]
     },
     "metadata": {},
     "output_type": "display_data"
    },
    {
     "data": {
      "text/html": [
       "<strong>Question Title:</strong>Is a barrel knot the same as a double/triple overhand knot?"
      ],
      "text/plain": [
       "<IPython.core.display.HTML object>"
      ]
     },
     "metadata": {},
     "output_type": "display_data"
    },
    {
     "data": {
      "text/html": [
       "<strong>Body:</strong> other uses of the term barrel knot and found this snippet on the Animated <em>Knots</em> page for a barrel hitch"
      ],
      "text/plain": [
       "<IPython.core.display.HTML object>"
      ]
     },
     "metadata": {},
     "output_type": "display_data"
    },
    {
     "data": {
      "text/html": [
       "<hr>"
      ],
      "text/plain": [
       "<IPython.core.display.HTML object>"
      ]
     },
     "metadata": {},
     "output_type": "display_data"
    },
    {
     "data": {
      "text/html": [
       "<a href=\"https://outdoors.stackexchange.com/questions/16336\">qid 16336</a>&nbsp;"
      ],
      "text/plain": [
       "<IPython.core.display.HTML object>"
      ]
     },
     "metadata": {},
     "output_type": "display_data"
    },
    {
     "data": {
      "text/html": [
       "<strong>Question Title:</strong>Is a clove hitch to be distrusted in climbing?"
      ],
      "text/plain": [
       "<IPython.core.display.HTML object>"
      ]
     },
     "metadata": {},
     "output_type": "display_data"
    },
    {
     "data": {
      "text/html": [
       "<strong>Body:</strong>Reading the description for a clove hitch on animated <em>knots</em> by Grog (the go to bible of <em>knots</em> IMO"
      ],
      "text/plain": [
       "<IPython.core.display.HTML object>"
      ]
     },
     "metadata": {},
     "output_type": "display_data"
    },
    {
     "data": {
      "text/html": [
       "<hr>"
      ],
      "text/plain": [
       "<IPython.core.display.HTML object>"
      ]
     },
     "metadata": {},
     "output_type": "display_data"
    }
   ],
   "source": [
    "query_collection(\"climbing knots\",verbose=True)"
   ]
  },
  {
   "cell_type": "code",
   "execution_count": 9,
   "metadata": {},
   "outputs": [
    {
     "data": {
      "text/html": [
       "<br/><strong>Query: </strong><i>snow camping safety</i><br/><br/><strong>Ranked Docs:</strong>"
      ],
      "text/plain": [
       "<IPython.core.display.HTML object>"
      ]
     },
     "metadata": {},
     "output_type": "display_data"
    },
    {
     "data": {
      "text/html": [
       "<a href=\"https://outdoors.stackexchange.com/questions/1966\">qid 1966</a>&nbsp;"
      ],
      "text/plain": [
       "<IPython.core.display.HTML object>"
      ]
     },
     "metadata": {},
     "output_type": "display_data"
    },
    {
     "data": {
      "text/html": [
       "<strong>Question Title:</strong>Best approach to camping in snow?"
      ],
      "text/plain": [
       "<IPython.core.display.HTML object>"
      ]
     },
     "metadata": {},
     "output_type": "display_data"
    },
    {
     "data": {
      "text/html": [
       "<a href=\"https://outdoors.stackexchange.com/questions/20725\">qid 20725</a>&nbsp;"
      ],
      "text/plain": [
       "<IPython.core.display.HTML object>"
      ]
     },
     "metadata": {},
     "output_type": "display_data"
    },
    {
     "data": {
      "text/html": [
       "<strong>Question Title:</strong>How do people carry camping propane in a car when traveling?"
      ],
      "text/plain": [
       "<IPython.core.display.HTML object>"
      ]
     },
     "metadata": {},
     "output_type": "display_data"
    },
    {
     "data": {
      "text/html": [
       "<a href=\"https://outdoors.stackexchange.com/questions/18942\">qid 18942</a>&nbsp;"
      ],
      "text/plain": [
       "<IPython.core.display.HTML object>"
      ]
     },
     "metadata": {},
     "output_type": "display_data"
    },
    {
     "data": {
      "text/html": [
       "<strong>Question Title:</strong>Resources for camping in Georgia (country)"
      ],
      "text/plain": [
       "<IPython.core.display.HTML object>"
      ]
     },
     "metadata": {},
     "output_type": "display_data"
    },
    {
     "data": {
      "text/html": [
       "<a href=\"https://outdoors.stackexchange.com/questions/13209\">qid 13209</a>&nbsp;"
      ],
      "text/plain": [
       "<IPython.core.display.HTML object>"
      ]
     },
     "metadata": {},
     "output_type": "display_data"
    },
    {
     "data": {
      "text/html": [
       "<strong>Question Title:</strong>Any tips to prevent theft while tent camping alone in a caravan park?"
      ],
      "text/plain": [
       "<IPython.core.display.HTML object>"
      ]
     },
     "metadata": {},
     "output_type": "display_data"
    },
    {
     "data": {
      "text/html": [
       "<a href=\"https://outdoors.stackexchange.com/questions/8700\">qid 8700</a>&nbsp;"
      ],
      "text/plain": [
       "<IPython.core.display.HTML object>"
      ]
     },
     "metadata": {},
     "output_type": "display_data"
    },
    {
     "data": {
      "text/html": [
       "<strong>Question Title:</strong>What are some simple tasks to teach knife safety?"
      ],
      "text/plain": [
       "<IPython.core.display.HTML object>"
      ]
     },
     "metadata": {},
     "output_type": "display_data"
    },
    {
     "data": {
      "text/html": [
       "<a href=\"https://outdoors.stackexchange.com/questions/3822\">qid 3822</a>&nbsp;"
      ],
      "text/plain": [
       "<IPython.core.display.HTML object>"
      ]
     },
     "metadata": {},
     "output_type": "display_data"
    },
    {
     "data": {
      "text/html": [
       "<strong>Question Title:</strong>End of Winter/Spring Camping"
      ],
      "text/plain": [
       "<IPython.core.display.HTML object>"
      ]
     },
     "metadata": {},
     "output_type": "display_data"
    },
    {
     "data": {
      "text/html": [
       "<a href=\"https://outdoors.stackexchange.com/questions/14565\">qid 14565</a>&nbsp;"
      ],
      "text/plain": [
       "<IPython.core.display.HTML object>"
      ]
     },
     "metadata": {},
     "output_type": "display_data"
    },
    {
     "data": {
      "text/html": [
       "<strong>Question Title:</strong>What is the best breathing holes strategy for a quinzee?"
      ],
      "text/plain": [
       "<IPython.core.display.HTML object>"
      ]
     },
     "metadata": {},
     "output_type": "display_data"
    },
    {
     "data": {
      "text/html": [
       "<a href=\"https://outdoors.stackexchange.com/questions/9986\">qid 9986</a>&nbsp;"
      ],
      "text/plain": [
       "<IPython.core.display.HTML object>"
      ]
     },
     "metadata": {},
     "output_type": "display_data"
    },
    {
     "data": {
      "text/html": [
       "<strong>Question Title:</strong>How to prevent frost / ice damage camping equipment?"
      ],
      "text/plain": [
       "<IPython.core.display.HTML object>"
      ]
     },
     "metadata": {},
     "output_type": "display_data"
    },
    {
     "data": {
      "text/html": [
       "<a href=\"https://outdoors.stackexchange.com/questions/20208\">qid 20208</a>&nbsp;"
      ],
      "text/plain": [
       "<IPython.core.display.HTML object>"
      ]
     },
     "metadata": {},
     "output_type": "display_data"
    },
    {
     "data": {
      "text/html": [
       "<strong>Question Title:</strong>What are the primary considerations for a solo traverse of the Cairngorms in winter snow?"
      ],
      "text/plain": [
       "<IPython.core.display.HTML object>"
      ]
     },
     "metadata": {},
     "output_type": "display_data"
    },
    {
     "data": {
      "text/html": [
       "<a href=\"https://outdoors.stackexchange.com/questions/20746\">qid 20746</a>&nbsp;"
      ],
      "text/plain": [
       "<IPython.core.display.HTML object>"
      ]
     },
     "metadata": {},
     "output_type": "display_data"
    },
    {
     "data": {
      "text/html": [
       "<strong>Question Title:</strong>What are some common mistakes to avoid when trying winter camping for the first time?"
      ],
      "text/plain": [
       "<IPython.core.display.HTML object>"
      ]
     },
     "metadata": {},
     "output_type": "display_data"
    }
   ],
   "source": [
    "query_collection(\"snow camping safety\")"
   ]
  },
  {
   "cell_type": "markdown",
   "metadata": {},
   "source": [
    "## Listing 13.4\n",
    "\n",
    "### Querying our collection with a question"
   ]
  },
  {
   "cell_type": "code",
   "execution_count": 10,
   "metadata": {},
   "outputs": [
    {
     "data": {
      "text/html": [
       "<br/><strong>Query: </strong><i>What is DEET?</i><br/><br/><strong>Ranked Docs:</strong>"
      ],
      "text/plain": [
       "<IPython.core.display.HTML object>"
      ]
     },
     "metadata": {},
     "output_type": "display_data"
    },
    {
     "data": {
      "text/html": [
       "<a href=\"https://outdoors.stackexchange.com/questions/1660\">qid 1660</a>&nbsp;"
      ],
      "text/plain": [
       "<IPython.core.display.HTML object>"
      ]
     },
     "metadata": {},
     "output_type": "display_data"
    },
    {
     "data": {
      "text/html": [
       "<strong>Question Title:</strong>What is Geocaching?"
      ],
      "text/plain": [
       "<IPython.core.display.HTML object>"
      ]
     },
     "metadata": {},
     "output_type": "display_data"
    },
    {
     "data": {
      "text/html": [
       "<strong>Body:</strong> <em>is</em> it played?"
      ],
      "text/plain": [
       "<IPython.core.display.HTML object>"
      ]
     },
     "metadata": {},
     "output_type": "display_data"
    },
    {
     "data": {
      "text/html": [
       "<hr>"
      ],
      "text/plain": [
       "<IPython.core.display.HTML object>"
      ]
     },
     "metadata": {},
     "output_type": "display_data"
    },
    {
     "data": {
      "text/html": [
       "<a href=\"https://outdoors.stackexchange.com/questions/20403\">qid 20403</a>&nbsp;"
      ],
      "text/plain": [
       "<IPython.core.display.HTML object>"
      ]
     },
     "metadata": {},
     "output_type": "display_data"
    },
    {
     "data": {
      "text/html": [
       "<strong>Question Title:</strong>What is bushcrafting?"
      ],
      "text/plain": [
       "<IPython.core.display.HTML object>"
      ]
     },
     "metadata": {},
     "output_type": "display_data"
    },
    {
     "data": {
      "text/html": [
       "<strong>Body:</strong> <em>is</em> not survival. <em>What</em> actually <em>is</em> bushcraft?"
      ],
      "text/plain": [
       "<IPython.core.display.HTML object>"
      ]
     },
     "metadata": {},
     "output_type": "display_data"
    },
    {
     "data": {
      "text/html": [
       "<hr>"
      ],
      "text/plain": [
       "<IPython.core.display.HTML object>"
      ]
     },
     "metadata": {},
     "output_type": "display_data"
    },
    {
     "data": {
      "text/html": [
       "<a href=\"https://outdoors.stackexchange.com/questions/20977\">qid 20977</a>&nbsp;"
      ],
      "text/plain": [
       "<IPython.core.display.HTML object>"
      ]
     },
     "metadata": {},
     "output_type": "display_data"
    },
    {
     "data": {
      "text/html": [
       "<strong>Question Title:</strong>What is \"catskiing\"?"
      ],
      "text/plain": [
       "<IPython.core.display.HTML object>"
      ]
     },
     "metadata": {},
     "output_type": "display_data"
    },
    {
     "data": {
      "text/html": [
       "<strong>Body:</strong> winter vacation from school. Obviously, that doesn't mean skiing with or by means of a cat. <em>What</em> <em>is</em>"
      ],
      "text/plain": [
       "<IPython.core.display.HTML object>"
      ]
     },
     "metadata": {},
     "output_type": "display_data"
    },
    {
     "data": {
      "text/html": [
       "<hr>"
      ],
      "text/plain": [
       "<IPython.core.display.HTML object>"
      ]
     },
     "metadata": {},
     "output_type": "display_data"
    },
    {
     "data": {
      "text/html": [
       "<a href=\"https://outdoors.stackexchange.com/questions/17374\">qid 17374</a>&nbsp;"
      ],
      "text/plain": [
       "<IPython.core.display.HTML object>"
      ]
     },
     "metadata": {},
     "output_type": "display_data"
    },
    {
     "data": {
      "text/html": [
       "<strong>Question Title:</strong>What is a tent skirt and what is its purpose?"
      ],
      "text/plain": [
       "<IPython.core.display.HTML object>"
      ]
     },
     "metadata": {},
     "output_type": "display_data"
    },
    {
     "data": {
      "text/html": [
       "<strong>Body:</strong> the tent, which makes outer tent reach the ground, so wind <em>is</em> not beating into the inner tent ; it has"
      ],
      "text/plain": [
       "<IPython.core.display.HTML object>"
      ]
     },
     "metadata": {},
     "output_type": "display_data"
    },
    {
     "data": {
      "text/html": [
       "<hr>"
      ],
      "text/plain": [
       "<IPython.core.display.HTML object>"
      ]
     },
     "metadata": {},
     "output_type": "display_data"
    },
    {
     "data": {
      "text/html": [
       "<a href=\"https://outdoors.stackexchange.com/questions/13006\">qid 13006</a>&nbsp;"
      ],
      "text/plain": [
       "<IPython.core.display.HTML object>"
      ]
     },
     "metadata": {},
     "output_type": "display_data"
    },
    {
     "data": {
      "text/html": [
       "<strong>Question Title:</strong>What is Fast Packing?"
      ],
      "text/plain": [
       "<IPython.core.display.HTML object>"
      ]
     },
     "metadata": {},
     "output_type": "display_data"
    },
    {
     "data": {
      "text/html": [
       "<strong>Body:</strong> like? <em>What</em> type of milage/hour are people doing, there chafing issues, and <em>is</em> this the type of activity"
      ],
      "text/plain": [
       "<IPython.core.display.HTML object>"
      ]
     },
     "metadata": {},
     "output_type": "display_data"
    },
    {
     "data": {
      "text/html": [
       "<hr>"
      ],
      "text/plain": [
       "<IPython.core.display.HTML object>"
      ]
     },
     "metadata": {},
     "output_type": "display_data"
    },
    {
     "data": {
      "text/html": [
       "<a href=\"https://outdoors.stackexchange.com/questions/15679\">qid 15679</a>&nbsp;"
      ],
      "text/plain": [
       "<IPython.core.display.HTML object>"
      ]
     },
     "metadata": {},
     "output_type": "display_data"
    },
    {
     "data": {
      "text/html": [
       "<strong>Question Title:</strong>What exactly is a rocker?"
      ],
      "text/plain": [
       "<IPython.core.display.HTML object>"
      ]
     },
     "metadata": {},
     "output_type": "display_data"
    },
    {
     "data": {
      "text/html": [
       "<strong>Body:</strong>. <em>What</em> exactly <em>is</em> meant by a \"Rocker\" snowboard and <em>what</em> are the advantages or disadvantages?"
      ],
      "text/plain": [
       "<IPython.core.display.HTML object>"
      ]
     },
     "metadata": {},
     "output_type": "display_data"
    },
    {
     "data": {
      "text/html": [
       "<hr>"
      ],
      "text/plain": [
       "<IPython.core.display.HTML object>"
      ]
     },
     "metadata": {},
     "output_type": "display_data"
    },
    {
     "data": {
      "text/html": [
       "<a href=\"https://outdoors.stackexchange.com/questions/10157\">qid 10157</a>&nbsp;"
      ],
      "text/plain": [
       "<IPython.core.display.HTML object>"
      ]
     },
     "metadata": {},
     "output_type": "display_data"
    },
    {
     "data": {
      "text/html": [
       "<strong>Question Title:</strong>What is a bow shelf?"
      ],
      "text/plain": [
       "<IPython.core.display.HTML object>"
      ]
     },
     "metadata": {},
     "output_type": "display_data"
    },
    {
     "data": {
      "text/html": [
       "<strong>Body:</strong> can't really imagine <em>what</em> this might be. So, <em>what</em> <em>is</em> a \"bow shelf\"?"
      ],
      "text/plain": [
       "<IPython.core.display.HTML object>"
      ]
     },
     "metadata": {},
     "output_type": "display_data"
    },
    {
     "data": {
      "text/html": [
       "<hr>"
      ],
      "text/plain": [
       "<IPython.core.display.HTML object>"
      ]
     },
     "metadata": {},
     "output_type": "display_data"
    },
    {
     "data": {
      "text/html": [
       "<a href=\"https://outdoors.stackexchange.com/questions/24876\">qid 24876</a>&nbsp;"
      ],
      "text/plain": [
       "<IPython.core.display.HTML object>"
      ]
     },
     "metadata": {},
     "output_type": "display_data"
    },
    {
     "data": {
      "text/html": [
       "<strong>Question Title:</strong>What kind of mushroom is this?"
      ],
      "text/plain": [
       "<IPython.core.display.HTML object>"
      ]
     },
     "metadata": {},
     "output_type": "display_data"
    },
    {
     "data": {
      "text/html": [
       "<strong>Body:</strong><em>What</em> kind of mushroom <em>is</em> this? There's a lot of similarity to a morel, but the body shape <em>is</em> not"
      ],
      "text/plain": [
       "<IPython.core.display.HTML object>"
      ]
     },
     "metadata": {},
     "output_type": "display_data"
    },
    {
     "data": {
      "text/html": [
       "<hr>"
      ],
      "text/plain": [
       "<IPython.core.display.HTML object>"
      ]
     },
     "metadata": {},
     "output_type": "display_data"
    },
    {
     "data": {
      "text/html": [
       "<a href=\"https://outdoors.stackexchange.com/questions/913\">qid 913</a>&nbsp;"
      ],
      "text/plain": [
       "<IPython.core.display.HTML object>"
      ]
     },
     "metadata": {},
     "output_type": "display_data"
    },
    {
     "data": {
      "text/html": [
       "<strong>Question Title:</strong>What is a buff?"
      ],
      "text/plain": [
       "<IPython.core.display.HTML object>"
      ]
     },
     "metadata": {},
     "output_type": "display_data"
    },
    {
     "data": {
      "text/html": [
       "<strong>Body:</strong><em>What</em> <em>is</em> a \"buff\", how <em>is</em> it used, and why should I have one? I've seen them advocated in numerous"
      ],
      "text/plain": [
       "<IPython.core.display.HTML object>"
      ]
     },
     "metadata": {},
     "output_type": "display_data"
    },
    {
     "data": {
      "text/html": [
       "<hr>"
      ],
      "text/plain": [
       "<IPython.core.display.HTML object>"
      ]
     },
     "metadata": {},
     "output_type": "display_data"
    },
    {
     "data": {
      "text/html": [
       "<a href=\"https://outdoors.stackexchange.com/questions/6397\">qid 6397</a>&nbsp;"
      ],
      "text/plain": [
       "<IPython.core.display.HTML object>"
      ]
     },
     "metadata": {},
     "output_type": "display_data"
    },
    {
     "data": {
      "text/html": [
       "<strong>Question Title:</strong>What is a bloquers?"
      ],
      "text/plain": [
       "<IPython.core.display.HTML object>"
      ]
     },
     "metadata": {},
     "output_type": "display_data"
    },
    {
     "data": {
      "text/html": [
       "<strong>Body:</strong>Simple question, which has been prompted from this answer . <em>What</em> <em>is</em> a bloquers? I'm guessing it's"
      ],
      "text/plain": [
       "<IPython.core.display.HTML object>"
      ]
     },
     "metadata": {},
     "output_type": "display_data"
    },
    {
     "data": {
      "text/html": [
       "<hr>"
      ],
      "text/plain": [
       "<IPython.core.display.HTML object>"
      ]
     },
     "metadata": {},
     "output_type": "display_data"
    }
   ],
   "source": [
    "query_collection(\"What is DEET?\",verbose=True)"
   ]
  },
  {
   "cell_type": "markdown",
   "metadata": {},
   "source": [
    "## Success!\n",
    "\n",
    "You've indexed the Outdoors dataset and seen that out-of-the-box full-text keyword search doesn't always return the best results. In the next notebook we'll introduce Transformer models, which can greatly help with contextual understanding.\n",
    "\n",
    "Up next: [Introduction to Transformers](2.ch13-introduction-to-transformers.ipynb). \n"
   ]
  }
 ],
 "metadata": {
  "kernelspec": {
   "display_name": "Python 3",
   "language": "python",
   "name": "python3"
  },
  "language_info": {
   "codemirror_mode": {
    "name": "ipython",
    "version": 3
   },
   "file_extension": ".py",
   "mimetype": "text/x-python",
   "name": "python",
   "nbconvert_exporter": "python",
   "pygments_lexer": "ipython3",
   "version": "3.7.6"
  }
 },
 "nbformat": 4,
 "nbformat_minor": 4
}
