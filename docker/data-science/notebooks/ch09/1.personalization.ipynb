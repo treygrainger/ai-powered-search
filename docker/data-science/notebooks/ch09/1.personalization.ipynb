{
 "cells": [
  {
   "cell_type": "markdown",
   "id": "1424a3fd",
   "metadata": {},
   "source": [
    "# [ Chapter 9 - Personalized Search ]\n",
    "# Personalized Search"
   ]
  },
  {
   "cell_type": "markdown",
   "id": "a2ad52b6",
   "metadata": {},
   "source": [
    "**NOTE**: This notebook depends upon the the Retrotech dataset. If you have any issues, please rerun the [Setting up the Retrotech Dataset](../ch04/1.setting-up-the-retrotech-dataset.ipynb) notebook or execute the next cell uncommented."
   ]
  },
  {
   "cell_type": "code",
   "execution_count": 1,
   "id": "f49e97a0",
   "metadata": {
    "tags": []
   },
   "outputs": [],
   "source": [
    "import sys\n",
    "sys.path.append('..')"
   ]
  },
  {
   "cell_type": "code",
   "execution_count": 2,
   "id": "f83e1a49",
   "metadata": {
    "tags": []
   },
   "outputs": [],
   "source": [
    "import sys\n",
    "import os\n",
    "sys.path.append('..')\n",
    "from aips import *\n",
    "from datetime import datetime\n",
    "from dataframe_functions import *\n",
    "from IPython.display import display,HTML\n",
    "from pyspark.conf import SparkConf\n",
    "from pyspark.ml.feature import StringIndexer, IndexToString\n",
    "from pyspark.sql import SparkSession\n",
    "from pyspark.sql.functions import col\n",
    "engine = get_engine()"
   ]
  },
  {
   "cell_type": "code",
   "execution_count": 3,
   "id": "65b1073e",
   "metadata": {
    "tags": []
   },
   "outputs": [],
   "source": [
    "#Recommended for making ALS run faster, if you have enough memory / cores allocated to docker\n",
    "conf = SparkConf()\n",
    "conf.set(\"spark.driver.memory\", \"8g\")\n",
    "conf.set(\"spark.executor.memory\", \"8g\")\n",
    "conf.set(\"spark.dynamicAllocation.enabled\", \"true\")\n",
    "conf.set(\"spark.dynamicAllocation.executorMemoryOverhead\", \"8g\")\n",
    "spark = SparkSession.builder.appName(\"AIPS-ch9\").config(conf=conf).getOrCreate()"
   ]
  },
  {
   "cell_type": "code",
   "execution_count": 4,
   "id": "3c376197",
   "metadata": {
    "tags": []
   },
   "outputs": [],
   "source": [
    "#%run ../ch04/1.setting-up-the-retrotech-dataset.ipynb"
   ]
  },
  {
   "cell_type": "code",
   "execution_count": 5,
   "id": "48197bec",
   "metadata": {
    "tags": []
   },
   "outputs": [],
   "source": [
    "### Load product data\n",
    "products_collection = engine.get_collection(\"products\")\n",
    "create_view(products_collection, \"products\", spark)"
   ]
  },
  {
   "cell_type": "markdown",
   "id": "4d1f3344",
   "metadata": {},
   "source": [
    "# Collaborative Filtering with Implicit Preferences"
   ]
  },
  {
   "cell_type": "code",
   "execution_count": 6,
   "id": "845c2f03",
   "metadata": {
    "tags": []
   },
   "outputs": [],
   "source": [
    "def aggregate_signals(signals_collection, signals_agg_collection_name, query):\n",
    "    aggregated_collection = engine.create_collection(signals_agg_collection_name)\n",
    "    print(\"Aggregating Signals to Create Signals Boosts...\")\n",
    "    create_view(signals_collection, \"signals\", spark)\n",
    "    aggregated_collection.write(from_sql(query, spark))\n",
    "    print(\"Signals Aggregation Completed!\")\n",
    "    return aggregated_collection"
   ]
  },
  {
   "cell_type": "markdown",
   "id": "fbbbcdb4",
   "metadata": {},
   "source": [
    "## Listing 9.1"
   ]
  },
  {
   "cell_type": "code",
   "execution_count": 7,
   "id": "721bec00",
   "metadata": {
    "tags": []
   },
   "outputs": [
    {
     "name": "stdout",
     "output_type": "stream",
     "text": [
      "Wiping \"user_product_implicit_preferences\" collection\n",
      "Creating \"user_product_implicit_preferences\" collection\n",
      "Status: Success\n",
      "Aggregating Signals to Create Signals Boosts...\n",
      "Signals Aggregation Completed!\n"
     ]
    }
   ],
   "source": [
    "click_weight = 1\n",
    "add_to_cart_weight = 0 ##increase to consider add-to-cart signals\n",
    "purchase_weight = 0 ##increase to consider purchase signals\n",
    "\n",
    "signals_collection = engine.get_collection(\"signals\")\n",
    "\n",
    "mixed_signal_types_aggregation = f\"\"\"\n",
    "SELECT user, product,\n",
    "  (click_boost + add_to_cart_boost + purchase_boost) AS rating\n",
    "FROM (\n",
    "  SELECT user, product, \n",
    "    SUM(click) AS click_boost,\n",
    "    SUM(add_to_cart) AS add_to_cart_boost,\n",
    "    SUM(purchase) AS purchase_boost\n",
    "  FROM (  \n",
    "      SELECT s.user, s.target AS product, \n",
    "        IF(s.type = 'click', {click_weight}, 0) AS click, \n",
    "        IF(s.type = 'add-to-cart', {add_to_cart_weight}, 0) AS add_to_cart,\n",
    "        IF(s.type = 'purchase', {purchase_weight}, 0) AS purchase\n",
    "      FROM signals s \n",
    "      WHERE (s.type != 'query')\n",
    "    ) raw_signals\n",
    "  GROUP BY user, product\n",
    ") AS per_type_boosts\n",
    "\"\"\"\n",
    "\n",
    "signals_agg_collection = \\\n",
    "  aggregate_signals(signals_collection, \"user_product_implicit_preferences\",\n",
    "                    mixed_signal_types_aggregation)"
   ]
  },
  {
   "cell_type": "code",
   "execution_count": 8,
   "id": "606ccba5",
   "metadata": {
    "tags": []
   },
   "outputs": [
    {
     "data": {
      "text/plain": [
       "<Response [415]>"
      ]
     },
     "execution_count": 8,
     "metadata": {},
     "output_type": "execute_result"
    }
   ],
   "source": [
    "create_view(signals_agg_collection, \"user_product_implicit_preferences\", spark)\n",
    "signals_agg_collection.commit() #sleep for temptable?"
   ]
  },
  {
   "cell_type": "markdown",
   "id": "a5d89193",
   "metadata": {},
   "source": [
    "## Listing 9.2"
   ]
  },
  {
   "cell_type": "code",
   "execution_count": 9,
   "id": "c4d19491",
   "metadata": {
    "tags": []
   },
   "outputs": [],
   "source": [
    "##50K = all products\n",
    "#This will take long time. Recommend setting to 1,000 if trying to just run through code\n",
    "#without considering all products\n",
    "\n",
    "top_product_count_for_recs = 50000 #1000 for older computers \n",
    "\n",
    "user_prefs = spark.sql(f\"\"\"\n",
    "  SELECT user, product, rating FROM user_product_implicit_preferences\n",
    "  WHERE product IN (\n",
    "    SELECT product FROM (\n",
    "      SELECT product, COUNT(user) user_count\n",
    "      FROM user_product_implicit_preferences\n",
    "      GROUP BY product\n",
    "      ORDER BY user_count DESC\n",
    "      LIMIT {top_product_count_for_recs}\n",
    "    ) top_products\n",
    "  )   \n",
    "  ORDER BY rating DESC\"\"\")"
   ]
  },
  {
   "cell_type": "markdown",
   "id": "38e9335d",
   "metadata": {},
   "source": [
    "## Listing 9.3 "
   ]
  },
  {
   "cell_type": "code",
   "execution_count": 10,
   "id": "4920cdad",
   "metadata": {
    "tags": []
   },
   "outputs": [
    {
     "name": "stdout",
     "output_type": "stream",
     "text": [
      "+-------+------------+------+---------+------------+\n",
      "|   user|     product|rating|userIndex|productIndex|\n",
      "+-------+------------+------+---------+------------+\n",
      "|u159789|018713571687|     1|      0.0|     10355.0|\n",
      "|u159789|886541105851|     1|      0.0|      1394.0|\n",
      "|u159789|024543718710|     1|      0.0|       263.0|\n",
      "|u159789|008888345435|     1|      0.0|      5073.0|\n",
      "|u159789|025193102324|     1|      0.0|      9650.0|\n",
      "|u159789|801213001996|     1|      0.0|     28736.0|\n",
      "|u159789|014633196870|     1|      0.0|      4525.0|\n",
      "|u159789|886112115302|     1|      0.0|       548.0|\n",
      "|u159789|813985010007|     1|      0.0|      5819.0|\n",
      "|u159789|085391163121|     1|      0.0|      9196.0|\n",
      "+-------+------------+------+---------+------------+\n",
      "only showing top 10 rows\n",
      "\n"
     ]
    }
   ],
   "source": [
    "def strings_to_indexes(ratings, user_indexer, product_indexer):\n",
    "    #Fits a model to the input dataset with optional parameters.\n",
    "    return product_indexer.transform(user_indexer.transform(ratings))\n",
    "    \n",
    "def indexes_to_strings(ratings, user_indexer, product_indexer):\n",
    "    user_converter = IndexToString(inputCol=\"userIndex\", \n",
    "                             outputCol=\"user\", labels=user_indexer.labels)\n",
    "    product_converter = IndexToString(labels=product_indexer.labels, \n",
    "                                outputCol=\"product\", inputCol=\"productIndex\")\n",
    "    return user_converter.transform(product_converter.transform(ratings))\n",
    "\n",
    "user_indexer = StringIndexer(inputCol=\"user\", \n",
    "                             outputCol=\"userIndex\").fit(user_prefs)\n",
    "product_indexer = StringIndexer(inputCol=\"product\", outputCol=\"productIndex\").fit(user_prefs)\n",
    "indexed_prefs = strings_to_indexes(user_prefs, user_indexer, product_indexer)\n",
    "indexed_prefs.orderBy(col(\"userIndex\").asc(), col(\"rating\").desc()).show(10)"
   ]
  },
  {
   "cell_type": "markdown",
   "id": "30470626",
   "metadata": {},
   "source": [
    "## Listing 9.4"
   ]
  },
  {
   "cell_type": "code",
   "execution_count": null,
   "id": "b6b6a2fa",
   "metadata": {
    "tags": []
   },
   "outputs": [
    {
     "name": "stdout",
     "output_type": "stream",
     "text": [
      "Beginning model training\n",
      "Beginning predictions\n",
      "Beginning evaluation\n",
      "Root-mean-square error = 0.9589328844781276\n"
     ]
    }
   ],
   "source": [
    "from pyspark.ml.evaluation import RegressionEvaluator\n",
    "from pyspark.ml.recommendation import ALS\n",
    "from pyspark.sql import Row\n",
    "\n",
    "als = ALS(maxIter=3, rank=10, regParam=0.15, implicitPrefs=True, userCol=\"userIndex\", itemCol=\"productIndex\", ratingCol=\"rating\", coldStartStrategy=\"drop\", seed=0)\n",
    "#-3939200230093063679\n",
    "\n",
    "(training, test) = indexed_prefs.randomSplit([0.8, 0.2], 0)\n",
    "\n",
    "print(\"Beginning model training\")\n",
    "model = als.fit(indexed_prefs)\n",
    "\n",
    "print(\"Beginning predictions\")\n",
    "predictions = model.transform(test)\n",
    "\n",
    "print(\"Beginning evaluation\")\n",
    "evaluator = RegressionEvaluator(metricName=\"rmse\", labelCol=\"rating\", predictionCol=\"prediction\")\n",
    "rmse = evaluator.evaluate(predictions)\n",
    "print(f\"Root-mean-square error = {rmse}\")"
   ]
  },
  {
   "cell_type": "markdown",
   "id": "0d4577f3",
   "metadata": {},
   "source": [
    "## Listing 9.5"
   ]
  },
  {
   "cell_type": "code",
   "execution_count": null,
   "id": "561d70cc",
   "metadata": {
    "tags": []
   },
   "outputs": [
    {
     "name": "stdout",
     "output_type": "stream",
     "text": [
      "+---------+--------------------+\n",
      "|userIndex|     recommendations|\n",
      "+---------+--------------------+\n",
      "|        0|[{11, 0.014824464...|\n",
      "|        1|[{5, 0.010805087}...|\n",
      "|        2|[{7, 0.060263287}...|\n",
      "|        3|[{1, 0.02967207},...|\n",
      "|        4|[{14, 0.007906279...|\n",
      "+---------+--------------------+\n",
      "only showing top 5 rows\n",
      "\n"
     ]
    }
   ],
   "source": [
    "# Generate top 3 product recommendations for each user\n",
    "indexed_user_recs = model.recommendForAllUsers(10)\n",
    "indexed_user_recs.orderBy(col(\"userIndex\").asc()).show(5)"
   ]
  },
  {
   "cell_type": "markdown",
   "id": "8927aa9d",
   "metadata": {},
   "source": [
    "## Listing 9.6"
   ]
  },
  {
   "cell_type": "code",
   "execution_count": null,
   "id": "67f5db2c",
   "metadata": {
    "tags": []
   },
   "outputs": [],
   "source": [
    "from pyspark.sql.functions import explode, col\n",
    "\n",
    "aliased = explode(\"recommendations\").alias(\"productIndex_rating\")\n",
    "selected = indexed_user_recs.select(\"userIndex\", aliased)\n",
    "exploded = selected.select(\"userIndex\", col(\"productIndex_rating.*\"))\n",
    "user_item_recs = indexes_to_strings(exploded, user_indexer, product_indexer) \\\n",
    "    .select(\"user\", \"product\", col(\"rating\").alias(\"boost\"))"
   ]
  },
  {
   "cell_type": "markdown",
   "id": "5d36d7d9",
   "metadata": {},
   "source": [
    "# Listing 9.7"
   ]
  },
  {
   "cell_type": "code",
   "execution_count": null,
   "id": "4f26bb58",
   "metadata": {
    "tags": []
   },
   "outputs": [
    {
     "name": "stdout",
     "output_type": "stream",
     "text": [
      "Start Time: 2024-03-04 16:59:10\n",
      "Wiping \"user_item_recommendations\" collection\n",
      "Creating \"user_item_recommendations\" collection\n",
      "Status: Success\n",
      "Writing recommendations to Solr...\n",
      "Recommendations saved to table: user_item_recommendations\n",
      "End Time: 2024-03-04 17:01:16\n"
     ]
    }
   ],
   "source": [
    "print(\"Start Time: \" + datetime.now().strftime(\"%Y-%m-%d %H:%M:%S\"))\n",
    "\n",
    "#Write recommendations to Solr\n",
    "recs_collection = engine.create_collection(\"user_item_recommendations\")\n",
    "user_item_recs.createOrReplaceTempView(\"temp_user_item_recs\")\n",
    "print(\"Writing recommendations to Solr...\")\n",
    "recs_collection.write(from_sql(\"SELECT * FROM temp_user_item_recs\", spark))\n",
    "#faster to use spark.sql than write df directly due to execution plan\n",
    "#user_item_recs.write.format(\"solr\").options(**opts).mode(\"overwrite\").save()\n",
    "print(\"Recommendations saved to table: \" + recs_collection.name)\n",
    "\n",
    "print(\"End Time: \" + datetime.now().strftime(\"%Y-%m-%d %H:%M:%S\"))"
   ]
  },
  {
   "cell_type": "markdown",
   "id": "aba10513",
   "metadata": {},
   "source": [
    "# Search with Recommendations Boosts\n",
    "Whereas signals boosting boosts the most popular documents for a particular query (ch8), you can also boost the most personalized items for a particular user. In order to serve up the pre-generated collaborative recommendations we just generated, we can just need to run a search and boost the recommended items for each user."
   ]
  },
  {
   "cell_type": "markdown",
   "id": "8dbb5db5",
   "metadata": {},
   "source": [
    "## Listing 9.8"
   ]
  },
  {
   "cell_type": "code",
   "execution_count": null,
   "id": "6d466229",
   "metadata": {
    "tags": []
   },
   "outputs": [
    {
     "name": "stdout",
     "output_type": "stream",
     "text": [
      "User: u478462\n",
      "\n",
      "Previous Searches: \n",
      "--macbook\n",
      "--apple\n",
      "\n",
      "Previous Product Interactions: \n",
      "--type: click, name: Apple® - MacBook® Air - Intel® Core™ i5 Processor - 11.6\" Display - 4GB Memory - 128GB Flash Storage\n",
      "--type: purchase, name: Apple® - iPad® 2 with Wi-Fi - 16GB - Black\n",
      "--type: add-to-cart, name: Apple® - iPad® 2 with Wi-Fi - 16GB - Black\n",
      "--type: click, name: Apple® - iPad® 2 with Wi-Fi - 16GB - Black\n"
     ]
    }
   ],
   "source": [
    "engine = get_engine()\n",
    "user = \"u478462\" #example user\n",
    "signals_collection = engine.get_collection(\"signals\")\n",
    "products_collection = engine.get_collection(\"products\")\n",
    "request = {\n",
    "    \"query\": \"*:*\",\n",
    "    \"fields\": [\"*\"],\n",
    "    \"filter\": [\"user:\" + user, \"type:query\"],\n",
    "    \"sort\": \"signal_time desc\"\n",
    "}\n",
    "previous_searches = engine.docs_from_response(signals_collection.search(request))\n",
    "\n",
    "request = {\n",
    "    \"query\": \"*:*\",\n",
    "    \"fields\": [\"*\"],\n",
    "    \"filter\": [\"user:\" + user, \"-type:query\"],\n",
    "    \"sort\": \"signal_time desc\"\n",
    "}\n",
    "interactions = engine.docs_from_response(signals_collection.search(request))\n",
    "\n",
    "interacted_products = \" \".join(i[\"target\"] for i in interactions)\n",
    "request = {\n",
    "    \"query\": \"*:*\",\n",
    "    \"fields\": [\"*\"],\n",
    "    \"filter\": [f\"upc:({interacted_products})\"]\n",
    "}\n",
    "products = engine.docs_from_response(products_collection.search(request))\n",
    "\n",
    "product_info = {}\n",
    "for product in products:\n",
    "    product_info[product[\"upc\"]] = product[\"name\"] \\\n",
    "        .replace(\"&#xAE;\",\"®\").replace(\"&#x2122;\", \"™\") #replace encoded version to make more readable\n",
    "\n",
    "print(f\"User: {user}\")\n",
    "print(\"\\nPrevious Searches: \")\n",
    "for doc in previous_searches:\n",
    "    print(f'--{doc[\"target\"]}')\n",
    "    \n",
    "print(\"\\nPrevious Product Interactions: \")\n",
    "for i in interactions:\n",
    "    print(f'--type: {i[\"type\"]}, name: {product_info[i[\"target\"]]}') "
   ]
  },
  {
   "cell_type": "markdown",
   "id": "e2473c9f",
   "metadata": {},
   "source": [
    "## Listing 9.9"
   ]
  },
  {
   "cell_type": "code",
   "execution_count": null,
   "id": "8a28fe58",
   "metadata": {
    "tags": []
   },
   "outputs": [
    {
     "name": "stdout",
     "output_type": "stream",
     "text": [
      "Boost Query:\n",
      "\"885909457588\"^75.393623 \"097360810042\"^18.904798 \"821793013776\"^15.852094 \"610839379408\"^10.217768000000001 \"635753493559\"^9.087185 \"885909395095\"^8.304988 \"885909457595\"^7.9175640000000005 \"885909431618\"^7.375394 \"885909459858\"^6.592548 \"885909436002\"^6.1031554\n"
     ]
    },
    {
     "data": {
      "text/html": [
       "<div id=\"demo\">\n",
       "        <input style=\"width:50%\" readonly type=\"text\" name=\"q\" value=\"\">\n",
       "        <input readonly type=\"submit\" value=\"Search\">\n",
       "\n",
       "    <div class=\"results\">\n",
       "    \t\n",
       "\n",
       "    </div>\n",
       "</div>\n",
       "    \t<div style=\"position: relative; width: 100%; height:auto; overflow: auto;\">\n",
       "\t    \t<div style=\"position: relative; float:left; width: 120px; margin-top:25px\">\n",
       "\t    \t\t<img style=\"width:100px; height: auto; max-height:150px\" src=\"../data/retrotech/images/885909457588.jpg\">\n",
       "\t    \t</div>\n",
       "\t    \t<div style=\"position:relative; float:left; clear:none; width: 80%; height:auto\">\n",
       "\t    \t\t<p><strong>Name:</strong> Apple&#xAE; - iPad&#xAE; 2 with Wi-Fi - 16GB - Black | <strong>Manufacturer:</strong> Apple&#xAE;</p>\n",
       "\t    \t\t<p>9.7\" widescreen display; 802.11a/b/g/n Wi-Fi; Bluetooth; iBooks support; measures just 0.34\" thin and weighs only 1.35 lbs. \n",
       "\t    \t\t</p>\n",
       "\t    \t</div>\n",
       "    \t</div>\n",
       "    \t\n",
       "\t\t<div style=\"position:relative; clear:both; content: ' '; display: block; height: 1px; margin-top: 10px; margin-bottom:20px\">\n",
       "\t\t\t<hr style=\"color: gray; width: 95%;\" />\n",
       "\t\t</div>\n",
       "\t\t\n",
       "    \t<div style=\"position: relative; width: 100%; height:auto; overflow: auto;\">\n",
       "\t    \t<div style=\"position: relative; float:left; width: 120px; margin-top:25px\">\n",
       "\t    \t\t<img style=\"width:100px; height: auto; max-height:150px\" src=\"../data/retrotech/images/821793013776.jpg\">\n",
       "\t    \t</div>\n",
       "\t    \t<div style=\"position:relative; float:left; clear:none; width: 80%; height:auto\">\n",
       "\t    \t\t<p><strong>Name:</strong> HTC - Flyer Tablet with 16GB Internal Memory - White | <strong>Manufacturer:</strong> HTC</p>\n",
       "\t    \t\t<p>Android 2.3 Gingerbread operating system7\" color touch screenWi-Fi16GB memoryHTC notes, Watch and Listen apps \n",
       "\t    \t\t</p>\n",
       "\t    \t</div>\n",
       "    \t</div>\n",
       "    \t\n",
       "\t\t<div style=\"position:relative; clear:both; content: ' '; display: block; height: 1px; margin-top: 10px; margin-bottom:20px\">\n",
       "\t\t\t<hr style=\"color: gray; width: 95%;\" />\n",
       "\t\t</div>\n",
       "\t\t\n",
       "    \t<div style=\"position: relative; width: 100%; height:auto; overflow: auto;\">\n",
       "\t    \t<div style=\"position: relative; float:left; width: 120px; margin-top:25px\">\n",
       "\t    \t\t<img style=\"width:100px; height: auto; max-height:150px\" src=\"../data/retrotech/images/610839379408.jpg\">\n",
       "\t    \t</div>\n",
       "\t    \t<div style=\"position:relative; float:left; clear:none; width: 80%; height:auto\">\n",
       "\t    \t\t<p><strong>Name:</strong> Asus - Eee Pad Transformer Tablet with 16GB Storage Memory - Brown/Black | <strong>Manufacturer:</strong> Asus</p>\n",
       "\t    \t\t<p>Android 3.0 Honeycomb10.1\" WXGA IPS touch screen Wi-Fi16GB hard drive \n",
       "\t    \t\t</p>\n",
       "\t    \t</div>\n",
       "    \t</div>\n",
       "    \t\n",
       "\t\t<div style=\"position:relative; clear:both; content: ' '; display: block; height: 1px; margin-top: 10px; margin-bottom:20px\">\n",
       "\t\t\t<hr style=\"color: gray; width: 95%;\" />\n",
       "\t\t</div>\n",
       "\t\t\n",
       "    \t<div style=\"position: relative; width: 100%; height:auto; overflow: auto;\">\n",
       "\t    \t<div style=\"position: relative; float:left; width: 120px; margin-top:25px\">\n",
       "\t    \t\t<img style=\"width:100px; height: auto; max-height:150px\" src=\"../data/retrotech/images/635753493559.jpg\">\n",
       "\t    \t</div>\n",
       "\t    \t<div style=\"position:relative; float:left; clear:none; width: 80%; height:auto\">\n",
       "\t    \t\t<p><strong>Name:</strong> Samsung - Galaxy Tab 10.1 - 16GB - Metallic Gray | <strong>Manufacturer:</strong> Samsung</p>\n",
       "\t    \t\t<p>Android 3.1 (Honeycomb) operating system10.1\" WXGA touch screenWi-Fi \n",
       "\t    \t\t</p>\n",
       "\t    \t</div>\n",
       "    \t</div>\n",
       "    \t\n",
       "\t\t<div style=\"position:relative; clear:both; content: ' '; display: block; height: 1px; margin-top: 10px; margin-bottom:20px\">\n",
       "\t\t\t<hr style=\"color: gray; width: 95%;\" />\n",
       "\t\t</div>\n",
       "\t\t\n",
       "    \t<div style=\"position: relative; width: 100%; height:auto; overflow: auto;\">\n",
       "\t    \t<div style=\"position: relative; float:left; width: 120px; margin-top:25px\">\n",
       "\t    \t\t<img style=\"width:100px; height: auto; max-height:150px\" src=\"../data/retrotech/images/885909395095.jpg\">\n",
       "\t    \t</div>\n",
       "\t    \t<div style=\"position:relative; float:left; clear:none; width: 80%; height:auto\">\n",
       "\t    \t\t<p><strong>Name:</strong> Apple&#xAE; - iPod touch&#xAE; 32GB* MP3 Player (4th Generation - Latest Model) - Black | <strong>Manufacturer:</strong> Apple&#xAE;</p>\n",
       "\t    \t\t<p>FaceTime camera, HD video recording, Retina display, Multi-Touch interface; gorgeous 3.5\" widescreen display; Wi-Fi Web browsing \n",
       "\t    \t\t</p>\n",
       "\t    \t</div>\n",
       "    \t</div>\n",
       "    \t\n",
       "\t\t<div style=\"position:relative; clear:both; content: ' '; display: block; height: 1px; margin-top: 10px; margin-bottom:20px\">\n",
       "\t\t\t<hr style=\"color: gray; width: 95%;\" />\n",
       "\t\t</div>\n",
       "\t\t\n",
       "    \t<div style=\"position: relative; width: 100%; height:auto; overflow: auto;\">\n",
       "\t    \t<div style=\"position: relative; float:left; width: 120px; margin-top:25px\">\n",
       "\t    \t\t<img style=\"width:100px; height: auto; max-height:150px\" src=\"../data/retrotech/images/885909457595.jpg\">\n",
       "\t    \t</div>\n",
       "\t    \t<div style=\"position:relative; float:left; clear:none; width: 80%; height:auto\">\n",
       "\t    \t\t<p><strong>Name:</strong> Apple&#xAE; - iPad&#xAE; 2 with Wi-Fi - 32GB - Black | <strong>Manufacturer:</strong> Apple&#xAE;</p>\n",
       "\t    \t\t<p>9.7\" widescreen display; 802.11a/b/g/n Wi-Fi; Bluetooth; iBooks support \n",
       "\t    \t\t</p>\n",
       "\t    \t</div>\n",
       "    \t</div>\n",
       "    \t\n",
       "\t\t<div style=\"position:relative; clear:both; content: ' '; display: block; height: 1px; margin-top: 10px; margin-bottom:20px\">\n",
       "\t\t\t<hr style=\"color: gray; width: 95%;\" />\n",
       "\t\t</div>\n",
       "\t\t"
      ],
      "text/plain": [
       "<IPython.core.display.HTML object>"
      ]
     },
     "metadata": {},
     "output_type": "display_data"
    }
   ],
   "source": [
    "user = \"u478462\"\n",
    "\n",
    "recs_collection = engine.get_collection(\"user_item_recommendations\")\n",
    "def get_query_time_boosts(user, boosts_collection):\n",
    "    request = {\n",
    "        \"query\": \"*:*\",\n",
    "        \"fields\": [\"product\", \"boost\"],\n",
    "        \"filter\": [f\"user:{user}\"] if user else [],\n",
    "        \"sort\": \"boost desc\",\n",
    "        \"params\": {\"rows\": 10}\n",
    "    }\n",
    "    \n",
    "    response = boosts_collection.search(request)\n",
    "    signals_boosts = engine.docs_from_response(response)\n",
    "    return \" \".join(f'\"{b[\"product\"]}\"^{b[\"boost\"] * 100}' for b in signals_boosts)\n",
    "\n",
    "def run_main_query(query, signals_boosts, rows):\n",
    "    request = {\n",
    "        \"query\": query if query else \"*:*\",\n",
    "        \"fields\": [\"upc\", \"name\", \"manufacturer\", \"score\", \"shortDescription\"],\n",
    "        \"params\": {\n",
    "          \"qf\": \"name manufacturer longDescription\", \n",
    "          \"defType\": \"edismax\",\n",
    "          \"rows\": rows if rows else 5,\n",
    "          \"boost\": \"sum(1,query({! df=upc v=$signals_boosting}))\",\n",
    "          \"signals_boosting\": signals_boosts if signals_boosts else \"*:*\"\n",
    "        }\n",
    "    }\n",
    "    return products_collection.search(request)\n",
    "\n",
    "boosts = get_query_time_boosts(user, recs_collection)\n",
    "print(f\"Boost Query:\\n{boosts}\")\n",
    "\n",
    "#recommendations\n",
    "response = run_main_query(None, boosts, 6)\n",
    "display_product_search(\"\", engine.docs_from_response(response))"
   ]
  },
  {
   "cell_type": "markdown",
   "id": "1a12c0c5",
   "metadata": {},
   "source": [
    "## Listing 9.10"
   ]
  },
  {
   "cell_type": "code",
   "execution_count": null,
   "id": "f61f8182",
   "metadata": {
    "tags": []
   },
   "outputs": [
    {
     "name": "stdout",
     "output_type": "stream",
     "text": [
      "Non-personalized Query\n"
     ]
    },
    {
     "data": {
      "text/html": [
       "<div id=\"demo\">\n",
       "        <input style=\"width:50%\" readonly type=\"text\" name=\"q\" value=\"tablet\">\n",
       "        <input readonly type=\"submit\" value=\"Search\">\n",
       "\n",
       "    <div class=\"results\">\n",
       "    \t\n",
       "\n",
       "    </div>\n",
       "</div>\n",
       "    \t<div style=\"position: relative; width: 100%; height:auto; overflow: auto;\">\n",
       "\t    \t<div style=\"position: relative; float:left; width: 120px; margin-top:25px\">\n",
       "\t    \t\t<img style=\"width:100px; height: auto; max-height:150px\" src=\"../data/retrotech/images/600603138423.jpg\">\n",
       "\t    \t</div>\n",
       "\t    \t<div style=\"position:relative; float:left; clear:none; width: 80%; height:auto\">\n",
       "\t    \t\t<p><strong>Name:</strong> Init&#x2122; - Tablet Sleeve - Olive | <strong>Manufacturer:</strong> Init&#x99;</p>\n",
       "\t    \t\t<p>Fits most tablets with up to a 10\" display; heavy-duty neoprene material \n",
       "\t    \t\t</p>\n",
       "\t    \t</div>\n",
       "    \t</div>\n",
       "    \t\n",
       "\t\t<div style=\"position:relative; clear:both; content: ' '; display: block; height: 1px; margin-top: 10px; margin-bottom:20px\">\n",
       "\t\t\t<hr style=\"color: gray; width: 95%;\" />\n",
       "\t\t</div>\n",
       "\t\t\n",
       "    \t<div style=\"position: relative; width: 100%; height:auto; overflow: auto;\">\n",
       "\t    \t<div style=\"position: relative; float:left; width: 120px; margin-top:25px\">\n",
       "\t    \t\t<img style=\"width:100px; height: auto; max-height:150px\" src=\"../data/retrotech/images/5024545249224.jpg\">\n",
       "\t    \t</div>\n",
       "\t    \t<div style=\"position:relative; float:left; clear:none; width: 80%; height:auto\">\n",
       "\t    \t\t<p><strong>Name:</strong> Memorial Tablet - CD | <strong>Manufacturer:</strong> Ltm/cd41</p>\n",
       "\t    \t\t<p>\\N \n",
       "\t    \t\t</p>\n",
       "\t    \t</div>\n",
       "    \t</div>\n",
       "    \t\n",
       "\t\t<div style=\"position:relative; clear:both; content: ' '; display: block; height: 1px; margin-top: 10px; margin-bottom:20px\">\n",
       "\t\t\t<hr style=\"color: gray; width: 95%;\" />\n",
       "\t\t</div>\n",
       "\t\t\n",
       "    \t<div style=\"position: relative; width: 100%; height:auto; overflow: auto;\">\n",
       "\t    \t<div style=\"position: relative; float:left; width: 120px; margin-top:25px\">\n",
       "\t    \t\t<img style=\"width:100px; height: auto; max-height:150px\" src=\"../data/retrotech/images/793447512228.jpg\">\n",
       "\t    \t</div>\n",
       "\t    \t<div style=\"position:relative; float:left; clear:none; width: 80%; height:auto\">\n",
       "\t    \t\t<p><strong>Name:</strong> Stone Tablet - CD | <strong>Manufacturer:</strong> Important Records</p>\n",
       "\t    \t\t<p>\\N \n",
       "\t    \t\t</p>\n",
       "\t    \t</div>\n",
       "    \t</div>\n",
       "    \t\n",
       "\t\t<div style=\"position:relative; clear:both; content: ' '; display: block; height: 1px; margin-top: 10px; margin-bottom:20px\">\n",
       "\t\t\t<hr style=\"color: gray; width: 95%;\" />\n",
       "\t\t</div>\n",
       "\t\t\n",
       "    \t<div style=\"position: relative; width: 100%; height:auto; overflow: auto;\">\n",
       "\t    \t<div style=\"position: relative; float:left; width: 120px; margin-top:25px\">\n",
       "\t    \t\t<img style=\"width:100px; height: auto; max-height:150px\" src=\"../data/retrotech/images/27242831599.jpg\">\n",
       "\t    \t</div>\n",
       "\t    \t<div style=\"position:relative; float:left; clear:none; width: 80%; height:auto\">\n",
       "\t    \t\t<p><strong>Name:</strong> Sony - AC Power Adapter for Sony Tablet S | <strong>Manufacturer:</strong> Sony</p>\n",
       "\t    \t\t<p>Compatible with Sony Tablet S; charges your tablet \n",
       "\t    \t\t</p>\n",
       "\t    \t</div>\n",
       "    \t</div>\n",
       "    \t\n",
       "\t\t<div style=\"position:relative; clear:both; content: ' '; display: block; height: 1px; margin-top: 10px; margin-bottom:20px\">\n",
       "\t\t\t<hr style=\"color: gray; width: 95%;\" />\n",
       "\t\t</div>\n",
       "\t\t"
      ],
      "text/plain": [
       "<IPython.core.display.HTML object>"
      ]
     },
     "metadata": {},
     "output_type": "display_data"
    }
   ],
   "source": [
    "#non-personalized query\n",
    "query = \"tablet\"\n",
    "response = run_main_query(query, None, 4)\n",
    "print(f\"Non-personalized Query\")\n",
    "display_product_search(query, engine.docs_from_response(response))"
   ]
  },
  {
   "cell_type": "code",
   "execution_count": null,
   "id": "0ede50af",
   "metadata": {
    "tags": []
   },
   "outputs": [
    {
     "name": "stdout",
     "output_type": "stream",
     "text": [
      "Personalized Query\n"
     ]
    },
    {
     "data": {
      "text/html": [
       "<div id=\"demo\">\n",
       "        <input style=\"width:50%\" readonly type=\"text\" name=\"q\" value=\"tablet\">\n",
       "        <input readonly type=\"submit\" value=\"Search\">\n",
       "\n",
       "    <div class=\"results\">\n",
       "    \t\n",
       "\n",
       "    </div>\n",
       "</div>\n",
       "    \t<div style=\"position: relative; width: 100%; height:auto; overflow: auto;\">\n",
       "\t    \t<div style=\"position: relative; float:left; width: 120px; margin-top:25px\">\n",
       "\t    \t\t<img style=\"width:100px; height: auto; max-height:150px\" src=\"../data/retrotech/images/885909457588.jpg\">\n",
       "\t    \t</div>\n",
       "\t    \t<div style=\"position:relative; float:left; clear:none; width: 80%; height:auto\">\n",
       "\t    \t\t<p><strong>Name:</strong> Apple&#xAE; - iPad&#xAE; 2 with Wi-Fi - 16GB - Black | <strong>Manufacturer:</strong> Apple&#xAE;</p>\n",
       "\t    \t\t<p>9.7\" widescreen display; 802.11a/b/g/n Wi-Fi; Bluetooth; iBooks support; measures just 0.34\" thin and weighs only 1.35 lbs. \n",
       "\t    \t\t</p>\n",
       "\t    \t</div>\n",
       "    \t</div>\n",
       "    \t\n",
       "\t\t<div style=\"position:relative; clear:both; content: ' '; display: block; height: 1px; margin-top: 10px; margin-bottom:20px\">\n",
       "\t\t\t<hr style=\"color: gray; width: 95%;\" />\n",
       "\t\t</div>\n",
       "\t\t\n",
       "    \t<div style=\"position: relative; width: 100%; height:auto; overflow: auto;\">\n",
       "\t    \t<div style=\"position: relative; float:left; width: 120px; margin-top:25px\">\n",
       "\t    \t\t<img style=\"width:100px; height: auto; max-height:150px\" src=\"../data/retrotech/images/821793013776.jpg\">\n",
       "\t    \t</div>\n",
       "\t    \t<div style=\"position:relative; float:left; clear:none; width: 80%; height:auto\">\n",
       "\t    \t\t<p><strong>Name:</strong> HTC - Flyer Tablet with 16GB Internal Memory - White | <strong>Manufacturer:</strong> HTC</p>\n",
       "\t    \t\t<p>Android 2.3 Gingerbread operating system7\" color touch screenWi-Fi16GB memoryHTC notes, Watch and Listen apps \n",
       "\t    \t\t</p>\n",
       "\t    \t</div>\n",
       "    \t</div>\n",
       "    \t\n",
       "\t\t<div style=\"position:relative; clear:both; content: ' '; display: block; height: 1px; margin-top: 10px; margin-bottom:20px\">\n",
       "\t\t\t<hr style=\"color: gray; width: 95%;\" />\n",
       "\t\t</div>\n",
       "\t\t\n",
       "    \t<div style=\"position: relative; width: 100%; height:auto; overflow: auto;\">\n",
       "\t    \t<div style=\"position: relative; float:left; width: 120px; margin-top:25px\">\n",
       "\t    \t\t<img style=\"width:100px; height: auto; max-height:150px\" src=\"../data/retrotech/images/610839379408.jpg\">\n",
       "\t    \t</div>\n",
       "\t    \t<div style=\"position:relative; float:left; clear:none; width: 80%; height:auto\">\n",
       "\t    \t\t<p><strong>Name:</strong> Asus - Eee Pad Transformer Tablet with 16GB Storage Memory - Brown/Black | <strong>Manufacturer:</strong> Asus</p>\n",
       "\t    \t\t<p>Android 3.0 Honeycomb10.1\" WXGA IPS touch screen Wi-Fi16GB hard drive \n",
       "\t    \t\t</p>\n",
       "\t    \t</div>\n",
       "    \t</div>\n",
       "    \t\n",
       "\t\t<div style=\"position:relative; clear:both; content: ' '; display: block; height: 1px; margin-top: 10px; margin-bottom:20px\">\n",
       "\t\t\t<hr style=\"color: gray; width: 95%;\" />\n",
       "\t\t</div>\n",
       "\t\t\n",
       "    \t<div style=\"position: relative; width: 100%; height:auto; overflow: auto;\">\n",
       "\t    \t<div style=\"position: relative; float:left; width: 120px; margin-top:25px\">\n",
       "\t    \t\t<img style=\"width:100px; height: auto; max-height:150px\" src=\"../data/retrotech/images/635753493559.jpg\">\n",
       "\t    \t</div>\n",
       "\t    \t<div style=\"position:relative; float:left; clear:none; width: 80%; height:auto\">\n",
       "\t    \t\t<p><strong>Name:</strong> Samsung - Galaxy Tab 10.1 - 16GB - Metallic Gray | <strong>Manufacturer:</strong> Samsung</p>\n",
       "\t    \t\t<p>Android 3.1 (Honeycomb) operating system10.1\" WXGA touch screenWi-Fi \n",
       "\t    \t\t</p>\n",
       "\t    \t</div>\n",
       "    \t</div>\n",
       "    \t\n",
       "\t\t<div style=\"position:relative; clear:both; content: ' '; display: block; height: 1px; margin-top: 10px; margin-bottom:20px\">\n",
       "\t\t\t<hr style=\"color: gray; width: 95%;\" />\n",
       "\t\t</div>\n",
       "\t\t\n",
       "    \t<div style=\"position: relative; width: 100%; height:auto; overflow: auto;\">\n",
       "\t    \t<div style=\"position: relative; float:left; width: 120px; margin-top:25px\">\n",
       "\t    \t\t<img style=\"width:100px; height: auto; max-height:150px\" src=\"../data/retrotech/images/885909457595.jpg\">\n",
       "\t    \t</div>\n",
       "\t    \t<div style=\"position:relative; float:left; clear:none; width: 80%; height:auto\">\n",
       "\t    \t\t<p><strong>Name:</strong> Apple&#xAE; - iPad&#xAE; 2 with Wi-Fi - 32GB - Black | <strong>Manufacturer:</strong> Apple&#xAE;</p>\n",
       "\t    \t\t<p>9.7\" widescreen display; 802.11a/b/g/n Wi-Fi; Bluetooth; iBooks support \n",
       "\t    \t\t</p>\n",
       "\t    \t</div>\n",
       "    \t</div>\n",
       "    \t\n",
       "\t\t<div style=\"position:relative; clear:both; content: ' '; display: block; height: 1px; margin-top: 10px; margin-bottom:20px\">\n",
       "\t\t\t<hr style=\"color: gray; width: 95%;\" />\n",
       "\t\t</div>\n",
       "\t\t\n",
       "    \t<div style=\"position: relative; width: 100%; height:auto; overflow: auto;\">\n",
       "\t    \t<div style=\"position: relative; float:left; width: 120px; margin-top:25px\">\n",
       "\t    \t\t<img style=\"width:100px; height: auto; max-height:150px\" src=\"../data/retrotech/images/600603138423.jpg\">\n",
       "\t    \t</div>\n",
       "\t    \t<div style=\"position:relative; float:left; clear:none; width: 80%; height:auto\">\n",
       "\t    \t\t<p><strong>Name:</strong> Init&#x2122; - Tablet Sleeve - Olive | <strong>Manufacturer:</strong> Init&#x99;</p>\n",
       "\t    \t\t<p>Fits most tablets with up to a 10\" display; heavy-duty neoprene material \n",
       "\t    \t\t</p>\n",
       "\t    \t</div>\n",
       "    \t</div>\n",
       "    \t\n",
       "\t\t<div style=\"position:relative; clear:both; content: ' '; display: block; height: 1px; margin-top: 10px; margin-bottom:20px\">\n",
       "\t\t\t<hr style=\"color: gray; width: 95%;\" />\n",
       "\t\t</div>\n",
       "\t\t\n",
       "    \t<div style=\"position: relative; width: 100%; height:auto; overflow: auto;\">\n",
       "\t    \t<div style=\"position: relative; float:left; width: 120px; margin-top:25px\">\n",
       "\t    \t\t<img style=\"width:100px; height: auto; max-height:150px\" src=\"../data/retrotech/images/5024545249224.jpg\">\n",
       "\t    \t</div>\n",
       "\t    \t<div style=\"position:relative; float:left; clear:none; width: 80%; height:auto\">\n",
       "\t    \t\t<p><strong>Name:</strong> Memorial Tablet - CD | <strong>Manufacturer:</strong> Ltm/cd41</p>\n",
       "\t    \t\t<p>\\N \n",
       "\t    \t\t</p>\n",
       "\t    \t</div>\n",
       "    \t</div>\n",
       "    \t\n",
       "\t\t<div style=\"position:relative; clear:both; content: ' '; display: block; height: 1px; margin-top: 10px; margin-bottom:20px\">\n",
       "\t\t\t<hr style=\"color: gray; width: 95%;\" />\n",
       "\t\t</div>\n",
       "\t\t"
      ],
      "text/plain": [
       "<IPython.core.display.HTML object>"
      ]
     },
     "metadata": {},
     "output_type": "display_data"
    }
   ],
   "source": [
    "#personalized query\n",
    "response = run_main_query(query, boosts, 7)\n",
    "print(f\"Personalized Query\")\n",
    "display_product_search(query, engine.docs_from_response(response))"
   ]
  },
  {
   "cell_type": "markdown",
   "id": "db01e3f2",
   "metadata": {},
   "source": [
    "# Vector-based Personalization"
   ]
  },
  {
   "cell_type": "code",
   "execution_count": null,
   "id": "f07b2837",
   "metadata": {
    "tags": []
   },
   "outputs": [
    {
     "name": "stdout",
     "output_type": "stream",
     "text": [
      "+----------+-------------------+-----------+--------------------+--------------------------------+\n",
      "|count(upc)|count(DISTINCT upc)|count(name)|count(DISTINCT name)|count(DISTINCT shortDescription)|\n",
      "+----------+-------------------+-----------+--------------------+--------------------------------+\n",
      "|     48194|              46155|      48194|               46124|                           19024|\n",
      "+----------+-------------------+-----------+--------------------+--------------------------------+\n",
      "\n"
     ]
    }
   ],
   "source": [
    "spark.sql(\"\"\"SELECT COUNT(upc), COUNT(DISTINCT upc), COUNT(name), COUNT(DISTINCT name), COUNT(DISTINCT shortDescription) FROM products g\"\"\").show(2)"
   ]
  },
  {
   "cell_type": "markdown",
   "id": "1190320a",
   "metadata": {},
   "source": [
    "## Listing 9.11"
   ]
  },
  {
   "cell_type": "code",
   "execution_count": null,
   "id": "629119a4",
   "metadata": {
    "tags": []
   },
   "outputs": [],
   "source": [
    "### Create the product data set for embeddings \n",
    "df = spark.sql(\"\"\"SELECT DISTINCT name, string(upc), shortDescription, \n",
    "  CONCAT(name, \" \", shortDescription) AS name_desc FROM products\"\"\")\n",
    "df.createOrReplaceTempView(\"products_samples\")\n",
    "product_names = df.select(\"name\").rdd.flatMap(lambda x: x).collect()\n",
    "product_ids = df.select(\"upc\").rdd.flatMap(lambda x: x).collect()\n"
   ]
  },
  {
   "cell_type": "code",
   "execution_count": null,
   "id": "37e8f289",
   "metadata": {
    "tags": []
   },
   "outputs": [
    {
     "data": {
      "text/plain": [
       "(48164, 48164)"
      ]
     },
     "execution_count": 33,
     "metadata": {},
     "output_type": "execute_result"
    }
   ],
   "source": [
    "len(product_ids), len(product_names)"
   ]
  },
  {
   "cell_type": "code",
   "execution_count": null,
   "id": "1ad4cafa",
   "metadata": {
    "tags": []
   },
   "outputs": [
    {
     "data": {
      "application/vnd.jupyter.widget-view+json": {
       "model_id": "8d534bcaebd94a749a32a05d74f9f508",
       "version_major": 2,
       "version_minor": 0
      },
      "text/plain": [
       "Downloading .gitattributes:   0%|          | 0.00/1.18k [00:00<?, ?B/s]"
      ]
     },
     "metadata": {},
     "output_type": "display_data"
    },
    {
     "data": {
      "application/vnd.jupyter.widget-view+json": {
       "model_id": "9ba6e3bb0d5744588424bb243f6c7000",
       "version_major": 2,
       "version_minor": 0
      },
      "text/plain": [
       "Downloading 1_Pooling/config.json:   0%|          | 0.00/190 [00:00<?, ?B/s]"
      ]
     },
     "metadata": {},
     "output_type": "display_data"
    },
    {
     "data": {
      "application/vnd.jupyter.widget-view+json": {
       "model_id": "2523ab5e8d894e729a6fff01d0d52b4e",
       "version_major": 2,
       "version_minor": 0
      },
      "text/plain": [
       "Downloading README.md:   0%|          | 0.00/10.6k [00:00<?, ?B/s]"
      ]
     },
     "metadata": {},
     "output_type": "display_data"
    },
    {
     "data": {
      "application/vnd.jupyter.widget-view+json": {
       "model_id": "1142f5c8902c4b8793ca8475325588c1",
       "version_major": 2,
       "version_minor": 0
      },
      "text/plain": [
       "Downloading config.json:   0%|          | 0.00/571 [00:00<?, ?B/s]"
      ]
     },
     "metadata": {},
     "output_type": "display_data"
    },
    {
     "data": {
      "application/vnd.jupyter.widget-view+json": {
       "model_id": "4e640c888a474a3eb100694830928084",
       "version_major": 2,
       "version_minor": 0
      },
      "text/plain": [
       "Downloading (…)ce_transformers.json:   0%|          | 0.00/116 [00:00<?, ?B/s]"
      ]
     },
     "metadata": {},
     "output_type": "display_data"
    },
    {
     "data": {
      "application/vnd.jupyter.widget-view+json": {
       "model_id": "f4800fdf24a040b08849f309420bb9bf",
       "version_major": 2,
       "version_minor": 0
      },
      "text/plain": [
       "Downloading data_config.json:   0%|          | 0.00/39.3k [00:00<?, ?B/s]"
      ]
     },
     "metadata": {},
     "output_type": "display_data"
    },
    {
     "data": {
      "application/vnd.jupyter.widget-view+json": {
       "model_id": "93a075130f134484b233dde8e2ae5ce0",
       "version_major": 2,
       "version_minor": 0
      },
      "text/plain": [
       "Downloading pytorch_model.bin:   0%|          | 0.00/438M [00:00<?, ?B/s]"
      ]
     },
     "metadata": {},
     "output_type": "display_data"
    },
    {
     "data": {
      "application/vnd.jupyter.widget-view+json": {
       "model_id": "690252d8347e4fd8867ea434f7b64dda",
       "version_major": 2,
       "version_minor": 0
      },
      "text/plain": [
       "Downloading (…)nce_bert_config.json:   0%|          | 0.00/53.0 [00:00<?, ?B/s]"
      ]
     },
     "metadata": {},
     "output_type": "display_data"
    },
    {
     "data": {
      "application/vnd.jupyter.widget-view+json": {
       "model_id": "ccb76d934fd343578de21bcef6d87ff8",
       "version_major": 2,
       "version_minor": 0
      },
      "text/plain": [
       "Downloading (…)cial_tokens_map.json:   0%|          | 0.00/239 [00:00<?, ?B/s]"
      ]
     },
     "metadata": {},
     "output_type": "display_data"
    },
    {
     "data": {
      "application/vnd.jupyter.widget-view+json": {
       "model_id": "c6852a953a4040de857e08af2785b6ec",
       "version_major": 2,
       "version_minor": 0
      },
      "text/plain": [
       "Downloading tokenizer.json:   0%|          | 0.00/466k [00:00<?, ?B/s]"
      ]
     },
     "metadata": {},
     "output_type": "display_data"
    },
    {
     "data": {
      "application/vnd.jupyter.widget-view+json": {
       "model_id": "83d428c79cc347b2b51540e7a5da5602",
       "version_major": 2,
       "version_minor": 0
      },
      "text/plain": [
       "Downloading tokenizer_config.json:   0%|          | 0.00/363 [00:00<?, ?B/s]"
      ]
     },
     "metadata": {},
     "output_type": "display_data"
    },
    {
     "data": {
      "application/vnd.jupyter.widget-view+json": {
       "model_id": "faf175cb274348cfa88248a731addff3",
       "version_major": 2,
       "version_minor": 0
      },
      "text/plain": [
       "Downloading train_script.py:   0%|          | 0.00/13.1k [00:00<?, ?B/s]"
      ]
     },
     "metadata": {},
     "output_type": "display_data"
    },
    {
     "data": {
      "application/vnd.jupyter.widget-view+json": {
       "model_id": "fb3d8fcb96ab48f6957cf98242ac8857",
       "version_major": 2,
       "version_minor": 0
      },
      "text/plain": [
       "Downloading vocab.txt:   0%|          | 0.00/232k [00:00<?, ?B/s]"
      ]
     },
     "metadata": {},
     "output_type": "display_data"
    },
    {
     "data": {
      "application/vnd.jupyter.widget-view+json": {
       "model_id": "5fc8ec77cf434f758cec703dc255d942",
       "version_major": 2,
       "version_minor": 0
      },
      "text/plain": [
       "Downloading modules.json:   0%|          | 0.00/349 [00:00<?, ?B/s]"
      ]
     },
     "metadata": {},
     "output_type": "display_data"
    }
   ],
   "source": [
    "from sentence_transformers import SentenceTransformer\n",
    "transformer = SentenceTransformer(\"sentence-transformers/all-mpnet-base-v2\")"
   ]
  },
  {
   "cell_type": "markdown",
   "id": "cc986a43",
   "metadata": {},
   "source": [
    "## Listing 9.12"
   ]
  },
  {
   "cell_type": "code",
   "execution_count": null,
   "id": "d8d0c622",
   "metadata": {
    "tags": []
   },
   "outputs": [],
   "source": [
    "import pickle, os\n",
    "## picked this model \"all-mpnet-base-v2\" based on benchmark on this link https://medium.com/@nils_reimers/openai-gpt-3-text-embeddings-really-a-new-state-of-the-art-in-dense-text-embeddings-6571fe3ec9d9\n",
    "transformer = SentenceTransformer(\"all-mpnet-base-v2\")\n",
    "emb_file = \"../data/all-mpnet-base-v2-names-all-embed.data.pkl\"\n",
    "data_file = \"../data/all-mpnet-base-v2-names-all-names.data.pkl\"\n",
    "ids_file = \"../data/all-mpnet-base-v2-names-all-ids.data.pkl\"\n",
    "\n",
    "###\n",
    "def get_embeddings(texts, ids, ignore_cache=False):\n",
    "    load_from_cache = not ignore_cache and os.path.isfile(emb_file) and os.path.isfile(data_file) and os.path.isfile(ids_file)\n",
    "    if load_from_cache:\n",
    "        with open(emb_file, \"rb\") as fd:\n",
    "            embeddings = pickle.load(fd)\n",
    "        with open(data_file,\"rb\") as fd:\n",
    "            texts = pickle.load(fd)\n",
    "        with open(ids_file,\"rb\") as fd:\n",
    "            ids = pickle.load(fd)\n",
    "    else:\n",
    "        embeddings = transformer.encode(texts, convert_to_tensor=False)\n",
    "        with open(emb_file, \"wb\") as fd:\n",
    "            pickle.dump(embeddings, fd)\n",
    "        with open(data_file, \"wb\") as fd:\n",
    "            pickle.dump(texts, fd)\n",
    "        with open(ids_file, \"wb\") as fd:\n",
    "            pickle.dump(ids, fd)\n",
    "    return embeddings, texts, ids"
   ]
  },
  {
   "cell_type": "code",
   "execution_count": null,
   "id": "93c2ceb6",
   "metadata": {
    "tags": []
   },
   "outputs": [],
   "source": [
    "#product_embeddings=get_embeddings(p_texts,load_from_cache=True)\n",
    "#product_embeddings=get_embeddings(product_names,load_from_cache=True)\n",
    "product_embeddings, product_names, product_ids = get_embeddings(product_names, product_ids)"
   ]
  },
  {
   "cell_type": "code",
   "execution_count": null,
   "id": "efb6d456",
   "metadata": {
    "tags": []
   },
   "outputs": [
    {
     "data": {
      "text/plain": [
       "(48164, 48164, 48164, 46155)"
      ]
     },
     "execution_count": 67,
     "metadata": {},
     "output_type": "execute_result"
    }
   ],
   "source": [
    "### Product Ids-embedding, Product ID-names dictionaries \n",
    "product_ids_emb = dict(zip(product_ids, product_embeddings))\n",
    "product_ids_names = dict(zip(product_ids, product_names))\n",
    "#len(product_texts), len(product_embeddings), len(product_names) ,len(product_ids),len(product_ids_names.values())\n",
    "len(product_embeddings), len(product_names), len(product_ids), len(product_ids_names.values())"
   ]
  },
  {
   "cell_type": "code",
   "execution_count": null,
   "id": "c8393701",
   "metadata": {
    "tags": []
   },
   "outputs": [],
   "source": [
    "######## Cluster the product info\n",
    "from collections import defaultdict\n",
    "import numpy as np\n",
    "import matplotlib.pyplot as plt\n",
    "import seaborn as sns\n",
    "import sklearn.cluster as cluster\n",
    "import time"
   ]
  },
  {
   "cell_type": "markdown",
   "id": "aa8ed526",
   "metadata": {},
   "source": [
    "## Listing 9.13"
   ]
  },
  {
   "cell_type": "code",
   "execution_count": null,
   "id": "6d6e9cbf",
   "metadata": {
    "tags": []
   },
   "outputs": [],
   "source": [
    "## Get the clusters \n",
    "def get_clusters(data, algorithm, args, kwds):\n",
    "    return algorithm(*args, **kwds).fit(data)"
   ]
  },
  {
   "cell_type": "code",
   "execution_count": null,
   "id": "866f9b05",
   "metadata": {
    "tags": []
   },
   "outputs": [],
   "source": [
    "### K-means clustering\n",
    "algo = get_clusters(product_embeddings, cluster.KMeans, (),\n",
    "                    {\"n_clusters\":100, \"n_init\":10, \"random_state\":0})\n",
    "labels = algo.predict(product_embeddings)\n",
    "centers = algo.cluster_centers_"
   ]
  },
  {
   "cell_type": "code",
   "execution_count": null,
   "id": "705cebc1",
   "metadata": {
    "tags": []
   },
   "outputs": [],
   "source": [
    "def assign_clusters(labels, product_names):\n",
    "    clusters = defaultdict(lambda:[], {})\n",
    "    for i in range(len(labels)):\n",
    "        clusters[labels[i]].append(product_names[i])\n",
    "    return clusters"
   ]
  },
  {
   "cell_type": "code",
   "execution_count": null,
   "id": "19a2c007",
   "metadata": {
    "tags": []
   },
   "outputs": [],
   "source": [
    "clusters = assign_clusters(labels, product_names)"
   ]
  },
  {
   "cell_type": "code",
   "execution_count": null,
   "id": "c186f396",
   "metadata": {
    "tags": []
   },
   "outputs": [],
   "source": [
    "#from sklearn.manifold import TSNE\n",
    "#X = np.array(centers, dtype=np.float32)\n",
    "#X.shape\n",
    "#tsne = TSNE(random_state=0, n_iter=1000)\n",
    "#tsne_results = tsne.fit_transform(X)\n",
    "#df_tsne = pd.DataFrame(tsne_results, columns=['TSNE1', 'TSNE2'])\n",
    "#df_tsne['Cluster'] = clusters.keys()\n",
    "#fig, ax = plt.subplots(figsize=(8,6)) # Set figsize\n",
    "#sns.set_style('darkgrid', {\"grid.color\": \"0.6\", \"grid.linestyle\": \":\"})\n",
    "#sns.scatterplot(data=df_tsne, x='TSNE1', y='TSNE2', hue='Cluster', palette='magma')\n",
    "#sns.move_legend(ax, \"upper left\", bbox_to_anchor=(1, 1))\n",
    "#plt.title('Scatter plot of products using KMeans Clustering');\n",
    "#plt.xlabel('TSNE1');\n",
    "#plt.ylabel('TSNE2');\n",
    "#plt.axis('equal')"
   ]
  },
  {
   "cell_type": "markdown",
   "id": "6af2e862",
   "metadata": {},
   "source": [
    "## Listing 9.14"
   ]
  },
  {
   "cell_type": "code",
   "execution_count": null,
   "id": "82a1e2bb",
   "metadata": {},
   "outputs": [
    {
     "data": {
      "text/plain": [
       "146"
      ]
     },
     "execution_count": 74,
     "metadata": {},
     "output_type": "execute_result"
    },
    {
     "data": {
      "image/png": "[encoded data removed]",
      "text/plain": [
       "<Figure size 1500x1500 with 1 Axes>"
      ]
     },
     "metadata": {},
     "output_type": "display_data"
    }
   ],
   "source": [
    "import collections, itertools, numpy as np, matplotlib.pyplot as plt\n",
    "from adjustText import adjust_text\n",
    "from sklearn.decomposition import PCA\n",
    "\n",
    "stopwords = [\"in\", \"for\", \"with\", \"of\", \"the\", \"to\", \"and\"]\n",
    "\n",
    "def top_words(clusters, top_n):\n",
    "    # Loop through the clusters and split each string on space\n",
    "    tokenized = [cluster.split() for cluster in clusters]\n",
    "    # Flatten the list of lists\n",
    "    flattened = list(itertools.chain.from_iterable(tokenized))\n",
    "    filtered = [word for word in flattened\n",
    "                if len(word) > 1 and word.lower() not in stopwords]\n",
    "    \n",
    "    # Return the most common words\n",
    "    return [word for word, _ \n",
    "            in collections.Counter(filtered).most_common(top_n)]\n",
    "\n",
    "#Transform the data for 2-D visualization\n",
    "plt.figure(figsize=(15,15))\n",
    "pca = PCA(100, svd_solver=\"full\")\n",
    "plot_data = pca.fit_transform(centers)\n",
    "#plot_data = centers\n",
    "#plt.scatter(plot_data[:,0] , plot_data[:,1] , s = 30, color = 'k')\n",
    "\n",
    "points = []\n",
    "for i, cluster_name in enumerate(plot_data):\n",
    "    plt.scatter(plot_data[i,0], plot_data[i,1], s=30, color=\"k\") \n",
    "    label = f\"{i}_{'_'.join(top_words(clusters[i], 2))}\"\n",
    "    points.append(plt.text(plot_data[i,0], plot_data[i,1], label, size=12))\n",
    "adjust_text(points, arrowprops=dict(arrowstyle=\"-\", color=\"gray\", alpha=.3))"
   ]
  },
  {
   "cell_type": "code",
   "execution_count": null,
   "id": "5acb59a8",
   "metadata": {},
   "outputs": [
    {
     "data": {
      "text/plain": [
       "['Of Nightmares (Limited Edition) (EP) - CD',\n",
       " 'Radiant Historia with Music CD - Nintendo DS',\n",
       " 'The Murder, Porn, And Fatherhood [EP] - CD',\n",
       " 'The Most of the Animals [EMI Bonus Tracks] - CD',\n",
       " 'R&G - Rhythm & Gangster: The Masterpiece - CD',\n",
       " 'Lights Out [2008 Bonus Tracks] - CD',\n",
       " 'Greatest Hits EP [12inch Vinyl Disc] [Single] - VINYL',\n",
       " 'Children of Eden - Original Cast Recording - CD',\n",
       " 'Destroyer [Remaster] - CD',\n",
       " 'Greatest Hits - CD',\n",
       " 'Perfect Day (Bonus Cd) (Special) - CD',\n",
       " 'The Platinum Collection [Box] - CD',\n",
       " 'All Things Must Pass [30th... [Remaster] - CD',\n",
       " 'Unforgettable Fire (W/Book) (CD+DVD) (Limited Edition) (Remastered) - CD',\n",
       " 'Countdown to Extinction [Remaster] - CD',\n",
       " 'Led Zeppelin III [Remaster] - CD',\n",
       " 'Hotter Than Hell [Limited] [Remaster] - CD',\n",
       " 'Lungs [Deluxe Edition] [ECD] - CD',\n",
       " 'Off The Wall (Bonus Tracks) (Remastered) (Special) - CD',\n",
       " 'Anno Domini High Definition [Special Edition] - CD',\n",
       " 'Kingdom Days In An Evil Age (Deluxe Edition) - CD',\n",
       " 'All Time Greatest Hits - CD',\n",
       " 'Live Rare Remix Box - CD',\n",
       " 'Original Album Classics (Box) - CD',\n",
       " 'Planet Pit (Deluxe Edition) - CD',\n",
       " 'Suende [Bonus Tracks] - CD',\n",
       " 'Special Edition - Rare Tracks (Japan) - CD',\n",
       " 'Voyage To India (Bonus Track) (Limited Edition) - CD',\n",
       " 'Losers Weepers (Bonus Tracks) - CD',\n",
       " 'Viva La Cobra (Bonus Track) (Japan) - CD',\n",
       " 'Greatest Hits - CD',\n",
       " 'Guitars, Cadillacs, Etc.,... [Remaster] - CD',\n",
       " 'Now, Vol. 39 - Various - CD',\n",
       " 'Greatest Hits - CD',\n",
       " 'Remix Deluxe (Japan) - CD',\n",
       " 'Peace Sells But Whos Buying (Bonus Cd) (Japan) - CD',\n",
       " 'The Essential Judas Priest [Remaster] - CD',\n",
       " \"Number 1'S (Remastered) (Spkg) - CD\",\n",
       " 'Violator The Album V2.0 - Edited Various - CD',\n",
       " 'The Definitive Collection - CD',\n",
       " 'American Apathy Limited Edition Exclusive - CD',\n",
       " 'Paper Planes: Homeland Security Remixes [Single] - CD',\n",
       " 'Mitch All Together [CD & DVD] - CD',\n",
       " 'Eureka Seven, Vol. 2 - (with Bonus Tracks) - CD',\n",
       " 'Fallout from the War - CD',\n",
       " 'Exit...Stage Left [Bonus Track] [Remaster] - CD',\n",
       " 'Greatest Hits [Slipcase] - CD',\n",
       " 'Sorry For Party Rocking (Deluxe Edition) - CD',\n",
       " \"Movement [Collector's Edition] - CD\",\n",
       " 'Def Jam Rapstar Bundle - Xbox 360',\n",
       " 'Greatest Hits: So Far - CD',\n",
       " 'Greatest Hits [Repertoire] [Remaster] - CD',\n",
       " 'Brushfire Fairytales (Reissue) (Remastered) - CD',\n",
       " 'Awake: The Best of Live - CD',\n",
       " 'Comatose Comes Alive (CD+DVD) - CD',\n",
       " 'Crazy Heart [Deluxe Edition] [Digipak] - (with Bonus Tracks) Deluxe Edition - CD',\n",
       " 'Greatest Hits [Remaster] - CD',\n",
       " 'Star Wars: The Corellian Edition (Snys) - CD',\n",
       " '99 Luftballons - CD',\n",
       " 'Crimson, White & Indigo:... [CD & DVD] [Box] - CD',\n",
       " 'Get Carter [Remastered] - CD',\n",
       " 'Ultra: Trance Anthems - Various - CD',\n",
       " 'Sunrise Sessions [Deluxe Edition] [CD & DVD] [PA] - CD',\n",
       " 'Enter The Dubstep Vol.2 [PA] - CD',\n",
       " 'Xperience Club Mix - Various - CD',\n",
       " 'Secret Wars - CD',\n",
       " 'Original Greatest Hits - CD',\n",
       " 'Leveler (Bonus Tracks) (Deluxe Edition) - CD',\n",
       " 'Crush [Special Edition] [Bonus Tracks] [Digipak] - CD',\n",
       " 'Ultimate Collection - CD',\n",
       " 'Deluxe Edition Box Set - CD',\n",
       " 'Disco Duro (Box) - CD',\n",
       " 'Zombie EP [EP] - CD',\n",
       " 'Ready to Die [CD & DVD] [PA] [Remaster] - CD',\n",
       " 'War Is The Answer (Bonus Cd) - VINYL',\n",
       " \"Greatest Hits '93-'03 - CD\",\n",
       " 'Made In Germany - CD',\n",
       " 'Complete Studio Recordings [Box] - CD',\n",
       " 'The Infection (Limited Edition) [CD & DVD] [Box] - CD',\n",
       " 'The Definitive Collection [Remaster] - CD',\n",
       " 'Raymond V Raymond [Deluxe Edition] - CD',\n",
       " 'Rise & Fall (Bonus Tracks) (Japan) - CD',\n",
       " 'Shallow Bay: The Best Of Breaking Benjamin (Deluxe Edition) - CD',\n",
       " 'Guitar Band Classics - CD',\n",
       " 'Ultimate Collection: Complete McA Single 1990-2000 - CD',\n",
       " \"Mongo '70 - CD\",\n",
       " 'The Cutting Edge [Bonus Tracks] - (with Bonus Tracks) Deluxe Edition - CD',\n",
       " 'Freaky Styley [Bonus Tracks] [PA] [Remaster] - CD',\n",
       " 'Live Metropolis, Pt. 2 - CD',\n",
       " 'Hub Cap [Bonus Tracks] [Remaster] - CD',\n",
       " 'New Game [Deluxe Edition] [PA] - CD',\n",
       " 'Alpocalypse (CD+DVD) (Deluxe Edition) - CD',\n",
       " \"Don'T Let Me Be The Last To Know (Japan) (EP) - CD\",\n",
       " 'Complete Reprise Studio Recordings - CD',\n",
       " 'Greatest Hits - CD',\n",
       " 'Greatest Hits: Remixed [CD & DVD] - CD',\n",
       " 'Greatest Hits [CD & DVD] - CD',\n",
       " 'Slaughterhouse Ep (EP) - CD',\n",
       " 'Resurrection [Bonus Tracks] - CD',\n",
       " 'Emfire Collection: Mixed Unmixed & Remixed (Remix) - CD',\n",
       " 'Greatest Hits Live - CD',\n",
       " 'Out of Our Heads [UK] [Remaster] - CD',\n",
       " 'Graffiti [Deluxe Edition] - CD',\n",
       " 'Greatest: The Singles Collection - CD',\n",
       " \"Meek's Cutoff - Subtitle AC3 Dts - Blu-ray Disc\",\n",
       " 'Summer (EP) - CD',\n",
       " 'Delicate Sound of Thunder [Box] - CD',\n",
       " 'Living in the Material World [CD & DVD] - CD',\n",
       " 'The Definitive Collection [Clean] [Remaster] - CD',\n",
       " 'Bleuphoria (Jewel Case) (Ocrd) - CD',\n",
       " 'Animal + Cannibal [Deluxe Edition] - CD',\n",
       " 'Rescue Me [12inch Vinyl Disc] [EP] - 12-Inch Single',\n",
       " 'Combat Rock [Remaster] - CD',\n",
       " 'Enemy of the World [Special Edition] - CD',\n",
       " 'Remixes 2: 81-11 [1-CD] - CD',\n",
       " 'War [Remastered] - CD',\n",
       " 'Rise and Fall of Ziggy... [ECD] [Remaster] - CD',\n",
       " 'Rude Mechanicals [Reissue] - CD',\n",
       " 'Layover (Bonus Dvd) - CD',\n",
       " 'Private Room (Enhanced) - CD',\n",
       " 'Sun Giant EP [Slimline] - CD',\n",
       " 'In Session (CD+DVD) (Deluxe Edition) (Bril) - CD',\n",
       " 'Rhapsody In Blue - CD',\n",
       " 'Aja (Remastered) - CD',\n",
       " 'Sing (If You Want It) (Bonus Tracks) - CD',\n",
       " 'The Singles [2007] - CD',\n",
       " 'Ruining It For Everybody (Bonus Dvd) - CD',\n",
       " 'Ultimate Collection - CD',\n",
       " 'Let Sleeping Corpses Lie [CD & DVD] [Box] [PA] - CD',\n",
       " 'Yours Truly (Deluxe Edition) - CD',\n",
       " 'Denon Classics 24/7 4 - Various - CD',\n",
       " 'Reggae Lounge - Various Box - CD',\n",
       " 'Neighborhoods (Deluxe Edition) - CD',\n",
       " 'Konvicted (CD+DVD) (Deluxe Edition) - CD',\n",
       " 'Protocol (Bonus Tracks) - CD',\n",
       " 'Siren Song of the Counter Culture [Bonus Track] - CD',\n",
       " 'Greatest Hits: 40 Seasons-The Best Of [Remaster] - CD',\n",
       " 'Champion Sound [Deluxe Edition] - CD',\n",
       " 'Greatest Hits - CD',\n",
       " 'Wow Hits 2011 - Various (with Bonus Tracks) - CD',\n",
       " '21 (Bonus Tracks) - CD',\n",
       " 'Armando [Import] [Bonus Tracks] - CD',\n",
       " 'Greatest Hits, Vol. 1: The Singles - CD',\n",
       " 'Denim and Leather [Bonus Tracks] - CD',\n",
       " 'Metalogy [CD & DVD] [Box] [Limited] [Remaster] - CD',\n",
       " 'My Beautiful Dark Twisted Fantasy (Bonus Track) - CD',\n",
       " 'Greatest Hits - CD',\n",
       " 'Phineas & Ferb-Ulous: Ultimate Album - Various - CD',\n",
       " 'The Ultimate Butler - CD',\n",
       " 'The Indictment/The Verdict/The Sentence [PA] - Deluxe Edition - CD',\n",
       " 'Countdown To Extinction (Bonus Tracks) (Limited Edition) (Omr) - CD',\n",
       " 'Blood, Sweat & Tears [Deluxe Edition] [PA] - CD',\n",
       " 'Essential Collection - CD',\n",
       " 'Love and Rockets [Expanded] [Remaster] - Deluxe Edition Remastered EP - CD',\n",
       " 'Let It Be (Limited Edition) (Remastered) (Enhanced) - CD',\n",
       " 'Greatest Hits - CD',\n",
       " 'Wish You Were Here (Reissue) (Remastered) - CD',\n",
       " 'Waiting for the Sun [Bonus Tracks] [Remaster] - CD',\n",
       " 'Pilot Talk II - CD',\n",
       " 'Talk That Talk (Deluxe Edition) (Edited) - CD',\n",
       " 'The Fonk Record - CD',\n",
       " 'Ghetto Revelations, Vol. 2 [PA] - CD',\n",
       " 'Vault: Greatest Hits - CD',\n",
       " 'Among the Living [Deluxe... [CD & DVD] [PA] - CD',\n",
       " 'Volume 4 - CD',\n",
       " 'Spiritual Healing [Deluxe Edition] - CD',\n",
       " 'Greatest Hits (Rpkg) - CD',\n",
       " '20th Century Masters: Millennium Collection (Remastered) - CD',\n",
       " 'Young Money Year 2k9, Vol. 1 - CD',\n",
       " 'Super Duetos: Serie Max 3 X 1 - Various Box - CD',\n",
       " 'No Time To Bleed (CD+DVD) (Box) - CD',\n",
       " 'Block (Bonus Tracks) (Deluxe Edition) (Bril) (Enhanced) - CD',\n",
       " 'Weezer (Blue Album) [Remaster] - CD',\n",
       " 'The Unraveling [Bonus Tracks] - CD',\n",
       " 'The Chase [Bonus Track] - CD',\n",
       " 'Pure Cult / The Singles 1984-1995 [Remaster] - CD',\n",
       " 'B Sides & Rarities - CD',\n",
       " 'Radiosurgery (Deluxe Edition) - CD',\n",
       " 'Escape [Bonus Tracks] - CD',\n",
       " 'Greatest Hits (Eco) - CD',\n",
       " 'Greatest Hits - CD',\n",
       " 'Battle Hymns Mmxi - CD',\n",
       " 'Return of the Kingpin [Cassette] [PA] - Various - CD',\n",
       " 'Idlewild (Bonus Dvd) (Limited Edition) - CD',\n",
       " 'Elvis: Ultimate Gospel [Bonus Track] - CD',\n",
       " 'Blood Mountain [CD & DVD] [PA] - CD',\n",
       " 'Eminem Presents: The Re-Up [PA] - CD',\n",
       " 'In Through the Out Door [Remaster] - CD',\n",
       " 'The Riddle Box - CD',\n",
       " 'The Definitive Collection - CD',\n",
       " 'Now, Vol. 36 - Various - CD',\n",
       " '2112 [Remaster] - CD',\n",
       " 'Elvis Gold Records 2 - Remastered - CD',\n",
       " 'Proud To Be Here (Deluxe Edition) - CD',\n",
       " 'Love (Special Edition) [CD & DVD] - CD',\n",
       " 'The Ultimate Halloween Party Album - Various - CD',\n",
       " 'Greatest Hits - CD',\n",
       " 'Now & Zen [Remaster] - CD',\n",
       " 'The Platinum Collection, Vol. 1-3 - CD',\n",
       " 'Tourist History [Bonus CD] [Bonus Tracks] - CD',\n",
       " 'Tell Mama: The Complete Muscle... [Remaster] - CD',\n",
       " 'Live & Dangerous [Bonus DVD] [Bonus Tracks] - CD',\n",
       " 'Sounds Of A Playground Fading (Bonus Dvd) (Wtsh) - CD',\n",
       " 'Greatest Hits [2004] - CD',\n",
       " 'High Voltage (Remastered) (Deluxe Edition) - CD',\n",
       " 'Danzig 2: Lucifuge (Reissue) - CD',\n",
       " 'Dance Dance Revolution - CD',\n",
       " 'Singles Box (6 Cd5) - CD',\n",
       " 'Njord: Special Fan Edition (Bonus Tracks) (Limited Edition) - CD',\n",
       " \"Peter Nero's Greatest Hits - CD\",\n",
       " '5.0 (Bonus Tracks) (Deluxe Edition) - CD',\n",
       " 'Finally Famous [Deluxe Edition] [PA] - CD',\n",
       " 'Quest (EP) - CD',\n",
       " 'The Singles Collection [Single Disc] - CD',\n",
       " 'Cryptic Collection 4 - CD',\n",
       " 'Mastercuts: Nu Yorican Soul [Box] - Various - CD',\n",
       " \"The Director's Cut - CD\",\n",
       " 'The Brotherhood Album - CD',\n",
       " 'Kind of Blue [Columbia... [Remaster] - CD',\n",
       " 'Rated R: Remixed - CD',\n",
       " 'Everything In Transit (Bonus Track) (Japan) - CD',\n",
       " 'Chronicle, Vol. 2 - CD',\n",
       " 'Eric Carmen - Remastered - CD',\n",
       " 'Greatest Hits - CD',\n",
       " 'Bloodsoaked, Vol. 3: Fated - CD',\n",
       " 'Greatest Hits - CD',\n",
       " 'KJ Records - Practice Tracks Guitar Masters for Rockers and Shredders CD',\n",
       " 'Greatest Hits (Bonus Track) - CD',\n",
       " 'Escape the Fate [Deluxe Version] - CD',\n",
       " 'Who We Are (Bonus Tracks) - CD',\n",
       " 'Now, Vol. 25 - Various - CD',\n",
       " 'Greatest Hits (Us Release) - CD',\n",
       " 'Bad As Me (W/Book) (Limited Edition) (Deluxe Edition) - CD',\n",
       " 'The Ultimate Collection - CD',\n",
       " 'The Candlelight Years [Box] - CD',\n",
       " 'Empire [Bonus Tracks] [Remaster] - CD',\n",
       " 'The Guitar Lesson - CD',\n",
       " 'Tommy (Remastered) - CD',\n",
       " 'Singles - CD',\n",
       " 'Blood Mountain (CD+DVD) (Limited Edition) - CD',\n",
       " 'Libertad (Bonus Track) (Japan) - CD',\n",
       " 'Pretty Hate Machine [2010 Remaster] - CD',\n",
       " 'Greatest Hits - CD',\n",
       " 'Greatest Hits:... [Remaster] [Slipcase] - CD',\n",
       " 'No Time To Bleed... [CD & DVD] [Limited] - CD',\n",
       " 'The Complete Million Dollar Quartet - CD',\n",
       " 'Rehab [Deluxe] [CD & DVD] - CD',\n",
       " 'In the Mountain in the Cloud [Deluxe Edition] - CD',\n",
       " \"You'LL Rebel To Anything (Bonus Tracks) (Remastered) - CD\",\n",
       " 'Achtung Baby (Remastered) (Deluxe Edition) - CD',\n",
       " 'Return of the Wu & Friends [PA] - CD',\n",
       " 'Essential, Vol. 2 - CD',\n",
       " 'Pina Records Present #1 Exclusive Urban Remixes - Various - CD',\n",
       " 'Walking with Frankie [Remaster] - CD',\n",
       " 'The Immaculate Collection - CD',\n",
       " \"Daniel O'Donnell: My Story [Box] - CD\",\n",
       " 'Thriller: 25th Anniversary Edition (Aniv) - VINYL',\n",
       " 'Back To Black (W/Cd) (Bonus Tracks) (Japan) (Deluxe Edition) - CD',\n",
       " 'The Greenlight EP - CD',\n",
       " 'Definitive Collection (Eco) - CD',\n",
       " 'Ultimate Collection [Hip-O] - CD',\n",
       " 'Whole Love (Limited Edition) (Deluxe Edition) - CD',\n",
       " 'White Album (Limited Edition) (Remastered) (Enhanced) - CD',\n",
       " 'Ultra Trance, Vol. 1 - Various - CD',\n",
       " 'Dirty Deeds Done Dirt Cheap (Remastered) (Deluxe Edition) - CD',\n",
       " 'Soundz Of Spirit (2 Disc) (W/Cd) - DVD',\n",
       " 'Ten (Super Deluxe... [CD & DVD] [Box] - CD',\n",
       " 'Wall (Reissue) (Remastered) - CD',\n",
       " 'Floetic [Bonus Tracks] - CD',\n",
       " 'Endless Wire [Bonus Tracks/CD] - CD',\n",
       " 'Sea Of Memories (Bonus Cd) (Bonus Tracks) - CD',\n",
       " 'Awake (Bonus Tracks) (Deluxe Edition) - CD',\n",
       " 'The Love & War MasterPeace [Deluxe Edition] - CD',\n",
       " \"Alive '95 [Bonus Tracks] - CD\",\n",
       " '10th Anniversary: Tha Classicc [CD & DVD] [PA] - CD',\n",
       " 'I Got the Guns - CD',\n",
       " 'Swiss Army Romance [Bonus Tracks] - CD',\n",
       " 'Remixes 2: 81-11 (Deluxe Edition) - CD',\n",
       " 'Pilot Talk - CD',\n",
       " 'Confessions [Special Edition] - CD',\n",
       " 'Libra Scale [Deluxe Edition] [9/21] - CD',\n",
       " 'Greatest Hits, Vol. 2 - CD',\n",
       " 'Art Of The Recorder (Coll) (Box) - CD',\n",
       " \"ELO's Greatest Hits - CD\",\n",
       " 'The Legend [Columbia] [Box] - CD',\n",
       " 'Glee: The Music Showstoppers [Deluxe Edition] - CD',\n",
       " \"Devil's Walk [Deluxe Edition] - CD\",\n",
       " 'Remix City, Vol. 1 - CD',\n",
       " 'Live, Vol. 2 - CD',\n",
       " 'Greatest Hits - CD',\n",
       " 'Masterpieces: 1991-2002 [Bonus Tracks] - CD',\n",
       " 'Legacy: The Greatest Hits Collection [ECD] - CD',\n",
       " 'The Pro Tools [Instrumentals] - CD',\n",
       " 'Grace: Legacy Edition... [CD & DVD] [Remaster]... - CD',\n",
       " 'Newurbanjazz.Com 2 - CD',\n",
       " 'Wall (Remastered) - CD',\n",
       " 'E 1999 Eternal - CD',\n",
       " 'Love Never Dies - O.C.R. (CD+DVD) (Deluxe Edition) - CD',\n",
       " 'Echoes Silence Patience & Grace (Bonus Track) - CD',\n",
       " 'Greatest Hits: Back to the Start - CD',\n",
       " 'Greatest Hits - CD',\n",
       " 'The Collection [3 Album Set] [Box] - CD',\n",
       " 'Greatest Hits: 30 Years of Rock [Remaster] - CD',\n",
       " 'World Is Yours (Bonus Dvd) - CD',\n",
       " 'Greatest Hits - CD',\n",
       " 'Fragile [Bonus Tracks] [Remaster] - CD',\n",
       " '20th Century Masters: Millennium Collection (Remastered) - CD',\n",
       " 'Honkey Kong (Bonus Cd) - CD',\n",
       " 'Tao Feng-Fist of the Lotus: Xbox - O.S.T. - CD',\n",
       " 'Godfather of Soul [CD & DVD] [Slipcase] - CD',\n",
       " 'Still Searching (Deluxe Edition) [CD & DVD] - CD',\n",
       " 'Greatest Hits - CD',\n",
       " 'Greatest Hits - CD',\n",
       " 'Everything Under the Sun [CD & DVD] [Box] - CD',\n",
       " 'Nothing [Deluxe Edition] [PA] - CD',\n",
       " 'Heart & Soul (Bonus Tracks) - CD',\n",
       " 'Sunrise Sessions (CD+DVD) (Deluxe Edition) - CD',\n",
       " 'Ghostdeini The Great (CD+DVD) - CD',\n",
       " 'Stand in the Fire [Bonus Tracks] [Remaster] - CD',\n",
       " 'Sex Therapy: The Experience (Bonus Tracks) (Deluxe Edition) - CD',\n",
       " 'Black & White America (Bonus Dvd) (Bonus Track) - CD',\n",
       " \"What's Going On [Bonus Tracks] [Remaster] - CD\",\n",
       " 'The Platinum Collection, Vol. 1-3 [Box] - CD',\n",
       " 'Viper Megamix, Vol. 4 - Various - CD',\n",
       " 'Psychocandy [Remaster] - CD',\n",
       " 'Classic Album Collection (Box) - CD',\n",
       " 'Frizzle Fry [Remaster] - CD',\n",
       " 'Rarities Edition: Weezer (Blue Album) - CD',\n",
       " 'Thriller [25th... [LP] [Remaster] - VINYL',\n",
       " 'Bon Jovi Greatest Hits (Deluxe Edition) - CD',\n",
       " 'Staind (CD+DVD) (Deluxe Edition) - CD',\n",
       " 'Stargate [Deluxe Edition] - Deluxe Edition Remastered - CD',\n",
       " 'So Beautiful Or So What (CD+DVD) (Deluxe Edition) - CD',\n",
       " 'Greatest Hits [MCA] [Remaster] - CD',\n",
       " 'Greatest Hits - CD',\n",
       " 'Fandango! [Bonus Tracks] [Remaster] - CD',\n",
       " 'Greatest Hits [Slipcase] - CD',\n",
       " 'Painkiller [Bonus Tracks] [Remaster] - CD',\n",
       " 'Presents: The Vault 1 (Reissue) - CD',\n",
       " 'Instant Vintage - CD',\n",
       " 'Better Life: Rarities Edition - CD',\n",
       " \"Clancy'S Tavern (Deluxe Edition) - CD\",\n",
       " 'Black Butterfly [Reissue] [PA] - CD',\n",
       " 'Clubland, Vol. 10 [Box] - Various Box - CD',\n",
       " 'Promise: Darkness On The Edge Of Town Story (Box) - CD',\n",
       " 'The Icarus EP [CD & DVD] [EP] - CD',\n",
       " 'Super Music Friends - CD',\n",
       " '16 Biggest Hits [Bonus Track] - CD',\n",
       " 'The Live Experience II - CD',\n",
       " 'Rachael Yamagata EP [EP] - CD',\n",
       " 'Manners [Bonus Tracks] [Limited] - CD',\n",
       " 'Holy Wood (Gamepieces) (Bonus Tracks) - CD',\n",
       " 'Last Train to Paris [Deluxe Edition] [PA] - CD',\n",
       " 'The Laptop [EP] - CD',\n",
       " 'Singles - CD',\n",
       " '16 Biggest Hits [Remaster] - CD',\n",
       " 'Abbey Road (Limited Edition) (Remastered) (Enhanced) - CD',\n",
       " 'The Main Event -- Live - CD',\n",
       " 'Greatest Hits - CD',\n",
       " 'Greatest Hits - CD',\n",
       " 'Studio Album Box Set (Japan) (Box) - CD',\n",
       " 'Camino Palmero (+Bonus Live Track) - CD',\n",
       " 'Live Evil (Japan) (Mlps) (Shm) - CD',\n",
       " 'The Odyssey - CD',\n",
       " 'The Definitive Collection - CD',\n",
       " 'Greatest Hits! - CD',\n",
       " 'Original Album Classics [Box] - CD',\n",
       " 'Greatest Hits - CD',\n",
       " 'Atlantis: Hymns For Disco (Bonus Track) - CD',\n",
       " 'Night Moves [Remaster] - CD',\n",
       " 'Guitar Slinger - CD',\n",
       " 'Collection: Elvis... [Box] [Remaster] - CD',\n",
       " 'Flyleaf (CD+DVD) (Bonus Tracks) (Ring) (Special) - CD',\n",
       " 'The Cradle of Filth Box Set [Box] [PA] [Limited] - CD',\n",
       " 'Funk Beyond the Call of Duty... [Remaster] - CD',\n",
       " 'Hamilton Park EP [EP] - CD',\n",
       " \"Bridget Jones's Diary [Bonus Tracks] - (with Bonus Tracks) - CD\",\n",
       " \"Tm 103 Hustlerz Ambition (CD+DVD) (Collector's Edition) - CD\",\n",
       " 'End Of Silence (Deluxe Edition) [CD & DVD] - CD',\n",
       " 'Paul Simon (Bonus Tracks) (Reissue) - CD',\n",
       " 'Ab 3.5 (Bonus Dvd) - CD',\n",
       " \"The Blueprint Collector's Edition [PA] - CD\",\n",
       " 'The Best of Atreyu [CD & DVD] - CD',\n",
       " 'Christmas [Import] [Bonus Track] - CD',\n",
       " 'Calling All Hearts [Deluxe Version] [PA] - CD',\n",
       " 'Stone Cold Classics [Limited] - CD',\n",
       " 'Europe 2009 (CD+DVD) - CD',\n",
       " 'Legend [Bonus Tracks] [Remaster] - CD',\n",
       " 'Greatest Hits - CD',\n",
       " 'Pokemon X: Ten Years Of Pokemon - CD',\n",
       " 'After Party (Deluxe Edition) - CD',\n",
       " 'Vheissu (Deluxe Edition) - CD',\n",
       " 'The Ultimate Collection - CD',\n",
       " 'Offerings Boxed Set [Box] - CD',\n",
       " 'Scream Aim Fire (CD+DVD) (Deluxe Edition) - CD',\n",
       " 'www.thug.com [Bonus Tracks] [PA] - CD',\n",
       " 'Dexter: Season 4 - Various - CD',\n",
       " 'Greatest Hits - CD',\n",
       " 'Hell: The Sequel (Deluxe Edition) (Edited) (EP) - CD',\n",
       " 'Winterland [Box Set] - CD',\n",
       " 'Shrek Forever After - CD',\n",
       " 'Hits (Remastered) - CD',\n",
       " 'Dance Revolution - CD',\n",
       " 'Shock Value 2 (Deluxe Edition) - CD',\n",
       " \"Don't Say No [30th Anniversary Edition] - CD\",\n",
       " 'Halloween: Monster Music - Various - CD',\n",
       " 'Days of Purgatory [Mini LP 2CD Reissue] - CD',\n",
       " 'The Essential Clash - CD',\n",
       " 'New Life [Deluxe Edition] - CD',\n",
       " 'Greatest Hits (Eco) (Rpkg) - CD',\n",
       " 'Greatest Hits - CD',\n",
       " 'Turn It On Again: Tour Edition (Remastered) - CD',\n",
       " '9 to 5 and Odd Jobs [Bonus Tracks] - CD',\n",
       " 'American Capitalist (Deluxe Edition) - CD',\n",
       " 'The Definitive Collection - CD',\n",
       " 'Twilight Saga: Eclipse - (with Bonus Tracks) - CD',\n",
       " 'Sehnsucht [11 Tracks] - CD',\n",
       " '70s: Gold... - Various Remastered - CD',\n",
       " 'Aqualung [Bonus Tracks] - CD',\n",
       " 'One For The Kids (Bonus Track) (Enhanced) - CD',\n",
       " 'Original Album Series (Box) - CD',\n",
       " 'Pretty Hate Machine (Reissue) - CD',\n",
       " 'Christmas (Bonus Dvd) (Bonus Tracks) - CD',\n",
       " 'Messin With Boys (Bonus Track) (Japan) (Remastered) (Mlps) - CD',\n",
       " 'Freestyle Heroes - Various - CD',\n",
       " 'The Final Cut [Remaster] - CD',\n",
       " '461 Ocean Boulevard [Remaster] - CD',\n",
       " 'Great Big Hits: Live Bootleg - CD',\n",
       " 'All The Greatest Hits - CD',\n",
       " 'Shallow Life [Deluxe Edition] [Bonus CD] - CD',\n",
       " 'Definitive Collection Mini Lp Replica Cd Box Set - CD',\n",
       " 'The Fray [Deluxe Edition] - CD',\n",
       " 'Fever Ray [Deluxe Edition] [CD/DVD] [Digipak] - CD',\n",
       " 'Dethalbum II [Deluxe... [CD & DVD] [Blister] - CD',\n",
       " 'Greatest Hits [Hyper CD] - CD',\n",
       " 'Cloud Nine (Bonus Dvd) (Japan) - CD',\n",
       " 'Legacy: The Greatest Hits Collection (Eco) - CD',\n",
       " 'Love Part One & Part Two (CD+DVD) (Deluxe Edition) (Box) - CD',\n",
       " 'Seperate But Equal: Drama Free Edition - CD',\n",
       " 'Her Greatest Hits - CD',\n",
       " \"AmeriKKKa's Most Wanted [PA] [Remaster] - CD\",\n",
       " 'Lights [U.S. Edition] - CD',\n",
       " 'The Voice - CD',\n",
       " 'Definitive Collection - CD',\n",
       " 'In-A-Gadda-Da-Vida [Deluxe Rhino] - CD',\n",
       " 'Four The Record (CD+DVD) (Deluxe Edition) (Bril) - CD',\n",
       " 'Reach (Bonus Track) (Japan) - CD',\n",
       " 'Sound of Girls Aloud: The Greatest Hits... - CD',\n",
       " 'Quadrophenia [Remaster] - CD',\n",
       " 'Best of the Guess Who... [Remaster] - CD',\n",
       " 'On An Island (CD+DVD) (Special) - CD',\n",
       " 'The Definitive Collection - CD',\n",
       " 'The Complete Greatest Hits - CD',\n",
       " 'Hits, Rarities & Remixes - CD',\n",
       " 'Now, Vol. 30 - Various - CD',\n",
       " 'The Essential Ozzy Osbourne - CD',\n",
       " 'Sunshine Superman - CD',\n",
       " 'The Flying Club Cup - CD',\n",
       " 'Radiosurgery [Deluxe Edition] - CD',\n",
       " \"Ok Computer (Collector's Edition) (Limited Edition) - CD\",\n",
       " 'Brotherhood Album - CD',\n",
       " 'Confrontation [Bonus Track] [Remaster] - CD',\n",
       " 'Songs from the Big Chair... [Remaster] - CD',\n",
       " 'Now, Vol. 40 [Deluxe Edition] - Various - CD',\n",
       " 'Blues Deluxe - CD',\n",
       " 'Nostalgia Lite (Edited) (EP) - CD',\n",
       " 'Greatest Hits [Expanded] [Remaster] - CD',\n",
       " 'Spiceworld (Bonus Track) (Japan) - CD',\n",
       " 'Doll Domination 2.0 (Bonus Tracks) - CD',\n",
       " 'Road Cases [Holland Bonus Tracks] - CD',\n",
       " 'Street Survivors [Expanded Edition] [Remaster] - CD',\n",
       " 'The Black Crown [Box] - CD',\n",
       " 'Bionic (Bonus Tracks) (Deluxe Edition) - CD',\n",
       " 'Spider Man: Turn Off The Dark - Various - CD',\n",
       " 'Set the Tone [Bonus Tracks] - CD',\n",
       " 'Opeth Box Set [Box] - CD',\n",
       " 'Tell The World: The Very Best Of [Remaster] - CD',\n",
       " 'Orchid [Bonus Track] - CD',\n",
       " 'Masters of House Music - Various - CD',\n",
       " 'In Waves (CD+DVD) (Special) - CD',\n",
       " 'Dolly [Box] - CD',\n",
       " 'For Those Who Have Heart [CD & DVD] [Remaster] - CD',\n",
       " 'The Definitive Collection - CD',\n",
       " 'Diary of the Madmen [Bonus Tracks] [PA] - CD',\n",
       " 'Love for Sale [Remaster] - CD',\n",
       " 'Call and Response: The Remix Album - CD',\n",
       " 'Eternal (Bonus Tracks) (Limited Edition) (Remastered) - CD',\n",
       " 'It Must Be Magic [Remaster] - CD',\n",
       " 'His Very Best (Remastered) - CD',\n",
       " 'More Hot Rocks (Big Hits and Fazed... [Remaster] - CD',\n",
       " 'Bootleg, Vol. 3: Live Around the World - CD',\n",
       " 'Of Battle & Ancient Warcraft - CD',\n",
       " 'In the Court of the Crimson King... [CD & DVD] - CD',\n",
       " 'Goat [Deluxe Remastered Reissue] [Digipak] - CD',\n",
       " 'Greatest Hits - CD',\n",
       " 'Homesick [Bonus Tracks] - CD',\n",
       " 'Evanescence - Limited Edition Remastered - CD',\n",
       " \"Collector's Edition - CD\",\n",
       " 'Greatest Hits [2004] - CD',\n",
       " 'The Singles Collection [Box Set] [CD & DVD] [Box] - CD',\n",
       " 'Bass Generation Exclusive (Limited Edition) - CD',\n",
       " 'Atb 1998-2008 Greatest Hits (CD+DVD) (Pal) - CD',\n",
       " 'Greatest Hits, Vol. 3 - CD',\n",
       " 'Sound Deluxe, Vol. 2: Mixed by DJ Halo - CD',\n",
       " 'The Lost Tapes - CD',\n",
       " 'Greatest Hits [Rhino] - CD',\n",
       " 'Definitive Collection - CD',\n",
       " 'Diver Down [Remaster] - CD',\n",
       " 'Hell: The Sequel EP [Deluxe Edition] [EP] [PA] - CD',\n",
       " 'Ultimate Halloween Party Album - Various - CD',\n",
       " 'Bootleg Series, Vol. 9: The Witmark... [Box] - CD',\n",
       " 'Greatest Hits 2 - CD',\n",
       " 'The Best of Red Hot Chili Peppers [Capitol] - CD',\n",
       " 'All I Ever Wanted (Deluxe Edition) [CD & DVD] - CD',\n",
       " 'Beastie Boys Anthology: The Sounds... [Box] - CD',\n",
       " 'Global Groove: De-Groovy & Delicious - Various - CD',\n",
       " 'Breaking Atoms [Import] [Japan Bonus Tracks] - CD',\n",
       " 'Hunter (CD+DVD) (Limited Edition) (Deluxe Edition) - CD',\n",
       " 'Decorder (Bonus Track) (Japan) - CD',\n",
       " 'Oral Fixation 2 (Bonus Tracks) - CD',\n",
       " 'Downbeat the Ruler: Killer Instrumentals from... - Various - CD',\n",
       " 'Trancers: The Ultimate Deth Collection [5 Discs] - DVD',\n",
       " 'Heroes Of Nature (Bonus Tracks) (Japan) - CD',\n",
       " 'Innocence & Instinct (CD+DVD) (Deluxe Edition) - CD',\n",
       " \"Songs in A Minor [Collector's Edition] [CD & DVD] - CD\",\n",
       " 'Deluxe - CD',\n",
       " 'Obscured By Clouds (Reissue) (Remastered) - CD',\n",
       " 'Living in the Material World [Bonus Tracks] - CD',\n",
       " 'Now, Vol. 34 [US] - Various - CD',\n",
       " 'Ministry Of Sound: Sound Of Dubstep - Various - CD',\n",
       " 'Queen II [Bonus Tracks] - CD',\n",
       " 'Shout To The Lord: Special Gold Edition - CD',\n",
       " 'With Teeth [UK Bonus Tracks] [PA] - CD',\n",
       " 'Hub-Tones [Bonus Tracks] [Remaster] - CD',\n",
       " \"Quadrophenia: The Director'S Cut (Dir) (Deluxe Edition) - CD\",\n",
       " 'Extended Versions (Collectables) - CD',\n",
       " 'Wicked - Original Cast Recording - CD',\n",
       " 'Mothership (CD+DVD) (Limited Edition) (Remastered) (Deluxe Edition) - CD',\n",
       " 'Fever (Bonus Cd) (Bonus Tracks) - CD',\n",
       " 'Beyond the Horizon [CD & DVD] - CD',\n",
       " 'Last Train To Paris (Deluxe Edition) (Edited) - CD',\n",
       " 'Fantasy Ride (Deluxe Edition) [CD & DVD] - CD',\n",
       " 'Thirty Three & 1/3 [Bonus Tracks] [Remaster] - CD',\n",
       " 'Canon: A Collection - CD',\n",
       " 'Inside In/Inside Out [ECD] - (with Bonus Tracks) - CD',\n",
       " 'Heritage (CD+DVD) (Special) - CD',\n",
       " 'Returners (Deluxe Edition) - CD',\n",
       " \"Pachelbel'S Greatest Hits: Ultimate Canon  - Various - CD\",\n",
       " 'The Definitive Collection [Slimline] - CD',\n",
       " 'Greatest Hits - CD',\n",
       " 'Legendary Classics 1 (Bonus Dvd) - CD',\n",
       " 'Stronger [Deluxe Edition] - CD',\n",
       " \"Doors Box Set (4 Cd'S) - CD\",\n",
       " 'Mountaintops (Jewel Case) (Ocrd) - CD',\n",
       " 'Colour & The Shape (Bonus Tracks) (Remastered) - CD',\n",
       " 'Reggae Gold 2006 [CD/DVD] [CD & DVD] - Various CD+DVD - CD',\n",
       " 'Fire (Bonus Dvd) (Deluxe Edition) (Bril) - CD',\n",
       " 'All Paystyles Volume One [PA] - CD',\n",
       " 'Pennywise [Remaster] - CD',\n",
       " \"Daniel O'Donnell My Story (W/Book) (Box) - CD\",\n",
       " 'Transformer [Expanded... [Limited] [Remaster] - CD',\n",
       " \"Classic Relaxation [Includes Storage Case] - Various Collector's Edition - CD\",\n",
       " 'Greatest Hits (Eco) - CD',\n",
       " 'L.A.X. (Deluxe Edition) [PA] - CD',\n",
       " 'Blueprint 2 : Gift & Curse (Japan) - CD',\n",
       " '2xs - Remastered - CD',\n",
       " 'Original Album Classics - CD',\n",
       " 'Animalize [Remaster] - CD',\n",
       " '42 Ultimate Hits - CD',\n",
       " 'Pink Floyd: Greatest Hits Covered - Various - CD',\n",
       " 'Miami (Limited Edition Slipcase) - CD',\n",
       " 'Sing the Sorrow [UK Bonus Tracks] - CD',\n",
       " \"She's So Unusual [Bonus Tracks] [Remaster] - CD\",\n",
       " 'Sound Of The Smiths: The Very Best Of The Smiths - CD',\n",
       " 'Sigh No More (Deluxe Edition) (Slip) - CD',\n",
       " 'Tha Carter IV (Bonus Tracks) (Deluxe Edition) - CD',\n",
       " 'Wow Hits 2012 - Various - CD',\n",
       " 'Virgin Ubiquity: Remixed - CD',\n",
       " 'Singles Box Set [Remaster] - CD',\n",
       " 'Kansas [Remaster] - CD',\n",
       " 'Greatest Hits - CD',\n",
       " 'You Get What You Give [Bonus Tracks] - CD',\n",
       " 'Nevermind (CD+DVD) (Deluxe Edition) (Box) - CD',\n",
       " 'No Mercy [Deluxe Edition] [PA] - CD',\n",
       " 'Original Album Classics (Box) - CD',\n",
       " 'Live Over Europe 2007 - CD',\n",
       " 'Marc Anthony (Bonus Track) - CD',\n",
       " 'Brighter Days [CD & DVD] - CD',\n",
       " 'Upsides [Bonus Tracks] - CD',\n",
       " 'Promise: Darkness On The Edge Of Town Story (Wbr) - CD',\n",
       " 'Murder Was the Case [Bonus DVD] [PA] - CD',\n",
       " 'The Underdog EP [EP] - CD',\n",
       " 'Songs in A Minor [Deluxe Edition] [CD & DVD] - CD',\n",
       " 'The Infection (Limited Edition) [CD & DVD] - CD',\n",
       " 'Thief & Heartbreaker (EP) - CD',\n",
       " 'King [Deluxe Edition]... [CD & DVD] [Digipak] - CD',\n",
       " 'The Ultimate Collection - CD',\n",
       " 'Now & Zen (Bonus Tracks) (Remastered) - CD',\n",
       " 'Selena [ECD] [Remaster] - (with Bonus Tracks) Limited Edition - CD',\n",
       " 'Lifesong Live [CD & DVD] - CD',\n",
       " 'Monkey Business [International Version] - CD',\n",
       " 'Grit & Grid (Bonus Track) (Japan) - CD',\n",
       " 'Biophilia [Import] [Bonus Track] - CD',\n",
       " 'Final Riot (CD+DVD) - CD',\n",
       " 'Blues Guitar Hero, Vol. 2 - CD',\n",
       " 'Box of the Wicked [Box] - CD',\n",
       " 'Dubstep Allstars, Vol. 4 - CD',\n",
       " 'Genius: The Ultimate Collection - CD',\n",
       " 'Batman and Other Themes - CD',\n",
       " 'Wheels Of Steel (Bonus Tracks) (Remastered) - CD',\n",
       " 'The Beatles: Stereo Box Set [CD & DVD] - CD',\n",
       " 'Artwork (CD+DVD) (Limited Edition) - CD',\n",
       " 'Soul Punk [Deluxe Edition] - CD',\n",
       " 'The Essential Alice in Chains - CD',\n",
       " 'One Life Stand (CD+DVD) (Limited Edition) (Special) - CD',\n",
       " 'Still Not Getting Any (Japan) - CD',\n",
       " 'The Greatest Hits And Remixes [PA] - CD',\n",
       " 'Storm Manifesto [Box] - CD',\n",
       " 'The Stolen Singles - CD',\n",
       " 'Greatest Hits - CD',\n",
       " 'Greatest Hits - CD',\n",
       " 'Diary Of A Madman (Bonus Track) (Remastered) - CD',\n",
       " 'Best of the Geto Boys and Scarface [PA] - CD',\n",
       " 'Trial By Fire (Bonus Track) (Remastered) - CD',\n",
       " 'Ultimate Survivor - CD',\n",
       " 'The Singles Collection [CD & DVD] [Slipcase] - CD',\n",
       " 'Greatest Hits, Vol. 1 [PA] - CD',\n",
       " 'Sticky Fingers (Reissue) (Remastered) - CD',\n",
       " 'The Soft Parade [Bonus Tracks] [Remaster] - CD',\n",
       " 'Live and Rare [EP] - CD',\n",
       " 'Meet The Orphans [Deluxe Edition] [CD & DVD] - CD',\n",
       " 'Led Zeppelin [Box Set] [Box] - CD',\n",
       " 'Mtv Unplugged Los Tigres Del Norte & Friends (Deluxe Edition) - CD',\n",
       " 'F-Letter [Bonus Tracks] [Remaster] - CD',\n",
       " 'Ultra Trance 9 - Various - CD',\n",
       " 'Nuclear Furniture (Japan) (24bt) (Remastered) (Mlps) - CD',\n",
       " 'Mission Impossible - (with Bonus Tracks) - CD',\n",
       " 'Dusk And Summer (Deluxe Edition) - CD',\n",
       " 'With The Music I Die - CD',\n",
       " 'Funk In A Mason Jar (Japan) (Limited Edition) (Remastered) (Shm) - CD',\n",
       " 'Live [Remaster] - CD',\n",
       " 'Rain in Hell [CD & DVD] [EP] - CD',\n",
       " 'World Cafe Live - CD',\n",
       " 'Beginning [Deluxe Edition] - CD',\n",
       " 'Greatest Hits - CD',\n",
       " 'Projector [Deluxe Edition] [Bonus Tracks] - CD',\n",
       " 'The Love EP [EP] - CD',\n",
       " 'Armistice Live [CD & DVD] - CD',\n",
       " 'The Definitive Collection - CD',\n",
       " 'Trance Essentials 2011, Vol. 1 - Various - CD',\n",
       " 'CTI Records: The Cool Revolution - Various Remastered - CD',\n",
       " 'This War Is Ours [CD & DVD] - CD',\n",
       " 'Greatest Hits - CD',\n",
       " 'Final Descent [Remaster] - CD',\n",
       " 'Flash Gordon (Bonus Cd) (Deluxe Edition) - CD',\n",
       " 'Lenses Alien - CD',\n",
       " \"Hairspray (Collector's Edition) [ECD] - CD\",\n",
       " 'Wicked [5th Anniversary Special Edition] - Original Cast Recording Special - CD',\n",
       " 'Piper At The Gates Of Dawn (Reissue) (Remastered) - CD',\n",
       " 'Greatest Hits, Vol. 2 - CD',\n",
       " 'We the Kings [Deluxe Edition] [ECD] - CD',\n",
       " 'Nothing But the Beat [Deluxe Edition] - CD',\n",
       " 'Planetary Chronicles, Vol. 1 - CD',\n",
       " '1.22.03.Acoustic [EP] - CD',\n",
       " 'Grand Funk [Bonus Tracks] [Remaster] - CD',\n",
       " 'Humanoid City Live (CD+DVD) - CD',\n",
       " 'Ghost in the Machine [Remaster] - CD',\n",
       " 'Now, Vol. 37 - Various - CD',\n",
       " 'Bitches Brew Live - CD',\n",
       " 'Dubstep Madness - Various - CD',\n",
       " 'Persona [Deluxe Version] - CD',\n",
       " 'Shadowman [Bonus Tracks] - CD',\n",
       " 'Pursuit of Happiness [Bonus Tracks] - CD',\n",
       " 'Muchas Gracias: Best Of (Remastered) - CD',\n",
       " 'Greatest Hits - CD',\n",
       " 'Resurrection [Deluxe Edition] - CD',\n",
       " 'Bleach (Dlcd) (Remastered) - VINYL',\n",
       " \"Brian Auger's Oblivion Express [Import] - CD\",\n",
       " 'Wish You Were Here [Immersion Edition] [CD & DVD] - CD',\n",
       " 'Alive 2: The Music [PA] - CD',\n",
       " 'Made in Japan - CD',\n",
       " 'Tell Me A Lie (Remastered) - CD',\n",
       " 'Libra Scale [Deluxe Edition] [CD & DVD] [Digipak] - CD',\n",
       " 'Greatest Hits (English) (Remastered) - CD',\n",
       " 'Best Of Scarface - CD',\n",
       " 'Dispatch: Zimbabwe - Live at... [CD & DVD] - CD',\n",
       " 'Very Best Definitive Ultimate Greatest Hits Collec - CD',\n",
       " 'Speak Now (Bonus Tracks) (Japan) (Deluxe Edition) - CD',\n",
       " 'August & Everything After (Bonus Tracks) (Deluxe Edition) - CD',\n",
       " 'Greatest Hits - CD',\n",
       " 'Now, Vol. 24 - Various - CD',\n",
       " 'Wahhahha (Bonus Track) (Japan) - CD',\n",
       " 'The Kink Kontroversy [UK Bonus Tracks] - CD',\n",
       " \"I Won'T Complain (Bonus Dvd) - CD\",\n",
       " '7th Symphony (CD+DVD) (Deluxe Edition) - CD',\n",
       " 'Lost Songs - CD',\n",
       " 'Celtic Football Club: The Official Album - Various - CD',\n",
       " 'Enema of the State [Japan Bonus Tracks] - CD',\n",
       " \"Grey's Anatomy,... [Limited] [Slipcase] - (with Bonus Tracks) - CD\",\n",
       " 'Greatest Hits II - CD',\n",
       " 'Survive, Kaleidoscope [CD & DVD] - CD',\n",
       " 'Genesis [CD & DVD] [Remaster] - CD',\n",
       " 'Out Of Cellar (Japan) (Limited Edition) - CD',\n",
       " 'Led Zeppelin IV [Remaster] - CD',\n",
       " '1969: Velvet Underground Live, Vol. 2 - CD',\n",
       " 'Greatest Hits - CD',\n",
       " 'Papercut Chronicles - CD',\n",
       " 'The Singles Collection [CD & DVD] [Box] - CD',\n",
       " 'Deeper Than Rap (Deluxe Edition) [CD & DVD] [PA] - CD',\n",
       " 'Trevor Rabin (Limited Edition) (Mlps) - CD',\n",
       " 'Cryptic Writings (Bonus Tracks) (Remastered) - CD',\n",
       " 'Haywire [Deluxe Edition] [Bonus Tracks] [Digipak] - CD',\n",
       " 'House of Cards - CD',\n",
       " 'Playlist: The Very Best Of Mudvayne (Remastered) - CD',\n",
       " 'Best Of (Japan) (Remastered) (Shm) - CD',\n",
       " 'Underdog Alma Mater (CD+DVD) (Deluxe Edition) - CD',\n",
       " 'All American Nightmare (Deluxe Edition) (Enhanced) - CD',\n",
       " 'Bound For Glory: Live - CD',\n",
       " 'Hits (Remastered) - CD',\n",
       " 'You Get What You Give (Bonus Tracks) (Deluxe Edition) - CD',\n",
       " 'Damn the Torpedos [Deluxe Edition] - CD',\n",
       " 'Live, Vol. 3 - CD',\n",
       " 'Details [Bonus Track] - CD',\n",
       " 'Disraeli Gears [Remaster] - CD',\n",
       " 'Bootleg 3: Live Around The World (Bril) - CD',\n",
       " 'Before Dawn Heals Us (Bonus Cd) (Japan) - CD',\n",
       " 'Watch The Throne (Bonus Tracks) (Deluxe Edition) - CD',\n",
       " 'Violence as First Nature [Bonus Disc] - CD',\n",
       " 'Wrath of the Rice Cooker - CD',\n",
       " 'Spider-Man: Turn Off the Dark - Various - CD',\n",
       " 'Shaft [Deluxe Edition] [Bonus Track] - CD',\n",
       " 'Live Bullet [Remaster] - CD',\n",
       " 'Here I Am [Deluxe Version] - CD',\n",
       " 'Highway To Hell (Remastered) (Deluxe Edition) - CD',\n",
       " 'Strange Times [Bonus Disc] - CD',\n",
       " 'Ultimate Chillout Classics - Various Box - CD',\n",
       " \"Peter Nero's Greatest Hits - CD\",\n",
       " 'Cole World [Import] [Bonus Track] - CD',\n",
       " 'Greatest Hits, Vol. 2 [ECD] - CD',\n",
       " 'Incubus: Alive at Red Rocks - Cd) / (Dig) - DVD',\n",
       " 'Blast the Speakers, Vol. 2 - Various - CD',\n",
       " 'Carnival of Carnage [Remaster] - CD',\n",
       " 'Dark Side Of The Moon (Immersion Editions) (Remastered) - CD',\n",
       " 'Greensleeves Rhythm Album #26: Hard Drive - Various - CD',\n",
       " 'Doe or Die [15th Anniversary Special Edition] - CD',\n",
       " 'Ultimate Piano Classics - Various Box - CD',\n",
       " 'Born Again [Miracles Edition] - CD',\n",
       " 'Back In Black (Remastered) (Deluxe Edition) - CD',\n",
       " 'Changing of the Seasons [Bonus Track] - CD',\n",
       " 'Greatest Hits [2009] - CD',\n",
       " 'Black Rain (Limited Edition) (Tick) - CD',\n",
       " \"Razor'S Edge (Remastered) (Deluxe Edition) - CD\",\n",
       " 'Unto the Locust [Special Edition] [DVD] [Digipak] - CD',\n",
       " 'Five Special - CD',\n",
       " 'Exclusive: The Forever Edition (CD+DVD) (Snys) - CD',\n",
       " 'The Beatles: Stereo Box Set [CD & DVD] [Box] - CD',\n",
       " 'Gloriana [Bonus Track] - CD',\n",
       " 'Greatest Hits And Remixes... [CD & DVD] - CD',\n",
       " 'Fame (Deluxe Edition) - CD',\n",
       " 'Persuasion [Audiobooks] - CD',\n",
       " 'Dub 56 [Bonus Disc] - CD',\n",
       " 'The Ultimate Hits - CD',\n",
       " 'Dark Side Of The Moon (Reissue) (Remastered) - CD',\n",
       " 'Ultimate Collection (CD+DVD) (Box) (Spkg) - CD',\n",
       " 'Gold: Old School Jams - Various Remastered - CD',\n",
       " 'Evanescence (CD+DVD) (Deluxe Edition) - CD',\n",
       " 'Best Acoustic Album (Bonus Dvd) (Japan) - CD',\n",
       " 'Greatest Hits [1992] - CD',\n",
       " 'Dazzle Ships [Bonus Tracks] - CD',\n",
       " 'Neighborhoods (Deluxe Edition) (Edited) - CD',\n",
       " 'Nevermind (Remastered) - CD',\n",
       " 'Stronger [Import] [Bonus Track] - CD',\n",
       " 'Greatest Hits Exclusive - CD',\n",
       " 'Stronger (Bonus Tracks) (Deluxe Edition) - CD',\n",
       " 'Love Fever - (with Bonus Tracks) - CD',\n",
       " 'Razorblade Suitcase - CD',\n",
       " 'Savage Life 3 [PA] - CD',\n",
       " 'Greatest Hits 2 - CD',\n",
       " 'Wwe: Raw Greatest Hits The Music - Various Japan - CD',\n",
       " 'Staind [Clean Version] - CD',\n",
       " 'Ministry Of Sound: Sound Of Dubstep 2 - Various - CD',\n",
       " 'Take Care [Clean] [Deluxe Edition] - CD',\n",
       " 'Physical Graffiti [Remaster] - CD',\n",
       " 'Various Japan - CD',\n",
       " 'Rust In Peace (Bonus Tracks) (Remastered) - CD',\n",
       " 'Greatest Hits & More - CD',\n",
       " 'Greatest Hits [Remaster] - CD',\n",
       " 'Autobiography [Germany Bonus Track] [DigDownLoad] - CD',\n",
       " 'Lost Dogs: Rarities and B Sides - CD',\n",
       " 'Greatest Hits - CD',\n",
       " 'Welcome To The Morbid Reich (Bonus Tracks) - CD',\n",
       " 'Let It Roll (Remastered) - CD',\n",
       " 'Fever [CD & DVD] - CD',\n",
       " 'Mr Taxi - DVD (with Bonus Tracks) - CD',\n",
       " 'Kim Possible [Bonus Track] [Blister] - Blister Original Soundtrack - CD',\n",
       " 'Pink Friday (Bonus Tracks) (Deluxe Edition) - CD',\n",
       " 'Greatest Hits, Vol. 1 [CD & DVD] [Edited] - CD',\n",
       " 'Momentary Lapse Of Reason (Reissue) (Remastered) - CD',\n",
       " 'Hysteria: Deluxe Edition - CD',\n",
       " 'Addicted to Music [Import] [1 Bonus Track] - CD',\n",
       " 'Greatest Hits - CD',\n",
       " 'Whirlpool (Reissue) - CD',\n",
       " 'Mama Africa [Bonus Tracks] [Remaster] - CD',\n",
       " 'Fruity (Bonus Track) (Japan) (Mlps) - CD',\n",
       " 'Highest Hopes: The Best Of (Bonus Dvd) (Swe) - CD',\n",
       " 'Friends Family Forever (Bonus Tracks) (Reissue) - CD',\n",
       " 'Kamikaze [Bonus Tracks] [PA] - CD',\n",
       " 'My Generation [Import] [Bonus Tracks] - CD',\n",
       " 'Ultimate Collection - CD',\n",
       " 'Flowermouth [Bonus Tracks] - CD',\n",
       " 'The Music of Batman - CD',\n",
       " 'Leathaface Legends Underground 1 - CD',\n",
       " 'Youth (Bonus Tracks) - CD',\n",
       " 'Santana: The Collection -... [Box] - CD',\n",
       " 'Allied Forces (Remastered) - CD',\n",
       " 'Now, Vol. 32 - Various - CD',\n",
       " 'Ultimate Hits (CD+DVD) - CD',\n",
       " 'Ghostbusters [Bonus Track] - (with Bonus Tracks) Remastered - CD',\n",
       " 'Tribute [Remaster] - CD',\n",
       " 'The Best of Aldo Nova: Greatest Hits Series - CD',\n",
       " 'The Essential Weird Al Yankovic - CD',\n",
       " 'DVD (with Bonus Tracks) - CD',\n",
       " 'Celebration [Deluxe Edition] - CD',\n",
       " 'Harry Potter and the Deathly Hallows,... [7/12] - CD',\n",
       " 'Thirty Three & 1/3 (Bonus Tracks) (Rmst) - CD',\n",
       " 'More Than You Think You Are (Bonus Track) (Japan) - CD',\n",
       " 'Kings Of Damnation: Era 1998-2004 (W/Cdrom) (Reissue) - CD',\n",
       " 'This Is Crucial Reggae - CD',\n",
       " 'Elite Hotel [Bonus Tracks] [Remaster] - CD',\n",
       " 'Ultra Dance 12 - Various - CD',\n",
       " 'Song Remains The Same (English) (Limited Edition) (Mlps) - CD',\n",
       " 'Chicago Transit Authority (Remastered) - CD',\n",
       " 'Ultimate Collection - CD',\n",
       " 'Radioactive (Bonus Tracks) (Deluxe Edition) - CD',\n",
       " 'Implosion (Bonus Tracks) (Remastered) - CD',\n",
       " 'Trilogy of Fantasy: Lord of the Rings - Various - CD',\n",
       " 'Gish [Deluxe Edition CD/DVD] [CD & DVD] [Box] - CD',\n",
       " \"AC/DC Live [Collector's... [Hyper CD] [Remaster] - CD\",\n",
       " 'Inquisition Symphony - CD',\n",
       " 'Pac-Man Fever - CD',\n",
       " 'Head Games [Bonus Track] [Remaster] - CD',\n",
       " 'Check Your Head [Remastered Edition] [PA] - CD',\n",
       " 'Best Of: Platinum Series - CD',\n",
       " 'Airborne Toxic Event [Bonus Tracks] - CD',\n",
       " 'Greatest Hits [Bonus Tracks] - CD',\n",
       " 'Best of Judas Priest [JVC Japan] - CD',\n",
       " 'Exclusive (Deluxe Edition) [CD & DVD] - CD',\n",
       " \"I'm the Man [Bonus Track] [Remaster] - CD\",\n",
       " 'Legend [Deluxe Edition] - CD',\n",
       " 'Niggaz4life [Bonus Tracks] [PA] [Remaster] - CD',\n",
       " 'Lost: The Final Season - CD',\n",
       " 'Face Off (Deluxe Edition) [CD & DVD] - CD',\n",
       " 'Magic Of The Blue (Remastered & Expanded) - CD',\n",
       " 'Innervisions [Remaster] - CD',\n",
       " 'Metal Health [Bonus Tracks] [Remaster] - CD',\n",
       " 'Greatest Hits, Vol. 1 [Bonus CD] - CD',\n",
       " 'Essential Tops - CD',\n",
       " 'Playlist: The Very Best Of Ace Of Base (Remastered) - CD',\n",
       " 'Prince of Darkness [Box] - CD',\n",
       " 'Greatest Hits - CD',\n",
       " 'Cold Day Memory (CD+DVD) (Limited Edition) - CD',\n",
       " 'Superman: Doomsday - O.S.T. - CD',\n",
       " 'Before The Dawn Heals Us (Bonus Cd) - VINYL',\n",
       " 'Double Vision [Bonus Tracks] [Remaster] - CD',\n",
       " 'At Last! [Remaster] - CD',\n",
       " 'Savage Life 2 [PA] - CD',\n",
       " 'This Is Christmas (Remastered) (Rpkg) - CD',\n",
       " 'For the Heathers [Single] - CD',\n",
       " 'Sigh No More [Deluxe Edition] [CD & DVD] - CD',\n",
       " 'Song Remains the Same... [Remaster] - CD',\n",
       " 'Beyond Hell/Above Heaven [ECD] - Deluxe Edition CD+DVD - CD',\n",
       " 'Greatest Hits - CD',\n",
       " 'Keep The Faith: Special Edition (Bonus Tracks) - CD',\n",
       " 'Dreams in the Witch House: The... [Remaster] - CD',\n",
       " 'Women and Children First [Cassette] [Remaster] - CD',\n",
       " 'License to Chill - CD',\n",
       " 'The Criminal Minds - CD',\n",
       " 'Blizzard Of Ozz (Remastered) - CD',\n",
       " 'At Folsom Prison [Remaster] - CD',\n",
       " 'Original Me (Bonus Cd) (Bonus Tracks) - CD',\n",
       " 'Organ Works (Box) - CD',\n",
       " '25 Years (CD+DVD) - CD',\n",
       " 'First Glance/Harder...Faster [Import] [Remaster] - Remastered English - CD',\n",
       " 'Tuner Maxx: Twin Turbo Bass 4 - Various - CD',\n",
       " 'Close to the Edge [Bonus Tracks] [Remaster] - CD',\n",
       " 'Atom Heart Mother (Reissue) (Remastered) - CD',\n",
       " 'Best: The Greatest Hits Of S-Club-7 (Bonus Tracks) - CD',\n",
       " 'Nothing (Bonus Track) (Japan) - CD',\n",
       " 'Jewel: The Essential Live Songbook - Widescreen AC3 Dts - Blu-ray Disc',\n",
       " 'New Jack City 2 (CD+DVD) (Deluxe Edition) (Snyp) - CD',\n",
       " 'Danger Days: True Lives Of (Bonus Tracks) (Japan) - CD',\n",
       " 'Together - CD (with Bonus Tracks) - CD',\n",
       " 'Singles Collection (Bonus Dvd) - CD',\n",
       " 'Come Get It: The Very Best... [Remaster] - CD',\n",
       " \"3 CD Collector's Set [Box] - CD\",\n",
       " 'Final Cut (Reissue) (Remastered) - CD',\n",
       " 'Forgotten Freshness, Vol. 4 [PA] - CD',\n",
       " 'Four the Record [Deluxe Edition] [DVD] - CD',\n",
       " 'Come Around Sundown (Deluxe Edition) - CD',\n",
       " 'Soca Gold 2011 [DVD] - DVD Various (with Bonus Tracks) - CD',\n",
       " 'Early Stages: Official Bootleg Box Set 1982-1987 - CD',\n",
       " 'Vault, Vol. 2 - CD',\n",
       " 'Vol. I - CD',\n",
       " 'Homesick [Special Deluxe Edition] [CD & DVD] - CD',\n",
       " 'Tierra Firme [Deluxe Edition] [ECD] - CD',\n",
       " 'Breakaway (Bonus Track) (Japan) - CD',\n",
       " 'My Life II: The Journey Continues (Act 1) (Deluxe Edition) - CD',\n",
       " 'Opheliac [Deluxe] - CD',\n",
       " 'Loud (Bonus Track) (Japan) - CD',\n",
       " 'Doo Wops & Hooligans [Bonus Tracks] - CD',\n",
       " 'Come and See Us as We Are! [Bonus Tracks] - CD',\n",
       " 'Notorious (CD+DVD) (Bonus Cd) (Limited Edition) - CD',\n",
       " 'The Black Godfather - CD',\n",
       " 'Wraith: Remix Albums - CD',\n",
       " 'Best of Red Hot Chili Peppers [Collectables] - CD',\n",
       " \"That's What I Am Here For/Rescue Me - Remastered - CD\",\n",
       " 'Just Love (CD+DVD) (Deluxe Edition) - CD',\n",
       " 'Life In The Word (CD+DVD) (Bril) - CD',\n",
       " 'Beyond The Sun (Deluxe Edition) - CD',\n",
       " 'No More Tears [Bonus Tracks] [Remaster] - CD',\n",
       " 'Bullets in the Gun [Deluxe Edition] - CD',\n",
       " 'Paper Planes: Homeland Security Remixes (X5) - CD',\n",
       " 'Weezer (Green Album) [UK Bonus Track] - CD',\n",
       " 'Greatest Hits Live - CD',\n",
       " 'Fever Ray (CD+DVD) (Deluxe Edition) - CD',\n",
       " \"5 Years Of Fireworks'; [CD & DVD] - CD\",\n",
       " 'The Definitive Collection - CD',\n",
       " 'Danzig (Reissue) - CD',\n",
       " 'Sliver: The Best of the Box - CD',\n",
       " 'Innerspeaker (Limited Edition) (Deluxe Edition) - CD',\n",
       " 'Blind Faith (Remastered) - CD',\n",
       " 'Box Set [Import] [17 CD] - CD',\n",
       " 'The Dark Saga [Mini LP Reissue] - CD',\n",
       " 'Beautiful Tragedy (Bonus Tracks) (Enhanced) - CD',\n",
       " '80s Revolution: Disco Fox, Vol. 2 - Various - CD',\n",
       " 'Platinum Collection (Eng) - CD',\n",
       " 'The Poison [CD & DVD] - CD',\n",
       " 'One-X Special Edition (Bonus Cd) (Bonus Track) - CD',\n",
       " 'The Collection [Box Set] [Box] [Limited] - CD',\n",
       " 'Piece of Mind [Remaster] - CD',\n",
       " 'Hemispheres [Remaster] - CD',\n",
       " 'Greatest Hits - CD',\n",
       " 'Back to Black [Deluxe Edition] [PA] - CD',\n",
       " 'Greatest Hits of Maze Featuring Frankie... - CD',\n",
       " 'Mudvayne (Limited Edition) - CD',\n",
       " 'Bad [Bonus Tracks] [Remaster] - CD',\n",
       " 'Pink Friday (Deluxe Edition) (Edited) - CD',\n",
       " 'Songs from the Wood [Bonus Tracks] [Remaster] - CD',\n",
       " 'Iron Fist (Deluxe Edition) [Remaster] - CD',\n",
       " 'Achtung Baby (Remastered) - CD',\n",
       " 'Shipwreck In the Sand (Deluxe Edition) [CD & DVD] - CD',\n",
       " 'Greatest Hits - CD',\n",
       " \"Collector'S Box (Box) - CD\",\n",
       " 'The Singles - CD',\n",
       " 'Radiohead Box Set [Box] [Limited] - CD',\n",
       " 'Hell: The Sequel (EP) - CD',\n",
       " 'Platinum Collection (English) (Remastered) - CD',\n",
       " 'Led Zeppelin II [Remaster] - CD',\n",
       " 'Houses Of The Holy (Limited Edition Mini LP... - CD',\n",
       " 'Greatest Hits - CD',\n",
       " 'Greatest Hits [Bonus Track] - CD',\n",
       " 'Opus Eponymous [Slipcase] - CD',\n",
       " 'B In The Mix: The Remixes - CD',\n",
       " 'Countdown to Extinction [Bonus Tracks] [PA] - CD',\n",
       " 'Fallen (Bonus Cd) (Bonus Track) (Japan) (Enhanced) - CD',\n",
       " 'Pearl [Remaster] - CD',\n",
       " 'Complete Greatest Hits - CD',\n",
       " 'Surtur Rising (CD+DVD) - CD',\n",
       " '1992-2002 (Japan) - CD',\n",
       " 'Greatest Hits, Vol. 2 [ECD] - CD',\n",
       " 'One More Love (Bonus Cd) (Bonus Tracks) - CD',\n",
       " 'Echoes: The Best of Pink Floyd [Remaster] - CD',\n",
       " 'Tapestry [ECD] [Remaster] - CD',\n",
       " 'Infinite Soul: The Best of... [Slipcase] - CD',\n",
       " 'Blue Slide Park [Clean Version] - CD',\n",
       " 'Closer To It! Deluxe Edition - CD',\n",
       " 'The Essential Kingston Trio [Remaster] - CD',\n",
       " 'Light The Fire (Bonus Track) (Japan) - CD',\n",
       " 'Disc One: All Their Greatest Hits (1991-2001) - CD',\n",
       " 'Kingfish [Remaster] - CD',\n",
       " 'Brain Salad Surgery (Bonus Track) (Remastered) - CD',\n",
       " 'Weezer (The Red Album) Deluxe Edition - CD',\n",
       " 'Greatest Hits: Limited Edition [Box] - CD',\n",
       " 'Chronicles: Death Row Classics [PA] - CD',\n",
       " 'All World: Greatest Hits [PA] - CD',\n",
       " 'Yellow Submarine (Limited Edition) (Remastered) (Enhanced) - CD',\n",
       " 'Hannah Montana: Hits Remixed - CD',\n",
       " 'Haste The Day Vs Haste The Day Live (CD+DVD) - CD',\n",
       " 'Volkerball: Bildband (Limited Edition) - CD',\n",
       " 'Animal + Cannibal (Deluxe Edition) - CD',\n",
       " 'The Greatest Hits [BMG/RCA] - CD',\n",
       " 'Achtung Baby (CD+DVD) (Wlp) (Deluxe Edition) (Box) - CD',\n",
       " 'Greatest Hits 3 - CD',\n",
       " 'On Frail Wings of Vanity and Wax [Bonus Tracks] - CD',\n",
       " 'Best Of 00-10 (Deluxe Edition) - CD',\n",
       " 'Greatest Hits [Sony] - CD',\n",
       " 'Diary Of A Madman (Picture Disc) (Remastered) (Pict) - VINYL',\n",
       " '90125 [Bonus Tracks] [Remaster] - CD',\n",
       " 'The Dutchess [Australia Bonus Tracks] [PA] - CD',\n",
       " 'Live, Vol. 2 [ECD] - CD',\n",
       " ...]"
      ]
     },
     "execution_count": 75,
     "metadata": {},
     "output_type": "execute_result"
    }
   ],
   "source": [
    "clusters[1]  #useful for spot checking clusters to ensure items inside are homogenous"
   ]
  },
  {
   "cell_type": "code",
   "execution_count": null,
   "id": "bee3bcc7",
   "metadata": {},
   "outputs": [
    {
     "name": "stdout",
     "output_type": "stream",
     "text": [
      "{ cluster: 0, top_words: ['CD', 'de', 'DVD', 'La', 'El', 'Various', 'Exitos', 'De', 'Los', 'Grandes', '[CD', 'DVD]', 'Vol.', 'En', 'el', 'Amor', 'Vivo', '[ECD]', 'del', 'Latin']}\n",
      "{ cluster: 1, top_words: ['CD', 'Edition)', 'Greatest', '[Remaster]', '(Bonus', 'Hits', '[Bonus', '(Deluxe', 'Tracks]', 'Tracks)', '(Remastered)', 'Edition]', 'Various', 'DVD]', '[CD', '[Deluxe', 'Vol.', '[PA]', 'Collection', '(CD+DVD)']}\n",
      "{ cluster: 2, top_words: ['Widescreen', 'Subtitle', 'DVD', 'Dubbed', 'Blu-ray', 'Disc', 'Fullscreen', 'Special', \"Collector's\", 'Dolby', 'Dts', 'Disc)', 'B&W', 'Movie', 'Last', 'Dead', 'Anniversary', 'Kid', '2:', \"Director's\"]}\n",
      "{ cluster: 3, top_words: ['Ft.', 'Cu.', 'Refrigerator', 'Water', 'Thru-the-Door', 'Ice', 'Stainless-Steel', 'French', 'Door', 'Side-by-Side', 'White', 'Frigidaire', 'Black', 'Whirlpool', 'GE', 'Samsung', 'LG', 'Freezer', 'Top-Mount', 'Compact']}\n",
      "{ cluster: 4, top_words: ['HDTV', 'Class', '1080p', '60Hz', 'LED', 'LCD', '720p', '3D', '120Hz', 'Samsung', 'Smart', 'Plasma', '600Hz', 'Refurbished', '32\"', '46\"', 'LG', 'Toshiba', 'Panasonic', 'Sony']}\n",
      "{ cluster: 5, top_words: ['Speaker', '2-Way', '(Each)', '(Pair)', 'Speakers', 'System', 'Black', '6-1/2\"', 'Bookshelf', 'White', 'Audio', '5-1/4\"', 'Bowers', 'Wilkins', 'Center-Channel', 'Series', 'Bose&#xAE;', 'Home', 'Floor', '3-Way']}\n",
      "{ cluster: 6, top_words: ['DVD', 'Discs]', 'Box', 'Disc)', 'Complete', 'Season', 'Subtitle', '[2', 'Series', 'Uncut', 'Disc', 'Collection', '(2', 'Vol.', 'Blu-ray', 'Dubbed', '[3', 'Dragon', 'Part', 'Fullscreen']}\n",
      "{ cluster: 7, top_words: ['Apple&#xAE;', 'Case', 'iPod&#xAE;', 'touch', 'Black', 'iPhone&#xAE;', '4th-Generation', 'iPad&#xAE;', 'Tribeca', 'Hard', 'Shell', 'Griffin', 'Technology', 'Belkin', 'Pink', 'Incase', 'White', 'iPad&#x2122;', 'Riot', 'Outfitters']}\n",
      "{ cluster: 8, top_words: ['Memory', 'Processor', 'Drive', 'Hard', 'Intel&#xAE;', 'Laptop', 'Display', '4GB', 'Core&#x2122;', 'HP', '15.6\"', 'AMD', 'Desktop', 'Black', '500GB', 'Pavilion', '6GB', '1TB', 'II', 'i5']}\n",
      "{ cluster: 9, top_words: ['Headset', 'Bluetooth', 'Wireless', 'Plantronics', 'Gaming', 'Black', 'Microphone', 'System', 'Stereo', 'Xbox', '360', 'Turtle', 'Beach', 'Ear', 'Sennheiser', 'Force', 'Jawbone', 'Logitech', 'PlayStation', 'USB']}\n",
      "{ cluster: 10, top_words: ['Battery', 'Lithium-Ion', 'Select', 'Lenmar', 'Digital', 'Cameras', 'Rechargeable', 'Energizer', 'DigiPower', 'Canon', 'Camcorders', 'Batteries', 'NiMH', 'Nikon', 'Panasonic', 'System', 'Back-Up', 'Pack', 'Duracell', 'Sony']}\n",
      "{ cluster: 11, top_words: ['CD', '[Digipak]', '[PA]', '[CD', 'DVD]', '[ECD]', '20th', 'Century', '[Deluxe', 'Masters', 'Live', 'Best', '[Bonus', 'You', 'on', 'The...', 'Edition]', 'Is', 'Various', 'Love']}\n",
      "{ cluster: 12, top_words: ['Kit', 'Black', 'Electronic', 'CD', 'System', 'Huffy', 'Game', 'Bicycle', 'Sports', 'Technology', 'Lock', 'Directed', 'Electronics', 'Franklin', 'Digital', 'Translator', 'La', 'Crosse', 'Brother', 'Select']}\n",
      "{ cluster: 13, top_words: ['Cartridge', 'Printer', 'Ink', 'HP', 'Black', 'Brother', 'Wireless', 'Network-Ready', 'Epson', 'Photo', 'Canon', 'All-In-One', 'Paper', 'Inkjet', 'Laser', 'Lexmark', 'Color', 'Pack', 'Print', 'All-in-One']}\n",
      "{ cluster: 14, top_words: ['DVD', 'Widescreen', 'Discs]', '[2', 'Fullscreen', 'Blu-ray', 'Disc', \"Collector's\", 'Collection', 'Subtitle', 'Special', 'Dubbed', 'Disc)', 'B&W', 'Movie', '(2', 'Film', 'Complete', 'AC3', '[3']}\n",
      "{ cluster: 15, top_words: ['Home', 'Theater', '3D', 'Player', 'Receiver', 'Blu-ray', 'A/V', 'DVD', 'System', 'Samsung', '5.1-Ch.', 'Refurbished', 'Wi-Fi', 'Pass', 'Through', 'Portable', '7.1-Ch.', 'Sony', 'Projector', 'Philips']}\n",
      "{ cluster: 16, top_words: ['Microphone', 'Audio', 'USB', 'Digital', 'Mixer', 'Behringer', 'DJ', 'System', 'Recorder', 'Controller', 'Software', 'M-Audio', 'Interface', 'Black', 'Studio', 'Voice', 'Recording', 'Numark', 'MIDI', 'Sound']}\n",
      "{ cluster: 17, top_words: ['Headphones', 'Earbud', 'Black', 'Over-the-Ear', 'Skullcandy', 'Sony', 'White', 'Stereo', 'Beats', 'Bud', 'Ear', 'JVC', 'Dr.', 'Dre', 'Blue', 'By', 'Sennheiser', 'Philips', 'Headset', 'Red']}\n",
      "{ cluster: 18, top_words: ['Cu.', 'Ft.', 'White', 'Dryer', 'Washer', 'Capacity', 'Electric', 'Whirlpool', 'Gas', 'Steam', 'LG', 'GE', '9-Cycle', 'Samsung', 'High-Efficiency', '7.4', 'Maytag', '7.3', 'Ultra', '13-Cycle']}\n",
      "{ cluster: 19, top_words: ['Mobile', 'Phone', 'Black', '(Unlocked)', 'Samsung', 'No-Contract', '(AT&T)', '(Sprint)', '(Verizon', 'Wireless)', 'LG', 'BlackBerry', 'HTC', 'Prepaid', '4G', 'Card', 'Wireless', '(T-Mobile)', 'Memory', 'Apple&#xAE;']}\n",
      "{ cluster: 20, top_words: ['Black', 'Watch', \"Men's\", 'Digital', 'Sports', 'Red', 'Clock', 'Casio', 'Eyewear', 'Heart', 'Gunnar', 'Rate', 'Sport', 'Silver', 'Monitor', 'Blue', 'Team', 'T-Shirt', 'Fabrique', 'Innovations']}\n",
      "{ cluster: 21, top_words: ['Widescreen', 'DVD', 'Blu-ray', 'Disc', 'Fullscreen', 'Dubbed', 'Special', 'AC3', 'Dead', 'Last', \"Director's\", \"Collector's\", 'Man', 'Love', 'You', 'Pan', 'Scan', 'Discs]', 'Dolby', 'Subtitle']}\n",
      "{ cluster: 22, top_words: ['30\"', 'Range', 'Stainless-Steel', 'Self-Cleaning', 'Freestanding', 'Electric', 'Convection', 'Gas', 'GE', 'Oven', 'Double', 'Built-In', 'Frigidaire', 'Whirlpool', 'Slide-In', 'KitchenAid', 'Profile', 'Cooktop', 'Wall', '36\"']}\n",
      "{ cluster: 23, top_words: ['Windows', 'Mac/Windows', 'Edition', 'Sims', 'Game', 'War', \"Collector's\", 'Pack', 'World', 'II', 'II:', 'Limited', 'Call', 'Collection', '3:', 'Warcraft:', 'Elder', 'Scrolls', 'Nancy', 'Home']}\n",
      "{ cluster: 24, top_words: ['Adapter', 'USB', 'StarTech.com', 'Video', 'Apple&#xAE;', '2-Port', '2.0', 'Card', '4-Port', 'Belkin', 'Hub', 'Dock', 'Mini', 'IOGEAR', 'Cable', 'PCI', 'Samsung', 'Converter', 'Technology', 'Wireless']}\n",
      "{ cluster: 25, top_words: ['Dishwasher', '24\"', 'Built-In', 'Tall', 'Tub', 'Stainless-Steel', 'Black', 'White', 'GE', 'Bosch', 'Whirlpool', 'KitchenAid', 'Series', 'Frigidaire', 'Evolution', 'Maytag', 'Ascenta', '18\"', 'Integra', 'Built-in']}\n",
      "{ cluster: 26, top_words: ['(Pair)', 'Cones', 'Speakers', 'Car', 'Polypropylene', '2-Way', '6\"', '6-1/2\"', 'Woofer', 'Coaxial', '3-Way', '9\"', '5-1/4\"', 'Pioneer', '4\"', 'Marine', 'Infinity', 'JBL', 'Kenwood', 'Kicker']}\n",
      "{ cluster: 27, top_words: ['Drive', 'USB', 'Hard', 'External', '2.0', 'Flash', 'Black', 'Western', 'Digital', 'Internal', 'Portable', 'Serial', 'ATA', 'Seagate', '1TB', 'My', '500GB', 'State', 'Solid', '2TB']}\n",
      "{ cluster: 28, top_words: ['Kit', 'Vehicles', 'Installation', 'Metra', 'Black', 'Select', 'Scosche', 'Toyota', 'or', 'Radio', 'Dash', 'DIN', 'Pocket', 'Later', '2008', 'Nissan', 'Honda', 'Ford', 'Double-DIN', 'Aftermarket']}\n",
      "{ cluster: 29, top_words: ['Cable', 'Monster', 'AudioQuest', 'HDMI', 'Black', 'Audio', 'Speaker', 'Technology', 'RCA', 'White', \"6'\", 'Hosa', 'A/V', 'Belkin', \"10'\", 'Video', \"6.6'\", 'Cord', \"3.3'\", 'Extension']}\n",
      "{ cluster: 30, top_words: ['CD', '[PA]', '[ECD]', '[Digipak]', 'Vol.', 'II', 'Pt.', 'CD]', '[EP]', 'Best', '[Hyper', 'Various', 'from', '[Limited]', 'Time', '[Edited]', '[DualDisc]', 'IV', 'Triple', 'Feature']}\n",
      "{ cluster: 31, top_words: ['CD', 'Various', 'Best', 'Love', 'My', 'Life', 'Live', '[PA]', '[Slipcase]', '[ECD]', 'Hits', '[EP]', 'Night', 'New', 'World', 'Soul', 'Christmas', 'On', 'Black', 'From']}\n",
      "{ cluster: 32, top_words: ['Subtitle', 'AC3', 'DVD', 'Widescreen', 'Dubbed', 'Fullscreen', 'Dolby', 'Blu-ray', 'Disc', 'Man', 'Anniversary', 'Up', \"Director's\", 'New', 'Me', 'Twilight', 'Black', 'II', 'Special', 'You']}\n",
      "{ cluster: 33, top_words: ['Razor', 'Black', 'Philips', 'Conair', 'Norelco', 'Electric', 'Rechargeable', 'Scooter', 'Hair', 'Ceramic', 'Remington', 'Iron', 'Pro', 'Trimmer', 'Replacement', 'Braun', 'Toothbrush', 'White', 'Shaver', 'Air']}\n",
      "{ cluster: 34, top_words: ['Guitar', 'Electric', '6-String', 'Full-Size', 'Black', 'Acoustic', 'Guitars', 'Fender&#xAE;', 'Natural', 'Strings', 'Bass', 'Schecter', 'Acoustic/Electric', 'Cordoba', 'Series', 'Pedal', '4-String', 'Nylon', 'Strap', 'String']}\n",
      "{ cluster: 35, top_words: ['AC3', 'Subtitle', 'Widescreen', 'Blu-ray', 'Disc', 'Dubbed', 'DVD', 'Disc)', '(2', 'Dolby', 'Discs]', 'Man', '(W/Dvd)', \"Director's\", 'Fullscreen', 'Day', 'Last', 'Trilogy', 'Dts', 'Part']}\n",
      "{ cluster: 36, top_words: ['ZAGG', 'InvisibleSHIELD', 'Mobile', 'Phones', 'Clear', 'Protector', 'Screen', 'Samsung', 'HTC', 'Apple&#xAE;', 'Tablets', 'Motorola', 'Galaxy', 'iPad&#xAE;', 'LG', 'Belkin', 'iPhone&#xAE;', 'Maximum', 'Surface', 'BlackBerry']}\n",
      "{ cluster: 37, top_words: ['DVD', 'Discs]', 'Disc)', 'Collection', '[2', 'Complete', 'Widescreen', 'Series', 'Vol.', '(2', 'Box', 'Disc', 'Blu-ray', '[3', 'Fullscreen', 'Special', 'Subtitle', \"Collector's\", '[4', 'Ultimate']}\n",
      "{ cluster: 38, top_words: ['DVD', 'Disc', 'Spindle', 'CD', 'Case', 'Memorex', 'Verbatim', 'DVD&#xB1;RW/CD-RW', 'Drive', '16x', 'Logic', 'Double-Layer', 'CD/DVD', 'Black', 'External', 'DVD+R', 'Sony', 'Blu-ray', '8x', '50-Pack']}\n",
      "{ cluster: 39, top_words: ['Fan', 'Air', 'BTU', 'White', 'Conditioner', 'Frigidaire', 'Cooler', 'Cooling', 'Window', 'Lasko', 'Antec', 'Heater', 'Master', 'CPU', 'Black', 'Tower', 'Laptop', '120mm', 'Portable', 'Honeywell']}\n",
      "{ cluster: 40, top_words: ['Subwoofer', '10\"', 'Enclosure', '4-Ohm', '12\"', 'Single-Voice-Coil', 'Dual-Voice-Coil', 'Kicker', 'Atrend', 'Dual', 'Powered', 'Sealed', 'Charcoal', 'Audio', 'Single', 'Series', '8\"', 'Ported', 'Black', '2-Ohm']}\n",
      "{ cluster: 41, top_words: ['Mouse', 'Wireless', 'Keyboard', 'Black', 'Logitech', 'Gaming', 'Optical', 'Microsoft', 'Razer', 'Pad', 'Keys', 'Mobile', 'Laser', 'Remote', 'Keyscaper', 'Portable', 'Controller', 'Casio', 'Edition', 'Full-Size']}\n",
      "{ cluster: 42, top_words: ['Card', 'PCI', 'Graphics', 'Express', 'ATX', '1GB', 'GeForce', 'GDDR5', 'Power', '2.0', 'Supply', 'Motherboard', '(Socket', 'Cooler', 'Radeon', 'HD', 'GTX', 'Master', 'NVIDIA', 'Series']}\n",
      "{ cluster: 43, top_words: ['DVD', 'Workout', 'Yoga', 'Pro-Form', 'Treadmill', 'Fitness', 'GoFit', 'Body', 'Exercise', 'Jillian', 'Fullscreen', 'Pilates', 'Weight', 'Elliptical', 'Power', 'Heart', 'Ultimate', 'Trainer', 'Dance', 'Fat']}\n",
      "{ cluster: 44, top_words: ['Stainless-Steel', 'Black', 'KitchenAid', 'Cuisinart', 'Maker', 'White', 'Coffeemaker', 'Cooker', 'Food', 'Stand', 'Mixer', 'Coffee', 'Series', 'Blender', 'Pro', 'Silver', 'Espresso', 'Keurig', '12-Cup', 'Hamilton']}\n",
      "{ cluster: 45, top_words: ['Blu-ray', 'Disc', 'Widescreen', '3D', 'Disc)', '(2', 'Discs]', 'Dubbed', 'Harry', '[2', 'Special', 'DVD', 'Discs', '[Blu-ray]', 'Potter', 'Pirates', 'Complete', 'Trilogy', 'Subtitle', 'Series']}\n",
      "{ cluster: 46, top_words: ['Memory', 'Desktop', 'DDR2', 'DIMM', '2GB', 'DDR3', 'Kit', 'Laptop', 'SoDIMM', '2-Pack', '4GB', '1GB', 'Technology', 'Corsair', 'PC2-6400', 'PC2-5300', 'ValueRAM', 'Crucial', 'Kingston', 'Master']}\n",
      "{ cluster: 47, top_words: ['DVD', 'Discs]', 'Fullscreen', 'Subtitle', 'Widescreen', 'Vol.', '[3', 'Best', '[2', 'Dolby', 'Complete', 'Collection', 'Comedy', 'AC3', 'Tyler', 'Dubbed', 'Disc)', 'Family', 'Show:', 'Season']}\n",
      "{ cluster: 48, top_words: ['Player', 'MP3', 'Black', 'Apple&#xAE;', 'Memory', '4GB*', 'Tablet', 'iPod', '8GB*', 'Sony', 'White', 'Generation', 'Latest', 'Model)', '16GB', 'SanDisk', 'Video', 'Wi-Fi', 'Coby', 'Samsung']}\n",
      "{ cluster: 49, top_words: ['PlayStation', 'Xbox', 'PSP', 'Edition', '360', 'Guide)', '(Game', 'Hits', 'Greatest', '3,', 'Nintendo', 'Game', 'Call', 'Sony', 'Bundle', '360,', 'Duty:', \"Collector's\", 'War', 'Controller']}\n",
      "{ cluster: 50, top_words: ['Windows', 'Adobe', 'Mac', 'Mac/Windows', 'Upgrade', 'Suite', 'Version', 'Creative', '5.5', 'Pro', 'CS5.5', 'Edition', 'Photoshop', 'Stone', 'Level', 'Studio', 'Rosetta', '4:', 'Premium', 'Student']}\n",
      "{ cluster: 51, top_words: ['System', 'Camera', 'Digital', 'Wireless', 'Surveillance', 'Lorex', 'Tripod', 'Monitor', 'Remote', 'Security', 'Mount', 'Webcam', 'Series', 'Celestron', 'Kit', 'Scanner', 'Sunpak', 'Detector', 'Niles', 'Pressure']}\n",
      "{ cluster: 52, top_words: ['Light', 'Lighting', 'LED', 'Black', 'Chauvet', 'American', 'DJ', 'Optoma', 'Lamp', 'Solar', 'Mirror', 'Smart', 'Energizer', 'White', 'Select', 'Strobe', 'Silver', 'Projectors', 'Laser', 'Zadro']}\n",
      "{ cluster: 53, top_words: ['Nintendo', 'Wii', 'DSi', '3DS', 'DS', 'Game', 'Kit', 'Pack', 'Bundle', 'dreamGEAR', 'Case', 'Starter', 'Card', 'XL', 'Black', 'LEGO', 'LeapFrog', 'POWER', 'Sports', 'Edition']}\n",
      "{ cluster: 54, top_words: ['Lens', 'Cameras', 'Nikon', 'Canon', 'Digital', 'SLR', 'Zoom', 'Filter', 'Tiffen', 'Sony', 'Telephoto', 'Select', 'Nikkor', 'USM', 'AF-S', 'DX', 'EF', 'Alpha', 'ED', 'f/2.8']}\n",
      "{ cluster: 55, top_words: ['CD', 'Best', 'Various', 'Vol.', 'Hits', 'Greatest', '[PA]', 'Very', 'Songs', 'Live', 'Collection', '20th', 'Century', 'Tribute', 'Music', 'Essential', '[Box]', '[CD', 'DVD]', 'Love']}\n",
      "{ cluster: 56, top_words: ['System', 'Phone', 'DECT', '6.0', 'Cordless', 'Expandable', 'Digital', 'Answering', 'Panasonic', 'Corded', 'AT&T', 'Handset', 'Expansion', 'Speakerphone', 'Systems', 'Caller', 'VTech', 'ID', 'Uniden', 'Select']}\n",
      "{ cluster: 57, top_words: ['DVD', 'Discs]', 'Subtitle', '[2', 'Widescreen', 'Blu-ray', 'Disc', 'Fullscreen', 'Sub', 'You', 'My', 'Girl', '(Ws', 'Man', 'Dub', 'Dol)', 'Girls', 'CD', 'Is', 'Special']}\n",
      "{ cluster: 58, top_words: ['Cleaner', 'Steam', 'BISSELL', 'Cleaning', 'Kit', 'Screen', 'Mop', 'Hoover', 'Blue', 'Clean', 'Monster', 'Digital', 'Lens', 'Pet', 'Handheld', 'White', 'SodaStream', 'Upright', 'Deep', 'BACtrack']}\n",
      "{ cluster: 59, top_words: ['DVD', 'Season', 'Discs]', 'Complete', '[4', '[3', 'First', 'Fullscreen', '[6', '[2', 'Second', 'One', 'Widescreen', 'Disc)', '[5', 'Seasons', 'Series', 'Third', 'Blu-ray', 'Disc']}\n",
      "{ cluster: 60, top_words: ['Black', 'Stand', 'Drum', 'Microphone', 'On-Stage', 'Speaker', 'Cymbal', 'Pedal', 'Series', 'Sound', 'Drumsticks', 'Wood', 'Keyboard', 'Most', 'Turntable', '(Pair)', 'Zildjian', 'Ultimate', 'Support', 'Mount']}\n",
      "{ cluster: 61, top_words: ['CD', '[CD', 'DVD]', '[PA]', '[Digipak]', 'Icon', '[Import]', 'Live', '[Box]', '(CD+DVD)', '[ECD]', 'It', 'Various', 'On', '[Remaster]', 'Home', 'Collection', '[CD/DVD]', '[Slipcase]', 'Box']}\n",
      "{ cluster: 62, top_words: ['Charger', 'Power', 'Adapter', 'Apple&#xAE;', 'AC', 'USB', 'Black', 'Travel', 'Charging', 'Battery', 'iPhone&#xAE;', 'DigiPower', 'iPod&#xAE;', 'Select', 'Inverter', 'Mobile', 'Sony', 'Vehicle', 'Most', 'Phones']}\n",
      "{ cluster: 63, top_words: ['GPS', 'Garmin', 'n&#xFC;vi', 'TomTom', 'DVD', 'Mount', 'Black', 'Select', 'Refurbished', 'Magellan', 'Most', 'Lowrance', 'Chartplotter', 'Arkon', 'Golf', 'Kit', 'XL', 'Portable', 'Card', 'VIA']}\n",
      "{ cluster: 64, top_words: ['Amplifier', 'Class', 'Bridgeable', 'AB', 'Power', 'Series', '2-Channel', 'MOSFET', 'Kicker', 'Guitar', 'Variable', 'Crossover', 'Behringer', 'Mono', 'Combo', 'Bass', 'Multichannel', 'Marine', 'Crossovers', 'Stereo']}\n",
      "{ cluster: 65, top_words: ['CD', 'Original', 'Soundtrack', '[Original', 'Soundtrack]', 'Music', '[PA]', 'Motion', 'Picture', '(Score)', 'from', 'Vol.', 'From', '[ECD]', 'Remastered', 'Cast', 'Twilight', 'Glee:', 'Score]', 'Edition']}\n",
      "{ cluster: 66, top_words: ['Case', 'Black', 'Camera', 'Bag', 'Lowepro', 'Logic', 'Backpack', 'Most', 'Digital', 'Cases', 'Gator', 'Carrying', 'Guitars', 'Cameras', 'Sony', 'AW', 'Manfrotto', 'Compact', 'Sling', 'Portable']}\n",
      "{ cluster: 67, top_words: ['DVD', 'WWE:', 'Fullscreen', 'Ultimate', 'Blu-ray', 'Disc', 'AC3', 'Dolby', 'UFC', 'Greatest', 'vs.', '2010', 'Best', 'Fighting', 'Discs]', 'NFL:', 'Season', 'Series', 'TNA', 'Wrestling:']}\n",
      "{ cluster: 68, top_words: ['DVD', 'Widescreen', 'Discs]', 'Blu-ray', 'Disc', '[2', 'Fullscreen', 'Dead', 'Disc)', 'Halloween', 'Collection', 'Movie', 'Subtitle', 'Night', 'Nightmare', 'Season', '(2', 'Ghost', 'on', 'Special']}\n",
      "{ cluster: 69, top_words: ['M-Edge', 'Accessories', 'Jacket', 'Kindle', 'Apple&#xAE;', 'Black', 'Keyboard', 'iPad&#xAE;', 'Amazon', 'Sony', 'Digital', 'Readers', 'Kobo', 'Tablets', 'Barnes', 'Noble', 'Cover', 'Touch', 'VAIO', 'Most']}\n",
      "{ cluster: 70, top_words: ['DVD', 'Widescreen', 'Dolby', 'Subtitle', 'AC3', 'Dubbed', 'Fullscreen', 'Dts', 'UMD', 'Blu-ray', 'Disc', 'Dead', 'Saw', 'One', 'Blood', 'III', 'II', 'Out', 'Dark', 'Game']}\n",
      "{ cluster: 71, top_words: ['CD', 'You', 'Me', 'All', 'Love', 'VINYL', 'My', 'Is', 'Up', 'Your', 'We', 'It', 'This', 'on', '[ECD]', 'Day', 'Be', 'Back', 'Like', 'Best']}\n",
      "{ cluster: 72, top_words: ['Battery', 'Lenmar', 'Lithium-Ion', 'Select', 'Laptops', 'Phones', 'Mobile', 'Series', 'HP', 'Dell', 'Most', 'Lithium-Polymer', 'Sony', 'Toshiba', 'Compaq', 'VAIO', 'Samsung', 'Acer', 'Apple&#xAE;', 'LG']}\n",
      "{ cluster: 73, top_words: ['Windows', '2011', 'Calculator', 'Microsoft', '2012', 'Office', 'Home', 'Livescribe', '2010', 'Mac/Windows', 'QuickBooks', 'Mac', 'Security', 'Norton', 'Edition', 'Professional', 'Card', 'Texas', 'Business', 'System']}\n",
      "{ cluster: 74, top_words: ['TVs', 'Flat-Panel', 'Up', 'Stand', 'TV', 'Mount', 'Most', 'Black', 'Wall', 'BDI', '60\"', 'or', '32\"', 'Furniture', 'Extends', 'Tube', 'Sanus', 'Whalen', '42\"', 'Chief']}\n",
      "{ cluster: 75, top_words: ['Wireless-N', 'Router', 'Switch', 'Ethernet', 'NETGEAR', '4-Port', 'Adapter', 'Wireless', 'D-Link', 'Gigabit', 'USB', 'Dual-Band', 'Linksys', 'Modem', 'Cisco', 'Belkin', 'Network', 'Refurbished', '10/100', '2.0']}\n",
      "{ cluster: 76, top_words: ['CD', 'Best', '[ECD]', 'Various', 'Is', '[Edited]', 'Very', 'You', 'Time', 'No', '(Edited)', 'This', 'My', 'Back', '[Clean]', 'It', 'Gold', 'One', 'We', 'What']}\n",
      "{ cluster: 77, top_words: ['VINYL', '[LP]', '[PA]', 'Vinyl', 'CD', 'Disc]', '12-Inch', 'Single', '[12inch', '(Ogv)', '[Single]', 'Edition)', '[EP]', 'Vol.', '(Limited', 'Various', 'Is', 'White', 'No', '(Remastered)']}\n",
      "{ cluster: 78, top_words: ['DVD', 'Vol.', 'Discs]', 'CD', 'Collection', '[2', 'Complete', 'Widescreen', 'Disc)', '[4', 'Fullscreen', 'Subtitle', '(2', 'Video', '[3', 'Series', 'Blu-ray', 'Disc', 'Box', 'Dance']}\n",
      "{ cluster: 79, top_words: ['DVD', 'Live', 'Disc', 'Blu-ray', 'at', 'Dolby', 'CD', 'Tour', 'Dts', 'Concert', 'From', 'AC3', 'At', 'Widescreen', 'Hall', 'Rock', '[CD', 'DVD]', 'London', 'New']}\n",
      "{ cluster: 80, top_words: ['Protector', 'Surge', 'Power', 'Monster', 'PowerCenter', '8-Outlet', 'Belkin', '6-Outlet', 'Panamax', '11-Outlet', '360', 'Electrical', 'Home', '4-Outlet', 'White', 'Theater', '2-Outlet', 'Conditioner/Surge', 'High-Definition', 'GreenSurge']}\n",
      "{ cluster: 81, top_words: ['Vehicles', 'Select', 'Metra', 'Harness', 'Scosche', 'Wiring', 'Adapter', 'Radio', 'Kit', 'Interface', 'Antenna', 'Most', 'GM', 'Speaker', 'Later', 'Wire', '(Pair)', 'Black', 'Installation', 'or']}\n",
      "{ cluster: 82, top_words: ['Headphones', 'Over-the-Ear', 'Earbud', 'Sennheiser', 'DJ', 'Skullcandy', 'AKG', 'iHip', 'Sony', 'Stereo', 'Studio', 'Tribeca', 'Microphone', 'Wireless', 'Audio', 'Adidas', 'Ear', 'University', 'Shure', 'Monster']}\n",
      "{ cluster: 83, top_words: ['CD', 'Various', 'Music', 'Leonard', 'Hal', 'Karaoke:', 'Sheet', 'Vol.', 'Piano', 'DVD', 'Party', 'Songs', 'Tyme', 'Karaoke', 'Best', 'Tribute', 'Lullaby', 'Hits', 'Guitar', 'Renditions']}\n",
      "{ cluster: 84, top_words: ['Apple&#xAE;', 'iPod&#xAE;', 'Radio', 'Deck', 'Black', 'iPhone&#xAE;', 'In-Dash', '50W', 'Dock', 'Radio-Ready', 'CD', 'Speaker', 'Clock', 'iPod&#xAE;-/Satellite', 'MOSFET', 'Sony', 'System', 'AM/FM', 'DVD', 'Portable']}\n",
      "{ cluster: 85, top_words: ['Case', 'Mobile', 'Phones', 'Series', 'Black', 'OtterBox', 'HTC', 'Commuter', 'BlackBerry', 'Platinum', 'Apple&#xAE;', 'Samsung', 'iPhone&#xAE;', 'Defender', 'Motorola', 'DROID', 'EVO', 'Xentris', '4G', 'Superior']}\n",
      "{ cluster: 86, top_words: ['Season', 'DVD', 'Discs]', 'Widescreen', 'Subtitle', 'Dolby', 'AC3', 'Complete', 'Dubbed', '[4', '[3', '[6', 'Fullscreen', 'Disc', 'Blu-ray', 'First', '[2', '[5', 'Second', 'One']}\n",
      "{ cluster: 87, top_words: ['Camera', 'Digital', 'Black', 'Camcorder', 'Silver', 'HD', '14.0-Megapixel', 'Sony', 'Flash', 'Memory', 'Nikon', 'Canon', 'Red', 'Olympus', 'Refurbished', '12.1-Megapixel', '14.1-Megapixel', 'Coolpix', 'PowerShot', 'Blue']}\n",
      "{ cluster: 88, top_words: ['Card', 'Memory', 'Class', 'Secure', 'Digital', 'High', 'Capacity', '(SDHC)', '8GB', 'SanDisk', '16GB', '10', 'microSDHC', '4GB', 'Transcend', 'PNY', 'CompactFlash', '32GB', 'Kingston', 'Sony']}\n",
      "{ cluster: 89, top_words: ['Monitor', 'Widescreen', 'Black', 'LCD', 'LED', 'Flat-Panel', 'Projector', 'HD', 'Samsung', '23\"', 'Asus', 'Screen', 'Frame', 'Power', 'Acoustik', '27\"', 'Digital', 'Photo', 'White', '7\"']}\n",
      "{ cluster: 90, top_words: ['DVD', 'Fullscreen', 'Widescreen', 'Discs]', 'Dubbed', 'Blu-ray', 'Christmas', 'Disc', '[2', 'Subtitle', 'Little', 'Collection', 'Disc)', 'Vol.', 'Dolby', 'Complete', 'Movie', 'Adventures', 'AC3', 'Disney']}\n",
      "{ cluster: 91, top_words: ['DVD', 'Dolby', 'Widescreen', 'Subtitle', 'Fullscreen', 'AC3', 'Dubbed', 'Dts', 'Sub', 'Dub', 'Dol)', 'Special', '(Ws', 'Blu-ray', 'Disc', 'Ac3', 'Vol.', 'Discs]', 'Love', '(Full']}\n",
      "{ cluster: 92, top_words: ['Nintendo', 'Wii', 'DS', '3DS', 'Mario', 'Super', 'Disney', 'Game', 'Party', 'PlayStation', '3D', 'LeapFrog', 'Sonic', 'Game:', 'Dora', 'Explorer', 'Pok&#xE9;mon', 'Leapster', 'Learning', 'Dance']}\n",
      "{ cluster: 93, top_words: ['Laptop', 'Case', 'Black', 'Sleeve', 'Backpack', 'Targus', 'MacBook&#xAE;', 'Laptops', 'Apple&#xAE;', 'Incase', 'Messenger', 'Acme', 'Made', 'Most', 'Netbook', 'Gray', 'OGIO', 'Stand', 'Pro', 'Dell']}\n",
      "{ cluster: 94, top_words: ['Vacuum', 'HEPA', 'Bagless', 'Upright', 'Filter', 'Air', 'Hoover', 'White', 'Canister', 'Replacement', 'Black', 'Purifier', 'Dyson', 'Humidifier', 'Gal.', 'BISSELL', 'Electrolux', 'Cordless', 'Water', '3M']}\n",
      "{ cluster: 95, top_words: ['Widescreen', 'AC3', 'Dolby', 'Blu-ray', 'Disc', 'Subtitle', 'Dts', 'DVD', 'Dubbed', 'Fullscreen', 'Discs]', 'Special', 'Disc)', 'Trilogy', '[3', 'Man', 'Movie', 'Anniversary', '(2', 'Game']}\n",
      "{ cluster: 96, top_words: ['Chair', 'Black', 'Leather', 'Storage', 'Desk', 'TheaterSeatStore', 'Home', 'Theater', 'Seating', 'Cabinet', 'Computer', 'Multimedia', 'Baseline', 'Furniture', 'Bush', 'Curved', 'Sauder', 'Office', 'Ashlin', 'Video']}\n",
      "{ cluster: 97, top_words: ['Black', '30\"', 'Electric', 'Range', 'Built-In', 'Oven', 'Gas', 'White', 'Grill', 'Cooktop', 'GE', 'Hood', 'Freestanding', 'Wall', 'Heater', 'Frigidaire', 'Stainless-Steel', 'Toaster', 'Whirlpool', 'Single']}\n",
      "{ cluster: 98, top_words: ['Microwave', 'Cu.', 'Ft.', 'Over-the-Range', 'Stainless-Steel', 'Mid-Size', 'Black', 'White', 'GE', '2.0', 'Sharp', 'Whirlpool', 'Frigidaire', '1.6', 'Full-Size', '1.8', '1.7', 'LG', 'Compact', '1.5']}\n"
     ]
    }
   ],
   "source": [
    "#sample top keywords in each cluster (same as figure above, but more data)\n",
    "for cluster_key in range(0,99):\n",
    "    print(f\"{{ cluster: {cluster_key}, top_words: {top_words(clusters[cluster_key], 20)}}}\")"
   ]
  },
  {
   "cell_type": "code",
   "execution_count": null,
   "id": "393fc08f",
   "metadata": {},
   "outputs": [],
   "source": [
    "import pandas as pd\n",
    "\n",
    "### Create Pandas dataframes for product_clusters\n",
    "product_ids_labels = dict(zip(product_ids, labels))\n",
    "pddf_product_ids_labels = pd.DataFrame.from_dict(product_ids_labels, orient=\"index\", columns=[\"label\"])\n",
    "pddf_product_ids_labels[\"pid\"] = pddf_product_ids_labels.index"
   ]
  },
  {
   "cell_type": "markdown",
   "id": "d9b242ea",
   "metadata": {},
   "source": [
    "## Listing 9.15 Comparing approaches for mapping queries to product clusters"
   ]
  },
  {
   "cell_type": "code",
   "execution_count": null,
   "id": "dee37609",
   "metadata": {},
   "outputs": [],
   "source": [
    "import sentence_transformers, heapq\n",
    "\n",
    "## get the top n clusters based on similairty with centers \n",
    "def get_top_labels_centers(query, centers, n=2):\n",
    "    q_embedding = transformer.encode([query], convert_to_tensor=False)\n",
    "    similarities = sentence_transformers.util.cos_sim(q_embedding, centers)\n",
    "    sim = similarities.tolist()[0]\n",
    "    return [sim.index(i) for i in heapq.nlargest(n, sim)]\n",
    "\n",
    "### Get the cluster for the query based on prediction of the label\n",
    "def get_query_cluster(query):\n",
    "    q_embedding = transformer.encode([query], convert_to_tensor=False)\n",
    "    return algo.predict(q_embedding)"
   ]
  },
  {
   "cell_type": "code",
   "execution_count": null,
   "id": "cbfcba9c",
   "metadata": {},
   "outputs": [
    {
     "name": "stdout",
     "output_type": "stream",
     "text": [
      "KMeans Predicted Cluster:\n",
      "    98 (Microwave_Cu._Ft._Over-the-Range_Stainless-Steel)\n",
      "\n",
      "Cosine Predicted Cluster:\n",
      "    98\n",
      "      Microwave_Cu._Ft._Over-the-Range_Stainless-Steel)\n",
      "\n",
      "KNN Cosine Predicted Clusters: [98, 44, 97, 22, 3]\n",
      "    98 (Microwave_Cu._Ft._Over-the-Range_Stainless-Steel)\n",
      "    44 (Stainless-Steel_Black_KitchenAid_Cuisinart_Maker)\n",
      "    97 (Black_30\"_Electric_Range_Built-In)\n",
      "    22 (30\"_Range_Stainless-Steel_Self-Cleaning_Freestanding)\n",
      "    3 (Ft._Cu._Refrigerator_Water_Thru-the-Door)\n"
     ]
    }
   ],
   "source": [
    "import random\n",
    "random.seed(1234)\n",
    "\n",
    "def get_cluster_description(cluser_num):\n",
    "    return \"_\".join(top_words(clusters[cluser_num], 5))\n",
    "\n",
    "query = \"microwave\"\n",
    "#option 1: Find nearest cluster (KMeans)\n",
    "kmeans_predict = get_query_cluster(query)[0]\n",
    "print(\"KMeans Predicted Cluster:\")\n",
    "print(f\"    {kmeans_predict} ({get_cluster_description(kmeans_predict)})\")\n",
    "\n",
    "#option 2: Find most similar cluster (Cosine similarity)\n",
    "closest_cosine_similarity = get_top_labels_centers(query, centers, 1)[0]\n",
    "print(f\"\"\"\\nCosine Predicted Cluster:\\n    {closest_cosine_similarity}\n",
    "      {get_cluster_description(closest_cosine_similarity)})\"\"\")\n",
    "\n",
    "#option 3: N-nearest clusters (Cosine similarity)\n",
    "knn_cosine_similarity = get_top_labels_centers(query, centers, 5)\n",
    "print(f\"\\nKNN Cosine Predicted Clusters: {knn_cosine_similarity}\")\n",
    "for n in knn_cosine_similarity:\n",
    "      print(f\"    {n} ({get_cluster_description(n)})\")"
   ]
  },
  {
   "cell_type": "code",
   "execution_count": null,
   "id": "94ba0fc6",
   "metadata": {},
   "outputs": [
    {
     "name": "stderr",
     "output_type": "stream",
     "text": [
      "/usr/local/spark/python/pyspark/sql/pandas/conversion.py:474: FutureWarning: iteritems is deprecated and will be removed in a future version. Use .items instead.\n",
      "  for column, series in pdf.iteritems():\n",
      "/usr/local/spark/python/pyspark/sql/pandas/conversion.py:486: FutureWarning: iteritems is deprecated and will be removed in a future version. Use .items instead.\n",
      "  for column, series in pdf.iteritems():\n"
     ]
    }
   ],
   "source": [
    "sdf_id_labels = spark.createDataFrame(pddf_product_ids_labels).createOrReplaceTempView('products_clusters')"
   ]
  },
  {
   "cell_type": "code",
   "execution_count": null,
   "id": "228a2235",
   "metadata": {},
   "outputs": [],
   "source": [
    "# Load signal data to create user-product vectors\n",
    "signals_collection = engine.get_collection(\"signals\")\n",
    "create_view(signals_collection, \"signals\", spark)"
   ]
  },
  {
   "cell_type": "code",
   "execution_count": null,
   "id": "05fcc078",
   "metadata": {},
   "outputs": [
    {
     "name": "stdout",
     "output_type": "stream",
     "text": [
      "Wiping \"user_product_cluster\" collection\n",
      "Creating \"user_product_cluster\" collection\n",
      "Status: Success\n"
     ]
    }
   ],
   "source": [
    "#Create User-product data set for personalization\n",
    "spark.sql(\"\"\"SELECT DISTINCT user, target AS product_id, name AS product_name\n",
    "FROM signals s JOIN products_samples p ON s.target = p.upc\n",
    "WHERE s.type = 'click'\"\"\").createOrReplaceTempView(\"user_product\")\n",
    "\n",
    "query = \"\"\"SELECT user, product_id, product_name, label FROM user_product a\n",
    "JOIN products_clusters b ON a.product_id = b.pid\"\"\"\n",
    "\n",
    "user_product_cluster_collection = engine.create_collection(\"user_product_cluster\")\n",
    "user_product_cluster_collection.write(from_sql(query, spark))"
   ]
  },
  {
   "cell_type": "code",
   "execution_count": null,
   "id": "111b2773",
   "metadata": {},
   "outputs": [],
   "source": [
    "## get the top n clusters based on similarity with centers \n",
    "def top_clusters_for_embedding(embedding, n=2):\n",
    "    similarities = sentence_transformers.util.cos_sim(embedding, centers)\n",
    "    sim = similarities.tolist()[0]\n",
    "    return [sim.index(i) for i in heapq.nlargest(n, sim)]"
   ]
  },
  {
   "cell_type": "markdown",
   "id": "36245333",
   "metadata": {},
   "source": [
    "## Listing 9.16"
   ]
  },
  {
   "cell_type": "code",
   "execution_count": null,
   "id": "e9b3d6c3",
   "metadata": {},
   "outputs": [],
   "source": [
    "# importiong the modules\n",
    "import pandas as pd, numpy as np\n",
    "np.set_printoptions(4)\n",
    "\n",
    "#Take user's product interests and return dataframe containing embedding and guardrail cluster\n",
    "def get_user_embeddings(products=[]):\n",
    "    values = []\n",
    "    for p in products:\n",
    "        values.append([product_ids_emb[p], top_clusters_for_embedding(product_ids_emb[p], 1)[0]])\n",
    "    column_names = [\"embedding\", \"cluster\"]\n",
    "    return pd.DataFrame(data=np.array(values), index=products, columns=column_names)\n",
    "\n",
    "def get_personalization_vector(query=None, user_items=[], query_weight=1, user_items_weights=[]):\n",
    "    #by default, weight is split 1:1 (50% each) between the query embedding and the user_items_weight.\n",
    "    #you can manually add weights for each user_item to influence how much each element counts.\n",
    "\n",
    "    query_embedding = transformer.encode(query, convert_to_tensor=False) if query else None\n",
    "    \n",
    "    if len(user_items) > 0 and len(user_items_weights) == 0:\n",
    "        user_items_weights = np.full(shape=len(user_items), fill_value=1 / len(user_items))\n",
    "            \n",
    "    embeddings = []\n",
    "    embedding_weights = []\n",
    "    for weight in user_items_weights:\n",
    "        embedding_weights.append(weight) \n",
    "    for embedding in user_items:\n",
    "        embeddings.append(embedding)\n",
    "    if query_embedding.any():\n",
    "        embedding_weights.append(query_weight)\n",
    "        embeddings.append(query_embedding)\n",
    "    \n",
    "    return np.average(embeddings, weights=np.array(embedding_weights),\n",
    "                      axis=0).astype(\"double\") if len(embeddings) else None"
   ]
  },
  {
   "cell_type": "markdown",
   "id": "a7f37699",
   "metadata": {},
   "source": [
    "## Listing 9.17"
   ]
  },
  {
   "cell_type": "code",
   "execution_count": null,
   "id": "bfecf8a5",
   "metadata": {},
   "outputs": [
    {
     "name": "stdout",
     "output_type": "stream",
     "text": [
      "\n",
      "Products Interactions for Personalization:\n",
      "                                                        embedding cluster\n",
      "7610465823828  [0.06417941, 0.04178553, -0.0017139615, -0.020...      20\n",
      "36725569478    [0.0055417763, -0.024302201, -0.024139373, -0....      22\n",
      "\n",
      "Personalization Vector (No Cluster Guardrails):\n",
      "[ 0.0164 -0.0062 -0.02   -0.0317 -0.0161... ]\n",
      "\n",
      "Query Clusters ('microwave'): [98, 44, 97, 22, 3]\n",
      "\n",
      "Products Filtered to Query Clusters:\n",
      "                                                     embedding cluster\n",
      "36725569478  [0.0055417763, -0.024302201, -0.024139373, -0....      22\n",
      "\n",
      "Filtered Personalization Vector (With Cluster Guardrails):\n",
      "[ 0.0018 -0.0227 -0.0256 -0.0369 -0.0254... ]\n"
     ]
    },
    {
     "name": "stderr",
     "output_type": "stream",
     "text": [
      "/tmp/ipykernel_7386/118144447.py:11: VisibleDeprecationWarning: Creating an ndarray from ragged nested sequences (which is a list-or-tuple of lists-or-tuples-or ndarrays with different lengths or shapes) is deprecated. If you meant to do this, you must specify 'dtype=object' when creating the ndarray.\n",
      "  return pd.DataFrame(data=np.array(values), index=products, columns=column_names)\n"
     ]
    }
   ],
   "source": [
    "product_interests = [ \"7610465823828\",  #hello kitty water bottle\n",
    "                      \"36725569478\"]   #stainless steel electric range\n",
    "\n",
    "user_embeddings = get_user_embeddings(product_interests)\n",
    "print(f\"\\nProducts Interactions for Personalization:\\n {user_embeddings}\")\n",
    "\n",
    "query = \"microwave\"\n",
    "unfiltered_personalization_vector = get_personalization_vector(query=query,\n",
    "                        user_items=user_embeddings['embedding'].to_numpy())\n",
    "print(\"\\nPersonalization Vector (No Cluster Guardrails):\")\n",
    "print(str(unfiltered_personalization_vector[0:5]).replace(\"]\", \"... ]\"))\n",
    "\n",
    "query_clusters = get_top_labels_centers(query, centers, n=5)\n",
    "print(\"\\nQuery Clusters ('microwave'):\", query_clusters)\n",
    "\n",
    "filtered = user_embeddings[user_embeddings.cluster.isin(query_clusters)] #filter down to only items in the query clusters\n",
    "print(\"\\nProducts Filtered to Query Clusters:\\n\" + str(filtered))\n",
    "\n",
    "filtered_personalization_vector = get_personalization_vector(query=query,\n",
    "                             user_items=filtered['embedding'].to_numpy())\n",
    "\n",
    "print(\"\\nFiltered Personalization Vector (With Cluster Guardrails):\")\n",
    "print(str(filtered_personalization_vector[0:5]).replace(\"]\", \"... ]\"))"
   ]
  },
  {
   "cell_type": "markdown",
   "id": "d2dbd845",
   "metadata": {},
   "source": [
    "## Listing 9.18"
   ]
  },
  {
   "cell_type": "code",
   "execution_count": null,
   "id": "04a77b7d",
   "metadata": {},
   "outputs": [
    {
     "name": "stdout",
     "output_type": "stream",
     "text": [
      "Search Results w/ No Personalization:\n"
     ]
    },
    {
     "data": {
      "text/html": [
       "<div id=\"demo\">\n",
       "        <input style=\"width:50%\" readonly type=\"text\" name=\"q\" value=\"microwave\">\n",
       "        <input readonly type=\"submit\" value=\"Search\">\n",
       "\n",
       "    <div class=\"results\">\n",
       "    \t\n",
       "\n",
       "    </div>\n",
       "</div>\n",
       "    \t<div style=\"position: relative; width: 100%; height:auto; overflow: auto;\">\n",
       "\t    \t<div style=\"position: relative; float:left; width: 120px; margin-top:25px\">\n",
       "\t    \t\t<img style=\"width:100px; height: auto; max-height:150px\" src=\"../data/retrotech/images/48231316835.jpg\">\n",
       "\t    \t</div>\n",
       "\t    \t<div style=\"position:relative; float:left; clear:none; width: 80%; height:auto\">\n",
       "\t    \t\t<p><strong>Name:</strong> LG - LMHM2017SW Microwave Oven - White | <strong>Manufacturer:</strong> LG</p>\n",
       "\t    \t\t<p> \n",
       "\t    \t\t</p>\n",
       "\t    \t</div>\n",
       "    \t</div>\n",
       "    \t\n",
       "\t\t<div style=\"position:relative; clear:both; content: ' '; display: block; height: 1px; margin-top: 10px; margin-bottom:20px\">\n",
       "\t\t\t<hr style=\"color: gray; width: 95%;\" />\n",
       "\t\t</div>\n",
       "\t\t\n",
       "    \t<div style=\"position: relative; width: 100%; height:auto; overflow: auto;\">\n",
       "\t    \t<div style=\"position: relative; float:left; width: 120px; margin-top:25px\">\n",
       "\t    \t\t<img style=\"width:100px; height: auto; max-height:150px\" src=\"../data/retrotech/images/37988910427.jpg\">\n",
       "\t    \t</div>\n",
       "\t    \t<div style=\"position:relative; float:left; clear:none; width: 80%; height:auto\">\n",
       "\t    \t\t<p><strong>Name:</strong> Panasonic - NNCD989S Microwave Oven - Stainless-Steel | <strong>Manufacturer:</strong> Panasonic</p>\n",
       "\t    \t\t<p> \n",
       "\t    \t\t</p>\n",
       "\t    \t</div>\n",
       "    \t</div>\n",
       "    \t\n",
       "\t\t<div style=\"position:relative; clear:both; content: ' '; display: block; height: 1px; margin-top: 10px; margin-bottom:20px\">\n",
       "\t\t\t<hr style=\"color: gray; width: 95%;\" />\n",
       "\t\t</div>\n",
       "\t\t\n",
       "    \t<div style=\"position: relative; width: 100%; height:auto; overflow: auto;\">\n",
       "\t    \t<div style=\"position: relative; float:left; width: 120px; margin-top:25px\">\n",
       "\t    \t\t<img style=\"width:100px; height: auto; max-height:150px\" src=\"../data/retrotech/images/72244106916.jpg\">\n",
       "\t    \t</div>\n",
       "\t    \t<div style=\"position:relative; float:left; clear:none; width: 80%; height:auto\">\n",
       "\t    \t\t<p><strong>Name:</strong> West Bend - Microwave Popcorn Popper - Red | <strong>Manufacturer:</strong> West Bend</p>\n",
       "\t    \t\t<p> \n",
       "\t    \t\t</p>\n",
       "\t    \t</div>\n",
       "    \t</div>\n",
       "    \t\n",
       "\t\t<div style=\"position:relative; clear:both; content: ' '; display: block; height: 1px; margin-top: 10px; margin-bottom:20px\">\n",
       "\t\t\t<hr style=\"color: gray; width: 95%;\" />\n",
       "\t\t</div>\n",
       "\t\t\n",
       "    \t<div style=\"position: relative; width: 100%; height:auto; overflow: auto;\">\n",
       "\t    \t<div style=\"position: relative; float:left; width: 120px; margin-top:25px\">\n",
       "\t    \t\t<img style=\"width:100px; height: auto; max-height:150px\" src=\"../data/retrotech/images/21331131393.jpg\">\n",
       "\t    \t</div>\n",
       "\t    \t<div style=\"position:relative; float:left; clear:none; width: 80%; height:auto\">\n",
       "\t    \t\t<p><strong>Name:</strong> Hello Kitty - 0.7 Cu. Ft. Compact Microwave | <strong>Manufacturer:</strong> Hello Kitty</p>\n",
       "\t    \t\t<p> \n",
       "\t    \t\t</p>\n",
       "\t    \t</div>\n",
       "    \t</div>\n",
       "    \t\n",
       "\t\t<div style=\"position:relative; clear:both; content: ' '; display: block; height: 1px; margin-top: 10px; margin-bottom:20px\">\n",
       "\t\t\t<hr style=\"color: gray; width: 95%;\" />\n",
       "\t\t</div>\n",
       "\t\t"
      ],
      "text/plain": [
       "<IPython.core.display.HTML object>"
      ]
     },
     "metadata": {},
     "output_type": "display_data"
    }
   ],
   "source": [
    "# 4- Get all items for the search query using solr index\n",
    "## Get the top items from the query cluster for the user\n",
    "### User search query using solr \n",
    "#query=\"Western Digital - Scorpio Blue 250GB Internal Serial ATA Hard Drive for Laptops Serial ATA interface; quiet performance; 1.5GB/sec data transfer rate\"\n",
    "\n",
    "query = \"microwave\"\n",
    "request = {\n",
    "    \"query\": query, \n",
    "    \"fields\": [\"upc\", \"name\", \"manufacturer\", \"score\"], \n",
    "    \"sort\": \"score desc, upc asc\",\n",
    "    \"params\": {\n",
    "        \"qf\": \"name manufacturer\",\n",
    "        \"defType\": \"edismax\",\n",
    "        \"rows\": 100\n",
    "    }\n",
    "}\n",
    "\n",
    "response = products_collection.search(request)\n",
    "docs = engine.docs_from_response(response)\n",
    "print(\"Search Results w/ No Personalization:\")\n",
    "display_product_search(query, docs[0:4])"
   ]
  },
  {
   "cell_type": "code",
   "execution_count": null,
   "id": "0e00221e",
   "metadata": {},
   "outputs": [
    {
     "name": "stdout",
     "output_type": "stream",
     "text": [
      "Personalized search results (no category guardrails):\n"
     ]
    },
    {
     "data": {
      "text/html": [
       "<div id=\"demo\">\n",
       "        <input style=\"width:50%\" readonly type=\"text\" name=\"q\" value=\"microwave\">\n",
       "        <input readonly type=\"submit\" value=\"Search\">\n",
       "\n",
       "    <div class=\"results\">\n",
       "    \t\n",
       "\n",
       "    </div>\n",
       "</div>\n",
       "    \t<div style=\"position: relative; width: 100%; height:auto; overflow: auto;\">\n",
       "\t    \t<div style=\"position: relative; float:left; width: 120px; margin-top:25px\">\n",
       "\t    \t\t<img style=\"width:100px; height: auto; max-height:150px\" src=\"../data/retrotech/images/21331131393.jpg\">\n",
       "\t    \t</div>\n",
       "\t    \t<div style=\"position:relative; float:left; clear:none; width: 80%; height:auto\">\n",
       "\t    \t\t<p><strong>Name:</strong> Hello Kitty - 0.7 Cu. Ft. Compact Microwave | <strong>Manufacturer:</strong> Hello Kitty</p>\n",
       "\t    \t\t<p> \n",
       "\t    \t\t</p>\n",
       "\t    \t</div>\n",
       "    \t</div>\n",
       "    \t\n",
       "\t\t<div style=\"position:relative; clear:both; content: ' '; display: block; height: 1px; margin-top: 10px; margin-bottom:20px\">\n",
       "\t\t\t<hr style=\"color: gray; width: 95%;\" />\n",
       "\t\t</div>\n",
       "\t\t\n",
       "    \t<div style=\"position: relative; width: 100%; height:auto; overflow: auto;\">\n",
       "\t    \t<div style=\"position: relative; float:left; width: 120px; margin-top:25px\">\n",
       "\t    \t\t<img style=\"width:100px; height: auto; max-height:150px\" src=\"../data/retrotech/images/12505559105.jpg\">\n",
       "\t    \t</div>\n",
       "\t    \t<div style=\"position:relative; float:left; clear:none; width: 80%; height:auto\">\n",
       "\t    \t\t<p><strong>Name:</strong> Electrolux - 1.5 Cu. Ft. Built-In Microwave - Stainless-Steel | <strong>Manufacturer:</strong> Electrolux</p>\n",
       "\t    \t\t<p> \n",
       "\t    \t\t</p>\n",
       "\t    \t</div>\n",
       "    \t</div>\n",
       "    \t\n",
       "\t\t<div style=\"position:relative; clear:both; content: ' '; display: block; height: 1px; margin-top: 10px; margin-bottom:20px\">\n",
       "\t\t\t<hr style=\"color: gray; width: 95%;\" />\n",
       "\t\t</div>\n",
       "\t\t\n",
       "    \t<div style=\"position: relative; width: 100%; height:auto; overflow: auto;\">\n",
       "\t    \t<div style=\"position: relative; float:left; width: 120px; margin-top:25px\">\n",
       "\t    \t\t<img style=\"width:100px; height: auto; max-height:150px\" src=\"../data/retrotech/images/37988910045.jpg\">\n",
       "\t    \t</div>\n",
       "\t    \t<div style=\"position:relative; float:left; clear:none; width: 80%; height:auto\">\n",
       "\t    \t\t<p><strong>Name:</strong> Panasonic - 1.2 Cu. Ft. Mid-Size Microwave - Stainless-Steel | <strong>Manufacturer:</strong> Panasonic</p>\n",
       "\t    \t\t<p> \n",
       "\t    \t\t</p>\n",
       "\t    \t</div>\n",
       "    \t</div>\n",
       "    \t\n",
       "\t\t<div style=\"position:relative; clear:both; content: ' '; display: block; height: 1px; margin-top: 10px; margin-bottom:20px\">\n",
       "\t\t\t<hr style=\"color: gray; width: 95%;\" />\n",
       "\t\t</div>\n",
       "\t\t\n",
       "    \t<div style=\"position: relative; width: 100%; height:auto; overflow: auto;\">\n",
       "\t    \t<div style=\"position: relative; float:left; width: 120px; margin-top:25px\">\n",
       "\t    \t\t<img style=\"width:100px; height: auto; max-height:150px\" src=\"../data/retrotech/images/37988910182.jpg\">\n",
       "\t    \t</div>\n",
       "\t    \t<div style=\"position:relative; float:left; clear:none; width: 80%; height:auto\">\n",
       "\t    \t\t<p><strong>Name:</strong> Panasonic - 1.2 Cu. Ft. Mid-Size Microwave - White | <strong>Manufacturer:</strong> Panasonic</p>\n",
       "\t    \t\t<p> \n",
       "\t    \t\t</p>\n",
       "\t    \t</div>\n",
       "    \t</div>\n",
       "    \t\n",
       "\t\t<div style=\"position:relative; clear:both; content: ' '; display: block; height: 1px; margin-top: 10px; margin-bottom:20px\">\n",
       "\t\t\t<hr style=\"color: gray; width: 95%;\" />\n",
       "\t\t</div>\n",
       "\t\t"
      ],
      "text/plain": [
       "<IPython.core.display.HTML object>"
      ]
     },
     "metadata": {},
     "output_type": "display_data"
    },
    {
     "name": "stdout",
     "output_type": "stream",
     "text": [
      "Personalized search results (with category guardrails):\n"
     ]
    },
    {
     "data": {
      "text/html": [
       "<div id=\"demo\">\n",
       "        <input style=\"width:50%\" readonly type=\"text\" name=\"q\" value=\"microwave\">\n",
       "        <input readonly type=\"submit\" value=\"Search\">\n",
       "\n",
       "    <div class=\"results\">\n",
       "    \t\n",
       "\n",
       "    </div>\n",
       "</div>\n",
       "    \t<div style=\"position: relative; width: 100%; height:auto; overflow: auto;\">\n",
       "\t    \t<div style=\"position: relative; float:left; width: 120px; margin-top:25px\">\n",
       "\t    \t\t<img style=\"width:100px; height: auto; max-height:150px\" src=\"../data/retrotech/images/12505559105.jpg\">\n",
       "\t    \t</div>\n",
       "\t    \t<div style=\"position:relative; float:left; clear:none; width: 80%; height:auto\">\n",
       "\t    \t\t<p><strong>Name:</strong> Electrolux - 1.5 Cu. Ft. Built-In Microwave - Stainless-Steel | <strong>Manufacturer:</strong> Electrolux</p>\n",
       "\t    \t\t<p> \n",
       "\t    \t\t</p>\n",
       "\t    \t</div>\n",
       "    \t</div>\n",
       "    \t\n",
       "\t\t<div style=\"position:relative; clear:both; content: ' '; display: block; height: 1px; margin-top: 10px; margin-bottom:20px\">\n",
       "\t\t\t<hr style=\"color: gray; width: 95%;\" />\n",
       "\t\t</div>\n",
       "\t\t\n",
       "    \t<div style=\"position: relative; width: 100%; height:auto; overflow: auto;\">\n",
       "\t    \t<div style=\"position: relative; float:left; width: 120px; margin-top:25px\">\n",
       "\t    \t\t<img style=\"width:100px; height: auto; max-height:150px\" src=\"../data/retrotech/images/37988910045.jpg\">\n",
       "\t    \t</div>\n",
       "\t    \t<div style=\"position:relative; float:left; clear:none; width: 80%; height:auto\">\n",
       "\t    \t\t<p><strong>Name:</strong> Panasonic - 1.2 Cu. Ft. Mid-Size Microwave - Stainless-Steel | <strong>Manufacturer:</strong> Panasonic</p>\n",
       "\t    \t\t<p> \n",
       "\t    \t\t</p>\n",
       "\t    \t</div>\n",
       "    \t</div>\n",
       "    \t\n",
       "\t\t<div style=\"position:relative; clear:both; content: ' '; display: block; height: 1px; margin-top: 10px; margin-bottom:20px\">\n",
       "\t\t\t<hr style=\"color: gray; width: 95%;\" />\n",
       "\t\t</div>\n",
       "\t\t\n",
       "    \t<div style=\"position: relative; width: 100%; height:auto; overflow: auto;\">\n",
       "\t    \t<div style=\"position: relative; float:left; width: 120px; margin-top:25px\">\n",
       "\t    \t\t<img style=\"width:100px; height: auto; max-height:150px\" src=\"../data/retrotech/images/37988909926.jpg\">\n",
       "\t    \t</div>\n",
       "\t    \t<div style=\"position:relative; float:left; clear:none; width: 80%; height:auto\">\n",
       "\t    \t\t<p><strong>Name:</strong> Panasonic - 2.2 Cu. Ft. Full-Size Microwave - Stainless-Steel | <strong>Manufacturer:</strong> Panasonic</p>\n",
       "\t    \t\t<p> \n",
       "\t    \t\t</p>\n",
       "\t    \t</div>\n",
       "    \t</div>\n",
       "    \t\n",
       "\t\t<div style=\"position:relative; clear:both; content: ' '; display: block; height: 1px; margin-top: 10px; margin-bottom:20px\">\n",
       "\t\t\t<hr style=\"color: gray; width: 95%;\" />\n",
       "\t\t</div>\n",
       "\t\t\n",
       "    \t<div style=\"position: relative; width: 100%; height:auto; overflow: auto;\">\n",
       "\t    \t<div style=\"position: relative; float:left; width: 120px; margin-top:25px\">\n",
       "\t    \t\t<img style=\"width:100px; height: auto; max-height:150px\" src=\"../data/retrotech/images/37988910250.jpg\">\n",
       "\t    \t</div>\n",
       "\t    \t<div style=\"position:relative; float:left; clear:none; width: 80%; height:auto\">\n",
       "\t    \t\t<p><strong>Name:</strong> Panasonic - 2.2 Cu. Ft. Full-Size Microwave - Stainless-Steel | <strong>Manufacturer:</strong> Panasonic</p>\n",
       "\t    \t\t<p> \n",
       "\t    \t\t</p>\n",
       "\t    \t</div>\n",
       "    \t</div>\n",
       "    \t\n",
       "\t\t<div style=\"position:relative; clear:both; content: ' '; display: block; height: 1px; margin-top: 10px; margin-bottom:20px\">\n",
       "\t\t\t<hr style=\"color: gray; width: 95%;\" />\n",
       "\t\t</div>\n",
       "\t\t"
      ],
      "text/plain": [
       "<IPython.core.display.HTML object>"
      ]
     },
     "metadata": {},
     "output_type": "display_data"
    }
   ],
   "source": [
    "from operator import itemgetter\n",
    "\n",
    "def rerank_with_personalization(docs, personalization_vector):\n",
    "    result_embeddings = np.array([product_ids_emb[docs[x]['upc']]\n",
    "                                  for x in range(len(docs))]).astype(float)\n",
    "    similarities = sentence_transformers.util.cos_sim(\n",
    "        personalization_vector, result_embeddings).tolist()[0]\n",
    "    reranked = [similarities.index(i)\n",
    "                for i in heapq.nlargest(len(similarities), similarities)]\n",
    "    reranked, _ = zip(*sorted(enumerate(similarities),\n",
    "                              key=itemgetter(1), reverse=True))\n",
    "    return [docs[i] for i in reranked]\n",
    "   \n",
    "print(\"Personalized search results (no category guardrails):\")\n",
    "reranked_seach_results_no_guardrails = \\\n",
    "    rerank_with_personalization(docs, unfiltered_personalization_vector) \n",
    "display_product_search(query, reranked_seach_results_no_guardrails[0:4])\n",
    "\n",
    "print(\"Personalized search results (with category guardrails):\")\n",
    "reranked_seach_results_with_guardrails = \\\n",
    "    rerank_with_personalization(docs, filtered_personalization_vector) \n",
    "display_product_search(query, reranked_seach_results_with_guardrails[0:4])\n"
   ]
  },
  {
   "cell_type": "markdown",
   "id": "af0fca6f",
   "metadata": {},
   "source": [
    "Up next: Chapter 10 - [Learning to Rank for Generalizable Search Relevance](../ch10/1.setup-the-movie-db.ipynb)"
   ]
  }
 ],
 "metadata": {
  "kernelspec": {
   "display_name": "Python 3 (ipykernel)",
   "language": "python",
   "name": "python3"
  },
  "language_info": {
   "codemirror_mode": {
    "name": "ipython",
    "version": 3
   },
   "file_extension": ".py",
   "mimetype": "text/x-python",
   "name": "python",
   "nbconvert_exporter": "python",
   "pygments_lexer": "ipython3",
   "version": "3.10.9"
  }
 },
 "nbformat": 4,
 "nbformat_minor": 5
}
