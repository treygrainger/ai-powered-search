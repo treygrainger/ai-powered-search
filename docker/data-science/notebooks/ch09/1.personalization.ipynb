{
 "cells": [
  {
   "cell_type": "markdown",
   "id": "1424a3fd",
   "metadata": {},
   "source": [
    "# [ Chapter 9 - Personalized Search ]\n",
    "# Personalized Search"
   ]
  },
  {
   "cell_type": "markdown",
   "id": "a2ad52b6",
   "metadata": {},
   "source": [
    "**NOTE**: This notebook depends upon the the Retrotech dataset. If you have any issues, please rerun the [Setting up the Retrotech Dataset](../ch04/1.setting-up-the-retrotech-dataset.ipynb) notebook or execute the next cell uncommented."
   ]
  },
  {
   "cell_type": "code",
   "execution_count": 1,
   "id": "f49e97a0",
   "metadata": {
    "tags": []
   },
   "outputs": [],
   "source": [
    "import sys\n",
    "sys.path.append('..')"
   ]
  },
  {
   "cell_type": "code",
   "execution_count": 2,
   "id": "f83e1a49",
   "metadata": {
    "tags": []
   },
   "outputs": [],
   "source": [
    "import os\n",
    "import sys\n",
    "\n",
    "sys.path.append('..')\n",
    "import pickle\n",
    "import time\n",
    "from collections import defaultdict\n",
    "from datetime import datetime\n",
    "from operator import itemgetter\n",
    "\n",
    "import matplotlib.pyplot as plt\n",
    "import numpy as np\n",
    "import seaborn as sns\n",
    "import sklearn.cluster as cluster\n",
    "from aips import *\n",
    "from dataframe_functions import *\n",
    "from IPython.display import HTML, display\n",
    "from pyspark.conf import SparkConf\n",
    "from pyspark.ml.feature import IndexToString, StringIndexer\n",
    "from pyspark.sql import SparkSession\n",
    "from pyspark.sql.functions import col, explode\n",
    "\n",
    "engine = get_engine()"
   ]
  },
  {
   "cell_type": "code",
   "execution_count": 3,
   "id": "65b1073e",
   "metadata": {
    "tags": []
   },
   "outputs": [],
   "source": [
    "#Recommended for making ALS run faster, if you have enough memory / cores allocated to docker\n",
    "conf = SparkConf()\n",
    "conf.set(\"spark.driver.memory\", \"8g\")\n",
    "conf.set(\"spark.executor.memory\", \"8g\")\n",
    "conf.set(\"spark.dynamicAllocation.enabled\", \"true\")\n",
    "conf.set(\"spark.dynamicAllocation.executorMemoryOverhead\", \"8g\")\n",
    "spark = SparkSession.builder.appName(\"AIPS-ch9\").config(conf=conf).getOrCreate()"
   ]
  },
  {
   "cell_type": "code",
   "execution_count": 4,
   "id": "3c376197",
   "metadata": {
    "tags": []
   },
   "outputs": [],
   "source": [
    "#%run ../ch04/1.setting-up-the-retrotech-dataset.ipynb"
   ]
  },
  {
   "cell_type": "code",
   "execution_count": 5,
   "id": "48197bec",
   "metadata": {
    "tags": []
   },
   "outputs": [],
   "source": [
    "### Load product data\n",
    "products_collection = engine.get_collection(\"products\")\n",
    "create_view_from_collection(products_collection, \"products\", spark)"
   ]
  },
  {
   "cell_type": "markdown",
   "id": "4d1f3344",
   "metadata": {},
   "source": [
    "# Collaborative Filtering with Implicit Preferences"
   ]
  },
  {
   "cell_type": "code",
   "execution_count": 6,
   "id": "845c2f03",
   "metadata": {
    "tags": []
   },
   "outputs": [],
   "source": [
    "def aggregate_signals(signals_collection, signals_agg_collection_name, query):\n",
    "    aggregated_collection = engine.create_collection(signals_agg_collection_name)\n",
    "    print(\"Aggregating Signals to Create Signals Boosts...\")\n",
    "    create_view_from_collection(signals_collection, \"signals\", spark)\n",
    "    aggregated_collection.write(from_sql(query, spark))\n",
    "    print(\"Signals Aggregation Completed!\")\n",
    "    return aggregated_collection"
   ]
  },
  {
   "cell_type": "markdown",
   "id": "fbbbcdb4",
   "metadata": {},
   "source": [
    "## Listing 9.1"
   ]
  },
  {
   "cell_type": "code",
   "execution_count": 7,
   "id": "721bec00",
   "metadata": {
    "tags": []
   },
   "outputs": [
    {
     "name": "stdout",
     "output_type": "stream",
     "text": [
      "Wiping \"user_product_implicit_preferences\" collection\n",
      "Creating \"user_product_implicit_preferences\" collection\n",
      "Status: Success\n",
      "Aggregating Signals to Create Signals Boosts...\n",
      "Signals Aggregation Completed!\n"
     ]
    }
   ],
   "source": [
    "click_weight = 1\n",
    "add_to_cart_weight = 0 ##increase to consider add-to-cart signals\n",
    "purchase_weight = 0 ##increase to consider purchase signals\n",
    "\n",
    "signals_collection = engine.get_collection(\"signals\")\n",
    "\n",
    "mixed_signal_types_aggregation = f\"\"\"\n",
    "SELECT user, product,\n",
    "  (click_boost + add_to_cart_boost + purchase_boost) AS rating\n",
    "FROM (\n",
    "  SELECT user, product, \n",
    "    SUM(click) AS click_boost,\n",
    "    SUM(add_to_cart) AS add_to_cart_boost,\n",
    "    SUM(purchase) AS purchase_boost\n",
    "  FROM (  \n",
    "      SELECT s.user, s.target AS product, \n",
    "        IF(s.type = 'click', {click_weight}, 0) AS click, \n",
    "        IF(s.type = 'add-to-cart', {add_to_cart_weight}, 0) AS add_to_cart,\n",
    "        IF(s.type = 'purchase', {purchase_weight}, 0) AS purchase\n",
    "      FROM signals s \n",
    "      WHERE (s.type != 'query')\n",
    "    ) raw_signals\n",
    "  GROUP BY user, product\n",
    ") AS per_type_boosts\n",
    "\"\"\"\n",
    "\n",
    "signals_agg_collection = \\\n",
    "  aggregate_signals(signals_collection, \"user_product_implicit_preferences\",\n",
    "                    mixed_signal_types_aggregation)"
   ]
  },
  {
   "cell_type": "code",
   "execution_count": 8,
   "id": "606ccba5",
   "metadata": {
    "tags": []
   },
   "outputs": [
    {
     "data": {
      "text/plain": [
       "<Response [415]>"
      ]
     },
     "execution_count": 8,
     "metadata": {},
     "output_type": "execute_result"
    }
   ],
   "source": [
    "create_view_from_collection(signals_agg_collection, \"user_product_implicit_preferences\", spark)\n",
    "signals_agg_collection.commit() #sleep for temptable?"
   ]
  },
  {
   "cell_type": "markdown",
   "id": "a5d89193",
   "metadata": {},
   "source": [
    "## Listing 9.2"
   ]
  },
  {
   "cell_type": "code",
   "execution_count": 9,
   "id": "c4d19491",
   "metadata": {
    "tags": []
   },
   "outputs": [],
   "source": [
    "##50K = all products\n",
    "#This will take long time. Recommend setting to 1,000 if trying to just run through code\n",
    "#without considering all products\n",
    "\n",
    "top_product_count_for_recs = 50000 #1000 for older computers \n",
    "\n",
    "user_prefs = spark.sql(f\"\"\"\n",
    "  SELECT user, product, rating FROM user_product_implicit_preferences\n",
    "  WHERE product IN (\n",
    "    SELECT product FROM (\n",
    "      SELECT product, COUNT(user) user_count\n",
    "      FROM user_product_implicit_preferences\n",
    "      GROUP BY product\n",
    "      ORDER BY user_count DESC\n",
    "      LIMIT {top_product_count_for_recs}\n",
    "    ) top_products\n",
    "  )   \n",
    "  ORDER BY rating DESC\"\"\")"
   ]
  },
  {
   "cell_type": "markdown",
   "id": "38e9335d",
   "metadata": {},
   "source": [
    "## Listing 9.3 "
   ]
  },
  {
   "cell_type": "code",
   "execution_count": 11,
   "id": "4920cdad",
   "metadata": {
    "tags": []
   },
   "outputs": [
    {
     "name": "stdout",
     "output_type": "stream",
     "text": [
      "+-------+------------+------+---------+------------+\n",
      "|   user|     product|rating|userIndex|productIndex|\n",
      "+-------+------------+------+---------+------------+\n",
      "|u159789|014633196870|     1|      0.0|      4525.0|\n",
      "|u159789|801213001996|     1|      0.0|     28737.0|\n",
      "|u159789|025192979620|     1|      0.0|     12289.0|\n",
      "|u159789|025193102324|     1|      0.0|      9650.0|\n",
      "|u159789|018713571687|     1|      0.0|     10355.0|\n",
      "|u159789|085391163121|     1|      0.0|      9196.0|\n",
      "|u159789|886541105851|     1|      0.0|      1394.0|\n",
      "|u159789|720616236029|     1|      0.0|      2781.0|\n",
      "|u159789|024543718710|     1|      0.0|       263.0|\n",
      "|u159789|813985010007|     1|      0.0|      5819.0|\n",
      "+-------+------------+------+---------+------------+\n",
      "only showing top 10 rows\n",
      "\n"
     ]
    }
   ],
   "source": [
    "def strings_to_indexes(ratings, user_indexer, product_indexer):\n",
    "    #Fits a model to the input dataset with optional parameters.\n",
    "    return product_indexer.transform(\n",
    "             user_indexer.transform(ratings))\n",
    "\n",
    "def indexes_to_strings(ratings, user_indexer, product_indexer):\n",
    "    user_converter = IndexToString(inputCol=\"userIndex\",\n",
    "                                       outputCol=\"user\",\n",
    "                             labels=user_indexer.labels)\n",
    "    product_converter = IndexToString(inputCol=\"productIndex\",\n",
    "                                          outputCol=\"product\",\n",
    "                                labels=product_indexer.labels)\n",
    "    return user_converter.transform(\n",
    "             product_converter.transform(ratings))\n",
    "\n",
    "user_indexer = StringIndexer(inputCol=\"user\", \n",
    "                             outputCol=\"userIndex\").fit(user_prefs)\n",
    "product_indexer = StringIndexer(inputCol=\"product\", outputCol=\"productIndex\").fit(user_prefs)\n",
    "indexed_prefs = strings_to_indexes(user_prefs, user_indexer, product_indexer)\n",
    "indexed_prefs.orderBy(col(\"userIndex\").asc(), col(\"rating\").desc()).show(10)"
   ]
  },
  {
   "cell_type": "markdown",
   "id": "30470626",
   "metadata": {},
   "source": [
    "## Listing 9.4"
   ]
  },
  {
   "cell_type": "code",
   "execution_count": 12,
   "id": "b6b6a2fa",
   "metadata": {
    "tags": []
   },
   "outputs": [
    {
     "name": "stdout",
     "output_type": "stream",
     "text": [
      "Beginning model training\n",
      "Beginning predictions\n",
      "Beginning evaluation\n",
      "Root-mean-square error = 0.9592030787724133\n"
     ]
    }
   ],
   "source": [
    "from pyspark.ml.evaluation import RegressionEvaluator\n",
    "from pyspark.ml.recommendation import ALS\n",
    "from pyspark.sql import Row\n",
    "\n",
    "als = ALS(maxIter=3, rank=10, regParam=0.15, implicitPrefs=True,\n",
    "          userCol=\"userIndex\", itemCol=\"productIndex\", ratingCol=\"rating\",\n",
    "          coldStartStrategy=\"drop\", seed=0)\n",
    "#-3939200230093063679\n",
    "\n",
    "(training, test) = indexed_prefs.randomSplit([0.8, 0.2], 0)\n",
    "\n",
    "print(\"Beginning model training\")\n",
    "model = als.fit(indexed_prefs)\n",
    "\n",
    "print(\"Beginning predictions\")\n",
    "predictions = model.transform(test)\n",
    "\n",
    "print(\"Beginning evaluation\")\n",
    "evaluator = RegressionEvaluator(metricName=\"rmse\", labelCol=\"rating\",\n",
    "                                predictionCol=\"prediction\")\n",
    "rmse = evaluator.evaluate(predictions)\n",
    "print(f\"Root-mean-square error = {rmse}\")"
   ]
  },
  {
   "cell_type": "markdown",
   "id": "0d4577f3",
   "metadata": {},
   "source": [
    "## Listing 9.5"
   ]
  },
  {
   "cell_type": "code",
   "execution_count": 13,
   "id": "561d70cc",
   "metadata": {
    "tags": []
   },
   "outputs": [
    {
     "name": "stdout",
     "output_type": "stream",
     "text": [
      "+---------+--------------------+\n",
      "|userIndex|     recommendations|\n",
      "+---------+--------------------+\n",
      "|        0|[{11, 0.012086858...|\n",
      "|        1|[{5, 0.007106718}...|\n",
      "|        2|[{7, 0.04302781},...|\n",
      "|        3|[{1, 0.024328625}...|\n",
      "|        4|[{5, 0.0074675833...|\n",
      "+---------+--------------------+\n",
      "only showing top 5 rows\n",
      "\n"
     ]
    }
   ],
   "source": [
    "# Generate top 3 product recommendations for each user\n",
    "indexed_user_recs = model.recommendForAllUsers(10)\n",
    "indexed_user_recs.orderBy(col(\"userIndex\").asc()).show(5)"
   ]
  },
  {
   "cell_type": "markdown",
   "id": "8927aa9d",
   "metadata": {},
   "source": [
    "## Listing 9.6"
   ]
  },
  {
   "cell_type": "code",
   "execution_count": 14,
   "id": "67f5db2c",
   "metadata": {
    "tags": []
   },
   "outputs": [],
   "source": [
    "column_exploder = explode(\"recommendations\").alias(\"productIndex_rating\")\n",
    "user_item_recs = indexed_user_recs.select(\"userIndex\", column_exploder) \\\n",
    "                      .select(\"userIndex\", col(\"productIndex_rating.*\"))\n",
    "user_item_recs = indexes_to_strings(user_item_recs, user_indexer,\n",
    "                                    product_indexer)\n",
    "user_item_recs = user_item_recs.select(\"user\", \"product\",\n",
    "                                       col(\"rating\").alias(\"boost\"))"
   ]
  },
  {
   "cell_type": "markdown",
   "id": "5d36d7d9",
   "metadata": {},
   "source": [
    "# Listing 9.7"
   ]
  },
  {
   "cell_type": "code",
   "execution_count": 15,
   "id": "4f26bb58",
   "metadata": {
    "tags": []
   },
   "outputs": [
    {
     "name": "stdout",
     "output_type": "stream",
     "text": [
      "Start Time: 2024-03-31 13:42:58\n",
      "Wiping \"user_item_recommendations\" collection\n",
      "Creating \"user_item_recommendations\" collection\n",
      "Status: Success\n",
      "Writing recommendations to Solr...\n",
      "Recommendations saved to table: user_item_recommendations\n",
      "End Time: 2024-03-31 13:45:07\n"
     ]
    }
   ],
   "source": [
    "print(\"Start Time: \" + datetime.now().strftime(\"%Y-%m-%d %H:%M:%S\"))\n",
    "\n",
    "#Write recommendations to Solr\n",
    "recs_collection = engine.create_collection(\"user_item_recommendations\")\n",
    "user_item_recs.createOrReplaceTempView(\"temp_user_item_recs\")\n",
    "print(\"Writing recommendations to Solr...\")\n",
    "recs_collection.write(from_sql(\"SELECT * FROM temp_user_item_recs\", spark))\n",
    "#faster to use spark.sql than write df directly due to execution plan\n",
    "#user_item_recs.write.format(\"solr\").options(**opts).mode(\"overwrite\").save()\n",
    "print(\"Recommendations saved to table: \" + recs_collection.name)\n",
    "\n",
    "print(\"End Time: \" + datetime.now().strftime(\"%Y-%m-%d %H:%M:%S\"))"
   ]
  },
  {
   "cell_type": "markdown",
   "id": "aba10513",
   "metadata": {},
   "source": [
    "# Search with Recommendations Boosts\n",
    "Whereas signals boosting boosts the most popular documents for a particular query (ch8), you can also boost the most personalized items for a particular user. In order to serve up the pre-generated collaborative recommendations we just generated, we can just need to run a search and boost the recommended items for each user."
   ]
  },
  {
   "cell_type": "markdown",
   "id": "8dbb5db5",
   "metadata": {},
   "source": [
    "## Listing 9.8"
   ]
  },
  {
   "cell_type": "code",
   "execution_count": 16,
   "id": "6d466229",
   "metadata": {
    "tags": []
   },
   "outputs": [
    {
     "name": "stdout",
     "output_type": "stream",
     "text": [
      "User: u478462\n",
      "\n",
      "Previous Searches: \n",
      "--macbook\n",
      "--apple\n",
      "\n",
      "Previous Product Interactions: \n",
      "--type: click, name: Apple® - MacBook® Air - Intel® Core™ i5 Processor - 11.6\" Display - 4GB Memory - 128GB Flash Storage\n",
      "--type: purchase, name: Apple® - iPad® 2 with Wi-Fi - 16GB - Black\n",
      "--type: add-to-cart, name: Apple® - iPad® 2 with Wi-Fi - 16GB - Black\n",
      "--type: click, name: Apple® - iPad® 2 with Wi-Fi - 16GB - Black\n"
     ]
    }
   ],
   "source": [
    "engine = get_engine()\n",
    "user = \"u478462\" #example user\n",
    "signals_collection = engine.get_collection(\"signals\")\n",
    "products_collection = engine.get_collection(\"products\")\n",
    "\n",
    "def signals_request(filters):\n",
    "    return {\"query\": \"*\",\n",
    "            \"return_fields\": [\"*\"],\n",
    "            \"order_by\": [(\"signal_time\", \"desc\")],\n",
    "            \"filters\": filters}\n",
    "    \n",
    "request = signals_request([(\"user\", user), (\"type\", \"query\")])\n",
    "previous_searches = signals_collection.search(**request)[\"docs\"]\n",
    "\n",
    "request = signals_request([(\"user\", user), (\"-type\", \"query\")])\n",
    "interactions = signals_collection.search(**request)[\"docs\"]\n",
    "interacted_products = [i[\"target\"] for i in interactions]\n",
    "\n",
    "request = {\"filters\": [(\"upc\", interacted_products)]}\n",
    "products = products_collection.search(**request)[\"docs\"]\n",
    "\n",
    "product_info = {}\n",
    "for product in products:\n",
    "    product_info[product[\"upc\"]] = product[\"name\"] \\\n",
    "        .replace(\"&#xAE;\",\"®\").replace(\"&#x2122;\", \"™\") #replace encoded version to make more readable\n",
    "\n",
    "print(f\"User: {user}\")\n",
    "print(\"\\nPrevious Searches: \")\n",
    "for doc in previous_searches:\n",
    "    print(f'--{doc[\"target\"]}')\n",
    "    \n",
    "print(\"\\nPrevious Product Interactions: \")\n",
    "for i in interactions:\n",
    "    print(f'--type: {i[\"type\"]}, name: {product_info[i[\"target\"]]}') "
   ]
  },
  {
   "cell_type": "markdown",
   "id": "e2473c9f",
   "metadata": {},
   "source": [
    "## Listing 9.9"
   ]
  },
  {
   "cell_type": "code",
   "execution_count": 17,
   "metadata": {},
   "outputs": [],
   "source": [
    "# %load -s product_search_request engine/search_requests\n",
    "def product_search_request(query):\n",
    "    request = {\"query\": query,\n",
    "               \"query_fields\": [\"name\", \"manufacturer\", \"longDescription\"],\n",
    "               \"return_fields\": [\"upc\", \"name\", \"manufacturer\", \"score\"],\n",
    "               \"limit\": 5,\n",
    "               \"order_by\": [(\"score\", \"desc\"), (\"upc\", \"asc\")]}\n",
    "    return request\n"
   ]
  },
  {
   "cell_type": "code",
   "execution_count": 18,
   "id": "eb59c420",
   "metadata": {},
   "outputs": [],
   "source": [
    "def get_query_time_boosts(user, boosts_collection):\n",
    "    request = {\"query\": \"*\",\n",
    "               \"return_fields\": [\"product\", \"boost\"],\n",
    "               \"filters\": [(\"user\", user)] if user else [],\n",
    "               \"limit\": 10,\n",
    "               \"order_by\": [(\"boost\", \"desc\")]}\n",
    "    \n",
    "    response = boosts_collection.search(**request)\n",
    "    signals_boosts = response[\"docs\"]\n",
    "    return \" \".join(f'\"{b[\"product\"]}\"^{b[\"boost\"] * 100}' for b in signals_boosts)\n",
    "\n",
    "def run_main_query(query, signals_boosts):\n",
    "    request = product_search_request(query if query else \"*\")\n",
    "    request[\"query_boosts\"] = signals_boosts if signals_boosts else \"*\"\n",
    "    return products_collection.search(**request)"
   ]
  },
  {
   "cell_type": "code",
   "execution_count": 19,
   "id": "8a28fe58",
   "metadata": {
    "tags": []
   },
   "outputs": [
    {
     "name": "stdout",
     "output_type": "stream",
     "text": [
      "Boost Query:\n",
      "\"885909457588\"^77.38706499999999 \"097360810042\"^19.463603 \"821793013776\"^18.350375999999997 \"610839379408\"^11.455224999999999 \"885909395095\"^7.172476499999999 \"635753493559\"^6.997904000000001 \"885909431618\"^6.1022766 \"885909459858\"^5.879623 \"885370138405\"^5.232982 \"612572186237\"^4.798369\n"
     ]
    },
    {
     "data": {
      "text/html": [
       "<div id=\"demo\">\n",
       "        <input style=\"width:50%\" readonly type=\"text\" name=\"q\" value=\"\">\n",
       "        <input readonly type=\"submit\" value=\"Search\">\n",
       "\n",
       "    <div class=\"results\">\n",
       "    \t\n",
       "\n",
       "    </div>\n",
       "</div>\n",
       "    \t<div style=\"position: relative; width: 100%; height:auto; overflow: auto;\">\n",
       "\t    \t<div style=\"position: relative; float:left; width: 120px; margin-top:5px\">\n",
       "\t    \t\t<img style=\"width:100px; height: auto; max-height:150px\" src=\"../data/retrotech/images/unavailable.jpg\">\n",
       "\t    \t</div>\n",
       "\t    \t<div style=\"position:relative; float:left; clear:none; width: 80%; height:auto\">\n",
       "\t    \t\t<p><strong>Name:</strong> Keurig - Van Houtte French Vanilla Coffee K-Cups (108-Pack) | <strong>Manufacturer:</strong> Keurig</p>\n",
       "\t    \t\t<p> \n",
       "\t    \t\t</p>\n",
       "\t    \t</div>\n",
       "    \t</div>\n",
       "    \t\n",
       "\t\t<div style=\"position:relative; clear:both; content: ' '; display: block; height: 1px; margin-top: 10px; margin-bottom:20px\">\n",
       "\t\t\t<hr style=\"color: gray; width: 95%;\" />\n",
       "\t\t</div>\n",
       "\t\t\n",
       "    \t<div style=\"position: relative; width: 100%; height:auto; overflow: auto;\">\n",
       "\t    \t<div style=\"position: relative; float:left; width: 120px; margin-top:5px\">\n",
       "\t    \t\t<img style=\"width:100px; height: auto; max-height:150px\" src=\"../data/retrotech/images/unavailable.jpg\">\n",
       "\t    \t</div>\n",
       "\t    \t<div style=\"position:relative; float:left; clear:none; width: 80%; height:auto\">\n",
       "\t    \t\t<p><strong>Name:</strong> Impactando Las Naciones - CD | <strong>Manufacturer:</strong> MAR Music</p>\n",
       "\t    \t\t<p> \n",
       "\t    \t\t</p>\n",
       "\t    \t</div>\n",
       "    \t</div>\n",
       "    \t\n",
       "\t\t<div style=\"position:relative; clear:both; content: ' '; display: block; height: 1px; margin-top: 10px; margin-bottom:20px\">\n",
       "\t\t\t<hr style=\"color: gray; width: 95%;\" />\n",
       "\t\t</div>\n",
       "\t\t\n",
       "    \t<div style=\"position: relative; width: 100%; height:auto; overflow: auto;\">\n",
       "\t    \t<div style=\"position: relative; float:left; width: 120px; margin-top:5px\">\n",
       "\t    \t\t<img style=\"width:100px; height: auto; max-height:150px\" src=\"../data/retrotech/images/unavailable.jpg\">\n",
       "\t    \t</div>\n",
       "\t    \t<div style=\"position:relative; float:left; clear:none; width: 80%; height:auto\">\n",
       "\t    \t\t<p><strong>Name:</strong> Super Monkey Ball 3D - Nintendo 3DS | <strong>Manufacturer:</strong> Sega</p>\n",
       "\t    \t\t<p> \n",
       "\t    \t\t</p>\n",
       "\t    \t</div>\n",
       "    \t</div>\n",
       "    \t\n",
       "\t\t<div style=\"position:relative; clear:both; content: ' '; display: block; height: 1px; margin-top: 10px; margin-bottom:20px\">\n",
       "\t\t\t<hr style=\"color: gray; width: 95%;\" />\n",
       "\t\t</div>\n",
       "\t\t\n",
       "    \t<div style=\"position: relative; width: 100%; height:auto; overflow: auto;\">\n",
       "\t    \t<div style=\"position: relative; float:left; width: 120px; margin-top:5px\">\n",
       "\t    \t\t<img style=\"width:100px; height: auto; max-height:150px\" src=\"../data/retrotech/images/unavailable.jpg\">\n",
       "\t    \t</div>\n",
       "\t    \t<div style=\"position:relative; float:left; clear:none; width: 80%; height:auto\">\n",
       "\t    \t\t<p><strong>Name:</strong> Thor: God of Thunder - Nintendo 3DS | <strong>Manufacturer:</strong> Sega</p>\n",
       "\t    \t\t<p> \n",
       "\t    \t\t</p>\n",
       "\t    \t</div>\n",
       "    \t</div>\n",
       "    \t\n",
       "\t\t<div style=\"position:relative; clear:both; content: ' '; display: block; height: 1px; margin-top: 10px; margin-bottom:20px\">\n",
       "\t\t\t<hr style=\"color: gray; width: 95%;\" />\n",
       "\t\t</div>\n",
       "\t\t\n",
       "    \t<div style=\"position: relative; width: 100%; height:auto; overflow: auto;\">\n",
       "\t    \t<div style=\"position: relative; float:left; width: 120px; margin-top:5px\">\n",
       "\t    \t\t<img style=\"width:100px; height: auto; max-height:150px\" src=\"../data/retrotech/images/unavailable.jpg\">\n",
       "\t    \t</div>\n",
       "\t    \t<div style=\"position:relative; float:left; clear:none; width: 80%; height:auto\">\n",
       "\t    \t\t<p><strong>Name:</strong> Captain America: Super Soldier - Nintendo 3DS | <strong>Manufacturer:</strong> Sega</p>\n",
       "\t    \t\t<p> \n",
       "\t    \t\t</p>\n",
       "\t    \t</div>\n",
       "    \t</div>\n",
       "    \t\n",
       "\t\t<div style=\"position:relative; clear:both; content: ' '; display: block; height: 1px; margin-top: 10px; margin-bottom:20px\">\n",
       "\t\t\t<hr style=\"color: gray; width: 95%;\" />\n",
       "\t\t</div>\n",
       "\t\t"
      ],
      "text/plain": [
       "<IPython.core.display.HTML object>"
      ]
     },
     "metadata": {},
     "output_type": "display_data"
    }
   ],
   "source": [
    "recs_collection = engine.get_collection(\"user_item_recommendations\")\n",
    "user = \"u478462\"\n",
    "boosts = get_query_time_boosts(user, recs_collection)\n",
    "\n",
    "response = run_main_query(None, boosts)\n",
    "\n",
    "print(f\"Boost Query:\\n{boosts}\")\n",
    "display_product_search(\"\", response[\"docs\"])"
   ]
  },
  {
   "cell_type": "markdown",
   "id": "1a12c0c5",
   "metadata": {},
   "source": [
    "## Listing 9.10"
   ]
  },
  {
   "cell_type": "code",
   "execution_count": 20,
   "id": "f61f8182",
   "metadata": {
    "tags": []
   },
   "outputs": [
    {
     "name": "stdout",
     "output_type": "stream",
     "text": [
      "Non-personalized Query\n"
     ]
    },
    {
     "data": {
      "text/html": [
       "<div id=\"demo\">\n",
       "        <input style=\"width:50%\" readonly type=\"text\" name=\"q\" value=\"tablet\">\n",
       "        <input readonly type=\"submit\" value=\"Search\">\n",
       "\n",
       "    <div class=\"results\">\n",
       "    \t\n",
       "\n",
       "    </div>\n",
       "</div>\n",
       "    \t<div style=\"position: relative; width: 100%; height:auto; overflow: auto;\">\n",
       "\t    \t<div style=\"position: relative; float:left; width: 120px; margin-top:5px\">\n",
       "\t    \t\t<img style=\"width:100px; height: auto; max-height:150px\" src=\"../data/retrotech/images/600603138423.jpg\">\n",
       "\t    \t</div>\n",
       "\t    \t<div style=\"position:relative; float:left; clear:none; width: 80%; height:auto\">\n",
       "\t    \t\t<p><strong>Name:</strong> Init&#x2122; - Tablet Sleeve - Olive | <strong>Manufacturer:</strong> Init&#x99;</p>\n",
       "\t    \t\t<p> \n",
       "\t    \t\t</p>\n",
       "\t    \t</div>\n",
       "    \t</div>\n",
       "    \t\n",
       "\t\t<div style=\"position:relative; clear:both; content: ' '; display: block; height: 1px; margin-top: 10px; margin-bottom:20px\">\n",
       "\t\t\t<hr style=\"color: gray; width: 95%;\" />\n",
       "\t\t</div>\n",
       "\t\t\n",
       "    \t<div style=\"position: relative; width: 100%; height:auto; overflow: auto;\">\n",
       "\t    \t<div style=\"position: relative; float:left; width: 120px; margin-top:5px\">\n",
       "\t    \t\t<img style=\"width:100px; height: auto; max-height:150px\" src=\"../data/retrotech/images/5024545249224.jpg\">\n",
       "\t    \t</div>\n",
       "\t    \t<div style=\"position:relative; float:left; clear:none; width: 80%; height:auto\">\n",
       "\t    \t\t<p><strong>Name:</strong> Memorial Tablet - CD | <strong>Manufacturer:</strong> Ltm/cd41</p>\n",
       "\t    \t\t<p> \n",
       "\t    \t\t</p>\n",
       "\t    \t</div>\n",
       "    \t</div>\n",
       "    \t\n",
       "\t\t<div style=\"position:relative; clear:both; content: ' '; display: block; height: 1px; margin-top: 10px; margin-bottom:20px\">\n",
       "\t\t\t<hr style=\"color: gray; width: 95%;\" />\n",
       "\t\t</div>\n",
       "\t\t\n",
       "    \t<div style=\"position: relative; width: 100%; height:auto; overflow: auto;\">\n",
       "\t    \t<div style=\"position: relative; float:left; width: 120px; margin-top:5px\">\n",
       "\t    \t\t<img style=\"width:100px; height: auto; max-height:150px\" src=\"../data/retrotech/images/793447512228.jpg\">\n",
       "\t    \t</div>\n",
       "\t    \t<div style=\"position:relative; float:left; clear:none; width: 80%; height:auto\">\n",
       "\t    \t\t<p><strong>Name:</strong> Stone Tablet - CD | <strong>Manufacturer:</strong> Important Records</p>\n",
       "\t    \t\t<p> \n",
       "\t    \t\t</p>\n",
       "\t    \t</div>\n",
       "    \t</div>\n",
       "    \t\n",
       "\t\t<div style=\"position:relative; clear:both; content: ' '; display: block; height: 1px; margin-top: 10px; margin-bottom:20px\">\n",
       "\t\t\t<hr style=\"color: gray; width: 95%;\" />\n",
       "\t\t</div>\n",
       "\t\t\n",
       "    \t<div style=\"position: relative; width: 100%; height:auto; overflow: auto;\">\n",
       "\t    \t<div style=\"position: relative; float:left; width: 120px; margin-top:5px\">\n",
       "\t    \t\t<img style=\"width:100px; height: auto; max-height:150px\" src=\"../data/retrotech/images/27242831599.jpg\">\n",
       "\t    \t</div>\n",
       "\t    \t<div style=\"position:relative; float:left; clear:none; width: 80%; height:auto\">\n",
       "\t    \t\t<p><strong>Name:</strong> Sony - AC Power Adapter for Sony Tablet S | <strong>Manufacturer:</strong> Sony</p>\n",
       "\t    \t\t<p> \n",
       "\t    \t\t</p>\n",
       "\t    \t</div>\n",
       "    \t</div>\n",
       "    \t\n",
       "\t\t<div style=\"position:relative; clear:both; content: ' '; display: block; height: 1px; margin-top: 10px; margin-bottom:20px\">\n",
       "\t\t\t<hr style=\"color: gray; width: 95%;\" />\n",
       "\t\t</div>\n",
       "\t\t\n",
       "    \t<div style=\"position: relative; width: 100%; height:auto; overflow: auto;\">\n",
       "\t    \t<div style=\"position: relative; float:left; width: 120px; margin-top:5px\">\n",
       "\t    \t\t<img style=\"width:100px; height: auto; max-height:150px\" src=\"../data/retrotech/images/843163089211.jpg\">\n",
       "\t    \t</div>\n",
       "\t    \t<div style=\"position:relative; float:left; clear:none; width: 80%; height:auto\">\n",
       "\t    \t\t<p><strong>Name:</strong> BlackBerry - Rapid Charger for BlackBerry PlayBook | <strong>Manufacturer:</strong> BlackBerry</p>\n",
       "\t    \t\t<p> \n",
       "\t    \t\t</p>\n",
       "\t    \t</div>\n",
       "    \t</div>\n",
       "    \t\n",
       "\t\t<div style=\"position:relative; clear:both; content: ' '; display: block; height: 1px; margin-top: 10px; margin-bottom:20px\">\n",
       "\t\t\t<hr style=\"color: gray; width: 95%;\" />\n",
       "\t\t</div>\n",
       "\t\t"
      ],
      "text/plain": [
       "<IPython.core.display.HTML object>"
      ]
     },
     "metadata": {},
     "output_type": "display_data"
    }
   ],
   "source": [
    "query = \"tablet\"\n",
    "response = run_main_query(query, None)\n",
    "print(f\"Non-personalized Query\")\n",
    "display_product_search(query, response[\"docs\"])"
   ]
  },
  {
   "cell_type": "code",
   "execution_count": 21,
   "id": "0ede50af",
   "metadata": {
    "tags": []
   },
   "outputs": [
    {
     "name": "stdout",
     "output_type": "stream",
     "text": [
      "Personalized Query\n"
     ]
    },
    {
     "data": {
      "text/html": [
       "<div id=\"demo\">\n",
       "        <input style=\"width:50%\" readonly type=\"text\" name=\"q\" value=\"tablet\">\n",
       "        <input readonly type=\"submit\" value=\"Search\">\n",
       "\n",
       "    <div class=\"results\">\n",
       "    \t\n",
       "\n",
       "    </div>\n",
       "</div>\n",
       "    \t<div style=\"position: relative; width: 100%; height:auto; overflow: auto;\">\n",
       "\t    \t<div style=\"position: relative; float:left; width: 120px; margin-top:5px\">\n",
       "\t    \t\t<img style=\"width:100px; height: auto; max-height:150px\" src=\"../data/retrotech/images/600603138423.jpg\">\n",
       "\t    \t</div>\n",
       "\t    \t<div style=\"position:relative; float:left; clear:none; width: 80%; height:auto\">\n",
       "\t    \t\t<p><strong>Name:</strong> Init&#x2122; - Tablet Sleeve - Olive | <strong>Manufacturer:</strong> Init&#x99;</p>\n",
       "\t    \t\t<p> \n",
       "\t    \t\t</p>\n",
       "\t    \t</div>\n",
       "    \t</div>\n",
       "    \t\n",
       "\t\t<div style=\"position:relative; clear:both; content: ' '; display: block; height: 1px; margin-top: 10px; margin-bottom:20px\">\n",
       "\t\t\t<hr style=\"color: gray; width: 95%;\" />\n",
       "\t\t</div>\n",
       "\t\t\n",
       "    \t<div style=\"position: relative; width: 100%; height:auto; overflow: auto;\">\n",
       "\t    \t<div style=\"position: relative; float:left; width: 120px; margin-top:5px\">\n",
       "\t    \t\t<img style=\"width:100px; height: auto; max-height:150px\" src=\"../data/retrotech/images/5024545249224.jpg\">\n",
       "\t    \t</div>\n",
       "\t    \t<div style=\"position:relative; float:left; clear:none; width: 80%; height:auto\">\n",
       "\t    \t\t<p><strong>Name:</strong> Memorial Tablet - CD | <strong>Manufacturer:</strong> Ltm/cd41</p>\n",
       "\t    \t\t<p> \n",
       "\t    \t\t</p>\n",
       "\t    \t</div>\n",
       "    \t</div>\n",
       "    \t\n",
       "\t\t<div style=\"position:relative; clear:both; content: ' '; display: block; height: 1px; margin-top: 10px; margin-bottom:20px\">\n",
       "\t\t\t<hr style=\"color: gray; width: 95%;\" />\n",
       "\t\t</div>\n",
       "\t\t\n",
       "    \t<div style=\"position: relative; width: 100%; height:auto; overflow: auto;\">\n",
       "\t    \t<div style=\"position: relative; float:left; width: 120px; margin-top:5px\">\n",
       "\t    \t\t<img style=\"width:100px; height: auto; max-height:150px\" src=\"../data/retrotech/images/793447512228.jpg\">\n",
       "\t    \t</div>\n",
       "\t    \t<div style=\"position:relative; float:left; clear:none; width: 80%; height:auto\">\n",
       "\t    \t\t<p><strong>Name:</strong> Stone Tablet - CD | <strong>Manufacturer:</strong> Important Records</p>\n",
       "\t    \t\t<p> \n",
       "\t    \t\t</p>\n",
       "\t    \t</div>\n",
       "    \t</div>\n",
       "    \t\n",
       "\t\t<div style=\"position:relative; clear:both; content: ' '; display: block; height: 1px; margin-top: 10px; margin-bottom:20px\">\n",
       "\t\t\t<hr style=\"color: gray; width: 95%;\" />\n",
       "\t\t</div>\n",
       "\t\t\n",
       "    \t<div style=\"position: relative; width: 100%; height:auto; overflow: auto;\">\n",
       "\t    \t<div style=\"position: relative; float:left; width: 120px; margin-top:5px\">\n",
       "\t    \t\t<img style=\"width:100px; height: auto; max-height:150px\" src=\"../data/retrotech/images/27242831599.jpg\">\n",
       "\t    \t</div>\n",
       "\t    \t<div style=\"position:relative; float:left; clear:none; width: 80%; height:auto\">\n",
       "\t    \t\t<p><strong>Name:</strong> Sony - AC Power Adapter for Sony Tablet S | <strong>Manufacturer:</strong> Sony</p>\n",
       "\t    \t\t<p> \n",
       "\t    \t\t</p>\n",
       "\t    \t</div>\n",
       "    \t</div>\n",
       "    \t\n",
       "\t\t<div style=\"position:relative; clear:both; content: ' '; display: block; height: 1px; margin-top: 10px; margin-bottom:20px\">\n",
       "\t\t\t<hr style=\"color: gray; width: 95%;\" />\n",
       "\t\t</div>\n",
       "\t\t\n",
       "    \t<div style=\"position: relative; width: 100%; height:auto; overflow: auto;\">\n",
       "\t    \t<div style=\"position: relative; float:left; width: 120px; margin-top:5px\">\n",
       "\t    \t\t<img style=\"width:100px; height: auto; max-height:150px\" src=\"../data/retrotech/images/843163089211.jpg\">\n",
       "\t    \t</div>\n",
       "\t    \t<div style=\"position:relative; float:left; clear:none; width: 80%; height:auto\">\n",
       "\t    \t\t<p><strong>Name:</strong> BlackBerry - Rapid Charger for BlackBerry PlayBook | <strong>Manufacturer:</strong> BlackBerry</p>\n",
       "\t    \t\t<p> \n",
       "\t    \t\t</p>\n",
       "\t    \t</div>\n",
       "    \t</div>\n",
       "    \t\n",
       "\t\t<div style=\"position:relative; clear:both; content: ' '; display: block; height: 1px; margin-top: 10px; margin-bottom:20px\">\n",
       "\t\t\t<hr style=\"color: gray; width: 95%;\" />\n",
       "\t\t</div>\n",
       "\t\t"
      ],
      "text/plain": [
       "<IPython.core.display.HTML object>"
      ]
     },
     "metadata": {},
     "output_type": "display_data"
    }
   ],
   "source": [
    "response = run_main_query(query, boosts)\n",
    "print(f\"Personalized Query\")\n",
    "display_product_search(query, response[\"docs\"])"
   ]
  },
  {
   "cell_type": "markdown",
   "id": "db01e3f2",
   "metadata": {},
   "source": [
    "# Vector-based Personalization"
   ]
  },
  {
   "cell_type": "code",
   "execution_count": 22,
   "id": "f07b2837",
   "metadata": {
    "tags": []
   },
   "outputs": [
    {
     "name": "stdout",
     "output_type": "stream",
     "text": [
      "+----------+-------------------+-----------+--------------------+--------------------------------+\n",
      "|count(upc)|count(DISTINCT upc)|count(name)|count(DISTINCT name)|count(DISTINCT shortDescription)|\n",
      "+----------+-------------------+-----------+--------------------+--------------------------------+\n",
      "|     48204|              46155|      48204|               46124|                           19024|\n",
      "+----------+-------------------+-----------+--------------------+--------------------------------+\n",
      "\n"
     ]
    }
   ],
   "source": [
    "spark.sql(\"\"\"SELECT COUNT(upc), COUNT(DISTINCT upc), COUNT(name), COUNT(DISTINCT name), COUNT(DISTINCT shortDescription) FROM products g\"\"\").show(2)"
   ]
  },
  {
   "cell_type": "markdown",
   "id": "1190320a",
   "metadata": {},
   "source": [
    "## Listing 9.11"
   ]
  },
  {
   "cell_type": "code",
   "execution_count": 23,
   "id": "629119a4",
   "metadata": {
    "tags": []
   },
   "outputs": [],
   "source": [
    "### Create the product data set for embeddings \n",
    "df = spark.sql(\"\"\"SELECT DISTINCT name, string(upc), shortDescription, \n",
    "  CONCAT(name, \" \", shortDescription) AS name_desc FROM products\"\"\")\n",
    "df.createOrReplaceTempView(\"products_samples\")\n",
    "product_names = df.select(\"name\").rdd.flatMap(lambda x: x).collect()\n",
    "product_ids = df.select(\"upc\").rdd.flatMap(lambda x: x).collect()\n"
   ]
  },
  {
   "cell_type": "code",
   "execution_count": 24,
   "id": "37e8f289",
   "metadata": {
    "tags": []
   },
   "outputs": [
    {
     "data": {
      "text/plain": [
       "(48164, 48164)"
      ]
     },
     "execution_count": 24,
     "metadata": {},
     "output_type": "execute_result"
    }
   ],
   "source": [
    "len(product_ids), len(product_names)"
   ]
  },
  {
   "cell_type": "code",
   "execution_count": 25,
   "id": "1ad4cafa",
   "metadata": {
    "tags": []
   },
   "outputs": [
    {
     "data": {
      "application/vnd.jupyter.widget-view+json": {
       "model_id": "c10c3e61d07945839d953fc6a0725a4b",
       "version_major": 2,
       "version_minor": 0
      },
      "text/plain": [
       "Downloading .gitattributes:   0%|          | 0.00/1.23k [00:00<?, ?B/s]"
      ]
     },
     "metadata": {},
     "output_type": "display_data"
    },
    {
     "data": {
      "application/vnd.jupyter.widget-view+json": {
       "model_id": "a7ab81e70d234113a4477e6437c883dc",
       "version_major": 2,
       "version_minor": 0
      },
      "text/plain": [
       "Downloading 1_Pooling/config.json:   0%|          | 0.00/190 [00:00<?, ?B/s]"
      ]
     },
     "metadata": {},
     "output_type": "display_data"
    },
    {
     "data": {
      "application/vnd.jupyter.widget-view+json": {
       "model_id": "fa741047968f434eb8399ea55cdbe091",
       "version_major": 2,
       "version_minor": 0
      },
      "text/plain": [
       "Downloading README.md:   0%|          | 0.00/10.6k [00:00<?, ?B/s]"
      ]
     },
     "metadata": {},
     "output_type": "display_data"
    },
    {
     "data": {
      "application/vnd.jupyter.widget-view+json": {
       "model_id": "99210a5b1b424698abba40fb10a95c7a",
       "version_major": 2,
       "version_minor": 0
      },
      "text/plain": [
       "Downloading config.json:   0%|          | 0.00/571 [00:00<?, ?B/s]"
      ]
     },
     "metadata": {},
     "output_type": "display_data"
    },
    {
     "data": {
      "application/vnd.jupyter.widget-view+json": {
       "model_id": "e633fc05ea324f24ba118d6385c6355c",
       "version_major": 2,
       "version_minor": 0
      },
      "text/plain": [
       "Downloading (…)ce_transformers.json:   0%|          | 0.00/116 [00:00<?, ?B/s]"
      ]
     },
     "metadata": {},
     "output_type": "display_data"
    },
    {
     "data": {
      "application/vnd.jupyter.widget-view+json": {
       "model_id": "d7ad9807d2c04a6282db894e0bce8084",
       "version_major": 2,
       "version_minor": 0
      },
      "text/plain": [
       "Downloading data_config.json:   0%|          | 0.00/39.3k [00:00<?, ?B/s]"
      ]
     },
     "metadata": {},
     "output_type": "display_data"
    },
    {
     "data": {
      "application/vnd.jupyter.widget-view+json": {
       "model_id": "3703ca4bd7214c089d78be4d43cac4cc",
       "version_major": 2,
       "version_minor": 0
      },
      "text/plain": [
       "Downloading model.safetensors:   0%|          | 0.00/438M [00:00<?, ?B/s]"
      ]
     },
     "metadata": {},
     "output_type": "display_data"
    },
    {
     "data": {
      "application/vnd.jupyter.widget-view+json": {
       "model_id": "31cc40d54f0345ceacf6cf8ec9c9d866",
       "version_major": 2,
       "version_minor": 0
      },
      "text/plain": [
       "Downloading pytorch_model.bin:   0%|          | 0.00/438M [00:00<?, ?B/s]"
      ]
     },
     "metadata": {},
     "output_type": "display_data"
    },
    {
     "data": {
      "application/vnd.jupyter.widget-view+json": {
       "model_id": "6ba7af8f82104862b0f4ceb05066e14b",
       "version_major": 2,
       "version_minor": 0
      },
      "text/plain": [
       "Downloading (…)nce_bert_config.json:   0%|          | 0.00/53.0 [00:00<?, ?B/s]"
      ]
     },
     "metadata": {},
     "output_type": "display_data"
    },
    {
     "data": {
      "application/vnd.jupyter.widget-view+json": {
       "model_id": "e6db908979054f9ebfdbfa58cc1c8fcb",
       "version_major": 2,
       "version_minor": 0
      },
      "text/plain": [
       "Downloading (…)cial_tokens_map.json:   0%|          | 0.00/239 [00:00<?, ?B/s]"
      ]
     },
     "metadata": {},
     "output_type": "display_data"
    },
    {
     "data": {
      "application/vnd.jupyter.widget-view+json": {
       "model_id": "dd11acb3e0f64699ba96f551743304ed",
       "version_major": 2,
       "version_minor": 0
      },
      "text/plain": [
       "Downloading tokenizer.json:   0%|          | 0.00/466k [00:00<?, ?B/s]"
      ]
     },
     "metadata": {},
     "output_type": "display_data"
    },
    {
     "data": {
      "application/vnd.jupyter.widget-view+json": {
       "model_id": "76ecda745c174172907befde45affbdd",
       "version_major": 2,
       "version_minor": 0
      },
      "text/plain": [
       "Downloading tokenizer_config.json:   0%|          | 0.00/363 [00:00<?, ?B/s]"
      ]
     },
     "metadata": {},
     "output_type": "display_data"
    },
    {
     "data": {
      "application/vnd.jupyter.widget-view+json": {
       "model_id": "3f39d8ce6e6345cfa78b446a8582bb44",
       "version_major": 2,
       "version_minor": 0
      },
      "text/plain": [
       "Downloading train_script.py:   0%|          | 0.00/13.1k [00:00<?, ?B/s]"
      ]
     },
     "metadata": {},
     "output_type": "display_data"
    },
    {
     "data": {
      "application/vnd.jupyter.widget-view+json": {
       "model_id": "ece075d7cf08482398e099ae401e7862",
       "version_major": 2,
       "version_minor": 0
      },
      "text/plain": [
       "Downloading vocab.txt:   0%|          | 0.00/232k [00:00<?, ?B/s]"
      ]
     },
     "metadata": {},
     "output_type": "display_data"
    },
    {
     "data": {
      "application/vnd.jupyter.widget-view+json": {
       "model_id": "9b2deb30234741b3a988aa61cb560425",
       "version_major": 2,
       "version_minor": 0
      },
      "text/plain": [
       "Downloading modules.json:   0%|          | 0.00/349 [00:00<?, ?B/s]"
      ]
     },
     "metadata": {},
     "output_type": "display_data"
    }
   ],
   "source": [
    "from sentence_transformers import SentenceTransformer\n",
    "transformer = SentenceTransformer(\"sentence-transformers/all-mpnet-base-v2\")"
   ]
  },
  {
   "cell_type": "markdown",
   "id": "cc986a43",
   "metadata": {},
   "source": [
    "## Listing 9.12"
   ]
  },
  {
   "cell_type": "code",
   "execution_count": 26,
   "id": "d8d0c622",
   "metadata": {
    "tags": []
   },
   "outputs": [],
   "source": [
    "## picked this model \"all-mpnet-base-v2\" based on benchmark on this link https://medium.com/@nils_reimers/openai-gpt-3-text-embeddings-really-a-new-state-of-the-art-in-dense-text-embeddings-6571fe3ec9d9\n",
    "transformer = SentenceTransformer(\"all-mpnet-base-v2\")\n",
    "emb_file = \"data/all-mpnet-base-v2-names-all-embed.data.pkl\"\n",
    "data_file = \"data/all-mpnet-base-v2-names-all-names.data.pkl\"\n",
    "ids_file = \"data/all-mpnet-base-v2-names-all-ids.data.pkl\"\n",
    "\n",
    "def get_embeddings(texts, ids, ignore_cache=False):\n",
    "    load_from_cache = not ignore_cache and os.path.isfile(emb_file) and os.path.isfile(data_file) and os.path.isfile(ids_file)\n",
    "    if load_from_cache:\n",
    "        with open(emb_file, \"rb\") as fd:\n",
    "            embeddings = pickle.load(fd)\n",
    "        with open(data_file,\"rb\") as fd:\n",
    "            texts = pickle.load(fd)\n",
    "        with open(ids_file,\"rb\") as fd:\n",
    "            ids = pickle.load(fd)\n",
    "    else:\n",
    "        embeddings = transformer.encode(texts, convert_to_tensor=False)\n",
    "        with open(emb_file, \"wb\") as fd:\n",
    "            pickle.dump(embeddings, fd)\n",
    "        with open(data_file, \"wb\") as fd:\n",
    "            pickle.dump(texts, fd)\n",
    "        with open(ids_file, \"wb\") as fd:\n",
    "            pickle.dump(ids, fd)\n",
    "    return embeddings, texts, ids"
   ]
  },
  {
   "cell_type": "code",
   "execution_count": 27,
   "id": "93c2ceb6",
   "metadata": {
    "tags": []
   },
   "outputs": [],
   "source": [
    "#product_embeddings=get_embeddings(p_texts,load_from_cache=True)\n",
    "#product_embeddings=get_embeddings(product_names,load_from_cache=True)\n",
    "product_embeddings, product_names, product_ids = get_embeddings(product_names, product_ids)"
   ]
  },
  {
   "cell_type": "code",
   "execution_count": 28,
   "id": "efb6d456",
   "metadata": {
    "tags": []
   },
   "outputs": [
    {
     "data": {
      "text/plain": [
       "(48164, 48164, 48164, 46155)"
      ]
     },
     "execution_count": 28,
     "metadata": {},
     "output_type": "execute_result"
    }
   ],
   "source": [
    "### Product Ids-embedding, Product ID-names dictionaries \n",
    "product_ids_emb = dict(zip(product_ids, product_embeddings))\n",
    "product_ids_names = dict(zip(product_ids, product_names))\n",
    "#len(product_texts), len(product_embeddings), len(product_names) ,len(product_ids),len(product_ids_names.values())\n",
    "len(product_embeddings), len(product_names), len(product_ids), len(product_ids_names.values())"
   ]
  },
  {
   "cell_type": "markdown",
   "id": "aa8ed526",
   "metadata": {},
   "source": [
    "## Listing 9.13"
   ]
  },
  {
   "cell_type": "code",
   "execution_count": 29,
   "id": "6d6e9cbf",
   "metadata": {
    "tags": []
   },
   "outputs": [],
   "source": [
    "## Get the clusters \n",
    "def get_clusters(data, algorithm, args, kwds):\n",
    "    return algorithm(*args, **kwds).fit(data)"
   ]
  },
  {
   "cell_type": "code",
   "execution_count": 30,
   "id": "866f9b05",
   "metadata": {
    "tags": []
   },
   "outputs": [],
   "source": [
    "### K-means clustering\n",
    "algo = get_clusters(product_embeddings, cluster.KMeans, (),\n",
    "                    {\"n_clusters\":100, \"n_init\":10, \"random_state\":0})\n",
    "labels = algo.predict(product_embeddings)"
   ]
  },
  {
   "cell_type": "code",
   "execution_count": 31,
   "id": "705cebc1",
   "metadata": {
    "tags": []
   },
   "outputs": [],
   "source": [
    "def assign_clusters(labels, product_names):\n",
    "    clusters = defaultdict(lambda:[], {})\n",
    "    for i in range(len(labels)):\n",
    "        clusters[labels[i]].append(product_names[i])\n",
    "    return clusters"
   ]
  },
  {
   "cell_type": "code",
   "execution_count": 32,
   "id": "19a2c007",
   "metadata": {
    "tags": []
   },
   "outputs": [],
   "source": [
    "clusters = assign_clusters(labels, product_names)"
   ]
  },
  {
   "cell_type": "code",
   "execution_count": 33,
   "id": "c186f396",
   "metadata": {
    "tags": []
   },
   "outputs": [],
   "source": [
    "#from sklearn.manifold import TSNE\n",
    "#X = np.array(centers, dtype=np.float32)\n",
    "#X.shape\n",
    "#tsne = TSNE(random_state=0, n_iter=1000)\n",
    "#tsne_results = tsne.fit_transform(X)\n",
    "#df_tsne = pd.DataFrame(tsne_results, columns=['TSNE1', 'TSNE2'])\n",
    "#df_tsne['Cluster'] = clusters.keys()\n",
    "#fig, ax = plt.subplots(figsize=(8,6)) # Set figsize\n",
    "#sns.set_style('darkgrid', {\"grid.color\": \"0.6\", \"grid.linestyle\": \":\"})\n",
    "#sns.scatterplot(data=df_tsne, x='TSNE1', y='TSNE2', hue='Cluster', palette='magma')\n",
    "#sns.move_legend(ax, \"upper left\", bbox_to_anchor=(1, 1))\n",
    "#plt.title('Scatter plot of products using KMeans Clustering');\n",
    "#plt.xlabel('TSNE1');\n",
    "#plt.ylabel('TSNE2');\n",
    "#plt.axis('equal')"
   ]
  },
  {
   "cell_type": "markdown",
   "id": "6af2e862",
   "metadata": {},
   "source": [
    "## Listing 9.14"
   ]
  },
  {
   "cell_type": "code",
   "execution_count": 34,
   "id": "82a1e2bb",
   "metadata": {},
   "outputs": [
    {
     "data": {
      "text/plain": [
       "185"
      ]
     },
     "execution_count": 34,
     "metadata": {},
     "output_type": "execute_result"
    },
    {
     "data": {
      "image/png": "[encoded data removed]",
      "text/plain": [
       "<Figure size 1500x1500 with 1 Axes>"
      ]
     },
     "metadata": {},
     "output_type": "display_data"
    }
   ],
   "source": [
    "import collections, itertools, numpy as np, matplotlib.pyplot as plt\n",
    "from adjustText import adjust_text\n",
    "from sklearn.decomposition import PCA\n",
    "\n",
    "stopwords = [\"in\", \"for\", \"with\", \"of\", \"the\", \"to\", \"and\"]\n",
    "\n",
    "def top_words(clusters, top_n):\n",
    "    # Loop through the clusters and split each string on space\n",
    "    tokenized = [cluster.split() for cluster in clusters]\n",
    "    # Flatten the list of lists\n",
    "    flattened = list(itertools.chain.from_iterable(tokenized))\n",
    "    filtered = [word for word in flattened\n",
    "                if len(word) > 1 and word.lower() not in stopwords]\n",
    "    \n",
    "    # Return the most common words\n",
    "    return [word for word, _ \n",
    "            in collections.Counter(filtered).most_common(top_n)]\n",
    "\n",
    "#Transform the data for 2-D visualization\n",
    "plt.figure(figsize=(15,15))\n",
    "pca = PCA(100, svd_solver=\"full\")\n",
    "centers = algo.cluster_centers_\n",
    "plot_data = pca.fit_transform(centers)\n",
    "#plot_data = centers\n",
    "#plt.scatter(plot_data[:,0] , plot_data[:,1] , s = 30, color = 'k')\n",
    "\n",
    "points = []\n",
    "for i, cluster_name in enumerate(plot_data):\n",
    "    plt.scatter(plot_data[i,0], plot_data[i,1], s=30, color=\"k\") \n",
    "    label = f\"{i}_{'_'.join(top_words(clusters[i], 2))}\"\n",
    "    points.append(plt.text(plot_data[i,0], plot_data[i,1], label, size=12))\n",
    "adjust_text(points, arrowprops=dict(arrowstyle=\"-\", color=\"gray\", alpha=.3))"
   ]
  },
  {
   "cell_type": "code",
   "execution_count": 35,
   "id": "5acb59a8",
   "metadata": {},
   "outputs": [
    {
     "data": {
      "text/plain": [
       "['21 (Bonus Tracks) - CD',\n",
       " '99 Luftballons - CD',\n",
       " 'Graffiti [Deluxe Edition] - CD',\n",
       " 'Out of Our Heads [UK] [Remaster] - CD',\n",
       " 'The Obsidian Conspiracy - CD',\n",
       " 'All Things Must Pass [30th... [Remaster] - CD',\n",
       " 'Get Carter [Remastered] - CD',\n",
       " 'Hotter Than Hell [Limited] [Remaster] - CD',\n",
       " 'Sunrise Sessions [Deluxe Edition] [CD & DVD] [PA] - CD',\n",
       " 'Anno Domini High Definition [Special Edition] - CD',\n",
       " 'Enter The Dubstep Vol.2 [PA] - CD',\n",
       " 'Rude Mechanicals [Reissue] - CD',\n",
       " 'Love and Rockets [Expanded] [Remaster] - Deluxe Edition Remastered EP - CD',\n",
       " 'Let It Be (Limited Edition) (Remastered) (Enhanced) - CD',\n",
       " 'Private Room (Enhanced) - CD',\n",
       " 'Special Edition - Rare Tracks (Japan) - CD',\n",
       " 'Losers Weepers (Bonus Tracks) - CD',\n",
       " 'In Session (CD+DVD) (Deluxe Edition) (Bril) - CD',\n",
       " 'Wish You Were Here (Reissue) (Remastered) - CD',\n",
       " 'Rhapsody In Blue - CD',\n",
       " 'Death Certificate: Usda Edition (Remastered) - CD',\n",
       " 'Waiting for the Sun [Bonus Tracks] [Remaster] - CD',\n",
       " 'Remix Deluxe (Japan) - CD',\n",
       " 'Derailed/In Hell/Wake of Death [2 Discs] - DVD',\n",
       " 'Aja (Remastered) - CD',\n",
       " 'Disco Duro (Box) - CD',\n",
       " 'Femme Fatale [Deluxe Edition] [Digipak] - CD',\n",
       " 'Violator The Album V2.0 - Edited Various - CD',\n",
       " 'Spiritual Healing [Deluxe Edition] - CD',\n",
       " 'Super Duetos: Serie Max 3 X 1 - Various Box - CD',\n",
       " 'Freaky Styley [Bonus Tracks] [PA] [Remaster] - CD',\n",
       " \"Don'T Let Me Be The Last To Know (Japan) (EP) - CD\",\n",
       " 'Fallout from the War - CD',\n",
       " 'Neighborhoods (Deluxe Edition) - CD',\n",
       " 'Protocol (Bonus Tracks) - CD',\n",
       " 'Greatest Hits: Remixed [CD & DVD] - CD',\n",
       " \"Movement [Collector's Edition] - CD\",\n",
       " 'Return of the Kingpin [Cassette] [PA] - Various - CD',\n",
       " 'Slaughterhouse Ep (EP) - CD',\n",
       " 'Greatest Hits [Remaster] - CD',\n",
       " 'Armando [Import] [Bonus Tracks] - CD',\n",
       " 'Star Wars: The Corellian Edition (Snys) - CD',\n",
       " 'Radiant Historia with Music CD - Nintendo DS',\n",
       " 'Denim and Leather [Bonus Tracks] - CD',\n",
       " 'My Beautiful Dark Twisted Fantasy (Bonus Track) - CD',\n",
       " 'The Ultimate Butler - CD',\n",
       " 'The Murder, Porn, And Fatherhood [EP] - CD',\n",
       " 'Crimson, White & Indigo:... [CD & DVD] [Box] - CD',\n",
       " 'Lights Out [2008 Bonus Tracks] - CD',\n",
       " 'Destroyer [Remaster] - CD',\n",
       " 'Perfect Day (Bonus Cd) (Special) - CD',\n",
       " \"Meek's Cutoff - Subtitle AC3 Dts - Blu-ray Disc\",\n",
       " 'The Platinum Collection [Box] - CD',\n",
       " 'Blood, Sweat & Tears [Deluxe Edition] [PA] - CD',\n",
       " 'O Holy Night (CD+DVD) - CD',\n",
       " 'Combat Rock [Remaster] - CD',\n",
       " 'Remixes 2: 81-11 [1-CD] - CD',\n",
       " 'War [Remastered] - CD',\n",
       " 'Original Album Classics (Box) - CD',\n",
       " 'Xperience Club Mix - Various - CD',\n",
       " 'Planet Pit (Deluxe Edition) - CD',\n",
       " 'Voyage To India (Bonus Track) (Limited Edition) - CD',\n",
       " 'Sun Giant EP [Slimline] - CD',\n",
       " 'Live Shit: Binge & Purge (Cd & Dvd) (Box) - CD',\n",
       " 'Guitars, Cadillacs, Etc.,... [Remaster] - CD',\n",
       " 'Call Me Irresponsible: Special Edition - CD',\n",
       " 'Crush [Special Edition] [Bonus Tracks] [Digipak] - CD',\n",
       " 'Sing (If You Want It) (Bonus Tracks) - CD',\n",
       " 'The Essential Judas Priest [Remaster] - CD',\n",
       " 'War Is The Answer (Bonus Cd) - VINYL',\n",
       " 'Ghetto Revelations, Vol. 2 [PA] - CD',\n",
       " 'Volume 4 - CD',\n",
       " 'The Honeydripper [Acrobat] - CD',\n",
       " 'Made In Germany - CD',\n",
       " 'Soca Gold 2009 [CD & DVD] - Various CD+DVD - CD',\n",
       " 'Saosin (Bonus Dvd) (Bonus Track) (Japan) - CD',\n",
       " 'Ruining It For Everybody (Bonus Dvd) - CD',\n",
       " 'The Definitive Collection [Remaster] - CD',\n",
       " 'American Apathy Limited Edition Exclusive - CD',\n",
       " 'Young Money Year 2k9, Vol. 1 - CD',\n",
       " 'No Time To Bleed (CD+DVD) (Box) - CD',\n",
       " 'The Cutting Edge [Bonus Tracks] - (with Bonus Tracks) Deluxe Edition - CD',\n",
       " 'Let Sleeping Corpses Lie [CD & DVD] [Box] [PA] - CD',\n",
       " 'Charred Walls of the Damned [LP/DVD] [LP] - VINYL',\n",
       " 'Live Metropolis, Pt. 2 - CD',\n",
       " 'New Game [Deluxe Edition] [PA] - CD',\n",
       " 'Sorry For Party Rocking (Deluxe Edition) - CD',\n",
       " 'Siren Song of the Counter Culture [Bonus Track] - CD',\n",
       " 'Chairs Missing [Digipak] [Remaster] - CD',\n",
       " 'Champion Sound [Deluxe Edition] - CD',\n",
       " 'Of Nightmares (Limited Edition) (EP) - CD',\n",
       " 'Emfire Collection: Mixed Unmixed & Remixed (Remix) - CD',\n",
       " 'The Indictment/The Verdict/The Sentence [PA] - Deluxe Edition - CD',\n",
       " 'Countdown To Extinction (Bonus Tracks) (Limited Edition) (Omr) - CD',\n",
       " 'Led Zeppelin III [Remaster] - CD',\n",
       " 'Living in the Material World [CD & DVD] - CD',\n",
       " 'Ultra: Trance Anthems - Various - CD',\n",
       " 'The Definitive Collection [Clean] [Remaster] - CD',\n",
       " 'Rescue Me [12inch Vinyl Disc] [EP] - 12-Inch Single',\n",
       " 'Layover (Bonus Dvd) - CD',\n",
       " 'Viva La Cobra (Bonus Track) (Japan) - CD',\n",
       " 'Complete Studio Recordings [Box] - CD',\n",
       " 'The Infection (Limited Edition) [CD & DVD] [Box] - CD',\n",
       " 'Rise & Fall (Bonus Tracks) (Japan) - CD',\n",
       " \"Mongo '70 - CD\",\n",
       " 'Exit...Stage Left [Bonus Track] [Remaster] - CD',\n",
       " 'Konvicted (CD+DVD) (Deluxe Edition) - CD',\n",
       " 'The Chase [Bonus Track] - CD',\n",
       " 'Escape [Bonus Tracks] - CD',\n",
       " 'Eminem Presents: The Re-Up [PA] - CD',\n",
       " 'Blood Mountain [CD & DVD] [PA] - CD',\n",
       " 'Resurrection [Bonus Tracks] - CD',\n",
       " 'Wow Hits 2011 - Various (with Bonus Tracks) - CD',\n",
       " 'Metalogy [CD & DVD] [Box] [Limited] [Remaster] - CD',\n",
       " 'The Most of the Animals [EMI Bonus Tracks] - CD',\n",
       " 'Children of Eden - Original Cast Recording - CD',\n",
       " 'World Wide Rebel Songs - CD',\n",
       " 'Delicate Sound of Thunder [Box] - CD',\n",
       " 'Summer (EP) - CD',\n",
       " 'Countdown to Extinction [Remaster] - CD',\n",
       " 'Animal + Cannibal [Deluxe Edition] - CD',\n",
       " 'Lungs [Deluxe Edition] [ECD] - CD',\n",
       " 'Magical Mystery Tour [Import] - CD',\n",
       " 'Off The Wall (Bonus Tracks) (Remastered) (Special) - CD',\n",
       " 'Bleuphoria (Jewel Case) (Ocrd) - CD',\n",
       " 'Live Rare Remix Box - CD',\n",
       " 'Kingdom Days In An Evil Age (Deluxe Edition) - CD',\n",
       " 'Enemy of the World [Special Edition] - CD',\n",
       " 'Suende [Bonus Tracks] - CD',\n",
       " 'Rise and Fall of Ziggy... [ECD] [Remaster] - CD',\n",
       " 'Crack The Skye (CD+DVD) (Deluxe Edition) - CD',\n",
       " 'Secret Wars - CD',\n",
       " 'Leveler (Bonus Tracks) (Deluxe Edition) - CD',\n",
       " 'Pilot Talk II - CD',\n",
       " 'Deluxe Edition Box Set - CD',\n",
       " 'Ultimate Collection - CD',\n",
       " 'Talk That Talk (Deluxe Edition) (Edited) - CD',\n",
       " 'Peace Sells But Whos Buying (Bonus Cd) (Japan) - CD',\n",
       " 'Zombie EP [EP] - CD',\n",
       " \"Number 1'S (Remastered) (Spkg) - CD\",\n",
       " 'Ready to Die [CD & DVD] [PA] [Remaster] - CD',\n",
       " 'Among the Living [Deluxe... [CD & DVD] [PA] - CD',\n",
       " '20th Century Masters: Millennium Collection (Remastered) - CD',\n",
       " 'Block (Bonus Tracks) (Deluxe Edition) (Bril) (Enhanced) - CD',\n",
       " 'Weezer (Blue Album) [Remaster] - CD',\n",
       " 'Paper Planes: Homeland Security Remixes [Single] - CD',\n",
       " 'Ultimate Collection - CD',\n",
       " 'The Unraveling [Bonus Tracks] - CD',\n",
       " 'Hub Cap [Bonus Tracks] [Remaster] - CD',\n",
       " 'Alpocalypse (CD+DVD) (Deluxe Edition) - CD',\n",
       " 'Eureka Seven, Vol. 2 - (with Bonus Tracks) - CD',\n",
       " 'Pure Cult / The Singles 1984-1995 [Remaster] - CD',\n",
       " 'B Sides & Rarities - CD',\n",
       " 'Radiosurgery (Deluxe Edition) - CD',\n",
       " 'Def Jam Rapstar Bundle - Xbox 360',\n",
       " 'Battle Hymns Mmxi - CD',\n",
       " 'Idlewild (Bonus Dvd) (Limited Edition) - CD',\n",
       " 'Awake: The Best of Live - CD',\n",
       " 'Comatose Comes Alive (CD+DVD) - CD',\n",
       " 'Twilight in Olympus [ECD] - CD',\n",
       " 'In Through the Out Door [Remaster] - CD',\n",
       " 'Crazy Heart [Deluxe Edition] [Digipak] - (with Bonus Tracks) Deluxe Edition - CD',\n",
       " 'World Is Yours (Bonus Dvd) - CD',\n",
       " 'Proud To Be Here (Deluxe Edition) - CD',\n",
       " 'The Ultimate Halloween Party Album - Various - CD',\n",
       " \"You'LL Rebel To Anything (Bonus Tracks) (Remastered) - CD\",\n",
       " \"Ropin' the Wind [Bonus Track] - CD\",\n",
       " 'High Voltage (Remastered) (Deluxe Edition) - CD',\n",
       " \"Daniel O'Donnell: My Story [Box] - CD\",\n",
       " 'Ape Escape: On the Loose Greatest Hits - PSP',\n",
       " 'Original Album Classics [Box] - CD',\n",
       " 'Quest (EP) - CD',\n",
       " 'Night Moves [Remaster] - CD',\n",
       " 'Mastercuts: Nu Yorican Soul [Box] - Various - CD',\n",
       " 'The Cradle of Filth Box Set [Box] [PA] [Limited] - CD',\n",
       " 'Dirty Deeds Done Dirt Cheap (Remastered) (Deluxe Edition) - CD',\n",
       " 'Kind of Blue [Columbia... [Remaster] - CD',\n",
       " 'Sex Therapy: The Experience (Bonus Tracks) (Deluxe Edition) - CD',\n",
       " 'Eric Carmen - Remastered - CD',\n",
       " \"Alive '95 [Bonus Tracks] - CD\",\n",
       " 'The Best of Atreyu [CD & DVD] - CD',\n",
       " '10th Anniversary: Tha Classicc [CD & DVD] [PA] - CD',\n",
       " 'I Got the Guns - CD',\n",
       " 'Christmas [Import] [Bonus Track] - CD',\n",
       " 'Bloodsoaked, Vol. 3: Fated - CD',\n",
       " 'Rarities Edition: Weezer (Blue Album) - CD',\n",
       " 'Pokemon X: Ten Years Of Pokemon - CD',\n",
       " 'Remix City, Vol. 1 - CD',\n",
       " 'Glee: The Music Showstoppers [Deluxe Edition] - CD',\n",
       " \"Devil's Walk [Deluxe Edition] - CD\",\n",
       " 'Fandango! [Bonus Tracks] [Remaster] - CD',\n",
       " 'Painkiller [Bonus Tracks] [Remaster] - CD',\n",
       " 'Legacy: The Greatest Hits Collection [ECD] - CD',\n",
       " 'The Pro Tools [Instrumentals] - CD',\n",
       " 'The Icarus EP [CD & DVD] [EP] - CD',\n",
       " 'www.thug.com [Bonus Tracks] [PA] - CD',\n",
       " 'Manners [Bonus Tracks] [Limited] - CD',\n",
       " 'Dexter: Season 4 - Various - CD',\n",
       " 'Holy Wood (Gamepieces) (Bonus Tracks) - CD',\n",
       " 'Hell: The Sequel (Deluxe Edition) (Edited) (EP) - CD',\n",
       " 'Last Train to Paris [Deluxe Edition] [PA] - CD',\n",
       " 'The Riddle Box - CD',\n",
       " '2112 [Remaster] - CD',\n",
       " 'Pina Records Present #1 Exclusive Urban Remixes - Various - CD',\n",
       " '20th Century Masters: Millennium Collection (Remastered) - CD',\n",
       " 'Studio Album Box Set (Japan) (Box) - CD',\n",
       " 'Angelic Layer: Complete Collection [5 Discs] - Dubbed - DVD',\n",
       " 'Tell Mama: The Complete Muscle... [Remaster] - CD',\n",
       " 'Sounds Of A Playground Fading (Bonus Dvd) (Wtsh) - CD',\n",
       " 'Back To Black (W/Cd) (Bonus Tracks) (Japan) (Deluxe Edition) - CD',\n",
       " 'Danzig 2: Lucifuge (Reissue) - CD',\n",
       " 'Everything Under the Sun [CD & DVD] [Box] - CD',\n",
       " 'The Greenlight EP - CD',\n",
       " 'Njord: Special Fan Edition (Bonus Tracks) (Limited Edition) - CD',\n",
       " '5.0 (Bonus Tracks) (Deluxe Edition) - CD',\n",
       " 'Atlantis: Hymns For Disco (Bonus Track) - CD',\n",
       " 'Cryptic Collection 4 - CD',\n",
       " 'White Album (Limited Edition) (Remastered) (Enhanced) - CD',\n",
       " 'Ultra Trance, Vol. 1 - Various - CD',\n",
       " 'Soundz Of Spirit (2 Disc) (W/Cd) - DVD',\n",
       " 'Everything In Transit (Bonus Track) (Japan) - CD',\n",
       " \"Bridget Jones's Diary [Bonus Tracks] - (with Bonus Tracks) - CD\",\n",
       " 'The Platinum Collection, Vol. 1-3 [Box] - CD',\n",
       " 'Hamilton Park EP [EP] - CD',\n",
       " 'Wall (Reissue) (Remastered) - CD',\n",
       " \"Tm 103 Hustlerz Ambition (CD+DVD) (Collector's Edition) - CD\",\n",
       " 'Endless Wire [Bonus Tracks/CD] - CD',\n",
       " 'Ab 3.5 (Bonus Dvd) - CD',\n",
       " \"The Blueprint Collector's Edition [PA] - CD\",\n",
       " 'State Property [Clean] [Edited] - Edited Original Soundtrack - CD',\n",
       " 'Swiss Army Romance [Bonus Tracks] - CD',\n",
       " 'Psychocandy [Remaster] - CD',\n",
       " 'Frizzle Fry [Remaster] - CD',\n",
       " 'Thriller [25th... [LP] [Remaster] - VINYL',\n",
       " 'Stargate [Deluxe Edition] - Deluxe Edition Remastered - CD',\n",
       " 'Pilot Talk - CD',\n",
       " 'Europe 2009 (CD+DVD) - CD',\n",
       " 'Confessions [Special Edition] - CD',\n",
       " 'The Legend [Columbia] [Box] - CD',\n",
       " 'Fair Warning [Remaster] - CD',\n",
       " 'Bad As Me (W/Book) (Limited Edition) (Deluxe Edition) - CD',\n",
       " 'Presents: The Vault 1 (Reissue) - CD',\n",
       " 'Better Life: Rarities Edition - CD',\n",
       " 'Black Butterfly [Reissue] [PA] - CD',\n",
       " 'Clubland, Vol. 10 [Box] - Various Box - CD',\n",
       " 'Scream Aim Fire (CD+DVD) (Deluxe Edition) - CD',\n",
       " 'Super Music Friends - CD',\n",
       " 'Rachael Yamagata EP [EP] - CD',\n",
       " 'Blood Mountain (CD+DVD) (Limited Edition) - CD',\n",
       " 'Pretty Hate Machine [2010 Remaster] - CD',\n",
       " 'Greatest Hits:... [Remaster] [Slipcase] - CD',\n",
       " 'No Time To Bleed... [CD & DVD] [Limited] - CD',\n",
       " 'In the Mountain in the Cloud [Deluxe Edition] - CD',\n",
       " 'Abbey Road (Limited Edition) (Remastered) (Enhanced) - CD',\n",
       " 'The Main Event -- Live - CD',\n",
       " 'Fragile [Bonus Tracks] [Remaster] - CD',\n",
       " 'Opposite Way (Bonus Track) (Japan) - CD',\n",
       " 'Achtung Baby (Remastered) (Deluxe Edition) - CD',\n",
       " 'Now & Zen [Remaster] - CD',\n",
       " 'Honkey Kong (Bonus Cd) - CD',\n",
       " 'Tao Feng-Fist of the Lotus: Xbox - O.S.T. - CD',\n",
       " 'Still Searching (Deluxe Edition) [CD & DVD] - CD',\n",
       " 'Camino Palmero (+Bonus Live Track) - CD',\n",
       " 'Singles Box (6 Cd5) - CD',\n",
       " 'Ghostdeini The Great (CD+DVD) - CD',\n",
       " 'Ultimate Collection [Hip-O] - CD',\n",
       " 'Funk Beyond the Call of Duty... [Remaster] - CD',\n",
       " 'Stand in the Fire [Bonus Tracks] [Remaster] - CD',\n",
       " \"Writer's Block [US Bonus CD] - CD\",\n",
       " 'Black & White America (Bonus Dvd) (Bonus Track) - CD',\n",
       " 'Rated R: Remixed - CD',\n",
       " 'Floetic [Bonus Tracks] - CD',\n",
       " '21 (Bonus Cd) - CD',\n",
       " 'Box Car Racer [PA] - CD',\n",
       " 'Viper Megamix, Vol. 4 - Various - CD',\n",
       " 'Sea Of Memories (Bonus Cd) (Bonus Tracks) - CD',\n",
       " 'Remixes 2: 81-11 (Deluxe Edition) - CD',\n",
       " 'Calling All Hearts [Deluxe Version] [PA] - CD',\n",
       " 'So Beautiful Or So What (CD+DVD) (Deluxe Edition) - CD',\n",
       " 'Greatest Hits [MCA] [Remaster] - CD',\n",
       " 'Legend [Bonus Tracks] [Remaster] - CD',\n",
       " 'Who We Are (Bonus Tracks) - CD',\n",
       " 'Live, Vol. 2 - CD',\n",
       " 'Vheissu (Deluxe Edition) - CD',\n",
       " \"Clancy'S Tavern (Deluxe Edition) - CD\",\n",
       " 'The Live Experience II - CD',\n",
       " 'Grace: Legacy Edition... [CD & DVD] [Remaster]... - CD',\n",
       " 'E 1999 Eternal - CD',\n",
       " 'Wall (Remastered) - CD',\n",
       " 'Warehouse 13: Season 2 (Score) - CD',\n",
       " 'Echoes Silence Patience & Grace (Bonus Track) - CD',\n",
       " 'Libertad (Bonus Track) (Japan) - CD',\n",
       " 'Star Wars: The Corellian Edition [DSD CD] - CD',\n",
       " 'Love (Special Edition) [CD & DVD] - CD',\n",
       " 'Rehab [Deluxe] [CD & DVD] - CD',\n",
       " 'Spiceworld - CD',\n",
       " 'Essential, Vol. 2 - CD',\n",
       " 'Return of the Wu & Friends [PA] - CD',\n",
       " 'Godfather of Soul [CD & DVD] [Slipcase] - CD',\n",
       " 'Walking with Frankie [Remaster] - CD',\n",
       " 'Tourist History [Bonus CD] [Bonus Tracks] - CD',\n",
       " 'Live & Dangerous [Bonus DVD] [Bonus Tracks] - CD',\n",
       " 'Thriller: 25th Anniversary Edition (Aniv) - VINYL',\n",
       " 'Nothing [Deluxe Edition] [PA] - CD',\n",
       " 'The Odyssey - CD',\n",
       " 'Man on the Moon II: The Legend of Mr. Rager [PA] - CD',\n",
       " 'Heart & Soul (Bonus Tracks) - CD',\n",
       " 'Live Evil (Japan) (Mlps) (Shm) - CD',\n",
       " 'Dance Dance Revolution - CD',\n",
       " 'Vol 2 (Japan) (Mlps) - CD',\n",
       " 'Sunrise Sessions (CD+DVD) (Deluxe Edition) - CD',\n",
       " 'Finally Famous [Deluxe Edition] [PA] - CD',\n",
       " 'Flyleaf (CD+DVD) (Bonus Tracks) (Ring) (Special) - CD',\n",
       " \"The Director's Cut - CD\",\n",
       " 'The Brotherhood Album - CD',\n",
       " 'Chronicle, Vol. 2 - CD',\n",
       " \"What's Going On [Bonus Tracks] [Remaster] - CD\",\n",
       " 'Ten (Super Deluxe... [CD & DVD] [Box] - CD',\n",
       " 'End Of Silence (Deluxe Edition) [CD & DVD] - CD',\n",
       " 'Awake (Bonus Tracks) (Deluxe Edition) - CD',\n",
       " 'The Love & War MasterPeace [Deluxe Edition] - CD',\n",
       " 'Libra Scale [Deluxe Edition] [9/21] - CD',\n",
       " 'Staind (CD+DVD) (Deluxe Edition) - CD',\n",
       " 'Escape the Fate [Deluxe Version] - CD',\n",
       " 'Science & Faith [CD & DVD] - CD',\n",
       " 'After Party (Deluxe Edition) - CD',\n",
       " 'Offerings Boxed Set [Box] - CD',\n",
       " 'Promise: Darkness On The Edge Of Town Story (Box) - CD',\n",
       " 'Newurbanjazz.Com 2 - CD',\n",
       " 'Empire [Bonus Tracks] [Remaster] - CD',\n",
       " 'Tommy (Remastered) - CD',\n",
       " 'Love Never Dies - O.C.R. (CD+DVD) (Deluxe Edition) - CD',\n",
       " 'The Laptop [EP] - CD',\n",
       " 'Winterland [Box Set] - CD',\n",
       " 'Best of the Guess Who... [Remaster] - CD',\n",
       " 'Bootleg, Vol. 3: Live Around the World - CD',\n",
       " 'Live (Bonus Dvd) - CD',\n",
       " 'Hits (Remastered) - CD',\n",
       " 'Fantasy Ride (Deluxe Edition) [CD & DVD] - CD',\n",
       " 'Goat [Deluxe Remastered Reissue] [Digipak] - CD',\n",
       " \"Collector's Edition - CD\",\n",
       " 'Heritage (CD+DVD) (Special) - CD',\n",
       " 'Returners (Deluxe Edition) - CD',\n",
       " 'The Essential Clash - CD',\n",
       " 'Legendary Classics 1 (Bonus Dvd) - CD',\n",
       " \"Doors Box Set (4 Cd'S) - CD\",\n",
       " 'Sunshine Superman - CD',\n",
       " '9 to 5 and Odd Jobs [Bonus Tracks] - CD',\n",
       " 'American Capitalist (Deluxe Edition) - CD',\n",
       " 'Mountaintops (Jewel Case) (Ocrd) - CD',\n",
       " 'The Lost Tapes - CD',\n",
       " 'Sound Deluxe, Vol. 2: Mixed by DJ Halo - CD',\n",
       " 'Fire (Bonus Dvd) (Deluxe Edition) (Bril) - CD',\n",
       " 'Diver Down [Remaster] - CD',\n",
       " 'Twilight Saga: Eclipse - (with Bonus Tracks) - CD',\n",
       " 'All Paystyles Volume One [PA] - CD',\n",
       " 'Brotherhood Album - CD',\n",
       " 'Original Album Series (Box) - CD',\n",
       " \"Daniel O'Donnell My Story (W/Book) (Box) - CD\",\n",
       " 'Blues Deluxe - CD',\n",
       " 'Christmas (Bonus Dvd) (Bonus Tracks) - CD',\n",
       " 'Beastie Boys Anthology: The Sounds... [Box] - CD',\n",
       " 'Sing the Sorrow [UK Bonus Tracks] - CD',\n",
       " 'Hunter (CD+DVD) (Limited Edition) (Deluxe Edition) - CD',\n",
       " 'Shallow Life [Deluxe Edition] [Bonus CD] - CD',\n",
       " 'Street Survivors [Expanded Edition] [Remaster] - CD',\n",
       " 'Elaste, Vol. 1: Slow Motion Disco - Various - CD',\n",
       " 'Definitive Collection Mini Lp Replica Cd Box Set - CD',\n",
       " 'The Fray [Deluxe Edition] - CD',\n",
       " 'Bionic (Bonus Tracks) (Deluxe Edition) - CD',\n",
       " 'Sigh No More (Deluxe Edition) (Slip) - CD',\n",
       " 'Virgin Ubiquity: Remixed - CD',\n",
       " 'Living In Material World (Bonus Dvd) (Japan) (Limited Edition) - CD',\n",
       " 'Innocence & Instinct (CD+DVD) (Deluxe Edition) - CD',\n",
       " 'Opeth Box Set [Box] - CD',\n",
       " 'Deluxe - CD',\n",
       " 'Orchid [Bonus Track] - CD',\n",
       " 'Living in the Material World [Bonus Tracks] - CD',\n",
       " 'Dolly [Box] - CD',\n",
       " 'Ministry Of Sound: Sound Of Dubstep - Various - CD',\n",
       " 'Live Over Europe 2007 - CD',\n",
       " 'Diary of the Madmen [Bonus Tracks] [PA] - CD',\n",
       " 'Four The Record (CD+DVD) (Deluxe Edition) (Bril) - CD',\n",
       " 'Sound of Girls Aloud: The Greatest Hits... - CD',\n",
       " 'Eternal (Bonus Tracks) (Limited Edition) (Remastered) - CD',\n",
       " 'Murder Was the Case [Bonus DVD] [PA] - CD',\n",
       " 'It Must Be Magic [Remaster] - CD',\n",
       " 'Mud Digger, Vol. 2 - Various - CD',\n",
       " 'Dance Revolution - CD',\n",
       " 'Canon: A Collection - CD',\n",
       " 'Days of Purgatory [Mini LP 2CD Reissue] - CD',\n",
       " 'Sound Effects [United Multi Consign] - Various - CD',\n",
       " 'Teaser and the Firecat [Remaster] - CD',\n",
       " 'The Flying Club Cup - CD',\n",
       " 'Bass Generation Exclusive (Limited Edition) - CD',\n",
       " 'Ultimate Halloween Party Album - Various - CD',\n",
       " 'Hidden Beach Recordings Presents: Unwrapped,... - Various - CD',\n",
       " 'One For The Kids (Bonus Track) (Enhanced) - CD',\n",
       " 'Pretty Hate Machine (Reissue) - CD',\n",
       " 'All I Ever Wanted (Deluxe Edition) [CD & DVD] - CD',\n",
       " 'Animalize [Remaster] - CD',\n",
       " 'The Final Cut [Remaster] - CD',\n",
       " \"She's So Unusual [Bonus Tracks] [Remaster] - CD\",\n",
       " 'Doll Domination 2.0 (Bonus Tracks) - CD',\n",
       " 'The Black Crown [Box] - CD',\n",
       " 'Spider Man: Turn Off The Dark - Various - CD',\n",
       " 'Dethalbum II [Deluxe... [CD & DVD] [Blister] - CD',\n",
       " 'This Is War (CD+DVD) (Deluxe Edition) - CD',\n",
       " 'Kansas [Remaster] - CD',\n",
       " 'Tell The World: The Very Best Of [Remaster] - CD',\n",
       " 'Trancers: The Ultimate Deth Collection [5 Discs] - DVD',\n",
       " 'You Get What You Give [Bonus Tracks] - CD',\n",
       " 'Seperate But Equal: Drama Free Edition - CD',\n",
       " 'Nevermind (CD+DVD) (Deluxe Edition) (Box) - CD',\n",
       " \"AmeriKKKa's Most Wanted [PA] [Remaster] - CD\",\n",
       " 'Shout To The Lord: Special Gold Edition - CD',\n",
       " 'Upsides [Bonus Tracks] - CD',\n",
       " 'On An Island (CD+DVD) (Special) - CD',\n",
       " 'Mothership (CD+DVD) (Limited Edition) (Remastered) (Deluxe Edition) - CD',\n",
       " 'Shrek Forever After - CD',\n",
       " 'Last Train To Paris (Deluxe Edition) (Edited) - CD',\n",
       " 'In the Court of the Crimson King... [CD & DVD] - CD',\n",
       " \"It's On (Dr. Dre) 187um Killa [EP] - CD\",\n",
       " 'Palm World Voices: Spirit - 2 Disc - DVD',\n",
       " 'Shock Value 2 (Deluxe Edition) - CD',\n",
       " 'Inside In/Inside Out [ECD] - (with Bonus Tracks) - CD',\n",
       " 'Halloween: Monster Music - Various - CD',\n",
       " 'Alexis Jordan (Bonus Track) - CD',\n",
       " 'New Life [Deluxe Edition] - CD',\n",
       " 'Stronger [Deluxe Edition] - CD',\n",
       " 'Radiosurgery [Deluxe Edition] - CD',\n",
       " 'Colour & The Shape (Bonus Tracks) (Remastered) - CD',\n",
       " 'Terror Wheel (EP) - CD',\n",
       " 'Reggae Gold 2006 [CD/DVD] [CD & DVD] - Various CD+DVD - CD',\n",
       " \"Ok Computer (Collector's Edition) (Limited Edition) - CD\",\n",
       " 'Hell: The Sequel EP [Deluxe Edition] [EP] [PA] - CD',\n",
       " 'Aqualung [Bonus Tracks] - CD',\n",
       " 'Pennywise [Remaster] - CD',\n",
       " 'Intimacy: Album III [Deluxe Edition] [CD & DVD] - CD',\n",
       " \"Classic Relaxation [Includes Storage Case] - Various Collector's Edition - CD\",\n",
       " 'Transformer [Expanded... [Limited] [Remaster] - CD',\n",
       " 'Confrontation [Bonus Track] [Remaster] - CD',\n",
       " 'Mutant, Vol. 2 [CD+DVD] [CD & DVD] [PA] - CD',\n",
       " '2xs - Remastered - CD',\n",
       " 'Freestyle Heroes - Various - CD',\n",
       " '461 Ocean Boulevard [Remaster] - CD',\n",
       " 'Miami (Limited Edition Slipcase) - CD',\n",
       " 'Breaking Atoms [Import] [Japan Bonus Tracks] - CD',\n",
       " 'Road Cases [Holland Bonus Tracks] - CD',\n",
       " 'Oral Fixation 2 (Bonus Tracks) - CD',\n",
       " 'Cloud Nine (Bonus Dvd) (Japan) - CD',\n",
       " 'Downbeat the Ruler: Killer Instrumentals from... - Various - CD',\n",
       " 'Singles Box Set [Remaster] - CD',\n",
       " 'Heroes Of Nature (Bonus Tracks) (Japan) - CD',\n",
       " 'Original Album Classics (Box) - CD',\n",
       " 'Love Part One & Part Two (CD+DVD) (Deluxe Edition) (Box) - CD',\n",
       " 'Obscured By Clouds (Reissue) (Remastered) - CD',\n",
       " 'For Those Who Have Heart [CD & DVD] [Remaster] - CD',\n",
       " 'Now, Vol. 34 [US] - Various - CD',\n",
       " 'Queen II [Bonus Tracks] - CD',\n",
       " 'Marc Anthony (Bonus Track) - CD',\n",
       " \"Quadrophenia: The Director'S Cut (Dir) (Deluxe Edition) - CD\",\n",
       " 'Love for Sale [Remaster] - CD',\n",
       " 'Secret Codes & Battleships (Bonus Cd) - CD',\n",
       " 'Reach (Bonus Track) (Japan) - CD',\n",
       " 'Quadrophenia [Remaster] - CD',\n",
       " 'More Hot Rocks (Big Hits and Fazed... [Remaster] - CD',\n",
       " 'Fever (Bonus Cd) (Bonus Tracks) - CD',\n",
       " 'Blizzard Of Ozz - CD',\n",
       " 'Beyond the Horizon [CD & DVD] - CD',\n",
       " 'Chaos in Motion: 2007-2008 [CD & DVD] [Box] - CD',\n",
       " 'Of Battle & Ancient Warcraft - CD',\n",
       " 'Thirty Three & 1/3 [Bonus Tracks] [Remaster] - CD',\n",
       " 'Homesick [Bonus Tracks] - CD',\n",
       " \"Pachelbel'S Greatest Hits: Ultimate Canon  - Various - CD\",\n",
       " 'The Definitive Collection [Slimline] - CD',\n",
       " 'Turn It On Again: Tour Edition (Remastered) - CD',\n",
       " 'Sehnsucht [11 Tracks] - CD',\n",
       " 'South of Hell [CD & DVD] [PA] - CD',\n",
       " 'Bootleg Series, Vol. 9: The Witmark... [Box] - CD',\n",
       " 'Songs from the Big Chair... [Remaster] - CD',\n",
       " 'L.A.X. (Deluxe Edition) [PA] - CD',\n",
       " 'Blueprint 2 : Gift & Curse (Japan) - CD',\n",
       " 'Nostalgia Lite (Edited) (EP) - CD',\n",
       " 'Greatest Hits [Expanded] [Remaster] - CD',\n",
       " 'Messin With Boys (Bonus Track) (Japan) (Remastered) (Mlps) - CD',\n",
       " 'Spiceworld (Bonus Track) (Japan) - CD',\n",
       " 'Eazy-Duz-It [Bonus EP] [PA] [Remaster] - CD',\n",
       " 'Global Groove: De-Groovy & Delicious - Various - CD',\n",
       " 'Decorder (Bonus Track) (Japan) - CD',\n",
       " 'Fever Ray [Deluxe Edition] [CD/DVD] [Digipak] - CD',\n",
       " 'Set the Tone [Bonus Tracks] - CD',\n",
       " 'In Waves (CD+DVD) (Special) - CD',\n",
       " 'No Mercy [Deluxe Edition] [PA] - CD',\n",
       " 'Out of Our Heads [Remaster] - CD',\n",
       " \"Darrin's Coconut Ass: Live [ECD] [EP] - CD\",\n",
       " 'Lights [U.S. Edition] - CD',\n",
       " 'Hub-Tones [Bonus Tracks] [Remaster] - CD',\n",
       " 'With Teeth [UK Bonus Tracks] [PA] - CD',\n",
       " 'Extended Versions (Collectables) - CD',\n",
       " 'Call and Response: The Remix Album - CD',\n",
       " 'Promise: Darkness On The Edge Of Town Story (Wbr) - CD',\n",
       " 'Projector [Deluxe Edition] [Bonus Tracks] - CD',\n",
       " \"Grey's Anatomy,... [Limited] [Slipcase] - (with Bonus Tracks) - CD\",\n",
       " 'The Infection (Limited Edition) [CD & DVD] - CD',\n",
       " 'Armistice Live [CD & DVD] - CD',\n",
       " 'Joystick/Jukebox - Limited Edition - CD',\n",
       " 'Now & Zen (Bonus Tracks) (Remastered) - CD',\n",
       " 'Deeper Than Rap (Deluxe Edition) [CD & DVD] [PA] - CD',\n",
       " 'House of Cards - CD',\n",
       " 'Haywire [Deluxe Edition] [Bonus Tracks] [Digipak] - CD',\n",
       " 'Playlist: The Very Best Of Mudvayne (Remastered) - CD',\n",
       " 'Monkey Business [International Version] - CD',\n",
       " 'Final Riot (CD+DVD) - CD',\n",
       " 'Fearless [CD & DVD] - CD',\n",
       " 'The Astral Sleep [Remaster] - CD',\n",
       " 'Dubstep Allstars, Vol. 4 - CD',\n",
       " 'Genius: The Ultimate Collection - CD',\n",
       " 'We the Kings [Deluxe Edition] [ECD] - CD',\n",
       " 'Wheels Of Steel (Bonus Tracks) (Remastered) - CD',\n",
       " 'Gloriana [Bonus Track] - CD',\n",
       " 'Grand Funk [Bonus Tracks] [Remaster] - CD',\n",
       " '1.22.03.Acoustic [EP] - CD',\n",
       " 'Planetary Chronicles, Vol. 1 - CD',\n",
       " 'Artwork (CD+DVD) (Limited Edition) - CD',\n",
       " 'Skin A Night & The Virginia Ep (2 Disc) (W/Cd) - DVD',\n",
       " 'Bitches Brew Live - CD',\n",
       " 'Persuasion [Audiobooks] - CD',\n",
       " 'Persona [Deluxe Version] - CD',\n",
       " 'Shadowman [Bonus Tracks] - CD',\n",
       " 'Dark Side Of The Moon (Reissue) (Remastered) - CD',\n",
       " 'Still Not Getting Any (Japan) - CD',\n",
       " 'Stronger [Import] [Bonus Track] - CD',\n",
       " 'Diary Of A Madman (Bonus Track) (Remastered) - CD',\n",
       " 'Bleach (Dlcd) (Remastered) - VINYL',\n",
       " 'Ultimate Survivor - CD',\n",
       " 'Before Dawn Heals Us (Bonus Cd) (Japan) - CD',\n",
       " 'Live and Rare [EP] - CD',\n",
       " 'Libra Scale [Deluxe Edition] [CD & DVD] [Digipak] - CD',\n",
       " 'The Soft Parade [Bonus Tracks] [Remaster] - CD',\n",
       " 'Sticky Fingers (Reissue) (Remastered) - CD',\n",
       " 'Wwe: Raw Greatest Hits The Music - Various Japan - CD',\n",
       " 'Spider-Man: Turn Off the Dark - Various - CD',\n",
       " 'Meet The Orphans [Deluxe Edition] [CD & DVD] - CD',\n",
       " 'Led Zeppelin [Box Set] [Box] - CD',\n",
       " 'F-Letter [Bonus Tracks] [Remaster] - CD',\n",
       " 'Staind [Clean Version] - CD',\n",
       " 'August & Everything After (Bonus Tracks) (Deluxe Edition) - CD',\n",
       " 'Mission Impossible - (with Bonus Tracks) - CD',\n",
       " 'Various Japan - CD',\n",
       " 'The Kink Kontroversy [UK Bonus Tracks] - CD',\n",
       " 'Funk In A Mason Jar (Japan) (Limited Edition) (Remastered) (Shm) - CD',\n",
       " 'Songs in A Minor [Deluxe Edition] [CD & DVD] - CD',\n",
       " 'The Underdog EP [EP] - CD',\n",
       " 'Celtic Football Club: The Official Album - Various - CD',\n",
       " 'Genesis [CD & DVD] [Remaster] - CD',\n",
       " 'Led Zeppelin IV [Remaster] - CD',\n",
       " 'Trance Essentials 2011, Vol. 1 - Various - CD',\n",
       " 'This War Is Ours [CD & DVD] - CD',\n",
       " 'Ultimate Piano Classics - Various Box - CD',\n",
       " 'Papercut Chronicles - CD',\n",
       " 'Changing of the Seasons [Bonus Track] - CD',\n",
       " 'Final Descent [Remaster] - CD',\n",
       " 'Lifesong Live [CD & DVD] - CD',\n",
       " 'Cryptic Writings (Bonus Tracks) (Remastered) - CD',\n",
       " 'Trojan Battlefield: King Pioneer Ska Productions - CD',\n",
       " 'Grit & Grid (Bonus Track) (Japan) - CD',\n",
       " 'Flash Gordon (Bonus Cd) (Deluxe Edition) - CD',\n",
       " \"Hairspray (Collector's Edition) [ECD] - CD\",\n",
       " 'All American Nightmare (Deluxe Edition) (Enhanced) - CD',\n",
       " 'Underdog Alma Mater (CD+DVD) (Deluxe Edition) - CD',\n",
       " 'Piper At The Gates Of Dawn (Reissue) (Remastered) - CD',\n",
       " 'Blues Guitar Hero, Vol. 2 - CD',\n",
       " 'Box of the Wicked [Box] - CD',\n",
       " 'Ghost in the Machine [Remaster] - CD',\n",
       " 'Ultimate Collection (CD+DVD) (Box) (Spkg) - CD',\n",
       " 'Damn the Torpedos [Deluxe Edition] - CD',\n",
       " 'Live, Vol. 3 - CD',\n",
       " 'Best Acoustic Album (Bonus Dvd) (Japan) - CD',\n",
       " 'Resurrection [Deluxe Edition] - CD',\n",
       " 'Trial By Fire (Bonus Track) (Remastered) - CD',\n",
       " 'Bootleg 3: Live Around The World (Bril) - CD',\n",
       " \"Brian Auger's Oblivion Express [Import] - CD\",\n",
       " 'Watch The Throne (Bonus Tracks) (Deluxe Edition) - CD',\n",
       " 'Made in Japan - CD',\n",
       " 'Greatest Hits (English) (Remastered) - CD',\n",
       " 'Dispatch: Zimbabwe - Live at... [CD & DVD] - CD',\n",
       " 'Ministry Of Sound: Sound Of Dubstep 2 - Various - CD',\n",
       " 'Diary Of A Madman (Remastered) (Ogv) - VINYL',\n",
       " 'Live Bullet [Remaster] - CD',\n",
       " 'Uni5: The Worlds Enemy - CD',\n",
       " 'Take Care [Clean] [Deluxe Edition] - CD',\n",
       " 'Here I Am [Deluxe Version] - CD',\n",
       " 'Nuclear Furniture (Japan) (24bt) (Remastered) (Mlps) - CD',\n",
       " 'Dusk And Summer (Deluxe Edition) - CD',\n",
       " 'Strange Times [Bonus Disc] - CD',\n",
       " 'Beginning [Deluxe Edition] - CD',\n",
       " 'Cole World [Import] [Bonus Track] - CD',\n",
       " 'Our Planet (10pc) (W/Cd) - DVD',\n",
       " 'Noble Beast [Slipcase] - CD',\n",
       " 'Dark Side Of The Moon (Immersion Editions) (Remastered) - CD',\n",
       " 'Survive, Kaleidoscope [CD & DVD] - CD',\n",
       " 'CTI Records: The Cool Revolution - Various Remastered - CD',\n",
       " 'King [Deluxe Edition]... [CD & DVD] [Digipak] - CD',\n",
       " 'Selena [ECD] [Remaster] - (with Bonus Tracks) Limited Edition - CD',\n",
       " 'Black Rain (Limited Edition) (Tick) - CD',\n",
       " 'Digital Veil - CD',\n",
       " 'Best Of (Japan) (Remastered) (Shm) - CD',\n",
       " 'Lenses Alien - CD',\n",
       " 'Biophilia [Import] [Bonus Track] - CD',\n",
       " \"Razor'S Edge (Remastered) (Deluxe Edition) - CD\",\n",
       " 'Bound For Glory: Live - CD',\n",
       " 'Humanoid City Live (CD+DVD) - CD',\n",
       " 'Hits (Remastered) - CD',\n",
       " 'Soul Punk [Deluxe Edition] - CD',\n",
       " 'The Essential Alice in Chains - CD',\n",
       " 'Evanescence (CD+DVD) (Deluxe Edition) - CD',\n",
       " 'Details [Bonus Track] - CD',\n",
       " 'Dazzle Ships [Bonus Tracks] - CD',\n",
       " 'Californication: Season 3 - Various - CD',\n",
       " 'Nevermind (Remastered) - CD',\n",
       " 'Wish You Were Here [Immersion Edition] [CD & DVD] - CD',\n",
       " 'Violence as First Nature [Bonus Disc] - CD',\n",
       " 'Wrath of the Rice Cooker - CD',\n",
       " 'Tell Me A Lie (Remastered) - CD',\n",
       " 'Razorblade Suitcase - CD',\n",
       " 'Fang Bang (Bonus Track) - CD',\n",
       " 'Ultra Trance 9 - Various - CD',\n",
       " 'Live in Japan [Import] - CD',\n",
       " 'Wahhahha (Bonus Track) (Japan) - CD',\n",
       " 'Ultimate Chillout Classics - Various Box - CD',\n",
       " 'Live [Remaster] - CD',\n",
       " 'Rain in Hell [CD & DVD] [EP] - CD',\n",
       " '7th Symphony (CD+DVD) (Deluxe Edition) - CD',\n",
       " 'Incubus: Alive at Red Rocks - Cd) / (Dig) - DVD',\n",
       " 'Blast the Speakers, Vol. 2 - Various - CD',\n",
       " 'Enema of the State [Japan Bonus Tracks] - CD',\n",
       " 'Out Of Cellar (Japan) (Limited Edition) - CD',\n",
       " 'Carnival of Carnage [Remaster] - CD',\n",
       " 'Doe or Die [15th Anniversary Special Edition] - CD',\n",
       " 'Back In Black (Remastered) (Deluxe Edition) - CD',\n",
       " 'Trevor Rabin (Limited Edition) (Mlps) - CD',\n",
       " 'Unto the Locust [Special Edition] [DVD] [Digipak] - CD',\n",
       " 'Exclusive: The Forever Edition (CD+DVD) (Snys) - CD',\n",
       " 'Nothing But the Beat [Deluxe Edition] - CD',\n",
       " 'Batman and Other Themes - CD',\n",
       " 'Dubstep Madness - Various - CD',\n",
       " 'Dub 56 [Bonus Disc] - CD',\n",
       " 'Our Planet (10pc) (W/Cd) - Box - DVD',\n",
       " 'One Life Stand (CD+DVD) (Limited Edition) (Special) - CD',\n",
       " 'You Get What You Give (Bonus Tracks) (Deluxe Edition) - CD',\n",
       " 'Pursuit of Happiness [Bonus Tracks] - CD',\n",
       " 'Storm Manifesto [Box] - CD',\n",
       " 'Muchas Gracias: Best Of (Remastered) - CD',\n",
       " 'WWIII Tour 2003 [14 Tracks] [PA] - CD',\n",
       " 'Neighborhoods (Deluxe Edition) (Edited) - CD',\n",
       " 'Disraeli Gears [Remaster] - CD',\n",
       " 'Alive 2: The Music [PA] - CD',\n",
       " 'Stronger (Bonus Tracks) (Deluxe Edition) - CD',\n",
       " 'Savage Life 3 [PA] - CD',\n",
       " 'Mtv Unplugged Los Tigres Del Norte & Friends (Deluxe Edition) - CD',\n",
       " 'The Game - CD',\n",
       " 'Speak Now (Bonus Tracks) (Japan) (Deluxe Edition) - CD',\n",
       " 'Shaft [Deluxe Edition] [Bonus Track] - CD',\n",
       " 'Home to Oblivion: An Elliot... [Import] - CD',\n",
       " 'Highway To Hell (Remastered) (Deluxe Edition) - CD',\n",
       " 'Physical Graffiti [Remaster] - CD',\n",
       " 'With The Music I Die - CD',\n",
       " \"I Won'T Complain (Bonus Dvd) - CD\",\n",
       " 'World Cafe Live - CD',\n",
       " 'Together - CD (with Bonus Tracks) - CD',\n",
       " \"3 CD Collector's Set [Box] - CD\",\n",
       " 'Red Album (Edited) - CD',\n",
       " 'Come Get It: The Very Best... [Remaster] - CD',\n",
       " 'Hannah Montana: Hits Remixed - CD',\n",
       " 'Lost Dogs: Rarities and B Sides - CD',\n",
       " 'Autobiography [Germany Bonus Track] [DigDownLoad] - CD',\n",
       " 'Welcome To The Morbid Reich (Bonus Tracks) - CD',\n",
       " 'Soca Gold 2011 [DVD] - DVD Various (with Bonus Tracks) - CD',\n",
       " 'Fantastic 2.10 (Bonus Tracks) - CD',\n",
       " 'Essential, Vol. 1 - CD',\n",
       " 'Breakaway (Bonus Track) (Japan) - CD',\n",
       " 'Tierra Firme [Deluxe Edition] [ECD] - CD',\n",
       " 'My Life II: The Journey Continues (Act 1) (Deluxe Edition) - CD',\n",
       " 'Opheliac [Deluxe] - CD',\n",
       " '90125 [Bonus Tracks] [Remaster] - CD',\n",
       " 'Alexisonfire/Moneen [Split EP] - CD',\n",
       " 'Loud (Bonus Track) (Japan) - CD',\n",
       " 'All Systems Go [Bonus Tracks] [Remaster] - CD',\n",
       " 'The Dutchess [Australia Bonus Tracks] [PA] - CD',\n",
       " 'Live, Vol. 2 [ECD] - CD',\n",
       " 'Welcome to Strangeland [Deluxe Edition] [11/8] - CD',\n",
       " 'Hairspray - Deluxe Edition Enhanced - CD',\n",
       " 'Come and See Us as We Are! [Bonus Tracks] - CD',\n",
       " 'Teen Dream (CD+DVD) - CD',\n",
       " 'Notorious (CD+DVD) (Bonus Cd) (Limited Edition) - CD',\n",
       " 'The Music of Batman - CD',\n",
       " 'Wraith: Remix Albums - CD',\n",
       " 'Take Care [Deluxe Edition] [PA] [11/15] - CD',\n",
       " 'The Fame Monster [Deluxe Edition] - CD',\n",
       " 'Ghostbusters [Bonus Track] - (with Bonus Tracks) Remastered - CD',\n",
       " 'Escape (Bonus Tracks) - CD',\n",
       " 'Various Japan - CD',\n",
       " 'Plagues (Bonus Tracks) - CD',\n",
       " 'Party Animals [CD & DVD] - CD',\n",
       " 'Harry Potter and the Deathly Hallows,... [7/12] - CD',\n",
       " 'Thirty Three & 1/3 (Bonus Tracks) (Rmst) - CD',\n",
       " 'Pinkerton [Deluxe Edition] - CD',\n",
       " 'Purple Punch, Vol. 3 [PA] - CD',\n",
       " 'Science (Remastered) (Enhanced) - CD',\n",
       " 'Metal Blade Fanpack - Various - CD',\n",
       " 'Song Remains The Same (English) (Limited Edition) (Mlps) - CD',\n",
       " 'Box Set [Import] [17 CD] - CD',\n",
       " 'Hed Kandi Nu Disco: Hello Kitty - Various Limited Edition - CD',\n",
       " 'Saturday Night Fever [Import] - CD',\n",
       " 'Frank [The Super Deluxe Edition UK] [PA] - CD',\n",
       " 'Chicago Transit Authority (Remastered) - CD',\n",
       " 'Kidz Bop, Vol. 18 [DigDownLoad] - CD',\n",
       " 'Beautiful Tragedy (Bonus Tracks) (Enhanced) - CD',\n",
       " 'Illmatic (Bonus Tracks) (Aniv) - CD',\n",
       " '21st Century Breakdown (Deluxe) [Limited] - CD',\n",
       " 'Vheissu: Deluxe Edition [Limited] - CD',\n",
       " 'Piece of Mind [Remaster] - CD',\n",
       " 'American Fool [Bonus Tracks] - CD',\n",
       " 'Ten (Bonus Tracks) (Remastered) - CD',\n",
       " 'Antics: The Special Edition [ECD] [Limited] - CD',\n",
       " 'Monster Monster EP [EP] - CD',\n",
       " 'Graffiti (Deluxe Edition) - CD',\n",
       " 'Best of Judas Priest [JVC Japan] - CD',\n",
       " 'Nostradamus [Deluxe] - CD',\n",
       " 'Phish: Alpine Valley 2010 (4 Disc) (W/Cd) - DVD',\n",
       " 'Euphoria (Bonus Tracks) - CD',\n",
       " 'Same Dream [Bonus Tracks] [ECD] - CD',\n",
       " 'Lost: The Final Season - CD',\n",
       " 'Soul Power: Funky Kingston, Vol. 2 - Various Remastered - CD',\n",
       " 'Countdown to Extinction [Bonus Tracks] [PA] - CD',\n",
       " 'Hands All Over (Deluxe Edition) - CD',\n",
       " 'Bat Out of Hell [Remaster] - CD',\n",
       " 'Surtur Rising (CD+DVD) - CD',\n",
       " 'Before The Dawn Heals Us (Bonus Cd) - VINYL',\n",
       " 'Thriller: 25th Anniversary Edition (Casebook Dlx) - CD',\n",
       " 'Dark Side Of The Moon (Experience Editions) (Remastered) - CD',\n",
       " 'One More Love [DVD] - CD',\n",
       " 'At Last! [Remaster] - CD',\n",
       " 'Gold [Import] [Bonus Track] - CD',\n",
       " 'Beyond Hell/Above Heaven [ECD] - Deluxe Edition CD+DVD - CD',\n",
       " 'Very Best of the Human... [Remaster] - CD',\n",
       " 'Keep The Faith: Special Edition (Bonus Tracks) - CD',\n",
       " 'Tapestry [ECD] [Remaster] - CD',\n",
       " 'Take Care [PA] Deluxe CD & T-Shirt Bundle - CD',\n",
       " 'The Metal Opera, Vol. 1 & 2 - CD',\n",
       " 'Infinite Soul: The Best of... [Slipcase] - CD',\n",
       " 'Digital Shades 1 (Bonus Cd) - VINYL',\n",
       " 'Original Me (Bonus Cd) (Bonus Tracks) - CD',\n",
       " 'Closer To It! Deluxe Edition - CD',\n",
       " 'Demons and Wizards [UK Bonus Tracks] - CD',\n",
       " 'Spartacus: Blood and Sand - CD',\n",
       " 'Feeling Bitchy (Reissue) (Remastered) - CD',\n",
       " 'Surveillance (Remastered) - CD',\n",
       " 'Haunted Cities (Deluxe Edition) - CD',\n",
       " 'First Glance/Harder...Faster [Import] [Remaster] - Remastered English - CD',\n",
       " 'Ultimate Collection - CD',\n",
       " 'Loyalty To Loyalty (Bonus Dvd) (Deluxe Edition) - CD',\n",
       " 'Official Remix Album - CD',\n",
       " 'Angel Voices 3 - CD',\n",
       " 'Greatest Hits: Limited Edition [Box] - CD',\n",
       " 'Yellow Submarine (Limited Edition) (Remastered) (Enhanced) - CD',\n",
       " 'Live (Germany) - CD',\n",
       " 'Rust In Peace (Bonus Tracks) (Remastered) - CD',\n",
       " 'Crash Love [Deluxe Edition] [2 CDs] [Digipak] - CD',\n",
       " 'Forgotten Freshness, Vol. 4 [PA] - CD',\n",
       " 'Haste The Day Vs Haste The Day Live (CD+DVD) - CD',\n",
       " 'Volkerball: Bildband (Limited Edition) - CD',\n",
       " 'Fever [CD & DVD] - CD',\n",
       " 'Vault, Vol. 2 - CD',\n",
       " 'Fearless [CD & DVD] - CD',\n",
       " 'Some Great Reward (Remastered) - CD',\n",
       " 'Mama Africa [Bonus Tracks] [Remaster] - CD',\n",
       " 'Hysteria: Deluxe Edition - CD',\n",
       " 'Black Aria (Limited Edition) - CD',\n",
       " 'Ultimate Collection - CD',\n",
       " 'The Last Waltz [Remaster] - CD',\n",
       " 'The Black Godfather - CD',\n",
       " 'Youth (Bonus Tracks) - CD',\n",
       " 'Fantastic Four: Rise of the Silver Surfer... - CD',\n",
       " \"That's What I Am Here For/Rescue Me - Remastered - CD\",\n",
       " 'Verbal Anime [12inch Vinyl Disc] [Single] - 12-Inch Single',\n",
       " 'Ultimate Hits (CD+DVD) - CD',\n",
       " 'Vs & Vitalogy 3 Cd Deluxe Edition (Deluxe Edition) - CD',\n",
       " 'Cosmic Egg (Deluxe Edition) - CD',\n",
       " 'Nightfall On Middle Earth (Bonus Track) (Reissue) - CD',\n",
       " '20th Century Masters:... [Remaster] - CD',\n",
       " 'Kings Of Damnation: Era 1998-2004 (W/Cdrom) (Reissue) - CD',\n",
       " 'Guitar Heroes, Vol. 1 - Various - CD',\n",
       " 'Brainwashed [Bonus DVD] [Limited] - CD',\n",
       " 'Time Of My Life (Deluxe Edition) - CD',\n",
       " 'Sliver: The Best of the Box - CD',\n",
       " 'Blind Faith (Remastered) - CD',\n",
       " 'Ultra Dance 12 - Various - CD',\n",
       " 'Hd Moods: Deluxe (4 Disc) - Blu-ray Disc',\n",
       " 'Ultimate Collection (Remastered) - CD',\n",
       " '21 (Bonus Tracks) - CD',\n",
       " 'Implosion (Bonus Tracks) (Remastered) - CD',\n",
       " 'Red (30th Anniversary Edition) [Remaster] - CD',\n",
       " 'Trilogy of Fantasy: Lord of the Rings - Various - CD',\n",
       " 'One-X Special Edition (Bonus Cd) (Bonus Track) - CD',\n",
       " 'Honor Among Thieves [Bonus Track] - CD',\n",
       " 'Linkin Park Fan Pack  - CD',\n",
       " 'B-Sides & Rarities [PA] - CD',\n",
       " 'Hemispheres [Remaster] - CD',\n",
       " 'Head Games [Bonus Track] [Remaster] - CD',\n",
       " 'Pac-Man Fever - CD',\n",
       " \"Gigi d'Agostino Compilation - Various Box - CD\",\n",
       " 'Gee [Bonus DVD] [Single] - CD',\n",
       " 'Iron Fist (Deluxe Edition) [Remaster] - CD',\n",
       " 'Wish You Wre Here (Immersion Editions) (CD+DVD) - CD',\n",
       " 'Achtung Baby (Remastered) - CD',\n",
       " 'Full Metal Panic: Fumoffu - Rmsd (2 Disc) - DVD',\n",
       " 'Decemberunderground [Bonus Tracks] - CD',\n",
       " 'The Foundation [Slipcase] - CD',\n",
       " 'Radiohead Box Set [Box] [Limited] - CD',\n",
       " 'Forgotten Freshness, Vol. 3 [PA] - CD',\n",
       " 'Hell: The Sequel (EP) - CD',\n",
       " 'Platinum Collection (English) (Remastered) - CD',\n",
       " 'Opus Eponymous [Slipcase] - CD',\n",
       " 'Innervisions [Remaster] - CD',\n",
       " 'Meds [Bonus Tracks] - CD',\n",
       " 'Prince of Darkness [Box] - CD',\n",
       " 'Echoes: The Best of Pink Floyd [Remaster] - CD',\n",
       " 'Volare: The Studio Collection - CD',\n",
       " 'Crunk Hits [PA] - DVD Various (with Bonus Tracks) - CD',\n",
       " 'The Red Dirt Album - CD',\n",
       " 'Man On The Moon 2: The Legend Of Mr Rager (Edited) - CD',\n",
       " 'Cruelty and the Beast [Bonus CD] [Limited] - CD',\n",
       " 'At Folsom Prison [Remaster] - CD',\n",
       " 'This Is Dubstep, Vol. 3 - Various - CD',\n",
       " 'Attack Attack (Reissue) (Deluxe Edition) - CD',\n",
       " 'Atom Heart Mother (Reissue) (Remastered) - CD',\n",
       " 'Bone Brothers, Vol. 3 [PA] - CD',\n",
       " 'Chronicles: Death Row Classics [PA] - CD',\n",
       " \"Smokin' O.P.'s [Remaster] - CD\",\n",
       " 'Music Of Batman - O.S.T. - CD',\n",
       " 'The Great Misdirect [Deluxe] [CD & DVD] [Digipak] - CD',\n",
       " 'Masters of War - CD',\n",
       " 'Operation: Mindcrime [Bonus Tracks] [Remaster] - CD',\n",
       " 'Animal + Cannibal (Deluxe Edition) - CD',\n",
       " 'Dark Side of the... [CD & DVD] [Box] - CD',\n",
       " 'The O.C. Mix, Vol. 4 - Various - CD',\n",
       " 'Achtung Baby (CD+DVD) (Wlp) (Deluxe Edition) (Box) - CD',\n",
       " 'The Crucible of Man: Something Wicked, Pt. 2 - CD',\n",
       " 'Kim Possible [Bonus Track] [Blister] - Blister Original Soundtrack - CD',\n",
       " 'Pink Friday (Bonus Tracks) (Deluxe Edition) - CD',\n",
       " 'On Frail Wings of Vanity and Wax [Bonus Tracks] - CD',\n",
       " 'Homesick [Special Deluxe Edition] [CD & DVD] - CD',\n",
       " 'Fantastic Four: Rise Of The Silver Surfer - O.S.T. - CD',\n",
       " 'Ultra Weekend, Vol. 7 - Various - CD',\n",
       " 'Formation of Damnation [Deluxe Edition] - CD',\n",
       " 'Momentary Lapse Of Reason (Reissue) (Remastered) - CD',\n",
       " 'Addicted to Music [Import] [1 Bonus Track] - CD',\n",
       " 'Highest Hopes: The Best Of (Bonus Dvd) (Swe) - CD',\n",
       " 'Fruity (Bonus Track) (Japan) (Mlps) - CD',\n",
       " 'London Calling [Remaster] - CD',\n",
       " 'Kamikaze [Bonus Tracks] [PA] - CD',\n",
       " '19 (Deluxe Edition) - CD',\n",
       " 'Circus (CD+DVD) (Deluxe Edition) (Snyc) - CD',\n",
       " 'Tribute [Remaster] - CD',\n",
       " 'DVD (with Bonus Tracks) - CD',\n",
       " 'Celebration [Deluxe Edition] - CD',\n",
       " 'No More Tears [Bonus Tracks] [Remaster] - CD',\n",
       " 'B-Sides and Rarities - CD',\n",
       " 'Foreigner [Bonus Tracks] [Remaster] - CD',\n",
       " 'Paper Planes: Homeland Security Remixes (X5) - CD',\n",
       " 'More Than You Think You Are (Bonus Track) (Japan) - CD',\n",
       " 'Love, God, Murder, Life [4 CD] [Box] - CD',\n",
       " 'The Definitive Collection [Remaster] - CD',\n",
       " \"5 Years Of Fireworks'; [CD & DVD] - CD\",\n",
       " \"Don't You Fake It [Deluxe] [Limited] - CD\",\n",
       " 'Welcome To The Masquerade (Fan Edition) - CD',\n",
       " 'Innerspeaker (Limited Edition) (Deluxe Edition) - CD',\n",
       " 'Science & Faith [Bonus Tracks] - CD',\n",
       " 'The Dark Saga [Mini LP Reissue] - CD',\n",
       " 'Ultimate Collection - CD',\n",
       " 'The Collection [Box Set] [Box] [Limited] - CD',\n",
       " 'If Not Now When (Bonus Track) (Japan) - CD',\n",
       " 'Supernatural [Legacy Edition] - CD',\n",
       " 'Bass Monster: Hi End Car Audio, Vol. 1 - Various - CD',\n",
       " 'Back to Black [Deluxe Edition] [PA] - CD',\n",
       " 'Live: The Last Concert [ECD] [Remaster] - CD',\n",
       " 'I Need Mine (Bonus Track) (Japan) - CD',\n",
       " '1984 [Remaster] - CD',\n",
       " 'Airborne Toxic Event [Bonus Tracks] - CD',\n",
       " 'The Complete Studio Recordings [Box] - CD',\n",
       " 'Silk Degrees (Bonus Tracks) (Remastered) - CD',\n",
       " 'Songs from the Wood [Bonus Tracks] [Remaster] - CD',\n",
       " 'B in the Mix: The Remixes, Vol. 2 - CD',\n",
       " 'Shuffle!: The Complete Collection [4 Discs] - Box - DVD',\n",
       " \"Collector'S Box (Box) - CD\",\n",
       " 'Vegas (Deluxe Edition) [ECD] - CD',\n",
       " 'Born This Way:... [CD & DVD] [Box] [PA] - CD',\n",
       " \"I'm the Man [Bonus Track] [Remaster] - CD\",\n",
       " 'The Albums [Box] - CD',\n",
       " 'Love (Bonus Tracks) (Deluxe Edition) - CD',\n",
       " '20th Century Masters: Millennium Collection (Remastered) - CD',\n",
       " 'Live Cd+Dvd (Bonus Track) (Japan) - CD',\n",
       " 'Midnight Club 3: DUB Edition Greatest Hits - PSP',\n",
       " 'B In The Mix: The Remixes - CD',\n",
       " 'Prince Charming [Remaster] - CD',\n",
       " 'Fallen (Bonus Cd) (Bonus Track) (Japan) (Enhanced) - CD',\n",
       " 'Metal Health [Bonus Tracks] [Remaster] - CD',\n",
       " 'Too Hood 2 Be Hollywood (Bonus Tracks) - CD',\n",
       " 'The Electronic Tribute to Pink Floyd - Various - CD',\n",
       " \"Director'S Cut (Bonus Cd) (Bonus Tracks) (Limited Edition) - CD\",\n",
       " 'Rebirth [Deluxe Edition] [PA] - CD',\n",
       " 'Monster Mash Rock & Roll Party - Various - CD',\n",
       " \"One O'Clock Jump: The Very Best of... [Remaster] - CD\",\n",
       " 'Soul Punk (Deluxe Edition) - CD',\n",
       " 'For the Heathers [Single] - CD',\n",
       " 'Song Remains the Same... [Remaster] - CD',\n",
       " 'Black Rain (W/Book) (Jewel Case) (Enhanced) - CD',\n",
       " 'Dreams in the Witch House: The... [Remaster] - CD',\n",
       " 'Blue Slide Park [Clean Version] - CD',\n",
       " \"Mother's Milk [Bonus Tracks] [PA] [Remaster] - CD\",\n",
       " 'The Essential Kingston Trio [Remaster] - CD',\n",
       " 'Light The Fire (Bonus Track) (Japan) - CD',\n",
       " 'Deltron 3030 [Bonus Tracks] [PA] - CD',\n",
       " 'Close to the Edge [Bonus Tracks] [Remaster] - CD',\n",
       " 'Halfway to Heaven [Deluxe Edition] [ECD] - CD',\n",
       " 'WWE: The Music, Vol. 9: Voices [PA] - Various - CD',\n",
       " 'Shadows Are Security (CD+DVD) (Special) - CD',\n",
       " 'Nothing (Bonus Track) (Japan) - CD',\n",
       " 'Danger Days: True Lives Of (Bonus Tracks) (Japan) - CD',\n",
       " 'Final Cut (Reissue) (Remastered) - CD',\n",
       " 'Greatest Hits [Remaster] - CD',\n",
       " 'Four the Record [Deluxe Edition] [DVD] - CD',\n",
       " 'Let It Roll (Remastered) - CD',\n",
       " 'Mr Taxi - DVD (with Bonus Tracks) - CD',\n",
       " 'Vol. I - CD',\n",
       " 'Whirlpool (Reissue) - CD',\n",
       " 'Diary Of A Madman (Picture Disc) (Remastered) (Pict) - VINYL',\n",
       " 'Doo Wops & Hooligans [Bonus Tracks] - CD',\n",
       " 'Friends Family Forever (Bonus Tracks) (Reissue) - CD',\n",
       " 'My Generation [Import] [Bonus Tracks] - CD',\n",
       " 'Flowermouth [Bonus Tracks] - CD',\n",
       " 'Flaming Schoolgirls [Import] - CD',\n",
       " 'In Love and Death [Bonus Track] [PA] - CD',\n",
       " 'Ten (Deluxe Edition) [CD & DVD] - CD',\n",
       " 'Encores: Live - CD',\n",
       " 'Now, Vol. 32 - Various - CD',\n",
       " 'Allied Forces (Remastered) - CD',\n",
       " 'Just Love (CD+DVD) (Deluxe Edition) - CD',\n",
       " 'Shuffle, Vol. 6 - DVD',\n",
       " 'Life In The Word (CD+DVD) (Bril) - CD',\n",
       " 'Beyond The Sun (Deluxe Edition) - CD',\n",
       " 'Bullets in the Gun [Deluxe Edition] - CD',\n",
       " 'Scream: Tour Edition - CD',\n",
       " 'Van Halen II [Remaster] - CD',\n",
       " 'Weezer (Green Album) [UK Bonus Track] - CD',\n",
       " 'The Who by Numbers [Remaster] - CD',\n",
       " 'XP Dub & Peace Dub [12inch Vinyl Disc] - 12-Inch Single',\n",
       " 'Fever Ray (CD+DVD) (Deluxe Edition) - CD',\n",
       " 'This Is Crucial Reggae - CD',\n",
       " 'Elite Hotel [Bonus Tracks] [Remaster] - CD',\n",
       " 'Bootleg Series V.7: No Direction Home - CD',\n",
       " 'Ultra 2011 - Various - CD',\n",
       " 'Danzig (Reissue) - CD',\n",
       " 'Capitol Albums 2 (Japan) - CD',\n",
       " 'Loud [Deluxe Edition] [CD & DVD] - CD',\n",
       " 'Ms Kelly (Bonus Track) - CD',\n",
       " 'Blue Edition - CD',\n",
       " 'Platinum Collection (Eng) - CD',\n",
       " 'Radioactive (Bonus Tracks) (Deluxe Edition) - CD',\n",
       " '80s Revolution: Disco Fox, Vol. 2 - Various - CD',\n",
       " 'The Poison [CD & DVD] - CD',\n",
       " '19 (Bonus Tracks) (Japan) - CD',\n",
       " 'Gish [Deluxe Edition CD/DVD] [CD & DVD] [Box] - CD',\n",
       " 'Civil Wars - CD',\n",
       " 'Bleach [Deluxe Edition] - CD',\n",
       " \"AC/DC Live [Collector's... [Hyper CD] [Remaster] - CD\",\n",
       " 'Album II - CD',\n",
       " 'Inquisition Symphony - CD',\n",
       " 'Pages of Life: Chapters 1 & 2 - CD',\n",
       " 'Beyonc&#xE9;: The Beyonc&#xE9; Experience - Live - CD',\n",
       " 'Incredible Machine (CD+DVD) - CD',\n",
       " 'Presto [Remaster] - CD',\n",
       " 'The Extended Play EP [PA] - CD',\n",
       " 'Chronic Re-Lit & From The Vault (Bonus Dvd) - CD',\n",
       " 'Bad [Bonus Tracks] [Remaster] - CD',\n",
       " 'Mudvayne (Limited Edition) - CD',\n",
       " 'Check Your Head [Remastered Edition] [PA] - CD',\n",
       " 'Pink Friday (Deluxe Edition) (Edited) - CD',\n",
       " 'Shipwreck In the Sand (Deluxe Edition) [CD & DVD] - CD',\n",
       " 'Zenyatta Mondatta (Remastered) - CD',\n",
       " 'Legend [Deluxe Edition] - CD',\n",
       " 'Exclusive (Deluxe Edition) [CD & DVD] - CD',\n",
       " 'Led Zeppelin II [Remaster] - CD',\n",
       " 'Break the Spell [Deluxe Edition] - CD',\n",
       " 'Saxon (Bonus Tracks) (Remastered) - CD',\n",
       " 'Niggaz4life [Bonus Tracks] [PA] [Remaster] - CD',\n",
       " 'Houses Of The Holy (Limited Edition Mini LP... - CD',\n",
       " 'Live in Japan, February 19th, 21st, and 22nd,... - CD',\n",
       " ...]"
      ]
     },
     "execution_count": 35,
     "metadata": {},
     "output_type": "execute_result"
    }
   ],
   "source": [
    "clusters[1]  #useful for spot checking clusters to ensure items inside are homogenous"
   ]
  },
  {
   "cell_type": "code",
   "execution_count": 36,
   "id": "bee3bcc7",
   "metadata": {},
   "outputs": [
    {
     "name": "stdout",
     "output_type": "stream",
     "text": [
      "{ cluster: 0, top_words: ['Windows', 'Adobe', 'Mac', 'Mac/Windows', 'Upgrade', 'Suite', '2011', 'Edition', 'Pro', '2012', 'Version', 'Home', 'Creative', '5.5', 'Premium', 'Student', 'Microsoft', '2010', 'Office', 'Professional']}\n",
      "{ cluster: 1, top_words: ['CD', '(Bonus', '[Remaster]', 'Edition)', '[Bonus', '(Deluxe', 'Tracks]', 'Tracks)', '(Remastered)', 'Edition]', 'DVD]', '[CD', '[Deluxe', '[PA]', 'Various', '(CD+DVD)', 'Vol.', '(Japan)', 'Edition', 'Track)']}\n",
      "{ cluster: 2, top_words: ['Microwave', 'Cu.', 'Ft.', 'Stainless-Steel', 'Oven', 'Over-the-Range', 'Built-In', 'Black', 'Wall', 'GE', 'Electric', 'White', 'Convection', 'Mid-Size', 'Single', 'Toaster', 'Whirlpool', '30\"', '2.0', 'Frigidaire']}\n",
      "{ cluster: 3, top_words: ['Dolby', 'DVD', 'Widescreen', 'AC3', 'Subtitle', 'Fullscreen', 'Dts', 'Blu-ray', 'Disc', 'Dubbed', 'Sub', 'Special', 'Dub', 'Dol)', '(Ws', 'Discs]', 'WWE:', 'Ac3', 'Vol.', 'Series']}\n",
      "{ cluster: 4, top_words: ['VINYL', '[LP]', '[PA]', 'Vinyl', 'CD', '12-Inch', 'Single', 'Disc]', '[12inch', '(Ogv)', '[Single]', 'Vol.', 'Edition)', '[EP]', 'Various', '(Limited', 'Is', 'White', 'No', 'My']}\n",
      "{ cluster: 5, top_words: ['CD', 'You', 'Me', 'All', 'VINYL', 'Love', 'My', 'Is', 'Up', 'Your', 'We', 'It', 'on', 'This', 'Be', '[ECD]', 'Heart', 'Back', 'Like', 'Best']}\n",
      "{ cluster: 6, top_words: ['Headphones', 'Earbud', 'Black', 'Over-the-Ear', 'Skullcandy', 'White', 'Sony', 'Stereo', 'Beats', 'Ear', 'Bud', 'JVC', 'Dr.', 'Dre', 'Blue', 'By', 'Sennheiser', 'Philips', 'Headset', 'Pink']}\n",
      "{ cluster: 7, top_words: ['Widescreen', 'DVD', 'Fullscreen', 'Blu-ray', 'Disc', 'Dubbed', 'AC3', 'Portable', 'Player', 'Philips', 'Dual', 'One', 'Dolby', '7\"', 'Screens', 'You', 'No', 'Dts', 'Love', 'Down']}\n",
      "{ cluster: 8, top_words: ['Card', 'Prepaid', 'Airtime', 'Wireless', 'Gift', '$50', 'Top-Up', 'Mobile', 'Game', 'Microsoft', 'Xbox', 'Cricket', '$25', '$10', '$30', 'Virgin', '$20', 'Download', 'Apple&#xAE;', 'Nintendo']}\n",
      "{ cluster: 9, top_words: ['DVD', 'Discs]', 'Widescreen', 'Blu-ray', 'Disc', '[2', 'Dead', 'Fullscreen', 'Subtitle', 'Halloween', 'Collection', 'Disc)', 'Night', 'Movie', 'Special', '[3', '(2', 'Box', 'Complete', 'Nightmare']}\n",
      "{ cluster: 10, top_words: ['Cable', 'Monster', 'AudioQuest', 'HDMI', 'Black', 'Audio', 'Speaker', 'Technology', 'Hosa', 'RCA', 'A/V', 'White', \"6'\", 'Belkin', 'USB', 'Video', \"10'\", \"3.3'\", \"6.6'\", 'Extension']}\n",
      "{ cluster: 11, top_words: ['Battery', 'Laptops', 'Lenmar', 'Lithium-Ion', 'Select', 'Series', 'HP', 'Dell', 'Toshiba', 'Sony', 'VAIO', 'Compaq', 'Acer', 'Netbooks', 'Apple&#xAE;', '6-Cell', 'Lenovo', 'Lithium-Polymer', 'Inspiron', 'Biz']}\n",
      "{ cluster: 12, top_words: ['Subtitle', 'DVD', 'Widescreen', 'Dubbed', 'Fullscreen', 'Blu-ray', 'Disc', 'Special', 'Dolby', 'B&W', 'Dts', 'Disc)', \"Collector's\", 'Movie', 'Discs]', 'Box', 'Vol.', 'UMD', 'Dead', 'Story']}\n",
      "{ cluster: 13, top_words: ['Headphones', 'Over-the-Ear', 'Earbud', 'Sennheiser', 'DJ', 'AKG', 'Skullcandy', 'iHip', 'Wireless', 'Sony', 'Stereo', 'Audio', 'Studio', 'Tribeca', 'Microphone', 'Adidas', 'Ear', 'Monster', 'University', 'Shure']}\n",
      "{ cluster: 14, top_words: ['Memory', 'Card', 'Class', 'Secure', 'Digital', 'High', 'Capacity', '(SDHC)', '8GB', 'SanDisk', '10', '16GB', 'microSDHC', '4GB', 'PNY', 'Transcend', 'CompactFlash', '32GB', 'Kingston', 'Extreme']}\n",
      "{ cluster: 15, top_words: ['Case', 'Mobile', 'Phones', 'Series', 'Black', 'OtterBox', 'HTC', 'Commuter', 'BlackBerry', 'Samsung', 'Platinum', 'Apple&#xAE;', 'iPhone&#xAE;', 'Defender', 'Motorola', 'EVO', 'DROID', 'Xentris', '4G', 'Superior']}\n",
      "{ cluster: 16, top_words: ['DVD', 'Disc', 'Spindle', 'CD', 'Player', 'Verbatim', 'Memorex', 'Drive', 'Case', 'DVD&#xB1;RW/CD-RW', '16x', 'Refurbished', 'CD/DVD', 'Black', 'Double-Layer', 'Logic', 'Sony', 'DVD+R', 'External', '50-Pack']}\n",
      "{ cluster: 17, top_words: ['CD', '[Digipak]', '[PA]', '[CD', 'DVD]', '[ECD]', '20th', 'Century', 'Masters', 'Live', '[Deluxe', 'Best', '[Bonus', 'on', 'You', 'Various', 'The...', 'Is', 'Edition]', 'Love']}\n",
      "{ cluster: 18, top_words: ['Apple&#xAE;', 'iPod&#xAE;', 'iPhone&#xAE;', 'Dock', 'Black', 'Speaker', 'System', 'Clock', 'Radio', 'Portable', 'iHome', 'Select', 'iPhone', 'Most', 'iPad&#xAE;', 'Alarm', 'iPad&#xAE;,', 'Samsung', 'Sony', 'Cable']}\n",
      "{ cluster: 19, top_words: ['PlayStation', 'PSP', 'Xbox', 'Edition', 'Guide)', '360', '(Game', 'Hits', 'Greatest', 'Game', '3,', 'Nintendo', 'Bundle', 'Call', '360,', 'Pack', 'Sony', 'War', 'II', 'Duty:']}\n",
      "{ cluster: 20, top_words: ['Refrigerator', 'Ft.', 'Cu.', 'Stainless-Steel', 'Water', 'Ice', 'Thru-the-Door', 'French', 'Door', 'Side-by-Side', 'GE', 'Frigidaire', 'Whirlpool', 'Boelter', 'Monochromatic', 'Fridge', 'Compact', 'Portable', 'Party', 'KitchenAid']}\n",
      "{ cluster: 21, top_words: ['Cu.', 'Ft.', 'White', 'Dryer', 'Washer', 'Capacity', 'Electric', 'Gas', 'Whirlpool', 'Steam', 'LG', 'GE', '9-Cycle', 'Samsung', 'High-Efficiency', 'Maytag', '7.4', '7.3', 'Ultra', '13-Cycle']}\n",
      "{ cluster: 22, top_words: ['DVD', 'Discs]', 'Fullscreen', 'Widescreen', 'Dubbed', '[2', 'Christmas', 'Subtitle', 'Blu-ray', 'Disc', 'Vol.', '[3', 'Collection', 'Complete', 'Dolby', 'Disc)', 'Little', 'Box', 'Series', 'Movie']}\n",
      "{ cluster: 23, top_words: ['Camera', 'Digital', 'Black', '14.0-Megapixel', 'Silver', 'Nikon', 'Canon', 'Olympus', '12.1-Megapixel', '14.1-Megapixel', 'Coolpix', 'Red', 'PowerShot', 'Sony', 'Refurbished', 'Blue', 'Cyber-shot', 'Panasonic', 'FinePix', 'Lens']}\n",
      "{ cluster: 24, top_words: ['Keyboard', 'Wireless', 'Keys', 'Portable', 'Full-Size', 'Casio', 'Black', 'Keyscaper', 'Gaming', '61', 'Touch-Sensitive', 'Adesso', 'Logitech', '88', 'Yamaha', 'Apple&#xAE;', 'Razer', 'Mini', 'Stand', 'M-Audio']}\n",
      "{ cluster: 25, top_words: ['Processor', 'Display', 'Laptop', 'Intel&#xAE;', 'Memory', 'Core&#x2122;', 'Drive', 'Hard', '4GB', '15.6\"', 'Black', 'AMD', 'HP', 'i5', 'i3', '500GB', 'Pavilion', '17.3\"', 'i7', 'Toshiba']}\n",
      "{ cluster: 26, top_words: ['Vehicles', 'Select', 'Metra', 'Kit', 'Installation', 'Scosche', 'Black', 'Harness', 'Wiring', 'Adapter', 'Later', 'Radio', 'or', 'GM', 'Ford', 'Most', 'Interface', 'Toyota', 'Honda', 'Speaker']}\n",
      "{ cluster: 27, top_words: ['Card', 'PCI', 'Graphics', 'Express', '1GB', 'GeForce', 'GDDR5', '2.0', 'Motherboard', 'ATX', '(Socket', 'GTX', 'Radeon', 'HD', 'NVIDIA', 'Intel&#xAE;', 'PNY', 'DDR3', '1155)', 'GT']}\n",
      "{ cluster: 28, top_words: ['DVD', 'Blu-ray', 'Disc', 'Discs]', 'Disc)', '[2', '(2', 'Widescreen', 'Collection', 'Harry', 'Complete', 'Potter', '[3', 'Pirates', '3D', 'Discs', 'Trilogy', 'Box', '(3', \"Collector's\"]}\n",
      "{ cluster: 29, top_words: ['Apple&#xAE;', 'Case', 'iPod&#xAE;', 'touch', 'Black', 'iPhone&#xAE;', 'iPad&#xAE;', '4th-Generation', 'Tribeca', 'Hard', 'Shell', 'Griffin', 'Technology', 'Belkin', 'iPad&#x2122;', 'Pink', 'Incase', 'White', 'Blue', 'Riot']}\n",
      "{ cluster: 30, top_words: ['CD', 'Various', 'Best', 'Love', 'Live', 'My', 'Life', '[PA]', 'Hits', 'Soul', 'New', '[Slipcase]', '[ECD]', '[EP]', 'World', 'Me', 'Night', 'Tribute', 'at', 'Very']}\n",
      "{ cluster: 31, top_words: ['Apple&#xAE;', 'Player', 'Deck', 'MP3', 'In-Dash', '50W', 'Radio-Ready', 'CD', 'iPod&#xAE;-/Satellite', 'Black', 'MOSFET', 'Sony', 'DVD', 'Radio-/HD', '4GB*', 'iPod&#xAE;-Ready', 'iPod', '8GB*', 'Radio', '52W']}\n",
      "{ cluster: 32, top_words: ['CD', 'Greatest', 'Hits', 'Best', 'Various', 'Vol.', 'Collection', 'Songs', '[PA]', 'Very', '[Box]', 'Essential', '[CD', 'DVD]', '20th', 'Century', 'Live', 'Music', 'Singles', 'Ultimate']}\n",
      "{ cluster: 33, top_words: ['Drive', 'USB', 'Hard', 'External', '2.0', 'Black', 'Flash', 'Western', 'Digital', 'Internal', 'Portable', 'Serial', 'ATA', 'Seagate', '1TB', 'My', '500GB', 'State', 'Solid', '2TB']}\n",
      "{ cluster: 34, top_words: ['Cartridge', 'HP', 'Printer', 'Ink', 'Black', 'Brother', 'Wireless', 'Network-Ready', 'Epson', 'Photo', 'Canon', 'All-In-One', 'Paper', 'Inkjet', 'Laser', 'Lexmark', 'Print', 'Color', 'Kodak', 'Pack']}\n",
      "{ cluster: 35, top_words: ['DVD', 'Discs]', 'Widescreen', 'Collection', '[2', 'Vol.', 'Subtitle', 'Best', 'Fullscreen', 'Disc)', 'Disc', 'Blu-ray', '[3', 'Complete', 'Comedy', 'Film', '[4', 'Movie', '(2', 'AC3']}\n",
      "{ cluster: 36, top_words: ['CD', 'Best', '[ECD]', 'Various', 'Is', 'Very', '[Edited]', 'You', '(Edited)', 'Time', 'No', 'One', 'Back', 'This', 'My', 'Gold', '[Clean]', 'What', 'We', 'Live']}\n",
      "{ cluster: 37, top_words: ['Mobile', 'Phone', 'Black', '(Unlocked)', 'Samsung', 'No-Contract', '(AT&T)', '(Sprint)', '(Verizon', 'Wireless)', 'LG', 'BlackBerry', 'HTC', '4G', 'Memory', '(T-Mobile)', 'White', 'Apple&#xAE;', 'Motorola', 'Refurbished']}\n",
      "{ cluster: 38, top_words: ['Subwoofer', 'Amplifier', '10\"', 'Kicker', 'Enclosure', '4-Ohm', '12\"', 'Class', 'Series', 'Single-Voice-Coil', 'Dual-Voice-Coil', 'Atrend', 'Bridgeable', 'Dual', 'Audio', 'AB', 'Sealed', 'Powered', 'MOSFET', '2-Channel']}\n",
      "{ cluster: 39, top_words: ['Black', 'Tablet', 'Apple&#xAE;', 'Sony', 'Memory', 'Livescribe', 'iPad&#xAE;', 'Most', 'Digital', 'VAIO', 'White', 'Pen', '16GB', 'Wi-Fi', 'Stand', 'Devices', 'Samsung', '32GB', 'Tablets', '3G']}\n",
      "{ cluster: 40, top_words: ['Monitor', 'Widescreen', 'Black', 'LCD', 'Projector', 'LED', 'Flat-Panel', 'Optoma', 'DLP', 'HD', 'Samsung', 'Screen', '23\"', 'Asus', 'Adapter', '3D', 'Power', 'Acoustik', '27\"', 'DVD']}\n",
      "{ cluster: 41, top_words: ['TVs', 'Flat-Panel', 'Up', 'Stand', 'TV', 'Mount', 'Most', 'Wall', 'Black', 'BDI', 'or', '60\"', 'Sanus', '32\"', 'Furniture', 'Tube', 'Extends', 'Whalen', '42\"', 'Chief']}\n",
      "{ cluster: 42, top_words: ['Stainless-Steel', 'Black', 'Maker', 'Coffeemaker', 'Cuisinart', 'Cooker', 'Silver', 'Coffee', 'Keurig', 'Espresso', 'Wine', 'White', 'Rice', '10-Cup', '12-Cup', 'Black/Stainless-Steel', 'Hamilton', 'Beach', 'Zojirushi', 'Kalorik']}\n",
      "{ cluster: 43, top_words: ['Season', 'DVD', 'Discs]', 'Widescreen', 'Subtitle', 'Dolby', 'AC3', 'Complete', 'Dubbed', '[4', '[6', '[3', 'Fullscreen', 'Disc', 'Blu-ray', 'First', '[5', '[2', 'Second', 'One']}\n",
      "{ cluster: 44, top_words: ['Watch', 'Monitor', 'Digital', 'Black', 'Heart', 'Rate', 'Clock', \"Men's\", 'Casio', 'Sports', 'Sport', 'Atomic', 'Timex', 'Blood', 'Pressure', 'Pedometer', 'Apple&#xAE;', 'G-Shock', 'iPod&#xAE;', 'Alarm']}\n",
      "{ cluster: 45, top_words: ['CD', 'Original', 'Soundtrack', '[Original', 'Soundtrack]', 'Music', '[PA]', 'Motion', 'Picture', 'Vol.', '(Score)', 'from', 'From', '[ECD]', 'Remastered', 'Cast', 'Glee:', 'Twilight', 'Score]', 'Star']}\n",
      "{ cluster: 46, top_words: ['HDTV', 'Class', '1080p', '60Hz', 'LED', 'LCD', '720p', '3D', '120Hz', 'Samsung', 'Smart', 'Plasma', '600Hz', 'Refurbished', '32\"', '46\"', 'LG', 'Toshiba', 'Panasonic', 'Sony']}\n",
      "{ cluster: 47, top_words: ['DVD', 'Yoga', 'Workout', 'Dance', 'Fullscreen', 'Pilates', 'Body', 'Training', 'Beginners', 'Power', 'Fat', 'Ultimate', 'Cardio', 'Fitness', 'Sculpt', 'Weight', 'Widescreen', 'Walk', 'Jillian', 'Billy']}\n",
      "{ cluster: 48, top_words: ['Guitar', 'Electric', '6-String', 'Black', 'Full-Size', 'Guitars', 'Acoustic', 'Natural', 'Fender&#xAE;', 'Pedal', 'Strings', 'Bass', 'Schecter', 'Series', 'Acoustic/Electric', 'Drum', 'Cordoba', 'Wood', 'Cymbal', 'Nylon']}\n",
      "{ cluster: 49, top_words: ['Vacuum', 'Bagless', 'HEPA', 'Upright', 'Cleaner', 'BISSELL', 'Hoover', 'Filter', 'White', 'Air', 'Steam', 'Dyson', 'Black', 'Canister', 'Replacement', 'Pet', 'Purifier', 'Humidifier', 'Blue', 'Gal.']}\n",
      "{ cluster: 50, top_words: ['CD', 'Various', 'Music', 'Leonard', 'Hal', 'Karaoke:', 'Sheet', 'Vol.', 'DVD', 'Piano', 'Best', 'Party', 'Songs', 'Tribute', 'Tyme', 'Karaoke', 'Guitar', 'Lullaby', 'Renditions', 'String']}\n",
      "{ cluster: 51, top_words: ['Laptop', 'Black', 'Case', 'Sleeve', 'M-Edge', 'Accessories', 'Jacket', 'Apple&#xAE;', 'Kindle', 'Backpack', 'MacBook&#xAE;', 'Keyboard', 'Targus', 'Laptops', 'Amazon', 'Digital', 'Readers', 'Kobo', 'Red', 'Incase']}\n",
      "{ cluster: 52, top_words: ['Dishwasher', '24\"', 'Built-In', 'Tall', 'Tub', 'Stainless-Steel', 'Black', 'White', 'GE', 'Bosch', 'Whirlpool', 'KitchenAid', 'Series', 'Frigidaire', 'Evolution', 'Maytag', '18\"', 'Ascenta', 'Built-in', 'Integra']}\n",
      "{ cluster: 53, top_words: ['DVD', 'Blu-ray', 'Discs]', 'Disc', 'Widescreen', 'Batman:', 'Batman', 'Complete', '[2', 'Season', 'Vol.', 'Series', 'Subtitle', 'Animated', 'Dubbed', 'Green', 'Collection', 'Dolby', 'One', '[4']}\n",
      "{ cluster: 54, top_words: ['Memory', 'Desktop', 'DDR2', 'DIMM', '2GB', 'DDR3', 'Kit', 'Laptop', 'SoDIMM', '2-Pack', '4GB', '1GB', 'Technology', 'Corsair', 'PC2-6400', 'PC2-5300', 'ValueRAM', 'Crucial', 'Kingston', 'Master']}\n",
      "{ cluster: 55, top_words: ['Blu-ray', 'Disc', '3D', 'Player', 'Wi-Fi', 'Built-In', 'Ready', 'Samsung', 'Refurbished', 'HD', 'Pan', 'Scan', 'Media', 'Sony', 'Panasonic', 'Toshiba', 'Portable', 'Internet', 'Moods:', 'Blu-Ray']}\n",
      "{ cluster: 56, top_words: ['DVD', 'Live', 'Disc', 'Blu-ray', 'at', 'Dolby', 'CD', 'Tour', 'Dts', 'Concert', 'From', 'At', 'AC3', 'Rock', '[CD', 'DVD]', 'Hall', 'Widescreen', 'London', 'New']}\n",
      "{ cluster: 57, top_words: ['(Pair)', 'Speakers', 'Speaker', '2-Way', 'Cones', 'Car', '(Each)', '6-1/2\"', 'Polypropylene', 'Black', 'System', '6\"', '5-1/4\"', '3-Way', 'Coaxial', 'Woofer', 'White', '9\"', 'Bookshelf', 'Audio']}\n",
      "{ cluster: 58, top_words: ['DVD', 'Widescreen', 'Dubbed', 'Fullscreen', 'Special', \"Collector's\", 'Discs]', 'AC3', '[2', 'American', 'Last', 'Dead', 'Man', 'Subtitle', 'Movie', 'Dolby', 'Collection', 'Anniversary', 'Harry', 'Day']}\n",
      "{ cluster: 59, top_words: ['Memory', 'Drive', 'Hard', 'Processor', '4GB', 'Desktop', '1TB', 'HP', 'Intel&#xAE;', 'AMD', 'Laptop', 'All-In-One', 'Computer', 'Display', 'II', 'Core&#x2122;', '500GB', '6GB', 'Pavilion', '8GB']}\n",
      "{ cluster: 60, top_words: ['30\"', 'Range', 'Stainless-Steel', 'Self-Cleaning', 'Freestanding', 'Electric', 'Gas', 'Convection', 'GE', 'Black', 'Cooktop', 'Frigidaire', 'Whirlpool', 'Built-In', 'White', 'Hood', 'Slide-In', '36\"', 'Oven', 'Double']}\n",
      "{ cluster: 61, top_words: ['CD', 'de', 'DVD', 'La', 'El', 'Various', 'Exitos', 'De', 'Los', 'Grandes', 'Vol.', '[CD', 'DVD]', 'En', 'el', 'Amor', 'Vivo', 'Latin', '[ECD]', 'la']}\n",
      "{ cluster: 62, top_words: ['Widescreen', 'DVD', 'Dolby', 'Subtitle', 'AC3', 'Dubbed', 'Dts', 'Blu-ray', 'Disc', 'Fullscreen', 'UMD', 'Dead', 'Saw', 'Game', 'Dark', 'One', 'Set', 'Friday', 'Blood', 'Man']}\n",
      "{ cluster: 63, top_words: ['AC3', 'Widescreen', 'Subtitle', 'Blu-ray', 'Disc', 'Dubbed', 'Dolby', 'Dts', 'DVD', 'Disc)', '(2', 'Discs]', 'Man', 'Fullscreen', '(W/Dvd)', 'Last', 'Trilogy', 'Day', \"Director's\", 'Night']}\n",
      "{ cluster: 64, top_words: ['CD', '[PA]', '[ECD]', '[Digipak]', 'Vol.', 'II', 'Various', 'Pt.', '[DualDisc]', '[EP]', 'DualDisc', 'Best', 'Triple', 'Feature', 'CD]', 'Time', 'Franklin', '[Hyper', '[Limited]', '[Edited]']}\n",
      "{ cluster: 65, top_words: ['System', 'Phone', 'DECT', '6.0', 'Cordless', 'Expandable', 'Digital', 'Answering', 'Panasonic', 'AT&T', 'Corded', 'Handset', 'Expansion', 'Systems', 'VTech', 'Caller', 'ID', 'Speakerphone', 'Uniden', 'Select']}\n",
      "{ cluster: 66, top_words: ['Home', 'Theater', 'Receiver', 'System', 'A/V', '3D', '5.1-Ch.', 'Pass', 'Through', '7.1-Ch.', 'Blu-ray', 'Samsung', '1000W', 'Sony', 'Speaker', 'Refurbished', 'Yamaha', 'DVD', 'Denon', 'Pioneer']}\n",
      "{ cluster: 67, top_words: ['Battery', 'Charger', 'Energizer', 'DigiPower', 'Batteries', 'Apple&#xAE;', 'System', 'Rechargeable', 'Lithium-Ion', 'USB', 'Travel', 'Charging', 'Pack', 'Back-Up', 'Duracell', 'iPhone&#xAE;', 'Black', 'NiMH', 'Power', 'AA']}\n",
      "{ cluster: 68, top_words: ['Ft.', 'Cu.', 'Refrigerator', 'White', 'Frigidaire', 'Black', 'Water', 'Thru-the-Door', 'Ice', 'Side-by-Side', 'French', 'Door', 'BTU', 'Whirlpool', 'Freezer', 'GE', 'Air', 'Conditioner', 'LG', 'Window']}\n",
      "{ cluster: 69, top_words: ['Black', 'Light', 'White', 'Lighting', 'Ceramic', 'LED', 'Heater', 'Gray', 'Conair', 'Silver', 'Chauvet', 'Lasko', 'Air', 'Iron', 'American', 'Red', 'DJ', 'Philips', 'Norelco', 'Hair']}\n",
      "{ cluster: 70, top_words: ['Remote', 'Controller', 'PlayStation', 'Wireless', 'Xbox', '360', 'Universal', 'Nintendo', 'Wii', 'Logitech', 'Black', 'Sony', 'Pro', 'Mad', 'Catz', 'Control', 'Microsoft', 'PDP', 'Harmony', 'Edition']}\n",
      "{ cluster: 71, top_words: ['Wireless-N', 'Switch', 'Router', 'Wireless', 'Ethernet', 'NETGEAR', 'Adapter', '4-Port', 'USB', 'D-Link', 'Gigabit', 'Belkin', 'Linksys', 'Network', '2.0', 'Modem', 'Dual-Band', 'Cisco', '10/100', 'Refurbished']}\n",
      "{ cluster: 72, top_words: ['Windows', 'Mac/Windows', 'Edition', 'Sims', 'War', 'Game', \"Collector's\", 'World', 'Pack', 'II', 'II:', 'Limited', 'Call', 'Collection', 'Warcraft:', 'Elder', 'Scrolls', '3:', 'Expansion', '(Game']}\n",
      "{ cluster: 73, top_words: ['DVD', 'Discs]', 'Box', 'Disc)', 'Complete', 'Subtitle', 'WWE:', 'Collection', 'Vol.', 'Fullscreen', 'Disc', 'Blu-ray', '[2', 'Series', '(2', 'Season', '[3', 'Ultimate', 'Dragon', 'Uncut']}\n",
      "{ cluster: 74, top_words: ['Battery', 'Lithium-Ion', 'Select', 'Lenmar', 'Digital', 'Cameras', 'Canon', 'Camcorders', 'Rechargeable', 'Nikon', 'Sony', 'Panasonic', 'DigiPower', 'Kodak', 'Samsung', 'Pack', 'Olympus', 'JVC', 'InfoLithium', 'High-Capacity']}\n",
      "{ cluster: 75, top_words: ['Camera', 'System', 'Kit', '3D', 'Tripod', 'Eyewear', 'Digital', 'Gunnar', 'Sunpak', 'Series', 'Black', 'Manfrotto', 'Glasses', 'Light', 'Surveillance', 'Frame', 'Celestron', 'Calculator', 'Security', 'Lorex']}\n",
      "{ cluster: 76, top_words: ['CD', '[CD', 'DVD]', '[PA]', '[Digipak]', 'Icon', '(CD+DVD)', '[Import]', 'Live', '[ECD]', 'It', '[Box]', 'On', 'Various', 'Is', 'Collection', 'Home', 'on', '[CD/DVD]', '[Slipcase]']}\n",
      "{ cluster: 77, top_words: ['Microphone', 'USB', 'Audio', 'Mixer', 'Behringer', 'Black', 'Digital', 'DJ', 'System', 'Recorder', 'Controller', 'Studio', 'Software', 'Interface', 'Sound', 'M-Audio', 'Recording', 'Voice', 'Pro', 'Condenser']}\n",
      "{ cluster: 78, top_words: ['GPS', 'Garmin', 'n&#xFC;vi', 'TomTom', 'DVD', 'Mount', 'Select', 'Black', 'Refurbished', 'Magellan', 'Most', 'Lowrance', 'Chartplotter', 'Arkon', 'Golf', 'Navigation', 'Receivers', 'XL', 'Portable', 'VIA']}\n",
      "{ cluster: 79, top_words: ['AC3', 'Subtitle', 'DVD', 'Widescreen', 'Dubbed', 'Fullscreen', 'Dolby', 'Blu-ray', 'Disc', \"Director's\", 'Man', 'Anniversary', 'Up', 'New', 'Twilight', 'Me', 'II', 'Black', 'Special', 'You']}\n",
      "{ cluster: 80, top_words: ['ZAGG', 'InvisibleSHIELD', 'Mobile', 'Clear', 'Phones', 'Protector', 'Screen', 'Apple&#xAE;', 'Samsung', 'HTC', 'Tablets', 'iPad&#xAE;', 'Galaxy', 'Motorola', 'Belkin', 'LG', 'Wrapsol', 'iPhone&#xAE;', 'Smudge-Proof', 'BlackBerry']}\n",
      "{ cluster: 81, top_words: ['Razor', 'Scooter', 'Electric', 'Sports', 'Huffy', 'Bicycle', 'Bravo', 'Skateboard', 'Triumph', 'USA', 'Pro', 'Toss', 'Bike', 'Game', '31\"', 'Currie', 'Technologies', 'Kit', \"Boy's\", 'Folding']}\n",
      "{ cluster: 82, top_words: ['Widescreen', 'Blu-ray', 'Disc', 'Dubbed', 'Subtitle', 'Dolby', 'Dts', 'AC3', 'Special', 'Disc)', 'DVD', '(2', 'Fullscreen', 'Discs]', '[2', '(W/Dvd)', \"Director's\", \"Collector's\", '3D', 'Dead']}\n",
      "{ cluster: 83, top_words: ['Lens', 'Cameras', 'Nikon', 'Canon', 'Digital', 'SLR', 'Zoom', 'Filter', 'Tiffen', 'Sony', 'Telephoto', 'Select', 'Nikkor', 'USM', 'AF-S', 'DX', 'EF', 'Alpha', 'ED', 'f/2.8']}\n",
      "{ cluster: 84, top_words: ['Radio', 'Antenna', '2-Way', '(Pair)', 'Midland', 'Black', 'Digital', 'Wireless', 'Kit', 'Satellite', 'Clock', 'AM/FM', 'Select', '22-Channel', 'Marine', 'FRS/GMRS', 'Radios', 'Direct', 'Weather', 'Receiver']}\n",
      "{ cluster: 85, top_words: ['Mouse', 'Wireless', 'Optical', 'Black', 'Gaming', 'Logitech', 'Razer', 'Microsoft', 'Pad', 'Mobile', 'Laser', 'Edition', 'Red', 'Blue', '3500', 'Silver', 'Keyboard', 'SteelSeries', 'Wild', 'Sales']}\n",
      "{ cluster: 86, top_words: ['DVD', 'Discs]', '[2', 'Subtitle', 'Widescreen', 'Blu-ray', 'Disc', 'Fullscreen', 'My', 'Sub', 'Special', 'You', '(Ws', 'Is', 'Dol)', 'Man', 'Girl', 'Life', 'Love', 'Dub']}\n",
      "{ cluster: 87, top_words: ['Black', 'Chair', 'Stand', 'Storage', 'Desk', 'Leather', 'Home', 'TheaterSeatStore', 'Theater', 'Seating', 'Multimedia', 'Cabinet', 'Bush', 'Innovations', 'Atlantic', 'Speaker', 'Baseline', 'Tower', 'Ashlin', 'Computer']}\n",
      "{ cluster: 88, top_words: ['Case', 'Black', 'Camera', 'Bag', 'Lowepro', 'Logic', 'Backpack', 'Most', 'Digital', 'Cases', 'Gator', 'Carrying', 'Cameras', 'Guitars', 'Sony', 'AW', 'Portable', 'Manfrotto', 'Compact', 'Sling']}\n",
      "{ cluster: 89, top_words: ['CD', '[PA]', 'Best', 'Is', 'Greatest', 'Vol.', '[CD', 'It', 'Hits', 'Black', 'Life', 'No', 'Me', 'DVD]', 'All', 'Various', '[Digipak]', 'Live', 'Love', 'My']}\n",
      "{ cluster: 90, top_words: ['KitchenAid', 'Mixer', 'Stand', 'Black', 'Blender', 'White', 'Food', 'Cuisinart', 'Series', 'Processor', 'Stainless-Steel', 'Artisan', 'Maker', 'Tilt-Head', 'Mixers', 'Pro', 'Hand', 'Built-In', 'Professional', 'Red']}\n",
      "{ cluster: 91, top_words: ['DVD', 'Season', 'Discs]', 'Complete', 'Fullscreen', '[3', '[4', 'First', 'Widescreen', '[6', 'Second', '[2', '[5', 'Third', 'Subtitle', 'Series', 'Seasons', 'Fourth', 'Fifth', 'One']}\n",
      "{ cluster: 92, top_words: ['GoFit', 'Pro-Form', 'Treadmill', 'Elliptical', 'Reebok', 'Exercise', 'Ball', 'Fitness', 'Stamina', 'Scale', 'Body', 'Dumbbell', 'Bike', 'Trainer', 'Weight', 'Workout', 'Kettlebell', 'Jillian', 'Michaels', 'Ultimate']}\n",
      "{ cluster: 93, top_words: ['Camcorder', 'HD', 'Flash', 'Memory', 'Black', 'Sony', 'LCD', 'Digital', 'Webcam', 'JVC', 'Video', 'Refurbished', '3\"', 'Red', 'Monitor', 'Blue', 'Recorder', 'Silver', 'High-Definition', 'Touch']}\n",
      "{ cluster: 94, top_words: ['Nintendo', 'Wii', 'DS', '3DS', 'Game', 'DSi', 'Mario', 'Super', 'Disney', 'LEGO', 'LeapFrog', 'Pack', 'dreamGEAR', 'Kit', 'Party', '3D', 'Bundle', 'Edition', 'Starter', 'Sports']}\n",
      "{ cluster: 95, top_words: ['Battery', 'Lenmar', 'Lithium-Ion', 'Phones', 'Mobile', 'Select', 'Most', 'Cordless', 'LG', 'Lithium-Polymer', 'Samsung', 'Motorola', 'HTC', 'Hydride', 'Nickel-Metal', 'MP3', 'Players', 'Panasonic', 'Energizer', 'PDAs']}\n",
      "{ cluster: 96, top_words: ['Power', 'Protector', 'Adapter', 'Surge', 'AC', 'Monster', 'PowerCenter', 'Inverter', 'Black', '8-Outlet', 'Kit', 'Smart', 'Belkin', 'DC', 'Nintendo', 'Wagan', 'CyberPower', 'USB', 'Cord', 'Supply']}\n",
      "{ cluster: 97, top_words: ['Headset', 'Bluetooth', 'Wireless', 'Plantronics', 'Black', 'Gaming', 'Microphone', 'System', 'Stereo', 'Xbox', 'Speakerphone', '360', 'Turtle', 'Beach', 'Ear', 'Force', 'Logitech', 'USB', 'Sennheiser', 'Jawbone']}\n",
      "{ cluster: 98, top_words: ['Cooler', 'Power', 'Master', 'Supply', 'CPU', 'Fan', 'Antec', 'Cooling', 'ATX', 'Case', 'Mid-Tower', 'Corsair', 'Series', 'Chassis', 'Elite', 'Laptop', '120mm', 'Thermaltake', 'ATX/EPS', 'Lasko']}\n"
     ]
    }
   ],
   "source": [
    "#sample top keywords in each cluster (same as figure above, but more data)\n",
    "for cluster_key in range(0,99):\n",
    "    print(f\"{{ cluster: {cluster_key}, top_words: {top_words(clusters[cluster_key], 20)}}}\")"
   ]
  },
  {
   "cell_type": "code",
   "execution_count": 37,
   "id": "393fc08f",
   "metadata": {},
   "outputs": [],
   "source": [
    "import pandas as pd\n",
    "\n",
    "### Create Pandas dataframes for product_clusters\n",
    "product_ids_labels = dict(zip(product_ids, labels))\n",
    "pddf_product_ids_labels = pd.DataFrame.from_dict(product_ids_labels, orient=\"index\", columns=[\"label\"])\n",
    "pddf_product_ids_labels[\"pid\"] = pddf_product_ids_labels.index"
   ]
  },
  {
   "cell_type": "markdown",
   "id": "d9b242ea",
   "metadata": {},
   "source": [
    "## Listing 9.15 Comparing approaches for mapping queries to product clusters"
   ]
  },
  {
   "cell_type": "code",
   "execution_count": 38,
   "id": "dee37609",
   "metadata": {},
   "outputs": [],
   "source": [
    "import sentence_transformers, heapq\n",
    "\n",
    "## get the top n clusters based on similairty with centers \n",
    "def get_top_labels_centers(query, centers, n=2):\n",
    "    q_embedding = transformer.encode([query], convert_to_tensor=False)\n",
    "    similarities = sentence_transformers.util.cos_sim(q_embedding, centers)\n",
    "    sim = similarities.tolist()[0]\n",
    "    return [sim.index(i) for i in heapq.nlargest(n, sim)]\n",
    "\n",
    "### Get the cluster for the query based on prediction of the label\n",
    "def get_query_cluster(query):\n",
    "    q_embedding = transformer.encode([query], convert_to_tensor=False)\n",
    "    return algo.predict(q_embedding)"
   ]
  },
  {
   "cell_type": "code",
   "execution_count": 39,
   "id": "cbfcba9c",
   "metadata": {},
   "outputs": [
    {
     "name": "stdout",
     "output_type": "stream",
     "text": [
      "KMeans Predicted Cluster:\n",
      "    2 (Microwave_Cu._Ft._Stainless-Steel_Oven)\n",
      "\n",
      "Cosine Predicted Cluster:\n",
      "    2\n",
      "      Microwave_Cu._Ft._Stainless-Steel_Oven)\n",
      "\n",
      "KNN Cosine Predicted Clusters: [2, 42, 90, 60, 20]\n",
      "    2 (Microwave_Cu._Ft._Stainless-Steel_Oven)\n",
      "    42 (Stainless-Steel_Black_Maker_Coffeemaker_Cuisinart)\n",
      "    90 (KitchenAid_Mixer_Stand_Black_Blender)\n",
      "    60 (30\"_Range_Stainless-Steel_Self-Cleaning_Freestanding)\n",
      "    20 (Refrigerator_Ft._Cu._Stainless-Steel_Water)\n"
     ]
    }
   ],
   "source": [
    "import random\n",
    "random.seed(1234)\n",
    "\n",
    "def get_cluster_description(cluser_num):\n",
    "    return \"_\".join(top_words(clusters[cluser_num], 5))\n",
    "\n",
    "query = \"microwave\"\n",
    "#option 1: Find nearest cluster (KMeans)\n",
    "kmeans_predict = get_query_cluster(query)[0]\n",
    "print(\"KMeans Predicted Cluster:\")\n",
    "print(f\"    {kmeans_predict} ({get_cluster_description(kmeans_predict)})\")\n",
    "\n",
    "#option 2: Find most similar cluster (Cosine similarity)\n",
    "closest_cosine_similarity = get_top_labels_centers(query, centers, 1)[0]\n",
    "print(f\"\"\"\\nCosine Predicted Cluster:\\n    {closest_cosine_similarity}\n",
    "      {get_cluster_description(closest_cosine_similarity)})\"\"\")\n",
    "\n",
    "#option 3: N-nearest clusters (Cosine similarity)\n",
    "knn_cosine_similarity = get_top_labels_centers(query, centers, 5)\n",
    "print(f\"\\nKNN Cosine Predicted Clusters: {knn_cosine_similarity}\")\n",
    "for n in knn_cosine_similarity:\n",
    "      print(f\"    {n} ({get_cluster_description(n)})\")"
   ]
  },
  {
   "cell_type": "code",
   "execution_count": 40,
   "id": "94ba0fc6",
   "metadata": {},
   "outputs": [
    {
     "name": "stderr",
     "output_type": "stream",
     "text": [
      "/usr/local/spark/python/pyspark/sql/pandas/conversion.py:474: FutureWarning: iteritems is deprecated and will be removed in a future version. Use .items instead.\n",
      "  for column, series in pdf.iteritems():\n",
      "/usr/local/spark/python/pyspark/sql/pandas/conversion.py:486: FutureWarning: iteritems is deprecated and will be removed in a future version. Use .items instead.\n",
      "  for column, series in pdf.iteritems():\n"
     ]
    }
   ],
   "source": [
    "sdf_id_labels = spark.createDataFrame(pddf_product_ids_labels).createOrReplaceTempView('products_clusters')"
   ]
  },
  {
   "cell_type": "code",
   "execution_count": 41,
   "id": "228a2235",
   "metadata": {},
   "outputs": [],
   "source": [
    "# Load signal data to create user-product vectors\n",
    "signals_collection = engine.get_collection(\"signals\")\n",
    "create_view_from_collection(signals_collection, \"signals\", spark)"
   ]
  },
  {
   "cell_type": "code",
   "execution_count": 42,
   "id": "05fcc078",
   "metadata": {},
   "outputs": [
    {
     "name": "stdout",
     "output_type": "stream",
     "text": [
      "Wiping \"user_product_cluster\" collection\n",
      "Creating \"user_product_cluster\" collection\n",
      "Status: Success\n"
     ]
    }
   ],
   "source": [
    "#Create User-product data set for personalization\n",
    "spark.sql(\"\"\"SELECT DISTINCT user, target AS product_id, name AS product_name\n",
    "FROM signals s JOIN products_samples p ON s.target = p.upc\n",
    "WHERE s.type = 'click'\"\"\").createOrReplaceTempView(\"user_product\")\n",
    "\n",
    "query = \"\"\"SELECT user, product_id, product_name, label FROM user_product a\n",
    "JOIN products_clusters b ON a.product_id = b.pid\"\"\"\n",
    "\n",
    "user_product_cluster_collection = engine.create_collection(\"user_product_cluster\")\n",
    "user_product_cluster_collection.write(from_sql(query, spark))"
   ]
  },
  {
   "cell_type": "code",
   "execution_count": 43,
   "id": "111b2773",
   "metadata": {},
   "outputs": [],
   "source": [
    "## get the top n clusters based on similarity with centers \n",
    "def top_clusters_for_embedding(embedding, n=2):\n",
    "    similarities = sentence_transformers.util.cos_sim(embedding, centers)\n",
    "    sim = similarities.tolist()[0]\n",
    "    return [sim.index(i) for i in heapq.nlargest(n, sim)]"
   ]
  },
  {
   "cell_type": "markdown",
   "id": "36245333",
   "metadata": {},
   "source": [
    "## Listing 9.16"
   ]
  },
  {
   "cell_type": "code",
   "execution_count": 44,
   "id": "e9b3d6c3",
   "metadata": {},
   "outputs": [],
   "source": [
    "# importiong the modules\n",
    "import pandas as pd, numpy as np\n",
    "np.set_printoptions(4)\n",
    "\n",
    "#Take user's product interests and return dataframe containing embedding and guardrail cluster\n",
    "def get_user_embeddings(products=[]):\n",
    "    values = []\n",
    "    for p in products:\n",
    "        values.append([product_ids_emb[p], top_clusters_for_embedding(product_ids_emb[p], 1)[0]])\n",
    "    column_names = [\"embedding\", \"cluster\"]\n",
    "    return pd.DataFrame(data=np.array(values), index=products, columns=column_names)\n",
    "\n",
    "def get_personalization_vector(query=None,\n",
    "                               user_items=[],\n",
    "                               query_weight=1,\n",
    "                               user_items_weights=[]):\n",
    "    #by default, weight is split 1:1 (50% each) between the query embedding and the user_items_weight.\n",
    "    #you can manually add weights for each user_item to influence how much each element counts.\n",
    "\n",
    "    query_embedding = transformer.encode(query, convert_to_tensor=False) if query else None\n",
    "    \n",
    "    if len(user_items) > 0 and len(user_items_weights) == 0:\n",
    "        user_items_weights = np.full(shape=len(user_items), fill_value=1 / len(user_items))\n",
    "            \n",
    "    embeddings = []\n",
    "    embedding_weights = []\n",
    "    for weight in user_items_weights:\n",
    "        embedding_weights.append(weight) \n",
    "    for embedding in user_items:\n",
    "        embeddings.append(embedding)\n",
    "    if query_embedding.any():\n",
    "        embedding_weights.append(query_weight)\n",
    "        embeddings.append(query_embedding)\n",
    "    \n",
    "    return np.average(embeddings, weights=np.array(embedding_weights),\n",
    "                      axis=0).astype(\"double\") if len(embeddings) else None"
   ]
  },
  {
   "cell_type": "markdown",
   "id": "a7f37699",
   "metadata": {},
   "source": [
    "## Listing 9.17"
   ]
  },
  {
   "cell_type": "code",
   "execution_count": 45,
   "id": "bfecf8a5",
   "metadata": {},
   "outputs": [
    {
     "name": "stdout",
     "output_type": "stream",
     "text": [
      "\n",
      "Products Interactions for Personalization:\n",
      "                                                        embedding cluster\n",
      "7610465823828  [0.06417941, 0.04178553, -0.0017139615, -0.020...      49\n",
      "36725569478    [0.0055417763, -0.024302201, -0.024139373, -0....      60\n",
      "\n",
      "Personalization Vector (No Cluster Guardrails):\n",
      "[0.016, -0.006, -0.02, -0.032, -0.016, 0.008, -0.0, 0.017, 0.011, 0.007 ...]\n",
      "\n",
      "Query Clusters ('microwave'):\n",
      "[2, 42, 90, 60, 20]\n",
      "\n",
      "Products Filtered to Query Clusters:\n",
      "                                                     embedding cluster\n",
      "36725569478  [0.0055417763, -0.024302201, -0.024139373, -0....      60\n",
      "\n",
      "Filtered Personalization Vector (With Cluster Guardrails):\n",
      "[0.002, -0.023, -0.026, -0.037, -0.025, 0.002, -0.009, 0.007, 0.033, -0 ...]\n"
     ]
    },
    {
     "name": "stderr",
     "output_type": "stream",
     "text": [
      "/tmp/ipykernel_1970/2426286632.py:11: VisibleDeprecationWarning: Creating an ndarray from ragged nested sequences (which is a list-or-tuple of lists-or-tuples-or ndarrays with different lengths or shapes) is deprecated. If you meant to do this, you must specify 'dtype=object' when creating the ndarray.\n",
      "  return pd.DataFrame(data=np.array(values), index=products, columns=column_names)\n"
     ]
    }
   ],
   "source": [
    "product_interests = [ \"7610465823828\",  #hello kitty water bottle\n",
    "                      \"36725569478\"]   #stainless steel electric range\n",
    "\n",
    "user_embeddings = get_user_embeddings(product_interests)\n",
    "print(f\"\\nProducts Interactions for Personalization:\\n {user_embeddings}\")\n",
    "\n",
    "query = \"microwave\"\n",
    "unfiltered_personalization_vector = get_personalization_vector(query=query,\n",
    "                        user_items=user_embeddings['embedding'].to_numpy())\n",
    "\n",
    "vector_string = (\", \".join([str(round(n, 3)) for n in unfiltered_personalization_vector]))[:70] + \" ...]\"\n",
    "print(\"\\nPersonalization Vector (No Cluster Guardrails):\\n[\" + vector_string)\n",
    "\n",
    "query_clusters = get_top_labels_centers(query, centers, n=5)\n",
    "print(\"\\nQuery Clusters ('microwave'):\\n\" + str(query_clusters))\n",
    "\n",
    "clustered = user_embeddings.cluster.isin(query_clusters)\n",
    "products_in_cluster = user_embeddings[clustered] #filter down to only items in the query clusters\n",
    "print(\"\\nProducts Filtered to Query Clusters:\\n\" + str(products_in_cluster))\n",
    "\n",
    "filtered_personalization_vector = get_personalization_vector(query=query,\n",
    "                             user_items=products_in_cluster['embedding'].to_numpy())\n",
    "vector_string = (\", \".join([str(round(n, 3)) for n in filtered_personalization_vector]))[0:70] + \" ...]\"\n",
    "print(\"\\nFiltered Personalization Vector (With Cluster Guardrails):\\n[\" + vector_string)"
   ]
  },
  {
   "cell_type": "markdown",
   "id": "d2dbd845",
   "metadata": {},
   "source": [
    "## Listing 9.18"
   ]
  },
  {
   "cell_type": "code",
   "execution_count": null,
   "id": "04a77b7d",
   "metadata": {},
   "outputs": [],
   "source": [
    "# 4- Get all items for the search query using solr index\n",
    "## Get the top items from the query cluster for the user\n",
    "### User search query using solr \n",
    "#query=\"Western Digital - Scorpio Blue 250GB Internal Serial ATA Hard Drive for Laptops Serial ATA interface; quiet performance; 1.5GB/sec data transfer rate\"\n",
    "\n",
    "query = \"microwave\"\n",
    "request = product_search_request(query)\n",
    "request[\"limit\"] = 100\n",
    "\n",
    "response = products_collection.search(**request)\n",
    "docs = response[\"docs\"]\n",
    "print(\"Search Results w/ No Personalization:\")\n",
    "display_product_search(query, docs[0:4])"
   ]
  },
  {
   "cell_type": "code",
   "execution_count": null,
   "id": "0e00221e",
   "metadata": {},
   "outputs": [
    {
     "name": "stdout",
     "output_type": "stream",
     "text": [
      "Personalized search results (no category guardrails):\n"
     ]
    },
    {
     "data": {
      "text/html": [
       "<div id=\"demo\">\n",
       "        <input style=\"width:50%\" readonly type=\"text\" name=\"q\" value=\"microwave\">\n",
       "        <input readonly type=\"submit\" value=\"Search\">\n",
       "\n",
       "    <div class=\"results\">\n",
       "    \t\n",
       "\n",
       "    </div>\n",
       "</div>\n",
       "    \t<div style=\"position: relative; width: 100%; height:auto; overflow: auto;\">\n",
       "\t    \t<div style=\"position: relative; float:left; width: 120px; margin-top:5px\">\n",
       "\t    \t\t<img style=\"width:100px; height: auto; max-height:150px\" src=\"../data/retrotech/images/21331131393.jpg\">\n",
       "\t    \t</div>\n",
       "\t    \t<div style=\"position:relative; float:left; clear:none; width: 80%; height:auto\">\n",
       "\t    \t\t<p><strong>Name:</strong> Hello Kitty - 0.7 Cu. Ft. Compact Microwave | <strong>Manufacturer:</strong> Hello Kitty</p>\n",
       "\t    \t\t<p> \n",
       "\t    \t\t</p>\n",
       "\t    \t</div>\n",
       "    \t</div>\n",
       "    \t\n",
       "\t\t<div style=\"position:relative; clear:both; content: ' '; display: block; height: 1px; margin-top: 10px; margin-bottom:20px\">\n",
       "\t\t\t<hr style=\"color: gray; width: 95%;\" />\n",
       "\t\t</div>\n",
       "\t\t\n",
       "    \t<div style=\"position: relative; width: 100%; height:auto; overflow: auto;\">\n",
       "\t    \t<div style=\"position: relative; float:left; width: 120px; margin-top:5px\">\n",
       "\t    \t\t<img style=\"width:100px; height: auto; max-height:150px\" src=\"../data/retrotech/images/12505559105.jpg\">\n",
       "\t    \t</div>\n",
       "\t    \t<div style=\"position:relative; float:left; clear:none; width: 80%; height:auto\">\n",
       "\t    \t\t<p><strong>Name:</strong> Electrolux - 1.5 Cu. Ft. Built-In Microwave - Stainless-Steel | <strong>Manufacturer:</strong> Electrolux</p>\n",
       "\t    \t\t<p> \n",
       "\t    \t\t</p>\n",
       "\t    \t</div>\n",
       "    \t</div>\n",
       "    \t\n",
       "\t\t<div style=\"position:relative; clear:both; content: ' '; display: block; height: 1px; margin-top: 10px; margin-bottom:20px\">\n",
       "\t\t\t<hr style=\"color: gray; width: 95%;\" />\n",
       "\t\t</div>\n",
       "\t\t\n",
       "    \t<div style=\"position: relative; width: 100%; height:auto; overflow: auto;\">\n",
       "\t    \t<div style=\"position: relative; float:left; width: 120px; margin-top:5px\">\n",
       "\t    \t\t<img style=\"width:100px; height: auto; max-height:150px\" src=\"../data/retrotech/images/37988910045.jpg\">\n",
       "\t    \t</div>\n",
       "\t    \t<div style=\"position:relative; float:left; clear:none; width: 80%; height:auto\">\n",
       "\t    \t\t<p><strong>Name:</strong> Panasonic - 1.2 Cu. Ft. Mid-Size Microwave - Stainless-Steel | <strong>Manufacturer:</strong> Panasonic</p>\n",
       "\t    \t\t<p> \n",
       "\t    \t\t</p>\n",
       "\t    \t</div>\n",
       "    \t</div>\n",
       "    \t\n",
       "\t\t<div style=\"position:relative; clear:both; content: ' '; display: block; height: 1px; margin-top: 10px; margin-bottom:20px\">\n",
       "\t\t\t<hr style=\"color: gray; width: 95%;\" />\n",
       "\t\t</div>\n",
       "\t\t\n",
       "    \t<div style=\"position: relative; width: 100%; height:auto; overflow: auto;\">\n",
       "\t    \t<div style=\"position: relative; float:left; width: 120px; margin-top:5px\">\n",
       "\t    \t\t<img style=\"width:100px; height: auto; max-height:150px\" src=\"../data/retrotech/images/37988910182.jpg\">\n",
       "\t    \t</div>\n",
       "\t    \t<div style=\"position:relative; float:left; clear:none; width: 80%; height:auto\">\n",
       "\t    \t\t<p><strong>Name:</strong> Panasonic - 1.2 Cu. Ft. Mid-Size Microwave - White | <strong>Manufacturer:</strong> Panasonic</p>\n",
       "\t    \t\t<p> \n",
       "\t    \t\t</p>\n",
       "\t    \t</div>\n",
       "    \t</div>\n",
       "    \t\n",
       "\t\t<div style=\"position:relative; clear:both; content: ' '; display: block; height: 1px; margin-top: 10px; margin-bottom:20px\">\n",
       "\t\t\t<hr style=\"color: gray; width: 95%;\" />\n",
       "\t\t</div>\n",
       "\t\t"
      ],
      "text/plain": [
       "<IPython.core.display.HTML object>"
      ]
     },
     "metadata": {},
     "output_type": "display_data"
    },
    {
     "name": "stdout",
     "output_type": "stream",
     "text": [
      "Personalized search results (with category guardrails):\n"
     ]
    },
    {
     "data": {
      "text/html": [
       "<div id=\"demo\">\n",
       "        <input style=\"width:50%\" readonly type=\"text\" name=\"q\" value=\"microwave\">\n",
       "        <input readonly type=\"submit\" value=\"Search\">\n",
       "\n",
       "    <div class=\"results\">\n",
       "    \t\n",
       "\n",
       "    </div>\n",
       "</div>\n",
       "    \t<div style=\"position: relative; width: 100%; height:auto; overflow: auto;\">\n",
       "\t    \t<div style=\"position: relative; float:left; width: 120px; margin-top:5px\">\n",
       "\t    \t\t<img style=\"width:100px; height: auto; max-height:150px\" src=\"../data/retrotech/images/12505559105.jpg\">\n",
       "\t    \t</div>\n",
       "\t    \t<div style=\"position:relative; float:left; clear:none; width: 80%; height:auto\">\n",
       "\t    \t\t<p><strong>Name:</strong> Electrolux - 1.5 Cu. Ft. Built-In Microwave - Stainless-Steel | <strong>Manufacturer:</strong> Electrolux</p>\n",
       "\t    \t\t<p> \n",
       "\t    \t\t</p>\n",
       "\t    \t</div>\n",
       "    \t</div>\n",
       "    \t\n",
       "\t\t<div style=\"position:relative; clear:both; content: ' '; display: block; height: 1px; margin-top: 10px; margin-bottom:20px\">\n",
       "\t\t\t<hr style=\"color: gray; width: 95%;\" />\n",
       "\t\t</div>\n",
       "\t\t\n",
       "    \t<div style=\"position: relative; width: 100%; height:auto; overflow: auto;\">\n",
       "\t    \t<div style=\"position: relative; float:left; width: 120px; margin-top:5px\">\n",
       "\t    \t\t<img style=\"width:100px; height: auto; max-height:150px\" src=\"../data/retrotech/images/37988910045.jpg\">\n",
       "\t    \t</div>\n",
       "\t    \t<div style=\"position:relative; float:left; clear:none; width: 80%; height:auto\">\n",
       "\t    \t\t<p><strong>Name:</strong> Panasonic - 1.2 Cu. Ft. Mid-Size Microwave - Stainless-Steel | <strong>Manufacturer:</strong> Panasonic</p>\n",
       "\t    \t\t<p> \n",
       "\t    \t\t</p>\n",
       "\t    \t</div>\n",
       "    \t</div>\n",
       "    \t\n",
       "\t\t<div style=\"position:relative; clear:both; content: ' '; display: block; height: 1px; margin-top: 10px; margin-bottom:20px\">\n",
       "\t\t\t<hr style=\"color: gray; width: 95%;\" />\n",
       "\t\t</div>\n",
       "\t\t\n",
       "    \t<div style=\"position: relative; width: 100%; height:auto; overflow: auto;\">\n",
       "\t    \t<div style=\"position: relative; float:left; width: 120px; margin-top:5px\">\n",
       "\t    \t\t<img style=\"width:100px; height: auto; max-height:150px\" src=\"../data/retrotech/images/37988909926.jpg\">\n",
       "\t    \t</div>\n",
       "\t    \t<div style=\"position:relative; float:left; clear:none; width: 80%; height:auto\">\n",
       "\t    \t\t<p><strong>Name:</strong> Panasonic - 2.2 Cu. Ft. Full-Size Microwave - Stainless-Steel | <strong>Manufacturer:</strong> Panasonic</p>\n",
       "\t    \t\t<p> \n",
       "\t    \t\t</p>\n",
       "\t    \t</div>\n",
       "    \t</div>\n",
       "    \t\n",
       "\t\t<div style=\"position:relative; clear:both; content: ' '; display: block; height: 1px; margin-top: 10px; margin-bottom:20px\">\n",
       "\t\t\t<hr style=\"color: gray; width: 95%;\" />\n",
       "\t\t</div>\n",
       "\t\t\n",
       "    \t<div style=\"position: relative; width: 100%; height:auto; overflow: auto;\">\n",
       "\t    \t<div style=\"position: relative; float:left; width: 120px; margin-top:5px\">\n",
       "\t    \t\t<img style=\"width:100px; height: auto; max-height:150px\" src=\"../data/retrotech/images/37988910250.jpg\">\n",
       "\t    \t</div>\n",
       "\t    \t<div style=\"position:relative; float:left; clear:none; width: 80%; height:auto\">\n",
       "\t    \t\t<p><strong>Name:</strong> Panasonic - 2.2 Cu. Ft. Full-Size Microwave - Stainless-Steel | <strong>Manufacturer:</strong> Panasonic</p>\n",
       "\t    \t\t<p> \n",
       "\t    \t\t</p>\n",
       "\t    \t</div>\n",
       "    \t</div>\n",
       "    \t\n",
       "\t\t<div style=\"position:relative; clear:both; content: ' '; display: block; height: 1px; margin-top: 10px; margin-bottom:20px\">\n",
       "\t\t\t<hr style=\"color: gray; width: 95%;\" />\n",
       "\t\t</div>\n",
       "\t\t"
      ],
      "text/plain": [
       "<IPython.core.display.HTML object>"
      ]
     },
     "metadata": {},
     "output_type": "display_data"
    }
   ],
   "source": [
    "from operator import itemgetter\n",
    "\n",
    "def rerank_with_personalization(docs, personalization_vector):\n",
    "    result_embeddings = np.array([product_ids_emb[docs[x]['upc']]\n",
    "                                  for x in range(len(docs))]).astype(float)\n",
    "    similarities = sentence_transformers.util.cos_sim(\n",
    "        personalization_vector, result_embeddings).tolist()[0]\n",
    "    reranked = [similarities.index(i)\n",
    "                for i in heapq.nlargest(len(similarities), similarities)]\n",
    "    reranked, _ = zip(*sorted(enumerate(similarities),\n",
    "                              key=itemgetter(1), reverse=True))\n",
    "    return [docs[i] for i in reranked]\n",
    "   \n",
    "print(\"Personalized search results (no category guardrails):\")\n",
    "reranked_seach_results_no_guardrails = \\\n",
    "    rerank_with_personalization(docs, unfiltered_personalization_vector) \n",
    "display_product_search(query, reranked_seach_results_no_guardrails[0:4])\n",
    "\n",
    "print(\"Personalized search results (with category guardrails):\")\n",
    "reranked_seach_results_with_guardrails = \\\n",
    "    rerank_with_personalization(docs, filtered_personalization_vector) \n",
    "display_product_search(query, reranked_seach_results_with_guardrails[0:4])\n"
   ]
  },
  {
   "cell_type": "markdown",
   "id": "af0fca6f",
   "metadata": {},
   "source": [
    "Up next: Chapter 10 - [Learning to Rank for Generalizable Search Relevance](../ch10/1.setup-the-movie-db.ipynb)"
   ]
  }
 ],
 "metadata": {
  "kernelspec": {
   "display_name": "Python 3 (ipykernel)",
   "language": "python",
   "name": "python3"
  }
 },
 "nbformat": 4,
 "nbformat_minor": 5
}
