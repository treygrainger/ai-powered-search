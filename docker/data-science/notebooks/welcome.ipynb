{
 "cells": [
  {
   "cell_type": "markdown",
   "metadata": {},
   "source": [
    "## Welcome to AI-Powered Search\n",
    "\n",
    "These notebooks accompany the book [AI-Powered Search](http://aiPoweredSearch.com) by Trey Grainger (Manning Publications, 2020). \n",
    "\n",
    "You can find the book at http://aiPoweredSearch.com, including an electronic copy enabling you to link directly to these notebooks as you read.\n",
    "\n",
    "The examples here are designed for use when following along with the book and not as standalone reference materials, as most of the context and explanation behind the code examples exists in the book only and not within these notebooks.\n",
    "\n",
    "These notebooks are intended to run within a Docker container alongside several other services (Apache Solr, Apache Zookeeper, Apache Spark, etc.). If you find the examples not running as expected. Please ensure you have built the entire AI-Powered Search project and are running it per the instructions at:\n",
    "http://github.com/treygrainger/ai-powered-search\n",
    "\n",
    "### Run Healthcheck:"
   ]
  },
  {
   "cell_type": "code",
   "execution_count": 2,
   "metadata": {
    "scrolled": true
   },
   "outputs": [
    {
     "name": "stdout",
     "output_type": "stream",
     "text": []
    }
   ],
   "source": [
    "from aips import healthcheck; healthcheck()\n"
   ]
  },
  {
   "cell_type": "markdown",
   "metadata": {},
   "source": [
    "\n",
    "----\n",
    "\n",
    "### Table of Contents\n",
    "#### Ch1 - Introducting AI-powered Search\n",
    "- No notebooks\n",
    "\n",
    "#### Ch2 - Working with Natural Language\n",
    "- No notebooks\n",
    "\n",
    "#### Ch3 - Ranking and Content-based Relevance\n",
    "1. [Vectors and Text Similarity](ch3/1.ch3-vectors-and-text-similarity.ipynb)\n",
    "2. [Controlling Relevance](ch3/2.ch3-controlling-relevance.ipynb)\n",
    "\n",
    "#### Ch4 - Crowdsourced Relevance\n",
    "1. [Setting up the Retrotech Dataset](ch4/1.ch4-setting-up-the-retrotech-dataset.ipynb)\n",
    "2. [Signals Boosting](ch4/2.ch4-signals-boosting.ipynb)\n",
    "\n",
    "#### Ch5 - Knowledge Graph Learning\n",
    "1. [Automatic Extraction of Knowledge Graphs from Content](ch5/1.open-information-extraction.ipynb)\n",
    "2. [Setting up the Knowledge Graph Datasets](ch5/2.index-datasets.ipynb)\n",
    "3. [Working with Semantic Knowledge Graphs](ch5/3.semantic-knowledge-graph.ipynb)\n",
    "\n",
    "\n",
    "#### Ch10 - Learning to Rank\n",
    "1. [Setting up TheMovieDB Dataset](ch10/1.ch10-setup-TheMovieDB.ipynb)\n",
    "2. [Judgments and Logging](ch10/2.ch10-judgments-and-logging.ipynb)\n",
    "3. [SVMRank's Pairwise Transform](ch10/3.ch10-pairwise-transform.ipynb)\n",
    "4. [Train and Evaluate The Model](ch10/4.ch10-train-and-evaluate-the-model.ipynb)\n"
   ]
  },
  {
   "cell_type": "code",
   "execution_count": null,
   "metadata": {},
   "outputs": [],
   "source": []
  }
 ],
 "metadata": {
  "kernelspec": {
   "display_name": "Python 3",
   "language": "python",
   "name": "python3"
  },
  "language_info": {
   "codemirror_mode": {
    "name": "ipython",
    "version": 3
   },
   "file_extension": ".py",
   "mimetype": "text/x-python",
   "name": "python",
   "nbconvert_exporter": "python",
   "pygments_lexer": "ipython3",
   "version": "3.7.6"
  }
 },
 "nbformat": 4,
 "nbformat_minor": 2
}
