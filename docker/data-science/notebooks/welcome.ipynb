{
 "cells": [
  {
   "cell_type": "markdown",
   "metadata": {},
   "source": [
    "## Welcome to AI-Powered Search\n",
    "\n",
    "These notebooks accompany the book [AI-Powered Search](http://aiPoweredSearch.com) by Trey Grainger (Manning Publications, 2020). \n",
    "\n",
    "You can find the book at http://aiPoweredSearch.com, including an electronic copy enabling you to link directly to these notebooks as you read.\n",
    "\n",
    "The examples here are designed for use when following along with the book and not as standalone reference materials, as most of the context and explanation behind the code examples exists in the book only and not within these notebooks.\n",
    "\n",
    "These notebooks are intended to run within a Docker container alongside several other services (Apache Solr, Apache Zookeeper, Apache Spark, etc.). If you find the examples not running as expected. Please ensure you have built the entire AI-Powered Search project and are running it per the instructions at:\n",
    "http://github.com/treygrainger/ai-powered-search\n",
    "\n",
    "### Run Healthcheck:"
   ]
  },
  {
   "cell_type": "code",
   "execution_count": 2,
   "metadata": {
    "scrolled": true
   },
   "outputs": [
    {
     "name": "stdout",
     "output_type": "stream",
     "text": [
     ]
    }
   ],
   "source": [
    "from aips import healthcheck; healthcheck()\n"
   ]
  },
  {
   "cell_type": "markdown",
   "metadata": {},
   "source": [
    "\n",
    "----\n",
    "\n",
    "### Table of Contents\n",
    "#### Ch1\n",
    "- No notebooks\n",
    "\n",
    "#### Ch2\n",
    "- No notebooks (yet)\n",
    "\n",
    "#### Ch3\n",
    "- [Vectors and Text Similarity](ch3/1.ch3-vectors-and-text-similarity.ipynb)\n",
    "- [Controlling Relevance](ch3/2.ch3-controlling-relevance.ipynb)"
   ]
  },
  {
   "cell_type": "code",
   "execution_count": null,
   "metadata": {},
   "outputs": [],
   "source": []
  }
 ],
 "metadata": {
  "kernelspec": {
   "display_name": "Python 3",
   "language": "python",
   "name": "python3"
  },
  "language_info": {
   "codemirror_mode": {
    "name": "ipython",
    "version": 3
   },
   "file_extension": ".py",
   "mimetype": "text/x-python",
   "name": "python",
   "nbconvert_exporter": "python",
   "pygments_lexer": "ipython3",
   "version": "3.7.4"
  }
 },
 "nbformat": 4,
 "nbformat_minor": 2
}