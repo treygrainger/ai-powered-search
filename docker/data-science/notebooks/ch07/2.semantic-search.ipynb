{
 "cells": [
  {
   "cell_type": "markdown",
   "metadata": {},
   "source": [
    "# Semantic Search Application"
   ]
  },
  {
   "cell_type": "code",
   "execution_count": 1,
   "metadata": {},
   "outputs": [],
   "source": [
    "import sys\n",
    "sys.path.append('..')\n",
    "sys.path.append(\"webserver\")\n",
    "from aips import *\n",
    "from webserver.semantic_search import *\n",
    "from webserver.semantic_search.engine import *\n",
    "from webserver.semantic_search.query_tree import *\n",
    "engine = get_engine()"
   ]
  },
  {
   "cell_type": "markdown",
   "metadata": {},
   "source": [
    "## Starting the Reviews Search Web Server and Launching the Search Page"
   ]
  },
  {
   "cell_type": "code",
   "execution_count": 20,
   "metadata": {},
   "outputs": [],
   "source": [
    "def get_running_webservers():\n",
    "    already_running_webservers = ! ps -ef | grep '[s]tart-webserver.py' | awk '{print $2}'\n",
    "    return already_running_webservers\n",
    "    \n",
    "def stop_running_webservers():\n",
    "    already_running_webservers = get_running_webservers()\n",
    "    for pid in already_running_webservers:\n",
    "        print(\"Stopping webserver (pid: \" + pid + \")\")\n",
    "        results = ! xargs kill -9 {pid}\n",
    "\n",
    "def start_reviews_search_webserver():\n",
    "    stop_running_webservers() #in case it was already running\n",
    "    ! pip install staticmap\n",
    "    get_ipython().system = os.system\n",
    "    ! cd ../webserver && python start-webserver.py &\n",
    "    if len(get_running_webservers()) > 0:\n",
    "        print(\"Successfully Started Webserver (pid: \" + get_running_webservers()[0] + \")!\")"
   ]
  },
  {
   "cell_type": "markdown",
   "metadata": {},
   "source": [
    "### Listing 7.2"
   ]
  },
  {
   "cell_type": "code",
   "execution_count": 21,
   "metadata": {},
   "outputs": [
    {
     "name": "stdout",
     "output_type": "stream",
     "text": [
      "Requirement already satisfied: staticmap in /opt/conda/lib/python3.10/site-packages (0.5.7)\n",
      "Requirement already satisfied: Pillow in /opt/conda/lib/python3.10/site-packages (from staticmap) (9.4.0)\n",
      "Requirement already satisfied: requests in /opt/conda/lib/python3.10/site-packages (from staticmap) (2.28.2)\n",
      "Requirement already satisfied: charset-normalizer<4,>=2 in /opt/conda/lib/python3.10/site-packages (from requests->staticmap) (2.1.1)\n",
      "Requirement already satisfied: idna<4,>=2.5 in /opt/conda/lib/python3.10/site-packages (from requests->staticmap) (3.4)\n",
      "Requirement already satisfied: urllib3<1.27,>=1.21.1 in /opt/conda/lib/python3.10/site-packages (from requests->staticmap) (1.26.14)\n",
      "Requirement already satisfied: certifi>=2017.4.17 in /opt/conda/lib/python3.10/site-packages (from requests->staticmap) (2022.12.7)\n"
     ]
    }
   ],
   "source": [
    "#Start the web server\n",
    "start_reviews_search_webserver()\n"
   ]
  },
  {
   "cell_type": "code",
   "execution_count": 22,
   "metadata": {},
   "outputs": [],
   "source": [
    "%%html\n",
    "<iframe src=\"http://localhost:2345/search\" width=100% height=\"800\"></iframe>\n"
   ]
  },
  {
   "cell_type": "markdown",
   "metadata": {
    "tags": []
   },
   "source": [
    "%%html\n",
    "<iframe src=\"http://localhost:2345/search?q=bbq+near+charlotte\" width=100% height=\"800\"></iframe>"
   ]
  },
  {
   "cell_type": "markdown",
   "metadata": {
    "tags": []
   },
   "source": [
    "### Figure 7.4"
   ]
  },
  {
   "cell_type": "code",
   "execution_count": 23,
   "metadata": {
    "tags": []
   },
   "outputs": [],
   "source": [
    "%%html\n",
    "<iframe src=\"http://localhost:2345/search?q=bbq+charlotte\" width=100% height=\"800\"></iframe>"
   ]
  },
  {
   "cell_type": "markdown",
   "metadata": {
    "tags": []
   },
   "source": [
    "### Figure 7.5"
   ]
  },
  {
   "cell_type": "code",
   "execution_count": 24,
   "metadata": {
    "tags": []
   },
   "outputs": [],
   "source": [
    "%%html\n",
    "<iframe src=\"http://localhost:2345/semantic-search?q=top+kimchi+near+charlotte&submit=false\" width=100% height=\"800\"></iframe>"
   ]
  },
  {
   "cell_type": "markdown",
   "metadata": {
    "tags": []
   },
   "source": [
    "### Figure 7.6"
   ]
  },
  {
   "cell_type": "code",
   "execution_count": 25,
   "metadata": {
    "tags": []
   },
   "outputs": [],
   "source": [
    "%%html\n",
    "<iframe src=\"http://localhost:2345/search?q=top+kimchi+near+charlotte&submit=false\" width=100% height=\"800\"></iframe>"
   ]
  },
  {
   "cell_type": "markdown",
   "metadata": {
    "tags": []
   },
   "source": [
    "### Figure 7.7"
   ]
  },
  {
   "cell_type": "code",
   "execution_count": 26,
   "metadata": {
    "tags": []
   },
   "outputs": [],
   "source": [
    "%%html\n",
    "<iframe src=\"http://localhost:2345/semantic-search?q=top+kimchi+near+charlotte&submit=true\" width=100% height=\"800\"></iframe>"
   ]
  },
  {
   "cell_type": "markdown",
   "metadata": {},
   "source": [
    "### Listing 7.3"
   ]
  },
  {
   "cell_type": "code",
   "execution_count": 27,
   "metadata": {},
   "outputs": [],
   "source": [
    "! cat ../data/reviews/entities.csv"
   ]
  },
  {
   "cell_type": "code",
   "execution_count": 2,
   "metadata": {},
   "outputs": [],
   "source": [
    "#Cleanup so webserver doesn't keep running after you're done\n",
    "stop_running_webservers()"
   ]
  },
  {
   "cell_type": "markdown",
   "metadata": {},
   "source": [
    "### Listing 7.6"
   ]
  },
  {
   "cell_type": "code",
   "execution_count": 29,
   "metadata": {},
   "outputs": [],
   "source": [
    "# %load -s tag_query solr.SolrEngine\n",
    "def tag_query(collection_name, query):\n",
    "    url_params = \"json.nl=map&sort=popularity%20desc&matchText=true&echoParams=all&fl=id,type,canonical_form,surface_form,name,country:countrycode_s,admin_area:admin_code_1_s,popularity,*_p,semantic_function\"\n",
    "    return requests.post(f\"{SOLR_URL}/{collection_name}/tag?{url_params}\", query).json()"
   ]
  },
  {
   "cell_type": "code",
   "execution_count": 3,
   "metadata": {
    "tags": []
   },
   "outputs": [
    {
     "data": {
      "text/plain": [
       "{'responseHeader': {'status': 0,\n",
       "  'QTime': 0,\n",
       "  'params': {'sort': 'popularity desc',\n",
       "   'matchText': 'true',\n",
       "   'json.nl': 'map',\n",
       "   'field': 'name_tag',\n",
       "   'echoParams': 'all',\n",
       "   'fl': 'id,type,canonical_form,name,country:countrycode_s,admin_area:admin_code_1_s,popularity,*_p,semantic_function'}},\n",
       " 'tagsCount': 2,\n",
       " 'tags': [{'startOffset': 0, 'endOffset': 3, 'matchText': 'top', 'ids': ['7']},\n",
       "  {'startOffset': 11,\n",
       "   'endOffset': 15,\n",
       "   'matchText': 'near',\n",
       "   'ids': ['1', '5']}],\n",
       " 'response': {'numFound': 3,\n",
       "  'start': 0,\n",
       "  'numFoundExact': True,\n",
       "  'docs': [{'id': '1',\n",
       "    'canonical_form': '{location_distance}',\n",
       "    'type': 'semantic_function',\n",
       "    'popularity': 90,\n",
       "    'semantic_function': 'location_distance(query, position)'},\n",
       "   {'id': '5',\n",
       "    'canonical_form': '{text_distance}',\n",
       "    'type': 'semantic_function',\n",
       "    'popularity': 10,\n",
       "    'semantic_function': 'text_distance(query, position)'},\n",
       "   {'id': '7',\n",
       "    'canonical_form': '{popular}',\n",
       "    'type': 'semantic_function',\n",
       "    'popularity': 100,\n",
       "    'semantic_function': 'popularity(query, position)'}]}}"
      ]
     },
     "execution_count": 3,
     "metadata": {},
     "output_type": "execute_result"
    }
   ],
   "source": [
    "tag_query(\"entities\", \"top kimchi near charolette\")"
   ]
  },
  {
   "cell_type": "markdown",
   "metadata": {},
   "source": [
    "### Listing 7.7"
   ]
  },
  {
   "cell_type": "code",
   "execution_count": 7,
   "metadata": {},
   "outputs": [],
   "source": [
    "# %load -s process_semantic_query webserver/semantic_search/__init__\n",
    "def process_semantic_query(collection, query_bytes):\n",
    "    text = query_bytes.decode('UTF-8')\n",
    "    tagger_data = tag_query(\"entities\", query_bytes)\n",
    "    \n",
    "    query_tree, tagged_query, enriched_query = generate_query_representations(text, tagger_data)\n",
    "        \n",
    "    enriched_query_tree = enrich(collection, query_tree)\n",
    "    transformed = transform_query(enriched_query_tree)\n",
    "    query_string = to_query_string(transformed)      \n",
    "\n",
    "    response = {\n",
    "        \"tagged_query\": tagged_query,\n",
    "        \"enriched_query\": enriched_query, \n",
    "        \"transformed_query\": query_string,\n",
    "        \"tagger_data\": tagger_data\n",
    "    }\n",
    "\n",
    "    return response\n"
   ]
  },
  {
   "cell_type": "code",
   "execution_count": 8,
   "metadata": {
    "tags": []
   },
   "outputs": [
    {
     "name": "stdout",
     "output_type": "stream",
     "text": [
      "{'responseHeader': {'zkConnected': True, 'status': 0, 'QTime': 51, 'params': {'json': '{\"params\": {\"fore\": \"kimchi\", \"back\": \"*:*\", \"df\": \"text_t\"}, \"query\": \"*:*\", \"limit\": 0, \"facet\": {\"term_needing_vector\": {\"type\": \"query\", \"query\": \"kimchi\", \"facet\": {\"related_terms\": {\"type\": \"terms\", \"field\": \"text_t\", \"limit\": 3, \"sort\": {\"r1\": \"desc\"}, \"facet\": {\"r1\": \"relatedness($fore,$back)\"}}, \"doc_type\": {\"type\": \"terms\", \"field\": \"doc_type\", \"limit\": 1, \"sort\": {\"r2\": \"desc\"}, \"facet\": {\"r2\": \"relatedness($fore,$back)\"}}}}}}'}}, 'response': {'numFound': 192140, 'start': 0, 'numFoundExact': True, 'docs': []}, 'facets': {'count': 192140, 'term_needing_vector': {'count': 193, 'related_terms': {'buckets': [{'val': 'kimchi', 'count': 193, 'r1': {'relatedness': 0.91934, 'foreground_popularity': 0.001, 'background_popularity': 0.001}}, {'val': 'korean', 'count': 95, 'r1': {'relatedness': 0.7069, 'foreground_popularity': 0.00049, 'background_popularity': 0.00366}}, {'val': 'banchan', 'count': 22, 'r1': {'relatedness': 0.65933, 'foreground_popularity': 0.00011, 'background_popularity': 0.00027}}]}, 'doc_type': {'buckets': []}}}}\n",
      "{'responseHeader': {'zkConnected': True, 'status': 0, 'QTime': 51, 'params': {'json': '{\"params\": {\"fore\": \"kimchi\", \"back\": \"*:*\", \"df\": \"text_t\"}, \"query\": \"*:*\", \"limit\": 0, \"facet\": {\"term_needing_vector\": {\"type\": \"query\", \"query\": \"kimchi\", \"facet\": {\"related_terms\": {\"type\": \"terms\", \"field\": \"text_t\", \"limit\": 3, \"sort\": {\"r1\": \"desc\"}, \"facet\": {\"r1\": \"relatedness($fore,$back)\"}}, \"doc_type\": {\"type\": \"terms\", \"field\": \"doc_type\", \"limit\": 1, \"sort\": {\"r2\": \"desc\"}, \"facet\": {\"r2\": \"relatedness($fore,$back)\"}}}}}}'}}, 'response': {'numFound': 192140, 'start': 0, 'numFoundExact': True, 'docs': []}, 'facets': {'count': 192140, 'term_needing_vector': {'count': 193, 'related_terms': {'buckets': [{'val': 'kimchi', 'count': 193, 'r1': {'relatedness': 0.91934, 'foreground_popularity': 0.001, 'background_popularity': 0.001}}, {'val': 'korean', 'count': 95, 'r1': {'relatedness': 0.7069, 'foreground_popularity': 0.00049, 'background_popularity': 0.00366}}, {'val': 'banchan', 'count': 22, 'r1': {'relatedness': 0.65933, 'foreground_popularity': 0.00011, 'background_popularity': 0.00027}}]}, 'doc_type': {'buckets': []}}}}\n",
      "{'type': 'skg_enriched', 'enrichments': {'term_vector': 'kimchi^0.9193 korean^0.7069 banchan^0.6593'}}\n",
      "Tagged Query: {top} kimchi {near} {charlotte}\n",
      "\n",
      "Enriched Query:{\"id\": \"7\", \"canonical_form\": \"{popular}\", \"type\": \"semantic_function\", \"popularity\": 100, \"semantic_function\": \"popularity(query, position)\"} { type:keyword, known: false, surface_form: \"kimchi\"}{\"id\": \"1\", \"canonical_form\": \"{location_distance}\", \"type\": \"semantic_function\", \"popularity\": 90, \"semantic_function\": \"location_distance(query, position)\"}{\"id\": \"4460243\", \"name\": \"Charlotte\", \"canonical_form\": \"Charlotte\", \"popularity\": 827097, \"type\": \"city\", \"location_p\": \"35.22709,-80.84313\", \"admin_area\": \"NC\"}\n",
      "\n",
      "Transformed Query:+{!func v=\"mul(if(stars_i,stars_i,0),20)\"} {!edismax v=\"kimchi^0.9193 korean^0.7069 banchan^0.6593\"} +{!geofilt d=50 sfield=\"location_p\" pt=\"35.22709,-80.84313\"}\n"
     ]
    }
   ],
   "source": [
    "reviews_collection = engine.get_collection(\"reviews\")\n",
    "query_bytes = bytes(\"top kimchi near charlotte\", 'UTF-8')\n",
    "processed_query = process_semantic_query(reviews_collection, query_bytes)\n",
    "print(\"Tagged Query:\" + processed_query[\"tagged_query\"])\n",
    "print(\"\\nEnriched Query:\" + processed_query[\"enriched_query\"])\n",
    "print(\"\\nTransformed Query:\" + processed_query[\"transformed_query\"])"
   ]
  },
  {
   "cell_type": "markdown",
   "metadata": {},
   "source": [
    "### Listing 7.8"
   ]
  },
  {
   "cell_type": "code",
   "execution_count": 10,
   "metadata": {},
   "outputs": [],
   "source": [
    "# %load -s popularity webserver/semantic_search/semantic_functions/__init__\n",
    "def popularity(query, position):\n",
    "    if (len(query[\"query_tree\"]) -1 > position):\n",
    "        query[\"query_tree\"][position] = {\n",
    "            \"type\": \"solr\",\n",
    "            \"query\": '+{!func v=\"mul(if(stars_i,stars_i,0),20)\"}'}\n",
    "        return True\n",
    "    else:\n",
    "        return False\n"
   ]
  },
  {
   "cell_type": "markdown",
   "metadata": {},
   "source": [
    "### Listing 7.9"
   ]
  },
  {
   "cell_type": "code",
   "execution_count": 12,
   "metadata": {},
   "outputs": [],
   "source": [
    "# %load -s location_distance,create_geo_filter webserver/semantic_search/semantic_functions/__init__\n",
    "def location_distance(query, position):\n",
    "    if (len(query[\"query_tree\"]) -1 > position):\n",
    "        next_entity = query[\"query_tree\"][position + 1]\n",
    "        if (next_entity[\"type\"] == \"city\"):\n",
    "            query[\"query_tree\"].pop(position + 1)\n",
    "            query[\"query_tree\"][position] = {\n",
    "                \"type\": \"solr\",\n",
    "                \"query\": create_geo_filter(next_entity['location_p'],\n",
    "                \"location_p\", 50)}\n",
    "            return True\n",
    "    return False\n",
    "\n",
    "def create_geo_filter(coordinates, field, distance_in_KM):\n",
    "    return \"+{!geofilt d=\" + str(distance_in_KM) + ' sfield=\"' + field + '\" pt=\"' + coordinates + '\"}'\n"
   ]
  },
  {
   "cell_type": "markdown",
   "metadata": {},
   "source": [
    "### Listing 7.10"
   ]
  },
  {
   "cell_type": "code",
   "execution_count": 18,
   "metadata": {
    "tags": []
   },
   "outputs": [],
   "source": [
    "# %load -s traverse_skg webserver/semantic_search/engine/semantic_knowledge_graph\n",
    "def traverse_skg(collection, keyword):\n",
    "    query = {\n",
    "        \"params\": {\"fore\": keyword, \"back\": \"*:*\", \"df\": \"text_t\"},\n",
    "        \"query\": \"*:*\", \"limit\": 0,\n",
    "        \"facet\": {\n",
    "            \"term_needing_vector\": {\n",
    "                \"type\": \"query\", \"query\": keyword,\n",
    "                \"facet\": {\n",
    "                    \"related_terms\": {\n",
    "                        \"type\": \"terms\", \"field\": \"text_t\",\n",
    "                        \"limit\": 3, \"sort\": {\"r1\": \"desc\"},\n",
    "                        \"facet\": {\"r1\": \"relatedness($fore,$back)\"}},\n",
    "                \"doc_type\": {\n",
    "                    \"type\": \"terms\", \"field\": \"doc_type\",\n",
    "                    \"limit\": 1, \"sort\": {\"r2\": \"desc\"},\n",
    "                    \"facet\": {\"r2\": \"relatedness($fore,$back)\"}}}}}}    \n",
    "    return collection.search(query)\n"
   ]
  },
  {
   "cell_type": "code",
   "execution_count": 19,
   "metadata": {
    "tags": []
   },
   "outputs": [],
   "source": [
    "# %load -s parse_skg_response webserver/semantic_search/engine/semantic_knowledge_graph\n",
    "def parse_skg_response(skg_response):\n",
    "    parsed = {}\n",
    "    related_term_nodes = {}\n",
    "    if \"facets\" in skg_response and \"term_needing_vector\" in skg_response[\"facets\"]:    \n",
    "        if (\"doc_type\" in skg_response[\"facets\"][\"term_needing_vector\"] and \n",
    "            \"buckets\" in skg_response[\"facets\"][\"term_needing_vector\"][\"doc_type\"] and\n",
    "            len(skg_response[\"facets\"][\"term_needing_vector\"][\"doc_type\"][\"buckets\"]) > 0):\n",
    "            parsed[\"category\"] = skg_response[\"facets\"][\"term_needing_vector\"][\"doc_type\"][\"buckets\"][0][\"val\"] #just top one for now\n",
    "    \n",
    "        if (\"related_terms\" in skg_response[\"facets\"][\"term_needing_vector\"] \n",
    "            and \"buckets\" in skg_response[\"facets\"][\"term_needing_vector\"][\"related_terms\"] \n",
    "          and len(skg_response[\"facets\"][\"term_needing_vector\"][\"related_terms\"][\"buckets\"]) > 0): #at least one entry    \n",
    "            related_term_nodes = skg_response[\"facets\"][\"term_needing_vector\"][\"related_terms\"][\"buckets\"]\n",
    "                \n",
    "    term_vector = \"\"\n",
    "    for related_term_node in related_term_nodes:\n",
    "        if len(term_vector) > 0: term_vector += \" \" \n",
    "        term_vector += related_term_node[\"val\"] + \"^\" + \"{:.4f}\".format(related_term_node[\"r1\"][\"relatedness\"])\n",
    "    \n",
    "    parsed[\"term_vector\"] = term_vector\n",
    "\n",
    "    return parsed\n"
   ]
  },
  {
   "cell_type": "code",
   "execution_count": 20,
   "metadata": {
    "tags": []
   },
   "outputs": [
    {
     "name": "stdout",
     "output_type": "stream",
     "text": [
      "{'responseHeader': {'zkConnected': True, 'status': 0, 'QTime': 50, 'params': {'json': '{\"params\": {\"fore\": \"kimchi\", \"back\": \"*:*\", \"df\": \"text_t\"}, \"query\": \"*:*\", \"limit\": 0, \"facet\": {\"term_needing_vector\": {\"type\": \"query\", \"query\": \"kimchi\", \"facet\": {\"related_terms\": {\"type\": \"terms\", \"field\": \"text_t\", \"limit\": 3, \"sort\": {\"r1\": \"desc\"}, \"facet\": {\"r1\": \"relatedness($fore,$back)\"}}, \"doc_type\": {\"type\": \"terms\", \"field\": \"doc_type\", \"limit\": 1, \"sort\": {\"r2\": \"desc\"}, \"facet\": {\"r2\": \"relatedness($fore,$back)\"}}}}}}'}}, 'response': {'numFound': 192140, 'start': 0, 'numFoundExact': True, 'docs': []}, 'facets': {'count': 192140, 'term_needing_vector': {'count': 193, 'related_terms': {'buckets': [{'val': 'kimchi', 'count': 193, 'r1': {'relatedness': 0.91934, 'foreground_popularity': 0.001, 'background_popularity': 0.001}}, {'val': 'korean', 'count': 95, 'r1': {'relatedness': 0.7069, 'foreground_popularity': 0.00049, 'background_popularity': 0.00366}}, {'val': 'banchan', 'count': 22, 'r1': {'relatedness': 0.65933, 'foreground_popularity': 0.00011, 'background_popularity': 0.00027}}]}, 'doc_type': {'buckets': []}}}}\n"
     ]
    },
    {
     "data": {
      "text/plain": [
       "{'term_vector': 'kimchi^0.9193 korean^0.7069 banchan^0.6593'}"
      ]
     },
     "execution_count": 20,
     "metadata": {},
     "output_type": "execute_result"
    }
   ],
   "source": [
    "query = \"kimchi\"\n",
    "reviews_collection = engine.get_collection(\"reviews\")\n",
    "skg_response = traverse_skg(reviews_collection, query)\n",
    "parse_skg_response(skg_response)"
   ]
  },
  {
   "cell_type": "code",
   "execution_count": 22,
   "metadata": {
    "tags": []
   },
   "outputs": [
    {
     "name": "stdout",
     "output_type": "stream",
     "text": [
      "{'responseHeader': {'zkConnected': True, 'status': 0, 'QTime': 49, 'params': {'json': '{\"params\": {\"fore\": \"bbq\", \"back\": \"*:*\", \"df\": \"text_t\"}, \"query\": \"*:*\", \"limit\": 0, \"facet\": {\"term_needing_vector\": {\"type\": \"query\", \"query\": \"bbq\", \"facet\": {\"related_terms\": {\"type\": \"terms\", \"field\": \"text_t\", \"limit\": 3, \"sort\": {\"r1\": \"desc\"}, \"facet\": {\"r1\": \"relatedness($fore,$back)\"}}, \"doc_type\": {\"type\": \"terms\", \"field\": \"doc_type\", \"limit\": 1, \"sort\": {\"r2\": \"desc\"}, \"facet\": {\"r2\": \"relatedness($fore,$back)\"}}}}}}'}}, 'response': {'numFound': 192140, 'start': 0, 'numFoundExact': True, 'docs': []}, 'facets': {'count': 192140, 'term_needing_vector': {'count': 1512, 'related_terms': {'buckets': [{'val': 'bbq', 'count': 1512, 'r1': {'relatedness': 0.91907, 'foreground_popularity': 0.00787, 'background_popularity': 0.00787}}, {'val': 'ribs', 'count': 223, 'r1': {'relatedness': 0.61857, 'foreground_popularity': 0.00116, 'background_popularity': 0.0041}}, {'val': 'pork', 'count': 381, 'r1': {'relatedness': 0.59906, 'foreground_popularity': 0.00198, 'background_popularity': 0.01262}}]}, 'doc_type': {'buckets': []}}}}\n",
      "bbq: {'term_vector': 'bbq^0.9191 ribs^0.6186 pork^0.5991'}\n",
      "{'responseHeader': {'zkConnected': True, 'status': 0, 'QTime': 56, 'params': {'json': '{\"params\": {\"fore\": \"korean bbq\", \"back\": \"*:*\", \"df\": \"text_t\"}, \"query\": \"*:*\", \"limit\": 0, \"facet\": {\"term_needing_vector\": {\"type\": \"query\", \"query\": \"korean bbq\", \"facet\": {\"related_terms\": {\"type\": \"terms\", \"field\": \"text_t\", \"limit\": 3, \"sort\": {\"r1\": \"desc\"}, \"facet\": {\"r1\": \"relatedness($fore,$back)\"}}, \"doc_type\": {\"type\": \"terms\", \"field\": \"doc_type\", \"limit\": 1, \"sort\": {\"r2\": \"desc\"}, \"facet\": {\"r2\": \"relatedness($fore,$back)\"}}}}}}'}}, 'response': {'numFound': 192140, 'start': 0, 'numFoundExact': True, 'docs': []}, 'facets': {'count': 192140, 'term_needing_vector': {'count': 2103, 'related_terms': {'buckets': [{'val': 'bbq', 'count': 1512, 'r1': {'relatedness': 0.90519, 'foreground_popularity': 0.00787, 'background_popularity': 0.00787}}, {'val': 'korean', 'count': 704, 'r1': {'relatedness': 0.86411, 'foreground_popularity': 0.00366, 'background_popularity': 0.00366}}, {'val': 'pork', 'count': 462, 'r1': {'relatedness': 0.60785, 'foreground_popularity': 0.0024, 'background_popularity': 0.01262}}]}, 'doc_type': {'buckets': []}}}}\n",
      "korean bbq: {'term_vector': 'bbq^0.9052 korean^0.8641 pork^0.6079'}\n",
      "{'responseHeader': {'zkConnected': True, 'status': 0, 'QTime': 45, 'params': {'json': '{\"params\": {\"fore\": \"lasagna\", \"back\": \"*:*\", \"df\": \"text_t\"}, \"query\": \"*:*\", \"limit\": 0, \"facet\": {\"term_needing_vector\": {\"type\": \"query\", \"query\": \"lasagna\", \"facet\": {\"related_terms\": {\"type\": \"terms\", \"field\": \"text_t\", \"limit\": 3, \"sort\": {\"r1\": \"desc\"}, \"facet\": {\"r1\": \"relatedness($fore,$back)\"}}, \"doc_type\": {\"type\": \"terms\", \"field\": \"doc_type\", \"limit\": 1, \"sort\": {\"r2\": \"desc\"}, \"facet\": {\"r2\": \"relatedness($fore,$back)\"}}}}}}'}}, 'response': {'numFound': 192140, 'start': 0, 'numFoundExact': True, 'docs': []}, 'facets': {'count': 192140, 'term_needing_vector': {'count': 214, 'related_terms': {'buckets': [{'val': 'lasagna', 'count': 214, 'r1': {'relatedness': 0.91933, 'foreground_popularity': 0.00111, 'background_popularity': 0.00111}}, {'val': 'alfredo', 'count': 21, 'r1': {'relatedness': 0.39915, 'foreground_popularity': 0.00011, 'background_popularity': 0.00094}}, {'val': 'pasta', 'count': 57, 'r1': {'relatedness': 0.3909, 'foreground_popularity': 0.0003, 'background_popularity': 0.00711}}]}, 'doc_type': {'buckets': []}}}}\n",
      "lasagna: {'term_vector': 'lasagna^0.9193 alfredo^0.3992 pasta^0.3909'}\n",
      "{'responseHeader': {'zkConnected': True, 'status': 0, 'QTime': 45, 'params': {'json': '{\"params\": {\"fore\": \"karaoke\", \"back\": \"*:*\", \"df\": \"text_t\"}, \"query\": \"*:*\", \"limit\": 0, \"facet\": {\"term_needing_vector\": {\"type\": \"query\", \"query\": \"karaoke\", \"facet\": {\"related_terms\": {\"type\": \"terms\", \"field\": \"text_t\", \"limit\": 3, \"sort\": {\"r1\": \"desc\"}, \"facet\": {\"r1\": \"relatedness($fore,$back)\"}}, \"doc_type\": {\"type\": \"terms\", \"field\": \"doc_type\", \"limit\": 1, \"sort\": {\"r2\": \"desc\"}, \"facet\": {\"r2\": \"relatedness($fore,$back)\"}}}}}}'}}, 'response': {'numFound': 192140, 'start': 0, 'numFoundExact': True, 'docs': []}, 'facets': {'count': 192140, 'term_needing_vector': {'count': 310, 'related_terms': {'buckets': [{'val': 'karaoke', 'count': 310, 'r1': {'relatedness': 0.91931, 'foreground_popularity': 0.00161, 'background_popularity': 0.00161}}, {'val': 'sing', 'count': 57, 'r1': {'relatedness': 0.64232, 'foreground_popularity': 0.0003, 'background_popularity': 0.00121}}, {'val': 'songs', 'count': 52, 'r1': {'relatedness': 0.52565, 'foreground_popularity': 0.00027, 'background_popularity': 0.00174}}]}, 'doc_type': {'buckets': []}}}}\n",
      "karaoke: {'term_vector': 'karaoke^0.9193 sing^0.6423 songs^0.5256'}\n",
      "{'responseHeader': {'zkConnected': True, 'status': 0, 'QTime': 75, 'params': {'json': '{\"params\": {\"fore\": \"drive through\", \"back\": \"*:*\", \"df\": \"text_t\"}, \"query\": \"*:*\", \"limit\": 0, \"facet\": {\"term_needing_vector\": {\"type\": \"query\", \"query\": \"drive through\", \"facet\": {\"related_terms\": {\"type\": \"terms\", \"field\": \"text_t\", \"limit\": 3, \"sort\": {\"r1\": \"desc\"}, \"facet\": {\"r1\": \"relatedness($fore,$back)\"}}, \"doc_type\": {\"type\": \"terms\", \"field\": \"doc_type\", \"limit\": 1, \"sort\": {\"r2\": \"desc\"}, \"facet\": {\"r2\": \"relatedness($fore,$back)\"}}}}}}'}}, 'response': {'numFound': 192140, 'start': 0, 'numFoundExact': True, 'docs': []}, 'facets': {'count': 192140, 'term_needing_vector': {'count': 16419, 'related_terms': {'buckets': [{'val': 'through', 'count': 11654, 'r1': {'relatedness': 0.89994, 'foreground_popularity': 0.06065, 'background_popularity': 0.06065}}, {'val': 'drive', 'count': 5981, 'r1': {'relatedness': 0.86127, 'foreground_popularity': 0.03113, 'background_popularity': 0.03113}}, {'val': 'thru', 'count': 1173, 'r1': {'relatedness': 0.61176, 'foreground_popularity': 0.0061, 'background_popularity': 0.00882}}]}, 'doc_type': {'buckets': []}}}}\n",
      "drive through: {'term_vector': 'through^0.8999 drive^0.8613 thru^0.6118'}\n"
     ]
    }
   ],
   "source": [
    "def skg(query):\n",
    "    return parse_skg_response(traverse_skg(reviews_collection, query))\n",
    "\n",
    "other_queries = [\"bbq\", \"korean bbq\", \"lasagna\", \"karaoke\", \"drive through\"]\n",
    "for query in other_queries: print(f\"{query}: {skg(query)}\")\n"
   ]
  },
  {
   "cell_type": "markdown",
   "metadata": {},
   "source": [
    "### Listing 7.11"
   ]
  },
  {
   "cell_type": "code",
   "execution_count": 25,
   "metadata": {},
   "outputs": [],
   "source": [
    "# %load webserver/semantic_search/query_tree/__init__\n",
    "def escape_quotes_in_query(query):\n",
    "    return query.replace('\"', '\\\\\"')\n",
    "\n",
    "def to_query_string(query_tree):\n",
    "    return \" \".join([node[\"query\"] for node in query_tree])\n",
    "\n",
    "def enrich(collection, query_tree):\n",
    "    query_tree = process_semantic_functions(query_tree)    \n",
    "    for i in range(len(query_tree)):\n",
    "        item = query_tree[i]\n",
    "        if item[\"type\"] == \"keyword\":\n",
    "            skg_response = traverse_skg(collection, item[\"surface_form\"])\n",
    "            enrichments = parse_skg_response(skg_response)\n",
    "            query_tree[i] = {\"type\": \"skg_enriched\", \n",
    "                             \"enrichments\": enrichments}                    \n",
    "    return query_tree\n",
    "\n",
    "def transform_query(query_tree):\n",
    "    for i in range(len(query_tree)):\n",
    "        item = query_tree[i]\n",
    "        additional_query = \"\"\n",
    "        match item[\"type\"]:\n",
    "            case \"solr\":\n",
    "                pass\n",
    "            case \"skg_enriched\":\n",
    "                enrichments = item[\"enrichments\"]\n",
    "                query_string = \"\"\n",
    "                \n",
    "                if \"term_vector\" in enrichments:\n",
    "                    query_string = enrichments[\"term_vector\"]\n",
    "                if \"category\" in enrichments and len(query_string) > 0:\n",
    "                    query_string += f' +doc_type:\"{enrichments[\"category\"]}\"'\n",
    "                if (len(query_string) == 0):\n",
    "                    query_string = item[\"surface_form\"]\n",
    "                    \n",
    "                additional_query = '{!edismax v=\"' + escape_quotes_in_query(query_string) + '\"}'\n",
    "            case \"color\":\n",
    "                additional_query = f'+colors_s:\"{item[\"canonical_form\"]}\"'\n",
    "            case \"known_item\" | \"event\":\n",
    "                additional_query = f'+name_s:\"{item[\"canonical_form\"]}\"'\n",
    "            case \"city\":\n",
    "                additional_query = f'+city_t:\"{str(item[\"name\"])}\"'\n",
    "            case \"brand\":\n",
    "                additional_query = f'+brand_s:\"{item[\"canonical_form\"]}\"'\n",
    "            case _:\n",
    "                additional_query = \"+{!edismax v=\\\"\" + escape_quotes_in_query(item[\"surface_form\"]) + \"\\\"}\"\n",
    "        if additional_query:\n",
    "            query_tree[i] = {\"type\": \"solr\", \"query\": additional_query}                    \n",
    "    return query_tree\n",
    "\n",
    "def process_semantic_functions(query_tree):\n",
    "    position = 0\n",
    "    while position < len(query_tree):\n",
    "        item = query_tree[position]        \n",
    "        # process commands. For now, going left to right and then sorting by priority when ambiguous commands occur; \n",
    "        # consider other weighting options later.\n",
    "        if (item['type'] == \"semantic_function\"):\n",
    "            commandIsResolved = False\n",
    "    \n",
    "            command = item['semantic_function']\n",
    "\n",
    "            if (command):\n",
    "                query = {\"query_tree\": query_tree} #pass by-ref\n",
    "                commandIsResolved = eval(item['semantic_function']); #Careful... there is code in the docs that is being eval'd. \n",
    "                #MUST ENSURE THESE DOCS ARE SECURE, OTHERWISE THIS WILL INTRODUCE A POTENTIAL SECURITY THREAT (CODE INJECTION)\n",
    "            \n",
    "            #else:\n",
    "                #Alert (\"Error: \" + query.query_tree.canonical_form + \" has no command function.\");\n",
    "            \n",
    "            if (False == commandIsResolved):\n",
    "                #Bad command. Just remove for now... could alternatively keep it and run as a keyword\n",
    "                query_tree.pop(position) #.splice(position,1)  \n",
    "\n",
    "        position += 1\n",
    "\n",
    "    return query_tree "
   ]
  },
  {
   "cell_type": "code",
   "execution_count": 47,
   "metadata": {
    "tags": []
   },
   "outputs": [
    {
     "name": "stdout",
     "output_type": "stream",
     "text": [
      "{'responseHeader': {'zkConnected': True, 'status': 0, 'QTime': 1196, 'params': {'json': '{\"params\": {\"fore\": \"kimchi\", \"back\": \"*:*\", \"df\": \"text_t\"}, \"query\": \"*:*\", \"limit\": 0, \"facet\": {\"term_needing_vector\": {\"type\": \"query\", \"query\": \"kimchi\", \"facet\": {\"related_terms\": {\"type\": \"terms\", \"field\": \"text_t\", \"limit\": 3, \"sort\": {\"r1\": \"desc\"}, \"facet\": {\"r1\": \"relatedness($fore,$back)\"}}, \"doc_type\": {\"type\": \"terms\", \"field\": \"doc_type\", \"limit\": 1, \"sort\": {\"r2\": \"desc\"}, \"facet\": {\"r2\": \"relatedness($fore,$back)\"}}}}}}'}}, 'response': {'numFound': 192140, 'start': 0, 'numFoundExact': True, 'docs': []}, 'facets': {'count': 192140, 'term_needing_vector': {'count': 193, 'related_terms': {'buckets': [{'val': 'kimchi', 'count': 193, 'r1': {'relatedness': 0.91934, 'foreground_popularity': 0.001, 'background_popularity': 0.001}}, {'val': 'korean', 'count': 95, 'r1': {'relatedness': 0.7069, 'foreground_popularity': 0.00049, 'background_popularity': 0.00366}}, {'val': 'banchan', 'count': 22, 'r1': {'relatedness': 0.65933, 'foreground_popularity': 0.00011, 'background_popularity': 0.00027}}]}, 'doc_type': {'buckets': [{'val': 'Korean, Restaurants', 'count': 32, 'r2': {'relatedness': 0.63917, 'foreground_popularity': 0.00017, 'background_popularity': 0.00062}}]}}}}\n",
      "{'responseHeader': {'zkConnected': True, 'status': 0, 'QTime': 1196, 'params': {'json': '{\"params\": {\"fore\": \"kimchi\", \"back\": \"*:*\", \"df\": \"text_t\"}, \"query\": \"*:*\", \"limit\": 0, \"facet\": {\"term_needing_vector\": {\"type\": \"query\", \"query\": \"kimchi\", \"facet\": {\"related_terms\": {\"type\": \"terms\", \"field\": \"text_t\", \"limit\": 3, \"sort\": {\"r1\": \"desc\"}, \"facet\": {\"r1\": \"relatedness($fore,$back)\"}}, \"doc_type\": {\"type\": \"terms\", \"field\": \"doc_type\", \"limit\": 1, \"sort\": {\"r2\": \"desc\"}, \"facet\": {\"r2\": \"relatedness($fore,$back)\"}}}}}}'}}, 'response': {'numFound': 192140, 'start': 0, 'numFoundExact': True, 'docs': []}, 'facets': {'count': 192140, 'term_needing_vector': {'count': 193, 'related_terms': {'buckets': [{'val': 'kimchi', 'count': 193, 'r1': {'relatedness': 0.91934, 'foreground_popularity': 0.001, 'background_popularity': 0.001}}, {'val': 'korean', 'count': 95, 'r1': {'relatedness': 0.7069, 'foreground_popularity': 0.00049, 'background_popularity': 0.00366}}, {'val': 'banchan', 'count': 22, 'r1': {'relatedness': 0.65933, 'foreground_popularity': 0.00011, 'background_popularity': 0.00027}}]}, 'doc_type': {'buckets': [{'val': 'Korean, Restaurants', 'count': 32, 'r2': {'relatedness': 0.63917, 'foreground_popularity': 0.00017, 'background_popularity': 0.00062}}]}}}}\n",
      "{'type': 'skg_enriched', 'enrichments': {'category': 'Korean, Restaurants', 'term_vector': 'kimchi^0.9193 korean^0.7069 banchan^0.6593'}}\n"
     ]
    }
   ],
   "source": [
    "query = \"good kimchi in charlotte\"\n",
    "tagger_data = engine.tag_query(\"entities\", (bytes(query, \"utf-8\")))\n",
    "query_tree = generate_query_tree(query, tagger_data)\n",
    "enriched_query_tree = enrich(reviews_collection,query_tree)\n",
    "processed_query_tree = transform_query(enriched_query_tree)"
   ]
  },
  {
   "cell_type": "markdown",
   "metadata": {},
   "source": [
    "### Listing 7.12"
   ]
  },
  {
   "cell_type": "code",
   "execution_count": 48,
   "metadata": {},
   "outputs": [],
   "source": [
    "# %load -s to_query_string webserver/semantic_search/query_tree/__init__\n",
    "def to_query_string(query_tree):\n",
    "    return \" \".join([node[\"query\"] for node in query_tree])\n"
   ]
  },
  {
   "cell_type": "code",
   "execution_count": 49,
   "metadata": {
    "tags": []
   },
   "outputs": [
    {
     "data": {
      "text/plain": [
       "'+{!func v=\"mul(if(stars_i,stars_i,0),20)\"} {!edismax v=\"kimchi^0.9193 korean^0.7069 banchan^0.6593 +doc_type:\\\\\"Korean, Restaurants\\\\\"\"} +{!geofilt d=50 sfield=\"location_p\" pt=\"35.22709,-80.84313\"}'"
      ]
     },
     "execution_count": 49,
     "metadata": {},
     "output_type": "execute_result"
    }
   ],
   "source": [
    "query_string = to_query_string(query_tree)\n",
    "query_string"
   ]
  },
  {
   "cell_type": "code",
   "execution_count": 50,
   "metadata": {},
   "outputs": [
    {
     "data": {
      "text/plain": [
       "{'responseHeader': {'zkConnected': True,\n",
       "  'status': 0,\n",
       "  'QTime': 26,\n",
       "  'params': {'json': '{\"query\": \"+{!func v=\\\\\"mul(if(stars_i,stars_i,0),20)\\\\\"} {!edismax v=\\\\\"kimchi^0.9193 korean^0.7069 banchan^0.6593 +doc_type:\\\\\\\\\\\\\"Korean, Restaurants\\\\\\\\\\\\\"\\\\\"} +{!geofilt d=50 sfield=\\\\\"location_p\\\\\" pt=\\\\\"35.22709,-80.84313\\\\\"}\"}'}},\n",
       " 'response': {'numFound': 15842,\n",
       "  'start': 0,\n",
       "  'numFoundExact': True,\n",
       "  'docs': [{'id': 'aKzNK6aaOrlL688lkXrXNA',\n",
       "    'name_t': \"Immaculate Mic's\",\n",
       "    'city_t': 'Concord',\n",
       "    'state_t': 'NC',\n",
       "    'text_t': \"I do dog transports and was rescuing a Cane Corso from Vermont , when she got sick on the way home.  My daughter lives in Concord so I always stop there and decided to look up a detailing service.  I got a referral from Corso(Sweet Girl) had mad quite the mess with explosive diarrhea in the  the back of the car on the front passenger seat.  let's just say it was a god awful mess.  I contacted Immaculate Mic's after the referral and was happy to finally have someone that would take the job at a decent rate.  The did an excellent job and there was absolutely no hint that there had even been a mess in the car.  If you need this service for any reason I recommend them.  I am moving to the area from Alabama soon and they will doing my mobile auto cleaning and needs from now on.   I highly recommend them.  I was rescued from a bad situation if you know what I mean.\",\n",
       "    'stars_i': 5,\n",
       "    'categories_t': 'Home Cleaning, Automotive, Auto Detailing, Home Services, Car Wash',\n",
       "    'doc_type': ['Home Cleaning, Automotive, Auto Detailing, Home Services, Car Wash'],\n",
       "    'location_pt_s': '35.3717187,-80.6031602',\n",
       "    'location_p': '35.3717187,-80.6031602',\n",
       "    'type_ss': ['Home Cleaning, Automotive, Auto Detailing, Home Services, Car Wash'],\n",
       "    'latitude_d': 35.3717187,\n",
       "    'longitude_d': -80.6031602,\n",
       "    '_version_': 1788360579680829447},\n",
       "   {'id': '3ULTEwOOEFOLGsri-14ZIQ',\n",
       "    'name_t': 'The Southern Nest',\n",
       "    'city_t': 'Indian Land',\n",
       "    'state_t': 'SC',\n",
       "    'text_t': \"Absolutely in love with The Southern Nest.  They have such beautiful things, and are set up just perfectly.  I could wander in there forever and still find things I didn't see before.  The staff is wonderful, friendly and SO helpful.  I was looking for something containing cardinals, angels, or butterflies, and they led me to what they had.......which was wonderful.  I go back there again and again. They always have something new and different!\",\n",
       "    'stars_i': 5,\n",
       "    'categories_t': 'Accessories, Fashion, Home & Garden, Gift Shops, Furniture Stores, Shopping, Home Decor, Flowers & Gifts',\n",
       "    'doc_type': ['Accessories, Fashion, Home & Garden, Gift Shops, Furniture Stores, Shopping, Home Decor, Flowers & Gifts'],\n",
       "    'location_pt_s': '34.937489,-80.83827',\n",
       "    'location_p': '34.937489,-80.83827',\n",
       "    'type_ss': ['Accessories, Fashion, Home & Garden, Gift Shops, Furniture Stores, Shopping, Home Decor, Flowers & Gifts'],\n",
       "    'latitude_d': 34.937489,\n",
       "    'longitude_d': -80.83827,\n",
       "    '_version_': 1788360579682926600},\n",
       "   {'id': 'g8j1m9_GaCvQGPcvNTn6dQ',\n",
       "    'name_t': 'Split Second Sound',\n",
       "    'city_t': 'Stallings',\n",
       "    'state_t': 'NC',\n",
       "    'text_t': 'LOVE LOVE LOVE their new location uptown. Vinny was awesome! I will defiantly use them again. :)',\n",
       "    'stars_i': 5,\n",
       "    'categories_t': 'Event Planning & Services, Amusement Parks, Party & Event Planning, DJs, Active Life',\n",
       "    'doc_type': ['Event Planning & Services, Amusement Parks, Party & Event Planning, DJs, Active Life'],\n",
       "    'location_pt_s': '35.075774,-80.695902',\n",
       "    'location_p': '35.075774,-80.695902',\n",
       "    'type_ss': ['Event Planning & Services, Amusement Parks, Party & Event Planning, DJs, Active Life'],\n",
       "    'latitude_d': 35.075774,\n",
       "    'longitude_d': -80.695902,\n",
       "    '_version_': 1788360579685023744},\n",
       "   {'id': '8ldY6-AZ5uRocBCzhaYtRQ',\n",
       "    'name_t': 'Mattress Firm Stonecrest at Piper Glen',\n",
       "    'city_t': 'Charlotte',\n",
       "    'state_t': 'NC',\n",
       "    'text_t': 'Bought our mattress here- customer service was rock solid and helpful.  All good!  Would buy from them again.  Free delivery',\n",
       "    'stars_i': 5,\n",
       "    'categories_t': 'Home Decor, Home & Garden, Shopping, Mattresses, Furniture Stores',\n",
       "    'doc_type': ['Home Decor, Home & Garden, Shopping, Mattresses, Furniture Stores'],\n",
       "    'location_pt_s': '35.0591334,-80.8130775',\n",
       "    'location_p': '35.0591334,-80.8130775',\n",
       "    'type_ss': ['Home Decor, Home & Garden, Shopping, Mattresses, Furniture Stores'],\n",
       "    'latitude_d': 35.0591334,\n",
       "    'longitude_d': -80.8130775,\n",
       "    '_version_': 1788360579705995269},\n",
       "   {'id': 'rpK6XXAfFZIVb2amLgjDDg',\n",
       "    'name_t': \"Carolina Buyer's Agent\",\n",
       "    'city_t': 'Charlotte',\n",
       "    'state_t': 'NC',\n",
       "    'text_t': \"This is our 5th house buy, and Julie is the best agent we have ever used.  I wouldn't hesitate to recommend her to everyone. \\n\\nWe are new to the area, so her attention to detail and knowledge of North Carolina real estate law saved us money and time, right up to a mistake she caught at closing that put over $600 right back in our pocket.\\n\\nJulie is warm, savvy, and a pleasure to work with.  She was available everytime we called, and proactive if she saw potential problems, never hesitating to go directly to the seller to advocate for us.\\n\\nShe listened to our wants and needs to help us find not only the perfect home but the perfect neighborhood.  I trust Julie 100%, and can't thank her enough for a painless experience, at least on our part.  We love our new home!\",\n",
       "    'stars_i': 5,\n",
       "    'categories_t': 'Real Estate Services, Real Estate, Home Services, Real Estate Agents',\n",
       "    'doc_type': ['Real Estate Services, Real Estate, Home Services, Real Estate Agents'],\n",
       "    'location_pt_s': '35.2146586,-80.8599193',\n",
       "    'location_p': '35.2146586,-80.8599193',\n",
       "    'type_ss': ['Real Estate Services, Real Estate, Home Services, Real Estate Agents'],\n",
       "    'latitude_d': 35.2146586,\n",
       "    'longitude_d': -80.8599193,\n",
       "    '_version_': 1788360579707043846},\n",
       "   {'id': '8zNQi5KdmsHSotMMMledWg',\n",
       "    'name_t': 'Fine & Fancy Flowers',\n",
       "    'city_t': 'Gastonia',\n",
       "    'state_t': 'NC',\n",
       "    'text_t': \"I needed a floral arrangement for a memorial service where there were 9 people contributing . Not only was the European basket beautiful, tasteful and carefully arranged but the floral colors were uplifting and fit perfectly with the lady to whom they were a tribute .  The pictures don't do it justice - but it was placed below the lectern and absolutely perfect!\",\n",
       "    'stars_i': 5,\n",
       "    'categories_t': 'Beer, Wine & Spirits, Floral Designers, Food, Event Planning & Services, Flowers & Gifts, Shopping, Florists, Gift Shops',\n",
       "    'doc_type': ['Beer, Wine & Spirits, Floral Designers, Food, Event Planning & Services, Flowers & Gifts, Shopping, Florists, Gift Shops'],\n",
       "    'location_pt_s': '35.2483461,-81.1902773',\n",
       "    'location_p': '35.2483461,-81.1902773',\n",
       "    'type_ss': ['Beer, Wine & Spirits, Floral Designers, Food, Event Planning & Services, Flowers & Gifts, Shopping, Florists, Gift Shops'],\n",
       "    'latitude_d': 35.2483461,\n",
       "    'longitude_d': -81.1902773,\n",
       "    '_version_': 1788360579707043847},\n",
       "   {'id': 'z3FpxjZOsRy77e_C5nPtnw',\n",
       "    'name_t': 'Carolina Dental Arts',\n",
       "    'city_t': 'Charlotte',\n",
       "    'state_t': 'NC',\n",
       "    'text_t': 'This is an excellent outstanding dental practice.  I am in the process of getting two crowns and it has all gone extremely well. The folks at the front desk are highly knowledgeable about insurance with all of the nuances for coverage.  They are also able to work with you if you are on a budget to make sure that you can get the dental care that you need. I have brought all three of my children and my wife for cleaning and exams and they are all extremely impressed with the service and professionalism and care that they received.',\n",
       "    'stars_i': 5,\n",
       "    'categories_t': 'Orthodontists, Endodontists, Cosmetic Dentists, Health & Medical, Dentists, General Dentistry',\n",
       "    'doc_type': ['Orthodontists, Endodontists, Cosmetic Dentists, Health & Medical, Dentists, General Dentistry'],\n",
       "    'location_pt_s': '35.0297207,-80.8082056',\n",
       "    'location_p': '35.0297207,-80.8082056',\n",
       "    'type_ss': ['Orthodontists, Endodontists, Cosmetic Dentists, Health & Medical, Dentists, General Dentistry'],\n",
       "    'latitude_d': 35.0297207,\n",
       "    'longitude_d': -80.8082056,\n",
       "    '_version_': 1788360579708092417},\n",
       "   {'id': '8FPeT8aBofbHqnFsOHXXGg',\n",
       "    'name_t': 'Sport Clips Haircuts of Cornelius',\n",
       "    'city_t': 'Cornelius',\n",
       "    'state_t': 'NC',\n",
       "    'text_t': 'Love getting my hair cut here.  Great service and never have to wait very long.  I highly recommend Sport Clips Cornelius.',\n",
       "    'stars_i': 5,\n",
       "    'categories_t': \"Hair Salons, Beauty & Spas, Barbers, Hair Stylists, Men's Hair Salons\",\n",
       "    'doc_type': [\"Hair Salons, Beauty & Spas, Barbers, Hair Stylists, Men's Hair Salons\"],\n",
       "    'location_pt_s': '35.4859056856,-80.8782835212',\n",
       "    'location_p': '35.4859056856,-80.8782835212',\n",
       "    'type_ss': [\"Hair Salons, Beauty & Spas, Barbers, Hair Stylists, Men's Hair Salons\"],\n",
       "    'latitude_d': 35.4859056856,\n",
       "    'longitude_d': -80.8782835212,\n",
       "    '_version_': 1788360579716481025},\n",
       "   {'id': 'ARwEuk7beLcNPUK-HLmVBw',\n",
       "    'name_t': 'Sticks & Stones Acupuncture',\n",
       "    'city_t': 'Charlotte',\n",
       "    'state_t': 'NC',\n",
       "    'text_t': 'I love coming here. Everyone is nice in the building. I get quality care. I see a difference with the acupuncture. I highly recommend it.',\n",
       "    'stars_i': 5,\n",
       "    'categories_t': 'Acupuncture, Traditional Chinese Medicine, Health & Medical',\n",
       "    'doc_type': ['Acupuncture, Traditional Chinese Medicine, Health & Medical'],\n",
       "    'location_pt_s': '35.3493084,-80.8549308',\n",
       "    'location_p': '35.3493084,-80.8549308',\n",
       "    'type_ss': ['Acupuncture, Traditional Chinese Medicine, Health & Medical'],\n",
       "    'latitude_d': 35.3493084,\n",
       "    'longitude_d': -80.8549308,\n",
       "    '_version_': 1788360579719626756},\n",
       "   {'id': 'OpkSpN32qCkbAbZRsPpfgw',\n",
       "    'name_t': 'Collins Cleaners',\n",
       "    'city_t': 'Charlotte',\n",
       "    'state_t': 'NC',\n",
       "    'text_t': 'My favorite Cleaners!  They do quality work, dry cleaning, shirt laundry, wedding dress preservation, and wash dry fold for laundry too.  They also have pick up and delivery. Check out their convenient App too.',\n",
       "    'stars_i': 5,\n",
       "    'categories_t': 'Dry Cleaning & Laundry, Sewing & Alterations, Shoe Repair, Local Services, Dry Cleaning, Laundry Services',\n",
       "    'doc_type': ['Dry Cleaning & Laundry, Sewing & Alterations, Shoe Repair, Local Services, Dry Cleaning, Laundry Services'],\n",
       "    'location_pt_s': '35.280501,-80.89876',\n",
       "    'location_p': '35.280501,-80.89876',\n",
       "    'type_ss': ['Dry Cleaning & Laundry, Sewing & Alterations, Shoe Repair, Local Services, Dry Cleaning, Laundry Services'],\n",
       "    'latitude_d': 35.280501,\n",
       "    'longitude_d': -80.89876,\n",
       "    '_version_': 1788360579723821057}]}}"
      ]
     },
     "execution_count": 50,
     "metadata": {},
     "output_type": "execute_result"
    }
   ],
   "source": [
    "reviews_collection = engine.get_collection(\"reviews\")\n",
    "request = {\"query\": query_string}\n",
    "response = reviews_collection.search(request)\n",
    "response"
   ]
  },
  {
   "cell_type": "code",
   "execution_count": null,
   "metadata": {
    "tags": []
   },
   "outputs": [],
   "source": [
    "%%html\n",
    "<iframe src=\"http://localhost:2345/semantic-search?q=good+kimchi+near+charlotte&submit=true\" width=100% height=\"800\"></iframe>"
   ]
  },
  {
   "cell_type": "code",
   "execution_count": null,
   "metadata": {
    "tags": []
   },
   "outputs": [],
   "source": [
    "#Cleanup so webserver doesn't keep running after you're done\n",
    "stop_running_webservers()"
   ]
  },
  {
   "cell_type": "markdown",
   "metadata": {},
   "source": [
    "## Success!\n",
    "\n",
    "Up next: Chapter 8 - [Signals Boosting Models](../ch08/1.signals-boosting.ipynb)"
   ]
  }
 ],
 "metadata": {
  "kernelspec": {
   "display_name": "Python 3 (ipykernel)",
   "language": "python",
   "name": "python3"
  }
 },
 "nbformat": 4,
 "nbformat_minor": 2
}
