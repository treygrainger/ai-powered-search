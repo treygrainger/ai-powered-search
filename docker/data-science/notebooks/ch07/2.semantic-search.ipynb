{
 "cells": [
  {
   "cell_type": "markdown",
   "metadata": {},
   "source": [
    "# Semantic Search Application"
   ]
  },
  {
   "cell_type": "code",
   "execution_count": 1,
   "metadata": {},
   "outputs": [],
   "source": [
    "import sys\n",
    "sys.path.append('..')\n",
    "sys.path.append(\"../webserver\")\n",
    "from aips import *\n",
    "from webserver.semantic_search import *\n",
    "from webserver.semantic_search.engine import *\n",
    "from webserver.semantic_search.engine.text_tagger import *\n",
    "from webserver.semantic_search.query_tree import *\n",
    "engine = get_engine()"
   ]
  },
  {
   "cell_type": "markdown",
   "metadata": {},
   "source": [
    "## Starting the Reviews Search Web Server and Launching the Search Page"
   ]
  },
  {
   "cell_type": "code",
   "execution_count": 8,
   "metadata": {},
   "outputs": [],
   "source": [
    "def get_running_webservers():\n",
    "    already_running_webservers = ! ps -ef | grep '[s]tart-webserver.py' | awk '{print $2}'\n",
    "    return already_running_webservers\n",
    "    \n",
    "def stop_running_webservers():\n",
    "    already_running_webservers = get_running_webservers()\n",
    "    for pid in already_running_webservers:\n",
    "        print(\"Stopping webserver (pid: \" + pid + \")\")\n",
    "        results = ! xargs kill -9 {pid}\n",
    "\n",
    "def start_reviews_search_webserver():\n",
    "    stop_running_webservers() #in case it was already running\n",
    "    get_ipython().system = os.system\n",
    "    ! cd ../webserver && python start-webserver.py &\n",
    "    if len(get_running_webservers()) > 0:\n",
    "        print(\"Successfully Started Webserver (pid: \" + get_running_webservers()[0] + \")!\")"
   ]
  },
  {
   "cell_type": "markdown",
   "metadata": {},
   "source": [
    "### Listing 7.2"
   ]
  },
  {
   "cell_type": "code",
   "execution_count": 9,
   "metadata": {},
   "outputs": [],
   "source": [
    "#Start the web server\n",
    "start_reviews_search_webserver()\n"
   ]
  },
  {
   "cell_type": "markdown",
   "metadata": {},
   "source": [
    "### Figure 7.2"
   ]
  },
  {
   "cell_type": "code",
   "execution_count": 10,
   "metadata": {},
   "outputs": [
    {
     "data": {
      "text/html": [
       "<iframe src=\"http://localhost:2345/search\" width=100% height=\"800\"></iframe>\n"
      ],
      "text/plain": [
       "<IPython.core.display.HTML object>"
      ]
     },
     "metadata": {},
     "output_type": "display_data"
    }
   ],
   "source": [
    "%%html\n",
    "<iframe src=\"http://localhost:2345/search\" width=100% height=\"800\"></iframe>\n"
   ]
  },
  {
   "cell_type": "markdown",
   "metadata": {},
   "source": [
    "### Figure 7.3"
   ]
  },
  {
   "cell_type": "code",
   "execution_count": 11,
   "metadata": {
    "tags": []
   },
   "outputs": [
    {
     "data": {
      "text/html": [
       "<iframe src=\"http://localhost:2345/search?q=bbq+near+charlotte\" width=100% height=\"800\"></iframe>\n"
      ],
      "text/plain": [
       "<IPython.core.display.HTML object>"
      ]
     },
     "metadata": {},
     "output_type": "display_data"
    }
   ],
   "source": [
    "%%html\n",
    "<iframe src=\"http://localhost:2345/search?q=bbq+near+charlotte\" width=100% height=\"800\"></iframe>"
   ]
  },
  {
   "cell_type": "markdown",
   "metadata": {
    "tags": []
   },
   "source": [
    "### Figure 7.4"
   ]
  },
  {
   "cell_type": "code",
   "execution_count": 12,
   "metadata": {
    "tags": []
   },
   "outputs": [
    {
     "data": {
      "text/html": [
       "<iframe src=\"http://localhost:2345/search?q=bbq+charlotte\" width=100% height=\"800\"></iframe>\n"
      ],
      "text/plain": [
       "<IPython.core.display.HTML object>"
      ]
     },
     "metadata": {},
     "output_type": "display_data"
    }
   ],
   "source": [
    "%%html\n",
    "<iframe src=\"http://localhost:2345/search?q=bbq+charlotte\" width=100% height=\"800\"></iframe>"
   ]
  },
  {
   "cell_type": "markdown",
   "metadata": {
    "tags": []
   },
   "source": [
    "### Figure 7.5"
   ]
  },
  {
   "cell_type": "code",
   "execution_count": 13,
   "metadata": {
    "tags": []
   },
   "outputs": [
    {
     "data": {
      "text/html": [
       "<iframe src=\"http://localhost:2345/semantic-search?q=top+kimchi+near+charlotte&submit=false\" width=100% height=\"800\"></iframe>\n"
      ],
      "text/plain": [
       "<IPython.core.display.HTML object>"
      ]
     },
     "metadata": {},
     "output_type": "display_data"
    }
   ],
   "source": [
    "%%html\n",
    "<iframe src=\"http://localhost:2345/semantic-search?q=top+kimchi+near+charlotte&submit=false\" width=100% height=\"800\"></iframe>"
   ]
  },
  {
   "cell_type": "markdown",
   "metadata": {
    "tags": []
   },
   "source": [
    "### Figure 7.6"
   ]
  },
  {
   "cell_type": "code",
   "execution_count": 14,
   "metadata": {
    "tags": []
   },
   "outputs": [
    {
     "data": {
      "text/html": [
       "<iframe src=\"http://localhost:2345/search?q=top+korean+bbq+near+charlotte&submit=false\" width=100% height=\"800\"></iframe>\n"
      ],
      "text/plain": [
       "<IPython.core.display.HTML object>"
      ]
     },
     "metadata": {},
     "output_type": "display_data"
    }
   ],
   "source": [
    "%%html\n",
    "<iframe src=\"http://localhost:2345/search?q=top+korean+bbq+near+charlotte&submit=false\" width=100% height=\"800\"></iframe>"
   ]
  },
  {
   "cell_type": "markdown",
   "metadata": {
    "tags": []
   },
   "source": [
    "### Figure 7.7"
   ]
  },
  {
   "cell_type": "code",
   "execution_count": 15,
   "metadata": {
    "tags": []
   },
   "outputs": [
    {
     "data": {
      "text/html": [
       "<iframe src=\"http://localhost:2345/semantic-search?q=top+korean+bbq+near+charlotte&submit=true\" width=100% height=\"800\"></iframe>\n"
      ],
      "text/plain": [
       "<IPython.core.display.HTML object>"
      ]
     },
     "metadata": {},
     "output_type": "display_data"
    }
   ],
   "source": [
    "%%html\n",
    "<iframe src=\"http://localhost:2345/semantic-search?q=top+korean+bbq+near+charlotte&submit=true\" width=100% height=\"800\"></iframe>"
   ]
  },
  {
   "cell_type": "markdown",
   "metadata": {},
   "source": [
    "### Listing 7.3"
   ]
  },
  {
   "cell_type": "code",
   "execution_count": 16,
   "metadata": {},
   "outputs": [
    {
     "data": {
      "text/plain": [
       "['cat: ../data/reviews/entities.csv: No such file or directory']"
      ]
     },
     "execution_count": 16,
     "metadata": {},
     "output_type": "execute_result"
    }
   ],
   "source": [
    "!! cat ../data/reviews/entities.csv"
   ]
  },
  {
   "cell_type": "markdown",
   "metadata": {},
   "source": [
    "### Listing 7.4 : [located here](../ch07/1.index-datasets.ipynb#Listing-7.4)."
   ]
  },
  {
   "cell_type": "markdown",
   "metadata": {},
   "source": [
    "### Listing 7.5 : [located here](../ch07/1.index-datasets.ipynb#Listing-7.5)."
   ]
  },
  {
   "cell_type": "markdown",
   "metadata": {},
   "source": [
    "### Listing 7.6"
   ]
  },
  {
   "cell_type": "code",
   "execution_count": 53,
   "metadata": {
    "tags": []
   },
   "outputs": [
    {
     "data": {
      "text/plain": [
       "{'responseHeader': {'status': 0,\n",
       "  'QTime': 0,\n",
       "  'params': {'json.nl': 'map',\n",
       "   'field': 'name_tag',\n",
       "   'echoParams': 'all',\n",
       "   'fl': 'id,type,canonical_form,surface_form,name,country:countrycode_s,\\nadmin_area:admin_code_1_s,popularity,*_p,semantic_function',\n",
       "   'sort': 'popularity desc',\n",
       "   'matchText': 'true'}},\n",
       " 'tagsCount': 3,\n",
       " 'tags': [{'startOffset': 0, 'endOffset': 3, 'matchText': 'top', 'ids': ['7']},\n",
       "  {'startOffset': 11, 'endOffset': 15, 'matchText': 'near', 'ids': ['1', '5']},\n",
       "  {'startOffset': 16,\n",
       "   'endOffset': 25,\n",
       "   'matchText': 'charlotte',\n",
       "   'ids': ['4460243', '4612828', '4680560', '4988584', '5234793']}],\n",
       " 'response': {'numFound': 8,\n",
       "  'start': 0,\n",
       "  'numFoundExact': True,\n",
       "  'docs': [{'id': '1',\n",
       "    'surface_form': 'near',\n",
       "    'canonical_form': '{location_distance}',\n",
       "    'type': 'semantic_function',\n",
       "    'popularity': 90,\n",
       "    'semantic_function': 'location_distance(query, position)'},\n",
       "   {'id': '5',\n",
       "    'surface_form': 'near',\n",
       "    'canonical_form': '{text_distance}',\n",
       "    'type': 'semantic_function',\n",
       "    'popularity': 10,\n",
       "    'semantic_function': 'text_distance(query, position)'},\n",
       "   {'id': '7',\n",
       "    'surface_form': 'top',\n",
       "    'canonical_form': '{popular}',\n",
       "    'type': 'semantic_function',\n",
       "    'popularity': 100,\n",
       "    'semantic_function': 'popularity(query, position)'},\n",
       "   {'id': '4460243',\n",
       "    'name': 'Charlotte',\n",
       "    'canonical_form': 'Charlotte',\n",
       "    'surface_form': 'Charlotte',\n",
       "    'popularity': 827097,\n",
       "    'type': 'city',\n",
       "    'location_p': '35.22709,-80.84313',\n",
       "    'admin_area': 'NC'},\n",
       "   {'id': '4612828',\n",
       "    'name': 'Charlotte',\n",
       "    'canonical_form': 'Charlotte',\n",
       "    'surface_form': 'Charlotte',\n",
       "    'popularity': 1506,\n",
       "    'type': 'city',\n",
       "    'location_p': '36.17728,-87.33973',\n",
       "    'admin_area': 'TN'},\n",
       "   {'id': '4680560',\n",
       "    'name': 'Charlotte',\n",
       "    'canonical_form': 'Charlotte',\n",
       "    'surface_form': 'Charlotte',\n",
       "    'popularity': 1815,\n",
       "    'type': 'city',\n",
       "    'location_p': '28.86192,-98.70641',\n",
       "    'admin_area': 'TX'},\n",
       "   {'id': '4988584',\n",
       "    'name': 'Charlotte',\n",
       "    'canonical_form': 'Charlotte',\n",
       "    'surface_form': 'Charlotte',\n",
       "    'popularity': 9054,\n",
       "    'type': 'city',\n",
       "    'location_p': '42.56365,-84.83582',\n",
       "    'admin_area': 'MI'},\n",
       "   {'id': '5234793',\n",
       "    'name': 'Charlotte',\n",
       "    'canonical_form': 'Charlotte',\n",
       "    'surface_form': 'Charlotte',\n",
       "    'popularity': 3861,\n",
       "    'type': 'city',\n",
       "    'location_p': '44.30977,-73.26096',\n",
       "    'admin_area': 'VT'}]}}"
      ]
     },
     "execution_count": 53,
     "metadata": {},
     "output_type": "execute_result"
    }
   ],
   "source": [
    "params = \"\"\"\n",
    "json.nl=map&sort=popularity%20desc&matchText=true&echoParams=all&\n",
    "fl=id,type,canonical_form,surface_form,name,country:countrycode_s,\n",
    "admin_area:admin_code_1_s,popularity,*_p,semantic_function\"\"\"\n",
    "query = \"top kimchi near charlotte\"\n",
    "tagger = TextTagger(\"entities\")\n",
    "tagger_data = tagger.tag_query(query, params)\n",
    "tagger_data"
   ]
  },
  {
   "cell_type": "markdown",
   "metadata": {},
   "source": [
    "### Listing 7.7"
   ]
  },
  {
   "cell_type": "code",
   "execution_count": 54,
   "metadata": {},
   "outputs": [],
   "source": [
    "# %load -s process_semantic_query ../webserver/semantic_search/__init__.py\n",
    "def process_semantic_query(collection, query):\n",
    "    query_bytes = bytes(query, \"UTF-8\")\n",
    "    tagger_data = TextTagger(\"entities\").tag_query(query_bytes)\n",
    "    \n",
    "    tagged_query = generate_tagged_query(query, tagger_data)\n",
    "    query_tree = generate_query_tree(query, tagger_data)\n",
    "    parsed_query = json.dumps(query_tree)\n",
    "    enriched_query_tree = enrich(collection, query_tree)\n",
    "    transformed = transform_query(enriched_query_tree)\n",
    "    \n",
    "    return {\n",
    "        \"tagged_query\": tagged_query,\n",
    "        \"parsed_query\": parsed_query, \n",
    "        \"transformed_query\": to_query_string(transformed),\n",
    "        \"tagger_data\": tagger_data\n",
    "    }\n"
   ]
  },
  {
   "cell_type": "code",
   "execution_count": 55,
   "metadata": {
    "tags": []
   },
   "outputs": [
    {
     "name": "stdout",
     "output_type": "stream",
     "text": [
      "Tagged Query: {top} kimchi {near} {charlotte}\n",
      "\n",
      "Parsed Query:[{\"id\": \"7\", \"surface_form\": \"top\", \"canonical_form\": \"{popular}\", \"type\": \"semantic_function\", \"popularity\": 100, \"semantic_function\": \"popularity(query, position)\"}, {\"type\": \"keyword\", \"known\": false, \"surface_form\": \"kimchi\", \"canonical_form\": \"kimchi\"}, {\"id\": \"1\", \"surface_form\": \"near\", \"canonical_form\": \"{location_distance}\", \"type\": \"semantic_function\", \"popularity\": 90, \"semantic_function\": \"location_distance(query, position)\"}, {\"id\": \"4460243\", \"name\": \"Charlotte\", \"canonical_form\": \"Charlotte\", \"surface_form\": \"Charlotte\", \"popularity\": 827097, \"type\": \"city\", \"location_p\": \"35.22709,-80.84313\", \"admin_area\": \"NC\"}]\n",
      "\n",
      "Transformed Query:+{!func v=\"mul(if(stars_i,stars_i,0),20)\"} {!edismax v=\"kimchi^0.9193 korean^0.7069 banchan^0.6593 +doc_type:\\\"Korean\\\"\"} +{!geofilt d=50 sfield=\"location_p\" pt=\"35.22709,-80.84313\"}\n"
     ]
    }
   ],
   "source": [
    "reviews_collection = engine.get_collection(\"reviews\")\n",
    "query = \"top kimchi near charlotte\"\n",
    "\n",
    "processed_query = process_semantic_query(reviews_collection, query)\n",
    "\n",
    "print(\"Tagged Query:\" + processed_query[\"tagged_query\"])\n",
    "print(\"\\nParsed Query:\" + processed_query[\"parsed_query\"])\n",
    "print(\"\\nTransformed Query:\" + processed_query[\"transformed_query\"])"
   ]
  },
  {
   "cell_type": "markdown",
   "metadata": {},
   "source": [
    "### Listing 7.8"
   ]
  },
  {
   "cell_type": "code",
   "execution_count": 24,
   "metadata": {},
   "outputs": [],
   "source": [
    "# %load -s popularity ../webserver/semantic_search/semantic_functions/__init__.py\n",
    "def popularity(query, position):\n",
    "    if (len(query[\"query_tree\"]) -1 > position):\n",
    "        query[\"query_tree\"][position] = {\n",
    "            \"type\": \"engine\",\n",
    "            \"query\": '+{!func v=\"mul(if(stars_i,stars_i,0),20)\"}'}\n",
    "        return True\n",
    "    else:\n",
    "        return False\n"
   ]
  },
  {
   "cell_type": "markdown",
   "metadata": {},
   "source": [
    "### Listing 7.9"
   ]
  },
  {
   "cell_type": "code",
   "execution_count": 25,
   "metadata": {},
   "outputs": [],
   "source": [
    "# %load -s location_distance,create_geo_filter ../webserver/semantic_search/semantic_functions/__init__.py\n",
    "def location_distance(query, position):\n",
    "    if (len(query[\"query_tree\"]) -1 > position):\n",
    "        next_entity = query[\"query_tree\"][position + 1]\n",
    "        if (next_entity[\"type\"] == \"city\"):\n",
    "            query[\"query_tree\"].pop(position + 1)\n",
    "            query[\"query_tree\"][position] = {\n",
    "                \"type\": \"engine\",\n",
    "                \"query\": create_geo_filter(next_entity['location_p'],\n",
    "                \"location_p\", 50)}\n",
    "            return True\n",
    "    return False\n",
    "\n",
    "def create_geo_filter(coordinates, field, distance_in_KM):\n",
    "    return \"+{!geofilt d=\" + str(distance_in_KM) + ' sfield=\"' + field + '\" pt=\"' + coordinates + '\"}'\n"
   ]
  },
  {
   "cell_type": "markdown",
   "metadata": {},
   "source": [
    "### Listing 7.10"
   ]
  },
  {
   "cell_type": "code",
   "execution_count": 49,
   "metadata": {
    "tags": []
   },
   "outputs": [],
   "source": [
    "# %load -s traverse_skg,parse_skg_response ../webserver/semantic_search/engine/semantic_knowledge_graph.py\n",
    "def traverse_skg(collection, keyword):\n",
    "    query = {\n",
    "        \"params\": {\"fore\": keyword, \"back\": \"*:*\", \"df\": \"text_t\"},\n",
    "        \"query\": \"*:*\", \"limit\": 0,\n",
    "        \"facet\": {\n",
    "            \"term_needing_vector\": {\n",
    "                \"type\": \"query\", \"query\": keyword,\n",
    "                \"facet\": {\n",
    "                    \"related_terms\": {\n",
    "                        \"type\": \"terms\", \"field\": \"text_t\",\n",
    "                        \"limit\": 3, \"sort\": {\"r1\": \"desc\"},\n",
    "                        \"facet\": {\"r1\": \"relatedness($fore,$back)\"}},\n",
    "                \"doc_type\": {\n",
    "                    \"type\": \"terms\", \"field\": \"doc_type\",\n",
    "                    \"limit\": 1, \"sort\": {\"r2\": \"desc\"},\n",
    "                    \"facet\": {\"r2\": \"relatedness($fore,$back)\"}}}}}}    \n",
    "    return collection.search(query)\n",
    "\n",
    "def parse_skg_response(skg_response):\n",
    "    parsed = {}\n",
    "    related_term_nodes = {}\n",
    "    if \"facets\" in skg_response and \"term_needing_vector\" in skg_response[\"facets\"]:    \n",
    "        if (\"doc_type\" in skg_response[\"facets\"][\"term_needing_vector\"] and \n",
    "            \"buckets\" in skg_response[\"facets\"][\"term_needing_vector\"][\"doc_type\"] and\n",
    "            len(skg_response[\"facets\"][\"term_needing_vector\"][\"doc_type\"][\"buckets\"]) > 0):\n",
    "            parsed[\"category\"] = skg_response[\"facets\"][\"term_needing_vector\"][\"doc_type\"][\"buckets\"][0][\"val\"] #just top one for now\n",
    "    \n",
    "        if (\"related_terms\" in skg_response[\"facets\"][\"term_needing_vector\"] \n",
    "            and \"buckets\" in skg_response[\"facets\"][\"term_needing_vector\"][\"related_terms\"] \n",
    "          and len(skg_response[\"facets\"][\"term_needing_vector\"][\"related_terms\"][\"buckets\"]) > 0): #at least one entry    \n",
    "            related_term_nodes = skg_response[\"facets\"][\"term_needing_vector\"][\"related_terms\"][\"buckets\"]\n",
    "                \n",
    "    term_vector = \"\"\n",
    "    for related_term_node in related_term_nodes:\n",
    "        if len(term_vector) > 0: term_vector += \" \" \n",
    "        term_vector += related_term_node[\"val\"] + \"^\" + \"{:.4f}\".format(related_term_node[\"r1\"][\"relatedness\"])\n",
    "    \n",
    "    parsed[\"term_vector\"] = term_vector\n",
    "\n",
    "    return parsed\n"
   ]
  },
  {
   "cell_type": "code",
   "execution_count": 29,
   "metadata": {
    "tags": []
   },
   "outputs": [
    {
     "data": {
      "text/plain": [
       "{'category': 'Korean',\n",
       " 'term_vector': 'kimchi^0.9193 korean^0.7069 banchan^0.6593'}"
      ]
     },
     "execution_count": 29,
     "metadata": {},
     "output_type": "execute_result"
    }
   ],
   "source": [
    "query = \"kimchi\"\n",
    "reviews_collection = engine.get_collection(\"reviews\")\n",
    "skg_response = traverse_skg(reviews_collection, query)\n",
    "parse_skg_response(skg_response)"
   ]
  },
  {
   "cell_type": "code",
   "execution_count": 30,
   "metadata": {
    "tags": []
   },
   "outputs": [
    {
     "name": "stdout",
     "output_type": "stream",
     "text": [
      "bbq: {'category': 'Barbeque', 'term_vector': 'bbq^0.9191 ribs^0.6186 pork^0.5991'}\n",
      "korean bbq: {'category': 'Korean', 'term_vector': 'bbq^0.9052 korean^0.8641 pork^0.6079'}\n",
      "lasagna: {'category': 'Italian', 'term_vector': 'lasagna^0.9193 alfredo^0.3992 pasta^0.3909'}\n",
      "karaoke: {'category': 'Karaoke', 'term_vector': 'karaoke^0.9193 sing^0.6423 songs^0.5256'}\n",
      "drive through: {'category': 'Fast Food', 'term_vector': 'through^0.8999 drive^0.8613 thru^0.6118'}\n"
     ]
    }
   ],
   "source": [
    "def skg(query):\n",
    "    return parse_skg_response(traverse_skg(reviews_collection, query))\n",
    "\n",
    "other_queries = [\"bbq\", \"korean bbq\", \"lasagna\", \"karaoke\", \"drive through\"]\n",
    "for query in other_queries: print(f\"{query}: {skg(query)}\")\n"
   ]
  },
  {
   "cell_type": "markdown",
   "metadata": {},
   "source": [
    "### Listing 7.11"
   ]
  },
  {
   "cell_type": "code",
   "execution_count": null,
   "metadata": {},
   "outputs": [],
   "source": [
    "# %load ../webserver/semantic_search/query_tree/__init__.py\n",
    "def escape_quotes_in_query(query):\n",
    "    return query.replace('\"', '\\\\\"')\n",
    "\n",
    "def to_query_string(query_tree):\n",
    "    return \" \".join([node[\"query\"] for node in query_tree])\n",
    "\n",
    "def enrich(collection, query_tree):\n",
    "    query_tree = process_semantic_functions(query_tree)    \n",
    "    for i in range(len(query_tree)):\n",
    "        item = query_tree[i]\n",
    "        if item[\"type\"] == \"keyword\":\n",
    "            skg_response = traverse_skg(collection, item[\"surface_form\"])\n",
    "            enrichments = parse_skg_response(skg_response)\n",
    "            query_tree[i] = {\"type\": \"skg_enriched\", \n",
    "                             \"enrichments\": enrichments}                    \n",
    "    return query_tree\n",
    "\n",
    "def transform_query(query_tree):\n",
    "    for i in range(len(query_tree)):\n",
    "        item = query_tree[i]\n",
    "        additional_query = \"\"\n",
    "        match item[\"type\"]:\n",
    "            case \"engine\":\n",
    "                pass\n",
    "            case \"skg_enriched\":\n",
    "                enrichments = item[\"enrichments\"]\n",
    "                query_string = \"\"\n",
    "                \n",
    "                if \"term_vector\" in enrichments:\n",
    "                    query_string = enrichments[\"term_vector\"]\n",
    "                if \"category\" in enrichments and len(query_string) > 0:\n",
    "                    query_string += f' +doc_type:\"{enrichments[\"category\"]}\"'\n",
    "                if (len(query_string) == 0):\n",
    "                    query_string = item[\"surface_form\"]\n",
    "                    \n",
    "                additional_query = '{!edismax v=\"' + escape_quotes_in_query(query_string) + '\"}'\n",
    "            case \"color\":\n",
    "                additional_query = f'+colors_s:\"{item[\"canonical_form\"]}\"'\n",
    "            case \"known_item\" | \"event\":\n",
    "                additional_query = f'+name_s:\"{item[\"canonical_form\"]}\"'\n",
    "            case \"city\":\n",
    "                additional_query = f'+city_t:\"{str(item[\"name\"])}\"'\n",
    "            case \"brand\":\n",
    "                additional_query = f'+brand_s:\"{item[\"canonical_form\"]}\"'\n",
    "            case _:\n",
    "                additional_query = \"+{!edismax v=\\\"\" + escape_quotes_in_query(item[\"surface_form\"]) + \"\\\"}\"\n",
    "        if additional_query:\n",
    "            query_tree[i] = {\"type\": \"engine\", \"query\": additional_query}                    \n",
    "    return query_tree\n",
    "\n",
    "def process_semantic_functions(query_tree):\n",
    "    position = 0\n",
    "    while position < len(query_tree):\n",
    "        item = query_tree[position]        \n",
    "        # process commands. For now, going left to right and then sorting by priority when ambiguous commands occur; \n",
    "        # consider other weighting options later.\n",
    "        if (item['type'] == \"semantic_function\"):\n",
    "            commandIsResolved = False\n",
    "    \n",
    "            command = item['semantic_function']\n",
    "\n",
    "            if (command):\n",
    "                query = {\"query_tree\": query_tree} #pass by-ref\n",
    "                commandIsResolved = eval(item['semantic_function']); #Careful... there is code in the docs that is being eval'd. \n",
    "                #MUST ENSURE THESE DOCS ARE SECURE, OTHERWISE THIS WILL INTRODUCE A POTENTIAL SECURITY THREAT (CODE INJECTION)\n",
    "            \n",
    "            #else:\n",
    "                #Alert (\"Error: \" + query.query_tree.canonical_form + \" has no command function.\");\n",
    "            \n",
    "            if (False == commandIsResolved):\n",
    "                #Bad command. Just remove for now... could alternatively keep it and run as a keyword\n",
    "                query_tree.pop(position) #.splice(position,1)  \n",
    "\n",
    "        position += 1\n",
    "\n",
    "    return query_tree "
   ]
  },
  {
   "cell_type": "code",
   "execution_count": 42,
   "metadata": {
    "tags": []
   },
   "outputs": [],
   "source": [
    "query = \"good kimchi near charlotte\"\n",
    "tagger_data = engine.tag_query(\"entities\", (bytes(query, \"utf-8\")))\n",
    "query_tree = generate_query_tree(query, tagger_data)\n",
    "enriched_query_tree = enrich(reviews_collection,query_tree)\n",
    "processed_query_tree = transform_query(enriched_query_tree)"
   ]
  },
  {
   "cell_type": "markdown",
   "metadata": {},
   "source": [
    "### Listing 7.12"
   ]
  },
  {
   "cell_type": "code",
   "execution_count": 43,
   "metadata": {},
   "outputs": [],
   "source": [
    "# %load -s to_query_string ../webserver/semantic_search/query_tree/__init__.py\n",
    "def to_query_string(query_tree):\n",
    "    return \" \".join([node[\"query\"] for node in query_tree])\n"
   ]
  },
  {
   "cell_type": "code",
   "execution_count": 44,
   "metadata": {
    "tags": []
   },
   "outputs": [
    {
     "data": {
      "text/plain": [
       "'+{!func v=\"mul(if(stars_i,stars_i,0),20)\"} {!edismax v=\"kimchi^0.9193 korean^0.7069 banchan^0.6593 +doc_type:\\\\\"Korean\\\\\"\"} +{!geofilt d=50 sfield=\"location_p\" pt=\"35.22709,-80.84313\"}'"
      ]
     },
     "execution_count": 44,
     "metadata": {},
     "output_type": "execute_result"
    }
   ],
   "source": [
    "query_string = to_query_string(query_tree)\n",
    "query_string"
   ]
  },
  {
   "cell_type": "code",
   "execution_count": 45,
   "metadata": {},
   "outputs": [
    {
     "data": {
      "text/plain": [
       "{'responseHeader': {'zkConnected': True,\n",
       "  'status': 0,\n",
       "  'QTime': 6,\n",
       "  'params': {'json': '{\"query\": \"+{!func v=\\\\\"mul(if(stars_i,stars_i,0),20)\\\\\"} {!edismax v=\\\\\"kimchi^0.9193 korean^0.7069 banchan^0.6593 +doc_type:\\\\\\\\\\\\\"Korean\\\\\\\\\\\\\"\\\\\"} +{!geofilt d=50 sfield=\\\\\"location_p\\\\\" pt=\\\\\"35.22709,-80.84313\\\\\"}\"}'}},\n",
       " 'response': {'numFound': 15842,\n",
       "  'start': 0,\n",
       "  'numFoundExact': True,\n",
       "  'docs': [{'id': 'WnLhd38sH80ViWwzyF7yoA',\n",
       "    'name_t': 'Hibiscus',\n",
       "    'city_t': 'Charlotte',\n",
       "    'state_t': 'NC',\n",
       "    'text_t': \"We ate here for dinner and had a very tasty meal of bibimbap and bulgogi. Both dishes were done well and tasty. We had a very pleasant waitress who provided great service as well. Overall great! We'll definitely be back.\",\n",
       "    'stars_i': 5,\n",
       "    'categories_t': 'Restaurants, Korean, Thai',\n",
       "    'doc_type': ['Restaurants, Korean, Thai'],\n",
       "    'location_pt_s': '35.171873,-80.849032',\n",
       "    'location_p': '35.171873,-80.849032',\n",
       "    'type_ss': ['Restaurants, Korean, Thai'],\n",
       "    'latitude_d': 35.171873,\n",
       "    'longitude_d': -80.849032,\n",
       "    '_version_': 1790795163517321228},\n",
       "   {'id': 'DlKuPBPEvU2ynAYzZkmH2Q',\n",
       "    'name_t': 'Cho Won Garden',\n",
       "    'city_t': 'Charlotte',\n",
       "    'state_t': 'NC',\n",
       "    'text_t': 'Johnny P. Sorry you didnt like the food. The food, service, and \\nprices were great. You said go to pepero because you are immature\\nAnd you dont know why you said that. This place is a 8/10 if you know\\nOf korean culture. This place is good for any occasion..dates too so dont \\nbe afraid to try It out.',\n",
       "    'stars_i': 5,\n",
       "    'categories_t': 'Restaurants, Korean, Barbeque',\n",
       "    'doc_type': ['Restaurants, Korean, Barbeque'],\n",
       "    'location_pt_s': '35.143439,-80.722294',\n",
       "    'location_p': '35.143439,-80.722294',\n",
       "    'type_ss': ['Restaurants, Korean, Barbeque'],\n",
       "    'latitude_d': 35.143439,\n",
       "    'longitude_d': -80.722294,\n",
       "    '_version_': 1790795167970623492},\n",
       "   {'id': '34lgzV2XYAKjl8dt8olYMA',\n",
       "    'name_t': 'Korean Restaurant',\n",
       "    'city_t': 'Charlotte',\n",
       "    'state_t': 'NC',\n",
       "    'text_t': \"Copied my review from Super G over here as well as I didn't realize there was a separate listing for this restaurant.  It's that good so I need to repeat it. :)\\n\\nI have been shopping here for a while and love the grocery side.  But I love even more the restaurants all along the side of this grocery store.  There's a bakery and 2 restaurants with delicious offerings.\\n\\nThe bakery, the items there are light, fresh and tasty.  I take advantage of their buy 5 and get 1 free deal.  \\n\\nThe Hong Kong restaurant, their soups are delicious.  Their Thai tea is outstanding and seriously addicted to it.  Their buns are fluffy and stuffed with great fillings.\\n\\nBut my all time favorite has to be the Korean restaurant.  I have had their spicy beef cabbage soup which lives up to it's name, SPICY but can't stop eating.  (get extra thai tea if you get this dish!)  Their bulgogi is flavorful and tender.  Their black bean noodle is really good.  The bimibap hot dish, the star of the place.  And even all their side dishes they offer in the deli case in front of the restaurant is delish.  I love their chives kimchi, cabbage kimchi and fish cakes etc.  And no I don't work there nor do I know anyone there. It's just that tasty and good.\\n\\nOh and their portions...HUGE.\",\n",
       "    'stars_i': 5,\n",
       "    'categories_t': 'Restaurants, Seafood, Korean',\n",
       "    'doc_type': ['Restaurants, Seafood, Korean'],\n",
       "    'location_pt_s': '35.162832,-80.737656',\n",
       "    'location_p': '35.162832,-80.737656',\n",
       "    'type_ss': ['Restaurants, Seafood, Korean'],\n",
       "    'latitude_d': 35.162832,\n",
       "    'longitude_d': -80.737656,\n",
       "    '_version_': 1790795181169049604},\n",
       "   {'id': 'zL_qwA1JgRPgI-LNewP1Ew',\n",
       "    'name_t': 'Simplee Sushi',\n",
       "    'city_t': 'Charlotte',\n",
       "    'state_t': 'NC',\n",
       "    'text_t': 'Love the food and the family even more. Check out lunch bento box combos if you go. Also a huge green tea selection if you like that. Have yet to try dinner there, but looks like they have some good deals :)',\n",
       "    'stars_i': 5,\n",
       "    'categories_t': 'Korean, Japanese, Sushi Bars, Restaurants',\n",
       "    'doc_type': ['Korean, Japanese, Sushi Bars, Restaurants'],\n",
       "    'location_pt_s': '35.089721,-80.858407',\n",
       "    'location_p': '35.089721,-80.858407',\n",
       "    'type_ss': ['Korean, Japanese, Sushi Bars, Restaurants'],\n",
       "    'latitude_d': 35.089721,\n",
       "    'longitude_d': -80.858407,\n",
       "    '_version_': 1790795181787709452},\n",
       "   {'id': 'J3_FTjy9LAtTtoW_cLwPxg',\n",
       "    'name_t': 'CO',\n",
       "    'city_t': 'Charlotte',\n",
       "    'state_t': 'NC',\n",
       "    'text_t': \"CO is a place that I can tell takes pride in consistency! I have been many times, and they never disappoint. From the stellar customer service to its welcoming ambiance, it's a great place to go for a fancy date night, or a chill evening with your friends. \\n\\nMy favorite dish is the Curry Laksa! I am not big on spicy food, but this Thai noodle dish does an excellent job of combining some mild heat from the yellow curry with the light, yet rich, flavors of the coconut milk broth. The flavors in this dish will make you want to savor every bite!  \\n\\nI have also tried other dishes like the Spicy Udon, but I'll let that dish speak for itself ;-)\",\n",
       "    'stars_i': 5,\n",
       "    'categories_t': 'Vietnamese, Korean, Asian Fusion, Sushi Bars, Restaurants',\n",
       "    'doc_type': ['Vietnamese, Korean, Asian Fusion, Sushi Bars, Restaurants'],\n",
       "    'location_pt_s': '35.174959,-80.8487112',\n",
       "    'location_p': '35.174959,-80.8487112',\n",
       "    'type_ss': ['Vietnamese, Korean, Asian Fusion, Sushi Bars, Restaurants'],\n",
       "    'latitude_d': 35.174959,\n",
       "    'longitude_d': -80.8487112,\n",
       "    '_version_': 1790795168871350273},\n",
       "   {'id': 'aKzNK6aaOrlL688lkXrXNA',\n",
       "    'name_t': \"Immaculate Mic's\",\n",
       "    'city_t': 'Concord',\n",
       "    'state_t': 'NC',\n",
       "    'text_t': \"I do dog transports and was rescuing a Cane Corso from Vermont , when she got sick on the way home.  My daughter lives in Concord so I always stop there and decided to look up a detailing service.  I got a referral from Corso(Sweet Girl) had mad quite the mess with explosive diarrhea in the  the back of the car on the front passenger seat.  let's just say it was a god awful mess.  I contacted Immaculate Mic's after the referral and was happy to finally have someone that would take the job at a decent rate.  The did an excellent job and there was absolutely no hint that there had even been a mess in the car.  If you need this service for any reason I recommend them.  I am moving to the area from Alabama soon and they will doing my mobile auto cleaning and needs from now on.   I highly recommend them.  I was rescued from a bad situation if you know what I mean.\",\n",
       "    'stars_i': 5,\n",
       "    'categories_t': 'Home Cleaning, Automotive, Auto Detailing, Home Services, Car Wash',\n",
       "    'doc_type': ['Home Cleaning, Automotive, Auto Detailing, Home Services, Car Wash'],\n",
       "    'location_pt_s': '35.3717187,-80.6031602',\n",
       "    'location_p': '35.3717187,-80.6031602',\n",
       "    'type_ss': ['Home Cleaning, Automotive, Auto Detailing, Home Services, Car Wash'],\n",
       "    'latitude_d': 35.3717187,\n",
       "    'longitude_d': -80.6031602,\n",
       "    '_version_': 1790795161550192641},\n",
       "   {'id': '3ULTEwOOEFOLGsri-14ZIQ',\n",
       "    'name_t': 'The Southern Nest',\n",
       "    'city_t': 'Indian Land',\n",
       "    'state_t': 'SC',\n",
       "    'text_t': \"Absolutely in love with The Southern Nest.  They have such beautiful things, and are set up just perfectly.  I could wander in there forever and still find things I didn't see before.  The staff is wonderful, friendly and SO helpful.  I was looking for something containing cardinals, angels, or butterflies, and they led me to what they had.......which was wonderful.  I go back there again and again. They always have something new and different!\",\n",
       "    'stars_i': 5,\n",
       "    'categories_t': 'Accessories, Fashion, Home & Garden, Gift Shops, Furniture Stores, Shopping, Home Decor, Flowers & Gifts',\n",
       "    'doc_type': ['Accessories, Fashion, Home & Garden, Gift Shops, Furniture Stores, Shopping, Home Decor, Flowers & Gifts'],\n",
       "    'location_pt_s': '34.937489,-80.83827',\n",
       "    'location_p': '34.937489,-80.83827',\n",
       "    'type_ss': ['Accessories, Fashion, Home & Garden, Gift Shops, Furniture Stores, Shopping, Home Decor, Flowers & Gifts'],\n",
       "    'latitude_d': 34.937489,\n",
       "    'longitude_d': -80.83827,\n",
       "    '_version_': 1790795161558581248},\n",
       "   {'id': 'g8j1m9_GaCvQGPcvNTn6dQ',\n",
       "    'name_t': 'Split Second Sound',\n",
       "    'city_t': 'Stallings',\n",
       "    'state_t': 'NC',\n",
       "    'text_t': 'LOVE LOVE LOVE their new location uptown. Vinny was awesome! I will defiantly use them again. :)',\n",
       "    'stars_i': 5,\n",
       "    'categories_t': 'Event Planning & Services, Amusement Parks, Party & Event Planning, DJs, Active Life',\n",
       "    'doc_type': ['Event Planning & Services, Amusement Parks, Party & Event Planning, DJs, Active Life'],\n",
       "    'location_pt_s': '35.075774,-80.695902',\n",
       "    'location_p': '35.075774,-80.695902',\n",
       "    'type_ss': ['Event Planning & Services, Amusement Parks, Party & Event Planning, DJs, Active Life'],\n",
       "    'latitude_d': 35.075774,\n",
       "    'longitude_d': -80.695902,\n",
       "    '_version_': 1790795161572212736},\n",
       "   {'id': '8ldY6-AZ5uRocBCzhaYtRQ',\n",
       "    'name_t': 'Mattress Firm Stonecrest at Piper Glen',\n",
       "    'city_t': 'Charlotte',\n",
       "    'state_t': 'NC',\n",
       "    'text_t': 'Bought our mattress here- customer service was rock solid and helpful.  All good!  Would buy from them again.  Free delivery',\n",
       "    'stars_i': 5,\n",
       "    'categories_t': 'Home Decor, Home & Garden, Shopping, Mattresses, Furniture Stores',\n",
       "    'doc_type': ['Home Decor, Home & Garden, Shopping, Mattresses, Furniture Stores'],\n",
       "    'location_pt_s': '35.0591334,-80.8130775',\n",
       "    'location_p': '35.0591334,-80.8130775',\n",
       "    'type_ss': ['Home Decor, Home & Garden, Shopping, Mattresses, Furniture Stores'],\n",
       "    'latitude_d': 35.0591334,\n",
       "    'longitude_d': -80.8130775,\n",
       "    '_version_': 1790795161629884418},\n",
       "   {'id': 'rpK6XXAfFZIVb2amLgjDDg',\n",
       "    'name_t': \"Carolina Buyer's Agent\",\n",
       "    'city_t': 'Charlotte',\n",
       "    'state_t': 'NC',\n",
       "    'text_t': \"This is our 5th house buy, and Julie is the best agent we have ever used.  I wouldn't hesitate to recommend her to everyone. \\n\\nWe are new to the area, so her attention to detail and knowledge of North Carolina real estate law saved us money and time, right up to a mistake she caught at closing that put over $600 right back in our pocket.\\n\\nJulie is warm, savvy, and a pleasure to work with.  She was available everytime we called, and proactive if she saw potential problems, never hesitating to go directly to the seller to advocate for us.\\n\\nShe listened to our wants and needs to help us find not only the perfect home but the perfect neighborhood.  I trust Julie 100%, and can't thank her enough for a painless experience, at least on our part.  We love our new home!\",\n",
       "    'stars_i': 5,\n",
       "    'categories_t': 'Real Estate Services, Real Estate, Home Services, Real Estate Agents',\n",
       "    'doc_type': ['Real Estate Services, Real Estate, Home Services, Real Estate Agents'],\n",
       "    'location_pt_s': '35.2146586,-80.8599193',\n",
       "    'location_p': '35.2146586,-80.8599193',\n",
       "    'type_ss': ['Real Estate Services, Real Estate, Home Services, Real Estate Agents'],\n",
       "    'latitude_d': 35.2146586,\n",
       "    'longitude_d': -80.8599193,\n",
       "    '_version_': 1790795161633030144}]}}"
      ]
     },
     "execution_count": 45,
     "metadata": {},
     "output_type": "execute_result"
    }
   ],
   "source": [
    "reviews_collection = engine.get_collection(\"reviews\")\n",
    "request = {\"query\": query_string}\n",
    "reviews_collection.search(request)"
   ]
  },
  {
   "cell_type": "code",
   "execution_count": null,
   "metadata": {
    "tags": []
   },
   "outputs": [
    {
     "data": {
      "text/html": [
       "<iframe src=\"http://localhost:2345/semantic-search?q=good+kimchi+near+charlotte&submit=true\" width=100% height=\"800\"></iframe>\n"
      ],
      "text/plain": [
       "<IPython.core.display.HTML object>"
      ]
     },
     "metadata": {},
     "output_type": "display_data"
    }
   ],
   "source": [
    "%%html\n",
    "<iframe src=\"http://localhost:2345/semantic-search?q=good+kimchi+near+charlotte&submit=true\" width=100% height=\"800\"></iframe>"
   ]
  },
  {
   "cell_type": "code",
   "execution_count": null,
   "metadata": {
    "tags": []
   },
   "outputs": [
    {
     "name": "stdout",
     "output_type": "stream",
     "text": [
      "Stopping webserver (pid: 47169)\n"
     ]
    }
   ],
   "source": [
    "#Cleanup so webserver doesn't keep running after you're done\n",
    "stop_running_webservers()"
   ]
  },
  {
   "cell_type": "markdown",
   "metadata": {},
   "source": [
    "## Success!\n",
    "\n",
    "Up next: Chapter 8 - [Signals Boosting Models](../ch08/1.signals-boosting.ipynb)"
   ]
  }
 ],
 "metadata": {
  "kernelspec": {
   "display_name": "Python 3 (ipykernel)",
   "language": "python",
   "name": "python3"
  },
  "language_info": {
   "codemirror_mode": {
    "name": "ipython",
    "version": 3
   },
   "file_extension": ".py",
   "mimetype": "text/x-python",
   "name": "python",
   "nbconvert_exporter": "python",
   "pygments_lexer": "ipython3",
   "version": "3.12.1"
  }
 },
 "nbformat": 4,
 "nbformat_minor": 4
}
