{
 "cells": [
  {
   "cell_type": "markdown",
   "metadata": {},
   "source": [
    "# Semantic Search Application"
   ]
  },
  {
   "cell_type": "code",
   "execution_count": 1,
   "metadata": {},
   "outputs": [],
   "source": [
    "import sys\n",
    "sys.path.append('..')\n",
    "sys.path.append('../webserver')\n",
    "from semantic_search.engine.tag_query import *\n",
    "from semantic_search.process_semantic_query import *\n",
    "from semantic_search.query_tree.query_tree_to_transformed_query import *\n",
    "from aips import *\n",
    "import json"
   ]
  },
  {
   "cell_type": "markdown",
   "metadata": {},
   "source": [
    "## Starting the Reviews Search Web Server and Launching the Search Page"
   ]
  },
  {
   "cell_type": "code",
   "execution_count": 2,
   "metadata": {},
   "outputs": [],
   "source": [
    "def get_running_webservers():\n",
    "    already_running_webservers = ! ps -ef | grep '[s]tart-webserver.py' | awk '{print $2}'\n",
    "    return already_running_webservers\n",
    "    \n",
    "def stop_running_webservers():\n",
    "    already_running_webservers = get_running_webservers()\n",
    "    for pid in already_running_webservers:\n",
    "        print(\"Stopping webserver (pid: \" + pid + \")\")\n",
    "        results = ! xargs kill -9 {pid}\n",
    "\n",
    "def start_reviews_search_webserver():\n",
    "    stop_running_webservers() #in case it was already running\n",
    "    get_ipython().system = os.system\n",
    "    ! cd ../webserver && python start-webserver.py &\n",
    "    if len(get_running_webservers()) > 0:\n",
    "        print(\"Successfully Started Webserver (pid: \" + get_running_webservers()[0] + \")!\")"
   ]
  },
  {
   "cell_type": "markdown",
   "metadata": {},
   "source": [
    "### Listing 7.2"
   ]
  },
  {
   "cell_type": "code",
   "execution_count": 3,
   "metadata": {},
   "outputs": [
    {
     "name": "stdout",
     "output_type": "stream",
     "text": [
      "Stopping webserver (pid: 44378)\n",
      "Successfully Started Webserver (pid: 45351)!\n"
     ]
    }
   ],
   "source": [
    "#Start the web server\n",
    "start_reviews_search_webserver()"
   ]
  },
  {
   "cell_type": "code",
   "execution_count": 4,
   "metadata": {},
   "outputs": [
    {
     "data": {
      "text/html": [
       "<iframe src=\"http://localhost:2345/search\" width=100% height=\"800\"></iframe>\n"
      ],
      "text/plain": [
       "<IPython.core.display.HTML object>"
      ]
     },
     "metadata": {},
     "output_type": "display_data"
    }
   ],
   "source": [
    "%%html\n",
    "<iframe src=\"http://localhost:2345/search\" width=100% height=\"800\"></iframe>\n"
   ]
  },
  {
   "cell_type": "markdown",
   "metadata": {
    "tags": []
   },
   "source": [
    "### Figure 7.3"
   ]
  },
  {
   "cell_type": "code",
   "execution_count": 5,
   "metadata": {
    "tags": []
   },
   "outputs": [
    {
     "data": {
      "text/html": [
       "<iframe src=\"http://localhost:2345/search?q=bbq+near+charlotte\" width=100% height=\"800\"></iframe>\n"
      ],
      "text/plain": [
       "<IPython.core.display.HTML object>"
      ]
     },
     "metadata": {},
     "output_type": "display_data"
    }
   ],
   "source": [
    "%%html\n",
    "<iframe src=\"http://localhost:2345/search?q=bbq+near+charlotte\" width=100% height=\"800\"></iframe>"
   ]
  },
  {
   "cell_type": "markdown",
   "metadata": {
    "tags": []
   },
   "source": [
    "### Figure 7.4"
   ]
  },
  {
   "cell_type": "code",
   "execution_count": 6,
   "metadata": {
    "tags": []
   },
   "outputs": [
    {
     "data": {
      "text/html": [
       "<iframe src=\"http://localhost:2345/search?q=bbq+charlotte\" width=100% height=\"800\"></iframe>\n"
      ],
      "text/plain": [
       "<IPython.core.display.HTML object>"
      ]
     },
     "metadata": {},
     "output_type": "display_data"
    }
   ],
   "source": [
    "%%html\n",
    "<iframe src=\"http://localhost:2345/search?q=bbq+charlotte\" width=100% height=\"800\"></iframe>"
   ]
  },
  {
   "cell_type": "markdown",
   "metadata": {
    "tags": []
   },
   "source": [
    "### Figure 7.5"
   ]
  },
  {
   "cell_type": "code",
   "execution_count": 7,
   "metadata": {
    "tags": []
   },
   "outputs": [
    {
     "data": {
      "text/html": [
       "<iframe src=\"http://localhost:2345/semantic-search?q=top+kimchi+near+charlotte&submit=false\" width=100% height=\"800\"></iframe>\n"
      ],
      "text/plain": [
       "<IPython.core.display.HTML object>"
      ]
     },
     "metadata": {},
     "output_type": "display_data"
    }
   ],
   "source": [
    "%%html\n",
    "<iframe src=\"http://localhost:2345/semantic-search?q=top+kimchi+near+charlotte&submit=false\" width=100% height=\"800\"></iframe>"
   ]
  },
  {
   "cell_type": "markdown",
   "metadata": {
    "tags": []
   },
   "source": [
    "### Figure 7.6"
   ]
  },
  {
   "cell_type": "code",
   "execution_count": 8,
   "metadata": {
    "tags": []
   },
   "outputs": [
    {
     "data": {
      "text/html": [
       "<iframe src=\"http://localhost:2345/search?q=top+kimchi+near+charlotte&submit=false\" width=100% height=\"800\"></iframe>\n"
      ],
      "text/plain": [
       "<IPython.core.display.HTML object>"
      ]
     },
     "metadata": {},
     "output_type": "display_data"
    }
   ],
   "source": [
    "%%html\n",
    "<iframe src=\"http://localhost:2345/search?q=top+kimchi+near+charlotte&submit=false\" width=100% height=\"800\"></iframe>"
   ]
  },
  {
   "cell_type": "markdown",
   "metadata": {
    "tags": []
   },
   "source": [
    "### Figure 7.7"
   ]
  },
  {
   "cell_type": "code",
   "execution_count": 9,
   "metadata": {
    "tags": []
   },
   "outputs": [
    {
     "data": {
      "text/html": [
       "<iframe src=\"http://localhost:2345/semantic-search?q=top+kimchi+near+charlotte&submit=true\" width=100% height=\"800\"></iframe>\n"
      ],
      "text/plain": [
       "<IPython.core.display.HTML object>"
      ]
     },
     "metadata": {},
     "output_type": "display_data"
    }
   ],
   "source": [
    "%%html\n",
    "<iframe src=\"http://localhost:2345/semantic-search?q=top+kimchi+near+charlotte&submit=true\" width=100% height=\"800\"></iframe>"
   ]
  },
  {
   "cell_type": "markdown",
   "metadata": {},
   "source": [
    "### Listing 7.3"
   ]
  },
  {
   "cell_type": "code",
   "execution_count": 10,
   "metadata": {},
   "outputs": [
    {
     "data": {
      "text/plain": [
       "['id,surface_form,canonical_form,type,popularity,semantic_function',\n",
       " '1,near,{location_distance},semantic_function,90,\"location_distance(query, position)\"',\n",
       " '2,in,{location_distance},semantic_function,100,\"location_distance(query, position)\"',\n",
       " '3,by,{location_distance},semantic_function,90,\"location_distance(query, position)\"',\n",
       " '4,by,{text_within_one_edit_distance},semantic_function,10,\"text_within_one_edit_distance(query, ',\n",
       " 'position)\"',\n",
       " '5,near,{text_distance},semantic_function,10,\"text_distance(query, position)\"',\n",
       " '6,popular,{popular},semantic_function,100,\"popularity(query, position)\"',\n",
       " '7,top,{popular},semantic_function,100,\"popularity(query, position)\"',\n",
       " '8,best,{popular},semantic_function,100,\"popularity(query, position)\"',\n",
       " '9,good,{popular},semantic_function,100,\"popularity(query, position)\"',\n",
       " '10,violet,violet,color,100,',\n",
       " '11,violet crowne,violet crowne,brand,100,',\n",
       " '12,violet crowne charlottesville,violet crowne charlottesville,movie_theater,100,',\n",
       " '13,violet crown,violet crowne,brand,100,',\n",
       " '14,violet crown charlottesville,violet crowne charlottesville,movie_theater,100,',\n",
       " '15,haystack,haystack conference,event,100,',\n",
       " '16,haystack conf,haystack conference,event,100,',\n",
       " '17,haystack conference,haystack conference,event,100,',\n",
       " '18,heystack,haystack conference,event,100,',\n",
       " '19,heystack conf,haystack conference,event,100,',\n",
       " '20,heystack conference,haystack conference,event,100,',\n",
       " '21,is,is,keyword,100,']"
      ]
     },
     "execution_count": 10,
     "metadata": {},
     "output_type": "execute_result"
    }
   ],
   "source": [
    "!! cat ../data/reviews/entities.csv"
   ]
  },
  {
   "cell_type": "markdown",
   "metadata": {},
   "source": [
    "### Listing 7.6"
   ]
  },
  {
   "cell_type": "code",
   "execution_count": 11,
   "metadata": {},
   "outputs": [],
   "source": [
    "# %load -s tag_query ../webserver/semantic_search/engine/tag_query\n",
    "def tag_query(post_body):\n",
    "    return requests.post(SOLR_URL + '/entities/tag?json.nl=map&sort=popularity%20desc&matchText=true&echoParams=all&fl=id,type,canonical_form,name,country:countrycode_s,admin_area:admin_code_1_s,popularity,*_p,semantic_function', post_body).text\n"
   ]
  },
  {
   "cell_type": "code",
   "execution_count": 12,
   "metadata": {
    "tags": []
   },
   "outputs": [
    {
     "data": {
      "text/plain": [
       "{'responseHeader': {'status': 0,\n",
       "  'QTime': 0,\n",
       "  'params': {'sort': 'popularity desc',\n",
       "   'matchText': 'true',\n",
       "   'json.nl': 'map',\n",
       "   'field': 'name_tag',\n",
       "   'echoParams': 'all',\n",
       "   'fl': 'id,type,canonical_form,name,country:countrycode_s,admin_area:admin_code_1_s,popularity,*_p,semantic_function'}},\n",
       " 'tagsCount': 3,\n",
       " 'tags': [{'startOffset': 0, 'endOffset': 3, 'matchText': 'top', 'ids': ['7']},\n",
       "  {'startOffset': 11, 'endOffset': 15, 'matchText': 'near', 'ids': ['1', '5']},\n",
       "  {'startOffset': 16,\n",
       "   'endOffset': 25,\n",
       "   'matchText': 'charlotte',\n",
       "   'ids': ['4460243', '4612828', '4680560', '4988584', '5234793']}],\n",
       " 'response': {'numFound': 8,\n",
       "  'start': 0,\n",
       "  'numFoundExact': True,\n",
       "  'docs': [{'id': '1',\n",
       "    'canonical_form': '{location_distance}',\n",
       "    'type': 'semantic_function',\n",
       "    'popularity': 90,\n",
       "    'semantic_function': 'location_distance(query, position)'},\n",
       "   {'id': '5',\n",
       "    'canonical_form': '{text_distance}',\n",
       "    'type': 'semantic_function',\n",
       "    'popularity': 10,\n",
       "    'semantic_function': 'text_distance(query, position)'},\n",
       "   {'id': '7',\n",
       "    'canonical_form': '{popular}',\n",
       "    'type': 'semantic_function',\n",
       "    'popularity': 100,\n",
       "    'semantic_function': 'popularity(query, position)'},\n",
       "   {'id': '4460243',\n",
       "    'name': ['Charlotte'],\n",
       "    'canonical_form': 'Charlotte',\n",
       "    'popularity': 827097,\n",
       "    'type': 'city',\n",
       "    'location_p': '35.22709,-80.84313',\n",
       "    'admin_area': 'NC'},\n",
       "   {'id': '4612828',\n",
       "    'name': ['Charlotte'],\n",
       "    'canonical_form': 'Charlotte',\n",
       "    'popularity': 1506,\n",
       "    'type': 'city',\n",
       "    'location_p': '36.17728,-87.33973',\n",
       "    'admin_area': 'TN'},\n",
       "   {'id': '4680560',\n",
       "    'name': ['Charlotte'],\n",
       "    'canonical_form': 'Charlotte',\n",
       "    'popularity': 1815,\n",
       "    'type': 'city',\n",
       "    'location_p': '28.86192,-98.70641',\n",
       "    'admin_area': 'TX'},\n",
       "   {'id': '4988584',\n",
       "    'name': ['Charlotte'],\n",
       "    'canonical_form': 'Charlotte',\n",
       "    'popularity': 9054,\n",
       "    'type': 'city',\n",
       "    'location_p': '42.56365,-84.83582',\n",
       "    'admin_area': 'MI'},\n",
       "   {'id': '5234793',\n",
       "    'name': ['Charlotte'],\n",
       "    'canonical_form': 'Charlotte',\n",
       "    'popularity': 3861,\n",
       "    'type': 'city',\n",
       "    'location_p': '44.30977,-73.26096',\n",
       "    'admin_area': 'VT'}]}}"
      ]
     },
     "execution_count": 12,
     "metadata": {},
     "output_type": "execute_result"
    }
   ],
   "source": [
    "json.loads(tag_query(\"top kimchi near charlotte\"))"
   ]
  },
  {
   "cell_type": "markdown",
   "metadata": {},
   "source": [
    "### Listing 7.7"
   ]
  },
  {
   "cell_type": "code",
   "execution_count": 13,
   "metadata": {},
   "outputs": [],
   "source": [
    "# %load -s process_semantic_query ../webserver/semantic_search/process_semantic_query\n",
    "def process_semantic_query(query_bytes):\n",
    "    text = query_bytes.decode('UTF-8')\n",
    "    tagger_data = json.loads(tag_query(query_bytes))\n",
    "    \n",
    "    query_tree, tagged_query, enriched_query = generate_query_representations(text, tagger_data)\n",
    "        \n",
    "    final_query = process_query_tree(query_tree)\n",
    "    transformed_query = query_tree_to_transformed_query(query_tree)      \n",
    "\n",
    "    response = {\n",
    "        \"tagged_query\": tagged_query,\n",
    "        \"enriched_query\": enriched_query, \n",
    "        \"transformed_query\": transformed_query,\n",
    "        \"tagger_data\": tagger_data\n",
    "    }\n",
    "\n",
    "    return response\n"
   ]
  },
  {
   "cell_type": "code",
   "execution_count": 14,
   "metadata": {
    "tags": []
   },
   "outputs": [
    {
     "name": "stdout",
     "output_type": "stream",
     "text": [
      "Tagged Query: {top} kimchi {near} {charlotte}\n",
      "\n",
      "Enriched Query:{\"id\": \"7\", \"canonical_form\": \"{popular}\", \"type\": \"semantic_function\", \"popularity\": 100, \"semantic_function\": \"popularity(query, position)\"} { type:keyword, known: false, surface_form: \"kimchi\"}{\"id\": \"1\", \"canonical_form\": \"{location_distance}\", \"type\": \"semantic_function\", \"popularity\": 90, \"semantic_function\": \"location_distance(query, position)\"}{\"id\": \"4460243\", \"name\": [\"Charlotte\"], \"canonical_form\": \"Charlotte\", \"popularity\": 827097, \"type\": \"city\", \"location_p\": \"35.22709,-80.84313\", \"admin_area\": \"NC\"}\n",
      "\n",
      "Transformed Query:+{!func v=\"mul(if(stars_i,stars_i,0),20)\"} +{!edismax v=\"kimchi^0.9193 korean^0.7069 banchan^0.6593 +doc_type:\\\"Korean\\\"\"} +{!geofilt d=50 sfield=\"location_p\" pt=\"35.22709,-80.84313\"}\n"
     ]
    }
   ],
   "source": [
    "query_bytes = bytes(\"top kimchi near charlotte\", 'UTF-8')\n",
    "processed_query = process_semantic_query(query_bytes)\n",
    "print(\"Tagged Query:\" + processed_query[\"tagged_query\"])\n",
    "print(\"\\nEnriched Query:\" + processed_query[\"enriched_query\"])\n",
    "print(\"\\nTransformed Query:\" + processed_query[\"transformed_query\"])"
   ]
  },
  {
   "cell_type": "markdown",
   "metadata": {},
   "source": [
    "### Listing 7.8"
   ]
  },
  {
   "cell_type": "code",
   "execution_count": 15,
   "metadata": {},
   "outputs": [],
   "source": [
    "# %load -s popularity ../webserver/semantic_search/semantic_functions/popularity\n",
    "def popularity(query, position):\n",
    "    if (len(query['query_tree']) -1 > position):\n",
    "        query['query_tree'][position] = {\"type\":\"solr\", \"query\": '+{!func v=\"mul(if(stars_i,stars_i,0),20)\"}'}\n",
    "        return True\n",
    "    else:\n",
    "        return False\n"
   ]
  },
  {
   "cell_type": "markdown",
   "metadata": {},
   "source": [
    "### Listing 7.9"
   ]
  },
  {
   "cell_type": "code",
   "execution_count": 16,
   "metadata": {
    "tags": []
   },
   "outputs": [],
   "source": [
    "# %load -s location_distance,create_geo_filter ../webserver/semantic_search/semantic_functions/location_distance\n",
    "def location_distance(query, position):      \n",
    "    if (len(query['query_tree']) -1 > position):\n",
    "        nextEntity = query['query_tree'][position + 1]\n",
    "        if (nextEntity['type'] == \"city\"):\n",
    "        \n",
    "            query['query_tree'].pop(position + 1);\n",
    "            query['query_tree'][position] = {\"type\":\"solr\", \n",
    "                                             \"query\": create_geo_filter(nextEntity['location_p'], \n",
    "                                             \"location_p\", 50)}\n",
    "            return True\n",
    "    return False\n",
    "\n",
    "def create_geo_filter(coordinates, field, distanceInKM):\n",
    "    return \"+{!geofilt d=\" + str(distanceInKM) + \" sfield=\\\"\" + field + \"\\\" pt=\\\"\" + coordinates + \"\\\"}\"\n"
   ]
  },
  {
   "cell_type": "markdown",
   "metadata": {},
   "source": [
    "### Listing 7.10"
   ]
  },
  {
   "cell_type": "code",
   "execution_count": 17,
   "metadata": {
    "tags": []
   },
   "outputs": [],
   "source": [
    "#NOTE: DELETE structured_search when Daniel converts over to collection.search(...)\n",
    "# %load -s structured_search ../webserver/semantic_search/engine/structured_search\n",
    "def structured_search(json_query):\n",
    "    x = json.dumps(json_query)\n",
    "    return requests.post(SOLR_URL + '/reviews/select', json=json_query).text"
   ]
  },
  {
   "cell_type": "code",
   "execution_count": 18,
   "metadata": {
    "tags": []
   },
   "outputs": [],
   "source": [
    "# %load -s traverse_skg ../webserver/semantic_search/engine/semantic_knowledge_graph\n",
    "def traverse_skg(keyword):\n",
    "    query = {\n",
    "      \"params\": { \"fore\": keyword, \"back\": \"*:*\", \"df\": \"text_t\" },\n",
    "      \"query\": \"*:*\", \"limit\": 0,\n",
    "      \"facet\": {\n",
    "        \"term_needing_vector\": {\n",
    "          \"type\": \"query\", \"query\": keyword,\n",
    "          \"facet\": {\n",
    "            \"related_terms\" : {\n",
    "              \"type\" : \"terms\", \"field\" : \"text_t\",\n",
    "              \"limit\": 3, \"sort\": { \"r1\": \"desc\" },\n",
    "              \"facet\" :\n",
    "                { \"r1\" : \"relatedness($fore,$back)\" }},\n",
    "            \"doc_type\" : {\n",
    "              \"type\" : \"terms\", \"field\" : \"doc_type\",\n",
    "              \"limit\": 1, \"sort\": { \"r2\": \"desc\" },\n",
    "              \"facet\" :\n",
    "                { \"r2\" : \"relatedness($fore,$back)\" }}}}}}\n",
    "\n",
    "    response = structured_search(query)\n",
    "    return json.loads(response)\n"
   ]
  },
  {
   "cell_type": "code",
   "execution_count": 19,
   "metadata": {
    "tags": []
   },
   "outputs": [],
   "source": [
    "# %load -s parse_skg_response ../webserver/semantic_search/engine/semantic_knowledge_graph\n",
    "def parse_skg_response(skg_response):\n",
    "    parsed = {}\n",
    "    relatedTermNodes = {}\n",
    "\n",
    "    if ('facets' in skg_response and 'term_needing_vector' in skg_response['facets']):\n",
    "    \n",
    "        if ('doc_type' in skg_response['facets']['term_needing_vector'] \n",
    "          and 'buckets' in skg_response['facets']['term_needing_vector']['doc_type'] \n",
    "          and len(skg_response['facets']['term_needing_vector']['doc_type']['buckets']) > 0 ):\n",
    "\n",
    "            parsed['category'] = skg_response['facets']['term_needing_vector']['doc_type']['buckets'][0]['val'] #just top one for now\n",
    "    \n",
    "        if ('related_terms' in skg_response['facets']['term_needing_vector'] \n",
    "          and 'buckets' in skg_response['facets']['term_needing_vector']['related_terms'] \n",
    "          and len(skg_response['facets']['term_needing_vector']['related_terms']['buckets']) > 0 ): #at least one entry\n",
    "    \n",
    "            relatedTermNodes = skg_response['facets']['term_needing_vector']['related_terms']['buckets']\n",
    "    \n",
    "    termVector = \"\"\n",
    "    for relatedTermNode in relatedTermNodes:\n",
    "        if (len(termVector) > 0):  termVector += \" \" \n",
    "        termVector += relatedTermNode['val'] + \"^\" + \"{:.4f}\".format(relatedTermNode['r1']['relatedness'])\n",
    "    \n",
    "    parsed['term_vector'] = termVector\n",
    "\n",
    "    return parsed\n"
   ]
  },
  {
   "cell_type": "code",
   "execution_count": 20,
   "metadata": {
    "tags": []
   },
   "outputs": [
    {
     "data": {
      "text/plain": [
       "{'category': 'Korean',\n",
       " 'term_vector': 'kimchi^0.9193 korean^0.7069 banchan^0.6593'}"
      ]
     },
     "execution_count": 20,
     "metadata": {},
     "output_type": "execute_result"
    }
   ],
   "source": [
    "query = \"kimchi\"\n",
    "skg_response = traverse_skg(query)\n",
    "parse_skg_response(skg_response)"
   ]
  },
  {
   "cell_type": "code",
   "execution_count": 21,
   "metadata": {
    "tags": []
   },
   "outputs": [
    {
     "name": "stdout",
     "output_type": "stream",
     "text": [
      "bbq: {'category': 'Barbeque', 'term_vector': 'bbq^0.9191 ribs^0.6186 pork^0.5991'}\n",
      "korean bbq: {'category': 'Korean', 'term_vector': 'bbq^0.9052 korean^0.8641 pork^0.6079'}\n",
      "lasagna: {'category': 'Italian', 'term_vector': 'lasagna^0.9193 alfredo^0.3992 pasta^0.3909'}\n",
      "karaoke: {'category': 'Karaoke', 'term_vector': 'karaoke^0.9193 sing^0.6423 songs^0.5256'}\n",
      "drive through: {'category': 'Fast Food', 'term_vector': 'through^0.8999 drive^0.8613 thru^0.6118'}\n"
     ]
    }
   ],
   "source": [
    "def skg(query):\n",
    "    return parse_skg_response(traverse_skg(query))\n",
    "\n",
    "other_queries = [\"bbq\", \"korean bbq\", \"lasagna\", \"karaoke\", \"drive through\"]\n",
    "for query in other_queries: print(f\"{query}: {skg(query)}\")\n"
   ]
  },
  {
   "cell_type": "markdown",
   "metadata": {},
   "source": [
    "### Listing 7.11"
   ]
  },
  {
   "cell_type": "code",
   "execution_count": 22,
   "metadata": {},
   "outputs": [],
   "source": [
    "# %load -s process_query_tree ../webserver/semantic_search/process_query_tree\n",
    "def process_query_tree(query_tree):\n",
    "    query_tree = process_semantic_functions(query_tree)\n",
    "        \n",
    "    # Now process everything that is not yet resolved\n",
    "    for position in range(len(query_tree)):\n",
    "        item = query_tree[position];         \n",
    "        if (item[\"type\"] != \"solr\"): #already resolved\n",
    "            if (item[\"type\"] == \"keyword\"):  \n",
    "                categoryAndTermVector = None\n",
    "                skgResponse = traverse_skg(item[\"surface_form\"])\n",
    "                categoryAndTermVector = parse_skg_response(skgResponse)       \n",
    "\n",
    "                queryString = \"\"\n",
    "                if (\"term_vector\" in categoryAndTermVector):\n",
    "                    queryString = categoryAndTermVector[\"term_vector\"]\n",
    "                \n",
    "                if (\"category\" in categoryAndTermVector):\n",
    "                    if (len(queryString) > 0):\n",
    "                        queryString += \" \"\n",
    "                        queryString += \"+doc_type:\\\"\" + categoryAndTermVector[\"category\"] + \"\\\"\"\n",
    "                    \n",
    "                if (len(queryString) == 0):\n",
    "                    queryString = item[\"surface_form\"] #just keep the input as a keyword\n",
    "\n",
    "                query_tree[position] = { \"type\":\"solr\", \"query\": \"+{!edismax v=\\\"\" + escape_quotes_in_query(queryString) + \"\\\"}\" }              \n",
    "            elif (item[\"type\"] == \"color\"):\n",
    "                solrQuery = \"+colors_s:\\\"\" + item[\"canonical_form\"] + \"\\\"\"\n",
    "                query_tree[position] = {\"type\":\"solr\", \"query\": solrQuery}\n",
    "            elif (item[\"type\"] == \"known_item\" or item[\"type\"] == \"city\" or item[\"type\"] == \"event\"):\n",
    "                solrQuery = \"+name_s:\\\"\" + item[\"canonical_form\"] + \"\\\"\"\n",
    "                query_tree[position] = {\"type\":\"solr\", \"query\": solrQuery}\n",
    "            elif item[\"type\"] == \"city\":\n",
    "                solrQuery = \"+city_t:\\\"\" + str(item[\"name\"]) + \"\\\"\" \n",
    "                query_tree[position] = {\"type\":\"solr\", \"query\": solrQuery}\n",
    "            elif (item[\"type\"] == \"brand\"):\n",
    "                solrQuery = \"+brand_s:\\\"\" + item[\"canonical_form\"] + \"\\\"\"\n",
    "                query_tree[position] = {\"type\":\"solr\", \"query\": solrQuery}\n",
    "            else:\n",
    "                print(item[\"type\"])\n",
    "                query_tree[position] = {\"type\":\"solr\", \"query\": \"+{!edismax v=\\\"\" + escape_quotes_in_query(item[\"surface_form\"]) + \"\\\"}\"}              \n",
    "                \n",
    "    return query_tree\n"
   ]
  },
  {
   "cell_type": "code",
   "execution_count": 23,
   "metadata": {
    "tags": []
   },
   "outputs": [
    {
     "data": {
      "text/plain": [
       "[{'type': 'solr', 'query': '+{!func v=\"mul(if(stars_i,stars_i,0),20)\"}'},\n",
       " {'type': 'solr',\n",
       "  'query': '+{!edismax v=\"kimchi^0.9193 korean^0.7069 banchan^0.6593 +doc_type:\\\\\"Korean\\\\\"\"}'},\n",
       " {'type': 'solr',\n",
       "  'query': '+{!geofilt d=50 sfield=\"location_p\" pt=\"35.22709,-80.84313\"}'}]"
      ]
     },
     "execution_count": 23,
     "metadata": {},
     "output_type": "execute_result"
    }
   ],
   "source": [
    "query = \"good kimchi in charlotte\"\n",
    "tagger_data = json.loads(tag_query(bytes(query, \"utf-8\")))\n",
    "query_tree, tagged_query, parsed_query = generate_query_representations(query, tagger_data)\n",
    "processed_query_tree = process_query_tree(query_tree)\n",
    "processed_query_tree"
   ]
  },
  {
   "cell_type": "markdown",
   "metadata": {},
   "source": [
    "### Listing 7.12"
   ]
  },
  {
   "cell_type": "code",
   "execution_count": 24,
   "metadata": {},
   "outputs": [],
   "source": [
    "# %load -s query_tree_to_resolved_query ../webserver/semantic_search/query_tree/query_tree_to_resolved_query\n",
    "def query_tree_to_resolved_query(query_tree):\n",
    "    resolved_query = \"\"\n",
    "    for i in range(len(query_tree)):\n",
    "        if (len(resolved_query) > 0):\n",
    "            resolved_query += \" \"\n",
    "        \n",
    "        resolved_query += query_tree[i]['query']\n",
    "        \n",
    "    return resolved_query\n"
   ]
  },
  {
   "cell_type": "code",
   "execution_count": 25,
   "metadata": {
    "tags": []
   },
   "outputs": [
    {
     "data": {
      "text/plain": [
       "'+{!func v=\"mul(if(stars_i,stars_i,0),20)\"} +{!edismax v=\"kimchi^0.9193 korean^0.7069 banchan^0.6593 +doc_type:\\\\\"Korean\\\\\"\"} +{!geofilt d=50 sfield=\"location_p\" pt=\"35.22709,-80.84313\"}'"
      ]
     },
     "execution_count": 25,
     "metadata": {},
     "output_type": "execute_result"
    }
   ],
   "source": [
    "### TODO: the following is added to the manuscript. Should decouple query_tree generation so it can be passed in and just work\n",
    "#collection = engine.get_collection(\"reviews\")\n",
    "query_tree_to_resolved_query(query_tree)\n",
    "\n",
    "#searchResults = collection.search(query_tree)"
   ]
  },
  {
   "cell_type": "markdown",
   "metadata": {},
   "source": [
    "### Figure 7.8"
   ]
  },
  {
   "cell_type": "code",
   "execution_count": 26,
   "metadata": {
    "tags": []
   },
   "outputs": [
    {
     "data": {
      "text/html": [
       "<iframe src=\"http://localhost:2345/semantic-search?q=good+kimchi+near+charlotte&submit=true\" width=100% height=\"800\"></iframe>\n"
      ],
      "text/plain": [
       "<IPython.core.display.HTML object>"
      ]
     },
     "metadata": {},
     "output_type": "display_data"
    }
   ],
   "source": [
    "%%html\n",
    "<iframe src=\"http://localhost:2345/semantic-search?q=good+kimchi+near+charlotte&submit=true\" width=100% height=\"800\"></iframe>"
   ]
  },
  {
   "cell_type": "code",
   "execution_count": 27,
   "metadata": {
    "tags": []
   },
   "outputs": [
    {
     "name": "stdout",
     "output_type": "stream",
     "text": [
      "Stopping webserver (pid: 45351)\n"
     ]
    }
   ],
   "source": [
    "#Cleanup so webserver doesn't keep running after you're done\n",
    "stop_running_webservers()"
   ]
  },
  {
   "cell_type": "markdown",
   "metadata": {},
   "source": [
    "## Success!\n",
    "\n",
    "Up next: Chapter 8 - [Signals Boosting Models](../ch08/1.signals-boosting.ipynb)"
   ]
  }
 ],
 "metadata": {
  "kernelspec": {
   "display_name": "Python 3 (ipykernel)",
   "language": "python",
   "name": "python3"
  },
  "language_info": {
   "codemirror_mode": {
    "name": "ipython",
    "version": 3
   },
   "file_extension": ".py",
   "mimetype": "text/x-python",
   "name": "python",
   "nbconvert_exporter": "python",
   "pygments_lexer": "ipython3",
   "version": "3.10.9"
  }
 },
 "nbformat": 4,
 "nbformat_minor": 4
}
