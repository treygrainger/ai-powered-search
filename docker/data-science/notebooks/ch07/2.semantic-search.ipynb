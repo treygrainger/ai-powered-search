{
 "cells": [
  {
   "cell_type": "markdown",
   "metadata": {},
   "source": [
    "# Semantic Search Application"
   ]
  },
  {
   "cell_type": "code",
   "execution_count": 1,
   "metadata": {},
   "outputs": [],
   "source": [
    "import sys\n",
    "import os\n",
    "sys.path.append('..')\n",
    "sys.path.append(\"webserver\")\n",
    "from aips import get_engine, get_semantic_knowledge_graph, get_entity_extractor\n",
    "from semantic_search import *\n",
    "from semantic_search.query_tree import *\n",
    "\n",
    "engine = get_engine()\n",
    "skg = get_semantic_knowledge_graph()"
   ]
  },
  {
   "cell_type": "markdown",
   "metadata": {},
   "source": [
    "## Starting the Reviews Search Web Server and Launching the Search Page"
   ]
  },
  {
   "cell_type": "code",
   "execution_count": 2,
   "metadata": {},
   "outputs": [],
   "source": [
    "def get_running_webservers():\n",
    "    already_running_webservers = ! ps -ef | grep '[s]tart-webserver.py' | awk '{print $2}'\n",
    "    return already_running_webservers\n",
    "    \n",
    "def stop_running_webservers():\n",
    "    already_running_webservers = get_running_webservers()\n",
    "    for pid in already_running_webservers:\n",
    "        print(\"Stopping webserver (pid: \" + pid + \")\")\n",
    "        results = ! xargs kill -9 {pid}\n",
    "\n",
    "def start_reviews_search_webserver():\n",
    "    stop_running_webservers() #in case it was already running\n",
    "    get_ipython().system = os.system\n",
    "    ! cd ../webserver && python start-webserver.py &\n",
    "    if len(get_running_webservers()) > 0:\n",
    "        print(\"Successfully Started Webserver (pid: \" + get_running_webservers()[0] + \")!\")"
   ]
  },
  {
   "cell_type": "markdown",
   "metadata": {},
   "source": [
    "### Listing 7.2"
   ]
  },
  {
   "cell_type": "code",
   "execution_count": 3,
   "metadata": {},
   "outputs": [
    {
     "name": "stdout",
     "output_type": "stream",
     "text": [
      "Stopping webserver (pid: 9713)\n",
      "Successfully Started Webserver (pid: 10007)!\n"
     ]
    }
   ],
   "source": [
    "#Start the web server\n",
    "start_reviews_search_webserver()"
   ]
  },
  {
   "cell_type": "markdown",
   "metadata": {},
   "source": [
    "### Figure 7.2"
   ]
  },
  {
   "cell_type": "code",
   "execution_count": 4,
   "metadata": {},
   "outputs": [
    {
     "data": {
      "text/html": [
       "<iframe src=\"http://localhost:2345/search\" width=100% height=\"800\"></iframe>\n"
      ],
      "text/plain": [
       "<IPython.core.display.HTML object>"
      ]
     },
     "metadata": {},
     "output_type": "display_data"
    }
   ],
   "source": [
    "%%html\n",
    "<iframe src=\"http://localhost:2345/search\" width=100% height=\"800\"></iframe>"
   ]
  },
  {
   "cell_type": "markdown",
   "metadata": {},
   "source": [
    "### Figure 7.3"
   ]
  },
  {
   "cell_type": "code",
   "execution_count": 5,
   "metadata": {
    "tags": []
   },
   "outputs": [
    {
     "data": {
      "text/html": [
       "<iframe src=\"http://localhost:2345/search?q=bbq+near+charlotte\" width=100% height=\"800\"></iframe>\n"
      ],
      "text/plain": [
       "<IPython.core.display.HTML object>"
      ]
     },
     "metadata": {},
     "output_type": "display_data"
    }
   ],
   "source": [
    "%%html\n",
    "<iframe src=\"http://localhost:2345/search?q=bbq+near+charlotte\" width=100% height=\"800\"></iframe>"
   ]
  },
  {
   "cell_type": "markdown",
   "metadata": {
    "tags": []
   },
   "source": [
    "### Figure 7.4"
   ]
  },
  {
   "cell_type": "code",
   "execution_count": 6,
   "metadata": {
    "tags": []
   },
   "outputs": [
    {
     "data": {
      "text/html": [
       "<iframe src=\"http://localhost:2345/search?q=bbq+charlotte\" width=100% height=\"800\"></iframe>\n"
      ],
      "text/plain": [
       "<IPython.core.display.HTML object>"
      ]
     },
     "metadata": {},
     "output_type": "display_data"
    }
   ],
   "source": [
    "%%html\n",
    "<iframe src=\"http://localhost:2345/search?q=bbq+charlotte\" width=100% height=\"800\"></iframe>"
   ]
  },
  {
   "cell_type": "markdown",
   "metadata": {
    "tags": []
   },
   "source": [
    "### Figure 7.5"
   ]
  },
  {
   "cell_type": "code",
   "execution_count": 7,
   "metadata": {
    "tags": []
   },
   "outputs": [
    {
     "data": {
      "text/html": [
       "<iframe src=\"http://localhost:2345/semantic-search?q=top+kimchi+near+charlotte&submit=false\" width=100% height=\"800\"></iframe>\n"
      ],
      "text/plain": [
       "<IPython.core.display.HTML object>"
      ]
     },
     "metadata": {},
     "output_type": "display_data"
    }
   ],
   "source": [
    "%%html\n",
    "<iframe src=\"http://localhost:2345/semantic-search?q=top+kimchi+near+charlotte&submit=false\" width=100% height=\"800\"></iframe>"
   ]
  },
  {
   "cell_type": "markdown",
   "metadata": {
    "tags": []
   },
   "source": [
    "### Figure 7.6"
   ]
  },
  {
   "cell_type": "code",
   "execution_count": 8,
   "metadata": {
    "tags": []
   },
   "outputs": [
    {
     "data": {
      "text/html": [
       "<iframe src=\"http://localhost:2345/search?q=top+kimchi+near+charlotte&submit=false\" width=100% height=\"800\"></iframe>\n"
      ],
      "text/plain": [
       "<IPython.core.display.HTML object>"
      ]
     },
     "metadata": {},
     "output_type": "display_data"
    }
   ],
   "source": [
    "%%html\n",
    "<iframe src=\"http://localhost:2345/search?q=top+kimchi+near+charlotte&submit=false\" width=100% height=\"800\"></iframe>"
   ]
  },
  {
   "cell_type": "markdown",
   "metadata": {
    "tags": []
   },
   "source": [
    "### Figure 7.7"
   ]
  },
  {
   "cell_type": "code",
   "execution_count": 9,
   "metadata": {
    "tags": []
   },
   "outputs": [
    {
     "data": {
      "text/html": [
       "<iframe src=\"http://localhost:2345/semantic-search?q=top+kimchi+near+charlotte&submit=true\" width=100% height=\"800\"></iframe>\n"
      ],
      "text/plain": [
       "<IPython.core.display.HTML object>"
      ]
     },
     "metadata": {},
     "output_type": "display_data"
    }
   ],
   "source": [
    "%%html\n",
    "<iframe src=\"http://localhost:2345/semantic-search?q=top+kimchi+near+charlotte&submit=true\" width=100% height=\"800\"></iframe>"
   ]
  },
  {
   "cell_type": "markdown",
   "metadata": {},
   "source": [
    "### Listing 7.3"
   ]
  },
  {
   "cell_type": "code",
   "execution_count": 10,
   "metadata": {},
   "outputs": [
    {
     "data": {
      "text/plain": [
       "['id,surface_form,canonical_form,type,popularity,semantic_function',\n",
       " '1,near,{location_distance},semantic_function,90,\"location_distance(query, position)\"',\n",
       " '2,in,{location_distance},semantic_function,100,\"location_distance(query, position)\"',\n",
       " '3,by,{location_distance},semantic_function,90,\"location_distance(query, position)\"',\n",
       " '4,by,{text_within_one_edit_distance},semantic_function,10,\"text_within_one_edit_distance(query, position)\"',\n",
       " '5,near,{text_distance},semantic_function,10,\"text_distance(query, position)\"',\n",
       " '6,popular,{popular},semantic_function,100,\"popularity(query, position)\"',\n",
       " '7,top,{popular},semantic_function,100,\"popularity(query, position)\"',\n",
       " '8,best,{popular},semantic_function,100,\"popularity(query, position)\"',\n",
       " '9,good,{popular},semantic_function,100,\"popularity(query, position)\"',\n",
       " '10,violet,violet,color,100,',\n",
       " '11,violet crowne,violet crowne,brand,100,',\n",
       " '12,violet crowne charlottesville,violet crowne charlottesville,movie_theater,100,',\n",
       " '13,violet crown,violet crowne,brand,100,',\n",
       " '14,violet crown charlottesville,violet crowne charlottesville,movie_theater,100,',\n",
       " '15,haystack,haystack conference,event,100,',\n",
       " '16,haystack conf,haystack conference,event,100,',\n",
       " '17,haystack conference,haystack conference,event,100,',\n",
       " '18,heystack,haystack conference,event,100,',\n",
       " '19,heystack conf,haystack conference,event,100,',\n",
       " '20,heystack conference,haystack conference,event,100,',\n",
       " '21,is,is,keyword,100,']"
      ]
     },
     "execution_count": 10,
     "metadata": {},
     "output_type": "execute_result"
    }
   ],
   "source": [
    "!! cat ../data/reviews/entities.csv"
   ]
  },
  {
   "cell_type": "markdown",
   "metadata": {},
   "source": [
    "### Listing 7.4 : [located here](../ch07/1.index-datasets.ipynb#Listing-7.4)."
   ]
  },
  {
   "cell_type": "markdown",
   "metadata": {},
   "source": [
    "### Listing 7.5 : [located here](../ch07/1.index-datasets.ipynb#Listing-7.5)."
   ]
  },
  {
   "cell_type": "markdown",
   "metadata": {},
   "source": [
    "### Listing 7.6"
   ]
  },
  {
   "cell_type": "code",
   "execution_count": 11,
   "metadata": {
    "tags": []
   },
   "outputs": [
    {
     "data": {
      "text/plain": [
       "{'query': 'top kimchi near charlotte',\n",
       " 'tags': [{'startOffset': 0, 'endOffset': 3, 'matchText': 'top', 'ids': ['7']},\n",
       "  {'startOffset': 11, 'endOffset': 15, 'matchText': 'near', 'ids': ['1', '5']},\n",
       "  {'startOffset': 16,\n",
       "   'endOffset': 25,\n",
       "   'matchText': 'charlotte',\n",
       "   'ids': ['4460243', '4612828', '4680560', '4988584', '5234793']}],\n",
       " 'entities': [{'semantic_function': 'location_distance(query, position)',\n",
       "   'popularity': 90,\n",
       "   'id': '1',\n",
       "   'surface_form': 'near',\n",
       "   'type': 'semantic_function',\n",
       "   'canonical_form': '{location_distance}'},\n",
       "  {'semantic_function': 'text_distance(query, position)',\n",
       "   'popularity': 10,\n",
       "   'id': '5',\n",
       "   'surface_form': 'near',\n",
       "   'type': 'semantic_function',\n",
       "   'canonical_form': '{text_distance}'},\n",
       "  {'semantic_function': 'popularity(query, position)',\n",
       "   'popularity': 100,\n",
       "   'id': '7',\n",
       "   'surface_form': 'top',\n",
       "   'type': 'semantic_function',\n",
       "   'canonical_form': '{popular}'},\n",
       "  {'country': 'US',\n",
       "   'admin_area': 'NC',\n",
       "   'popularity': 827097,\n",
       "   'id': '4460243',\n",
       "   'surface_form': 'Charlotte',\n",
       "   'type': 'city',\n",
       "   'location_coordinates': '35.22709,-80.84313',\n",
       "   'canonical_form': 'Charlotte'},\n",
       "  {'country': 'US',\n",
       "   'admin_area': 'TN',\n",
       "   'popularity': 1506,\n",
       "   'id': '4612828',\n",
       "   'surface_form': 'Charlotte',\n",
       "   'type': 'city',\n",
       "   'location_coordinates': '36.17728,-87.33973',\n",
       "   'canonical_form': 'Charlotte'},\n",
       "  {'country': 'US',\n",
       "   'admin_area': 'TX',\n",
       "   'popularity': 1815,\n",
       "   'id': '4680560',\n",
       "   'surface_form': 'Charlotte',\n",
       "   'type': 'city',\n",
       "   'location_coordinates': '28.86192,-98.70641',\n",
       "   'canonical_form': 'Charlotte'},\n",
       "  {'country': 'US',\n",
       "   'admin_area': 'MI',\n",
       "   'popularity': 9054,\n",
       "   'id': '4988584',\n",
       "   'surface_form': 'Charlotte',\n",
       "   'type': 'city',\n",
       "   'location_coordinates': '42.56365,-84.83582',\n",
       "   'canonical_form': 'Charlotte'},\n",
       "  {'country': 'US',\n",
       "   'admin_area': 'VT',\n",
       "   'popularity': 3861,\n",
       "   'id': '5234793',\n",
       "   'surface_form': 'Charlotte',\n",
       "   'type': 'city',\n",
       "   'location_coordinates': '44.30977,-73.26096',\n",
       "   'canonical_form': 'Charlotte'}]}"
      ]
     },
     "execution_count": 11,
     "metadata": {},
     "output_type": "execute_result"
    }
   ],
   "source": [
    "query = \"top kimchi near charlotte\"\n",
    "extractor = get_entity_extractor(\"entities\")\n",
    "query_entities = extractor.extract_entities(query)\n",
    "query_entities"
   ]
  },
  {
   "cell_type": "markdown",
   "metadata": {},
   "source": [
    "### Listing 7.7\n"
   ]
  },
  {
   "cell_type": "code",
   "execution_count": 12,
   "metadata": {},
   "outputs": [
    {
     "name": "stdout",
     "output_type": "stream",
     "text": [
      " {top} kimchi {near} {charlotte}\n"
     ]
    }
   ],
   "source": [
    "def generate_tagged_query(extracted_entities):\n",
    "    query = extracted_entities[\"query\"]\n",
    "    last_end = 0\n",
    "    tagged_query = \"\"\n",
    "    for tag in extracted_entities[\"tags\"]:\n",
    "        next_text = query[last_end:tag[\"startOffset\"]].strip()\n",
    "        if len(next_text) > 0:\n",
    "            tagged_query += \" \" + next_text\n",
    "        tagged_query += \" {\" + tag[\"matchText\"] + \"}\"\n",
    "        last_end = tag[\"endOffset\"]\n",
    "    if last_end < len(query):\n",
    "        final_text = query[last_end:len(query)].strip()\n",
    "        if len(final_text):\n",
    "            tagged_query += \" \" + final_text\n",
    "    return tagged_query   \n",
    "\n",
    "tagged_query = generate_tagged_query(query_entities)\n",
    "print(tagged_query)"
   ]
  },
  {
   "cell_type": "markdown",
   "metadata": {},
   "source": [
    "### Listing 7.8"
   ]
  },
  {
   "cell_type": "code",
   "execution_count": 13,
   "metadata": {},
   "outputs": [],
   "source": [
    "# %load -s generate_query_tree semantic_search/__init__.py\n",
    "def generate_query_tree(extracted_entities):\n",
    "    query = extracted_entities[\"query\"]\n",
    "    query_tree = []    \n",
    "    last_end = 0\n",
    "    doc_map =  {}\n",
    "    for doc in extracted_entities[\"entities\"]:\n",
    "        doc_map[doc[\"id\"]] = doc\n",
    "        \n",
    "    for tag in extracted_entities[\"tags\"]:\n",
    "        best_doc_id = None\n",
    "        for doc_id in tag[\"ids\"]:\n",
    "            if best_doc_id:\n",
    "                if (doc_map[doc_id][\"popularity\"] > \n",
    "                    doc_map[best_doc_id][\"popularity\"]):\n",
    "                    best_doc_id = doc_id\n",
    "            else:\n",
    "                best_doc_id = doc_id\n",
    "        best_doc = doc_map[best_doc_id]\n",
    "        \n",
    "        next_text = query[last_end:tag[\"startOffset\"]].strip()\n",
    "        if len(next_text) > 0:\n",
    "            query_tree.append({\n",
    "                \"type\": \"keyword\", \"known\": False,\n",
    "                \"surface_form\": next_text,\n",
    "                \"canonical_form\": next_text})\n",
    "        query_tree.append(best_doc)\n",
    "        last_end = tag[\"endOffset\"]\n",
    "\n",
    "    if last_end < len(query):\n",
    "        final_text = query[last_end:len(query)].strip()\n",
    "        if len(final_text) > 0:\n",
    "            query_tree.append({ \n",
    "                \"type\": \"keyword\", \"known\": False, \n",
    "                \"surface_form\": final_text,\n",
    "                \"canonical_form\": final_text})\n",
    "    return query_tree"
   ]
  },
  {
   "cell_type": "code",
   "execution_count": 14,
   "metadata": {},
   "outputs": [
    {
     "data": {
      "text/plain": [
       "[{'semantic_function': 'popularity(query, position)',\n",
       "  'popularity': 100,\n",
       "  'id': '7',\n",
       "  'surface_form': 'top',\n",
       "  'type': 'semantic_function',\n",
       "  'canonical_form': '{popular}'},\n",
       " {'type': 'keyword',\n",
       "  'known': False,\n",
       "  'surface_form': 'kimchi',\n",
       "  'canonical_form': 'kimchi'},\n",
       " {'semantic_function': 'location_distance(query, position)',\n",
       "  'popularity': 90,\n",
       "  'id': '1',\n",
       "  'surface_form': 'near',\n",
       "  'type': 'semantic_function',\n",
       "  'canonical_form': '{location_distance}'},\n",
       " {'country': 'US',\n",
       "  'admin_area': 'NC',\n",
       "  'popularity': 827097,\n",
       "  'id': '4460243',\n",
       "  'surface_form': 'Charlotte',\n",
       "  'type': 'city',\n",
       "  'location_coordinates': '35.22709,-80.84313',\n",
       "  'canonical_form': 'Charlotte'}]"
      ]
     },
     "execution_count": 14,
     "metadata": {},
     "output_type": "execute_result"
    }
   ],
   "source": [
    "parsed_query = generate_query_tree(query_entities)\n",
    "parsed_query"
   ]
  },
  {
   "cell_type": "markdown",
   "metadata": {},
   "source": [
    "### Listing 7.9"
   ]
  },
  {
   "cell_type": "code",
   "execution_count": 15,
   "metadata": {},
   "outputs": [],
   "source": [
    "# %load -s popularity semantic_search/semantic_functions/__init__.py\n",
    "def popularity(query, position):\n",
    "    if len(query[\"query_tree\"]) -1 > position:\n",
    "        query[\"query_tree\"][position] = {\n",
    "            \"type\": \"transformed\",\n",
    "            \"syntax\": \"solr\",\n",
    "            \"query\": '+{!func v=\"mul(if(stars_rating,stars_rating,0),20)\"}'}\n",
    "        return True\n",
    "    else:\n",
    "        return False"
   ]
  },
  {
   "cell_type": "markdown",
   "metadata": {},
   "source": [
    "### Listing 7.10"
   ]
  },
  {
   "cell_type": "code",
   "execution_count": 16,
   "metadata": {},
   "outputs": [],
   "source": [
    "# %load -s location_distance,create_geo_filter semantic_search/semantic_functions/__init__.py\n",
    "def location_distance(query, position):\n",
    "    if len(query[\"query_tree\"]) -1 > position:\n",
    "        next_entity = query[\"query_tree\"][position + 1]\n",
    "        if next_entity[\"type\"] == \"city\":\n",
    "            query[\"query_tree\"].pop(position + 1)\n",
    "            query[\"query_tree\"][position] = {\n",
    "                \"type\": \"transformed\",\n",
    "                \"syntax\": \"solr\",\n",
    "                \"query\": create_geo_filter(next_entity['location_coordinates'],\n",
    "                                        \"location_coordinates\", 50)}\n",
    "            return True\n",
    "    return False\n",
    "\n",
    "def create_geo_filter(coordinates, field, distance_in_KM):\n",
    "    return \"+{\" + f'!geofilt d={distance_in_KM} sfield=\"{field}\" pt=\"{coordinates}\"' + '}'"
   ]
  },
  {
   "cell_type": "markdown",
   "metadata": {},
   "source": [
    "### Listing 7.11\n"
   ]
  },
  {
   "cell_type": "code",
   "execution_count": 17,
   "metadata": {},
   "outputs": [],
   "source": [
    "# %load -s process_semantic_functions semantic_search/query_tree/__init__.py\n",
    "def process_semantic_functions(query_tree):\n",
    "    position = 0\n",
    "    while position < len(query_tree):\n",
    "        node = query_tree[position]\n",
    "        if node[\"type\"] == \"semantic_function\":\n",
    "            commaned_is_resolved = False\n",
    "            if node[\"semantic_function\"]:\n",
    "                query = {\"query_tree\": query_tree}\n",
    "                commaned_is_resolved = eval(node[\"semantic_function\"])\n",
    "            if not commaned_is_resolved:\n",
    "                query_tree.pop(position)\n",
    "        position += 1\n",
    "    return query_tree "
   ]
  },
  {
   "cell_type": "markdown",
   "metadata": {},
   "source": [
    "### Listing 7.12"
   ]
  },
  {
   "cell_type": "code",
   "execution_count": 18,
   "metadata": {
    "tags": []
   },
   "outputs": [],
   "source": [
    "# %load -s get_enrichments semantic_search/query_tree/__init__.py\n",
    "def get_enrichments(collection, keyword):\n",
    "    enrichments = {}\n",
    "    nodes_to_traverse = [{\"field\": \"content\",\n",
    "                          \"values\": [keyword]},\n",
    "                         [{\"name\": \"related_terms\",\n",
    "                           \"field\": \"content\",\n",
    "                           \"limit\": 3},\n",
    "                          {\"name\": \"doc_type\",\n",
    "                           \"field\": \"doc_type\",\n",
    "                           \"limit\": 1}]]\n",
    "    traversals = skg.traverse(collection, *nodes_to_traverse)\n",
    "    nested_traversals = traversals[\"graph\"][0][\"values\"][keyword][\"traversals\"]\n",
    "    \n",
    "    doc_types = list(filter(lambda t: t[\"name\"] == \"doc_type\",\n",
    "                            nested_traversals))\n",
    "    if doc_types:\n",
    "        enrichments[\"category\"] = next(iter(doc_types[0][\"values\"]))\n",
    "        \n",
    "    term_vector = \"\"\n",
    "    related_terms = list(filter(lambda t: t[\"name\"] == \"related_terms\",\n",
    "                                nested_traversals))\n",
    "    if related_terms:\n",
    "        for term, data in related_terms[0][\"values\"].items():\n",
    "            term_vector += f'{term}^{round(data[\"relatedness\"], 4)} '\n",
    "    enrichments[\"term_vector\"] = term_vector.strip()\n",
    "    \n",
    "    return enrichments"
   ]
  },
  {
   "cell_type": "code",
   "execution_count": 19,
   "metadata": {
    "tags": []
   },
   "outputs": [
    {
     "data": {
      "text/plain": [
       "{'category': 'Korean',\n",
       " 'term_vector': 'kimchi^0.9193 korean^0.7069 banchan^0.6593'}"
      ]
     },
     "execution_count": 19,
     "metadata": {},
     "output_type": "execute_result"
    }
   ],
   "source": [
    "reviews_collection = engine.get_collection(\"reviews\")\n",
    "query = \"kimchi\"\n",
    "get_enrichments(reviews_collection, query)"
   ]
  },
  {
   "cell_type": "code",
   "execution_count": 20,
   "metadata": {
    "tags": []
   },
   "outputs": [
    {
     "name": "stdout",
     "output_type": "stream",
     "text": [
      "bbq: {'category': 'Barbeque', 'term_vector': 'bbq^0.9191 ribs^0.6186 pork^0.5991'}\n",
      "korean bbq: {'category': 'Korean', 'term_vector': 'bbq^0.9052 korean^0.8641 pork^0.6079'}\n",
      "lasagna: {'category': 'Italian', 'term_vector': 'lasagna^0.9193 alfredo^0.3992 pasta^0.3909'}\n",
      "karaoke: {'category': 'Karaoke', 'term_vector': 'karaoke^0.9193 sing^0.6423 songs^0.5256'}\n",
      "drive through: {'category': 'Fast Food', 'term_vector': 'through^0.8999 drive^0.8613 thru^0.6118'}\n"
     ]
    }
   ],
   "source": [
    "other_queries = [\"bbq\", \"korean bbq\", \"lasagna\", \"karaoke\", \"drive through\"]\n",
    "for query in other_queries:\n",
    "    enrichments = get_enrichments(reviews_collection, query)\n",
    "    print(f\"{query}: {enrichments}\")"
   ]
  },
  {
   "cell_type": "markdown",
   "metadata": {},
   "source": [
    "### Listing 7.13"
   ]
  },
  {
   "cell_type": "code",
   "execution_count": 21,
   "metadata": {},
   "outputs": [],
   "source": [
    "# %load -s enrich semantic_search/query_tree/__init__.py\n",
    "def enrich(collection, query_tree):\n",
    "    query_tree = process_semantic_functions(query_tree)    \n",
    "    for i in range(len(query_tree)):\n",
    "        item = query_tree[i]\n",
    "        if item[\"type\"] == \"keyword\":\n",
    "            enrichments = get_enrichments(collection, item[\"surface_form\"])\n",
    "            query_tree[i] = {\"type\": \"skg_enriched\", \n",
    "                             \"enrichments\": enrichments}                    \n",
    "    return query_tree"
   ]
  },
  {
   "cell_type": "markdown",
   "metadata": {},
   "source": [
    "### Listing 7.14"
   ]
  },
  {
   "cell_type": "code",
   "execution_count": 22,
   "metadata": {},
   "outputs": [],
   "source": [
    "# %load -s escape_quotes_in_query,transform_query semantic_search/query_tree/__init__.py\n",
    "def escape_quotes(text):\n",
    "    return text.replace('\"', '\\\\\"')\n",
    "\n",
    "def transform_query(query_tree):\n",
    "    for i in range(len(query_tree)):\n",
    "        item = query_tree[i]\n",
    "        transformed_query = \"\"\n",
    "        match item[\"type\"]:\n",
    "            case \"transformed\":\n",
    "                pass\n",
    "            case \"skg_enriched\":\n",
    "                enrichments = item[\"enrichments\"]\n",
    "                query_string = \"\"\n",
    "                \n",
    "                if \"term_vector\" in enrichments:\n",
    "                    query_string = enrichments[\"term_vector\"]\n",
    "                if \"category\" in enrichments and len(query_string) > 0:\n",
    "                    query_string += f' +doc_type:\"{enrichments[\"category\"]}\"'\n",
    "                if (len(query_string) == 0):\n",
    "                    query_string = item[\"surface_form\"]\n",
    "                    \n",
    "                transformed_query = '{!edismax v=\"' + escape_quotes(query_string) + '\"}'\n",
    "            case \"color\":\n",
    "                transformed_query = f'+colors_s:\"{item[\"canonical_form\"]}\"'\n",
    "            case \"known_item\" | \"event\":\n",
    "                transformed_query = f'+name_s:\"{item[\"canonical_form\"]}\"'\n",
    "            case \"city\":\n",
    "                transformed_query = f'+city:\"{str(item[\"name\"])}\"'\n",
    "            case \"brand\":\n",
    "                transformed_query = f'+brand_s:\"{item[\"canonical_form\"]}\"'\n",
    "            case _:\n",
    "                transformed_query = \"+{!edismax v=\\\"\" + escape_quotes(item[\"surface_form\"]) + \"\\\"}\"\n",
    "        if transformed_query:\n",
    "            query_tree[i] = {\"type\": \"transformed\",\n",
    "                            \"syntax\": \"solr\",\n",
    "                            \"query\": transformed_query}                 \n",
    "    return query_tree\n"
   ]
  },
  {
   "cell_type": "code",
   "execution_count": 23,
   "metadata": {
    "tags": []
   },
   "outputs": [
    {
     "name": "stdout",
     "output_type": "stream",
     "text": [
      "[\n",
      "  {\n",
      "    \"type\": \"transformed\",\n",
      "    \"syntax\": \"solr\",\n",
      "    \"query\": \"+{!func v=\\\"mul(if(stars_rating,stars_rating,0),20)\\\"}\"\n",
      "  },\n",
      "  {\n",
      "    \"type\": \"transformed\",\n",
      "    \"syntax\": \"solr\",\n",
      "    \"query\": \"{!edismax v=\\\"kimchi^0.9193 korean^0.7069 banchan^0.6593 +doc_type:\\\\\\\"Korean\\\\\\\"\\\"}\"\n",
      "  },\n",
      "  {\n",
      "    \"type\": \"transformed\",\n",
      "    \"syntax\": \"solr\",\n",
      "    \"query\": \"+{!geofilt d=50 sfield=\\\"location_coordinates\\\" pt=\\\"35.22709,-80.84313\\\"}\"\n",
      "  }\n",
      "]\n"
     ]
    }
   ],
   "source": [
    "query = \"good kimchi near charlotte\"\n",
    "reviews_collection = engine.get_collection(\"reviews\")\n",
    "tagger_data = knowledge_graph.extract_entities(query)\n",
    "query_tree = generate_query_tree(tagger_data)\n",
    "enriched_query_tree = enrich(reviews_collection, query_tree)\n",
    "processed_query_tree = transform_query(enriched_query_tree)\n",
    "print(json.dumps(processed_query_tree, indent=\"  \"))"
   ]
  },
  {
   "cell_type": "markdown",
   "metadata": {},
   "source": [
    "### Listing 7.15"
   ]
  },
  {
   "cell_type": "code",
   "execution_count": 24,
   "metadata": {},
   "outputs": [],
   "source": [
    "# %load -s to_query_string semantic_search/query_tree/__init__.py\n",
    "def to_query_string(query_tree):\n",
    "    return \" \".join([node[\"query\"] for node in query_tree])"
   ]
  },
  {
   "cell_type": "code",
   "execution_count": 25,
   "metadata": {
    "tags": []
   },
   "outputs": [
    {
     "data": {
      "text/plain": [
       "'+{!func v=\"mul(if(stars_rating,stars_rating,0),20)\"} {!edismax v=\"kimchi^0.9193 korean^0.7069 banchan^0.6593 +doc_type:\\\\\"Korean\\\\\"\"} +{!geofilt d=50 sfield=\"location_coordinates\" pt=\"35.22709,-80.84313\"}'"
      ]
     },
     "execution_count": 25,
     "metadata": {},
     "output_type": "execute_result"
    }
   ],
   "source": [
    "query_string = to_query_string(query_tree)\n",
    "query_string"
   ]
  },
  {
   "cell_type": "code",
   "execution_count": 26,
   "metadata": {},
   "outputs": [
    {
     "data": {
      "text/plain": [
       "{'docs': [{'id': 'WnLhd38sH80ViWwzyF7yoA',\n",
       "   'business_name': 'Hibiscus',\n",
       "   'city': 'Charlotte',\n",
       "   'state': 'NC',\n",
       "   'content': \"We ate here for dinner and had a very tasty meal of bibimbap and bulgogi. Both dishes were done well and tasty. We had a very pleasant waitress who provided great service as well. Overall great! We'll definitely be back.\",\n",
       "   'categories': 'Restaurants, Korean, Thai',\n",
       "   'doc_type': 'Restaurants, Korean, Thai',\n",
       "   'stars_rating': 5,\n",
       "   'location_coordinates': '35.171873,-80.849032',\n",
       "   '_version_': 1798185590184738817},\n",
       "  {'id': 'DlKuPBPEvU2ynAYzZkmH2Q',\n",
       "   'business_name': 'Cho Won Garden',\n",
       "   'city': 'Charlotte',\n",
       "   'state': 'NC',\n",
       "   'content': 'Johnny P. Sorry you didnt like the food. The food, service, and \\nprices were great. You said go to pepero because you are immature\\nAnd you dont know why you said that. This place is a 8/10 if you know\\nOf korean culture. This place is good for any occasion..dates too so dont \\nbe afraid to try It out.',\n",
       "   'categories': 'Restaurants, Korean, Barbeque',\n",
       "   'doc_type': 'Restaurants, Korean, Barbeque',\n",
       "   'stars_rating': 5,\n",
       "   'location_coordinates': '35.143439,-80.722294',\n",
       "   '_version_': 1798185598558666764},\n",
       "  {'id': '34lgzV2XYAKjl8dt8olYMA',\n",
       "   'business_name': 'Korean Restaurant',\n",
       "   'city': 'Charlotte',\n",
       "   'state': 'NC',\n",
       "   'content': \"Copied my review from Super G over here as well as I didn't realize there was a separate listing for this restaurant.  It's that good so I need to repeat it. :)\\n\\nI have been shopping here for a while and love the grocery side.  But I love even more the restaurants all along the side of this grocery store.  There's a bakery and 2 restaurants with delicious offerings.\\n\\nThe bakery, the items there are light, fresh and tasty.  I take advantage of their buy 5 and get 1 free deal.  \\n\\nThe Hong Kong restaurant, their soups are delicious.  Their Thai tea is outstanding and seriously addicted to it.  Their buns are fluffy and stuffed with great fillings.\\n\\nBut my all time favorite has to be the Korean restaurant.  I have had their spicy beef cabbage soup which lives up to it's name, SPICY but can't stop eating.  (get extra thai tea if you get this dish!)  Their bulgogi is flavorful and tender.  Their black bean noodle is really good.  The bimibap hot dish, the star of the place.  And even all their side dishes they offer in the deli case in front of the restaurant is delish.  I love their chives kimchi, cabbage kimchi and fish cakes etc.  And no I don't work there nor do I know anyone there. It's just that tasty and good.\\n\\nOh and their portions...HUGE.\",\n",
       "   'categories': 'Restaurants, Seafood, Korean',\n",
       "   'doc_type': 'Restaurants, Seafood, Korean',\n",
       "   'stars_rating': 5,\n",
       "   'location_coordinates': '35.162832,-80.737656',\n",
       "   '_version_': 1798185624017043462},\n",
       "  {'id': 'zL_qwA1JgRPgI-LNewP1Ew',\n",
       "   'business_name': 'Simplee Sushi',\n",
       "   'city': 'Charlotte',\n",
       "   'state': 'NC',\n",
       "   'content': 'Love the food and the family even more. Check out lunch bento box combos if you go. Also a huge green tea selection if you like that. Have yet to try dinner there, but looks like they have some good deals :)',\n",
       "   'categories': 'Korean, Japanese, Sushi Bars, Restaurants',\n",
       "   'doc_type': 'Korean, Japanese, Sushi Bars, Restaurants',\n",
       "   'stars_rating': 5,\n",
       "   'location_coordinates': '35.089721,-80.858407',\n",
       "   '_version_': 1798185624854855680},\n",
       "  {'id': 'J3_FTjy9LAtTtoW_cLwPxg',\n",
       "   'business_name': 'CO',\n",
       "   'city': 'Charlotte',\n",
       "   'state': 'NC',\n",
       "   'content': \"CO is a place that I can tell takes pride in consistency! I have been many times, and they never disappoint. From the stellar customer service to its welcoming ambiance, it's a great place to go for a fancy date night, or a chill evening with your friends. \\n\\nMy favorite dish is the Curry Laksa! I am not big on spicy food, but this Thai noodle dish does an excellent job of combining some mild heat from the yellow curry with the light, yet rich, flavors of the coconut milk broth. The flavors in this dish will make you want to savor every bite!  \\n\\nI have also tried other dishes like the Spicy Udon, but I'll let that dish speak for itself ;-)\",\n",
       "   'categories': 'Vietnamese, Korean, Asian Fusion, Sushi Bars, Restaurants',\n",
       "   'doc_type': 'Vietnamese, Korean, Asian Fusion, Sushi Bars, Restaurants',\n",
       "   'stars_rating': 5,\n",
       "   'location_coordinates': '35.174959,-80.8487112',\n",
       "   '_version_': 1798185599458344967},\n",
       "  {'id': 'aKzNK6aaOrlL688lkXrXNA',\n",
       "   'business_name': \"Immaculate Mic's\",\n",
       "   'city': 'Concord',\n",
       "   'state': 'NC',\n",
       "   'content': \"I do dog transports and was rescuing a Cane Corso from Vermont , when she got sick on the way home.  My daughter lives in Concord so I always stop there and decided to look up a detailing service.  I got a referral from Corso(Sweet Girl) had mad quite the mess with explosive diarrhea in the  the back of the car on the front passenger seat.  let's just say it was a god awful mess.  I contacted Immaculate Mic's after the referral and was happy to finally have someone that would take the job at a decent rate.  The did an excellent job and there was absolutely no hint that there had even been a mess in the car.  If you need this service for any reason I recommend them.  I am moving to the area from Alabama soon and they will doing my mobile auto cleaning and needs from now on.   I highly recommend them.  I was rescued from a bad situation if you know what I mean.\",\n",
       "   'categories': 'Home Cleaning, Automotive, Auto Detailing, Home Services, Car Wash',\n",
       "   'doc_type': 'Home Cleaning, Automotive, Auto Detailing, Home Services, Car Wash',\n",
       "   'stars_rating': 5,\n",
       "   'location_coordinates': '35.3717187,-80.6031602',\n",
       "   '_version_': 1798185584946053120},\n",
       "  {'id': '3ULTEwOOEFOLGsri-14ZIQ',\n",
       "   'business_name': 'The Southern Nest',\n",
       "   'city': 'Indian Land',\n",
       "   'state': 'SC',\n",
       "   'content': \"Absolutely in love with The Southern Nest.  They have such beautiful things, and are set up just perfectly.  I could wander in there forever and still find things I didn't see before.  The staff is wonderful, friendly and SO helpful.  I was looking for something containing cardinals, angels, or butterflies, and they led me to what they had.......which was wonderful.  I go back there again and again. They always have something new and different!\",\n",
       "   'categories': 'Accessories, Fashion, Home & Garden, Gift Shops, Furniture Stores, Shopping, Home Decor, Flowers & Gifts',\n",
       "   'doc_type': 'Accessories, Fashion, Home & Garden, Gift Shops, Furniture Stores, Shopping, Home Decor, Flowers & Gifts',\n",
       "   'stars_rating': 5,\n",
       "   'location_coordinates': '34.937489,-80.83827',\n",
       "   '_version_': 1798185584974364672},\n",
       "  {'id': 'g8j1m9_GaCvQGPcvNTn6dQ',\n",
       "   'business_name': 'Split Second Sound',\n",
       "   'city': 'Stallings',\n",
       "   'state': 'NC',\n",
       "   'content': 'LOVE LOVE LOVE their new location uptown. Vinny was awesome! I will defiantly use them again. :)',\n",
       "   'categories': 'Event Planning & Services, Amusement Parks, Party & Event Planning, DJs, Active Life',\n",
       "   'doc_type': 'Event Planning & Services, Amusement Parks, Party & Event Planning, DJs, Active Life',\n",
       "   'stars_rating': 5,\n",
       "   'location_coordinates': '35.075774,-80.695902',\n",
       "   '_version_': 1798185584983801856},\n",
       "  {'id': '8ldY6-AZ5uRocBCzhaYtRQ',\n",
       "   'business_name': 'Mattress Firm Stonecrest at Piper Glen',\n",
       "   'city': 'Charlotte',\n",
       "   'state': 'NC',\n",
       "   'content': 'Bought our mattress here- customer service was rock solid and helpful.  All good!  Would buy from them again.  Free delivery',\n",
       "   'categories': 'Home Decor, Home & Garden, Shopping, Mattresses, Furniture Stores',\n",
       "   'doc_type': 'Home Decor, Home & Garden, Shopping, Mattresses, Furniture Stores',\n",
       "   'stars_rating': 5,\n",
       "   'location_coordinates': '35.0591334,-80.8130775',\n",
       "   '_version_': 1798185585185128448},\n",
       "  {'id': 'rpK6XXAfFZIVb2amLgjDDg',\n",
       "   'business_name': \"Carolina Buyer's Agent\",\n",
       "   'city': 'Charlotte',\n",
       "   'state': 'NC',\n",
       "   'content': \"This is our 5th house buy, and Julie is the best agent we have ever used.  I wouldn't hesitate to recommend her to everyone. \\n\\nWe are new to the area, so her attention to detail and knowledge of North Carolina real estate law saved us money and time, right up to a mistake she caught at closing that put over $600 right back in our pocket.\\n\\nJulie is warm, savvy, and a pleasure to work with.  She was available everytime we called, and proactive if she saw potential problems, never hesitating to go directly to the seller to advocate for us.\\n\\nShe listened to our wants and needs to help us find not only the perfect home but the perfect neighborhood.  I trust Julie 100%, and can't thank her enough for a painless experience, at least on our part.  We love our new home!\",\n",
       "   'categories': 'Real Estate Services, Real Estate, Home Services, Real Estate Agents',\n",
       "   'doc_type': 'Real Estate Services, Real Estate, Home Services, Real Estate Agents',\n",
       "   'stars_rating': 5,\n",
       "   'location_coordinates': '35.2146586,-80.8599193',\n",
       "   '_version_': 1798185585193517056}]}"
      ]
     },
     "execution_count": 26,
     "metadata": {},
     "output_type": "execute_result"
    }
   ],
   "source": [
    "reviews_collection = engine.get_collection(\"reviews\")\n",
    "reviews_collection.search(query=query_string)"
   ]
  },
  {
   "cell_type": "code",
   "execution_count": 27,
   "metadata": {
    "tags": []
   },
   "outputs": [
    {
     "data": {
      "text/html": [
       "<iframe src=\"http://localhost:2345/semantic-search?q=good+kimchi+near+charlotte&submit=true\" width=100% height=\"800\"></iframe>\n"
      ],
      "text/plain": [
       "<IPython.core.display.HTML object>"
      ]
     },
     "metadata": {},
     "output_type": "display_data"
    }
   ],
   "source": [
    "%%html\n",
    "<iframe src=\"http://localhost:2345/semantic-search?q=good+kimchi+near+charlotte&submit=true\" width=100% height=\"800\"></iframe>"
   ]
  },
  {
   "cell_type": "code",
   "execution_count": 28,
   "metadata": {
    "tags": []
   },
   "outputs": [
    {
     "name": "stdout",
     "output_type": "stream",
     "text": [
      "Stopping webserver (pid: 10007)\n"
     ]
    }
   ],
   "source": [
    "#Cleanup so webserver doesn't keep running after you're done\n",
    "stop_running_webservers()"
   ]
  },
  {
   "cell_type": "markdown",
   "metadata": {},
   "source": [
    "## Success!\n",
    "\n",
    "Up next: Chapter 8 - [Signals Boosting Models](../ch08/1.signals-boosting.ipynb)"
   ]
  }
 ],
 "metadata": {
  "kernelspec": {
   "display_name": "Python 3 (ipykernel)",
   "language": "python",
   "name": "python3"
  }
 },
 "nbformat": 4,
 "nbformat_minor": 4
}
