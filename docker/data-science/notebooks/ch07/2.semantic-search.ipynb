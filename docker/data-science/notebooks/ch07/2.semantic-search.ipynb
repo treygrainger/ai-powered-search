{
 "cells": [
  {
   "cell_type": "markdown",
   "metadata": {},
   "source": [
    "# Semantic Search Application"
   ]
  },
  {
   "cell_type": "code",
   "execution_count": 1,
   "metadata": {},
   "outputs": [],
   "source": [
    "import sys\n",
    "sys.path.append('..')\n",
    "sys.path.append(\"webserver\")\n",
    "from aips import *\n",
    "from webserver.semantic_search.engine import *\n",
    "engine = get_engine()"
   ]
  },
  {
   "cell_type": "markdown",
   "metadata": {},
   "source": [
    "## Starting the Reviews Search Web Server and Launching the Search Page"
   ]
  },
  {
   "cell_type": "code",
   "execution_count": null,
   "metadata": {},
   "outputs": [],
   "source": [
    "def get_running_webservers():\n",
    "    already_running_webservers = ! ps -ef | grep '[s]tart-webserver.py' | awk '{print $2}'\n",
    "    return already_running_webservers\n",
    "    \n",
    "def stop_running_webservers():\n",
    "    already_running_webservers = get_running_webservers()\n",
    "    for pid in already_running_webservers:\n",
    "        print(\"Stopping webserver (pid: \" + pid + \")\")\n",
    "        results = ! xargs kill -9 {pid}\n",
    "\n",
    "def start_reviews_search_webserver():\n",
    "    stop_running_webservers() #in case it was already running\n",
    "    ! pip install staticmap\n",
    "    get_ipython().system = os.system\n",
    "    ! cd ../webserver && python start-webserver.py &\n",
    "    if len(get_running_webservers()) > 0:\n",
    "        print(\"Successfully Started Webserver (pid: \" + get_running_webservers()[0] + \")!\")"
   ]
  },
  {
   "cell_type": "markdown",
   "metadata": {},
   "source": [
    "### Listing 7.2"
   ]
  },
  {
   "cell_type": "code",
   "execution_count": null,
   "metadata": {},
   "outputs": [],
   "source": [
    "#Start the web server\n",
    "start_reviews_search_webserver()\n"
   ]
  },
  {
   "cell_type": "code",
   "execution_count": null,
   "metadata": {},
   "outputs": [],
   "source": [
    "%%html\n",
    "<iframe src=\"http://localhost:2345/search\" width=100% height=\"800\"></iframe>\n"
   ]
  },
  {
   "cell_type": "markdown",
   "metadata": {
    "tags": []
   },
   "source": [
    "%%html\n",
    "<iframe src=\"http://localhost:2345/search?q=bbq+near+charlotte\" width=100% height=\"800\"></iframe>"
   ]
  },
  {
   "cell_type": "markdown",
   "metadata": {
    "tags": []
   },
   "source": [
    "### Figure 7.4"
   ]
  },
  {
   "cell_type": "code",
   "execution_count": null,
   "metadata": {
    "tags": []
   },
   "outputs": [],
   "source": [
    "%%html\n",
    "<iframe src=\"http://localhost:2345/search?q=bbq+charlotte\" width=100% height=\"800\"></iframe>"
   ]
  },
  {
   "cell_type": "markdown",
   "metadata": {
    "tags": []
   },
   "source": [
    "### Figure 7.5"
   ]
  },
  {
   "cell_type": "code",
   "execution_count": null,
   "metadata": {
    "tags": []
   },
   "outputs": [],
   "source": [
    "%%html\n",
    "<iframe src=\"http://localhost:2345/semantic-search?q=top+kimchi+near+charlotte&submit=false\" width=100% height=\"800\"></iframe>"
   ]
  },
  {
   "cell_type": "markdown",
   "metadata": {
    "tags": []
   },
   "source": [
    "### Figure 7.6"
   ]
  },
  {
   "cell_type": "code",
   "execution_count": null,
   "metadata": {
    "tags": []
   },
   "outputs": [],
   "source": [
    "%%html\n",
    "<iframe src=\"http://localhost:2345/search?q=top+kimchi+near+charlotte&submit=false\" width=100% height=\"800\"></iframe>"
   ]
  },
  {
   "cell_type": "markdown",
   "metadata": {
    "tags": []
   },
   "source": [
    "### Figure 7.7"
   ]
  },
  {
   "cell_type": "code",
   "execution_count": null,
   "metadata": {
    "tags": []
   },
   "outputs": [],
   "source": [
    "%%html\n",
    "<iframe src=\"http://localhost:2345/semantic-search?q=top+kimchi+near+charlotte&submit=true\" width=100% height=\"800\"></iframe>"
   ]
  },
  {
   "cell_type": "markdown",
   "metadata": {},
   "source": [
    "### Listing 7.3"
   ]
  },
  {
   "cell_type": "code",
   "execution_count": null,
   "metadata": {},
   "outputs": [],
   "source": [
    "! cat ../data/reviews/entities.csv"
   ]
  },
  {
   "cell_type": "code",
   "execution_count": null,
   "metadata": {},
   "outputs": [],
   "source": []
  },
  {
   "cell_type": "code",
   "execution_count": null,
   "metadata": {},
   "outputs": [],
   "source": [
    "#Cleanup so webserver doesn't keep running after you're done\n",
    "stop_running_webservers()"
   ]
  },
  {
   "cell_type": "markdown",
   "metadata": {},
   "source": [
    "### Listing 7.6"
   ]
  },
  {
   "cell_type": "code",
   "execution_count": 6,
   "metadata": {},
   "outputs": [],
   "source": [
    "# %load -s tag_query webserver/semantic_search/engine/__init__\n",
    "def tag_query():\n",
    "    return '''json.nl=map&sort=popularity%20desc&matchText=true&\n",
    "        echoParams=all&fl=id,type,canonical_form,name,country:countrycode_s,\n",
    "        admin_area:admin_code_1_s,popularity,*_p,semantic_function'''\n"
   ]
  },
  {
   "cell_type": "code",
   "execution_count": 9,
   "metadata": {
    "tags": []
   },
   "outputs": [
    {
     "ename": "TypeError",
     "evalue": "tag_query() takes 0 positional arguments but 1 was given",
     "output_type": "error",
     "traceback": [
      "\u001b[0;31m---------------------------------------------------------------------------\u001b[0m",
      "\u001b[0;31mTypeError\u001b[0m                                 Traceback (most recent call last)",
      "Cell \u001b[0;32mIn[9], line 2\u001b[0m\n\u001b[1;32m      1\u001b[0m entities_collection \u001b[38;5;241m=\u001b[39m engine\u001b[38;5;241m.\u001b[39mget_collection(\u001b[38;5;124m\"\u001b[39m\u001b[38;5;124mentities\u001b[39m\u001b[38;5;124m\"\u001b[39m)\n\u001b[0;32m----> 2\u001b[0m request \u001b[38;5;241m=\u001b[39m  \u001b[43mtag_query\u001b[49m\u001b[43m(\u001b[49m\u001b[38;5;124;43m\"\u001b[39;49m\u001b[38;5;124;43mtop kimchi near charlotte\u001b[39;49m\u001b[38;5;124;43m\"\u001b[39;49m\u001b[43m)\u001b[49m\n\u001b[1;32m      3\u001b[0m engine\u001b[38;5;241m.\u001b[39mtag(entities_collection, request, \u001b[38;5;28;01mNone\u001b[39;00m)\n",
      "\u001b[0;31mTypeError\u001b[0m: tag_query() takes 0 positional arguments but 1 was given"
     ]
    }
   ],
   "source": [
    "entities_collection = engine.get_collection(\"entities\")\n",
    "request =  tag_query()\n",
    "engine.tag(entities_collection, request, \"top kimchi near charlotte\")"
   ]
  },
  {
   "cell_type": "markdown",
   "metadata": {},
   "source": [
    "### Listing 7.7"
   ]
  },
  {
   "cell_type": "code",
   "execution_count": null,
   "metadata": {},
   "outputs": [],
   "source": [
    "# %load -s process_semantic_query ../webserver/semantic_search\n",
    "def process_semantic_query(collection, query_bytes):\n",
    "    text = query_bytes.decode('UTF-8')\n",
    "    request =  tag_request(\"top kimchi near charlotte\")\n",
    "    tagger_data = engine.tag(collection, request)\n",
    "    \n",
    "    final_query = resolve_query(query_tree)\n",
    "    resolved_query = query_tree_to_resolved_string(query_tree) \n",
    "\n",
    "    response = {\n",
    "        \"query_tree\": query_tree, \"tagger_data\": tagged_response, \"tagged_query\": tagged_query, \n",
    "        \"parsed_query\": parsed_query, \"resolved_query\": resolved_query,\n",
    "        \n",
    "    }\n",
    "\n",
    "    return response\n"
   ]
  },
  {
   "cell_type": "code",
   "execution_count": null,
   "metadata": {
    "tags": []
   },
   "outputs": [],
   "source": [
    "query_bytes = bytes(\"top kimchi near charlotte\", 'UTF-8')\n",
    "processed_query = process_semantic_query(entities_collection, query_bytes)\n",
    "print(\"Tagged Query:\" + processed_query[\"tagged_query\"])\n",
    "print(\"\\nEnriched Query:\" + processed_query[\"enriched_query\"])\n",
    "print(\"\\nTransformed Query:\" + processed_query[\"transformed_query\"])"
   ]
  },
  {
   "cell_type": "markdown",
   "metadata": {},
   "source": [
    "### Listing 7.8"
   ]
  },
  {
   "cell_type": "code",
   "execution_count": null,
   "metadata": {},
   "outputs": [],
   "source": [
    "# %load -s popularity ../webserver/semantic_search/semantic_functions\n",
    "def popularity(query, position):\n",
    "    if (len(query['query_tree']) -1 > position):\n",
    "        query['query_tree'][position] = {\"type\":\"solr\", \"query\": '+{!func v=\"mul(if(stars_i,stars_i,0),20)\"}'}\n",
    "        return True\n",
    "    else:\n",
    "        return False "
   ]
  },
  {
   "cell_type": "markdown",
   "metadata": {},
   "source": [
    "### Listing 7.9"
   ]
  },
  {
   "cell_type": "code",
   "execution_count": null,
   "metadata": {},
   "outputs": [],
   "source": [
    "# %load -s location_distance,create_geo_filter ../webserver/semantic_search/semantic_functions\n",
    "def location_distance(query, position):      \n",
    "    if (len(query[\"query_tree\"]) -1 > position):\n",
    "        nextEntity = query[\"query_tree\"][position + 1]\n",
    "        if (nextEntity[\"type\"] == \"city\"):\n",
    "        \n",
    "            query[\"query_tree\"].pop(position + 1)\n",
    "            query[\"query_tree\"][position] = { \"type\":\"solr\", \n",
    "                                             \"query\": create_geo_filter(nextEntity['location_p'], \n",
    "                                             \"location_p\", 50)}\n",
    "            return True\n",
    "\n",
    "    return False \n",
    "\n",
    "def create_geo_filter(coordinates, field, distanceInKM):\n",
    "    return \"+{!geofilt d=\" + str(distanceInKM) + \" sfield=\\\"\" + field + \"\\\" pt=\\\"\" + coordinates + \"\\\"}\""
   ]
  },
  {
   "cell_type": "markdown",
   "metadata": {},
   "source": [
    "### Listing 7.10"
   ]
  },
  {
   "cell_type": "code",
   "execution_count": null,
   "metadata": {
    "tags": []
   },
   "outputs": [],
   "source": [
    "# %load -s traverse_skg webserver/semantic_search/engine/semantic_knowledge_graph\n",
    "def traverse_skg(collection, keyword):\n",
    "    query = {\n",
    "      \"params\": {\"fore\": keyword, \"back\": \"*:*\", \"df\": \"text_t\"},\n",
    "      \"query\": \"*:*\", \"limit\": 0,\n",
    "      \"facet\": {\n",
    "        \"term_needing_vector\": {\n",
    "          \"type\": \"query\", \"query\": keyword,\n",
    "          \"facet\": {\n",
    "            \"related_terms\": {\n",
    "              \"type\": \"terms\", \"field\": \"text_t\",\n",
    "              \"limit\": 3, \"sort\": {\"r1\": \"desc\"},\n",
    "              \"facet\": {\"r1\": \"relatedness($fore,$back)\"}},\n",
    "            \"doc_type\": {\n",
    "              \"type\": \"terms\", \"field\": \"doc_type\",\n",
    "              \"limit\": 1, \"sort\": {\"r2\": \"desc\"},\n",
    "              \"facet\": {\"r2\": \"relatedness($fore,$back)\"}}}}}}\n",
    "    return collection.search(query)\n"
   ]
  },
  {
   "cell_type": "code",
   "execution_count": null,
   "metadata": {
    "tags": []
   },
   "outputs": [],
   "source": [
    "# %load -s parse_skg_response ../webserver/semantic_search/engine/semantic_knowledge_graph\n",
    "def parse_skg_response(skg_response):\n",
    "    parsed = {}\n",
    "    related_term_nodes = {}\n",
    "    if (\"facets\" in skg_response and \"term_needing_vector\" in skg_response[\"facets\"]):    \n",
    "        if (\"doc_type\" in skg_response[\"facets\"][\"term_needing_vector\"] \n",
    "          and \"buckets\" in skg_response[\"facets\"][\"term_needing_vector\"][\"doc_type\"] \n",
    "          and len(skg_response[\"facets\"][\"term_needing_vector\"][\"doc_type\"][\"buckets\"]) > 0 ):\n",
    "            parsed[\"category\"] = skg_response[\"facets\"][\"term_needing_vector\"][\"doc_type\"][\"buckets\"][0][\"val\"] #just top one for now\n",
    "    \n",
    "        if (\"related_terms\" in skg_response[\"facets\"][\"term_needing_vector\"] \n",
    "          and \"buckets\" in skg_response[\"facets\"][\"term_needing_vector\"][\"related_terms\"] \n",
    "          and len(skg_response[\"facets\"][\"term_needing_vector\"][\"related_terms\"][\"buckets\"]) > 0 ): #at least one entry    \n",
    "            related_term_nodes = skg_response[\"facets\"][\"term_needing_vector\"][\"related_terms\"][\"buckets\"]\n",
    "                \n",
    "    term_vector = \"\"\n",
    "    for related_term_node in related_term_nodes:\n",
    "        if (len(term_vector) > 0): term_vector += \" \" \n",
    "        term_vector += related_term_node[\"val\"] + \"^\" + \"{:.4f}\".format(related_term_node[\"r1\"][\"relatedness\"])\n",
    "    \n",
    "    parsed[\"term_vector\"] = term_vector\n",
    "\n",
    "    return parsed\n"
   ]
  },
  {
   "cell_type": "code",
   "execution_count": null,
   "metadata": {
    "tags": []
   },
   "outputs": [],
   "source": [
    "query = \"kimchi\"\n",
    "reviews_collection = engine.get_collection(\"reviews\")\n",
    "skg_response = traverse_skg(reviews_collection, query)\n",
    "parse_skg_response(skg_response)"
   ]
  },
  {
   "cell_type": "code",
   "execution_count": null,
   "metadata": {
    "tags": []
   },
   "outputs": [],
   "source": [
    "def skg(query):\n",
    "    return parse_skg_response(traverse_skg(query))\n",
    "\n",
    "other_queries = [\"bbq\", \"korean bbq\", \"lasagna\", \"karaoke\", \"drive through\"]\n",
    "for query in other_queries: print(f\"{query}: {skg(query)}\")\n"
   ]
  },
  {
   "cell_type": "markdown",
   "metadata": {},
   "source": [
    "### Listing 7.11"
   ]
  },
  {
   "cell_type": "code",
   "execution_count": null,
   "metadata": {},
   "outputs": [],
   "source": [
    "#%load process_query_tree ../webserver/semantic_search/query_tree\n",
    "def escape_quotes_in_query(query):\n",
    "    return query.replace('\"', '\\\\\"')\n",
    "\n",
    "def to_query_string(query_tree):\n",
    "    return \" \".join([node[\"query\"] for node in query_tree])\n",
    "\n",
    "def enrich(query_tree):\n",
    "    query_tree = process_semantic_functions(query_tree)    \n",
    "    for i in range(len(query_tree)):\n",
    "        item = query_tree[i]\n",
    "        if item[\"type\"] == \"keyword\":\n",
    "            skg_response = traverse_skg(item[\"surface_form\"])\n",
    "            enrichments = parse_skg_response(skg_response)\n",
    "            query_tree[i] = {\"type\": \"skg_enriched\", \n",
    "                             \"enrichments\": enrichments}                    \n",
    "    return query_tree\n",
    "\n",
    "def transform_query(query_tree):\n",
    "    for i in range(len(query_tree)):\n",
    "        item = query_tree[i]\n",
    "        additional_query = \"\"\n",
    "        match item[\"type\"]:\n",
    "            case \"solr\":\n",
    "                pass\n",
    "            case \"skg_enriched\":\n",
    "                enrichments = item[\"enrichments\"]\n",
    "                query_string = \"\"\n",
    "                \n",
    "                if \"term_vector\" in enrichments:\n",
    "                    query_string = enrichments[\"term_vector\"]\n",
    "                if \"category\" in enrichments and len(query_string) > 0:\n",
    "                    query_string += f' +doc_type:\"{enrichments[\"category\"]}\"'\n",
    "                if (len(query_string) == 0):\n",
    "                    query_string = item[\"surface_form\"]\n",
    "                    \n",
    "                additional_query = '{!edismax v=\"' + escape_quotes_in_query(query_string) + '\"}'\n",
    "            case \"color\":\n",
    "                additional_query = f'+colors_s:\"{item[\"canonical_form\"]}\"'\n",
    "            case \"known_item\" | \"event\":\n",
    "                additional_query = f'+name_s:\"{item[\"canonical_form\"]}\"'\n",
    "            case \"city\":\n",
    "                additional_query = f'+city_t:\"{str(item[\"name\"])}\"'\n",
    "            case \"brand\":\n",
    "                additional_query = f'+brand_s:\"{item[\"canonical_form\"]}\"'\n",
    "            case _:\n",
    "                additional_query = \"+{!edismax v=\\\"\" + escape_quotes_in_query(item[\"surface_form\"]) + \"\\\"}\"\n",
    "        if additional_query:\n",
    "            query_tree[i] = {\"type\": \"solr\", \"query\": additional_query}                    \n",
    "    return query_tree\n",
    "\n",
    "def process_semantic_functions(query_tree):\n",
    "    position = 0\n",
    "    while position < len(query_tree):\n",
    "        item = query_tree[position]        \n",
    "        # process commands. For now, going left to right and then sorting by priority when ambiguous commands occur; \n",
    "        # consider other weighting options later.\n",
    "        if (item['type'] == \"semantic_function\"):\n",
    "            commandIsResolved = False\n",
    "    \n",
    "            command = item['semantic_function']\n",
    "\n",
    "            if (command):\n",
    "                query = {\"query_tree\": query_tree} #pass by-ref\n",
    "                commandIsResolved = eval(item['semantic_function']); #Careful... there is code in the docs that is being eval'd. \n",
    "                #MUST ENSURE THESE DOCS ARE SECURE, OTHERWISE THIS WILL INTRODUCE A POTENTIAL SECURITY THREAT (CODE INJECTION)\n",
    "            \n",
    "            #else:\n",
    "                #Alert (\"Error: \" + query.query_tree.canonical_form + \" has no command function.\");\n",
    "            \n",
    "            if (False == commandIsResolved):\n",
    "                #Bad command. Just remove for now... could alternatively keep it and run as a keyword\n",
    "                query_tree.pop(position) #.splice(position,1)  \n",
    "\n",
    "        position += 1\n",
    "\n",
    "    return query_tree "
   ]
  },
  {
   "cell_type": "code",
   "execution_count": null,
   "metadata": {
    "tags": []
   },
   "outputs": [],
   "source": [
    "query = \"good kimchi in charlotte\"\n",
    "tagger_data = json.loads(tag_query(bytes(query, \"utf-8\")))\n",
    "query_tree = generate_query_tree(query, tagger_data)\n",
    "enriched_query_tree = enrich(query_tree)\n",
    "processed_query_tree = transform_query(enriched_query_tree)"
   ]
  },
  {
   "cell_type": "markdown",
   "metadata": {},
   "source": [
    "### Listing 7.12"
   ]
  },
  {
   "cell_type": "code",
   "execution_count": null,
   "metadata": {},
   "outputs": [],
   "source": [
    "# %load -s to_search_request ../webserver/semantic_search/query_tree/transform\n",
    "def to_search_request(query_tree):\n",
    "    return \" \".join([node[\"query\"] for node in query_tree])\n"
   ]
  },
  {
   "cell_type": "code",
   "execution_count": null,
   "metadata": {
    "tags": []
   },
   "outputs": [],
   "source": [
    "### TODO: the following is added to the manuscript. Should decouple query_tree generation so it can be passed in and just work\n",
    "#collection = engine.get_collection(\"reviews\")\n",
    "def to_query_string(query_tree):\n",
    "    return \" \".join([node[\"query\"] for node in query_tree])\n",
    "        \n",
    "query_string = to_search_request(query_tree)\n",
    "query_string"
   ]
  },
  {
   "cell_type": "code",
   "execution_count": null,
   "metadata": {},
   "outputs": [],
   "source": [
    "reviews_collection = engine.get_collection(\"reviews\")\n",
    "request = {\"query\": query_string}\n",
    "response = reviews_collection.search(request)"
   ]
  },
  {
   "cell_type": "code",
   "execution_count": null,
   "metadata": {
    "tags": []
   },
   "outputs": [],
   "source": [
    "%%html\n",
    "<iframe src=\"http://localhost:2345/semantic-search?q=good+kimchi+near+charlotte&submit=true\" width=100% height=\"800\"></iframe>"
   ]
  },
  {
   "cell_type": "code",
   "execution_count": null,
   "metadata": {
    "tags": []
   },
   "outputs": [],
   "source": [
    "#Cleanup so webserver doesn't keep running after you're done\n",
    "stop_running_webservers()"
   ]
  },
  {
   "cell_type": "markdown",
   "metadata": {},
   "source": [
    "## Success!\n",
    "\n",
    "Up next: Chapter 8 - [Signals Boosting Models](../ch08/1.signals-boosting.ipynb)"
   ]
  }
 ],
 "metadata": {
  "kernelspec": {
   "display_name": "Python 3 (ipykernel)",
   "language": "python",
   "name": "python3"
  },
  "language_info": {
   "codemirror_mode": {
    "name": "ipython",
    "version": 3
   },
   "file_extension": ".py",
   "mimetype": "text/x-python",
   "name": "python",
   "nbconvert_exporter": "python",
   "pygments_lexer": "ipython3",
   "version": "3.10.9"
  }
 },
 "nbformat": 4,
 "nbformat_minor": 2
}
