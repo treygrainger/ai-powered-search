{
 "cells": [
  {
   "cell_type": "markdown",
   "metadata": {},
   "source": [
    "# [ Chapter 8 - Signals Boosting Models ]\n",
    "# Signals Boosting"
   ]
  },
  {
   "cell_type": "markdown",
   "metadata": {},
   "source": [
    "NOTE: This notebook depends upon the the Retrotech dataset. If you have any issues, please rerun the [Setting up the Retrotech Dataset](../ch04/1.setting-up-the-retrotech-dataset.ipynb) notebook."
   ]
  },
  {
   "cell_type": "code",
   "execution_count": 5,
   "metadata": {},
   "outputs": [],
   "source": [
    "import sys\n",
    "from datetime import datetime\n",
    "sys.path.append('..')\n",
    "from aips import *\n",
    "import os\n",
    "from IPython.display import display,HTML\n",
    "from pyspark.sql import SparkSession\n",
    "spark = SparkSession.builder.appName(\"aips-ch8\").getOrCreate()\n",
    "engine = get_engine()"
   ]
  },
  {
   "cell_type": "markdown",
   "metadata": {},
   "source": [
    "## Keyword Search with No Signals Boosting"
   ]
  },
  {
   "cell_type": "markdown",
   "metadata": {},
   "source": [
    "### Figure 8.1"
   ]
  },
  {
   "cell_type": "code",
   "execution_count": 19,
   "metadata": {},
   "outputs": [
    {
     "data": {
      "text/html": [
       "<div id=\"demo\">\n",
       "        <input style=\"width:50%\" readonly type=\"text\" name=\"q\" value=\"ipad\">\n",
       "        <input readonly type=\"submit\" value=\"Search\">\n",
       "\n",
       "    <div class=\"results\">\n",
       "    \t\n",
       "\n",
       "    </div>\n",
       "</div>\n",
       "    \t<div style=\"position: relative; width: 100%; height:auto; overflow: auto;\">\n",
       "\t    \t<div style=\"position: relative; float:left; width: 120px; margin-top:25px\">\n",
       "\t    \t\t<img style=\"width:100px; height: auto; max-height:150px\" src=\"../data/retrotech/images/400037252074.jpg\">\n",
       "\t    \t</div>\n",
       "\t    \t<div style=\"position:relative; float:left; clear:none; width: 80%; height:auto\">\n",
       "\t    \t\t<p><strong>Name:</strong> iPad&#xAE; - Refurbished Digital A/V Adapter | <strong>Manufacturer:</strong> iPad&#xAE;</p>\n",
       "\t    \t\t<p> \n",
       "\t    \t\t</p>\n",
       "\t    \t</div>\n",
       "    \t</div>\n",
       "    \t\n",
       "\t\t<div style=\"position:relative; clear:both; content: ' '; display: block; height: 1px; margin-top: 10px; margin-bottom:20px\">\n",
       "\t\t\t<hr style=\"color: gray; width: 95%;\" />\n",
       "\t\t</div>\n",
       "\t\t\n",
       "    \t<div style=\"position: relative; width: 100%; height:auto; overflow: auto;\">\n",
       "\t    \t<div style=\"position: relative; float:left; width: 120px; margin-top:25px\">\n",
       "\t    \t\t<img style=\"width:100px; height: auto; max-height:150px\" src=\"../data/retrotech/images/400037252258.jpg\">\n",
       "\t    \t</div>\n",
       "\t    \t<div style=\"position:relative; float:left; clear:none; width: 80%; height:auto\">\n",
       "\t    \t\t<p><strong>Name:</strong> iPad&#xAE; - Refurbished USB Power Adapter | <strong>Manufacturer:</strong> iPad&#xAE;</p>\n",
       "\t    \t\t<p> \n",
       "\t    \t\t</p>\n",
       "\t    \t</div>\n",
       "    \t</div>\n",
       "    \t\n",
       "\t\t<div style=\"position:relative; clear:both; content: ' '; display: block; height: 1px; margin-top: 10px; margin-bottom:20px\">\n",
       "\t\t\t<hr style=\"color: gray; width: 95%;\" />\n",
       "\t\t</div>\n",
       "\t\t\n",
       "    \t<div style=\"position: relative; width: 100%; height:auto; overflow: auto;\">\n",
       "\t    \t<div style=\"position: relative; float:left; width: 120px; margin-top:25px\">\n",
       "\t    \t\t<img style=\"width:100px; height: auto; max-height:150px\" src=\"../data/retrotech/images/400037252616.jpg\">\n",
       "\t    \t</div>\n",
       "\t    \t<div style=\"position:relative; float:left; clear:none; width: 80%; height:auto\">\n",
       "\t    \t\t<p><strong>Name:</strong> iPad&#xAE; - Refurbished Dock Connector-to-VGA Adapter | <strong>Manufacturer:</strong> iPad&#xAE;</p>\n",
       "\t    \t\t<p> \n",
       "\t    \t\t</p>\n",
       "\t    \t</div>\n",
       "    \t</div>\n",
       "    \t\n",
       "\t\t<div style=\"position:relative; clear:both; content: ' '; display: block; height: 1px; margin-top: 10px; margin-bottom:20px\">\n",
       "\t\t\t<hr style=\"color: gray; width: 95%;\" />\n",
       "\t\t</div>\n",
       "\t\t"
      ],
      "text/plain": [
       "<IPython.core.display.HTML object>"
      ]
     },
     "metadata": {},
     "output_type": "display_data"
    }
   ],
   "source": [
    "query = \"ipad\"\n",
    "collection = \"products\"\n",
    "request = {\n",
    "    \"query\": query,\n",
    "    \"fields\": [\"upc\", \"name\", \"manufacturer\", \"score\"],\n",
    "    \"limit\": 3,\n",
    "    \"params\": {\n",
    "      \"qf\": \"name manufacturer longDescription\",\n",
    "      \"defType\": \"edismax\",\n",
    "      \"indent\": \"true\",\n",
    "      \"sort\": \"score desc, upc asc\"\n",
    "    }\n",
    "}\n",
    "\n",
    "results = engine.search(collection, request)\n",
    "display_product_search(query, engine.docs(results))"
   ]
  },
  {
   "cell_type": "markdown",
   "metadata": {},
   "source": [
    "## Create Signals Boosts (Signals Aggregation)"
   ]
  },
  {
   "cell_type": "markdown",
   "metadata": {},
   "source": [
    "### Basic Signals Boosting Model"
   ]
  },
  {
   "cell_type": "code",
   "execution_count": 7,
   "metadata": {},
   "outputs": [],
   "source": [
    "def aggregate_signals(signals_collection, signals_aggregation_collection, signals_aggregation_query):\n",
    "\n",
    "    engine.create_collection(signals_aggregation_collection)\n",
    "\n",
    "    print(\"Aggregating Signals to Create Signals Boosts...\")\n",
    "    signals_opts={\"zkhost\": \"aips-zk\", \"collection\": signals_collection}\n",
    "    signals_boosting_opts={\"zkhost\": \"aips-zk\", \"collection\": signals_aggregation_collection, \n",
    "                           \"gen_uniq_key\": \"true\", \"commit_within\": \"5000\"}\n",
    "    df = spark.read.format(\"solr\").options(**signals_opts).load()\n",
    "    df.createOrReplaceTempView(\"signals\")\n",
    "\n",
    "    spark.sql(signals_aggregation_query).write.format(\"solr\").options(**signals_boosting_opts).mode(\"overwrite\").save()\n",
    "    print(\"Signals Aggregation Completed!\")"
   ]
  },
  {
   "cell_type": "code",
   "execution_count": 8,
   "metadata": {},
   "outputs": [
    {
     "name": "stdout",
     "output_type": "stream",
     "text": [
      "Wiping 'basic_signals_boosts' collection\n",
      "Status: Success\n",
      "Creating 'basic_signals_boosts' collection\n",
      "Status: Success\n",
      "Aggregating Signals to Create Signals Boosts...\n",
      "Signals Aggregation Completed!\n"
     ]
    }
   ],
   "source": [
    "signals_collection = \"signals\"\n",
    "signals_aggregation_collection = \"basic_signals_boosts\"\n",
    "\n",
    "basic_signals_aggregation_query = \"\"\"\n",
    "  select q.target as query, c.target as doc, count(c.target) as boost\n",
    "    from signals c left join signals q on c.query_id = q.query_id\n",
    "    where c.type = 'click' AND q.type = 'query'\n",
    "    group by query, doc\n",
    "    order by boost desc\n",
    "  \"\"\"\n",
    "\n",
    "aggregate_signals(signals_collection, signals_aggregation_collection, basic_signals_aggregation_query)"
   ]
  },
  {
   "cell_type": "markdown",
   "metadata": {},
   "source": [
    "## Search with Signals Boosts Applied"
   ]
  },
  {
   "cell_type": "markdown",
   "metadata": {},
   "source": [
    "### Signals Boosting Query"
   ]
  },
  {
   "cell_type": "code",
   "execution_count": 20,
   "metadata": {},
   "outputs": [
    {
     "name": "stdout",
     "output_type": "stream",
     "text": [
      "Boost Documents:\n",
      "[{'doc': '885909457588', 'boost': 966}, {'doc': '885909457595', 'boost': 205}, {'doc': '885909471812', 'boost': 202}, {'doc': '886111287055', 'boost': 109}, {'doc': '843404073153', 'boost': 73}, {'doc': '885909457601', 'boost': 62}, {'doc': '635753493559', 'boost': 62}, {'doc': '885909472376', 'boost': 61}, {'doc': '610839379408', 'boost': 29}, {'doc': '884962753071', 'boost': 28}]\n",
      "\n",
      "Boost Query: \n",
      "\"885909457588\"^966 \"885909457595\"^205 \"885909471812\"^202 \"886111287055\"^109 \"843404073153\"^73 \"885909457601\"^62 \"635753493559\"^62 \"885909472376\"^61 \"610839379408\"^29 \"884962753071\"^28\n",
      "\n",
      "Main Query:\n",
      "{'query': 'ipad', 'fields': ['upc', 'name', 'manufacturer', 'score'], 'limit': 3, 'params': {'qf': 'name manufacturer longDescription', 'defType': 'edismax', 'indent': 'true', 'sort': 'score desc, upc asc', 'boost': 'sum(1,query({! df=upc v=$signals_boosting}))', 'signals_boosting': '\"885909457588\"^966 \"885909457595\"^205 \"885909471812\"^202 \"886111287055\"^109 \"843404073153\"^73 \"885909457601\"^62 \"635753493559\"^62 \"885909472376\"^61 \"610839379408\"^29 \"884962753071\"^28'}}\n"
     ]
    },
    {
     "data": {
      "text/html": [
       "<div id=\"demo\">\n",
       "        <input style=\"width:50%\" readonly type=\"text\" name=\"q\" value=\"ipad\">\n",
       "        <input readonly type=\"submit\" value=\"Search\">\n",
       "\n",
       "    <div class=\"results\">\n",
       "    \t\n",
       "\n",
       "    </div>\n",
       "</div>\n",
       "    \t<div style=\"position: relative; width: 100%; height:auto; overflow: auto;\">\n",
       "\t    \t<div style=\"position: relative; float:left; width: 120px; margin-top:25px\">\n",
       "\t    \t\t<img style=\"width:100px; height: auto; max-height:150px\" src=\"../data/retrotech/images/885909457588.jpg\">\n",
       "\t    \t</div>\n",
       "\t    \t<div style=\"position:relative; float:left; clear:none; width: 80%; height:auto\">\n",
       "\t    \t\t<p><strong>Name:</strong> Apple&#xAE; - iPad&#xAE; 2 with Wi-Fi - 16GB - Black | <strong>Manufacturer:</strong> Apple&#xAE;</p>\n",
       "\t    \t\t<p> \n",
       "\t    \t\t</p>\n",
       "\t    \t</div>\n",
       "    \t</div>\n",
       "    \t\n",
       "\t\t<div style=\"position:relative; clear:both; content: ' '; display: block; height: 1px; margin-top: 10px; margin-bottom:20px\">\n",
       "\t\t\t<hr style=\"color: gray; width: 95%;\" />\n",
       "\t\t</div>\n",
       "\t\t\n",
       "    \t<div style=\"position: relative; width: 100%; height:auto; overflow: auto;\">\n",
       "\t    \t<div style=\"position: relative; float:left; width: 120px; margin-top:25px\">\n",
       "\t    \t\t<img style=\"width:100px; height: auto; max-height:150px\" src=\"../data/retrotech/images/885909457595.jpg\">\n",
       "\t    \t</div>\n",
       "\t    \t<div style=\"position:relative; float:left; clear:none; width: 80%; height:auto\">\n",
       "\t    \t\t<p><strong>Name:</strong> Apple&#xAE; - iPad&#xAE; 2 with Wi-Fi - 32GB - Black | <strong>Manufacturer:</strong> Apple&#xAE;</p>\n",
       "\t    \t\t<p> \n",
       "\t    \t\t</p>\n",
       "\t    \t</div>\n",
       "    \t</div>\n",
       "    \t\n",
       "\t\t<div style=\"position:relative; clear:both; content: ' '; display: block; height: 1px; margin-top: 10px; margin-bottom:20px\">\n",
       "\t\t\t<hr style=\"color: gray; width: 95%;\" />\n",
       "\t\t</div>\n",
       "\t\t\n",
       "    \t<div style=\"position: relative; width: 100%; height:auto; overflow: auto;\">\n",
       "\t    \t<div style=\"position: relative; float:left; width: 120px; margin-top:25px\">\n",
       "\t    \t\t<img style=\"width:100px; height: auto; max-height:150px\" src=\"../data/retrotech/images/885909471812.jpg\">\n",
       "\t    \t</div>\n",
       "\t    \t<div style=\"position:relative; float:left; clear:none; width: 80%; height:auto\">\n",
       "\t    \t\t<p><strong>Name:</strong> Apple&#xAE; - iPad&#xAE; 2 with Wi-Fi - 16GB - White | <strong>Manufacturer:</strong> Apple&#xAE;</p>\n",
       "\t    \t\t<p> \n",
       "\t    \t\t</p>\n",
       "\t    \t</div>\n",
       "    \t</div>\n",
       "    \t\n",
       "\t\t<div style=\"position:relative; clear:both; content: ' '; display: block; height: 1px; margin-top: 10px; margin-bottom:20px\">\n",
       "\t\t\t<hr style=\"color: gray; width: 95%;\" />\n",
       "\t\t</div>\n",
       "\t\t"
      ],
      "text/plain": [
       "<IPython.core.display.HTML object>"
      ]
     },
     "metadata": {},
     "output_type": "display_data"
    }
   ],
   "source": [
    "query = \"ipad\"\n",
    "\n",
    "def get_query_time_boosts(query, collection):\n",
    "    boosts_query = {\n",
    "        \"query\": \"\\\"\" + query + \"\\\"\",\n",
    "        \"fields\": [\"doc\", \"boost\"],\n",
    "        \"limit\": 10,\n",
    "        \"params\": {\n",
    "          \"defType\": \"edismax\",\n",
    "          \"qf\": \"query\",\n",
    "          \"sort\": \"boost desc\"\n",
    "        }\n",
    "    }\n",
    "\n",
    "    signals_boosts = engine.docs(engine.search(collection, boosts_query))\n",
    "    print(\"Boost Documents:\")\n",
    "    print(signals_boosts)\n",
    "\n",
    "    product_boosts = \"\"\n",
    "    for entry in signals_boosts:\n",
    "        if len(product_boosts) > 0:  product_boosts += \" \"\n",
    "        product_boosts += '\"' + entry['doc'] + '\"^' + str(entry['boost'])\n",
    "\n",
    "    print(f\"\\nBoost Query: \\n{product_boosts}\\n\")\n",
    "    \n",
    "    return product_boosts\n",
    "\n",
    "\n",
    "def get_main_query(query, signals_boosts):    \n",
    "    request = {\n",
    "        \"query\": query,\n",
    "        \"fields\": [\"upc\", \"name\", \"manufacturer\", \"score\"],\n",
    "        \"limit\": 3,\n",
    "        \"params\": {\n",
    "          \"qf\": \"name manufacturer longDescription\",\n",
    "          \"defType\": \"edismax\",\n",
    "          \"indent\": \"true\",\n",
    "          \"sort\": \"score desc, upc asc\",\n",
    "          \"boost\": \"sum(1,query({! df=upc v=$signals_boosting}))\",\n",
    "          \"signals_boosting\": signals_boosts\n",
    "        }\n",
    "    }\n",
    "    \n",
    "    return request\n",
    "\n",
    "collection = \"products\"\n",
    "signals_boosts = get_query_time_boosts(query, \"basic_signals_boosts\")\n",
    "boosted_query = get_main_query(query, signals_boosts)\n",
    "print(\"Main Query:\")\n",
    "print(boosted_query)\n",
    "\n",
    "response = engine.search(collection, boosted_query)\n",
    "display_product_search(query, engine.docs(response))"
   ]
  },
  {
   "cell_type": "markdown",
   "metadata": {},
   "source": [
    "## Raw Signals Boosts (Case-sensitive)"
   ]
  },
  {
   "cell_type": "markdown",
   "metadata": {},
   "source": [
    "### Listing 8.1"
   ]
  },
  {
   "cell_type": "code",
   "execution_count": 21,
   "metadata": {},
   "outputs": [
    {
     "name": "stdout",
     "output_type": "stream",
     "text": [
      "Raw Boosted Queries\n",
      "\"iPad\" : 1050\n",
      "\"ipad\" : 966\n",
      "\"Ipad\" : 829\n",
      "\"iPad 2\" : 509\n",
      "\"ipad 2\" : 347\n",
      "\"Ipad2\" : 261\n",
      "\"ipad2\" : 238\n",
      "\"Ipad 2\" : 213\n",
      "\"I pad\" : 203\n",
      "\"i pad\" : 133\n",
      "\"IPad\" : 77\n",
      "\"Apple\" : 76\n",
      "\"I pad 2\" : 60\n",
      "\"apple ipad\" : 55\n",
      "\"Apple iPad\" : 53\n",
      "\"ipads\" : 43\n",
      "\"tablets\" : 42\n",
      "\"apple\" : 41\n",
      "\"iPads\" : 38\n",
      "\"i pad 2\" : 38\n",
      "\n"
     ]
    }
   ],
   "source": [
    "query = \"885909457588\" #most popular iPad model\n",
    "\n",
    "def show_raw_boosted_queries(collection):\n",
    "    signals_boosts_query = {\n",
    "        \"query\": \"\\\"\" + query + \"\\\"\",\n",
    "        \"fields\": [\"query\", \"boost\"],\n",
    "        \"limit\": 20,\n",
    "        \"params\": {\n",
    "          \"defType\": \"edismax\",\n",
    "          \"qf\": \"doc\",\n",
    "          \"sort\": \"boost desc\"\n",
    "        }\n",
    "    }\n",
    "    response = engine.search(collection, signals_boosts_query)\n",
    "    boosted_queries = \"\"\n",
    "    for boost in engine.docs(response):\n",
    "        boosted_queries += f'\"{boost[\"query\"]}\" : {boost[\"boost\"]}\\n'\n",
    "    print(\"Raw Boosted Queries\")\n",
    "    print(boosted_queries)\n",
    "    \n",
    "signals_boosting_collection = \"basic_signals_boosts\"    \n",
    "show_raw_boosted_queries(signals_boosting_collection)\n",
    "    "
   ]
  },
  {
   "cell_type": "markdown",
   "metadata": {},
   "source": [
    "## Normalized Signals Boosting (Case-insensitive)"
   ]
  },
  {
   "cell_type": "markdown",
   "metadata": {},
   "source": [
    "### Listing 8.2"
   ]
  },
  {
   "cell_type": "code",
   "execution_count": 22,
   "metadata": {},
   "outputs": [
    {
     "name": "stdout",
     "output_type": "stream",
     "text": [
      "Wiping 'normalized_signals_boosts' collection\n",
      "Status: Success\n",
      "Creating 'normalized_signals_boosts' collection\n",
      "Status: Success\n",
      "Aggregating Signals to Create Signals Boosts...\n",
      "Signals Aggregation Completed!\n"
     ]
    }
   ],
   "source": [
    "signals_collection = \"signals\"\n",
    "signals_boosting_collection = \"normalized_signals_boosts\"\n",
    "\n",
    "normalized_signals_aggregation_query = \"\"\"\n",
    "      select lower(q.target) as query, c.target as doc, count(c.target) as boost\n",
    "        from signals c left join signals q on c.query_id = q.query_id\n",
    "        where c.type = 'click' AND q.type = 'query'\n",
    "        group by query, doc\n",
    "        order by boost desc\n",
    "        \"\"\"\n",
    "\n",
    "aggregate_signals(signals_collection, signals_boosting_collection,\n",
    "                  normalized_signals_aggregation_query)"
   ]
  },
  {
   "cell_type": "code",
   "execution_count": 23,
   "metadata": {},
   "outputs": [
    {
     "name": "stdout",
     "output_type": "stream",
     "text": [
      "Raw Boosted Queries\n",
      "\n"
     ]
    }
   ],
   "source": [
    "show_raw_boosted_queries(signals_boosting_collection)"
   ]
  },
  {
   "cell_type": "markdown",
   "metadata": {},
   "source": [
    "## Start Wars Search before User Manipulation"
   ]
  },
  {
   "cell_type": "markdown",
   "metadata": {},
   "source": [
    "### Figure 8.2"
   ]
  },
  {
   "cell_type": "code",
   "execution_count": 25,
   "metadata": {},
   "outputs": [
    {
     "name": "stdout",
     "output_type": "stream",
     "text": [
      "Boost Documents:\n",
      "[{'doc': '45626176', 'boost': 5000}, {'doc': '024543742180', 'boost': 1490}, {'doc': '400032015667', 'boost': 186}, {'doc': '024543742074', 'boost': 127}, {'doc': '024543559856', 'boost': 117}, {'doc': '014633169546', 'boost': 107}, {'doc': '024543742098', 'boost': 81}, {'doc': '024543781875', 'boost': 67}, {'doc': '023272342654', 'boost': 39}, {'doc': '014633169522', 'boost': 32}]\n",
      "\n",
      "Boost Query: \n",
      "\"45626176\"^5000 \"024543742180\"^1490 \"400032015667\"^186 \"024543742074\"^127 \"024543559856\"^117 \"014633169546\"^107 \"024543742098\"^81 \"024543781875\"^67 \"023272342654\"^39 \"014633169522\"^32\n",
      "\n"
     ]
    },
    {
     "data": {
      "text/html": [
       "<div id=\"demo\">\n",
       "        <input style=\"width:50%\" readonly type=\"text\" name=\"q\" value=\"star wars\">\n",
       "        <input readonly type=\"submit\" value=\"Search\">\n",
       "\n",
       "    <div class=\"results\">\n",
       "    \t\n",
       "\n",
       "    </div>\n",
       "</div>\n",
       "    \t<div style=\"position: relative; width: 100%; height:auto; overflow: auto;\">\n",
       "\t    \t<div style=\"position: relative; float:left; width: 120px; margin-top:25px\">\n",
       "\t    \t\t<img style=\"width:100px; height: auto; max-height:150px\" src=\"../data/retrotech/images/400032015667.jpg\">\n",
       "\t    \t</div>\n",
       "\t    \t<div style=\"position:relative; float:left; clear:none; width: 80%; height:auto\">\n",
       "\t    \t\t<p><strong>Name:</strong> Star Wars - The Complete Saga - Blu-ray Disc | <strong>Manufacturer:</strong> LucasFilm</p>\n",
       "\t    \t\t<p> \n",
       "\t    \t\t</p>\n",
       "\t    \t</div>\n",
       "    \t</div>\n",
       "    \t\n",
       "\t\t<div style=\"position:relative; clear:both; content: ' '; display: block; height: 1px; margin-top: 10px; margin-bottom:20px\">\n",
       "\t\t\t<hr style=\"color: gray; width: 95%;\" />\n",
       "\t\t</div>\n",
       "\t\t\n",
       "    \t<div style=\"position: relative; width: 100%; height:auto; overflow: auto;\">\n",
       "\t    \t<div style=\"position: relative; float:left; width: 120px; margin-top:25px\">\n",
       "\t    \t\t<img style=\"width:100px; height: auto; max-height:150px\" src=\"../data/retrotech/images/696055169191.jpg\">\n",
       "\t    \t</div>\n",
       "\t    \t<div style=\"position:relative; float:left; clear:none; width: 80%; height:auto\">\n",
       "\t    \t\t<p><strong>Name:</strong> Star Wars: Battlefront II - PSP | <strong>Manufacturer:</strong> LucasArts</p>\n",
       "\t    \t\t<p> \n",
       "\t    \t\t</p>\n",
       "\t    \t</div>\n",
       "    \t</div>\n",
       "    \t\n",
       "\t\t<div style=\"position:relative; clear:both; content: ' '; display: block; height: 1px; margin-top: 10px; margin-bottom:20px\">\n",
       "\t\t\t<hr style=\"color: gray; width: 95%;\" />\n",
       "\t\t</div>\n",
       "\t\t\n",
       "    \t<div style=\"position: relative; width: 100%; height:auto; overflow: auto;\">\n",
       "\t    \t<div style=\"position: relative; float:left; width: 120px; margin-top:25px\">\n",
       "\t    \t\t<img style=\"width:100px; height: auto; max-height:150px\" src=\"../data/retrotech/images/23272335397.jpg\">\n",
       "\t    \t</div>\n",
       "\t    \t<div style=\"position:relative; float:left; clear:none; width: 80%; height:auto\">\n",
       "\t    \t\t<p><strong>Name:</strong> Star Wars Battlefront: Elite Squadron - PSP | <strong>Manufacturer:</strong> LucasArts</p>\n",
       "\t    \t\t<p> \n",
       "\t    \t\t</p>\n",
       "\t    \t</div>\n",
       "    \t</div>\n",
       "    \t\n",
       "\t\t<div style=\"position:relative; clear:both; content: ' '; display: block; height: 1px; margin-top: 10px; margin-bottom:20px\">\n",
       "\t\t\t<hr style=\"color: gray; width: 95%;\" />\n",
       "\t\t</div>\n",
       "\t\t"
      ],
      "text/plain": [
       "<IPython.core.display.HTML object>"
      ]
     },
     "metadata": {},
     "output_type": "display_data"
    }
   ],
   "source": [
    "query = \"star wars\"\n",
    "collection = \"products\"\n",
    "signals_boosts = get_query_time_boosts(query, \"normalized_signals_boosts\")\n",
    "boosted_query = get_main_query(query, signals_boosts)\n",
    "boosted_query[\"params\"][\"fq\"] = \"-upc:45626176\"\n",
    "\n",
    "search_results = engine.search(collection, boosted_query)\n",
    "display_product_search(query, engine.docs(search_results))"
   ]
  },
  {
   "cell_type": "markdown",
   "metadata": {},
   "source": [
    "## Simulating a malicious user"
   ]
  },
  {
   "cell_type": "markdown",
   "metadata": {},
   "source": [
    "### Listing 8.3"
   ]
  },
  {
   "cell_type": "code",
   "execution_count": 26,
   "metadata": {},
   "outputs": [
    {
     "name": "stdout",
     "output_type": "stream",
     "text": [
      "\n",
      "Adding Documents to 'signals' collection\n",
      "Wiping 'signals_boosts_with_spam' collection\n",
      "Status: Success\n",
      "Creating 'signals_boosts_with_spam' collection\n",
      "Status: Success\n",
      "Aggregating Signals to Create Signals Boosts...\n",
      "Signals Aggregation Completed!\n"
     ]
    }
   ],
   "source": [
    "collection = \"signals\"\n",
    "spam_user = \"u8675309\"\n",
    "spam_query = \"star wars\"\n",
    "#doc for a \"trash compactor\" from someone who wants star wars is rubbish!\n",
    "spam_signal_boost_doc_upc = \"45626176\" \n",
    "\n",
    "signal_docs = []\n",
    "for num in range(5000): #generate 5,000 query and click signals\n",
    "    query_id = f\"u8675309_0_{num}\"\n",
    "    signal_docs.append({ \n",
    "        \"query_id\": query_id,\n",
    "        \"user\": spam_user,\n",
    "        \"type\":\"query\",\n",
    "        \"target\": spam_query,\n",
    "        \"signal_time\": datetime.now().strftime(\"%Y-%m-%dT%H:%M:%SZ\"),\n",
    "        \"id\": f\"spam_signal_query_{num}\"\n",
    "    })\n",
    "    signal_docs.append({ \n",
    "        \"query_id\": query_id,\n",
    "        \"user\": spam_user,\n",
    "        \"type\":\"click\",\n",
    "        \"target\": spam_signal_boost_doc_upc,\n",
    "        \"signal_time\": datetime.now().strftime(\"%Y-%m-%dT%H:%M:%SZ\"),\n",
    "        \"id\": f\"spam_signal_click_{num}\"\n",
    "    })\n",
    "engine.add_documents(collection, signal_docs)\n",
    "\n",
    "#re-run the basic signals aggregation to process the malicious clicks\n",
    "signals_aggregation_collection = \"signals_boosts_with_spam\"\n",
    "aggregate_signals(collection, signals_aggregation_collection,\n",
    "                  normalized_signals_aggregation_query)"
   ]
  },
  {
   "cell_type": "markdown",
   "metadata": {},
   "source": [
    "## Impact of Spam on Search Results"
   ]
  },
  {
   "cell_type": "markdown",
   "metadata": {},
   "source": [
    "### Listing 8.4"
   ]
  },
  {
   "cell_type": "code",
   "execution_count": 27,
   "metadata": {},
   "outputs": [
    {
     "name": "stdout",
     "output_type": "stream",
     "text": [
      "Boost Documents:\n",
      "[{'doc': '45626176', 'boost': 5000}, {'doc': '024543742180', 'boost': 1490}, {'doc': '400032015667', 'boost': 186}, {'doc': '024543742074', 'boost': 127}, {'doc': '024543559856', 'boost': 117}, {'doc': '014633169546', 'boost': 107}, {'doc': '024543742098', 'boost': 81}, {'doc': '024543781875', 'boost': 67}, {'doc': '023272342654', 'boost': 39}, {'doc': '014633169522', 'boost': 32}]\n",
      "\n",
      "Boost Query: \n",
      "\"45626176\"^5000 \"024543742180\"^1490 \"400032015667\"^186 \"024543742074\"^127 \"024543559856\"^117 \"014633169546\"^107 \"024543742098\"^81 \"024543781875\"^67 \"023272342654\"^39 \"014633169522\"^32\n",
      "\n"
     ]
    },
    {
     "data": {
      "text/html": [
       "<div id=\"demo\">\n",
       "        <input style=\"width:50%\" readonly type=\"text\" name=\"q\" value=\"star wars\">\n",
       "        <input readonly type=\"submit\" value=\"Search\">\n",
       "\n",
       "    <div class=\"results\">\n",
       "    \t\n",
       "\n",
       "    </div>\n",
       "</div>\n",
       "    \t<div style=\"position: relative; width: 100%; height:auto; overflow: auto;\">\n",
       "\t    \t<div style=\"position: relative; float:left; width: 120px; margin-top:25px\">\n",
       "\t    \t\t<img style=\"width:100px; height: auto; max-height:150px\" src=\"../data/retrotech/images/45626176.jpg\">\n",
       "\t    \t</div>\n",
       "\t    \t<div style=\"position:relative; float:left; clear:none; width: 80%; height:auto\">\n",
       "\t    \t\t<p><strong>Name:</strong> Trash Can (Star Wars Themed) | <strong>Manufacturer:</strong> Jay Franco & Sons</p>\n",
       "\t    \t\t<p> \n",
       "\t    \t\t</p>\n",
       "\t    \t</div>\n",
       "    \t</div>\n",
       "    \t\n",
       "\t\t<div style=\"position:relative; clear:both; content: ' '; display: block; height: 1px; margin-top: 10px; margin-bottom:20px\">\n",
       "\t\t\t<hr style=\"color: gray; width: 95%;\" />\n",
       "\t\t</div>\n",
       "\t\t\n",
       "    \t<div style=\"position: relative; width: 100%; height:auto; overflow: auto;\">\n",
       "\t    \t<div style=\"position: relative; float:left; width: 120px; margin-top:25px\">\n",
       "\t    \t\t<img style=\"width:100px; height: auto; max-height:150px\" src=\"../data/retrotech/images/400032015667.jpg\">\n",
       "\t    \t</div>\n",
       "\t    \t<div style=\"position:relative; float:left; clear:none; width: 80%; height:auto\">\n",
       "\t    \t\t<p><strong>Name:</strong> Star Wars - The Complete Saga - Blu-ray Disc | <strong>Manufacturer:</strong> LucasFilm</p>\n",
       "\t    \t\t<p> \n",
       "\t    \t\t</p>\n",
       "\t    \t</div>\n",
       "    \t</div>\n",
       "    \t\n",
       "\t\t<div style=\"position:relative; clear:both; content: ' '; display: block; height: 1px; margin-top: 10px; margin-bottom:20px\">\n",
       "\t\t\t<hr style=\"color: gray; width: 95%;\" />\n",
       "\t\t</div>\n",
       "\t\t\n",
       "    \t<div style=\"position: relative; width: 100%; height:auto; overflow: auto;\">\n",
       "\t    \t<div style=\"position: relative; float:left; width: 120px; margin-top:25px\">\n",
       "\t    \t\t<img style=\"width:100px; height: auto; max-height:150px\" src=\"../data/retrotech/images/696055169191.jpg\">\n",
       "\t    \t</div>\n",
       "\t    \t<div style=\"position:relative; float:left; clear:none; width: 80%; height:auto\">\n",
       "\t    \t\t<p><strong>Name:</strong> Star Wars: Battlefront II - PSP | <strong>Manufacturer:</strong> LucasArts</p>\n",
       "\t    \t\t<p> \n",
       "\t    \t\t</p>\n",
       "\t    \t</div>\n",
       "    \t</div>\n",
       "    \t\n",
       "\t\t<div style=\"position:relative; clear:both; content: ' '; display: block; height: 1px; margin-top: 10px; margin-bottom:20px\">\n",
       "\t\t\t<hr style=\"color: gray; width: 95%;\" />\n",
       "\t\t</div>\n",
       "\t\t"
      ],
      "text/plain": [
       "<IPython.core.display.HTML object>"
      ]
     },
     "metadata": {},
     "output_type": "display_data"
    }
   ],
   "source": [
    "query = \"star wars\"\n",
    "collection = \"products\"\n",
    "\n",
    "signals_boosts = get_query_time_boosts(query, \"signals_boosts_with_spam\")\n",
    "boosted_query = get_main_query(query, signals_boosts)\n",
    "\n",
    "response = engine.search(collection, boosted_query)\n",
    "display_product_search(query, engine.docs(response))"
   ]
  },
  {
   "cell_type": "markdown",
   "metadata": {},
   "source": [
    "## Fighting Signal Spam through User-level Deduplication"
   ]
  },
  {
   "cell_type": "markdown",
   "metadata": {},
   "source": [
    "### Listing 8.5"
   ]
  },
  {
   "cell_type": "code",
   "execution_count": 28,
   "metadata": {},
   "outputs": [
    {
     "name": "stdout",
     "output_type": "stream",
     "text": [
      "Wiping 'signals_boosts_anti_spam' collection\n",
      "Status: Success\n",
      "Creating 'signals_boosts_anti_spam' collection\n",
      "Status: Success\n",
      "Aggregating Signals to Create Signals Boosts...\n",
      "Signals Aggregation Completed!\n"
     ]
    }
   ],
   "source": [
    "#One Signal per User - Anti-Spam\n",
    "signals_collection = \"signals\"\n",
    "signals_aggregation_collection = \"signals_boosts_anti_spam\"\n",
    "\n",
    "anti_spam_aggregation_query = \"\"\"\n",
    "  select query, doc, count(doc) as boost from (\n",
    "    select c.user unique_user, lower(q.target) as query, c.target as doc, max(c.signal_time) as boost\n",
    "    from signals c left join signals q on c.query_id = q.query_id\n",
    "    where c.type = 'click' AND q.type = 'query'\n",
    "    group by unique_user, query, doc\n",
    "  ) as x\n",
    "  group by query, doc\n",
    "  order by boost desc\n",
    "\"\"\"\n",
    "\n",
    "aggregate_signals(signals_collection, signals_aggregation_collection,\n",
    "                  anti_spam_aggregation_query)"
   ]
  },
  {
   "cell_type": "code",
   "execution_count": 30,
   "metadata": {},
   "outputs": [
    {
     "name": "stdout",
     "output_type": "stream",
     "text": [
      "Boost Documents:\n",
      "[{'doc': '024543742180', 'boost': 1489}, {'doc': '400032015667', 'boost': 186}, {'doc': '024543742074', 'boost': 127}, {'doc': '024543559856', 'boost': 117}, {'doc': '014633169546', 'boost': 107}, {'doc': '024543742098', 'boost': 81}, {'doc': '024543781875', 'boost': 67}, {'doc': '023272342654', 'boost': 39}, {'doc': '014633169522', 'boost': 32}, {'doc': '024543560067', 'boost': 30}]\n",
      "\n",
      "Boost Query: \n",
      "\"024543742180\"^1489 \"400032015667\"^186 \"024543742074\"^127 \"024543559856\"^117 \"014633169546\"^107 \"024543742098\"^81 \"024543781875\"^67 \"023272342654\"^39 \"014633169522\"^32 \"024543560067\"^30\n",
      "\n",
      "{'query': 'star wars', 'fields': ['upc', 'name', 'manufacturer', 'score'], 'limit': 3, 'params': {'qf': 'name manufacturer longDescription', 'defType': 'edismax', 'indent': 'true', 'sort': 'score desc, upc asc', 'boost': 'sum(1,query({! df=upc v=$signals_boosting}))', 'signals_boosting': '\"024543742180\"^1489 \"400032015667\"^186 \"024543742074\"^127 \"024543559856\"^117 \"014633169546\"^107 \"024543742098\"^81 \"024543781875\"^67 \"023272342654\"^39 \"014633169522\"^32 \"024543560067\"^30'}}\n"
     ]
    },
    {
     "data": {
      "text/html": [
       "<div id=\"demo\">\n",
       "        <input style=\"width:50%\" readonly type=\"text\" name=\"q\" value=\"star wars\">\n",
       "        <input readonly type=\"submit\" value=\"Search\">\n",
       "\n",
       "    <div class=\"results\">\n",
       "    \t\n",
       "\n",
       "    </div>\n",
       "</div>\n",
       "    \t<div style=\"position: relative; width: 100%; height:auto; overflow: auto;\">\n",
       "\t    \t<div style=\"position: relative; float:left; width: 120px; margin-top:25px\">\n",
       "\t    \t\t<img style=\"width:100px; height: auto; max-height:150px\" src=\"../data/retrotech/images/400032015667.jpg\">\n",
       "\t    \t</div>\n",
       "\t    \t<div style=\"position:relative; float:left; clear:none; width: 80%; height:auto\">\n",
       "\t    \t\t<p><strong>Name:</strong> Star Wars - The Complete Saga - Blu-ray Disc | <strong>Manufacturer:</strong> LucasFilm</p>\n",
       "\t    \t\t<p> \n",
       "\t    \t\t</p>\n",
       "\t    \t</div>\n",
       "    \t</div>\n",
       "    \t\n",
       "\t\t<div style=\"position:relative; clear:both; content: ' '; display: block; height: 1px; margin-top: 10px; margin-bottom:20px\">\n",
       "\t\t\t<hr style=\"color: gray; width: 95%;\" />\n",
       "\t\t</div>\n",
       "\t\t\n",
       "    \t<div style=\"position: relative; width: 100%; height:auto; overflow: auto;\">\n",
       "\t    \t<div style=\"position: relative; float:left; width: 120px; margin-top:25px\">\n",
       "\t    \t\t<img style=\"width:100px; height: auto; max-height:150px\" src=\"../data/retrotech/images/696055169191.jpg\">\n",
       "\t    \t</div>\n",
       "\t    \t<div style=\"position:relative; float:left; clear:none; width: 80%; height:auto\">\n",
       "\t    \t\t<p><strong>Name:</strong> Star Wars: Battlefront II - PSP | <strong>Manufacturer:</strong> LucasArts</p>\n",
       "\t    \t\t<p> \n",
       "\t    \t\t</p>\n",
       "\t    \t</div>\n",
       "    \t</div>\n",
       "    \t\n",
       "\t\t<div style=\"position:relative; clear:both; content: ' '; display: block; height: 1px; margin-top: 10px; margin-bottom:20px\">\n",
       "\t\t\t<hr style=\"color: gray; width: 95%;\" />\n",
       "\t\t</div>\n",
       "\t\t\n",
       "    \t<div style=\"position: relative; width: 100%; height:auto; overflow: auto;\">\n",
       "\t    \t<div style=\"position: relative; float:left; width: 120px; margin-top:25px\">\n",
       "\t    \t\t<img style=\"width:100px; height: auto; max-height:150px\" src=\"../data/retrotech/images/23272335397.jpg\">\n",
       "\t    \t</div>\n",
       "\t    \t<div style=\"position:relative; float:left; clear:none; width: 80%; height:auto\">\n",
       "\t    \t\t<p><strong>Name:</strong> Star Wars Battlefront: Elite Squadron - PSP | <strong>Manufacturer:</strong> LucasArts</p>\n",
       "\t    \t\t<p> \n",
       "\t    \t\t</p>\n",
       "\t    \t</div>\n",
       "    \t</div>\n",
       "    \t\n",
       "\t\t<div style=\"position:relative; clear:both; content: ' '; display: block; height: 1px; margin-top: 10px; margin-bottom:20px\">\n",
       "\t\t\t<hr style=\"color: gray; width: 95%;\" />\n",
       "\t\t</div>\n",
       "\t\t"
      ],
      "text/plain": [
       "<IPython.core.display.HTML object>"
      ]
     },
     "metadata": {},
     "output_type": "display_data"
    }
   ],
   "source": [
    "query = \"star wars\"\n",
    "collection = \"products\"\n",
    "\n",
    "signals_boosts = get_query_time_boosts(query, \"signals_boosts_anti_spam\")\n",
    "boosted_query = get_main_query(query, signals_boosts)\n",
    "print(boosted_query)\n",
    "\n",
    "response = engine.search(collection, boosted_query)\n",
    "display_product_search(query, engine.docs(response))"
   ]
  },
  {
   "cell_type": "markdown",
   "metadata": {},
   "source": [
    "## Mixing multiple signal types"
   ]
  },
  {
   "cell_type": "markdown",
   "metadata": {},
   "source": [
    "### Listing 8.6"
   ]
  },
  {
   "cell_type": "code",
   "execution_count": 31,
   "metadata": {},
   "outputs": [
    {
     "name": "stdout",
     "output_type": "stream",
     "text": [
      "Wiping 'signals_boosts_weighted_types' collection\n",
      "Status: Success\n",
      "Creating 'signals_boosts_weighted_types' collection\n",
      "Status: Success\n",
      "Aggregating Signals to Create Signals Boosts...\n",
      "Signals Aggregation Completed!\n"
     ]
    }
   ],
   "source": [
    "#One Signal per User - Anti-Spam\n",
    "\n",
    "signals_collection=\"signals\"\n",
    "signals_aggregation_collection=\"signals_boosts_weighted_types\"\n",
    "\n",
    "mixed_signal_types_aggregation = \"\"\"\n",
    "select query, doc, ((1 * click_boost) + (10 * add_to_cart_boost) +\n",
    "                    (25 * purchase_boost)) as boost\n",
    "from (\n",
    "  select query, doc, \n",
    "    sum(click) as click_boost,\n",
    "    sum(add_to_cart) as add_to_cart_boost,\n",
    "    sum(purchase) as purchase_boost\n",
    "  from (  \n",
    "      select lower(q.target) as query, cap.target as doc, \n",
    "        if(cap.type = 'click', 1, 0) as click, \n",
    "        if(cap.type = 'add-to-cart', 1, 0) as  add_to_cart, \n",
    "        if(cap.type = 'purchase', 1, 0) as purchase\n",
    "      from signals cap left join signals q on cap.query_id = q.query_id\n",
    "      where (cap.type != 'query' AND q.type = 'query')\n",
    "    ) raw_signals\n",
    "  group by query, doc\n",
    ") as per_type_boosts\n",
    "\"\"\"\n",
    "\n",
    "aggregate_signals(signals_collection, signals_aggregation_collection,\n",
    "                  mixed_signal_types_aggregation)"
   ]
  },
  {
   "cell_type": "markdown",
   "metadata": {},
   "source": [
    "## Time Decay"
   ]
  },
  {
   "cell_type": "markdown",
   "metadata": {},
   "source": [
    "### Listing 8.7"
   ]
  },
  {
   "cell_type": "code",
   "execution_count": 32,
   "metadata": {},
   "outputs": [
    {
     "name": "stdout",
     "output_type": "stream",
     "text": [
      "Wiping 'signals_boosts_time_weighted' collection\n",
      "Status: Success\n",
      "Creating 'signals_boosts_time_weighted' collection\n",
      "Status: Success\n",
      "Aggregating Signals to Create Signals Boosts...\n",
      "Signals Aggregation Completed!\n"
     ]
    }
   ],
   "source": [
    "signals_collection=\"signals\"\n",
    "signals_boosting_collection=\"signals_boosts_time_weighted\"\n",
    "\n",
    "half_life_days = \"30\"\n",
    "target_date = \"2020-06-01\" #date of latest signal in our dataset. In live system use now().\n",
    "signal_weight = \"1\" #can make this a function to differentiate weights for different signal types\n",
    "\n",
    "time_decay_aggregation = f\"\"\"\n",
    "select query, doc, sum(time_weighted_boost) as boost from (\n",
    "    select user, query, doc, {signal_weight} * pow(0.5, (datediff('{target_date}', signal_time) / {half_life_days})) as time_weighted_boost from (\n",
    "        select c.user as user, lower(q.target) as query, c.target as doc, max(c.signal_time) as signal_time\n",
    "        from signals c left join signals q on c.query_id = q.query_id\n",
    "        where c.type = 'click' AND q.type = 'query' AND c.signal_time <= '{target_date}'\n",
    "        group by c.user, q.target, c.target\n",
    "    ) as raw_signals \n",
    ") as time_weighted_signals\n",
    "group by query, doc\n",
    "order by boost desc\n",
    "\"\"\"\n",
    "\n",
    "aggregate_signals(signals_collection, signals_boosting_collection,\n",
    "                  time_decay_aggregation)"
   ]
  },
  {
   "cell_type": "code",
   "execution_count": 33,
   "metadata": {
    "scrolled": true
   },
   "outputs": [
    {
     "name": "stdout",
     "output_type": "stream",
     "text": [
      "Boost Documents:\n",
      "[{'doc': '024543742180', 'boost': 50.27564958868424}, {'doc': '023272342654', 'boost': 14.386081175228192}, {'doc': '024543742074', 'boost': 10.978708113139781}, {'doc': '883929154012', 'boost': 10.22196625832087}, {'doc': '023272342630', 'boost': 8.08610476717647}, {'doc': '886973561621', 'boost': 7.196654524422255}, {'doc': '024543742098', 'boost': 6.411867877358416}, {'doc': '030206742121', 'boost': 6.0339109822265105}, {'doc': '014633169546', 'boost': 5.732256133253928}, {'doc': '708431390614', 'boost': 5.200090923395828}]\n",
      "\n",
      "Boost Query: \n",
      "\"024543742180\"^50.27564958868424 \"023272342654\"^14.386081175228192 \"024543742074\"^10.978708113139781 \"883929154012\"^10.22196625832087 \"023272342630\"^8.08610476717647 \"886973561621\"^7.196654524422255 \"024543742098\"^6.411867877358416 \"030206742121\"^6.0339109822265105 \"014633169546\"^5.732256133253928 \"708431390614\"^5.200090923395828\n",
      "\n",
      "{'query': 'star wars', 'fields': ['upc', 'name', 'manufacturer', 'score'], 'limit': 3, 'params': {'qf': 'name manufacturer longDescription', 'defType': 'edismax', 'indent': 'true', 'sort': 'score desc, upc asc', 'boost': 'sum(1,query({! df=upc v=$signals_boosting}))', 'signals_boosting': '\"024543742180\"^50.27564958868424 \"023272342654\"^14.386081175228192 \"024543742074\"^10.978708113139781 \"883929154012\"^10.22196625832087 \"023272342630\"^8.08610476717647 \"886973561621\"^7.196654524422255 \"024543742098\"^6.411867877358416 \"030206742121\"^6.0339109822265105 \"014633169546\"^5.732256133253928 \"708431390614\"^5.200090923395828'}}\n"
     ]
    },
    {
     "data": {
      "text/html": [
       "<div id=\"demo\">\n",
       "        <input style=\"width:50%\" readonly type=\"text\" name=\"q\" value=\"star wars\">\n",
       "        <input readonly type=\"submit\" value=\"Search\">\n",
       "\n",
       "    <div class=\"results\">\n",
       "    \t\n",
       "\n",
       "    </div>\n",
       "</div>\n",
       "    \t<div style=\"position: relative; width: 100%; height:auto; overflow: auto;\">\n",
       "\t    \t<div style=\"position: relative; float:left; width: 120px; margin-top:25px\">\n",
       "\t    \t\t<img style=\"width:100px; height: auto; max-height:150px\" src=\"../data/retrotech/images/883929154012.jpg\">\n",
       "\t    \t</div>\n",
       "\t    \t<div style=\"position:relative; float:left; clear:none; width: 80%; height:auto\">\n",
       "\t    \t\t<p><strong>Name:</strong> Star Wars: The Clone Wars - The Complete Season Three [4 Discs] - DVD | <strong>Manufacturer:</strong> LucasFilm</p>\n",
       "\t    \t\t<p> \n",
       "\t    \t\t</p>\n",
       "\t    \t</div>\n",
       "    \t</div>\n",
       "    \t\n",
       "\t\t<div style=\"position:relative; clear:both; content: ' '; display: block; height: 1px; margin-top: 10px; margin-bottom:20px\">\n",
       "\t\t\t<hr style=\"color: gray; width: 95%;\" />\n",
       "\t\t</div>\n",
       "\t\t\n",
       "    \t<div style=\"position: relative; width: 100%; height:auto; overflow: auto;\">\n",
       "\t    \t<div style=\"position: relative; float:left; width: 120px; margin-top:25px\">\n",
       "\t    \t\t<img style=\"width:100px; height: auto; max-height:150px\" src=\"../data/retrotech/images/886973561621.jpg\">\n",
       "\t    \t</div>\n",
       "\t    \t<div style=\"position:relative; float:left; clear:none; width: 80%; height:auto\">\n",
       "\t    \t\t<p><strong>Name:</strong> Star Wars: The Clone War - Original Soundtrack - CD | <strong>Manufacturer:</strong> Sony Classics</p>\n",
       "\t    \t\t<p> \n",
       "\t    \t\t</p>\n",
       "\t    \t</div>\n",
       "    \t</div>\n",
       "    \t\n",
       "\t\t<div style=\"position:relative; clear:both; content: ' '; display: block; height: 1px; margin-top: 10px; margin-bottom:20px\">\n",
       "\t\t\t<hr style=\"color: gray; width: 95%;\" />\n",
       "\t\t</div>\n",
       "\t\t\n",
       "    \t<div style=\"position: relative; width: 100%; height:auto; overflow: auto;\">\n",
       "\t    \t<div style=\"position: relative; float:left; width: 120px; margin-top:25px\">\n",
       "\t    \t\t<img style=\"width:100px; height: auto; max-height:150px\" src=\"../data/retrotech/images/708431390614.jpg\">\n",
       "\t    \t</div>\n",
       "\t    \t<div style=\"position:relative; float:left; clear:none; width: 80%; height:auto\">\n",
       "\t    \t\t<p><strong>Name:</strong> LeapFrog - Leapster Explorer Learning Game: Star Wars The Clone Wars | <strong>Manufacturer:</strong> LeapFrog</p>\n",
       "\t    \t\t<p> \n",
       "\t    \t\t</p>\n",
       "\t    \t</div>\n",
       "    \t</div>\n",
       "    \t\n",
       "\t\t<div style=\"position:relative; clear:both; content: ' '; display: block; height: 1px; margin-top: 10px; margin-bottom:20px\">\n",
       "\t\t\t<hr style=\"color: gray; width: 95%;\" />\n",
       "\t\t</div>\n",
       "\t\t"
      ],
      "text/plain": [
       "<IPython.core.display.HTML object>"
      ]
     },
     "metadata": {},
     "output_type": "display_data"
    }
   ],
   "source": [
    "query = \"star wars\"\n",
    "collection = \"products\"\n",
    "\n",
    "signals_boosts = get_query_time_boosts(query, \"signals_boosts_time_weighted\")\n",
    "boosted_query = get_main_query(query, signals_boosts)\n",
    "print(boosted_query)\n",
    "\n",
    "response = engine.search(collection, boosted_query)\n",
    "display_product_search(query, engine.docs(response))"
   ]
  },
  {
   "cell_type": "markdown",
   "metadata": {},
   "source": [
    "## Index-time Signals Boosting"
   ]
  },
  {
   "cell_type": "code",
   "execution_count": 35,
   "metadata": {},
   "outputs": [
    {
     "name": "stdout",
     "output_type": "stream",
     "text": [
      "Wiping 'products_with_signals_boosts' collection\n",
      "Status: Success\n",
      "Creating 'products_with_signals_boosts' collection\n",
      "Status: Success\n",
      "Adding 'boosts' field type to collection\n",
      "Status: Success\n",
      "Adding 'signals_boosts' field to collection\n",
      "Status: Success\n",
      "Loading products_with_signals_boosts\n",
      "products_with_signals_boosts Schema: \n",
      "root\n",
      " |-- upc: long (nullable = true)\n",
      " |-- name: string (nullable = true)\n",
      " |-- manufacturer: string (nullable = true)\n",
      " |-- shortDescription: string (nullable = true)\n",
      " |-- longDescription: string (nullable = true)\n",
      "\n",
      "Status: Success\n"
     ]
    }
   ],
   "source": [
    "#Create collection with index-time signals boosts field\n",
    "products_collection = \"products_with_signals_boosts\"\n",
    "engine.create_collection(products_collection)\n",
    "engine.upsert_boosts_field(products_collection, \"signals_boosts\")\n",
    "\n",
    "#Load products\n",
    "engine.populate_collection_from_csv(products_collection, \"../data/retrotech/products.csv\")"
   ]
  },
  {
   "cell_type": "markdown",
   "metadata": {},
   "source": [
    "### Listing 8.8"
   ]
  },
  {
   "cell_type": "code",
   "execution_count": 36,
   "metadata": {},
   "outputs": [
    {
     "name": "stdout",
     "output_type": "stream",
     "text": [
      "Completed!\n"
     ]
    }
   ],
   "source": [
    "#load the aggregates signals from one of our previous signals aggregations\n",
    "signals_boosts_collection = \"normalized_signals_boosts\"\n",
    "signals_boosts_opts = {\"zkhost\": \"aips-zk\", \"collection\": signals_boosts_collection}\n",
    "df = spark.read.format(\"solr\").options(**signals_boosts_opts).load()\n",
    "df.createOrReplaceTempView(signals_boosts_collection)\n",
    "\n",
    "#register the product table so we can load from it and save back to it with boosts added\n",
    "products_collection = \"products_with_signals_boosts\" #delete this line later\n",
    "products_read_boosts_opts = {\"zkhost\": \"aips-zk\", \"collection\": products_collection}\n",
    "df = spark.read.format(\"solr\").options(**products_read_boosts_opts).load()\n",
    "df.createOrReplaceTempView(products_collection)\n",
    "\n",
    "#insert all keywords with signals boosts for this document into a new \"signals_boosts\" field\n",
    "boosts_query = f\"\"\"\n",
    "SELECT p.*, b.signals_boosts from (\n",
    "  SELECT doc, concat_ws(',',collect_list(concat(query, '|', boost))) as signals_boosts \n",
    "    FROM {signals_boosts_collection} GROUP BY doc\n",
    ") b inner join {products_collection} p on p.upc = b.doc\n",
    "\"\"\"\n",
    "\n",
    "#save the products back to the products collection, with the updated signals boosts added\n",
    "product_options = {\"zkhost\": \"aips-zk\", \"collection\": products_collection,\n",
    "                   \"gen_uniq_key\": \"true\", \"commit_within\": \"5000\"}\n",
    "spark.sql(boosts_query).write.format(\"solr\").options(\n",
    "  **product_options).mode(\"overwrite\").save()\n",
    "print(\"Completed!\")"
   ]
  },
  {
   "cell_type": "markdown",
   "metadata": {},
   "source": [
    "## Index-time Signals Boosting Query"
   ]
  },
  {
   "cell_type": "markdown",
   "metadata": {},
   "source": [
    "### Listing 8.9"
   ]
  },
  {
   "cell_type": "code",
   "execution_count": 37,
   "metadata": {},
   "outputs": [
    {
     "data": {
      "text/html": [
       "<div id=\"demo\">\n",
       "        <input style=\"width:50%\" readonly type=\"text\" name=\"q\" value=\"ipad\">\n",
       "        <input readonly type=\"submit\" value=\"Search\">\n",
       "\n",
       "    <div class=\"results\">\n",
       "    \t\n",
       "\n",
       "    </div>\n",
       "</div>\n",
       "    \t<div style=\"position: relative; width: 100%; height:auto; overflow: auto;\">\n",
       "\t    \t<div style=\"position: relative; float:left; width: 120px; margin-top:25px\">\n",
       "\t    \t\t<img style=\"width:100px; height: auto; max-height:150px\" src=\"../data/retrotech/images/885909457588.jpg\">\n",
       "\t    \t</div>\n",
       "\t    \t<div style=\"position:relative; float:left; clear:none; width: 80%; height:auto\">\n",
       "\t    \t\t<p><strong>Name:</strong> Apple&#xAE; - iPad&#xAE; 2 with Wi-Fi - 16GB - Black | <strong>Manufacturer:</strong> Apple&#xAE;</p>\n",
       "\t    \t\t<p> \n",
       "\t    \t\t</p>\n",
       "\t    \t</div>\n",
       "    \t</div>\n",
       "    \t\n",
       "\t\t<div style=\"position:relative; clear:both; content: ' '; display: block; height: 1px; margin-top: 10px; margin-bottom:20px\">\n",
       "\t\t\t<hr style=\"color: gray; width: 95%;\" />\n",
       "\t\t</div>\n",
       "\t\t\n",
       "    \t<div style=\"position: relative; width: 100%; height:auto; overflow: auto;\">\n",
       "\t    \t<div style=\"position: relative; float:left; width: 120px; margin-top:25px\">\n",
       "\t    \t\t<img style=\"width:100px; height: auto; max-height:150px\" src=\"../data/retrotech/images/885909457595.jpg\">\n",
       "\t    \t</div>\n",
       "\t    \t<div style=\"position:relative; float:left; clear:none; width: 80%; height:auto\">\n",
       "\t    \t\t<p><strong>Name:</strong> Apple&#xAE; - iPad&#xAE; 2 with Wi-Fi - 32GB - Black | <strong>Manufacturer:</strong> Apple&#xAE;</p>\n",
       "\t    \t\t<p> \n",
       "\t    \t\t</p>\n",
       "\t    \t</div>\n",
       "    \t</div>\n",
       "    \t\n",
       "\t\t<div style=\"position:relative; clear:both; content: ' '; display: block; height: 1px; margin-top: 10px; margin-bottom:20px\">\n",
       "\t\t\t<hr style=\"color: gray; width: 95%;\" />\n",
       "\t\t</div>\n",
       "\t\t\n",
       "    \t<div style=\"position: relative; width: 100%; height:auto; overflow: auto;\">\n",
       "\t    \t<div style=\"position: relative; float:left; width: 120px; margin-top:25px\">\n",
       "\t    \t\t<img style=\"width:100px; height: auto; max-height:150px\" src=\"../data/retrotech/images/885909471812.jpg\">\n",
       "\t    \t</div>\n",
       "\t    \t<div style=\"position:relative; float:left; clear:none; width: 80%; height:auto\">\n",
       "\t    \t\t<p><strong>Name:</strong> Apple&#xAE; - iPad&#xAE; 2 with Wi-Fi - 16GB - White | <strong>Manufacturer:</strong> Apple&#xAE;</p>\n",
       "\t    \t\t<p> \n",
       "\t    \t\t</p>\n",
       "\t    \t</div>\n",
       "    \t</div>\n",
       "    \t\n",
       "\t\t<div style=\"position:relative; clear:both; content: ' '; display: block; height: 1px; margin-top: 10px; margin-bottom:20px\">\n",
       "\t\t\t<hr style=\"color: gray; width: 95%;\" />\n",
       "\t\t</div>\n",
       "\t\t"
      ],
      "text/plain": [
       "<IPython.core.display.HTML object>"
      ]
     },
     "metadata": {},
     "output_type": "display_data"
    }
   ],
   "source": [
    "def get_query(query, signals_boosts_field):    \n",
    "    return {\n",
    "        \"query\": query,\n",
    "        \"fields\": [\"upc\", \"name\", \"manufacturer\", \"score\"],\n",
    "        \"limit\": 3,\n",
    "        \"params\": {\n",
    "          \"qf\": \"name manufacturer longDescription\",\n",
    "          \"defType\": \"edismax\",\n",
    "          \"indent\": \"true\",\n",
    "          \"sort\": \"score desc, upc asc\",\n",
    "          \"qf\": \"name manufacturer longDescription\",\n",
    "          \"boost\": f\"payload({signals_boosts_field}, \\\"{query}\\\", 1, first)\"\n",
    "        }\n",
    "    }\n",
    "    \n",
    "query = \"ipad\"\n",
    "collection = \"products_with_signals_boosts\"\n",
    "boosted_query = get_query(query, \"signals_boosts\")\n",
    "\n",
    "response = engine.search(collection, boosted_query)\n",
    "display_product_search(query, engine.docs(response))"
   ]
  },
  {
   "cell_type": "markdown",
   "metadata": {},
   "source": [
    "Up next: Chapter 9 - [Personalized Search](../ch09/1.personalization.ipynb)"
   ]
  }
 ],
 "metadata": {
  "kernelspec": {
   "display_name": "Python 3 (ipykernel)",
   "language": "python",
   "name": "python3"
  },
  "language_info": {
   "codemirror_mode": {
    "name": "ipython",
    "version": 3
   },
   "file_extension": ".py",
   "mimetype": "text/x-python",
   "name": "python",
   "nbconvert_exporter": "python",
   "pygments_lexer": "ipython3",
   "version": "3.10.9"
  },
  "vscode": {
   "interpreter": {
    "hash": "31f2aee4e71d21fbe5cf8b01ff0e069b9275f58929596ceb00d14d90e3e16cd6"
   }
  }
 },
 "nbformat": 4,
 "nbformat_minor": 2
}
