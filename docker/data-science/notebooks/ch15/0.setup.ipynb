{
 "cells": [
  {
   "cell_type": "code",
   "execution_count": null,
   "metadata": {},
   "outputs": [],
   "source": [
    "from ltr.download import download, extract_tgz\n",
    "from ltr.helpers.movies import indexable_movies\n",
    "import tarfile\n",
    "import json\n",
    "\n",
    "dataset = [\"https://github.com/ai-powered-search/tmdb/raw/main/judgments.tgz\", \n",
    "           \"https://github.com/ai-powered-search/tmdb/raw/main/movies.tgz\"]\n",
    "download(dataset, dest=\"data/\")\n",
    "extract_tgz(\"data/movies.tgz\") # -> Holds \"tmdb.json\", big json dict with corpus\n",
    "extract_tgz(\"data/judgments.tgz\") # -> Holds \"ai_pow_search_judgments.txt\", \n",
    "                                  # which is our labeled judgment list\n",
    "\n",
    "movies = indexable_movies(movies=\"data/tmdb.json\")\n",
    "\n",
    "tmdb_collection = engine.get_collection(\"tmdb\")\n",
    "tmdb_collection.write(list(movies))"
   ]
  },
  {
   "cell_type": "code",
   "execution_count": null,
   "metadata": {},
   "outputs": [],
   "source": [
    "import numpy\n",
    "model = CLIPModel.from_pretrained(\"openai/clip-vit-base-patch32\")\n",
    "processor = CLIPProcessor.from_pretrained(\"openai/clip-vit-base-patch32\")\n",
    "\n",
    "def normalize_embedding(embedding):\n",
    "    return numpy.divide(embedding,\n",
    "                        numpy.linalg.norm(embedding,axis=0))\n",
    "\n",
    "def compute_image_embedding(image):\n",
    "    inputs = processor(images=[image], return_tensors=\"pt\", padding=True)\n",
    "    return normalize_embedding(model.get_image_features(**inputs))"
   ]
  },
  {
   "cell_type": "code",
   "execution_count": null,
   "metadata": {},
   "outputs": [],
   "source": [
    "def build_movie_embedding_cache():\n",
    "    pass"
   ]
  }
 ],
 "metadata": {
  "language_info": {
   "name": "python"
  }
 },
 "nbformat": 4,
 "nbformat_minor": 2
}
