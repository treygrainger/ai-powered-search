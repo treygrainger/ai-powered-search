{
 "cells": [
  {
   "cell_type": "code",
   "execution_count": 13,
   "metadata": {},
   "outputs": [],
   "source": [
    "\n",
    "import sys\n",
    "import warnings\n",
    "sys.path.append(\"..\")\n",
    "\n",
    "from aips import *\n",
    "import numpy\n",
    "#User Interface for Search - not in book\n",
    "from IPython.display import display, Markdown, HTML, clear_output\n",
    "import ipywidgets as widgets\n",
    "from PIL import Image\n",
    "import imageio as iio\n",
    "import pickle\n",
    "import requests\n",
    "\n",
    "#Multimodal Search Implementation\n",
    "from transformers import CLIPProcessor, CLIPTextModel, CLIPModel\n",
    "from io import BytesIO\n",
    "\n",
    "#load CLIP model and processor\n",
    "model = CLIPModel.from_pretrained(\"openai/clip-vit-base-patch32\")\n",
    "processor = CLIPProcessor.from_pretrained(\"openai/clip-vit-base-patch32\")\n",
    "\n",
    "warnings.filterwarnings(\"ignore\") #Some operations warn inside a loop, we'll only need to see the first warning\n",
    "\n",
    "engine = get_engine()"
   ]
  },
  {
   "cell_type": "code",
   "execution_count": 10,
   "metadata": {},
   "outputs": [
    {
     "name": "stdout",
     "output_type": "stream",
     "text": [
      "Already up to date.\n",
      "movie_image_embeddings.pickle\n"
     ]
    }
   ],
   "source": [
    "![ ! -d 'tmdb' ] && git clone --depth 1 https://github.com/ai-powered-search/tmdb.git\n",
    "! cd tmdb && git pull\n",
    "! cd tmdb && mkdir -p '../../data/tmdb/' && tar -xvf movie_image_embeddings.tgz -C '../../data/tmdb/'"
   ]
  },
  {
   "cell_type": "code",
   "execution_count": 12,
   "metadata": {},
   "outputs": [
    {
     "name": "stdout",
     "output_type": "stream",
     "text": [
      "Wiping \"tmdb_with_embeddings\" collection\n",
      "Creating \"tmdb_with_embeddings\" collection\n",
      "Status: Success\n",
      "\n",
      "Adding Documents to 'tmdb_with_embeddings' collection\n"
     ]
    }
   ],
   "source": [
    "def read(cache_name=\"tmdb_movies\"):\n",
    "    cache_file_name = f\"../data/tmdb/{cache_name}.pickle\"\n",
    "    with open(cache_file_name, \"rb\") as fd:\n",
    "        return pickle.load(fd)\n",
    "    \n",
    "def generate_tmdb_with_embeddings_index():\n",
    "    embeddings_data = read(\"movie_image_embeddings\")\n",
    "    collection = engine.create_collection(\"tmdb_with_embeddings\")\n",
    "    movies = [v for k,v in embeddings_data.items()]\n",
    "    collection.add_documents(movies)\n",
    "\n",
    "generate_tmdb_with_embeddings_index()"
   ]
  },
  {
   "cell_type": "markdown",
   "metadata": {},
   "source": [
    "## Listing 15.14"
   ]
  },
  {
   "cell_type": "code",
   "execution_count": 14,
   "metadata": {},
   "outputs": [],
   "source": [
    "def load_image(full_path, log=False):   \n",
    "    try:\n",
    "        if full_path.startswith(\"http\"):\n",
    "            response = requests.get(full_path)\n",
    "            image = Image.open(BytesIO(response.content))\n",
    "        else:\n",
    "            image = iio.imread(full_path)\n",
    "        if log: print(\"File Found\")\n",
    "        return image\n",
    "    except:\n",
    "        if log: print(f\"No Image Available {full_path}\")\n",
    "        return []\n",
    "    \n",
    "def movie_search(query_embedding, limit=8, log=False):\n",
    "    collection = engine.get_collection(\"tmdb_with_embeddings\")\n",
    "    request = {\n",
    "        \"query_vector\": query_embedding,\n",
    "        \"query_field\": \"image_embeddings\",\n",
    "        \"limit\": limit,\n",
    "        \"quantization_size\": \"FLOAT32\"}\n",
    "    if log: request[\"log\"] = True \n",
    "    response = collection.vector_search(**request)\n",
    "    if log: print(f\"Vector search results {len(response['docs'])}\")\n",
    "    return response\n",
    "    \n",
    "def get_html(movies_documents):\n",
    "    css = \"\"\"\n",
    "      <style type=\"text/css\">\n",
    "        .results { \n",
    "          margin-top: 15px; \n",
    "          display: flex; \n",
    "          flex-wrap: wrap; \n",
    "          justify-content: space-evenly; }\n",
    "        .results .result { height: 250px; margin-bottom: 5px; }\n",
    "      </style>\"\"\"\n",
    "    \n",
    "    results_html = ''\n",
    "    for movie in movies_documents:\n",
    "        image_file = f\"http://image.tmdb.org/t/p/w780/{movie['image_id']}.jpg\"\n",
    "        movie_link = f\"https://www.themoviedb.org/movie/{movie['movie_id']}\"\n",
    "        result_html = f\"<img title='{movie['title']}' class='result' src='{image_file}'>\"\n",
    "        target_url = movie[\"title\"]\n",
    "        if len(target_url) > 0:\n",
    "            result_html = f\"<a href='{movie_link}' target='_blank'>\" + result_html + \"</a>\"\n",
    "        results_html += result_html\n",
    "    return f\"{css}<div class='results'>{results_html}</div>\"\n",
    "\n",
    "def normalize_embedding(embedding):\n",
    "    return numpy.divide(embedding,\n",
    "                        numpy.linalg.norm(embedding,axis=0))\n",
    "                      \n",
    "def compute_text_embedding(text):\n",
    "    inputs = processor(text=[text], return_tensors=\"pt\", padding=True)\n",
    "    embedding = model.get_text_features(**inputs).tolist()[0]\n",
    "    normalized = normalize_embedding(embedding).tolist()\n",
    "    return normalized\n",
    "\n",
    "def compute_image_embedding(image_file, remote_url=\"\"):\n",
    "    image = load_image(image_file, remote_url)\n",
    "    if len(image):\n",
    "        try:\n",
    "            inputs = processor(images=[image], return_tensors=\"pt\", padding=True)\n",
    "            embedding = model.get_image_features(**inputs).tolist()[0]\n",
    "            normalized = normalize_embedding(embedding).tolist()\n",
    "            return normalized\n",
    "        except:\n",
    "            print(\"Exception in image processing\")\n",
    "            return []\n",
    "    else:\n",
    "        return []\n",
    "\n",
    "def text_to_image_search(query):\n",
    "    query_embedding = compute_text_embedding(query)\n",
    "    return movie_search(query_embedding)\n",
    "\n",
    "def image_to_image_search(image_file):\n",
    "    image_embedding = compute_image_embedding(image_file)\n",
    "    return movie_search(image_embedding)\n",
    "\n",
    "def text_and_image_to_image_search(text_query, image_file):\n",
    "    normalized_text_query_embedding = compute_text_embedding(text_query)\n",
    "    normalized_image_embedding = compute_image_embedding(image_file)\n",
    "    pooled_embedding = numpy.average(\n",
    "        [normalized_text_query_embedding,\n",
    "         normalized_image_embedding], axis=0).tolist()\n",
    "    return movie_search(pooled_embedding)\n",
    "    \n",
    "def display_search_results(text_query=\"\", image_query=None):\n",
    "    if image_query:\n",
    "        if text_query:\n",
    "            image_results = text_and_image_to_image_search(text_query, image_query)\n",
    "        else:\n",
    "            image_results = image_to_image_search(image_query)\n",
    "    else:\n",
    "        image_results = text_to_image_search(text_query)\n",
    "    \n",
    "    display(HTML(get_html(image_results[\"docs\"]))) \n",
    "    #output = widgets.Output()\n",
    "    #with output:    \n",
    "    #    display(widgets.HBox(layout=widgets.Layout(justify_content=\"center\")),\n",
    "    #            output)"
   ]
  },
  {
   "cell_type": "code",
   "execution_count": 15,
   "metadata": {},
   "outputs": [
    {
     "data": {
      "text/html": [
       "\n",
       "      <style type=\"text/css\">\n",
       "        .results { \n",
       "          margin-top: 15px; \n",
       "          display: flex; \n",
       "          flex-wrap: wrap; \n",
       "          justify-content: space-evenly; }\n",
       "        .results .result { height: 250px; margin-bottom: 5px; }\n",
       "      </style><div class='results'><a href='https://www.themoviedb.org/movie/872' target='_blank'><img title='Singin' in the Rain' class='result' src='http://image.tmdb.org/t/p/w780/g7KmJaGFvST5cyvA71V6epKAqIC.jpg'></a><a href='https://www.themoviedb.org/movie/872' target='_blank'><img title='Singin' in the Rain' class='result' src='http://image.tmdb.org/t/p/w780/pca5ydLMcYSERTLHbNsdqZmiAtx.jpg'></a><a href='https://www.themoviedb.org/movie/2657' target='_blank'><img title='Pleasantville' class='result' src='http://image.tmdb.org/t/p/w780/kYRMXDkV9cZO7xeuSzMvsyky8EK.jpg'></a><a href='https://www.themoviedb.org/movie/872' target='_blank'><img title='Singin' in the Rain' class='result' src='http://image.tmdb.org/t/p/w780/kOJHfBhGCeBjLjAWw2SHLAztlmf.jpg'></a><a href='https://www.themoviedb.org/movie/8392' target='_blank'><img title='My Neighbor Totoro' class='result' src='http://image.tmdb.org/t/p/w780/fxYazFVeOCHpHwuqGuiqcCTw162.jpg'></a><a href='https://www.themoviedb.org/movie/99' target='_blank'><img title='All About My Mother' class='result' src='http://image.tmdb.org/t/p/w780/u2CvJwAWDNk9w63gbOifmqd4W9r.jpg'></a><a href='https://www.themoviedb.org/movie/8392' target='_blank'><img title='My Neighbor Totoro' class='result' src='http://image.tmdb.org/t/p/w780/mvpPslST6buOd5UmVE8lPkfqTk3.jpg'></a><a href='https://www.themoviedb.org/movie/38142' target='_blank'><img title='5 Centimeters Per Second' class='result' src='http://image.tmdb.org/t/p/w780/KL4eNI60UpIiZ8GFA2idrjckHJ.jpg'></a></div>"
      ],
      "text/plain": [
       "<IPython.core.display.HTML object>"
      ]
     },
     "metadata": {},
     "output_type": "display_data"
    }
   ],
   "source": [
    "#Figure 15.5\n",
    "display_search_results(text_query=\"singing in the rain\")"
   ]
  },
  {
   "cell_type": "code",
   "execution_count": 4,
   "metadata": {},
   "outputs": [
    {
     "data": {
      "text/html": [
       "\n",
       "      <style type=\"text/css\">\n",
       "        .results { \n",
       "          margin-top: 15px; \n",
       "          display: flex; \n",
       "          flex-wrap: wrap; \n",
       "          justify-content: space-evenly; }\n",
       "        .results .result { height: 250px; margin-bottom: 5px; }\n",
       "      </style><div class='results'><a href='https://www.themoviedb.org/movie/299534' target='_blank'><img title='Avengers: Endgame' class='result' src='http://image.tmdb.org/t/p/w780/78WAcG3Xp5yYh8bReVBzKmUUQDe.jpg'></a><a href='https://www.themoviedb.org/movie/324857' target='_blank'><img title='Spider-Man: Into the Spider-Verse' class='result' src='http://image.tmdb.org/t/p/w780/7d6EY00g1c39SGZOoCJ5Py9nNth.jpg'></a><a href='https://www.themoviedb.org/movie/69592' target='_blank'><img title='Iron Man' class='result' src='http://image.tmdb.org/t/p/w780/7vMqYIHu2E5CbvWr6tmNhYulDfS.jpg'></a><a href='https://www.themoviedb.org/movie/315635' target='_blank'><img title='Spider-Man: Homecoming' class='result' src='http://image.tmdb.org/t/p/w780/fn4n6uOYcB6Uh89nbNPoU2w80RV.jpg'></a><a href='https://www.themoviedb.org/movie/284053' target='_blank'><img title='Thor: Ragnarok' class='result' src='http://image.tmdb.org/t/p/w780/6YozDnrA2fXdIbB5nWDFHtB5ZY6.jpg'></a><a href='https://www.themoviedb.org/movie/315635' target='_blank'><img title='Spider-Man: Homecoming' class='result' src='http://image.tmdb.org/t/p/w780/2j91PzOC2gSWKn53AIIAQi0UYI.jpg'></a><a href='https://www.themoviedb.org/movie/271110' target='_blank'><img title='Captain America: Civil War' class='result' src='http://image.tmdb.org/t/p/w780/A1sO8cnVJbxPi4orypg6QOfmCnk.jpg'></a><a href='https://www.themoviedb.org/movie/429617' target='_blank'><img title='Spider-Man: Far from Home' class='result' src='http://image.tmdb.org/t/p/w780/dihW2yTsvQlust7mSuAqJDtqW7k.jpg'></a></div>"
      ],
      "text/plain": [
       "<IPython.core.display.HTML object>"
      ]
     },
     "metadata": {},
     "output_type": "display_data"
    }
   ],
   "source": [
    "display_search_results(text_query=\"superheroes flying\")"
   ]
  },
  {
   "cell_type": "code",
   "execution_count": 5,
   "metadata": {},
   "outputs": [
    {
     "data": {
      "text/html": [
       "\n",
       "      <style type=\"text/css\">\n",
       "        .results { \n",
       "          margin-top: 15px; \n",
       "          display: flex; \n",
       "          flex-wrap: wrap; \n",
       "          justify-content: space-evenly; }\n",
       "        .results .result { height: 250px; margin-bottom: 5px; }\n",
       "      </style><div class='results'><a href='https://www.themoviedb.org/movie/429617' target='_blank'><img title='Spider-Man: Far from Home' class='result' src='http://image.tmdb.org/t/p/w780/dihW2yTsvQlust7mSuAqJDtqW7k.jpg'></a><a href='https://www.themoviedb.org/movie/353081' target='_blank'><img title='Mission: Impossible - Fallout' class='result' src='http://image.tmdb.org/t/p/w780/8YsQTn1YVDlqB73SN9TeTMcAAWL.jpg'></a><a href='https://www.themoviedb.org/movie/68' target='_blank'><img title='Brazil' class='result' src='http://image.tmdb.org/t/p/w780/6jcRthPBXuCj3R7iS59pvyiBkho.jpg'></a><a href='https://www.themoviedb.org/movie/324857' target='_blank'><img title='Spider-Man: Into the Spider-Verse' class='result' src='http://image.tmdb.org/t/p/w780/x2IqsMlpbOhS8zIUJfyl1yO4gHF.jpg'></a><a href='https://www.themoviedb.org/movie/69592' target='_blank'><img title='Iron Man' class='result' src='http://image.tmdb.org/t/p/w780/7vMqYIHu2E5CbvWr6tmNhYulDfS.jpg'></a><a href='https://www.themoviedb.org/movie/315635' target='_blank'><img title='Spider-Man: Homecoming' class='result' src='http://image.tmdb.org/t/p/w780/a7fHUrmm1TRXBrJrHLXMHvmolvD.jpg'></a><a href='https://www.themoviedb.org/movie/324857' target='_blank'><img title='Spider-Man: Into the Spider-Verse' class='result' src='http://image.tmdb.org/t/p/w780/okgZaNGsTgCczwnS9pyODsbSOqj.jpg'></a><a href='https://www.themoviedb.org/movie/177572' target='_blank'><img title='Big Hero 6' class='result' src='http://image.tmdb.org/t/p/w780/1N108PU85mm44qmrcQbkP73ogyS.jpg'></a></div>"
      ],
      "text/plain": [
       "<IPython.core.display.HTML object>"
      ]
     },
     "metadata": {},
     "output_type": "display_data"
    }
   ],
   "source": [
    "#Figure 15.6\n",
    "display_search_results(text_query=\"superhero flying\")"
   ]
  },
  {
   "cell_type": "code",
   "execution_count": 6,
   "metadata": {},
   "outputs": [
    {
     "data": {
      "text/html": [
       "\n",
       "      <style type=\"text/css\">\n",
       "        .results { \n",
       "          margin-top: 15px; \n",
       "          display: flex; \n",
       "          flex-wrap: wrap; \n",
       "          justify-content: space-evenly; }\n",
       "        .results .result { height: 250px; margin-bottom: 5px; }\n",
       "      </style><div class='results'><a href='https://www.themoviedb.org/movie/165' target='_blank'><img title='Back to the Future Part II' class='result' src='http://image.tmdb.org/t/p/w780/yzAzFSdGN1J9ayd1o8aLiIU8qOe.jpg'></a><a href='https://www.themoviedb.org/movie/105' target='_blank'><img title='Back to the Future' class='result' src='http://image.tmdb.org/t/p/w780/2H2YYbn8wDzYXtak83Md6PAwMdp.jpg'></a><a href='https://www.themoviedb.org/movie/106646' target='_blank'><img title='The Wolf of Wall Street' class='result' src='http://image.tmdb.org/t/p/w780/2yNtBvc6kYHUx2AT0222pIGWezo.jpg'></a><a href='https://www.themoviedb.org/movie/335984' target='_blank'><img title='Blade Runner 2049' class='result' src='http://image.tmdb.org/t/p/w780/7wlKwjIJoYSlwCClOr91EycJTw5.jpg'></a><a href='https://www.themoviedb.org/movie/196' target='_blank'><img title='Back to the Future Part III' class='result' src='http://image.tmdb.org/t/p/w780/pyCBpCn9i9NIgKWsLtVOK25d3Gm.jpg'></a><a href='https://www.themoviedb.org/movie/196' target='_blank'><img title='Back to the Future Part III' class='result' src='http://image.tmdb.org/t/p/w780/6eoqf9NYisCfEROlkGJdMLHMQS6.jpg'></a><a href='https://www.themoviedb.org/movie/97020' target='_blank'><img title='RoboCop' class='result' src='http://image.tmdb.org/t/p/w780/7WUS3j7UmYEulWkFSouRl5VxYis.jpg'></a><a href='https://www.themoviedb.org/movie/97020' target='_blank'><img title='RoboCop' class='result' src='http://image.tmdb.org/t/p/w780/6cp4P39kb6d15SoUWrwkkykMNdK.jpg'></a></div>"
      ],
      "text/plain": [
       "<IPython.core.display.HTML object>"
      ]
     },
     "metadata": {},
     "output_type": "display_data"
    }
   ],
   "source": [
    "#Figure 15.7\n",
    "display_search_results(image_query=\"../data/tmdb/delorean-query.jpg\")"
   ]
  },
  {
   "cell_type": "code",
   "execution_count": 7,
   "metadata": {},
   "outputs": [
    {
     "data": {
      "text/html": [
       "\n",
       "      <style type=\"text/css\">\n",
       "        .results { \n",
       "          margin-top: 15px; \n",
       "          display: flex; \n",
       "          flex-wrap: wrap; \n",
       "          justify-content: space-evenly; }\n",
       "        .results .result { height: 250px; margin-bottom: 5px; }\n",
       "      </style><div class='results'><a href='https://www.themoviedb.org/movie/165' target='_blank'><img title='Back to the Future Part II' class='result' src='http://image.tmdb.org/t/p/w780/yzAzFSdGN1J9ayd1o8aLiIU8qOe.jpg'></a><a href='https://www.themoviedb.org/movie/105' target='_blank'><img title='Back to the Future' class='result' src='http://image.tmdb.org/t/p/w780/2H2YYbn8wDzYXtak83Md6PAwMdp.jpg'></a><a href='https://www.themoviedb.org/movie/335984' target='_blank'><img title='Blade Runner 2049' class='result' src='http://image.tmdb.org/t/p/w780/7wlKwjIJoYSlwCClOr91EycJTw5.jpg'></a><a href='https://www.themoviedb.org/movie/196' target='_blank'><img title='Back to the Future Part III' class='result' src='http://image.tmdb.org/t/p/w780/6eoqf9NYisCfEROlkGJdMLHMQS6.jpg'></a><a href='https://www.themoviedb.org/movie/149' target='_blank'><img title='Akira' class='result' src='http://image.tmdb.org/t/p/w780/mzymBb0TXn5r6nDukjL3zTbs0sY.jpg'></a><a href='https://www.themoviedb.org/movie/284054' target='_blank'><img title='Black Panther' class='result' src='http://image.tmdb.org/t/p/w780/uJTRyv1AsGYBhcYfJkfPhSEpfeK.jpg'></a><a href='https://www.themoviedb.org/movie/105' target='_blank'><img title='Back to the Future' class='result' src='http://image.tmdb.org/t/p/w780/xwvPoLglKNX9hKexF8qnBGB9R1s.jpg'></a><a href='https://www.themoviedb.org/movie/196' target='_blank'><img title='Back to the Future Part III' class='result' src='http://image.tmdb.org/t/p/w780/pyCBpCn9i9NIgKWsLtVOK25d3Gm.jpg'></a></div>"
      ],
      "text/plain": [
       "<IPython.core.display.HTML object>"
      ]
     },
     "metadata": {},
     "output_type": "display_data"
    }
   ],
   "source": [
    "#Figure 15.8\n",
    "display_search_results(text_query=\"superhero\", image_query=\"../data/tmdb/delorean-query.jpg\")"
   ]
  },
  {
   "cell_type": "markdown",
   "metadata": {},
   "source": [
    "## Listing 15.15\n"
   ]
  },
  {
   "cell_type": "markdown",
   "metadata": {},
   "source": [
    "## Listing 15.16\n"
   ]
  }
 ],
 "metadata": {
  "kernelspec": {
   "display_name": "Python 3 (ipykernel)",
   "language": "python",
   "name": "python3"
  },
  "language_info": {
   "codemirror_mode": {
    "name": "ipython",
    "version": 3
   },
   "file_extension": ".py",
   "mimetype": "text/x-python",
   "name": "python",
   "nbconvert_exporter": "python",
   "pygments_lexer": "ipython3",
   "version": "3.10.9"
  }
 },
 "nbformat": 4,
 "nbformat_minor": 2
}
