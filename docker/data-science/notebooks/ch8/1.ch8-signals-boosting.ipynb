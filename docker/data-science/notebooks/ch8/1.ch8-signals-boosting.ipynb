{
 "cells": [
  {
   "cell_type": "markdown",
   "metadata": {},
   "source": [
    "# Signals Boosting"
   ]
  },
  {
   "cell_type": "markdown",
   "metadata": {},
   "source": [
    "NOTE: This notebook depends upon the the Retrotech dataset. If you have any issues, please rerun the [Setting up the Retrotech Dataset](../ch4/1.ch4-setting-up-the-retrotech-dataset.ipynb) notebook."
   ]
  },
  {
   "cell_type": "code",
   "execution_count": 13,
   "metadata": {},
   "outputs": [],
   "source": [
    "import sys\n",
    "sys.path.append('..')\n",
    "from aips import *\n",
    "import os\n",
    "from IPython.core.display import display,HTML\n",
    "from pyspark.sql import SparkSession\n",
    "spark = SparkSession.builder.appName(\"aips-ch4-signals-boosting\").getOrCreate()"
   ]
  },
  {
   "cell_type": "markdown",
   "metadata": {},
   "source": [
    "## Keyword Search with No Signals Boosting"
   ]
  },
  {
   "cell_type": "markdown",
   "metadata": {},
   "source": [
    "### Figure 8.1"
   ]
  },
  {
   "cell_type": "code",
   "execution_count": 14,
   "metadata": {},
   "outputs": [
    {
     "data": {
      "text/html": [
       "<div id=\"demo\">\n",
       "        <input style=\"width:50%\" readonly type=\"text\" name=\"q\" value=\"ipad\">\n",
       "        <input readonly type=\"submit\" value=\"Search\">\n",
       "\n",
       "    <div class=\"results\">\n",
       "    \t\n",
       "\n",
       "    </div>\n",
       "</div>\n",
       "    \t<div style=\"position: relative; width: 100%; height:auto; overflow: auto;\">\n",
       "\t    \t<div style=\"position: relative; float:left; width: 120px; margin-top:25px\">\n",
       "\t    \t\t<img style=\"width:100px; height: auto\" src=\"../data/retrotech/images/400037252074.jpg\">\n",
       "\t    \t</div>\n",
       "\t    \t<div style=\"position:relative; float:left; clear:none; width: 80%; height:auto\">\n",
       "\t    \t\t<p><strong>Name:</strong> iPad&#xAE; - Refurbished Digital A/V Adapter | <strong>Manufacturer:</strong> iPad&#xAE;</p>\n",
       "\t    \t\t<p> \n",
       "\t    \t\t</p>\n",
       "\t    \t</div>\n",
       "    \t</div>\n",
       "    \t\n",
       "\t\t<div style=\"position:relative; clear:both; content: ' '; display: block; height: 1px; margin-top: 10px; margin-bottom:20px\">\n",
       "\t\t\t<hr style=\"color: gray; width: 95%;\" />\n",
       "\t\t</div>\n",
       "\t\t\n",
       "    \t<div style=\"position: relative; width: 100%; height:auto; overflow: auto;\">\n",
       "\t    \t<div style=\"position: relative; float:left; width: 120px; margin-top:25px\">\n",
       "\t    \t\t<img style=\"width:100px; height: auto\" src=\"../data/retrotech/images/400037252258.jpg\">\n",
       "\t    \t</div>\n",
       "\t    \t<div style=\"position:relative; float:left; clear:none; width: 80%; height:auto\">\n",
       "\t    \t\t<p><strong>Name:</strong> iPad&#xAE; - Refurbished USB Power Adapter | <strong>Manufacturer:</strong> iPad&#xAE;</p>\n",
       "\t    \t\t<p> \n",
       "\t    \t\t</p>\n",
       "\t    \t</div>\n",
       "    \t</div>\n",
       "    \t\n",
       "\t\t<div style=\"position:relative; clear:both; content: ' '; display: block; height: 1px; margin-top: 10px; margin-bottom:20px\">\n",
       "\t\t\t<hr style=\"color: gray; width: 95%;\" />\n",
       "\t\t</div>\n",
       "\t\t\n",
       "    \t<div style=\"position: relative; width: 100%; height:auto; overflow: auto;\">\n",
       "\t    \t<div style=\"position: relative; float:left; width: 120px; margin-top:25px\">\n",
       "\t    \t\t<img style=\"width:100px; height: auto\" src=\"../data/retrotech/images/400037252616.jpg\">\n",
       "\t    \t</div>\n",
       "\t    \t<div style=\"position:relative; float:left; clear:none; width: 80%; height:auto\">\n",
       "\t    \t\t<p><strong>Name:</strong> iPad&#xAE; - Refurbished Dock Connector-to-VGA Adapter | <strong>Manufacturer:</strong> iPad&#xAE;</p>\n",
       "\t    \t\t<p> \n",
       "\t    \t\t</p>\n",
       "\t    \t</div>\n",
       "    \t</div>\n",
       "    \t\n",
       "\t\t<div style=\"position:relative; clear:both; content: ' '; display: block; height: 1px; margin-top: 10px; margin-bottom:20px\">\n",
       "\t\t\t<hr style=\"color: gray; width: 95%;\" />\n",
       "\t\t</div>\n",
       "\t\t"
      ],
      "text/plain": [
       "<IPython.core.display.HTML object>"
      ]
     },
     "metadata": {},
     "output_type": "display_data"
    }
   ],
   "source": [
    "query = \"ipad\"\n",
    "\n",
    "collection = \"products\"\n",
    "request = {\n",
    "    \"query\": query,\n",
    "    \"fields\": [\"upc\", \"name\", \"manufacturer\", \"score\"],\n",
    "    \"limit\": 3,\n",
    "    \"params\": {\n",
    "      \"qf\": \"name manufacturer longDescription\",\n",
    "      \"defType\": \"edismax\",\n",
    "      \"indent\": \"true\",\n",
    "      \"sort\": \"score desc, upc asc\"\n",
    "    }\n",
    "}\n",
    "\n",
    "search_results = requests.post(solr_url + collection + \"/select\", json=request).json()[\"response\"][\"docs\"]\n",
    "display(HTML(render_search_results(query, search_results)))"
   ]
  },
  {
   "cell_type": "markdown",
   "metadata": {},
   "source": [
    "## Create Signals Boosts (Signals Aggregation)"
   ]
  },
  {
   "cell_type": "markdown",
   "metadata": {},
   "source": [
    "### Basic Signals Boosting Model"
   ]
  },
  {
   "cell_type": "code",
   "execution_count": 15,
   "metadata": {},
   "outputs": [],
   "source": [
    "def aggregate_signals(signals_collection, signals_aggregation_collection, signals_aggregation_query):\n",
    "\n",
    "    create_collection(signals_aggregation_collection)\n",
    "\n",
    "    print(\"Aggregating Signals to Create Signals Boosts...\")\n",
    "    signals_opts={\"zkhost\": \"aips-zk\", \"collection\": signals_collection}\n",
    "    signals_boosting_opts={\"zkhost\": \"aips-zk\", \"collection\": signals_aggregation_collection, \"gen_uniq_key\": \"true\", \"commit_within\": \"5000\"}\n",
    "    df = spark.read.format(\"solr\").options(**signals_opts).load()\n",
    "    df.registerTempTable(\"signals\")\n",
    "\n",
    "\n",
    "    spark.sql(signals_aggregation_query).write.format(\"solr\").options(**signals_boosting_opts).mode(\"overwrite\").save()\n",
    "    print(\"Signals Aggregation Completed!\")"
   ]
  },
  {
   "cell_type": "code",
   "execution_count": 16,
   "metadata": {},
   "outputs": [
    {
     "name": "stdout",
     "output_type": "stream",
     "text": [
      "Wiping 'basic_signals_boosts' collection\n",
      "[('action', 'CREATE'), ('name', 'basic_signals_boosts'), ('numShards', 1), ('replicationFactor', 1)]\n",
      "Creating basic_signals_boosts' collection\n",
      "Status: Success\n",
      "Aggregating Signals to Create Signals Boosts...\n",
      "Signals Aggregation Completed!\n"
     ]
    }
   ],
   "source": [
    "signals_collection = \"signals\"\n",
    "signals_aggregation_collection = \"basic_signals_boosts\"\n",
    "\n",
    "basic_signals_aggregation_query = \"\"\"\n",
    "  select q.target as query, c.target as doc, count(c.target) as boost\n",
    "    from signals c left join signals q on c.query_id = q.query_id\n",
    "    where c.type = 'click' AND q.type = 'query'\n",
    "    group by query, doc\n",
    "    order by boost desc\n",
    "  \"\"\"\n",
    "\n",
    "aggregate_signals(signals_collection, signals_aggregation_collection, basic_signals_aggregation_query)"
   ]
  },
  {
   "cell_type": "markdown",
   "metadata": {},
   "source": [
    "## Search with Signals Boosts Applied"
   ]
  },
  {
   "cell_type": "markdown",
   "metadata": {},
   "source": [
    "### Signals Boosting Query"
   ]
  },
  {
   "cell_type": "code",
   "execution_count": 17,
   "metadata": {},
   "outputs": [
    {
     "name": "stdout",
     "output_type": "stream",
     "text": [
      "Boost Documents: \n",
      "\n",
      "[{'doc': '885909457588', 'boost': 966}, {'doc': '885909457595', 'boost': 205}, {'doc': '885909471812', 'boost': 202}, {'doc': '886111287055', 'boost': 109}, {'doc': '843404073153', 'boost': 73}, {'doc': '885909457601', 'boost': 62}, {'doc': '635753493559', 'boost': 62}, {'doc': '885909472376', 'boost': 61}, {'doc': '610839379408', 'boost': 29}, {'doc': '884962753071', 'boost': 28}]\n",
      "\n",
      "Boost Query: \n",
      "\"885909457588\"^966 \"885909457595\"^205 \"885909471812\"^202 \"886111287055\"^109 \"843404073153\"^73 \"885909457601\"^62 \"635753493559\"^62 \"885909472376\"^61 \"610839379408\"^29 \"884962753071\"^28\n",
      "\n",
      "Main Query:\n",
      "{'query': 'ipad', 'fields': ['upc', 'name', 'manufacturer', 'score'], 'limit': 3, 'params': {'qf': 'name manufacturer longDescription', 'defType': 'edismax', 'indent': 'true', 'sort': 'score desc, upc asc', 'boost': 'sum(1,query({! df=upc v=$signals_boosting}))', 'signals_boosting': '\"885909457588\"^966 \"885909457595\"^205 \"885909471812\"^202 \"886111287055\"^109 \"843404073153\"^73 \"885909457601\"^62 \"635753493559\"^62 \"885909472376\"^61 \"610839379408\"^29 \"884962753071\"^28'}}\n",
      "\n",
      "Search Results (Basic Signals Boosting): \n",
      "[{'upc': '885909457588', 'name': 'Apple&#xAE; - iPad&#xAE; 2 with Wi-Fi - 16GB - Black', 'manufacturer': 'Apple&#xAE;', 'score': 10727.459}, {'upc': '885909457595', 'name': 'Apple&#xAE; - iPad&#xAE; 2 with Wi-Fi - 32GB - Black', 'manufacturer': 'Apple&#xAE;', 'score': 2278.3853}, {'upc': '885909471812', 'name': 'Apple&#xAE; - iPad&#xAE; 2 with Wi-Fi - 16GB - White', 'manufacturer': 'Apple&#xAE;', 'score': 2245.0776}]\n"
     ]
    },
    {
     "data": {
      "text/html": [
       "<div id=\"demo\">\n",
       "        <input style=\"width:50%\" readonly type=\"text\" name=\"q\" value=\"ipad\">\n",
       "        <input readonly type=\"submit\" value=\"Search\">\n",
       "\n",
       "    <div class=\"results\">\n",
       "    \t\n",
       "\n",
       "    </div>\n",
       "</div>\n",
       "    \t<div style=\"position: relative; width: 100%; height:auto; overflow: auto;\">\n",
       "\t    \t<div style=\"position: relative; float:left; width: 120px; margin-top:25px\">\n",
       "\t    \t\t<img style=\"width:100px; height: auto\" src=\"../data/retrotech/images/885909457588.jpg\">\n",
       "\t    \t</div>\n",
       "\t    \t<div style=\"position:relative; float:left; clear:none; width: 80%; height:auto\">\n",
       "\t    \t\t<p><strong>Name:</strong> Apple&#xAE; - iPad&#xAE; 2 with Wi-Fi - 16GB - Black | <strong>Manufacturer:</strong> Apple&#xAE;</p>\n",
       "\t    \t\t<p> \n",
       "\t    \t\t</p>\n",
       "\t    \t</div>\n",
       "    \t</div>\n",
       "    \t\n",
       "\t\t<div style=\"position:relative; clear:both; content: ' '; display: block; height: 1px; margin-top: 10px; margin-bottom:20px\">\n",
       "\t\t\t<hr style=\"color: gray; width: 95%;\" />\n",
       "\t\t</div>\n",
       "\t\t\n",
       "    \t<div style=\"position: relative; width: 100%; height:auto; overflow: auto;\">\n",
       "\t    \t<div style=\"position: relative; float:left; width: 120px; margin-top:25px\">\n",
       "\t    \t\t<img style=\"width:100px; height: auto\" src=\"../data/retrotech/images/885909457595.jpg\">\n",
       "\t    \t</div>\n",
       "\t    \t<div style=\"position:relative; float:left; clear:none; width: 80%; height:auto\">\n",
       "\t    \t\t<p><strong>Name:</strong> Apple&#xAE; - iPad&#xAE; 2 with Wi-Fi - 32GB - Black | <strong>Manufacturer:</strong> Apple&#xAE;</p>\n",
       "\t    \t\t<p> \n",
       "\t    \t\t</p>\n",
       "\t    \t</div>\n",
       "    \t</div>\n",
       "    \t\n",
       "\t\t<div style=\"position:relative; clear:both; content: ' '; display: block; height: 1px; margin-top: 10px; margin-bottom:20px\">\n",
       "\t\t\t<hr style=\"color: gray; width: 95%;\" />\n",
       "\t\t</div>\n",
       "\t\t\n",
       "    \t<div style=\"position: relative; width: 100%; height:auto; overflow: auto;\">\n",
       "\t    \t<div style=\"position: relative; float:left; width: 120px; margin-top:25px\">\n",
       "\t    \t\t<img style=\"width:100px; height: auto\" src=\"../data/retrotech/images/885909471812.jpg\">\n",
       "\t    \t</div>\n",
       "\t    \t<div style=\"position:relative; float:left; clear:none; width: 80%; height:auto\">\n",
       "\t    \t\t<p><strong>Name:</strong> Apple&#xAE; - iPad&#xAE; 2 with Wi-Fi - 16GB - White | <strong>Manufacturer:</strong> Apple&#xAE;</p>\n",
       "\t    \t\t<p> \n",
       "\t    \t\t</p>\n",
       "\t    \t</div>\n",
       "    \t</div>\n",
       "    \t\n",
       "\t\t<div style=\"position:relative; clear:both; content: ' '; display: block; height: 1px; margin-top: 10px; margin-bottom:20px\">\n",
       "\t\t\t<hr style=\"color: gray; width: 95%;\" />\n",
       "\t\t</div>\n",
       "\t\t"
      ],
      "text/plain": [
       "<IPython.core.display.HTML object>"
      ]
     },
     "metadata": {},
     "output_type": "display_data"
    }
   ],
   "source": [
    "query = \"ipad\"\n",
    "\n",
    "def get_query_time_boosts(query, signals_boosting_collection):\n",
    "    signals_boosts_query = {\n",
    "        \"query\": \"\\\"\" + query + \"\\\"\",\n",
    "        \"fields\": [\"doc\", \"boost\"],\n",
    "        \"limit\": 10,\n",
    "        \"params\": {\n",
    "          \"defType\": \"edismax\",\n",
    "          \"qf\": \"query\",\n",
    "          \"sort\": \"boost desc\"\n",
    "        }\n",
    "    }\n",
    "\n",
    "    signals_boosts = requests.post(solr_url + signals_boosting_collection + \"/select\", json=signals_boosts_query).json()[\"response\"][\"docs\"]\n",
    "    print(\"Boost Documents: \\n\")\n",
    "    print(signals_boosts)\n",
    "\n",
    "    product_boosts = \"\"\n",
    "    for entry in signals_boosts:\n",
    "        if len(product_boosts) > 0:  product_boosts += \" \"\n",
    "        product_boosts += '\"' + entry['doc'] + '\"^' + str(entry['boost'])\n",
    "\n",
    "    print(\"\\nBoost Query: \\n\" + product_boosts + \"\\n\")\n",
    "    \n",
    "    return product_boosts\n",
    "\n",
    "\n",
    "def get_main_query(query, signals_boosts):    \n",
    "    request = {\n",
    "        \"query\": query,\n",
    "        \"fields\": [\"upc\", \"name\", \"manufacturer\", \"score\"],\n",
    "        \"limit\": 3,\n",
    "        \"params\": {\n",
    "          \"qf\": \"name manufacturer longDescription\",\n",
    "          \"defType\": \"edismax\",\n",
    "          \"indent\": \"true\",\n",
    "          \"sort\": \"score desc, upc asc\",\n",
    "          \"qf\": \"name manufacturer longDescription\",\n",
    "          \"boost\": \"sum(1,query({! df=upc v=$signals_boosting}))\",\n",
    "          \"signals_boosting\": signals_boosts\n",
    "        }\n",
    "    }\n",
    "    \n",
    "    return request\n",
    "\n",
    "collection = \"products\"\n",
    "signals_boosts = get_query_time_boosts(query, \"basic_signals_boosts\")\n",
    "boosted_query = get_main_query(query, signals_boosts)\n",
    "print(\"Main Query:\")\n",
    "print(boosted_query)\n",
    "\n",
    "search_results = requests.post(solr_url + collection + \"/select\", json=boosted_query).json()[\"response\"][\"docs\"]\n",
    "print(\"\\nSearch Results (Basic Signals Boosting): \")\n",
    "print(search_results)\n",
    "display(HTML(render_search_results(query, search_results)))"
   ]
  },
  {
   "cell_type": "markdown",
   "metadata": {},
   "source": [
    "## Raw Signals Boosts (Case-sensitive)"
   ]
  },
  {
   "cell_type": "markdown",
   "metadata": {},
   "source": [
    "### Listing 8.1"
   ]
  },
  {
   "cell_type": "code",
   "execution_count": 18,
   "metadata": {},
   "outputs": [
    {
     "name": "stdout",
     "output_type": "stream",
     "text": [
      "Raw Boosted Queries\n",
      "\"iPad\" : 1050\n",
      "\"ipad\" : 966\n",
      "\"Ipad\" : 829\n",
      "\"iPad 2\" : 509\n",
      "\"ipad 2\" : 347\n",
      "\"Ipad2\" : 261\n",
      "\"ipad2\" : 238\n",
      "\"Ipad 2\" : 213\n",
      "\"I pad\" : 203\n",
      "\"i pad\" : 133\n",
      "\"IPad\" : 77\n",
      "\"Apple\" : 76\n",
      "\"I pad 2\" : 60\n",
      "\"apple ipad\" : 55\n",
      "\"Apple iPad\" : 53\n",
      "\"ipads\" : 43\n",
      "\"tablets\" : 42\n",
      "\"apple\" : 41\n",
      "\"iPads\" : 38\n",
      "\"i pad 2\" : 38\n",
      "\n"
     ]
    }
   ],
   "source": [
    "query = \"885909457588\" #most popular iPad model\n",
    "\n",
    "def show_raw_boosted_queries(signals_boosting_collection):\n",
    "    signals_boosts_query = {\n",
    "        \"query\": \"\\\"\" + query + \"\\\"\",\n",
    "        \"fields\": [\"query\", \"boost\"],\n",
    "        \"limit\": 20,\n",
    "        \"params\": {\n",
    "          \"defType\": \"edismax\",\n",
    "          \"qf\": \"doc\",\n",
    "          \"sort\": \"boost desc\"\n",
    "        }\n",
    "    }\n",
    "\n",
    "    signals_boosts = requests.post(solr_url + signals_boosting_collection \n",
    "                     + \"/select\", json=signals_boosts_query).json()[\"response\"][\"docs\"]\n",
    "\n",
    "    boosted_queries = \"\"\n",
    "    for entry in signals_boosts:\n",
    "        boosted_queries += '\"' + entry['query'] + '\" : ' + str(entry['boost']) + \"\\n\"\n",
    "\n",
    "    print(\"Raw Boosted Queries\")\n",
    "    print(boosted_queries)\n",
    "    \n",
    "signals_boosting_collection = \"basic_signals_boosts\"    \n",
    "show_raw_boosted_queries(signals_boosting_collection)\n",
    "    "
   ]
  },
  {
   "cell_type": "markdown",
   "metadata": {},
   "source": [
    "## Normalized Signals Boosting (Case-insensitive)"
   ]
  },
  {
   "cell_type": "markdown",
   "metadata": {},
   "source": [
    "### Listing 8.2"
   ]
  },
  {
   "cell_type": "code",
   "execution_count": 19,
   "metadata": {},
   "outputs": [
    {
     "name": "stdout",
     "output_type": "stream",
     "text": [
      "Wiping 'normalized_signals_boosts' collection\n",
      "[('action', 'CREATE'), ('name', 'normalized_signals_boosts'), ('numShards', 1), ('replicationFactor', 1)]\n",
      "Creating normalized_signals_boosts' collection\n",
      "Status: Success\n",
      "Aggregating Signals to Create Signals Boosts...\n",
      "Signals Aggregation Completed!\n"
     ]
    }
   ],
   "source": [
    "signals_collection = \"signals\"\n",
    "signals_boosting_collection = \"normalized_signals_boosts\"\n",
    "\n",
    "normalized_signals_aggregation_query = \"\"\"\n",
    "      select lower(q.target) as query, c.target as doc, count(c.target) as boost\n",
    "        from signals c left join signals q on c.query_id = q.query_id\n",
    "        where c.type = 'click' AND q.type = 'query'\n",
    "        group by query, doc\n",
    "        order by boost desc\n",
    "        \"\"\"\n",
    "\n",
    "aggregate_signals(signals_collection, signals_boosting_collection, normalized_signals_aggregation_query)"
   ]
  },
  {
   "cell_type": "code",
   "execution_count": 20,
   "metadata": {},
   "outputs": [
    {
     "name": "stdout",
     "output_type": "stream",
     "text": [
      "Raw Boosted Queries\n",
      "\"ipad\" : 2939\n",
      "\"ipad 2\" : 1104\n",
      "\"ipad2\" : 540\n",
      "\"i pad\" : 341\n",
      "\"apple ipad\" : 152\n",
      "\"ipads\" : 123\n",
      "\"apple\" : 118\n",
      "\"i pad 2\" : 99\n",
      "\"tablets\" : 67\n",
      "\"tablet\" : 61\n",
      "\"ipad 1\" : 52\n",
      "\"apple ipad 2\" : 27\n",
      "\"hp touchpad\" : 26\n",
      "\"ipaq\" : 20\n",
      "\"i pad2\" : 19\n",
      "\"wi\" : 19\n",
      "\"apple computers\" : 18\n",
      "\"apple i pad\" : 15\n",
      "\"ipad 2 16gb\" : 15\n",
      "\"samsung galaxy\" : 14\n",
      "\n"
     ]
    }
   ],
   "source": [
    "show_raw_boosted_queries(signals_boosting_collection)"
   ]
  },
  {
   "cell_type": "markdown",
   "metadata": {},
   "source": [
    "## Start Wars Search before User Manipulation"
   ]
  },
  {
   "cell_type": "markdown",
   "metadata": {},
   "source": [
    "### Figure 8.2"
   ]
  },
  {
   "cell_type": "code",
   "execution_count": 21,
   "metadata": {},
   "outputs": [
    {
     "name": "stdout",
     "output_type": "stream",
     "text": [
      "Boost Documents: \n",
      "\n",
      "[{'doc': '024543742180', 'boost': 1490}, {'doc': '400032015667', 'boost': 186}, {'doc': '024543742074', 'boost': 127}, {'doc': '024543559856', 'boost': 117}, {'doc': '014633169546', 'boost': 107}, {'doc': '024543742098', 'boost': 81}, {'doc': '024543781875', 'boost': 67}, {'doc': '023272342654', 'boost': 39}, {'doc': '014633169522', 'boost': 32}, {'doc': '024543560067', 'boost': 30}]\n",
      "\n",
      "Boost Query: \n",
      "\"024543742180\"^1490 \"400032015667\"^186 \"024543742074\"^127 \"024543559856\"^117 \"014633169546\"^107 \"024543742098\"^81 \"024543781875\"^67 \"023272342654\"^39 \"014633169522\"^32 \"024543560067\"^30\n",
      "\n",
      "[{'upc': '400032015667', 'name': 'Star Wars - The Complete Saga - Blu-ray Disc', 'manufacturer': 'LucasFilm', 'score': 4542.926}, {'upc': '696055169191', 'name': 'Star Wars: Battlefront II - PSP', 'manufacturer': 'LucasArts', 'score': 6.6077175}, {'upc': '23272335397', 'name': 'Star Wars Battlefront: Elite Squadron - PSP', 'manufacturer': 'LucasArts', 'score': 6.327446}]\n"
     ]
    },
    {
     "data": {
      "text/html": [
       "<div id=\"demo\">\n",
       "        <input style=\"width:50%\" readonly type=\"text\" name=\"q\" value=\"star wars\">\n",
       "        <input readonly type=\"submit\" value=\"Search\">\n",
       "\n",
       "    <div class=\"results\">\n",
       "    \t\n",
       "\n",
       "    </div>\n",
       "</div>\n",
       "    \t<div style=\"position: relative; width: 100%; height:auto; overflow: auto;\">\n",
       "\t    \t<div style=\"position: relative; float:left; width: 120px; margin-top:25px\">\n",
       "\t    \t\t<img style=\"width:100px; height: auto\" src=\"../data/retrotech/images/400032015667.jpg\">\n",
       "\t    \t</div>\n",
       "\t    \t<div style=\"position:relative; float:left; clear:none; width: 80%; height:auto\">\n",
       "\t    \t\t<p><strong>Name:</strong> Star Wars - The Complete Saga - Blu-ray Disc | <strong>Manufacturer:</strong> LucasFilm</p>\n",
       "\t    \t\t<p> \n",
       "\t    \t\t</p>\n",
       "\t    \t</div>\n",
       "    \t</div>\n",
       "    \t\n",
       "\t\t<div style=\"position:relative; clear:both; content: ' '; display: block; height: 1px; margin-top: 10px; margin-bottom:20px\">\n",
       "\t\t\t<hr style=\"color: gray; width: 95%;\" />\n",
       "\t\t</div>\n",
       "\t\t\n",
       "    \t<div style=\"position: relative; width: 100%; height:auto; overflow: auto;\">\n",
       "\t    \t<div style=\"position: relative; float:left; width: 120px; margin-top:25px\">\n",
       "\t    \t\t<img style=\"width:100px; height: auto\" src=\"../data/retrotech/images/696055169191.jpg\">\n",
       "\t    \t</div>\n",
       "\t    \t<div style=\"position:relative; float:left; clear:none; width: 80%; height:auto\">\n",
       "\t    \t\t<p><strong>Name:</strong> Star Wars: Battlefront II - PSP | <strong>Manufacturer:</strong> LucasArts</p>\n",
       "\t    \t\t<p> \n",
       "\t    \t\t</p>\n",
       "\t    \t</div>\n",
       "    \t</div>\n",
       "    \t\n",
       "\t\t<div style=\"position:relative; clear:both; content: ' '; display: block; height: 1px; margin-top: 10px; margin-bottom:20px\">\n",
       "\t\t\t<hr style=\"color: gray; width: 95%;\" />\n",
       "\t\t</div>\n",
       "\t\t\n",
       "    \t<div style=\"position: relative; width: 100%; height:auto; overflow: auto;\">\n",
       "\t    \t<div style=\"position: relative; float:left; width: 120px; margin-top:25px\">\n",
       "\t    \t\t<img style=\"width:100px; height: auto\" src=\"../data/retrotech/images/23272335397.jpg\">\n",
       "\t    \t</div>\n",
       "\t    \t<div style=\"position:relative; float:left; clear:none; width: 80%; height:auto\">\n",
       "\t    \t\t<p><strong>Name:</strong> Star Wars Battlefront: Elite Squadron - PSP | <strong>Manufacturer:</strong> LucasArts</p>\n",
       "\t    \t\t<p> \n",
       "\t    \t\t</p>\n",
       "\t    \t</div>\n",
       "    \t</div>\n",
       "    \t\n",
       "\t\t<div style=\"position:relative; clear:both; content: ' '; display: block; height: 1px; margin-top: 10px; margin-bottom:20px\">\n",
       "\t\t\t<hr style=\"color: gray; width: 95%;\" />\n",
       "\t\t</div>\n",
       "\t\t"
      ],
      "text/plain": [
       "<IPython.core.display.HTML object>"
      ]
     },
     "metadata": {},
     "output_type": "display_data"
    }
   ],
   "source": [
    "query = \"star wars\"\n",
    "collection = \"products\"\n",
    "\n",
    "signals_boosts = get_query_time_boosts(query, \"normalized_signals_boosts\")\n",
    "boosted_query = get_main_query(query, signals_boosts)\n",
    "#print(boosted_query)\n",
    "\n",
    "search_results = requests.post(solr_url + collection + \"/select?fq=-upc:45626176\", json=boosted_query).json()[\"response\"][\"docs\"]\n",
    "print(search_results)\n",
    "display(HTML(render_search_results(query, search_results)))"
   ]
  },
  {
   "cell_type": "markdown",
   "metadata": {},
   "source": [
    "## Simulating a malicious user"
   ]
  },
  {
   "cell_type": "markdown",
   "metadata": {},
   "source": [
    "### Listing 8.3"
   ]
  },
  {
   "cell_type": "code",
   "execution_count": 22,
   "metadata": {},
   "outputs": [
    {
     "name": "stdout",
     "output_type": "stream",
     "text": [
      "Wiping 'signals_boosts_with_spam' collection\n",
      "[('action', 'CREATE'), ('name', 'signals_boosts_with_spam'), ('numShards', 1), ('replicationFactor', 1)]\n",
      "Creating signals_boosts_with_spam' collection\n",
      "Status: Success\n",
      "Aggregating Signals to Create Signals Boosts...\n",
      "Signals Aggregation Completed!\n"
     ]
    }
   ],
   "source": [
    "import datetime\n",
    "\n",
    "spam_user = \"u8675309\"\n",
    "spam_query = \"star wars\"\n",
    "\n",
    "#doc for a \"trash compactor\" from someone who wants star wars is rubbish!\n",
    "spam_signal_boost_doc_upc = \"45626176\" \n",
    "\n",
    "\n",
    "#generate 5,000 query and click signals\n",
    "num = 0\n",
    "while (num < 5000): #generate 5,000 query and click signals\n",
    "    query_id = \"u8675309_0_\" + str(num)\n",
    "    \n",
    "    next_query_signal = { \n",
    "        \"query_id\": query_id,\n",
    "        \"user\": spam_user,\n",
    "        \"type\":\"query\",\n",
    "        \"target\": spam_query,\n",
    "        \"signal_time\": datetime.datetime.now().strftime(\"%Y-%m-%dT%H:%M:%SZ\"),\n",
    "        \"id\":\"spam_signal_query_\" + str(num)\n",
    "    }\n",
    "    \n",
    "    next_click_signal = { \n",
    "        \"query_id\": query_id,\n",
    "        \"user\": spam_user,\n",
    "        \"type\":\"click\",\n",
    "        \"target\": spam_signal_boost_doc_upc,\n",
    "        \"signal_time\": datetime.datetime.now().strftime(\"%Y-%m-%dT%H:%M:%SZ\"),\n",
    "        \"id\":\"spam_signal_click_\" + str(num)\n",
    "    }\n",
    "    \n",
    "    collection = \"signals\"\n",
    "    requests.post(solr_url + collection + \"/update/json/docs\", json=next_query_signal)\n",
    "    requests.post(solr_url + collection + \"/update/json/docs\", json=next_click_signal)\n",
    "    num+=1\n",
    "\n",
    "#commit\n",
    "requests.post(solr_url + collection + \"/update/json/docs?commit=true\")\n",
    "\n",
    "#re-run the basic signals aggregation to process the malicious clicks\n",
    "signals_collection = \"signals\"\n",
    "signals_aggregation_collection = \"signals_boosts_with_spam\"\n",
    "aggregate_signals(signals_collection, signals_aggregation_collection, normalized_signals_aggregation_query)"
   ]
  },
  {
   "cell_type": "markdown",
   "metadata": {},
   "source": [
    "## Impact of Spam on Search Results"
   ]
  },
  {
   "cell_type": "markdown",
   "metadata": {},
   "source": [
    "### Listing 8.4"
   ]
  },
  {
   "cell_type": "code",
   "execution_count": 23,
   "metadata": {},
   "outputs": [
    {
     "name": "stdout",
     "output_type": "stream",
     "text": [
      "Boost Documents: \n",
      "\n",
      "[{'doc': '45626176', 'boost': 5000}, {'doc': '024543742180', 'boost': 1490}, {'doc': '400032015667', 'boost': 186}, {'doc': '024543742074', 'boost': 127}, {'doc': '024543559856', 'boost': 117}, {'doc': '014633169546', 'boost': 107}, {'doc': '024543742098', 'boost': 81}, {'doc': '024543781875', 'boost': 67}, {'doc': '023272342654', 'boost': 39}, {'doc': '014633169522', 'boost': 32}]\n",
      "\n",
      "Boost Query: \n",
      "\"45626176\"^5000 \"024543742180\"^1490 \"400032015667\"^186 \"024543742074\"^127 \"024543559856\"^117 \"014633169546\"^107 \"024543742098\"^81 \"024543781875\"^67 \"023272342654\"^39 \"014633169522\"^32\n",
      "\n",
      "[{'upc': '45626176', 'name': 'Trash Can (Star Wars Themed)', 'manufacturer': 'Jay Franco & Sons', 'score': 144994.0}, {'upc': '400032015667', 'name': 'Star Wars - The Complete Saga - Blu-ray Disc', 'manufacturer': 'LucasFilm', 'score': 4542.926}, {'upc': '696055169191', 'name': 'Star Wars: Battlefront II - PSP', 'manufacturer': 'LucasArts', 'score': 6.6077175}]\n"
     ]
    },
    {
     "data": {
      "text/html": [
       "<div id=\"demo\">\n",
       "        <input style=\"width:50%\" readonly type=\"text\" name=\"q\" value=\"star wars\">\n",
       "        <input readonly type=\"submit\" value=\"Search\">\n",
       "\n",
       "    <div class=\"results\">\n",
       "    \t\n",
       "\n",
       "    </div>\n",
       "</div>\n",
       "    \t<div style=\"position: relative; width: 100%; height:auto; overflow: auto;\">\n",
       "\t    \t<div style=\"position: relative; float:left; width: 120px; margin-top:25px\">\n",
       "\t    \t\t<img style=\"width:100px; height: auto\" src=\"../data/retrotech/images/45626176.jpg\">\n",
       "\t    \t</div>\n",
       "\t    \t<div style=\"position:relative; float:left; clear:none; width: 80%; height:auto\">\n",
       "\t    \t\t<p><strong>Name:</strong> Trash Can (Star Wars Themed) | <strong>Manufacturer:</strong> Jay Franco & Sons</p>\n",
       "\t    \t\t<p> \n",
       "\t    \t\t</p>\n",
       "\t    \t</div>\n",
       "    \t</div>\n",
       "    \t\n",
       "\t\t<div style=\"position:relative; clear:both; content: ' '; display: block; height: 1px; margin-top: 10px; margin-bottom:20px\">\n",
       "\t\t\t<hr style=\"color: gray; width: 95%;\" />\n",
       "\t\t</div>\n",
       "\t\t\n",
       "    \t<div style=\"position: relative; width: 100%; height:auto; overflow: auto;\">\n",
       "\t    \t<div style=\"position: relative; float:left; width: 120px; margin-top:25px\">\n",
       "\t    \t\t<img style=\"width:100px; height: auto\" src=\"../data/retrotech/images/400032015667.jpg\">\n",
       "\t    \t</div>\n",
       "\t    \t<div style=\"position:relative; float:left; clear:none; width: 80%; height:auto\">\n",
       "\t    \t\t<p><strong>Name:</strong> Star Wars - The Complete Saga - Blu-ray Disc | <strong>Manufacturer:</strong> LucasFilm</p>\n",
       "\t    \t\t<p> \n",
       "\t    \t\t</p>\n",
       "\t    \t</div>\n",
       "    \t</div>\n",
       "    \t\n",
       "\t\t<div style=\"position:relative; clear:both; content: ' '; display: block; height: 1px; margin-top: 10px; margin-bottom:20px\">\n",
       "\t\t\t<hr style=\"color: gray; width: 95%;\" />\n",
       "\t\t</div>\n",
       "\t\t\n",
       "    \t<div style=\"position: relative; width: 100%; height:auto; overflow: auto;\">\n",
       "\t    \t<div style=\"position: relative; float:left; width: 120px; margin-top:25px\">\n",
       "\t    \t\t<img style=\"width:100px; height: auto\" src=\"../data/retrotech/images/696055169191.jpg\">\n",
       "\t    \t</div>\n",
       "\t    \t<div style=\"position:relative; float:left; clear:none; width: 80%; height:auto\">\n",
       "\t    \t\t<p><strong>Name:</strong> Star Wars: Battlefront II - PSP | <strong>Manufacturer:</strong> LucasArts</p>\n",
       "\t    \t\t<p> \n",
       "\t    \t\t</p>\n",
       "\t    \t</div>\n",
       "    \t</div>\n",
       "    \t\n",
       "\t\t<div style=\"position:relative; clear:both; content: ' '; display: block; height: 1px; margin-top: 10px; margin-bottom:20px\">\n",
       "\t\t\t<hr style=\"color: gray; width: 95%;\" />\n",
       "\t\t</div>\n",
       "\t\t"
      ],
      "text/plain": [
       "<IPython.core.display.HTML object>"
      ]
     },
     "metadata": {},
     "output_type": "display_data"
    }
   ],
   "source": [
    "query = \"star wars\"\n",
    "collection = \"products\"\n",
    "\n",
    "signals_boosts = get_query_time_boosts(query, \"signals_boosts_with_spam\")\n",
    "boosted_query = get_main_query(query, signals_boosts)\n",
    "\n",
    "search_results = requests.post(solr_url + collection + \"/select\", json=boosted_query).json()[\"response\"][\"docs\"]\n",
    "print(search_results)\n",
    "display(HTML(render_search_results(query, search_results)))"
   ]
  },
  {
   "cell_type": "markdown",
   "metadata": {},
   "source": [
    "## Fighting Signal Spam through User-level Deduplication"
   ]
  },
  {
   "cell_type": "markdown",
   "metadata": {},
   "source": [
    "### Listing 8.5"
   ]
  },
  {
   "cell_type": "code",
   "execution_count": 24,
   "metadata": {},
   "outputs": [
    {
     "name": "stdout",
     "output_type": "stream",
     "text": [
      "Wiping 'signals_boosts_anti_spam' collection\n",
      "[('action', 'CREATE'), ('name', 'signals_boosts_anti_spam'), ('numShards', 1), ('replicationFactor', 1)]\n",
      "Creating signals_boosts_anti_spam' collection\n",
      "Status: Success\n",
      "Aggregating Signals to Create Signals Boosts...\n",
      "Signals Aggregation Completed!\n"
     ]
    }
   ],
   "source": [
    "#One Signal per User - Anti-Spam\n",
    "signals_collection = \"signals\"\n",
    "signals_aggregation_collection = \"signals_boosts_anti_spam\"\n",
    "\n",
    "anti_spam_aggregation_query = \"\"\"\n",
    "  select query, doc, count(doc) as boost from (\n",
    "    select c.user unique_user, lower(q.target) as query, c.target as doc, max(c.signal_time) as boost\n",
    "    from signals c left join signals q on c.query_id = q.query_id\n",
    "    where c.type = 'click' AND q.type = 'query'\n",
    "    group by unique_user, query, doc\n",
    "  ) as x\n",
    "  group by query, doc\n",
    "  order by boost desc\n",
    "\"\"\"\n",
    "\n",
    "aggregate_signals(signals_collection, signals_aggregation_collection, anti_spam_aggregation_query)"
   ]
  },
  {
   "cell_type": "code",
   "execution_count": 25,
   "metadata": {},
   "outputs": [
    {
     "name": "stdout",
     "output_type": "stream",
     "text": [
      "Boost Documents: \n",
      "\n",
      "[{'doc': '024543742180', 'boost': 1489}, {'doc': '400032015667', 'boost': 186}, {'doc': '024543742074', 'boost': 127}, {'doc': '024543559856', 'boost': 117}, {'doc': '014633169546', 'boost': 107}, {'doc': '024543742098', 'boost': 81}, {'doc': '024543781875', 'boost': 67}, {'doc': '023272342654', 'boost': 39}, {'doc': '014633169522', 'boost': 32}, {'doc': '024543560067', 'boost': 30}]\n",
      "\n",
      "Boost Query: \n",
      "\"024543742180\"^1489 \"400032015667\"^186 \"024543742074\"^127 \"024543559856\"^117 \"014633169546\"^107 \"024543742098\"^81 \"024543781875\"^67 \"023272342654\"^39 \"014633169522\"^32 \"024543560067\"^30\n",
      "\n",
      "{'query': 'star wars', 'fields': ['upc', 'name', 'manufacturer', 'score'], 'limit': 3, 'params': {'qf': 'name manufacturer longDescription', 'defType': 'edismax', 'indent': 'true', 'sort': 'score desc, upc asc', 'boost': 'sum(1,query({! df=upc v=$signals_boosting}))', 'signals_boosting': '\"024543742180\"^1489 \"400032015667\"^186 \"024543742074\"^127 \"024543559856\"^117 \"014633169546\"^107 \"024543742098\"^81 \"024543781875\"^67 \"023272342654\"^39 \"014633169522\"^32 \"024543560067\"^30'}}\n",
      "[{'upc': '400032015667', 'name': 'Star Wars - The Complete Saga - Blu-ray Disc', 'manufacturer': 'LucasFilm', 'score': 4542.926}, {'upc': '696055169191', 'name': 'Star Wars: Battlefront II - PSP', 'manufacturer': 'LucasArts', 'score': 6.6077175}, {'upc': '23272335397', 'name': 'Star Wars Battlefront: Elite Squadron - PSP', 'manufacturer': 'LucasArts', 'score': 6.327446}]\n"
     ]
    },
    {
     "data": {
      "text/html": [
       "<div id=\"demo\">\n",
       "        <input style=\"width:50%\" readonly type=\"text\" name=\"q\" value=\"star wars\">\n",
       "        <input readonly type=\"submit\" value=\"Search\">\n",
       "\n",
       "    <div class=\"results\">\n",
       "    \t\n",
       "\n",
       "    </div>\n",
       "</div>\n",
       "    \t<div style=\"position: relative; width: 100%; height:auto; overflow: auto;\">\n",
       "\t    \t<div style=\"position: relative; float:left; width: 120px; margin-top:25px\">\n",
       "\t    \t\t<img style=\"width:100px; height: auto\" src=\"../data/retrotech/images/400032015667.jpg\">\n",
       "\t    \t</div>\n",
       "\t    \t<div style=\"position:relative; float:left; clear:none; width: 80%; height:auto\">\n",
       "\t    \t\t<p><strong>Name:</strong> Star Wars - The Complete Saga - Blu-ray Disc | <strong>Manufacturer:</strong> LucasFilm</p>\n",
       "\t    \t\t<p> \n",
       "\t    \t\t</p>\n",
       "\t    \t</div>\n",
       "    \t</div>\n",
       "    \t\n",
       "\t\t<div style=\"position:relative; clear:both; content: ' '; display: block; height: 1px; margin-top: 10px; margin-bottom:20px\">\n",
       "\t\t\t<hr style=\"color: gray; width: 95%;\" />\n",
       "\t\t</div>\n",
       "\t\t\n",
       "    \t<div style=\"position: relative; width: 100%; height:auto; overflow: auto;\">\n",
       "\t    \t<div style=\"position: relative; float:left; width: 120px; margin-top:25px\">\n",
       "\t    \t\t<img style=\"width:100px; height: auto\" src=\"../data/retrotech/images/696055169191.jpg\">\n",
       "\t    \t</div>\n",
       "\t    \t<div style=\"position:relative; float:left; clear:none; width: 80%; height:auto\">\n",
       "\t    \t\t<p><strong>Name:</strong> Star Wars: Battlefront II - PSP | <strong>Manufacturer:</strong> LucasArts</p>\n",
       "\t    \t\t<p> \n",
       "\t    \t\t</p>\n",
       "\t    \t</div>\n",
       "    \t</div>\n",
       "    \t\n",
       "\t\t<div style=\"position:relative; clear:both; content: ' '; display: block; height: 1px; margin-top: 10px; margin-bottom:20px\">\n",
       "\t\t\t<hr style=\"color: gray; width: 95%;\" />\n",
       "\t\t</div>\n",
       "\t\t\n",
       "    \t<div style=\"position: relative; width: 100%; height:auto; overflow: auto;\">\n",
       "\t    \t<div style=\"position: relative; float:left; width: 120px; margin-top:25px\">\n",
       "\t    \t\t<img style=\"width:100px; height: auto\" src=\"../data/retrotech/images/23272335397.jpg\">\n",
       "\t    \t</div>\n",
       "\t    \t<div style=\"position:relative; float:left; clear:none; width: 80%; height:auto\">\n",
       "\t    \t\t<p><strong>Name:</strong> Star Wars Battlefront: Elite Squadron - PSP | <strong>Manufacturer:</strong> LucasArts</p>\n",
       "\t    \t\t<p> \n",
       "\t    \t\t</p>\n",
       "\t    \t</div>\n",
       "    \t</div>\n",
       "    \t\n",
       "\t\t<div style=\"position:relative; clear:both; content: ' '; display: block; height: 1px; margin-top: 10px; margin-bottom:20px\">\n",
       "\t\t\t<hr style=\"color: gray; width: 95%;\" />\n",
       "\t\t</div>\n",
       "\t\t"
      ],
      "text/plain": [
       "<IPython.core.display.HTML object>"
      ]
     },
     "metadata": {},
     "output_type": "display_data"
    }
   ],
   "source": [
    "query = \"star wars\"\n",
    "collection = \"products\"\n",
    "\n",
    "signals_boosts = get_query_time_boosts(query, \"signals_boosts_anti_spam\")\n",
    "boosted_query = get_main_query(query, signals_boosts)\n",
    "\n",
    "print(boosted_query)\n",
    "\n",
    "search_results = requests.post(solr_url + collection + \"/select\", json=boosted_query).json()[\"response\"][\"docs\"]\n",
    "print(search_results)\n",
    "display(HTML(render_search_results(query, search_results)))"
   ]
  },
  {
   "cell_type": "markdown",
   "metadata": {},
   "source": [
    "## Mixing multiple signal types"
   ]
  },
  {
   "cell_type": "markdown",
   "metadata": {},
   "source": [
    "### Listing 8.6"
   ]
  },
  {
   "cell_type": "code",
   "execution_count": 26,
   "metadata": {},
   "outputs": [
    {
     "name": "stdout",
     "output_type": "stream",
     "text": [
      "Wiping 'signals_boosts_weighted_types' collection\n",
      "[('action', 'CREATE'), ('name', 'signals_boosts_weighted_types'), ('numShards', 1), ('replicationFactor', 1)]\n",
      "Creating signals_boosts_weighted_types' collection\n",
      "Status: Success\n",
      "Aggregating Signals to Create Signals Boosts...\n",
      "Signals Aggregation Completed!\n"
     ]
    }
   ],
   "source": [
    "#One Signal per User - Anti-Spam\n",
    "\n",
    "signals_collection=\"signals\"\n",
    "signals_aggregation_collection=\"signals_boosts_weighted_types\"\n",
    "\n",
    "mixed_signal_types_aggregation = \"\"\"\n",
    "select query, doc, \n",
    "  ( (1 * click_boost) + (10 * add_to_cart_boost) + (25 * purchase_boost) ) as boost\n",
    "from (\n",
    "  select query, doc, \n",
    "    sum(click) as click_boost,\n",
    "    sum(add_to_cart) as add_to_cart_boost,\n",
    "    sum(purchase) as purchase_boost\n",
    "  from (  \n",
    "      select lower(q.target) as query, cap.target as doc, \n",
    "        if(cap.type = 'click', 1, 0) as click, \n",
    "        if(cap.type = 'add-to-cart', 1, 0) as  add_to_cart, \n",
    "        if(cap.type = 'purchase', 1, 0) as purchase\n",
    "      from signals cap left join signals q on cap.query_id = q.query_id\n",
    "      where (cap.type != 'query' AND q.type = 'query')\n",
    "    ) raw_signals\n",
    "  group by query, doc\n",
    ") as per_type_boosts\n",
    "\"\"\"\n",
    "\n",
    "aggregate_signals(signals_collection, signals_aggregation_collection, mixed_signal_types_aggregation)"
   ]
  },
  {
   "cell_type": "markdown",
   "metadata": {},
   "source": [
    "## Time Decay"
   ]
  },
  {
   "cell_type": "markdown",
   "metadata": {},
   "source": [
    "### Listing 8.7"
   ]
  },
  {
   "cell_type": "code",
   "execution_count": 27,
   "metadata": {},
   "outputs": [
    {
     "name": "stdout",
     "output_type": "stream",
     "text": [
      "Wiping 'signals_boosts_time_weighted' collection\n",
      "[('action', 'CREATE'), ('name', 'signals_boosts_time_weighted'), ('numShards', 1), ('replicationFactor', 1)]\n",
      "Creating signals_boosts_time_weighted' collection\n",
      "Status: Success\n",
      "Aggregating Signals to Create Signals Boosts...\n",
      "Signals Aggregation Completed!\n"
     ]
    }
   ],
   "source": [
    "signals_collection=\"signals\"\n",
    "signals_boosting_collection=\"signals_boosts_time_weighted\"\n",
    "\n",
    "half_life_days = \"30\"\n",
    "target_date = \"2020-06-01 00:00:00.0000\" #date of latest signal in our dataset. In live system use now().\n",
    "signal_weight = \"1\" #can make this a function to differentiate weights for different signal types\n",
    "\n",
    "time_decay_aggregation = \"\"\"\n",
    "select query, doc, sum(time_weighted_boost) as boost from (\n",
    "    select user, query, doc, \"\"\" + signal_weight + \"\"\" * pow(0.5, (datediff('\"\"\" + target_date + \"', signal_time) / \" + half_life_days + \"\"\")) as time_weighted_boost from (\n",
    "        select c.user as user, lower(q.target) as query, c.target as doc, max(c.signal_time) as signal_time\n",
    "        from signals c left join signals q on c.query_id = q.query_id\n",
    "        where c.type = 'click' AND q.type = 'query' AND c.signal_time <= '\"\"\" + target_date + \"\"\"'\n",
    "        group by c.user, q.target, c.target\n",
    "    ) as raw_signals \n",
    ") as time_weighted_signals\n",
    "group by query, doc\n",
    "order by boost desc\n",
    "\"\"\"\n",
    "\n",
    "aggregate_signals(signals_collection, signals_boosting_collection, time_decay_aggregation)\n",
    "\n",
    "## Mixing multiple signal types"
   ]
  },
  {
   "cell_type": "code",
   "execution_count": 28,
   "metadata": {
    "scrolled": true
   },
   "outputs": [
    {
     "name": "stdout",
     "output_type": "stream",
     "text": [
      "Boost Documents: \n",
      "\n",
      "[{'doc': '024543742180', 'boost': 50.27564958868423}, {'doc': '023272342654', 'boost': 14.386081175228192}, {'doc': '024543742074', 'boost': 10.978708113139781}, {'doc': '883929154012', 'boost': 10.221966258320872}, {'doc': '023272342630', 'boost': 8.08610476717647}, {'doc': '886973561621', 'boost': 7.1966545244222555}, {'doc': '024543742098', 'boost': 6.411867877358414}, {'doc': '030206742121', 'boost': 6.0339109822265105}, {'doc': '014633169546', 'boost': 5.732256133253928}, {'doc': '708431390614', 'boost': 5.200090923395828}]\n",
      "\n",
      "Boost Query: \n",
      "\"024543742180\"^50.27564958868423 \"023272342654\"^14.386081175228192 \"024543742074\"^10.978708113139781 \"883929154012\"^10.221966258320872 \"023272342630\"^8.08610476717647 \"886973561621\"^7.1966545244222555 \"024543742098\"^6.411867877358414 \"030206742121\"^6.0339109822265105 \"014633169546\"^5.732256133253928 \"708431390614\"^5.200090923395828\n",
      "\n",
      "{'query': 'star wars', 'fields': ['upc', 'name', 'manufacturer', 'score'], 'limit': 3, 'params': {'qf': 'name manufacturer longDescription', 'defType': 'edismax', 'indent': 'true', 'sort': 'score desc, upc asc', 'boost': 'sum(1,query({! df=upc v=$signals_boosting}))', 'signals_boosting': '\"024543742180\"^50.27564958868423 \"023272342654\"^14.386081175228192 \"024543742074\"^10.978708113139781 \"883929154012\"^10.221966258320872 \"023272342630\"^8.08610476717647 \"886973561621\"^7.1966545244222555 \"024543742098\"^6.411867877358414 \"030206742121\"^6.0339109822265105 \"014633169546\"^5.732256133253928 \"708431390614\"^5.200090923395828'}}\n",
      "[{'upc': '883929154012', 'name': 'Star Wars: The Clone Wars - The Complete Season Three [4 Discs] - DVD', 'manufacturer': 'LucasFilm', 'score': 261.71793}, {'upc': '886973561621', 'name': 'Star Wars: The Clone War - Original Soundtrack - CD', 'manufacturer': 'Sony Classics', 'score': 180.74533}, {'upc': '708431390614', 'name': 'LeapFrog - Leapster Explorer Learning Game: Star Wars The Clone Wars', 'manufacturer': 'LeapFrog', 'score': 146.42447}]\n"
     ]
    },
    {
     "data": {
      "text/html": [
       "<div id=\"demo\">\n",
       "        <input style=\"width:50%\" readonly type=\"text\" name=\"q\" value=\"star wars\">\n",
       "        <input readonly type=\"submit\" value=\"Search\">\n",
       "\n",
       "    <div class=\"results\">\n",
       "    \t\n",
       "\n",
       "    </div>\n",
       "</div>\n",
       "    \t<div style=\"position: relative; width: 100%; height:auto; overflow: auto;\">\n",
       "\t    \t<div style=\"position: relative; float:left; width: 120px; margin-top:25px\">\n",
       "\t    \t\t<img style=\"width:100px; height: auto\" src=\"../data/retrotech/images/883929154012.jpg\">\n",
       "\t    \t</div>\n",
       "\t    \t<div style=\"position:relative; float:left; clear:none; width: 80%; height:auto\">\n",
       "\t    \t\t<p><strong>Name:</strong> Star Wars: The Clone Wars - The Complete Season Three [4 Discs] - DVD | <strong>Manufacturer:</strong> LucasFilm</p>\n",
       "\t    \t\t<p> \n",
       "\t    \t\t</p>\n",
       "\t    \t</div>\n",
       "    \t</div>\n",
       "    \t\n",
       "\t\t<div style=\"position:relative; clear:both; content: ' '; display: block; height: 1px; margin-top: 10px; margin-bottom:20px\">\n",
       "\t\t\t<hr style=\"color: gray; width: 95%;\" />\n",
       "\t\t</div>\n",
       "\t\t\n",
       "    \t<div style=\"position: relative; width: 100%; height:auto; overflow: auto;\">\n",
       "\t    \t<div style=\"position: relative; float:left; width: 120px; margin-top:25px\">\n",
       "\t    \t\t<img style=\"width:100px; height: auto\" src=\"../data/retrotech/images/886973561621.jpg\">\n",
       "\t    \t</div>\n",
       "\t    \t<div style=\"position:relative; float:left; clear:none; width: 80%; height:auto\">\n",
       "\t    \t\t<p><strong>Name:</strong> Star Wars: The Clone War - Original Soundtrack - CD | <strong>Manufacturer:</strong> Sony Classics</p>\n",
       "\t    \t\t<p> \n",
       "\t    \t\t</p>\n",
       "\t    \t</div>\n",
       "    \t</div>\n",
       "    \t\n",
       "\t\t<div style=\"position:relative; clear:both; content: ' '; display: block; height: 1px; margin-top: 10px; margin-bottom:20px\">\n",
       "\t\t\t<hr style=\"color: gray; width: 95%;\" />\n",
       "\t\t</div>\n",
       "\t\t\n",
       "    \t<div style=\"position: relative; width: 100%; height:auto; overflow: auto;\">\n",
       "\t    \t<div style=\"position: relative; float:left; width: 120px; margin-top:25px\">\n",
       "\t    \t\t<img style=\"width:100px; height: auto\" src=\"../data/retrotech/images/708431390614.jpg\">\n",
       "\t    \t</div>\n",
       "\t    \t<div style=\"position:relative; float:left; clear:none; width: 80%; height:auto\">\n",
       "\t    \t\t<p><strong>Name:</strong> LeapFrog - Leapster Explorer Learning Game: Star Wars The Clone Wars | <strong>Manufacturer:</strong> LeapFrog</p>\n",
       "\t    \t\t<p> \n",
       "\t    \t\t</p>\n",
       "\t    \t</div>\n",
       "    \t</div>\n",
       "    \t\n",
       "\t\t<div style=\"position:relative; clear:both; content: ' '; display: block; height: 1px; margin-top: 10px; margin-bottom:20px\">\n",
       "\t\t\t<hr style=\"color: gray; width: 95%;\" />\n",
       "\t\t</div>\n",
       "\t\t"
      ],
      "text/plain": [
       "<IPython.core.display.HTML object>"
      ]
     },
     "metadata": {},
     "output_type": "display_data"
    }
   ],
   "source": [
    "query = \"star wars\"\n",
    "collection = \"products\"\n",
    "\n",
    "signals_boosts = get_query_time_boosts(query, \"signals_boosts_time_weighted\")\n",
    "boosted_query = get_main_query(query, signals_boosts)\n",
    "\n",
    "print(boosted_query)\n",
    "\n",
    "search_results = requests.post(solr_url + collection + \"/select\", json=boosted_query).json()[\"response\"][\"docs\"]\n",
    "print(search_results)\n",
    "display(HTML(render_search_results(query, search_results)))"
   ]
  },
  {
   "cell_type": "markdown",
   "metadata": {},
   "source": [
    "## Index-time Signals Boosting"
   ]
  },
  {
   "cell_type": "code",
   "execution_count": 29,
   "metadata": {},
   "outputs": [
    {
     "name": "stdout",
     "output_type": "stream",
     "text": [
      "Wiping 'products_with_signals_boosts' collection\n",
      "[('action', 'CREATE'), ('name', 'products_with_signals_boosts'), ('numShards', 1), ('replicationFactor', 1)]\n",
      "Creating products_with_signals_boosts' collection\n",
      "Status: Success\n",
      "Adding 'upc' field to collection\n",
      "Status: Success\n",
      "Adding 'name' field to collection\n",
      "Status: Success\n",
      "Adding 'longDescription' field to collection\n",
      "Status: Success\n",
      "Adding 'manufacturer' field to collection\n",
      "Status: Success\n",
      "Adding 'boosts' field type to collection\n",
      "Status: Success\n",
      "Adding 'signals_boosts' field to collection\n",
      "Status: Success\n",
      "Loading Products with Signals Boosts...\n",
      "Products Schema: \n",
      "root\n",
      " |-- upc: long (nullable = true)\n",
      " |-- name: string (nullable = true)\n",
      " |-- manufacturer: string (nullable = true)\n",
      " |-- shortDescription: string (nullable = true)\n",
      " |-- longDescription: string (nullable = true)\n",
      "\n",
      "Status: Success\n"
     ]
    }
   ],
   "source": [
    "#Create collection with index-time signals boosts field\n",
    "products_collection=\"products_with_signals_boosts\"\n",
    "create_collection(products_collection)\n",
    "\n",
    "#Modify Schema to make some fields explicitly searchable by keyword\n",
    "upsert_text_field(products_collection, \"upc\")\n",
    "upsert_text_field(products_collection, \"name\")\n",
    "upsert_text_field(products_collection, \"longDescription\")\n",
    "upsert_text_field(products_collection, \"manufacturer\")\n",
    "\n",
    "#add signals boosting field\n",
    "signals_boosts_field = \"signals_boosts\"\n",
    "upsert_boosts_field(products_collection, signals_boosts_field)\n",
    "\n",
    "#Load products\n",
    "print(\"Loading Products with Signals Boosts...\")\n",
    "csvFile = \"../data/retrotech/products.csv\"\n",
    "csvDF = spark.read.format(\"com.databricks.spark.csv\").option(\"header\", \"true\").option(\"inferSchema\", \"true\").load(csvFile)\n",
    "\n",
    "product_update_opts={\"zkhost\": \"aips-zk\", \"collection\": products_collection, \"gen_uniq_key\": \"true\", \"commit_within\": \"5000\"}\n",
    "csvDF.write.format(\"solr\").options(**product_update_opts).mode(\"overwrite\").save()\n",
    "print(\"Products Schema: \")\n",
    "csvDF.printSchema()\n",
    "print(\"Status: Success\")"
   ]
  },
  {
   "cell_type": "markdown",
   "metadata": {},
   "source": [
    "### Listing 8.8"
   ]
  },
  {
   "cell_type": "code",
   "execution_count": 225,
   "metadata": {},
   "outputs": [
    {
     "name": "stdout",
     "output_type": "stream",
     "text": [
      "Completed!\n"
     ]
    }
   ],
   "source": [
    "#load the aggregates signals from one of our previous signals aggregations\n",
    "signals_boosts_collection=\"normalized_signals_boosts\"\n",
    "signals_boosts_opts={\"zkhost\": \"aips-zk\", \"collection\": signals_boosts_collection}\n",
    "df = spark.read.format(\"solr\").options(**signals_boosts_opts).load()\n",
    "df.registerTempTable(signals_boosts_collection)\n",
    "\n",
    "#register the product table so we can load from it and save back to it with boosts added\n",
    "products_collection=\"products_with_signals_boosts\" #delete this line later\n",
    "products_read_boosts_opts={\"zkhost\": \"aips-zk\", \"collection\": products_collection}\n",
    "df = spark.read.format(\"solr\").options(**products_read_boosts_opts).load()\n",
    "df.registerTempTable(products_collection)\n",
    "\n",
    "#insert all keywords with signals boosts for this document into a new \"signals_boosts\" field\n",
    "boosts_query = \"\"\"\n",
    "SELECT p.*, b.signals_boosts from (\n",
    "  SELECT doc, concat_ws(',',collect_list(concat(query, '|', boost))) as signals_boosts FROM \"\"\" + signals_boosts_collection + \"\"\" GROUP BY doc\n",
    ") b inner join \"\"\" + products_collection + \"\"\" p on p.upc = b.doc\n",
    "\"\"\"\n",
    "\n",
    "#save the products back to the products collection, with the updated signals boosts added\n",
    "products_write_boosts_opts={\"zkhost\": \"aips-zk\", \"collection\": products_collection, \"gen_uniq_key\": \"true\", \"commit_within\": \"5000\"}\n",
    "spark.sql(boosts_query).write.format(\"solr\").options(**products_write_boosts_opts).mode(\"overwrite\").save()\n",
    "print(\"Completed!\")"
   ]
  },
  {
   "cell_type": "markdown",
   "metadata": {},
   "source": [
    "## Index-time Signals Boosting Query"
   ]
  },
  {
   "cell_type": "markdown",
   "metadata": {},
   "source": [
    "### Listing 8.9"
   ]
  },
  {
   "cell_type": "code",
   "execution_count": 5,
   "metadata": {},
   "outputs": [
    {
     "name": "stdout",
     "output_type": "stream",
     "text": [
      "Main Query:\n",
      "{'query': 'ipad', 'fields': ['upc', 'name', 'manufacturer', 'score'], 'limit': 3, 'params': {'qf': 'name manufacturer longDescription', 'defType': 'edismax', 'indent': 'true', 'sort': 'score desc, upc asc', 'boost': 'payload(signals_boosts, \"ipad\", 1, first)'}}\n",
      "\n",
      "Search Results (Basic Signals Boosting): \n",
      "[{'manufacturer': 'Apple&#xAE;', 'name': 'Apple&#xAE; - iPad&#xAE; 2 with Wi-Fi - 16GB - Black', 'upc': '885909457588', 'score': 6851.6655}, {'manufacturer': 'Apple&#xAE;', 'name': 'Apple&#xAE; - iPad&#xAE; 2 with Wi-Fi - 32GB - Black', 'upc': '885909457595', 'score': 1503.683}, {'manufacturer': 'Apple&#xAE;', 'name': 'Apple&#xAE; - iPad&#xAE; 2 with Wi-Fi - 16GB - White', 'upc': '885909471812', 'score': 1480.3701}]\n"
     ]
    },
    {
     "data": {
      "text/html": [
       "<div id=\"demo\">\n",
       "        <input style=\"width:50%\" readonly type=\"text\" name=\"q\" value=\"ipad\">\n",
       "        <input readonly type=\"submit\" value=\"Search\">\n",
       "\n",
       "    <div class=\"results\">\n",
       "    \t\n",
       "\n",
       "    </div>\n",
       "</div>\n",
       "    \t<div style=\"position: relative; width: 100%; height:auto; overflow: auto;\">\n",
       "\t    \t<div style=\"position: relative; float:left; width: 120px; margin-top:25px\">\n",
       "\t    \t\t<img style=\"width:100px; height: auto\" src=\"../data/retrotech/images/885909457588.jpg\">\n",
       "\t    \t</div>\n",
       "\t    \t<div style=\"position:relative; float:left; clear:none; width: 80%; height:auto\">\n",
       "\t    \t\t<p><strong>Name:</strong> Apple&#xAE; - iPad&#xAE; 2 with Wi-Fi - 16GB - Black | <strong>Manufacturer:</strong> Apple&#xAE;</p>\n",
       "\t    \t\t<p> \n",
       "\t    \t\t</p>\n",
       "\t    \t</div>\n",
       "    \t</div>\n",
       "    \t\n",
       "\t\t<div style=\"position:relative; clear:both; content: ' '; display: block; height: 1px; margin-top: 10px; margin-bottom:20px\">\n",
       "\t\t\t<hr style=\"color: gray; width: 95%;\" />\n",
       "\t\t</div>\n",
       "\t\t\n",
       "    \t<div style=\"position: relative; width: 100%; height:auto; overflow: auto;\">\n",
       "\t    \t<div style=\"position: relative; float:left; width: 120px; margin-top:25px\">\n",
       "\t    \t\t<img style=\"width:100px; height: auto\" src=\"../data/retrotech/images/885909457595.jpg\">\n",
       "\t    \t</div>\n",
       "\t    \t<div style=\"position:relative; float:left; clear:none; width: 80%; height:auto\">\n",
       "\t    \t\t<p><strong>Name:</strong> Apple&#xAE; - iPad&#xAE; 2 with Wi-Fi - 32GB - Black | <strong>Manufacturer:</strong> Apple&#xAE;</p>\n",
       "\t    \t\t<p> \n",
       "\t    \t\t</p>\n",
       "\t    \t</div>\n",
       "    \t</div>\n",
       "    \t\n",
       "\t\t<div style=\"position:relative; clear:both; content: ' '; display: block; height: 1px; margin-top: 10px; margin-bottom:20px\">\n",
       "\t\t\t<hr style=\"color: gray; width: 95%;\" />\n",
       "\t\t</div>\n",
       "\t\t\n",
       "    \t<div style=\"position: relative; width: 100%; height:auto; overflow: auto;\">\n",
       "\t    \t<div style=\"position: relative; float:left; width: 120px; margin-top:25px\">\n",
       "\t    \t\t<img style=\"width:100px; height: auto\" src=\"../data/retrotech/images/885909471812.jpg\">\n",
       "\t    \t</div>\n",
       "\t    \t<div style=\"position:relative; float:left; clear:none; width: 80%; height:auto\">\n",
       "\t    \t\t<p><strong>Name:</strong> Apple&#xAE; - iPad&#xAE; 2 with Wi-Fi - 16GB - White | <strong>Manufacturer:</strong> Apple&#xAE;</p>\n",
       "\t    \t\t<p> \n",
       "\t    \t\t</p>\n",
       "\t    \t</div>\n",
       "    \t</div>\n",
       "    \t\n",
       "\t\t<div style=\"position:relative; clear:both; content: ' '; display: block; height: 1px; margin-top: 10px; margin-bottom:20px\">\n",
       "\t\t\t<hr style=\"color: gray; width: 95%;\" />\n",
       "\t\t</div>\n",
       "\t\t"
      ],
      "text/plain": [
       "<IPython.core.display.HTML object>"
      ]
     },
     "metadata": {},
     "output_type": "display_data"
    }
   ],
   "source": [
    "query = \"ipad\"\n",
    "\n",
    "def get_query(query, signals_boosts_field):    \n",
    "    request = {\n",
    "        \"query\": query,\n",
    "        \"fields\": [\"upc\", \"name\", \"manufacturer\", \"score\"],\n",
    "        \"limit\": 3,\n",
    "        \"params\": {\n",
    "          \"qf\": \"name manufacturer longDescription\",\n",
    "          \"defType\": \"edismax\",\n",
    "          \"indent\": \"true\",\n",
    "          \"sort\": \"score desc, upc asc\",\n",
    "          \"qf\": \"name manufacturer longDescription\",\n",
    "          \"boost\": \"payload(\" + signals_boosts_field + \", \\\"\" + query + \"\\\", 1, first)\"\n",
    "        }\n",
    "    }\n",
    "    \n",
    "    return request\n",
    "\n",
    "collection = \"products_with_signals_boosts\"\n",
    "boosted_query = get_query(query, signals_boosts_field)\n",
    "print(\"Main Query:\")\n",
    "print(boosted_query)\n",
    "\n",
    "search_results = requests.post(solr_url + collection + \"/select\", json=boosted_query).json()[\"response\"][\"docs\"]\n",
    "print(\"\\nSearch Results (Basic Signals Boosting): \")\n",
    "print(search_results)\n",
    "display(HTML(render_search_results(query, search_results)))"
   ]
  },
  {
   "cell_type": "code",
   "execution_count": 10,
   "metadata": {},
   "outputs": [
    {
     "name": "stdout",
     "output_type": "stream",
     "text": [
      "Adding 'tf_boosts' field type to collection\n",
      "Adding 'tf_boosts' field to collection\n",
      "Status: Success\n"
     ]
    }
   ],
   "source": [
    "def upsert_tf_boosts_field(collection_name, field_name, field_type_name=\"tf_boosts\"):\n",
    "    \n",
    "    #clear out old field to ensure this function is idempotent\n",
    "    delete_field = {\"delete-field\":{ \"name\":field_name }}\n",
    "    response = requests.post(solr_url + collection_name + \"/schema\", json=delete_field).json()\n",
    "\n",
    "    upsert_tf_boosts_field_type(collection_name, field_type_name);\n",
    "    \n",
    "    print(\"Adding '\" + field_name + \"' field to collection\")\n",
    "    add_field = {\"add-field\":{ \"name\":field_name, \"type\":\"boosts\", \"stored\":\"true\", \"indexed\":\"true\", \"multiValued\":\"true\" }}\n",
    "    response = requests.post(solr_url + collection_name + \"/schema\", json=add_field).json()\n",
    "    print_status(response)\n",
    "    \n",
    "upsert_tf_boosts_field(\"products_with_signals_boosts\", \"tf_boosts\")"
   ]
  },
  {
   "cell_type": "code",
   "execution_count": 9,
   "metadata": {},
   "outputs": [],
   "source": [
    "def upsert_tf_boosts_field_type(collection_name, field_type_name):\n",
    "    delete_field_type = {\"delete-field-type\":{ \"name\":field_type_name }}\n",
    "    response = requests.post(solr_url + collection_name + \"/schema\", json=delete_field_type).json()\n",
    "\n",
    "    print(\"Adding '\" + field_type_name + \"' field type to collection\")\n",
    "    add_field_type = { \n",
    "        \"add-field-type\" : {\n",
    "            \"name\": field_type_name,\n",
    "            \"class\":\"solr.TextField\",\n",
    "            \"positionIncrementGap\":\"100\",\n",
    "            \"analyzer\" : {\n",
    "                \"tokenizer\": {\n",
    "                    \"class\":\"solr.PatternTokenizerFactory\",\n",
    "                    \"pattern\": \",\" },\n",
    "                 \"filters\":[\n",
    "                    { \"class\":\"solr.LowerCaseFilterFactory\" },\n",
    "                    { \"class\":\"solr.DelimitedTermFrequencyFilterFactory\", \"delimiter\": \"|\", \"encoder\": \"float\" }]}}}\n",
    "    "
   ]
  },
  {
   "cell_type": "code",
   "execution_count": 24,
   "metadata": {},
   "outputs": [
    {
     "name": "stdout",
     "output_type": "stream",
     "text": [
      "Adding 'boosts' field type to collection\n",
      "Status: Success\n",
      "Adding 'signals_boosts' field to collection\n",
      "Status: Success\n"
     ]
    }
   ],
   "source": [
    "upsert_boosts_field(\"\")"
   ]
  },
  {
   "cell_type": "code",
   "execution_count": 17,
   "metadata": {},
   "outputs": [
    {
     "name": "stdout",
     "output_type": "stream",
     "text": [
      "Wiping 'products_with_signals_boosts_test' collection\n",
      "[('action', 'CREATE'), ('name', 'products_with_signals_boosts_test'), ('numShards', 1), ('replicationFactor', 1)]\n",
      "Creating products_with_signals_boosts_test' collection\n",
      "Status: Success\n",
      "Signals Aggregation Completed!\n"
     ]
    }
   ],
   "source": [
    "#signals_boosts_collection=\"signals_boosts\"\n",
    "products_collection=\"products\"\n",
    "create_collection(products_collection)\n",
    "\n",
    "products_opts={\"zkhost\": \"aips-zk\", \"collection\": products_collection}\n",
    "df = spark.read.format(\"solr\").options(**products_opts).load()\n",
    "df.registerTempTable(products_collection)\n",
    "df.registerTempTable(\"products\")\n",
    "\n",
    "signals_collection=\"signals\"\n",
    "signals_opts={\"zkhost\": \"aips-zk\", \"collection\": signals_collection}\n",
    "df = spark.read.format(\"solr\").options(**signals_opts).load()\n",
    "df.registerTempTable(\"signals\")\n",
    "\n",
    "products_query = \"select p.*, s. from products\"\n",
    "\n",
    "signals_boosting_opts={\"zkhost\": \"aips-zk\", \"collection\": products_with_boosts_collection, \"gen_uniq_key\": \"true\", \"commit_within\": \"5000\"}\n",
    "spark.sql(products_query).write.format(\"solr\").options(**signals_boosting_opts).mode(\"overwrite\").save()\n",
    "print(\"Signals Aggregation Completed!\")"
   ]
  }
 ],
 "metadata": {
  "kernelspec": {
   "display_name": "Python 3",
   "language": "python",
   "name": "python3"
  },
  "language_info": {
   "codemirror_mode": {
    "name": "ipython",
    "version": 3
   },
   "file_extension": ".py",
   "mimetype": "text/x-python",
   "name": "python",
   "nbconvert_exporter": "python",
   "pygments_lexer": "ipython3",
   "version": "3.7.6"
  }
 },
 "nbformat": 4,
 "nbformat_minor": 2
}
