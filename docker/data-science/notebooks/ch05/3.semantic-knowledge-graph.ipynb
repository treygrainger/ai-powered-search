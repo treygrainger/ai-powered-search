{
 "cells": [
  {
   "cell_type": "markdown",
   "metadata": {},
   "source": [
    "# Working with Semantic Knowledge Graphs"
   ]
  },
  {
   "cell_type": "code",
   "execution_count": 1,
   "metadata": {},
   "outputs": [],
   "source": [
    "import sys\n",
    "sys.path.append('..')\n",
    "from aips import *\n",
    "import os\n",
    "import json\n",
    "import collections\n",
    "from IPython.display import display,HTML\n",
    "from pyspark.sql import SparkSession\n",
    "spark = SparkSession.builder.appName(\"AIPS\").getOrCreate()\n",
    "engine = get_engine()"
   ]
  },
  {
   "cell_type": "markdown",
   "metadata": {},
   "source": [
    "## Listing 5.4"
   ]
  },
  {
   "cell_type": "code",
   "execution_count": 2,
   "metadata": {},
   "outputs": [],
   "source": [
    "# %load -s skg_request solr\n",
    "def skg_request(query):\n",
    "    return {\n",
    "        \"query\": query,\n",
    "        \"params\": {\n",
    "            \"qf\": \"title body\",\n",
    "            \"fore\": \"{!type=$defType qf=$qf v=$q}\",\n",
    "            \"back\": \"*:*\",\n",
    "            \"defType\": \"edismax\",\n",
    "            \"rows\": 0,\n",
    "            \"echoParams\": \"none\",\n",
    "            \"omitHeader\": \"true\"\n",
    "        },\n",
    "        \"facet\": {\n",
    "            \"body\": {\n",
    "                \"type\": \"terms\",\n",
    "                \"field\": \"body\",\n",
    "                \"sort\": { \"relatedness\": \"desc\"},\n",
    "                \"mincount\": 2,\n",
    "                \"limit\": 8,\n",
    "                \"facet\": {\n",
    "                    \"relatedness\": {\n",
    "                        \"type\": \"func\",\n",
    "                        \"func\": \"relatedness($fore,$back)\"\n",
    "                        #\"min_popularity\": 0.0005\n",
    "                    }\n",
    "                }  \n",
    "            }\n",
    "        }\n",
    "    }"
   ]
  },
  {
   "cell_type": "code",
   "execution_count": 3,
   "metadata": {},
   "outputs": [
    {
     "name": "stdout",
     "output_type": "stream",
     "text": [
      "advil  0.70986\n",
      "motrin  0.59897\n",
      "aleve  0.4662\n",
      "ibuprofen  0.38264\n",
      "alleve  0.36649\n",
      "tylenol  0.33048\n",
      "naproxen  0.31226\n",
      "acetaminophen  0.17706\n"
     ]
    }
   ],
   "source": [
    "health_collection = engine.get_collection(\"health\")\n",
    "query = \"advil\"\n",
    "request = skg_request(query)\n",
    "response = health_collection.search(request)\n",
    "for bucket in response[\"facets\"][\"body\"][\"buckets\"]:\n",
    "    print(f'{bucket[\"val\"]}  {bucket[\"relatedness\"][\"relatedness\"]}')"
   ]
  },
  {
   "cell_type": "markdown",
   "metadata": {},
   "source": [
    "## Listing 5.5"
   ]
  },
  {
   "cell_type": "code",
   "execution_count": 14,
   "metadata": {},
   "outputs": [
    {
     "name": "stdout",
     "output_type": "stream",
     "text": [
      "vibranium  0.94218\n",
      "wakandan  0.81909\n",
      "adamantium  0.80659\n",
      "wakanda  0.79051\n",
      "alloy  0.7564\n",
      "maclain  0.75539\n",
      "klaw  0.75136\n",
      "america's  0.73911\n"
     ]
    }
   ],
   "source": [
    "stackexchange_collection = engine.get_collection(\"stackexchange\")\n",
    "query = \"vibranium\"\n",
    "request = skg_request(query)\n",
    "response = stackexchange_collection.search(request)\n",
    "for bucket in response[\"facets\"][\"body\"][\"buckets\"]:\n",
    "    print(f'{bucket[\"val\"]}  {bucket[\"relatedness\"][\"relatedness\"]}')"
   ]
  },
  {
   "cell_type": "markdown",
   "metadata": {},
   "source": [
    "## Listing 5.6"
   ]
  },
  {
   "cell_type": "markdown",
   "metadata": {},
   "source": [
    "## Query Augmentation"
   ]
  },
  {
   "cell_type": "code",
   "execution_count": 15,
   "metadata": {},
   "outputs": [
    {
     "name": "stdout",
     "output_type": "stream",
     "text": [
      "Expanded Query:\n",
      "vibranium^5 vibranium^0.94218 wakandan^0.81909 adamantium^0.80659 wakanda^0.79051 alloy^0.7564 maclain^0.75539 klaw^0.75136 america's^0.73911 \n"
     ]
    }
   ],
   "source": [
    "expansion = \"\"\n",
    "for bucket in response[\"facets\"][\"body\"][\"buckets\"]:\n",
    "    term = bucket[\"val\"]\n",
    "    boost = bucket[\"relatedness\"][\"relatedness\"]\n",
    "    expansion += f\"{term}^{boost} \"\n",
    "    \n",
    "expanded_query = f\"{query}^5 \" + expansion\n",
    "print(f\"Expanded Query:\\n{expanded_query}\")"
   ]
  },
  {
   "cell_type": "markdown",
   "metadata": {},
   "source": [
    "## Listing 5.7"
   ]
  },
  {
   "cell_type": "code",
   "execution_count": 6,
   "metadata": {},
   "outputs": [
    {
     "name": "stdout",
     "output_type": "stream",
     "text": [
      "Simple Query Expansion:\n",
      "q={!edismax qf=\"title body\" mm=\"0%\"}vibranium vibranium^0.94218 wakandan^0.81909 adamantium^0.80659 wakanda^0.79051 alloy^0.7564 maclain^0.75539 klaw^0.75136 america's^0.73911 \n",
      "\n",
      "Increased Precision, Reduced Recall Query:\n",
      "q={!edismax qf=\"title body\" mm=\"30%\"}vibranium vibranium^0.94218 wakandan^0.81909 adamantium^0.80659 wakanda^0.79051 alloy^0.7564 maclain^0.75539 klaw^0.75136 america's^0.73911 \n",
      "\n",
      "Increased Precision, No Reduction in Recall:\n",
      "q={!edismax qf=\"title body\" mm=\"2\"}vibranium AND vibranium^0.94218 wakandan^0.81909 adamantium^0.80659 wakanda^0.79051 alloy^0.7564 maclain^0.75539 klaw^0.75136 america's^0.73911 \n",
      "\n",
      "Slightly Increased Recall Query:\n",
      "q={!edismax qf=\"title body\" mm=\"2\"}vibranium vibranium^0.94218 wakandan^0.81909 adamantium^0.80659 wakanda^0.79051 alloy^0.7564 maclain^0.75539 klaw^0.75136 america's^0.73911 \n",
      "\n",
      "Same Results, Better Conceptual Ranking:\n",
      "q={!edismax qf=\"title body\" mm=\"2\"}vibranium &boost=query($expanded_query)&expanded_query=vibranium^0.94218 wakandan^0.81909 adamantium^0.80659 wakanda^0.79051 alloy^0.7564 maclain^0.75539 klaw^0.75136 america's^0.73911 \n"
     ]
    }
   ],
   "source": [
    "def q(mm): return 'q={!edismax qf=\"title body\" mm=\\\"'+ mm + '\\\"}'\n",
    "\n",
    "simple_expansion = f'{q(\"0%\")}{query} {expansion}'\n",
    "increase_conceptual_precision = f'{q(\"30%\")}{query} {expansion}'\n",
    "increase_precision_reduce_recall = f'{q(\"2\")}{query} AND {expansion}'\n",
    "slightly_increased_recall = f'{q(\"2\")}{query} {expansion}'\n",
    "same_results_better_ranking = f'{q(\"2\")}{query} &boost=query($expanded_query)&expanded_query={expansion}'\n",
    "\n",
    "print(f\"Simple Query Expansion:\\n{simple_expansion}\")\n",
    "print(\"\\nIncreased Precision, Reduced Recall Query:\")\n",
    "print(increase_conceptual_precision)\n",
    "print(\"\\nIncreased Precision, No Reduction in Recall:\")\n",
    "print(increase_precision_reduce_recall)\n",
    "print(\"\\nSlightly Increased Recall Query:\")\n",
    "print(slightly_increased_recall)\n",
    "print(\"\\nSame Results, Better Conceptual Ranking:\")\n",
    "print(same_results_better_ranking)\n",
    "\n",
    "#TODO, actually run the search"
   ]
  },
  {
   "cell_type": "markdown",
   "metadata": {},
   "source": [
    "## Content-based Recommendations"
   ]
  },
  {
   "cell_type": "markdown",
   "metadata": {},
   "source": [
    "## Listing 5.8"
   ]
  },
  {
   "cell_type": "code",
   "execution_count": 7,
   "metadata": {},
   "outputs": [
    {
     "name": "stdout",
     "output_type": "stream",
     "text": [
      "{\n",
      "  \"query\": \"star wars\",\n",
      "  \"params\": {\n",
      "    \"qf\": \"body\",\n",
      "    \"fore\": \"{!type=$defType qf=$qf v=$q}\",\n",
      "    \"back\": \"*:*\",\n",
      "    \"relatedness_func\": \"relatedness($fore,$back)\",\n",
      "    \"defType\": \"edismax\",\n",
      "    \"t1\": \"this\",\n",
      "    \"t2\": \"doc\",\n",
      "    \"t3\": \"contains\",\n",
      "    \"t4\": \"the\",\n",
      "    \"t5\": \"words\",\n",
      "    \"t6\": \"luke\",\n",
      "    \"t7\": \"magneto\",\n",
      "    \"t8\": \"cyclops\",\n",
      "    \"t9\": \"darth vader\",\n",
      "    \"t10\": \"princess leia\",\n",
      "    \"t11\": \"wolverine\",\n",
      "    \"t12\": \"apple\",\n",
      "    \"t13\": \"banana\",\n",
      "    \"t14\": \"galaxy\",\n",
      "    \"t15\": \"force\",\n",
      "    \"t16\": \"blaster\",\n",
      "    \"t17\": \"and\",\n",
      "    \"t18\": \"chloe\"\n",
      "  },\n",
      "  \"facet\": {\n",
      "    \"${t1}\": {\n",
      "      \"type\": \"query\",\n",
      "      \"q\": \"{!edismax qf=${qf} v=${t1}}\",\n",
      "      \"facet\": {\n",
      "        \"stats\": \"${relatedness_func}\"\n",
      "      }\n",
      "    },\n",
      "    \"${t2}\": {\n",
      "      \"type\": \"query\",\n",
      "      \"q\": \"{!edismax qf=${qf} v=${t2}}\",\n",
      "      \"facet\": {\n",
      "        \"stats\": \"${relatedness_func}\"\n",
      "      }\n",
      "    },\n",
      "    \"${t3}\": {\n",
      "      \"type\": \"query\",\n",
      "      \"q\": \"{!edismax qf=${qf} v=${t3}}\",\n",
      "      \"facet\": {\n",
      "        \"stats\": \"${relatedness_func}\"\n",
      "      }\n",
      "    },\n",
      "    \"${t4}\": {\n",
      "      \"type\": \"query\",\n",
      "      \"q\": \"{!edismax qf=${qf} v=${t4}}\",\n",
      "      \"facet\": {\n",
      "        \"stats\": \"${relatedness_func}\"\n",
      "      }\n",
      "    },\n",
      "    \"${t5}\": {\n",
      "      \"type\": \"query\",\n",
      "      \"q\": \"{!edismax qf=${qf} v=${t5}}\",\n",
      "      \"facet\": {\n",
      "        \"stats\": \"${relatedness_func}\"\n",
      "      }\n",
      "    },\n",
      "    \"${t6}\": {\n",
      "      \"type\": \"query\",\n",
      "      \"q\": \"{!edismax qf=${qf} v=${t6}}\",\n",
      "      \"facet\": {\n",
      "        \"stats\": \"${relatedness_func}\"\n",
      "      }\n",
      "    },\n",
      "    \"${t7}\": {\n",
      "      \"type\": \"query\",\n",
      "      \"q\": \"{!edismax qf=${qf} v=${t7}}\",\n",
      "      \"facet\": {\n",
      "        \"stats\": \"${relatedness_func}\"\n",
      "      }\n",
      "    },\n",
      "    \"${t8}\": {\n",
      "      \"type\": \"query\",\n",
      "      \"q\": \"{!edismax qf=${qf} v=${t8}}\",\n",
      "      \"facet\": {\n",
      "        \"stats\": \"${relatedness_func}\"\n",
      "      }\n",
      "    },\n",
      "    \"${t9}\": {\n",
      "      \"type\": \"query\",\n",
      "      \"q\": \"{!edismax qf=${qf} v=${t9}}\",\n",
      "      \"facet\": {\n",
      "        \"stats\": \"${relatedness_func}\"\n",
      "      }\n",
      "    },\n",
      "    \"${t10}\": {\n",
      "      \"type\": \"query\",\n",
      "      \"q\": \"{!edismax qf=${qf} v=${t10}}\",\n",
      "      \"facet\": {\n",
      "        \"stats\": \"${relatedness_func}\"\n",
      "      }\n",
      "    },\n",
      "    \"${t11}\": {\n",
      "      \"type\": \"query\",\n",
      "      \"q\": \"{!edismax qf=${qf} v=${t11}}\",\n",
      "      \"facet\": {\n",
      "        \"stats\": \"${relatedness_func}\"\n",
      "      }\n",
      "    },\n",
      "    \"${t12}\": {\n",
      "      \"type\": \"query\",\n",
      "      \"q\": \"{!edismax qf=${qf} v=${t12}}\",\n",
      "      \"facet\": {\n",
      "        \"stats\": \"${relatedness_func}\"\n",
      "      }\n",
      "    },\n",
      "    \"${t13}\": {\n",
      "      \"type\": \"query\",\n",
      "      \"q\": \"{!edismax qf=${qf} v=${t13}}\",\n",
      "      \"facet\": {\n",
      "        \"stats\": \"${relatedness_func}\"\n",
      "      }\n",
      "    },\n",
      "    \"${t14}\": {\n",
      "      \"type\": \"query\",\n",
      "      \"q\": \"{!edismax qf=${qf} v=${t14}}\",\n",
      "      \"facet\": {\n",
      "        \"stats\": \"${relatedness_func}\"\n",
      "      }\n",
      "    },\n",
      "    \"${t15}\": {\n",
      "      \"type\": \"query\",\n",
      "      \"q\": \"{!edismax qf=${qf} v=${t15}}\",\n",
      "      \"facet\": {\n",
      "        \"stats\": \"${relatedness_func}\"\n",
      "      }\n",
      "    },\n",
      "    \"${t16}\": {\n",
      "      \"type\": \"query\",\n",
      "      \"q\": \"{!edismax qf=${qf} v=${t16}}\",\n",
      "      \"facet\": {\n",
      "        \"stats\": \"${relatedness_func}\"\n",
      "      }\n",
      "    },\n",
      "    \"${t17}\": {\n",
      "      \"type\": \"query\",\n",
      "      \"q\": \"{!edismax qf=${qf} v=${t17}}\",\n",
      "      \"facet\": {\n",
      "        \"stats\": \"${relatedness_func}\"\n",
      "      }\n",
      "    },\n",
      "    \"${t18}\": {\n",
      "      \"type\": \"query\",\n",
      "      \"q\": \"{!edismax qf=${qf} v=${t18}}\",\n",
      "      \"facet\": {\n",
      "        \"stats\": \"${relatedness_func}\"\n",
      "      }\n",
      "    }\n",
      "  }\n",
      "}\n",
      "[('force', 0.68132), ('luke', 0.67651), ('galaxy', 0.67116), ('darth vader', 0.66252), ('blaster', 0.37855), ('this', 0.31808), ('princess leia', 0.30062), ('the', 0.29936), ('and', 0.17745), ('words', 0.15886), ('contains', 0.04898), ('chloe', 0.00558), ('doc', 0.0041), ('magneto', -0.00094), ('cyclops', -0.00216), ('wolverine', -0.01232), ('apple', -0.04488), ('banana', -0.04636)]\n"
     ]
    }
   ],
   "source": [
    "def parse_scores(response):\n",
    "    results = collections.OrderedDict()\n",
    "    for key in response[\"facets\"]:\n",
    "        if key and key != \"count\" and \"stats\" in response[\"facets\"][key]:\n",
    "            results[key] = response[\"facets\"][key][\"stats\"][\"relatedness\"]\n",
    "    return list(reversed(sorted(results.items(), key=lambda kv: kv[1])))\n",
    "\n",
    "stackexchange_collection = engine.get_collection(\"stackexchange\")\n",
    "classification = \"star wars\"\n",
    "document = \"\"\"this doc contains the words luke, magneto, cyclops,\n",
    "              darth vader, princess leia, wolverine, apple, banana,\n",
    "              galaxy, force, blaster, and chloe.\"\"\"\n",
    "#run an entity extractor to parse out keywords to score\n",
    "parsed_document = [\"this\", \"doc\", \"contains\", \"the\", \"words\", \"luke\", \\\n",
    "                   \"magneto\", \"cyclops\", \"darth vader\", \"princess leia\", \\\n",
    "                   \"wolverine\", \"apple\", \"banana\", \"galaxy\", \"force\", \\\n",
    "                   \"blaster\", \"and\", \"chloe\"]\n",
    "request = {\"query\": classification,\n",
    "           \"params\": {\n",
    "                \"qf\": \"body\",\n",
    "                \"fore\": \"{!type=$defType qf=$qf v=$q}\",\n",
    "                \"back\": \"*:*\",\n",
    "                \"relatedness_func\": \"relatedness($fore,$back)\",\n",
    "                \"defType\": \"edismax\",\n",
    "            },\n",
    "           \"facet\": {}}\n",
    "\n",
    "for i in range(len(parsed_document)):\n",
    "    key = \"t\" + str(i + 1)\n",
    "    key2 = \"${\" + key + \"}\"\n",
    "    request[\"params\"][key] = parsed_document[i]\n",
    "    request[\"facet\"][key2] = { \n",
    "        \"type\": \"query\", \n",
    "        \"q\": \"{!edismax qf=${qf} v=\" + key2 + \"}\",  \n",
    "        \"facet\": {\"stats\": \"${relatedness_func}\"}\n",
    "    }\n",
    "\n",
    "response = stackexchange_collection.search(request)\n",
    "scored_terms = parse_scores(response)\n",
    "\n",
    "print(json.dumps(request, indent=\"  \"))\n",
    "print(scored_terms)"
   ]
  },
  {
   "cell_type": "markdown",
   "metadata": {},
   "source": [
    "## Listing 5.9"
   ]
  },
  {
   "cell_type": "code",
   "execution_count": 8,
   "metadata": {},
   "outputs": [
    {
     "name": "stdout",
     "output_type": "stream",
     "text": [
      "Expanded Query:\n",
      "\"force\"^0.68132 \"luke\"^0.67651 \"galaxy\"^0.67116 \"darth vader\"^0.66252 \"blaster\"^0.37855\n"
     ]
    }
   ],
   "source": [
    "rec_query = \" \".join(f'\"{t[0]}\"^{t[1]}'\n",
    "                 for t in scored_terms if t[1] > 0.35)\n",
    "print(f\"Expanded Query:\\n{rec_query}\")"
   ]
  },
  {
   "cell_type": "markdown",
   "metadata": {},
   "source": [
    "## Listing 5.10"
   ]
  },
  {
   "cell_type": "code",
   "execution_count": 9,
   "metadata": {},
   "outputs": [
    {
     "name": "stdout",
     "output_type": "stream",
     "text": [
      "{\n",
      "  \"response\": {\n",
      "    \"numFound\": 5010,\n",
      "    \"start\": 0,\n",
      "    \"numFoundExact\": true,\n",
      "    \"docs\": [\n",
      "      {\n",
      "        \"title\": \"Did Luke know the &quot;Chosen One&quot; prophecy?\"\n",
      "      },\n",
      "      {\n",
      "        \"title\": \"Why couldn't Snoke or Kylo Ren trace Luke using the Force?\"\n",
      "      },\n",
      "      {\n",
      "        \"title\": \"Did Darth Vader feel remorse for killing Jedi?\"\n",
      "      },\n",
      "      {\n",
      "        \"title\": \"Was Darth Vader at his strongest during Episode III?\"\n",
      "      },\n",
      "      {\n",
      "        \"title\": \"Does Kylo Ren know that Darth Vader reconciled with Luke?\"\n",
      "      }\n",
      "    ]\n",
      "  }\n",
      "}\n"
     ]
    }
   ],
   "source": [
    "request = {\n",
    "    \"params\": {\n",
    "        \"qf\": \"title body\",\n",
    "        \"defType\": \"edismax\",\n",
    "        \"rows\": 5,\n",
    "        \"echoParams\": \"none\",\n",
    "        \"omitHeader\": \"true\",\n",
    "        \"mm\": \"0\",\n",
    "        \"fl\": \"title\",\n",
    "        \"fq\": \"title:[* TO *]\" #only show docs with titles to make the example readable\n",
    "    },\n",
    "    \"query\": rec_query\n",
    "}\n",
    "\n",
    "response = stackexchange_collection.search(request)\n",
    "print(json.dumps(response, indent=\"  \"))"
   ]
  },
  {
   "cell_type": "markdown",
   "metadata": {},
   "source": [
    "## Exploring Arbitrary Relationships"
   ]
  },
  {
   "cell_type": "markdown",
   "metadata": {},
   "source": [
    "## Listing 5.11"
   ]
  },
  {
   "cell_type": "code",
   "execution_count": 10,
   "metadata": {},
   "outputs": [
    {
     "name": "stdout",
     "output_type": "stream",
     "text": [
      "jean  0.85044\n",
      "grey  0.74816\n",
      "cyclops  0.62027\n",
      "summers  0.6036\n",
      "xavier  0.55494\n",
      "wolverine  0.49161\n",
      "x  0.46662\n",
      "mutant  0.46062\n",
      "magneto  0.43515\n"
     ]
    }
   ],
   "source": [
    "scifi_collection = engine.get_collection(\"scifi\")\n",
    "starting_node = '\"jean grey\"'\n",
    "relationship = \"in love with\"\n",
    "request = skg_request(starting_node)\n",
    "request[\"facet\"] = {\n",
    "    relationship: {\n",
    "        \"type\": \"query\",\n",
    "        \"query\": \"{!edismax qf=body v=$relationship}\",\n",
    "        \"facet\": {\n",
    "            \"terminating_nodes\": {\n",
    "                \"type\": \"terms\",\n",
    "                \"field\": \"body\",\n",
    "                \"mincount\": 25,\n",
    "                \"limit\": 9,\n",
    "                \"sort\": { \"body_relatedness\": \"desc\"},\n",
    "                \"facet\": {\n",
    "                    \"body_relatedness\": {\n",
    "                        \"type\": \"func\",\n",
    "                        \"func\": \"relatedness($fore,$back)\"\n",
    "                    }\n",
    "                }\n",
    "            }\n",
    "        }\n",
    "    }\n",
    "}\n",
    "\n",
    "response = scifi_collection.search(request)\n",
    "for b in response[\"facets\"][relationship][\"terminating_nodes\"][\"buckets\"]:\n",
    "    print(f'{b[\"val\"]}  {b[\"body_relatedness\"][\"relatedness\"]}')"
   ]
  },
  {
   "cell_type": "markdown",
   "metadata": {},
   "source": [
    "## Query Classification"
   ]
  },
  {
   "cell_type": "markdown",
   "metadata": {},
   "source": [
    "### See Listing 6.1"
   ]
  },
  {
   "cell_type": "markdown",
   "metadata": {},
   "source": [
    "## Disambiguation"
   ]
  },
  {
   "cell_type": "markdown",
   "metadata": {},
   "source": [
    "### See Listing 6.2-6.3"
   ]
  },
  {
   "cell_type": "markdown",
   "metadata": {},
   "source": [
    "## Bonus Examples (not included in chapter)"
   ]
  },
  {
   "cell_type": "code",
   "execution_count": 11,
   "metadata": {},
   "outputs": [
    {
     "name": "stdout",
     "output_type": "stream",
     "text": [
      "spark  0.80665\n",
      "hadoop  0.59424\n",
      "hive  0.52983\n",
      "kafka  0.51552\n",
      "impala  0.45309\n",
      "streamsets  0.39341\n",
      "scala  0.38564\n",
      "flume  0.38401\n",
      "attunity  0.37374\n",
      "mapreduce  0.36195\n"
     ]
    }
   ],
   "source": [
    "jobs_collection = engine.get_collection(\"jobs\")\n",
    "request = {\n",
    "    \"params\": {\n",
    "        \"qf\": \"job_description job_title\",\n",
    "        \"fore\": \"{!type=$defType qf=$qf v=$q}\",\n",
    "        \"back\": \"*:*\",\n",
    "        \"defType\": \"edismax\",\n",
    "        \"rows\": 0,\n",
    "        \"echoParams\": \"none\",\n",
    "        \"omitHeader\": \"true\"\n",
    "    },\n",
    "    \"query\": \"\\\"spark\\\"\",\n",
    "    \"facet\": {\n",
    "        \"job_description_keywords\": {\n",
    "            \"type\": \"terms\",\n",
    "            \"field\": \"job_description\",\n",
    "            \"sort\": { \"relatedness\": \"desc\"},\n",
    "            \"facet\": {\n",
    "                \"relatedness\": {\n",
    "                    \"type\": \"func\",\n",
    "                    \"func\": \"relatedness($fore,$back)\"\n",
    "                }\n",
    "            }            \n",
    "        }\n",
    "    }\n",
    "}\n",
    "\n",
    "response = jobs_collection.search(request)\n",
    "for bucket in response[\"facets\"][\"job_description_keywords\"][\"buckets\"]:\n",
    "    print(f'{bucket[\"val\"]}  {bucket[\"relatedness\"][\"relatedness\"]}')"
   ]
  },
  {
   "cell_type": "code",
   "execution_count": 12,
   "metadata": {},
   "outputs": [
    {
     "name": "stdout",
     "output_type": "stream",
     "text": [
      "chef  0.80689\n",
      "puppet  0.59501\n",
      "ansible  0.52824\n",
      "terraform  0.3866\n",
      "jenkins  0.30455\n",
      "culinary  0.25935\n",
      "docker  0.25145\n",
      "cd  0.2434\n",
      "ci  0.23938\n",
      "ruby  0.20856\n"
     ]
    }
   ],
   "source": [
    "jobs_collection = engine.get_collection(\"jobs\")\n",
    "\n",
    "request = {\n",
    "    \"params\": {\n",
    "        \"qf\": \"job_description job_title\",\n",
    "        \"fore\": \"{!type=$defType qf=$qf v=$q}\",\n",
    "        \"back\": \"*:*\",\n",
    "        \"defType\": \"edismax\",\n",
    "        \"rows\": 0,\n",
    "        \"echoParams\": \"none\",\n",
    "        \"omitHeader\": \"true\"\n",
    "    },\n",
    "    \"query\": '\"chef\"',\n",
    "    \"facet\": {\n",
    "        \"job_description_keywords\": {\n",
    "            \"type\": \"terms\",\n",
    "            \"field\": \"job_description\",\n",
    "            \"sort\": { \"relatedness\": \"desc\"},\n",
    "            \"facet\": {\n",
    "                \"relatedness\": {\n",
    "                    \"type\": \"func\",\n",
    "                    \"func\": \"relatedness($fore,$back)\",\n",
    "                    \"min_popularity\": 0.0005\n",
    "                }\n",
    "            }            \n",
    "        }\n",
    "    }\n",
    "}\n",
    "\n",
    "response = jobs_collection.search(request)\n",
    "for bucket in response[\"facets\"][\"job_description_keywords\"][\"buckets\"]:\n",
    "    print(f'{bucket[\"val\"]}  {bucket[\"relatedness\"][\"relatedness\"]}')"
   ]
  },
  {
   "cell_type": "markdown",
   "metadata": {},
   "source": [
    "## Success!\n",
    "\n",
    "You've leveraged a semantic knowledge graph to find related terms for a query, performed query expansion based upon semantically-similar terms, explored multiple different way to impact precision and recall of queries through integrating semantically-augmented queries, generated content-based recommendations leveraging a semantic knowledge graph, explored arbitrary relationship types by traversing a semantic knowledge graph.\n",
    "\n",
    "Semantic knowledge graphs can be a powerful tool for understaning user intent and interpreting both queries and content based upon meaning instead of just text kewords.\n",
    "\n",
    "Up next: Chapter 6 - [Using Context to Learn Domain-specific Language ](../ch06/1.skg-classification-disambiguation.ipynb)"
   ]
  }
 ],
 "metadata": {
  "kernelspec": {
   "display_name": "Python 3 (ipykernel)",
   "language": "python",
   "name": "python3"
  },
  "vscode": {
   "interpreter": {
    "hash": "31f2aee4e71d21fbe5cf8b01ff0e069b9275f58929596ceb00d14d90e3e16cd6"
   }
  }
 },
 "nbformat": 4,
 "nbformat_minor": 2
}
