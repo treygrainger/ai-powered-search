{
 "cells": [
  {
   "cell_type": "markdown",
   "metadata": {},
   "source": [
    "\n",
    "# Related keywords detection"
   ]
  },
  {
   "cell_type": "markdown",
   "metadata": {},
   "source": [
    "**NOTE**: This notebook depends upon the the Retrotech dataset. If you have any issues, please rerun the [Setting up the Retrotech Dataset](../ch04/1.setting-up-the-retrotech-dataset.ipynb) notebook."
   ]
  },
  {
   "cell_type": "code",
   "execution_count": 5,
   "metadata": {},
   "outputs": [],
   "source": [
    "import pandas as pd\n",
    "from pyspark.sql import SparkSession\n",
    "spark = SparkSession.builder.appName(\"AIPS\").getOrCreate()\n",
    "engine = get_engine()"
   ]
  },
  {
   "cell_type": "markdown",
   "metadata": {},
   "source": [
    "### Step 1: Prepare the data using py-spark and data frames \n"
   ]
  },
  {
   "cell_type": "markdown",
   "metadata": {},
   "source": [
    "## Listing 6.4"
   ]
  },
  {
   "cell_type": "code",
   "execution_count": 1,
   "metadata": {},
   "outputs": [
    {
     "ename": "NameError",
     "evalue": "name 'engine' is not defined",
     "output_type": "error",
     "traceback": [
      "\u001b[0;31m---------------------------------------------------------------------------\u001b[0m",
      "\u001b[0;31mNameError\u001b[0m                                 Traceback (most recent call last)",
      "Cell \u001b[0;32mIn[1], line 1\u001b[0m\n\u001b[0;32m----> 1\u001b[0m signals_collection \u001b[38;5;241m=\u001b[39m \u001b[43mengine\u001b[49m\u001b[38;5;241m.\u001b[39mget_collection(\u001b[38;5;124m\"\u001b[39m\u001b[38;5;124msignals\u001b[39m\u001b[38;5;124m\"\u001b[39m)\n\u001b[1;32m      2\u001b[0m create_view(signals_collection, \u001b[38;5;124m\"\u001b[39m\u001b[38;5;124msignals\u001b[39m\u001b[38;5;124m\"\u001b[39m)\n\u001b[1;32m      3\u001b[0m dataframe \u001b[38;5;241m=\u001b[39m spark\u001b[38;5;241m.\u001b[39msql(\u001b[38;5;124m\"\"\"\u001b[39m\n\u001b[1;32m      4\u001b[0m \u001b[38;5;124mselect lower(searches.target) as keyword, searches.user\u001b[39m\n\u001b[1;32m      5\u001b[0m \u001b[38;5;124mfrom signals as searches where searches.type=\u001b[39m\u001b[38;5;124m'\u001b[39m\u001b[38;5;124mquery\u001b[39m\u001b[38;5;124m'\u001b[39m\n\u001b[1;32m      6\u001b[0m \u001b[38;5;124m\"\"\"\u001b[39m)\u001b[38;5;241m.\u001b[39mcreateOrReplaceTempView(\u001b[38;5;124m\"\u001b[39m\u001b[38;5;124muser_searches\u001b[39m\u001b[38;5;124m\"\u001b[39m)\n",
      "\u001b[0;31mNameError\u001b[0m: name 'engine' is not defined"
     ]
    }
   ],
   "source": [
    "signals_collection = engine.get_collection(\"signals\")\n",
    "create_view(signals_collection, \"signals\")\n",
    "spark.sql(\"\"\"\n",
    "SELECT LOWER(searches.target) AS keyword, searches.user\n",
    "FROM signals AS searches WHERE searches.type='query'\n",
    "\"\"\").createOrReplaceTempView(\"user_searches\")"
   ]
  },
  {
   "cell_type": "code",
   "execution_count": 7,
   "metadata": {},
   "outputs": [
    {
     "name": "stdout",
     "output_type": "stream",
     "text": [
      "+------+\n",
      "|  rows|\n",
      "+------+\n",
      "|725459|\n",
      "+------+\n",
      "\n",
      "+--------------+-------+\n",
      "|       keyword|   user|\n",
      "+--------------+-------+\n",
      "|speaker stands|u629592|\n",
      "|power acoustik|u312235|\n",
      "|     pocket pc|u492573|\n",
      "+--------------+-------+\n",
      "only showing top 3 rows\n",
      "\n"
     ]
    }
   ],
   "source": [
    "#Show Results:\n",
    "spark.sql(\"\"\"SELECT COUNT(*) FROM user_searches\"\"\").show(1)\n",
    "spark.sql(\"\"\"SELECT * FROM user_searches\"\"\").show(3)"
   ]
  },
  {
   "cell_type": "markdown",
   "metadata": {},
   "source": [
    "### Step2 : Create Cooccurrence & PMI2  Model based on users searchs"
   ]
  },
  {
   "cell_type": "markdown",
   "metadata": {},
   "source": [
    "## Listing 6.5"
   ]
  },
  {
   "cell_type": "code",
   "execution_count": 2,
   "metadata": {},
   "outputs": [
    {
     "ename": "NameError",
     "evalue": "name 'spark' is not defined",
     "output_type": "error",
     "traceback": [
      "\u001b[0;31m---------------------------------------------------------------------------\u001b[0m",
      "\u001b[0;31mNameError\u001b[0m                                 Traceback (most recent call last)",
      "Cell \u001b[0;32mIn[2], line 2\u001b[0m\n\u001b[1;32m      1\u001b[0m \u001b[38;5;66;03m#Calculation:\u001b[39;00m\n\u001b[0;32m----> 2\u001b[0m \u001b[43mspark\u001b[49m\u001b[38;5;241m.\u001b[39msql(\u001b[38;5;124m\"\"\"\u001b[39m\u001b[38;5;124mselect k1.keyword as keyword1, k2.keyword as keyword2,\u001b[39m\n\u001b[1;32m      3\u001b[0m \u001b[38;5;124mcount(distinct k1.user) users_cooc from user_searches k1\u001b[39m\n\u001b[1;32m      4\u001b[0m \u001b[38;5;124mjoin user_searches k2 on k1.user = k2.user where k1.keyword > k2.keyword\u001b[39m\n\u001b[1;32m      5\u001b[0m \u001b[38;5;124mgroup by k1.keyword, k2.keyword\u001b[39m\u001b[38;5;124m\"\"\"\u001b[39m)\u001b[38;5;241m.\u001b[39mcreateOrReplaceTempView(\u001b[38;5;124m'\u001b[39m\u001b[38;5;124mkeywords_users_cooc\u001b[39m\u001b[38;5;124m'\u001b[39m)\n\u001b[1;32m      7\u001b[0m spark\u001b[38;5;241m.\u001b[39msql(\u001b[38;5;124m'''\u001b[39m\u001b[38;5;124mselect keyword, count(distinct user) users_occ from\u001b[39m\n\u001b[1;32m      8\u001b[0m \u001b[38;5;124muser_searches group by keyword\u001b[39m\u001b[38;5;124m'''\u001b[39m\n\u001b[1;32m      9\u001b[0m )\u001b[38;5;241m.\u001b[39mcreateOrReplaceTempView(\u001b[38;5;124m'\u001b[39m\u001b[38;5;124mkeywords_users_oc\u001b[39m\u001b[38;5;124m'\u001b[39m)\n",
      "\u001b[0;31mNameError\u001b[0m: name 'spark' is not defined"
     ]
    }
   ],
   "source": [
    "#Calculation:\n",
    "spark.sql(\"\"\"\n",
    "SELECT k1.keyword AS keyword1, k2.keyword AS keyword2,\n",
    "COUNT(DISTINCT k1.user) users_cooc FROM user_searches k1\n",
    "JOIN user_searches k2 ON k1.user = k2.user WHERE k1.keyword > k2.keyword\n",
    "GROUP BY k1.keyword, k2.keyword\n",
    "\"\"\").createOrReplaceTempView(\"keywords_users_cooc\")\n",
    "\n",
    "spark.sql(\"\"\"\n",
    "SELECT keyword, COUNT(DISTINCT user) users_occ FROM\n",
    "user_searches GROUP BY keyword\n",
    "\"\"\").createOrReplaceTempView(\"keywords_users_oc\")\n"
   ]
  },
  {
   "cell_type": "code",
   "execution_count": 18,
   "metadata": {},
   "outputs": [
    {
     "name": "stdout",
     "output_type": "stream",
     "text": [
      "+-----------+---------+\n",
      "|    keyword|users_occ|\n",
      "+-----------+---------+\n",
      "|     lcd tv|     8449|\n",
      "|       ipad|     7749|\n",
      "|hp touchpad|     7144|\n",
      "|  iphone 4s|     4642|\n",
      "|   touchpad|     4019|\n",
      "|     laptop|     3625|\n",
      "|    laptops|     3435|\n",
      "|      beats|     3282|\n",
      "|       ipod|     3164|\n",
      "| ipod touch|     2992|\n",
      "+-----------+---------+\n",
      "only showing top 10 rows\n",
      "\n",
      "+-------------------+\n",
      "|keywords_users_cooc|\n",
      "+-------------------+\n",
      "|             244876|\n",
      "+-------------------+\n",
      "\n",
      "+-------------+---------------+----------+\n",
      "|     keyword1|       keyword2|users_cooc|\n",
      "+-------------+---------------+----------+\n",
      "|green lantern|captain america|        23|\n",
      "|    iphone 4s|         iphone|        21|\n",
      "|       laptop|      hp laptop|        20|\n",
      "|         thor|captain america|        18|\n",
      "|    iphone 4s|       iphone 4|        17|\n",
      "|         bose|          beats|        17|\n",
      "|   skullcandy|          beats|        17|\n",
      "|      macbook|            mac|        16|\n",
      "|         thor|  green lantern|        16|\n",
      "|      laptops|         laptop|        16|\n",
      "+-------------+---------------+----------+\n",
      "only showing top 10 rows\n",
      "\n"
     ]
    }
   ],
   "source": [
    "#Show Results\n",
    "spark.sql(\"\"\"SELECT * FROM keywords_users_oc\n",
    "             ORDER BY users_occ DESC\"\"\").show(10)\n",
    "spark.sql(\"SELECT COUNT(1) AS keywords_users_cooc FROM kwu_cooc\").show()\n",
    "spark.sql(\"\"\"SELECT * FROM keyword_users_cooc\n",
    "             ORDER BY users_cooc desc\"\"\").show(10)"
   ]
  },
  {
   "cell_type": "markdown",
   "metadata": {},
   "source": [
    "## Listing 6.6"
   ]
  },
  {
   "cell_type": "code",
   "execution_count": 19,
   "metadata": {},
   "outputs": [],
   "source": [
    "#Calculation:\n",
    "spark.sql(\"\"\"\n",
    "SELECT k1.keyword AS k1, k2.keyword AS k2, k1_k2.users_cooc,\n",
    "k1.users_occ AS n_users1, k2.users_occ AS n_users2,\n",
    "LOG(POW(k1_k2.users_cooc, 2) / (k1.users_occ * k2.users_occ)) AS pmi2\n",
    "FROM keywords_users_cooc AS k1_k2 \n",
    "JOIN keywords_users_oc AS k1 ON k1_k2.keyword1 = k1.keyword\n",
    "JOIN keywords_users_oc AS k2 ON k1_k2.keyword2 = k2.keyword\n",
    "\"\"\").createOrReplaceTempView(\"user_related_keywords_pmi\")"
   ]
  },
  {
   "cell_type": "code",
   "execution_count": null,
   "metadata": {},
   "outputs": [
    {
     "name": "stdout",
     "output_type": "stream",
     "text": [
      "+-----------------+--------------------+----------+--------+--------+------------------+\n",
      "|               k1|                  k2|users_cooc|n_users1|n_users2|              pmi2|\n",
      "+-----------------+--------------------+----------+--------+--------+------------------+\n",
      "|  iphone 4s cases|      iphone 4 cases|        10|     158|     740|-7.064075033237091|\n",
      "|     sony laptops|          hp laptops|         8|     209|     432|-7.251876756849249|\n",
      "|otterbox iphone 4|            otterbox|         7|     122|     787|-7.580428995040033|\n",
      "|    green lantern|     captain america|        23|     963|    1091|-7.593914965772897|\n",
      "|          kenwood|              alpine|        13|     584|     717|-7.815078108504774|\n",
      "|      sony laptop|         dell laptop|        10|     620|     451|-7.936016631553724|\n",
      "|   wireless mouse|           godfather|         6|     407|     248|-7.938722993151467|\n",
      "|       hp laptops|        dell laptops|         6|     432|     269| -8.07961802938984|\n",
      "|      mp3 players|        dvd recorder|         6|     334|     365|-8.127519408103081|\n",
      "|          quicken|portable dvd players|         6|     281|     434| -8.12788026497804|\n",
      "+-----------------+--------------------+----------+--------+--------+------------------+\n",
      "only showing top 10 rows\n",
      "\n"
     ]
    }
   ],
   "source": [
    "#Show Results:\n",
    "spark.sql(\"\"\"SELECT * FROM user_related_keywords_pmi\n",
    "             WHERE users_cooc > 5 ORDER BY pmi2 DESC\"\"\").show(10)"
   ]
  },
  {
   "cell_type": "markdown",
   "metadata": {},
   "source": [
    "## Listing 6.7"
   ]
  },
  {
   "cell_type": "code",
   "execution_count": 30,
   "metadata": {},
   "outputs": [],
   "source": [
    "#Calculation:\n",
    "spark.sql(\"\"\"\n",
    "SELECT *, (r1 + r2 / (r1 * r2)) / 2 AS comp_score FROM (\n",
    "  SELECT *, \n",
    "    RANK() OVER (PARTITION BY 1 ORDER BY users_cooc DESC) r1,\n",
    "    RANK() OVER (PARTITION BY 1 ORDER BY pmi2 DESC) r2  \n",
    "  FROM user_related_keywords_pmi)\n",
    "\"\"\").createOrReplaceTempView(\"users_related_keywords_comp_score\")"
   ]
  },
  {
   "cell_type": "code",
   "execution_count": 3,
   "metadata": {},
   "outputs": [
    {
     "ename": "SyntaxError",
     "evalue": "incomplete input (3768452811.py, line 2)",
     "output_type": "error",
     "traceback": [
      "\u001b[0;36m  Cell \u001b[0;32mIn[3], line 2\u001b[0;36m\u001b[0m\n\u001b[0;31m    spark.sql(\"\"\"select k1, k2, users_cooc, pmi2, r1, r2, comp_score\u001b[0m\n\u001b[0m              ^\u001b[0m\n\u001b[0;31mSyntaxError\u001b[0m\u001b[0;31m:\u001b[0m incomplete input\n"
     ]
    }
   ],
   "source": [
    "#Show Results:\n",
    "spark.sql(\"\"\"SELECT k1, k2, users_cooc, pmi2, r1, r2, comp_score \n",
    "FROM users_related_keywords_comp_score ORDER BY comp_score ASC\"\"\").show(20)"
   ]
  },
  {
   "cell_type": "markdown",
   "metadata": {},
   "source": [
    "###  Create Cooccurrence & PMI2  Model based on product interaction"
   ]
  },
  {
   "cell_type": "markdown",
   "metadata": {},
   "source": [
    "## Listing 6.8"
   ]
  },
  {
   "cell_type": "code",
   "execution_count": 35,
   "metadata": {},
   "outputs": [],
   "source": [
    "#Calculation:\n",
    "spark.sql(\"\"\"\n",
    "SELECT LOWER(searches.target) AS keyword, searches.user AS user,\n",
    "clicks.target AS product FROM signals AS searches\n",
    "RIGHT JOIN signals AS clicks ON searches.query_id = clicks.query_id \n",
    "WHERE searches.type = 'query' AND clicks.type = 'click'\n",
    "\"\"\").createOrReplaceTempView('keyword_click_product')\n"
   ]
  },
  {
   "cell_type": "code",
   "execution_count": 38,
   "metadata": {},
   "outputs": [
    {
     "name": "stdout",
     "output_type": "stream",
     "text": [
      "Original signals format: \n",
      "+--------------------+-----------+--------------------+--------------+-----+-------+\n",
      "|                  id|   query_id|         signal_time|        target| type|   user|\n",
      "+--------------------+-----------+--------------------+--------------+-----+-------+\n",
      "|00002066-2c14-48f...|u629592_2_4|2020-04-10 04:41:...|speaker stands|query|u629592|\n",
      "|0000a666-65c5-49a...|u312235_0_1|2019-12-01 11:19:...|Power acoustik|query|u312235|\n",
      "|00014674-b893-4cc...|u492573_2_6|2020-05-07 08:19:...|     pocket pc|query|u492573|\n",
      "+--------------------+-----------+--------------------+--------------+-----+-------+\n",
      "only showing top 3 rows\n",
      "\n",
      "Simplified signals format: \n",
      "+-----------+-------+------------+\n",
      "|    keyword|   user|     product|\n",
      "+-----------+-------+------------+\n",
      "|dc universe|u100011|883929194629|\n",
      "|     dazzle|u100024|613570226642|\n",
      "|       macs|u100031|885909431618|\n",
      "+-----------+-------+------------+\n",
      "only showing top 3 rows\n",
      "\n"
     ]
    }
   ],
   "source": [
    "#Show Results:\n",
    "print(\"Original signals format: \")\n",
    "spark.sql(\"\"\"SELECT * FROM signals WHERE type = 'query'\"\"\").show(3)\n",
    "print(\"Simplified signals format: \")\n",
    "spark.sql(\"\"\"SELECT * FROM keyword_click_product\"\"\").show(3)"
   ]
  },
  {
   "cell_type": "markdown",
   "metadata": {},
   "source": [
    "## Listing 6.9"
   ]
  },
  {
   "cell_type": "code",
   "execution_count": 39,
   "metadata": {},
   "outputs": [],
   "source": [
    "#Calculation:\n",
    "spark.sql(\"\"\"\n",
    "SELECT k1.keyword AS k1,k2.keyword AS k2,SUM(p1) n_users1,sum(p2) n_users2,\n",
    "SUM(p1 + p2) AS users_cooc, COUNT(1) n_products FROM (\n",
    "  SELECT keyword, product, COUNT(1) AS p1 FROM keyword_click_product\n",
    "    GROUP BY keyword, product) AS k1 JOIN (\n",
    "  SELECT keyword, product, COUNT(1) AS p2 FROM keyword_click_product\n",
    "    GROUP BY keyword, product) AS k2 ON k1.product = k2.product\n",
    "WHERE k1.keyword > k2.keyword GROUP BY k1.keyword, k2.keyword\n",
    "\"\"\").createOrReplaceTempView(\"keyword_click_product_cooc\")"
   ]
  },
  {
   "cell_type": "code",
   "execution_count": 40,
   "metadata": {},
   "outputs": [
    {
     "name": "stdout",
     "output_type": "stream",
     "text": [
      "+--------------------------+\n",
      "|keyword_click_product_cooc|\n",
      "+--------------------------+\n",
      "|                   1579710|\n",
      "+--------------------------+\n",
      "\n",
      "+--------------+-------------+--------+--------+----------+----------+\n",
      "|            k1|           k2|n_users1|n_users2|users_cooc|n_products|\n",
      "+--------------+-------------+--------+--------+----------+----------+\n",
      "|       laptops|       laptop|    3251|    3345|      6596|       187|\n",
      "|       tablets|       tablet|    1510|    1629|      3139|       155|\n",
      "|        tablet|         ipad|    1468|    7067|      8535|       146|\n",
      "|       tablets|         ipad|    1359|    7048|      8407|       132|\n",
      "|       cameras|       camera|     637|     688|      1325|       116|\n",
      "|          ipad|        apple|    6706|    1129|      7835|       111|\n",
      "|      iphone 4|       iphone|    1313|    1754|      3067|       108|\n",
      "|    headphones|  head phones|    1829|     492|      2321|       106|\n",
      "|     computers|     computer|     536|     392|       928|        98|\n",
      "|        ipad 2|         ipad|    2736|    6738|      9474|        98|\n",
      "|iphone 4 cases|iphone 4 case|     648|     810|      1458|        95|\n",
      "|        laptop|    computers|    2794|     349|      3143|        94|\n",
      "|       netbook|       laptop|    1017|    2887|      3904|        94|\n",
      "|       netbook|      laptops|    1018|    2781|      3799|        91|\n",
      "|    headphones|    headphone|    1617|     367|      1984|        90|\n",
      "|        tablet|    computers|    1124|     449|      1573|        89|\n",
      "|        laptop|           hp|    2078|     749|      2827|        89|\n",
      "|           mac|        apple|    1668|    1218|      2886|        88|\n",
      "|       laptops|    computers|    2734|     331|      3065|        88|\n",
      "|     tablet pc|       tablet|     296|    1408|      1704|        87|\n",
      "+--------------+-------------+--------+--------+----------+----------+\n",
      "only showing top 20 rows\n",
      "\n"
     ]
    }
   ],
   "source": [
    "#Show Results:\n",
    "spark.sql(\"\"\"SELECT COUNT(1) AS keyword_click_product_cooc FROM keyword_click_product_cooc\"\"\").show()\n",
    "spark.sql(\"\"\"SELECT * FROM keyword_click_product_cooc ORDER BY n_products DESC\"\"\").show(20)"
   ]
  },
  {
   "cell_type": "markdown",
   "metadata": {},
   "source": [
    "## Listing 6.10"
   ]
  },
  {
   "cell_type": "code",
   "execution_count": 42,
   "metadata": {},
   "outputs": [],
   "source": [
    "#Calculation:\n",
    "spark.sql(\"\"\"SELECT keyword, COUNT(1) AS n_users FROM keyword_click_product\n",
    "GROUP BY keyword \"\"\").createOrReplaceTempView(\"keyword_click_product_oc\")"
   ]
  },
  {
   "cell_type": "code",
   "execution_count": 43,
   "metadata": {},
   "outputs": [
    {
     "name": "stdout",
     "output_type": "stream",
     "text": [
      "+------------------------+\n",
      "|keyword_click_product_oc|\n",
      "+------------------------+\n",
      "|                   13744|\n",
      "+------------------------+\n",
      "\n",
      "+------------+-------+\n",
      "|     keyword|n_users|\n",
      "+------------+-------+\n",
      "|        ipad|   7554|\n",
      "| hp touchpad|   4829|\n",
      "|      lcd tv|   4606|\n",
      "|   iphone 4s|   4585|\n",
      "|      laptop|   3554|\n",
      "|       beats|   3498|\n",
      "|     laptops|   3369|\n",
      "|        ipod|   2949|\n",
      "|  ipod touch|   2931|\n",
      "|      ipad 2|   2842|\n",
      "|      kindle|   2833|\n",
      "|    touchpad|   2785|\n",
      "|   star wars|   2564|\n",
      "|      iphone|   2430|\n",
      "|beats by dre|   2328|\n",
      "|     macbook|   2313|\n",
      "|  headphones|   2270|\n",
      "|        bose|   2071|\n",
      "|         ps3|   2041|\n",
      "|         mac|   1851|\n",
      "+------------+-------+\n",
      "only showing top 20 rows\n",
      "\n"
     ]
    }
   ],
   "source": [
    "#Show Results:\n",
    "spark.sql(\"\"\"SELECT COUNT(1) AS keyword_click_product_oc FROM keyword_click_product_oc\"\"\").show()\n",
    "spark.sql(\"\"\"SELECT * FROM keyword_click_product_oc ORDER BY n_users DESC\"\"\").show(20)"
   ]
  },
  {
   "cell_type": "markdown",
   "metadata": {},
   "source": [
    "## Listing 6.11"
   ]
  },
  {
   "cell_type": "code",
   "execution_count": 4,
   "metadata": {},
   "outputs": [
    {
     "ename": "SyntaxError",
     "evalue": "incomplete input (2426791825.py, line 4)",
     "output_type": "error",
     "traceback": [
      "\u001b[0;36m  Cell \u001b[0;32mIn[4], line 4\u001b[0;36m\u001b[0m\n\u001b[0;31m    spark.sql(\"\"\"select k1.keyword as k1, k2.keyword as k2, k1_k2.users_cooc,\u001b[0m\n\u001b[0m              ^\u001b[0m\n\u001b[0;31mSyntaxError\u001b[0m\u001b[0;31m:\u001b[0m incomplete input\n"
     ]
    }
   ],
   "source": [
    "# calculate PMI2, per Listing 6.6\n",
    "\n",
    "#Calculation:\n",
    "spark.sql(\"\"\"\n",
    "SELECT k1.keyword AS k1, k2.keyword AS k2, k1_k2.users_cooc,\n",
    "k1.n_users AS n_users1, k2.n_users AS n_users2,\n",
    "LOG(POW(k1_k2.users_cooc, 2) / (k1.n_users * k2.n_users)) AS pmi2\n",
    "FROM keyword_click_product_cooc AS k1_k2 \n",
    "JOIN keyword_click_product_oc AS k1 ON k1_k2.k1 = k1.keyword\n",
    "JOIN keyword_click_product_oc AS k2 ON k1_k2.k2 = k2.keyword\n",
    "\"\"\").createOrReplaceTempView(\"product_related_keywords_pmi\")"
   ]
  },
  {
   "cell_type": "code",
   "execution_count": null,
   "metadata": {},
   "outputs": [
    {
     "name": "stdout",
     "output_type": "stream",
     "text": [
      "+--------------------+\n",
      "|related_keywords_pmi|\n",
      "+--------------------+\n",
      "|             1579710|\n",
      "+--------------------+\n",
      "\n",
      "+-------------------+-------------------+----------+--------+--------+------------------+\n",
      "|                 k1|                 k2|users_cooc|n_users1|n_users2|              pmi2|\n",
      "+-------------------+-------------------+----------+--------+--------+------------------+\n",
      "|          pad pivot|        hp touchpad|      4022|       1|    4829| 8.116674454791653|\n",
      "|     hp touchpad 32|        hp touchpad|      4022|       1|    4829| 8.116674454791653|\n",
      "|        hp touchpad|    hp tablet 32 gb|      4022|    4829|       1| 8.116674454791653|\n",
      "|        hp touchpad|     hp tablet 32gb|      4022|    4829|       1| 8.116674454791653|\n",
      "|           touchpad|     hp touchpad 32|      2350|    2785|       1| 7.592338061915025|\n",
      "|           touchpad|    hp tablet 32 gb|      2350|    2785|       1| 7.592338061915025|\n",
      "|           touchpad|     hp tablet 32gb|      2350|    2785|       1| 7.592338061915025|\n",
      "|           touchpad|          pad pivot|      2350|    2785|       1| 7.592338061915025|\n",
      "|           toichpad|        hp touchpad|      4077|       2|    4829| 7.450691539205019|\n",
      "|hp touchpad tablets|        hp touchpad|      4035|       2|    4829| 7.429981294974612|\n",
      "|         hp toucpad|        hp touchpad|      4023|       2|    4829| 7.424024477466089|\n",
      "|               ipad|  automatic starter|      2940|    7554|       1| 7.042497217393052|\n",
      "|        hp touchpad| hp tablet touchpad|      4048|    4829|       3| 7.030949447392952|\n",
      "|           touchpaf|        hp touchpad|      4024|       3|    4829| 7.019056449017499|\n",
      "|        hp touchpad|            2842092|      4024|    4829|       3| 7.019056449017499|\n",
      "|        hp touxhpad|        hp touchpad|      4024|       3|    4829| 7.019056449017499|\n",
      "|        hp touchpad|        hp smartpad|      4024|    4829|       3| 7.019056449017499|\n",
      "|           touchpad|           toichpad|      2369|    2785|       2| 6.915296075396241|\n",
      "|           touchpad|hp touchpad tablets|      2356|    2785|       2|6.9042907566216245|\n",
      "|           touchpad|         hp toucpad|      2351|    2785|       2| 6.900041764158809|\n",
      "+-------------------+-------------------+----------+--------+--------+------------------+\n",
      "only showing top 20 rows\n",
      "\n"
     ]
    }
   ],
   "source": [
    "#Show Results:\n",
    "spark.sql(\"\"\"SELECT COUNT(1) AS related_keywords_pmi FROM product_related_keywords_pmi\"\"\").show()\n",
    "spark.sql(\"\"\"SELECT * FROM product_related_keywords_pmi ORDER BY pmi2 DESC\"\"\").show(20)"
   ]
  },
  {
   "cell_type": "code",
   "execution_count": null,
   "metadata": {},
   "outputs": [],
   "source": [
    "# calculate comp_score, per Listing 6.7\n",
    "\n",
    "#Calculation:\n",
    "spark.sql(\"\"\"\n",
    "SELECT *, (r1 + r2 / (r1 * r2)) / 2 as comp_score from (\n",
    "  SELECT *, \n",
    "    RANK() OVER (PARTITION BY 1 ORDER BY users_cooc DESC) r1, \n",
    "    RANK() OVER (PARTITION BY 1 ORDER BY pmi2 DESC) r2  \n",
    "FROM product_related_keywords_pmi)\n",
    "\"\"\").createOrReplaceTempView(\"product_related_keywords_comp_score\")"
   ]
  },
  {
   "cell_type": "code",
   "execution_count": null,
   "metadata": {},
   "outputs": [
    {
     "name": "stdout",
     "output_type": "stream",
     "text": [
      "+------------------------------------+\n",
      "|product_related_keywords_comp_scores|\n",
      "+------------------------------------+\n",
      "|                             1579710|\n",
      "+------------------------------------+\n",
      "\n",
      "+----------+-----------+--------+--------+------------------+------------------+\n",
      "|        k1|         k2|n_users1|n_users2|              pmi2|        comp_score|\n",
      "+----------+-----------+--------+--------+------------------+------------------+\n",
      "|      ipad|hp touchpad|    7554|    4829|1.2318940540272372|               1.0|\n",
      "|    ipad 2|       ipad|    2842|    7554| 1.430517155037946|              1.25|\n",
      "|    tablet|       ipad|    1818|    7554|1.6685364924472557|1.6666666666666667|\n",
      "|  touchpad|       ipad|    2785|    7554|1.2231908670315748|             2.125|\n",
      "|   tablets|       ipad|    1627|    7554|1.7493143317791537|               2.6|\n",
      "|     ipad2|       ipad|    1254|    7554|1.9027023623302282|3.0833333333333335|\n",
      "|      ipad|      apple|    7554|    1814|1.4995901756327583|3.5714285714285716|\n",
      "|  touchpad|hp touchpad|    2785|    4829|1.3943192464710108|            4.0625|\n",
      "|      ipad|  hp tablet|    7554|    1421|1.5940745096856273| 4.555555555555555|\n",
      "|ipod touch|       ipad|    2931|    7554|0.8634782989267505|              5.05|\n",
      "|      ipad|      i pad|    7554|     612| 2.415162433949984| 5.545454545454546|\n",
      "|    kindle|       ipad|    2833|    7554| 0.827835342752348| 6.041666666666667|\n",
      "|    laptop|       ipad|    3554|    7554|0.5933664189857986| 6.538461538461538|\n",
      "|      ipad| apple ipad|    7554|     326| 2.916383652644603| 7.035714285714286|\n",
      "|    ipad 2|hp touchpad|    2842|    4829|1.1805849845414993| 7.533333333333333|\n",
      "|   laptops|     laptop|    3369|    3554|1.2902371152378296|           8.03125|\n",
      "|      ipad|         hp|    7554|    1125| 1.534242656892875| 8.529411764705882|\n",
      "|     ipads|       ipad|     254|    7554|3.0147863057446345| 9.027777777777779|\n",
      "|      ipad|  htc flyer|    7554|    1834|1.0160007504012176| 9.526315789473685|\n",
      "|      ipad|    i pad 2|    7554|     204| 3.180197301966425|            10.025|\n",
      "+----------+-----------+--------+--------+------------------+------------------+\n",
      "only showing top 20 rows\n",
      "\n"
     ]
    }
   ],
   "source": [
    "#Show Results:\n",
    "spark.sql(\"\"\"SELECT COUNT(1) product_related_keywords_comp_scores\n",
    "             FROM product_related_keywords_comp_score\"\"\").show()\n",
    "spark.sql(\"\"\"\n",
    "SELECT k1, k2, n_users1, n_users2, pmi2, comp_score \n",
    "FROM product_related_keywords_comp_score\n",
    "ORDER BY comp_score ASC\n",
    "\"\"\").show(20)"
   ]
  },
  {
   "cell_type": "markdown",
   "metadata": {},
   "source": [
    "Up next: [Misspelling detection and correction](../ch06/3.spell-correction.ipynb)"
   ]
  }
 ],
 "metadata": {
  "kernelspec": {
   "display_name": "Python 3 (ipykernel)",
   "language": "python",
   "name": "python3"
  },
  "language_info": {
   "codemirror_mode": {
    "name": "ipython",
    "version": 3
   },
   "file_extension": ".py",
   "mimetype": "text/x-python",
   "name": "python",
   "nbconvert_exporter": "python",
   "pygments_lexer": "ipython3",
   "version": "3.10.9"
  }
 },
 "nbformat": 4,
 "nbformat_minor": 2
}
