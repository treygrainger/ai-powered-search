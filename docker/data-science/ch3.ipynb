This folder contains some Solr configuration and a Dockerfile to expedite setting up Solr with LTR.

## Docker
Run `docker build -t ltr-solr .` to create a image running Solr with LTR

Start the instance by running:
`docker run --name ltr-solr -p 8983:8983 -d ltr-solr`


After the instance is running, load up the "hello-ltr (Solr)" notebook. (Note the default notebook uses Elasticsearch!)
