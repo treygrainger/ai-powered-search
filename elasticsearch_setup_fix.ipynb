{
 "cells": [
  {
   "cell_type": "markdown",
   "metadata": {},
   "source": [
    "# Elasticsearch Setup Fix\n",
    "\n",
    "This notebook helps fix the Elasticsearch connection issues when running the notebooks locally."
   ]
  },
  {
   "cell_type": "markdown",
   "metadata": {},
   "source": [
    "## 1. Set Environment Variables\n",
    "\n",
    "First, we need to set the correct environment variables to connect to Elasticsearch. The Docker Compose file maps Elasticsearch port 9200 to host port 9201, so we need to use that port when connecting from the host machine."
   ]
  },
  {
   "cell_type": "code",
   "execution_count": null,
   "metadata": {},
   "outputs": [],
   "source": [
    "import os\n",
    "\n",
    "# Set environment variables for local testing\n",
    "os.environ[\"AIPS_ES_HOST\"] = \"localhost\"  # Use localhost when running outside Docker\n",
    "os.environ[\"AIPS_ES_PORT\"] = \"9201\"       # This matches the host port in docker-compose.yml"
   ]
  },
  {
   "cell_type": "markdown",
   "metadata": {},
   "source": [
    "## 2. Test Elasticsearch Connection\n",
    "\n",
    "Now let's test the connection to Elasticsearch."
   ]
  },
  {
   "cell_type": "code",
   "execution_count": null,
   "metadata": {},
   "outputs": [],
   "source": [
    "import requests\n",
    "\n",
    "# Test Elasticsearch connection\n",
    "es_url = f\"http://{os.environ['AIPS_ES_HOST']}:{os.environ['AIPS_ES_PORT']}\"\n",
    "try:\n",
    "    response = requests.get(f\"{es_url}/_cluster/health\")\n",
    "    if response.status_code == 200:\n",
    "        print(f\"✅ Successfully connected to Elasticsearch at {es_url}\")\n",
    "        print(f\"Cluster status: {response.json()['status']}\")\n",
    "    else:\n",
    "        print(f\"❌ Failed to connect to Elasticsearch at {es_url}\")\n",
    "        print(f\"Status code: {response.status_code}\")\n",
    "except Exception as e:\n",
    "    print(f\"❌ Error connecting to Elasticsearch at {es_url}: {e}\")"
   ]
  },
  {
   "cell_type": "markdown",
   "metadata": {},
   "source": [
    "## 3. Import AIPS and Set Engine\n",
    "\n",
    "Now we can import the AIPS library and set the engine to Elasticsearch."
   ]
  },
  {
   "cell_type": "code",
   "execution_count": null,
   "metadata": {},
   "outputs": [],
   "source": [
    "from aips import get_engine, set_engine\n",
    "\n",
    "# Set the engine to Elasticsearch\n",
    "set_engine(\"elasticsearch\")\n",
    "engine = get_engine()\n",
    "\n",
    "# Check if the engine is working\n",
    "if engine.health_check():\n",
    "    print(\"✅ Elasticsearch engine is healthy\")\n",
    "else:\n",
    "    print(\"❌ Elasticsearch engine is not healthy\")"
   ]
  },
  {
   "cell_type": "markdown",
   "metadata": {},
   "source": [
    "## 4. Run the Original Notebook\n",
    "\n",
    "Now you can run the original notebook (ch04/1.setting-up-the-retrotech-dataset.ipynb) with these environment variables set. You can either:\n",
    "\n",
    "1. Copy the environment variable settings to the beginning of that notebook, or\n",
    "2. Run this notebook first, then run the original notebook in the same Jupyter session.\n",
    "\n",
    "Here's a quick test to create a collection and add a document:"
   ]
  },
  {
   "cell_type": "code",
   "execution_count": null,
   "metadata": {},
   "outputs": [],
   "source": [
    "# Create a test collection\n",
    "try:\n",
    "    collection = engine.create_collection(\"test_collection\")\n",
    "    print(\"✅ Successfully created test_collection\")\n",
    "    \n",
    "    # Add a test document\n",
    "    doc = {\"id\": \"1\", \"title\": \"Test Document\", \"content\": \"This is a test document\"}\n",
    "    collection.add_documents([doc])\n",
    "    print(\"✅ Successfully added test document\")\n",
    "    \n",
    "    # Search for the document\n",
    "    response = collection.search(query=\"test\")\n",
    "    print(f\"✅ Search results: {response}\")\n",
    "except Exception as e:\n",
    "    print(f\"❌ Error testing collection: {e}\")"
   ]
  },
  {
   "cell_type": "markdown",
   "metadata": {},
   "source": [
    "## 5. Troubleshooting\n",
    "\n",
    "If you're still having issues, check the following:\n",
    "\n",
    "1. Make sure Elasticsearch is running in Docker:\n",
    "   ```bash\n",
    "   docker compose ps\n",
    "   ```\n",
    "\n",
    "2. If it's not running, start it:\n",
    "   ```bash\n",
    "   docker compose up elasticsearch\n",
    "   ```\n",
    "\n",
    "3. Check the Elasticsearch logs:\n",
    "   ```bash\n",
    "   docker compose logs elasticsearch\n",
    "   ```\n",
    "\n",
    "4. Make sure the port mapping is correct in docker-compose.yml:\n",
    "   ```yaml\n",
    "   ports:\n",
    "     - 9201:9200\n",
    "   ```\n",
    "\n",
    "5. Try accessing Elasticsearch directly in your browser: http://localhost:9201"
   ]
  }
 ],
 "metadata": {
  "kernelspec": {
   "display_name": "Python 3",
   "language": "python",
   "name": "python3"
  },
  "language_info": {
   "codemirror_mode": {
    "name": "ipython",
    "version": 3
   },
   "file_extension": ".py",
   "mimetype": "text/x-python",
   "name": "python",
   "nbconvert_exporter": "python",
   "pygments_lexer": "ipython3",
   "version": "3.10.9"
  }
 },
 "nbformat": 4,
 "nbformat_minor": 4
}
