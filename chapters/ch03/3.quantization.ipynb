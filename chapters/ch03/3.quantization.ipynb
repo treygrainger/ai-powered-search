{
 "cells": [
  {
   "cell_type": "code",
   "execution_count": 1,
   "metadata": {},
   "outputs": [
    {
     "name": "stderr",
     "output_type": "stream",
     "text": [
      "/opt/conda/lib/python3.10/site-packages/clip/clip.py:57: UserWarning: /home/jovyan/.cache/clip/ViT-B-32.pt exists, but the SHA256 checksum does not match; re-downloading the file\n",
      "  warnings.warn(f\"{download_target} exists, but the SHA256 checksum does not match; re-downloading the file\")\n",
      "100%|███████████████████████████████████████| 338M/338M [00:19<00:00, 18.0MiB/s]\n"
     ]
    }
   ],
   "source": [
    "import sys\n",
    "sys.path.append(\"../..\")\n",
    "from aips import get_engine\n",
    "from pyspark.sql import SparkSession\n",
    "import pickle \n",
    "import numpy \n",
    "import torch\n",
    "import clip\n",
    "import time\n",
    "import pandas\n",
    "import random\n",
    "import tqdm\n",
    "\n",
    "device = \"cuda\" if torch.cuda.is_available() else \"cpu\"\n",
    "model, preprocess = clip.load(\"ViT-B/32\", device=device)\n",
    "\n",
    "engine = get_engine()\n",
    "spark = SparkSession.builder.appName(\"AIPS\").getOrCreate()"
   ]
  },
  {
   "cell_type": "code",
   "execution_count": 2,
   "metadata": {},
   "outputs": [
    {
     "name": "stdout",
     "output_type": "stream",
     "text": [
      "Cloning into 'tmdb'...\n",
      "remote: Enumerating objects: 7, done.\u001b[K\n",
      "remote: Counting objects: 100% (7/7), done.\u001b[K\n",
      "remote: Compressing objects: 100% (7/7), done.\u001b[K\n",
      "remote: Total 7 (delta 0), reused 6 (delta 0), pack-reused 0\u001b[K\n",
      "Receiving objects: 100% (7/7), 103.98 MiB | 18.46 MiB/s, done.\n",
      "Already up to date.\n",
      "movies_with_image_embeddings.pickle\n"
     ]
    }
   ],
   "source": [
    "![ ! -d 'tmdb' ] && git clone --depth 1 https://github.com/ai-powered-search/tmdb.git\n",
    "! cd tmdb && git pull\n",
    "! cd tmdb && mkdir -p '../../../data/tmdb/' && tar -xvf movies_with_image_embeddings.tgz -C '../../../data/tmdb/'"
   ]
  },
  {
   "cell_type": "code",
   "execution_count": 3,
   "metadata": {},
   "outputs": [],
   "source": [
    "def normalize_embedding(embedding):\n",
    "    return numpy.divide(embedding,\n",
    "      numpy.linalg.norm(embedding,axis=0)).tolist()\n",
    "\n",
    "def read(cache_name):\n",
    "    cache_file_name = f\"../../data/tmdb/{cache_name}.pickle\"\n",
    "    with open(cache_file_name, \"rb\") as fd:\n",
    "        return pickle.load(fd)\n",
    "\n",
    "def quantize(embeddings):\n",
    "    embeddings = numpy.array(embeddings)\n",
    "    quantized_embeddings = numpy.zeros_like(embeddings, dtype=numpy.int8)\n",
    "    quantized_embeddings[embeddings > 0] = 1\n",
    "    return quantized_embeddings.tolist()\n",
    "\n",
    "def tmdb_with_embeddings_dataframe():\n",
    "    movies = read(\"movies_with_image_embeddings\")\n",
    "    embeddings = movies[\"image_embeddings\"]\n",
    "    normalized_embeddings = [normalize_embedding(e) for e in embeddings]\n",
    "    quantized_embeddings = [quantize(e) for e in normalized_embeddings]\n",
    "    movie_dataframe = spark.createDataFrame(\n",
    "        zip(movies[\"movie_ids\"], movies[\"titles\"], \n",
    "            movies[\"image_ids\"], normalized_embeddings,\n",
    "            quantized_embeddings),\n",
    "        schema=[\"movie_id\", \"title\", \"image_id\", \"image_embedding\",\n",
    "                \"image_binary_embedding\"])\n",
    "    return movie_dataframe\n",
    "    \n",
    "def encode_text(text):\n",
    "    text = clip.tokenize([text]).to(device)\n",
    "    text_features = model.encode_text(text).tolist()[0]\n",
    "    return numpy.array(normalize_embedding(text_features))"
   ]
  },
  {
   "cell_type": "code",
   "execution_count": 4,
   "metadata": {},
   "outputs": [
    {
     "name": "stdout",
     "output_type": "stream",
     "text": [
      "Wiping \"tmdb_with_embeddings\" collection\n",
      "Creating \"tmdb_with_embeddings\" collection\n",
      "Status: Success\n",
      "Successfully written 7549 documents\n"
     ]
    }
   ],
   "source": [
    "movie_dataframe = tmdb_with_embeddings_dataframe()\n",
    "embeddings_collection = engine.create_collection(\"tmdb_with_embeddings\")\n",
    "embeddings_collection.write(movie_dataframe)"
   ]
  },
  {
   "cell_type": "code",
   "execution_count": 5,
   "metadata": {},
   "outputs": [],
   "source": [
    "def column_list(dataframe, column):\n",
    "    return numpy.array(dataframe.select(column).rdd.flatMap(lambda x: x).collect())\n",
    "\n",
    "def sort_titles(scores, movies, limit=25):\n",
    "    titles = column_list(movies, \"title\").tolist()\n",
    "    binary_results = numpy.argsort(scores)[-limit:][::-1]\n",
    "    ranked = [titles[id] for id in binary_results]\n",
    "    return list(dict.fromkeys(ranked))\n",
    "\n",
    "def numpy_rankings(query, limit=20):\n",
    "    start_dotprod = time.time()\n",
    "\n",
    "    embeddings = column_list(movie_dataframe, \"image_embedding\")\n",
    "    query_embedding = encode_text(query)\n",
    "    dot_prod_scores = numpy.dot(embeddings, query_embedding)\n",
    "\n",
    "    stop_dotprod = time.time(); start_binary = time.time()\n",
    "\n",
    "    quantized_embeddings = column_list(movie_dataframe, \"image_binary_embedding\")\n",
    "    quantized_query = numpy.array(quantize(query_embedding)) \n",
    "    binary_scores = 1536 - numpy.logical_xor(quantized_embeddings,\n",
    "                                             quantized_query).sum(axis=1)\n",
    "    \n",
    "    stop_binary = time.time()\n",
    "    \n",
    "    binary_results = sort_titles(binary_scores, movie_dataframe)\n",
    "    full_results = sort_titles(dot_prod_scores, movie_dataframe)\n",
    "    return {\"binary_query_time\": stop_binary - start_binary,\n",
    "            \"full_query_time\": stop_dotprod - start_dotprod,\n",
    "            \"recall\": len(set(full_results).intersection(set(binary_results))) / len(set(binary_results)),\n",
    "            \"binary_results\": binary_results,\n",
    "            \"full_results\": full_results}"
   ]
  },
  {
   "cell_type": "code",
   "execution_count": 6,
   "metadata": {},
   "outputs": [],
   "source": [
    "def only_titles(response):\n",
    "    return [d[\"title\"] for d in response[\"docs\"]]\n",
    "\n",
    "def base_search_request(query_vector, field, quantization_size):\n",
    "    return {\"query\": query_vector,\n",
    "            \"query_fields\": [field],\n",
    "            \"return_fields\": [\"movie_id\", \"title\", \"score\"],\n",
    "            \"limit\": 25,\n",
    "            \"k\": 1000,\n",
    "            \"quantization_size\": quantization_size}\n",
    "\n",
    "def engine_rankings(query, log=False):\n",
    "    collection = engine.get_collection(\"tmdb_with_embeddings\")\n",
    "    query_embedding = encode_text(query)    \n",
    "    quantized_query = numpy.zeros_like(query_embedding, dtype=numpy.int8)\n",
    "    quantized_query[query_embedding > 0] = 1\n",
    "\n",
    "    binary_request = base_search_request(quantized_query.tolist(),\n",
    "                                         \"image_binary_embedding\",\n",
    "                                         \"BINARY\")\n",
    "    start_dotprod = time.time()    \n",
    "    binary_results = only_titles(collection.search(**binary_request))\n",
    "    stop_dotprod = time.time()\n",
    "\n",
    "    reranked_request = binary_request\n",
    "    reranked_request[\"rerank_query\"] = {\n",
    "        \"query\": query_embedding.tolist(),\n",
    "        \"query_fields\": [\"image_embedding\"],\n",
    "        \"k\": 100,\n",
    "        \"rerank_quantity\": 100,\n",
    "        \"quantization_size\": \"FLOAT32\"}\n",
    "    \n",
    "    if log: print(json.dumps(reranked_request, indent=2))        \n",
    "    start_reranked = time.time()    \n",
    "    full_results = only_titles(collection.search(**reranked_request))\n",
    "    stop_reranked = time.time()\n",
    "    return {\"binary_query_time\": stop_reranked - start_reranked,\n",
    "            \"full_query_time\": stop_dotprod - start_dotprod,\n",
    "            \"recall\": len(set(full_results).intersection(set(binary_results))) / len(set(binary_results)),\n",
    "            \"binary_results\": binary_results,\n",
    "            \"full_results\": full_results}"
   ]
  },
  {
   "cell_type": "code",
   "execution_count": 7,
   "metadata": {},
   "outputs": [
    {
     "name": "stdout",
     "output_type": "stream",
     "text": [
      "Search engine binary search time: 0.04891395568847656\n",
      "Search engine full search time: 0.08017492294311523\n",
      "Numpy binary search time: 0.9986176490783691\n",
      "Numpy full search time: 1.0766046047210693\n"
     ]
    },
    {
     "data": {
      "text/html": [
       "<div>\n",
       "<style scoped>\n",
       "    .dataframe tbody tr th:only-of-type {\n",
       "        vertical-align: middle;\n",
       "    }\n",
       "\n",
       "    .dataframe tbody tr th {\n",
       "        vertical-align: top;\n",
       "    }\n",
       "\n",
       "    .dataframe thead th {\n",
       "        text-align: right;\n",
       "    }\n",
       "</style>\n",
       "<table border=\"1\" class=\"dataframe\">\n",
       "  <thead>\n",
       "    <tr style=\"text-align: right;\">\n",
       "      <th></th>\n",
       "      <th>quantized solr</th>\n",
       "      <th>quantized numpy</th>\n",
       "      <th>dotprod solr</th>\n",
       "      <th>dotprod numpy</th>\n",
       "    </tr>\n",
       "  </thead>\n",
       "  <tbody>\n",
       "    <tr>\n",
       "      <th>0</th>\n",
       "      <td>The Hobbit: The Desolation of Smaug</td>\n",
       "      <td>The Hobbit: The Desolation of Smaug</td>\n",
       "      <td>The Lord of the Rings: The Fellowship of the Ring</td>\n",
       "      <td>The Lord of the Rings: The Fellowship of the Ring</td>\n",
       "    </tr>\n",
       "    <tr>\n",
       "      <th>1</th>\n",
       "      <td>The Lord of the Rings: The Fellowship of the Ring</td>\n",
       "      <td>The Lord of the Rings: The Fellowship of the Ring</td>\n",
       "      <td>The Hobbit: An Unexpected Journey</td>\n",
       "      <td>The Hobbit: An Unexpected Journey</td>\n",
       "    </tr>\n",
       "    <tr>\n",
       "      <th>2</th>\n",
       "      <td>The Hobbit: The Desolation of Smaug</td>\n",
       "      <td>The Hobbit: The Battle of the Five Armies</td>\n",
       "      <td>The Princess Bride</td>\n",
       "      <td>The Princess Bride</td>\n",
       "    </tr>\n",
       "    <tr>\n",
       "      <th>3</th>\n",
       "      <td>Klaus</td>\n",
       "      <td>Klaus</td>\n",
       "      <td>The Hobbit: The Battle of the Five Armies</td>\n",
       "      <td>The Hobbit: The Battle of the Five Armies</td>\n",
       "    </tr>\n",
       "    <tr>\n",
       "      <th>4</th>\n",
       "      <td>The Hobbit: The Battle of the Five Armies</td>\n",
       "      <td>The Goonies</td>\n",
       "      <td>The Hobbit: The Battle of the Five Armies</td>\n",
       "      <td>The Hobbit: The Desolation of Smaug</td>\n",
       "    </tr>\n",
       "    <tr>\n",
       "      <th>5</th>\n",
       "      <td>The Goonies</td>\n",
       "      <td>The Hobbit: An Unexpected Journey</td>\n",
       "      <td>The Hobbit: An Unexpected Journey</td>\n",
       "      <td>The Lord of the Rings: The Two Towers</td>\n",
       "    </tr>\n",
       "    <tr>\n",
       "      <th>6</th>\n",
       "      <td>The Hobbit: The Desolation of Smaug</td>\n",
       "      <td>Labyrinth</td>\n",
       "      <td>The Lord of the Rings: The Fellowship of the Ring</td>\n",
       "      <td>The Lord of the Rings: The Return of the King</td>\n",
       "    </tr>\n",
       "    <tr>\n",
       "      <th>7</th>\n",
       "      <td>The Hobbit: An Unexpected Journey</td>\n",
       "      <td>The Lord of the Rings: The Return of the King</td>\n",
       "      <td>The Hobbit: The Desolation of Smaug</td>\n",
       "      <td>Guardians of the Galaxy Vol. 2</td>\n",
       "    </tr>\n",
       "    <tr>\n",
       "      <th>8</th>\n",
       "      <td>The Hobbit: The Battle of the Five Armies</td>\n",
       "      <td>Frozen II</td>\n",
       "      <td>The Lord of the Rings: The Fellowship of the Ring</td>\n",
       "      <td>The Last Samurai</td>\n",
       "    </tr>\n",
       "  </tbody>\n",
       "</table>\n",
       "</div>"
      ],
      "text/plain": [
       "                                      quantized solr  \\\n",
       "0                The Hobbit: The Desolation of Smaug   \n",
       "1  The Lord of the Rings: The Fellowship of the Ring   \n",
       "2                The Hobbit: The Desolation of Smaug   \n",
       "3                                              Klaus   \n",
       "4          The Hobbit: The Battle of the Five Armies   \n",
       "5                                        The Goonies   \n",
       "6                The Hobbit: The Desolation of Smaug   \n",
       "7                  The Hobbit: An Unexpected Journey   \n",
       "8          The Hobbit: The Battle of the Five Armies   \n",
       "\n",
       "                                     quantized numpy  \\\n",
       "0                The Hobbit: The Desolation of Smaug   \n",
       "1  The Lord of the Rings: The Fellowship of the Ring   \n",
       "2          The Hobbit: The Battle of the Five Armies   \n",
       "3                                              Klaus   \n",
       "4                                        The Goonies   \n",
       "5                  The Hobbit: An Unexpected Journey   \n",
       "6                                          Labyrinth   \n",
       "7      The Lord of the Rings: The Return of the King   \n",
       "8                                          Frozen II   \n",
       "\n",
       "                                        dotprod solr  \\\n",
       "0  The Lord of the Rings: The Fellowship of the Ring   \n",
       "1                  The Hobbit: An Unexpected Journey   \n",
       "2                                 The Princess Bride   \n",
       "3          The Hobbit: The Battle of the Five Armies   \n",
       "4          The Hobbit: The Battle of the Five Armies   \n",
       "5                  The Hobbit: An Unexpected Journey   \n",
       "6  The Lord of the Rings: The Fellowship of the Ring   \n",
       "7                The Hobbit: The Desolation of Smaug   \n",
       "8  The Lord of the Rings: The Fellowship of the Ring   \n",
       "\n",
       "                                       dotprod numpy  \n",
       "0  The Lord of the Rings: The Fellowship of the Ring  \n",
       "1                  The Hobbit: An Unexpected Journey  \n",
       "2                                 The Princess Bride  \n",
       "3          The Hobbit: The Battle of the Five Armies  \n",
       "4                The Hobbit: The Desolation of Smaug  \n",
       "5              The Lord of the Rings: The Two Towers  \n",
       "6      The Lord of the Rings: The Return of the King  \n",
       "7                     Guardians of the Galaxy Vol. 2  \n",
       "8                                   The Last Samurai  "
      ]
     },
     "execution_count": 7,
     "metadata": {},
     "output_type": "execute_result"
    }
   ],
   "source": [
    "query = \"The Hobbit\"\n",
    "engine_scores = engine_rankings(query)\n",
    "numpy_scores = numpy_rankings(query)\n",
    "results = pandas.DataFrame(zip(engine_scores[\"binary_results\"], numpy_scores[\"binary_results\"],\n",
    "                          engine_scores[\"full_results\"], numpy_scores[\"full_results\"]),\n",
    "                          columns=[\"quantized solr\", \"quantized numpy\",\n",
    "                                   \"dotprod solr\", \"dotprod numpy\"])\n",
    "print(f\"Search engine binary search time: {engine_scores['binary_query_time']}\")\n",
    "print(f\"Search engine full search time: {engine_scores['full_query_time']}\")\n",
    "print(f\"Numpy binary search time: {numpy_scores['binary_query_time']}\")\n",
    "print(f\"Numpy full search time: {numpy_scores['full_query_time']}\")\n",
    "results"
   ]
  },
  {
   "cell_type": "code",
   "execution_count": 8,
   "metadata": {},
   "outputs": [
    {
     "name": "stderr",
     "output_type": "stream",
     "text": [
      "100%|██████████| 25/25 [01:01<00:00,  2.44s/it]\n"
     ]
    },
    {
     "name": "stdout",
     "output_type": "stream",
     "text": [
      "Average quantized recall for numpy: 0.3250562238049114\n"
     ]
    },
    {
     "name": "stderr",
     "output_type": "stream",
     "text": [
      "100%|██████████| 25/25 [00:01<00:00, 16.52it/s]"
     ]
    },
    {
     "name": "stdout",
     "output_type": "stream",
     "text": [
      "Average quantized recall for engine: 0.5765688793490651\n"
     ]
    },
    {
     "name": "stderr",
     "output_type": "stream",
     "text": [
      "\n"
     ]
    }
   ],
   "source": [
    "random.seed(1234)\n",
    "\n",
    "titles = column_list(movie_dataframe, \"title\")\n",
    "random.shuffle(titles)\n",
    "\n",
    "def mean_accuracy(f):\n",
    "    return numpy.mean([f(q)[\"recall\"] for q in tqdm.tqdm(titles[:25])])\n",
    "\n",
    "print(f\"Average quantized recall for numpy: {mean_accuracy(numpy_rankings)}\")\n",
    "print(f\"Average quantized recall for engine: {mean_accuracy(engine_rankings)}\")"
   ]
  }
 ],
 "metadata": {
  "kernelspec": {
   "display_name": "Python 3 (ipykernel)",
   "language": "python",
   "name": "python3"
  },
  "language_info": {
   "codemirror_mode": {
    "name": "ipython",
    "version": 3
   },
   "file_extension": ".py",
   "mimetype": "text/x-python",
   "name": "python",
   "nbconvert_exporter": "python",
   "pygments_lexer": "ipython3",
   "version": "3.10.9"
  }
 },
 "nbformat": 4,
 "nbformat_minor": 2
}
