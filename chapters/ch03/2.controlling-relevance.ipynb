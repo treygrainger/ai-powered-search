{
 "cells": [
  {
   "cell_type": "markdown",
   "metadata": {},
   "source": [
    "## [Chapter 3] Controlling Relevance\n",
    "\n",
    "In the [last notebook](1.vectors-and-text-similarity.ipynb), we introduced how queries and documents can be represented as vectors, how cosine similarity can be used as a relevance function to compare queries and documents, and how tf-idf ranking can be used to create a feature weight that balances both strength of occurrence (TF) and significance of a term (IDF) for each term in a term-based vector.\n",
    "\n",
    "In this notebook, we will show how a full relevance function can be specified and controlled in a search engine (Apache Solr). Let's start with showing off the default similarity calculation leveraged by all Lucene-based search engines: BM25\n",
    "\n",
    "### BM25 (Best Match Okapi 25)\n",
    "The BM25 algorithm is the default similarity function in Apache Lucene, Apache Solr, Elasticsearch, Lucidworks Fusion, and other Lucene-based search engines. The algorithm leverages TF and IDF, but also incorporates many additional configurable options. The full BM25 calculation is found in Figure 3.7 in the book.\n",
    "\n",
    "Instead of reimplementing the full BM25 algorithm in Python, let's go ahead and switch over to using our search engine (Apache Solr) and see how it performs the calculation."
   ]
  },
  {
   "cell_type": "markdown",
   "metadata": {},
   "source": [
    "### Creating our Collection"
   ]
  },
  {
   "cell_type": "markdown",
   "metadata": {},
   "source": [
    "### Listing 3.9"
   ]
  },
  {
   "cell_type": "code",
   "execution_count": 1,
   "metadata": {},
   "outputs": [
    {
     "name": "stdout",
     "output_type": "stream",
     "text": [
      "<class 'engines.weaviate.WeaviateEngine.WeaviateEngine'>\n"
     ]
    }
   ],
   "source": [
    "from aips import set_engine, get_engine\n",
    "\n",
    "set_engine(\"weaviate\")\n",
    "engine = get_engine()\n",
    "print(type(engine))"
   ]
  },
  {
   "cell_type": "code",
   "execution_count": 4,
   "metadata": {},
   "outputs": [
    {
     "name": "stdout",
     "output_type": "stream",
     "text": [
      "{'query': '{Get {\\n  Products(\\n    limit: 10\\n    bm25: {\\n      query: \"ipod\"\\n    }\\n  ) {\\n    upc\\n    name\\n    short_description\\n    long_description\\n    _additional {\\n      score\\n    }\\n  }\\n}}'}\n"
     ]
    },
    {
     "data": {
      "text/plain": [
       "{'data': {'Get': {'Products': [{'_additional': {'score': '1.5809941'},\n",
       "     'long_description': 'This USB power supply is compatible with many USB-enabled digital music players and is ideal for travel. The folding swing plug can be stored easily.',\n",
       "     'name': 'Sony - USB Power Supply',\n",
       "     'short_description': 'Compatible with Apple&#xAE; iPod&#xAE; nano, iPod classic and 4th- and 5th-generation iPod digital music players; for travel use; folding swing plug',\n",
       "     'upc': '27242777996'},\n",
       "    {'_additional': {'score': '1.5565579'},\n",
       "     'long_description': 'Enjoy the media on your iPod on the big screen with this composite A/V cable that lets you view photos and video clips on your TV.51.99',\n",
       "     'name': 'Apple&#xAE; - Composite A/V Cable for Apple&#xAE; iPod&#x2122;',\n",
       "     'short_description': 'Compatible with 3rd-generation iPod nano, iPod photo, iPod video, iPod classic and iPod touch; audio and USB connectivity options51.99',\n",
       "     'upc': '885909271139'},\n",
       "    {'_additional': {'score': '1.554339'},\n",
       "     'long_description': 'These earbuds allow you to go beyond just listening to music.  Control music and video playback or record voice memos with the included remote and microphone.',\n",
       "     'name': 'Apple&#xAE; - Earbuds for Select Apple&#xAE; iPod&#xAE; Models',\n",
       "     'short_description': 'Compatible with 4th-generation iPod nano, 120GB iPod classic and 2nd-generation iPod touch; remote for controlling music and video playback; microphone for recording voice memos',\n",
       "     'upc': '885909412006'},\n",
       "    {'_additional': {'score': '1.4608475'},\n",
       "     'long_description': 'Securely attach your devices to your dashboard with this vent clip mount that features multiple slide-on adapters for convenient operation of your devices from GPS units to satellite radio receivers.',\n",
       "     'name': 'IQ Smart Solutions - Vent Clip Dashboard Mount - Black',\n",
       "     'short_description': 'Designed for use with select GPS, satellite radio, Apple&#xAE; iPod&#xAE;, iPhone&#xAE; and iPod touch devices; UV -resistant molded plastic; wire management; belt adapter for select iPod and iPhone devices',\n",
       "     'upc': '660715220102'},\n",
       "    {'_additional': {'score': '1.4249059'},\n",
       "     'long_description': ' ',\n",
       "     'name': 'Lucy Show [2 Discs] [iPod Ready] - DVD',\n",
       "     'short_description': ' ',\n",
       "     'upc': '18111928694'},\n",
       "    {'_additional': {'score': '1.4247564'},\n",
       "     'long_description': 'Effectively place you devices on your windshield with this suction mount that features UV-resistant molded plastic for durability and multiple belt adapters that allow for easy transfer from your belt to your car.',\n",
       "     'name': 'IQ Smart Solutions - Windshield Suction Mount - Black',\n",
       "     'short_description': 'Designed for use with select GPS, Apple&#xAE; iPod&#xAE;, iPhone&#xAE; and iPod touch devices; suction mounting; UV -resistant molded plastic; wire management; adapter clip; belt adapter for select iPod and iPhone devices',\n",
       "     'upc': '660715219953'},\n",
       "    {'_additional': {'score': '1.3862101'},\n",
       "     'long_description': 'This Apple iPod cable allows you to connect your 3rd-generation iPod shuffle to your PC or Apple USB power adapter.',\n",
       "     'name': 'Apple - USB Charge/Sync Cable for Apple&#xAE; iPod&#xAE; shuffle',\n",
       "     'short_description': 'Compatible with 3rd-generation iPod shuffle; USB connectivity',\n",
       "     'upc': '885909300549'},\n",
       "    {'_additional': {'score': '1.3265741'},\n",
       "     'long_description': ' ',\n",
       "     'name': 'Real Cowboy Movies [2 Discs] [iPod Ready] - DVD',\n",
       "     'short_description': ' ',\n",
       "     'upc': '18111928090'},\n",
       "    {'_additional': {'score': '1.3007636'},\n",
       "     'long_description': 'Enjoy audio, video and images from your iPod or iPhone through your home theater system with this dock for iPod and iPhone that features compatibility with most Yamaha A/V receivers for convenient use. The dock also works as a charger for your iPod.',\n",
       "     'name': 'Yamaha - Apple&#xAE; iPod&#xAE; and iPhone&#xAE; Dock for Most Yamaha A/V Receivers',\n",
       "     'short_description': 'Compatible with select iPod and iPhone models; charges your iPod; plays audio, video and lets you view images from your iPod or iPhone through a Yamaha receiver',\n",
       "     'upc': '27108936499'},\n",
       "    {'_additional': {'score': '1.2750891'},\n",
       "     'long_description': 'This 8-channel mixer is compatible with Apple&#xAE; iPod&#xAE; classic, 2nd- and 3rd-generation iPod nano and 5th-generation iPod video and features a USB interface for an easy connection to your computer.',\n",
       "     'name': 'Alesis - Multimix 8-Channel USB 2.0 Mixer',\n",
       "     'short_description': 'From our expanded online assortment; compatible with Apple&#xAE; iPod&#xAE; classic, 2nd- and 3rd-generation iPod nano and 5th-generation iPod video; 4 high-gain microphone/line preamps; 100 on-board 28-bit effects',\n",
       "     'upc': '694318011294'}]}}}"
      ]
     },
     "metadata": {},
     "output_type": "display_data"
    }
   ],
   "source": [
    "from graphql_query import Query, Argument, Field, Operation, Directive\n",
    "from engines.weaviate.config import WEAVIATE_HOST, WEAVIATE_PORT, WEAVIATE_URL\n",
    "import graphql_query\n",
    "import requests\n",
    "\n",
    "query = \"\\\"ipod\\\"\"\n",
    "args = [Argument(name=\"limit\", value=10),\n",
    "        Argument(name=\"bm25\", value=[Argument(name=\"query\", value=query)])]\n",
    "score = Field(name=\"_additional\", fields=[\"score\"])\n",
    "request = Operation(type=\"Get\", queries=[Query(name=\"Products\", arguments=args,\n",
    "                                               fields=[\"upc\", \"name\", \"short_description\",\n",
    "                                                       \"long_description\", score])])\n",
    "gql_query = \"{\" + request.render() + \"}\"\n",
    "request = {\"query\": gql_query}\n",
    "\n",
    "print(request)\n",
    "response = requests.post(f\"{WEAVIATE_URL}/v1/graphql\", json=request).json()\n",
    "display(response)"
   ]
  },
  {
   "cell_type": "code",
   "execution_count": 3,
   "metadata": {},
   "outputs": [
    {
     "name": "stdout",
     "output_type": "stream",
     "text": [
      "<class 'engines.weaviate.WeaviateEngine.WeaviateEngine'>\n",
      "Wiping \"products\" collection\n",
      "Creating \"products\" collection\n",
      "Schema: {\n",
      "  \"class\": \"products\",\n",
      "  \"properties\": [\n",
      "    {\n",
      "      \"name\": \"upc\",\n",
      "      \"dataType\": [\n",
      "        \"text\"\n",
      "      ]\n",
      "    },\n",
      "    {\n",
      "      \"name\": \"_text_\",\n",
      "      \"dataType\": [\n",
      "        \"text\"\n",
      "      ]\n",
      "    },\n",
      "    {\n",
      "      \"name\": \"name_ngram\",\n",
      "      \"dataType\": [\n",
      "        \"text\"\n",
      "      ]\n",
      "    },\n",
      "    {\n",
      "      \"name\": \"name_fuzzy\",\n",
      "      \"dataType\": [\n",
      "        \"text\"\n",
      "      ]\n",
      "    },\n",
      "    {\n",
      "      \"name\": \"short_description_ngram\",\n",
      "      \"dataType\": [\n",
      "        \"text\"\n",
      "      ]\n",
      "    },\n",
      "    {\n",
      "      \"name\": \"name\",\n",
      "      \"dataType\": [\n",
      "        \"text\"\n",
      "      ]\n",
      "    },\n",
      "    {\n",
      "      \"name\": \"short_description\",\n",
      "      \"dataType\": [\n",
      "        \"text\"\n",
      "      ]\n",
      "    },\n",
      "    {\n",
      "      \"name\": \"long_description\",\n",
      "      \"dataType\": [\n",
      "        \"text\"\n",
      "      ]\n",
      "    },\n",
      "    {\n",
      "      \"name\": \"manufacturer\",\n",
      "      \"dataType\": [\n",
      "        \"text\"\n",
      "      ]\n",
      "    },\n",
      "    {\n",
      "      \"name\": \"has_promotion\",\n",
      "      \"dataType\": [\n",
      "        \"boolean\"\n",
      "      ]\n",
      "    }\n",
      "  ]\n",
      "}\n",
      "Status: <Response [200]>\n",
      "Response: <Response [200]>\n"
     ]
    },
    {
     "data": {
      "text/plain": [
       "<engines.weaviate.WeaviateCollection.WeaviateCollection at 0x7fa50c56beb0>"
      ]
     },
     "execution_count": 3,
     "metadata": {},
     "output_type": "execute_result"
    }
   ],
   "source": [
    "engine = get_engine()\n",
    "print(type(engine))\n",
    "engine.create_collection(\"products\", log=True) #Upper cases collection name?"
   ]
  },
  {
   "cell_type": "code",
   "execution_count": 4,
   "metadata": {},
   "outputs": [
    {
     "data": {
      "text/plain": [
       "<Response [200]>"
      ]
     },
     "execution_count": 4,
     "metadata": {},
     "output_type": "execute_result"
    }
   ],
   "source": [
    "name = \"Sphere\" \n",
    "#!pip install requests\n",
    "import requests\n",
    "requests.delete(f\"http://aips-weaviate:8090/v1/schema/Products\")"
   ]
  },
  {
   "cell_type": "code",
   "execution_count": 5,
   "metadata": {},
   "outputs": [
    {
     "name": "stdout",
     "output_type": "stream",
     "text": [
      "Wiping \"cat_in_the_hat\" collection\n",
      "Creating \"cat_in_the_hat\" collection\n",
      "Schema: {\n",
      "  \"class\": \"cat_in_the_hat\",\n",
      "  \"properties\": [\n",
      "    {\n",
      "      \"name\": \"kid\",\n",
      "      \"dataType\": [\n",
      "        \"text\"\n",
      "      ]\n",
      "    },\n",
      "    {\n",
      "      \"name\": \"title\",\n",
      "      \"dataType\": [\n",
      "        \"text\"\n",
      "      ]\n",
      "    },\n",
      "    {\n",
      "      \"name\": \"description\",\n",
      "      \"dataType\": [\n",
      "        \"text\"\n",
      "      ]\n",
      "    }\n",
      "  ]\n",
      "}\n",
      "Status: <Response [200]>\n",
      "Response: <Response [200]>\n"
     ]
    }
   ],
   "source": [
    "from aips import *\n",
    "\n",
    "engine = get_engine()\n",
    "collection = engine.create_collection(\"cat_in_the_hat\", log=True)"
   ]
  },
  {
   "cell_type": "markdown",
   "metadata": {},
   "source": [
    "### Add some documents"
   ]
  },
  {
   "cell_type": "markdown",
   "metadata": {},
   "source": [
    "### Listing 3.10"
   ]
  },
  {
   "cell_type": "code",
   "execution_count": 6,
   "metadata": {},
   "outputs": [
    {
     "name": "stdout",
     "output_type": "stream",
     "text": [
      "Successfully written 3 documents\n"
     ]
    }
   ],
   "source": [
    "docs = [\n",
    "    {\n",
    "        \"kid\": \"doc1\",\n",
    "        \"title\": \"Worst\",\n",
    "        \"description\": \"The interesting thing is that the person in the wrong made the right decision in the end.\"\n",
    "    },\n",
    "    {\n",
    "        \"kid\": \"doc2\",\n",
    "        \"title\": \"Best\",\n",
    "        \"description\": \"My favorite book is the cat in the hat, which is about a crazy cat who breaks into a house and creates a crazy afternoon for two kids.\"\n",
    "        \n",
    "    },\n",
    "    {\n",
    "        \"kid\": \"doc3\",\n",
    "        \"title\": \"Okay\",\n",
    "        \"description\": \"My neighbors let the stray cat stay in their garage, which resulted in my favorite hat that I let them borrow being ruined.\"        \n",
    "    }\n",
    "]\n",
    "collection = engine.get_collection(\"cat_in_the_hat\")\n",
    "response = collection.add_documents(docs)\n",
    "engine.print_status(response)"
   ]
  },
  {
   "cell_type": "markdown",
   "metadata": {},
   "source": [
    "### Inspecting BM25 Score\n",
    "Now, let's execute a query for `the cat in the hat`, and see how each document scores using the BM25 similarity calculation:"
   ]
  },
  {
   "cell_type": "markdown",
   "metadata": {},
   "source": [
    "### Listing 3.11"
   ]
  },
  {
   "cell_type": "code",
   "execution_count": 7,
   "metadata": {
    "scrolled": false
   },
   "outputs": [
    {
     "name": "stdout",
     "output_type": "stream",
     "text": [
      "query Get {\n",
      "  products(\n",
      "    limit: 10\n",
      "    bm25: {\n",
      "      query: some query\n",
      "    }\n",
      "  ) {\n",
      "    id\n",
      "    title\n",
      "    description\n",
      "    _additional {\n",
      "      score\n",
      "    }\n",
      "  }\n",
      "}\n"
     ]
    },
    {
     "ename": "NameError",
     "evalue": "name 'WEAVIATE_URL' is not defined",
     "output_type": "error",
     "traceback": [
      "\u001b[0;31m---------------------------------------------------------------------------\u001b[0m",
      "\u001b[0;31mNameError\u001b[0m                                 Traceback (most recent call last)",
      "Cell \u001b[0;32mIn[7], line 7\u001b[0m\n\u001b[1;32m      1\u001b[0m query \u001b[38;5;241m=\u001b[39m \u001b[38;5;124m\"\u001b[39m\u001b[38;5;124mthe cat in the hat\u001b[39m\u001b[38;5;124m\"\u001b[39m\n\u001b[1;32m      2\u001b[0m request \u001b[38;5;241m=\u001b[39m {\u001b[38;5;124m\"\u001b[39m\u001b[38;5;124mquery\u001b[39m\u001b[38;5;124m\"\u001b[39m: query,\n\u001b[1;32m      3\u001b[0m            \u001b[38;5;124m\"\u001b[39m\u001b[38;5;124mquery_fields\u001b[39m\u001b[38;5;124m\"\u001b[39m: [\u001b[38;5;124m\"\u001b[39m\u001b[38;5;124mdescription\u001b[39m\u001b[38;5;124m\"\u001b[39m],\n\u001b[1;32m      4\u001b[0m            \u001b[38;5;124m\"\u001b[39m\u001b[38;5;124mreturn_fields\u001b[39m\u001b[38;5;124m\"\u001b[39m: [\u001b[38;5;124m\"\u001b[39m\u001b[38;5;124mid\u001b[39m\u001b[38;5;124m\"\u001b[39m, \u001b[38;5;124m\"\u001b[39m\u001b[38;5;124mtitle\u001b[39m\u001b[38;5;124m\"\u001b[39m, \u001b[38;5;124m\"\u001b[39m\u001b[38;5;124mdescription\u001b[39m\u001b[38;5;124m\"\u001b[39m, \u001b[38;5;124m\"\u001b[39m\u001b[38;5;124mscore\u001b[39m\u001b[38;5;124m\"\u001b[39m],\n\u001b[1;32m      5\u001b[0m            \u001b[38;5;124m\"\u001b[39m\u001b[38;5;124mexplain\u001b[39m\u001b[38;5;124m\"\u001b[39m: \u001b[38;5;28;01mTrue\u001b[39;00m}\n\u001b[0;32m----> 7\u001b[0m response \u001b[38;5;241m=\u001b[39m \u001b[43mcollection\u001b[49m\u001b[38;5;241;43m.\u001b[39;49m\u001b[43msearch\u001b[49m\u001b[43m(\u001b[49m\u001b[38;5;241;43m*\u001b[39;49m\u001b[38;5;241;43m*\u001b[39;49m\u001b[43mrequest\u001b[49m\u001b[43m)\u001b[49m\n\u001b[1;32m      9\u001b[0m display_search(query, response[\u001b[38;5;124m\"\u001b[39m\u001b[38;5;124mdocs\u001b[39m\u001b[38;5;124m\"\u001b[39m])\n",
      "File \u001b[0;32m~/engines/weaviate/WeaviateCollection.py:76\u001b[0m, in \u001b[0;36mWeaviateCollection.search\u001b[0;34m(self, **search_args)\u001b[0m\n\u001b[1;32m     74\u001b[0m \u001b[38;5;28;01mdef\u001b[39;00m \u001b[38;5;21msearch\u001b[39m(\u001b[38;5;28mself\u001b[39m, \u001b[38;5;241m*\u001b[39m\u001b[38;5;241m*\u001b[39msearch_args):\n\u001b[1;32m     75\u001b[0m     request \u001b[38;5;241m=\u001b[39m \u001b[38;5;28mself\u001b[39m\u001b[38;5;241m.\u001b[39mtransform_request(\u001b[38;5;241m*\u001b[39m\u001b[38;5;241m*\u001b[39msearch_args)\n\u001b[0;32m---> 76\u001b[0m     search_response \u001b[38;5;241m=\u001b[39m \u001b[38;5;28;43mself\u001b[39;49m\u001b[38;5;241;43m.\u001b[39;49m\u001b[43mnative_search\u001b[49m\u001b[43m(\u001b[49m\u001b[43mrequest\u001b[49m\u001b[38;5;241;43m=\u001b[39;49m\u001b[43mrequest\u001b[49m\u001b[43m)\u001b[49m\n\u001b[1;32m     77\u001b[0m     \u001b[38;5;28;01mreturn\u001b[39;00m \u001b[38;5;28mself\u001b[39m\u001b[38;5;241m.\u001b[39mtransform_response(search_response)\n",
      "File \u001b[0;32m~/engines/weaviate/WeaviateCollection.py:72\u001b[0m, in \u001b[0;36mWeaviateCollection.native_search\u001b[0;34m(self, request, data)\u001b[0m\n\u001b[1;32m     71\u001b[0m \u001b[38;5;28;01mdef\u001b[39;00m \u001b[38;5;21mnative_search\u001b[39m(\u001b[38;5;28mself\u001b[39m, request\u001b[38;5;241m=\u001b[39m\u001b[38;5;28;01mNone\u001b[39;00m, data\u001b[38;5;241m=\u001b[39m\u001b[38;5;28;01mNone\u001b[39;00m):\n\u001b[0;32m---> 72\u001b[0m     \u001b[38;5;28;01mreturn\u001b[39;00m requests\u001b[38;5;241m.\u001b[39mpost(\u001b[38;5;124mf\u001b[39m\u001b[38;5;124m\"\u001b[39m\u001b[38;5;132;01m{\u001b[39;00m\u001b[43mWEAVIATE_URL\u001b[49m\u001b[38;5;132;01m}\u001b[39;00m\u001b[38;5;124m/\u001b[39m\u001b[38;5;132;01m{\u001b[39;00m\u001b[38;5;28mself\u001b[39m\u001b[38;5;241m.\u001b[39mname\u001b[38;5;132;01m}\u001b[39;00m\u001b[38;5;124m/_search\u001b[39m\u001b[38;5;124m\"\u001b[39m, json\u001b[38;5;241m=\u001b[39mrequest, data\u001b[38;5;241m=\u001b[39mdata)\u001b[38;5;241m.\u001b[39mjson()\n",
      "\u001b[0;31mNameError\u001b[0m: name 'WEAVIATE_URL' is not defined"
     ]
    }
   ],
   "source": [
    "query = \"the cat in the hat\"\n",
    "request = {\"query\": query,\n",
    "           \"query_fields\": [\"description\"],\n",
    "           \"return_fields\": [\"id\", \"title\", \"description\", \"score\"],\n",
    "           \"explain\": True}\n",
    "\n",
    "response = collection.search(**request)\n",
    "\n",
    "display_search(query, response[\"docs\"])"
   ]
  },
  {
   "cell_type": "markdown",
   "metadata": {},
   "source": [
    "While the BM25 calculation is much more complex than the TF-IDF feature weight calculations we saw in the [last notebook](ch3-vectors-and-text-similarity.ipynb), it is fundamentally still derived from TF-IDF at it's core. As such, you'll notice that the search results actually return in the exact same order as our TF-IDF calculations from the last notebook:\n",
    "\n",
    "<pre>\n",
    "doc2: 0.6823196\n",
    "doc3: 0.6285005\n",
    "doc1: 0.3132525\n",
    "</pre>\n",
    "\n",
    "Our query for *the cat in the hat* can still very much be thought of as a vector of the BM25 scores for each of the terms: [\"the\", \"cat\", \"in\", \"the\", \"hat\"].\n",
    "\n",
    "What may not be obvious, however, is that the feature weights for each of these features are actually just overridable functions. For example, this query could alternatively be expressed as the vector:\n",
    "\n",
    "<pre>\n",
    "[ query(\"the\"), query(\"cat\"), query(\"in\"), query(\"the\"), query(\"hat\") ]\n",
    "</pre>\n",
    "\n",
    "In Solr syntax, this would be:\n",
    "\n",
    "<pre>\n",
    "{\"query\": '{!func}query(\"the\") {!func}query(\"cat\") {!func}query(\"in\") {!func}query(\"the\") {!func}query(\"hat\")'}\n",
    "</pre>\n",
    "\n",
    "For that query, we get the following:"
   ]
  },
  {
   "cell_type": "markdown",
   "metadata": {},
   "source": [
    "### Listing 3.12"
   ]
  },
  {
   "cell_type": "code",
   "execution_count": null,
   "metadata": {},
   "outputs": [
    {
     "data": {
      "text/html": [
       "<strong>Query</strong>: <i>{!func}query(\"the\") {!func}query(\"cat\") {!func}query(\"in\") {!func}query(\"the\") {!func}query(\"hat\")</i><br/><br/><strong>Results:</strong>"
      ],
      "text/plain": [
       "<IPython.core.display.HTML object>"
      ]
     },
     "metadata": {},
     "output_type": "display_data"
    },
    {
     "data": {
      "text/html": [
       "[{'id': 'doc2',<br/>'title': 'Best',<br/>'score': 0.68231964}, {'id': 'doc3',<br/>'title': 'Okay',<br/>'score': 0.62850046}, {'id': 'doc1',<br/>'title': 'Worst',<br/>'score': 0.3132525}]"
      ],
      "text/plain": [
       "<IPython.core.display.HTML object>"
      ]
     },
     "metadata": {},
     "output_type": "display_data"
    }
   ],
   "source": [
    "query = '{!func}query(\"the\") {!func}query(\"cat\") {!func}query(\"in\") {!func}query(\"the\") {!func}query(\"hat\")'\n",
    "request = {\"query\": query,\n",
    "           \"return_fields\": [\"id\", \"title\", \"score\"],\n",
    "           \"query_fields\": \"description\"}\n",
    "\n",
    "response = collection.search(**request)\n",
    "\n",
    "display_search(query, response[\"docs\"])"
   ]
  },
  {
   "cell_type": "markdown",
   "metadata": {},
   "source": [
    "The scores are exactly the same! Not only that, but once we realize that every term in a query is nothing more than a configurable scoring function, it opens up tremendous possibilities for manipulating that scoring function.\n",
    "\n",
    "### Functions, Functions, Everywhere!\n",
    "Now that we've seen that the relevance score for each term in our queries is simply a function operating on that term to generate a feature weight, the next logical question is \"what OTHER kinds of functions can I use in my queries?\".\n",
    "\n",
    "We've already encountered the *query* function, which is effectively the default calculation that executes whenever no explicit function is specified, and which uses the BM25 similarity algorithm by default.\n",
    "\n",
    "But what if we want to consider some other features in our scoring calculation, perhaps some that are not text-based?\n",
    "\n",
    "Here is a partial list of common relevance techniques:\n",
    "- Geospatial Boosting (documents near the user running the query should rank higher)\n",
    "- Date Boosting (Newer documents should get a higher relevancy boost)\n",
    "- Popularity Boosting (Documents which are more popular should get a higher relevancy boost)\n",
    "- Field Boosting (Terms matching in certain fields should get a higher weight than in other fields)\n",
    "- Category Boosting (Documents in categories related to query terms should get a higher relevancy boost)\n",
    "- Phrase Boosting (documents matching multi-term phrases in the query should rank higher than those only matching the words separately)\n",
    "- ...\n",
    "\n",
    "Many of these techniques are built into specific query parsers in Solr, either through query syntax or through query parser options. For example, field boosting can be accomplished through the `qf` parameter on the `edismax` query parser:\n",
    "\n",
    "  <pre>\n",
    "  {\"query\": \"the cat in the hat\",\n",
    "   <b>\"fields\": [\"title^10\", \"description^2.5\"]</b>,\n",
    "   <b>\"query_parser\": \"edismax\"</b>}  \n",
    "\n",
    "  {\"query\": \"the cat in the hat\",\n",
    "   \"params\": {\"defType\": \"edismax\",\n",
    "              \"qf\": \"title^10 description^2.5\"}}\n",
    "  </pre>\n",
    "\n",
    "Boosting on full phrase matching, on two-word phrases, and on three-word phrases is also a native feature of the edismax query parser:\n",
    "\n",
    "- Boost docs containing the exact phrase \"the cat in the hat\" in the `title` field:\n",
    "\n",
    "  <pre>\n",
    "  {\"query\": \"the cat in the hat\",\n",
    "   \"params\": {\"defType\": \"edismax\",\n",
    "              \"qf\": \"title description\",\n",
    "              <b>\"pf\": \"title\"</b>}}\n",
    "  </pre>\n",
    "\n",
    "- Boost docs containing \"the cat\", \"cat in\", \"in the\", or \"the hat\" in the `title` or `description` field:\n",
    "\n",
    "  <pre>\n",
    "  {\"query\": \"the cat in the hat\",\n",
    "   \"params\": {\"defType\": \"edismax\",\n",
    "              \"qf\": \"title description\",\n",
    "              <b>\"pf2\": \"title description\"</b>}}\n",
    "  </pre>\n",
    "\n",
    "- Boost docs containing \"the cat in\" or \"in the hat\" in the `description` field:\n",
    "\n",
    "  <pre>\n",
    "  {\"query\": \"the cat in the hat\",\n",
    "   \"params\": {\"defType\": \"edismax\",\n",
    "              \"qf\": \"title description\",\n",
    "              <b>\"pf3\": \"description\"</b>}}\n",
    "  </pre>\n",
    "\n",
    "\n",
    "Many of the relevancy boosting techniques will require constructing your own features leveraging function queries, however. For example, if we wanted to create a query that did nothing more than boost the relevance ranking of documents geographically closest to the user running the search (relevance based on distance away), we could issue the following query:\n",
    "\n",
    "  <pre>\n",
    "  {\"query\": \"*\",\n",
    "   \"sort\": \"<b>geodist(location, $user_latitude, $user_longitude) asc</b>\",\n",
    "   \"params\": {\"user_latitude\": 33.748,\n",
    "              \"user_longitude\": -84.39}}\n",
    "  </pre>\n",
    "\n",
    "The above is using the `sort` parameter to strictly order documents by the calculated value from the `geodist` function. This works great if we want to order results by a single feature, but what if we want to construct a more nuanced sort based upon multiple features? To accomplish this, we will update our query to include each of these function in each document's relevance calculation, and then sort by the relevance score:\n",
    "\n",
    "  <pre>\n",
    "  {\"query\": <b>\"{!func}scale(query($keywords),0,25) \n",
    "                {!func}recip(geodist($lat_long_field,$user_latitude,$user_longitude),1,25,1)\n",
    "                {!func}recip(ms(NOW/HOUR,modify_date),3.16e-11,25,1)\n",
    "                {!func}scale(popularity,0,25)\"</b>,\n",
    "   \"params\": {\"keywords\": \"basketball\",\n",
    "              \"lat_long_field\": \"location\",\n",
    "              \"user_latitude\": 33.748,\n",
    "              \"user_longitude\" -84.391}}\n",
    "  </pre>\n",
    "\n",
    "The above query does a few interesting things:\n",
    "- It constructs a query vector containing four features: BM25 Keywords relevance score (higher is better), geo distance (lower is better), publication date (newer is better), and popularity (higher is better).\n",
    "- Each of the feature values is scaled between 0 and 25 so that they are all comparable, with the best keyword/geo/publication date/popularity score getting a score of 25, and the worst getting a score close to zero.\n",
    "- Thus a \"perfect score\" would add up to 100 (25 + 25 + 25 + 25), and the worst score would be approximately 0\n",
    "- Since the relative contribution of 25 is specified as part of the query for each feature, we can easily change the weights of any feature on the fly to give preference to certain features in the final relevance calculation.\n",
    "\n",
    "With the above query, we have thus fully taken the relevance function into our own hand by modeling our relevance features and giving them weights. While this is very powerful, it still requires significant manual effort and testing to figure out which features matter for our domain, and what their relative weights should be. In chapter ? we will walk through building Machine-learned Ranking models to automatically make those decisions for us (a process known as \"Learning to Rank\"). For now, however, our goal was to ensure you understood the mechanics for modeling features in our query vectors, and controlling their weights. \n",
    "\n",
    "If you'd like to learn more about how to utilize function queries, I recommend reviewing chapter 7 of [Solr in Action](http://solrinaction.com), \"Complex Ranking Functions, for a much fuller exposition. For a full list of available function queries in Solr, you can also check out the [Solr Reference Guide](https://lucene.apache.org/solr/guide/8_3/function-queries.html).\n",
    "\n",
    "## Matching vs. Ranking\n",
    "Thus far, we've only really spoken of queries as feature vectors, and we've only discussed relevance ranking as a process of calculating and adding up scores for each each feature (keyword or function) in the query. This may seem a bit strange, since most search books start with coverage of matching keywords in the search engine's inverted index and filter result sets well before discussing relevance.\n",
    "\n",
    "We've delayed the discussion of \"filtering\" results until this point on purpose, however, in order to frame what search engines do as two explicitly different actions:\n",
    "1) Matching: Filtering results to a known set of possible answers\n",
    "2) Ranking: Ordering all of the possible answers by relevance\n",
    "\n",
    "In reality, we can completely skip step 1 (filtering) and we'd still see the exact same results on page one (and for many pages), since the most relevant results show up first. If you think back to chapter 2, we even saw some vector scoring calculations (comparing feature vectors for food items - i.e. \"apple juice\" vs. \"donut\") that were unable to filter results and had to try to score every document to determine which ones to return based upon relevance.\n",
    "\n",
    "So if the initial Matching phase is really optional, then why do it at all? The simple answer is that it is primarily a performance optimization. Instead of iterating through every single document and calculating a relevance score, by filtering the initial result set to a smaller set of documents which are logical matches, we can significantly speed up both our relevance calculations and the overall response time of our search engine.\n",
    "\n",
    "Of course, there are some additional benefits to filtering our results sets, in that the total document count is reduced and we can provide analytics (facets) on the set of logically-matching documents in order to help the user further explore and refind their results set.\n",
    "\n",
    "But when thinking about constructing relevance functions, like we did in the last section, the idea of filtering and scoring can often get mixed up, particularly since Solr itself mixes concerns in the query parameter.\n",
    "\n",
    "### Separating Concerns: Filtering vs. Scoring\n",
    "Solr has two primary ways to control filtering and scoring, the \"query\" (`q` parameter) and the \"filters\" (`fq` parameters). Consider the following request:\n",
    "<pre>\n",
    "{\"query\": \"the cat in the hat\",\n",
    " \"query_fields\": [\"description\"],\n",
    " \"filters\": [(\"category\", \"books\"), (\"audience\", \"kid\")],\n",
    " \"query_parser\": \"edismax\",\n",
    " \"min_match\": \"100%\"}\n",
    "\n",
    "{\"query\": \"the cat in the hat\",\n",
    " \"params\": {\"fq\": [\"category:books\", \"audience:kid\"],\n",
    "            \"qf\": [\"description\"],\n",
    "            \"mm\": \"100%\",\n",
    "            \"defType\": \"edismax\"}}\n",
    "</pre>\n",
    "\n",
    "In this query, Solr is being instructed to filter the possible result set down to only documents with a value of `books` in the `category` field and also a value of `kid` in the `audience` field. In addition to those filters, however, the query itself also acts as a filter, so the result set gets further filtered down to only documents also containing (100%) of the values `the`, `cat`, `in`, `the`, and `hat` in the `description` field.\n",
    "\n",
    "The logical difference between the `q` and `fq` parameters is that the `fq` only acts as a filter, whereas the `q` acts as BOTH a filter and feature vector for relevance ranking. This is useful default behavior for queries, but mixing the concerns of filtering and scoring in the same `q` parameter can be suboptimal, especially if we're simply trying to manipulate the relevance calculation and not arbitrarily removing results from our document set.\n",
    "\n",
    "There are a few ways to address this:\n",
    "1. Model the \"q\" parameter as a function (functions only count toward relevance and do not filter) \n",
    "  <pre>\n",
    "  {<b>\"q\": '{!func}query(\"{!type=edismax qf=description mm=100% v=$user_query}\")'</b>,\n",
    "   \"params\": {\"fq\": \"{!cache=false v=$user_query}\",\n",
    "              \"user_query\": \"the cat in the hat\"}}\n",
    "  </pre>\n",
    "\n",
    "2. Make your query match all documents (no filtering or scoring) and apply a Boost Query (`bq`) parameter to incluence relevance without scoring \n",
    "  <pre>\n",
    "  {<b>\"q\": \"*:*\"</b>,\n",
    "   \"params\": {\"fq\": \"{!cache=false v=$user_query}\",\n",
    "              <b>\"bq\": \"{!type=edismax qf=description mm=100% v=$user_quer}\"</b>,\n",
    "              \"user_query\": \"the cat in the hat\"}}\n",
    "  </pre>\n",
    "\n",
    "Both of these approaches are logically equivalent, but we'll go with option 2 throughout this book since it is a bit cleaner to use the dedicated `bq` parameter which was designed to contribute toward the relevance calculation without filtering. [BIG TODO: Verify that multiplicative boosts still work when specifying a bq= and a boost= using edismax."
   ]
  },
  {
   "cell_type": "markdown",
   "metadata": {},
   "source": [
    "## Multiplicative vs. Additive Boosting\n",
    "One last topic to address concerning how we control our relevance functions is the idea of using multiplicative vs. additive boosting of relevance features.\n",
    "\n",
    "In all of our examples to this point, we have added multiple features together into our query vector to contribute to the score. For example, the following queries will all yield equivalent relevance calculations assuming they are all filtered down to the same result set (i.e. `fq=the cat in the hat`):\n",
    "- <pre>{\"query\": \"the cat in the hat\"}</pre>\n",
    "- <pre>{\"query\": '{!func}query(\"the\") {!func}query(\"cat\") {!func}query(\"in\") {!func}query(\"the\") {!func}query(\"hat\")'}</pre>\n",
    "- <pre>{\"query\": \"the cat\", \"params\": {\"bq\": \"in the hat\"}}</pre>\n",
    "- <pre>{\"query\": \"*:*\", \"params\": {\"bq\": \"the cat in the hat\"}}</pre>\n",
    "- <pre>{\"query\": '{!func}query(\"the cat in the hat\")'}</pre>\n",
    "\n",
    "This kind of relevance is known as Additive Boosting, and maps well to our concept of a query as nothing more than a vector of features in the query that need to have their similarity compared across documents.\n",
    "\n",
    "In many cases, however, we are likely to want to specify Multiplicative boosts as part of our relevance calculations. Instead of adding additional features to our vector, multiplicative boosts increase the relevance of an entire document by multiplying the document's score by some multiplier.\n",
    "\n",
    "For example, if we wanted to query for `the cat in the hat`, but wanted the popularity of documents (those with a higher number in the `popularity` field) to have a less constrained effect, we can't easily do this by just adding another feature into our query vector - at least not without modifying the weights of all the other features, plus any additional normalization that may be applied by the BM25 ranking function. If we wanted to apply multiple boosts like this (for example, boosting both on popularity AND on publication date), then the option of modeling this as an additive boost becomes unreasonably complex and harder to control.\n",
    "\n",
    "In Figure X, we were able to successfully utilize additive boosting by explicitly constraining the minumum and maximum values each feature in our query vector so that each feature provided a known contribution to the overall relevance function.\n",
    "\n",
    "Multiplicative boosting enables boosts to \"pile up\" upon each other, however, because each of the boosts is multiplied agains the overall relevance score for the document, resulting in a much fuzzier match and preventing the need for the kind of tight constraints we had to supply for our additive boost example.\n",
    "\n",
    "To supply a multiplicative boost, you can either use the `{!boost}` query parser in your query vector or, if you are using the `edismax` query parser, the simplified `boost` query param. For example, to multiple a document's relevance score by ten times the value in the popularity field, you would do either: \n",
    "  <pre>\n",
    "  {\"query\": \"the cat in the hat\",\n",
    "   \"params\": {\"defType\": \"edismax\",\n",
    "              <b>\"boost\": \"mul(popularity,10)\"</b>}}</pre>\n",
    "OR\n",
    "  <pre>\n",
    "  {\"query\": \"<b>{!boost b=mul(popularity,10)}</b>the cat in the hat\"}\n",
    "  </pre>\n",
    "\n",
    "In general, multiplicative boosts enable you greater flexibility to combine different relevance features without having to explicitly pre-define and exact relevance formula accounting for every potential contributing factor. On the other hand, this flexibility can lead to unexpected consequences if the multiplicative boosts values for particular features get too high and overshadow other features. Additive boosts can be a pain to manage, because you have to explicitly scale them so that they can be combined together and maintain a predictible contribution to the overall score, but once you've done this you maintain tight control over the relevance scoring calculation and range of scores.\n",
    "\n",
    "Both additive and multiplicative boosts can be useful in different scenarios, so it's best to consider the problem at hand and experiment with what gets you the best results."
   ]
  },
  {
   "cell_type": "markdown",
   "metadata": {},
   "source": [
    "Up next: Chapter 4 - [Crowdsourced Relevance](../ch04/1.setting-up-the-retrotech-dataset.ipynb)"
   ]
  }
 ],
 "metadata": {
  "kernelspec": {
   "display_name": "Python 3 (ipykernel)",
   "language": "python",
   "name": "python3"
  }
 },
 "nbformat": 4,
 "nbformat_minor": 2
}
