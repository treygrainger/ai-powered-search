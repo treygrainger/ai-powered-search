{
 "cells": [
  {
   "cell_type": "markdown",
   "metadata": {},
   "source": [
    "# [ Chapter 12 - Overcoming Bias in Learned Relevance Models ]\n",
    "\n",
    "## Chapter 12 setup\n",
    "\n",
    "In chapter 12, we continue our work on a Learning to Rank solution. Evolving from a purely offline use of click-based training data to trying to explore potentially relevant items the users may find valuable. \n",
    "\n",
    "To setup, we\n",
    "\n",
    "1. Fetch the retrotech data\n",
    "2. Enable LTR\n",
    "3. Define a few fields (different ways of analyzing the underlying retrotech text)\n",
    "4. Define a list of 'promoted' products that our store wants to make prominent\n",
    "5. Insert the retrotech product data via spark\n",
    "\n",
    "\n",
    "### [TODO: remove the product / signals cells, as those were loaded in ch4]"
   ]
  },
  {
   "cell_type": "code",
   "execution_count": 1,
   "metadata": {},
   "outputs": [],
   "source": [
    "from aips import *\n",
    "from aips.spark import get_spark_session\n",
    "spark = get_spark_session()\n",
    "engine = get_engine()"
   ]
  },
  {
   "cell_type": "code",
   "execution_count": 2,
   "metadata": {},
   "outputs": [
    {
     "name": "stdout",
     "output_type": "stream",
     "text": [
      "Already up to date.\n",
      "products.csv\n",
      "signals.csv\n"
     ]
    }
   ],
   "source": [
    "#Get datasets\n",
    "![ ! -d 'retrotech' ] && git clone --depth=1 https://github.com/ai-powered-search/retrotech.git\n",
    "! cd retrotech && git pull\n",
    "! cd retrotech && tar -xvf products.tgz -C '../data/retrotech/' && tar -xvf signals.tgz -C '../data/retrotech/'"
   ]
  },
  {
   "cell_type": "code",
   "execution_count": 3,
   "metadata": {},
   "outputs": [
    {
     "name": "stdout",
     "output_type": "stream",
     "text": [
      "\"upc\",\"name\",\"manufacturer\",\"short_description\",\"long_description\"\n",
      "\"096009010836\",\"Fists of Bruce Lee - Dolby - DVD\", , , \n",
      "\"043396061965\",\"The Professional - Widescreen Uncut - DVD\", , , \n",
      "\"085391862024\",\"Pokemon the Movie: 2000 - DVD\", , , \n",
      "\"067003016025\",\"Summerbreeze - CD\",\"Nettwerk\", , \n",
      "\"731454813822\",\"Back for the First Time [PA] - CD\",\"Def Jam South\", , \n",
      "\"024543008200\",\"Big Momma's House - Widescreen - DVD\", , , \n",
      "\"031398751823\",\"Kids - DVD\", , , \n",
      "\"037628413929\",\"20 Grandes Exitos - CD\",\"Sony Discos Inc.\", , \n",
      "\"060768972223\",\"Power Of Trinity (Box) - CD\",\"Sanctuary Records\", , \n"
     ]
    }
   ],
   "source": [
    "! cd data/retrotech/ && head products.csv"
   ]
  },
  {
   "cell_type": "code",
   "execution_count": 4,
   "metadata": {},
   "outputs": [
    {
     "name": "stdout",
     "output_type": "stream",
     "text": [
      "Wiping \"products\" collection\n",
      "Creating \"products\" collection\n",
      "Schema: {\n",
      "  \"mappings\": {\n",
      "    \"properties\": {\n",
      "      \"upc\": {\n",
      "        \"type\": \"text\",\n",
      "        \"store\": true,\n",
      "        \"fielddata\": true\n",
      "      },\n",
      "      \"_text_\": {\n",
      "        \"type\": \"text\",\n",
      "        \"store\": true\n",
      "      },\n",
      "      \"name_ngram\": {\n",
      "        \"type\": \"text\",\n",
      "        \"store\": true,\n",
      "        \"analyzer\": \"shingle_analyzer\",\n",
      "        \"fielddata\": true\n",
      "      },\n",
      "      \"short_description_ngram\": {\n",
      "        \"type\": \"text\",\n",
      "        \"store\": true,\n",
      "        \"analyzer\": \"bigram_analyzer\"\n",
      "      },\n",
      "      \"name\": {\n",
      "        \"type\": \"text\",\n",
      "        \"store\": true,\n",
      "        \"copy_to\": \"name_test\",\n",
      "        \"fielddata\": true\n",
      "      },\n",
      "      \"name_test\": {\n",
      "        \"type\": \"text\",\n",
      "        \"store\": true,\n",
      "        \"fielddata\": true\n",
      "      },\n",
      "      \"short_description\": {\n",
      "        \"type\": \"text\",\n",
      "        \"store\": true,\n",
      "        \"copy_to\": \"short_description_ngram\"\n",
      "      },\n",
      "      \"long_description\": {\n",
      "        \"type\": \"text\",\n",
      "        \"store\": true,\n",
      "        \"copy_to\": \"_text_\"\n",
      "      },\n",
      "      \"manufacturer\": {\n",
      "        \"type\": \"text\",\n",
      "        \"store\": true,\n",
      "        \"copy_to\": \"_text_\"\n",
      "      },\n",
      "      \"has_promotion\": {\n",
      "        \"type\": \"boolean\",\n",
      "        \"store\": true\n",
      "      }\n",
      "    }\n",
      "  },\n",
      "  \"settings\": {\n",
      "    \"analysis\": {\n",
      "      \"filter\": {\n",
      "        \"edge_ngram_filter\": {\n",
      "          \"type\": \"edge_ngram\",\n",
      "          \"min_gram\": 1,\n",
      "          \"max_gram\": 20\n",
      "        },\n",
      "        \"shingle_filter\": {\n",
      "          \"type\": \"shingle\",\n",
      "          \"max_shingle_size\": 2,\n",
      "          \"min_shingle_size\": 2,\n",
      "          \"output_unigrams\": false\n",
      "        }\n",
      "      },\n",
      "      \"analyzer\": {\n",
      "        \"bigram_analyzer\": {\n",
      "          \"type\": \"custom\",\n",
      "          \"tokenizer\": \"standard\",\n",
      "          \"filter\": [\n",
      "            \"lowercase\",\n",
      "            \"edge_ngram_filter\"\n",
      "          ]\n",
      "        },\n",
      "        \"shingle_analyzer\": {\n",
      "          \"type\": \"custom\",\n",
      "          \"tokenizer\": \"standard\",\n",
      "          \"filter\": [\n",
      "            \"lowercase\",\n",
      "            \"shingle_filter\"\n",
      "          ]\n",
      "        }\n",
      "      }\n",
      "    }\n",
      "  }\n",
      "}\n",
      "Status: {\n",
      "  \"acknowledged\": true,\n",
      "  \"shards_acknowledged\": true,\n",
      "  \"index\": \"products\"\n",
      "}\n"
     ]
    },
    {
     "data": {
      "text/plain": [
       "'Enabling LTR'"
      ]
     },
     "metadata": {},
     "output_type": "display_data"
    },
    {
     "name": "stdout",
     "output_type": "stream",
     "text": [
      "Loading Products\n",
      "Schema: \n",
      "root\n",
      " |-- upc: string (nullable = true)\n",
      " |-- name: string (nullable = true)\n",
      " |-- manufacturer: string (nullable = true)\n",
      " |-- short_description: string (nullable = true)\n",
      " |-- long_description: string (nullable = true)\n",
      "\n",
      "Successfully written 48194 documents\n"
     ]
    }
   ],
   "source": [
    "from aips.data_loaders.products import load_dataframe\n",
    "\n",
    "#Create Products Collection\n",
    "products_collection = engine.create_collection(\"products\")\n",
    "get_ltr_engine(products_collection).enable_ltr()\n",
    "promoted = [600603141003, 27242813908, 74108007469,\n",
    "            12505525766, 400192926087, 47875842328, \n",
    "            803238004525, 27242799127, 27242815414,\n",
    "            97360724240, 97360722345, 826663114164]\n",
    "\n",
    "promoted = [{\"upc\": promoted_upc, \"has_promotion\": True}\n",
    "            for promoted_upc in promoted]\n",
    "promoted_dataframe = spark.createDataFrame(promoted)\n",
    "\n",
    "products_dataframe = load_dataframe(\"data/retrotech/products.csv\")\n",
    "enriched_data = products_dataframe.join(promoted_dataframe, [\"upc\"], \"left\")\n",
    "products_collection.write(enriched_data)"
   ]
  },
  {
   "cell_type": "code",
   "execution_count": 5,
   "metadata": {},
   "outputs": [
    {
     "name": "stdout",
     "output_type": "stream",
     "text": [
      "[{'upc': '97360722345', 'name': 'Transformers/Transformers: Revenge of the Fallen: Two-Movie Mega Collection [2 Discs] - Widescreen - DVD', 'manufacturer': ' ', 'short_description': ' ', 'long_description': ' ', 'has_promotion': True, 'id': '97360722345', 'score': 3.3835273}, {'upc': '97360724240', 'name': 'Transformers: Revenge of the Fallen - Widescreen - DVD', 'manufacturer': ' ', 'short_description': ' ', 'long_description': ' ', 'has_promotion': True, 'id': '97360724240', 'score': 3.1457326}, {'upc': '400192926087', 'name': 'Transformers: Dark of the Moon - Original Soundtrack - CD', 'manufacturer': 'Reprise', 'short_description': ' ', 'long_description': ' ', 'has_promotion': True, 'id': '400192926087', 'score': 2.9793549}, {'upc': '47875842328', 'name': 'Transformers: Dark of the Moon Stealth Force Edition - Nintendo Wii', 'manufacturer': 'Activision', 'short_description': 'Transform into an epic hero or a vehicular villain', 'long_description': \"SynopsisThree years after the chilling events of Transformers: Revenge of the Fallen, the world has lulled into a time of peace. Megatron and his Decepticons no longer pose a threat, and the innocent can once again breathe easily. Or so it would seem. Beneath the surface, a threat darker and more dangerous than ever before is breeding. Armed with the deadly assassin Shockwave, Megatron is returning to Earth stronger and more determined to completely destroy the Autobots' new home. As the planet once again is transformed into a battlefield of vehicular proportions, take to the front lines and prepare for the fight of your life as the epic Transformers saga continues.  Transformers: Dark of the Moon Stealth Force Edition transports you to the crucial moments just before the gripping third installment of Michael Bay's blockbuster mechanical warfare series, as you fend off Megatron and the Decepticons' latest attack. Take the battlefield as an Autobot, combining a jet, car or truck character chassis with unique weapon loadouts to arm you on your quest. Hungry for a taste of evil? Switch to the Decepticon side and try villainy on for size. In this Stealth Force Edition, exclusively designed for the Wii and 3DS, experience more intense combat, fiercer weapons and 18 missions across a variety of urban, desert and frozen terrains. In each battle, earn XP that will level up your character and bring you closer to saving the world, or destroying it. Get ready to transform your idea of all-out battle.\", 'has_promotion': True, 'id': '47875842328', 'score': 2.851606}, {'upc': '826663114164', 'name': 'Transformers: The Complete Series [25th Anniversary Matrix of Leadership Edition] [16 Discs] - DVD', 'manufacturer': ' ', 'short_description': ' ', 'long_description': ' ', 'has_promotion': True, 'id': '826663114164', 'score': 2.356245}]\n"
     ]
    },
    {
     "data": {
      "text/html": [
       "<div id=\"demo\">\n",
       "\t<center><input style=\"width:40%\" readonly type=\"text\" name=\"q\" value=\"Transformers\">\n",
       "\t<input readonly type=\"submit\" value=\"Search\">\n",
       "\t</center>\n",
       "    <div class=\"results\">\n",
       "    \t\n",
       "\n",
       "    </div>\n",
       "</div>\n",
       "    \t<div style=\"position: relative; width: 100%; height:auto; overflow: auto;\">\n",
       "\t    \t<div style=\"position: relative; float:left; width: 120px; margin-top:5px\">\n",
       "\t    \t\t<img style=\"width:250px; height: auto; max-height:150px\" src=\"../../data/retrotech/images/97360722345.jpg\">\n",
       "\t    \t</div>\n",
       "\t    \t<div style=\"position:relative; float:left; clear:none; width: 80%; height:auto\">\n",
       "\t    \t\t<p style=\"font-size:24px; padding-left: 50px;\"><strong>\t\tName:</strong> Transformers/Transformers: Revenge of the Fallen: Two-Movie Mega Collection [2 Discs] - Widescreen - DVD\n",
       "\t\t\t\t\t<br><strong>\t\tManufacturer:</strong>  </p>\n",
       "\t    \t\t</p>\n",
       "\t    \t</div>\n",
       "    \t</div>\n",
       "    \t\n",
       "\t\t<div style=\"position:relative; clear:both; content: ' '; display: block; height: 1px; margin-top: 10px; margin-bottom:20px\">\n",
       "\t\t\t<hr style=\"color: gray; width: 95%;\" />\n",
       "\t\t</div>\n",
       "\t\t\n",
       "    \t<div style=\"position: relative; width: 100%; height:auto; overflow: auto;\">\n",
       "\t    \t<div style=\"position: relative; float:left; width: 120px; margin-top:5px\">\n",
       "\t    \t\t<img style=\"width:250px; height: auto; max-height:150px\" src=\"../../data/retrotech/images/97360724240.jpg\">\n",
       "\t    \t</div>\n",
       "\t    \t<div style=\"position:relative; float:left; clear:none; width: 80%; height:auto\">\n",
       "\t    \t\t<p style=\"font-size:24px; padding-left: 50px;\"><strong>\t\tName:</strong> Transformers: Revenge of the Fallen - Widescreen - DVD\n",
       "\t\t\t\t\t<br><strong>\t\tManufacturer:</strong>  </p>\n",
       "\t    \t\t</p>\n",
       "\t    \t</div>\n",
       "    \t</div>\n",
       "    \t\n",
       "\t\t<div style=\"position:relative; clear:both; content: ' '; display: block; height: 1px; margin-top: 10px; margin-bottom:20px\">\n",
       "\t\t\t<hr style=\"color: gray; width: 95%;\" />\n",
       "\t\t</div>\n",
       "\t\t\n",
       "    \t<div style=\"position: relative; width: 100%; height:auto; overflow: auto;\">\n",
       "\t    \t<div style=\"position: relative; float:left; width: 120px; margin-top:5px\">\n",
       "\t    \t\t<img style=\"width:250px; height: auto; max-height:150px\" src=\"../../data/retrotech/images/400192926087.jpg\">\n",
       "\t    \t</div>\n",
       "\t    \t<div style=\"position:relative; float:left; clear:none; width: 80%; height:auto\">\n",
       "\t    \t\t<p style=\"font-size:24px; padding-left: 50px;\"><strong>\t\tName:</strong> Transformers: Dark of the Moon - Original Soundtrack - CD\n",
       "\t\t\t\t\t<br><strong>\t\tManufacturer:</strong> Reprise</p>\n",
       "\t    \t\t</p>\n",
       "\t    \t</div>\n",
       "    \t</div>\n",
       "    \t\n",
       "\t\t<div style=\"position:relative; clear:both; content: ' '; display: block; height: 1px; margin-top: 10px; margin-bottom:20px\">\n",
       "\t\t\t<hr style=\"color: gray; width: 95%;\" />\n",
       "\t\t</div>\n",
       "\t\t\n",
       "    \t<div style=\"position: relative; width: 100%; height:auto; overflow: auto;\">\n",
       "\t    \t<div style=\"position: relative; float:left; width: 120px; margin-top:5px\">\n",
       "\t    \t\t<img style=\"width:250px; height: auto; max-height:150px\" src=\"../../data/retrotech/images/47875842328.jpg\">\n",
       "\t    \t</div>\n",
       "\t    \t<div style=\"position:relative; float:left; clear:none; width: 80%; height:auto\">\n",
       "\t    \t\t<p style=\"font-size:24px; padding-left: 50px;\"><strong>\t\tName:</strong> Transformers: Dark of the Moon Stealth Force Edition - Nintendo Wii\n",
       "\t\t\t\t\t<br><strong>\t\tManufacturer:</strong> Activision</p>\n",
       "\t    \t\t</p>\n",
       "\t    \t</div>\n",
       "    \t</div>\n",
       "    \t\n",
       "\t\t<div style=\"position:relative; clear:both; content: ' '; display: block; height: 1px; margin-top: 10px; margin-bottom:20px\">\n",
       "\t\t\t<hr style=\"color: gray; width: 95%;\" />\n",
       "\t\t</div>\n",
       "\t\t\n",
       "    \t<div style=\"position: relative; width: 100%; height:auto; overflow: auto;\">\n",
       "\t    \t<div style=\"position: relative; float:left; width: 120px; margin-top:5px\">\n",
       "\t    \t\t<img style=\"width:250px; height: auto; max-height:150px\" src=\"../../data/retrotech/images/826663114164.jpg\">\n",
       "\t    \t</div>\n",
       "\t    \t<div style=\"position:relative; float:left; clear:none; width: 80%; height:auto\">\n",
       "\t    \t\t<p style=\"font-size:24px; padding-left: 50px;\"><strong>\t\tName:</strong> Transformers: The Complete Series [25th Anniversary Matrix of Leadership Edition] [16 Discs] - DVD\n",
       "\t\t\t\t\t<br><strong>\t\tManufacturer:</strong>  </p>\n",
       "\t    \t\t</p>\n",
       "\t    \t</div>\n",
       "    \t</div>\n",
       "    \t\n",
       "\t\t<div style=\"position:relative; clear:both; content: ' '; display: block; height: 1px; margin-top: 10px; margin-bottom:20px\">\n",
       "\t\t\t<hr style=\"color: gray; width: 95%;\" />\n",
       "\t\t</div>\n",
       "\t\t"
      ],
      "text/plain": [
       "<IPython.core.display.HTML object>"
      ]
     },
     "metadata": {},
     "output_type": "display_data"
    }
   ],
   "source": [
    "query = \"Transformers\"\n",
    "\n",
    "collection = \"products\"\n",
    "request = {\n",
    "    \"query\": query,\n",
    "    \"query_fields\": [\"name\", \"manufacturer\", \"long_description\"],\n",
    "    \"return_fields\": [\"upc\", \"name\", \"manufacturer\", \"score\"],\n",
    "    \"filters\": [(\"has_promotion\", True)],\n",
    "    \"limit\": 5,\n",
    "    \"order_by\": [(\"score\", \"desc\"), (\"upc\", \"asc\")]\n",
    "}\n",
    "\n",
    "response = products_collection.search(**request)\n",
    "print(response[\"docs\"])\n",
    "display_product_search(query, response[\"docs\"])"
   ]
  },
  {
   "cell_type": "code",
   "execution_count": 6,
   "metadata": {},
   "outputs": [
    {
     "name": "stdout",
     "output_type": "stream",
     "text": [
      "\"query_id\",\"user\",\"type\",\"target\",\"signal_time\"\n",
      "\"u2_0_1\",\"u2\",\"query\",\"nook\",\"2019-07-31 08:49:07.3116\"\n",
      "\"u2_1_2\",\"u2\",\"query\",\"rca\",\"2020-05-04 08:28:21.1848\"\n",
      "\"u3_0_1\",\"u3\",\"query\",\"macbook\",\"2019-12-22 00:07:07.0152\"\n",
      "\"u4_0_1\",\"u4\",\"query\",\"Tv antenna\",\"2019-08-22 23:45:54.1030\"\n",
      "\"u5_0_1\",\"u5\",\"query\",\"AC power cord\",\"2019-10-20 08:27:00.1600\"\n",
      "\"u6_0_1\",\"u6\",\"query\",\"Watch The Throne\",\"2019-09-18 11:59:53.7470\"\n",
      "\"u7_0_1\",\"u7\",\"query\",\"Camcorder\",\"2020-02-25 13:02:29.3089\"\n",
      "\"u9_0_1\",\"u9\",\"query\",\"wireless headphones\",\"2020-04-26 04:26:09.7198\"\n",
      "\"u10_0_1\",\"u10\",\"query\",\"Xbox\",\"2019-09-13 16:26:12.0132\"\n"
     ]
    }
   ],
   "source": [
    "! cd data/retrotech && head signals.csv"
   ]
  },
  {
   "cell_type": "markdown",
   "metadata": {},
   "source": [
    "## Download query sessions\n",
    "\n",
    "Download simulated raw clickstream data"
   ]
  },
  {
   "cell_type": "code",
   "execution_count": 7,
   "metadata": {},
   "outputs": [
    {
     "name": "stdout",
     "output_type": "stream",
     "text": [
      "data/dryer_sessions.gz already exists\n",
      "data/bluray_sessions.gz already exists\n",
      "data/blue ray_sessions.gz already exists\n",
      "data/headphones_sessions.gz already exists\n",
      "data/ipad_sessions.gz already exists\n",
      "data/iphone_sessions.gz already exists\n",
      "data/kindle_sessions.gz already exists\n",
      "data/lcd tv_sessions.gz already exists\n",
      "data/macbook_sessions.gz already exists\n",
      "data/nook_sessions.gz already exists\n",
      "data/star trek_sessions.gz already exists\n",
      "data/star wars_sessions.gz already exists\n",
      "data/transformers dark of the moon_sessions.gz already exists\n"
     ]
    }
   ],
   "source": [
    "from ltr import download\n",
    "simulated_queries = [\"dryer\", \"bluray\", \"blue ray\", \"headphones\", \"ipad\", \"iphone\",\n",
    "                     \"kindle\", \"lcd tv\", \"macbook\", \"nook\", \"star trek\", \"star wars\",\n",
    "                     \"transformers dark of the moon\"]\n",
    "\n",
    "sessions = [f\"https://github.com/ai-powered-search/retrotech/raw/master/sessions/{query}_sessions.gz\"\n",
    "            for query in simulated_queries]\n",
    "           \n",
    "download(sessions, dest=\"data/\")"
   ]
  },
  {
   "cell_type": "code",
   "execution_count": 8,
   "metadata": {},
   "outputs": [
    {
     "name": "stdout",
     "output_type": "stream",
     "text": [
      "'blue ray_sessions.gz'\t 'lcd tv_sessions.gz'\n",
      " bluray_sessions.gz\t  macbook_sessions.gz\n",
      " dryer_sessions.gz\t  nook_sessions.gz\n",
      " headphones_sessions.gz   retrotech\n",
      " ipad_sessions.gz\t 'star trek_sessions.gz'\n",
      " iphone_sessions.gz\t 'star wars_sessions.gz'\n",
      " kindle_sessions.gz\t 'transformers dark of the moon_sessions.gz'\n"
     ]
    }
   ],
   "source": [
    "!ls data/"
   ]
  },
  {
   "cell_type": "code",
   "execution_count": null,
   "metadata": {},
   "outputs": [
    {
     "name": "stdout",
     "output_type": "stream",
     "text": [
      "'blue ray_sessions.gz'\t 'lcd tv_sessions.gz'\n",
      " bluray_sessions.gz\t  macbook_sessions.gz\n",
      " dryer_sessions.gz\t  nook_sessions.gz\n",
      " headphones_sessions.gz  'star trek_sessions.gz'\n",
      " ipad_sessions.gz\t 'star wars_sessions.gz'\n",
      " iphone_sessions.gz\t 'transformers dark of the moon_sessions.gz'\n",
      " kindle_sessions.gz\n"
     ]
    },
    {
     "name": "stderr",
     "output_type": "stream",
     "text": [
      "----------------------------------------\n",
      "Exception occurred during processing of request from ('127.0.0.1', 51836)\n",
      "Traceback (most recent call last):\n",
      "  File \"/opt/conda/lib/python3.10/socketserver.py\", line 316, in _handle_request_noblock\n",
      "    self.process_request(request, client_address)\n",
      "  File \"/opt/conda/lib/python3.10/socketserver.py\", line 347, in process_request\n",
      "    self.finish_request(request, client_address)\n",
      "  File \"/opt/conda/lib/python3.10/socketserver.py\", line 360, in finish_request\n",
      "    self.RequestHandlerClass(request, client_address, self)\n",
      "  File \"/opt/conda/lib/python3.10/socketserver.py\", line 747, in __init__\n",
      "    self.handle()\n",
      "  File \"/usr/local/spark/python/pyspark/accumulators.py\", line 281, in handle\n",
      "    poll(accum_updates)\n",
      "  File \"/usr/local/spark/python/pyspark/accumulators.py\", line 253, in poll\n",
      "    if func():\n",
      "  File \"/usr/local/spark/python/pyspark/accumulators.py\", line 257, in accum_updates\n",
      "    num_updates = read_int(self.rfile)\n",
      "  File \"/usr/local/spark/python/pyspark/serializers.py\", line 595, in read_int\n",
      "    raise EOFError\n",
      "EOFError\n",
      "----------------------------------------\n"
     ]
    }
   ],
   "source": [
    "!ls retrotech/sessions/"
   ]
  },
  {
   "cell_type": "markdown",
   "metadata": {},
   "source": [
    "Up next: [A/B Testing Simulation to Active Learning](1.ab-testing-to-active-learning.ipynb)"
   ]
  }
 ],
 "metadata": {
  "kernelspec": {
   "display_name": "Python 3 (ipykernel)",
   "language": "python",
   "name": "python3"
  }
 },
 "nbformat": 4,
 "nbformat_minor": 4
}
