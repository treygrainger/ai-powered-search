{
 "cells": [
  {
   "cell_type": "markdown",
   "metadata": {},
   "source": [
    "# Judgments and Feature Logging\n",
    "\n",
    "In this notebook, we cover the first two steps of Learning to Rank. First we grade some documents as relevant/irrelevant for queries, what we call _judgments_. Second, we retrieve some _features_ - metadata about each graded document in our judgments. We call the process of extracting document features _feature logging_"
   ]
  },
  {
   "cell_type": "code",
   "execution_count": 4,
   "metadata": {},
   "outputs": [],
   "source": [
    "from aips import *\n",
    "import aips.indexer\n",
    "\n",
    "engine = get_engine()\n",
    "aips.indexer.download_data_files(\"judgments\")\n",
    "tmdb_collection = aips.indexer.build_collection(engine, \"tmdb\")\n",
    "ltr = get_ltr_engine(tmdb_collection)\n",
    "ltr.enable_ltr()"
   ]
  },
  {
   "cell_type": "markdown",
   "metadata": {},
   "source": [
    "## Ommitted from book\n",
    "A single judgment, grading document 37799 (\"The Social Network\") as relevant (`grade=1`) for the search query string `social network`"
   ]
  },
  {
   "cell_type": "code",
   "execution_count": 5,
   "metadata": {},
   "outputs": [
    {
     "data": {
      "text/plain": [
       "Judgment(grade=1,qid=1,keywords=social network,doc_id=37799,features=[],weight=1)"
      ]
     },
     "execution_count": 5,
     "metadata": {},
     "output_type": "execute_result"
    }
   ],
   "source": [
    "from ltr.judgments import Judgment\n",
    "\n",
    "Judgment(grade=1, keywords='social network', doc_id=37799)"
   ]
  },
  {
   "cell_type": "markdown",
   "metadata": {},
   "source": [
    "## Listing 10.3\n",
    "\n",
    "A bit bigger judgment list. Here two query strings are graded: `social network` and `star wars`. For `social network` a single movie is graded as relevant, three are irrelevant. Two movies are graded as relevant for `star wars`, three others graded as irrelevant."
   ]
  },
  {
   "cell_type": "code",
   "execution_count": 6,
   "metadata": {},
   "outputs": [
    {
     "data": {
      "text/plain": [
       "[Judgment(grade=1,qid=1,keywords=social network,doc_id=37799,features=[],weight=1),\n",
       " Judgment(grade=0,qid=1,keywords=social network,doc_id=267752,features=[],weight=1),\n",
       " Judgment(grade=0,qid=1,keywords=social network,doc_id=38408,features=[],weight=1),\n",
       " Judgment(grade=0,qid=1,keywords=social network,doc_id=28303,features=[],weight=1),\n",
       " Judgment(grade=1,qid=2,keywords=star wars,doc_id=11,features=[],weight=1),\n",
       " Judgment(grade=1,qid=2,keywords=star wars,doc_id=1892,features=[],weight=1),\n",
       " Judgment(grade=0,qid=2,keywords=star wars,doc_id=54138,features=[],weight=1),\n",
       " Judgment(grade=0,qid=2,keywords=star wars,doc_id=85783,features=[],weight=1),\n",
       " Judgment(grade=0,qid=2,keywords=star wars,doc_id=325553,features=[],weight=1)]"
      ]
     },
     "execution_count": 6,
     "metadata": {},
     "output_type": "execute_result"
    }
   ],
   "source": [
    "sample_judgments = [\n",
    "    # for 'social network' query\n",
    "    Judgment(1, 'social network', '37799'),  # The Social Network\n",
    "    Judgment(0, 'social network', '267752'), # #chicagoGirl\n",
    "    Judgment(0, 'social network', '38408'),  # Life As We Know It\n",
    "    Judgment(0, 'social network', '28303'),  # The Cheyenne Social Club\n",
    "    \n",
    "    # for 'star wars' query\n",
    "    Judgment(1, 'star wars', '11'),     # star wars\n",
    "    Judgment(1, 'star wars', '1892'),   # return of jedi\n",
    "    Judgment(0, 'star wars', '54138'),  # Star Trek Into Darkness\n",
    "    Judgment(0, 'star wars', '85783'),  # The Star\n",
    "    Judgment(0, 'star wars', '325553')  # Battlestar Galactica\n",
    "]\n",
    "sample_judgments"
   ]
  },
  {
   "cell_type": "markdown",
   "metadata": {},
   "source": [
    "Demonstrating we have no features for any of our judgments."
   ]
  },
  {
   "cell_type": "code",
   "execution_count": 7,
   "metadata": {},
   "outputs": [
    {
     "data": {
      "text/plain": [
       "[]"
      ]
     },
     "execution_count": 7,
     "metadata": {},
     "output_type": "execute_result"
    }
   ],
   "source": [
    "sample_judgments[0].features"
   ]
  },
  {
   "cell_type": "markdown",
   "metadata": {},
   "source": [
    "## Listing 10.4\n",
    "\n",
    "Create a feature set, the first feature retrieves the relevance score of the search string in the `title` field (hence `title:(${keywords})`), the second feature the same for `overview`, finally the third feature is simply the `release_year` of the movie. \n",
    "\n",
    "We create a feature store named `movie_model` in our search engine. We'll use the feature store name as a handle when we want to log features farther down."
   ]
  },
  {
   "cell_type": "code",
   "execution_count": 8,
   "metadata": {},
   "outputs": [
    {
     "data": {
      "text/plain": [
       "[{'name': 'title_bm25',\n",
       "  'template': {'match': {'title': '{{keywords}}'}},\n",
       "  'params': ['keywords']},\n",
       " {'name': 'overview_bm25',\n",
       "  'template': {'match': {'overview': '{{keywords}}'}},\n",
       "  'params': ['keywords']},\n",
       " {'name': 'release_year',\n",
       "  'template': {'function_score': {'functions': [{'filter': {'bool': {'must': [{'exists': {'field': 'release_year'}}]}},\n",
       "      'field_value_factor': {'field': 'release_year', 'missing': 0}}]}},\n",
       "  'params': ['keywords']}]"
      ]
     },
     "metadata": {},
     "output_type": "display_data"
    }
   ],
   "source": [
    "ltr.delete_feature_store(\"movies\")\n",
    "\n",
    "feature_set = [\n",
    "    ltr.generate_query_feature(feature_name=\"title_bm25\", field_name=\"title\"),\n",
    "    ltr.generate_query_feature(feature_name=\"overview_bm25\", field_name=\"overview\"),\n",
    "    ltr.generate_field_value_feature(feature_name=\"release_year\", field_name=\"release_year\")]\n",
    "\n",
    "ltr.upload_features(features=feature_set, model_name=\"movie_model\")\n",
    "display(feature_set)"
   ]
  },
  {
   "cell_type": "markdown",
   "metadata": {},
   "source": [
    "# Listing 10.5\n",
    "\n",
    "Recall we have one relevant and three irrelevant movies for `social network`. Here we retrieve all three features created above for each of the four movies."
   ]
  },
  {
   "cell_type": "code",
   "execution_count": 14,
   "metadata": {},
   "outputs": [
    {
     "data": {
      "text/plain": [
       "[{'id': '37799',\n",
       "  'title': 'The Social Network',\n",
       "  'overview': 'On a fall night in 2003, Harvard undergrad and computer programming genius Mark Zuckerberg sits down at his computer and heatedly begins working on a new idea. In a fury of blogging and programming, what begins in his dorm room as a small site among friends soon becomes a global social network and a revolution in communication. A mere six years and 500 million friends later, Mark Zuckerberg is the youngest billionaire in history... but for this entrepreneur, success leads to both personal and legal complications.',\n",
       "  'tagline': \"You don't get to 500 million friends without making a few enemies.\",\n",
       "  'directors': ['David Fincher'],\n",
       "  'cast': 'Jesse Eisenberg Andrew Garfield Justin Timberlake Armie Hammer Max Minghella Rooney Mara Brenda Song Rashida Jones John Getz David Selby Denise Grayson Douglas Urbanski Joseph Mazzello Wallace Langham Patrick Mapel Dakota Johnson Melise Bryan Barter Barry Livingston Shelby Young Abhi Sinha Mariah Bonner Mark Saul Cedric Sanders Inger Tudor Emma Fitzpatrick John Hayden James Shanklin Oliver Muirhead Scott Lawrence Caitlin Gerard Jared Hillman Adina Porter Felisha Terrell Amy Ferguson Peter Holden Trevor Wright Dustin Fitzsimons Chris Gouchoe Toby Meuli James Dastoli Robert Dastoli Scotty Crowe Marcella Lentz-Pope Randy Evans Carrie Armstrong Josh Pence Pamela Roylance Brian Palermo Brett Leigh Cali Fredrichs Nancy Linari Aaron Sorkin Kyle Fain Christopher Khai Alex Reznik Monique Edwards Cayman Grant Darin Cooper Lacey Beeman Cherilyn Wilson Jeff Martineau Caleb Landry Jones Franco Vega Andrew Thacher Inbal Amirav Noah Baron Jesse Heiman David Broyles Mike Bash Tony Calle Elliott Ehlers Brett A. Newton Nathan Dean Snyder Patrick Michael Strange Kristen Clement Tatum Miranda Chad Davis Calvin Dean Tony DeSean Vincent Rivera Jeffrey Feingold Jason Flemyng Carlos Foglia Bryan Forrest Jessica Franz Eli Jane Sara Murphy Kandis Mak Eric La Barr Naina Michaud Riley Voelkel Miriam Pultro Tia Robinson Jeff Rosick Alexandra Ruddy Adrienne Rusk Rebecca Tilney Georgina Tolentino Cooper Conley-Currier',\n",
       "  'genres': ['Drama'],\n",
       "  'release_date': '2010-10-01',\n",
       "  'release_year': '2010',\n",
       "  'poster_file': 'n0ybibhJtQ5icDqTp8eRytcIHJx.jpg',\n",
       "  'poster_path': 'https://image.tmdb.org/t/p/w185/n0ybibhJtQ5icDqTp8eRytcIHJx.jpg',\n",
       "  'vote_average': 7.3,\n",
       "  'vote_count': 7466,\n",
       "  'movie_image_ids': '',\n",
       "  'score': 2037.5275,\n",
       "  '[features]': {'title_bm25': 18.135925,\n",
       "   'overview_bm25': 8.391596,\n",
       "   'release_year': 2010.0}},\n",
       " {'id': '267752',\n",
       "  'title': '#chicagoGirl',\n",
       "  'overview': 'From her childhood bedroom in the Chicago suburbs, an American teenage girl uses social media to run the revolution in Syria. Armed with Facebook, Twitter, Skype and cameraphones, she helps her social network in Damascus and Homs braves snipers and shelling in the streets and the world the human rights atrocities of one of the most brutal dictators. But as the revolution rages on, everyone in the network must decide what is the most effective way to fight a dictator: social media or AK-47s.',\n",
       "  'tagline': 'The Social Network Takes on a Dictator',\n",
       "  'directors': ['Joe Piscatella'],\n",
       "  'cast': '',\n",
       "  'genres': ['Documentary'],\n",
       "  'release_date': '2013-11-21',\n",
       "  'release_year': '2013',\n",
       "  'poster_file': 'yokrKMyTx81PRkh8tnHUbzEDnIQ.jpg',\n",
       "  'poster_path': 'https://image.tmdb.org/t/p/w185/yokrKMyTx81PRkh8tnHUbzEDnIQ.jpg',\n",
       "  'vote_average': 7.0,\n",
       "  'vote_count': 1,\n",
       "  'movie_image_ids': '',\n",
       "  'score': 2027.2379,\n",
       "  '[features]': {'title_bm25': 0.0,\n",
       "   'overview_bm25': 13.237938,\n",
       "   'release_year': 2013.0}},\n",
       " {'id': '38408',\n",
       "  'title': 'Life As We Know It',\n",
       "  'overview': \"After a distastrous first date for caterer Holly and network sports director Messer, all they have is common is a dislike for each other and their love for their goddaughter Sophie. But when they suddenly become all Sophie has in this world, Holly and Messer must set their differences aside. Juggling careers and social calendars, they'll have to find common ground while living under the same roof.\",\n",
       "  'tagline': 'A comedy about taking it one step at a time.',\n",
       "  'directors': ['Greg Berlanti'],\n",
       "  'cast': 'Katherine Heigl Josh Duhamel Josh Lucas Christina Hendricks Hayes MacArthur DeRay Davis Sarah Burns Rob Huebel Bill Brochtrup Andy Buckley Andrew Daly Majandra Delfino Reggie Lee Melissa McCarthy Will Sasso Jessica St. Clair Jean Smart Alexis Clagett Johanna Jowett Kate Kneeland',\n",
       "  'genres': ['Comedy', 'Romance', 'Drama'],\n",
       "  'release_date': '2010-10-02',\n",
       "  'release_year': '2010',\n",
       "  'poster_file': 'uxaW1aOD2vlybNb2PoeZ13eCRn8.jpg',\n",
       "  'poster_path': 'https://image.tmdb.org/t/p/w185/uxaW1aOD2vlybNb2PoeZ13eCRn8.jpg',\n",
       "  'vote_average': 6.8,\n",
       "  'vote_count': 2117,\n",
       "  'movie_image_ids': '',\n",
       "  'score': 2020.5769,\n",
       "  '[features]': {'title_bm25': 0.0,\n",
       "   'overview_bm25': 9.576859,\n",
       "   'release_year': 2010.0}},\n",
       " {'id': '28303',\n",
       "  'title': 'The Cheyenne Social Club',\n",
       "  'overview': 'Two cowboys inherit a \"social club\" specializing in satisfying men.',\n",
       "  'tagline': 'They made their own laws at \"The Cheyenne Social Club\" ... no wonder everyone\\'s dying to get in!',\n",
       "  'directors': ['Gene Kelly'],\n",
       "  'cast': 'James Stewart Henry Fonda Shirley Jones Sue Ane Langdon Elaine Devry Robert Middleton Arch Johnson Dabbs Greer Jackie Russell Jackie Joseph Sharon DeBord Richard Collier Charles Tyner Jean Willes Robert J. Wilke',\n",
       "  'genres': ['Action', 'Comedy', 'Western'],\n",
       "  'release_date': '1970-06-12',\n",
       "  'release_year': '1970',\n",
       "  'poster_file': '5bRm0ALG9yPO53Y2kKuPPV3irdF.jpg',\n",
       "  'poster_path': 'https://image.tmdb.org/t/p/w185/5bRm0ALG9yPO53Y2kKuPPV3irdF.jpg',\n",
       "  'vote_average': 6.4,\n",
       "  'vote_count': 31,\n",
       "  'movie_image_ids': '',\n",
       "  'score': 1985.3821,\n",
       "  '[features]': {'title_bm25': 7.5430527,\n",
       "   'overview_bm25': 6.839079,\n",
       "   'release_year': 1970.0}}]"
      ]
     },
     "metadata": {},
     "output_type": "display_data"
    }
   ],
   "source": [
    "ids = [\"37799\", \"267752\", \"38408\", \"28303\"] #social network graded documents\n",
    "options = {\"keywords\": \"social network\"}\n",
    "response = ltr.get_logged_features(\"movie_model\", ids,\n",
    "                 options=options, fields=[\"id\", \"title\"])\n",
    "display(response)"
   ]
  },
  {
   "cell_type": "markdown",
   "metadata": {},
   "source": [
    "## Omitted from book - parse features search engine response\n",
    "\n",
    "**The following code is used to generate Listings below. But this parsing code is omitted from the book itself.**\n",
    "\n",
    "Docuemnts returned by the serach engine has features returned in the `[features]` property."
   ]
  },
  {
   "cell_type": "code",
   "execution_count": 10,
   "metadata": {},
   "outputs": [],
   "source": [
    "def populate_features_for_qid(qid, docs, judgments):\n",
    "    doc_id_to_features = {}\n",
    "\n",
    "    # Map Doc Id => Features\n",
    "    for doc in docs:\n",
    "        features = doc[\"[features]\"]\n",
    "        doc_id_to_features[doc[\"id\"]] = list(features.values())\n",
    "\n",
    "    # Save in correct judgment\n",
    "    for judgment in judgments:\n",
    "        if judgment.qid == qid:\n",
    "            try:\n",
    "                judgment.features = doc_id_to_features[judgment.doc_id]\n",
    "            except KeyError:\n",
    "                pass"
   ]
  },
  {
   "cell_type": "markdown",
   "metadata": {},
   "source": [
    "\n",
    "## Listing 10.6 (output)\n",
    "\n",
    "Listing 10.7 is the output of the following, the resulting processing of logging just for `social network`"
   ]
  },
  {
   "cell_type": "code",
   "execution_count": 11,
   "metadata": {},
   "outputs": [
    {
     "data": {
      "text/plain": [
       "[Judgment(grade=1,qid=1,keywords=social network,doc_id=37799,features=[18.135925, 8.391596, 2010.0],weight=1),\n",
       " Judgment(grade=0,qid=1,keywords=social network,doc_id=267752,features=[0.0, 13.237938, 2013.0],weight=1),\n",
       " Judgment(grade=0,qid=1,keywords=social network,doc_id=38408,features=[0.0, 9.576859, 2010.0],weight=1),\n",
       " Judgment(grade=0,qid=1,keywords=social network,doc_id=28303,features=[7.5430527, 6.839079, 1970.0],weight=1),\n",
       " Judgment(grade=1,qid=2,keywords=star wars,doc_id=11,features=[],weight=1),\n",
       " Judgment(grade=1,qid=2,keywords=star wars,doc_id=1892,features=[],weight=1),\n",
       " Judgment(grade=0,qid=2,keywords=star wars,doc_id=54138,features=[],weight=1),\n",
       " Judgment(grade=0,qid=2,keywords=star wars,doc_id=85783,features=[],weight=1),\n",
       " Judgment(grade=0,qid=2,keywords=star wars,doc_id=325553,features=[],weight=1)]"
      ]
     },
     "execution_count": 11,
     "metadata": {},
     "output_type": "execute_result"
    }
   ],
   "source": [
    "populate_features_for_qid(1, response, sample_judgments)\n",
    "sample_judgments"
   ]
  },
  {
   "cell_type": "markdown",
   "metadata": {},
   "source": [
    "## Listing 10.7 (output)\n",
    "\n",
    "Listing 10.8 is the output of the following, which adds features parsed from the `star wars` movies to our judgment list."
   ]
  },
  {
   "cell_type": "code",
   "execution_count": 12,
   "metadata": {},
   "outputs": [
    {
     "data": {
      "text/plain": [
       "[Judgment(grade=1,qid=1,keywords=social network,doc_id=37799,features=[18.135925, 8.391596, 2010.0],weight=1),\n",
       " Judgment(grade=0,qid=1,keywords=social network,doc_id=267752,features=[0.0, 13.237938, 2013.0],weight=1),\n",
       " Judgment(grade=0,qid=1,keywords=social network,doc_id=38408,features=[0.0, 9.576859, 2010.0],weight=1),\n",
       " Judgment(grade=0,qid=1,keywords=social network,doc_id=28303,features=[7.5430527, 6.839079, 1970.0],weight=1),\n",
       " Judgment(grade=1,qid=2,keywords=star wars,doc_id=11,features=[14.951998, 0.0, 1977.0],weight=1),\n",
       " Judgment(grade=1,qid=2,keywords=star wars,doc_id=1892,features=[0.0, 4.3300323, 1983.0],weight=1),\n",
       " Judgment(grade=0,qid=2,keywords=star wars,doc_id=54138,features=[5.377082, 0.0, 2013.0],weight=1),\n",
       " Judgment(grade=0,qid=2,keywords=star wars,doc_id=85783,features=[7.01165, 0.0, 1952.0],weight=1),\n",
       " Judgment(grade=0,qid=2,keywords=star wars,doc_id=325553,features=[0.0, 0.0, 2003.0],weight=1)]"
      ]
     },
     "execution_count": 12,
     "metadata": {},
     "output_type": "execute_result"
    }
   ],
   "source": [
    "ids = [\"11\", \"1892\", \"54138\", \"85783\", \"325553\"] #social network graded documents\n",
    "options = {\"keywords\": \"star wars\"}\n",
    "documents = ltr.get_logged_features(\"movie_model\", ids, options=options, fields=[\"id\", \"title\"])\n",
    "populate_features_for_qid(2, documents, sample_judgments)\n",
    "sample_judgments"
   ]
  },
  {
   "cell_type": "markdown",
   "metadata": {},
   "source": [
    "## Loading / logging training set (omitted from book)\n",
    "\n",
    "The following downloads a larger judgment list, parses it, and logs features for each graded document. It just repeats the full logging workflow in this notebook but in one loop."
   ]
  },
  {
   "cell_type": "code",
   "execution_count": 13,
   "metadata": {},
   "outputs": [
    {
     "name": "stdout",
     "output_type": "stream",
     "text": [
      "Duplicate docs in for query id 67: {'2503'}\n",
      "Missing doc 225130 with error\n",
      "Missing doc 37106 with error\n",
      "Duplicate docs in for query id 74: {'11852'}\n",
      "Missing doc 61919 with error\n",
      "Missing doc 67479 with error\n",
      "Missing doc 17882 with error\n",
      "Duplicate docs in for query id 95: {'17431'}\n",
      "Duplicate docs in for query id 98: {'1830'}\n",
      "Parsing QID 100\n",
      "Duplicate docs in for query id 99: {'9799'}\n",
      "Missing doc 61920 with error\n",
      "Sample Logged Features: \n"
     ]
    },
    {
     "data": {
      "text/plain": [
       "[Judgment(grade=1,qid=1,keywords=rambo,doc_id=7555,features=[13.038148, 11.173398, 2008.0],weight=1),\n",
       " Judgment(grade=1,qid=1,keywords=rambo,doc_id=1370,features=[11.056428, 12.652582, 1988.0],weight=1),\n",
       " Judgment(grade=1,qid=1,keywords=rambo,doc_id=1369,features=[7.593794, 10.758981, 1985.0],weight=1),\n",
       " Judgment(grade=0,qid=1,keywords=rambo,doc_id=13258,features=[0.0, 10.096009, 2007.0],weight=1),\n",
       " Judgment(grade=1,qid=1,keywords=rambo,doc_id=1368,features=[0.0, 11.867074, 1982.0],weight=1),\n",
       " Judgment(grade=0,qid=1,keywords=rambo,doc_id=31362,features=[0.0, 8.33506, 1988.0],weight=1),\n",
       " Judgment(grade=0,qid=1,keywords=rambo,doc_id=61410,features=[0.0, 4.6697874, 2010.0],weight=1),\n",
       " Judgment(grade=0,qid=1,keywords=rambo,doc_id=319074,features=[0.0, 0.0, 2015.0],weight=1),\n",
       " Judgment(grade=0,qid=1,keywords=rambo,doc_id=10296,features=[0.0, 0.0, 2004.0],weight=1),\n",
       " Judgment(grade=0,qid=1,keywords=rambo,doc_id=35868,features=[0.0, 0.0, 2001.0],weight=1)]"
      ]
     },
     "metadata": {},
     "output_type": "display_data"
    }
   ],
   "source": [
    "from ltr.log import FeatureLogger\n",
    "from ltr.judgments import judgments_open\n",
    "from itertools import groupby\n",
    "\n",
    "collection = engine.get_collection(\"tmdb\")\n",
    "ftr_logger = FeatureLogger(collection, feature_set=\"movie_model\")\n",
    "\n",
    "with judgments_open(\"data/ai_pow_search_judgments.txt\") as judgments:\n",
    "    for qid, query_judgments in groupby(judgments, key=lambda j: j.qid):\n",
    "        ftr_logger.log_for_qid(query_judgments, qid, judgments.keywords(qid))\n",
    "    \n",
    "print(\"Sample Logged Features: \")\n",
    "display(ftr_logger.logged[0:10])"
   ]
  },
  {
   "cell_type": "markdown",
   "metadata": {},
   "source": [
    "## Next up, prep data for training\n",
    "\n",
    "We now have a dataset extracted from the search engine. Next we need to perform some manipulation to the training data. This manipulation turns our slightly strange looking ranking problem into one that looks more like any-other boring machine learning problem.\n",
    "\n",
    "Up next: [Feature Normalization and Pairwise Transform](3.pairwise-transform.ipynb)"
   ]
  }
 ],
 "metadata": {
  "kernelspec": {
   "display_name": "Python 3 (ipykernel)",
   "language": "python",
   "name": "python3"
  },
  "language_info": {
   "codemirror_mode": {
    "name": "ipython",
    "version": 3
   },
   "file_extension": ".py",
   "mimetype": "text/x-python",
   "name": "python",
   "nbconvert_exporter": "python",
   "pygments_lexer": "ipython3",
   "version": "3.10.9"
  }
 },
 "nbformat": 4,
 "nbformat_minor": 4
}
