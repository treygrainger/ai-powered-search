{
 "cells": [
  {
   "cell_type": "markdown",
   "metadata": {},
   "source": [
    "# Train a Model, Evaluate, and Use in the Search Engine\n",
    "\n",
    "In these last few steps we train a model using the pairwise training set generated [in the previous step](3.pairwise-transform.ipynb)."
   ]
  },
  {
   "cell_type": "code",
   "execution_count": 15,
   "metadata": {},
   "outputs": [],
   "source": [
    "from itertools import groupby\n",
    "import numpy\n",
    "import random\n",
    "import sys\n",
    "sys.path.append('../..')\n",
    "from aips import *\n",
    "import json\n",
    "\n",
    "engine = get_engine()\n",
    "tmdb_collection = engine.get_collection(\"tmdb\")\n",
    "ltr = get_ltr_engine(tmdb_collection)"
   ]
  },
  {
   "cell_type": "markdown",
   "metadata": {},
   "source": [
    "## Reload judgments & training set\n",
    "\n",
    "Load the dataset generated [from the previous section](3.pairwise-transform.ipynb)."
   ]
  },
  {
   "cell_type": "code",
   "execution_count": 16,
   "metadata": {},
   "outputs": [
    {
     "name": "stdout",
     "output_type": "stream",
     "text": [
      "Parsing QID 100\n"
     ]
    }
   ],
   "source": [
    "from ltr.judgments import judgments_open\n",
    "\n",
    "predictor_deltas = numpy.load(\"data/predictor_deltas.npy\")\n",
    "feature_data = numpy.load(\"data/feature_data.npy\")\n",
    "\n",
    "std_devs = feature_data[-1]\n",
    "means = feature_data[-2]\n",
    "feature_deltas = feature_data[:-2]\n",
    "\n",
    "normed_judgments = []\n",
    "with judgments_open(\"data/normed_judgments.txt\") as judg_list:\n",
    "    for j in judg_list:\n",
    "        normed_judgments.append(j)"
   ]
  },
  {
   "cell_type": "markdown",
   "metadata": {},
   "source": [
    "## Listing 10.12\n",
    "\n",
    "Train the model with the fully transformed dataset"
   ]
  },
  {
   "cell_type": "code",
   "execution_count": 18,
   "metadata": {},
   "outputs": [
    {
     "data": {
      "text/plain": [
       "array([0.40512171, 0.29006364, 0.14451722])"
      ]
     },
     "metadata": {},
     "output_type": "display_data"
    }
   ],
   "source": [
    "random.seed(0)\n",
    "\n",
    "from sklearn import svm\n",
    "model = svm.LinearSVC(max_iter=10000)\n",
    "model.fit(feature_deltas, predictor_deltas)\n",
    "display(model.coef_[0])"
   ]
  },
  {
   "cell_type": "markdown",
   "metadata": {},
   "source": [
    "## A few sample features (omitted from book)\n",
    "\n",
    "Gathering features from a few movies \"Star Trek II: The Wrath of Khan\" and \"Star Trek III: Search for Spock\" to kick the tires of our model."
   ]
  },
  {
   "cell_type": "code",
   "execution_count": 19,
   "metadata": {},
   "outputs": [
    {
     "data": {
      "text/plain": [
       "[-0.4319807684776348, -0.4444782048635971, -0.4675688993325839]"
      ]
     },
     "metadata": {},
     "output_type": "display_data"
    }
   ],
   "source": [
    "# If you wanted to confirm Wrath of Khans features\n",
    "\n",
    "ids = [\"154\"] #social network graded documents\n",
    "options = {\"keywords\": \"wrath of khan\"}\n",
    "response = ltr.get_logged_features(\"movie_model\", ids, options=options, fields=[\"id\", \"title\"])\n",
    "\n",
    "# Features from the search engine\n",
    "# Wrath of Khan\n",
    "wok_features = [5.9217176, 3.401492, 1982.0]\n",
    "# Search For Spock\n",
    "spock_features = [0.0,0.0,1984.0]\n",
    "\n",
    "# Wrath of Khan\n",
    "normed_wok_features = [0, 0, 0]\n",
    "for idx, f in enumerate(wok_features):\n",
    "    normed_wok_features[idx] = (f - means[idx]) / std_devs[idx]\n",
    "\n",
    "normed_spock_features = [0, 0, 0]\n",
    "for idx, f in enumerate(spock_features):\n",
    "    normed_spock_features[idx] = (f - means[idx]) / std_devs[idx]\n",
    "    \n",
    "display(normed_spock_features)"
   ]
  },
  {
   "cell_type": "markdown",
   "metadata": {},
   "source": [
    "## Taking the model for test drive... (omitted from book)\n",
    "\n",
    "Here we score a few documents with the model. This code is omitted from the book, but is explored in section 10.6.2"
   ]
  },
  {
   "cell_type": "code",
   "execution_count": 20,
   "metadata": {},
   "outputs": [
    {
     "data": {
      "text/plain": [
       "-0.37150351173768265"
      ]
     },
     "execution_count": 20,
     "metadata": {},
     "output_type": "execute_result"
    }
   ],
   "source": [
    "def score_one(features, model):\n",
    "    score = 0.0\n",
    "    for idx, f in enumerate(features):\n",
    "        this_coef = model.coef_[0][idx].item()\n",
    "        score += f * this_coef\n",
    "    \n",
    "    return score\n",
    "\n",
    "def rank(query_judgments, model):\n",
    "    for j in query_judgments:\n",
    "        j.score = score_one(j.features, model)\n",
    "    \n",
    "    return sorted(query_judgments, key=lambda j: j.score, reverse=True)\n",
    "\n",
    "score_one(normed_spock_features, model)"
   ]
  },
  {
   "cell_type": "markdown",
   "metadata": {},
   "source": [
    "Wrath of Khan should score higher"
   ]
  },
  {
   "cell_type": "code",
   "execution_count": 21,
   "metadata": {},
   "outputs": [
    {
     "data": {
      "text/plain": [
       "1.7025232863140942"
      ]
     },
     "execution_count": 21,
     "metadata": {},
     "output_type": "execute_result"
    }
   ],
   "source": [
    "score_one(normed_wok_features, model)"
   ]
  },
  {
   "cell_type": "markdown",
   "metadata": {},
   "source": [
    "## Listing 10.13 Test Training Split"
   ]
  },
  {
   "cell_type": "code",
   "execution_count": 22,
   "metadata": {
    "tags": []
   },
   "outputs": [],
   "source": [
    "random.seed(1234)"
   ]
  },
  {
   "cell_type": "code",
   "execution_count": 23,
   "metadata": {},
   "outputs": [],
   "source": [
    "all_qids = list(set([j.qid for j in normed_judgments]))\n",
    "random.shuffle(all_qids)\n",
    "proportion_train = 0.1\n",
    "\n",
    "split_index = int(len(all_qids) * proportion_train)\n",
    "test_qids = all_qids[:split_index]\n",
    "train_qids = all_qids[split_index:]\n",
    "\n",
    "train_data, test_data= [], []\n",
    "for j in normed_judgments:\n",
    "    if j.qid in train_qids:\n",
    "        train_data.append(j)\n",
    "    elif j.qid in test_qids:\n",
    "        test_data.append(j)"
   ]
  },
  {
   "cell_type": "markdown",
   "metadata": {},
   "source": [
    "## Repeated from earlier - parwise transform\n",
    "\n",
    "You've already seen this code in the third notebook, so you can move on. We just need it here to do a pairwise_transform of the training data to train a model."
   ]
  },
  {
   "cell_type": "code",
   "execution_count": 24,
   "metadata": {},
   "outputs": [],
   "source": [
    "import numpy\n",
    "\n",
    "def pairwise_transform(normed_judgments):\n",
    "        \n",
    "    from itertools import groupby\n",
    "    predictor_deltas = []\n",
    "    feature_deltas = []\n",
    "    \n",
    "    # For each query's judgments\n",
    "    for qid, query_judgments in groupby(normed_judgments, key=lambda j: j.qid):\n",
    "\n",
    "        # Annoying issue consuming python iterators, we ensure we have two\n",
    "        # full copies of each query's judgments\n",
    "        query_judgments_copy_1 = list(query_judgments) \n",
    "        query_judgments_copy_2 = list(query_judgments_copy_1)\n",
    "\n",
    "        # Examine every judgment combo for this query, \n",
    "        # if they're different, store the pairwise difference:\n",
    "        # +1 if judgment1 more relevant\n",
    "        # -1 if judgment2 more relevant\n",
    "        for judgment1 in query_judgments_copy_1:\n",
    "            for judgment2 in query_judgments_copy_2:\n",
    "                \n",
    "                j1_features=numpy.array(judgment1.features)\n",
    "                j2_features=numpy.array(judgment2.features)\n",
    "                \n",
    "                if judgment1.grade > judgment2.grade:\n",
    "                    predictor_deltas.append(+1)\n",
    "                    feature_deltas.append(j1_features - j2_features)\n",
    "                elif judgment1.grade < judgment2.grade:\n",
    "                    predictor_deltas.append(-1)\n",
    "                    feature_deltas.append(j1_features - j2_features)\n",
    "\n",
    "    # For training purposes, we return these as numpy arrays\n",
    "    return numpy.array(feature_deltas), numpy.array(predictor_deltas)"
   ]
  },
  {
   "cell_type": "markdown",
   "metadata": {},
   "source": [
    "## Listing 10.14 - train on just train data\n",
    "\n",
    "We repeat the model training process only on the train subset of the queries. Notice because our test/training split is at the query level we repeat the pairwise transform we did earlier"
   ]
  },
  {
   "cell_type": "code",
   "execution_count": 25,
   "metadata": {},
   "outputs": [
    {
     "name": "stdout",
     "output_type": "stream",
     "text": [
      "[LibLinear]"
     ]
    },
    {
     "data": {
      "text/plain": [
       "array([0.37486802, 0.28187457, 0.12097923])"
      ]
     },
     "metadata": {},
     "output_type": "display_data"
    }
   ],
   "source": [
    "train_feature_deltas, train_predictor_deltas = pairwise_transform(train_data)\n",
    "\n",
    "from sklearn import svm\n",
    "model = svm.LinearSVC(max_iter=10000, verbose=1)\n",
    "model.fit(train_feature_deltas, train_predictor_deltas)\n",
    "display(model.coef_[0])"
   ]
  },
  {
   "cell_type": "markdown",
   "metadata": {},
   "source": [
    "## Listing 10.15 - eval model on test data\n",
    "\n",
    "Here we compute a simple precision metric (proportion of relevant results in top N) averaged over all the test data. It's important to note this is not a very robust statistical analysis of the model's quality, we would want to perform multiple test-training samples and perform statistical significance testing between this experiment and a baseline"
   ]
  },
  {
   "cell_type": "code",
   "execution_count": 26,
   "metadata": {},
   "outputs": [
    {
     "name": "stdout",
     "output_type": "stream",
     "text": [
      "0.36\n"
     ]
    }
   ],
   "source": [
    "def evaluate_model(test_data, model, k=5):\n",
    "    total_precision = 0\n",
    "    unique_queries = groupby(test_data, lambda j: j.qid)\n",
    "    num_groups = 0\n",
    "    for qid, query_judgments in unique_queries:\n",
    "        num_groups += 1\n",
    "        ranked = rank(list(query_judgments), model)\n",
    "        total_relevant = len([j for j in ranked[:k] if j.grade == 1])\n",
    "        total_precision += total_relevant / float(k)\n",
    "    return total_precision / num_groups\n",
    "\n",
    "evaluation = evaluate_model(test_data, model)\n",
    "print(evaluation)"
   ]
  },
  {
   "cell_type": "markdown",
   "metadata": {},
   "source": [
    "# Listing 10.16 - A search engine LTR model\n",
    "\n",
    "This turns the model into one usable by the search engine\n",
    "\n",
    "- The weights for each (normalized) feature\n",
    "- The means to use to normalize each feature\n",
    "- The std deviation used to normalize each feature"
   ]
  },
  {
   "cell_type": "code",
   "execution_count": 27,
   "metadata": {},
   "outputs": [
    {
     "data": {
      "text/plain": [
       "{'store': 'movie_model',\n",
       " 'class': 'org.apache.solr.ltr.model.LinearModel',\n",
       " 'name': 'movie_model',\n",
       " 'features': [{'name': 'title_bm25',\n",
       "   'norm': {'class': 'org.apache.solr.ltr.norm.StandardNormalizer',\n",
       "    'params': {'avg': '0.7245440735518126', 'std': '1.6772600303613545'}}},\n",
       "  {'name': 'overview_bm25',\n",
       "   'norm': {'class': 'org.apache.solr.ltr.norm.StandardNormalizer',\n",
       "    'params': {'avg': '0.6662927508611409', 'std': '1.4990448120673643'}}},\n",
       "  {'name': 'release_year',\n",
       "   'norm': {'class': 'org.apache.solr.ltr.norm.StandardNormalizer',\n",
       "    'params': {'avg': '1993.3349740932642', 'std': '19.964916628520722'}}}],\n",
       " 'params': {'weights': {'title_bm25': 0.37486802054555873,\n",
       "   'overview_bm25': 0.28187456544869527,\n",
       "   'release_year': 0.12097922777699244}}}"
      ]
     },
     "metadata": {},
     "output_type": "display_data"
    }
   ],
   "source": [
    "model_name = \"movie_model\"\n",
    "feature_names = [\"title_bm25\", \"overview_bm25\", \"release_year\"]\n",
    "linear_model = ltr.generate_model(model_name, feature_names,\n",
    "                                  means, std_devs, model.coef_[0])\n",
    "response = ltr.upload_model(linear_model)\n",
    "display(linear_model)"
   ]
  },
  {
   "cell_type": "markdown",
   "metadata": {},
   "source": [
    "## Listing 10.17 - Search with the trained LTR model\n",
    "\n",
    "Executing a search with the LTR model reranking (expensive)"
   ]
  },
  {
   "cell_type": "code",
   "execution_count": 28,
   "metadata": {},
   "outputs": [
    {
     "data": {
      "text/plain": [
       "\"search_with_model() request: {'query': {'sltr': {'params': {'keywords': 'harry potter'}, 'model': 'movie_model'}}, 'size': 10, 'fields': ['title', 'id', 'score']}\""
      ]
     },
     "metadata": {},
     "output_type": "display_data"
    },
    {
     "data": {
      "text/plain": [
       "'search_with_model() response: {\\'took\\': 11, \\'timed_out\\': False, \\'_shards\\': {\\'total\\': 1, \\'successful\\': 1, \\'skipped\\': 0, \\'failed\\': 0}, \\'hits\\': {\\'total\\': {\\'value\\': 10000, \\'relation\\': \\'gte\\'}, \\'max_score\\': 2.426116, \\'hits\\': [{\\'_index\\': \\'tmdb\\', \\'_id\\': \\'qW2o5ZIBCtyA4Ms4bZD7\\', \\'_score\\': 2.426116, \\'_source\\': {\\'id\\': \\'570724\\', \\'title\\': \\'The Story of Harry Potter\\', \\'overview\\': \\'A three-part documentary series by Mikey Neumann exploring the behind-the-scenes stories of the eight core Harry Potter films, as well as deconstructing their themes and messages.\\', \\'tagline\\': \\'It Takes a Village to Make a Movie\\', \\'directors\\': [\\'Mikey Neumann\\'], \\'cast\\': \\'\\', \\'genres\\': [\\'Documentary\\'], \\'release_date\\': \\'2018-12-24\\', \\'release_year\\': \\'2018\\', \\'poster_file\\': \\'s0FRUpp9nsM0N8F2S7hdIgeAkHy.jpg\\', \\'poster_path\\': \\'https://image.tmdb.org/t/p/w185/s0FRUpp9nsM0N8F2S7hdIgeAkHy.jpg\\', \\'vote_average\\': 10.0, \\'vote_count\\': 2, \\'movie_image_ids\\': \\'\\'}, \\'fields\\': {\\'id\\': [\\'570724\\'], \\'title\\': [\\'The Story of Harry Potter\\']}}, {\\'_index\\': \\'tmdb\\', \\'_id\\': \\'Sm2o5ZIBCtyA4Ms4cclX\\', \\'_score\\': 2.2478464, \\'_source\\': {\\'id\\': \\'116972\\', \\'title\\': \\'Discovering the Real World of Harry Potter\\', \\'overview\\': \\'Explore the myths and legends that inhabit the real world of Harry Potter. Follow award-winning documentary filmmakers as they offer insights to witches, wizards, Greek gods, ancient Celts, ghosts, magical creatures, alchemy, and ancient spells. Narrated by British actor Hugh Laurie, this fascinating documentary brings new dimensions to the historical and scientific world behind the Harry Potter series.\\', \\'tagline\\': \\'\\', \\'directors\\': [\\'Shaun Trevisick\\'], \\'cast\\': \\'Hugh Laurie J.K. Rowling Gavin Scott\\', \\'genres\\': [\\'Family\\', \\'Documentary\\'], \\'release_date\\': \\'2001-12-10\\', \\'release_year\\': \\'2001\\', \\'poster_file\\': \\'yLpnOqKw3ZycFu8t5Gil1BqTbnB.jpg\\', \\'poster_path\\': \\'https://image.tmdb.org/t/p/w185/yLpnOqKw3ZycFu8t5Gil1BqTbnB.jpg\\', \\'vote_average\\': 6.0, \\'vote_count\\': 5, \\'movie_image_ids\\': \\'\\'}, \\'fields\\': {\\'id\\': [\\'116972\\'], \\'title\\': [\\'Discovering the Real World of Harry Potter\\']}}, {\\'_index\\': \\'tmdb\\', \\'_id\\': \\'HW2o5ZIBCtyA4Ms4bVi_\\', \\'_score\\': 2.0174994, \\'_source\\': {\\'id\\': \\'672\\', \\'title\\': \\'Harry Potter and the Chamber of Secrets\\', \\'overview\\': \\'Cars fly, trees fight back, and a mysterious house-elf comes to warn Harry Potter at the start of his second year at Hogwarts. Adventure and danger await when bloody writing on a wall announces: The Chamber Of Secrets Has Been Opened. To save Hogwarts will require all of Harry, Ron and Hermione’s magical abilities and courage.\\', \\'tagline\\': \\'Hogwarts is back in session.\\', \\'directors\\': [\\'Chris Columbus\\'], \\'cast\\': \"Daniel Radcliffe Rupert Grint Emma Watson Richard Harris Alan Rickman Tom Felton Kenneth Branagh Robbie Coltrane Maggie Smith David Bradley Bonnie Wright Matthew Lewis Jason Isaacs Shirley Henderson Toby Jones James Phelps Oliver Phelps Richard Griffiths Fiona Shaw Harry Melling John Cleese Julie Walters Mark Williams Jamie Waylett Josh Herdman Alfred Enoch Devon Murray Sean Biggerstaff Hugh Mitchell Chris Rankin Warwick Davis Robert Hardy Miriam Margolyes Gemma Jones Christian Coulson Edward Randell Luke Youngblood Eleanor Columbus Louis Doyle Emily Dale Rochelle Douglas Leslie Phillips Julian Glover Martin Bayfield Gemma Padley Danielle Tabor Jamie Yeates Charlotte Skeoch Helen Stuart Nina Young Adrian Rawlins Geraldine Somerville Jim Norton Veronica Clifford Heather Bleasdale Tom Knight Ben Borowiecki Kathleen Cauley Alfred Burke Peter O\\'Farrell Violet Columbus Harry Taylor\", \\'genres\\': [\\'Adventure\\', \\'Fantasy\\'], \\'release_date\\': \\'2002-11-13\\', \\'release_year\\': \\'2002\\', \\'poster_file\\': \\'sdEOH0992YZ0QSxgXNIGLq1ToUi.jpg\\', \\'poster_path\\': \\'https://image.tmdb.org/t/p/w185/sdEOH0992YZ0QSxgXNIGLq1ToUi.jpg\\', \\'vote_average\\': 7.7, \\'vote_count\\': 14068, \\'movie_image_ids\\': \\'\\'}, \\'fields\\': {\\'id\\': [\\'672\\'], \\'title\\': [\\'Harry Potter and the Chamber of Secrets\\']}}, {\\'_index\\': \\'tmdb\\', \\'_id\\': \\'HG2o5ZIBCtyA4Ms4bVi_\\', \\'_score\\': 1.9944707, \\'_source\\': {\\'id\\': \\'671\\', \\'title\\': \"Harry Potter and the Philosopher\\'s Stone\", \\'overview\\': \"Harry Potter has lived under the stairs at his aunt and uncle\\'s house his whole life. But on his 11th birthday, he learns he\\'s a powerful wizard -- with a place waiting for him at the Hogwarts School of Witchcraft and Wizardry. As he learns to harness his newfound powers with the help of the school\\'s kindly headmaster, Harry uncovers the truth about his parents\\' deaths -- and about the villain who\\'s to blame.\", \\'tagline\\': \\'Let the Magic Begin.\\', \\'directors\\': [\\'Chris Columbus\\'], \\'cast\\': \\'Daniel Radcliffe Rupert Grint Emma Watson Richard Harris Tom Felton Robbie Coltrane Alan Rickman Maggie Smith Richard Griffiths Ian Hart Fiona Shaw John Hurt David Bradley Matthew Lewis Sean Biggerstaff Warwick Davis Harry Melling James Phelps Oliver Phelps John Cleese Chris Rankin Alfred Enoch Devon Murray Jamie Waylett Josh Herdman Zoë Wanamaker Julie Walters Bonnie Wright Luke Youngblood Verne Troyer Adrian Rawlins Geraldine Somerville Elizabeth Spriggs Richard Bremmer Nina Young Terence Bayler Harry Taylor Jean Southern Leslie Phillips Simon Fisher-Becker Derek Deadman Ray Fearon Eleanor Columbus Ben Borowiecki Danielle Tabor Leilah Sutherland Emily Dale Will Theakston Scot Fearn Saunders Triplets Jimmy Vee Kieri Kennedy Christina Petrou Gemma Sandzer Leila Hoffman David Brett Zoe Sugg Hazel Showham Bernadette Jane Vanderkar Julianne Hough\\', \\'genres\\': [\\'Adventure\\', \\'Fantasy\\', \\'Family\\'], \\'release_date\\': \\'2001-11-16\\', \\'release_year\\': \\'2001\\', \\'poster_file\\': \\'wuMc08IPKEatf9rnMNXvIDxqP4W.jpg\\', \\'poster_path\\': \\'https://image.tmdb.org/t/p/w185/wuMc08IPKEatf9rnMNXvIDxqP4W.jpg\\', \\'vote_average\\': 7.9, \\'vote_count\\': 16755, \\'movie_image_ids\\': \\'\\'}, \\'fields\\': {\\'id\\': [\\'671\\'], \\'title\\': [\"Harry Potter and the Philosopher\\'s Stone\"]}}, {\\'_index\\': \\'tmdb\\', \\'_id\\': \\'Km2o5ZIBCtyA4Ms4cb0J\\', \\'_score\\': 1.983361, \\'_source\\': {\\'id\\': \\'54507\\', \\'title\\': \\'A Very Potter Musical\\', \\'overview\\': \\'In April 2009, a group of University of Michigan students (Team StarKid) performed what was renamed \"A Very Potter Musical\", a two act musical parody that featured major elements from all seven Harry Potter books and an original score.\\', \\'tagline\\': \\'The awesomeness begins\\', \\'directors\\': [\\'Matt Lang\\'], \\'cast\\': \\'Darren Criss Joey Richter Bonnie Gruesen Lauren Lopez Joseph Walker Brian Rosenthal Dylan Saunders Joe Moses Jaime Lyn Beatty Devin Lytle Julia Albain\\', \\'genres\\': [\\'Music\\', \\'Comedy\\'], \\'release_date\\': \\'2009-04-09\\', \\'release_year\\': \\'2009\\', \\'poster_file\\': \\'8GcoqIPxjFqfW2VhG9OcQyftzXC.jpg\\', \\'poster_path\\': \\'https://image.tmdb.org/t/p/w185/8GcoqIPxjFqfW2VhG9OcQyftzXC.jpg\\', \\'vote_average\\': 7.1, \\'vote_count\\': 14, \\'movie_image_ids\\': \\'\\'}, \\'fields\\': {\\'id\\': [\\'54507\\'], \\'title\\': [\\'A Very Potter Musical\\']}}, {\\'_index\\': \\'tmdb\\', \\'_id\\': \\'B22o5ZIBCtyA4Ms4c_qQ\\', \\'_score\\': 1.9292318, \\'_source\\': {\\'id\\': \\'393135\\', \\'title\\': \\'Harry Potter and the Ten Years Later\\', \\'overview\\': \"Furious Molecules\\' new parody web series \\'Harry Potter and the Ten Years Later\\' takes a look at our hero ten years after taking down He-Whose-Name-Nobody-Quite-Remembers (but before that sappy epilogue full of kids). Things have changed significantly in Harry\\'s world. With no dark wizards or witches left, the Ministry of Magic\\'s Auror Department shuts down, leaving Harry unemployed. Ginny wants to start a family, Hermione is having doubts about her goody-goody lifestyle, and Ron... well, he\\'s Ron. Everything seems very average in a late-twenties-problem kind of way-- but as always, trouble finds Harry yet again.\", \\'tagline\\': \"\\'Harry Potter and the Ten Years Later\\' takes a look at our hero ten years after taking down He-Whose-Name-Nobody-Quite-Remembers\", \\'directors\\': [], \\'cast\\': \\'Matt DeNoto Matt DeNoto\\', \\'genres\\': [], \\'release_date\\': \\'2012-10-07\\', \\'release_year\\': \\'2012\\', \\'poster_file\\': \\'zh1KtXxbcfj3wj202aEEE2E8V3n.jpg\\', \\'poster_path\\': \\'https://image.tmdb.org/t/p/w185/zh1KtXxbcfj3wj202aEEE2E8V3n.jpg\\', \\'vote_average\\': 10.0, \\'vote_count\\': 1, \\'movie_image_ids\\': \\'\\'}, \\'fields\\': {\\'id\\': [\\'393135\\'], \\'title\\': [\\'Harry Potter and the Ten Years Later\\']}}, {\\'_index\\': \\'tmdb\\', \\'_id\\': \\'um2o5ZIBCtyA4Ms4bpkD\\', \\'_score\\': 1.7531159, \\'_source\\': {\\'id\\': \\'482408\\', \\'title\\': \\'Harry Potter - A History Of Magic\\', \\'overview\\': \\'A thrilling journey through legends, belief and folklore, this film goes behind the scenes with the British Library as they search to tell that story through objects in their collection, in an ambitious new exhibition: Harry Potter: A History Of Magic.  J.K. Rowling, who is lending unseen manuscripts, drawings and drafts from her private archives (which will sit alongside treasures from the British Library, as well as original drafts and drawings from Jim Kay) talks about some of the personal items she has lent to the exhibition and gives new insight into her writing, looking at some of the objects from the exhibition that have fired her imagination.\\', \\'tagline\\': \\'\\', \\'directors\\': [\\'Jude Ho\\', \\'Alex Harding\\'], \\'cast\\': \\'Imelda Staunton J.K. Rowling David Thewlis Warwick Davis Evanna Lynch Mark Williams Miriam Margolyes\\', \\'genres\\': [\\'Documentary\\'], \\'release_date\\': \\'2017-10-28\\', \\'release_year\\': \\'2017\\', \\'poster_file\\': \\'peJehrEiA5xD9sFBuL61MQdFY0n.jpg\\', \\'poster_path\\': \\'https://image.tmdb.org/t/p/w185/peJehrEiA5xD9sFBuL61MQdFY0n.jpg\\', \\'vote_average\\': 6.8, \\'vote_count\\': 18, \\'movie_image_ids\\': \\'\\'}, \\'fields\\': {\\'id\\': [\\'482408\\'], \\'title\\': [\\'Harry Potter - A History Of Magic\\']}}, {\\'_index\\': \\'tmdb\\', \\'_id\\': \\'nG6o5ZIBCtyA4Ms4eE0Q\\', \\'_score\\': 1.6906683, \\'_source\\': {\\'id\\': \\'319391\\', \\'title\\': \\'J.K. Rowling and the Birth of Harry Potter\\', \\'overview\\': \"In this fascinating (unauthorized) biographical documentary, you\\'ll get the inside scoop on the creative force behind one of the greatest publishing phenomena in the last 100 years -- J.K. Rowling, author of the Harry Potter series of books. Explore Rowling\\'s meteoric rise from obscurity into the ranks of the world\\'s richest women (via her books), and visit the people and places that played a significant role in her life.\", \\'tagline\\': \\'\\', \\'directors\\': [], \\'cast\\': \\'\\', \\'genres\\': [\\'Documentary\\'], \\'release_date\\': \\'2004-12-07\\', \\'release_year\\': \\'2004\\', \\'poster_file\\': \\'hY6Ndq1O4JiEngZ7xIOtcLUCDTX.jpg\\', \\'poster_path\\': \\'https://image.tmdb.org/t/p/w185/hY6Ndq1O4JiEngZ7xIOtcLUCDTX.jpg\\', \\'vote_average\\': 10.0, \\'vote_count\\': 1, \\'movie_image_ids\\': \\'\\'}, \\'fields\\': {\\'id\\': [\\'319391\\'], \\'title\\': [\\'J.K. Rowling and the Birth of Harry Potter\\']}}, {\\'_index\\': \\'tmdb\\', \\'_id\\': \\'hG2o5ZIBCtyA4Ms4c900\\', \\'_score\\': 1.5987885, \\'_source\\': {\\'id\\': \\'698249\\', \\'title\\': \\'Creating the World of Harry Potter, Part 2: Characters\\', \\'overview\\': \"“We really do look at the story and characters first,” producer David Heyman says. “That\\'s the heart and that\\'s the soul of the film.” And that\\'s the heart and soul of this incisive, decade-spanning exploration of how the series\\' actors bring the beloved Harry Potter characters to life. Discover which parts of the J.K. Rowling books helped Daniel Radcliffe, Rupert Grint, Emma Watson, and more stars make their roles leap from page to screen. See screen tests, including Evanna Lynch (Luna Lovegood) and Jessie Cave (Lavender Brown) working with the established stars. Learn why so many of Britain\\'s acting greats wanted to be part of Harry Potter\\'s world... and which ones became mentors to the young stars. Share each director\\'s vision as you watch Daniel, Rupert and Emma grow up with Harry, Ron and Hermione. Your journey into Harry’s world continues.\", \\'tagline\\': \"There\\'s magic in people\", \\'directors\\': [\\'Chris Columbus\\', \\'Alfonso Cuarón\\', \\'Mike Newell\\', \\'David Yates\\'], \\'cast\\': \\'Daniel Radcliffe Emma Watson Rupert Grint Robbie Coltrane Tom Felton Mark Williams Julie Walters John Hurt Kenneth Branagh Richard Harris Warwick Davis David Bradley Gary Oldman David Thewlis Oliver Phelps James Phelps Clémence Poésy Ralph Fiennes Michael Gambon Evanna Lynch Matthew Lewis Bonnie Wright Alan Rickman Brendan Gleeson Timothy Spall\\', \\'genres\\': [\\'Documentary\\', \\'Fantasy\\'], \\'release_date\\': \\'2009-11-17\\', \\'release_year\\': \\'2009\\', \\'poster_file\\': \\'2FWEkiVZkHkEpU8YTgl1oraX2MP.jpg\\', \\'poster_path\\': \\'https://image.tmdb.org/t/p/w185/2FWEkiVZkHkEpU8YTgl1oraX2MP.jpg\\', \\'vote_average\\': 10.0, \\'vote_count\\': 1, \\'movie_image_ids\\': \\'\\'}, \\'fields\\': {\\'id\\': [\\'698249\\'], \\'title\\': [\\'Creating the World of Harry Potter, Part 2: Characters\\']}}, {\\'_index\\': \\'tmdb\\', \\'_id\\': \\'H22o5ZIBCtyA4Ms4bVi_\\', \\'_score\\': 1.5487072, \\'_source\\': {\\'id\\': \\'674\\', \\'title\\': \\'Harry Potter and the Goblet of Fire\\', \\'overview\\': \\'Harry starts his fourth year at Hogwarts, competes in the treacherous Triwizard Tournament and faces the evil Lord Voldemort. Ron and Hermione help Harry manage the pressure – but Voldemort lurks, awaiting his chance to destroy Harry and all that he stands for.\\', \\'tagline\\': \\'Dark And Difficult Times Lie Ahead.\\', \\'directors\\': [\\'Mike Newell\\'], \\'cast\\': \\'Daniel Radcliffe Rupert Grint Emma Watson Ralph Fiennes Michael Gambon Alan Rickman Robbie Coltrane Brendan Gleeson Gary Oldman Robert Pattinson Clémence Poésy Stanislav Yanevski Miranda Richardson Josh Herdman Maggie Smith Geraldine Somerville Matthew Lewis Frances de la Tour Tom Felton Roger Lloyd Pack Jason Isaacs Eric Sykes Timothy Spall David Tennant Mark Williams James Phelps Oliver Phelps Bonnie Wright Jeff Rawle Robert Hardy Sheila Allen Su Elliott Anne Lacy Flip Webster David Sterne Christopher Whittingham Liam McKenna Campbell Graham Margery Mason Katie Leung William Melling David Bradley Devon Murray Afshan Azad Warwick Davis Shefali Chowdhury Angelica Mandy Predrag Bjelac Tolga Safer Alfred Enoch Louis Doyle Jamie Waylett Charlotte Skeoch Robert Wilfort Tiana Benjamin Henry Lloyd-Hughes Jarvis Cocker Jonny Greenwood Philip Selway Steve Mackey Jason Buckle Steve Claydon Shirley Henderson Alan Watt Adrian Rawlins Paschal Friel Hazel Keech\\', \\'genres\\': [\\'Adventure\\', \\'Fantasy\\', \\'Family\\'], \\'release_date\\': \\'2005-11-16\\', \\'release_year\\': \\'2005\\', \\'poster_file\\': \\'fECBtHlr0RB3foNHDiCBXeg9Bv9.jpg\\', \\'poster_path\\': \\'https://image.tmdb.org/t/p/w185/fECBtHlr0RB3foNHDiCBXeg9Bv9.jpg\\', \\'vote_average\\': 7.8, \\'vote_count\\': 13159, \\'movie_image_ids\\': \\'\\'}, \\'fields\\': {\\'id\\': [\\'674\\'], \\'title\\': [\\'Harry Potter and the Goblet of Fire\\']}}]}}'"
      ]
     },
     "metadata": {},
     "output_type": "display_data"
    },
    {
     "name": "stdout",
     "output_type": "stream",
     "text": [
      "\n",
      "Returned Documents:\n"
     ]
    },
    {
     "data": {
      "text/plain": [
       "[{'id': '570724', 'title': 'The Story of Harry Potter', 'score': 2.4261155},\n",
       " {'id': '116972',\n",
       "  'title': 'Discovering the Real World of Harry Potter',\n",
       "  'score': 2.247846},\n",
       " {'id': '672',\n",
       "  'title': 'Harry Potter and the Chamber of Secrets',\n",
       "  'score': 2.017499},\n",
       " {'id': '671',\n",
       "  'title': \"Harry Potter and the Philosopher's Stone\",\n",
       "  'score': 1.9944702},\n",
       " {'id': '54507', 'title': 'A Very Potter Musical', 'score': 1.9833609}]"
      ]
     },
     "metadata": {},
     "output_type": "display_data"
    }
   ],
   "source": [
    "request = {\"query\": \"harry potter\",\n",
    "           \"query_fields\": [\"title\", \"overview\"],\n",
    "           \"return_fields\": [\"title\", \"id\", \"score\"],\n",
    "           \"log\": True}\n",
    "response = ltr.search_with_model(\"movie_model\", **request)\n",
    "print(\"\\nReturned Documents:\")\n",
    "display(response[\"docs\"])"
   ]
  },
  {
   "cell_type": "markdown",
   "metadata": {},
   "source": [
    "## Listing 10.18 - A search query utilizing a baseline search and rerank utilizing the model\n",
    "\n",
    "Issuing a simple lexical query followed by a rerank the top 500 documents using the LTR model (optimized)"
   ]
  },
  {
   "cell_type": "code",
   "execution_count": 14,
   "metadata": {},
   "outputs": [
    {
     "data": {
      "text/plain": [
       "\"search_with_model() request: {'query': {'multi_match': {'fields': ['title', 'overview'], 'query': 'harry potter'}}, 'rescore': {'query': {'rescore_query': {'sltr': {'params': {'keywords': 'harry potter'}, 'model': 'movie_model'}}}, 'window_size': 500}, 'size': 10, 'fields': ['title', 'id', 'score']}\""
      ]
     },
     "metadata": {},
     "output_type": "display_data"
    },
    {
     "data": {
      "text/plain": [
       "'search_with_model() response: {\\'took\\': 10, \\'timed_out\\': False, \\'_shards\\': {\\'total\\': 1, \\'successful\\': 1, \\'skipped\\': 0, \\'failed\\': 0}, \\'hits\\': {\\'total\\': {\\'value\\': 367, \\'relation\\': \\'eq\\'}, \\'max_score\\': 19.452665, \\'hits\\': [{\\'_index\\': \\'tmdb\\', \\'_id\\': \\'Sm2o5ZIBCtyA4Ms4cclX\\', \\'_score\\': 19.452665, \\'_source\\': {\\'id\\': \\'116972\\', \\'title\\': \\'Discovering the Real World of Harry Potter\\', \\'overview\\': \\'Explore the myths and legends that inhabit the real world of Harry Potter. Follow award-winning documentary filmmakers as they offer insights to witches, wizards, Greek gods, ancient Celts, ghosts, magical creatures, alchemy, and ancient spells. Narrated by British actor Hugh Laurie, this fascinating documentary brings new dimensions to the historical and scientific world behind the Harry Potter series.\\', \\'tagline\\': \\'\\', \\'directors\\': [\\'Shaun Trevisick\\'], \\'cast\\': \\'Hugh Laurie J.K. Rowling Gavin Scott\\', \\'genres\\': [\\'Family\\', \\'Documentary\\'], \\'release_date\\': \\'2001-12-10\\', \\'release_year\\': \\'2001\\', \\'poster_file\\': \\'yLpnOqKw3ZycFu8t5Gil1BqTbnB.jpg\\', \\'poster_path\\': \\'https://image.tmdb.org/t/p/w185/yLpnOqKw3ZycFu8t5Gil1BqTbnB.jpg\\', \\'vote_average\\': 6.0, \\'vote_count\\': 5, \\'movie_image_ids\\': \\'\\'}, \\'fields\\': {\\'id\\': [\\'116972\\'], \\'title\\': [\\'Discovering the Real World of Harry Potter\\']}}, {\\'_index\\': \\'tmdb\\', \\'_id\\': \\'Km2o5ZIBCtyA4Ms4cb0J\\', \\'_score\\': 18.919437, \\'_source\\': {\\'id\\': \\'54507\\', \\'title\\': \\'A Very Potter Musical\\', \\'overview\\': \\'In April 2009, a group of University of Michigan students (Team StarKid) performed what was renamed \"A Very Potter Musical\", a two act musical parody that featured major elements from all seven Harry Potter books and an original score.\\', \\'tagline\\': \\'The awesomeness begins\\', \\'directors\\': [\\'Matt Lang\\'], \\'cast\\': \\'Darren Criss Joey Richter Bonnie Gruesen Lauren Lopez Joseph Walker Brian Rosenthal Dylan Saunders Joe Moses Jaime Lyn Beatty Devin Lytle Julia Albain\\', \\'genres\\': [\\'Music\\', \\'Comedy\\'], \\'release_date\\': \\'2009-04-09\\', \\'release_year\\': \\'2009\\', \\'poster_file\\': \\'8GcoqIPxjFqfW2VhG9OcQyftzXC.jpg\\', \\'poster_path\\': \\'https://image.tmdb.org/t/p/w185/8GcoqIPxjFqfW2VhG9OcQyftzXC.jpg\\', \\'vote_average\\': 7.1, \\'vote_count\\': 14, \\'movie_image_ids\\': \\'\\'}, \\'fields\\': {\\'id\\': [\\'54507\\'], \\'title\\': [\\'A Very Potter Musical\\']}}, {\\'_index\\': \\'tmdb\\', \\'_id\\': \\'jW2o5ZIBCtyA4Ms4bYf6\\', \\'_score\\': 18.288424, \\'_source\\': {\\'id\\': \\'36619\\', \\'title\\': \\'J.K. Rowling: A Year in the Life\\', \\'overview\\': \\'A look into the life of J.K. Rowling in the year leading to her finishing her final harry potter book.\\', \\'tagline\\': \\'\\', \\'directors\\': [], \\'cast\\': \\'J.K. Rowling\\', \\'genres\\': [\\'Documentary\\'], \\'release_date\\': \\'2007-01-01\\', \\'release_year\\': \\'2007\\', \\'poster_file\\': \\'noeheyUWBemWXoAbVSXLI34Vcz2.jpg\\', \\'poster_path\\': \\'https://image.tmdb.org/t/p/w185/noeheyUWBemWXoAbVSXLI34Vcz2.jpg\\', \\'vote_average\\': 7.8, \\'vote_count\\': 12, \\'movie_image_ids\\': \\'\\'}, \\'fields\\': {\\'id\\': [\\'36619\\'], \\'title\\': [\\'J.K. Rowling: A Year in the Life\\']}}, {\\'_index\\': \\'tmdb\\', \\'_id\\': \\'qW2o5ZIBCtyA4Ms4bZD7\\', \\'_score\\': 18.02443, \\'_source\\': {\\'id\\': \\'570724\\', \\'title\\': \\'The Story of Harry Potter\\', \\'overview\\': \\'A three-part documentary series by Mikey Neumann exploring the behind-the-scenes stories of the eight core Harry Potter films, as well as deconstructing their themes and messages.\\', \\'tagline\\': \\'It Takes a Village to Make a Movie\\', \\'directors\\': [\\'Mikey Neumann\\'], \\'cast\\': \\'\\', \\'genres\\': [\\'Documentary\\'], \\'release_date\\': \\'2018-12-24\\', \\'release_year\\': \\'2018\\', \\'poster_file\\': \\'s0FRUpp9nsM0N8F2S7hdIgeAkHy.jpg\\', \\'poster_path\\': \\'https://image.tmdb.org/t/p/w185/s0FRUpp9nsM0N8F2S7hdIgeAkHy.jpg\\', \\'vote_average\\': 10.0, \\'vote_count\\': 2, \\'movie_image_ids\\': \\'\\'}, \\'fields\\': {\\'id\\': [\\'570724\\'], \\'title\\': [\\'The Story of Harry Potter\\']}}, {\\'_index\\': \\'tmdb\\', \\'_id\\': \\'HW2o5ZIBCtyA4Ms4bVi_\\', \\'_score\\': 16.456392, \\'_source\\': {\\'id\\': \\'672\\', \\'title\\': \\'Harry Potter and the Chamber of Secrets\\', \\'overview\\': \\'Cars fly, trees fight back, and a mysterious house-elf comes to warn Harry Potter at the start of his second year at Hogwarts. Adventure and danger await when bloody writing on a wall announces: The Chamber Of Secrets Has Been Opened. To save Hogwarts will require all of Harry, Ron and Hermione’s magical abilities and courage.\\', \\'tagline\\': \\'Hogwarts is back in session.\\', \\'directors\\': [\\'Chris Columbus\\'], \\'cast\\': \"Daniel Radcliffe Rupert Grint Emma Watson Richard Harris Alan Rickman Tom Felton Kenneth Branagh Robbie Coltrane Maggie Smith David Bradley Bonnie Wright Matthew Lewis Jason Isaacs Shirley Henderson Toby Jones James Phelps Oliver Phelps Richard Griffiths Fiona Shaw Harry Melling John Cleese Julie Walters Mark Williams Jamie Waylett Josh Herdman Alfred Enoch Devon Murray Sean Biggerstaff Hugh Mitchell Chris Rankin Warwick Davis Robert Hardy Miriam Margolyes Gemma Jones Christian Coulson Edward Randell Luke Youngblood Eleanor Columbus Louis Doyle Emily Dale Rochelle Douglas Leslie Phillips Julian Glover Martin Bayfield Gemma Padley Danielle Tabor Jamie Yeates Charlotte Skeoch Helen Stuart Nina Young Adrian Rawlins Geraldine Somerville Jim Norton Veronica Clifford Heather Bleasdale Tom Knight Ben Borowiecki Kathleen Cauley Alfred Burke Peter O\\'Farrell Violet Columbus Harry Taylor\", \\'genres\\': [\\'Adventure\\', \\'Fantasy\\'], \\'release_date\\': \\'2002-11-13\\', \\'release_year\\': \\'2002\\', \\'poster_file\\': \\'sdEOH0992YZ0QSxgXNIGLq1ToUi.jpg\\', \\'poster_path\\': \\'https://image.tmdb.org/t/p/w185/sdEOH0992YZ0QSxgXNIGLq1ToUi.jpg\\', \\'vote_average\\': 7.7, \\'vote_count\\': 14068, \\'movie_image_ids\\': \\'\\'}, \\'fields\\': {\\'id\\': [\\'672\\'], \\'title\\': [\\'Harry Potter and the Chamber of Secrets\\']}}, {\\'_index\\': \\'tmdb\\', \\'_id\\': \\'5W6o5ZIBCtyA4Ms4diU2\\', \\'_score\\': 16.287874, \\'_source\\': {\\'id\\': \\'80530\\', \\'title\\': \\'Magic Beyond Words: The J.K. Rowling Story\\', \\'overview\\': \\'A look at J.K. Rowling from her humble beginnings as an imaginative young girl and awkward teenager, to the loss of her mother and the genesis of the Harry Potter book series.\\', \\'tagline\\': \\'\\', \\'directors\\': [\\'Paul A. Kaufman\\'], \\'cast\\': \\'Poppy Montgomery Emily Holmes Antonio Cupo Janet Kidder Madison Desjarlais Andy Maton Aislyn Watson Marie West Lisa Norton Sarah Desjardins Patti Allan Wesley MacInnes Paul McGillion Glynis Davies Kirsten Slenning Kirsten Robek Loretta Walsh Eliza Faria Beatrice King Christian J. Stewart Evan Bird Ray William Johnson Christine Chatelain Greigh Laschuk Charles Jarman\\', \\'genres\\': [\\'Drama\\', \\'TV Movie\\'], \\'release_date\\': \\'2011-07-18\\', \\'release_year\\': \\'2011\\', \\'poster_file\\': \\'q57TPuSvaPmhbzzb7yWyKcApNc6.jpg\\', \\'poster_path\\': \\'https://image.tmdb.org/t/p/w185/q57TPuSvaPmhbzzb7yWyKcApNc6.jpg\\', \\'vote_average\\': 7.0, \\'vote_count\\': 128, \\'movie_image_ids\\': \\'\\'}, \\'fields\\': {\\'id\\': [\\'80530\\'], \\'title\\': [\\'Magic Beyond Words: The J.K. Rowling Story\\']}}, {\\'_index\\': \\'tmdb\\', \\'_id\\': \\'HG2o5ZIBCtyA4Ms4bVi_\\', \\'_score\\': 15.10887, \\'_source\\': {\\'id\\': \\'671\\', \\'title\\': \"Harry Potter and the Philosopher\\'s Stone\", \\'overview\\': \"Harry Potter has lived under the stairs at his aunt and uncle\\'s house his whole life. But on his 11th birthday, he learns he\\'s a powerful wizard -- with a place waiting for him at the Hogwarts School of Witchcraft and Wizardry. As he learns to harness his newfound powers with the help of the school\\'s kindly headmaster, Harry uncovers the truth about his parents\\' deaths -- and about the villain who\\'s to blame.\", \\'tagline\\': \\'Let the Magic Begin.\\', \\'directors\\': [\\'Chris Columbus\\'], \\'cast\\': \\'Daniel Radcliffe Rupert Grint Emma Watson Richard Harris Tom Felton Robbie Coltrane Alan Rickman Maggie Smith Richard Griffiths Ian Hart Fiona Shaw John Hurt David Bradley Matthew Lewis Sean Biggerstaff Warwick Davis Harry Melling James Phelps Oliver Phelps John Cleese Chris Rankin Alfred Enoch Devon Murray Jamie Waylett Josh Herdman Zoë Wanamaker Julie Walters Bonnie Wright Luke Youngblood Verne Troyer Adrian Rawlins Geraldine Somerville Elizabeth Spriggs Richard Bremmer Nina Young Terence Bayler Harry Taylor Jean Southern Leslie Phillips Simon Fisher-Becker Derek Deadman Ray Fearon Eleanor Columbus Ben Borowiecki Danielle Tabor Leilah Sutherland Emily Dale Will Theakston Scot Fearn Saunders Triplets Jimmy Vee Kieri Kennedy Christina Petrou Gemma Sandzer Leila Hoffman David Brett Zoe Sugg Hazel Showham Bernadette Jane Vanderkar Julianne Hough\\', \\'genres\\': [\\'Adventure\\', \\'Fantasy\\', \\'Family\\'], \\'release_date\\': \\'2001-11-16\\', \\'release_year\\': \\'2001\\', \\'poster_file\\': \\'wuMc08IPKEatf9rnMNXvIDxqP4W.jpg\\', \\'poster_path\\': \\'https://image.tmdb.org/t/p/w185/wuMc08IPKEatf9rnMNXvIDxqP4W.jpg\\', \\'vote_average\\': 7.9, \\'vote_count\\': 16755, \\'movie_image_ids\\': \\'\\'}, \\'fields\\': {\\'id\\': [\\'671\\'], \\'title\\': [\"Harry Potter and the Philosopher\\'s Stone\"]}}, {\\'_index\\': \\'tmdb\\', \\'_id\\': \\'B22o5ZIBCtyA4Ms4c_qQ\\', \\'_score\\': 14.626439, \\'_source\\': {\\'id\\': \\'393135\\', \\'title\\': \\'Harry Potter and the Ten Years Later\\', \\'overview\\': \"Furious Molecules\\' new parody web series \\'Harry Potter and the Ten Years Later\\' takes a look at our hero ten years after taking down He-Whose-Name-Nobody-Quite-Remembers (but before that sappy epilogue full of kids). Things have changed significantly in Harry\\'s world. With no dark wizards or witches left, the Ministry of Magic\\'s Auror Department shuts down, leaving Harry unemployed. Ginny wants to start a family, Hermione is having doubts about her goody-goody lifestyle, and Ron... well, he\\'s Ron. Everything seems very average in a late-twenties-problem kind of way-- but as always, trouble finds Harry yet again.\", \\'tagline\\': \"\\'Harry Potter and the Ten Years Later\\' takes a look at our hero ten years after taking down He-Whose-Name-Nobody-Quite-Remembers\", \\'directors\\': [], \\'cast\\': \\'Matt DeNoto Matt DeNoto\\', \\'genres\\': [], \\'release_date\\': \\'2012-10-07\\', \\'release_year\\': \\'2012\\', \\'poster_file\\': \\'zh1KtXxbcfj3wj202aEEE2E8V3n.jpg\\', \\'poster_path\\': \\'https://image.tmdb.org/t/p/w185/zh1KtXxbcfj3wj202aEEE2E8V3n.jpg\\', \\'vote_average\\': 10.0, \\'vote_count\\': 1, \\'movie_image_ids\\': \\'\\'}, \\'fields\\': {\\'id\\': [\\'393135\\'], \\'title\\': [\\'Harry Potter and the Ten Years Later\\']}}, {\\'_index\\': \\'tmdb\\', \\'_id\\': \\'mm2o5ZIBCtyA4Ms4bWnh\\', \\'_score\\': 13.16452, \\'_source\\': {\\'id\\': \\'483898\\', \\'title\\': \\'50 Greatest Harry Potter Moments\\', \\'overview\\': \"To mark the release two weeks ago of the eighth and final movie in the series, Robbie Coltrane narrates a countdown of the movie franchise\\'s best moments. From Harry\\'s first meeting with Ron and Hermione aboard the Hogwarts Express through to magical mysteries.\", \\'tagline\\': \\'\\', \\'directors\\': [], \\'cast\\': \\'Robbie Coltrane Daniel Radcliffe Julie Walters Emma Watson Rupert Grint Mark Williams J.K. Rowling Jason Isaacs\\', \\'genres\\': [\\'Documentary\\'], \\'release_date\\': \\'2011-07-27\\', \\'release_year\\': \\'2011\\', \\'poster_file\\': \\'g1xiBoLD6v3ZaXPa4QtuXiQeYKW.jpg\\', \\'poster_path\\': \\'https://image.tmdb.org/t/p/w185/g1xiBoLD6v3ZaXPa4QtuXiQeYKW.jpg\\', \\'vote_average\\': 8.4, \\'vote_count\\': 8, \\'movie_image_ids\\': \\'\\'}, \\'fields\\': {\\'id\\': [\\'483898\\'], \\'title\\': [\\'50 Greatest Harry Potter Moments\\']}}, {\\'_index\\': \\'tmdb\\', \\'_id\\': \\'nG6o5ZIBCtyA4Ms4eE0Q\\', \\'_score\\': 13.110825, \\'_source\\': {\\'id\\': \\'319391\\', \\'title\\': \\'J.K. Rowling and the Birth of Harry Potter\\', \\'overview\\': \"In this fascinating (unauthorized) biographical documentary, you\\'ll get the inside scoop on the creative force behind one of the greatest publishing phenomena in the last 100 years -- J.K. Rowling, author of the Harry Potter series of books. Explore Rowling\\'s meteoric rise from obscurity into the ranks of the world\\'s richest women (via her books), and visit the people and places that played a significant role in her life.\", \\'tagline\\': \\'\\', \\'directors\\': [], \\'cast\\': \\'\\', \\'genres\\': [\\'Documentary\\'], \\'release_date\\': \\'2004-12-07\\', \\'release_year\\': \\'2004\\', \\'poster_file\\': \\'hY6Ndq1O4JiEngZ7xIOtcLUCDTX.jpg\\', \\'poster_path\\': \\'https://image.tmdb.org/t/p/w185/hY6Ndq1O4JiEngZ7xIOtcLUCDTX.jpg\\', \\'vote_average\\': 10.0, \\'vote_count\\': 1, \\'movie_image_ids\\': \\'\\'}, \\'fields\\': {\\'id\\': [\\'319391\\'], \\'title\\': [\\'J.K. Rowling and the Birth of Harry Potter\\']}}]}}'"
      ]
     },
     "metadata": {},
     "output_type": "display_data"
    },
    {
     "name": "stdout",
     "output_type": "stream",
     "text": [
      "\n",
      "Returned Documents:\n"
     ]
    },
    {
     "data": {
      "text/plain": [
       "[{'id': '570724', 'title': 'The Story of Harry Potter', 'score': 2.4261155},\n",
       " {'id': '116972',\n",
       "  'title': 'Discovering the Real World of Harry Potter',\n",
       "  'score': 2.247846},\n",
       " {'id': '672',\n",
       "  'title': 'Harry Potter and the Chamber of Secrets',\n",
       "  'score': 2.017499},\n",
       " {'id': '671',\n",
       "  'title': \"Harry Potter and the Philosopher's Stone\",\n",
       "  'score': 1.9944702},\n",
       " {'id': '54507', 'title': 'A Very Potter Musical', 'score': 1.9833609}]"
      ]
     },
     "metadata": {},
     "output_type": "display_data"
    }
   ],
   "source": [
    "request = {\"query\": \"harry potter\",\n",
    "           \"query_fields\": [\"title\", \"overview\"],\n",
    "           \"return_fields\": [\"title\", \"id\", \"score\"],\n",
    "           \"rerank_query\": \"harry potter\",\n",
    "           \"rerank_count\": 500,\n",
    "           \"log\": True}\n",
    "response = ltr.search_with_model(\"movie_model\", **request)\n",
    "print(\"\\nReturned Documents:\")\n",
    "display(response[\"docs\"])"
   ]
  },
  {
   "cell_type": "markdown",
   "metadata": {},
   "source": [
    "## Rinse and repeat!\n",
    "\n",
    "What would you change about this model or the features used? Maybe revisit [the features](2.judgments-and-logging.ipynb) to explore some different ideas?\n",
    "\n",
    "Up next: [Chapter 11: Automating Learning to Rank with Click Models](../ch11/0.setup.ipynb)"
   ]
  }
 ],
 "metadata": {
  "kernelspec": {
   "display_name": "Python 3 (ipykernel)",
   "language": "python",
   "name": "python3"
  }
 },
 "nbformat": 4,
 "nbformat_minor": 4
}
