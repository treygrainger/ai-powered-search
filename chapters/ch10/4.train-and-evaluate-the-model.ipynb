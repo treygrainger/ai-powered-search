{
 "cells": [
  {
   "cell_type": "markdown",
   "metadata": {},
   "source": [
    "# Train a Model, Evaluate, and Use in the Search Engine\n",
    "\n",
    "In these last few steps we train a model using the pairwise training set generated [in the previous step](3.pairwise-transform.ipynb)."
   ]
  },
  {
   "cell_type": "code",
   "execution_count": 1,
   "metadata": {},
   "outputs": [],
   "source": [
    "from itertools import groupby\n",
    "import numpy\n",
    "import random\n",
    "import sys\n",
    "sys.path.append('../..')\n",
    "from aips import *\n",
    "import json\n",
    "\n",
    "engine = get_engine()\n",
    "tmdb_collection = engine.get_collection(\"tmdb\")\n",
    "ltr = get_ltr_engine(tmdb_collection)"
   ]
  },
  {
   "cell_type": "markdown",
   "metadata": {},
   "source": [
    "## Reload judgments & training set\n",
    "\n",
    "Load the dataset generated [from the previous section](3.pairwise-transform.ipynb)."
   ]
  },
  {
   "cell_type": "code",
   "execution_count": 2,
   "metadata": {},
   "outputs": [
    {
     "name": "stdout",
     "output_type": "stream",
     "text": [
      "Parsing QID 100\n"
     ]
    }
   ],
   "source": [
    "from ltr.judgments import judgments_open\n",
    "\n",
    "predictor_deltas = numpy.load(\"data/predictor_deltas.npy\")\n",
    "feature_data = numpy.load(\"data/feature_data.npy\")\n",
    "\n",
    "std_devs = feature_data[-1]\n",
    "means = feature_data[-2]\n",
    "feature_deltas = feature_data[:-2]\n",
    "\n",
    "normed_judgments = []\n",
    "with judgments_open(\"data/normed_judgments.txt\") as judg_list:\n",
    "    for j in judg_list:\n",
    "        normed_judgments.append(j)"
   ]
  },
  {
   "cell_type": "markdown",
   "metadata": {},
   "source": [
    "## Listing 10.12\n",
    "\n",
    "Train the model with the fully transformed dataset"
   ]
  },
  {
   "cell_type": "code",
   "execution_count": 3,
   "metadata": {},
   "outputs": [
    {
     "data": {
      "text/plain": [
       "array([0.4051218 , 0.29006356, 0.14451722])"
      ]
     },
     "metadata": {},
     "output_type": "display_data"
    }
   ],
   "source": [
    "random.seed(0)\n",
    "\n",
    "from sklearn import svm\n",
    "model = svm.LinearSVC(max_iter=10000)\n",
    "model.fit(feature_deltas, predictor_deltas)\n",
    "display(model.coef_[0])"
   ]
  },
  {
   "cell_type": "markdown",
   "metadata": {},
   "source": [
    "## A few sample features (omitted from book)\n",
    "\n",
    "Gathering features from a few movies \"Star Trek II: The Wrath of Khan\" and \"Star Trek III: Search for Spock\" to kick the tires of our model."
   ]
  },
  {
   "cell_type": "code",
   "execution_count": 4,
   "metadata": {},
   "outputs": [
    {
     "data": {
      "text/plain": [
       "{'size': 100,\n",
       " 'query': {'bool': {'must': [{'terms': {'id': ['154']}}],\n",
       "   'should': [{'sltr': {'_name': 'logged_featureset',\n",
       "      'featureset': 'movie_model',\n",
       "      'params': {'keywords': 'wrath of khan'}}}]}},\n",
       " 'ext': {'ltr_log': {'log_specs': {'name': 'main',\n",
       "    'named_query': 'logged_featureset',\n",
       "    'missing_as_zero': True}}}}"
      ]
     },
     "metadata": {},
     "output_type": "display_data"
    },
    {
     "data": {
      "text/plain": [
       "{'took': 4,\n",
       " 'timed_out': False,\n",
       " '_shards': {'total': 1, 'successful': 1, 'skipped': 0, 'failed': 0},\n",
       " 'hits': {'total': {'value': 1, 'relation': 'eq'},\n",
       "  'max_score': 2003.5111,\n",
       "  'hits': [{'_index': 'tmdb',\n",
       "    '_id': 'cE9XQJMBw6zGxX87q9eC',\n",
       "    '_score': 2003.5111,\n",
       "    '_source': {'id': '154',\n",
       "     'title': 'Star Trek II: The Wrath of Khan',\n",
       "     'overview': 'Admiral James T. Kirk is feeling old; the prospect of accompanying his old ship the Enterprise on a two week cadet cruise is not making him feel any younger. But the training cruise becomes a life or death struggle when Khan escapes from years of exile and captures the power of creation itself.',\n",
       "     'tagline': 'At the end of the universe lies the beginning of vengeance.',\n",
       "     'directors': ['Nicholas Meyer'],\n",
       "     'cast': 'William Shatner Leonard Nimoy DeForest Kelley Ricardo Montalban Kirstie Alley Bibi Besch Merritt Butrick Walter Koenig James Doohan Nichelle Nichols George Takei Paul Winfield Judson Scott Ike Eisenmann John Vargas John Winston Paul Kent',\n",
       "     'genres': ['Action', 'Adventure', 'Science Fiction', 'Thriller'],\n",
       "     'release_date': '1982-06-04',\n",
       "     'release_year': '1982',\n",
       "     'poster_file': '53J4DyS0wMp5r3XYJvzUh9cf0Hz.jpg',\n",
       "     'poster_path': 'https://image.tmdb.org/t/p/w185/53J4DyS0wMp5r3XYJvzUh9cf0Hz.jpg',\n",
       "     'vote_average': 7.4,\n",
       "     'vote_count': 1169,\n",
       "     'movie_image_ids': ''},\n",
       "    'fields': {'_ltrlog': [{'main': [{'name': 'title_bm25',\n",
       "         'value': 13.027779},\n",
       "        {'name': 'overview_bm25', 'value': 7.483282},\n",
       "        {'name': 'release_year', 'value': 1982.0}]}]},\n",
       "    'matched_queries': ['logged_featureset']}]}}"
      ]
     },
     "metadata": {},
     "output_type": "display_data"
    },
    {
     "data": {
      "text/plain": [
       "[-0.4319807684776348, -0.4444782048635971, -0.4675688993325839]"
      ]
     },
     "metadata": {},
     "output_type": "display_data"
    }
   ],
   "source": [
    "# If you wanted to confirm Wrath of Khans features\n",
    "\n",
    "ids = [\"154\"] #social network graded documents\n",
    "options = {\"keywords\": \"wrath of khan\"}\n",
    "response = ltr.get_logged_features(\"movie_model\", ids, options=options, fields=[\"id\", \"title\"], log=True)\n",
    "\n",
    "# Features from the search engine\n",
    "# Wrath of Khan\n",
    "wok_features = [5.9217176, 3.401492, 1982.0]\n",
    "# Search For Spock\n",
    "spock_features = [0.0,0.0,1984.0]\n",
    "\n",
    "# Wrath of Khan\n",
    "normed_wok_features = [0, 0, 0]\n",
    "for idx, f in enumerate(wok_features):\n",
    "    normed_wok_features[idx] = (f - means[idx]) / std_devs[idx]\n",
    "\n",
    "normed_spock_features = [0, 0, 0]\n",
    "for idx, f in enumerate(spock_features):\n",
    "    normed_spock_features[idx] = (f - means[idx]) / std_devs[idx]\n",
    "    \n",
    "display(normed_spock_features)"
   ]
  },
  {
   "cell_type": "markdown",
   "metadata": {},
   "source": [
    "## Taking the model for test drive... (omitted from book)\n",
    "\n",
    "Here we score a few documents with the model. This code is omitted from the book, but is explored in section 10.6.2"
   ]
  },
  {
   "cell_type": "code",
   "execution_count": 5,
   "metadata": {},
   "outputs": [
    {
     "data": {
      "text/plain": [
       "-0.3715035144005693"
      ]
     },
     "execution_count": 5,
     "metadata": {},
     "output_type": "execute_result"
    }
   ],
   "source": [
    "def score_one(features, model):\n",
    "    score = 0.0\n",
    "    for idx, f in enumerate(features):\n",
    "        this_coef = model.coef_[0][idx].item()\n",
    "        score += f * this_coef\n",
    "    \n",
    "    return score\n",
    "\n",
    "def rank(query_judgments, model):\n",
    "    for j in query_judgments:\n",
    "        j.score = score_one(j.features, model)\n",
    "    \n",
    "    return sorted(query_judgments, key=lambda j: j.score, reverse=True)\n",
    "\n",
    "score_one(normed_spock_features, model)"
   ]
  },
  {
   "cell_type": "markdown",
   "metadata": {},
   "source": [
    "Wrath of Khan should score higher"
   ]
  },
  {
   "cell_type": "code",
   "execution_count": 6,
   "metadata": {},
   "outputs": [
    {
     "data": {
      "text/plain": [
       "0.5633393721557998"
      ]
     },
     "execution_count": 6,
     "metadata": {},
     "output_type": "execute_result"
    }
   ],
   "source": [
    "score_one(normed_wok_features, model)"
   ]
  },
  {
   "cell_type": "markdown",
   "metadata": {},
   "source": [
    "## Listing 10.13 Test Training Split"
   ]
  },
  {
   "cell_type": "code",
   "execution_count": 7,
   "metadata": {
    "tags": []
   },
   "outputs": [],
   "source": [
    "random.seed(1234)"
   ]
  },
  {
   "cell_type": "code",
   "execution_count": 8,
   "metadata": {},
   "outputs": [],
   "source": [
    "all_qids = list(set([j.qid for j in normed_judgments]))\n",
    "random.shuffle(all_qids)\n",
    "proportion_train = 0.1\n",
    "\n",
    "split_index = int(len(all_qids) * proportion_train)\n",
    "test_qids = all_qids[:split_index]\n",
    "train_qids = all_qids[split_index:]\n",
    "\n",
    "train_data, test_data= [], []\n",
    "for j in normed_judgments:\n",
    "    if j.qid in train_qids:\n",
    "        train_data.append(j)\n",
    "    elif j.qid in test_qids:\n",
    "        test_data.append(j)"
   ]
  },
  {
   "cell_type": "markdown",
   "metadata": {},
   "source": [
    "## Repeated from earlier - parwise transform\n",
    "\n",
    "You've already seen this code in the third notebook, so you can move on. We just need it here to do a pairwise_transform of the training data to train a model."
   ]
  },
  {
   "cell_type": "code",
   "execution_count": 9,
   "metadata": {},
   "outputs": [],
   "source": [
    "import numpy\n",
    "\n",
    "def pairwise_transform(normed_judgments):\n",
    "        \n",
    "    from itertools import groupby\n",
    "    predictor_deltas = []\n",
    "    feature_deltas = []\n",
    "    \n",
    "    # For each query's judgments\n",
    "    for qid, query_judgments in groupby(normed_judgments, key=lambda j: j.qid):\n",
    "\n",
    "        # Annoying issue consuming python iterators, we ensure we have two\n",
    "        # full copies of each query's judgments\n",
    "        query_judgments_copy_1 = list(query_judgments) \n",
    "        query_judgments_copy_2 = list(query_judgments_copy_1)\n",
    "\n",
    "        # Examine every judgment combo for this query, \n",
    "        # if they're different, store the pairwise difference:\n",
    "        # +1 if judgment1 more relevant\n",
    "        # -1 if judgment2 more relevant\n",
    "        for judgment1 in query_judgments_copy_1:\n",
    "            for judgment2 in query_judgments_copy_2:\n",
    "                \n",
    "                j1_features=numpy.array(judgment1.features)\n",
    "                j2_features=numpy.array(judgment2.features)\n",
    "                \n",
    "                if judgment1.grade > judgment2.grade:\n",
    "                    predictor_deltas.append(+1)\n",
    "                    feature_deltas.append(j1_features - j2_features)\n",
    "                elif judgment1.grade < judgment2.grade:\n",
    "                    predictor_deltas.append(-1)\n",
    "                    feature_deltas.append(j1_features - j2_features)\n",
    "\n",
    "    # For training purposes, we return these as numpy arrays\n",
    "    return numpy.array(feature_deltas), numpy.array(predictor_deltas)"
   ]
  },
  {
   "cell_type": "markdown",
   "metadata": {},
   "source": [
    "## Listing 10.14 - train on just train data\n",
    "\n",
    "We repeat the model training process only on the train subset of the queries. Notice because our test/training split is at the query level we repeat the pairwise transform we did earlier"
   ]
  },
  {
   "cell_type": "code",
   "execution_count": 10,
   "metadata": {},
   "outputs": [
    {
     "name": "stdout",
     "output_type": "stream",
     "text": [
      "[LibLinear]"
     ]
    },
    {
     "data": {
      "text/plain": [
       "array([0.37486813, 0.28187456, 0.1209792 ])"
      ]
     },
     "metadata": {},
     "output_type": "display_data"
    }
   ],
   "source": [
    "train_feature_deltas, train_predictor_deltas = pairwise_transform(train_data)\n",
    "\n",
    "from sklearn import svm\n",
    "model = svm.LinearSVC(max_iter=10000, verbose=1)\n",
    "model.fit(train_feature_deltas, train_predictor_deltas)\n",
    "display(model.coef_[0])"
   ]
  },
  {
   "cell_type": "markdown",
   "metadata": {},
   "source": [
    "## Listing 10.15 - eval model on test data\n",
    "\n",
    "Here we compute a simple precision metric (proportion of relevant results in top N) averaged over all the test data. It's important to note this is not a very robust statistical analysis of the model's quality, we would want to perform multiple test-training samples and perform statistical significance testing between this experiment and a baseline"
   ]
  },
  {
   "cell_type": "code",
   "execution_count": 11,
   "metadata": {},
   "outputs": [
    {
     "name": "stdout",
     "output_type": "stream",
     "text": [
      "0.36\n"
     ]
    }
   ],
   "source": [
    "def evaluate_model(test_data, model, k=5):\n",
    "    total_precision = 0\n",
    "    unique_queries = groupby(test_data, lambda j: j.qid)\n",
    "    num_groups = 0\n",
    "    for qid, query_judgments in unique_queries:\n",
    "        num_groups += 1\n",
    "        ranked = rank(list(query_judgments), model)\n",
    "        total_relevant = len([j for j in ranked[:k] if j.grade == 1])\n",
    "        total_precision += total_relevant / float(k)\n",
    "    return total_precision / num_groups\n",
    "\n",
    "evaluation = evaluate_model(test_data, model)\n",
    "print(evaluation)"
   ]
  },
  {
   "cell_type": "markdown",
   "metadata": {},
   "source": [
    "# Listing 10.16 - A search engine LTR model\n",
    "\n",
    "This turns the model into one usable by the search engine\n",
    "\n",
    "- The weights for each (normalized) feature\n",
    "- The means to use to normalize each feature\n",
    "- The std deviation used to normalize each feature"
   ]
  },
  {
   "cell_type": "code",
   "execution_count": 12,
   "metadata": {},
   "outputs": [
    {
     "data": {
      "text/plain": [
       "{'model': {'name': 'movie_model',\n",
       "  'model': {'type': 'model/linear',\n",
       "   'feature_normalizers': {'title_bm25': {'standard': {'mean': 1.5939970007512951,\n",
       "      'standard_deviation': 3.689972140122766}},\n",
       "    'overview_bm25': {'standard': {'mean': 1.4658440933160637,\n",
       "      'standard_deviation': 3.2978986984657808}},\n",
       "    'release_year': {'standard': {'mean': 1993.3349740932642,\n",
       "      'standard_deviation': 19.964916628520722}}},\n",
       "   'definition': {'title_bm25': 0.37486813265466795,\n",
       "    'overview_bm25': 0.28187456135391237,\n",
       "    'release_year': 0.12097919822120526}}}}"
      ]
     },
     "metadata": {},
     "output_type": "display_data"
    }
   ],
   "source": [
    "model_name = \"movie_model\"\n",
    "feature_names = [\"title_bm25\", \"overview_bm25\", \"release_year\"]\n",
    "linear_model = ltr.generate_model(model_name, feature_names,\n",
    "                                  means, std_devs, model.coef_[0])\n",
    "response = ltr.upload_model(linear_model)\n",
    "display(linear_model)"
   ]
  },
  {
   "cell_type": "markdown",
   "metadata": {},
   "source": [
    "## Listing 10.17 - Search with the trained LTR model\n",
    "\n",
    "Executing a search with the LTR model reranking (expensive)"
   ]
  },
  {
   "cell_type": "code",
   "execution_count": 13,
   "metadata": {},
   "outputs": [
    {
     "name": "stdout",
     "output_type": "stream",
     "text": [
      "\n",
      "Returned Documents:\n"
     ]
    },
    {
     "data": {
      "text/plain": [
       "[{'id': '570724',\n",
       "  'title': 'The Story of Harry Potter',\n",
       "  'overview': 'A three-part documentary series by Mikey Neumann exploring the behind-the-scenes stories of the eight core Harry Potter films, as well as deconstructing their themes and messages.',\n",
       "  'tagline': 'It Takes a Village to Make a Movie',\n",
       "  'directors': ['Mikey Neumann'],\n",
       "  'cast': '',\n",
       "  'genres': ['Documentary'],\n",
       "  'release_date': '2018-12-24',\n",
       "  'release_year': '2018',\n",
       "  'poster_file': 's0FRUpp9nsM0N8F2S7hdIgeAkHy.jpg',\n",
       "  'poster_path': 'https://image.tmdb.org/t/p/w185/s0FRUpp9nsM0N8F2S7hdIgeAkHy.jpg',\n",
       "  'vote_average': 10.0,\n",
       "  'vote_count': 2,\n",
       "  'movie_image_ids': '',\n",
       "  'score': 2.4261162},\n",
       " {'id': '116972',\n",
       "  'title': 'Discovering the Real World of Harry Potter',\n",
       "  'overview': 'Explore the myths and legends that inhabit the real world of Harry Potter. Follow award-winning documentary filmmakers as they offer insights to witches, wizards, Greek gods, ancient Celts, ghosts, magical creatures, alchemy, and ancient spells. Narrated by British actor Hugh Laurie, this fascinating documentary brings new dimensions to the historical and scientific world behind the Harry Potter series.',\n",
       "  'tagline': '',\n",
       "  'directors': ['Shaun Trevisick'],\n",
       "  'cast': 'Hugh Laurie J.K. Rowling Gavin Scott',\n",
       "  'genres': ['Family', 'Documentary'],\n",
       "  'release_date': '2001-12-10',\n",
       "  'release_year': '2001',\n",
       "  'poster_file': 'yLpnOqKw3ZycFu8t5Gil1BqTbnB.jpg',\n",
       "  'poster_path': 'https://image.tmdb.org/t/p/w185/yLpnOqKw3ZycFu8t5Gil1BqTbnB.jpg',\n",
       "  'vote_average': 6.0,\n",
       "  'vote_count': 5,\n",
       "  'movie_image_ids': '',\n",
       "  'score': 2.2478464},\n",
       " {'id': '672',\n",
       "  'title': 'Harry Potter and the Chamber of Secrets',\n",
       "  'overview': 'Cars fly, trees fight back, and a mysterious house-elf comes to warn Harry Potter at the start of his second year at Hogwarts. Adventure and danger await when bloody writing on a wall announces: The Chamber Of Secrets Has Been Opened. To save Hogwarts will require all of Harry, Ron and Hermione’s magical abilities and courage.',\n",
       "  'tagline': 'Hogwarts is back in session.',\n",
       "  'directors': ['Chris Columbus'],\n",
       "  'cast': \"Daniel Radcliffe Rupert Grint Emma Watson Richard Harris Alan Rickman Tom Felton Kenneth Branagh Robbie Coltrane Maggie Smith David Bradley Bonnie Wright Matthew Lewis Jason Isaacs Shirley Henderson Toby Jones James Phelps Oliver Phelps Richard Griffiths Fiona Shaw Harry Melling John Cleese Julie Walters Mark Williams Jamie Waylett Josh Herdman Alfred Enoch Devon Murray Sean Biggerstaff Hugh Mitchell Chris Rankin Warwick Davis Robert Hardy Miriam Margolyes Gemma Jones Christian Coulson Edward Randell Luke Youngblood Eleanor Columbus Louis Doyle Emily Dale Rochelle Douglas Leslie Phillips Julian Glover Martin Bayfield Gemma Padley Danielle Tabor Jamie Yeates Charlotte Skeoch Helen Stuart Nina Young Adrian Rawlins Geraldine Somerville Jim Norton Veronica Clifford Heather Bleasdale Tom Knight Ben Borowiecki Kathleen Cauley Alfred Burke Peter O'Farrell Violet Columbus Harry Taylor\",\n",
       "  'genres': ['Adventure', 'Fantasy'],\n",
       "  'release_date': '2002-11-13',\n",
       "  'release_year': '2002',\n",
       "  'poster_file': 'sdEOH0992YZ0QSxgXNIGLq1ToUi.jpg',\n",
       "  'poster_path': 'https://image.tmdb.org/t/p/w185/sdEOH0992YZ0QSxgXNIGLq1ToUi.jpg',\n",
       "  'vote_average': 7.7,\n",
       "  'vote_count': 14068,\n",
       "  'movie_image_ids': '',\n",
       "  'score': 2.0174994},\n",
       " {'id': '671',\n",
       "  'title': \"Harry Potter and the Philosopher's Stone\",\n",
       "  'overview': \"Harry Potter has lived under the stairs at his aunt and uncle's house his whole life. But on his 11th birthday, he learns he's a powerful wizard -- with a place waiting for him at the Hogwarts School of Witchcraft and Wizardry. As he learns to harness his newfound powers with the help of the school's kindly headmaster, Harry uncovers the truth about his parents' deaths -- and about the villain who's to blame.\",\n",
       "  'tagline': 'Let the Magic Begin.',\n",
       "  'directors': ['Chris Columbus'],\n",
       "  'cast': 'Daniel Radcliffe Rupert Grint Emma Watson Richard Harris Tom Felton Robbie Coltrane Alan Rickman Maggie Smith Richard Griffiths Ian Hart Fiona Shaw John Hurt David Bradley Matthew Lewis Sean Biggerstaff Warwick Davis Harry Melling James Phelps Oliver Phelps John Cleese Chris Rankin Alfred Enoch Devon Murray Jamie Waylett Josh Herdman Zoë Wanamaker Julie Walters Bonnie Wright Luke Youngblood Verne Troyer Adrian Rawlins Geraldine Somerville Elizabeth Spriggs Richard Bremmer Nina Young Terence Bayler Harry Taylor Jean Southern Leslie Phillips Simon Fisher-Becker Derek Deadman Ray Fearon Eleanor Columbus Ben Borowiecki Danielle Tabor Leilah Sutherland Emily Dale Will Theakston Scot Fearn Saunders Triplets Jimmy Vee Kieri Kennedy Christina Petrou Gemma Sandzer Leila Hoffman David Brett Zoe Sugg Hazel Showham Bernadette Jane Vanderkar Julianne Hough',\n",
       "  'genres': ['Adventure', 'Fantasy', 'Family'],\n",
       "  'release_date': '2001-11-16',\n",
       "  'release_year': '2001',\n",
       "  'poster_file': 'wuMc08IPKEatf9rnMNXvIDxqP4W.jpg',\n",
       "  'poster_path': 'https://image.tmdb.org/t/p/w185/wuMc08IPKEatf9rnMNXvIDxqP4W.jpg',\n",
       "  'vote_average': 7.9,\n",
       "  'vote_count': 16755,\n",
       "  'movie_image_ids': '',\n",
       "  'score': 1.9944708},\n",
       " {'id': '54507',\n",
       "  'title': 'A Very Potter Musical',\n",
       "  'overview': 'In April 2009, a group of University of Michigan students (Team StarKid) performed what was renamed \"A Very Potter Musical\", a two act musical parody that featured major elements from all seven Harry Potter books and an original score.',\n",
       "  'tagline': 'The awesomeness begins',\n",
       "  'directors': ['Matt Lang'],\n",
       "  'cast': 'Darren Criss Joey Richter Bonnie Gruesen Lauren Lopez Joseph Walker Brian Rosenthal Dylan Saunders Joe Moses Jaime Lyn Beatty Devin Lytle Julia Albain',\n",
       "  'genres': ['Music', 'Comedy'],\n",
       "  'release_date': '2009-04-09',\n",
       "  'release_year': '2009',\n",
       "  'poster_file': '8GcoqIPxjFqfW2VhG9OcQyftzXC.jpg',\n",
       "  'poster_path': 'https://image.tmdb.org/t/p/w185/8GcoqIPxjFqfW2VhG9OcQyftzXC.jpg',\n",
       "  'vote_average': 7.1,\n",
       "  'vote_count': 14,\n",
       "  'movie_image_ids': '',\n",
       "  'score': 1.9833612},\n",
       " {'id': '393135',\n",
       "  'title': 'Harry Potter and the Ten Years Later',\n",
       "  'overview': \"Furious Molecules' new parody web series 'Harry Potter and the Ten Years Later' takes a look at our hero ten years after taking down He-Whose-Name-Nobody-Quite-Remembers (but before that sappy epilogue full of kids). Things have changed significantly in Harry's world. With no dark wizards or witches left, the Ministry of Magic's Auror Department shuts down, leaving Harry unemployed. Ginny wants to start a family, Hermione is having doubts about her goody-goody lifestyle, and Ron... well, he's Ron. Everything seems very average in a late-twenties-problem kind of way-- but as always, trouble finds Harry yet again.\",\n",
       "  'tagline': \"'Harry Potter and the Ten Years Later' takes a look at our hero ten years after taking down He-Whose-Name-Nobody-Quite-Remembers\",\n",
       "  'directors': [],\n",
       "  'cast': 'Matt DeNoto Matt DeNoto',\n",
       "  'genres': [],\n",
       "  'release_date': '2012-10-07',\n",
       "  'release_year': '2012',\n",
       "  'poster_file': 'zh1KtXxbcfj3wj202aEEE2E8V3n.jpg',\n",
       "  'poster_path': 'https://image.tmdb.org/t/p/w185/zh1KtXxbcfj3wj202aEEE2E8V3n.jpg',\n",
       "  'vote_average': 10.0,\n",
       "  'vote_count': 1,\n",
       "  'movie_image_ids': '',\n",
       "  'score': 1.9292319},\n",
       " {'id': '482408',\n",
       "  'title': 'Harry Potter - A History Of Magic',\n",
       "  'overview': 'A thrilling journey through legends, belief and folklore, this film goes behind the scenes with the British Library as they search to tell that story through objects in their collection, in an ambitious new exhibition: Harry Potter: A History Of Magic.  J.K. Rowling, who is lending unseen manuscripts, drawings and drafts from her private archives (which will sit alongside treasures from the British Library, as well as original drafts and drawings from Jim Kay) talks about some of the personal items she has lent to the exhibition and gives new insight into her writing, looking at some of the objects from the exhibition that have fired her imagination.',\n",
       "  'tagline': '',\n",
       "  'directors': ['Jude Ho', 'Alex Harding'],\n",
       "  'cast': 'Imelda Staunton J.K. Rowling David Thewlis Warwick Davis Evanna Lynch Mark Williams Miriam Margolyes',\n",
       "  'genres': ['Documentary'],\n",
       "  'release_date': '2017-10-28',\n",
       "  'release_year': '2017',\n",
       "  'poster_file': 'peJehrEiA5xD9sFBuL61MQdFY0n.jpg',\n",
       "  'poster_path': 'https://image.tmdb.org/t/p/w185/peJehrEiA5xD9sFBuL61MQdFY0n.jpg',\n",
       "  'vote_average': 6.8,\n",
       "  'vote_count': 18,\n",
       "  'movie_image_ids': '',\n",
       "  'score': 1.7531159},\n",
       " {'id': '319391',\n",
       "  'title': 'J.K. Rowling and the Birth of Harry Potter',\n",
       "  'overview': \"In this fascinating (unauthorized) biographical documentary, you'll get the inside scoop on the creative force behind one of the greatest publishing phenomena in the last 100 years -- J.K. Rowling, author of the Harry Potter series of books. Explore Rowling's meteoric rise from obscurity into the ranks of the world's richest women (via her books), and visit the people and places that played a significant role in her life.\",\n",
       "  'tagline': '',\n",
       "  'directors': [],\n",
       "  'cast': '',\n",
       "  'genres': ['Documentary'],\n",
       "  'release_date': '2004-12-07',\n",
       "  'release_year': '2004',\n",
       "  'poster_file': 'hY6Ndq1O4JiEngZ7xIOtcLUCDTX.jpg',\n",
       "  'poster_path': 'https://image.tmdb.org/t/p/w185/hY6Ndq1O4JiEngZ7xIOtcLUCDTX.jpg',\n",
       "  'vote_average': 10.0,\n",
       "  'vote_count': 1,\n",
       "  'movie_image_ids': '',\n",
       "  'score': 1.6906683},\n",
       " {'id': '698249',\n",
       "  'title': 'Creating the World of Harry Potter, Part 2: Characters',\n",
       "  'overview': \"“We really do look at the story and characters first,” producer David Heyman says. “That's the heart and that's the soul of the film.” And that's the heart and soul of this incisive, decade-spanning exploration of how the series' actors bring the beloved Harry Potter characters to life. Discover which parts of the J.K. Rowling books helped Daniel Radcliffe, Rupert Grint, Emma Watson, and more stars make their roles leap from page to screen. See screen tests, including Evanna Lynch (Luna Lovegood) and Jessie Cave (Lavender Brown) working with the established stars. Learn why so many of Britain's acting greats wanted to be part of Harry Potter's world... and which ones became mentors to the young stars. Share each director's vision as you watch Daniel, Rupert and Emma grow up with Harry, Ron and Hermione. Your journey into Harry’s world continues.\",\n",
       "  'tagline': \"There's magic in people\",\n",
       "  'directors': ['Chris Columbus',\n",
       "   'Alfonso Cuarón',\n",
       "   'Mike Newell',\n",
       "   'David Yates'],\n",
       "  'cast': 'Daniel Radcliffe Emma Watson Rupert Grint Robbie Coltrane Tom Felton Mark Williams Julie Walters John Hurt Kenneth Branagh Richard Harris Warwick Davis David Bradley Gary Oldman David Thewlis Oliver Phelps James Phelps Clémence Poésy Ralph Fiennes Michael Gambon Evanna Lynch Matthew Lewis Bonnie Wright Alan Rickman Brendan Gleeson Timothy Spall',\n",
       "  'genres': ['Documentary', 'Fantasy'],\n",
       "  'release_date': '2009-11-17',\n",
       "  'release_year': '2009',\n",
       "  'poster_file': '2FWEkiVZkHkEpU8YTgl1oraX2MP.jpg',\n",
       "  'poster_path': 'https://image.tmdb.org/t/p/w185/2FWEkiVZkHkEpU8YTgl1oraX2MP.jpg',\n",
       "  'vote_average': 10.0,\n",
       "  'vote_count': 1,\n",
       "  'movie_image_ids': '',\n",
       "  'score': 1.5987887},\n",
       " {'id': '674',\n",
       "  'title': 'Harry Potter and the Goblet of Fire',\n",
       "  'overview': 'Harry starts his fourth year at Hogwarts, competes in the treacherous Triwizard Tournament and faces the evil Lord Voldemort. Ron and Hermione help Harry manage the pressure – but Voldemort lurks, awaiting his chance to destroy Harry and all that he stands for.',\n",
       "  'tagline': 'Dark And Difficult Times Lie Ahead.',\n",
       "  'directors': ['Mike Newell'],\n",
       "  'cast': 'Daniel Radcliffe Rupert Grint Emma Watson Ralph Fiennes Michael Gambon Alan Rickman Robbie Coltrane Brendan Gleeson Gary Oldman Robert Pattinson Clémence Poésy Stanislav Yanevski Miranda Richardson Josh Herdman Maggie Smith Geraldine Somerville Matthew Lewis Frances de la Tour Tom Felton Roger Lloyd Pack Jason Isaacs Eric Sykes Timothy Spall David Tennant Mark Williams James Phelps Oliver Phelps Bonnie Wright Jeff Rawle Robert Hardy Sheila Allen Su Elliott Anne Lacy Flip Webster David Sterne Christopher Whittingham Liam McKenna Campbell Graham Margery Mason Katie Leung William Melling David Bradley Devon Murray Afshan Azad Warwick Davis Shefali Chowdhury Angelica Mandy Predrag Bjelac Tolga Safer Alfred Enoch Louis Doyle Jamie Waylett Charlotte Skeoch Robert Wilfort Tiana Benjamin Henry Lloyd-Hughes Jarvis Cocker Jonny Greenwood Philip Selway Steve Mackey Jason Buckle Steve Claydon Shirley Henderson Alan Watt Adrian Rawlins Paschal Friel Hazel Keech',\n",
       "  'genres': ['Adventure', 'Fantasy', 'Family'],\n",
       "  'release_date': '2005-11-16',\n",
       "  'release_year': '2005',\n",
       "  'poster_file': 'fECBtHlr0RB3foNHDiCBXeg9Bv9.jpg',\n",
       "  'poster_path': 'https://image.tmdb.org/t/p/w185/fECBtHlr0RB3foNHDiCBXeg9Bv9.jpg',\n",
       "  'vote_average': 7.8,\n",
       "  'vote_count': 13159,\n",
       "  'movie_image_ids': '',\n",
       "  'score': 1.5487074}]"
      ]
     },
     "metadata": {},
     "output_type": "display_data"
    }
   ],
   "source": [
    "request = {\"query\": \"harry potter\",\n",
    "           \"query_fields\": [\"title\", \"overview\"],\n",
    "           \"return_fields\": [\"title\", \"id\", \"score\"]}\n",
    "response = ltr.search_with_model(\"movie_model\", **request)\n",
    "print(\"\\nReturned Documents:\")\n",
    "display(response[\"docs\"])"
   ]
  },
  {
   "cell_type": "markdown",
   "metadata": {},
   "source": [
    "## Listing 10.18 - A search query utilizing a baseline search and rerank utilizing the model\n",
    "\n",
    "Issuing a simple lexical query followed by a rerank the top 500 documents using the LTR model (optimized)"
   ]
  },
  {
   "cell_type": "code",
   "execution_count": 14,
   "metadata": {},
   "outputs": [
    {
     "name": "stdout",
     "output_type": "stream",
     "text": [
      "\n",
      "Returned Documents:\n"
     ]
    },
    {
     "data": {
      "text/plain": [
       "[{'id': '116972',\n",
       "  'title': 'Discovering the Real World of Harry Potter',\n",
       "  'overview': 'Explore the myths and legends that inhabit the real world of Harry Potter. Follow award-winning documentary filmmakers as they offer insights to witches, wizards, Greek gods, ancient Celts, ghosts, magical creatures, alchemy, and ancient spells. Narrated by British actor Hugh Laurie, this fascinating documentary brings new dimensions to the historical and scientific world behind the Harry Potter series.',\n",
       "  'tagline': '',\n",
       "  'directors': ['Shaun Trevisick'],\n",
       "  'cast': 'Hugh Laurie J.K. Rowling Gavin Scott',\n",
       "  'genres': ['Family', 'Documentary'],\n",
       "  'release_date': '2001-12-10',\n",
       "  'release_year': '2001',\n",
       "  'poster_file': 'yLpnOqKw3ZycFu8t5Gil1BqTbnB.jpg',\n",
       "  'poster_path': 'https://image.tmdb.org/t/p/w185/yLpnOqKw3ZycFu8t5Gil1BqTbnB.jpg',\n",
       "  'vote_average': 6.0,\n",
       "  'vote_count': 5,\n",
       "  'movie_image_ids': '',\n",
       "  'score': 19.452665},\n",
       " {'id': '54507',\n",
       "  'title': 'A Very Potter Musical',\n",
       "  'overview': 'In April 2009, a group of University of Michigan students (Team StarKid) performed what was renamed \"A Very Potter Musical\", a two act musical parody that featured major elements from all seven Harry Potter books and an original score.',\n",
       "  'tagline': 'The awesomeness begins',\n",
       "  'directors': ['Matt Lang'],\n",
       "  'cast': 'Darren Criss Joey Richter Bonnie Gruesen Lauren Lopez Joseph Walker Brian Rosenthal Dylan Saunders Joe Moses Jaime Lyn Beatty Devin Lytle Julia Albain',\n",
       "  'genres': ['Music', 'Comedy'],\n",
       "  'release_date': '2009-04-09',\n",
       "  'release_year': '2009',\n",
       "  'poster_file': '8GcoqIPxjFqfW2VhG9OcQyftzXC.jpg',\n",
       "  'poster_path': 'https://image.tmdb.org/t/p/w185/8GcoqIPxjFqfW2VhG9OcQyftzXC.jpg',\n",
       "  'vote_average': 7.1,\n",
       "  'vote_count': 14,\n",
       "  'movie_image_ids': '',\n",
       "  'score': 18.919437},\n",
       " {'id': '36619',\n",
       "  'title': 'J.K. Rowling: A Year in the Life',\n",
       "  'overview': 'A look into the life of J.K. Rowling in the year leading to her finishing her final harry potter book.',\n",
       "  'tagline': '',\n",
       "  'directors': [],\n",
       "  'cast': 'J.K. Rowling',\n",
       "  'genres': ['Documentary'],\n",
       "  'release_date': '2007-01-01',\n",
       "  'release_year': '2007',\n",
       "  'poster_file': 'noeheyUWBemWXoAbVSXLI34Vcz2.jpg',\n",
       "  'poster_path': 'https://image.tmdb.org/t/p/w185/noeheyUWBemWXoAbVSXLI34Vcz2.jpg',\n",
       "  'vote_average': 7.8,\n",
       "  'vote_count': 12,\n",
       "  'movie_image_ids': '',\n",
       "  'score': 18.288424},\n",
       " {'id': '570724',\n",
       "  'title': 'The Story of Harry Potter',\n",
       "  'overview': 'A three-part documentary series by Mikey Neumann exploring the behind-the-scenes stories of the eight core Harry Potter films, as well as deconstructing their themes and messages.',\n",
       "  'tagline': 'It Takes a Village to Make a Movie',\n",
       "  'directors': ['Mikey Neumann'],\n",
       "  'cast': '',\n",
       "  'genres': ['Documentary'],\n",
       "  'release_date': '2018-12-24',\n",
       "  'release_year': '2018',\n",
       "  'poster_file': 's0FRUpp9nsM0N8F2S7hdIgeAkHy.jpg',\n",
       "  'poster_path': 'https://image.tmdb.org/t/p/w185/s0FRUpp9nsM0N8F2S7hdIgeAkHy.jpg',\n",
       "  'vote_average': 10.0,\n",
       "  'vote_count': 2,\n",
       "  'movie_image_ids': '',\n",
       "  'score': 18.02443},\n",
       " {'id': '672',\n",
       "  'title': 'Harry Potter and the Chamber of Secrets',\n",
       "  'overview': 'Cars fly, trees fight back, and a mysterious house-elf comes to warn Harry Potter at the start of his second year at Hogwarts. Adventure and danger await when bloody writing on a wall announces: The Chamber Of Secrets Has Been Opened. To save Hogwarts will require all of Harry, Ron and Hermione’s magical abilities and courage.',\n",
       "  'tagline': 'Hogwarts is back in session.',\n",
       "  'directors': ['Chris Columbus'],\n",
       "  'cast': \"Daniel Radcliffe Rupert Grint Emma Watson Richard Harris Alan Rickman Tom Felton Kenneth Branagh Robbie Coltrane Maggie Smith David Bradley Bonnie Wright Matthew Lewis Jason Isaacs Shirley Henderson Toby Jones James Phelps Oliver Phelps Richard Griffiths Fiona Shaw Harry Melling John Cleese Julie Walters Mark Williams Jamie Waylett Josh Herdman Alfred Enoch Devon Murray Sean Biggerstaff Hugh Mitchell Chris Rankin Warwick Davis Robert Hardy Miriam Margolyes Gemma Jones Christian Coulson Edward Randell Luke Youngblood Eleanor Columbus Louis Doyle Emily Dale Rochelle Douglas Leslie Phillips Julian Glover Martin Bayfield Gemma Padley Danielle Tabor Jamie Yeates Charlotte Skeoch Helen Stuart Nina Young Adrian Rawlins Geraldine Somerville Jim Norton Veronica Clifford Heather Bleasdale Tom Knight Ben Borowiecki Kathleen Cauley Alfred Burke Peter O'Farrell Violet Columbus Harry Taylor\",\n",
       "  'genres': ['Adventure', 'Fantasy'],\n",
       "  'release_date': '2002-11-13',\n",
       "  'release_year': '2002',\n",
       "  'poster_file': 'sdEOH0992YZ0QSxgXNIGLq1ToUi.jpg',\n",
       "  'poster_path': 'https://image.tmdb.org/t/p/w185/sdEOH0992YZ0QSxgXNIGLq1ToUi.jpg',\n",
       "  'vote_average': 7.7,\n",
       "  'vote_count': 14068,\n",
       "  'movie_image_ids': '',\n",
       "  'score': 16.456392},\n",
       " {'id': '80530',\n",
       "  'title': 'Magic Beyond Words: The J.K. Rowling Story',\n",
       "  'overview': 'A look at J.K. Rowling from her humble beginnings as an imaginative young girl and awkward teenager, to the loss of her mother and the genesis of the Harry Potter book series.',\n",
       "  'tagline': '',\n",
       "  'directors': ['Paul A. Kaufman'],\n",
       "  'cast': 'Poppy Montgomery Emily Holmes Antonio Cupo Janet Kidder Madison Desjarlais Andy Maton Aislyn Watson Marie West Lisa Norton Sarah Desjardins Patti Allan Wesley MacInnes Paul McGillion Glynis Davies Kirsten Slenning Kirsten Robek Loretta Walsh Eliza Faria Beatrice King Christian J. Stewart Evan Bird Ray William Johnson Christine Chatelain Greigh Laschuk Charles Jarman',\n",
       "  'genres': ['Drama', 'TV Movie'],\n",
       "  'release_date': '2011-07-18',\n",
       "  'release_year': '2011',\n",
       "  'poster_file': 'q57TPuSvaPmhbzzb7yWyKcApNc6.jpg',\n",
       "  'poster_path': 'https://image.tmdb.org/t/p/w185/q57TPuSvaPmhbzzb7yWyKcApNc6.jpg',\n",
       "  'vote_average': 7.0,\n",
       "  'vote_count': 128,\n",
       "  'movie_image_ids': '',\n",
       "  'score': 16.287874},\n",
       " {'id': '671',\n",
       "  'title': \"Harry Potter and the Philosopher's Stone\",\n",
       "  'overview': \"Harry Potter has lived under the stairs at his aunt and uncle's house his whole life. But on his 11th birthday, he learns he's a powerful wizard -- with a place waiting for him at the Hogwarts School of Witchcraft and Wizardry. As he learns to harness his newfound powers with the help of the school's kindly headmaster, Harry uncovers the truth about his parents' deaths -- and about the villain who's to blame.\",\n",
       "  'tagline': 'Let the Magic Begin.',\n",
       "  'directors': ['Chris Columbus'],\n",
       "  'cast': 'Daniel Radcliffe Rupert Grint Emma Watson Richard Harris Tom Felton Robbie Coltrane Alan Rickman Maggie Smith Richard Griffiths Ian Hart Fiona Shaw John Hurt David Bradley Matthew Lewis Sean Biggerstaff Warwick Davis Harry Melling James Phelps Oliver Phelps John Cleese Chris Rankin Alfred Enoch Devon Murray Jamie Waylett Josh Herdman Zoë Wanamaker Julie Walters Bonnie Wright Luke Youngblood Verne Troyer Adrian Rawlins Geraldine Somerville Elizabeth Spriggs Richard Bremmer Nina Young Terence Bayler Harry Taylor Jean Southern Leslie Phillips Simon Fisher-Becker Derek Deadman Ray Fearon Eleanor Columbus Ben Borowiecki Danielle Tabor Leilah Sutherland Emily Dale Will Theakston Scot Fearn Saunders Triplets Jimmy Vee Kieri Kennedy Christina Petrou Gemma Sandzer Leila Hoffman David Brett Zoe Sugg Hazel Showham Bernadette Jane Vanderkar Julianne Hough',\n",
       "  'genres': ['Adventure', 'Fantasy', 'Family'],\n",
       "  'release_date': '2001-11-16',\n",
       "  'release_year': '2001',\n",
       "  'poster_file': 'wuMc08IPKEatf9rnMNXvIDxqP4W.jpg',\n",
       "  'poster_path': 'https://image.tmdb.org/t/p/w185/wuMc08IPKEatf9rnMNXvIDxqP4W.jpg',\n",
       "  'vote_average': 7.9,\n",
       "  'vote_count': 16755,\n",
       "  'movie_image_ids': '',\n",
       "  'score': 15.10887},\n",
       " {'id': '393135',\n",
       "  'title': 'Harry Potter and the Ten Years Later',\n",
       "  'overview': \"Furious Molecules' new parody web series 'Harry Potter and the Ten Years Later' takes a look at our hero ten years after taking down He-Whose-Name-Nobody-Quite-Remembers (but before that sappy epilogue full of kids). Things have changed significantly in Harry's world. With no dark wizards or witches left, the Ministry of Magic's Auror Department shuts down, leaving Harry unemployed. Ginny wants to start a family, Hermione is having doubts about her goody-goody lifestyle, and Ron... well, he's Ron. Everything seems very average in a late-twenties-problem kind of way-- but as always, trouble finds Harry yet again.\",\n",
       "  'tagline': \"'Harry Potter and the Ten Years Later' takes a look at our hero ten years after taking down He-Whose-Name-Nobody-Quite-Remembers\",\n",
       "  'directors': [],\n",
       "  'cast': 'Matt DeNoto Matt DeNoto',\n",
       "  'genres': [],\n",
       "  'release_date': '2012-10-07',\n",
       "  'release_year': '2012',\n",
       "  'poster_file': 'zh1KtXxbcfj3wj202aEEE2E8V3n.jpg',\n",
       "  'poster_path': 'https://image.tmdb.org/t/p/w185/zh1KtXxbcfj3wj202aEEE2E8V3n.jpg',\n",
       "  'vote_average': 10.0,\n",
       "  'vote_count': 1,\n",
       "  'movie_image_ids': '',\n",
       "  'score': 14.626439},\n",
       " {'id': '483898',\n",
       "  'title': '50 Greatest Harry Potter Moments',\n",
       "  'overview': \"To mark the release two weeks ago of the eighth and final movie in the series, Robbie Coltrane narrates a countdown of the movie franchise's best moments. From Harry's first meeting with Ron and Hermione aboard the Hogwarts Express through to magical mysteries.\",\n",
       "  'tagline': '',\n",
       "  'directors': [],\n",
       "  'cast': 'Robbie Coltrane Daniel Radcliffe Julie Walters Emma Watson Rupert Grint Mark Williams J.K. Rowling Jason Isaacs',\n",
       "  'genres': ['Documentary'],\n",
       "  'release_date': '2011-07-27',\n",
       "  'release_year': '2011',\n",
       "  'poster_file': 'g1xiBoLD6v3ZaXPa4QtuXiQeYKW.jpg',\n",
       "  'poster_path': 'https://image.tmdb.org/t/p/w185/g1xiBoLD6v3ZaXPa4QtuXiQeYKW.jpg',\n",
       "  'vote_average': 8.4,\n",
       "  'vote_count': 8,\n",
       "  'movie_image_ids': '',\n",
       "  'score': 13.16452},\n",
       " {'id': '319391',\n",
       "  'title': 'J.K. Rowling and the Birth of Harry Potter',\n",
       "  'overview': \"In this fascinating (unauthorized) biographical documentary, you'll get the inside scoop on the creative force behind one of the greatest publishing phenomena in the last 100 years -- J.K. Rowling, author of the Harry Potter series of books. Explore Rowling's meteoric rise from obscurity into the ranks of the world's richest women (via her books), and visit the people and places that played a significant role in her life.\",\n",
       "  'tagline': '',\n",
       "  'directors': [],\n",
       "  'cast': '',\n",
       "  'genres': ['Documentary'],\n",
       "  'release_date': '2004-12-07',\n",
       "  'release_year': '2004',\n",
       "  'poster_file': 'hY6Ndq1O4JiEngZ7xIOtcLUCDTX.jpg',\n",
       "  'poster_path': 'https://image.tmdb.org/t/p/w185/hY6Ndq1O4JiEngZ7xIOtcLUCDTX.jpg',\n",
       "  'vote_average': 10.0,\n",
       "  'vote_count': 1,\n",
       "  'movie_image_ids': '',\n",
       "  'score': 13.110825}]"
      ]
     },
     "metadata": {},
     "output_type": "display_data"
    }
   ],
   "source": [
    "request = {\"query\": \"harry potter\",\n",
    "           \"query_fields\": [\"title\", \"overview\"],\n",
    "           \"return_fields\": [\"title\", \"id\", \"score\"],\n",
    "           \"rerank_query\": \"harry potter\",\n",
    "           \"rerank_count\": 500}\n",
    "response = ltr.search_with_model(\"movie_model\", **request)\n",
    "print(\"\\nReturned Documents:\")\n",
    "display(response[\"docs\"])"
   ]
  },
  {
   "cell_type": "markdown",
   "metadata": {},
   "source": [
    "## Rinse and repeat!\n",
    "\n",
    "What would you change about this model or the features used? Maybe revisit [the features](2.judgments-and-logging.ipynb) to explore some different ideas?\n",
    "\n",
    "Up next: [Chapter 11: Automating Learning to Rank with Click Models](../ch11/0.setup.ipynb)"
   ]
  }
 ],
 "metadata": {
  "kernelspec": {
   "display_name": "Python 3 (ipykernel)",
   "language": "python",
   "name": "python3"
  },
  "language_info": {
   "codemirror_mode": {
    "name": "ipython",
    "version": 3
   },
   "file_extension": ".py",
   "mimetype": "text/x-python",
   "name": "python",
   "nbconvert_exporter": "python",
   "pygments_lexer": "ipython3",
   "version": "3.10.9"
  }
 },
 "nbformat": 4,
 "nbformat_minor": 4
}
