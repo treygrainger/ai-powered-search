{
 "cells": [
  {
   "cell_type": "markdown",
   "metadata": {},
   "source": [
    "# [ Chapter 10 - Learning to Rank for Generalizable Search Relevance ]\n",
    "# Setup TheMovieDB Collection"
   ]
  },
  {
   "cell_type": "code",
   "execution_count": 1,
   "metadata": {},
   "outputs": [],
   "source": [
    "from aips import get_engine, get_ltr_engine\n",
    "engine = get_engine()"
   ]
  },
  {
   "cell_type": "markdown",
   "metadata": {},
   "source": [
    "## Create Collection\n",
    "\n",
    "Create collection for http://themoviedb.org (TMDB) dataset for this book. We will just look at title, overview, and release_year fields."
   ]
  },
  {
   "cell_type": "code",
   "execution_count": 2,
   "metadata": {},
   "outputs": [
    {
     "name": "stdout",
     "output_type": "stream",
     "text": [
      "Wiping \"tmdb\" collection\n",
      "Creating \"tmdb\" collection\n"
     ]
    },
    {
     "ename": "TypeError",
     "evalue": "Only supports a SolrCollection",
     "output_type": "error",
     "traceback": [
      "\u001b[0;31m---------------------------------------------------------------------------\u001b[0m",
      "\u001b[0;31mTypeError\u001b[0m                                 Traceback (most recent call last)",
      "Cell \u001b[0;32mIn[2], line 2\u001b[0m\n\u001b[1;32m      1\u001b[0m tmdb_collection \u001b[38;5;241m=\u001b[39m engine\u001b[38;5;241m.\u001b[39mcreate_collection(\u001b[38;5;124m\"\u001b[39m\u001b[38;5;124mtmdb\u001b[39m\u001b[38;5;124m\"\u001b[39m)\n\u001b[0;32m----> 2\u001b[0m \u001b[43mget_ltr_engine\u001b[49m\u001b[43m(\u001b[49m\u001b[43mtmdb_collection\u001b[49m\u001b[43m)\u001b[49m\u001b[38;5;241m.\u001b[39menable_ltr(tmdb_collection)\n",
      "File \u001b[0;32m~/aips/__init__.py:25\u001b[0m, in \u001b[0;36mget_ltr_engine\u001b[0;34m(collection)\u001b[0m\n\u001b[1;32m     24\u001b[0m \u001b[38;5;28;01mdef\u001b[39;00m \u001b[38;5;21mget_ltr_engine\u001b[39m(collection):\n\u001b[0;32m---> 25\u001b[0m     \u001b[38;5;28;01mreturn\u001b[39;00m \u001b[43mSolrLTR\u001b[49m\u001b[43m(\u001b[49m\u001b[43mcollection\u001b[49m\u001b[43m)\u001b[49m\n",
      "File \u001b[0;32m~/engines/solr/SolrLTR.py:12\u001b[0m, in \u001b[0;36mSolrLTR.__init__\u001b[0;34m(self, collection)\u001b[0m\n\u001b[1;32m     10\u001b[0m \u001b[38;5;28;01mdef\u001b[39;00m \u001b[38;5;21m__init__\u001b[39m(\u001b[38;5;28mself\u001b[39m, collection):\n\u001b[1;32m     11\u001b[0m     \u001b[38;5;28;01mif\u001b[39;00m \u001b[38;5;129;01mnot\u001b[39;00m \u001b[38;5;28misinstance\u001b[39m(collection, SolrCollection):\n\u001b[0;32m---> 12\u001b[0m         \u001b[38;5;28;01mraise\u001b[39;00m \u001b[38;5;167;01mTypeError\u001b[39;00m(\u001b[38;5;124m\"\u001b[39m\u001b[38;5;124mOnly supports a SolrCollection\u001b[39m\u001b[38;5;124m\"\u001b[39m)\n\u001b[1;32m     13\u001b[0m     \u001b[38;5;28msuper\u001b[39m()\u001b[38;5;241m.\u001b[39m\u001b[38;5;21m__init__\u001b[39m(collection)\n",
      "\u001b[0;31mTypeError\u001b[0m: Only supports a SolrCollection"
     ]
    }
   ],
   "source": [
    "tmdb_collection = engine.create_collection(\"tmdb\")\n",
    "get_ltr_engine(tmdb_collection).enable_ltr(tmdb_collection)"
   ]
  },
  {
   "cell_type": "markdown",
   "metadata": {},
   "source": [
    "## Download and index data\n",
    "\n",
    "Download TMDB data and index. We also download a judgment list, labeled movies as relevant/irrelevant for several movie queries"
   ]
  },
  {
   "cell_type": "code",
   "execution_count": 4,
   "metadata": {},
   "outputs": [
    {
     "name": "stdout",
     "output_type": "stream",
     "text": [
      "GET https://github.com/ai-powered-search/tmdb/raw/main/judgments.tgz\n",
      "GET https://github.com/ai-powered-search/tmdb/raw/main/movies.tgz\n",
      "Successfully written 65616 documents\n"
     ]
    }
   ],
   "source": [
    "from ltr.download import download, extract_tgz \n",
    "from aips.data_loaders.movies import load_dataframe\n",
    "import tarfile\n",
    "import json\n",
    "\n",
    "dataset = [\"https://github.com/ai-powered-search/tmdb/raw/main/judgments.tgz\", \n",
    "           \"https://github.com/ai-powered-search/tmdb/raw/main/movies.tgz\"]\n",
    "download(dataset, dest=\"data/\")\n",
    "extract_tgz(\"data/movies.tgz\", \"data/\") # -> Holds \"tmdb.json\", big json dict with corpus\n",
    "extract_tgz(\"data/judgments.tgz\", \"data/\") # -> Holds \"ai_pow_search_judgments.txt\", \n",
    "                                  # which is our labeled judgment list\n",
    "\n",
    "movies_dataframe = load_dataframe(\"data/tmdb.json\")\n",
    "tmdb_collection.write(movies_dataframe)"
   ]
  },
  {
   "cell_type": "markdown",
   "metadata": {},
   "source": [
    "## Next Up, judgments and feature logging\n",
    "\n",
    "Next up we use a _judgment list_, a set of labeled relevant / irrelevant movies for search query strings. We then extract some features from the search engine to setup a full training set we can use to train a model.\n",
    "\n",
    "Up next: [judgments and Logging](2.judgments-and-logging.ipynb)"
   ]
  }
 ],
 "metadata": {
  "kernelspec": {
   "display_name": "Python 3 (ipykernel)",
   "language": "python",
   "name": "python3"
  },
  "language_info": {
   "codemirror_mode": {
    "name": "ipython",
    "version": 3
   },
   "file_extension": ".py",
   "mimetype": "text/x-python",
   "name": "python",
   "nbconvert_exporter": "python",
   "pygments_lexer": "ipython3",
   "version": "3.10.9"
  }
 },
 "nbformat": 4,
 "nbformat_minor": 4
}
