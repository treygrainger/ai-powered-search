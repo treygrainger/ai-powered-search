{
 "cells": [
  {
   "cell_type": "markdown",
   "metadata": {},
   "source": [
    "# Setting up the Knowledge Graph Datasets"
   ]
  },
  {
   "cell_type": "code",
   "execution_count": 1,
   "metadata": {},
   "outputs": [],
   "source": [
    "from aips import get_engine\n",
    "import aips.indexer\n",
    "from aips.spark import get_spark_session\n",
    "from aips.spark.dataframe import from_csv\n",
    "\n",
    "spark = get_spark_session()\n",
    "engine = get_engine()"
   ]
  },
  {
   "cell_type": "markdown",
   "metadata": {},
   "source": [
    "## Index the Jobs Dataset into the Search Engine"
   ]
  },
  {
   "cell_type": "code",
   "execution_count": 2,
   "metadata": {},
   "outputs": [
    {
     "name": "stdout",
     "output_type": "stream",
     "text": [
      "Wiping \"jobs\" collection\n",
      "Creating \"jobs\" collection\n",
      "Status: Success\n",
      "Loading data/jobs/jobs.csv\n",
      "Schema: \n",
      "root\n",
      " |-- job_title: string (nullable = true)\n",
      " |-- job_description: string (nullable = true)\n",
      " |-- job_type: string (nullable = true)\n",
      " |-- category: string (nullable = false)\n",
      " |-- job_location: string (nullable = true)\n",
      " |-- job_city: string (nullable = true)\n",
      " |-- job_state: string (nullable = true)\n",
      " |-- job_country: string (nullable = true)\n",
      " |-- job_zip_code: string (nullable = true)\n",
      " |-- job_address: string (nullable = true)\n",
      " |-- min_salary: string (nullable = true)\n",
      " |-- max_salary: string (nullable = true)\n",
      " |-- salary_period: string (nullable = true)\n",
      " |-- apply_url: string (nullable = true)\n",
      " |-- apply_email: string (nullable = true)\n",
      " |-- num_employees: string (nullable = true)\n",
      " |-- industry: string (nullable = true)\n",
      " |-- company_name: string (nullable = true)\n",
      " |-- company_email: string (nullable = true)\n",
      " |-- company_website: string (nullable = true)\n",
      " |-- company_phone: string (nullable = true)\n",
      " |-- company_logo: string (nullable = true)\n",
      " |-- company_description: string (nullable = true)\n",
      " |-- company_location: string (nullable = true)\n",
      " |-- company_city: string (nullable = true)\n",
      " |-- company_state: string (nullable = true)\n",
      " |-- company_country: string (nullable = true)\n",
      " |-- company_zip_code: string (nullable = true)\n",
      " |-- job_date: timestamp (nullable = true)\n",
      "\n",
      "Successfully written 30002 documents\n"
     ]
    }
   ],
   "source": [
    "jobs_collection = aips.indexer.build_collection(engine, \"jobs\")"
   ]
  },
  {
   "cell_type": "markdown",
   "metadata": {},
   "source": [
    "## Index StackExchange datasets: health, scifi, cooking, travel, devops"
   ]
  },
  {
   "cell_type": "code",
   "execution_count": 3,
   "metadata": {},
   "outputs": [],
   "source": [
    "datasets = [\"health\", \"cooking\", \"scifi\", \"travel\", \"devops\"]\n",
    "for dataset in datasets:\n",
    "    aips.indexer.build_collection(engine, dataset)"
   ]
  },
  {
   "cell_type": "code",
   "execution_count": 6,
   "metadata": {},
   "outputs": [],
   "source": [
    "stackexchange_collection = aips.indexer.build_collection(engine, \"stackexchange\")"
   ]
  },
  {
   "cell_type": "markdown",
   "metadata": {},
   "source": [
    "## Dual index datasets into Solr for SKG"
   ]
  },
  {
   "cell_type": "code",
   "execution_count": 7,
   "metadata": {},
   "outputs": [
    {
     "name": "stdout",
     "output_type": "stream",
     "text": [
      "Wiping \"jobs\" collection\n",
      "Creating \"jobs\" collection\n",
      "Status: Success\n",
      "Loading data/jobs/jobs.csv\n",
      "Schema: \n",
      "root\n",
      " |-- job_title: string (nullable = true)\n",
      " |-- job_description: string (nullable = true)\n",
      " |-- job_type: string (nullable = true)\n",
      " |-- category: string (nullable = false)\n",
      " |-- job_location: string (nullable = true)\n",
      " |-- job_city: string (nullable = true)\n",
      " |-- job_state: string (nullable = true)\n",
      " |-- job_country: string (nullable = true)\n",
      " |-- job_zip_code: string (nullable = true)\n",
      " |-- job_address: string (nullable = true)\n",
      " |-- min_salary: string (nullable = true)\n",
      " |-- max_salary: string (nullable = true)\n",
      " |-- salary_period: string (nullable = true)\n",
      " |-- apply_url: string (nullable = true)\n",
      " |-- apply_email: string (nullable = true)\n",
      " |-- num_employees: string (nullable = true)\n",
      " |-- industry: string (nullable = true)\n",
      " |-- company_name: string (nullable = true)\n",
      " |-- company_email: string (nullable = true)\n",
      " |-- company_website: string (nullable = true)\n",
      " |-- company_phone: string (nullable = true)\n",
      " |-- company_logo: string (nullable = true)\n",
      " |-- company_description: string (nullable = true)\n",
      " |-- company_location: string (nullable = true)\n",
      " |-- company_city: string (nullable = true)\n",
      " |-- company_state: string (nullable = true)\n",
      " |-- company_country: string (nullable = true)\n",
      " |-- company_zip_code: string (nullable = true)\n",
      " |-- job_date: timestamp (nullable = true)\n",
      "\n",
      "Successfully written 30002 documents\n"
     ]
    }
   ],
   "source": [
    "solr_engine = get_engine(\"solr\")\n",
    "aips.indexer.build_collection(solr_engine, \"jobs\")\n",
    "for dataset in datasets:\n",
    "    aips.indexer.build_collection(solr_engine, dataset)\n",
    "stackexchange_collection = aips.indexer.build_collection(solr_engine, \"stackexchange\")"
   ]
  },
  {
   "cell_type": "markdown",
   "metadata": {},
   "source": [
    "## Success!\n",
    "\n",
    "Now that you've indexed several large text datasets, in the next notebook we will explore the rich graph of semantic relationships embedded within those documents by leveraging Semantic Knowledge Graphs for real-time traversal and ranking of arbitrary relationships within the domains of our datasets.\n",
    "\n",
    "Up next: [Working with Semantic Knowledge Graphs](3.semantic-knowledge-graph.ipynb)"
   ]
  }
 ],
 "metadata": {
  "kernelspec": {
   "display_name": "Python 3 (ipykernel)",
   "language": "python",
   "name": "python3"
  }
 },
 "nbformat": 4,
 "nbformat_minor": 4
}
