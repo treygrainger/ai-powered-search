{
 "cells": [
  {
   "cell_type": "markdown",
   "metadata": {},
   "source": [
    "# Setting up the Knowledge Graph Datasets"
   ]
  },
  {
   "cell_type": "code",
   "execution_count": 1,
   "metadata": {},
   "outputs": [],
   "source": [
    "from pyspark.sql import SparkSession\n",
    "\n",
    "from aips import get_engine\n",
    "from aips.spark.dataframe import from_csv\n",
    "import aips.indexer\n",
    "spark = SparkSession.builder.appName(\"AIPS\").getOrCreate()\n",
    "engine = get_engine()"
   ]
  },
  {
   "cell_type": "markdown",
   "metadata": {},
   "source": [
    "## Index the Jobs Dataset into the Search Engine"
   ]
  },
  {
   "cell_type": "code",
   "execution_count": null,
   "metadata": {},
   "outputs": [],
   "source": [
    "aips.indexer.build_collection(engine, \"jobs\")"
   ]
  },
  {
   "cell_type": "markdown",
   "metadata": {},
   "source": [
    "## Index StackExchange datasets: health, scifi, cooking, travel, devops"
   ]
  },
  {
   "cell_type": "code",
   "execution_count": 3,
   "metadata": {},
   "outputs": [
    {
     "name": "stdout",
     "output_type": "stream",
     "text": [
      "Collection [health] exists? True\n",
      "Documents expected: 12892\n",
      "Documents found: 12892\n",
      "Collection [health] is healthy\n",
      "Collection [cooking] exists? True\n",
      "Documents expected: 79324\n",
      "Documents found: 17647\n",
      "Reindexing [cooking] collection\n",
      "Wiping \"cooking\" collection\n",
      "Creating \"cooking\" collection\n",
      "{'responseHeader': {'status': 0, 'QTime': 1031}, 'success': {'aips-solr:8983_solr': {'responseHeader': {'status': 0, 'QTime': 216}, 'core': 'cooking_shard1_replica_n1'}}, 'warning': 'Using _default configset. Data driven schema functionality is enabled by default, which is NOT RECOMMENDED for production use. To turn it off: curl http://{host:port}/solr/cooking/config -d \\'{\"set-user-property\": {\"update.autoCreateFields\":\"false\"}}\\''}\n",
      "Status: Success\n",
      "File [data/cooking/posts.csv] exists? True\n",
      "Loading data/cooking/posts.csv\n",
      "Schema: \n",
      "root\n",
      " |-- post_type_id: integer (nullable = true)\n",
      " |-- accepted_answer_id: integer (nullable = true)\n",
      " |-- parent_id: integer (nullable = true)\n",
      " |-- creation_date: timestamp (nullable = true)\n",
      " |-- deletion_date: string (nullable = true)\n",
      " |-- score: integer (nullable = true)\n",
      " |-- view_count: integer (nullable = true)\n",
      " |-- body: string (nullable = true)\n",
      " |-- owner_user_id: integer (nullable = true)\n",
      " |-- owner_display_name: string (nullable = true)\n",
      " |-- last_editor_user_id: integer (nullable = true)\n",
      " |-- last_editor_display_name: string (nullable = true)\n",
      " |-- last_edit_date: timestamp (nullable = true)\n",
      " |-- last_activity_date: timestamp (nullable = true)\n",
      " |-- title: string (nullable = true)\n",
      " |-- tags: string (nullable = true)\n",
      " |-- answer_count: integer (nullable = true)\n",
      " |-- comment_count: integer (nullable = true)\n",
      " |-- favorite_count: integer (nullable = true)\n",
      " |-- closed_date: timestamp (nullable = true)\n",
      " |-- community_owned_date: timestamp (nullable = true)\n",
      " |-- category: string (nullable = false)\n",
      "\n",
      "Successfully written 79324 documents\n",
      "Collection [scifi] exists? False\n",
      "Documents expected: 177547\n",
      "Documents found: 0\n",
      "Reindexing [scifi] collection\n",
      "Wiping \"scifi\" collection\n",
      "Creating \"scifi\" collection\n",
      "{'responseHeader': {'status': 0, 'QTime': 916}, 'success': {'aips-solr:8983_solr': {'responseHeader': {'status': 0, 'QTime': 237}, 'core': 'scifi_shard1_replica_n1'}}, 'warning': 'Using _default configset. Data driven schema functionality is enabled by default, which is NOT RECOMMENDED for production use. To turn it off: curl http://{host:port}/solr/scifi/config -d \\'{\"set-user-property\": {\"update.autoCreateFields\":\"false\"}}\\''}\n",
      "Status: Success\n",
      "File [data/scifi/posts.csv] exists? False\n",
      "Cloning non-existant repo [data/repositories/scifi]\n"
     ]
    },
    {
     "name": "stderr",
     "output_type": "stream",
     "text": [
      "100%|██████████| 6.0/6.0 [00:02<00:00,  2.09it/s]   \n"
     ]
    },
    {
     "name": "stdout",
     "output_type": "stream",
     "text": [
      "Extracting [data/repositories/scifi/scifi.tgz] to [data/scifi]\n",
      "Loading data/scifi/posts.csv\n",
      "Schema: \n",
      "root\n",
      " |-- post_type_id: integer (nullable = true)\n",
      " |-- accepted_answer_id: integer (nullable = true)\n",
      " |-- parent_id: integer (nullable = true)\n",
      " |-- creation_date: timestamp (nullable = true)\n",
      " |-- deletion_date: string (nullable = true)\n",
      " |-- score: integer (nullable = true)\n",
      " |-- view_count: integer (nullable = true)\n",
      " |-- body: string (nullable = true)\n",
      " |-- owner_user_id: integer (nullable = true)\n",
      " |-- owner_display_name: string (nullable = true)\n",
      " |-- last_editor_user_id: integer (nullable = true)\n",
      " |-- last_editor_display_name: string (nullable = true)\n",
      " |-- last_edit_date: timestamp (nullable = true)\n",
      " |-- last_activity_date: timestamp (nullable = true)\n",
      " |-- title: string (nullable = true)\n",
      " |-- tags: string (nullable = true)\n",
      " |-- answer_count: integer (nullable = true)\n",
      " |-- comment_count: integer (nullable = true)\n",
      " |-- favorite_count: integer (nullable = true)\n",
      " |-- closed_date: timestamp (nullable = true)\n",
      " |-- community_owned_date: timestamp (nullable = true)\n",
      " |-- category: string (nullable = false)\n",
      "\n",
      "Successfully written 177547 documents\n",
      "Collection [travel] exists? False\n",
      "Documents expected: 111130\n",
      "Documents found: 0\n",
      "Reindexing [travel] collection\n",
      "Wiping \"travel\" collection\n",
      "Creating \"travel\" collection\n",
      "{'responseHeader': {'status': 0, 'QTime': 1019}, 'success': {'aips-solr:8983_solr': {'responseHeader': {'status': 0, 'QTime': 250}, 'core': 'travel_shard1_replica_n1'}}, 'warning': 'Using _default configset. Data driven schema functionality is enabled by default, which is NOT RECOMMENDED for production use. To turn it off: curl http://{host:port}/solr/travel/config -d \\'{\"set-user-property\": {\"update.autoCreateFields\":\"false\"}}\\''}\n",
      "Status: Success\n",
      "File [data/travel/posts.csv] exists? False\n",
      "Cloning non-existant repo [data/repositories/travel]\n"
     ]
    },
    {
     "name": "stderr",
     "output_type": "stream",
     "text": [
      "100%|██████████| 6.0/6.0 [00:01<00:00,  4.21it/s]    \n"
     ]
    },
    {
     "name": "stdout",
     "output_type": "stream",
     "text": [
      "Extracting [data/repositories/travel/travel.tgz] to [data/travel]\n",
      "Loading data/travel/posts.csv\n",
      "Schema: \n",
      "root\n",
      " |-- post_type_id: integer (nullable = true)\n",
      " |-- accepted_answer_id: integer (nullable = true)\n",
      " |-- parent_id: integer (nullable = true)\n",
      " |-- creation_date: timestamp (nullable = true)\n",
      " |-- deletion_date: string (nullable = true)\n",
      " |-- score: integer (nullable = true)\n",
      " |-- view_count: integer (nullable = true)\n",
      " |-- body: string (nullable = true)\n",
      " |-- owner_user_id: integer (nullable = true)\n",
      " |-- owner_display_name: string (nullable = true)\n",
      " |-- last_editor_user_id: integer (nullable = true)\n",
      " |-- last_editor_display_name: string (nullable = true)\n",
      " |-- last_edit_date: timestamp (nullable = true)\n",
      " |-- last_activity_date: timestamp (nullable = true)\n",
      " |-- title: string (nullable = true)\n",
      " |-- tags: string (nullable = true)\n",
      " |-- answer_count: integer (nullable = true)\n",
      " |-- comment_count: integer (nullable = true)\n",
      " |-- favorite_count: integer (nullable = true)\n",
      " |-- closed_date: timestamp (nullable = true)\n",
      " |-- community_owned_date: timestamp (nullable = true)\n",
      " |-- category: string (nullable = false)\n",
      "\n",
      "Successfully written 111130 documents\n",
      "Collection [devops] exists? False\n",
      "Documents expected: 9216\n",
      "Documents found: 0\n",
      "Reindexing [devops] collection\n",
      "Wiping \"devops\" collection\n",
      "Creating \"devops\" collection\n",
      "{'responseHeader': {'status': 0, 'QTime': 942}, 'success': {'aips-solr:8983_solr': {'responseHeader': {'status': 0, 'QTime': 227}, 'core': 'devops_shard1_replica_n1'}}, 'warning': 'Using _default configset. Data driven schema functionality is enabled by default, which is NOT RECOMMENDED for production use. To turn it off: curl http://{host:port}/solr/devops/config -d \\'{\"set-user-property\": {\"update.autoCreateFields\":\"false\"}}\\''}\n",
      "Status: Success\n",
      "File [data/devops/posts.csv] exists? False\n",
      "Cloning non-existant repo [data/repositories/devops]\n"
     ]
    },
    {
     "name": "stderr",
     "output_type": "stream",
     "text": [
      "100%|██████████| 6.0/6.0 [00:00<00:00, 25.62it/s]    \n"
     ]
    },
    {
     "name": "stdout",
     "output_type": "stream",
     "text": [
      "Extracting [data/repositories/devops/devops.tgz] to [data/devops]\n",
      "Loading data/devops/posts.csv\n",
      "Schema: \n",
      "root\n",
      " |-- post_type_id: integer (nullable = true)\n",
      " |-- accepted_answer_id: integer (nullable = true)\n",
      " |-- parent_id: integer (nullable = true)\n",
      " |-- creation_date: timestamp (nullable = true)\n",
      " |-- deletion_date: string (nullable = true)\n",
      " |-- score: integer (nullable = true)\n",
      " |-- view_count: integer (nullable = true)\n",
      " |-- body: string (nullable = true)\n",
      " |-- owner_user_id: integer (nullable = true)\n",
      " |-- owner_display_name: string (nullable = true)\n",
      " |-- last_editor_user_id: integer (nullable = true)\n",
      " |-- last_editor_display_name: string (nullable = true)\n",
      " |-- last_edit_date: timestamp (nullable = true)\n",
      " |-- last_activity_date: timestamp (nullable = true)\n",
      " |-- title: string (nullable = true)\n",
      " |-- tags: string (nullable = true)\n",
      " |-- answer_count: integer (nullable = true)\n",
      " |-- comment_count: integer (nullable = true)\n",
      " |-- favorite_count: integer (nullable = true)\n",
      " |-- closed_date: timestamp (nullable = true)\n",
      " |-- community_owned_date: timestamp (nullable = true)\n",
      " |-- category: string (nullable = false)\n",
      "\n",
      "Successfully written 9216 documents\n"
     ]
    }
   ],
   "source": [
    "datasets = [\"health\", \"cooking\", \"scifi\", \"travel\", \"devops\"]\n",
    "for dataset in datasets:\n",
    "    aips.indexer.build_collection(engine, dataset, log=True)"
   ]
  },
  {
   "cell_type": "code",
   "execution_count": 4,
   "metadata": {},
   "outputs": [
    {
     "name": "stdout",
     "output_type": "stream",
     "text": [
      "Wiping \"stackexchange\" collection\n",
      "Creating \"stackexchange\" collection\n",
      "Status: Success\n",
      "Loading data/health/posts.csv\n",
      "Schema: \n",
      "root\n",
      " |-- post_type_id: integer (nullable = true)\n",
      " |-- accepted_answer_id: integer (nullable = true)\n",
      " |-- parent_id: integer (nullable = true)\n",
      " |-- creation_date: timestamp (nullable = true)\n",
      " |-- deletion_date: string (nullable = true)\n",
      " |-- score: integer (nullable = true)\n",
      " |-- view_count: integer (nullable = true)\n",
      " |-- body: string (nullable = true)\n",
      " |-- owner_user_id: integer (nullable = true)\n",
      " |-- owner_display_name: string (nullable = true)\n",
      " |-- last_editor_user_id: integer (nullable = true)\n",
      " |-- last_editor_display_name: string (nullable = true)\n",
      " |-- last_edit_date: timestamp (nullable = true)\n",
      " |-- last_activity_date: timestamp (nullable = true)\n",
      " |-- title: string (nullable = true)\n",
      " |-- tags: string (nullable = true)\n",
      " |-- answer_count: integer (nullable = true)\n",
      " |-- comment_count: integer (nullable = true)\n",
      " |-- favorite_count: integer (nullable = true)\n",
      " |-- closed_date: timestamp (nullable = true)\n",
      " |-- community_owned_date: timestamp (nullable = true)\n",
      " |-- category: string (nullable = false)\n",
      "\n",
      "Successfully written 12892 documents\n",
      "Loading data/cooking/posts.csv\n",
      "Schema: \n",
      "root\n",
      " |-- post_type_id: integer (nullable = true)\n",
      " |-- accepted_answer_id: integer (nullable = true)\n",
      " |-- parent_id: integer (nullable = true)\n",
      " |-- creation_date: timestamp (nullable = true)\n",
      " |-- deletion_date: string (nullable = true)\n",
      " |-- score: integer (nullable = true)\n",
      " |-- view_count: integer (nullable = true)\n",
      " |-- body: string (nullable = true)\n",
      " |-- owner_user_id: integer (nullable = true)\n",
      " |-- owner_display_name: string (nullable = true)\n",
      " |-- last_editor_user_id: integer (nullable = true)\n",
      " |-- last_editor_display_name: string (nullable = true)\n",
      " |-- last_edit_date: timestamp (nullable = true)\n",
      " |-- last_activity_date: timestamp (nullable = true)\n",
      " |-- title: string (nullable = true)\n",
      " |-- tags: string (nullable = true)\n",
      " |-- answer_count: integer (nullable = true)\n",
      " |-- comment_count: integer (nullable = true)\n",
      " |-- favorite_count: integer (nullable = true)\n",
      " |-- closed_date: timestamp (nullable = true)\n",
      " |-- community_owned_date: timestamp (nullable = true)\n",
      " |-- category: string (nullable = false)\n",
      "\n",
      "Successfully written 79324 documents\n",
      "Loading data/scifi/posts.csv\n",
      "Schema: \n",
      "root\n",
      " |-- post_type_id: integer (nullable = true)\n",
      " |-- accepted_answer_id: integer (nullable = true)\n",
      " |-- parent_id: integer (nullable = true)\n",
      " |-- creation_date: timestamp (nullable = true)\n",
      " |-- deletion_date: string (nullable = true)\n",
      " |-- score: integer (nullable = true)\n",
      " |-- view_count: integer (nullable = true)\n",
      " |-- body: string (nullable = true)\n",
      " |-- owner_user_id: integer (nullable = true)\n",
      " |-- owner_display_name: string (nullable = true)\n",
      " |-- last_editor_user_id: integer (nullable = true)\n",
      " |-- last_editor_display_name: string (nullable = true)\n",
      " |-- last_edit_date: timestamp (nullable = true)\n",
      " |-- last_activity_date: timestamp (nullable = true)\n",
      " |-- title: string (nullable = true)\n",
      " |-- tags: string (nullable = true)\n",
      " |-- answer_count: integer (nullable = true)\n",
      " |-- comment_count: integer (nullable = true)\n",
      " |-- favorite_count: integer (nullable = true)\n",
      " |-- closed_date: timestamp (nullable = true)\n",
      " |-- community_owned_date: timestamp (nullable = true)\n",
      " |-- category: string (nullable = false)\n",
      "\n",
      "Successfully written 177547 documents\n",
      "Loading data/travel/posts.csv\n",
      "Schema: \n",
      "root\n",
      " |-- post_type_id: integer (nullable = true)\n",
      " |-- accepted_answer_id: integer (nullable = true)\n",
      " |-- parent_id: integer (nullable = true)\n",
      " |-- creation_date: timestamp (nullable = true)\n",
      " |-- deletion_date: string (nullable = true)\n",
      " |-- score: integer (nullable = true)\n",
      " |-- view_count: integer (nullable = true)\n",
      " |-- body: string (nullable = true)\n",
      " |-- owner_user_id: integer (nullable = true)\n",
      " |-- owner_display_name: string (nullable = true)\n",
      " |-- last_editor_user_id: integer (nullable = true)\n",
      " |-- last_editor_display_name: string (nullable = true)\n",
      " |-- last_edit_date: timestamp (nullable = true)\n",
      " |-- last_activity_date: timestamp (nullable = true)\n",
      " |-- title: string (nullable = true)\n",
      " |-- tags: string (nullable = true)\n",
      " |-- answer_count: integer (nullable = true)\n",
      " |-- comment_count: integer (nullable = true)\n",
      " |-- favorite_count: integer (nullable = true)\n",
      " |-- closed_date: timestamp (nullable = true)\n",
      " |-- community_owned_date: timestamp (nullable = true)\n",
      " |-- category: string (nullable = false)\n",
      "\n",
      "Successfully written 111130 documents\n",
      "Loading data/devops/posts.csv\n",
      "Schema: \n",
      "root\n",
      " |-- post_type_id: integer (nullable = true)\n",
      " |-- accepted_answer_id: integer (nullable = true)\n",
      " |-- parent_id: integer (nullable = true)\n",
      " |-- creation_date: timestamp (nullable = true)\n",
      " |-- deletion_date: string (nullable = true)\n",
      " |-- score: integer (nullable = true)\n",
      " |-- view_count: integer (nullable = true)\n",
      " |-- body: string (nullable = true)\n",
      " |-- owner_user_id: integer (nullable = true)\n",
      " |-- owner_display_name: string (nullable = true)\n",
      " |-- last_editor_user_id: integer (nullable = true)\n",
      " |-- last_editor_display_name: string (nullable = true)\n",
      " |-- last_edit_date: timestamp (nullable = true)\n",
      " |-- last_activity_date: timestamp (nullable = true)\n",
      " |-- title: string (nullable = true)\n",
      " |-- tags: string (nullable = true)\n",
      " |-- answer_count: integer (nullable = true)\n",
      " |-- comment_count: integer (nullable = true)\n",
      " |-- favorite_count: integer (nullable = true)\n",
      " |-- closed_date: timestamp (nullable = true)\n",
      " |-- community_owned_date: timestamp (nullable = true)\n",
      " |-- category: string (nullable = false)\n",
      "\n",
      "Successfully written 9216 documents\n"
     ]
    },
    {
     "data": {
      "text/plain": [
       "<engines.solr.SolrCollection.SolrCollection at 0x7f18afbd1270>"
      ]
     },
     "execution_count": 4,
     "metadata": {},
     "output_type": "execute_result"
    }
   ],
   "source": [
    "aips.indexer.build_collection(engine, \"stackexchange\")"
   ]
  },
  {
   "cell_type": "markdown",
   "metadata": {},
   "source": [
    "## Dual index datasets into Solr for SKG"
   ]
  },
  {
   "cell_type": "code",
   "execution_count": 5,
   "metadata": {},
   "outputs": [
    {
     "data": {
      "text/plain": [
       "<engines.solr.SolrCollection.SolrCollection at 0x7f18ac3421a0>"
      ]
     },
     "execution_count": 5,
     "metadata": {},
     "output_type": "execute_result"
    }
   ],
   "source": [
    "solr_engine = get_engine(\"solr\")\n",
    "aips.indexer.build_collection(solr_engine, \"jobs\")\n",
    "for dataset in datasets:\n",
    "    aips.indexer.build_collection(solr_engine, dataset)\n",
    "aips.indexer.build_collection(solr_engine, \"stackexchange\")"
   ]
  },
  {
   "cell_type": "markdown",
   "metadata": {},
   "source": [
    "## Success!\n",
    "\n",
    "Now that you've indexed several large text datasets, in the next notebook we will explore the rich graph of semantic relationships embedded within those documents by leveraging Semantic Knowledge Graphs for real-time traversal and ranking of arbitrary relationships within the domains of our datasets.\n",
    "\n",
    "Up next: [Working with Semantic Knowledge Graphs](3.semantic-knowledge-graph.ipynb)"
   ]
  }
 ],
 "metadata": {
  "kernelspec": {
   "display_name": "Python 3 (ipykernel)",
   "language": "python",
   "name": "python3"
  },
  "language_info": {
   "codemirror_mode": {
    "name": "ipython",
    "version": 3
   },
   "file_extension": ".py",
   "mimetype": "text/x-python",
   "name": "python",
   "nbconvert_exporter": "python",
   "pygments_lexer": "ipython3",
   "version": "3.10.9"
  }
 },
 "nbformat": 4,
 "nbformat_minor": 4
}
