{
 "cells": [
  {
   "cell_type": "code",
   "execution_count": 1,
   "metadata": {},
   "outputs": [
    {
     "name": "stderr",
     "output_type": "stream",
     "text": [
      "100%|████████████████████████████████████████| 338M/338M [11:02<00:00, 534kiB/s]\n"
     ]
    }
   ],
   "source": [
    "import sys\n",
    "sys.path.append(\"../..\")\n",
    "\n",
    "from aips import get_engine\n",
    "from IPython.display import display, HTML\n",
    "from pyspark.sql import SparkSession\n",
    "import ipywidgets as widgets\n",
    "from PIL import Image\n",
    "import pickle\n",
    "import requests\n",
    "import numpy\n",
    "import torch\n",
    "import clip\n",
    "from io import BytesIO\n",
    "\n",
    "device = \"cuda\" if torch.cuda.is_available() else \"cpu\"\n",
    "model, preprocess = clip.load(\"ViT-B/32\", device=device)\n",
    "\n",
    "engine = get_engine()\n",
    "spark = SparkSession.builder.appName(\"AIPS\").getOrCreate()"
   ]
  },
  {
   "cell_type": "code",
   "execution_count": 2,
   "metadata": {},
   "outputs": [
    {
     "name": "stdout",
     "output_type": "stream",
     "text": [
      "Cloning into 'tmdb'...\n",
      "remote: Enumerating objects: 7, done.\u001b[K\n",
      "remote: Counting objects: 100% (7/7), done.\u001b[K\n",
      "remote: Compressing objects: 100% (7/7), done.\u001b[K\n",
      "remote: Total 7 (delta 0), reused 6 (delta 0), pack-reused 0\u001b[K\n",
      "Receiving objects: 100% (7/7), 103.98 MiB | 545.00 KiB/s, done.\n",
      "Updating files: 100% (5/5), done.\n",
      "Already up to date.\n",
      "movies_with_image_embeddings.pickle\n"
     ]
    }
   ],
   "source": [
    "![ ! -d 'tmdb' ] && git clone --depth 1 https://github.com/ai-powered-search/tmdb.git\n",
    "! cd tmdb && git pull\n",
    "! cd tmdb && mkdir -p '../../../data/tmdb/' && tar -xvf movies_with_image_embeddings.tgz -C '../../../data/tmdb/'"
   ]
  },
  {
   "cell_type": "markdown",
   "metadata": {},
   "source": [
    "## Listing 15.14"
   ]
  },
  {
   "cell_type": "code",
   "execution_count": 3,
   "metadata": {},
   "outputs": [],
   "source": [
    "def normalize_embedding(embedding):\n",
    "    return numpy.divide(embedding,\n",
    "      numpy.linalg.norm(embedding,axis=0)).tolist()\n",
    "\n",
    "def read(cache_name):\n",
    "    cache_file_name = f\"../../data/tmdb/{cache_name}.pickle\"\n",
    "    with open(cache_file_name, \"rb\") as fd:\n",
    "        return pickle.load(fd)\n",
    "\n",
    "def generate_tmdb_with_embeddings_index():\n",
    "    movies = read(\"movies_with_image_embeddings\")\n",
    "    embeddings = movies[\"image_embeddings\"]\n",
    "    normalized_embeddings = [ normalize_embedding(embedding) for embedding in embeddings ]\n",
    "    collection = engine.create_collection(\"tmdb_with_embeddings\")\n",
    "    movies_dataframe = spark.createDataFrame(\n",
    "        zip(movies[\"movie_ids\"], movies[\"titles\"], \n",
    "            movies[\"image_ids\"], normalized_embeddings),\n",
    "        schema=[\"movie_id\", \"title\", \"image_id\", \"image_embedding\"])\n",
    "    collection.write(movies_dataframe)"
   ]
  },
  {
   "cell_type": "code",
   "execution_count": 4,
   "metadata": {},
   "outputs": [
    {
     "name": "stdout",
     "output_type": "stream",
     "text": [
      "Wiping \"tmdb_with_embeddings\" collection\n",
      "Creating \"tmdb_with_embeddings\" collection\n",
      "Status: Success\n",
      "Successfully written 7549 documents\n"
     ]
    }
   ],
   "source": [
    "generate_tmdb_with_embeddings_index()"
   ]
  },
  {
   "cell_type": "markdown",
   "metadata": {},
   "source": [
    "## Listing 15.15"
   ]
  },
  {
   "cell_type": "code",
   "execution_count": 5,
   "metadata": {},
   "outputs": [],
   "source": [
    "def load_image(full_path, log=False):   \n",
    "    try:\n",
    "        if full_path.startswith(\"http\"):\n",
    "            response = requests.get(full_path)\n",
    "            image = Image.open(BytesIO(response.content))\n",
    "        else:\n",
    "            image = Image.open(full_path)\n",
    "        if log: print(\"File Found\")\n",
    "        return image\n",
    "    except:\n",
    "        if log: print(f\"No Image Available {full_path}\")\n",
    "        return []      \n",
    "\n",
    "def movie_search(query_embedding, limit=8):\n",
    "    collection = engine.get_collection(\"tmdb_with_embeddings\")\n",
    "    request = {\n",
    "        \"query_vector\": query_embedding,\n",
    "        \"query_field\": \"image_embedding\",\n",
    "        \"limit\": limit,\n",
    "        \"quantization_size\": \"FLOAT32\"}\n",
    "    return collection.vector_search(**request)\n",
    "    \n",
    "def normalize_embedding(embedding):\n",
    "    return numpy.divide(embedding,\n",
    "      numpy.linalg.norm(embedding,axis=0)).tolist()\n",
    "\n",
    "def encode_text(text):\n",
    "    text = clip.tokenize([text]).to(device)    \n",
    "    text_features = model.encode_text(text)\n",
    "    embedding = text_features.tolist()[0] \n",
    "    normalized_embedding = normalize_embedding(embedding)\n",
    "    return embedding\n",
    "    \n",
    "def encode_image(image_file):\n",
    "    image = load_image(image_file)\n",
    "    inputs = preprocess(image).unsqueeze(0).to(device)\n",
    "    embedding = model.encode_image(inputs).tolist()[0]\n",
    "    normalized_embedding = normalize_embedding(embedding)\n",
    "    return embedding\n",
    "\n",
    "def encode_text_and_image(text_query, image_file):    \n",
    "    text_embedding = encode_text(text_query)\n",
    "    image_embedding = encode_image(image_file)  \n",
    "    return numpy.average((normalize_embedding(\n",
    "        [text_embedding, image_embedding])), axis=0).tolist()"
   ]
  },
  {
   "cell_type": "markdown",
   "metadata": {},
   "source": [
    "## Listing 15.16"
   ]
  },
  {
   "cell_type": "code",
   "execution_count": 6,
   "metadata": {},
   "outputs": [],
   "source": [
    "def get_html(movies_documents):\n",
    "    css = \"\"\"\n",
    "      <style type=\"text/css\">\n",
    "        .results { \n",
    "          margin-top: 15px; \n",
    "          display: flex; \n",
    "          flex-wrap: wrap; \n",
    "          justify-content: space-evenly; }\n",
    "        .results .result { height: 250px; margin-bottom: 5px; }\n",
    "      </style>\"\"\"\n",
    "    \n",
    "    results_html = \"\"\n",
    "    for movie in movies_documents:\n",
    "        image_file = f\"http://image.tmdb.org/t/p/w780/{movie['image_id']}.jpg\"\n",
    "        movie_link = f\"https://www.themoviedb.org/movie/{movie['movie_id']}\"\n",
    "        img_html = f\"<img title='{movie['title']}' class='result' src='{image_file}'>\"\n",
    "        results_html += f\"<a href='{movie_link}' target='_blank'>{img_html}</a>\"\n",
    "    return f\"{css}<div class='results'>{results_html}</div>\"\n",
    "   \n",
    "def display_results(search_results):    \n",
    "    output = widgets.Output()\n",
    "    with output:\n",
    "        display(HTML(get_html(search_results[\"docs\"]))) \n",
    "    display(widgets.HBox(layout=widgets.Layout(justify_content=\"center\")), output)   \n",
    "\n",
    "def search_and_display(text_query=\"\", image_query=None):\n",
    "    if image_query:\n",
    "        if text_query:\n",
    "            query_embedding = encode_text_and_image(text_query, image_query)\n",
    "        else:\n",
    "            query_embedding = encode_image(image_query)\n",
    "    else:\n",
    "        query_embedding = encode_text(text_query)\n",
    "    display_results(movie_search(query_embedding))"
   ]
  },
  {
   "cell_type": "markdown",
   "metadata": {},
   "source": [
    "# Figure 15.5"
   ]
  },
  {
   "cell_type": "code",
   "execution_count": 7,
   "metadata": {},
   "outputs": [
    {
     "data": {
      "application/vnd.jupyter.widget-view+json": {
       "model_id": "81031b800e314c4b8ee87109d6828a40",
       "version_major": 2,
       "version_minor": 0
      },
      "text/plain": [
       "HBox(layout=Layout(justify_content='center'))"
      ]
     },
     "metadata": {},
     "output_type": "display_data"
    },
    {
     "data": {
      "application/vnd.jupyter.widget-view+json": {
       "model_id": "92561ef3afd44e00a2ac4667015145b5",
       "version_major": 2,
       "version_minor": 0
      },
      "text/plain": [
       "Output()"
      ]
     },
     "metadata": {},
     "output_type": "display_data"
    }
   ],
   "source": [
    "search_and_display(text_query=\"singing in the rain\")"
   ]
  },
  {
   "cell_type": "code",
   "execution_count": 8,
   "metadata": {},
   "outputs": [
    {
     "data": {
      "application/vnd.jupyter.widget-view+json": {
       "model_id": "6fdffc8fb3c14f5198368c7c75cf6aa5",
       "version_major": 2,
       "version_minor": 0
      },
      "text/plain": [
       "HBox(layout=Layout(justify_content='center'))"
      ]
     },
     "metadata": {},
     "output_type": "display_data"
    },
    {
     "data": {
      "application/vnd.jupyter.widget-view+json": {
       "model_id": "a655abaf18954b848d6b18f7e9867b67",
       "version_major": 2,
       "version_minor": 0
      },
      "text/plain": [
       "Output()"
      ]
     },
     "metadata": {},
     "output_type": "display_data"
    }
   ],
   "source": [
    "search_and_display(text_query=\"superhero flying\")"
   ]
  },
  {
   "cell_type": "markdown",
   "metadata": {},
   "source": [
    "# Figure 15.6"
   ]
  },
  {
   "cell_type": "code",
   "execution_count": 9,
   "metadata": {},
   "outputs": [
    {
     "data": {
      "application/vnd.jupyter.widget-view+json": {
       "model_id": "e137ad1514fd466194a123916692af69",
       "version_major": 2,
       "version_minor": 0
      },
      "text/plain": [
       "HBox(layout=Layout(justify_content='center'))"
      ]
     },
     "metadata": {},
     "output_type": "display_data"
    },
    {
     "data": {
      "application/vnd.jupyter.widget-view+json": {
       "model_id": "e45e64e860214e049fff918160969e0e",
       "version_major": 2,
       "version_minor": 0
      },
      "text/plain": [
       "Output()"
      ]
     },
     "metadata": {},
     "output_type": "display_data"
    }
   ],
   "source": [
    "search_and_display(text_query=\"superheroes flying\")"
   ]
  },
  {
   "cell_type": "markdown",
   "metadata": {},
   "source": [
    "# Figure 15.7"
   ]
  },
  {
   "cell_type": "code",
   "execution_count": 10,
   "metadata": {},
   "outputs": [
    {
     "data": {
      "application/vnd.jupyter.widget-view+json": {
       "model_id": "b5f1d22ee37c4743a7c0b4cea13dafe8",
       "version_major": 2,
       "version_minor": 0
      },
      "text/plain": [
       "HBox(layout=Layout(justify_content='center'))"
      ]
     },
     "metadata": {},
     "output_type": "display_data"
    },
    {
     "data": {
      "application/vnd.jupyter.widget-view+json": {
       "model_id": "b42c4ca5fe7a43be8ff3f5b3aa7d91bb",
       "version_major": 2,
       "version_minor": 0
      },
      "text/plain": [
       "Output()"
      ]
     },
     "metadata": {},
     "output_type": "display_data"
    }
   ],
   "source": [
    "search_and_display(image_query=\"delorean-query.jpg\")"
   ]
  },
  {
   "cell_type": "markdown",
   "metadata": {},
   "source": [
    "# Figure 15.8"
   ]
  },
  {
   "cell_type": "code",
   "execution_count": 11,
   "metadata": {},
   "outputs": [
    {
     "data": {
      "application/vnd.jupyter.widget-view+json": {
       "model_id": "050a5a12da6f493f9586e8feca4196b2",
       "version_major": 2,
       "version_minor": 0
      },
      "text/plain": [
       "HBox(layout=Layout(justify_content='center'))"
      ]
     },
     "metadata": {},
     "output_type": "display_data"
    },
    {
     "data": {
      "application/vnd.jupyter.widget-view+json": {
       "model_id": "46f4ad95a0cc4c60b62c04533aefab03",
       "version_major": 2,
       "version_minor": 0
      },
      "text/plain": [
       "Output()"
      ]
     },
     "metadata": {},
     "output_type": "display_data"
    }
   ],
   "source": [
    "search_and_display(text_query=\"superhero\", image_query=\"delorean-query.jpg\")"
   ]
  }
 ],
 "metadata": {
  "kernelspec": {
   "display_name": "Python 3 (ipykernel)",
   "language": "python",
   "name": "python3"
  },
  "language_info": {
   "codemirror_mode": {
    "name": "ipython",
    "version": 3
   },
   "file_extension": ".py",
   "mimetype": "text/x-python",
   "name": "python",
   "nbconvert_exporter": "python",
   "pygments_lexer": "ipython3",
   "version": "3.10.9"
  }
 },
 "nbformat": 4,
 "nbformat_minor": 4
}
