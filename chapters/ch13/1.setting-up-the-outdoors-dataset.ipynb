{
 "cells": [
  {
   "cell_type": "markdown",
   "metadata": {},
   "source": [
    "## [ Chapter 13 - Semantic Search with Dense Vectors ] \n",
    "## Setting up the outdoors dataset\n",
    "\n",
    "We're going to use the Outdoors dataset for this chapter, and for a very important reason: the vocabulary and contexts in the outdoor question and answer __domain__ already have good coverage in the Transformer models we'll be using.\n",
    "\n",
    "This is because the datasets that were used to train the model include sources that are likely to have similar subject matter.  Wikipedia was used to train bert-base-uncased (https://huggingface.co/bert-base-uncased#training-data) and, surprise! wikipedia has a section specifically on outdoors content: https://en.wikipedia.org/wiki/Outdoor\n",
    "\n",
    "This is important, because if the words and their contexts haven't been seen before, the model will be less accurate.\n",
    "\n",
    "Also, who doesn't enjoy playing around with a new dataset?! Data is search nerd candy."
   ]
  },
  {
   "cell_type": "code",
   "execution_count": 1,
   "metadata": {},
   "outputs": [],
   "source": [
    "import html\n",
    "import json\n",
    "\n",
    "from IPython.display import HTML, display\n",
    "import aips.indexer\n",
    "from aips import get_engine\n",
    "\n",
    "engine = get_engine()"
   ]
  },
  {
   "cell_type": "markdown",
   "metadata": {},
   "source": [
    "## Listing 13.1\n",
    "\n",
    "### Creating our Collection and Indexing the documents"
   ]
  },
  {
   "cell_type": "code",
   "execution_count": 10,
   "metadata": {},
   "outputs": [],
   "source": [
    "outdoors_collection = aips.indexer.build_collection(engine, \"outdoors\")"
   ]
  },
  {
   "cell_type": "markdown",
   "metadata": {},
   "source": [
    "## Listing 13.2\n",
    "\n",
    "### Exploring data for a question regarding `climbing knots`"
   ]
  },
  {
   "cell_type": "code",
   "execution_count": 3,
   "metadata": {},
   "outputs": [],
   "source": [
    "def get_posts_for_question(query):\n",
    "    request = {\"query\": query,\n",
    "               \"limit\": 1, \n",
    "               \"query_fields\": [\"title\", \"body\"],\n",
    "               \"return_fields\": [\"id\"],\n",
    "               \"filters\": [(\"post_type\", \"question\"),\n",
    "                           (\"accepted_answer_id\", \"*\")]}\n",
    "    id = outdoors_collection.search(**request)[\"docs\"][0][\"id\"]\n",
    "    request = {\"query\": id,\n",
    "               \"query_fields\": [\"id\", \"parent_id\"],\n",
    "               \"limit\": 3,\n",
    "               \"return_fields\": [\"id\", \"post_type\", \"title\", \"body\", \"parent_id\", \"accepted_answer_id\"]}\n",
    "    return outdoors_collection.search(**request)[\"docs\"]"
   ]
  },
  {
   "cell_type": "code",
   "execution_count": 4,
   "metadata": {},
   "outputs": [
    {
     "data": {
      "text/plain": [
       "[{'id': '18825',\n",
       "  'accepted_answer_id': 18826,\n",
       "  'body': \"If I wanted to learn how to tie certain knots, or learn about new knots and what they're used for, what are some good resources to look up?\",\n",
       "  'title': \"What's a good resource for learning to tie knots for climbing?\",\n",
       "  'post_type': 'question'},\n",
       " {'id': '18826',\n",
       "  'parent_id': 18825,\n",
       "  'body': \"Animated Knots By Grog Arguably the best resource online for knot tying is Animated Knots by Grog , it's used by virtually every avid knot tyer I've known. They have excellent step-by-step animations for tying hundreds of common knots for rock climbing, sailing, rescue work, fishing, etc. There are also video tutorials for each knot, and they also have an amazing mobile app that you take with you for times when you're out on an adventure and forget how to tie a knot (which I've done fishing on a number of occations).\",\n",
       "  'post_type': 'answer'},\n",
       " {'id': '18828',\n",
       "  'parent_id': 18825,\n",
       "  'body': \"(In this answer I concentrate mostly on practical knots to be used for situations where lives may depend on it. Decorative work has quite different sources and rules.) There is no one method that suits all. For me it is books, still pictures. Although I love the Animated Knots by Grog , they are not the best for me. For old fashioned rope I go to the Ashley Book of Knots, (also known as ABOK) and the knots in it are mentioned as ABOK #xxxx, in which the numbers run up into the 3000's. For modern ropes I go to books about knots in modern rope, of which I own at least 10. For fishing line, I will go to books about tying Fishing knots. And so on. Other people learn the best from life teachers. For outdoors sports, in which often your life depends on the knots you tie, your best teacher is the guy/girl who has been teaching for the sport with good results, best if there are several teachers and each able to do more than one teaching approach. It is certainly good to repeat the learning from books, sites or videos, but an important part is where the teacher checks your work, correct any mistakes before you get them planted into your brain. And a very important part of being taught knots is when and where to use them, and how, and maybe more important, when not, and how not, to use the knots you know. As back-up teaching methods, there are many videos on Internet. Many of them good, not all though. But more important than the basic video being good, it needs to be one you can follow, are willing to take the time to watch and watch again and on and on. A video which you only want to watch once will likely not get the knot in your head well enough to have it ready to tie in an emergency. And you might miss one vital step making the knot one that is not to be trusted. There are several good knot sites beside Grog's. Several forums and groups. (It used to be Google groups, it is now Facebook groups.) And loads of people who post their own information. I am a member of the International Guild of Knot Tyers, and have been tying knots since I was a child. But I am mostly doing decorative work, so not the best for out of doors survival kind of knots.\",\n",
       "  'post_type': 'answer'}]"
      ]
     },
     "execution_count": 4,
     "metadata": {},
     "output_type": "execute_result"
    }
   ],
   "source": [
    "get_posts_for_question(\"climbing knots\")"
   ]
  },
  {
   "cell_type": "markdown",
   "metadata": {},
   "source": [
    "## Listing 13.3\n",
    "\n",
    "### Querying our collection with a noun phrase"
   ]
  },
  {
   "cell_type": "code",
   "execution_count": 5,
   "metadata": {},
   "outputs": [],
   "source": [
    "def display_questions(query, response, verbose=False):\n",
    "    print(f\"Query {query}:\\n\")\n",
    "    if verbose:\n",
    "        highlights = [response[\"highlighting\"][k] for k in response[\"highlighting\"].keys()]\n",
    "    print(\"Ranked Questions:\")\n",
    "    for i, q in enumerate(response[\"docs\"]):\n",
    "        if verbose:\n",
    "            print(json.dumps(q, indent=\"  \"))\n",
    "        if \"title\" in q.keys():\n",
    "            id = f'<a href=\"{q[\"url\"]}\">{q[\"id\"]}</a>'\n",
    "            display(HTML(f'<strong>Question {id}: </strong>{q[\"title\"]}'))\n",
    "        if verbose:\n",
    "            display(HTML(\"<strong>Body:</strong>\" + html.unescape(str(highlights[i][\"body\"][0]))))\n",
    "            display(HTML(\"<hr>\"))\n",
    "\n",
    "def search_questions(query, verbose=False):\n",
    "    request = {\"query\": query,\n",
    "               \"query_fields\": [\"title\", \"body\"],\n",
    "               \"limit\": 5,\n",
    "               \"return_fields\": [\"id\", \"url\", \"post_type\", \"title\",\n",
    "                                 \"body\", \"accepted_answer_id\", \"score\"],\n",
    "               \"filters\": [(\"post_type\", \"question\")],\n",
    "               \"order_by\": [(\"score\", \"desc\"), (\"title\", \"asc\")]}\n",
    "    response = outdoors_collection.search(**request)\n",
    "    display_questions(query, response, verbose)"
   ]
  },
  {
   "cell_type": "code",
   "execution_count": 6,
   "metadata": {},
   "outputs": [
    {
     "name": "stdout",
     "output_type": "stream",
     "text": [
      "Query climbing knots:\n",
      "\n",
      "Ranked Questions:\n"
     ]
    },
    {
     "data": {
      "text/html": [
       "<strong>Question <a href=\"https://outdoors.stackexchange.com/questions/21855\">21855</a>: </strong>What are the four climbing knots used by Jim Bridwell?"
      ],
      "text/plain": [
       "<IPython.core.display.HTML object>"
      ]
     },
     "metadata": {},
     "output_type": "display_data"
    },
    {
     "data": {
      "text/html": [
       "<strong>Question <a href=\"https://outdoors.stackexchange.com/questions/18825\">18825</a>: </strong>What's a good resource for learning to tie knots for climbing?"
      ],
      "text/plain": [
       "<IPython.core.display.HTML object>"
      ]
     },
     "metadata": {},
     "output_type": "display_data"
    },
    {
     "data": {
      "text/html": [
       "<strong>Question <a href=\"https://outdoors.stackexchange.com/questions/18814\">18814</a>: </strong>How to tie a figure eight on a bight?"
      ],
      "text/plain": [
       "<IPython.core.display.HTML object>"
      ]
     },
     "metadata": {},
     "output_type": "display_data"
    },
    {
     "data": {
      "text/html": [
       "<strong>Question <a href=\"https://outdoors.stackexchange.com/questions/9183\">9183</a>: </strong>Can rock climbers easily transition to canyoning?"
      ],
      "text/plain": [
       "<IPython.core.display.HTML object>"
      ]
     },
     "metadata": {},
     "output_type": "display_data"
    },
    {
     "data": {
      "text/html": [
       "<strong>Question <a href=\"https://outdoors.stackexchange.com/questions/22477\">22477</a>: </strong>Tradeoffs between different stopper knots"
      ],
      "text/plain": [
       "<IPython.core.display.HTML object>"
      ]
     },
     "metadata": {},
     "output_type": "display_data"
    }
   ],
   "source": [
    "search_questions(\"climbing knots\")"
   ]
  },
  {
   "cell_type": "markdown",
   "metadata": {},
   "source": [
    "## Listing 13.4\n",
    "\n",
    "### Querying our collection with a question"
   ]
  },
  {
   "cell_type": "code",
   "execution_count": 7,
   "metadata": {},
   "outputs": [
    {
     "name": "stdout",
     "output_type": "stream",
     "text": [
      "Query What is DEET?:\n",
      "\n",
      "Ranked Questions:\n"
     ]
    },
    {
     "data": {
      "text/html": [
       "<strong>Question <a href=\"https://outdoors.stackexchange.com/questions/20403\">20403</a>: </strong>What is bushcrafting?"
      ],
      "text/plain": [
       "<IPython.core.display.HTML object>"
      ]
     },
     "metadata": {},
     "output_type": "display_data"
    },
    {
     "data": {
      "text/html": [
       "<strong>Question <a href=\"https://outdoors.stackexchange.com/questions/20977\">20977</a>: </strong>What is \"catskiing\"?"
      ],
      "text/plain": [
       "<IPython.core.display.HTML object>"
      ]
     },
     "metadata": {},
     "output_type": "display_data"
    },
    {
     "data": {
      "text/html": [
       "<strong>Question <a href=\"https://outdoors.stackexchange.com/questions/1660\">1660</a>: </strong>What is Geocaching?"
      ],
      "text/plain": [
       "<IPython.core.display.HTML object>"
      ]
     },
     "metadata": {},
     "output_type": "display_data"
    },
    {
     "data": {
      "text/html": [
       "<strong>Question <a href=\"https://outdoors.stackexchange.com/questions/17374\">17374</a>: </strong>What is a tent skirt and what is its purpose?"
      ],
      "text/plain": [
       "<IPython.core.display.HTML object>"
      ]
     },
     "metadata": {},
     "output_type": "display_data"
    },
    {
     "data": {
      "text/html": [
       "<strong>Question <a href=\"https://outdoors.stackexchange.com/questions/913\">913</a>: </strong>What is a buff?"
      ],
      "text/plain": [
       "<IPython.core.display.HTML object>"
      ]
     },
     "metadata": {},
     "output_type": "display_data"
    }
   ],
   "source": [
    "search_questions(\"What is DEET?\")"
   ]
  },
  {
   "cell_type": "code",
   "execution_count": 8,
   "metadata": {},
   "outputs": [
    {
     "name": "stdout",
     "output_type": "stream",
     "text": [
      "Query snow camping safety:\n",
      "\n",
      "Ranked Questions:\n"
     ]
    },
    {
     "data": {
      "text/html": [
       "<strong>Question <a href=\"https://outdoors.stackexchange.com/questions/1966\">1966</a>: </strong>Best approach to camping in snow?"
      ],
      "text/plain": [
       "<IPython.core.display.HTML object>"
      ]
     },
     "metadata": {},
     "output_type": "display_data"
    },
    {
     "data": {
      "text/html": [
       "<strong>Question <a href=\"https://outdoors.stackexchange.com/questions/20725\">20725</a>: </strong>How do people carry camping propane in a car when traveling?"
      ],
      "text/plain": [
       "<IPython.core.display.HTML object>"
      ]
     },
     "metadata": {},
     "output_type": "display_data"
    },
    {
     "data": {
      "text/html": [
       "<strong>Question <a href=\"https://outdoors.stackexchange.com/questions/18942\">18942</a>: </strong>Resources for camping in Georgia (country)"
      ],
      "text/plain": [
       "<IPython.core.display.HTML object>"
      ]
     },
     "metadata": {},
     "output_type": "display_data"
    },
    {
     "data": {
      "text/html": [
       "<strong>Question <a href=\"https://outdoors.stackexchange.com/questions/13209\">13209</a>: </strong>Any tips to prevent theft while tent camping alone in a caravan park?"
      ],
      "text/plain": [
       "<IPython.core.display.HTML object>"
      ]
     },
     "metadata": {},
     "output_type": "display_data"
    },
    {
     "data": {
      "text/html": [
       "<strong>Question <a href=\"https://outdoors.stackexchange.com/questions/8700\">8700</a>: </strong>What are some simple tasks to teach knife safety?"
      ],
      "text/plain": [
       "<IPython.core.display.HTML object>"
      ]
     },
     "metadata": {},
     "output_type": "display_data"
    }
   ],
   "source": [
    "search_questions(\"snow camping safety\")"
   ]
  },
  {
   "cell_type": "markdown",
   "metadata": {},
   "source": [
    "Up next: [Introduction to Transformers](2.introduction-to-transformers.ipynb)"
   ]
  }
 ],
 "metadata": {
  "kernelspec": {
   "display_name": "Python 3 (ipykernel)",
   "language": "python",
   "name": "python3"
  },
  "language_info": {
   "codemirror_mode": {
    "name": "ipython",
    "version": 3
   },
   "file_extension": ".py",
   "mimetype": "text/x-python",
   "name": "python",
   "nbconvert_exporter": "python",
   "pygments_lexer": "ipython3",
   "version": "3.10.9"
  }
 },
 "nbformat": 4,
 "nbformat_minor": 4
}
