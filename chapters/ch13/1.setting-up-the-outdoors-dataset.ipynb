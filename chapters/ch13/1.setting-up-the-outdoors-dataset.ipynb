{
 "cells": [
  {
   "cell_type": "markdown",
   "metadata": {},
   "source": [
    "## [ Chapter 13 - Semantic Search with Dense Vectors ] \n",
    "## Setting up the outdoors dataset\n",
    "\n",
    "We're going to use the Outdoors dataset for this chapter, and for a very important reason: the vocabulary and contexts in the outdoor question and answer __domain__ already have good coverage in the Transformer models we'll be using.\n",
    "\n",
    "This is because the datasets that were used to train the model include sources that are likely to have similar subject matter.  Wikipedia was used to train bert-base-uncased (https://huggingface.co/bert-base-uncased#training-data) and, surprise! wikipedia has a section specifically on outdoors content: https://en.wikipedia.org/wiki/Outdoor\n",
    "\n",
    "This is important, because if the words and their contexts haven't been seen before, the model will be less accurate.\n",
    "\n",
    "Also, who doesn't enjoy playing around with a new dataset?! Data is search nerd candy."
   ]
  },
  {
   "cell_type": "code",
   "execution_count": 1,
   "metadata": {},
   "outputs": [],
   "source": [
    "import html\n",
    "import json\n",
    "\n",
    "from IPython.display import HTML, display\n",
    "\n",
    "from aips import get_engine, set_engine\n",
    "engine = get_engine()"
   ]
  },
  {
   "cell_type": "markdown",
   "metadata": {},
   "source": [
    "## Listing 13.1\n",
    "\n",
    "### Creating our Collection and Indexing the documents"
   ]
  },
  {
   "cell_type": "code",
   "execution_count": 2,
   "metadata": {},
   "outputs": [
    {
     "name": "stdout",
     "output_type": "stream",
     "text": [
      "Already up to date.\n",
      "README.md\n",
      "concepts.pickle\n",
      "._guesses.csv\n",
      "guesses.csv\n",
      "._guesses_all.json\n",
      "guesses_all.json\n",
      "outdoors_concepts.pickle\n",
      "outdoors_embeddings.pickle\n",
      "._outdoors_golden_answers.csv\n",
      "outdoors_golden_answers.csv\n",
      "._outdoors_golden_answers.xlsx\n",
      "outdoors_golden_answers.xlsx\n",
      "._outdoors_golden_answers_20210130.csv\n",
      "outdoors_golden_answers_20210130.csv\n",
      "outdoors_labels.pickle\n",
      "outdoors_question_answering_contexts.json\n",
      "outdoors_questionanswering_test_set.json\n",
      "outdoors_questionanswering_train_set.json\n",
      "._posts.csv\n",
      "posts.csv\n",
      "predicates.pickle\n",
      "pull_aips_dependency.py\n",
      "._question-answer-seed-contexts.csv\n",
      "question-answer-seed-contexts.csv\n",
      "question-answer-squad2-guesses.csv\n",
      "._roberta-base-squad2-outdoors\n",
      "roberta-base-squad2-outdoors/\n",
      "roberta-base-squad2-outdoors/._tokenizer_config.json\n",
      "roberta-base-squad2-outdoors/tokenizer_config.json\n",
      "roberta-base-squad2-outdoors/._special_tokens_map.json\n",
      "roberta-base-squad2-outdoors/special_tokens_map.json\n",
      "roberta-base-squad2-outdoors/._config.json\n",
      "roberta-base-squad2-outdoors/config.json\n",
      "roberta-base-squad2-outdoors/._merges.txt\n",
      "roberta-base-squad2-outdoors/merges.txt\n",
      "roberta-base-squad2-outdoors/._training_args.bin\n",
      "roberta-base-squad2-outdoors/training_args.bin\n",
      "roberta-base-squad2-outdoors/._pytorch_model.bin\n",
      "roberta-base-squad2-outdoors/pytorch_model.bin\n",
      "roberta-base-squad2-outdoors/._vocab.json\n",
      "roberta-base-squad2-outdoors/vocab.json\n"
     ]
    }
   ],
   "source": [
    "#outdoors\n",
    "![ ! -d 'outdoors' ] && git clone --depth=1 https://github.com/ai-powered-search/outdoors.git\n",
    "! cd outdoors && git pull\n",
    "! cd outdoors && cat outdoors.tgz.part* > outdoors.tgz\n",
    "! cd outdoors && mkdir -p '../data/outdoors/' && tar -xvf outdoors.tgz -C '../data/outdoors/'"
   ]
  },
  {
   "cell_type": "code",
   "execution_count": 3,
   "metadata": {},
   "outputs": [
    {
     "name": "stdout",
     "output_type": "stream",
     "text": [
      "Wiping \"outdoors\" collection\n",
      "Creating \"outdoors\" collection\n",
      "Schema: {\n",
      "  \"mappings\": {\n",
      "    \"properties\": {\n",
      "      \"id\": {\n",
      "        \"type\": \"text\",\n",
      "        \"store\": true\n",
      "      },\n",
      "      \"post_type\": {\n",
      "        \"type\": \"text\",\n",
      "        \"store\": true\n",
      "      },\n",
      "      \"accepted_answer_id\": {\n",
      "        \"type\": \"integer\",\n",
      "        \"store\": true\n",
      "      },\n",
      "      \"parent_id\": {\n",
      "        \"type\": \"integer\",\n",
      "        \"store\": true\n",
      "      },\n",
      "      \"creation_date\": {\n",
      "        \"type\": \"text\",\n",
      "        \"store\": true\n",
      "      },\n",
      "      \"score\": {\n",
      "        \"type\": \"integer\",\n",
      "        \"store\": true\n",
      "      },\n",
      "      \"view_count\": {\n",
      "        \"type\": \"integer\",\n",
      "        \"store\": true\n",
      "      },\n",
      "      \"body\": {\n",
      "        \"type\": \"text\",\n",
      "        \"store\": true,\n",
      "        \"fielddata\": true\n",
      "      },\n",
      "      \"owner_user_id\": {\n",
      "        \"type\": \"text\",\n",
      "        \"store\": true\n",
      "      },\n",
      "      \"title\": {\n",
      "        \"type\": \"text\",\n",
      "        \"store\": true,\n",
      "        \"fielddata\": true\n",
      "      },\n",
      "      \"tags\": {\n",
      "        \"type\": \"keyword\",\n",
      "        \"store\": true\n",
      "      },\n",
      "      \"url\": {\n",
      "        \"type\": \"text\",\n",
      "        \"store\": true\n",
      "      },\n",
      "      \"answer_count\": {\n",
      "        \"type\": \"integer\",\n",
      "        \"store\": true\n",
      "      }\n",
      "    }\n",
      "  }\n",
      "}\n",
      "Status: {\n",
      "  \"acknowledged\": true,\n",
      "  \"shards_acknowledged\": true,\n",
      "  \"index\": \"outdoors\"\n",
      "}\n",
      "Successfully written 18456 documents\n",
      "root\n",
      " |-- id: integer (nullable = true)\n",
      " |-- accepted_answer_id: integer (nullable = true)\n",
      " |-- parent_id: integer (nullable = true)\n",
      " |-- creation_date: timestamp (nullable = true)\n",
      " |-- score: integer (nullable = true)\n",
      " |-- view_count: integer (nullable = false)\n",
      " |-- body: string (nullable = true)\n",
      " |-- owner_user_id: string (nullable = true)\n",
      " |-- title: string (nullable = true)\n",
      " |-- tags: array (nullable = true)\n",
      " |    |-- element: string (containsNull = true)\n",
      " |-- answer_count: integer (nullable = true)\n",
      " |-- post_type: string (nullable = true)\n",
      " |-- url: string (nullable = true)\n",
      "\n"
     ]
    }
   ],
   "source": [
    "from aips.data_loaders.outdoors import load_dataframe\n",
    "\n",
    "outdoors_collection = engine.create_collection(\"outdoors\")\n",
    "outdoors_dataframe = load_dataframe(\"data/outdoors/posts.csv\")\n",
    "outdoors_collection.write(outdoors_dataframe)\n",
    "outdoors_dataframe.printSchema()"
   ]
  },
  {
   "cell_type": "markdown",
   "metadata": {},
   "source": [
    "## Listing 13.2\n",
    "\n",
    "### Exploring data for a question regarding `climbing knots`"
   ]
  },
  {
   "cell_type": "code",
   "execution_count": 4,
   "metadata": {},
   "outputs": [],
   "source": [
    "def get_posts_for_question(query):\n",
    "    request = {\"query\": query,\n",
    "               \"limit\": 1, \n",
    "               \"query_fields\": [\"title\", \"body\"],\n",
    "               \"return_fields\": [\"id\"],\n",
    "               \"filters\": [(\"post_type\", \"question\"),\n",
    "                           (\"accepted_answer_id\", \"*\")],\n",
    "                           \"log\": True}\n",
    "    id = outdoors_collection.search(**request)[\"docs\"][0][\"id\"]\n",
    "    request = {\"query\": id,\n",
    "               \"query_fields\": [\"id\", \"parent_id\"],\n",
    "               \"limit\": 3,\n",
    "               \"return_fields\": [\"id\", \"post_type\", \"title\", \"body\", \"parent_id\", \"accepted_answer_id\"],\n",
    "                           \"log\": True}\n",
    "    return outdoors_collection.search(**request)[\"docs\"]"
   ]
  },
  {
   "cell_type": "code",
   "execution_count": 5,
   "metadata": {},
   "outputs": [
    {
     "name": "stdout",
     "output_type": "stream",
     "text": [
      "Search Request:\n",
      "{\n",
      "  \"query\": {\n",
      "    \"bool\": {\n",
      "      \"must\": [\n",
      "        {\n",
      "          \"query_string\": {\n",
      "            \"query\": \"climbing knots\",\n",
      "            \"boost\": 0.454545454,\n",
      "            \"default_operator\": \"OR\",\n",
      "            \"fields\": [\n",
      "              \"title\",\n",
      "              \"body\"\n",
      "            ]\n",
      "          }\n",
      "        }\n",
      "      ],\n",
      "      \"filter\": [\n",
      "        {\n",
      "          \"term\": {\n",
      "            \"post_type\": \"question\"\n",
      "          }\n",
      "        },\n",
      "        {\n",
      "          \"exists\": {\n",
      "            \"field\": \"accepted_answer_id\"\n",
      "          }\n",
      "        }\n",
      "      ]\n",
      "    }\n",
      "  },\n",
      "  \"size\": 1,\n",
      "  \"fields\": [\n",
      "    \"id\"\n",
      "  ]\n",
      "}\n",
      "Search Request:\n",
      "{\n",
      "  \"query\": {\n",
      "    \"bool\": {\n",
      "      \"must\": [\n",
      "        {\n",
      "          \"query_string\": {\n",
      "            \"query\": \"18814\",\n",
      "            \"boost\": 0.454545454,\n",
      "            \"default_operator\": \"OR\",\n",
      "            \"fields\": [\n",
      "              \"id\",\n",
      "              \"parent_id\"\n",
      "            ]\n",
      "          }\n",
      "        }\n",
      "      ]\n",
      "    }\n",
      "  },\n",
      "  \"size\": 3,\n",
      "  \"fields\": [\n",
      "    \"id\",\n",
      "    \"post_type\",\n",
      "    \"title\",\n",
      "    \"body\",\n",
      "    \"parent_id\",\n",
      "    \"accepted_answer_id\"\n",
      "  ]\n",
      "}\n"
     ]
    },
    {
     "data": {
      "text/plain": [
       "[{'id': '18814',\n",
       "  'accepted_answer_id': 18815,\n",
       "  'creation_date': 1521697866173,\n",
       "  'score': 4.280788,\n",
       "  'view_count': 193,\n",
       "  'body': 'One of the more common knots in climbing is the figure eight on a bight (being tied on a bight means that it is tied without using the ends. How exactly would one tie this knot?',\n",
       "  'owner_user_id': '8794',\n",
       "  'title': 'How to tie a figure eight on a bight?',\n",
       "  'tags': ['climbing', 'knots'],\n",
       "  'answer_count': 1,\n",
       "  'post_type': 'question',\n",
       "  'url': 'https://outdoors.stackexchange.com/questions/18814'},\n",
       " {'id': '18815',\n",
       "  'parent_id': 18814,\n",
       "  'creation_date': 1521697866173,\n",
       "  'score': 0.45454547,\n",
       "  'view_count': 0,\n",
       "  'body': 'First you take the bight and bring the end down. Then you take the end and cross it over. Then bring it back around underneath the main strand. Finally take the end through the top loop. and there you have it. Before using you would want to dress it and tighten it down. If you want to see a video of the process for tying this knot, see the one here .',\n",
       "  'owner_user_id': '8794',\n",
       "  'title': '',\n",
       "  'tags': [],\n",
       "  'post_type': 'answer',\n",
       "  'url': 'https://outdoors.stackexchange.com/questions/18815'}]"
      ]
     },
     "execution_count": 5,
     "metadata": {},
     "output_type": "execute_result"
    }
   ],
   "source": [
    "get_posts_for_question(\"climbing knots\")"
   ]
  },
  {
   "cell_type": "markdown",
   "metadata": {},
   "source": [
    "## Listing 13.3\n",
    "\n",
    "### Querying our collection with a noun phrase"
   ]
  },
  {
   "cell_type": "code",
   "execution_count": 18,
   "metadata": {},
   "outputs": [],
   "source": [
    "def display_questions(query, response, verbose=False):\n",
    "    print(f\"Query {query}:\\n\")\n",
    "    if verbose:\n",
    "        highlights = [response[\"highlighting\"][k] for k in response[\"highlighting\"].keys()]\n",
    "    print(\"Ranked Questions:\")\n",
    "    for i, q in enumerate(response[\"docs\"]):\n",
    "        if verbose:\n",
    "            print(json.dumps(q, indent=\"  \"))\n",
    "        if \"title\" in q.keys():\n",
    "            id = f'<a href=\"{q[\"url\"]}\">{q[\"id\"]}</a>'\n",
    "            display(HTML(f'<strong>Question {id}: </strong>{q[\"title\"]}'))\n",
    "        if verbose:\n",
    "            display(HTML(\"<strong>Body:</strong>\" + html.unescape(str(highlights[i][\"body\"][0]))))\n",
    "            display(HTML(\"<hr>\"))\n",
    "\n",
    "def search_questions(query, verbose=False):\n",
    "    request = {\"query\": query,\n",
    "               \"query_fields\": [\"title\", \"body\"],\n",
    "               \"limit\": 5,\n",
    "               \"return_fields\": [\"id\", \"url\", \"post_type\", \"title\",\n",
    "                                 \"body\", \"accepted_answer_id\", \"score\"],\n",
    "               \"filters\": [(\"post_type\", \"question\")],\n",
    "               \"order_by\": [(\"score\", \"desc\"), (\"title\", \"asc\")]}\n",
    "    response = outdoors_collection.search(**request)\n",
    "    display_questions(query, response, verbose)"
   ]
  },
  {
   "cell_type": "code",
   "execution_count": 19,
   "metadata": {},
   "outputs": [
    {
     "name": "stdout",
     "output_type": "stream",
     "text": [
      "Query climbing knots:\n",
      "\n",
      "Ranked Questions:\n"
     ]
    },
    {
     "data": {
      "text/html": [
       "<strong>Question <a href=\"https://outdoors.stackexchange.com/questions/21855\">21855</a>: </strong>What are the four climbing knots used by Jim Bridwell?"
      ],
      "text/plain": [
       "<IPython.core.display.HTML object>"
      ]
     },
     "metadata": {},
     "output_type": "display_data"
    },
    {
     "data": {
      "text/html": [
       "<strong>Question <a href=\"https://outdoors.stackexchange.com/questions/18814\">18814</a>: </strong>How to tie a figure eight on a bight?"
      ],
      "text/plain": [
       "<IPython.core.display.HTML object>"
      ]
     },
     "metadata": {},
     "output_type": "display_data"
    },
    {
     "data": {
      "text/html": [
       "<strong>Question <a href=\"https://outdoors.stackexchange.com/questions/9183\">9183</a>: </strong>Can rock climbers easily transition to canyoning?"
      ],
      "text/plain": [
       "<IPython.core.display.HTML object>"
      ]
     },
     "metadata": {},
     "output_type": "display_data"
    },
    {
     "data": {
      "text/html": [
       "<strong>Question <a href=\"https://outdoors.stackexchange.com/questions/20223\">20223</a>: </strong>How to tie a Purcell prusik?"
      ],
      "text/plain": [
       "<IPython.core.display.HTML object>"
      ]
     },
     "metadata": {},
     "output_type": "display_data"
    },
    {
     "data": {
      "text/html": [
       "<strong>Question <a href=\"https://outdoors.stackexchange.com/questions/22369\">22369</a>: </strong>\"Large\" eye of tie-in knot: dangerous?"
      ],
      "text/plain": [
       "<IPython.core.display.HTML object>"
      ]
     },
     "metadata": {},
     "output_type": "display_data"
    }
   ],
   "source": [
    "set_engine(\"opensearch\")\n",
    "outdoors_collection = get_engine().get_collection(\"outdoors\")\n",
    "search_questions(\"climbing knots\")"
   ]
  },
  {
   "cell_type": "code",
   "execution_count": 21,
   "metadata": {},
   "outputs": [
    {
     "name": "stdout",
     "output_type": "stream",
     "text": [
      "Query snow camping safety:\n",
      "\n",
      "Ranked Questions:\n"
     ]
    },
    {
     "data": {
      "text/html": [
       "<strong>Question <a href=\"https://outdoors.stackexchange.com/questions/1966\">1966</a>: </strong>Best approach to camping in snow?"
      ],
      "text/plain": [
       "<IPython.core.display.HTML object>"
      ]
     },
     "metadata": {},
     "output_type": "display_data"
    },
    {
     "data": {
      "text/html": [
       "<strong>Question <a href=\"https://outdoors.stackexchange.com/questions/20725\">20725</a>: </strong>How do people carry camping propane in a car when traveling?"
      ],
      "text/plain": [
       "<IPython.core.display.HTML object>"
      ]
     },
     "metadata": {},
     "output_type": "display_data"
    },
    {
     "data": {
      "text/html": [
       "<strong>Question <a href=\"https://outdoors.stackexchange.com/questions/18942\">18942</a>: </strong>Resources for camping in Georgia (country)"
      ],
      "text/plain": [
       "<IPython.core.display.HTML object>"
      ]
     },
     "metadata": {},
     "output_type": "display_data"
    },
    {
     "data": {
      "text/html": [
       "<strong>Question <a href=\"https://outdoors.stackexchange.com/questions/13209\">13209</a>: </strong>Any tips to prevent theft while tent camping alone in a caravan park?"
      ],
      "text/plain": [
       "<IPython.core.display.HTML object>"
      ]
     },
     "metadata": {},
     "output_type": "display_data"
    },
    {
     "data": {
      "text/html": [
       "<strong>Question <a href=\"https://outdoors.stackexchange.com/questions/8700\">8700</a>: </strong>What are some simple tasks to teach knife safety?"
      ],
      "text/plain": [
       "<IPython.core.display.HTML object>"
      ]
     },
     "metadata": {},
     "output_type": "display_data"
    }
   ],
   "source": [
    "outdoors_collection = get_engine().get_collection(\"outdoors\")\n",
    "search_questions(\"snow camping safety\")"
   ]
  },
  {
   "cell_type": "markdown",
   "metadata": {},
   "source": [
    "## Listing 13.4\n",
    "\n",
    "### Querying our collection with a question"
   ]
  },
  {
   "cell_type": "code",
   "execution_count": 22,
   "metadata": {},
   "outputs": [
    {
     "name": "stdout",
     "output_type": "stream",
     "text": [
      "Query What is DEET?:\n",
      "\n",
      "Ranked Questions:\n"
     ]
    },
    {
     "data": {
      "text/html": [
       "<strong>Question <a href=\"https://outdoors.stackexchange.com/questions/20403\">20403</a>: </strong>What is bushcrafting?"
      ],
      "text/plain": [
       "<IPython.core.display.HTML object>"
      ]
     },
     "metadata": {},
     "output_type": "display_data"
    },
    {
     "data": {
      "text/html": [
       "<strong>Question <a href=\"https://outdoors.stackexchange.com/questions/20977\">20977</a>: </strong>What is \"catskiing\"?"
      ],
      "text/plain": [
       "<IPython.core.display.HTML object>"
      ]
     },
     "metadata": {},
     "output_type": "display_data"
    },
    {
     "data": {
      "text/html": [
       "<strong>Question <a href=\"https://outdoors.stackexchange.com/questions/1660\">1660</a>: </strong>What is Geocaching?"
      ],
      "text/plain": [
       "<IPython.core.display.HTML object>"
      ]
     },
     "metadata": {},
     "output_type": "display_data"
    },
    {
     "data": {
      "text/html": [
       "<strong>Question <a href=\"https://outdoors.stackexchange.com/questions/17374\">17374</a>: </strong>What is a tent skirt and what is its purpose?"
      ],
      "text/plain": [
       "<IPython.core.display.HTML object>"
      ]
     },
     "metadata": {},
     "output_type": "display_data"
    },
    {
     "data": {
      "text/html": [
       "<strong>Question <a href=\"https://outdoors.stackexchange.com/questions/913\">913</a>: </strong>What is a buff?"
      ],
      "text/plain": [
       "<IPython.core.display.HTML object>"
      ]
     },
     "metadata": {},
     "output_type": "display_data"
    }
   ],
   "source": [
    "search_questions(\"What is DEET?\")"
   ]
  },
  {
   "cell_type": "markdown",
   "metadata": {},
   "source": [
    "Up next: [Introduction to Transformers](2.introduction-to-transformers.ipynb)"
   ]
  }
 ],
 "metadata": {
  "kernelspec": {
   "display_name": "Python 3 (ipykernel)",
   "language": "python",
   "name": "python3"
  }
 },
 "nbformat": 4,
 "nbformat_minor": 4
}
