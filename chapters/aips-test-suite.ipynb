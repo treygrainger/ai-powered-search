{
 "cells": [
  {
   "cell_type": "markdown",
   "metadata": {},
   "source": [
    "# Notebook Testing Harness\n",
    "\n",
    "This notebook executes all Jupyter notebooks in the project recursively and reports their completion status.\n",
    "\n",
    "It serves as a testing harness to verify that all notebooks run successfully without errors."
   ]
  },
  {
   "cell_type": "code",
   "execution_count": 1,
   "metadata": {},
   "outputs": [],
   "source": [
    "from aips.spark import get_spark_session\n",
    "\n",
    "import os\n",
    "import glob\n",
    "import nbformat\n",
    "from nbconvert.preprocessors import ExecutePreprocessor\n",
    "from datetime import datetime\n",
    "import sys\n",
    "import traceback\n",
    "from pathlib import Path\n",
    "import json\n",
    "from tqdm.notebook import tqdm\n",
    "\n",
    "spark = get_spark_session()"
   ]
  },
  {
   "cell_type": "markdown",
   "metadata": {},
   "source": [
    "## Configuration"
   ]
  },
  {
   "cell_type": "code",
   "execution_count": 2,
   "metadata": {},
   "outputs": [],
   "source": [
    "KERNEL_NAME = \"python3\"\n",
    "KERNEL_OVERRIDES = {\"1.open-information-extraction.ipynb\": \"ch5-spacy\"}\n",
    "EXCLUDE_DIRS = [\".ipynb_checkpoints\", \"__pycache__\"]\n",
    "EXPORT_RESULTS = False\n",
    "EXCLUDED_NOTEBOOKS = [\"bonus.related-terms-from-documents.ipynb\"\n",
    "                      \"bonus.phrase-detection.ipynb\",\n",
    "                      \"bonus.phrase-detection.ipynb\",\n",
    "                      \"bonus.related-terms-from-documents.ipynb\",\n",
    "                      \"a.defunct.synthesize-search-sessions.ipynb\",\n",
    "                      \"a.synthesize-search-sessions.ipynb\",\n",
    "                      \"a.generate-movie-embeddings.ipynb\",\n",
    "                      \"welcome.ipynb\",\n",
    "                      \"aips-test-suite.ipynb\",\n",
    "                      \"4.train-upload-search-ltr.ipynb\",\n",
    "                      \"ch13-tokenizer-analysis.ipynb\"]"
   ]
  },
  {
   "cell_type": "markdown",
   "metadata": {},
   "source": [
    "## Utility Functions"
   ]
  },
  {
   "cell_type": "code",
   "execution_count": 3,
   "metadata": {},
   "outputs": [],
   "source": [
    "def format_time(seconds):\n",
    "    if seconds < 60:\n",
    "        formatted = f\"{seconds:.2f}s\"\n",
    "    elif seconds < 3600:\n",
    "        formatted =  f\"{seconds / 60:.2f}m\"\n",
    "    else:\n",
    "        formatted =  f\"{seconds / 3600:.2f}h\"\n",
    "    return formatted\n",
    "\n",
    "def export_results(results, filename=\"test_results.json\"):\n",
    "    if results:\n",
    "        with open(filename, 'w') as f:\n",
    "            json.dump({\"timestamp\": datetime.now().isoformat(),\n",
    "                       \"results\": results[\"details\"],\n",
    "                       \"summary\": results[\"summary\"]}, f, indent=2)\n",
    "        print(f\"📄 Results exported to {filename}\")"
   ]
  },
  {
   "cell_type": "code",
   "execution_count": 4,
   "metadata": {},
   "outputs": [],
   "source": [
    "def get_notebook_files(root_dir=\".\", exclude_dirs=None, excluded_notebooks=None):\n",
    "    \"\"\"\n",
    "    Recursively get all .ipynb files in the specified directory and its subdirectories,\n",
    "    excluding specific directories and notebooks.\n",
    "    \n",
    "    Args:\n",
    "        root_dir (str): Root directory to search from\n",
    "        exclude_dirs (list): List of directory names to exclude\n",
    "        exclude_notebooks (list): List of notebook filenames to exclude\n",
    "        \n",
    "    Returns:\n",
    "        list: Sorted list of notebook file paths\n",
    "    \"\"\"\n",
    "    if exclude_dirs is None:\n",
    "        exclude_dirs = EXCLUDE_DIRS\n",
    "    \n",
    "    if excluded_notebooks is None:\n",
    "        excluded_notebooks = EXCLUDED_NOTEBOOKS\n",
    "        \n",
    "    notebook_files = []\n",
    "    \n",
    "    for directory in os.walk(root_dir):\n",
    "        for path in Path(directory[0]).rglob(\"*.ipynb\"):\n",
    "            if any(exclude_dir in str(path) for exclude_dir in exclude_dirs) or \\\n",
    "                path.name in excluded_notebooks:\n",
    "                continue\n",
    "            if str(path) not in notebook_files:\n",
    "                notebook_files.append(str(path))\n",
    "    \n",
    "    notebook_files = sorted(notebook_files)\n",
    "    return list(map(Path, notebook_files))"
   ]
  },
  {
   "cell_type": "code",
   "execution_count": 5,
   "metadata": {},
   "outputs": [],
   "source": [
    "def execute_notebook(notebook_path, timeout=600, kernel_name=\"python3\"):\n",
    "    start_time = datetime.now()\n",
    "    \n",
    "    try:\n",
    "        with open(notebook_path, 'r', encoding='utf-8') as f:\n",
    "            nb = nbformat.read(f, as_version=4)\n",
    "            ep = ExecutePreprocessor(timeout=timeout, kernel_name=kernel_name)\n",
    "            ep.preprocess(nb, {'metadata': {'path': os.path.dirname(notebook_path)}})\n",
    "        execution_time = (datetime.now() - start_time).total_seconds()\n",
    "        return True, execution_time, None\n",
    "    \n",
    "    except Exception as e:\n",
    "        execution_time = (datetime.now() - start_time).total_seconds()\n",
    "        error_type = type(e).__name__\n",
    "        error_msg = str(e)\n",
    "        # Get traceback for detailed error information\n",
    "        tb = traceback.format_exc()\n",
    "        \n",
    "        return False, execution_time, {\n",
    "            'type': error_type,\n",
    "            'message': error_msg,\n",
    "            'traceback': tb\n",
    "        }"
   ]
  },
  {
   "cell_type": "markdown",
   "metadata": {},
   "source": [
    "## Main Testing Function"
   ]
  },
  {
   "cell_type": "code",
   "execution_count": 6,
   "metadata": {},
   "outputs": [],
   "source": [
    "def run_test_harness(exclude_dirs=None, exclude_notebooks=None, stop_on_failure=True,\n",
    "                     chapter_to_run=None, verbose_errors=True):\n",
    "    \"\"\"\n",
    "    Run the testing harness on all notebooks recursively.\n",
    "    \n",
    "    Args:\n",
    "        root_dir (str): Root directory to search from\n",
    "        timeout (int): Execution timeout in seconds\n",
    "        kernel_name (str): Name of the kernel to use\n",
    "        exclude_dirs (list): List of directory names to exclude\n",
    "        exclude_notebooks (list): List of notebook filenames to exclude\n",
    "        \n",
    "    Returns:\n",
    "        dict: Test results\n",
    "    \"\"\"\n",
    "    root_dir = \".\"\n",
    "    timeout = 600 \n",
    "    print(f\"🔍 Notebook Testing Harness - {datetime.now().strftime('%Y-%m-%d %H:%M:%S')}\")\n",
    "    print(f\"📁 Testing from root directory: {os.path.abspath(root_dir)}\")\n",
    "    print(\"=\" * 80)\n",
    "\n",
    "    notebook_files = get_notebook_files(root_dir, exclude_dirs, exclude_notebooks)\n",
    "\n",
    "    if chapter_to_run:\n",
    "        notebook_files = [f for f in notebook_files if (chapter_to_run in str(f))]\n",
    "\n",
    "    print(f\"📋 Found {len(notebook_files)} notebook(s) to test.\")\n",
    "    for nb_file in notebook_files:\n",
    "        # Make paths relative to root_dir for cleaner display\n",
    "        rel_path = os.path.relpath(str(nb_file), root_dir)\n",
    "        print(f\"   • {rel_path}\")\n",
    "    print()\n",
    "    \n",
    "    # Results tracking\n",
    "    results = {\n",
    "        'details': [],\n",
    "        'summary': {\n",
    "            'total': len(notebook_files),\n",
    "            'successful': 0,\n",
    "            'failed': 0,\n",
    "            'total_time': 0\n",
    "        }\n",
    "    }\n",
    "    \n",
    "    # Execute each notebook with progress bar\n",
    "    print(\"🚀 Executing notebooks:\")\n",
    "    for notebook_path in tqdm(notebook_files, desc=\"Progress\", colour=\"purple\"):\n",
    "        rel_path = os.path.relpath(str(notebook_path), root_dir)\n",
    "        print(f\"\\n📔 Testing: {rel_path}\")\n",
    "        if \"checkpoint\" in str(notebook_path):\n",
    "            print(f\"\\n📔 Skipping: {rel_path}\")\n",
    "            continue\n",
    "        kernel_name = KERNEL_OVERRIDES.get(notebook_path.name, \"python3\")\n",
    "        success, execution_time, error = execute_notebook(str(notebook_path), timeout, kernel_name)\n",
    "        \n",
    "        results['summary']['total_time'] += execution_time\n",
    "        \n",
    "        if success:\n",
    "            print(f\"   ✅ SUCCESS - Completed in {format_time(execution_time)}\")\n",
    "            results['summary']['successful'] += 1\n",
    "        else:\n",
    "            print(f\"   ❌ FAILED - Error after {format_time(execution_time)}\")\n",
    "            print(f\"      Error: {error['type']}\")\n",
    "            results['summary']['failed'] += 1\n",
    "        \n",
    "        results['details'].append({\n",
    "            'notebook': rel_path,\n",
    "            'success': success,\n",
    "            'execution_time': execution_time,\n",
    "            'error': error\n",
    "        })\n",
    "        if not success and stop_on_failure:\n",
    "            print(\"Terminating test run due to test failure.\")\n",
    "            break\n",
    "    \n",
    "    # Print summary\n",
    "    print(\"\\n\" + \"=\" * 80)\n",
    "    print(f\"📊 SUMMARY:\")\n",
    "    print(f\"   Total notebooks tested: {results['summary']['total']}\")\n",
    "    print(f\"   ✅ Successful: {results['summary']['successful']}\")\n",
    "    if results['summary']['failed'] > 0:\n",
    "        print(f\"   ❌ Failed: {results['summary']['failed']}\")\n",
    "    \n",
    "    success_rate = (results['summary']['successful'] / results['summary']['total']) * 100\n",
    "    print(f\"   Success rate: {success_rate:.1f}%\")\n",
    "    print(f\"   Total execution time: {format_time(results['summary']['total_time'])}\")\n",
    "\n",
    "    if results['summary']['failed'] > 0:\n",
    "        print(f\"\\n❌ FAILED NOTEBOOKS:\")\n",
    "        for result in results['details']:\n",
    "            if not result['success']:\n",
    "                if verbose_errors:\n",
    "                    print(f\"   • {result['notebook']}: {result['error']['type']}: {result['error']['message']}\")\n",
    "                else:\n",
    "                    print(f\"   • {result['notebook']}: {result['error']['type']}\")\n",
    "    \n",
    "    print(f\"\\n🏁 Testing completed at {datetime.now().strftime('%Y-%m-%d %H:%M:%S')}\")\n",
    "    \n",
    "    if EXPORT_RESULTS and results:\n",
    "        export_results(results, \"AIPS_test_resulsts.json\")\n",
    "    \n",
    "    return results"
   ]
  },
  {
   "cell_type": "code",
   "execution_count": 7,
   "metadata": {},
   "outputs": [
    {
     "name": "stdout",
     "output_type": "stream",
     "text": [
      "🔍 Notebook Testing Harness - 2025-07-30 17:30:47\n",
      "📁 Testing from root directory: /home/jovyan\n",
      "================================================================================\n",
      "📋 Found 2 notebook(s) to test.\n",
      "   • chapters/ch03/1.vectors-and-text-similarity.ipynb\n",
      "   • chapters/ch03/2.controlling-relevance.ipynb\n",
      "\n",
      "🚀 Executing notebooks:\n"
     ]
    },
    {
     "data": {
      "application/vnd.jupyter.widget-view+json": {
       "model_id": "a02512c75a4c4387a209c24261d9f1e5",
       "version_major": 2,
       "version_minor": 0
      },
      "text/plain": [
       "Progress:   0%|          | 0/2 [00:00<?, ?it/s]"
      ]
     },
     "metadata": {},
     "output_type": "display_data"
    },
    {
     "name": "stdout",
     "output_type": "stream",
     "text": [
      "\n",
      "📔 Testing: chapters/ch03/1.vectors-and-text-similarity.ipynb\n",
      "   ✅ SUCCESS - Completed in 1.47s\n",
      "\n",
      "📔 Testing: chapters/ch03/2.controlling-relevance.ipynb\n",
      "   ✅ SUCCESS - Completed in 8.37s\n",
      "\n",
      "================================================================================\n",
      "📊 SUMMARY:\n",
      "   Total notebooks tested: 2\n",
      "   ✅ Successful: 2\n",
      "   Success rate: 100.0%\n",
      "   Total execution time: 9.84s\n",
      "\n",
      "🏁 Testing completed at 2025-07-30 17:30:57\n"
     ]
    }
   ],
   "source": [
    "results = run_test_harness(chapter_to_run=\"ch03\")"
   ]
  },
  {
   "cell_type": "code",
   "execution_count": 8,
   "metadata": {},
   "outputs": [
    {
     "name": "stdout",
     "output_type": "stream",
     "text": [
      "🔍 Notebook Testing Harness - 2025-07-30 17:30:57\n",
      "📁 Testing from root directory: /home/jovyan\n",
      "================================================================================\n",
      "📋 Found 2 notebook(s) to test.\n",
      "   • chapters/ch04/1.setting-up-the-retrotech-dataset.ipynb\n",
      "   • chapters/ch04/2.signals-boosting.ipynb\n",
      "\n",
      "🚀 Executing notebooks:\n"
     ]
    },
    {
     "data": {
      "application/vnd.jupyter.widget-view+json": {
       "model_id": "a82088561ed049d896b30e901d4472ae",
       "version_major": 2,
       "version_minor": 0
      },
      "text/plain": [
       "Progress:   0%|          | 0/2 [00:00<?, ?it/s]"
      ]
     },
     "metadata": {},
     "output_type": "display_data"
    },
    {
     "name": "stdout",
     "output_type": "stream",
     "text": [
      "\n",
      "📔 Testing: chapters/ch04/1.setting-up-the-retrotech-dataset.ipynb\n",
      "   ✅ SUCCESS - Completed in 55.93s\n",
      "\n",
      "📔 Testing: chapters/ch04/2.signals-boosting.ipynb\n",
      "   ✅ SUCCESS - Completed in 25.24s\n",
      "\n",
      "================================================================================\n",
      "📊 SUMMARY:\n",
      "   Total notebooks tested: 2\n",
      "   ✅ Successful: 2\n",
      "   Success rate: 100.0%\n",
      "   Total execution time: 1.35m\n",
      "\n",
      "🏁 Testing completed at 2025-07-30 17:32:18\n"
     ]
    }
   ],
   "source": [
    "results = run_test_harness(chapter_to_run=\"ch04\")"
   ]
  },
  {
   "cell_type": "code",
   "execution_count": 9,
   "metadata": {},
   "outputs": [
    {
     "name": "stdout",
     "output_type": "stream",
     "text": [
      "🔍 Notebook Testing Harness - 2025-07-29 14:19:01\n",
      "📁 Testing from root directory: /home/jovyan\n",
      "================================================================================\n",
      "📋 Found 3 notebook(s) to test.\n",
      "   • chapters/ch05/1.open-information-extraction.ipynb\n",
      "   • chapters/ch05/2.index-datasets.ipynb\n",
      "   • chapters/ch05/3.semantic-knowledge-graph.ipynb\n",
      "\n",
      "🚀 Executing notebooks:\n"
     ]
    },
    {
     "data": {
      "application/vnd.jupyter.widget-view+json": {
       "model_id": "c8fcf6d293974665b64dc4222e279056",
       "version_major": 2,
       "version_minor": 0
      },
      "text/plain": [
       "Progress:   0%|          | 0/3 [00:00<?, ?it/s]"
      ]
     },
     "metadata": {},
     "output_type": "display_data"
    },
    {
     "name": "stdout",
     "output_type": "stream",
     "text": [
      "\n",
      "📔 Testing: chapters/ch05/1.open-information-extraction.ipynb\n",
      "   ✅ SUCCESS - Completed in 6.64s\n",
      "\n",
      "📔 Testing: chapters/ch05/2.index-datasets.ipynb\n",
      "   ✅ SUCCESS - Completed in 1.58m\n",
      "\n",
      "📔 Testing: chapters/ch05/3.semantic-knowledge-graph.ipynb\n",
      "   ✅ SUCCESS - Completed in 9.46s\n",
      "\n",
      "================================================================================\n",
      "📊 SUMMARY:\n",
      "   Total notebooks tested: 3\n",
      "   ✅ Successful: 3\n",
      "   Success rate: 100.0%\n",
      "   Total execution time: 1.85m\n",
      "\n",
      "🏁 Testing completed at 2025-07-29 14:20:52\n"
     ]
    }
   ],
   "source": [
    "results = run_test_harness(chapter_to_run=\"ch05\")"
   ]
  },
  {
   "cell_type": "code",
   "execution_count": 10,
   "metadata": {},
   "outputs": [
    {
     "name": "stdout",
     "output_type": "stream",
     "text": [
      "🔍 Notebook Testing Harness - 2025-07-29 14:20:52\n",
      "📁 Testing from root directory: /home/jovyan\n",
      "================================================================================\n",
      "📋 Found 3 notebook(s) to test.\n",
      "   • chapters/ch06/1.skg-classification-disambiguation.ipynb\n",
      "   • chapters/ch06/2.related-keywords-from-signals.ipynb\n",
      "   • chapters/ch06/3.spell-correction.ipynb\n",
      "\n",
      "🚀 Executing notebooks:\n"
     ]
    },
    {
     "data": {
      "application/vnd.jupyter.widget-view+json": {
       "model_id": "ece7eee2ecec49758c05643bba34cfbf",
       "version_major": 2,
       "version_minor": 0
      },
      "text/plain": [
       "Progress:   0%|          | 0/3 [00:00<?, ?it/s]"
      ]
     },
     "metadata": {},
     "output_type": "display_data"
    },
    {
     "name": "stdout",
     "output_type": "stream",
     "text": [
      "\n",
      "📔 Testing: chapters/ch06/1.skg-classification-disambiguation.ipynb\n",
      "   ✅ SUCCESS - Completed in 8.11s\n",
      "\n",
      "📔 Testing: chapters/ch06/2.related-keywords-from-signals.ipynb\n",
      "   ✅ SUCCESS - Completed in 45.08s\n",
      "\n",
      "📔 Testing: chapters/ch06/3.spell-correction.ipynb\n",
      "   ✅ SUCCESS - Completed in 2.56m\n",
      "\n",
      "================================================================================\n",
      "📊 SUMMARY:\n",
      "   Total notebooks tested: 3\n",
      "   ✅ Successful: 3\n",
      "   Success rate: 100.0%\n",
      "   Total execution time: 3.44m\n",
      "\n",
      "🏁 Testing completed at 2025-07-29 14:24:18\n"
     ]
    }
   ],
   "source": [
    "results = run_test_harness(chapter_to_run=\"ch06-\")"
   ]
  },
  {
   "cell_type": "code",
   "execution_count": 11,
   "metadata": {},
   "outputs": [
    {
     "name": "stdout",
     "output_type": "stream",
     "text": [
      "🔍 Notebook Testing Harness - 2025-07-29 14:24:19\n",
      "📁 Testing from root directory: /home/jovyan\n",
      "================================================================================\n",
      "📋 Found 2 notebook(s) to test.\n",
      "   • chapters/ch07/1.index-datasets.ipynb\n",
      "   • chapters/ch07/2.semantic-search.ipynb\n",
      "\n",
      "🚀 Executing notebooks:\n"
     ]
    },
    {
     "data": {
      "application/vnd.jupyter.widget-view+json": {
       "model_id": "aa3d811d63914f8bb547900daabb49a7",
       "version_major": 2,
       "version_minor": 0
      },
      "text/plain": [
       "Progress:   0%|          | 0/2 [00:00<?, ?it/s]"
      ]
     },
     "metadata": {},
     "output_type": "display_data"
    },
    {
     "name": "stdout",
     "output_type": "stream",
     "text": [
      "\n",
      "📔 Testing: chapters/ch07/1.index-datasets.ipynb\n",
      "   ✅ SUCCESS - Completed in 1.79m\n",
      "\n",
      "📔 Testing: chapters/ch07/2.semantic-search.ipynb\n",
      "   ✅ SUCCESS - Completed in 21.89s\n",
      "\n",
      "================================================================================\n",
      "📊 SUMMARY:\n",
      "   Total notebooks tested: 2\n",
      "   ✅ Successful: 2\n",
      "   Success rate: 100.0%\n",
      "   Total execution time: 2.15m\n",
      "\n",
      "🏁 Testing completed at 2025-07-29 14:26:28\n"
     ]
    }
   ],
   "source": [
    "results = run_test_harness(chapter_to_run=\"ch07\")"
   ]
  },
  {
   "cell_type": "code",
   "execution_count": 12,
   "metadata": {},
   "outputs": [
    {
     "name": "stdout",
     "output_type": "stream",
     "text": [
      "🔍 Notebook Testing Harness - 2025-07-29 14:26:28\n",
      "📁 Testing from root directory: /home/jovyan\n",
      "================================================================================\n",
      "📋 Found 1 notebook(s) to test.\n",
      "   • chapters/ch08/1.signals-boosting.ipynb\n",
      "\n",
      "🚀 Executing notebooks:\n"
     ]
    },
    {
     "data": {
      "application/vnd.jupyter.widget-view+json": {
       "model_id": "b267ba979d954124976ae891254520c8",
       "version_major": 2,
       "version_minor": 0
      },
      "text/plain": [
       "Progress:   0%|          | 0/1 [00:00<?, ?it/s]"
      ]
     },
     "metadata": {},
     "output_type": "display_data"
    },
    {
     "name": "stdout",
     "output_type": "stream",
     "text": [
      "\n",
      "📔 Testing: chapters/ch08/1.signals-boosting.ipynb\n",
      "   ✅ SUCCESS - Completed in 2.33m\n",
      "\n",
      "================================================================================\n",
      "📊 SUMMARY:\n",
      "   Total notebooks tested: 1\n",
      "   ✅ Successful: 1\n",
      "   Success rate: 100.0%\n",
      "   Total execution time: 2.33m\n",
      "\n",
      "🏁 Testing completed at 2025-07-29 14:28:47\n"
     ]
    }
   ],
   "source": [
    "results = run_test_harness(chapter_to_run=\"ch08\")"
   ]
  },
  {
   "cell_type": "code",
   "execution_count": 13,
   "metadata": {},
   "outputs": [
    {
     "name": "stdout",
     "output_type": "stream",
     "text": [
      "🔍 Notebook Testing Harness - 2025-07-29 14:28:47\n",
      "📁 Testing from root directory: /home/jovyan\n",
      "================================================================================\n",
      "📋 Found 2 notebook(s) to test.\n",
      "   • chapters/ch09/1.personalization.ipynb\n",
      "   • chapters/ch09/2.embedding-based-personalization.ipynb\n",
      "\n",
      "🚀 Executing notebooks:\n"
     ]
    },
    {
     "data": {
      "application/vnd.jupyter.widget-view+json": {
       "model_id": "9f9f685f680d42a4b12da5efc91f6e0b",
       "version_major": 2,
       "version_minor": 0
      },
      "text/plain": [
       "Progress:   0%|          | 0/2 [00:00<?, ?it/s]"
      ]
     },
     "metadata": {},
     "output_type": "display_data"
    },
    {
     "name": "stdout",
     "output_type": "stream",
     "text": [
      "\n",
      "📔 Testing: chapters/ch09/1.personalization.ipynb\n",
      "   ✅ SUCCESS - Completed in 5.30m\n",
      "\n",
      "📔 Testing: chapters/ch09/2.embedding-based-personalization.ipynb\n",
      "   ✅ SUCCESS - Completed in 50.70m\n",
      "\n",
      "================================================================================\n",
      "📊 SUMMARY:\n",
      "   Total notebooks tested: 2\n",
      "   ✅ Successful: 2\n",
      "   Success rate: 100.0%\n",
      "   Total execution time: 56.00m\n",
      "\n",
      "🏁 Testing completed at 2025-07-29 15:24:47\n"
     ]
    }
   ],
   "source": [
    "results = run_test_harness(chapter_to_run=\"ch09\")"
   ]
  },
  {
   "cell_type": "code",
   "execution_count": 14,
   "metadata": {},
   "outputs": [
    {
     "name": "stdout",
     "output_type": "stream",
     "text": [
      "🔍 Notebook Testing Harness - 2025-07-29 15:24:47\n",
      "📁 Testing from root directory: /home/jovyan\n",
      "================================================================================\n",
      "📋 Found 4 notebook(s) to test.\n",
      "   • chapters/ch10/1.setup-the-movie-db.ipynb\n",
      "   • chapters/ch10/2.judgments-and-logging.ipynb\n",
      "   • chapters/ch10/3.pairwise-transform.ipynb\n",
      "   • chapters/ch10/4.train-and-evaluate-the-model.ipynb\n",
      "\n",
      "🚀 Executing notebooks:\n"
     ]
    },
    {
     "data": {
      "application/vnd.jupyter.widget-view+json": {
       "model_id": "4a931039ee35448492806d38b076e324",
       "version_major": 2,
       "version_minor": 0
      },
      "text/plain": [
       "Progress:   0%|          | 0/4 [00:00<?, ?it/s]"
      ]
     },
     "metadata": {},
     "output_type": "display_data"
    },
    {
     "name": "stdout",
     "output_type": "stream",
     "text": [
      "\n",
      "📔 Testing: chapters/ch10/1.setup-the-movie-db.ipynb\n",
      "   ✅ SUCCESS - Completed in 27.32s\n",
      "\n",
      "📔 Testing: chapters/ch10/2.judgments-and-logging.ipynb\n",
      "   ✅ SUCCESS - Completed in 6.02s\n",
      "\n",
      "📔 Testing: chapters/ch10/3.pairwise-transform.ipynb\n",
      "   ✅ SUCCESS - Completed in 4.24s\n",
      "\n",
      "📔 Testing: chapters/ch10/4.train-and-evaluate-the-model.ipynb\n",
      "   ✅ SUCCESS - Completed in 3.93s\n",
      "\n",
      "================================================================================\n",
      "📊 SUMMARY:\n",
      "   Total notebooks tested: 4\n",
      "   ✅ Successful: 4\n",
      "   Success rate: 100.0%\n",
      "   Total execution time: 41.51s\n",
      "\n",
      "🏁 Testing completed at 2025-07-29 15:25:29\n"
     ]
    }
   ],
   "source": [
    "results = run_test_harness(chapter_to_run=\"ch10\")"
   ]
  },
  {
   "cell_type": "code",
   "execution_count": 15,
   "metadata": {},
   "outputs": [
    {
     "name": "stdout",
     "output_type": "stream",
     "text": [
      "🔍 Notebook Testing Harness - 2025-07-29 15:25:29\n",
      "📁 Testing from root directory: /home/jovyan\n",
      "================================================================================\n",
      "📋 Found 3 notebook(s) to test.\n",
      "   • chapters/ch11/1.click-through-rate-judgments.ipynb\n",
      "   • chapters/ch11/2.sdbn-judgments-to-overcome-position-bias.ipynb\n",
      "   • chapters/ch11/3.SDBN-Confidence-Bias.ipynb\n",
      "\n",
      "🚀 Executing notebooks:\n"
     ]
    },
    {
     "data": {
      "application/vnd.jupyter.widget-view+json": {
       "model_id": "38d4fd27d1f846339cc011845b6cdbb8",
       "version_major": 2,
       "version_minor": 0
      },
      "text/plain": [
       "Progress:   0%|          | 0/3 [00:00<?, ?it/s]"
      ]
     },
     "metadata": {},
     "output_type": "display_data"
    },
    {
     "name": "stdout",
     "output_type": "stream",
     "text": [
      "\n",
      "📔 Testing: chapters/ch11/1.click-through-rate-judgments.ipynb\n",
      "   ✅ SUCCESS - Completed in 12.02s\n",
      "\n",
      "📔 Testing: chapters/ch11/2.sdbn-judgments-to-overcome-position-bias.ipynb\n",
      "   ✅ SUCCESS - Completed in 5.28s\n",
      "\n",
      "📔 Testing: chapters/ch11/3.SDBN-Confidence-Bias.ipynb\n",
      "   ✅ SUCCESS - Completed in 6.48s\n",
      "\n",
      "================================================================================\n",
      "📊 SUMMARY:\n",
      "   Total notebooks tested: 3\n",
      "   ✅ Successful: 3\n",
      "   Success rate: 100.0%\n",
      "   Total execution time: 23.78s\n",
      "\n",
      "🏁 Testing completed at 2025-07-29 15:25:53\n"
     ]
    }
   ],
   "source": [
    "results = run_test_harness(chapter_to_run=\"ch11\")"
   ]
  },
  {
   "cell_type": "code",
   "execution_count": 14,
   "metadata": {},
   "outputs": [
    {
     "name": "stdout",
     "output_type": "stream",
     "text": [
      "🔍 Notebook Testing Harness - 2025-07-29 16:47:28\n",
      "📁 Testing from root directory: /home/jovyan\n",
      "================================================================================\n",
      "📋 Found 2 notebook(s) to test.\n",
      "   • chapters/ch12/0.setup.ipynb\n",
      "   • chapters/ch12/1.ab-testing-to-active-learning.ipynb\n",
      "\n",
      "🚀 Executing notebooks:\n"
     ]
    },
    {
     "data": {
      "application/vnd.jupyter.widget-view+json": {
       "model_id": "a11478baa4b645579b5a91186b7251a5",
       "version_major": 2,
       "version_minor": 0
      },
      "text/plain": [
       "Progress:   0%|          | 0/2 [00:00<?, ?it/s]"
      ]
     },
     "metadata": {},
     "output_type": "display_data"
    },
    {
     "name": "stdout",
     "output_type": "stream",
     "text": [
      "\n",
      "📔 Testing: chapters/ch12/0.setup.ipynb\n",
      "   ✅ SUCCESS - Completed in 41.17s\n",
      "\n",
      "📔 Testing: chapters/ch12/1.ab-testing-to-active-learning.ipynb\n",
      "   ✅ SUCCESS - Completed in 25.96m\n",
      "\n",
      "================================================================================\n",
      "📊 SUMMARY:\n",
      "   Total notebooks tested: 2\n",
      "   ✅ Successful: 2\n",
      "   Success rate: 100.0%\n",
      "   Total execution time: 26.65m\n",
      "\n",
      "🏁 Testing completed at 2025-07-29 17:14:07\n"
     ]
    }
   ],
   "source": [
    "results = run_test_harness(chapter_to_run=\"ch12\")"
   ]
  },
  {
   "cell_type": "code",
   "execution_count": 7,
   "metadata": {},
   "outputs": [
    {
     "name": "stdout",
     "output_type": "stream",
     "text": [
      "🔍 Notebook Testing Harness - 2025-07-29 17:28:07\n",
      "📁 Testing from root directory: /home/jovyan\n",
      "================================================================================\n",
      "📋 Found 5 notebook(s) to test.\n",
      "   • chapters/ch13/1.setting-up-the-outdoors-dataset.ipynb\n",
      "   • chapters/ch13/2.introduction-to-transformers.ipynb\n",
      "   • chapters/ch13/3.natural-language-autocomplete.ipynb\n",
      "   • chapters/ch13/4.semantic-search.ipynb\n",
      "   • chapters/ch13/5.quantization.ipynb\n",
      "\n",
      "🚀 Executing notebooks:\n"
     ]
    },
    {
     "data": {
      "application/vnd.jupyter.widget-view+json": {
       "model_id": "da81ad30301f45d4a6dffdcdd469d97c",
       "version_major": 2,
       "version_minor": 0
      },
      "text/plain": [
       "Progress:   0%|          | 0/5 [00:00<?, ?it/s]"
      ]
     },
     "metadata": {},
     "output_type": "display_data"
    },
    {
     "name": "stdout",
     "output_type": "stream",
     "text": [
      "\n",
      "📔 Testing: chapters/ch13/1.setting-up-the-outdoors-dataset.ipynb\n",
      "   ✅ SUCCESS - Completed in 1.79s\n",
      "\n",
      "📔 Testing: chapters/ch13/2.introduction-to-transformers.ipynb\n",
      "   ✅ SUCCESS - Completed in 6.60s\n",
      "\n",
      "📔 Testing: chapters/ch13/3.natural-language-autocomplete.ipynb\n",
      "   ✅ SUCCESS - Completed in 7.85m\n",
      "\n",
      "📔 Testing: chapters/ch13/4.semantic-search.ipynb\n",
      "   ✅ SUCCESS - Completed in 31.44s\n",
      "\n",
      "📔 Testing: chapters/ch13/5.quantization.ipynb\n",
      "   ✅ SUCCESS - Completed in 2.43m\n",
      "\n",
      "================================================================================\n",
      "📊 SUMMARY:\n",
      "   Total notebooks tested: 5\n",
      "   ✅ Successful: 5\n",
      "   Success rate: 100.0%\n",
      "   Total execution time: 10.94m\n",
      "\n",
      "🏁 Testing completed at 2025-07-29 17:39:03\n"
     ]
    }
   ],
   "source": [
    "results = run_test_harness(chapter_to_run=\"ch13\")"
   ]
  },
  {
   "cell_type": "code",
   "execution_count": 9,
   "metadata": {},
   "outputs": [
    {
     "name": "stdout",
     "output_type": "stream",
     "text": [
      "🔍 Notebook Testing Harness - 2025-07-30 17:32:18\n",
      "📁 Testing from root directory: /home/jovyan\n",
      "================================================================================\n",
      "📋 Found 4 notebook(s) to test.\n",
      "   • chapters/ch14/1.question-answering-visualizer.ipynb\n",
      "   • chapters/ch14/2.question-answering-data-preparation.ipynb\n",
      "   • chapters/ch14/3.question-answering-fine-tuning.ipynb\n",
      "   • chapters/ch14/4.question-answering-demo-application.ipynb\n",
      "\n",
      "🚀 Executing notebooks:\n"
     ]
    },
    {
     "data": {
      "application/vnd.jupyter.widget-view+json": {
       "model_id": "7e1ac8cdd1bb495d86ffd4e4f33f39fb",
       "version_major": 2,
       "version_minor": 0
      },
      "text/plain": [
       "Progress:   0%|          | 0/4 [00:00<?, ?it/s]"
      ]
     },
     "metadata": {},
     "output_type": "display_data"
    },
    {
     "name": "stdout",
     "output_type": "stream",
     "text": [
      "\n",
      "📔 Testing: chapters/ch14/1.question-answering-visualizer.ipynb\n",
      "   ✅ SUCCESS - Completed in 7.39s\n",
      "\n",
      "📔 Testing: chapters/ch14/2.question-answering-data-preparation.ipynb\n",
      "   ✅ SUCCESS - Completed in 4.36m\n",
      "\n",
      "📔 Testing: chapters/ch14/3.question-answering-fine-tuning.ipynb\n",
      "   ✅ SUCCESS - Completed in 4.41m\n",
      "\n",
      "📔 Testing: chapters/ch14/4.question-answering-demo-application.ipynb\n",
      "   ✅ SUCCESS - Completed in 10.94s\n",
      "\n",
      "================================================================================\n",
      "📊 SUMMARY:\n",
      "   Total notebooks tested: 4\n",
      "   ✅ Successful: 4\n",
      "   Success rate: 100.0%\n",
      "   Total execution time: 9.07m\n",
      "\n",
      "🏁 Testing completed at 2025-07-30 17:41:23\n"
     ]
    }
   ],
   "source": [
    "results = run_test_harness(chapter_to_run=\"ch14\")"
   ]
  },
  {
   "cell_type": "code",
   "execution_count": 15,
   "metadata": {},
   "outputs": [
    {
     "name": "stdout",
     "output_type": "stream",
     "text": [
      "🔍 Notebook Testing Harness - 2025-07-29 18:30:09\n",
      "📁 Testing from root directory: /home/jovyan\n",
      "================================================================================\n",
      "📋 Found 2 notebook(s) to test.\n",
      "   • chapters/ch15/1.llm-exploration.ipynb\n",
      "   • chapters/ch15/2.multimodal-and-hybrid-search.ipynb\n",
      "\n",
      "🚀 Executing notebooks:\n"
     ]
    },
    {
     "data": {
      "application/vnd.jupyter.widget-view+json": {
       "model_id": "87cdf01c7584482c8685a8547e05f765",
       "version_major": 2,
       "version_minor": 0
      },
      "text/plain": [
       "Progress:   0%|          | 0/2 [00:00<?, ?it/s]"
      ]
     },
     "metadata": {},
     "output_type": "display_data"
    },
    {
     "name": "stdout",
     "output_type": "stream",
     "text": [
      "\n",
      "📔 Testing: chapters/ch15/1.llm-exploration.ipynb\n",
      "   ✅ SUCCESS - Completed in 8.51s\n",
      "\n",
      "📔 Testing: chapters/ch15/2.multimodal-and-hybrid-search.ipynb\n",
      "   ✅ SUCCESS - Completed in 47.71s\n",
      "\n",
      "================================================================================\n",
      "📊 SUMMARY:\n",
      "   Total notebooks tested: 2\n",
      "   ✅ Successful: 2\n",
      "   Success rate: 100.0%\n",
      "   Total execution time: 56.22s\n",
      "\n",
      "🏁 Testing completed at 2025-07-29 18:31:05\n"
     ]
    }
   ],
   "source": [
    "results = run_test_harness(chapter_to_run=\"ch15\")"
   ]
  },
  {
   "cell_type": "markdown",
   "metadata": {},
   "source": [
    "## Export Results (Optional)"
   ]
  }
 ],
 "metadata": {
  "kernelspec": {
   "display_name": "Python 3 (ipykernel)",
   "language": "python",
   "name": "python3"
  },
  "language_info": {
   "codemirror_mode": {
    "name": "ipython",
    "version": 3
   },
   "file_extension": ".py",
   "mimetype": "text/x-python",
   "name": "python",
   "nbconvert_exporter": "python",
   "pygments_lexer": "ipython3",
   "version": "3.10.9"
  }
 },
 "nbformat": 4,
 "nbformat_minor": 4
}
