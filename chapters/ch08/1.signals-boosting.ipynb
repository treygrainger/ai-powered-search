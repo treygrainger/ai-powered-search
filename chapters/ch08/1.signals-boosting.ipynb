{
 "cells": [
  {
   "cell_type": "markdown",
   "metadata": {},
   "source": [
    "# [ Chapter 8 - Signals Boosting Models ]\n",
    "# Signals Boosting"
   ]
  },
  {
   "cell_type": "markdown",
   "metadata": {},
   "source": [
    "NOTE: This notebook depends upon the the Retrotech dataset. If you have any issues, please rerun the [Setting up the Retrotech Dataset](../ch04/1.setting-up-the-retrotech-dataset.ipynb) notebook."
   ]
  },
  {
   "cell_type": "code",
   "execution_count": 1,
   "metadata": {},
   "outputs": [],
   "source": [
    "from datetime import datetime\n",
    "\n",
    "from pyspark.sql import SparkSession\n",
    "\n",
    "from aips import display_product_search, get_engine, set_engine\n",
    "from aips.spark import create_view_from_collection\n",
    "from aips.spark.dataframe import from_sql\n",
    "\n",
    "spark = SparkSession.builder.appName(\"AIPS\").getOrCreate()\n",
    "set_engine(\"opensearch\")\n",
    "engine = get_engine()\n",
    "signals_collection = engine.get_collection(\"signals\")"
   ]
  },
  {
   "cell_type": "markdown",
   "metadata": {},
   "source": [
    "## Keyword Search with No Signals Boosting"
   ]
  },
  {
   "cell_type": "markdown",
   "metadata": {},
   "source": [
    "### Figure 8.1"
   ]
  },
  {
   "cell_type": "code",
   "execution_count": 2,
   "metadata": {},
   "outputs": [],
   "source": [
    "#%run chapters/ch04/1.setting-up-the-retrotech-dataset.ipynb"
   ]
  },
  {
   "cell_type": "code",
   "execution_count": 3,
   "metadata": {},
   "outputs": [],
   "source": [
    "# %load -s product_search_request aips/search_requests\n",
    "def product_search_request(query, param_overrides={}):\n",
    "    request = {\"query\": query,\n",
    "               \"query_fields\": [\"name\", \"manufacturer\", \"long_description\"],\n",
    "               \"return_fields\": [\"upc\", \"name\", \"manufacturer\",\n",
    "                                 \"short_description\", \"score\"],\n",
    "               \"limit\": 5,\n",
    "               \"order_by\": [(\"score\", \"desc\"), (\"upc\", \"asc\")]}\n",
    "    return request | param_overrides"
   ]
  },
  {
   "cell_type": "code",
   "execution_count": 4,
   "metadata": {},
   "outputs": [
    {
     "data": {
      "text/html": [
       "<div id=\"demo\">\n",
       "\t<center><input style=\"width:40%\" readonly type=\"text\" name=\"q\" value=\"ipad\">\n",
       "\t<input readonly type=\"submit\" value=\"Search\">\n",
       "\t</center>\n",
       "    <div class=\"results\">\n",
       "    \t\n",
       "\n",
       "    </div>\n",
       "</div>\n",
       "    \t<div style=\"position: relative; width: 100%; height:auto; overflow: auto;\">\n",
       "\t    \t<div style=\"position: relative; float:left; width: 120px; margin-top:5px\">\n",
       "\t    \t\t<img style=\"width:250px; height: auto; max-height:150px\" src=\"../../data/retrotech/images/400037252074.jpg\">\n",
       "\t    \t</div>\n",
       "\t    \t<div style=\"position:relative; float:left; clear:none; width: 80%; height:auto\">\n",
       "\t    \t\t<p style=\"font-size:24px; padding-left: 50px;\"><strong>\t\tName:</strong> iPad&#xAE; - Refurbished Digital A/V Adapter\n",
       "\t\t\t\t\t<br><strong>\t\tManufacturer:</strong> iPad&#xAE;</p>\n",
       "\t    \t\t</p>\n",
       "\t    \t</div>\n",
       "    \t</div>\n",
       "    \t\n",
       "\t\t<div style=\"position:relative; clear:both; content: ' '; display: block; height: 1px; margin-top: 10px; margin-bottom:20px\">\n",
       "\t\t\t<hr style=\"color: gray; width: 95%;\" />\n",
       "\t\t</div>\n",
       "\t\t\n",
       "    \t<div style=\"position: relative; width: 100%; height:auto; overflow: auto;\">\n",
       "\t    \t<div style=\"position: relative; float:left; width: 120px; margin-top:5px\">\n",
       "\t    \t\t<img style=\"width:250px; height: auto; max-height:150px\" src=\"../../data/retrotech/images/400037252258.jpg\">\n",
       "\t    \t</div>\n",
       "\t    \t<div style=\"position:relative; float:left; clear:none; width: 80%; height:auto\">\n",
       "\t    \t\t<p style=\"font-size:24px; padding-left: 50px;\"><strong>\t\tName:</strong> iPad&#xAE; - Refurbished USB Power Adapter\n",
       "\t\t\t\t\t<br><strong>\t\tManufacturer:</strong> iPad&#xAE;</p>\n",
       "\t    \t\t</p>\n",
       "\t    \t</div>\n",
       "    \t</div>\n",
       "    \t\n",
       "\t\t<div style=\"position:relative; clear:both; content: ' '; display: block; height: 1px; margin-top: 10px; margin-bottom:20px\">\n",
       "\t\t\t<hr style=\"color: gray; width: 95%;\" />\n",
       "\t\t</div>\n",
       "\t\t\n",
       "    \t<div style=\"position: relative; width: 100%; height:auto; overflow: auto;\">\n",
       "\t    \t<div style=\"position: relative; float:left; width: 120px; margin-top:5px\">\n",
       "\t    \t\t<img style=\"width:250px; height: auto; max-height:150px\" src=\"../../data/retrotech/images/400037252616.jpg\">\n",
       "\t    \t</div>\n",
       "\t    \t<div style=\"position:relative; float:left; clear:none; width: 80%; height:auto\">\n",
       "\t    \t\t<p style=\"font-size:24px; padding-left: 50px;\"><strong>\t\tName:</strong> iPad&#xAE; - Refurbished Dock Connector-to-VGA Adapter\n",
       "\t\t\t\t\t<br><strong>\t\tManufacturer:</strong> iPad&#xAE;</p>\n",
       "\t    \t\t</p>\n",
       "\t    \t</div>\n",
       "    \t</div>\n",
       "    \t\n",
       "\t\t<div style=\"position:relative; clear:both; content: ' '; display: block; height: 1px; margin-top: 10px; margin-bottom:20px\">\n",
       "\t\t\t<hr style=\"color: gray; width: 95%;\" />\n",
       "\t\t</div>\n",
       "\t\t\n",
       "    \t<div style=\"position: relative; width: 100%; height:auto; overflow: auto;\">\n",
       "\t    \t<div style=\"position: relative; float:left; width: 120px; margin-top:5px\">\n",
       "\t    \t\t<img style=\"width:250px; height: auto; max-height:150px\" src=\"../../data/retrotech/images/400037252890.jpg\">\n",
       "\t    \t</div>\n",
       "\t    \t<div style=\"position:relative; float:left; clear:none; width: 80%; height:auto\">\n",
       "\t    \t\t<p style=\"font-size:24px; padding-left: 50px;\"><strong>\t\tName:</strong> iPad&#xAE; - Refurbished Keyboard Dock\n",
       "\t\t\t\t\t<br><strong>\t\tManufacturer:</strong> iPad&#xAE;</p>\n",
       "\t    \t\t</p>\n",
       "\t    \t</div>\n",
       "    \t</div>\n",
       "    \t\n",
       "\t\t<div style=\"position:relative; clear:both; content: ' '; display: block; height: 1px; margin-top: 10px; margin-bottom:20px\">\n",
       "\t\t\t<hr style=\"color: gray; width: 95%;\" />\n",
       "\t\t</div>\n",
       "\t\t\n",
       "    \t<div style=\"position: relative; width: 100%; height:auto; overflow: auto;\">\n",
       "\t    \t<div style=\"position: relative; float:left; width: 120px; margin-top:5px\">\n",
       "\t    \t\t<img style=\"width:250px; height: auto; max-height:150px\" src=\"../../data/retrotech/images/400037253316.jpg\">\n",
       "\t    \t</div>\n",
       "\t    \t<div style=\"position:relative; float:left; clear:none; width: 80%; height:auto\">\n",
       "\t    \t\t<p style=\"font-size:24px; padding-left: 50px;\"><strong>\t\tName:</strong> iPad&#xAE; - Refurbished Digital Camera Connection Kit\n",
       "\t\t\t\t\t<br><strong>\t\tManufacturer:</strong> iPad&#xAE;</p>\n",
       "\t    \t\t</p>\n",
       "\t    \t</div>\n",
       "    \t</div>\n",
       "    \t\n",
       "\t\t<div style=\"position:relative; clear:both; content: ' '; display: block; height: 1px; margin-top: 10px; margin-bottom:20px\">\n",
       "\t\t\t<hr style=\"color: gray; width: 95%;\" />\n",
       "\t\t</div>\n",
       "\t\t"
      ],
      "text/plain": [
       "<IPython.core.display.HTML object>"
      ]
     },
     "metadata": {},
     "output_type": "display_data"
    }
   ],
   "source": [
    "products_collection = engine.get_collection(\"products\")\n",
    "query = \"ipad\"\n",
    "request = product_search_request(query)\n",
    "response = products_collection.search(**request)\n",
    "display_product_search(query, response[\"docs\"])"
   ]
  },
  {
   "cell_type": "markdown",
   "metadata": {},
   "source": [
    "## Create Signals Boosts (Signals Aggregation)"
   ]
  },
  {
   "cell_type": "markdown",
   "metadata": {},
   "source": [
    "### Basic Signals Boosting Model"
   ]
  },
  {
   "cell_type": "code",
   "execution_count": 5,
   "metadata": {},
   "outputs": [],
   "source": [
    "def aggregate_signals(signals_collection, collection_name, signals_agg_query):\n",
    "    print(\"Aggregating Signals to Create Signals Boosts...\")\n",
    "    create_view_from_collection(signals_collection, \"signals\")\n",
    "    collection = engine.create_collection(collection_name)\n",
    "    collection.write(from_sql(signals_agg_query))\n",
    "    collection.commit()\n",
    "    print(\"Signals Aggregation Completed!\")\n",
    "    return collection"
   ]
  },
  {
   "cell_type": "markdown",
   "metadata": {},
   "source": [
    "## Search with Signals Boosts Applied"
   ]
  },
  {
   "cell_type": "markdown",
   "metadata": {},
   "source": [
    "### Signals Boosting Query"
   ]
  },
  {
   "cell_type": "markdown",
   "metadata": {},
   "source": [
    "## Raw Signals Boosts (Case-sensitive)"
   ]
  },
  {
   "cell_type": "markdown",
   "metadata": {},
   "source": [
    "### Listing 8.1"
   ]
  },
  {
   "cell_type": "code",
   "execution_count": 6,
   "metadata": {},
   "outputs": [],
   "source": [
    "# %load -s search_for_boosts aips/search_requests\n",
    "def search_for_boosts(query, collection, query_field=\"query\"):\n",
    "    boosts_request = {\"query\": query,\n",
    "                      \"query_fields\": [query_field],\n",
    "                      \"return_fields\": [\"query\", \"doc\", \"boost\"],\n",
    "                      \"limit\": 20,\n",
    "                      \"order_by\": [(\"boost\", \"desc\")],\n",
    "                      \"log\": True}\n",
    "    response = collection.search(**boosts_request)\n",
    "    return response[\"docs\"]"
   ]
  },
  {
   "cell_type": "code",
   "execution_count": 7,
   "metadata": {},
   "outputs": [],
   "source": [
    "def create_boosting_collection(collection_name):\n",
    "    basic_signals_aggregation_query = \"\"\"\n",
    "    SELECT q.target AS query, c.target AS doc,\n",
    "    COUNT(c.target) AS boost\n",
    "    FROM signals c LEFT JOIN signals q\n",
    "    ON c.query_id = q.query_id\n",
    "    WHERE c.type = 'click' AND q.type = 'query'\n",
    "    GROUP BY q.target, doc\n",
    "    ORDER BY boost DESC\n",
    "    \"\"\"\n",
    "    collection = engine.get_collection(collection_name)\n",
    "    return aggregate_signals(collection, \"basic_signals_boosts\", basic_signals_aggregation_query)"
   ]
  },
  {
   "cell_type": "code",
   "execution_count": 8,
   "metadata": {},
   "outputs": [],
   "source": [
    "def show_raw_boosted_queries(boost_documents):\n",
    "    boosted_queries = \"\\n\".join([f'\"{doc[\"query\"]}\" : {doc[\"boost\"]}'\n",
    "                                 for doc in boost_documents])\n",
    "    print(\"Raw Boosted Queries\")\n",
    "    print(boosted_queries)"
   ]
  },
  {
   "cell_type": "code",
   "execution_count": 9,
   "metadata": {},
   "outputs": [
    {
     "name": "stdout",
     "output_type": "stream",
     "text": [
      "Aggregating Signals to Create Signals Boosts...\n",
      "Wiping \"basic_signals_boosts\" collection\n",
      "Creating \"basic_signals_boosts\" collection\n",
      "Successfully written 197168 documents\n",
      "Signals Aggregation Completed!\n"
     ]
    }
   ],
   "source": [
    "signals_boosting_collection = create_boosting_collection(\"signals\")"
   ]
  },
  {
   "cell_type": "code",
   "execution_count": 10,
   "metadata": {},
   "outputs": [
    {
     "name": "stdout",
     "output_type": "stream",
     "text": [
      "Search Request:\n",
      "{\n",
      "  \"query\": {\n",
      "    \"bool\": {\n",
      "      \"must\": [\n",
      "        {\n",
      "          \"query_string\": {\n",
      "            \"query\": \"885909457588\",\n",
      "            \"boost\": 0.454545454,\n",
      "            \"default_operator\": \"OR\",\n",
      "            \"fields\": [\n",
      "              \"doc\"\n",
      "            ]\n",
      "          }\n",
      "        }\n",
      "      ]\n",
      "    }\n",
      "  },\n",
      "  \"size\": 20,\n",
      "  \"fields\": [\n",
      "    \"query\",\n",
      "    \"doc\",\n",
      "    \"boost\"\n",
      "  ],\n",
      "  \"sort\": [\n",
      "    {\n",
      "      \"boost\": {\n",
      "        \"order\": \"desc\"\n",
      "      }\n",
      "    }\n",
      "  ]\n",
      "}\n",
      "Raw Boosted Queries\n",
      "\"iPad\" : 1050\n",
      "\"ipad\" : 966\n",
      "\"Ipad\" : 829\n",
      "\"iPad 2\" : 509\n",
      "\"ipad 2\" : 347\n",
      "\"Ipad2\" : 261\n",
      "\"ipad2\" : 238\n",
      "\"Ipad 2\" : 213\n",
      "\"I pad\" : 203\n",
      "\"i pad\" : 133\n",
      "\"IPad\" : 77\n",
      "\"Apple\" : 76\n",
      "\"I pad 2\" : 60\n",
      "\"apple ipad\" : 55\n",
      "\"Apple iPad\" : 53\n",
      "\"ipads\" : 43\n",
      "\"tablets\" : 42\n",
      "\"apple\" : 41\n",
      "\"iPads\" : 38\n",
      "\"i pad 2\" : 38\n"
     ]
    }
   ],
   "source": [
    "query = \"885909457588\" #most popular iPad model\n",
    "signals_docs = search_for_boosts(query, signals_boosting_collection, \"doc\")\n",
    "show_raw_boosted_queries(signals_docs)    "
   ]
  },
  {
   "cell_type": "markdown",
   "metadata": {},
   "source": [
    "## Normalized Signals Boosting (Case-insensitive)"
   ]
  },
  {
   "cell_type": "markdown",
   "metadata": {},
   "source": [
    "### Listing 8.2"
   ]
  },
  {
   "cell_type": "code",
   "execution_count": 11,
   "metadata": {},
   "outputs": [
    {
     "name": "stdout",
     "output_type": "stream",
     "text": [
      "Aggregating Signals to Create Signals Boosts...\n",
      "Wiping \"normalized_signals_boosts\" collection\n",
      "Creating \"normalized_signals_boosts\" collection\n",
      "Successfully written 152251 documents\n",
      "Signals Aggregation Completed!\n"
     ]
    }
   ],
   "source": [
    "normalized_signals_aggregation_query = \"\"\"\n",
    "SELECT LOWER(q.target) AS query,\n",
    "c.target AS doc, COUNT(c.target) AS boost\n",
    "FROM signals c LEFT JOIN signals q ON c.query_id = q.query_id\n",
    "WHERE c.type = 'click' AND q.type = 'query'\n",
    "GROUP BY LOWER(q.target), doc\n",
    "ORDER BY boost DESC\"\"\"\n",
    "\n",
    "normalized_collection = \\\n",
    "  aggregate_signals(signals_collection, \"normalized_signals_boosts\",\n",
    "                    normalized_signals_aggregation_query)"
   ]
  },
  {
   "cell_type": "code",
   "execution_count": 12,
   "metadata": {},
   "outputs": [
    {
     "name": "stdout",
     "output_type": "stream",
     "text": [
      "Search Request:\n",
      "{\n",
      "  \"query\": {\n",
      "    \"bool\": {\n",
      "      \"must\": [\n",
      "        {\n",
      "          \"query_string\": {\n",
      "            \"query\": \"885909457588\",\n",
      "            \"boost\": 0.454545454,\n",
      "            \"default_operator\": \"OR\",\n",
      "            \"fields\": [\n",
      "              \"doc\"\n",
      "            ]\n",
      "          }\n",
      "        }\n",
      "      ]\n",
      "    }\n",
      "  },\n",
      "  \"size\": 20,\n",
      "  \"fields\": [\n",
      "    \"query\",\n",
      "    \"doc\",\n",
      "    \"boost\"\n",
      "  ],\n",
      "  \"sort\": [\n",
      "    {\n",
      "      \"boost\": {\n",
      "        \"order\": \"desc\"\n",
      "      }\n",
      "    }\n",
      "  ]\n",
      "}\n",
      "Raw Boosted Queries\n",
      "\"ipad\" : 2939\n",
      "\"ipad 2\" : 1104\n",
      "\"ipad2\" : 540\n",
      "\"i pad\" : 341\n",
      "\"apple ipad\" : 152\n",
      "\"ipads\" : 123\n",
      "\"apple\" : 118\n",
      "\"i pad 2\" : 99\n",
      "\"tablets\" : 67\n",
      "\"tablet\" : 61\n",
      "\"ipad 1\" : 52\n",
      "\"apple ipad 2\" : 27\n",
      "\"hp touchpad\" : 26\n",
      "\"ipaq\" : 20\n",
      "\"i pad2\" : 19\n",
      "\"wi\" : 19\n",
      "\"apple computers\" : 18\n",
      "\"apple i pad\" : 15\n",
      "\"ipad 2 16gb\" : 15\n",
      "\"samsung galaxy\" : 14\n"
     ]
    }
   ],
   "source": [
    "query = \"885909457588\" #most popular iPad model\n",
    "signals_docs = search_for_boosts(query, normalized_collection, \"doc\")\n",
    "show_raw_boosted_queries(signals_docs)"
   ]
  },
  {
   "cell_type": "markdown",
   "metadata": {},
   "source": [
    "## Star Wars Search before User Manipulation"
   ]
  },
  {
   "cell_type": "markdown",
   "metadata": {},
   "source": [
    "### Figure 8.2"
   ]
  },
  {
   "cell_type": "code",
   "execution_count": 13,
   "metadata": {},
   "outputs": [],
   "source": [
    "# %load -s create_boosts_query,boosted_product_search_request aips/search_requests\n",
    "def create_boosts_query(boost_documents):\n",
    "    print(\"Boost Documents:\")\n",
    "    display(boost_documents)\n",
    "    boosts = \" \".join([f'\"{b[\"doc\"]}\"^{b[\"boost\"]}' \n",
    "                       for b in boost_documents])\n",
    "    print(f\"\\nBoost Query: \\n{boosts}\\n\")\n",
    "    return boosts"
   ]
  },
  {
   "cell_type": "code",
   "execution_count": 14,
   "metadata": {},
   "outputs": [],
   "source": [
    "def boosted_product_search_request(query, collection, boost_field=None):\n",
    "    signals_documents = search_for_boosts(query, collection)\n",
    "    signals_boosts = create_boosts_query(signals_documents)\n",
    "    boosted_request = product_search_request(query)\n",
    "    if boost_field:\n",
    "        signals_boosts = (boost_field, signals_boosts)\n",
    "    boosted_request[\"query_boosts\"] = signals_boosts\n",
    "    return boosted_request"
   ]
  },
  {
   "cell_type": "code",
   "execution_count": 15,
   "metadata": {},
   "outputs": [
    {
     "name": "stdout",
     "output_type": "stream",
     "text": [
      "Search Request:\n",
      "{\n",
      "  \"query\": {\n",
      "    \"bool\": {\n",
      "      \"must\": [\n",
      "        {\n",
      "          \"query_string\": {\n",
      "            \"query\": \"\\\"star wars\\\"\",\n",
      "            \"boost\": 0.454545454,\n",
      "            \"default_operator\": \"OR\",\n",
      "            \"fields\": [\n",
      "              \"query\"\n",
      "            ]\n",
      "          }\n",
      "        }\n",
      "      ]\n",
      "    }\n",
      "  },\n",
      "  \"size\": 20,\n",
      "  \"fields\": [\n",
      "    \"query\",\n",
      "    \"doc\",\n",
      "    \"boost\"\n",
      "  ],\n",
      "  \"sort\": [\n",
      "    {\n",
      "      \"boost\": {\n",
      "        \"order\": \"desc\"\n",
      "      }\n",
      "    }\n",
      "  ]\n",
      "}\n",
      "Boost Documents:\n"
     ]
    },
    {
     "data": {
      "text/plain": [
       "[{'query': 'star wars',\n",
       "  'doc': '024543742180',\n",
       "  'boost': 1490,\n",
       "  'id': 'gruVtJIBW2gjtvigravI',\n",
       "  'score': None},\n",
       " {'query': 'star wars blu ray',\n",
       "  'doc': '024543742180',\n",
       "  'boost': 338,\n",
       "  'id': 'vbuVtJIBW2gjtvigravI',\n",
       "  'score': None},\n",
       " {'query': 'star wars',\n",
       "  'doc': '400032015667',\n",
       "  'boost': 186,\n",
       "  'id': 'L7uVtJIBW2gjtvigrazI',\n",
       "  'score': None},\n",
       " {'query': 'star wars',\n",
       "  'doc': '024543742074',\n",
       "  'boost': 127,\n",
       "  'id': 'sLuVtJIBW2gjtvigrazI',\n",
       "  'score': None},\n",
       " {'query': 'star wars',\n",
       "  'doc': '024543559856',\n",
       "  'boost': 117,\n",
       "  'id': '4buVtJIBW2gjtvigrazI',\n",
       "  'score': None},\n",
       " {'query': 'star wars',\n",
       "  'doc': '014633169546',\n",
       "  'boost': 107,\n",
       "  'id': 'GruVtJIBW2gjtvigra3I',\n",
       "  'score': None},\n",
       " {'query': 'star wars bluray',\n",
       "  'doc': '024543742180',\n",
       "  'boost': 87,\n",
       "  'id': 's7uVtJIBW2gjtvigra3I',\n",
       "  'score': None},\n",
       " {'query': 'star wars blue ray',\n",
       "  'doc': '024543742180',\n",
       "  'boost': 83,\n",
       "  'id': '2ruVtJIBW2gjtvigra3I',\n",
       "  'score': None},\n",
       " {'query': 'star wars',\n",
       "  'doc': '024543742098',\n",
       "  'boost': 81,\n",
       "  'id': '8ruVtJIBW2gjtvigra3I',\n",
       "  'score': None},\n",
       " {'query': 'star wars',\n",
       "  'doc': '024543781875',\n",
       "  'boost': 67,\n",
       "  'id': 'zbuVtJIBW2gjtvigra7I',\n",
       "  'score': None},\n",
       " {'query': 'star wars blu ray',\n",
       "  'doc': '400032015667',\n",
       "  'boost': 63,\n",
       "  'id': 'EbuVtJIBW2gjtvigra_I',\n",
       "  'score': None},\n",
       " {'query': 'star wars blu ray',\n",
       "  'doc': '024543742074',\n",
       "  'boost': 49,\n",
       "  'id': '1ruVtJIBW2gjtvigrrgR',\n",
       "  'score': None},\n",
       " {'query': 'star wars complete saga',\n",
       "  'doc': '024543742180',\n",
       "  'boost': 44,\n",
       "  'id': 'EbuVtJIBW2gjtvigrroR',\n",
       "  'score': None},\n",
       " {'query': 'star wars blu-ray',\n",
       "  'doc': '024543742180',\n",
       "  'boost': 42,\n",
       "  'id': 'f7uVtJIBW2gjtvigrroS',\n",
       "  'score': None},\n",
       " {'query': 'star wars blu',\n",
       "  'doc': '024543742180',\n",
       "  'boost': 39,\n",
       "  'id': 'N7uVtJIBW2gjtvigrrsh',\n",
       "  'score': None},\n",
       " {'query': 'star wars',\n",
       "  'doc': '023272342654',\n",
       "  'boost': 39,\n",
       "  'id': 'OLuVtJIBW2gjtvigrrsh',\n",
       "  'score': None},\n",
       " {'query': 'star wars saga',\n",
       "  'doc': '024543742180',\n",
       "  'boost': 36,\n",
       "  'id': 'YruVtJIBW2gjtvigrrwh',\n",
       "  'score': None},\n",
       " {'query': 'star wars',\n",
       "  'doc': '014633169522',\n",
       "  'boost': 32,\n",
       "  'id': 'B7uVtJIBW2gjtvigrr4i',\n",
       "  'score': None},\n",
       " {'query': 'star wars',\n",
       "  'doc': '024543560067',\n",
       "  'boost': 30,\n",
       "  'id': 'KbuVtJIBW2gjtvigrsMy',\n",
       "  'score': None},\n",
       " {'query': 'star wars xbox',\n",
       "  'doc': '885370332889',\n",
       "  'boost': 28,\n",
       "  'id': '17uVtJIBW2gjtvigrsQy',\n",
       "  'score': None}]"
      ]
     },
     "metadata": {},
     "output_type": "display_data"
    },
    {
     "name": "stdout",
     "output_type": "stream",
     "text": [
      "\n",
      "Boost Query: \n",
      "\"024543742180\"^1490 \"024543742180\"^338 \"400032015667\"^186 \"024543742074\"^127 \"024543559856\"^117 \"014633169546\"^107 \"024543742180\"^87 \"024543742180\"^83 \"024543742098\"^81 \"024543781875\"^67 \"400032015667\"^63 \"024543742074\"^49 \"024543742180\"^44 \"024543742180\"^42 \"024543742180\"^39 \"023272342654\"^39 \"024543742180\"^36 \"014633169522\"^32 \"024543560067\"^30 \"885370332889\"^28\n",
      "\n"
     ]
    },
    {
     "data": {
      "text/html": [
       "<div id=\"demo\">\n",
       "\t<center><input style=\"width:40%\" readonly type=\"text\" name=\"q\" value=\"star wars\">\n",
       "\t<input readonly type=\"submit\" value=\"Search\">\n",
       "\t</center>\n",
       "    <div class=\"results\">\n",
       "    \t\n",
       "\n",
       "    </div>\n",
       "</div>\n",
       "    \t<div style=\"position: relative; width: 100%; height:auto; overflow: auto;\">\n",
       "\t    \t<div style=\"position: relative; float:left; width: 120px; margin-top:5px\">\n",
       "\t    \t\t<img style=\"width:250px; height: auto; max-height:150px\" src=\"../../data/retrotech/images/400032015667.jpg\">\n",
       "\t    \t</div>\n",
       "\t    \t<div style=\"position:relative; float:left; clear:none; width: 80%; height:auto\">\n",
       "\t    \t\t<p style=\"font-size:24px; padding-left: 50px;\"><strong>\t\tName:</strong> Star Wars - The Complete Saga - Blu-ray Disc\n",
       "\t\t\t\t\t<br><strong>\t\tManufacturer:</strong> LucasFilm</p>\n",
       "\t    \t\t</p>\n",
       "\t    \t</div>\n",
       "    \t</div>\n",
       "    \t\n",
       "\t\t<div style=\"position:relative; clear:both; content: ' '; display: block; height: 1px; margin-top: 10px; margin-bottom:20px\">\n",
       "\t\t\t<hr style=\"color: gray; width: 95%;\" />\n",
       "\t\t</div>\n",
       "\t\t\n",
       "    \t<div style=\"position: relative; width: 100%; height:auto; overflow: auto;\">\n",
       "\t    \t<div style=\"position: relative; float:left; width: 120px; margin-top:5px\">\n",
       "\t    \t\t<img style=\"width:250px; height: auto; max-height:150px\" src=\"../../data/retrotech/images/unavailable.jpg\">\n",
       "\t    \t</div>\n",
       "\t    \t<div style=\"position:relative; float:left; clear:none; width: 80%; height:auto\">\n",
       "\t    \t\t<p style=\"font-size:24px; padding-left: 50px;\"><strong>\t\tName:</strong> Microsoft - Xbox 360 Console Limited Edition Kinect Star Wars Bundle\n",
       "\t\t\t\t\t<br><strong>\t\tManufacturer:</strong> Microsoft</p>\n",
       "\t    \t\t</p>\n",
       "\t    \t</div>\n",
       "    \t</div>\n",
       "    \t\n",
       "\t\t<div style=\"position:relative; clear:both; content: ' '; display: block; height: 1px; margin-top: 10px; margin-bottom:20px\">\n",
       "\t\t\t<hr style=\"color: gray; width: 95%;\" />\n",
       "\t\t</div>\n",
       "\t\t\n",
       "    \t<div style=\"position: relative; width: 100%; height:auto; overflow: auto;\">\n",
       "\t    \t<div style=\"position: relative; float:left; width: 120px; margin-top:5px\">\n",
       "\t    \t\t<img style=\"width:250px; height: auto; max-height:150px\" src=\"../../data/retrotech/images/23272335397.jpg\">\n",
       "\t    \t</div>\n",
       "\t    \t<div style=\"position:relative; float:left; clear:none; width: 80%; height:auto\">\n",
       "\t    \t\t<p style=\"font-size:24px; padding-left: 50px;\"><strong>\t\tName:</strong> Star Wars Battlefront: Elite Squadron - PSP\n",
       "\t\t\t\t\t<br><strong>\t\tManufacturer:</strong> LucasArts</p>\n",
       "\t    \t\t</p>\n",
       "\t    \t</div>\n",
       "    \t</div>\n",
       "    \t\n",
       "\t\t<div style=\"position:relative; clear:both; content: ' '; display: block; height: 1px; margin-top: 10px; margin-bottom:20px\">\n",
       "\t\t\t<hr style=\"color: gray; width: 95%;\" />\n",
       "\t\t</div>\n",
       "\t\t\n",
       "    \t<div style=\"position: relative; width: 100%; height:auto; overflow: auto;\">\n",
       "\t    \t<div style=\"position: relative; float:left; width: 120px; margin-top:5px\">\n",
       "\t    \t\t<img style=\"width:250px; height: auto; max-height:150px\" src=\"../../data/retrotech/images/unavailable.jpg\">\n",
       "\t    \t</div>\n",
       "\t    \t<div style=\"position:relative; float:left; clear:none; width: 80%; height:auto\">\n",
       "\t    \t\t<p style=\"font-size:24px; padding-left: 50px;\"><strong>\t\tName:</strong> Star Wars Battlefront: Elite Squadron - Nintendo DS\n",
       "\t\t\t\t\t<br><strong>\t\tManufacturer:</strong> LucasArts</p>\n",
       "\t    \t\t</p>\n",
       "\t    \t</div>\n",
       "    \t</div>\n",
       "    \t\n",
       "\t\t<div style=\"position:relative; clear:both; content: ' '; display: block; height: 1px; margin-top: 10px; margin-bottom:20px\">\n",
       "\t\t\t<hr style=\"color: gray; width: 95%;\" />\n",
       "\t\t</div>\n",
       "\t\t\n",
       "    \t<div style=\"position: relative; width: 100%; height:auto; overflow: auto;\">\n",
       "\t    \t<div style=\"position: relative; float:left; width: 120px; margin-top:5px\">\n",
       "\t    \t\t<img style=\"width:250px; height: auto; max-height:150px\" src=\"../../data/retrotech/images/696055169191.jpg\">\n",
       "\t    \t</div>\n",
       "\t    \t<div style=\"position:relative; float:left; clear:none; width: 80%; height:auto\">\n",
       "\t    \t\t<p style=\"font-size:24px; padding-left: 50px;\"><strong>\t\tName:</strong> Star Wars: Battlefront II - PSP\n",
       "\t\t\t\t\t<br><strong>\t\tManufacturer:</strong> LucasArts</p>\n",
       "\t    \t\t</p>\n",
       "\t    \t</div>\n",
       "    \t</div>\n",
       "    \t\n",
       "\t\t<div style=\"position:relative; clear:both; content: ' '; display: block; height: 1px; margin-top: 10px; margin-bottom:20px\">\n",
       "\t\t\t<hr style=\"color: gray; width: 95%;\" />\n",
       "\t\t</div>\n",
       "\t\t"
      ],
      "text/plain": [
       "<IPython.core.display.HTML object>"
      ]
     },
     "metadata": {},
     "output_type": "display_data"
    }
   ],
   "source": [
    "query = '\"star wars\"'\n",
    "boosted_request = boosted_product_search_request(query, normalized_collection, \"upc\")\n",
    "boosted_request[\"filter\"] = [(\"-upc\", \"45626176\")]\n",
    "\n",
    "response = products_collection.search(**boosted_request)\n",
    "display_product_search(\"star wars\", response[\"docs\"])"
   ]
  },
  {
   "cell_type": "markdown",
   "metadata": {},
   "source": [
    "## Simulating a malicious user"
   ]
  },
  {
   "cell_type": "markdown",
   "metadata": {},
   "source": [
    "### Listing 8.3"
   ]
  },
  {
   "cell_type": "code",
   "execution_count": 16,
   "metadata": {},
   "outputs": [
    {
     "name": "stdout",
     "output_type": "stream",
     "text": [
      "Successfully written 10000 documents\n",
      "Aggregating Signals to Create Signals Boosts...\n",
      "Wiping \"signals_boosts_with_spam\" collection\n",
      "Creating \"signals_boosts_with_spam\" collection\n",
      "Successfully written 152252 documents\n",
      "Signals Aggregation Completed!\n"
     ]
    }
   ],
   "source": [
    "signals_collection = engine.get_collection(\"signals\")\n",
    "spam_user = \"u8675309\"\n",
    "spam_query = \"star wars\"\n",
    "spam_signal_boost_doc_upc = \"45626176\" #doc for a \"trash compactor\" from someone who wants star wars is rubbish!\n",
    "\n",
    "signal_docs = []\n",
    "for num in range(5000): #generate 5,000 query and click signals\n",
    "    query_id = f\"u8675309_0_{num}\"\n",
    "    query_signal = { \n",
    "        \"query_id\": query_id,\n",
    "        \"user\": spam_user,\n",
    "        \"type\": \"query\",\n",
    "        \"target\": spam_query,\n",
    "        \"signal_time\": datetime.now().strftime(\"%Y-%m-%dT%H:%M:%SZ\"),\n",
    "        #\"id\": f\"spam_signal_query_{num}\"\n",
    "    }\n",
    "    click_signal = { \n",
    "        \"query_id\": query_id,\n",
    "        \"user\": spam_user,\n",
    "        \"type\": \"click\",\n",
    "        \"target\": spam_signal_boost_doc_upc,\n",
    "        \"signal_time\": datetime.now().strftime(\"%Y-%m-%dT%H:%M:%SZ\"),\n",
    "        #\"id\": f\"spam_signal_click_{num}\"\n",
    "    }\n",
    "    signal_docs.extend([click_signal, query_signal])\n",
    "\n",
    "signals_collection.add_documents(signal_docs)\n",
    "#re-run the basic signals aggregation to process the malicious clicks\n",
    "\n",
    "spam_signals_collection = \\\n",
    "    aggregate_signals(signals_collection, \"signals_boosts_with_spam\",\n",
    "                      normalized_signals_aggregation_query)"
   ]
  },
  {
   "cell_type": "markdown",
   "metadata": {},
   "source": [
    "## Impact of Spam on Search Results"
   ]
  },
  {
   "cell_type": "markdown",
   "metadata": {},
   "source": [
    "### Listing 8.4"
   ]
  },
  {
   "cell_type": "code",
   "execution_count": 17,
   "metadata": {},
   "outputs": [
    {
     "name": "stdout",
     "output_type": "stream",
     "text": [
      "Search Request:\n",
      "{\n",
      "  \"query\": {\n",
      "    \"bool\": {\n",
      "      \"must\": [\n",
      "        {\n",
      "          \"query_string\": {\n",
      "            \"query\": \"\\\"star wars\\\"\",\n",
      "            \"boost\": 0.454545454,\n",
      "            \"default_operator\": \"OR\",\n",
      "            \"fields\": [\n",
      "              \"query\"\n",
      "            ]\n",
      "          }\n",
      "        }\n",
      "      ]\n",
      "    }\n",
      "  },\n",
      "  \"size\": 20,\n",
      "  \"fields\": [\n",
      "    \"query\",\n",
      "    \"doc\",\n",
      "    \"boost\"\n",
      "  ],\n",
      "  \"sort\": [\n",
      "    {\n",
      "      \"boost\": {\n",
      "        \"order\": \"desc\"\n",
      "      }\n",
      "    }\n",
      "  ]\n",
      "}\n",
      "Boost Documents:\n"
     ]
    },
    {
     "data": {
      "text/plain": [
       "[{'query': 'star wars',\n",
       "  'doc': '45626176',\n",
       "  'boost': 5000,\n",
       "  'id': 'SL6WtJIBW2gjtvigPSXc',\n",
       "  'score': None},\n",
       " {'query': 'star wars',\n",
       "  'doc': '024543742180',\n",
       "  'boost': 1490,\n",
       "  'id': 'Tr6WtJIBW2gjtvigPSXc',\n",
       "  'score': None},\n",
       " {'query': 'star wars',\n",
       "  'doc': '400032015667',\n",
       "  'boost': 186,\n",
       "  'id': '-76WtJIBW2gjtvigPSXc',\n",
       "  'score': None},\n",
       " {'query': 'star wars',\n",
       "  'doc': '024543742074',\n",
       "  'boost': 127,\n",
       "  'id': 'fL6WtJIBW2gjtvigPSbc',\n",
       "  'score': None},\n",
       " {'query': 'star wars',\n",
       "  'doc': '024543559856',\n",
       "  'boost': 117,\n",
       "  'id': 'rb6WtJIBW2gjtvigPSbc',\n",
       "  'score': None},\n",
       " {'query': 'star wars',\n",
       "  'doc': '014633169546',\n",
       "  'boost': 107,\n",
       "  'id': '5r6WtJIBW2gjtvigPSbc',\n",
       "  'score': None},\n",
       " {'query': 'star wars',\n",
       "  'doc': '024543742098',\n",
       "  'boost': 81,\n",
       "  'id': 'vr6WtJIBW2gjtvigPSfd',\n",
       "  'score': None},\n",
       " {'query': 'star wars',\n",
       "  'doc': '024543781875',\n",
       "  'boost': 67,\n",
       "  'id': 'mb6WtJIBW2gjtvigPSjd',\n",
       "  'score': None},\n",
       " {'query': 'star wars',\n",
       "  'doc': '023272342654',\n",
       "  'boost': 39,\n",
       "  'id': 'BL6WtJIBW2gjtvigPjUE',\n",
       "  'score': None},\n",
       " {'query': 'star wars',\n",
       "  'doc': '014633169522',\n",
       "  'boost': 32,\n",
       "  'id': '076WtJIBW2gjtvigPjcE',\n",
       "  'score': None},\n",
       " {'query': 'star wars',\n",
       "  'doc': '024543560067',\n",
       "  'boost': 30,\n",
       "  'id': '9b6WtJIBW2gjtvigPjwT',\n",
       "  'score': None},\n",
       " {'query': 'star wars',\n",
       "  'doc': '883929154012',\n",
       "  'boost': 24,\n",
       "  'id': 'x76WtJIBW2gjtvigPkks',\n",
       "  'score': None},\n",
       " {'query': 'star wars',\n",
       "  'doc': '023272342630',\n",
       "  'boost': 20,\n",
       "  'id': 'hL6WtJIBW2gjtvigPlE7',\n",
       "  'score': None},\n",
       " {'query': 'star wars',\n",
       "  'doc': '708431390614',\n",
       "  'boost': 18,\n",
       "  'id': 'Sb6WtJIBW2gjtvigPllN',\n",
       "  'score': None},\n",
       " {'query': 'star wars',\n",
       "  'doc': '024543263739',\n",
       "  'boost': 18,\n",
       "  'id': 'fb6WtJIBW2gjtvigPllN',\n",
       "  'score': None},\n",
       " {'query': 'star wars',\n",
       "  'doc': '886973561621',\n",
       "  'boost': 17,\n",
       "  'id': 'T76WtJIBW2gjtvigPlpN',\n",
       "  'score': None},\n",
       " {'query': 'star wars',\n",
       "  'doc': '023272341381',\n",
       "  'boost': 16,\n",
       "  'id': 'mb6WtJIBW2gjtvigPltN',\n",
       "  'score': None},\n",
       " {'query': 'star wars',\n",
       "  'doc': '030206742121',\n",
       "  'boost': 14,\n",
       "  'id': 'f76WtJIBW2gjtvigPmNb',\n",
       "  'score': None},\n",
       " {'query': 'star wars',\n",
       "  'doc': '885370332889',\n",
       "  'boost': 12,\n",
       "  'id': '576WtJIBW2gjtvigPnB7',\n",
       "  'score': None},\n",
       " {'query': 'star wars',\n",
       "  'doc': '883929106172',\n",
       "  'boost': 8,\n",
       "  'id': 'cb6WtJIBW2gjtvigPpLD',\n",
       "  'score': None}]"
      ]
     },
     "metadata": {},
     "output_type": "display_data"
    },
    {
     "name": "stdout",
     "output_type": "stream",
     "text": [
      "\n",
      "Boost Query: \n",
      "\"45626176\"^5000 \"024543742180\"^1490 \"400032015667\"^186 \"024543742074\"^127 \"024543559856\"^117 \"014633169546\"^107 \"024543742098\"^81 \"024543781875\"^67 \"023272342654\"^39 \"014633169522\"^32 \"024543560067\"^30 \"883929154012\"^24 \"023272342630\"^20 \"708431390614\"^18 \"024543263739\"^18 \"886973561621\"^17 \"023272341381\"^16 \"030206742121\"^14 \"885370332889\"^12 \"883929106172\"^8\n",
      "\n"
     ]
    },
    {
     "data": {
      "text/html": [
       "<div id=\"demo\">\n",
       "\t<center><input style=\"width:40%\" readonly type=\"text\" name=\"q\" value=\"\"star wars\"\">\n",
       "\t<input readonly type=\"submit\" value=\"Search\">\n",
       "\t</center>\n",
       "    <div class=\"results\">\n",
       "    \t\n",
       "\n",
       "    </div>\n",
       "</div>\n",
       "    \t<div style=\"position: relative; width: 100%; height:auto; overflow: auto;\">\n",
       "\t    \t<div style=\"position: relative; float:left; width: 120px; margin-top:5px\">\n",
       "\t    \t\t<img style=\"width:250px; height: auto; max-height:150px\" src=\"../../data/retrotech/images/45626176.jpg\">\n",
       "\t    \t</div>\n",
       "\t    \t<div style=\"position:relative; float:left; clear:none; width: 80%; height:auto\">\n",
       "\t    \t\t<p style=\"font-size:24px; padding-left: 50px;\"><strong>\t\tName:</strong> Trash Can (Star Wars Themed)\n",
       "\t\t\t\t\t<br><strong>\t\tManufacturer:</strong> Jay Franco & Sons</p>\n",
       "\t    \t\t</p>\n",
       "\t    \t</div>\n",
       "    \t</div>\n",
       "    \t\n",
       "\t\t<div style=\"position:relative; clear:both; content: ' '; display: block; height: 1px; margin-top: 10px; margin-bottom:20px\">\n",
       "\t\t\t<hr style=\"color: gray; width: 95%;\" />\n",
       "\t\t</div>\n",
       "\t\t\n",
       "    \t<div style=\"position: relative; width: 100%; height:auto; overflow: auto;\">\n",
       "\t    \t<div style=\"position: relative; float:left; width: 120px; margin-top:5px\">\n",
       "\t    \t\t<img style=\"width:250px; height: auto; max-height:150px\" src=\"../../data/retrotech/images/400032015667.jpg\">\n",
       "\t    \t</div>\n",
       "\t    \t<div style=\"position:relative; float:left; clear:none; width: 80%; height:auto\">\n",
       "\t    \t\t<p style=\"font-size:24px; padding-left: 50px;\"><strong>\t\tName:</strong> Star Wars - The Complete Saga - Blu-ray Disc\n",
       "\t\t\t\t\t<br><strong>\t\tManufacturer:</strong> LucasFilm</p>\n",
       "\t    \t\t</p>\n",
       "\t    \t</div>\n",
       "    \t</div>\n",
       "    \t\n",
       "\t\t<div style=\"position:relative; clear:both; content: ' '; display: block; height: 1px; margin-top: 10px; margin-bottom:20px\">\n",
       "\t\t\t<hr style=\"color: gray; width: 95%;\" />\n",
       "\t\t</div>\n",
       "\t\t\n",
       "    \t<div style=\"position: relative; width: 100%; height:auto; overflow: auto;\">\n",
       "\t    \t<div style=\"position: relative; float:left; width: 120px; margin-top:5px\">\n",
       "\t    \t\t<img style=\"width:250px; height: auto; max-height:150px\" src=\"../../data/retrotech/images/883929154012.jpg\">\n",
       "\t    \t</div>\n",
       "\t    \t<div style=\"position:relative; float:left; clear:none; width: 80%; height:auto\">\n",
       "\t    \t\t<p style=\"font-size:24px; padding-left: 50px;\"><strong>\t\tName:</strong> Star Wars: The Clone Wars - The Complete Season Three [4 Discs] - DVD\n",
       "\t\t\t\t\t<br><strong>\t\tManufacturer:</strong> LucasFilm</p>\n",
       "\t    \t\t</p>\n",
       "\t    \t</div>\n",
       "    \t</div>\n",
       "    \t\n",
       "\t\t<div style=\"position:relative; clear:both; content: ' '; display: block; height: 1px; margin-top: 10px; margin-bottom:20px\">\n",
       "\t\t\t<hr style=\"color: gray; width: 95%;\" />\n",
       "\t\t</div>\n",
       "\t\t\n",
       "    \t<div style=\"position: relative; width: 100%; height:auto; overflow: auto;\">\n",
       "\t    \t<div style=\"position: relative; float:left; width: 120px; margin-top:5px\">\n",
       "\t    \t\t<img style=\"width:250px; height: auto; max-height:150px\" src=\"../../data/retrotech/images/708431390614.jpg\">\n",
       "\t    \t</div>\n",
       "\t    \t<div style=\"position:relative; float:left; clear:none; width: 80%; height:auto\">\n",
       "\t    \t\t<p style=\"font-size:24px; padding-left: 50px;\"><strong>\t\tName:</strong> LeapFrog - Leapster Explorer Learning Game: Star Wars The Clone Wars\n",
       "\t\t\t\t\t<br><strong>\t\tManufacturer:</strong> LeapFrog</p>\n",
       "\t    \t\t</p>\n",
       "\t    \t</div>\n",
       "    \t</div>\n",
       "    \t\n",
       "\t\t<div style=\"position:relative; clear:both; content: ' '; display: block; height: 1px; margin-top: 10px; margin-bottom:20px\">\n",
       "\t\t\t<hr style=\"color: gray; width: 95%;\" />\n",
       "\t\t</div>\n",
       "\t\t\n",
       "    \t<div style=\"position: relative; width: 100%; height:auto; overflow: auto;\">\n",
       "\t    \t<div style=\"position: relative; float:left; width: 120px; margin-top:5px\">\n",
       "\t    \t\t<img style=\"width:250px; height: auto; max-height:150px\" src=\"../../data/retrotech/images/886973561621.jpg\">\n",
       "\t    \t</div>\n",
       "\t    \t<div style=\"position:relative; float:left; clear:none; width: 80%; height:auto\">\n",
       "\t    \t\t<p style=\"font-size:24px; padding-left: 50px;\"><strong>\t\tName:</strong> Star Wars: The Clone War - Original Soundtrack - CD\n",
       "\t\t\t\t\t<br><strong>\t\tManufacturer:</strong> Sony Classics</p>\n",
       "\t    \t\t</p>\n",
       "\t    \t</div>\n",
       "    \t</div>\n",
       "    \t\n",
       "\t\t<div style=\"position:relative; clear:both; content: ' '; display: block; height: 1px; margin-top: 10px; margin-bottom:20px\">\n",
       "\t\t\t<hr style=\"color: gray; width: 95%;\" />\n",
       "\t\t</div>\n",
       "\t\t"
      ],
      "text/plain": [
       "<IPython.core.display.HTML object>"
      ]
     },
     "metadata": {},
     "output_type": "display_data"
    }
   ],
   "source": [
    "# function boosted_product_search_request defined above before figure 8.2 code\n",
    "\n",
    "query = '\"star wars\"'\n",
    "boosted_request = boosted_product_search_request(query,\n",
    "                      spam_signals_collection, \"upc\")\n",
    "response = products_collection.search(**boosted_request)\n",
    "display_product_search(query, response[\"docs\"])"
   ]
  },
  {
   "cell_type": "markdown",
   "metadata": {},
   "source": [
    "## Fighting Signal Spam through User-level Deduplication"
   ]
  },
  {
   "cell_type": "markdown",
   "metadata": {},
   "source": [
    "### Listing 8.5"
   ]
  },
  {
   "cell_type": "code",
   "execution_count": 18,
   "metadata": {},
   "outputs": [
    {
     "name": "stdout",
     "output_type": "stream",
     "text": [
      "Aggregating Signals to Create Signals Boosts...\n",
      "Wiping \"signals_boosts_anti_spam\" collection\n",
      "Creating \"signals_boosts_anti_spam\" collection\n",
      "Successfully written 152252 documents\n",
      "Signals Aggregation Completed!\n"
     ]
    }
   ],
   "source": [
    "#One Signal per User - Anti-Spam\n",
    "anti_spam_aggregation_query = \"\"\"\n",
    "SELECT query, doc, COUNT(doc) AS boost FROM (\n",
    "  SELECT c.user unique_user, LOWER(q.target) AS query, c.target AS doc,\n",
    "  MAX(c.signal_time) AS boost\n",
    "  FROM signals c LEFT JOIN signals q ON c.query_id = q.query_id\n",
    "  WHERE c.type = 'click' AND q.type = 'query'\n",
    "  GROUP BY unique_user, LOWER(q.target), doc)\n",
    "GROUP BY query, doc\n",
    "ORDER BY boost DESC\"\"\"\n",
    "\n",
    "anti_spam_collection = \\\n",
    "    aggregate_signals(signals_collection, \"signals_boosts_anti_spam\",\n",
    "                      anti_spam_aggregation_query)"
   ]
  },
  {
   "cell_type": "code",
   "execution_count": 19,
   "metadata": {},
   "outputs": [
    {
     "name": "stdout",
     "output_type": "stream",
     "text": [
      "Search Request:\n",
      "{\n",
      "  \"query\": {\n",
      "    \"bool\": {\n",
      "      \"must\": [\n",
      "        {\n",
      "          \"query_string\": {\n",
      "            \"query\": \"\\\"star wars\\\"\",\n",
      "            \"boost\": 0.454545454,\n",
      "            \"default_operator\": \"OR\",\n",
      "            \"fields\": [\n",
      "              \"query\"\n",
      "            ]\n",
      "          }\n",
      "        }\n",
      "      ]\n",
      "    }\n",
      "  },\n",
      "  \"size\": 20,\n",
      "  \"fields\": [\n",
      "    \"query\",\n",
      "    \"doc\",\n",
      "    \"boost\"\n",
      "  ],\n",
      "  \"sort\": [\n",
      "    {\n",
      "      \"boost\": {\n",
      "        \"order\": \"desc\"\n",
      "      }\n",
      "    }\n",
      "  ]\n",
      "}\n",
      "Boost Documents:\n"
     ]
    },
    {
     "data": {
      "text/plain": [
       "[{'query': 'star wars',\n",
       "  'doc': '024543742180',\n",
       "  'boost': 1489,\n",
       "  'id': 'CcCWtJIBW2gjtvigwHiW',\n",
       "  'score': None},\n",
       " {'query': 'star wars',\n",
       "  'doc': '400032015667',\n",
       "  'boost': 186,\n",
       "  'id': 'tsCWtJIBW2gjtvigwHiW',\n",
       "  'score': None},\n",
       " {'query': 'star wars',\n",
       "  'doc': '024543742074',\n",
       "  'boost': 127,\n",
       "  'id': 'N8CWtJIBW2gjtvigwHmW',\n",
       "  'score': None},\n",
       " {'query': 'star wars',\n",
       "  'doc': '024543559856',\n",
       "  'boost': 117,\n",
       "  'id': 'aMCWtJIBW2gjtvigwHmW',\n",
       "  'score': None},\n",
       " {'query': 'star wars',\n",
       "  'doc': '014633169546',\n",
       "  'boost': 107,\n",
       "  'id': 'ocCWtJIBW2gjtvigwHmW',\n",
       "  'score': None},\n",
       " {'query': 'star wars',\n",
       "  'doc': '024543742098',\n",
       "  'boost': 81,\n",
       "  'id': 'ecCWtJIBW2gjtvigwHqW',\n",
       "  'score': None},\n",
       " {'query': 'star wars',\n",
       "  'doc': '024543781875',\n",
       "  'boost': 67,\n",
       "  'id': 'VMCWtJIBW2gjtvigwHuW',\n",
       "  'score': None},\n",
       " {'query': 'star wars',\n",
       "  'doc': '023272342654',\n",
       "  'boost': 39,\n",
       "  'id': 'vsCWtJIBW2gjtvigwIe-',\n",
       "  'score': None},\n",
       " {'query': 'star wars',\n",
       "  'doc': '014633169522',\n",
       "  'boost': 32,\n",
       "  'id': 'iMCWtJIBW2gjtvigwIq-',\n",
       "  'score': None},\n",
       " {'query': 'star wars',\n",
       "  'doc': '024543560067',\n",
       "  'boost': 30,\n",
       "  'id': 'r8CWtJIBW2gjtvigwI_N',\n",
       "  'score': None},\n",
       " {'query': 'star wars',\n",
       "  'doc': '883929154012',\n",
       "  'boost': 24,\n",
       "  'id': 'gsCWtJIBW2gjtvigwJzj',\n",
       "  'score': None},\n",
       " {'query': 'star wars',\n",
       "  'doc': '023272342630',\n",
       "  'boost': 20,\n",
       "  'id': 'R8CWtJIBW2gjtvigwKTw',\n",
       "  'score': None},\n",
       " {'query': 'star wars',\n",
       "  'doc': '708431390614',\n",
       "  'boost': 18,\n",
       "  'id': '98CWtJIBW2gjtvigwKv-',\n",
       "  'score': None},\n",
       " {'query': 'star wars',\n",
       "  'doc': '024543263739',\n",
       "  'boost': 18,\n",
       "  'id': 'HMCWtJIBW2gjtvigwKz-',\n",
       "  'score': None},\n",
       " {'query': 'star wars',\n",
       "  'doc': '886973561621',\n",
       "  'boost': 17,\n",
       "  'id': 'EcCWtJIBW2gjtvigwK3-',\n",
       "  'score': None},\n",
       " {'query': 'star wars',\n",
       "  'doc': '023272341381',\n",
       "  'boost': 16,\n",
       "  'id': 'S8CWtJIBW2gjtvigwK7-',\n",
       "  'score': None},\n",
       " {'query': 'star wars',\n",
       "  'doc': '030206742121',\n",
       "  'boost': 14,\n",
       "  'id': 'NMCWtJIBW2gjtvigwbYM',\n",
       "  'score': None},\n",
       " {'query': 'star wars',\n",
       "  'doc': '885370332889',\n",
       "  'boost': 12,\n",
       "  'id': 'lMCWtJIBW2gjtvigwcMq',\n",
       "  'score': None},\n",
       " {'query': 'star wars',\n",
       "  'doc': '886111287055',\n",
       "  'boost': 8,\n",
       "  'id': 'DcCWtJIBW2gjtvigwfKF',\n",
       "  'score': None},\n",
       " {'query': 'star wars',\n",
       "  'doc': '883929106172',\n",
       "  'boost': 8,\n",
       "  'id': 'xMCWtJIBW2gjtvigweRk',\n",
       "  'score': None}]"
      ]
     },
     "metadata": {},
     "output_type": "display_data"
    },
    {
     "name": "stdout",
     "output_type": "stream",
     "text": [
      "\n",
      "Boost Query: \n",
      "\"024543742180\"^1489 \"400032015667\"^186 \"024543742074\"^127 \"024543559856\"^117 \"014633169546\"^107 \"024543742098\"^81 \"024543781875\"^67 \"023272342654\"^39 \"014633169522\"^32 \"024543560067\"^30 \"883929154012\"^24 \"023272342630\"^20 \"708431390614\"^18 \"024543263739\"^18 \"886973561621\"^17 \"023272341381\"^16 \"030206742121\"^14 \"885370332889\"^12 \"886111287055\"^8 \"883929106172\"^8\n",
      "\n",
      "{'query': {'bool': {'must': [{'query_string': {'query': '\"star wars\"', 'boost': 0.454545454, 'default_operator': 'OR', 'fields': ['name', 'manufacturer', 'long_description']}}], 'should': [{'match': {'upc': {'query': '\"024543742180\"', 'boost': '1489'}}}, {'match': {'upc': {'query': '\"400032015667\"', 'boost': '186'}}}, {'match': {'upc': {'query': '\"024543742074\"', 'boost': '127'}}}, {'match': {'upc': {'query': '\"024543559856\"', 'boost': '117'}}}, {'match': {'upc': {'query': '\"014633169546\"', 'boost': '107'}}}, {'match': {'upc': {'query': '\"024543742098\"', 'boost': '81'}}}, {'match': {'upc': {'query': '\"024543781875\"', 'boost': '67'}}}, {'match': {'upc': {'query': '\"023272342654\"', 'boost': '39'}}}, {'match': {'upc': {'query': '\"014633169522\"', 'boost': '32'}}}, {'match': {'upc': {'query': '\"024543560067\"', 'boost': '30'}}}, {'match': {'upc': {'query': '\"883929154012\"', 'boost': '24'}}}, {'match': {'upc': {'query': '\"023272342630\"', 'boost': '20'}}}, {'match': {'upc': {'query': '\"708431390614\"', 'boost': '18'}}}, {'match': {'upc': {'query': '\"024543263739\"', 'boost': '18'}}}, {'match': {'upc': {'query': '\"886973561621\"', 'boost': '17'}}}, {'match': {'upc': {'query': '\"023272341381\"', 'boost': '16'}}}, {'match': {'upc': {'query': '\"030206742121\"', 'boost': '14'}}}, {'match': {'upc': {'query': '\"885370332889\"', 'boost': '12'}}}, {'match': {'upc': {'query': '\"886111287055\"', 'boost': '8'}}}, {'match': {'upc': {'query': '\"883929106172\"', 'boost': '8'}}}]}}, 'size': 5, 'fields': ['upc', 'name', 'manufacturer', 'short_description', 'score'], 'sort': [{'_score': {'order': 'desc'}}, {'upc': {'order': 'asc'}}]}\n"
     ]
    },
    {
     "data": {
      "text/html": [
       "<div id=\"demo\">\n",
       "\t<center><input style=\"width:40%\" readonly type=\"text\" name=\"q\" value=\"\"star wars\"\">\n",
       "\t<input readonly type=\"submit\" value=\"Search\">\n",
       "\t</center>\n",
       "    <div class=\"results\">\n",
       "    \t\n",
       "\n",
       "    </div>\n",
       "</div>\n",
       "    \t<div style=\"position: relative; width: 100%; height:auto; overflow: auto;\">\n",
       "\t    \t<div style=\"position: relative; float:left; width: 120px; margin-top:5px\">\n",
       "\t    \t\t<img style=\"width:250px; height: auto; max-height:150px\" src=\"../../data/retrotech/images/400032015667.jpg\">\n",
       "\t    \t</div>\n",
       "\t    \t<div style=\"position:relative; float:left; clear:none; width: 80%; height:auto\">\n",
       "\t    \t\t<p style=\"font-size:24px; padding-left: 50px;\"><strong>\t\tName:</strong> Star Wars - The Complete Saga - Blu-ray Disc\n",
       "\t\t\t\t\t<br><strong>\t\tManufacturer:</strong> LucasFilm</p>\n",
       "\t    \t\t</p>\n",
       "\t    \t</div>\n",
       "    \t</div>\n",
       "    \t\n",
       "\t\t<div style=\"position:relative; clear:both; content: ' '; display: block; height: 1px; margin-top: 10px; margin-bottom:20px\">\n",
       "\t\t\t<hr style=\"color: gray; width: 95%;\" />\n",
       "\t\t</div>\n",
       "\t\t\n",
       "    \t<div style=\"position: relative; width: 100%; height:auto; overflow: auto;\">\n",
       "\t    \t<div style=\"position: relative; float:left; width: 120px; margin-top:5px\">\n",
       "\t    \t\t<img style=\"width:250px; height: auto; max-height:150px\" src=\"../../data/retrotech/images/883929154012.jpg\">\n",
       "\t    \t</div>\n",
       "\t    \t<div style=\"position:relative; float:left; clear:none; width: 80%; height:auto\">\n",
       "\t    \t\t<p style=\"font-size:24px; padding-left: 50px;\"><strong>\t\tName:</strong> Star Wars: The Clone Wars - The Complete Season Three [4 Discs] - DVD\n",
       "\t\t\t\t\t<br><strong>\t\tManufacturer:</strong> LucasFilm</p>\n",
       "\t    \t\t</p>\n",
       "\t    \t</div>\n",
       "    \t</div>\n",
       "    \t\n",
       "\t\t<div style=\"position:relative; clear:both; content: ' '; display: block; height: 1px; margin-top: 10px; margin-bottom:20px\">\n",
       "\t\t\t<hr style=\"color: gray; width: 95%;\" />\n",
       "\t\t</div>\n",
       "\t\t\n",
       "    \t<div style=\"position: relative; width: 100%; height:auto; overflow: auto;\">\n",
       "\t    \t<div style=\"position: relative; float:left; width: 120px; margin-top:5px\">\n",
       "\t    \t\t<img style=\"width:250px; height: auto; max-height:150px\" src=\"../../data/retrotech/images/708431390614.jpg\">\n",
       "\t    \t</div>\n",
       "\t    \t<div style=\"position:relative; float:left; clear:none; width: 80%; height:auto\">\n",
       "\t    \t\t<p style=\"font-size:24px; padding-left: 50px;\"><strong>\t\tName:</strong> LeapFrog - Leapster Explorer Learning Game: Star Wars The Clone Wars\n",
       "\t\t\t\t\t<br><strong>\t\tManufacturer:</strong> LeapFrog</p>\n",
       "\t    \t\t</p>\n",
       "\t    \t</div>\n",
       "    \t</div>\n",
       "    \t\n",
       "\t\t<div style=\"position:relative; clear:both; content: ' '; display: block; height: 1px; margin-top: 10px; margin-bottom:20px\">\n",
       "\t\t\t<hr style=\"color: gray; width: 95%;\" />\n",
       "\t\t</div>\n",
       "\t\t\n",
       "    \t<div style=\"position: relative; width: 100%; height:auto; overflow: auto;\">\n",
       "\t    \t<div style=\"position: relative; float:left; width: 120px; margin-top:5px\">\n",
       "\t    \t\t<img style=\"width:250px; height: auto; max-height:150px\" src=\"../../data/retrotech/images/886973561621.jpg\">\n",
       "\t    \t</div>\n",
       "\t    \t<div style=\"position:relative; float:left; clear:none; width: 80%; height:auto\">\n",
       "\t    \t\t<p style=\"font-size:24px; padding-left: 50px;\"><strong>\t\tName:</strong> Star Wars: The Clone War - Original Soundtrack - CD\n",
       "\t\t\t\t\t<br><strong>\t\tManufacturer:</strong> Sony Classics</p>\n",
       "\t    \t\t</p>\n",
       "\t    \t</div>\n",
       "    \t</div>\n",
       "    \t\n",
       "\t\t<div style=\"position:relative; clear:both; content: ' '; display: block; height: 1px; margin-top: 10px; margin-bottom:20px\">\n",
       "\t\t\t<hr style=\"color: gray; width: 95%;\" />\n",
       "\t\t</div>\n",
       "\t\t\n",
       "    \t<div style=\"position: relative; width: 100%; height:auto; overflow: auto;\">\n",
       "\t    \t<div style=\"position: relative; float:left; width: 120px; margin-top:5px\">\n",
       "\t    \t\t<img style=\"width:250px; height: auto; max-height:150px\" src=\"../../data/retrotech/images/unavailable.jpg\">\n",
       "\t    \t</div>\n",
       "\t    \t<div style=\"position:relative; float:left; clear:none; width: 80%; height:auto\">\n",
       "\t    \t\t<p style=\"font-size:24px; padding-left: 50px;\"><strong>\t\tName:</strong> Microsoft - Xbox 360 Console Limited Edition Kinect Star Wars Bundle\n",
       "\t\t\t\t\t<br><strong>\t\tManufacturer:</strong> Microsoft</p>\n",
       "\t    \t\t</p>\n",
       "\t    \t</div>\n",
       "    \t</div>\n",
       "    \t\n",
       "\t\t<div style=\"position:relative; clear:both; content: ' '; display: block; height: 1px; margin-top: 10px; margin-bottom:20px\">\n",
       "\t\t\t<hr style=\"color: gray; width: 95%;\" />\n",
       "\t\t</div>\n",
       "\t\t"
      ],
      "text/plain": [
       "<IPython.core.display.HTML object>"
      ]
     },
     "metadata": {},
     "output_type": "display_data"
    }
   ],
   "source": [
    "query = '\"star wars\"'\n",
    "\n",
    "boosted_request = boosted_product_search_request(query, anti_spam_collection)\n",
    "response = products_collection.search(**boosted_request)\n",
    "\n",
    "print(products_collection.transform_request(**boosted_request))\n",
    "display_product_search(query, response[\"docs\"])"
   ]
  },
  {
   "cell_type": "markdown",
   "metadata": {},
   "source": [
    "## Mixing multiple signal types"
   ]
  },
  {
   "cell_type": "markdown",
   "metadata": {},
   "source": [
    "### Listing 8.6"
   ]
  },
  {
   "cell_type": "code",
   "execution_count": 20,
   "metadata": {},
   "outputs": [
    {
     "name": "stdout",
     "output_type": "stream",
     "text": [
      "Aggregating Signals to Create Signals Boosts...\n",
      "Wiping \"signals_boosts_weighted_types\" collection\n",
      "Creating \"signals_boosts_weighted_types\" collection\n",
      "Successfully written 152252 documents\n",
      "Signals Aggregation Completed!\n"
     ]
    }
   ],
   "source": [
    "#One Signal per User - Anti-Spam\n",
    "#Sometimes needs rerunning\n",
    "mixed_signal_types_aggregation_query = \"\"\"\n",
    "SELECT query, doc, ((1 * click_boost) + (10 * add_to_cart_boost) +\n",
    "                    (25 * purchase_boost)) AS boost FROM (\n",
    "  SELECT query, doc, \n",
    "    SUM(click) AS click_boost,\n",
    "    SUM(add_to_cart) AS add_to_cart_boost,\n",
    "    SUM(purchase) AS purchase_boost FROM (  \n",
    "      SELECT lower(q.target) AS query, cap.target AS doc, \n",
    "        IF(cap.type = 'click', 1, 0) AS click, \n",
    "        IF(cap.type = 'add-to-cart', 1, 0) AS  add_to_cart, \n",
    "        IF(cap.type = 'purchase', 1, 0) AS purchase\n",
    "      FROM signals cap LEFT JOIN signals q on cap.query_id = q.query_id\n",
    "      WHERE (cap.type != 'query' AND q.type = 'query')\n",
    "    ) AS raw_signals\n",
    "  GROUP BY query, doc) AS per_type_boosts\"\"\"\n",
    "\n",
    "type_weighted_collection = \\\n",
    "  aggregate_signals(signals_collection, \"signals_boosts_weighted_types\",\n",
    "                    mixed_signal_types_aggregation_query)"
   ]
  },
  {
   "cell_type": "markdown",
   "metadata": {},
   "source": [
    "## Time Decay"
   ]
  },
  {
   "cell_type": "markdown",
   "metadata": {},
   "source": [
    "### Listing 8.7"
   ]
  },
  {
   "cell_type": "code",
   "execution_count": 25,
   "metadata": {},
   "outputs": [
    {
     "data": {
      "text/plain": [
       "[Row(query='ipad', doc='885909457588', boost=393.7375135481846),\n",
       " Row(query='lcd tv', doc='036725236271', boost=364.57892510395516),\n",
       " Row(query='iphone 4s', doc='885909459858', boost=347.4873882802623),\n",
       " Row(query='iphone 4s', doc='885909459834', boost=285.35705083623367),\n",
       " Row(query='captain america', doc='097361538242', boost=284.36415802958675),\n",
       " Row(query='kindle fire', doc='814916014385', boost=239.07170669010782),\n",
       " Row(query='ipod touch', doc='885909394845', boost=229.54563849686693),\n",
       " Row(query='captain america', doc='097361538341', boost=221.69731691601507),\n",
       " Row(query='ipod', doc='885909394845', boost=206.729516965349),\n",
       " Row(query='kindle', doc='814916014361', boost=205.64119798194162)]"
      ]
     },
     "metadata": {},
     "output_type": "display_data"
    },
    {
     "name": "stdout",
     "output_type": "stream",
     "text": [
      "Aggregating Signals to Create Signals Boosts...\n",
      "Wiping \"signals_boosts_time_weighted\" collection\n",
      "Creating \"signals_boosts_time_weighted\" collection\n",
      "Successfully written 152251 documents\n",
      "Signals Aggregation Completed!\n"
     ]
    }
   ],
   "source": [
    "half_life_days = 30\n",
    "target_date = \"2020-06-01\" #date of latest signal in our dataset. In live system use now().\n",
    "signal_weight = 1 #can make this a function to differentiate weights for different signal types\n",
    "\"\"\n",
    "time_decay_aggregation = f\"\"\"\n",
    "SELECT query, doc, SUM(time_weighted_signals.time_weighted_boost) AS boost FROM (\n",
    "  SELECT user, query, doc,\n",
    "  {signal_weight} * POW(0.5, (DATEDIFF('{target_date}', raw_signals.t) / {half_life_days}))\n",
    "  AS time_weighted_boost FROM (\n",
    "    SELECT c.user AS user, lower(q.target) AS query, c.target AS doc,\n",
    "    MAX(c.signal_time) as t\n",
    "    FROM signals c LEFT JOIN signals q ON c.query_id = q.query_id\n",
    "    WHERE c.type = 'click' AND q.type = 'query'\n",
    "          AND c.signal_time <= '{target_date}'\n",
    "    GROUP BY c.user, q.target, c.target\n",
    "  ) AS raw_signals \n",
    ") AS time_weighted_signals\n",
    "GROUP BY query, doc\n",
    "ORDER BY boost DESC\"\"\"\n",
    "df = from_sql(time_decay_aggregation)\n",
    "display(df.head(10))\n",
    "time_weighted_collection = \\\n",
    "    aggregate_signals(signals_collection, \"signals_boosts_time_weighted\", \n",
    "                      time_decay_aggregation)"
   ]
  },
  {
   "cell_type": "code",
   "execution_count": 26,
   "metadata": {
    "scrolled": true
   },
   "outputs": [
    {
     "name": "stdout",
     "output_type": "stream",
     "text": [
      "Search Request:\n",
      "{\n",
      "  \"query\": {\n",
      "    \"bool\": {\n",
      "      \"must\": [\n",
      "        {\n",
      "          \"query_string\": {\n",
      "            \"query\": \"\\\"star wars\\\"\",\n",
      "            \"boost\": 0.454545454,\n",
      "            \"default_operator\": \"OR\",\n",
      "            \"fields\": [\n",
      "              \"query\"\n",
      "            ]\n",
      "          }\n",
      "        }\n",
      "      ]\n",
      "    }\n",
      "  },\n",
      "  \"size\": 20,\n",
      "  \"fields\": [\n",
      "    \"query\",\n",
      "    \"doc\",\n",
      "    \"boost\"\n",
      "  ],\n",
      "  \"sort\": [\n",
      "    {\n",
      "      \"boost\": {\n",
      "        \"order\": \"desc\"\n",
      "      }\n",
      "    }\n",
      "  ]\n",
      "}\n",
      "Boost Documents:\n"
     ]
    },
    {
     "data": {
      "text/plain": [
       "[{'query': 'star wars',\n",
       "  'doc': '024543742180',\n",
       "  'boost': 50.27564958868423,\n",
       "  'id': 'jsectJIBW2gjtvig-XDg',\n",
       "  'score': None},\n",
       " {'query': 'star wars',\n",
       "  'doc': '023272342654',\n",
       "  'boost': 14.38608117522819,\n",
       "  'id': 'b8ectJIBW2gjtvig-5QM',\n",
       "  'score': None},\n",
       " {'query': 'star wars',\n",
       "  'doc': '883929154012',\n",
       "  'boost': 10.22196625832087,\n",
       "  'id': 'oMectJIBW2gjtvig-5yZ',\n",
       "  'score': None},\n",
       " {'query': 'star wars',\n",
       "  'doc': '024543742074',\n",
       "  'boost': 10.97870811313978,\n",
       "  'id': 'mcectJIBW2gjtvig-5uZ',\n",
       "  'score': None},\n",
       " {'query': 'star wars',\n",
       "  'doc': '023272342630',\n",
       "  'boost': 8.08610476717647,\n",
       "  'id': 'x8ectJIBW2gjtvig_Lcq',\n",
       "  'score': None},\n",
       " {'query': 'star wars',\n",
       "  'doc': '886973561621',\n",
       "  'boost': 7.196654524422255,\n",
       "  'id': '18ectJIBW2gjtvig_Lkq',\n",
       "  'score': None},\n",
       " {'query': 'star wars',\n",
       "  'doc': '024543742098',\n",
       "  'boost': 6.411867877358414,\n",
       "  'id': 'UMectJIBW2gjtvig_dth',\n",
       "  'score': None},\n",
       " {'query': 'star wars',\n",
       "  'doc': '030206742121',\n",
       "  'boost': 6.0339109822265105,\n",
       "  'id': 'eMectJIBW2gjtvig_dxh',\n",
       "  'score': None},\n",
       " {'query': 'star wars',\n",
       "  'doc': '014633169546',\n",
       "  'boost': 5.732256133253928,\n",
       "  'id': 'hsectJIBW2gjtvig_d1i',\n",
       "  'score': None},\n",
       " {'query': 'star wars',\n",
       "  'doc': '708431390614',\n",
       "  'boost': 5.200090923395828,\n",
       "  'id': 'VsectJIBW2gjtvig_e-s',\n",
       "  'score': None},\n",
       " {'query': 'star wars',\n",
       "  'doc': '024543559856',\n",
       "  'boost': 4.79595089562249,\n",
       "  'id': '_8ectJIBW2gjtvig_fCs',\n",
       "  'score': None},\n",
       " {'query': 'star wars',\n",
       "  'doc': '023272341381',\n",
       "  'boost': 2.9199459597275252,\n",
       "  'id': 'jMictJIBW2gjtvig_j93',\n",
       "  'score': None},\n",
       " {'query': 'star wars',\n",
       "  'doc': '886971404722',\n",
       "  'boost': 2.244924096618746,\n",
       "  'id': 'KMictJIBW2gjtvig_mvI',\n",
       "  'score': None},\n",
       " {'query': 'star wars',\n",
       "  'doc': '014633169522',\n",
       "  'boost': 2.2727988663619274,\n",
       "  'id': 'osictJIBW2gjtvig_mrI',\n",
       "  'score': None},\n",
       " {'query': 'star wars',\n",
       "  'doc': '024543560067',\n",
       "  'boost': 1.6538835179903377,\n",
       "  'id': '98ictJIBW2gjtvig_6Ar',\n",
       "  'score': None},\n",
       " {'query': 'star wars',\n",
       "  'doc': '400032015667',\n",
       "  'boost': 1.4480483379761808,\n",
       "  'id': 'msictJIBW2gjtvig_7lJ',\n",
       "  'score': None},\n",
       " {'query': 'star wars',\n",
       "  'doc': '097361455143',\n",
       "  'boost': 0.006801176275750969,\n",
       "  'id': 'ocectJIBW2gjtvig_K0Y',\n",
       "  'score': None},\n",
       " {'query': 'star wars',\n",
       "  'doc': '602527813943',\n",
       "  'boost': 0.005653395458751476,\n",
       "  'id': 'tcectJIBW2gjtvig_euk',\n",
       "  'score': None},\n",
       " {'query': 'star wars',\n",
       "  'doc': '883929058945',\n",
       "  'boost': 0.005524271728019902,\n",
       "  'id': 'P8ictJIBW2gjtvig_QHe',\n",
       "  'score': None},\n",
       " {'query': 'star wars',\n",
       "  'doc': '023272341619',\n",
       "  'boost': 0.005524271728019902,\n",
       "  'id': 'ecictJIBW2gjtvig_QHe',\n",
       "  'score': None}]"
      ]
     },
     "metadata": {},
     "output_type": "display_data"
    },
    {
     "name": "stdout",
     "output_type": "stream",
     "text": [
      "\n",
      "Boost Query: \n",
      "\"024543742180\"^50.27564958868423 \"023272342654\"^14.38608117522819 \"883929154012\"^10.22196625832087 \"024543742074\"^10.97870811313978 \"023272342630\"^8.08610476717647 \"886973561621\"^7.196654524422255 \"024543742098\"^6.411867877358414 \"030206742121\"^6.0339109822265105 \"014633169546\"^5.732256133253928 \"708431390614\"^5.200090923395828 \"024543559856\"^4.79595089562249 \"023272341381\"^2.9199459597275252 \"886971404722\"^2.244924096618746 \"014633169522\"^2.2727988663619274 \"024543560067\"^1.6538835179903377 \"400032015667\"^1.4480483379761808 \"097361455143\"^0.006801176275750969 \"602527813943\"^0.005653395458751476 \"883929058945\"^0.005524271728019902 \"023272341619\"^0.005524271728019902\n",
      "\n",
      "{'query': {'bool': {'must': [{'query_string': {'query': '\"star wars\"', 'boost': 0.454545454, 'default_operator': 'OR', 'fields': ['name', 'manufacturer', 'long_description']}}], 'should': [{'match': {'upc': {'query': '\"024543742180\"', 'boost': '50.27564958868423'}}}, {'match': {'upc': {'query': '\"023272342654\"', 'boost': '14.38608117522819'}}}, {'match': {'upc': {'query': '\"883929154012\"', 'boost': '10.22196625832087'}}}, {'match': {'upc': {'query': '\"024543742074\"', 'boost': '10.97870811313978'}}}, {'match': {'upc': {'query': '\"023272342630\"', 'boost': '8.08610476717647'}}}, {'match': {'upc': {'query': '\"886973561621\"', 'boost': '7.196654524422255'}}}, {'match': {'upc': {'query': '\"024543742098\"', 'boost': '6.411867877358414'}}}, {'match': {'upc': {'query': '\"030206742121\"', 'boost': '6.0339109822265105'}}}, {'match': {'upc': {'query': '\"014633169546\"', 'boost': '5.732256133253928'}}}, {'match': {'upc': {'query': '\"708431390614\"', 'boost': '5.200090923395828'}}}, {'match': {'upc': {'query': '\"024543559856\"', 'boost': '4.79595089562249'}}}, {'match': {'upc': {'query': '\"023272341381\"', 'boost': '2.9199459597275252'}}}, {'match': {'upc': {'query': '\"886971404722\"', 'boost': '2.244924096618746'}}}, {'match': {'upc': {'query': '\"014633169522\"', 'boost': '2.2727988663619274'}}}, {'match': {'upc': {'query': '\"024543560067\"', 'boost': '1.6538835179903377'}}}, {'match': {'upc': {'query': '\"400032015667\"', 'boost': '1.4480483379761808'}}}, {'match': {'upc': {'query': '\"097361455143\"', 'boost': '0.006801176275750969'}}}, {'match': {'upc': {'query': '\"602527813943\"', 'boost': '0.005653395458751476'}}}, {'match': {'upc': {'query': '\"883929058945\"', 'boost': '0.005524271728019902'}}}, {'match': {'upc': {'query': '\"023272341619\"', 'boost': '0.005524271728019902'}}}]}}, 'size': 5, 'fields': ['upc', 'name', 'manufacturer', 'short_description', 'score'], 'sort': [{'_score': {'order': 'desc'}}, {'upc': {'order': 'asc'}}]}\n"
     ]
    },
    {
     "data": {
      "text/html": [
       "<div id=\"demo\">\n",
       "\t<center><input style=\"width:40%\" readonly type=\"text\" name=\"q\" value=\"\"star wars\"\">\n",
       "\t<input readonly type=\"submit\" value=\"Search\">\n",
       "\t</center>\n",
       "    <div class=\"results\">\n",
       "    \t\n",
       "\n",
       "    </div>\n",
       "</div>\n",
       "    \t<div style=\"position: relative; width: 100%; height:auto; overflow: auto;\">\n",
       "\t    \t<div style=\"position: relative; float:left; width: 120px; margin-top:5px\">\n",
       "\t    \t\t<img style=\"width:250px; height: auto; max-height:150px\" src=\"../../data/retrotech/images/883929154012.jpg\">\n",
       "\t    \t</div>\n",
       "\t    \t<div style=\"position:relative; float:left; clear:none; width: 80%; height:auto\">\n",
       "\t    \t\t<p style=\"font-size:24px; padding-left: 50px;\"><strong>\t\tName:</strong> Star Wars: The Clone Wars - The Complete Season Three [4 Discs] - DVD\n",
       "\t\t\t\t\t<br><strong>\t\tManufacturer:</strong> LucasFilm</p>\n",
       "\t    \t\t</p>\n",
       "\t    \t</div>\n",
       "    \t</div>\n",
       "    \t\n",
       "\t\t<div style=\"position:relative; clear:both; content: ' '; display: block; height: 1px; margin-top: 10px; margin-bottom:20px\">\n",
       "\t\t\t<hr style=\"color: gray; width: 95%;\" />\n",
       "\t\t</div>\n",
       "\t\t\n",
       "    \t<div style=\"position: relative; width: 100%; height:auto; overflow: auto;\">\n",
       "\t    \t<div style=\"position: relative; float:left; width: 120px; margin-top:5px\">\n",
       "\t    \t\t<img style=\"width:250px; height: auto; max-height:150px\" src=\"../../data/retrotech/images/886973561621.jpg\">\n",
       "\t    \t</div>\n",
       "\t    \t<div style=\"position:relative; float:left; clear:none; width: 80%; height:auto\">\n",
       "\t    \t\t<p style=\"font-size:24px; padding-left: 50px;\"><strong>\t\tName:</strong> Star Wars: The Clone War - Original Soundtrack - CD\n",
       "\t\t\t\t\t<br><strong>\t\tManufacturer:</strong> Sony Classics</p>\n",
       "\t    \t\t</p>\n",
       "\t    \t</div>\n",
       "    \t</div>\n",
       "    \t\n",
       "\t\t<div style=\"position:relative; clear:both; content: ' '; display: block; height: 1px; margin-top: 10px; margin-bottom:20px\">\n",
       "\t\t\t<hr style=\"color: gray; width: 95%;\" />\n",
       "\t\t</div>\n",
       "\t\t\n",
       "    \t<div style=\"position: relative; width: 100%; height:auto; overflow: auto;\">\n",
       "\t    \t<div style=\"position: relative; float:left; width: 120px; margin-top:5px\">\n",
       "\t    \t\t<img style=\"width:250px; height: auto; max-height:150px\" src=\"../../data/retrotech/images/708431390614.jpg\">\n",
       "\t    \t</div>\n",
       "\t    \t<div style=\"position:relative; float:left; clear:none; width: 80%; height:auto\">\n",
       "\t    \t\t<p style=\"font-size:24px; padding-left: 50px;\"><strong>\t\tName:</strong> LeapFrog - Leapster Explorer Learning Game: Star Wars The Clone Wars\n",
       "\t\t\t\t\t<br><strong>\t\tManufacturer:</strong> LeapFrog</p>\n",
       "\t    \t\t</p>\n",
       "\t    \t</div>\n",
       "    \t</div>\n",
       "    \t\n",
       "\t\t<div style=\"position:relative; clear:both; content: ' '; display: block; height: 1px; margin-top: 10px; margin-bottom:20px\">\n",
       "\t\t\t<hr style=\"color: gray; width: 95%;\" />\n",
       "\t\t</div>\n",
       "\t\t\n",
       "    \t<div style=\"position: relative; width: 100%; height:auto; overflow: auto;\">\n",
       "\t    \t<div style=\"position: relative; float:left; width: 120px; margin-top:5px\">\n",
       "\t    \t\t<img style=\"width:250px; height: auto; max-height:150px\" src=\"../../data/retrotech/images/886971404722.jpg\">\n",
       "\t    \t</div>\n",
       "\t    \t<div style=\"position:relative; float:left; clear:none; width: 80%; height:auto\">\n",
       "\t    \t\t<p style=\"font-size:24px; padding-left: 50px;\"><strong>\t\tName:</strong> Star Wars: The Corellian Edition [DSD CD] - CD\n",
       "\t\t\t\t\t<br><strong>\t\tManufacturer:</strong> Sony Music Distribution (USA)</p>\n",
       "\t    \t\t</p>\n",
       "\t    \t</div>\n",
       "    \t</div>\n",
       "    \t\n",
       "\t\t<div style=\"position:relative; clear:both; content: ' '; display: block; height: 1px; margin-top: 10px; margin-bottom:20px\">\n",
       "\t\t\t<hr style=\"color: gray; width: 95%;\" />\n",
       "\t\t</div>\n",
       "\t\t\n",
       "    \t<div style=\"position: relative; width: 100%; height:auto; overflow: auto;\">\n",
       "\t    \t<div style=\"position: relative; float:left; width: 120px; margin-top:5px\">\n",
       "\t    \t\t<img style=\"width:250px; height: auto; max-height:150px\" src=\"../../data/retrotech/images/400032015667.jpg\">\n",
       "\t    \t</div>\n",
       "\t    \t<div style=\"position:relative; float:left; clear:none; width: 80%; height:auto\">\n",
       "\t    \t\t<p style=\"font-size:24px; padding-left: 50px;\"><strong>\t\tName:</strong> Star Wars - The Complete Saga - Blu-ray Disc\n",
       "\t\t\t\t\t<br><strong>\t\tManufacturer:</strong> LucasFilm</p>\n",
       "\t    \t\t</p>\n",
       "\t    \t</div>\n",
       "    \t</div>\n",
       "    \t\n",
       "\t\t<div style=\"position:relative; clear:both; content: ' '; display: block; height: 1px; margin-top: 10px; margin-bottom:20px\">\n",
       "\t\t\t<hr style=\"color: gray; width: 95%;\" />\n",
       "\t\t</div>\n",
       "\t\t"
      ],
      "text/plain": [
       "<IPython.core.display.HTML object>"
      ]
     },
     "metadata": {},
     "output_type": "display_data"
    }
   ],
   "source": [
    "query = '\"star wars\"'\n",
    "\n",
    "boosted_request = boosted_product_search_request(query, time_weighted_collection)\n",
    "print(products_collection.transform_request(**boosted_request))\n",
    "\n",
    "response = products_collection.search(**boosted_request)\n",
    "display_product_search(query, response[\"docs\"])"
   ]
  },
  {
   "cell_type": "markdown",
   "metadata": {},
   "source": [
    "## Index-time Signals Boosting"
   ]
  },
  {
   "cell_type": "code",
   "execution_count": 41,
   "metadata": {},
   "outputs": [
    {
     "name": "stdout",
     "output_type": "stream",
     "text": [
      "Loading Products\n",
      "Schema: \n",
      "root\n",
      " |-- upc: string (nullable = true)\n",
      " |-- name: string (nullable = true)\n",
      " |-- manufacturer: string (nullable = true)\n",
      " |-- short_description: string (nullable = true)\n",
      " |-- long_description: string (nullable = true)\n",
      "\n",
      "Successfully written 48194 documents\n"
     ]
    }
   ],
   "source": [
    "from aips.data_loaders.products import load_dataframe\n",
    "\n",
    "#Create collection with index-time signals boosts field\n",
    "boosted_products_collection = engine.get_collection(\"products_with_signals_boosts\")\n",
    "boosted_products_collection.write(load_dataframe(\"data/retrotech/products.csv\"))\n",
    "boosted_products_collection = \\\n",
    "    engine.get_collection(\"products_with_signals_boosts\")"
   ]
  },
  {
   "cell_type": "code",
   "execution_count": 42,
   "metadata": {},
   "outputs": [],
   "source": [
    "boosted_products_collection = \\\n",
    "    engine.get_collection(\"products_with_signals_boosts\")\n",
    "create_view_from_collection(boosted_products_collection,\n",
    "                       boosted_products_collection.name)"
   ]
  },
  {
   "cell_type": "markdown",
   "metadata": {},
   "source": [
    "### Listing 8.8"
   ]
  },
  {
   "cell_type": "code",
   "execution_count": 43,
   "metadata": {},
   "outputs": [
    {
     "data": {
      "text/plain": [
       "[Row(_text_=None, has_promotion=None, long_description='SynopsisThe manager calls your name as you sit at the end of the dugout. You hop up and rush up to him. \"You\\'re going in,\" he says as he pats you on the back. Grabbing your bat and helmet, you walk up the steps and your heart starts to race. The crowd is loud and the stadium is shaking. Trying to remain calm, you take a few swings of the bat to warm up. Bottom of the ninth, runners on second and third, two outs and down by one &#x97; you are the last hope. You barely have time to get comfortable in the box when a fastball smokes past you and into the catcher\\'s mitt. Strike one. You take a breath, flex your hands on the bat and peer into the pitcher. He winds up and hurls the ball toward the plate. Seeing the tiny red dot of the stitches coming toward you, you realize this is a fastball. The crack of the bat echoes throughout the stadium as you watch the ball sail through the air and over the fence for a home run. Not bad for your first at-bat in The Show.  Do you think you have what it takes to be a legendary five-tool player in the major leagues? Put your skills to the test in MLB 11: The Show. Will you be able to rise to the big leagues and make it all the way to Cooperstown, or will you become a minor-league hero? The all-new Road to the Show mode lets you see if you have the bat speed to keep up with the boys of summer. This time, fresh rosters and new stadiums keep you on the ball with the latest in all things Major Leagues. Ignite old rivalries for a little classic American competition, and own the plate with the ability to use a personalized batting stance. The highest-rated baseball franchise is back &#x97; it\\'s up to you to drive in the winning run.', manufacturer='Sony Computer Entertainment America', name='MLB 11: The Show - PlayStation 2', short_description='The highest-rated baseball franchise is back', signals_boosts=None, upc='711719765721', signals_boosts='turntable|1,mlb 11 the show|1,mlb the show|1'),\n",
       " Row(_text_=None, has_promotion=None, long_description='Listen to your favorite songs with these earbud headphones that feature twin vents to balance high tones and bass response for clear, crisp audio. The Flexi-Grip design provides durability.', manufacturer='Philips', name='Philips - Earbud Headphones - Black', short_description='Twin vents; Flexi-Grip design; 13.5mm drivers; neodymium magnets', signals_boosts=None, upc='609585168985', signals_boosts='philips|13,phillips|6,philips headphones|2,headphones|2'),\n",
       " Row(_text_=None, has_promotion=None, long_description=None, manufacturer=None, name='Claymore: The Complete Series [6 Discs] - Box - DVD', short_description=None, signals_boosts=None, upc='704400074479', signals_boosts='claymore|2'),\n",
       " Row(_text_=None, has_promotion=None, long_description=None, manufacturer='Epic (USA)', name='Black Rain (Limited Edition) (Tick) - CD', short_description=None, signals_boosts=None, upc='886970533423', signals_boosts='ozzy osbourne|1,ozzy|3'),\n",
       " Row(_text_=None, has_promotion=None, long_description=\"This case doubles as a viewing stand with various tilt angles and can be secured shut by an elastic strap. The play-through design allows easy access to your iPad's buttons, interfaces and cameras.\", manufacturer='Moshi', name='Moshi - Concerti Case for Apple&#xAE; iPad&#xAE; 2 - Sahara Beige', short_description='Compatible with Apple&#xAE; iPad&#xAE; 2; microfiber and silicon materials; integrated hand pocket; turns into a stand', signals_boosts=None, upc='4712052312036', signals_boosts='ipad 2 case|1'),\n",
       " Row(_text_=None, has_promotion=None, long_description=\"SynopsisEvery summer you've gone to the movies and watched the big action heroes battle the bad guys with explosive scenes, unbelievable special effects and engaging dialogue. Now, you have your chance to play the role of the action hero with the Uncharted Greatest Hits Dual Pack. Step into the well-traveled, dirty shoes of Nathan Drake, a modern-day fortune hunter who is on the trail of the next great legendary treasure. Featuring intriguing characters, exotic locations, pulse-pounding action and cutting-edge cinematic presentations, you'll swear you're actually in a Hollywood blockbuster action movie.  Join Nathan Drake as he goes in search of fabled treasures around the world in the Uncharted Greatest Hits Dual Pack. Featuring Uncharted: Drake's Fortune and Uncharted 2: Among Thieves Game of the Year Edition, this collection puts you at the center of thrilling adventures, adrenaline-pumping action and more right on your PlayStation 3. Embark on an adventure in search of the famed treasure of El Dorado after discovering a 400-year old clue in the coffin of Sir Francis Drake in Uncharted: Drake's Fortune. Then, travel to the Himalayan valley of Shambhala as you square off against a fugitive war criminal who is after much more than the legendary riches of the lost city in Uncharted 2: Among Thieves. With more than 200 Game of the Year Awards won, the Uncharted franchise lets you live the action hero experience right in your home.\", manufacturer='Sony Computer Entertainment America', name='Uncharted Greatest Hits Dual Pack - PlayStation 3', short_description=\"Experience what it's like to play through a summer blockbuster movie\", signals_boosts=None, upc='711719837527', signals_boosts='uncharted|73,ico|1,computer|1,playstation 3|4,dual|3,unchartered|3,keurig|1,hdmi|1,vga cable|1,xbox 360|1,t-mobile|1,uncharted 3|11,uncharted dual pack|9,iphone|1,xoom|1,ps3|6,games|2,god of war origins|1,desktop|1'),\n",
       " Row(_text_=None, has_promotion=None, long_description='Illuminate your face while applying your makeup with this mirror that features a precise blend of light wavelengths for natural lighting.', manufacturer='OttLite', name='OttLite - 26W Dual-Sided Makeup Mirror - Black', short_description='Blends light wavelengths; OttLite 508 Illumination technology; 2-sided', signals_boosts=None, upc='761712005706', signals_boosts='dvd case|1,tripod|1,dual|8,speaker stand|1,kodak easyshare|1'),\n",
       " Row(_text_=None, has_promotion=None, long_description='This guitar sheet music includes note-for-note transcriptions with tab for 10 songs by Avenged Sevenfold, including the hit single Almost Easy.', manufacturer='Hal Leonard', name='Hal Leonard - Avenged Sevenfold: Guitar Sheet Music', short_description='From our expanded online assortment; guitar sheet music for 10 songs with tab by Avenged Sevenfold', signals_boosts=None, upc='884088205614', signals_boosts='avenged sevenfold|2'),\n",
       " Row(_text_=None, has_promotion=None, long_description='This 16GB JumpDrive features a capless retractable design to help guard your drive against damage. The LED activity light indicates when files are securely transferred.', manufacturer='Lexar', name='Lexar - Retrax 16GB USB 2.0 JumpDrive', short_description='For PC and Mac; capless retractable case; LED activity light', signals_boosts=None, upc='650590152537', signals_boosts='16gb flash drive|1'),\n",
       " Row(_text_=None, has_promotion=None, long_description=None, manufacturer=None, name='The Tempest - Widescreen AC3 Dolby - Blu-ray Disc', short_description=None, signals_boosts=None, upc='786936811681', signals_boosts='the tempest|6')]"
      ]
     },
     "metadata": {},
     "output_type": "display_data"
    }
   ],
   "source": [
    "normalized_collection = engine.get_collection(\"normalized_signals_boosts\")\n",
    "create_view_from_collection(normalized_collection,\n",
    "                       normalized_collection.name)\n",
    "create_view_from_collection(boosted_products_collection,\n",
    "                       boosted_products_collection.name)\n",
    "\n",
    "#insert all keywords with signals boosts for this document into a new \"signals_boosts\" field\n",
    "boosts_query = f\"\"\"\n",
    "SELECT p.*, b.signals_boosts FROM (\n",
    "    SELECT doc, CONCAT_WS(',', COLLECT_LIST(CONCAT(query, '|', boost)))\n",
    "    AS signals_boosts FROM {normalized_collection.name} GROUP BY doc\n",
    ") b INNER JOIN {boosted_products_collection.name} p ON p.upc = b.doc\"\"\"\n",
    "df = from_sql(boosts_query)\n",
    "display(df.head(10))\n",
    "#save the products back to the products collection, with the updated signals boosts added\n",
    "#boosted_products_collection.write(from_sql(boosts_query))"
   ]
  },
  {
   "cell_type": "markdown",
   "metadata": {},
   "source": [
    "## Index-time Signals Boosting Query"
   ]
  },
  {
   "cell_type": "markdown",
   "metadata": {},
   "source": [
    "### Listing 8.9"
   ]
  },
  {
   "cell_type": "code",
   "execution_count": 44,
   "metadata": {},
   "outputs": [],
   "source": [
    "def get_boosted_search_request(query, boost_field):\n",
    "    request = product_search_request(query)\n",
    "    request[\"index_time_boost\"] = (boost_field, query)\n",
    "    return request"
   ]
  },
  {
   "cell_type": "code",
   "execution_count": 48,
   "metadata": {},
   "outputs": [
    {
     "data": {
      "text/plain": [
       "{'query': 'ipad',\n",
       " 'query_fields': ['name', 'manufacturer', 'long_description'],\n",
       " 'return_fields': ['upc',\n",
       "  'name',\n",
       "  'manufacturer',\n",
       "  'short_description',\n",
       "  'score'],\n",
       " 'limit': 5,\n",
       " 'order_by': [('score', 'desc'), ('upc', 'asc')],\n",
       " 'index_time_boost': ('signals_boosts', 'ipad')}"
      ]
     },
     "metadata": {},
     "output_type": "display_data"
    },
    {
     "ename": "KeyError",
     "evalue": "'params'",
     "output_type": "error",
     "traceback": [
      "\u001b[0;31m---------------------------------------------------------------------------\u001b[0m",
      "\u001b[0;31mKeyError\u001b[0m                                  Traceback (most recent call last)",
      "Cell \u001b[0;32mIn[48], line 4\u001b[0m\n\u001b[1;32m      2\u001b[0m boosted_query \u001b[38;5;241m=\u001b[39m get_boosted_search_request(query, \u001b[38;5;124m\"\u001b[39m\u001b[38;5;124msignals_boosts\u001b[39m\u001b[38;5;124m\"\u001b[39m)\n\u001b[1;32m      3\u001b[0m display(boosted_query)\n\u001b[0;32m----> 4\u001b[0m response \u001b[38;5;241m=\u001b[39m \u001b[43mboosted_products_collection\u001b[49m\u001b[38;5;241;43m.\u001b[39;49m\u001b[43msearch\u001b[49m\u001b[43m(\u001b[49m\u001b[38;5;241;43m*\u001b[39;49m\u001b[38;5;241;43m*\u001b[39;49m\u001b[43mboosted_query\u001b[49m\u001b[43m,\u001b[49m\u001b[43m \u001b[49m\u001b[43mlog\u001b[49m\u001b[38;5;241;43m=\u001b[39;49m\u001b[38;5;28;43;01mTrue\u001b[39;49;00m\u001b[43m)\u001b[49m\n\u001b[1;32m      5\u001b[0m display_product_search(query, response[\u001b[38;5;124m\"\u001b[39m\u001b[38;5;124mdocs\u001b[39m\u001b[38;5;124m\"\u001b[39m])\n",
      "File \u001b[0;32m~/engines/opensearch/OpenSearchCollection.py:135\u001b[0m, in \u001b[0;36mOpenSearchCollection.search\u001b[0;34m(self, **search_args)\u001b[0m\n\u001b[1;32m    134\u001b[0m \u001b[38;5;28;01mdef\u001b[39;00m \u001b[38;5;21msearch\u001b[39m(\u001b[38;5;28mself\u001b[39m, \u001b[38;5;241m*\u001b[39m\u001b[38;5;241m*\u001b[39msearch_args):\n\u001b[0;32m--> 135\u001b[0m     request \u001b[38;5;241m=\u001b[39m \u001b[38;5;28;43mself\u001b[39;49m\u001b[38;5;241;43m.\u001b[39;49m\u001b[43mtransform_request\u001b[49m\u001b[43m(\u001b[49m\u001b[38;5;241;43m*\u001b[39;49m\u001b[38;5;241;43m*\u001b[39;49m\u001b[43msearch_args\u001b[49m\u001b[43m)\u001b[49m\n\u001b[1;32m    136\u001b[0m     search_response \u001b[38;5;241m=\u001b[39m \u001b[38;5;28mself\u001b[39m\u001b[38;5;241m.\u001b[39mnative_search(request\u001b[38;5;241m=\u001b[39mrequest)\n\u001b[1;32m    137\u001b[0m     \u001b[38;5;28;01mreturn\u001b[39;00m \u001b[38;5;28mself\u001b[39m\u001b[38;5;241m.\u001b[39mtransform_response(search_response)\n",
      "File \u001b[0;32m~/engines/opensearch/OpenSearchCollection.py:101\u001b[0m, in \u001b[0;36mOpenSearchCollection.transform_request\u001b[0;34m(self, **search_args)\u001b[0m\n\u001b[1;32m     99\u001b[0m     request[\u001b[38;5;124m\"\u001b[39m\u001b[38;5;124mparams\u001b[39m\u001b[38;5;124m\"\u001b[39m][\u001b[38;5;124m\"\u001b[39m\u001b[38;5;124mmm\u001b[39m\u001b[38;5;124m\"\u001b[39m] \u001b[38;5;241m=\u001b[39m value\n\u001b[1;32m    100\u001b[0m \u001b[38;5;28;01mcase\u001b[39;00m \u001b[38;5;124m\"\u001b[39m\u001b[38;5;124mindex_time_boost\u001b[39m\u001b[38;5;124m\"\u001b[39m:\n\u001b[0;32m--> 101\u001b[0m     \u001b[43mrequest\u001b[49m\u001b[43m[\u001b[49m\u001b[38;5;124;43m\"\u001b[39;49m\u001b[38;5;124;43mparams\u001b[39;49m\u001b[38;5;124;43m\"\u001b[39;49m\u001b[43m]\u001b[49m[\u001b[38;5;124m\"\u001b[39m\u001b[38;5;124mboost\u001b[39m\u001b[38;5;124m\"\u001b[39m] \u001b[38;5;241m=\u001b[39m \u001b[38;5;124mf\u001b[39m\u001b[38;5;124m'\u001b[39m\u001b[38;5;124mpayload(\u001b[39m\u001b[38;5;132;01m{\u001b[39;00mvalue[\u001b[38;5;241m0\u001b[39m]\u001b[38;5;132;01m}\u001b[39;00m\u001b[38;5;124m, \u001b[39m\u001b[38;5;124m\"\u001b[39m\u001b[38;5;132;01m{\u001b[39;00mvalue[\u001b[38;5;241m1\u001b[39m]\u001b[38;5;132;01m}\u001b[39;00m\u001b[38;5;124m\"\u001b[39m\u001b[38;5;124m, 1, first)\u001b[39m\u001b[38;5;124m'\u001b[39m\n\u001b[1;32m    102\u001b[0m \u001b[38;5;28;01mcase\u001b[39;00m \u001b[38;5;124m\"\u001b[39m\u001b[38;5;124mexplain\u001b[39m\u001b[38;5;124m\"\u001b[39m:\n\u001b[1;32m    103\u001b[0m     request[\u001b[38;5;124m\"\u001b[39m\u001b[38;5;124mexplain\u001b[39m\u001b[38;5;124m\"\u001b[39m] \u001b[38;5;241m=\u001b[39m value\n",
      "\u001b[0;31mKeyError\u001b[0m: 'params'"
     ]
    }
   ],
   "source": [
    "query = \"ipad\"\n",
    "boosted_query = get_boosted_search_request(query, \"signals_boosts\")\n",
    "display(boosted_query)\n",
    "response = boosted_products_collection.search(**boosted_query, log=True)\n",
    "display_product_search(query, response[\"docs\"])"
   ]
  },
  {
   "cell_type": "markdown",
   "metadata": {},
   "source": [
    "Up next: Chapter 9 - [Personalized Search](../ch09/1.personalization.ipynb)"
   ]
  }
 ],
 "metadata": {
  "kernelspec": {
   "display_name": "Python 3 (ipykernel)",
   "language": "python",
   "name": "python3"
  },
  "language_info": {
   "codemirror_mode": {
    "name": "ipython",
    "version": 3
   },
   "file_extension": ".py",
   "mimetype": "text/x-python",
   "name": "python",
   "nbconvert_exporter": "python",
   "pygments_lexer": "ipython3",
   "version": "3.10.9"
  },
  "vscode": {
   "interpreter": {
    "hash": "31f2aee4e71d21fbe5cf8b01ff0e069b9275f58929596ceb00d14d90e3e16cd6"
   }
  }
 },
 "nbformat": 4,
 "nbformat_minor": 4
}
