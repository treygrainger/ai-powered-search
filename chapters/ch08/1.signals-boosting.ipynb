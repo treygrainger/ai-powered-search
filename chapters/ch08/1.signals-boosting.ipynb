{
 "cells": [
  {
   "cell_type": "markdown",
   "metadata": {},
   "source": [
    "# [ Chapter 8 - Signals Boosting Models ]\n",
    "# Signals Boosting"
   ]
  },
  {
   "cell_type": "markdown",
   "metadata": {},
   "source": [
    "NOTE: This notebook depends upon the the Retrotech dataset. If you have any issues, please rerun the [Setting up the Retrotech Dataset](../ch04/1.setting-up-the-retrotech-dataset.ipynb) notebook."
   ]
  },
  {
   "cell_type": "code",
   "execution_count": 3,
   "metadata": {},
   "outputs": [],
   "source": [
    "from datetime import datetime\n",
    "from pyspark.sql import SparkSession\n",
    "\n",
    "from aips import display_product_search, get_engine, set_engine\n",
    "from aips.spark import create_view_from_collection\n",
    "from aips.spark.dataframe import from_sql\n",
    "\n",
    "spark = SparkSession.builder.appName(\"AIPS\").getOrCreate()\n",
    "set_engine(\"solr\")\n",
    "engine = get_engine()\n",
    "signals_collection = engine.get_collection(\"signals\")"
   ]
  },
  {
   "cell_type": "markdown",
   "metadata": {},
   "source": [
    "## Keyword Search with No Signals Boosting"
   ]
  },
  {
   "cell_type": "markdown",
   "metadata": {},
   "source": [
    "### Figure 8.1"
   ]
  },
  {
   "cell_type": "code",
   "execution_count": 4,
   "metadata": {},
   "outputs": [],
   "source": [
    "#%run chapters/ch04/1.setting-up-the-retrotech-dataset.ipynb"
   ]
  },
  {
   "cell_type": "code",
   "execution_count": 5,
   "metadata": {},
   "outputs": [],
   "source": [
    "# %load -s product_search_request aips/search_requests\n",
    "def product_search_request(query, param_overrides={}):\n",
    "    request = {\"query\": query,\n",
    "               \"query_fields\": [\"name\", \"manufacturer\", \"long_description\"],\n",
    "               \"return_fields\": [\"upc\", \"name\", \"manufacturer\",\n",
    "                                 \"short_description\", \"score\"],\n",
    "               \"limit\": 5,\n",
    "               \"order_by\": [(\"score\", \"desc\"), (\"upc\", \"asc\")]}\n",
    "    return request | param_overrides"
   ]
  },
  {
   "cell_type": "code",
   "execution_count": 6,
   "metadata": {},
   "outputs": [
    {
     "data": {
      "text/html": [
       "<div id=\"demo\">\n",
       "\t<center><input style=\"width:40%\" readonly type=\"text\" name=\"q\" value=\"ipad\">\n",
       "\t<input readonly type=\"submit\" value=\"Search\">\n",
       "\t</center>\n",
       "    <div class=\"results\">\n",
       "    \t\n",
       "\n",
       "    </div>\n",
       "</div>\n",
       "    \t<div style=\"position: relative; width: 100%; height:auto; overflow: auto;\">\n",
       "\t    \t<div style=\"position: relative; float:left; width: 120px; margin-top:5px\">\n",
       "\t    \t\t<img style=\"width:250px; height: auto; max-height:150px\" src=\"../../data/retrotech/images/400037252074.jpg\">\n",
       "\t    \t</div>\n",
       "\t    \t<div style=\"position:relative; float:left; clear:none; width: 80%; height:auto\">\n",
       "\t    \t\t<p style=\"font-size:24px; padding-left: 50px;\"><strong>\t\tName:</strong> iPad&#xAE; - Refurbished Digital A/V Adapter\n",
       "\t\t\t\t\t<br><strong>\t\tManufacturer:</strong> iPad&#xAE;</p>\n",
       "\t    \t\t</p>\n",
       "\t    \t</div>\n",
       "    \t</div>\n",
       "    \t\n",
       "\t\t<div style=\"position:relative; clear:both; content: ' '; display: block; height: 1px; margin-top: 10px; margin-bottom:20px\">\n",
       "\t\t\t<hr style=\"color: gray; width: 95%;\" />\n",
       "\t\t</div>\n",
       "\t\t\n",
       "    \t<div style=\"position: relative; width: 100%; height:auto; overflow: auto;\">\n",
       "\t    \t<div style=\"position: relative; float:left; width: 120px; margin-top:5px\">\n",
       "\t    \t\t<img style=\"width:250px; height: auto; max-height:150px\" src=\"../../data/retrotech/images/400037252258.jpg\">\n",
       "\t    \t</div>\n",
       "\t    \t<div style=\"position:relative; float:left; clear:none; width: 80%; height:auto\">\n",
       "\t    \t\t<p style=\"font-size:24px; padding-left: 50px;\"><strong>\t\tName:</strong> iPad&#xAE; - Refurbished USB Power Adapter\n",
       "\t\t\t\t\t<br><strong>\t\tManufacturer:</strong> iPad&#xAE;</p>\n",
       "\t    \t\t</p>\n",
       "\t    \t</div>\n",
       "    \t</div>\n",
       "    \t\n",
       "\t\t<div style=\"position:relative; clear:both; content: ' '; display: block; height: 1px; margin-top: 10px; margin-bottom:20px\">\n",
       "\t\t\t<hr style=\"color: gray; width: 95%;\" />\n",
       "\t\t</div>\n",
       "\t\t\n",
       "    \t<div style=\"position: relative; width: 100%; height:auto; overflow: auto;\">\n",
       "\t    \t<div style=\"position: relative; float:left; width: 120px; margin-top:5px\">\n",
       "\t    \t\t<img style=\"width:250px; height: auto; max-height:150px\" src=\"../../data/retrotech/images/400037252616.jpg\">\n",
       "\t    \t</div>\n",
       "\t    \t<div style=\"position:relative; float:left; clear:none; width: 80%; height:auto\">\n",
       "\t    \t\t<p style=\"font-size:24px; padding-left: 50px;\"><strong>\t\tName:</strong> iPad&#xAE; - Refurbished Dock Connector-to-VGA Adapter\n",
       "\t\t\t\t\t<br><strong>\t\tManufacturer:</strong> iPad&#xAE;</p>\n",
       "\t    \t\t</p>\n",
       "\t    \t</div>\n",
       "    \t</div>\n",
       "    \t\n",
       "\t\t<div style=\"position:relative; clear:both; content: ' '; display: block; height: 1px; margin-top: 10px; margin-bottom:20px\">\n",
       "\t\t\t<hr style=\"color: gray; width: 95%;\" />\n",
       "\t\t</div>\n",
       "\t\t\n",
       "    \t<div style=\"position: relative; width: 100%; height:auto; overflow: auto;\">\n",
       "\t    \t<div style=\"position: relative; float:left; width: 120px; margin-top:5px\">\n",
       "\t    \t\t<img style=\"width:250px; height: auto; max-height:150px\" src=\"../../data/retrotech/images/400037252890.jpg\">\n",
       "\t    \t</div>\n",
       "\t    \t<div style=\"position:relative; float:left; clear:none; width: 80%; height:auto\">\n",
       "\t    \t\t<p style=\"font-size:24px; padding-left: 50px;\"><strong>\t\tName:</strong> iPad&#xAE; - Refurbished Keyboard Dock\n",
       "\t\t\t\t\t<br><strong>\t\tManufacturer:</strong> iPad&#xAE;</p>\n",
       "\t    \t\t</p>\n",
       "\t    \t</div>\n",
       "    \t</div>\n",
       "    \t\n",
       "\t\t<div style=\"position:relative; clear:both; content: ' '; display: block; height: 1px; margin-top: 10px; margin-bottom:20px\">\n",
       "\t\t\t<hr style=\"color: gray; width: 95%;\" />\n",
       "\t\t</div>\n",
       "\t\t\n",
       "    \t<div style=\"position: relative; width: 100%; height:auto; overflow: auto;\">\n",
       "\t    \t<div style=\"position: relative; float:left; width: 120px; margin-top:5px\">\n",
       "\t    \t\t<img style=\"width:250px; height: auto; max-height:150px\" src=\"../../data/retrotech/images/400037253316.jpg\">\n",
       "\t    \t</div>\n",
       "\t    \t<div style=\"position:relative; float:left; clear:none; width: 80%; height:auto\">\n",
       "\t    \t\t<p style=\"font-size:24px; padding-left: 50px;\"><strong>\t\tName:</strong> iPad&#xAE; - Refurbished Digital Camera Connection Kit\n",
       "\t\t\t\t\t<br><strong>\t\tManufacturer:</strong> iPad&#xAE;</p>\n",
       "\t    \t\t</p>\n",
       "\t    \t</div>\n",
       "    \t</div>\n",
       "    \t\n",
       "\t\t<div style=\"position:relative; clear:both; content: ' '; display: block; height: 1px; margin-top: 10px; margin-bottom:20px\">\n",
       "\t\t\t<hr style=\"color: gray; width: 95%;\" />\n",
       "\t\t</div>\n",
       "\t\t"
      ],
      "text/plain": [
       "<IPython.core.display.HTML object>"
      ]
     },
     "metadata": {},
     "output_type": "display_data"
    }
   ],
   "source": [
    "products_collection = engine.get_collection(\"products\")\n",
    "query = \"ipad\"\n",
    "request = product_search_request(query)\n",
    "response = products_collection.search(**request)\n",
    "display_product_search(query, response[\"docs\"])"
   ]
  },
  {
   "cell_type": "markdown",
   "metadata": {},
   "source": [
    "## Create Signals Boosts (Signals Aggregation)"
   ]
  },
  {
   "cell_type": "markdown",
   "metadata": {},
   "source": [
    "### Basic Signals Boosting Model"
   ]
  },
  {
   "cell_type": "code",
   "execution_count": 7,
   "metadata": {},
   "outputs": [],
   "source": [
    "def aggregate_signals(signals_collection, collection_name, signals_agg_query):\n",
    "    print(\"Aggregating Signals to Create Signals Boosts...\")\n",
    "    create_view_from_collection(signals_collection, \"signals\")\n",
    "    collection = engine.create_collection(collection_name)\n",
    "    collection.write(from_sql(signals_agg_query))\n",
    "    collection.commit()\n",
    "    print(\"Signals Aggregation Completed!\")\n",
    "    return collection"
   ]
  },
  {
   "cell_type": "markdown",
   "metadata": {},
   "source": [
    "## Search with Signals Boosts Applied"
   ]
  },
  {
   "cell_type": "markdown",
   "metadata": {},
   "source": [
    "### Signals Boosting Query"
   ]
  },
  {
   "cell_type": "markdown",
   "metadata": {},
   "source": [
    "## Raw Signals Boosts (Case-sensitive)"
   ]
  },
  {
   "cell_type": "markdown",
   "metadata": {},
   "source": [
    "### Listing 8.1"
   ]
  },
  {
   "cell_type": "code",
   "execution_count": 8,
   "metadata": {},
   "outputs": [],
   "source": [
    "# %load -s search_for_boosts aips/search_requests\n",
    "def search_for_boosts(query, collection, query_field=\"query\"):\n",
    "    boosts_request = {\"query\": query,\n",
    "                      \"query_fields\": [query_field],\n",
    "                      \"return_fields\": [\"query\", \"doc\", \"boost\"],\n",
    "                      \"limit\": 20,\n",
    "                      \"order_by\": [(\"boost\", \"desc\")]}\n",
    "    response = collection.search(**boosts_request)\n",
    "    return response[\"docs\"]"
   ]
  },
  {
   "cell_type": "code",
   "execution_count": 9,
   "metadata": {},
   "outputs": [],
   "source": [
    "def create_boosting_collection(collection_name):\n",
    "    basic_signals_aggregation_query = \"\"\"\n",
    "    SELECT q.target AS query, c.target AS doc,\n",
    "    COUNT(c.target) AS boost\n",
    "    FROM signals c LEFT JOIN signals q\n",
    "    ON c.query_id = q.query_id\n",
    "    WHERE c.type = 'click' AND q.type = 'query'\n",
    "    GROUP BY q.target, doc\n",
    "    ORDER BY boost DESC\n",
    "    \"\"\"\n",
    "    collection = engine.get_collection(collection_name)\n",
    "    return aggregate_signals(collection, \"basic_signals_boosts\", basic_signals_aggregation_query)"
   ]
  },
  {
   "cell_type": "code",
   "execution_count": 10,
   "metadata": {},
   "outputs": [],
   "source": [
    "def show_raw_boosted_queries(boost_documents):\n",
    "    boosted_queries = \"\\n\".join([f'\"{doc[\"query\"]}\" : {doc[\"boost\"]}'\n",
    "                                 for doc in boost_documents])\n",
    "    print(\"Raw Boosted Queries\")\n",
    "    print(boosted_queries)"
   ]
  },
  {
   "cell_type": "code",
   "execution_count": null,
   "metadata": {},
   "outputs": [
    {
     "name": "stdout",
     "output_type": "stream",
     "text": [
      "Aggregating Signals to Create Signals Boosts...\n",
      "Wiping \"basic_signals_boosts\" collection\n",
      "Creating \"basic_signals_boosts\" collection\n",
      "Status: Success\n",
      "Successfully written 197168 documents\n"
     ]
    }
   ],
   "source": [
    "signals_boosting_collection = create_boosting_collection(\"signals\")"
   ]
  },
  {
   "cell_type": "code",
   "execution_count": null,
   "metadata": {},
   "outputs": [
    {
     "name": "stdout",
     "output_type": "stream",
     "text": [
      "Raw Boosted Queries\n",
      "\"iPad\" : 1050\n",
      "\"ipad\" : 966\n",
      "\"Ipad\" : 829\n",
      "\"iPad 2\" : 509\n",
      "\"ipad 2\" : 347\n",
      "\"Ipad2\" : 261\n",
      "\"ipad2\" : 238\n",
      "\"Ipad 2\" : 213\n",
      "\"I pad\" : 203\n",
      "\"i pad\" : 133\n",
      "\"IPad\" : 77\n",
      "\"Apple\" : 76\n",
      "\"I pad 2\" : 60\n",
      "\"apple ipad\" : 55\n",
      "\"Apple iPad\" : 53\n",
      "\"ipads\" : 43\n",
      "\"tablets\" : 42\n",
      "\"apple\" : 41\n",
      "\"iPads\" : 38\n",
      "\"i pad 2\" : 38\n"
     ]
    }
   ],
   "source": [
    "query = \"885909457588\" #most popular iPad model\n",
    "signals_docs = search_for_boosts(query, signals_boosting_collection, \"doc\")\n",
    "show_raw_boosted_queries(signals_docs)    "
   ]
  },
  {
   "cell_type": "markdown",
   "metadata": {},
   "source": [
    "## Normalized Signals Boosting (Case-insensitive)"
   ]
  },
  {
   "cell_type": "markdown",
   "metadata": {},
   "source": [
    "### Listing 8.2"
   ]
  },
  {
   "cell_type": "code",
   "execution_count": null,
   "metadata": {},
   "outputs": [
    {
     "name": "stdout",
     "output_type": "stream",
     "text": [
      "Aggregating Signals to Create Signals Boosts...\n",
      "Wiping \"normalized_signals_boosts\" collection\n",
      "Creating \"normalized_signals_boosts\" collection\n",
      "Successfully written 152251 documents\n",
      "Signals Aggregation Completed!\n"
     ]
    }
   ],
   "source": [
    "normalized_signals_aggregation_query = \"\"\"\n",
    "SELECT LOWER(q.target) AS query,\n",
    "c.target AS doc, COUNT(c.target) AS boost\n",
    "FROM signals c LEFT JOIN signals q ON c.query_id = q.query_id\n",
    "WHERE c.type = 'click' AND q.type = 'query'\n",
    "GROUP BY LOWER(q.target), doc\n",
    "ORDER BY boost DESC\"\"\"\n",
    "\n",
    "normalized_collection = \\\n",
    "  aggregate_signals(signals_collection, \"normalized_signals_boosts\",\n",
    "                    normalized_signals_aggregation_query)"
   ]
  },
  {
   "cell_type": "code",
   "execution_count": null,
   "metadata": {},
   "outputs": [
    {
     "name": "stdout",
     "output_type": "stream",
     "text": [
      "Raw Boosted Queries\n",
      "\"ipad\" : 2939\n",
      "\"ipad 2\" : 1104\n",
      "\"ipad2\" : 540\n",
      "\"i pad\" : 341\n",
      "\"apple ipad\" : 152\n",
      "\"ipads\" : 123\n",
      "\"apple\" : 118\n",
      "\"i pad 2\" : 99\n",
      "\"tablets\" : 67\n",
      "\"tablet\" : 61\n",
      "\"ipad 1\" : 52\n",
      "\"apple ipad 2\" : 27\n",
      "\"hp touchpad\" : 26\n",
      "\"ipaq\" : 20\n",
      "\"i pad2\" : 19\n",
      "\"wi\" : 19\n",
      "\"apple computers\" : 18\n",
      "\"apple i pad\" : 15\n",
      "\"ipad 2 16gb\" : 15\n",
      "\"samsung galaxy\" : 14\n"
     ]
    }
   ],
   "source": [
    "query = \"885909457588\" #most popular iPad model\n",
    "signals_docs = search_for_boosts(query, normalized_collection, \"doc\")\n",
    "show_raw_boosted_queries(signals_docs)"
   ]
  },
  {
   "cell_type": "markdown",
   "metadata": {},
   "source": [
    "## Star Wars Search before User Manipulation"
   ]
  },
  {
   "cell_type": "markdown",
   "metadata": {},
   "source": [
    "### Figure 8.2"
   ]
  },
  {
   "cell_type": "code",
   "execution_count": null,
   "metadata": {},
   "outputs": [],
   "source": [
    "# %load -s create_boosts_query,boosted_product_search_request aips/search_requests\n",
    "def create_boosts_query(boost_documents):\n",
    "    print(\"Boost Documents:\")\n",
    "    display(boost_documents)\n",
    "    boosts = \" \".join([f'\"{b[\"doc\"]}\"^{b[\"boost\"]}' \n",
    "                       for b in boost_documents])\n",
    "    print(f\"\\nBoost Query: \\n{boosts}\\n\")\n",
    "    return boosts"
   ]
  },
  {
   "cell_type": "code",
   "execution_count": null,
   "metadata": {},
   "outputs": [],
   "source": [
    "def boosted_product_search_request(query, collection, boost_field=None):\n",
    "    signals_documents = search_for_boosts(query, collection)\n",
    "    signals_boosts = create_boosts_query(signals_documents)\n",
    "    boosted_request = product_search_request(query)\n",
    "    if boost_field:\n",
    "        signals_boosts = (boost_field, signals_boosts)\n",
    "    boosted_request[\"query_boosts\"] = signals_boosts\n",
    "    return boosted_request"
   ]
  },
  {
   "cell_type": "code",
   "execution_count": null,
   "metadata": {},
   "outputs": [
    {
     "name": "stdout",
     "output_type": "stream",
     "text": [
      "Boost Documents:\n"
     ]
    },
    {
     "data": {
      "text/plain": [
       "[{'query': 'star wars',\n",
       "  'doc': '024543742180',\n",
       "  'boost': 1490,\n",
       "  'id': 'SBezAZMBaGEfEmlKhjzU',\n",
       "  'score': None},\n",
       " {'query': 'star wars blu ray',\n",
       "  'doc': '024543742180',\n",
       "  'boost': 338,\n",
       "  'id': 'gxezAZMBaGEfEmlKhjzU',\n",
       "  'score': None},\n",
       " {'query': 'star wars',\n",
       "  'doc': '400032015667',\n",
       "  'boost': 186,\n",
       "  'id': '9RezAZMBaGEfEmlKhjzU',\n",
       "  'score': None},\n",
       " {'query': 'star wars',\n",
       "  'doc': '024543742074',\n",
       "  'boost': 127,\n",
       "  'id': 'dhezAZMBaGEfEmlKhj3U',\n",
       "  'score': None},\n",
       " {'query': 'star wars',\n",
       "  'doc': '024543559856',\n",
       "  'boost': 117,\n",
       "  'id': 'pxezAZMBaGEfEmlKhj3U',\n",
       "  'score': None},\n",
       " {'query': 'star wars',\n",
       "  'doc': '014633169546',\n",
       "  'boost': 107,\n",
       "  'id': '4BezAZMBaGEfEmlKhj3U',\n",
       "  'score': None},\n",
       " {'query': 'star wars bluray',\n",
       "  'doc': '024543742180',\n",
       "  'boost': 87,\n",
       "  'id': 'eRezAZMBaGEfEmlKhj7U',\n",
       "  'score': None},\n",
       " {'query': 'star wars blue ray',\n",
       "  'doc': '024543742180',\n",
       "  'boost': 83,\n",
       "  'id': 'oBezAZMBaGEfEmlKhj7U',\n",
       "  'score': None},\n",
       " {'query': 'star wars',\n",
       "  'doc': '024543742098',\n",
       "  'boost': 81,\n",
       "  'id': 'uBezAZMBaGEfEmlKhj7U',\n",
       "  'score': None},\n",
       " {'query': 'star wars',\n",
       "  'doc': '024543781875',\n",
       "  'boost': 67,\n",
       "  'id': 'kxezAZMBaGEfEmlKhj_U',\n",
       "  'score': None},\n",
       " {'query': 'star wars blu ray',\n",
       "  'doc': '400032015667',\n",
       "  'boost': 63,\n",
       "  'id': '1xezAZMBaGEfEmlKhj_U',\n",
       "  'score': None},\n",
       " {'query': 'star wars blu ray',\n",
       "  'doc': '024543742074',\n",
       "  'boost': 49,\n",
       "  'id': 'tBezAZMBaGEfEmlKh0UA',\n",
       "  'score': None},\n",
       " {'query': 'star wars complete saga',\n",
       "  'doc': '024543742180',\n",
       "  'boost': 44,\n",
       "  'id': '7xezAZMBaGEfEmlKh0YA',\n",
       "  'score': None},\n",
       " {'query': 'star wars blu-ray',\n",
       "  'doc': '024543742180',\n",
       "  'boost': 42,\n",
       "  'id': 'XRezAZMBaGEfEmlKh0cA',\n",
       "  'score': None},\n",
       " {'query': 'star wars blu',\n",
       "  'doc': '024543742180',\n",
       "  'boost': 39,\n",
       "  'id': '_RezAZMBaGEfEmlKh0sP',\n",
       "  'score': None},\n",
       " {'query': 'star wars',\n",
       "  'doc': '023272342654',\n",
       "  'boost': 39,\n",
       "  'id': '_hezAZMBaGEfEmlKh0sP',\n",
       "  'score': None},\n",
       " {'query': 'star wars saga',\n",
       "  'doc': '024543742180',\n",
       "  'boost': 36,\n",
       "  'id': 'KBezAZMBaGEfEmlKh00P',\n",
       "  'score': None},\n",
       " {'query': 'star wars',\n",
       "  'doc': '014633169522',\n",
       "  'boost': 32,\n",
       "  'id': 'zRezAZMBaGEfEmlKh04P',\n",
       "  'score': None},\n",
       " {'query': 'star wars',\n",
       "  'doc': '024543560067',\n",
       "  'boost': 30,\n",
       "  'id': '7xezAZMBaGEfEmlKh1Mm',\n",
       "  'score': None},\n",
       " {'query': 'star wars xbox',\n",
       "  'doc': '885370332889',\n",
       "  'boost': 28,\n",
       "  'id': 'nRezAZMBaGEfEmlKh1Um',\n",
       "  'score': None}]"
      ]
     },
     "metadata": {},
     "output_type": "display_data"
    },
    {
     "name": "stdout",
     "output_type": "stream",
     "text": [
      "\n",
      "Boost Query: \n",
      "\"024543742180\"^1490 \"024543742180\"^338 \"400032015667\"^186 \"024543742074\"^127 \"024543559856\"^117 \"014633169546\"^107 \"024543742180\"^87 \"024543742180\"^83 \"024543742098\"^81 \"024543781875\"^67 \"400032015667\"^63 \"024543742074\"^49 \"024543742180\"^44 \"024543742180\"^42 \"024543742180\"^39 \"023272342654\"^39 \"024543742180\"^36 \"014633169522\"^32 \"024543560067\"^30 \"885370332889\"^28\n",
      "\n"
     ]
    },
    {
     "data": {
      "text/html": [
       "<div id=\"demo\">\n",
       "\t<center><input style=\"width:40%\" readonly type=\"text\" name=\"q\" value=\"star wars\">\n",
       "\t<input readonly type=\"submit\" value=\"Search\">\n",
       "\t</center>\n",
       "    <div class=\"results\">\n",
       "    \t\n",
       "\n",
       "    </div>\n",
       "</div>\n",
       "    \t<div style=\"position: relative; width: 100%; height:auto; overflow: auto;\">\n",
       "\t    \t<div style=\"position: relative; float:left; width: 120px; margin-top:5px\">\n",
       "\t    \t\t<img style=\"width:250px; height: auto; max-height:150px\" src=\"../../data/retrotech/images/400032015667.jpg\">\n",
       "\t    \t</div>\n",
       "\t    \t<div style=\"position:relative; float:left; clear:none; width: 80%; height:auto\">\n",
       "\t    \t\t<p style=\"font-size:24px; padding-left: 50px;\"><strong>\t\tName:</strong> Star Wars - The Complete Saga - Blu-ray Disc\n",
       "\t\t\t\t\t<br><strong>\t\tManufacturer:</strong> LucasFilm</p>\n",
       "\t    \t\t</p>\n",
       "\t    \t</div>\n",
       "    \t</div>\n",
       "    \t\n",
       "\t\t<div style=\"position:relative; clear:both; content: ' '; display: block; height: 1px; margin-top: 10px; margin-bottom:20px\">\n",
       "\t\t\t<hr style=\"color: gray; width: 95%;\" />\n",
       "\t\t</div>\n",
       "\t\t\n",
       "    \t<div style=\"position: relative; width: 100%; height:auto; overflow: auto;\">\n",
       "\t    \t<div style=\"position: relative; float:left; width: 120px; margin-top:5px\">\n",
       "\t    \t\t<img style=\"width:250px; height: auto; max-height:150px\" src=\"../../data/retrotech/images/unavailable.jpg\">\n",
       "\t    \t</div>\n",
       "\t    \t<div style=\"position:relative; float:left; clear:none; width: 80%; height:auto\">\n",
       "\t    \t\t<p style=\"font-size:24px; padding-left: 50px;\"><strong>\t\tName:</strong> Microsoft - Xbox 360 Console Limited Edition Kinect Star Wars Bundle\n",
       "\t\t\t\t\t<br><strong>\t\tManufacturer:</strong> Microsoft</p>\n",
       "\t    \t\t</p>\n",
       "\t    \t</div>\n",
       "    \t</div>\n",
       "    \t\n",
       "\t\t<div style=\"position:relative; clear:both; content: ' '; display: block; height: 1px; margin-top: 10px; margin-bottom:20px\">\n",
       "\t\t\t<hr style=\"color: gray; width: 95%;\" />\n",
       "\t\t</div>\n",
       "\t\t\n",
       "    \t<div style=\"position: relative; width: 100%; height:auto; overflow: auto;\">\n",
       "\t    \t<div style=\"position: relative; float:left; width: 120px; margin-top:5px\">\n",
       "\t    \t\t<img style=\"width:250px; height: auto; max-height:150px\" src=\"../../data/retrotech/images/23272335397.jpg\">\n",
       "\t    \t</div>\n",
       "\t    \t<div style=\"position:relative; float:left; clear:none; width: 80%; height:auto\">\n",
       "\t    \t\t<p style=\"font-size:24px; padding-left: 50px;\"><strong>\t\tName:</strong> Star Wars Battlefront: Elite Squadron - PSP\n",
       "\t\t\t\t\t<br><strong>\t\tManufacturer:</strong> LucasArts</p>\n",
       "\t    \t\t</p>\n",
       "\t    \t</div>\n",
       "    \t</div>\n",
       "    \t\n",
       "\t\t<div style=\"position:relative; clear:both; content: ' '; display: block; height: 1px; margin-top: 10px; margin-bottom:20px\">\n",
       "\t\t\t<hr style=\"color: gray; width: 95%;\" />\n",
       "\t\t</div>\n",
       "\t\t\n",
       "    \t<div style=\"position: relative; width: 100%; height:auto; overflow: auto;\">\n",
       "\t    \t<div style=\"position: relative; float:left; width: 120px; margin-top:5px\">\n",
       "\t    \t\t<img style=\"width:250px; height: auto; max-height:150px\" src=\"../../data/retrotech/images/unavailable.jpg\">\n",
       "\t    \t</div>\n",
       "\t    \t<div style=\"position:relative; float:left; clear:none; width: 80%; height:auto\">\n",
       "\t    \t\t<p style=\"font-size:24px; padding-left: 50px;\"><strong>\t\tName:</strong> Star Wars Battlefront: Elite Squadron - Nintendo DS\n",
       "\t\t\t\t\t<br><strong>\t\tManufacturer:</strong> LucasArts</p>\n",
       "\t    \t\t</p>\n",
       "\t    \t</div>\n",
       "    \t</div>\n",
       "    \t\n",
       "\t\t<div style=\"position:relative; clear:both; content: ' '; display: block; height: 1px; margin-top: 10px; margin-bottom:20px\">\n",
       "\t\t\t<hr style=\"color: gray; width: 95%;\" />\n",
       "\t\t</div>\n",
       "\t\t\n",
       "    \t<div style=\"position: relative; width: 100%; height:auto; overflow: auto;\">\n",
       "\t    \t<div style=\"position: relative; float:left; width: 120px; margin-top:5px\">\n",
       "\t    \t\t<img style=\"width:250px; height: auto; max-height:150px\" src=\"../../data/retrotech/images/696055169191.jpg\">\n",
       "\t    \t</div>\n",
       "\t    \t<div style=\"position:relative; float:left; clear:none; width: 80%; height:auto\">\n",
       "\t    \t\t<p style=\"font-size:24px; padding-left: 50px;\"><strong>\t\tName:</strong> Star Wars: Battlefront II - PSP\n",
       "\t\t\t\t\t<br><strong>\t\tManufacturer:</strong> LucasArts</p>\n",
       "\t    \t\t</p>\n",
       "\t    \t</div>\n",
       "    \t</div>\n",
       "    \t\n",
       "\t\t<div style=\"position:relative; clear:both; content: ' '; display: block; height: 1px; margin-top: 10px; margin-bottom:20px\">\n",
       "\t\t\t<hr style=\"color: gray; width: 95%;\" />\n",
       "\t\t</div>\n",
       "\t\t"
      ],
      "text/plain": [
       "<IPython.core.display.HTML object>"
      ]
     },
     "metadata": {},
     "output_type": "display_data"
    }
   ],
   "source": [
    "query = '\"star wars\"'\n",
    "boosted_request = boosted_product_search_request(query, normalized_collection, \"upc\")\n",
    "boosted_request[\"filter\"] = [(\"-upc\", \"45626176\")]\n",
    "\n",
    "response = products_collection.search(**boosted_request)\n",
    "display_product_search(\"star wars\", response[\"docs\"])"
   ]
  },
  {
   "cell_type": "markdown",
   "metadata": {},
   "source": [
    "## Simulating a malicious user"
   ]
  },
  {
   "cell_type": "markdown",
   "metadata": {},
   "source": [
    "### Listing 8.3"
   ]
  },
  {
   "cell_type": "code",
   "execution_count": null,
   "metadata": {},
   "outputs": [
    {
     "name": "stdout",
     "output_type": "stream",
     "text": [
      "Successfully written 10000 documents\n",
      "Aggregating Signals to Create Signals Boosts...\n",
      "Wiping \"signals_boosts_with_spam\" collection\n",
      "Creating \"signals_boosts_with_spam\" collection\n",
      "Successfully written 152252 documents\n",
      "Signals Aggregation Completed!\n"
     ]
    }
   ],
   "source": [
    "signals_collection = engine.get_collection(\"signals\")\n",
    "spam_user = \"u8675309\"\n",
    "spam_query = \"star wars\"\n",
    "spam_signal_boost_doc_upc = \"45626176\" #doc for a \"trash compactor\" from someone who wants star wars is rubbish!\n",
    "\n",
    "signal_docs = []\n",
    "for num in range(5000): #generate 5,000 query and click signals\n",
    "    query_id = f\"u8675309_0_{num}\"\n",
    "    query_signal = { \n",
    "        \"query_id\": query_id,\n",
    "        \"user\": spam_user,\n",
    "        \"type\": \"query\",\n",
    "        \"target\": spam_query,\n",
    "        \"signal_time\": datetime.now().strftime(\"%Y-%m-%dT%H:%M:%SZ\"),\n",
    "        #\"id\": f\"spam_signal_query_{num}\"\n",
    "    }\n",
    "    click_signal = { \n",
    "        \"query_id\": query_id,\n",
    "        \"user\": spam_user,\n",
    "        \"type\": \"click\",\n",
    "        \"target\": spam_signal_boost_doc_upc,\n",
    "        \"signal_time\": datetime.now().strftime(\"%Y-%m-%dT%H:%M:%SZ\"),\n",
    "        #\"id\": f\"spam_signal_click_{num}\"\n",
    "    }\n",
    "    signal_docs.extend([click_signal, query_signal])\n",
    "\n",
    "signals_collection.add_documents(signal_docs)\n",
    "#re-run the basic signals aggregation to process the malicious clicks\n",
    "\n",
    "spam_signals_collection = \\\n",
    "    aggregate_signals(signals_collection, \"signals_boosts_with_spam\",\n",
    "                      normalized_signals_aggregation_query)"
   ]
  },
  {
   "cell_type": "markdown",
   "metadata": {},
   "source": [
    "## Impact of Spam on Search Results"
   ]
  },
  {
   "cell_type": "markdown",
   "metadata": {},
   "source": [
    "### Listing 8.4"
   ]
  },
  {
   "cell_type": "code",
   "execution_count": null,
   "metadata": {},
   "outputs": [
    {
     "name": "stdout",
     "output_type": "stream",
     "text": [
      "Boost Documents:\n"
     ]
    },
    {
     "data": {
      "text/plain": [
       "[{'query': 'star wars',\n",
       "  'doc': '45626176',\n",
       "  'boost': 5000,\n",
       "  'id': 'Dhm0AZMBaGEfEmlKGbbv',\n",
       "  'score': None},\n",
       " {'query': 'star wars',\n",
       "  'doc': '024543742180',\n",
       "  'boost': 1490,\n",
       "  'id': 'FBm0AZMBaGEfEmlKGbbv',\n",
       "  'score': None},\n",
       " {'query': 'star wars',\n",
       "  'doc': '400032015667',\n",
       "  'boost': 186,\n",
       "  'id': 'wRm0AZMBaGEfEmlKGbbv',\n",
       "  'score': None},\n",
       " {'query': 'star wars',\n",
       "  'doc': '024543742074',\n",
       "  'boost': 127,\n",
       "  'id': 'Qhm0AZMBaGEfEmlKGbfv',\n",
       "  'score': None},\n",
       " {'query': 'star wars',\n",
       "  'doc': '024543559856',\n",
       "  'boost': 117,\n",
       "  'id': 'cxm0AZMBaGEfEmlKGbfv',\n",
       "  'score': None},\n",
       " {'query': 'star wars',\n",
       "  'doc': '014633169546',\n",
       "  'boost': 107,\n",
       "  'id': 'rBm0AZMBaGEfEmlKGbfv',\n",
       "  'score': None},\n",
       " {'query': 'star wars',\n",
       "  'doc': '024543742098',\n",
       "  'boost': 81,\n",
       "  'id': 'hBm0AZMBaGEfEmlKGbjv',\n",
       "  'score': None},\n",
       " {'query': 'star wars',\n",
       "  'doc': '024543781875',\n",
       "  'boost': 67,\n",
       "  'id': 'Xxm0AZMBaGEfEmlKGbnv',\n",
       "  'score': None},\n",
       " {'query': 'star wars',\n",
       "  'doc': '023272342654',\n",
       "  'boost': 39,\n",
       "  'id': 'shm0AZMBaGEfEmlKGskn',\n",
       "  'score': None},\n",
       " {'query': 'star wars',\n",
       "  'doc': '014633169522',\n",
       "  'boost': 32,\n",
       "  'id': 'gRm0AZMBaGEfEmlKGswn',\n",
       "  'score': None},\n",
       " {'query': 'star wars',\n",
       "  'doc': '024543560067',\n",
       "  'boost': 30,\n",
       "  'id': 'oxm0AZMBaGEfEmlKGtE9',\n",
       "  'score': None},\n",
       " {'query': 'star wars',\n",
       "  'doc': '883929154012',\n",
       "  'boost': 24,\n",
       "  'id': 'jRm0AZMBaGEfEmlKGtpN',\n",
       "  'score': None},\n",
       " {'query': 'star wars',\n",
       "  'doc': '023272342630',\n",
       "  'boost': 20,\n",
       "  'id': 'Shm0AZMBaGEfEmlKGuJc',\n",
       "  'score': None},\n",
       " {'query': 'star wars',\n",
       "  'doc': '708431390614',\n",
       "  'boost': 18,\n",
       "  'id': 'Dxm0AZMBaGEfEmlKGupt',\n",
       "  'score': None},\n",
       " {'query': 'star wars',\n",
       "  'doc': '024543263739',\n",
       "  'boost': 18,\n",
       "  'id': 'Qhm0AZMBaGEfEmlKGupt',\n",
       "  'score': None},\n",
       " {'query': 'star wars',\n",
       "  'doc': '886973561621',\n",
       "  'boost': 17,\n",
       "  'id': 'FBm0AZMBaGEfEmlKGutt',\n",
       "  'score': None},\n",
       " {'query': 'star wars',\n",
       "  'doc': '023272341381',\n",
       "  'boost': 16,\n",
       "  'id': 'Xxm0AZMBaGEfEmlKGuxt',\n",
       "  'score': None},\n",
       " {'query': 'star wars',\n",
       "  'doc': '030206742121',\n",
       "  'boost': 14,\n",
       "  'id': 'RRm0AZMBaGEfEmlKGvR-',\n",
       "  'score': None},\n",
       " {'query': 'star wars',\n",
       "  'doc': '885370332889',\n",
       "  'boost': 12,\n",
       "  'id': 'rRq0AZMBaGEfEmlKGgGd',\n",
       "  'score': None},\n",
       " {'query': 'star wars',\n",
       "  'doc': '883929106172',\n",
       "  'boost': 8,\n",
       "  'id': 'Nxq0AZMBaGEfEmlKGiPc',\n",
       "  'score': None}]"
      ]
     },
     "metadata": {},
     "output_type": "display_data"
    },
    {
     "name": "stdout",
     "output_type": "stream",
     "text": [
      "\n",
      "Boost Query: \n",
      "\"45626176\"^5000 \"024543742180\"^1490 \"400032015667\"^186 \"024543742074\"^127 \"024543559856\"^117 \"014633169546\"^107 \"024543742098\"^81 \"024543781875\"^67 \"023272342654\"^39 \"014633169522\"^32 \"024543560067\"^30 \"883929154012\"^24 \"023272342630\"^20 \"708431390614\"^18 \"024543263739\"^18 \"886973561621\"^17 \"023272341381\"^16 \"030206742121\"^14 \"885370332889\"^12 \"883929106172\"^8\n",
      "\n"
     ]
    },
    {
     "data": {
      "text/html": [
       "<div id=\"demo\">\n",
       "\t<center><input style=\"width:40%\" readonly type=\"text\" name=\"q\" value=\"\"star wars\"\">\n",
       "\t<input readonly type=\"submit\" value=\"Search\">\n",
       "\t</center>\n",
       "    <div class=\"results\">\n",
       "    \t\n",
       "\n",
       "    </div>\n",
       "</div>\n",
       "    \t<div style=\"position: relative; width: 100%; height:auto; overflow: auto;\">\n",
       "\t    \t<div style=\"position: relative; float:left; width: 120px; margin-top:5px\">\n",
       "\t    \t\t<img style=\"width:250px; height: auto; max-height:150px\" src=\"../../data/retrotech/images/45626176.jpg\">\n",
       "\t    \t</div>\n",
       "\t    \t<div style=\"position:relative; float:left; clear:none; width: 80%; height:auto\">\n",
       "\t    \t\t<p style=\"font-size:24px; padding-left: 50px;\"><strong>\t\tName:</strong> Trash Can (Star Wars Themed)\n",
       "\t\t\t\t\t<br><strong>\t\tManufacturer:</strong> Jay Franco & Sons</p>\n",
       "\t    \t\t</p>\n",
       "\t    \t</div>\n",
       "    \t</div>\n",
       "    \t\n",
       "\t\t<div style=\"position:relative; clear:both; content: ' '; display: block; height: 1px; margin-top: 10px; margin-bottom:20px\">\n",
       "\t\t\t<hr style=\"color: gray; width: 95%;\" />\n",
       "\t\t</div>\n",
       "\t\t\n",
       "    \t<div style=\"position: relative; width: 100%; height:auto; overflow: auto;\">\n",
       "\t    \t<div style=\"position: relative; float:left; width: 120px; margin-top:5px\">\n",
       "\t    \t\t<img style=\"width:250px; height: auto; max-height:150px\" src=\"../../data/retrotech/images/400032015667.jpg\">\n",
       "\t    \t</div>\n",
       "\t    \t<div style=\"position:relative; float:left; clear:none; width: 80%; height:auto\">\n",
       "\t    \t\t<p style=\"font-size:24px; padding-left: 50px;\"><strong>\t\tName:</strong> Star Wars - The Complete Saga - Blu-ray Disc\n",
       "\t\t\t\t\t<br><strong>\t\tManufacturer:</strong> LucasFilm</p>\n",
       "\t    \t\t</p>\n",
       "\t    \t</div>\n",
       "    \t</div>\n",
       "    \t\n",
       "\t\t<div style=\"position:relative; clear:both; content: ' '; display: block; height: 1px; margin-top: 10px; margin-bottom:20px\">\n",
       "\t\t\t<hr style=\"color: gray; width: 95%;\" />\n",
       "\t\t</div>\n",
       "\t\t\n",
       "    \t<div style=\"position: relative; width: 100%; height:auto; overflow: auto;\">\n",
       "\t    \t<div style=\"position: relative; float:left; width: 120px; margin-top:5px\">\n",
       "\t    \t\t<img style=\"width:250px; height: auto; max-height:150px\" src=\"../../data/retrotech/images/883929154012.jpg\">\n",
       "\t    \t</div>\n",
       "\t    \t<div style=\"position:relative; float:left; clear:none; width: 80%; height:auto\">\n",
       "\t    \t\t<p style=\"font-size:24px; padding-left: 50px;\"><strong>\t\tName:</strong> Star Wars: The Clone Wars - The Complete Season Three [4 Discs] - DVD\n",
       "\t\t\t\t\t<br><strong>\t\tManufacturer:</strong> LucasFilm</p>\n",
       "\t    \t\t</p>\n",
       "\t    \t</div>\n",
       "    \t</div>\n",
       "    \t\n",
       "\t\t<div style=\"position:relative; clear:both; content: ' '; display: block; height: 1px; margin-top: 10px; margin-bottom:20px\">\n",
       "\t\t\t<hr style=\"color: gray; width: 95%;\" />\n",
       "\t\t</div>\n",
       "\t\t\n",
       "    \t<div style=\"position: relative; width: 100%; height:auto; overflow: auto;\">\n",
       "\t    \t<div style=\"position: relative; float:left; width: 120px; margin-top:5px\">\n",
       "\t    \t\t<img style=\"width:250px; height: auto; max-height:150px\" src=\"../../data/retrotech/images/708431390614.jpg\">\n",
       "\t    \t</div>\n",
       "\t    \t<div style=\"position:relative; float:left; clear:none; width: 80%; height:auto\">\n",
       "\t    \t\t<p style=\"font-size:24px; padding-left: 50px;\"><strong>\t\tName:</strong> LeapFrog - Leapster Explorer Learning Game: Star Wars The Clone Wars\n",
       "\t\t\t\t\t<br><strong>\t\tManufacturer:</strong> LeapFrog</p>\n",
       "\t    \t\t</p>\n",
       "\t    \t</div>\n",
       "    \t</div>\n",
       "    \t\n",
       "\t\t<div style=\"position:relative; clear:both; content: ' '; display: block; height: 1px; margin-top: 10px; margin-bottom:20px\">\n",
       "\t\t\t<hr style=\"color: gray; width: 95%;\" />\n",
       "\t\t</div>\n",
       "\t\t\n",
       "    \t<div style=\"position: relative; width: 100%; height:auto; overflow: auto;\">\n",
       "\t    \t<div style=\"position: relative; float:left; width: 120px; margin-top:5px\">\n",
       "\t    \t\t<img style=\"width:250px; height: auto; max-height:150px\" src=\"../../data/retrotech/images/886973561621.jpg\">\n",
       "\t    \t</div>\n",
       "\t    \t<div style=\"position:relative; float:left; clear:none; width: 80%; height:auto\">\n",
       "\t    \t\t<p style=\"font-size:24px; padding-left: 50px;\"><strong>\t\tName:</strong> Star Wars: The Clone War - Original Soundtrack - CD\n",
       "\t\t\t\t\t<br><strong>\t\tManufacturer:</strong> Sony Classics</p>\n",
       "\t    \t\t</p>\n",
       "\t    \t</div>\n",
       "    \t</div>\n",
       "    \t\n",
       "\t\t<div style=\"position:relative; clear:both; content: ' '; display: block; height: 1px; margin-top: 10px; margin-bottom:20px\">\n",
       "\t\t\t<hr style=\"color: gray; width: 95%;\" />\n",
       "\t\t</div>\n",
       "\t\t"
      ],
      "text/plain": [
       "<IPython.core.display.HTML object>"
      ]
     },
     "metadata": {},
     "output_type": "display_data"
    }
   ],
   "source": [
    "# function boosted_product_search_request defined above before figure 8.2 code\n",
    "\n",
    "query = '\"star wars\"'\n",
    "boosted_request = boosted_product_search_request(query,\n",
    "                      spam_signals_collection, \"upc\")\n",
    "response = products_collection.search(**boosted_request)\n",
    "display_product_search(query, response[\"docs\"])"
   ]
  },
  {
   "cell_type": "markdown",
   "metadata": {},
   "source": [
    "## Fighting Signal Spam through User-level Deduplication"
   ]
  },
  {
   "cell_type": "markdown",
   "metadata": {},
   "source": [
    "### Listing 8.5"
   ]
  },
  {
   "cell_type": "code",
   "execution_count": null,
   "metadata": {},
   "outputs": [
    {
     "name": "stdout",
     "output_type": "stream",
     "text": [
      "Aggregating Signals to Create Signals Boosts...\n",
      "Wiping \"signals_boosts_anti_spam\" collection\n",
      "Creating \"signals_boosts_anti_spam\" collection\n",
      "Successfully written 152252 documents\n",
      "Signals Aggregation Completed!\n"
     ]
    }
   ],
   "source": [
    "#One Signal per User - Anti-Spam\n",
    "anti_spam_aggregation_query = \"\"\"\n",
    "SELECT query, doc, COUNT(doc) AS boost FROM (\n",
    "  SELECT c.user unique_user, LOWER(q.target) AS query, c.target AS doc,\n",
    "  MAX(c.signal_time) AS boost\n",
    "  FROM signals c LEFT JOIN signals q ON c.query_id = q.query_id\n",
    "  WHERE c.type = 'click' AND q.type = 'query'\n",
    "  GROUP BY unique_user, LOWER(q.target), doc)\n",
    "GROUP BY query, doc\n",
    "ORDER BY boost DESC\"\"\"\n",
    "\n",
    "anti_spam_collection = \\\n",
    "    aggregate_signals(signals_collection, \"signals_boosts_anti_spam\",\n",
    "                      anti_spam_aggregation_query)"
   ]
  },
  {
   "cell_type": "code",
   "execution_count": null,
   "metadata": {},
   "outputs": [
    {
     "name": "stdout",
     "output_type": "stream",
     "text": [
      "Boost Documents:\n"
     ]
    },
    {
     "data": {
      "text/plain": [
       "[{'query': 'star wars',\n",
       "  'doc': '024543742180',\n",
       "  'boost': 1489,\n",
       "  'id': 'zxy0AZMBaGEfEmlKnwin',\n",
       "  'score': None},\n",
       " {'query': 'star wars',\n",
       "  'doc': '400032015667',\n",
       "  'boost': 186,\n",
       "  'id': 'fBy0AZMBaGEfEmlKnwmn',\n",
       "  'score': None},\n",
       " {'query': 'star wars',\n",
       "  'doc': '024543742074',\n",
       "  'boost': 127,\n",
       "  'id': '_Ry0AZMBaGEfEmlKnwmn',\n",
       "  'score': None},\n",
       " {'query': 'star wars',\n",
       "  'doc': '024543559856',\n",
       "  'boost': 117,\n",
       "  'id': 'Lhy0AZMBaGEfEmlKnwqn',\n",
       "  'score': None},\n",
       " {'query': 'star wars',\n",
       "  'doc': '014633169546',\n",
       "  'boost': 107,\n",
       "  'id': 'Zxy0AZMBaGEfEmlKnwqn',\n",
       "  'score': None},\n",
       " {'query': 'star wars',\n",
       "  'doc': '024543742098',\n",
       "  'boost': 81,\n",
       "  'id': 'Pxy0AZMBaGEfEmlKnwun',\n",
       "  'score': None},\n",
       " {'query': 'star wars',\n",
       "  'doc': '024543781875',\n",
       "  'boost': 67,\n",
       "  'id': 'Ghy0AZMBaGEfEmlKnwyn',\n",
       "  'score': None},\n",
       " {'query': 'star wars',\n",
       "  'doc': '023272342654',\n",
       "  'boost': 39,\n",
       "  'id': 'hBy0AZMBaGEfEmlKnxjN',\n",
       "  'score': None},\n",
       " {'query': 'star wars',\n",
       "  'doc': '014633169522',\n",
       "  'boost': 32,\n",
       "  'id': 'Thy0AZMBaGEfEmlKnxvN',\n",
       "  'score': None},\n",
       " {'query': 'star wars',\n",
       "  'doc': '024543560067',\n",
       "  'boost': 30,\n",
       "  'id': 'dRy0AZMBaGEfEmlKnyDh',\n",
       "  'score': None},\n",
       " {'query': 'star wars',\n",
       "  'doc': '883929154012',\n",
       "  'boost': 24,\n",
       "  'id': 'YBy0AZMBaGEfEmlKnyn0',\n",
       "  'score': None},\n",
       " {'query': 'star wars',\n",
       "  'doc': '023272342630',\n",
       "  'boost': 20,\n",
       "  'id': 'JRy0AZMBaGEfEmlKoDED',\n",
       "  'score': None},\n",
       " {'query': 'star wars',\n",
       "  'doc': '708431390614',\n",
       "  'boost': 18,\n",
       "  'id': '1Ry0AZMBaGEfEmlKoDgS',\n",
       "  'score': None},\n",
       " {'query': 'star wars',\n",
       "  'doc': '024543263739',\n",
       "  'boost': 18,\n",
       "  'id': '-hy0AZMBaGEfEmlKoDgS',\n",
       "  'score': None},\n",
       " {'query': 'star wars',\n",
       "  'doc': '886973561621',\n",
       "  'boost': 17,\n",
       "  'id': '7xy0AZMBaGEfEmlKoDkS',\n",
       "  'score': None},\n",
       " {'query': 'star wars',\n",
       "  'doc': '023272341381',\n",
       "  'boost': 16,\n",
       "  'id': 'KRy0AZMBaGEfEmlKoDsS',\n",
       "  'score': None},\n",
       " {'query': 'star wars',\n",
       "  'doc': '030206742121',\n",
       "  'boost': 14,\n",
       "  'id': 'Ehy0AZMBaGEfEmlKoEMh',\n",
       "  'score': None},\n",
       " {'query': 'star wars',\n",
       "  'doc': '885370332889',\n",
       "  'boost': 12,\n",
       "  'id': 'chy0AZMBaGEfEmlKoFA8',\n",
       "  'score': None},\n",
       " {'query': 'star wars',\n",
       "  'doc': '883929106172',\n",
       "  'boost': 8,\n",
       "  'id': '0hy0AZMBaGEfEmlKoGl4',\n",
       "  'score': None},\n",
       " {'query': 'star wars',\n",
       "  'doc': '886111287055',\n",
       "  'boost': 8,\n",
       "  'id': 'Gxy0AZMBaGEfEmlKoHeT',\n",
       "  'score': None}]"
      ]
     },
     "metadata": {},
     "output_type": "display_data"
    },
    {
     "name": "stdout",
     "output_type": "stream",
     "text": [
      "\n",
      "Boost Query: \n",
      "\"024543742180\"^1489 \"400032015667\"^186 \"024543742074\"^127 \"024543559856\"^117 \"014633169546\"^107 \"024543742098\"^81 \"024543781875\"^67 \"023272342654\"^39 \"014633169522\"^32 \"024543560067\"^30 \"883929154012\"^24 \"023272342630\"^20 \"708431390614\"^18 \"024543263739\"^18 \"886973561621\"^17 \"023272341381\"^16 \"030206742121\"^14 \"885370332889\"^12 \"883929106172\"^8 \"886111287055\"^8\n",
      "\n",
      "{'query': {'bool': {'must': [{'query_string': {'query': '\"star wars\"', 'boost': 0.454545454, 'default_operator': 'OR', 'fields': ['name', 'manufacturer', 'long_description']}}], 'should': [{'match': {'upc': {'query': '\"024543742180\"', 'boost': '1489'}}}, {'match': {'upc': {'query': '\"400032015667\"', 'boost': '186'}}}, {'match': {'upc': {'query': '\"024543742074\"', 'boost': '127'}}}, {'match': {'upc': {'query': '\"024543559856\"', 'boost': '117'}}}, {'match': {'upc': {'query': '\"014633169546\"', 'boost': '107'}}}, {'match': {'upc': {'query': '\"024543742098\"', 'boost': '81'}}}, {'match': {'upc': {'query': '\"024543781875\"', 'boost': '67'}}}, {'match': {'upc': {'query': '\"023272342654\"', 'boost': '39'}}}, {'match': {'upc': {'query': '\"014633169522\"', 'boost': '32'}}}, {'match': {'upc': {'query': '\"024543560067\"', 'boost': '30'}}}, {'match': {'upc': {'query': '\"883929154012\"', 'boost': '24'}}}, {'match': {'upc': {'query': '\"023272342630\"', 'boost': '20'}}}, {'match': {'upc': {'query': '\"708431390614\"', 'boost': '18'}}}, {'match': {'upc': {'query': '\"024543263739\"', 'boost': '18'}}}, {'match': {'upc': {'query': '\"886973561621\"', 'boost': '17'}}}, {'match': {'upc': {'query': '\"023272341381\"', 'boost': '16'}}}, {'match': {'upc': {'query': '\"030206742121\"', 'boost': '14'}}}, {'match': {'upc': {'query': '\"885370332889\"', 'boost': '12'}}}, {'match': {'upc': {'query': '\"883929106172\"', 'boost': '8'}}}, {'match': {'upc': {'query': '\"886111287055\"', 'boost': '8'}}}]}}, 'size': 5, 'fields': ['upc', 'name', 'manufacturer', 'short_description', 'score'], 'sort': [{'_score': {'order': 'desc'}}, {'upc': {'order': 'asc'}}]}\n"
     ]
    },
    {
     "data": {
      "text/html": [
       "<div id=\"demo\">\n",
       "\t<center><input style=\"width:40%\" readonly type=\"text\" name=\"q\" value=\"\"star wars\"\">\n",
       "\t<input readonly type=\"submit\" value=\"Search\">\n",
       "\t</center>\n",
       "    <div class=\"results\">\n",
       "    \t\n",
       "\n",
       "    </div>\n",
       "</div>\n",
       "    \t<div style=\"position: relative; width: 100%; height:auto; overflow: auto;\">\n",
       "\t    \t<div style=\"position: relative; float:left; width: 120px; margin-top:5px\">\n",
       "\t    \t\t<img style=\"width:250px; height: auto; max-height:150px\" src=\"../../data/retrotech/images/400032015667.jpg\">\n",
       "\t    \t</div>\n",
       "\t    \t<div style=\"position:relative; float:left; clear:none; width: 80%; height:auto\">\n",
       "\t    \t\t<p style=\"font-size:24px; padding-left: 50px;\"><strong>\t\tName:</strong> Star Wars - The Complete Saga - Blu-ray Disc\n",
       "\t\t\t\t\t<br><strong>\t\tManufacturer:</strong> LucasFilm</p>\n",
       "\t    \t\t</p>\n",
       "\t    \t</div>\n",
       "    \t</div>\n",
       "    \t\n",
       "\t\t<div style=\"position:relative; clear:both; content: ' '; display: block; height: 1px; margin-top: 10px; margin-bottom:20px\">\n",
       "\t\t\t<hr style=\"color: gray; width: 95%;\" />\n",
       "\t\t</div>\n",
       "\t\t\n",
       "    \t<div style=\"position: relative; width: 100%; height:auto; overflow: auto;\">\n",
       "\t    \t<div style=\"position: relative; float:left; width: 120px; margin-top:5px\">\n",
       "\t    \t\t<img style=\"width:250px; height: auto; max-height:150px\" src=\"../../data/retrotech/images/883929154012.jpg\">\n",
       "\t    \t</div>\n",
       "\t    \t<div style=\"position:relative; float:left; clear:none; width: 80%; height:auto\">\n",
       "\t    \t\t<p style=\"font-size:24px; padding-left: 50px;\"><strong>\t\tName:</strong> Star Wars: The Clone Wars - The Complete Season Three [4 Discs] - DVD\n",
       "\t\t\t\t\t<br><strong>\t\tManufacturer:</strong> LucasFilm</p>\n",
       "\t    \t\t</p>\n",
       "\t    \t</div>\n",
       "    \t</div>\n",
       "    \t\n",
       "\t\t<div style=\"position:relative; clear:both; content: ' '; display: block; height: 1px; margin-top: 10px; margin-bottom:20px\">\n",
       "\t\t\t<hr style=\"color: gray; width: 95%;\" />\n",
       "\t\t</div>\n",
       "\t\t\n",
       "    \t<div style=\"position: relative; width: 100%; height:auto; overflow: auto;\">\n",
       "\t    \t<div style=\"position: relative; float:left; width: 120px; margin-top:5px\">\n",
       "\t    \t\t<img style=\"width:250px; height: auto; max-height:150px\" src=\"../../data/retrotech/images/708431390614.jpg\">\n",
       "\t    \t</div>\n",
       "\t    \t<div style=\"position:relative; float:left; clear:none; width: 80%; height:auto\">\n",
       "\t    \t\t<p style=\"font-size:24px; padding-left: 50px;\"><strong>\t\tName:</strong> LeapFrog - Leapster Explorer Learning Game: Star Wars The Clone Wars\n",
       "\t\t\t\t\t<br><strong>\t\tManufacturer:</strong> LeapFrog</p>\n",
       "\t    \t\t</p>\n",
       "\t    \t</div>\n",
       "    \t</div>\n",
       "    \t\n",
       "\t\t<div style=\"position:relative; clear:both; content: ' '; display: block; height: 1px; margin-top: 10px; margin-bottom:20px\">\n",
       "\t\t\t<hr style=\"color: gray; width: 95%;\" />\n",
       "\t\t</div>\n",
       "\t\t\n",
       "    \t<div style=\"position: relative; width: 100%; height:auto; overflow: auto;\">\n",
       "\t    \t<div style=\"position: relative; float:left; width: 120px; margin-top:5px\">\n",
       "\t    \t\t<img style=\"width:250px; height: auto; max-height:150px\" src=\"../../data/retrotech/images/886973561621.jpg\">\n",
       "\t    \t</div>\n",
       "\t    \t<div style=\"position:relative; float:left; clear:none; width: 80%; height:auto\">\n",
       "\t    \t\t<p style=\"font-size:24px; padding-left: 50px;\"><strong>\t\tName:</strong> Star Wars: The Clone War - Original Soundtrack - CD\n",
       "\t\t\t\t\t<br><strong>\t\tManufacturer:</strong> Sony Classics</p>\n",
       "\t    \t\t</p>\n",
       "\t    \t</div>\n",
       "    \t</div>\n",
       "    \t\n",
       "\t\t<div style=\"position:relative; clear:both; content: ' '; display: block; height: 1px; margin-top: 10px; margin-bottom:20px\">\n",
       "\t\t\t<hr style=\"color: gray; width: 95%;\" />\n",
       "\t\t</div>\n",
       "\t\t\n",
       "    \t<div style=\"position: relative; width: 100%; height:auto; overflow: auto;\">\n",
       "\t    \t<div style=\"position: relative; float:left; width: 120px; margin-top:5px\">\n",
       "\t    \t\t<img style=\"width:250px; height: auto; max-height:150px\" src=\"../../data/retrotech/images/unavailable.jpg\">\n",
       "\t    \t</div>\n",
       "\t    \t<div style=\"position:relative; float:left; clear:none; width: 80%; height:auto\">\n",
       "\t    \t\t<p style=\"font-size:24px; padding-left: 50px;\"><strong>\t\tName:</strong> Microsoft - Xbox 360 Console Limited Edition Kinect Star Wars Bundle\n",
       "\t\t\t\t\t<br><strong>\t\tManufacturer:</strong> Microsoft</p>\n",
       "\t    \t\t</p>\n",
       "\t    \t</div>\n",
       "    \t</div>\n",
       "    \t\n",
       "\t\t<div style=\"position:relative; clear:both; content: ' '; display: block; height: 1px; margin-top: 10px; margin-bottom:20px\">\n",
       "\t\t\t<hr style=\"color: gray; width: 95%;\" />\n",
       "\t\t</div>\n",
       "\t\t"
      ],
      "text/plain": [
       "<IPython.core.display.HTML object>"
      ]
     },
     "metadata": {},
     "output_type": "display_data"
    }
   ],
   "source": [
    "query = '\"star wars\"'\n",
    "\n",
    "boosted_request = boosted_product_search_request(query, anti_spam_collection)\n",
    "response = products_collection.search(**boosted_request)\n",
    "\n",
    "print(products_collection.transform_request(**boosted_request))\n",
    "display_product_search(query, response[\"docs\"])"
   ]
  },
  {
   "cell_type": "markdown",
   "metadata": {},
   "source": [
    "## Mixing multiple signal types"
   ]
  },
  {
   "cell_type": "markdown",
   "metadata": {},
   "source": [
    "### Listing 8.6"
   ]
  },
  {
   "cell_type": "code",
   "execution_count": null,
   "metadata": {},
   "outputs": [
    {
     "name": "stdout",
     "output_type": "stream",
     "text": [
      "Aggregating Signals to Create Signals Boosts...\n",
      "Wiping \"signals_boosts_weighted_types\" collection\n",
      "Creating \"signals_boosts_weighted_types\" collection\n",
      "Successfully written 152252 documents\n",
      "Signals Aggregation Completed!\n"
     ]
    }
   ],
   "source": [
    "#One Signal per User - Anti-Spam\n",
    "#Sometimes needs rerunning\n",
    "mixed_signal_types_aggregation_query = \"\"\"\n",
    "SELECT query, doc, ((1 * click_boost) + (10 * add_to_cart_boost) +\n",
    "                    (25 * purchase_boost)) AS boost FROM (\n",
    "  SELECT query, doc, \n",
    "    SUM(click) AS click_boost,\n",
    "    SUM(add_to_cart) AS add_to_cart_boost,\n",
    "    SUM(purchase) AS purchase_boost FROM (  \n",
    "      SELECT lower(q.target) AS query, cap.target AS doc, \n",
    "        IF(cap.type = 'click', 1, 0) AS click, \n",
    "        IF(cap.type = 'add-to-cart', 1, 0) AS  add_to_cart, \n",
    "        IF(cap.type = 'purchase', 1, 0) AS purchase\n",
    "      FROM signals cap LEFT JOIN signals q on cap.query_id = q.query_id\n",
    "      WHERE (cap.type != 'query' AND q.type = 'query')\n",
    "    ) AS raw_signals\n",
    "  GROUP BY query, doc) AS per_type_boosts\"\"\"\n",
    "\n",
    "type_weighted_collection = \\\n",
    "  aggregate_signals(signals_collection, \"signals_boosts_weighted_types\",\n",
    "                    mixed_signal_types_aggregation_query)"
   ]
  },
  {
   "cell_type": "markdown",
   "metadata": {},
   "source": [
    "## Time Decay"
   ]
  },
  {
   "cell_type": "markdown",
   "metadata": {},
   "source": [
    "### Listing 8.7"
   ]
  },
  {
   "cell_type": "code",
   "execution_count": null,
   "metadata": {},
   "outputs": [
    {
     "data": {
      "text/plain": [
       "[Row(query='ipad', doc='885909457588', boost=393.7375135481846),\n",
       " Row(query='lcd tv', doc='036725236271', boost=364.5789251039551),\n",
       " Row(query='iphone 4s', doc='885909459858', boost=347.48738828026234),\n",
       " Row(query='iphone 4s', doc='885909459834', boost=285.35705083623367),\n",
       " Row(query='captain america', doc='097361538242', boost=284.36415802958675),\n",
       " Row(query='kindle fire', doc='814916014385', boost=239.0717066901078),\n",
       " Row(query='ipod touch', doc='885909394845', boost=229.54563849686693),\n",
       " Row(query='captain america', doc='097361538341', boost=221.69731691601507),\n",
       " Row(query='ipod', doc='885909394845', boost=206.729516965349),\n",
       " Row(query='kindle', doc='814916014361', boost=205.64119798194164)]"
      ]
     },
     "metadata": {},
     "output_type": "display_data"
    },
    {
     "name": "stdout",
     "output_type": "stream",
     "text": [
      "Aggregating Signals to Create Signals Boosts...\n",
      "Wiping \"signals_boosts_time_weighted\" collection\n",
      "Creating \"signals_boosts_time_weighted\" collection\n",
      "Successfully written 152251 documents\n",
      "Signals Aggregation Completed!\n"
     ]
    }
   ],
   "source": [
    "half_life_days = 30\n",
    "target_date = \"2020-06-01\" #date of latest signal in our dataset. In live system use now().\n",
    "signal_weight = 1 #can make this a function to differentiate weights for different signal types\n",
    "\"\"\n",
    "time_decay_aggregation = f\"\"\"\n",
    "SELECT query, doc, SUM(time_weighted_signals.time_weighted_boost) AS boost FROM (\n",
    "  SELECT user, query, doc,\n",
    "  {signal_weight} * POW(0.5, (DATEDIFF('{target_date}', raw_signals.t) / {half_life_days}))\n",
    "  AS time_weighted_boost FROM (\n",
    "    SELECT c.user AS user, lower(q.target) AS query, c.target AS doc,\n",
    "    MAX(c.signal_time) as t\n",
    "    FROM signals c LEFT JOIN signals q ON c.query_id = q.query_id\n",
    "    WHERE c.type = 'click' AND q.type = 'query'\n",
    "          AND c.signal_time <= '{target_date}'\n",
    "    GROUP BY c.user, q.target, c.target\n",
    "  ) AS raw_signals \n",
    ") AS time_weighted_signals\n",
    "GROUP BY query, doc\n",
    "ORDER BY boost DESC\"\"\"\n",
    "df = from_sql(time_decay_aggregation)\n",
    "display(df.head(10))\n",
    "time_weighted_collection = \\\n",
    "    aggregate_signals(signals_collection, \"signals_boosts_time_weighted\", \n",
    "                      time_decay_aggregation)"
   ]
  },
  {
   "cell_type": "code",
   "execution_count": null,
   "metadata": {
    "scrolled": true
   },
   "outputs": [
    {
     "name": "stdout",
     "output_type": "stream",
     "text": [
      "Boost Documents:\n"
     ]
    },
    {
     "data": {
      "text/plain": [
       "[{'query': 'star wars',\n",
       "  'doc': '024543742180',\n",
       "  'boost': 50.27564958868424,\n",
       "  'id': '8iC2AZMBaGEfEmlKP65f',\n",
       "  'score': None},\n",
       " {'query': 'star wars',\n",
       "  'doc': '023272342654',\n",
       "  'boost': 14.38608117522819,\n",
       "  'id': 'qiC2AZMBaGEfEmlKP8qN',\n",
       "  'score': None},\n",
       " {'query': 'star wars',\n",
       "  'doc': '024543742074',\n",
       "  'boost': 10.97870811313978,\n",
       "  'id': 'XCC2AZMBaGEfEmlKP-W8',\n",
       "  'score': None},\n",
       " {'query': 'star wars',\n",
       "  'doc': '883929154012',\n",
       "  'boost': 10.22196625832087,\n",
       "  'id': 'YyC2AZMBaGEfEmlKP-a8',\n",
       "  'score': None},\n",
       " {'query': 'star wars',\n",
       "  'doc': '023272342630',\n",
       "  'boost': 8.086104767176469,\n",
       "  'id': 'uiC2AZMBaGEfEmlKP_na',\n",
       "  'score': None},\n",
       " {'query': 'star wars',\n",
       "  'doc': '886973561621',\n",
       "  'boost': 7.196654524422255,\n",
       "  'id': 'yiC2AZMBaGEfEmlKP_va',\n",
       "  'score': None},\n",
       " {'query': 'star wars',\n",
       "  'doc': '030206742121',\n",
       "  'boost': 6.0339109822265105,\n",
       "  'id': 'ZiG2AZMBaGEfEmlKPwr7',\n",
       "  'score': None},\n",
       " {'query': 'star wars',\n",
       "  'doc': '024543742098',\n",
       "  'boost': 6.411867877358414,\n",
       "  'id': 'dSG2AZMBaGEfEmlKPwj7',\n",
       "  'score': None},\n",
       " {'query': 'star wars',\n",
       "  'doc': '014633169546',\n",
       "  'boost': 5.732256133253928,\n",
       "  'id': '8SG2AZMBaGEfEmlKPwv7',\n",
       "  'score': None},\n",
       " {'query': 'star wars',\n",
       "  'doc': '708431390614',\n",
       "  'boost': 5.200090923395828,\n",
       "  'id': '2SG2AZMBaGEfEmlKQBkb',\n",
       "  'score': None},\n",
       " {'query': 'star wars',\n",
       "  'doc': '024543559856',\n",
       "  'boost': 4.79595089562249,\n",
       "  'id': 'giG2AZMBaGEfEmlKQBsb',\n",
       "  'score': None},\n",
       " {'query': 'star wars',\n",
       "  'doc': '023272341381',\n",
       "  'boost': 2.9199459597275252,\n",
       "  'id': 'JyG2AZMBaGEfEmlKQGZt',\n",
       "  'score': None},\n",
       " {'query': 'star wars',\n",
       "  'doc': '014633169522',\n",
       "  'boost': 2.2727988663619274,\n",
       "  'id': 'JSG2AZMBaGEfEmlKQJWX',\n",
       "  'score': None},\n",
       " {'query': 'star wars',\n",
       "  'doc': '886971404722',\n",
       "  'boost': 2.244924096618746,\n",
       "  'id': 'qyG2AZMBaGEfEmlKQJWX',\n",
       "  'score': None},\n",
       " {'query': 'star wars',\n",
       "  'doc': '400032015667',\n",
       "  'boost': 1.4480483379761806,\n",
       "  'id': 'HSG2AZMBaGEfEmlKQOT1',\n",
       "  'score': None},\n",
       " {'query': 'star wars',\n",
       "  'doc': '024543560067',\n",
       "  'boost': 1.6538835179903377,\n",
       "  'id': 'YiG2AZMBaGEfEmlKQM_Y',\n",
       "  'score': None},\n",
       " {'query': 'star wars',\n",
       "  'doc': '883929201952',\n",
       "  'boost': 0.0078125,\n",
       "  'id': 'YSC2AZMBaGEfEmlKP925',\n",
       "  'score': None},\n",
       " {'query': 'star wars',\n",
       "  'doc': '883929058945',\n",
       "  'boost': 0.005524271728019902,\n",
       "  'id': 'dCG2AZMBaGEfEmlKQDc8',\n",
       "  'score': None},\n",
       " {'query': 'star wars',\n",
       "  'doc': '602527791494',\n",
       "  'boost': 0.0049215666011518475,\n",
       "  'id': 'USG2AZMBaGEfEmlKQFBU',\n",
       "  'score': None},\n",
       " {'query': 'star wars',\n",
       "  'doc': '711719807803',\n",
       "  'boost': 0.0049215666011518475,\n",
       "  'id': 'XSG2AZMBaGEfEmlKQFBU',\n",
       "  'score': None}]"
      ]
     },
     "metadata": {},
     "output_type": "display_data"
    },
    {
     "name": "stdout",
     "output_type": "stream",
     "text": [
      "\n",
      "Boost Query: \n",
      "\"024543742180\"^50.27564958868424 \"023272342654\"^14.38608117522819 \"024543742074\"^10.97870811313978 \"883929154012\"^10.22196625832087 \"023272342630\"^8.086104767176469 \"886973561621\"^7.196654524422255 \"030206742121\"^6.0339109822265105 \"024543742098\"^6.411867877358414 \"014633169546\"^5.732256133253928 \"708431390614\"^5.200090923395828 \"024543559856\"^4.79595089562249 \"023272341381\"^2.9199459597275252 \"014633169522\"^2.2727988663619274 \"886971404722\"^2.244924096618746 \"400032015667\"^1.4480483379761806 \"024543560067\"^1.6538835179903377 \"883929201952\"^0.0078125 \"883929058945\"^0.005524271728019902 \"602527791494\"^0.0049215666011518475 \"711719807803\"^0.0049215666011518475\n",
      "\n",
      "{'query': {'bool': {'must': [{'query_string': {'query': '\"star wars\"', 'boost': 0.454545454, 'default_operator': 'OR', 'fields': ['name', 'manufacturer', 'long_description']}}], 'should': [{'match': {'upc': {'query': '\"024543742180\"', 'boost': '50.27564958868424'}}}, {'match': {'upc': {'query': '\"023272342654\"', 'boost': '14.38608117522819'}}}, {'match': {'upc': {'query': '\"024543742074\"', 'boost': '10.97870811313978'}}}, {'match': {'upc': {'query': '\"883929154012\"', 'boost': '10.22196625832087'}}}, {'match': {'upc': {'query': '\"023272342630\"', 'boost': '8.086104767176469'}}}, {'match': {'upc': {'query': '\"886973561621\"', 'boost': '7.196654524422255'}}}, {'match': {'upc': {'query': '\"030206742121\"', 'boost': '6.0339109822265105'}}}, {'match': {'upc': {'query': '\"024543742098\"', 'boost': '6.411867877358414'}}}, {'match': {'upc': {'query': '\"014633169546\"', 'boost': '5.732256133253928'}}}, {'match': {'upc': {'query': '\"708431390614\"', 'boost': '5.200090923395828'}}}, {'match': {'upc': {'query': '\"024543559856\"', 'boost': '4.79595089562249'}}}, {'match': {'upc': {'query': '\"023272341381\"', 'boost': '2.9199459597275252'}}}, {'match': {'upc': {'query': '\"014633169522\"', 'boost': '2.2727988663619274'}}}, {'match': {'upc': {'query': '\"886971404722\"', 'boost': '2.244924096618746'}}}, {'match': {'upc': {'query': '\"400032015667\"', 'boost': '1.4480483379761806'}}}, {'match': {'upc': {'query': '\"024543560067\"', 'boost': '1.6538835179903377'}}}, {'match': {'upc': {'query': '\"883929201952\"', 'boost': '0.0078125'}}}, {'match': {'upc': {'query': '\"883929058945\"', 'boost': '0.005524271728019902'}}}, {'match': {'upc': {'query': '\"602527791494\"', 'boost': '0.0049215666011518475'}}}, {'match': {'upc': {'query': '\"711719807803\"', 'boost': '0.0049215666011518475'}}}]}}, 'size': 5, 'fields': ['upc', 'name', 'manufacturer', 'short_description', 'score'], 'sort': [{'_score': {'order': 'desc'}}, {'upc': {'order': 'asc'}}]}\n"
     ]
    },
    {
     "data": {
      "text/html": [
       "<div id=\"demo\">\n",
       "\t<center><input style=\"width:40%\" readonly type=\"text\" name=\"q\" value=\"\"star wars\"\">\n",
       "\t<input readonly type=\"submit\" value=\"Search\">\n",
       "\t</center>\n",
       "    <div class=\"results\">\n",
       "    \t\n",
       "\n",
       "    </div>\n",
       "</div>\n",
       "    \t<div style=\"position: relative; width: 100%; height:auto; overflow: auto;\">\n",
       "\t    \t<div style=\"position: relative; float:left; width: 120px; margin-top:5px\">\n",
       "\t    \t\t<img style=\"width:250px; height: auto; max-height:150px\" src=\"../../data/retrotech/images/883929154012.jpg\">\n",
       "\t    \t</div>\n",
       "\t    \t<div style=\"position:relative; float:left; clear:none; width: 80%; height:auto\">\n",
       "\t    \t\t<p style=\"font-size:24px; padding-left: 50px;\"><strong>\t\tName:</strong> Star Wars: The Clone Wars - The Complete Season Three [4 Discs] - DVD\n",
       "\t\t\t\t\t<br><strong>\t\tManufacturer:</strong> LucasFilm</p>\n",
       "\t    \t\t</p>\n",
       "\t    \t</div>\n",
       "    \t</div>\n",
       "    \t\n",
       "\t\t<div style=\"position:relative; clear:both; content: ' '; display: block; height: 1px; margin-top: 10px; margin-bottom:20px\">\n",
       "\t\t\t<hr style=\"color: gray; width: 95%;\" />\n",
       "\t\t</div>\n",
       "\t\t\n",
       "    \t<div style=\"position: relative; width: 100%; height:auto; overflow: auto;\">\n",
       "\t    \t<div style=\"position: relative; float:left; width: 120px; margin-top:5px\">\n",
       "\t    \t\t<img style=\"width:250px; height: auto; max-height:150px\" src=\"../../data/retrotech/images/886973561621.jpg\">\n",
       "\t    \t</div>\n",
       "\t    \t<div style=\"position:relative; float:left; clear:none; width: 80%; height:auto\">\n",
       "\t    \t\t<p style=\"font-size:24px; padding-left: 50px;\"><strong>\t\tName:</strong> Star Wars: The Clone War - Original Soundtrack - CD\n",
       "\t\t\t\t\t<br><strong>\t\tManufacturer:</strong> Sony Classics</p>\n",
       "\t    \t\t</p>\n",
       "\t    \t</div>\n",
       "    \t</div>\n",
       "    \t\n",
       "\t\t<div style=\"position:relative; clear:both; content: ' '; display: block; height: 1px; margin-top: 10px; margin-bottom:20px\">\n",
       "\t\t\t<hr style=\"color: gray; width: 95%;\" />\n",
       "\t\t</div>\n",
       "\t\t\n",
       "    \t<div style=\"position: relative; width: 100%; height:auto; overflow: auto;\">\n",
       "\t    \t<div style=\"position: relative; float:left; width: 120px; margin-top:5px\">\n",
       "\t    \t\t<img style=\"width:250px; height: auto; max-height:150px\" src=\"../../data/retrotech/images/708431390614.jpg\">\n",
       "\t    \t</div>\n",
       "\t    \t<div style=\"position:relative; float:left; clear:none; width: 80%; height:auto\">\n",
       "\t    \t\t<p style=\"font-size:24px; padding-left: 50px;\"><strong>\t\tName:</strong> LeapFrog - Leapster Explorer Learning Game: Star Wars The Clone Wars\n",
       "\t\t\t\t\t<br><strong>\t\tManufacturer:</strong> LeapFrog</p>\n",
       "\t    \t\t</p>\n",
       "\t    \t</div>\n",
       "    \t</div>\n",
       "    \t\n",
       "\t\t<div style=\"position:relative; clear:both; content: ' '; display: block; height: 1px; margin-top: 10px; margin-bottom:20px\">\n",
       "\t\t\t<hr style=\"color: gray; width: 95%;\" />\n",
       "\t\t</div>\n",
       "\t\t\n",
       "    \t<div style=\"position: relative; width: 100%; height:auto; overflow: auto;\">\n",
       "\t    \t<div style=\"position: relative; float:left; width: 120px; margin-top:5px\">\n",
       "\t    \t\t<img style=\"width:250px; height: auto; max-height:150px\" src=\"../../data/retrotech/images/886971404722.jpg\">\n",
       "\t    \t</div>\n",
       "\t    \t<div style=\"position:relative; float:left; clear:none; width: 80%; height:auto\">\n",
       "\t    \t\t<p style=\"font-size:24px; padding-left: 50px;\"><strong>\t\tName:</strong> Star Wars: The Corellian Edition [DSD CD] - CD\n",
       "\t\t\t\t\t<br><strong>\t\tManufacturer:</strong> Sony Music Distribution (USA)</p>\n",
       "\t    \t\t</p>\n",
       "\t    \t</div>\n",
       "    \t</div>\n",
       "    \t\n",
       "\t\t<div style=\"position:relative; clear:both; content: ' '; display: block; height: 1px; margin-top: 10px; margin-bottom:20px\">\n",
       "\t\t\t<hr style=\"color: gray; width: 95%;\" />\n",
       "\t\t</div>\n",
       "\t\t\n",
       "    \t<div style=\"position: relative; width: 100%; height:auto; overflow: auto;\">\n",
       "\t    \t<div style=\"position: relative; float:left; width: 120px; margin-top:5px\">\n",
       "\t    \t\t<img style=\"width:250px; height: auto; max-height:150px\" src=\"../../data/retrotech/images/400032015667.jpg\">\n",
       "\t    \t</div>\n",
       "\t    \t<div style=\"position:relative; float:left; clear:none; width: 80%; height:auto\">\n",
       "\t    \t\t<p style=\"font-size:24px; padding-left: 50px;\"><strong>\t\tName:</strong> Star Wars - The Complete Saga - Blu-ray Disc\n",
       "\t\t\t\t\t<br><strong>\t\tManufacturer:</strong> LucasFilm</p>\n",
       "\t    \t\t</p>\n",
       "\t    \t</div>\n",
       "    \t</div>\n",
       "    \t\n",
       "\t\t<div style=\"position:relative; clear:both; content: ' '; display: block; height: 1px; margin-top: 10px; margin-bottom:20px\">\n",
       "\t\t\t<hr style=\"color: gray; width: 95%;\" />\n",
       "\t\t</div>\n",
       "\t\t"
      ],
      "text/plain": [
       "<IPython.core.display.HTML object>"
      ]
     },
     "metadata": {},
     "output_type": "display_data"
    }
   ],
   "source": [
    "query = '\"star wars\"'\n",
    "\n",
    "boosted_request = boosted_product_search_request(query, time_weighted_collection)\n",
    "print(products_collection.transform_request(**boosted_request))\n",
    "\n",
    "response = products_collection.search(**boosted_request)\n",
    "display_product_search(query, response[\"docs\"])"
   ]
  },
  {
   "cell_type": "code",
   "execution_count": null,
   "metadata": {},
   "outputs": [
    {
     "name": "stdout",
     "output_type": "stream",
     "text": [
      "Wiping \"products_with_signals_boosts\" collection\n",
      "Creating \"products_with_signals_boosts\" collection\n",
      "Loading Products\n",
      "Schema: \n",
      "root\n",
      " |-- upc: string (nullable = true)\n",
      " |-- name: string (nullable = true)\n",
      " |-- manufacturer: string (nullable = true)\n",
      " |-- short_description: string (nullable = true)\n",
      " |-- long_description: string (nullable = true)\n",
      "\n",
      "Successfully written 48194 documents\n"
     ]
    }
   ],
   "source": [
    "from aips.data_loaders.products import load_dataframe\n",
    "boosted_products_collection = engine.create_collection(\"products_with_signals_boosts\")\n",
    "boosted_products_collection.write(load_dataframe(\"data/retrotech/products.csv\"))"
   ]
  },
  {
   "cell_type": "markdown",
   "metadata": {},
   "source": [
    "### Listing 8.8"
   ]
  },
  {
   "cell_type": "code",
   "execution_count": null,
   "metadata": {},
   "outputs": [],
   "source": [
    "from aips.data_loaders import index_time_boosts\n",
    "\n",
    "boosts_collection = engine.get_collection(\"normalized_signals_boosts\")\n",
    "boosted_products_collection = \\\n",
    "    engine.get_collection(\"products_with_signals_boosts\")\n",
    "\n",
    "boosted_products = index_time_boosts.load_dataframe(\n",
    "    boosted_products_collection,\n",
    "    boosts_collection)\n",
    "\n",
    "boosted_products_collection.write(boosted_products)"
   ]
  },
  {
   "cell_type": "markdown",
   "metadata": {
    "tags": []
   },
   "source": [
    "## Index-time Signals Boosting Query"
   ]
  },
  {
   "cell_type": "markdown",
   "metadata": {},
   "source": [
    "### Listing 8.9"
   ]
  },
  {
   "cell_type": "code",
   "execution_count": null,
   "metadata": {},
   "outputs": [],
   "source": [
    "def get_boosted_search_request(query, boost_field):\n",
    "    request = product_search_request(query)\n",
    "    request[\"index_time_boost\"] = (boost_field, query)\n",
    "    return request"
   ]
  },
  {
   "cell_type": "code",
   "execution_count": null,
   "metadata": {},
   "outputs": [
    {
     "data": {
      "text/html": [
       "<div id=\"demo\">\n",
       "\t<center><input style=\"width:40%\" readonly type=\"text\" name=\"q\" value=\"ipad\">\n",
       "\t<input readonly type=\"submit\" value=\"Search\">\n",
       "\t</center>\n",
       "    <div class=\"results\">\n",
       "    \t\n",
       "\n",
       "    </div>\n",
       "</div>\n",
       "    \t<div style=\"position: relative; width: 100%; height:auto; overflow: auto;\">\n",
       "\t    \t<div style=\"position: relative; float:left; width: 120px; margin-top:5px\">\n",
       "\t    \t\t<img style=\"width:250px; height: auto; max-height:150px\" src=\"../../data/retrotech/images/885909457588.jpg\">\n",
       "\t    \t</div>\n",
       "\t    \t<div style=\"position:relative; float:left; clear:none; width: 80%; height:auto\">\n",
       "\t    \t\t<p style=\"font-size:24px; padding-left: 50px;\"><strong>\t\tName:</strong> Apple&#xAE; - iPad&#xAE; 2 with Wi-Fi - 16GB - Black\n",
       "\t\t\t\t\t<br><strong>\t\tManufacturer:</strong> Apple&#xAE;</p>\n",
       "\t    \t\t</p>\n",
       "\t    \t</div>\n",
       "    \t</div>\n",
       "    \t\n",
       "\t\t<div style=\"position:relative; clear:both; content: ' '; display: block; height: 1px; margin-top: 10px; margin-bottom:20px\">\n",
       "\t\t\t<hr style=\"color: gray; width: 95%;\" />\n",
       "\t\t</div>\n",
       "\t\t\n",
       "    \t<div style=\"position: relative; width: 100%; height:auto; overflow: auto;\">\n",
       "\t    \t<div style=\"position: relative; float:left; width: 120px; margin-top:5px\">\n",
       "\t    \t\t<img style=\"width:250px; height: auto; max-height:150px\" src=\"../../data/retrotech/images/843404073153.jpg\">\n",
       "\t    \t</div>\n",
       "\t    \t<div style=\"position:relative; float:left; clear:none; width: 80%; height:auto\">\n",
       "\t    \t\t<p style=\"font-size:24px; padding-left: 50px;\"><strong>\t\tName:</strong> ZAGG - InvisibleSHIELD for Apple&#xAE; iPad&#xAE; 2 - Clear\n",
       "\t\t\t\t\t<br><strong>\t\tManufacturer:</strong> ZAGG</p>\n",
       "\t    \t\t</p>\n",
       "\t    \t</div>\n",
       "    \t</div>\n",
       "    \t\n",
       "\t\t<div style=\"position:relative; clear:both; content: ' '; display: block; height: 1px; margin-top: 10px; margin-bottom:20px\">\n",
       "\t\t\t<hr style=\"color: gray; width: 95%;\" />\n",
       "\t\t</div>\n",
       "\t\t\n",
       "    \t<div style=\"position: relative; width: 100%; height:auto; overflow: auto;\">\n",
       "\t    \t<div style=\"position: relative; float:left; width: 120px; margin-top:5px\">\n",
       "\t    \t\t<img style=\"width:250px; height: auto; max-height:150px\" src=\"../../data/retrotech/images/885909457601.jpg\">\n",
       "\t    \t</div>\n",
       "\t    \t<div style=\"position:relative; float:left; clear:none; width: 80%; height:auto\">\n",
       "\t    \t\t<p style=\"font-size:24px; padding-left: 50px;\"><strong>\t\tName:</strong> Apple&#xAE; - iPad&#xAE; 2 with Wi-Fi - 64GB - Black\n",
       "\t\t\t\t\t<br><strong>\t\tManufacturer:</strong> Apple&#xAE;</p>\n",
       "\t    \t\t</p>\n",
       "\t    \t</div>\n",
       "    \t</div>\n",
       "    \t\n",
       "\t\t<div style=\"position:relative; clear:both; content: ' '; display: block; height: 1px; margin-top: 10px; margin-bottom:20px\">\n",
       "\t\t\t<hr style=\"color: gray; width: 95%;\" />\n",
       "\t\t</div>\n",
       "\t\t\n",
       "    \t<div style=\"position: relative; width: 100%; height:auto; overflow: auto;\">\n",
       "\t    \t<div style=\"position: relative; float:left; width: 120px; margin-top:5px\">\n",
       "\t    \t\t<img style=\"width:250px; height: auto; max-height:150px\" src=\"../../data/retrotech/images/885909457632.jpg\">\n",
       "\t    \t</div>\n",
       "\t    \t<div style=\"position:relative; float:left; clear:none; width: 80%; height:auto\">\n",
       "\t    \t\t<p style=\"font-size:24px; padding-left: 50px;\"><strong>\t\tName:</strong> Apple&#xAE; - iPad&#xAE; 2 with Wi-Fi + 3G - 64GB (AT&T) - Black\n",
       "\t\t\t\t\t<br><strong>\t\tManufacturer:</strong> Apple&#xAE;</p>\n",
       "\t    \t\t</p>\n",
       "\t    \t</div>\n",
       "    \t</div>\n",
       "    \t\n",
       "\t\t<div style=\"position:relative; clear:both; content: ' '; display: block; height: 1px; margin-top: 10px; margin-bottom:20px\">\n",
       "\t\t\t<hr style=\"color: gray; width: 95%;\" />\n",
       "\t\t</div>\n",
       "\t\t\n",
       "    \t<div style=\"position: relative; width: 100%; height:auto; overflow: auto;\">\n",
       "\t    \t<div style=\"position: relative; float:left; width: 120px; margin-top:5px\">\n",
       "\t    \t\t<img style=\"width:250px; height: auto; max-height:150px\" src=\"../../data/retrotech/images/unavailable.jpg\">\n",
       "\t    \t</div>\n",
       "\t    \t<div style=\"position:relative; float:left; clear:none; width: 80%; height:auto\">\n",
       "\t    \t\t<p style=\"font-size:24px; padding-left: 50px;\"><strong>\t\tName:</strong> Apple&#xAE; - iPad&#xAE; 2 with Wi-Fi + 3G - 64GB (Verizon Wireless) - Black\n",
       "\t\t\t\t\t<br><strong>\t\tManufacturer:</strong> Apple&#xAE;</p>\n",
       "\t    \t\t</p>\n",
       "\t    \t</div>\n",
       "    \t</div>\n",
       "    \t\n",
       "\t\t<div style=\"position:relative; clear:both; content: ' '; display: block; height: 1px; margin-top: 10px; margin-bottom:20px\">\n",
       "\t\t\t<hr style=\"color: gray; width: 95%;\" />\n",
       "\t\t</div>\n",
       "\t\t"
      ],
      "text/plain": [
       "<IPython.core.display.HTML object>"
      ]
     },
     "metadata": {},
     "output_type": "display_data"
    }
   ],
   "source": [
    "query = \"ipad\"\n",
    "boosted_query = get_boosted_search_request(query, \"signals_boosts\")\n",
    "response = boosted_products_collection.search(**boosted_query)\n",
    "display_product_search(query, response[\"docs\"])"
   ]
  },
  {
   "cell_type": "markdown",
   "metadata": {},
   "source": [
    "Up next: Chapter 9 - [Personalized Search](../ch09/1.personalization.ipynb)"
   ]
  }
 ],
 "metadata": {
  "kernelspec": {
   "display_name": "Python 3 (ipykernel)",
   "language": "python",
   "name": "python3"
  },
  "language_info": {
   "codemirror_mode": {
    "name": "ipython",
    "version": 3
   },
   "file_extension": ".py",
   "mimetype": "text/x-python",
   "name": "python",
   "nbconvert_exporter": "python",
   "pygments_lexer": "ipython3",
   "version": "3.10.9"
  }
 },
 "nbformat": 4,
 "nbformat_minor": 4
}
