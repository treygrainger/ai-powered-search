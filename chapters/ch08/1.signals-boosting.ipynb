{
 "cells": [
  {
   "cell_type": "markdown",
   "metadata": {},
   "source": [
    "# [ Chapter 8 - Signals Boosting Models ]\n",
    "# Signals Boosting"
   ]
  },
  {
   "cell_type": "markdown",
   "metadata": {},
   "source": [
    "NOTE: This notebook depends upon the the Retrotech dataset. If you have any issues, please rerun the [Setting up the Retrotech Dataset](../ch04/1.setting-up-the-retrotech-dataset.ipynb) notebook."
   ]
  },
  {
   "cell_type": "code",
   "execution_count": 1,
   "metadata": {},
   "outputs": [],
   "source": [
    "from datetime import datetime\n",
    "from pyspark.sql import SparkSession\n",
    "\n",
    "from aips import display_product_search, get_engine, set_engine\n",
    "from aips.spark import create_view_from_collection\n",
    "from aips.spark.dataframe import from_sql\n",
    "\n",
    "spark = SparkSession.builder.appName(\"AIPS\").getOrCreate()\n",
    "engine = get_engine()\n",
    "signals_collection = engine.get_collection(\"signals\")"
   ]
  },
  {
   "cell_type": "markdown",
   "metadata": {},
   "source": [
    "## Keyword Search with No Signals Boosting"
   ]
  },
  {
   "cell_type": "markdown",
   "metadata": {},
   "source": [
    "### Figure 8.1"
   ]
  },
  {
   "cell_type": "code",
   "execution_count": 2,
   "metadata": {},
   "outputs": [],
   "source": [
    "#%run chapters/ch04/1.setting-up-the-retrotech-dataset.ipynb"
   ]
  },
  {
   "cell_type": "code",
   "execution_count": 3,
   "metadata": {},
   "outputs": [],
   "source": [
    "# %load -s product_search_request aips/search_requests\n",
    "def product_search_request(query, param_overrides={}):\n",
    "    request = {\"query\": query,\n",
    "               \"query_fields\": [\"name\", \"manufacturer\", \"long_description\"],\n",
    "               \"return_fields\": [\"upc\", \"name\", \"manufacturer\",\n",
    "                                 \"short_description\", \"score\"],\n",
    "               \"limit\": 5,\n",
    "               \"order_by\": [(\"score\", \"desc\"), (\"upc\", \"asc\")]}\n",
    "    return request | param_overrides"
   ]
  },
  {
   "cell_type": "code",
   "execution_count": 4,
   "metadata": {},
   "outputs": [
    {
     "data": {
      "text/html": [
       "<div id=\"demo\">\n",
       "\t<center><input style=\"width:40%\" readonly type=\"text\" name=\"q\" value=\"ipad\">\n",
       "\t<input readonly type=\"submit\" value=\"Search\">\n",
       "\t</center>\n",
       "    <div class=\"results\">\n",
       "    \t\n",
       "\n",
       "    </div>\n",
       "</div>\n",
       "    \t<div style=\"position: relative; width: 100%; height:auto; overflow: auto;\">\n",
       "\t    \t<div style=\"position: relative; float:left; width: 120px; margin-top:5px\">\n",
       "\t    \t\t<img style=\"width:250px; height: auto; max-height:150px\" src=\"../../data/retrotech/images/400037252074.jpg\">\n",
       "\t    \t</div>\n",
       "\t    \t<div style=\"position:relative; float:left; clear:none; width: 80%; height:auto\">\n",
       "\t    \t\t<p style=\"font-size:24px; padding-left: 50px;\"><strong>\t\tName:</strong> iPad&#xAE; - Refurbished Digital A/V Adapter\n",
       "\t\t\t\t\t<br><strong>\t\tManufacturer:</strong> iPad&#xAE;</p>\n",
       "\t    \t\t</p>\n",
       "\t    \t</div>\n",
       "    \t</div>\n",
       "    \t\n",
       "\t\t<div style=\"position:relative; clear:both; content: ' '; display: block; height: 1px; margin-top: 10px; margin-bottom:20px\">\n",
       "\t\t\t<hr style=\"color: gray; width: 95%;\" />\n",
       "\t\t</div>\n",
       "\t\t\n",
       "    \t<div style=\"position: relative; width: 100%; height:auto; overflow: auto;\">\n",
       "\t    \t<div style=\"position: relative; float:left; width: 120px; margin-top:5px\">\n",
       "\t    \t\t<img style=\"width:250px; height: auto; max-height:150px\" src=\"../../data/retrotech/images/400037252258.jpg\">\n",
       "\t    \t</div>\n",
       "\t    \t<div style=\"position:relative; float:left; clear:none; width: 80%; height:auto\">\n",
       "\t    \t\t<p style=\"font-size:24px; padding-left: 50px;\"><strong>\t\tName:</strong> iPad&#xAE; - Refurbished USB Power Adapter\n",
       "\t\t\t\t\t<br><strong>\t\tManufacturer:</strong> iPad&#xAE;</p>\n",
       "\t    \t\t</p>\n",
       "\t    \t</div>\n",
       "    \t</div>\n",
       "    \t\n",
       "\t\t<div style=\"position:relative; clear:both; content: ' '; display: block; height: 1px; margin-top: 10px; margin-bottom:20px\">\n",
       "\t\t\t<hr style=\"color: gray; width: 95%;\" />\n",
       "\t\t</div>\n",
       "\t\t\n",
       "    \t<div style=\"position: relative; width: 100%; height:auto; overflow: auto;\">\n",
       "\t    \t<div style=\"position: relative; float:left; width: 120px; margin-top:5px\">\n",
       "\t    \t\t<img style=\"width:250px; height: auto; max-height:150px\" src=\"../../data/retrotech/images/400037252616.jpg\">\n",
       "\t    \t</div>\n",
       "\t    \t<div style=\"position:relative; float:left; clear:none; width: 80%; height:auto\">\n",
       "\t    \t\t<p style=\"font-size:24px; padding-left: 50px;\"><strong>\t\tName:</strong> iPad&#xAE; - Refurbished Dock Connector-to-VGA Adapter\n",
       "\t\t\t\t\t<br><strong>\t\tManufacturer:</strong> iPad&#xAE;</p>\n",
       "\t    \t\t</p>\n",
       "\t    \t</div>\n",
       "    \t</div>\n",
       "    \t\n",
       "\t\t<div style=\"position:relative; clear:both; content: ' '; display: block; height: 1px; margin-top: 10px; margin-bottom:20px\">\n",
       "\t\t\t<hr style=\"color: gray; width: 95%;\" />\n",
       "\t\t</div>\n",
       "\t\t\n",
       "    \t<div style=\"position: relative; width: 100%; height:auto; overflow: auto;\">\n",
       "\t    \t<div style=\"position: relative; float:left; width: 120px; margin-top:5px\">\n",
       "\t    \t\t<img style=\"width:250px; height: auto; max-height:150px\" src=\"../../data/retrotech/images/400037252890.jpg\">\n",
       "\t    \t</div>\n",
       "\t    \t<div style=\"position:relative; float:left; clear:none; width: 80%; height:auto\">\n",
       "\t    \t\t<p style=\"font-size:24px; padding-left: 50px;\"><strong>\t\tName:</strong> iPad&#xAE; - Refurbished Keyboard Dock\n",
       "\t\t\t\t\t<br><strong>\t\tManufacturer:</strong> iPad&#xAE;</p>\n",
       "\t    \t\t</p>\n",
       "\t    \t</div>\n",
       "    \t</div>\n",
       "    \t\n",
       "\t\t<div style=\"position:relative; clear:both; content: ' '; display: block; height: 1px; margin-top: 10px; margin-bottom:20px\">\n",
       "\t\t\t<hr style=\"color: gray; width: 95%;\" />\n",
       "\t\t</div>\n",
       "\t\t\n",
       "    \t<div style=\"position: relative; width: 100%; height:auto; overflow: auto;\">\n",
       "\t    \t<div style=\"position: relative; float:left; width: 120px; margin-top:5px\">\n",
       "\t    \t\t<img style=\"width:250px; height: auto; max-height:150px\" src=\"../../data/retrotech/images/400037253316.jpg\">\n",
       "\t    \t</div>\n",
       "\t    \t<div style=\"position:relative; float:left; clear:none; width: 80%; height:auto\">\n",
       "\t    \t\t<p style=\"font-size:24px; padding-left: 50px;\"><strong>\t\tName:</strong> iPad&#xAE; - Refurbished Digital Camera Connection Kit\n",
       "\t\t\t\t\t<br><strong>\t\tManufacturer:</strong> iPad&#xAE;</p>\n",
       "\t    \t\t</p>\n",
       "\t    \t</div>\n",
       "    \t</div>\n",
       "    \t\n",
       "\t\t<div style=\"position:relative; clear:both; content: ' '; display: block; height: 1px; margin-top: 10px; margin-bottom:20px\">\n",
       "\t\t\t<hr style=\"color: gray; width: 95%;\" />\n",
       "\t\t</div>\n",
       "\t\t"
      ],
      "text/plain": [
       "<IPython.core.display.HTML object>"
      ]
     },
     "metadata": {},
     "output_type": "display_data"
    }
   ],
   "source": [
    "products_collection = engine.get_collection(\"products\")\n",
    "query = \"ipad\"\n",
    "request = product_search_request(query)\n",
    "response = products_collection.search(**request)\n",
    "display_product_search(query, response[\"docs\"])"
   ]
  },
  {
   "cell_type": "markdown",
   "metadata": {},
   "source": [
    "## Create Signals Boosts (Signals Aggregation)"
   ]
  },
  {
   "cell_type": "markdown",
   "metadata": {},
   "source": [
    "### Basic Signals Boosting Model"
   ]
  },
  {
   "cell_type": "code",
   "execution_count": 5,
   "metadata": {},
   "outputs": [],
   "source": [
    "def aggregate_signals(signals_collection, collection_name, signals_agg_query):\n",
    "    print(\"Aggregating Signals to Create Signals Boosts...\")\n",
    "    create_view_from_collection(signals_collection, \"signals\")\n",
    "    collection = engine.create_collection(collection_name)\n",
    "    collection.write(from_sql(signals_agg_query))\n",
    "    collection.commit()\n",
    "    print(\"Signals Aggregation Completed!\")\n",
    "    return collection"
   ]
  },
  {
   "cell_type": "markdown",
   "metadata": {},
   "source": [
    "## Search with Signals Boosts Applied"
   ]
  },
  {
   "cell_type": "markdown",
   "metadata": {},
   "source": [
    "### Signals Boosting Query"
   ]
  },
  {
   "cell_type": "markdown",
   "metadata": {},
   "source": [
    "## Raw Signals Boosts (Case-sensitive)"
   ]
  },
  {
   "cell_type": "markdown",
   "metadata": {},
   "source": [
    "### Listing 8.1"
   ]
  },
  {
   "cell_type": "code",
   "execution_count": 6,
   "metadata": {},
   "outputs": [],
   "source": [
    "# %load -s search_for_boosts aips/search_requests\n",
    "def search_for_boosts(query, collection, query_field=\"query\"):\n",
    "    boosts_request = {\"query\": query,\n",
    "                      \"query_fields\": [query_field],\n",
    "                      \"return_fields\": [\"query\", \"doc\", \"boost\"],\n",
    "                      \"limit\": 20,\n",
    "                      \"order_by\": [(\"boost\", \"desc\")]}\n",
    "    response = collection.search(**boosts_request)\n",
    "    return response[\"docs\"]"
   ]
  },
  {
   "cell_type": "code",
   "execution_count": 7,
   "metadata": {},
   "outputs": [],
   "source": [
    "def create_boosting_collection(collection_name):\n",
    "    basic_signals_aggregation_query = \"\"\"\n",
    "    SELECT q.target AS query, c.target AS doc,\n",
    "    COUNT(c.target) AS boost\n",
    "    FROM signals c LEFT JOIN signals q\n",
    "    ON c.query_id = q.query_id\n",
    "    WHERE c.type = 'click' AND q.type = 'query'\n",
    "    GROUP BY q.target, doc\n",
    "    ORDER BY boost DESC\n",
    "    \"\"\"\n",
    "    collection = engine.get_collection(collection_name)\n",
    "    return aggregate_signals(collection, \"basic_signals_boosts\", basic_signals_aggregation_query)"
   ]
  },
  {
   "cell_type": "code",
   "execution_count": 8,
   "metadata": {},
   "outputs": [],
   "source": [
    "def show_raw_boosted_queries(boost_documents):\n",
    "    boosted_queries = \"\\n\".join([f'\"{doc[\"query\"]}\" : {doc[\"boost\"]}'\n",
    "                                 for doc in boost_documents])\n",
    "    print(\"Raw Boosted Queries\")\n",
    "    print(boosted_queries)"
   ]
  },
  {
   "cell_type": "code",
   "execution_count": 9,
   "metadata": {},
   "outputs": [
    {
     "name": "stdout",
     "output_type": "stream",
     "text": [
      "Aggregating Signals to Create Signals Boosts...\n",
      "Wiping \"basic_signals_boosts\" collection\n",
      "Creating \"basic_signals_boosts\" collection\n",
      "Status: Success\n",
      "Successfully written 26864 documents\n",
      "Signals Aggregation Completed!\n"
     ]
    }
   ],
   "source": [
    "signals_boosting_collection = create_boosting_collection(\"signals\")"
   ]
  },
  {
   "cell_type": "code",
   "execution_count": 10,
   "metadata": {},
   "outputs": [
    {
     "name": "stdout",
     "output_type": "stream",
     "text": [
      "Raw Boosted Queries\n",
      "\"ipad\" : 288\n",
      "\"iPad\" : 288\n",
      "\"Ipad\" : 218\n",
      "\"iPad 2\" : 147\n",
      "\"ipad 2\" : 80\n",
      "\"Ipad2\" : 71\n",
      "\"I pad\" : 65\n",
      "\"ipad2\" : 63\n",
      "\"Ipad 2\" : 49\n",
      "\"i pad\" : 40\n",
      "\"IPad\" : 26\n",
      "\"Apple\" : 20\n",
      "\"I pad 2\" : 15\n",
      "\"tablets\" : 15\n",
      "\"ipads\" : 14\n",
      "\"iPad2\" : 13\n",
      "\"Tablets\" : 11\n",
      "\"iPads\" : 11\n",
      "\"Apple iPad\" : 11\n",
      "\"apple ipad\" : 11\n"
     ]
    }
   ],
   "source": [
    "query = \"885909457588\" #most popular iPad model\n",
    "signals_docs = search_for_boosts(query, signals_boosting_collection, \"doc\")\n",
    "show_raw_boosted_queries(signals_docs)    "
   ]
  },
  {
   "cell_type": "markdown",
   "metadata": {},
   "source": [
    "## Normalized Signals Boosting (Case-insensitive)"
   ]
  },
  {
   "cell_type": "markdown",
   "metadata": {},
   "source": [
    "### Listing 8.2"
   ]
  },
  {
   "cell_type": "code",
   "execution_count": 11,
   "metadata": {},
   "outputs": [
    {
     "name": "stdout",
     "output_type": "stream",
     "text": [
      "Aggregating Signals to Create Signals Boosts...\n",
      "Wiping \"normalized_signals_boosts\" collection\n",
      "Creating \"normalized_signals_boosts\" collection\n",
      "Status: Success\n",
      "Successfully written 22275 documents\n",
      "Signals Aggregation Completed!\n"
     ]
    }
   ],
   "source": [
    "normalized_signals_aggregation_query = \"\"\"\n",
    "SELECT LOWER(q.target) AS query,\n",
    "c.target AS doc, COUNT(c.target) AS boost\n",
    "FROM signals c LEFT JOIN signals q ON c.query_id = q.query_id\n",
    "WHERE c.type = 'click' AND q.type = 'query'\n",
    "GROUP BY LOWER(q.target), doc\n",
    "ORDER BY boost DESC\"\"\"\n",
    "\n",
    "normalized_collection = \\\n",
    "  aggregate_signals(signals_collection, \"normalized_signals_boosts\",\n",
    "                    normalized_signals_aggregation_query)"
   ]
  },
  {
   "cell_type": "code",
   "execution_count": 12,
   "metadata": {},
   "outputs": [
    {
     "name": "stdout",
     "output_type": "stream",
     "text": [
      "Raw Boosted Queries\n",
      "\"ipad\" : 825\n",
      "\"ipad 2\" : 285\n",
      "\"ipad2\" : 149\n",
      "\"i pad\" : 106\n",
      "\"ipads\" : 38\n",
      "\"apple ipad\" : 34\n",
      "\"apple\" : 30\n",
      "\"tablets\" : 26\n",
      "\"i pad 2\" : 22\n",
      "\"tablet\" : 12\n",
      "\"ipad 1\" : 10\n",
      "\"ipaq\" : 10\n",
      "\"hp touchpad\" : 10\n",
      "\"wi\" : 7\n",
      "\"apple ipad 2\" : 6\n",
      "\"samsung galaxy\" : 6\n",
      "\"apple computer\" : 5\n",
      "\"tablet pc\" : 5\n",
      "\"ipad apple\" : 4\n",
      "\"galaxy tab\" : 4\n"
     ]
    }
   ],
   "source": [
    "query = \"885909457588\" #most popular iPad model\n",
    "signals_docs = search_for_boosts(query, normalized_collection, \"doc\")\n",
    "show_raw_boosted_queries(signals_docs)"
   ]
  },
  {
   "cell_type": "markdown",
   "metadata": {},
   "source": [
    "## Star Wars Search before User Manipulation"
   ]
  },
  {
   "cell_type": "markdown",
   "metadata": {},
   "source": [
    "### Figure 8.2"
   ]
  },
  {
   "cell_type": "code",
   "execution_count": 13,
   "metadata": {},
   "outputs": [],
   "source": [
    "# %load -s create_boosts_query,boosted_product_search_request aips/search_requests\n",
    "def create_boosts_query(boost_documents):\n",
    "    print(\"Boost Documents:\")\n",
    "    display(boost_documents)\n",
    "    boosts = \" \".join([f'\"{b[\"doc\"]}\"^{b[\"boost\"]}' \n",
    "                       for b in boost_documents])\n",
    "    print(f\"\\nBoost Query: \\n{boosts}\\n\")\n",
    "    return boosts"
   ]
  },
  {
   "cell_type": "code",
   "execution_count": 14,
   "metadata": {},
   "outputs": [],
   "source": [
    "def boosted_product_search_request(query, collection, boost_field=None):\n",
    "    signals_documents = search_for_boosts(query, collection)\n",
    "    signals_boosts = create_boosts_query(signals_documents)\n",
    "    boosted_request = product_search_request(query)\n",
    "    if boost_field:\n",
    "        signals_boosts = (boost_field, signals_boosts)\n",
    "    boosted_request[\"query_boosts\"] = signals_boosts\n",
    "    return boosted_request"
   ]
  },
  {
   "cell_type": "code",
   "execution_count": 15,
   "metadata": {},
   "outputs": [
    {
     "name": "stdout",
     "output_type": "stream",
     "text": [
      "Boost Documents:\n"
     ]
    },
    {
     "data": {
      "text/plain": [
       "[{'query': 'star wars', 'doc': '45626176', 'boost': 45000},\n",
       " {'query': 'star wars', 'doc': '024543559856', 'boost': 38},\n",
       " {'query': 'star wars', 'doc': '024543781875', 'boost': 18},\n",
       " {'query': 'star wars', 'doc': '023272342630', 'boost': 4},\n",
       " {'query': 'star wars', 'doc': '024543707103', 'boost': 2},\n",
       " {'query': 'star wars', 'doc': '883929094561', 'boost': 1},\n",
       " {'query': 'star wars', 'doc': '097361455044', 'boost': 1},\n",
       " {'query': 'star wars', 'doc': '883929101597', 'boost': 1},\n",
       " {'query': 'star wars', 'doc': '024543056201', 'boost': 1},\n",
       " {'query': 'star wars', 'doc': '885170033481', 'boost': 1},\n",
       " {'query': 'star wars', 'doc': '046838044359', 'boost': 1},\n",
       " {'query': 'star wars', 'doc': '649496012397', 'boost': 1}]"
      ]
     },
     "metadata": {},
     "output_type": "display_data"
    },
    {
     "name": "stdout",
     "output_type": "stream",
     "text": [
      "\n",
      "Boost Query: \n",
      "\"45626176\"^45000 \"024543559856\"^38 \"024543781875\"^18 \"023272342630\"^4 \"024543707103\"^2 \"883929094561\"^1 \"097361455044\"^1 \"883929101597\"^1 \"024543056201\"^1 \"885170033481\"^1 \"046838044359\"^1 \"649496012397\"^1\n",
      "\n"
     ]
    },
    {
     "data": {
      "text/html": [
       "<div id=\"demo\">\n",
       "\t<center><input style=\"width:40%\" readonly type=\"text\" name=\"q\" value=\"star wars\">\n",
       "\t<input readonly type=\"submit\" value=\"Search\">\n",
       "\t</center>\n",
       "    <div class=\"results\">\n",
       "    \t\n",
       "\n",
       "    </div>\n",
       "</div>\n",
       "    \t<div style=\"position: relative; width: 100%; height:auto; overflow: auto;\">\n",
       "\t    \t<div style=\"position: relative; float:left; width: 120px; margin-top:5px\">\n",
       "\t    \t\t<img style=\"width:250px; height: auto; max-height:150px\" src=\"../../data/retrotech/images/45626176.jpg\">\n",
       "\t    \t</div>\n",
       "\t    \t<div style=\"position:relative; float:left; clear:none; width: 80%; height:auto\">\n",
       "\t    \t\t<p style=\"font-size:24px; padding-left: 50px;\"><strong>\t\tName:</strong> Trash Can (Star Wars Themed)\n",
       "\t\t\t\t\t<br><strong>\t\tManufacturer:</strong> Jay Franco & Sons</p>\n",
       "\t    \t\t</p>\n",
       "\t    \t</div>\n",
       "    \t</div>\n",
       "    \t\n",
       "\t\t<div style=\"position:relative; clear:both; content: ' '; display: block; height: 1px; margin-top: 10px; margin-bottom:20px\">\n",
       "\t\t\t<hr style=\"color: gray; width: 95%;\" />\n",
       "\t\t</div>\n",
       "\t\t\n",
       "    \t<div style=\"position: relative; width: 100%; height:auto; overflow: auto;\">\n",
       "\t    \t<div style=\"position: relative; float:left; width: 120px; margin-top:5px\">\n",
       "\t    \t\t<img style=\"width:250px; height: auto; max-height:150px\" src=\"../../data/retrotech/images/unavailable.jpg\">\n",
       "\t    \t</div>\n",
       "\t    \t<div style=\"position:relative; float:left; clear:none; width: 80%; height:auto\">\n",
       "\t    \t\t<p style=\"font-size:24px; padding-left: 50px;\"><strong>\t\tName:</strong> Robot Chicken: Star Wars III - Fullscreen Subtitle - DVD\n",
       "\t\t\t\t\t<br><strong>\t\tManufacturer:</strong>  </p>\n",
       "\t    \t\t</p>\n",
       "\t    \t</div>\n",
       "    \t</div>\n",
       "    \t\n",
       "\t\t<div style=\"position:relative; clear:both; content: ' '; display: block; height: 1px; margin-top: 10px; margin-bottom:20px\">\n",
       "\t\t\t<hr style=\"color: gray; width: 95%;\" />\n",
       "\t\t</div>\n",
       "\t\t\n",
       "    \t<div style=\"position: relative; width: 100%; height:auto; overflow: auto;\">\n",
       "\t    \t<div style=\"position: relative; float:left; width: 120px; margin-top:5px\">\n",
       "\t    \t\t<img style=\"width:250px; height: auto; max-height:150px\" src=\"../../data/retrotech/images/unavailable.jpg\">\n",
       "\t    \t</div>\n",
       "\t    \t<div style=\"position:relative; float:left; clear:none; width: 80%; height:auto\">\n",
       "\t    \t\t<p style=\"font-size:24px; padding-left: 50px;\"><strong>\t\tName:</strong> Star Wars: The Clone Wars - The Complete Season One [2 Discs] [Blu-ray] - Blu-ray Disc\n",
       "\t\t\t\t\t<br><strong>\t\tManufacturer:</strong>  </p>\n",
       "\t    \t\t</p>\n",
       "\t    \t</div>\n",
       "    \t</div>\n",
       "    \t\n",
       "\t\t<div style=\"position:relative; clear:both; content: ' '; display: block; height: 1px; margin-top: 10px; margin-bottom:20px\">\n",
       "\t\t\t<hr style=\"color: gray; width: 95%;\" />\n",
       "\t\t</div>\n",
       "\t\t\n",
       "    \t<div style=\"position: relative; width: 100%; height:auto; overflow: auto;\">\n",
       "\t    \t<div style=\"position: relative; float:left; width: 120px; margin-top:5px\">\n",
       "\t    \t\t<img style=\"width:250px; height: auto; max-height:150px\" src=\"../../data/retrotech/images/23272335397.jpg\">\n",
       "\t    \t</div>\n",
       "\t    \t<div style=\"position:relative; float:left; clear:none; width: 80%; height:auto\">\n",
       "\t    \t\t<p style=\"font-size:24px; padding-left: 50px;\"><strong>\t\tName:</strong> Star Wars Battlefront: Elite Squadron - PSP\n",
       "\t\t\t\t\t<br><strong>\t\tManufacturer:</strong> LucasArts</p>\n",
       "\t    \t\t</p>\n",
       "\t    \t</div>\n",
       "    \t</div>\n",
       "    \t\n",
       "\t\t<div style=\"position:relative; clear:both; content: ' '; display: block; height: 1px; margin-top: 10px; margin-bottom:20px\">\n",
       "\t\t\t<hr style=\"color: gray; width: 95%;\" />\n",
       "\t\t</div>\n",
       "\t\t\n",
       "    \t<div style=\"position: relative; width: 100%; height:auto; overflow: auto;\">\n",
       "\t    \t<div style=\"position: relative; float:left; width: 120px; margin-top:5px\">\n",
       "\t    \t\t<img style=\"width:250px; height: auto; max-height:150px\" src=\"../../data/retrotech/images/unavailable.jpg\">\n",
       "\t    \t</div>\n",
       "\t    \t<div style=\"position:relative; float:left; clear:none; width: 80%; height:auto\">\n",
       "\t    \t\t<p style=\"font-size:24px; padding-left: 50px;\"><strong>\t\tName:</strong> Star Wars Battlefront: Elite Squadron - Nintendo DS\n",
       "\t\t\t\t\t<br><strong>\t\tManufacturer:</strong> LucasArts</p>\n",
       "\t    \t\t</p>\n",
       "\t    \t</div>\n",
       "    \t</div>\n",
       "    \t\n",
       "\t\t<div style=\"position:relative; clear:both; content: ' '; display: block; height: 1px; margin-top: 10px; margin-bottom:20px\">\n",
       "\t\t\t<hr style=\"color: gray; width: 95%;\" />\n",
       "\t\t</div>\n",
       "\t\t"
      ],
      "text/plain": [
       "<IPython.core.display.HTML object>"
      ]
     },
     "metadata": {},
     "output_type": "display_data"
    }
   ],
   "source": [
    "query = '\"star wars\"'\n",
    "boosted_request = boosted_product_search_request(query, normalized_collection, \"upc\")\n",
    "boosted_request[\"filter\"] = [(\"-upc\", \"45626176\")]\n",
    "\n",
    "response = products_collection.search(**boosted_request)\n",
    "display_product_search(\"star wars\", response[\"docs\"])"
   ]
  },
  {
   "cell_type": "markdown",
   "metadata": {},
   "source": [
    "## Simulating a malicious user"
   ]
  },
  {
   "cell_type": "markdown",
   "metadata": {},
   "source": [
    "### Listing 8.3"
   ]
  },
  {
   "cell_type": "code",
   "execution_count": 16,
   "metadata": {},
   "outputs": [
    {
     "name": "stdout",
     "output_type": "stream",
     "text": [
      "\n",
      "Adding Documents to 'signals' collection\n",
      "Aggregating Signals to Create Signals Boosts...\n",
      "Wiping \"signals_boosts_with_spam\" collection\n",
      "Creating \"signals_boosts_with_spam\" collection\n",
      "Status: Success\n",
      "Successfully written 22275 documents\n",
      "Signals Aggregation Completed!\n"
     ]
    }
   ],
   "source": [
    "signals_collection = engine.get_collection(\"signals\")\n",
    "spam_user = \"u8675309\"\n",
    "spam_query = \"star wars\"\n",
    "spam_signal_boost_doc_upc = \"45626176\" #doc for a \"trash compactor\" from someone who wants star wars is rubbish!\n",
    "\n",
    "signal_docs = []\n",
    "for num in range(5000): #generate 5,000 query and click signals\n",
    "    query_id = f\"u8675309_0_{num}\"\n",
    "    query_signal = { \n",
    "        \"query_id\": query_id,\n",
    "        \"user\": spam_user,\n",
    "        \"type\": \"query\",\n",
    "        \"target\": spam_query,\n",
    "        \"signal_time\": datetime.now().strftime(\"%Y-%m-%dT%H:%M:%SZ\"),\n",
    "        #\"id\": f\"spam_signal_query_{num}\"\n",
    "    }\n",
    "    click_signal = { \n",
    "        \"query_id\": query_id,\n",
    "        \"user\": spam_user,\n",
    "        \"type\": \"click\",\n",
    "        \"target\": spam_signal_boost_doc_upc,\n",
    "        \"signal_time\": datetime.now().strftime(\"%Y-%m-%dT%H:%M:%SZ\"),\n",
    "        #\"id\": f\"spam_signal_click_{num}\"\n",
    "    }\n",
    "    signal_docs.extend([click_signal, query_signal])\n",
    "\n",
    "signals_collection.add_documents(signal_docs)\n",
    "#re-run the basic signals aggregation to process the malicious clicks\n",
    "\n",
    "spam_signals_collection = \\\n",
    "    aggregate_signals(signals_collection, \"signals_boosts_with_spam\",\n",
    "                      normalized_signals_aggregation_query)"
   ]
  },
  {
   "cell_type": "markdown",
   "metadata": {},
   "source": [
    "## Impact of Spam on Search Results"
   ]
  },
  {
   "cell_type": "markdown",
   "metadata": {},
   "source": [
    "### Listing 8.4"
   ]
  },
  {
   "cell_type": "code",
   "execution_count": 17,
   "metadata": {},
   "outputs": [
    {
     "name": "stdout",
     "output_type": "stream",
     "text": [
      "Boost Documents:\n"
     ]
    },
    {
     "data": {
      "text/plain": [
       "[{'query': 'star wars', 'doc': '45626176', 'boost': 80000},\n",
       " {'query': 'star wars', 'doc': '024543559856', 'boost': 38},\n",
       " {'query': 'star wars', 'doc': '024543781875', 'boost': 18},\n",
       " {'query': 'star wars', 'doc': '023272342630', 'boost': 4},\n",
       " {'query': 'star wars', 'doc': '024543707103', 'boost': 2},\n",
       " {'query': 'star wars', 'doc': '883929094561', 'boost': 1},\n",
       " {'query': 'star wars', 'doc': '097361455044', 'boost': 1},\n",
       " {'query': 'star wars', 'doc': '883929101597', 'boost': 1},\n",
       " {'query': 'star wars', 'doc': '024543056201', 'boost': 1},\n",
       " {'query': 'star wars', 'doc': '885170033481', 'boost': 1},\n",
       " {'query': 'star wars', 'doc': '046838044359', 'boost': 1},\n",
       " {'query': 'star wars', 'doc': '649496012397', 'boost': 1}]"
      ]
     },
     "metadata": {},
     "output_type": "display_data"
    },
    {
     "name": "stdout",
     "output_type": "stream",
     "text": [
      "\n",
      "Boost Query: \n",
      "\"45626176\"^80000 \"024543559856\"^38 \"024543781875\"^18 \"023272342630\"^4 \"024543707103\"^2 \"883929094561\"^1 \"097361455044\"^1 \"883929101597\"^1 \"024543056201\"^1 \"885170033481\"^1 \"046838044359\"^1 \"649496012397\"^1\n",
      "\n"
     ]
    },
    {
     "data": {
      "text/html": [
       "<div id=\"demo\">\n",
       "\t<center><input style=\"width:40%\" readonly type=\"text\" name=\"q\" value=\"\"star wars\"\">\n",
       "\t<input readonly type=\"submit\" value=\"Search\">\n",
       "\t</center>\n",
       "    <div class=\"results\">\n",
       "    \t\n",
       "\n",
       "    </div>\n",
       "</div>\n",
       "    \t<div style=\"position: relative; width: 100%; height:auto; overflow: auto;\">\n",
       "\t    \t<div style=\"position: relative; float:left; width: 120px; margin-top:5px\">\n",
       "\t    \t\t<img style=\"width:250px; height: auto; max-height:150px\" src=\"../../data/retrotech/images/45626176.jpg\">\n",
       "\t    \t</div>\n",
       "\t    \t<div style=\"position:relative; float:left; clear:none; width: 80%; height:auto\">\n",
       "\t    \t\t<p style=\"font-size:24px; padding-left: 50px;\"><strong>\t\tName:</strong> Trash Can (Star Wars Themed)\n",
       "\t\t\t\t\t<br><strong>\t\tManufacturer:</strong> Jay Franco & Sons</p>\n",
       "\t    \t\t</p>\n",
       "\t    \t</div>\n",
       "    \t</div>\n",
       "    \t\n",
       "\t\t<div style=\"position:relative; clear:both; content: ' '; display: block; height: 1px; margin-top: 10px; margin-bottom:20px\">\n",
       "\t\t\t<hr style=\"color: gray; width: 95%;\" />\n",
       "\t\t</div>\n",
       "\t\t\n",
       "    \t<div style=\"position: relative; width: 100%; height:auto; overflow: auto;\">\n",
       "\t    \t<div style=\"position: relative; float:left; width: 120px; margin-top:5px\">\n",
       "\t    \t\t<img style=\"width:250px; height: auto; max-height:150px\" src=\"../../data/retrotech/images/unavailable.jpg\">\n",
       "\t    \t</div>\n",
       "\t    \t<div style=\"position:relative; float:left; clear:none; width: 80%; height:auto\">\n",
       "\t    \t\t<p style=\"font-size:24px; padding-left: 50px;\"><strong>\t\tName:</strong> Robot Chicken: Star Wars III - Fullscreen Subtitle - DVD\n",
       "\t\t\t\t\t<br><strong>\t\tManufacturer:</strong>  </p>\n",
       "\t    \t\t</p>\n",
       "\t    \t</div>\n",
       "    \t</div>\n",
       "    \t\n",
       "\t\t<div style=\"position:relative; clear:both; content: ' '; display: block; height: 1px; margin-top: 10px; margin-bottom:20px\">\n",
       "\t\t\t<hr style=\"color: gray; width: 95%;\" />\n",
       "\t\t</div>\n",
       "\t\t\n",
       "    \t<div style=\"position: relative; width: 100%; height:auto; overflow: auto;\">\n",
       "\t    \t<div style=\"position: relative; float:left; width: 120px; margin-top:5px\">\n",
       "\t    \t\t<img style=\"width:250px; height: auto; max-height:150px\" src=\"../../data/retrotech/images/unavailable.jpg\">\n",
       "\t    \t</div>\n",
       "\t    \t<div style=\"position:relative; float:left; clear:none; width: 80%; height:auto\">\n",
       "\t    \t\t<p style=\"font-size:24px; padding-left: 50px;\"><strong>\t\tName:</strong> Star Wars: The Clone Wars - The Complete Season One [2 Discs] [Blu-ray] - Blu-ray Disc\n",
       "\t\t\t\t\t<br><strong>\t\tManufacturer:</strong>  </p>\n",
       "\t    \t\t</p>\n",
       "\t    \t</div>\n",
       "    \t</div>\n",
       "    \t\n",
       "\t\t<div style=\"position:relative; clear:both; content: ' '; display: block; height: 1px; margin-top: 10px; margin-bottom:20px\">\n",
       "\t\t\t<hr style=\"color: gray; width: 95%;\" />\n",
       "\t\t</div>\n",
       "\t\t\n",
       "    \t<div style=\"position: relative; width: 100%; height:auto; overflow: auto;\">\n",
       "\t    \t<div style=\"position: relative; float:left; width: 120px; margin-top:5px\">\n",
       "\t    \t\t<img style=\"width:250px; height: auto; max-height:150px\" src=\"../../data/retrotech/images/23272335397.jpg\">\n",
       "\t    \t</div>\n",
       "\t    \t<div style=\"position:relative; float:left; clear:none; width: 80%; height:auto\">\n",
       "\t    \t\t<p style=\"font-size:24px; padding-left: 50px;\"><strong>\t\tName:</strong> Star Wars Battlefront: Elite Squadron - PSP\n",
       "\t\t\t\t\t<br><strong>\t\tManufacturer:</strong> LucasArts</p>\n",
       "\t    \t\t</p>\n",
       "\t    \t</div>\n",
       "    \t</div>\n",
       "    \t\n",
       "\t\t<div style=\"position:relative; clear:both; content: ' '; display: block; height: 1px; margin-top: 10px; margin-bottom:20px\">\n",
       "\t\t\t<hr style=\"color: gray; width: 95%;\" />\n",
       "\t\t</div>\n",
       "\t\t\n",
       "    \t<div style=\"position: relative; width: 100%; height:auto; overflow: auto;\">\n",
       "\t    \t<div style=\"position: relative; float:left; width: 120px; margin-top:5px\">\n",
       "\t    \t\t<img style=\"width:250px; height: auto; max-height:150px\" src=\"../../data/retrotech/images/unavailable.jpg\">\n",
       "\t    \t</div>\n",
       "\t    \t<div style=\"position:relative; float:left; clear:none; width: 80%; height:auto\">\n",
       "\t    \t\t<p style=\"font-size:24px; padding-left: 50px;\"><strong>\t\tName:</strong> Star Wars Battlefront: Elite Squadron - Nintendo DS\n",
       "\t\t\t\t\t<br><strong>\t\tManufacturer:</strong> LucasArts</p>\n",
       "\t    \t\t</p>\n",
       "\t    \t</div>\n",
       "    \t</div>\n",
       "    \t\n",
       "\t\t<div style=\"position:relative; clear:both; content: ' '; display: block; height: 1px; margin-top: 10px; margin-bottom:20px\">\n",
       "\t\t\t<hr style=\"color: gray; width: 95%;\" />\n",
       "\t\t</div>\n",
       "\t\t"
      ],
      "text/plain": [
       "<IPython.core.display.HTML object>"
      ]
     },
     "metadata": {},
     "output_type": "display_data"
    }
   ],
   "source": [
    "# function boosted_product_search_request defined above before figure 8.2 code\n",
    "\n",
    "query = '\"star wars\"'\n",
    "boosted_request = boosted_product_search_request(query,\n",
    "                      spam_signals_collection, \"upc\")\n",
    "response = products_collection.search(**boosted_request)\n",
    "display_product_search(query, response[\"docs\"])"
   ]
  },
  {
   "cell_type": "markdown",
   "metadata": {},
   "source": [
    "## Fighting Signal Spam through User-level Deduplication"
   ]
  },
  {
   "cell_type": "markdown",
   "metadata": {},
   "source": [
    "### Listing 8.5"
   ]
  },
  {
   "cell_type": "code",
   "execution_count": 18,
   "metadata": {},
   "outputs": [
    {
     "name": "stdout",
     "output_type": "stream",
     "text": [
      "Aggregating Signals to Create Signals Boosts...\n",
      "Wiping \"signals_boosts_anti_spam\" collection\n",
      "Creating \"signals_boosts_anti_spam\" collection\n",
      "Status: Success\n",
      "Successfully written 22275 documents\n",
      "Signals Aggregation Completed!\n"
     ]
    }
   ],
   "source": [
    "#One Signal per User - Anti-Spam\n",
    "anti_spam_aggregation_query = \"\"\"\n",
    "SELECT query, doc, COUNT(doc) AS boost FROM (\n",
    "  SELECT c.user unique_user, LOWER(q.target) AS query, c.target AS doc,\n",
    "  MAX(c.signal_time) AS boost\n",
    "  FROM signals c LEFT JOIN signals q ON c.query_id = q.query_id\n",
    "  WHERE c.type = 'click' AND q.type = 'query'\n",
    "  GROUP BY unique_user, LOWER(q.target), doc)\n",
    "GROUP BY query, doc\n",
    "ORDER BY boost DESC\"\"\"\n",
    "\n",
    "anti_spam_collection = \\\n",
    "    aggregate_signals(signals_collection, \"signals_boosts_anti_spam\",\n",
    "                      anti_spam_aggregation_query)"
   ]
  },
  {
   "cell_type": "code",
   "execution_count": 19,
   "metadata": {},
   "outputs": [
    {
     "name": "stdout",
     "output_type": "stream",
     "text": [
      "Boost Documents:\n"
     ]
    },
    {
     "data": {
      "text/plain": [
       "[{'query': 'star wars', 'doc': '024543559856', 'boost': 38},\n",
       " {'query': 'star wars', 'doc': '024543781875', 'boost': 18},\n",
       " {'query': 'star wars', 'doc': '023272342630', 'boost': 4},\n",
       " {'query': 'star wars', 'doc': '024543707103', 'boost': 2},\n",
       " {'query': 'star wars', 'doc': '883929101597', 'boost': 1},\n",
       " {'query': 'star wars', 'doc': '45626176', 'boost': 1},\n",
       " {'query': 'star wars', 'doc': '024543056201', 'boost': 1},\n",
       " {'query': 'star wars', 'doc': '649496012397', 'boost': 1},\n",
       " {'query': 'star wars', 'doc': '097361455044', 'boost': 1},\n",
       " {'query': 'star wars', 'doc': '885170033481', 'boost': 1},\n",
       " {'query': 'star wars', 'doc': '046838044359', 'boost': 1},\n",
       " {'query': 'star wars', 'doc': '883929094561', 'boost': 1}]"
      ]
     },
     "metadata": {},
     "output_type": "display_data"
    },
    {
     "name": "stdout",
     "output_type": "stream",
     "text": [
      "\n",
      "Boost Query: \n",
      "\"024543559856\"^38 \"024543781875\"^18 \"023272342630\"^4 \"024543707103\"^2 \"883929101597\"^1 \"45626176\"^1 \"024543056201\"^1 \"649496012397\"^1 \"097361455044\"^1 \"885170033481\"^1 \"046838044359\"^1 \"883929094561\"^1\n",
      "\n",
      "{'query': '\"star wars\"', 'limit': 5, 'params': {'qf': ['name', 'manufacturer', 'long_description'], 'boost': 'sum(1,query($boost_query))', 'boost_query': '\"024543559856\"^38 \"024543781875\"^18 \"023272342630\"^4 \"024543707103\"^2 \"883929101597\"^1 \"45626176\"^1 \"024543056201\"^1 \"649496012397\"^1 \"097361455044\"^1 \"885170033481\"^1 \"046838044359\"^1 \"883929094561\"^1'}, 'fields': ['upc', 'name', 'manufacturer', 'short_description', 'score'], 'sort': 'score desc, upc asc'}\n"
     ]
    },
    {
     "data": {
      "text/html": [
       "<div id=\"demo\">\n",
       "\t<center><input style=\"width:40%\" readonly type=\"text\" name=\"q\" value=\"\"star wars\"\">\n",
       "\t<input readonly type=\"submit\" value=\"Search\">\n",
       "\t</center>\n",
       "    <div class=\"results\">\n",
       "    \t\n",
       "\n",
       "    </div>\n",
       "</div>\n",
       "    \t<div style=\"position: relative; width: 100%; height:auto; overflow: auto;\">\n",
       "\t    \t<div style=\"position: relative; float:left; width: 120px; margin-top:5px\">\n",
       "\t    \t\t<img style=\"width:250px; height: auto; max-height:150px\" src=\"../../data/retrotech/images/unavailable.jpg\">\n",
       "\t    \t</div>\n",
       "\t    \t<div style=\"position:relative; float:left; clear:none; width: 80%; height:auto\">\n",
       "\t    \t\t<p style=\"font-size:24px; padding-left: 50px;\"><strong>\t\tName:</strong> Robot Chicken: Star Wars III - Fullscreen Subtitle - DVD\n",
       "\t\t\t\t\t<br><strong>\t\tManufacturer:</strong>  </p>\n",
       "\t    \t\t</p>\n",
       "\t    \t</div>\n",
       "    \t</div>\n",
       "    \t\n",
       "\t\t<div style=\"position:relative; clear:both; content: ' '; display: block; height: 1px; margin-top: 10px; margin-bottom:20px\">\n",
       "\t\t\t<hr style=\"color: gray; width: 95%;\" />\n",
       "\t\t</div>\n",
       "\t\t\n",
       "    \t<div style=\"position: relative; width: 100%; height:auto; overflow: auto;\">\n",
       "\t    \t<div style=\"position: relative; float:left; width: 120px; margin-top:5px\">\n",
       "\t    \t\t<img style=\"width:250px; height: auto; max-height:150px\" src=\"../../data/retrotech/images/45626176.jpg\">\n",
       "\t    \t</div>\n",
       "\t    \t<div style=\"position:relative; float:left; clear:none; width: 80%; height:auto\">\n",
       "\t    \t\t<p style=\"font-size:24px; padding-left: 50px;\"><strong>\t\tName:</strong> Trash Can (Star Wars Themed)\n",
       "\t\t\t\t\t<br><strong>\t\tManufacturer:</strong> Jay Franco & Sons</p>\n",
       "\t    \t\t</p>\n",
       "\t    \t</div>\n",
       "    \t</div>\n",
       "    \t\n",
       "\t\t<div style=\"position:relative; clear:both; content: ' '; display: block; height: 1px; margin-top: 10px; margin-bottom:20px\">\n",
       "\t\t\t<hr style=\"color: gray; width: 95%;\" />\n",
       "\t\t</div>\n",
       "\t\t\n",
       "    \t<div style=\"position: relative; width: 100%; height:auto; overflow: auto;\">\n",
       "\t    \t<div style=\"position: relative; float:left; width: 120px; margin-top:5px\">\n",
       "\t    \t\t<img style=\"width:250px; height: auto; max-height:150px\" src=\"../../data/retrotech/images/unavailable.jpg\">\n",
       "\t    \t</div>\n",
       "\t    \t<div style=\"position:relative; float:left; clear:none; width: 80%; height:auto\">\n",
       "\t    \t\t<p style=\"font-size:24px; padding-left: 50px;\"><strong>\t\tName:</strong> Star Wars: The Clone Wars - The Complete Season One [2 Discs] [Blu-ray] - Blu-ray Disc\n",
       "\t\t\t\t\t<br><strong>\t\tManufacturer:</strong>  </p>\n",
       "\t    \t\t</p>\n",
       "\t    \t</div>\n",
       "    \t</div>\n",
       "    \t\n",
       "\t\t<div style=\"position:relative; clear:both; content: ' '; display: block; height: 1px; margin-top: 10px; margin-bottom:20px\">\n",
       "\t\t\t<hr style=\"color: gray; width: 95%;\" />\n",
       "\t\t</div>\n",
       "\t\t\n",
       "    \t<div style=\"position: relative; width: 100%; height:auto; overflow: auto;\">\n",
       "\t    \t<div style=\"position: relative; float:left; width: 120px; margin-top:5px\">\n",
       "\t    \t\t<img style=\"width:250px; height: auto; max-height:150px\" src=\"../../data/retrotech/images/23272335397.jpg\">\n",
       "\t    \t</div>\n",
       "\t    \t<div style=\"position:relative; float:left; clear:none; width: 80%; height:auto\">\n",
       "\t    \t\t<p style=\"font-size:24px; padding-left: 50px;\"><strong>\t\tName:</strong> Star Wars Battlefront: Elite Squadron - PSP\n",
       "\t\t\t\t\t<br><strong>\t\tManufacturer:</strong> LucasArts</p>\n",
       "\t    \t\t</p>\n",
       "\t    \t</div>\n",
       "    \t</div>\n",
       "    \t\n",
       "\t\t<div style=\"position:relative; clear:both; content: ' '; display: block; height: 1px; margin-top: 10px; margin-bottom:20px\">\n",
       "\t\t\t<hr style=\"color: gray; width: 95%;\" />\n",
       "\t\t</div>\n",
       "\t\t\n",
       "    \t<div style=\"position: relative; width: 100%; height:auto; overflow: auto;\">\n",
       "\t    \t<div style=\"position: relative; float:left; width: 120px; margin-top:5px\">\n",
       "\t    \t\t<img style=\"width:250px; height: auto; max-height:150px\" src=\"../../data/retrotech/images/unavailable.jpg\">\n",
       "\t    \t</div>\n",
       "\t    \t<div style=\"position:relative; float:left; clear:none; width: 80%; height:auto\">\n",
       "\t    \t\t<p style=\"font-size:24px; padding-left: 50px;\"><strong>\t\tName:</strong> Star Wars Battlefront: Elite Squadron - Nintendo DS\n",
       "\t\t\t\t\t<br><strong>\t\tManufacturer:</strong> LucasArts</p>\n",
       "\t    \t\t</p>\n",
       "\t    \t</div>\n",
       "    \t</div>\n",
       "    \t\n",
       "\t\t<div style=\"position:relative; clear:both; content: ' '; display: block; height: 1px; margin-top: 10px; margin-bottom:20px\">\n",
       "\t\t\t<hr style=\"color: gray; width: 95%;\" />\n",
       "\t\t</div>\n",
       "\t\t"
      ],
      "text/plain": [
       "<IPython.core.display.HTML object>"
      ]
     },
     "metadata": {},
     "output_type": "display_data"
    }
   ],
   "source": [
    "query = '\"star wars\"'\n",
    "\n",
    "boosted_request = boosted_product_search_request(query, anti_spam_collection)\n",
    "response = products_collection.search(**boosted_request)\n",
    "\n",
    "print(products_collection.transform_request(**boosted_request))\n",
    "display_product_search(query, response[\"docs\"])"
   ]
  },
  {
   "cell_type": "markdown",
   "metadata": {},
   "source": [
    "## Mixing multiple signal types"
   ]
  },
  {
   "cell_type": "markdown",
   "metadata": {},
   "source": [
    "### Listing 8.6"
   ]
  },
  {
   "cell_type": "code",
   "execution_count": 20,
   "metadata": {},
   "outputs": [
    {
     "name": "stdout",
     "output_type": "stream",
     "text": [
      "Aggregating Signals to Create Signals Boosts...\n",
      "Wiping \"signals_boosts_weighted_types\" collection\n",
      "Creating \"signals_boosts_weighted_types\" collection\n",
      "Status: Success\n",
      "Successfully written 37753 documents\n",
      "Signals Aggregation Completed!\n"
     ]
    }
   ],
   "source": [
    "#One Signal per User - Anti-Spam\n",
    "#Sometimes needs rerunning\n",
    "mixed_signal_types_aggregation_query = \"\"\"\n",
    "SELECT query, doc, ((1 * click_boost) + (10 * add_to_cart_boost) +\n",
    "                    (25 * purchase_boost)) AS boost FROM (\n",
    "  SELECT query, doc, \n",
    "    SUM(click) AS click_boost,\n",
    "    SUM(add_to_cart) AS add_to_cart_boost,\n",
    "    SUM(purchase) AS purchase_boost FROM (  \n",
    "      SELECT lower(q.target) AS query, cap.target AS doc, \n",
    "        IF(cap.type = 'click', 1, 0) AS click, \n",
    "        IF(cap.type = 'add-to-cart', 1, 0) AS  add_to_cart, \n",
    "        IF(cap.type = 'purchase', 1, 0) AS purchase\n",
    "      FROM signals cap LEFT JOIN signals q on cap.query_id = q.query_id\n",
    "      WHERE (cap.type != 'query' AND q.type = 'query')\n",
    "    ) AS raw_signals\n",
    "  GROUP BY query, doc) AS per_type_boosts\"\"\"\n",
    "\n",
    "type_weighted_collection = \\\n",
    "  aggregate_signals(signals_collection, \"signals_boosts_weighted_types\",\n",
    "                    mixed_signal_types_aggregation_query)"
   ]
  },
  {
   "cell_type": "markdown",
   "metadata": {},
   "source": [
    "## Time Decay"
   ]
  },
  {
   "cell_type": "markdown",
   "metadata": {},
   "source": [
    "### Listing 8.7"
   ]
  },
  {
   "cell_type": "code",
   "execution_count": 21,
   "metadata": {},
   "outputs": [
    {
     "data": {
      "text/plain": [
       "[Row(query='ipad', doc='885909457588', boost=106.71279299994391),\n",
       " Row(query='lcd tv', doc='036725236271', boost=96.76731183457318),\n",
       " Row(query='iphone 4s', doc='885909459858', boost=93.90265571576957),\n",
       " Row(query='captain america', doc='097361538242', boost=86.52895636400915),\n",
       " Row(query='iphone 4s', doc='885909459834', boost=75.79126389152162),\n",
       " Row(query='lcd tv', doc='022265004289', boost=50.06320010947017),\n",
       " Row(query='htc flyer', doc='821793013776', boost=46.84408647948601),\n",
       " Row(query='kindle', doc='814916014361', boost=42.828322236972696),\n",
       " Row(query='ipad 2', doc='885909457588', boost=32.28263773028682),\n",
       " Row(query='macbook', doc='885909436705', boost=26.67104571494802)]"
      ]
     },
     "metadata": {},
     "output_type": "display_data"
    },
    {
     "name": "stdout",
     "output_type": "stream",
     "text": [
      "Aggregating Signals to Create Signals Boosts...\n",
      "Wiping \"signals_boosts_time_weighted\" collection\n",
      "Creating \"signals_boosts_time_weighted\" collection\n",
      "Status: Success\n",
      "Successfully written 22274 documents\n",
      "Signals Aggregation Completed!\n"
     ]
    }
   ],
   "source": [
    "half_life_days = 30\n",
    "target_date = \"2020-06-01\" #date of latest signal in our dataset. In live system use now().\n",
    "signal_weight = 1 #can make this a function to differentiate weights for different signal types\n",
    "\"\"\n",
    "time_decay_aggregation = f\"\"\"\n",
    "SELECT query, doc, SUM(time_weighted_signals.time_weighted_boost) AS boost FROM (\n",
    "  SELECT user, query, doc,\n",
    "  {signal_weight} * POW(0.5, (DATEDIFF('{target_date}', raw_signals.t) / {half_life_days}))\n",
    "  AS time_weighted_boost FROM (\n",
    "    SELECT c.user AS user, lower(q.target) AS query, c.target AS doc,\n",
    "    MAX(c.signal_time) as t\n",
    "    FROM signals c LEFT JOIN signals q ON c.query_id = q.query_id\n",
    "    WHERE c.type = 'click' AND q.type = 'query'\n",
    "          AND c.signal_time <= '{target_date}'\n",
    "    GROUP BY c.user, q.target, c.target\n",
    "  ) AS raw_signals \n",
    ") AS time_weighted_signals\n",
    "GROUP BY query, doc\n",
    "ORDER BY boost DESC\"\"\"\n",
    "df = from_sql(time_decay_aggregation)\n",
    "display(df.head(10))\n",
    "time_weighted_collection = \\\n",
    "    aggregate_signals(signals_collection, \"signals_boosts_time_weighted\", \n",
    "                      time_decay_aggregation)"
   ]
  },
  {
   "cell_type": "code",
   "execution_count": 22,
   "metadata": {
    "scrolled": true
   },
   "outputs": [
    {
     "name": "stdout",
     "output_type": "stream",
     "text": [
      "Boost Documents:\n"
     ]
    },
    {
     "data": {
      "text/plain": [
       "[{'query': 'star wars', 'doc': '023272342630', 'boost': 1.7239745663504313},\n",
       " {'query': 'star wars', 'doc': '024543559856', 'boost': 0.6650305681032787},\n",
       " {'query': 'star wars', 'doc': '649496012397', 'boost': 0.5612310241546865},\n",
       " {'query': 'star wars', 'doc': '024543781875', 'boost': 0.2160736394955972},\n",
       " {'query': 'star wars', 'doc': '885170033481', 'boost': 0.0717936471873147},\n",
       " {'query': 'star wars', 'doc': '046838044359', 'boost': 0.011306790917502953},\n",
       " {'query': 'star wars', 'doc': '024543707103', 'boost': 0.0072405901697968475},\n",
       " {'query': 'star wars', 'doc': '097361455044', 'boost': 0.007122831941861067},\n",
       " {'query': 'star wars', 'doc': '883929101597', 'boost': 0.00515432777645662},\n",
       " {'query': 'star wars', 'doc': '883929094561', 'boost': 0.0031003926796253885},\n",
       " {'query': 'star wars',\n",
       "  'doc': '024543056201',\n",
       "  'boost': 0.00028044393432544786}]"
      ]
     },
     "metadata": {},
     "output_type": "display_data"
    },
    {
     "name": "stdout",
     "output_type": "stream",
     "text": [
      "\n",
      "Boost Query: \n",
      "\"023272342630\"^1.7239745663504313 \"024543559856\"^0.6650305681032787 \"649496012397\"^0.5612310241546865 \"024543781875\"^0.2160736394955972 \"885170033481\"^0.0717936471873147 \"046838044359\"^0.011306790917502953 \"024543707103\"^0.0072405901697968475 \"097361455044\"^0.007122831941861067 \"883929101597\"^0.00515432777645662 \"883929094561\"^0.0031003926796253885 \"024543056201\"^0.00028044393432544786\n",
      "\n",
      "{'query': '\"star wars\"', 'limit': 5, 'params': {'qf': ['name', 'manufacturer', 'long_description'], 'boost': 'sum(1,query($boost_query))', 'boost_query': '\"023272342630\"^1.7239745663504313 \"024543559856\"^0.6650305681032787 \"649496012397\"^0.5612310241546865 \"024543781875\"^0.2160736394955972 \"885170033481\"^0.0717936471873147 \"046838044359\"^0.011306790917502953 \"024543707103\"^0.0072405901697968475 \"097361455044\"^0.007122831941861067 \"883929101597\"^0.00515432777645662 \"883929094561\"^0.0031003926796253885 \"024543056201\"^0.00028044393432544786'}, 'fields': ['upc', 'name', 'manufacturer', 'short_description', 'score'], 'sort': 'score desc, upc asc'}\n"
     ]
    },
    {
     "data": {
      "text/html": [
       "<div id=\"demo\">\n",
       "\t<center><input style=\"width:40%\" readonly type=\"text\" name=\"q\" value=\"\"star wars\"\">\n",
       "\t<input readonly type=\"submit\" value=\"Search\">\n",
       "\t</center>\n",
       "    <div class=\"results\">\n",
       "    \t\n",
       "\n",
       "    </div>\n",
       "</div>\n",
       "    \t<div style=\"position: relative; width: 100%; height:auto; overflow: auto;\">\n",
       "\t    \t<div style=\"position: relative; float:left; width: 120px; margin-top:5px\">\n",
       "\t    \t\t<img style=\"width:250px; height: auto; max-height:150px\" src=\"../../data/retrotech/images/23272335397.jpg\">\n",
       "\t    \t</div>\n",
       "\t    \t<div style=\"position:relative; float:left; clear:none; width: 80%; height:auto\">\n",
       "\t    \t\t<p style=\"font-size:24px; padding-left: 50px;\"><strong>\t\tName:</strong> Star Wars Battlefront: Elite Squadron - PSP\n",
       "\t\t\t\t\t<br><strong>\t\tManufacturer:</strong> LucasArts</p>\n",
       "\t    \t\t</p>\n",
       "\t    \t</div>\n",
       "    \t</div>\n",
       "    \t\n",
       "\t\t<div style=\"position:relative; clear:both; content: ' '; display: block; height: 1px; margin-top: 10px; margin-bottom:20px\">\n",
       "\t\t\t<hr style=\"color: gray; width: 95%;\" />\n",
       "\t\t</div>\n",
       "\t\t\n",
       "    \t<div style=\"position: relative; width: 100%; height:auto; overflow: auto;\">\n",
       "\t    \t<div style=\"position: relative; float:left; width: 120px; margin-top:5px\">\n",
       "\t    \t\t<img style=\"width:250px; height: auto; max-height:150px\" src=\"../../data/retrotech/images/unavailable.jpg\">\n",
       "\t    \t</div>\n",
       "\t    \t<div style=\"position:relative; float:left; clear:none; width: 80%; height:auto\">\n",
       "\t    \t\t<p style=\"font-size:24px; padding-left: 50px;\"><strong>\t\tName:</strong> Star Wars Battlefront: Elite Squadron - Nintendo DS\n",
       "\t\t\t\t\t<br><strong>\t\tManufacturer:</strong> LucasArts</p>\n",
       "\t    \t\t</p>\n",
       "\t    \t</div>\n",
       "    \t</div>\n",
       "    \t\n",
       "\t\t<div style=\"position:relative; clear:both; content: ' '; display: block; height: 1px; margin-top: 10px; margin-bottom:20px\">\n",
       "\t\t\t<hr style=\"color: gray; width: 95%;\" />\n",
       "\t\t</div>\n",
       "\t\t\n",
       "    \t<div style=\"position: relative; width: 100%; height:auto; overflow: auto;\">\n",
       "\t    \t<div style=\"position: relative; float:left; width: 120px; margin-top:5px\">\n",
       "\t    \t\t<img style=\"width:250px; height: auto; max-height:150px\" src=\"../../data/retrotech/images/696055169191.jpg\">\n",
       "\t    \t</div>\n",
       "\t    \t<div style=\"position:relative; float:left; clear:none; width: 80%; height:auto\">\n",
       "\t    \t\t<p style=\"font-size:24px; padding-left: 50px;\"><strong>\t\tName:</strong> Star Wars: Battlefront II - PSP\n",
       "\t\t\t\t\t<br><strong>\t\tManufacturer:</strong> LucasArts</p>\n",
       "\t    \t\t</p>\n",
       "\t    \t</div>\n",
       "    \t</div>\n",
       "    \t\n",
       "\t\t<div style=\"position:relative; clear:both; content: ' '; display: block; height: 1px; margin-top: 10px; margin-bottom:20px\">\n",
       "\t\t\t<hr style=\"color: gray; width: 95%;\" />\n",
       "\t\t</div>\n",
       "\t\t\n",
       "    \t<div style=\"position: relative; width: 100%; height:auto; overflow: auto;\">\n",
       "\t    \t<div style=\"position: relative; float:left; width: 120px; margin-top:5px\">\n",
       "\t    \t\t<img style=\"width:250px; height: auto; max-height:150px\" src=\"../../data/retrotech/images/unavailable.jpg\">\n",
       "\t    \t</div>\n",
       "\t    \t<div style=\"position:relative; float:left; clear:none; width: 80%; height:auto\">\n",
       "\t    \t\t<p style=\"font-size:24px; padding-left: 50px;\"><strong>\t\tName:</strong> Star Wars: The Force Unleashed II Collector's Edition - PlayStation 3\n",
       "\t\t\t\t\t<br><strong>\t\tManufacturer:</strong> LucasArts</p>\n",
       "\t    \t\t</p>\n",
       "\t    \t</div>\n",
       "    \t</div>\n",
       "    \t\n",
       "\t\t<div style=\"position:relative; clear:both; content: ' '; display: block; height: 1px; margin-top: 10px; margin-bottom:20px\">\n",
       "\t\t\t<hr style=\"color: gray; width: 95%;\" />\n",
       "\t\t</div>\n",
       "\t\t\n",
       "    \t<div style=\"position: relative; width: 100%; height:auto; overflow: auto;\">\n",
       "\t    \t<div style=\"position: relative; float:left; width: 120px; margin-top:5px\">\n",
       "\t    \t\t<img style=\"width:250px; height: auto; max-height:150px\" src=\"../../data/retrotech/images/unavailable.jpg\">\n",
       "\t    \t</div>\n",
       "\t    \t<div style=\"position:relative; float:left; clear:none; width: 80%; height:auto\">\n",
       "\t    \t\t<p style=\"font-size:24px; padding-left: 50px;\"><strong>\t\tName:</strong> Star Wars: The Force Unleashed II - PlayStation 3\n",
       "\t\t\t\t\t<br><strong>\t\tManufacturer:</strong> LucasArts</p>\n",
       "\t    \t\t</p>\n",
       "\t    \t</div>\n",
       "    \t</div>\n",
       "    \t\n",
       "\t\t<div style=\"position:relative; clear:both; content: ' '; display: block; height: 1px; margin-top: 10px; margin-bottom:20px\">\n",
       "\t\t\t<hr style=\"color: gray; width: 95%;\" />\n",
       "\t\t</div>\n",
       "\t\t"
      ],
      "text/plain": [
       "<IPython.core.display.HTML object>"
      ]
     },
     "metadata": {},
     "output_type": "display_data"
    }
   ],
   "source": [
    "query = '\"star wars\"'\n",
    "\n",
    "boosted_request = boosted_product_search_request(query, time_weighted_collection)\n",
    "print(products_collection.transform_request(**boosted_request))\n",
    "\n",
    "response = products_collection.search(**boosted_request)\n",
    "display_product_search(query, response[\"docs\"])"
   ]
  },
  {
   "cell_type": "code",
   "execution_count": 23,
   "metadata": {},
   "outputs": [
    {
     "name": "stdout",
     "output_type": "stream",
     "text": [
      "Wiping \"products_with_signals_boosts\" collection\n",
      "Creating \"products_with_signals_boosts\" collection\n",
      "Adding \"boosts\" field type to collection\n",
      "Status: Success\n",
      "Loading Products\n",
      "Schema: \n",
      "root\n",
      " |-- upc: string (nullable = true)\n",
      " |-- name: string (nullable = true)\n",
      " |-- manufacturer: string (nullable = true)\n",
      " |-- short_description: string (nullable = true)\n",
      " |-- long_description: string (nullable = true)\n",
      "\n",
      "Successfully written 48194 documents\n"
     ]
    }
   ],
   "source": [
    "from aips.data_loaders.products import load_dataframe\n",
    "boosted_products_collection = engine.create_collection(\"products_with_signals_boosts\")\n",
    "boosted_products_collection.write(load_dataframe(\"data/retrotech/products.csv\"))"
   ]
  },
  {
   "cell_type": "markdown",
   "metadata": {},
   "source": [
    "### Listing 8.8"
   ]
  },
  {
   "cell_type": "code",
   "execution_count": 24,
   "metadata": {},
   "outputs": [
    {
     "name": "stdout",
     "output_type": "stream",
     "text": [
      "Successfully written 1769 documents\n"
     ]
    }
   ],
   "source": [
    "from aips.data_loaders import index_time_boosts\n",
    "\n",
    "boosts_collection = engine.get_collection(\"normalized_signals_boosts\")\n",
    "create_view_from_collection(boosts_collection,\n",
    "                            boosts_collection.name)\n",
    "\n",
    "boosted_products_collection = \\\n",
    "    engine.get_collection(\"products_with_signals_boosts\")\n",
    "create_view_from_collection(boosted_products_collection,\n",
    "                            boosted_products_collection.name)\n",
    "\n",
    "boosted_products = index_time_boosts.load_dataframe(\n",
    "    boosted_products_collection,\n",
    "    boosts_collection)\n",
    "\n",
    "boosted_products_collection.write(boosted_products)"
   ]
  },
  {
   "cell_type": "markdown",
   "metadata": {
    "tags": []
   },
   "source": [
    "## Index-time Signals Boosting Query"
   ]
  },
  {
   "cell_type": "markdown",
   "metadata": {},
   "source": [
    "### Listing 8.9"
   ]
  },
  {
   "cell_type": "code",
   "execution_count": 25,
   "metadata": {},
   "outputs": [],
   "source": [
    "def get_boosted_search_request(query, boost_field):\n",
    "    request = product_search_request(query)\n",
    "    request[\"index_time_boost\"] = (boost_field, query)\n",
    "    return request"
   ]
  },
  {
   "cell_type": "code",
   "execution_count": 26,
   "metadata": {},
   "outputs": [
    {
     "data": {
      "text/html": [
       "<div id=\"demo\">\n",
       "\t<center><input style=\"width:40%\" readonly type=\"text\" name=\"q\" value=\"ipad\">\n",
       "\t<input readonly type=\"submit\" value=\"Search\">\n",
       "\t</center>\n",
       "    <div class=\"results\">\n",
       "    \t\n",
       "\n",
       "    </div>\n",
       "</div>\n",
       "    \t<div style=\"position: relative; width: 100%; height:auto; overflow: auto;\">\n",
       "\t    \t<div style=\"position: relative; float:left; width: 120px; margin-top:5px\">\n",
       "\t    \t\t<img style=\"width:250px; height: auto; max-height:150px\" src=\"../../data/retrotech/images/885909457588.jpg\">\n",
       "\t    \t</div>\n",
       "\t    \t<div style=\"position:relative; float:left; clear:none; width: 80%; height:auto\">\n",
       "\t    \t\t<p style=\"font-size:24px; padding-left: 50px;\"><strong>\t\tName:</strong> Apple&#xAE; - iPad&#xAE; 2 with Wi-Fi - 16GB - Black\n",
       "\t\t\t\t\t<br><strong>\t\tManufacturer:</strong> Apple&#xAE;</p>\n",
       "\t    \t\t</p>\n",
       "\t    \t</div>\n",
       "    \t</div>\n",
       "    \t\n",
       "\t\t<div style=\"position:relative; clear:both; content: ' '; display: block; height: 1px; margin-top: 10px; margin-bottom:20px\">\n",
       "\t\t\t<hr style=\"color: gray; width: 95%;\" />\n",
       "\t\t</div>\n",
       "\t\t\n",
       "    \t<div style=\"position: relative; width: 100%; height:auto; overflow: auto;\">\n",
       "\t    \t<div style=\"position: relative; float:left; width: 120px; margin-top:5px\">\n",
       "\t    \t\t<img style=\"width:250px; height: auto; max-height:150px\" src=\"../../data/retrotech/images/843404073153.jpg\">\n",
       "\t    \t</div>\n",
       "\t    \t<div style=\"position:relative; float:left; clear:none; width: 80%; height:auto\">\n",
       "\t    \t\t<p style=\"font-size:24px; padding-left: 50px;\"><strong>\t\tName:</strong> ZAGG - InvisibleSHIELD for Apple&#xAE; iPad&#xAE; 2 - Clear\n",
       "\t\t\t\t\t<br><strong>\t\tManufacturer:</strong> ZAGG</p>\n",
       "\t    \t\t</p>\n",
       "\t    \t</div>\n",
       "    \t</div>\n",
       "    \t\n",
       "\t\t<div style=\"position:relative; clear:both; content: ' '; display: block; height: 1px; margin-top: 10px; margin-bottom:20px\">\n",
       "\t\t\t<hr style=\"color: gray; width: 95%;\" />\n",
       "\t\t</div>\n",
       "\t\t\n",
       "    \t<div style=\"position: relative; width: 100%; height:auto; overflow: auto;\">\n",
       "\t    \t<div style=\"position: relative; float:left; width: 120px; margin-top:5px\">\n",
       "\t    \t\t<img style=\"width:250px; height: auto; max-height:150px\" src=\"../../data/retrotech/images/885909457601.jpg\">\n",
       "\t    \t</div>\n",
       "\t    \t<div style=\"position:relative; float:left; clear:none; width: 80%; height:auto\">\n",
       "\t    \t\t<p style=\"font-size:24px; padding-left: 50px;\"><strong>\t\tName:</strong> Apple&#xAE; - iPad&#xAE; 2 with Wi-Fi - 64GB - Black\n",
       "\t\t\t\t\t<br><strong>\t\tManufacturer:</strong> Apple&#xAE;</p>\n",
       "\t    \t\t</p>\n",
       "\t    \t</div>\n",
       "    \t</div>\n",
       "    \t\n",
       "\t\t<div style=\"position:relative; clear:both; content: ' '; display: block; height: 1px; margin-top: 10px; margin-bottom:20px\">\n",
       "\t\t\t<hr style=\"color: gray; width: 95%;\" />\n",
       "\t\t</div>\n",
       "\t\t\n",
       "    \t<div style=\"position: relative; width: 100%; height:auto; overflow: auto;\">\n",
       "\t    \t<div style=\"position: relative; float:left; width: 120px; margin-top:5px\">\n",
       "\t    \t\t<img style=\"width:250px; height: auto; max-height:150px\" src=\"../../data/retrotech/images/885909457632.jpg\">\n",
       "\t    \t</div>\n",
       "\t    \t<div style=\"position:relative; float:left; clear:none; width: 80%; height:auto\">\n",
       "\t    \t\t<p style=\"font-size:24px; padding-left: 50px;\"><strong>\t\tName:</strong> Apple&#xAE; - iPad&#xAE; 2 with Wi-Fi + 3G - 64GB (AT&T) - Black\n",
       "\t\t\t\t\t<br><strong>\t\tManufacturer:</strong> Apple&#xAE;</p>\n",
       "\t    \t\t</p>\n",
       "\t    \t</div>\n",
       "    \t</div>\n",
       "    \t\n",
       "\t\t<div style=\"position:relative; clear:both; content: ' '; display: block; height: 1px; margin-top: 10px; margin-bottom:20px\">\n",
       "\t\t\t<hr style=\"color: gray; width: 95%;\" />\n",
       "\t\t</div>\n",
       "\t\t\n",
       "    \t<div style=\"position: relative; width: 100%; height:auto; overflow: auto;\">\n",
       "\t    \t<div style=\"position: relative; float:left; width: 120px; margin-top:5px\">\n",
       "\t    \t\t<img style=\"width:250px; height: auto; max-height:150px\" src=\"../../data/retrotech/images/unavailable.jpg\">\n",
       "\t    \t</div>\n",
       "\t    \t<div style=\"position:relative; float:left; clear:none; width: 80%; height:auto\">\n",
       "\t    \t\t<p style=\"font-size:24px; padding-left: 50px;\"><strong>\t\tName:</strong> Apple&#xAE; - iPad&#xAE; 2 with Wi-Fi + 3G - 64GB (Verizon Wireless) - Black\n",
       "\t\t\t\t\t<br><strong>\t\tManufacturer:</strong> Apple&#xAE;</p>\n",
       "\t    \t\t</p>\n",
       "\t    \t</div>\n",
       "    \t</div>\n",
       "    \t\n",
       "\t\t<div style=\"position:relative; clear:both; content: ' '; display: block; height: 1px; margin-top: 10px; margin-bottom:20px\">\n",
       "\t\t\t<hr style=\"color: gray; width: 95%;\" />\n",
       "\t\t</div>\n",
       "\t\t"
      ],
      "text/plain": [
       "<IPython.core.display.HTML object>"
      ]
     },
     "metadata": {},
     "output_type": "display_data"
    }
   ],
   "source": [
    "query = \"ipad\"\n",
    "boosted_query = get_boosted_search_request(query, \"signals_boosts\")\n",
    "response = boosted_products_collection.search(**boosted_query)\n",
    "display_product_search(query, response[\"docs\"])"
   ]
  },
  {
   "cell_type": "markdown",
   "metadata": {},
   "source": [
    "Up next: Chapter 9 - [Personalized Search](../ch09/1.personalization.ipynb)"
   ]
  }
 ],
 "metadata": {
  "kernelspec": {
   "display_name": "Python 3 (ipykernel)",
   "language": "python",
   "name": "python3"
  },
  "language_info": {
   "codemirror_mode": {
    "name": "ipython",
    "version": 3
   },
   "file_extension": ".py",
   "mimetype": "text/x-python",
   "name": "python",
   "nbconvert_exporter": "python",
   "pygments_lexer": "ipython3",
   "version": "3.10.9"
  }
 },
 "nbformat": 4,
 "nbformat_minor": 4
}
